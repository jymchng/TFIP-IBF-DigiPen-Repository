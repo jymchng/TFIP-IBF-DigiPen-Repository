{
 "cells": [
  {
   "cell_type": "markdown",
   "metadata": {},
   "source": [
    "## Problem Statement: To analyze customer reviews and predict customer satisfaction with the reviews.\n",
    "\n",
    "Central banks collecting information about customer satisfaction with the services provided by different banks. Also collects the information about the complaints.  \n",
    "\n",
    "- Bank users give ratings and write reviews about the services on central bank websites. These reviews and ratings help banks evaluate services provided and take necessary action to improve customer service. While ratings are useful to convey the overall experience, they do not convey the context which led a reviewer to that experience.\n",
    "- If we look at only the rating, it is difficult to guess why the user rated the service as 4 stars. However, after reading the review, it is not difficult to identify that the review talks about good 'service' and 'experience'.\n"
   ]
  },
  {
   "cell_type": "code",
   "execution_count": null,
   "metadata": {
    "ExecuteTime": {
     "end_time": "2021-04-14T06:04:34.167274Z",
     "start_time": "2021-04-14T06:04:34.163311Z"
    }
   },
   "outputs": [],
   "source": [
    "#Import necesssary libraries"
   ]
  },
  {
   "cell_type": "code",
   "execution_count": 1,
   "metadata": {
    "ExecuteTime": {
     "end_time": "2021-04-14T06:05:07.877005Z",
     "start_time": "2021-04-14T06:05:05.980666Z"
    }
   },
   "outputs": [],
   "source": [
    "import pandas as pd\n",
    "import seaborn as sns\n",
    "import numpy as np\n",
    "import matplotlib.pyplot as plt\n",
    "%matplotlib inline\n",
    "import string\n",
    "import nltk\n",
    "from nltk.stem import WordNetLemmatizer\n",
    "from sklearn.model_selection import train_test_split\n",
    "from sklearn.feature_extraction.text import CountVectorizer,TfidfTransformer,TfidfVectorizer\n",
    "from textblob import TextBlob\n",
    "from wordcloud import WordCloud, STOPWORDS\n",
    "from sklearn.decomposition import LatentDirichletAllocation\n",
    "from sklearn.naive_bayes import MultinomialNB\n",
    "from sklearn import metrics\n",
    "import nltk\n",
    "from nltk.corpus import wordnet"
   ]
  },
  {
   "cell_type": "code",
   "execution_count": null,
   "metadata": {},
   "outputs": [],
   "source": [
    "#Import the data set"
   ]
  },
  {
   "cell_type": "code",
   "execution_count": 2,
   "metadata": {
    "ExecuteTime": {
     "end_time": "2021-04-14T06:05:10.280426Z",
     "start_time": "2021-04-14T06:05:09.853288Z"
    }
   },
   "outputs": [],
   "source": [
    "customer = pd.read_csv('BankReviews.csv', encoding='windows-1252' )"
   ]
  },
  {
   "cell_type": "code",
   "execution_count": 3,
   "metadata": {
    "ExecuteTime": {
     "end_time": "2021-04-14T06:05:10.856538Z",
     "start_time": "2021-04-14T06:05:10.843577Z"
    }
   },
   "outputs": [
    {
     "data": {
      "text/html": [
       "<div>\n",
       "<style scoped>\n",
       "    .dataframe tbody tr th:only-of-type {\n",
       "        vertical-align: middle;\n",
       "    }\n",
       "\n",
       "    .dataframe tbody tr th {\n",
       "        vertical-align: top;\n",
       "    }\n",
       "\n",
       "    .dataframe thead th {\n",
       "        text-align: right;\n",
       "    }\n",
       "</style>\n",
       "<table border=\"1\" class=\"dataframe\">\n",
       "  <thead>\n",
       "    <tr style=\"text-align: right;\">\n",
       "      <th></th>\n",
       "      <th>Date</th>\n",
       "      <th>Stars</th>\n",
       "      <th>Reviews</th>\n",
       "      <th>BankName</th>\n",
       "    </tr>\n",
       "  </thead>\n",
       "  <tbody>\n",
       "    <tr>\n",
       "      <th>0</th>\n",
       "      <td>10-04-2017</td>\n",
       "      <td>5</td>\n",
       "      <td>Great job, Wyndham Capital! Each person was pr...</td>\n",
       "      <td>Wyndham Capital Mortgage</td>\n",
       "    </tr>\n",
       "    <tr>\n",
       "      <th>1</th>\n",
       "      <td>10-02-2017</td>\n",
       "      <td>5</td>\n",
       "      <td>Matthew Richardson is professional and helpful...</td>\n",
       "      <td>Wyndham Capital Mortgage</td>\n",
       "    </tr>\n",
       "    <tr>\n",
       "      <th>2</th>\n",
       "      <td>21-08-2017</td>\n",
       "      <td>5</td>\n",
       "      <td>We had a past experience with Wyndham Mortgage...</td>\n",
       "      <td>Wyndham Capital Mortgage</td>\n",
       "    </tr>\n",
       "    <tr>\n",
       "      <th>3</th>\n",
       "      <td>17-12-2017</td>\n",
       "      <td>5</td>\n",
       "      <td>We have been dealing with Brad Thomka from the...</td>\n",
       "      <td>Wyndham Capital Mortgage</td>\n",
       "    </tr>\n",
       "    <tr>\n",
       "      <th>4</th>\n",
       "      <td>27-05-2016</td>\n",
       "      <td>5</td>\n",
       "      <td>I can't express how grateful I am for the supp...</td>\n",
       "      <td>Wyndham Capital Mortgage</td>\n",
       "    </tr>\n",
       "  </tbody>\n",
       "</table>\n",
       "</div>"
      ],
      "text/plain": [
       "         Date  Stars                                            Reviews  \\\n",
       "0  10-04-2017      5  Great job, Wyndham Capital! Each person was pr...   \n",
       "1  10-02-2017      5  Matthew Richardson is professional and helpful...   \n",
       "2  21-08-2017      5  We had a past experience with Wyndham Mortgage...   \n",
       "3  17-12-2017      5  We have been dealing with Brad Thomka from the...   \n",
       "4  27-05-2016      5  I can't express how grateful I am for the supp...   \n",
       "\n",
       "                   BankName  \n",
       "0  Wyndham Capital Mortgage  \n",
       "1  Wyndham Capital Mortgage  \n",
       "2  Wyndham Capital Mortgage  \n",
       "3  Wyndham Capital Mortgage  \n",
       "4  Wyndham Capital Mortgage  "
      ]
     },
     "execution_count": 3,
     "metadata": {},
     "output_type": "execute_result"
    }
   ],
   "source": [
    "customer.head()"
   ]
  },
  {
   "cell_type": "code",
   "execution_count": 4,
   "metadata": {
    "ExecuteTime": {
     "end_time": "2021-04-14T06:05:12.243776Z",
     "start_time": "2021-04-14T06:05:12.233803Z"
    }
   },
   "outputs": [
    {
     "name": "stdout",
     "output_type": "stream",
     "text": [
      "<class 'pandas.core.frame.DataFrame'>\n",
      "RangeIndex: 505 entries, 0 to 504\n",
      "Data columns (total 4 columns):\n",
      " #   Column    Non-Null Count  Dtype \n",
      "---  ------    --------------  ----- \n",
      " 0   Date      505 non-null    object\n",
      " 1   Stars     505 non-null    int64 \n",
      " 2   Reviews   505 non-null    object\n",
      " 3   BankName  505 non-null    object\n",
      "dtypes: int64(1), object(3)\n",
      "memory usage: 15.9+ KB\n"
     ]
    }
   ],
   "source": [
    "customer.info()"
   ]
  },
  {
   "cell_type": "code",
   "execution_count": 5,
   "metadata": {
    "ExecuteTime": {
     "end_time": "2021-04-14T06:05:13.442542Z",
     "start_time": "2021-04-14T06:05:13.437555Z"
    }
   },
   "outputs": [
    {
     "data": {
      "text/plain": [
       "(505, 4)"
      ]
     },
     "execution_count": 5,
     "metadata": {},
     "output_type": "execute_result"
    }
   ],
   "source": [
    "customer.shape"
   ]
  },
  {
   "cell_type": "code",
   "execution_count": 6,
   "metadata": {
    "ExecuteTime": {
     "end_time": "2021-04-14T06:05:14.182191Z",
     "start_time": "2021-04-14T06:05:14.175204Z"
    }
   },
   "outputs": [
    {
     "data": {
      "text/plain": [
       "Date        0\n",
       "Stars       0\n",
       "Reviews     0\n",
       "BankName    0\n",
       "dtype: int64"
      ]
     },
     "execution_count": 6,
     "metadata": {},
     "output_type": "execute_result"
    }
   ],
   "source": [
    "customer.isnull().sum()"
   ]
  },
  {
   "cell_type": "code",
   "execution_count": 7,
   "metadata": {
    "ExecuteTime": {
     "end_time": "2021-04-14T06:05:15.270160Z",
     "start_time": "2021-04-14T06:05:15.261224Z"
    }
   },
   "outputs": [
    {
     "data": {
      "text/plain": [
       "5    410\n",
       "1     95\n",
       "Name: Stars, dtype: int64"
      ]
     },
     "execution_count": 7,
     "metadata": {},
     "output_type": "execute_result"
    }
   ],
   "source": [
    "customer['Stars'].value_counts()"
   ]
  },
  {
   "cell_type": "code",
   "execution_count": 8,
   "metadata": {
    "ExecuteTime": {
     "end_time": "2021-04-14T06:05:16.252973Z",
     "start_time": "2021-04-14T06:05:16.093355Z"
    }
   },
   "outputs": [
    {
     "data": {
      "image/png": "[encoded data removed]",
      "text/plain": [
       "<Figure size 576x432 with 1 Axes>"
      ]
     },
     "metadata": {
      "needs_background": "light"
     },
     "output_type": "display_data"
    }
   ],
   "source": [
    "plt.figure(figsize=(8,6))\n",
    "sns.countplot(x=customer[\"Stars\"], data=customer)\n",
    "plt.show()"
   ]
  },
  {
   "cell_type": "markdown",
   "metadata": {},
   "source": [
    "### Sentiment Analysis to find positive and negative reviews"
   ]
  },
  {
   "cell_type": "code",
   "execution_count": 9,
   "metadata": {
    "ExecuteTime": {
     "end_time": "2021-04-14T06:09:59.971162Z",
     "start_time": "2021-04-14T06:09:59.967173Z"
    }
   },
   "outputs": [],
   "source": [
    "X = customer['Reviews']\n",
    "Y = customer['Stars']"
   ]
  },
  {
   "cell_type": "code",
   "execution_count": 10,
   "metadata": {
    "ExecuteTime": {
     "end_time": "2021-04-14T06:10:00.907525Z",
     "start_time": "2021-04-14T06:10:00.902538Z"
    }
   },
   "outputs": [],
   "source": [
    "# UDF(User Defined Function) to find sentiment polarity of the reviews\n",
    "def sentiment_review(text):\n",
    "    analysis = TextBlob(text)\n",
    "    polarity_text = analysis.sentiment.polarity\n",
    "    if polarity_text > 0:\n",
    "        return 'Positive'\n",
    "    elif polarity_text == 0:\n",
    "        return 'Neutral'\n",
    "    else:\n",
    "        return 'Negative'  "
   ]
  },
  {
   "cell_type": "code",
   "execution_count": 11,
   "metadata": {
    "ExecuteTime": {
     "end_time": "2021-04-14T06:10:02.182255Z",
     "start_time": "2021-04-14T06:10:01.838205Z"
    }
   },
   "outputs": [
    {
     "name": "stdout",
     "output_type": "stream",
     "text": [
      "[{'Review': 'Great job, Wyndham Capital! Each person was professional and helped us move through our refinance process smoothly. Thank you!', 'Sentiment': 'Positive'}, {'Review': 'Matthew Richardson is professional and helpful. He helped us find the correct product for our mortgage. Thank you very much for the excellent service, Matthew!', 'Sentiment': 'Positive'}, {'Review': 'We had a past experience with Wyndham Mortgage and would without question use again and again if needed!! Wyndham went beyond the extra mile to not only right a wrong encountered from the servicer we were dealing on our previous loan, but they pulled together and found a viable option for us that ultimately saved us money. We would highly recommend Brad Thomka and the Wyndham Capital Mortgage team for your mortgage needs. Sincerest thanks Wyndham!! Ed & Lind', 'Sentiment': 'Negative'}, {'Review': 'We have been dealing with Brad Thomka from the beginning of what started out to be a very stressful time for us, but with the help from Brad and the entire Wyndham Mortgage team it was turned into a happy ending!! Brad and Wyndham went beyond the extra mile to not only right a wrong encountered from the servicer we were dealing on our previous loan, but they pulled\\xa0together and found a viable option for us that ultimately saved us money. We are indebted and would highly recommend Brad Thomka and the Wyndham Capital Mortgage team for your mortgage needs. Sincerest thanks Wyndham!! Ed & LindRead Less', 'Sentiment': 'Positive'}, {'Review': \"I can't express how grateful I am for the support that Zach provided to me and my family during this home purchase! His customer service, responsiveness and professional demeanor is second to none. He was very thorough and took the time to educate me about the process along the way. I highly recommend working with Zach and Wyndham Capital!\", 'Sentiment': 'Positive'}]\n"
     ]
    }
   ],
   "source": [
    "# creating dictionary which will contain both the review and the sentiment of the review\n",
    "final_dictionary = []\n",
    "for text in X:\n",
    "    dictionary_sentiment = {}\n",
    "    dictionary_sentiment['Review'] = text\n",
    "    dictionary_sentiment['Sentiment'] = sentiment_review(text)\n",
    "    final_dictionary.append(dictionary_sentiment)\n",
    "print(final_dictionary[:5])"
   ]
  },
  {
   "cell_type": "code",
   "execution_count": 12,
   "metadata": {
    "ExecuteTime": {
     "end_time": "2021-04-14T06:10:04.883069Z",
     "start_time": "2021-04-14T06:10:04.878082Z"
    }
   },
   "outputs": [
    {
     "name": "stdout",
     "output_type": "stream",
     "text": [
      "[{'Review': 'Great job, Wyndham Capital! Each person was professional and helped us move through our refinance process smoothly. Thank you!', 'Sentiment': 'Positive'}, {'Review': 'Matthew Richardson is professional and helpful. He helped us find the correct product for our mortgage. Thank you very much for the excellent service, Matthew!', 'Sentiment': 'Positive'}, {'Review': 'We have been dealing with Brad Thomka from the beginning of what started out to be a very stressful time for us, but with the help from Brad and the entire Wyndham Mortgage team it was turned into a happy ending!! Brad and Wyndham went beyond the extra mile to not only right a wrong encountered from the servicer we were dealing on our previous loan, but they pulled\\xa0together and found a viable option for us that ultimately saved us money. We are indebted and would highly recommend Brad Thomka and the Wyndham Capital Mortgage team for your mortgage needs. Sincerest thanks Wyndham!! Ed & LindRead Less', 'Sentiment': 'Positive'}, {'Review': \"I can't express how grateful I am for the support that Zach provided to me and my family during this home purchase! His customer service, responsiveness and professional demeanor is second to none. He was very thorough and took the time to educate me about the process along the way. I highly recommend working with Zach and Wyndham Capital!\", 'Sentiment': 'Positive'}, {'Review': 'I had the pleasure of working with Wyndham Capital in September 2018 as my family and I were making a home purchase in Columbus, OH. From the original conversation with the loan officer to underwriting and all the way through closing, the entire team from Wyndham was very responsive and professional. I was VERY impressed with how smooth their process was and how timely the communication was given how stressful of a process home buying (and selling) can be', 'Sentiment': 'Positive'}]\n"
     ]
    }
   ],
   "source": [
    "# Finding positive reviews\n",
    "positive_reviews = []\n",
    "for review in final_dictionary:\n",
    "    if review['Sentiment'] =='Positive':\n",
    "        positive_reviews.append(review)\n",
    "print(positive_reviews[:5])"
   ]
  },
  {
   "cell_type": "code",
   "execution_count": 13,
   "metadata": {
    "ExecuteTime": {
     "end_time": "2021-04-14T06:10:05.931679Z",
     "start_time": "2021-04-14T06:10:05.926693Z"
    }
   },
   "outputs": [
    {
     "name": "stdout",
     "output_type": "stream",
     "text": [
      "[{'Review': '\\r\\nPerson with whom I spoke kept interrupting me and telling me his \"line\" rather than listening to what info I wanted. Quite pushy, altho\\' he said he wasn\\'t a salesman. Closing costs were astronomical.\\r\\n        ', 'Sentiment': 'Neutral'}, {'Review': '\\r\\nThe rate re-lock-in rule was not followed.\\r\\n        ', 'Sentiment': 'Neutral'}, {'Review': \"\\r\\nLending tree matching me up with companies that don't offer the product I requested.\\r\\n        \", 'Sentiment': 'Neutral'}, {'Review': '\\r\\nThey called me and asked about the city in NH that we where looking at and when I told him we might consider MA as well he hung up on me.\\r\\n        ', 'Sentiment': 'Neutral'}]\n"
     ]
    }
   ],
   "source": [
    "# Finding neutral reviews\n",
    "neutral_reviews = []\n",
    "for review in final_dictionary:\n",
    "    if review['Sentiment'] =='Neutral':\n",
    "        neutral_reviews.append(review)\n",
    "print(neutral_reviews[:5])"
   ]
  },
  {
   "cell_type": "code",
   "execution_count": 14,
   "metadata": {
    "ExecuteTime": {
     "end_time": "2021-04-14T06:10:07.930833Z",
     "start_time": "2021-04-14T06:10:07.926810Z"
    }
   },
   "outputs": [
    {
     "name": "stdout",
     "output_type": "stream",
     "text": [
      "[{'Review': 'We had a past experience with Wyndham Mortgage and would without question use again and again if needed!! Wyndham went beyond the extra mile to not only right a wrong encountered from the servicer we were dealing on our previous loan, but they pulled together and found a viable option for us that ultimately saved us money. We would highly recommend Brad Thomka and the Wyndham Capital Mortgage team for your mortgage needs. Sincerest thanks Wyndham!! Ed & Lind', 'Sentiment': 'Negative'}, {'Review': 'This was the worst experience ever. It was like they had never gone through the process before. I could not get a complete list of the documents required. Every other day it was a new request. The appraiser that they hired made so many mistakes I had to send in corrections and then during the underwriting process they had to go back and make more corrections. Wyndum would continue to ask for copies of documents over and over again. There were many documents that I had to send 3 and 4 times because they \"lost\" them or was not filed correctly, we went through 4 different people through the process. I would NEVER use them. Awful experience!', 'Sentiment': 'Negative'}, {'Review': 'The closing process for a VA loan went smoothly. But the loan servicing by this so-called bank is a complete disaster. I set up our loan for automatic payments using their clunky website. Unlike other banks with which I do business, the NASB website is not intuitive and does not provide confirmation for your entries. For the first 10 months, payments were automatically debited from my external account as scheduled. However, when the escrow amount changed, NASB debited the old amount from my account and sent a deficiency letter for the balance -- unlike every other bank I have used in which the amount of the debit was automatically debited. NASB sent me a \"credit counseling letter\" telling me that they did not apply any of the loan payment and would charge me a late payment over double the deficiency of $40 and change .... and suggested credit counseling services. When I called their servicing department, the representative told me the letter was sent in error and that everything had been adjusted so my account was showing that it was current. Two weeks later, I received a total of two voice mail messages and an e-mail in a span of 20 minutes from NASB\\'s default department. The woman with whom I first spoke was rude, said she showed no record of my earlier call, it was my problem, and then hung up on me. The second agent, a man in their default department, said that he did not show that I had made any automatic payments and that NASB\\'s system was not set up to adjust anything. After having over 25 years of mortgage payments with various banks, I have never experienced such incompetence and rude service. I specifically instructed the last agent to request that they sell servicing of our loan to another bank that is capable of actually performing customer service for a veteran\\xa0', 'Sentiment': 'Negative'}, {'Review': 'Miserable experience. They screwed up everything imaginable and never accepted responsibility for any of their errors. I wouldnt recommend them for the purchase of a doghouse much less purchasing a new home.', 'Sentiment': 'Negative'}, {'Review': 'This Lender contacted my previous phone number which I did not list when registering with this site. Very unprofessional, and very disturbing.', 'Sentiment': 'Negative'}]\n"
     ]
    }
   ],
   "source": [
    "# Finding negative reviews\n",
    "negative_reviews = []\n",
    "for review in final_dictionary:\n",
    "    if review['Sentiment'] =='Negative':\n",
    "        negative_reviews.append(review)\n",
    "print(negative_reviews[:5])"
   ]
  },
  {
   "cell_type": "code",
   "execution_count": 15,
   "metadata": {
    "ExecuteTime": {
     "end_time": "2021-04-14T06:10:10.529553Z",
     "start_time": "2021-04-14T06:10:10.525564Z"
    }
   },
   "outputs": [],
   "source": [
    "# counting number of positive,neutral and negative reviews\n",
    "reviews_count = pd.DataFrame([len(positive_reviews),len(neutral_reviews),len(negative_reviews)],index=['Positive','Neutral','Negative'])"
   ]
  },
  {
   "cell_type": "code",
   "execution_count": 16,
   "metadata": {
    "ExecuteTime": {
     "end_time": "2021-04-14T06:10:11.525786Z",
     "start_time": "2021-04-14T06:10:11.518803Z"
    }
   },
   "outputs": [
    {
     "data": {
      "text/html": [
       "<div>\n",
       "<style scoped>\n",
       "    .dataframe tbody tr th:only-of-type {\n",
       "        vertical-align: middle;\n",
       "    }\n",
       "\n",
       "    .dataframe tbody tr th {\n",
       "        vertical-align: top;\n",
       "    }\n",
       "\n",
       "    .dataframe thead th {\n",
       "        text-align: right;\n",
       "    }\n",
       "</style>\n",
       "<table border=\"1\" class=\"dataframe\">\n",
       "  <thead>\n",
       "    <tr style=\"text-align: right;\">\n",
       "      <th></th>\n",
       "      <th>0</th>\n",
       "    </tr>\n",
       "  </thead>\n",
       "  <tbody>\n",
       "    <tr>\n",
       "      <th>Positive</th>\n",
       "      <td>466</td>\n",
       "    </tr>\n",
       "    <tr>\n",
       "      <th>Neutral</th>\n",
       "      <td>4</td>\n",
       "    </tr>\n",
       "    <tr>\n",
       "      <th>Negative</th>\n",
       "      <td>35</td>\n",
       "    </tr>\n",
       "  </tbody>\n",
       "</table>\n",
       "</div>"
      ],
      "text/plain": [
       "            0\n",
       "Positive  466\n",
       "Neutral     4\n",
       "Negative   35"
      ]
     },
     "execution_count": 16,
     "metadata": {},
     "output_type": "execute_result"
    }
   ],
   "source": [
    "reviews_count"
   ]
  },
  {
   "cell_type": "code",
   "execution_count": 17,
   "metadata": {
    "ExecuteTime": {
     "end_time": "2021-04-14T06:10:12.843903Z",
     "start_time": "2021-04-14T06:10:12.678373Z"
    }
   },
   "outputs": [
    {
     "data": {
      "image/png": "[encoded data removed]",
      "text/plain": [
       "<Figure size 432x288 with 1 Axes>"
      ]
     },
     "metadata": {
      "needs_background": "light"
     },
     "output_type": "display_data"
    }
   ],
   "source": [
    "reviews_count.plot(kind='bar')\n",
    "plt.ylabel('Reviews Count')   \n",
    "plt.show()"
   ]
  },
  {
   "cell_type": "code",
   "execution_count": 18,
   "metadata": {
    "ExecuteTime": {
     "end_time": "2021-04-14T06:10:13.827220Z",
     "start_time": "2021-04-14T06:10:13.822234Z"
    }
   },
   "outputs": [
    {
     "name": "stdout",
     "output_type": "stream",
     "text": [
      "1\n",
      "Great job, Wyndham Capital! Each person was professional and helped us move through our refinance process smoothly. Thank you!\n",
      "******************************************************\n",
      "2\n",
      "Matthew Richardson is professional and helpful. He helped us find the correct product for our mortgage. Thank you very much for the excellent service, Matthew!\n",
      "******************************************************\n",
      "3\n",
      "We have been dealing with Brad Thomka from the beginning of what started out to be a very stressful time for us, but with the help from Brad and the entire Wyndham Mortgage team it was turned into a happy ending!! Brad and Wyndham went beyond the extra mile to not only right a wrong encountered from the servicer we were dealing on our previous loan, but they pulled together and found a viable option for us that ultimately saved us money. We are indebted and would highly recommend Brad Thomka and the Wyndham Capital Mortgage team for your mortgage needs. Sincerest thanks Wyndham!! Ed & LindRead Less\n",
      "******************************************************\n",
      "4\n",
      "I can't express how grateful I am for the support that Zach provided to me and my family during this home purchase! His customer service, responsiveness and professional demeanor is second to none. He was very thorough and took the time to educate me about the process along the way. I highly recommend working with Zach and Wyndham Capital!\n",
      "******************************************************\n",
      "5\n",
      "I had the pleasure of working with Wyndham Capital in September 2018 as my family and I were making a home purchase in Columbus, OH. From the original conversation with the loan officer to underwriting and all the way through closing, the entire team from Wyndham was very responsive and professional. I was VERY impressed with how smooth their process was and how timely the communication was given how stressful of a process home buying (and selling) can be\n",
      "******************************************************\n"
     ]
    }
   ],
   "source": [
    "# printing first five positive reviews\n",
    "i=1\n",
    "for review in positive_reviews[:5]:\n",
    "        print(i)\n",
    "        print(review['Review'])\n",
    "        print('******************************************************')\n",
    "        i+=1"
   ]
  },
  {
   "cell_type": "code",
   "execution_count": 19,
   "metadata": {
    "ExecuteTime": {
     "end_time": "2021-04-14T06:10:14.916625Z",
     "start_time": "2021-04-14T06:10:14.911638Z"
    }
   },
   "outputs": [
    {
     "name": "stdout",
     "output_type": "stream",
     "text": [
      "1\n",
      "We had a past experience with Wyndham Mortgage and would without question use again and again if needed!! Wyndham went beyond the extra mile to not only right a wrong encountered from the servicer we were dealing on our previous loan, but they pulled together and found a viable option for us that ultimately saved us money. We would highly recommend Brad Thomka and the Wyndham Capital Mortgage team for your mortgage needs. Sincerest thanks Wyndham!! Ed & Lind\n",
      "******************************************************\n",
      "2\n",
      "This was the worst experience ever. It was like they had never gone through the process before. I could not get a complete list of the documents required. Every other day it was a new request. The appraiser that they hired made so many mistakes I had to send in corrections and then during the underwriting process they had to go back and make more corrections. Wyndum would continue to ask for copies of documents over and over again. There were many documents that I had to send 3 and 4 times because they \"lost\" them or was not filed correctly, we went through 4 different people through the process. I would NEVER use them. Awful experience!\n",
      "******************************************************\n",
      "3\n",
      "The closing process for a VA loan went smoothly. But the loan servicing by this so-called bank is a complete disaster. I set up our loan for automatic payments using their clunky website. Unlike other banks with which I do business, the NASB website is not intuitive and does not provide confirmation for your entries. For the first 10 months, payments were automatically debited from my external account as scheduled. However, when the escrow amount changed, NASB debited the old amount from my account and sent a deficiency letter for the balance -- unlike every other bank I have used in which the amount of the debit was automatically debited. NASB sent me a \"credit counseling letter\" telling me that they did not apply any of the loan payment and would charge me a late payment over double the deficiency of $40 and change .... and suggested credit counseling services. When I called their servicing department, the representative told me the letter was sent in error and that everything had been adjusted so my account was showing that it was current. Two weeks later, I received a total of two voice mail messages and an e-mail in a span of 20 minutes from NASB's default department. The woman with whom I first spoke was rude, said she showed no record of my earlier call, it was my problem, and then hung up on me. The second agent, a man in their default department, said that he did not show that I had made any automatic payments and that NASB's system was not set up to adjust anything. After having over 25 years of mortgage payments with various banks, I have never experienced such incompetence and rude service. I specifically instructed the last agent to request that they sell servicing of our loan to another bank that is capable of actually performing customer service for a veteran \n",
      "******************************************************\n",
      "4\n",
      "Miserable experience. They screwed up everything imaginable and never accepted responsibility for any of their errors. I wouldnt recommend them for the purchase of a doghouse much less purchasing a new home.\n",
      "******************************************************\n",
      "5\n",
      "This Lender contacted my previous phone number which I did not list when registering with this site. Very unprofessional, and very disturbing.\n",
      "******************************************************\n"
     ]
    }
   ],
   "source": [
    "# printing first five negative reviews\n",
    "i=1\n",
    "for review in negative_reviews[:5]:\n",
    "        print(i)\n",
    "        print(review['Review'])\n",
    "        print('******************************************************')\n",
    "        i+=1"
   ]
  },
  {
   "cell_type": "markdown",
   "metadata": {},
   "source": [
    "### Finding most frequently used Positive/ Negative words"
   ]
  },
  {
   "cell_type": "markdown",
   "metadata": {},
   "source": [
    "#### Data Preprocessing"
   ]
  },
  {
   "cell_type": "code",
   "execution_count": 20,
   "metadata": {
    "ExecuteTime": {
     "end_time": "2021-04-14T06:10:18.485636Z",
     "start_time": "2021-04-14T06:10:18.480652Z"
    }
   },
   "outputs": [],
   "source": [
    "# UDF to clean the reviews\n",
    "def clean_text(text):\n",
    "    text = text.lower()    \n",
    "    text = text.strip()    \n",
    "    text = \"\".join([char for char in text if char not in string.punctuation])\n",
    "    return text"
   ]
  },
  {
   "cell_type": "code",
   "execution_count": 21,
   "metadata": {
    "ExecuteTime": {
     "end_time": "2021-04-14T06:10:19.099626Z",
     "start_time": "2021-04-14T06:10:19.094640Z"
    }
   },
   "outputs": [
    {
     "data": {
      "text/plain": [
       "'!\"#$%&\\'()*+,-./:;<=>?@[\\\\]^_`{|}~'"
      ]
     },
     "execution_count": 21,
     "metadata": {},
     "output_type": "execute_result"
    }
   ],
   "source": [
    "string.punctuation"
   ]
  },
  {
   "cell_type": "code",
   "execution_count": 22,
   "metadata": {
    "ExecuteTime": {
     "end_time": "2021-04-14T06:10:19.740497Z",
     "start_time": "2021-04-14T06:10:19.735509Z"
    },
    "scrolled": true
   },
   "outputs": [
    {
     "data": {
      "text/plain": [
       "0    Great job, Wyndham Capital! Each person was pr...\n",
       "1    Matthew Richardson is professional and helpful...\n",
       "2    We had a past experience with Wyndham Mortgage...\n",
       "3    We have been dealing with Brad Thomka from the...\n",
       "4    I can't express how grateful I am for the supp...\n",
       "Name: Reviews, dtype: object"
      ]
     },
     "execution_count": 22,
     "metadata": {},
     "output_type": "execute_result"
    }
   ],
   "source": [
    "# X = customer['Reviews']\n",
    "X.head()"
   ]
  },
  {
   "cell_type": "code",
   "execution_count": 23,
   "metadata": {
    "ExecuteTime": {
     "end_time": "2021-04-14T06:10:20.817357Z",
     "start_time": "2021-04-14T06:10:20.789389Z"
    }
   },
   "outputs": [],
   "source": [
    "# applying clean_text function defined above to remove punctuation, strip extra spaces and convert each word to lowercase\n",
    "X = X.apply(lambda y: clean_text(y))"
   ]
  },
  {
   "cell_type": "code",
   "execution_count": 24,
   "metadata": {
    "ExecuteTime": {
     "end_time": "2021-04-14T06:10:21.588806Z",
     "start_time": "2021-04-14T06:10:21.582822Z"
    }
   },
   "outputs": [
    {
     "data": {
      "text/plain": [
       "0    great job wyndham capital each person was prof...\n",
       "1    matthew richardson is professional and helpful...\n",
       "2    we had a past experience with wyndham mortgage...\n",
       "3    we have been dealing with brad thomka from the...\n",
       "4    i cant express how grateful i am for the suppo...\n",
       "Name: Reviews, dtype: object"
      ]
     },
     "execution_count": 24,
     "metadata": {},
     "output_type": "execute_result"
    }
   ],
   "source": [
    "X.head()"
   ]
  },
  {
   "cell_type": "markdown",
   "metadata": {},
   "source": [
    "#### Coverting reviews to tokens"
   ]
  },
  {
   "cell_type": "code",
   "execution_count": 25,
   "metadata": {
    "ExecuteTime": {
     "end_time": "2021-04-14T06:10:25.858092Z",
     "start_time": "2021-04-14T06:10:25.854099Z"
    }
   },
   "outputs": [],
   "source": [
    "tokens_vect = CountVectorizer(stop_words='english')"
   ]
  },
  {
   "cell_type": "code",
   "execution_count": 26,
   "metadata": {
    "ExecuteTime": {
     "end_time": "2021-04-14T06:10:26.878366Z",
     "start_time": "2021-04-14T06:10:26.839445Z"
    }
   },
   "outputs": [],
   "source": [
    "token_dtm = tokens_vect.fit_transform(X)"
   ]
  },
  {
   "cell_type": "code",
   "execution_count": 27,
   "metadata": {
    "ExecuteTime": {
     "end_time": "2021-04-14T06:10:29.037811Z",
     "start_time": "2021-04-14T06:10:29.007892Z"
    }
   },
   "outputs": [
    {
     "data": {
      "text/plain": [
       "['10',\n",
       " '100',\n",
       " '101',\n",
       " '1014',\n",
       " '1031',\n",
       " '1040s',\n",
       " '11',\n",
       " '12',\n",
       " '13',\n",
       " '15',\n",
       " '18',\n",
       " '19th',\n",
       " '1st',\n",
       " '20',\n",
       " '200',\n",
       " '2000',\n",
       " '2005',\n",
       " '2011',\n",
       " '2017',\n",
       " '2018',\n",
       " '20k',\n",
       " '212',\n",
       " '22',\n",
       " '23',\n",
       " '2300',\n",
       " '23rd',\n",
       " '25',\n",
       " '2500',\n",
       " '27',\n",
       " '29',\n",
       " '2929',\n",
       " '2d',\n",
       " '2nd',\n",
       " '30',\n",
       " '30days',\n",
       " '30k',\n",
       " '32',\n",
       " '34',\n",
       " '35',\n",
       " '375',\n",
       " '3days',\n",
       " '3rd',\n",
       " '40',\n",
       " '401k',\n",
       " '45',\n",
       " '450',\n",
       " '4506t',\n",
       " '46',\n",
       " '4875',\n",
       " '525',\n",
       " '54510',\n",
       " '58',\n",
       " '59',\n",
       " '5th',\n",
       " '60',\n",
       " '600',\n",
       " '625',\n",
       " '770',\n",
       " '89',\n",
       " '8th',\n",
       " '995',\n",
       " 'aaron',\n",
       " 'aarons',\n",
       " 'ability',\n",
       " 'able',\n",
       " 'absoltely',\n",
       " 'absolute',\n",
       " 'absolutely',\n",
       " 'accept',\n",
       " 'acceptable',\n",
       " 'accepted',\n",
       " 'access',\n",
       " 'accessible',\n",
       " 'accommodate',\n",
       " 'accommodating',\n",
       " 'accomplished',\n",
       " 'account',\n",
       " 'accountant',\n",
       " 'accross',\n",
       " 'accurate',\n",
       " 'accurately',\n",
       " 'accusing',\n",
       " 'achieve',\n",
       " 'acquire',\n",
       " 'acquired',\n",
       " 'act',\n",
       " 'action',\n",
       " 'actual',\n",
       " 'actually',\n",
       " 'adam',\n",
       " 'adaml',\n",
       " 'adampac',\n",
       " 'adan',\n",
       " 'added',\n",
       " 'addedconsolidationit',\n",
       " 'addition',\n",
       " 'additional',\n",
       " 'address',\n",
       " 'addressed',\n",
       " 'addressresolve',\n",
       " 'adjust',\n",
       " 'adjusted',\n",
       " 'admin',\n",
       " 'admiration',\n",
       " 'advertise',\n",
       " 'advice',\n",
       " 'advised',\n",
       " 'advocated',\n",
       " 'afford',\n",
       " 'agai',\n",
       " 'age',\n",
       " 'agent',\n",
       " 'agents',\n",
       " 'aggravating',\n",
       " 'aggravation',\n",
       " 'ago',\n",
       " 'agree',\n",
       " 'agreed',\n",
       " 'agreement',\n",
       " 'ahead',\n",
       " 'airfare',\n",
       " 'airline',\n",
       " 'alerted',\n",
       " 'alex',\n",
       " 'alievatied',\n",
       " 'alina',\n",
       " 'allow',\n",
       " 'allowed',\n",
       " 'alpine',\n",
       " 'altho',\n",
       " 'alves',\n",
       " 'amazing',\n",
       " 'amd',\n",
       " 'american',\n",
       " 'amerisave',\n",
       " 'amortgage',\n",
       " 'amounts',\n",
       " 'andd',\n",
       " 'anderson',\n",
       " 'andor',\n",
       " 'andrea',\n",
       " 'andrew',\n",
       " 'andy',\n",
       " 'angelica',\n",
       " 'ann',\n",
       " 'annoyed',\n",
       " 'annoying',\n",
       " 'answer',\n",
       " 'answered',\n",
       " 'answering',\n",
       " 'answers',\n",
       " 'antebellum',\n",
       " 'anthony',\n",
       " 'anticipated',\n",
       " 'anxiety',\n",
       " 'anybody',\n",
       " 'anythony',\n",
       " 'anytime',\n",
       " 'apart',\n",
       " 'apartment',\n",
       " 'apologizing',\n",
       " 'apparent',\n",
       " 'apparently',\n",
       " 'appeared',\n",
       " 'appears',\n",
       " 'applicaiton',\n",
       " 'applicants',\n",
       " 'application',\n",
       " 'applications',\n",
       " 'applied',\n",
       " 'apply',\n",
       " 'appraisal',\n",
       " 'appraise',\n",
       " 'appraiser',\n",
       " 'appraising',\n",
       " 'appreciate',\n",
       " 'appreciated',\n",
       " 'appreciative',\n",
       " 'approach',\n",
       " 'approachable',\n",
       " 'approached',\n",
       " 'appropriately',\n",
       " 'approval',\n",
       " 'approve',\n",
       " 'approved',\n",
       " 'approvedclosed',\n",
       " 'approximate',\n",
       " 'apr',\n",
       " 'arbor',\n",
       " 'area',\n",
       " 'arent',\n",
       " 'arghhh',\n",
       " 'arises',\n",
       " 'arose',\n",
       " 'arrival',\n",
       " 'arrived',\n",
       " 'arrogantevery',\n",
       " 'articulate',\n",
       " 'asap',\n",
       " 'ask',\n",
       " 'asked',\n",
       " 'asking',\n",
       " 'asks',\n",
       " 'aspect',\n",
       " 'aspects',\n",
       " 'assertive',\n",
       " 'assessment',\n",
       " 'assessments',\n",
       " 'asset',\n",
       " 'assigned',\n",
       " 'assistance',\n",
       " 'assisted',\n",
       " 'assisting',\n",
       " 'assumed',\n",
       " 'assumptions',\n",
       " 'assurance',\n",
       " 'assurances',\n",
       " 'assure',\n",
       " 'assured',\n",
       " 'assuring',\n",
       " 'astronomical',\n",
       " 'attention',\n",
       " 'attentive',\n",
       " 'attitude',\n",
       " 'attorney',\n",
       " 'attracting',\n",
       " 'auditors',\n",
       " 'aug',\n",
       " 'august',\n",
       " 'austen',\n",
       " 'authenticity',\n",
       " 'authorize',\n",
       " 'automatic',\n",
       " 'automatically',\n",
       " 'avail',\n",
       " 'available',\n",
       " 'average',\n",
       " 'averaged',\n",
       " 'avoid',\n",
       " 'aware',\n",
       " 'away',\n",
       " 'aweful',\n",
       " 'awesome',\n",
       " 'awful',\n",
       " 'awsome',\n",
       " 'bad',\n",
       " 'badmouthed',\n",
       " 'badwe',\n",
       " 'balance',\n",
       " 'balances',\n",
       " 'ball',\n",
       " 'bank',\n",
       " 'banker',\n",
       " 'banks',\n",
       " 'bar',\n",
       " 'barrett',\n",
       " 'based',\n",
       " 'basement',\n",
       " 'basic',\n",
       " 'basically',\n",
       " 'basis',\n",
       " 'bbb',\n",
       " 'bc',\n",
       " 'bean',\n",
       " 'beat',\n",
       " 'beautiful',\n",
       " 'beautifully',\n",
       " 'bedroom',\n",
       " 'began',\n",
       " 'begin',\n",
       " 'beginning',\n",
       " 'belcer',\n",
       " 'believability',\n",
       " 'believe',\n",
       " 'bellezza',\n",
       " 'ben',\n",
       " 'bends',\n",
       " 'beneficial',\n",
       " 'best',\n",
       " 'bestalways',\n",
       " 'better',\n",
       " 'beware',\n",
       " 'bidding',\n",
       " 'bids',\n",
       " 'big',\n",
       " 'biggest',\n",
       " 'biggie',\n",
       " 'bike',\n",
       " 'binh',\n",
       " 'bit',\n",
       " 'black',\n",
       " 'blame',\n",
       " 'blank',\n",
       " 'blindly',\n",
       " 'block',\n",
       " 'blocks',\n",
       " 'blown',\n",
       " 'board',\n",
       " 'boat',\n",
       " 'bob',\n",
       " 'books',\n",
       " 'borrower',\n",
       " 'borrowing',\n",
       " 'boss',\n",
       " 'bothered',\n",
       " 'bought',\n",
       " 'bow',\n",
       " 'box',\n",
       " 'brad',\n",
       " 'brads',\n",
       " 'branch',\n",
       " 'brand',\n",
       " 'brandon',\n",
       " 'break',\n",
       " 'breaks',\n",
       " 'breeze',\n",
       " 'brent',\n",
       " 'brian',\n",
       " 'bright',\n",
       " 'bring',\n",
       " 'broke',\n",
       " 'broken',\n",
       " 'broker',\n",
       " 'brokerage',\n",
       " 'brokers',\n",
       " 'brought',\n",
       " 'bryan',\n",
       " 'bryant',\n",
       " 'bs',\n",
       " 'btw',\n",
       " 'builders',\n",
       " 'building',\n",
       " 'built',\n",
       " 'bumps',\n",
       " 'bunch',\n",
       " 'bureau',\n",
       " 'bureaucracy',\n",
       " 'business',\n",
       " 'busness',\n",
       " 'busy',\n",
       " 'butler',\n",
       " 'butlers',\n",
       " 'buy',\n",
       " 'buyer',\n",
       " 'buyers',\n",
       " 'buying',\n",
       " 'buyingrefinancing',\n",
       " 'buyingselling',\n",
       " 'bypass',\n",
       " 'byron',\n",
       " 'ca',\n",
       " 'cadwell',\n",
       " 'calculate',\n",
       " 'calendar',\n",
       " 'caliber',\n",
       " 'called',\n",
       " 'calling',\n",
       " 'calls',\n",
       " 'calm',\n",
       " 'came',\n",
       " 'cancel',\n",
       " 'canceled',\n",
       " 'candid',\n",
       " 'candle',\n",
       " 'capable',\n",
       " 'capital',\n",
       " 'capitoldo',\n",
       " 'card',\n",
       " 'care',\n",
       " 'cared',\n",
       " 'careful',\n",
       " 'carefully',\n",
       " 'cares',\n",
       " 'caring',\n",
       " 'carla',\n",
       " 'carolina',\n",
       " 'carrion',\n",
       " 'carry',\n",
       " 'case',\n",
       " 'cash',\n",
       " 'castaneda',\n",
       " 'category',\n",
       " 'caused',\n",
       " 'causing',\n",
       " 'caution',\n",
       " 'cave',\n",
       " 'certain',\n",
       " 'certainly',\n",
       " 'certificate',\n",
       " 'certified',\n",
       " 'challenges',\n",
       " 'challenging',\n",
       " 'chance',\n",
       " 'chances',\n",
       " 'chandler',\n",
       " 'change',\n",
       " 'changed',\n",
       " 'changes',\n",
       " 'character',\n",
       " 'charge',\n",
       " 'charged',\n",
       " 'charges',\n",
       " 'charging',\n",
       " 'charming',\n",
       " 'chase',\n",
       " 'chaz',\n",
       " 'check',\n",
       " 'checking',\n",
       " 'checkins',\n",
       " 'checks',\n",
       " 'chicago',\n",
       " 'choice',\n",
       " 'choose',\n",
       " 'choosing',\n",
       " 'chose',\n",
       " 'chris',\n",
       " 'christmas',\n",
       " 'christopher',\n",
       " 'chuck',\n",
       " 'circumstances',\n",
       " 'city',\n",
       " 'claim',\n",
       " 'clara',\n",
       " 'clarification',\n",
       " 'clarity',\n",
       " 'class',\n",
       " 'classifying',\n",
       " 'clean',\n",
       " 'clear',\n",
       " 'clearly',\n",
       " 'cliche',\n",
       " 'clicking',\n",
       " 'client',\n",
       " 'clients',\n",
       " 'clock',\n",
       " 'close',\n",
       " 'closed',\n",
       " 'closes',\n",
       " 'closing',\n",
       " 'closings',\n",
       " 'clunky',\n",
       " 'colleague',\n",
       " 'collect',\n",
       " 'columbus',\n",
       " 'come',\n",
       " 'comes',\n",
       " 'comfortable',\n",
       " 'comforts',\n",
       " 'comment',\n",
       " 'commented',\n",
       " 'comments',\n",
       " 'commission',\n",
       " 'commitment',\n",
       " 'committed',\n",
       " 'communicate',\n",
       " 'communicated',\n",
       " 'communicates',\n",
       " 'communicating',\n",
       " 'communication',\n",
       " 'communications',\n",
       " 'communicative',\n",
       " 'communicator',\n",
       " 'communicators',\n",
       " 'companies',\n",
       " 'company',\n",
       " 'companys',\n",
       " 'comparable',\n",
       " 'compare',\n",
       " 'compared',\n",
       " 'comparison',\n",
       " 'compassion',\n",
       " 'compete',\n",
       " 'competence',\n",
       " 'competent',\n",
       " 'competing',\n",
       " 'competitive',\n",
       " 'competitor',\n",
       " 'competitors',\n",
       " 'complained',\n",
       " 'complaint',\n",
       " 'complaintgrievance',\n",
       " 'complaints',\n",
       " 'complete',\n",
       " 'completed',\n",
       " 'completely',\n",
       " 'completing',\n",
       " 'completion',\n",
       " 'complex',\n",
       " 'complicate',\n",
       " 'complicated',\n",
       " 'complications',\n",
       " 'complied',\n",
       " 'complimented',\n",
       " 'compoentsfees',\n",
       " 'component',\n",
       " 'comps',\n",
       " 'concern',\n",
       " 'concerned',\n",
       " 'concerns',\n",
       " 'conclusion',\n",
       " 'condescension',\n",
       " 'conditions',\n",
       " 'condo',\n",
       " 'conduct',\n",
       " 'conducting',\n",
       " 'confidence',\n",
       " 'confident',\n",
       " 'confirmation',\n",
       " 'confirmed',\n",
       " 'confirming',\n",
       " 'confused',\n",
       " 'confusion',\n",
       " 'congratulations',\n",
       " 'connect',\n",
       " 'connected',\n",
       " 'connection',\n",
       " 'connolly',\n",
       " 'cons',\n",
       " 'consent',\n",
       " 'consider',\n",
       " 'considerate',\n",
       " 'consideration',\n",
       " 'considered',\n",
       " 'consistently',\n",
       " 'consolidate',\n",
       " 'constant',\n",
       " 'constantly',\n",
       " 'constructive',\n",
       " 'consultant',\n",
       " 'consultation',\n",
       " 'consuming',\n",
       " 'consummate',\n",
       " 'contact',\n",
       " 'contacted',\n",
       " 'contacting',\n",
       " 'contingencies',\n",
       " 'continually',\n",
       " 'continue',\n",
       " 'continued',\n",
       " 'contract',\n",
       " 'control',\n",
       " 'conventional',\n",
       " 'conversation',\n",
       " 'conversations',\n",
       " 'conversing',\n",
       " 'convinced',\n",
       " 'convincing',\n",
       " 'convoluted',\n",
       " 'cool',\n",
       " 'coordinate',\n",
       " 'coordination',\n",
       " 'copies',\n",
       " 'copy',\n",
       " 'cordial',\n",
       " 'corey',\n",
       " 'corner',\n",
       " 'corporate',\n",
       " 'correct',\n",
       " 'corrected',\n",
       " 'corrections',\n",
       " 'correctly',\n",
       " 'correspondence',\n",
       " 'corroboration',\n",
       " 'cos',\n",
       " 'cost',\n",
       " 'costeffective',\n",
       " 'costs',\n",
       " 'costumer',\n",
       " 'couldn',\n",
       " 'couldt',\n",
       " 'couldve',\n",
       " 'counseling',\n",
       " 'count',\n",
       " 'countless',\n",
       " 'country',\n",
       " 'county',\n",
       " 'couple',\n",
       " 'course',\n",
       " 'courteous',\n",
       " 'courtesy',\n",
       " 'cover',\n",
       " 'crazy',\n",
       " 'creative',\n",
       " 'credible',\n",
       " 'credit',\n",
       " 'creditors',\n",
       " 'crew',\n",
       " 'critical',\n",
       " 'crossed',\n",
       " 'crunched',\n",
       " 'current',\n",
       " 'currently',\n",
       " 'custer',\n",
       " 'customer',\n",
       " 'customers',\n",
       " 'cut',\n",
       " 'cycle',\n",
       " 'dad',\n",
       " 'daily',\n",
       " 'dallas',\n",
       " 'daniel',\n",
       " 'daniels',\n",
       " 'date',\n",
       " 'dates',\n",
       " 'daughter',\n",
       " 'daunting',\n",
       " 'day',\n",
       " 'days',\n",
       " 'daysand',\n",
       " 'daywhat',\n",
       " 'deadline',\n",
       " 'deadlines',\n",
       " 'deaf',\n",
       " 'deal',\n",
       " 'dealing',\n",
       " 'dealings',\n",
       " 'deals',\n",
       " 'dealt',\n",
       " 'dean',\n",
       " 'debit',\n",
       " 'debited',\n",
       " 'debt',\n",
       " 'decade',\n",
       " 'december',\n",
       " 'decide',\n",
       " 'decided',\n",
       " 'deciding',\n",
       " 'decision',\n",
       " 'decisions',\n",
       " 'declining',\n",
       " 'dedicated',\n",
       " 'dedication',\n",
       " 'default',\n",
       " 'deff',\n",
       " 'defiantly',\n",
       " 'deficiency',\n",
       " 'definite',\n",
       " 'definitely',\n",
       " 'degree',\n",
       " 'delay',\n",
       " 'delayed',\n",
       " 'delays',\n",
       " 'delight',\n",
       " 'delighted',\n",
       " 'delightful',\n",
       " 'delivered',\n",
       " 'delivers',\n",
       " 'delt',\n",
       " 'demanded',\n",
       " 'demanding',\n",
       " 'demeaning',\n",
       " 'demeanor',\n",
       " 'denied',\n",
       " 'department',\n",
       " 'departure',\n",
       " 'dependable',\n",
       " 'depending',\n",
       " 'depends',\n",
       " 'deserved',\n",
       " 'deserving',\n",
       " 'desperation',\n",
       " 'despite',\n",
       " 'despites',\n",
       " 'detailed',\n",
       " 'details',\n",
       " 'devastated',\n",
       " 'developer',\n",
       " 'did',\n",
       " 'didn',\n",
       " 'didnt',\n",
       " 'dier',\n",
       " 'difference',\n",
       " 'different',\n",
       " 'difficult',\n",
       " 'difficulties',\n",
       " 'difficulty',\n",
       " 'diffiicult',\n",
       " 'diligent',\n",
       " 'diligently',\n",
       " 'dilucchio',\n",
       " 'ding',\n",
       " 'direct',\n",
       " 'direction',\n",
       " 'directly',\n",
       " 'disappeared',\n",
       " 'disappointed',\n",
       " 'disappointing',\n",
       " 'disaster',\n",
       " 'disbursement',\n",
       " 'disclosed',\n",
       " 'disclosing',\n",
       " 'disclosure',\n",
       " 'discovered',\n",
       " 'discrepancies',\n",
       " 'discuss',\n",
       " 'discussing',\n",
       " 'discussions',\n",
       " 'disorganized',\n",
       " 'displeasure',\n",
       " 'disrespect',\n",
       " 'disturbing',\n",
       " 'dlj',\n",
       " 'dljs',\n",
       " 'docs',\n",
       " 'document',\n",
       " 'documentation',\n",
       " 'documents',\n",
       " 'does',\n",
       " 'doesnt',\n",
       " 'doghouse',\n",
       " 'doing',\n",
       " 'dollars',\n",
       " 'donethen',\n",
       " 'donna',\n",
       " 'dont',\n",
       " 'double',\n",
       " 'doubt',\n",
       " 'doubts',\n",
       " 'download',\n",
       " 'downpayment',\n",
       " 'downs',\n",
       " 'downsides',\n",
       " 'dozens',\n",
       " 'dragged',\n",
       " 'dramatic',\n",
       " 'dread',\n",
       " 'dreading',\n",
       " 'dream',\n",
       " 'dreams',\n",
       " 'drewry',\n",
       " 'driving',\n",
       " 'drop',\n",
       " 'drove',\n",
       " 'dummy',\n",
       " 'dunlop',\n",
       " 'dyllon',\n",
       " 'eager',\n",
       " 'earlier',\n",
       " 'early',\n",
       " 'earned',\n",
       " 'earns',\n",
       " 'ears',\n",
       " 'ease',\n",
       " 'easier',\n",
       " 'easiest',\n",
       " 'easily',\n",
       " 'easy',\n",
       " 'eave',\n",
       " 'ed',\n",
       " 'educate',\n",
       " 'educated',\n",
       " 'effective',\n",
       " 'efficient',\n",
       " 'efficiently',\n",
       " 'effort',\n",
       " 'electronic',\n",
       " 'electronically',\n",
       " 'element',\n",
       " 'eligibility',\n",
       " 'eligible',\n",
       " 'eliminated',\n",
       " 'email',\n",
       " 'emailas',\n",
       " 'emailed',\n",
       " 'emailedand',\n",
       " 'emailedthen',\n",
       " 'emailing',\n",
       " 'emails',\n",
       " 'embark',\n",
       " 'eminent',\n",
       " 'empathetic',\n",
       " 'employees',\n",
       " 'employment',\n",
       " 'encountered',\n",
       " 'encourage',\n",
       " 'encouraging',\n",
       " 'end',\n",
       " 'endeavor',\n",
       " 'ended',\n",
       " 'ending',\n",
       " 'endless',\n",
       " 'energetic',\n",
       " 'englert',\n",
       " 'english',\n",
       " 'enjoy',\n",
       " 'enjoyable',\n",
       " 'enjoyed',\n",
       " 'enormously',\n",
       " 'enriquez',\n",
       " 'ensure',\n",
       " 'ensured',\n",
       " 'entered',\n",
       " 'entering',\n",
       " 'enthusiasm',\n",
       " 'enthusiastically',\n",
       " 'entire',\n",
       " 'entirely',\n",
       " 'entirety',\n",
       " 'entries',\n",
       " 'error',\n",
       " 'errors',\n",
       " 'errounous',\n",
       " 'escrow',\n",
       " 'escrows',\n",
       " 'especially',\n",
       " 'estate',\n",
       " 'estimate',\n",
       " 'estimated',\n",
       " 'estimates',\n",
       " 'ethan',\n",
       " 'evaluated',\n",
       " 'eventually',\n",
       " 'everyday',\n",
       " 'everythign',\n",
       " 'everythings',\n",
       " 'evident',\n",
       " 'exact',\n",
       " 'exactly',\n",
       " 'example',\n",
       " 'exceeded',\n",
       " 'excellent',\n",
       " 'exception',\n",
       " 'exceptional',\n",
       " 'exchange',\n",
       " 'exclusively',\n",
       " 'exp',\n",
       " 'expanded',\n",
       " 'expect',\n",
       " 'expectations',\n",
       " 'expected',\n",
       " 'expenses',\n",
       " 'expensive',\n",
       " 'experiecne',\n",
       " 'experience',\n",
       " 'experienced',\n",
       " 'experiences',\n",
       " 'experienceworking',\n",
       " 'expert',\n",
       " 'expertise',\n",
       " 'expired',\n",
       " 'explain',\n",
       " 'explained',\n",
       " 'explaining',\n",
       " 'explains',\n",
       " 'explanation',\n",
       " 'explanations',\n",
       " 'exploring',\n",
       " 'express',\n",
       " 'expressing',\n",
       " 'expressly',\n",
       " 'extended',\n",
       " 'extension',\n",
       " 'extensive',\n",
       " 'extent',\n",
       " 'external',\n",
       " 'extorting',\n",
       " 'extra',\n",
       " 'extraordinarily',\n",
       " 'extremely',\n",
       " 'faced',\n",
       " 'faceless',\n",
       " 'facetoface',\n",
       " 'fact',\n",
       " 'failed',\n",
       " 'fair',\n",
       " 'fairly',\n",
       " 'fairness',\n",
       " 'faith',\n",
       " 'fall',\n",
       " 'falling',\n",
       " 'familiar',\n",
       " 'families',\n",
       " 'family',\n",
       " 'fantastic',\n",
       " 'far',\n",
       " 'fashion',\n",
       " 'fast',\n",
       " 'faster',\n",
       " 'fastest',\n",
       " 'fasthighly',\n",
       " 'father',\n",
       " 'fault',\n",
       " 'favorable',\n",
       " 'favorite',\n",
       " 'fax',\n",
       " 'fazio',\n",
       " 'features',\n",
       " 'february',\n",
       " 'federal',\n",
       " 'fedex',\n",
       " 'fee',\n",
       " 'feed',\n",
       " 'feedback',\n",
       " 'feel',\n",
       " 'feeling',\n",
       " 'fees',\n",
       " 'fell',\n",
       " 'fellow',\n",
       " 'felt',\n",
       " 'ferrell',\n",
       " 'fha',\n",
       " 'fiance',\n",
       " 'field',\n",
       " 'fields',\n",
       " 'fighting',\n",
       " 'figured',\n",
       " 'figuring',\n",
       " 'file',\n",
       " 'filed',\n",
       " 'filled',\n",
       " 'finace',\n",
       " 'final',\n",
       " 'finally',\n",
       " 'finance',\n",
       " 'financed',\n",
       " 'finances',\n",
       " 'financial',\n",
       " 'financially',\n",
       " 'financialour',\n",
       " 'financials',\n",
       " 'financing',\n",
       " 'finding',\n",
       " 'findings',\n",
       " 'fine',\n",
       " 'finish',\n",
       " 'finished',\n",
       " 'firm',\n",
       " 'firsttime',\n",
       " 'fit',\n",
       " 'fixed',\n",
       " 'flags',\n",
       " 'flawlessly',\n",
       " 'floated',\n",
       " 'flores',\n",
       " 'flowing',\n",
       " 'fly',\n",
       " 'focus',\n",
       " 'focused',\n",
       " 'folks',\n",
       " 'follow',\n",
       " 'followed',\n",
       " 'following',\n",
       " 'followup',\n",
       " 'force',\n",
       " 'forever',\n",
       " 'forget',\n",
       " 'forgot',\n",
       " 'form',\n",
       " 'formally',\n",
       " 'forms',\n",
       " 'forthcoming',\n",
       " 'fortunate',\n",
       " 'forward',\n",
       " 'forwarded',\n",
       " 'forwarding',\n",
       " 'fought',\n",
       " 'frame',\n",
       " 'freaking',\n",
       " 'fred',\n",
       " 'freddy',\n",
       " 'free',\n",
       " 'freelancer',\n",
       " 'frequent',\n",
       " 'frequently',\n",
       " 'friday',\n",
       " 'friend',\n",
       " 'friendand',\n",
       " 'friendly',\n",
       " 'friends',\n",
       " 'frightening',\n",
       " 'fro',\n",
       " 'frustrated',\n",
       " 'frustrating',\n",
       " 'frustration',\n",
       " 'fulltime',\n",
       " 'fully',\n",
       " 'functionary',\n",
       " 'funded',\n",
       " 'funding',\n",
       " 'funds',\n",
       " 'future',\n",
       " 'game',\n",
       " 'games',\n",
       " 'garanteed',\n",
       " 'gauranteed',\n",
       " 'gave',\n",
       " 'gay',\n",
       " 'general',\n",
       " 'genna',\n",
       " 'genuinely',\n",
       " 'germain',\n",
       " 'gets',\n",
       " 'getting',\n",
       " 'gimmicky',\n",
       " 'given',\n",
       " 'giving',\n",
       " 'glad',\n",
       " 'gladly',\n",
       " 'glen',\n",
       " 'glitch',\n",
       " ...]"
      ]
     },
     "execution_count": 27,
     "metadata": {},
     "output_type": "execute_result"
    }
   ],
   "source": [
    "tokens_vect.get_feature_names()"
   ]
  },
  {
   "cell_type": "code",
   "execution_count": 28,
   "metadata": {
    "ExecuteTime": {
     "end_time": "2021-04-14T06:10:34.231898Z",
     "start_time": "2021-04-14T06:10:34.222888Z"
    }
   },
   "outputs": [
    {
     "data": {
      "text/plain": [
       "array([[0, 0, 0, ..., 0, 0, 0],\n",
       "       [0, 0, 0, ..., 0, 0, 0],\n",
       "       [0, 0, 0, ..., 0, 0, 0],\n",
       "       ...,\n",
       "       [0, 0, 0, ..., 0, 0, 0],\n",
       "       [0, 0, 0, ..., 0, 0, 0],\n",
       "       [0, 0, 0, ..., 0, 0, 0]], dtype=int64)"
      ]
     },
     "execution_count": 28,
     "metadata": {},
     "output_type": "execute_result"
    }
   ],
   "source": [
    "token_dtm.toarray()"
   ]
  },
  {
   "cell_type": "code",
   "execution_count": 29,
   "metadata": {
    "ExecuteTime": {
     "end_time": "2021-04-14T06:10:35.880025Z",
     "start_time": "2021-04-14T06:10:35.870051Z"
    }
   },
   "outputs": [
    {
     "data": {
      "text/plain": [
       "(505, 2507)"
      ]
     },
     "execution_count": 29,
     "metadata": {},
     "output_type": "execute_result"
    }
   ],
   "source": [
    "token_dtm.toarray().shape"
   ]
  },
  {
   "cell_type": "code",
   "execution_count": 30,
   "metadata": {
    "ExecuteTime": {
     "end_time": "2021-04-14T06:10:38.756052Z",
     "start_time": "2021-04-14T06:10:38.750069Z"
    }
   },
   "outputs": [
    {
     "data": {
      "text/plain": [
       "2507"
      ]
     },
     "execution_count": 30,
     "metadata": {},
     "output_type": "execute_result"
    }
   ],
   "source": [
    "len(tokens_vect.get_feature_names())"
   ]
  },
  {
   "cell_type": "code",
   "execution_count": 31,
   "metadata": {
    "ExecuteTime": {
     "end_time": "2021-04-14T06:10:39.868038Z",
     "start_time": "2021-04-14T06:10:39.839117Z"
    }
   },
   "outputs": [
    {
     "data": {
      "text/html": [
       "<div>\n",
       "<style scoped>\n",
       "    .dataframe tbody tr th:only-of-type {\n",
       "        vertical-align: middle;\n",
       "    }\n",
       "\n",
       "    .dataframe tbody tr th {\n",
       "        vertical-align: top;\n",
       "    }\n",
       "\n",
       "    .dataframe thead th {\n",
       "        text-align: right;\n",
       "    }\n",
       "</style>\n",
       "<table border=\"1\" class=\"dataframe\">\n",
       "  <thead>\n",
       "    <tr style=\"text-align: right;\">\n",
       "      <th></th>\n",
       "      <th>10</th>\n",
       "      <th>100</th>\n",
       "      <th>101</th>\n",
       "      <th>1014</th>\n",
       "      <th>1031</th>\n",
       "      <th>1040s</th>\n",
       "      <th>11</th>\n",
       "      <th>12</th>\n",
       "      <th>13</th>\n",
       "      <th>15</th>\n",
       "      <th>...</th>\n",
       "      <th>xx</th>\n",
       "      <th>year</th>\n",
       "      <th>years</th>\n",
       "      <th>yelp</th>\n",
       "      <th>yep</th>\n",
       "      <th>yes</th>\n",
       "      <th>youi</th>\n",
       "      <th>zach</th>\n",
       "      <th>zelada</th>\n",
       "      <th>zero</th>\n",
       "    </tr>\n",
       "  </thead>\n",
       "  <tbody>\n",
       "    <tr>\n",
       "      <th>0</th>\n",
       "      <td>0</td>\n",
       "      <td>0</td>\n",
       "      <td>0</td>\n",
       "      <td>0</td>\n",
       "      <td>0</td>\n",
       "      <td>0</td>\n",
       "      <td>0</td>\n",
       "      <td>0</td>\n",
       "      <td>0</td>\n",
       "      <td>0</td>\n",
       "      <td>...</td>\n",
       "      <td>0</td>\n",
       "      <td>0</td>\n",
       "      <td>0</td>\n",
       "      <td>0</td>\n",
       "      <td>0</td>\n",
       "      <td>0</td>\n",
       "      <td>0</td>\n",
       "      <td>0</td>\n",
       "      <td>0</td>\n",
       "      <td>0</td>\n",
       "    </tr>\n",
       "    <tr>\n",
       "      <th>1</th>\n",
       "      <td>0</td>\n",
       "      <td>0</td>\n",
       "      <td>0</td>\n",
       "      <td>0</td>\n",
       "      <td>0</td>\n",
       "      <td>0</td>\n",
       "      <td>0</td>\n",
       "      <td>0</td>\n",
       "      <td>0</td>\n",
       "      <td>0</td>\n",
       "      <td>...</td>\n",
       "      <td>0</td>\n",
       "      <td>0</td>\n",
       "      <td>0</td>\n",
       "      <td>0</td>\n",
       "      <td>0</td>\n",
       "      <td>0</td>\n",
       "      <td>0</td>\n",
       "      <td>0</td>\n",
       "      <td>0</td>\n",
       "      <td>0</td>\n",
       "    </tr>\n",
       "    <tr>\n",
       "      <th>2</th>\n",
       "      <td>0</td>\n",
       "      <td>0</td>\n",
       "      <td>0</td>\n",
       "      <td>0</td>\n",
       "      <td>0</td>\n",
       "      <td>0</td>\n",
       "      <td>0</td>\n",
       "      <td>0</td>\n",
       "      <td>0</td>\n",
       "      <td>0</td>\n",
       "      <td>...</td>\n",
       "      <td>0</td>\n",
       "      <td>0</td>\n",
       "      <td>0</td>\n",
       "      <td>0</td>\n",
       "      <td>0</td>\n",
       "      <td>0</td>\n",
       "      <td>0</td>\n",
       "      <td>0</td>\n",
       "      <td>0</td>\n",
       "      <td>0</td>\n",
       "    </tr>\n",
       "    <tr>\n",
       "      <th>3</th>\n",
       "      <td>0</td>\n",
       "      <td>0</td>\n",
       "      <td>0</td>\n",
       "      <td>0</td>\n",
       "      <td>0</td>\n",
       "      <td>0</td>\n",
       "      <td>0</td>\n",
       "      <td>0</td>\n",
       "      <td>0</td>\n",
       "      <td>0</td>\n",
       "      <td>...</td>\n",
       "      <td>0</td>\n",
       "      <td>0</td>\n",
       "      <td>0</td>\n",
       "      <td>0</td>\n",
       "      <td>0</td>\n",
       "      <td>0</td>\n",
       "      <td>0</td>\n",
       "      <td>0</td>\n",
       "      <td>0</td>\n",
       "      <td>0</td>\n",
       "    </tr>\n",
       "    <tr>\n",
       "      <th>4</th>\n",
       "      <td>0</td>\n",
       "      <td>0</td>\n",
       "      <td>0</td>\n",
       "      <td>0</td>\n",
       "      <td>0</td>\n",
       "      <td>0</td>\n",
       "      <td>0</td>\n",
       "      <td>0</td>\n",
       "      <td>0</td>\n",
       "      <td>0</td>\n",
       "      <td>...</td>\n",
       "      <td>0</td>\n",
       "      <td>0</td>\n",
       "      <td>0</td>\n",
       "      <td>0</td>\n",
       "      <td>0</td>\n",
       "      <td>0</td>\n",
       "      <td>0</td>\n",
       "      <td>2</td>\n",
       "      <td>0</td>\n",
       "      <td>0</td>\n",
       "    </tr>\n",
       "    <tr>\n",
       "      <th>...</th>\n",
       "      <td>...</td>\n",
       "      <td>...</td>\n",
       "      <td>...</td>\n",
       "      <td>...</td>\n",
       "      <td>...</td>\n",
       "      <td>...</td>\n",
       "      <td>...</td>\n",
       "      <td>...</td>\n",
       "      <td>...</td>\n",
       "      <td>...</td>\n",
       "      <td>...</td>\n",
       "      <td>...</td>\n",
       "      <td>...</td>\n",
       "      <td>...</td>\n",
       "      <td>...</td>\n",
       "      <td>...</td>\n",
       "      <td>...</td>\n",
       "      <td>...</td>\n",
       "      <td>...</td>\n",
       "      <td>...</td>\n",
       "      <td>...</td>\n",
       "    </tr>\n",
       "    <tr>\n",
       "      <th>500</th>\n",
       "      <td>0</td>\n",
       "      <td>0</td>\n",
       "      <td>0</td>\n",
       "      <td>0</td>\n",
       "      <td>0</td>\n",
       "      <td>0</td>\n",
       "      <td>0</td>\n",
       "      <td>0</td>\n",
       "      <td>0</td>\n",
       "      <td>0</td>\n",
       "      <td>...</td>\n",
       "      <td>0</td>\n",
       "      <td>1</td>\n",
       "      <td>1</td>\n",
       "      <td>0</td>\n",
       "      <td>0</td>\n",
       "      <td>0</td>\n",
       "      <td>0</td>\n",
       "      <td>0</td>\n",
       "      <td>0</td>\n",
       "      <td>0</td>\n",
       "    </tr>\n",
       "    <tr>\n",
       "      <th>501</th>\n",
       "      <td>0</td>\n",
       "      <td>0</td>\n",
       "      <td>0</td>\n",
       "      <td>0</td>\n",
       "      <td>0</td>\n",
       "      <td>0</td>\n",
       "      <td>0</td>\n",
       "      <td>0</td>\n",
       "      <td>0</td>\n",
       "      <td>0</td>\n",
       "      <td>...</td>\n",
       "      <td>0</td>\n",
       "      <td>0</td>\n",
       "      <td>1</td>\n",
       "      <td>0</td>\n",
       "      <td>0</td>\n",
       "      <td>0</td>\n",
       "      <td>0</td>\n",
       "      <td>0</td>\n",
       "      <td>0</td>\n",
       "      <td>0</td>\n",
       "    </tr>\n",
       "    <tr>\n",
       "      <th>502</th>\n",
       "      <td>0</td>\n",
       "      <td>0</td>\n",
       "      <td>0</td>\n",
       "      <td>0</td>\n",
       "      <td>0</td>\n",
       "      <td>0</td>\n",
       "      <td>0</td>\n",
       "      <td>0</td>\n",
       "      <td>0</td>\n",
       "      <td>0</td>\n",
       "      <td>...</td>\n",
       "      <td>0</td>\n",
       "      <td>0</td>\n",
       "      <td>0</td>\n",
       "      <td>0</td>\n",
       "      <td>0</td>\n",
       "      <td>0</td>\n",
       "      <td>0</td>\n",
       "      <td>0</td>\n",
       "      <td>0</td>\n",
       "      <td>0</td>\n",
       "    </tr>\n",
       "    <tr>\n",
       "      <th>503</th>\n",
       "      <td>0</td>\n",
       "      <td>0</td>\n",
       "      <td>0</td>\n",
       "      <td>0</td>\n",
       "      <td>0</td>\n",
       "      <td>0</td>\n",
       "      <td>0</td>\n",
       "      <td>0</td>\n",
       "      <td>0</td>\n",
       "      <td>0</td>\n",
       "      <td>...</td>\n",
       "      <td>0</td>\n",
       "      <td>0</td>\n",
       "      <td>0</td>\n",
       "      <td>0</td>\n",
       "      <td>0</td>\n",
       "      <td>0</td>\n",
       "      <td>0</td>\n",
       "      <td>0</td>\n",
       "      <td>0</td>\n",
       "      <td>0</td>\n",
       "    </tr>\n",
       "    <tr>\n",
       "      <th>504</th>\n",
       "      <td>0</td>\n",
       "      <td>0</td>\n",
       "      <td>0</td>\n",
       "      <td>0</td>\n",
       "      <td>0</td>\n",
       "      <td>0</td>\n",
       "      <td>0</td>\n",
       "      <td>0</td>\n",
       "      <td>0</td>\n",
       "      <td>0</td>\n",
       "      <td>...</td>\n",
       "      <td>0</td>\n",
       "      <td>1</td>\n",
       "      <td>0</td>\n",
       "      <td>0</td>\n",
       "      <td>0</td>\n",
       "      <td>0</td>\n",
       "      <td>0</td>\n",
       "      <td>0</td>\n",
       "      <td>0</td>\n",
       "      <td>0</td>\n",
       "    </tr>\n",
       "  </tbody>\n",
       "</table>\n",
       "<p>505 rows × 2507 columns</p>\n",
       "</div>"
      ],
      "text/plain": [
       "     10  100  101  1014  1031  1040s  11  12  13  15  ...  xx  year  years  \\\n",
       "0     0    0    0     0     0      0   0   0   0   0  ...   0     0      0   \n",
       "1     0    0    0     0     0      0   0   0   0   0  ...   0     0      0   \n",
       "2     0    0    0     0     0      0   0   0   0   0  ...   0     0      0   \n",
       "3     0    0    0     0     0      0   0   0   0   0  ...   0     0      0   \n",
       "4     0    0    0     0     0      0   0   0   0   0  ...   0     0      0   \n",
       "..   ..  ...  ...   ...   ...    ...  ..  ..  ..  ..  ...  ..   ...    ...   \n",
       "500   0    0    0     0     0      0   0   0   0   0  ...   0     1      1   \n",
       "501   0    0    0     0     0      0   0   0   0   0  ...   0     0      1   \n",
       "502   0    0    0     0     0      0   0   0   0   0  ...   0     0      0   \n",
       "503   0    0    0     0     0      0   0   0   0   0  ...   0     0      0   \n",
       "504   0    0    0     0     0      0   0   0   0   0  ...   0     1      0   \n",
       "\n",
       "     yelp  yep  yes  youi  zach  zelada  zero  \n",
       "0       0    0    0     0     0       0     0  \n",
       "1       0    0    0     0     0       0     0  \n",
       "2       0    0    0     0     0       0     0  \n",
       "3       0    0    0     0     0       0     0  \n",
       "4       0    0    0     0     2       0     0  \n",
       "..    ...  ...  ...   ...   ...     ...   ...  \n",
       "500     0    0    0     0     0       0     0  \n",
       "501     0    0    0     0     0       0     0  \n",
       "502     0    0    0     0     0       0     0  \n",
       "503     0    0    0     0     0       0     0  \n",
       "504     0    0    0     0     0       0     0  \n",
       "\n",
       "[505 rows x 2507 columns]"
      ]
     },
     "execution_count": 31,
     "metadata": {},
     "output_type": "execute_result"
    }
   ],
   "source": [
    "pd.DataFrame(token_dtm.toarray(),columns = tokens_vect.get_feature_names())"
   ]
  },
  {
   "cell_type": "code",
   "execution_count": 32,
   "metadata": {
    "ExecuteTime": {
     "end_time": "2021-04-14T06:10:42.132323Z",
     "start_time": "2021-04-14T06:10:42.127336Z"
    }
   },
   "outputs": [
    {
     "name": "stdout",
     "output_type": "stream",
     "text": [
      "  (0, 1022)\t1\n",
      "  (0, 1244)\t1\n",
      "  (0, 2495)\t1\n",
      "  (0, 365)\t1\n",
      "  (0, 1649)\t1\n",
      "  (0, 1739)\t1\n",
      "  (0, 1081)\t1\n",
      "  (0, 1857)\t1\n",
      "  (0, 1727)\t1\n",
      "  (0, 2092)\t1\n",
      "  (0, 2254)\t1\n",
      "  (1, 1739)\t1\n",
      "  (1, 1081)\t1\n",
      "  (1, 2254)\t1\n",
      "  (1, 1423)\t2\n",
      "  (1, 1945)\t1\n",
      "  (1, 1082)\t1\n",
      "  (1, 557)\t1\n",
      "  (1, 1736)\t1\n",
      "  (1, 1487)\t1\n",
      "  (1, 820)\t1\n",
      "  (1, 2037)\t1\n",
      "  (2, 2495)\t4\n",
      "  (2, 365)\t1\n",
      "  (2, 1487)\t3\n",
      "  :\t:\n",
      "  (504, 170)\t1\n",
      "  (504, 2298)\t3\n",
      "  (504, 200)\t2\n",
      "  (504, 1812)\t1\n",
      "  (504, 1827)\t1\n",
      "  (504, 528)\t3\n",
      "  (504, 48)\t1\n",
      "  (504, 929)\t1\n",
      "  (504, 24)\t2\n",
      "  (504, 30)\t1\n",
      "  (504, 55)\t2\n",
      "  (504, 1441)\t2\n",
      "  (504, 1115)\t2\n",
      "  (504, 812)\t1\n",
      "  (504, 239)\t1\n",
      "  (504, 2206)\t1\n",
      "  (504, 2230)\t1\n",
      "  (504, 2229)\t2\n",
      "  (504, 1287)\t1\n",
      "  (504, 829)\t1\n",
      "  (504, 844)\t2\n",
      "  (504, 50)\t1\n",
      "  (504, 1891)\t2\n",
      "  (504, 493)\t1\n",
      "  (504, 685)\t1\n"
     ]
    }
   ],
   "source": [
    "print(token_dtm)"
   ]
  },
  {
   "cell_type": "code",
   "execution_count": 33,
   "metadata": {
    "ExecuteTime": {
     "end_time": "2021-04-14T06:10:43.493863Z",
     "start_time": "2021-04-14T06:10:43.479899Z"
    }
   },
   "outputs": [],
   "source": [
    "# creating a dataframe which shows the count of how many times a word is coming in the corpus\n",
    "count_dtm_dataframe = pd.DataFrame(np.sum(token_dtm.toarray(),axis=0),tokens_vect.get_feature_names()).reset_index()\n",
    "count_dtm_dataframe.columns =['Word','Count']"
   ]
  },
  {
   "cell_type": "code",
   "execution_count": 34,
   "metadata": {
    "ExecuteTime": {
     "end_time": "2021-04-14T06:10:45.580708Z",
     "start_time": "2021-04-14T06:10:45.573690Z"
    }
   },
   "outputs": [
    {
     "data": {
      "text/html": [
       "<div>\n",
       "<style scoped>\n",
       "    .dataframe tbody tr th:only-of-type {\n",
       "        vertical-align: middle;\n",
       "    }\n",
       "\n",
       "    .dataframe tbody tr th {\n",
       "        vertical-align: top;\n",
       "    }\n",
       "\n",
       "    .dataframe thead th {\n",
       "        text-align: right;\n",
       "    }\n",
       "</style>\n",
       "<table border=\"1\" class=\"dataframe\">\n",
       "  <thead>\n",
       "    <tr style=\"text-align: right;\">\n",
       "      <th></th>\n",
       "      <th>Word</th>\n",
       "      <th>Count</th>\n",
       "    </tr>\n",
       "  </thead>\n",
       "  <tbody>\n",
       "    <tr>\n",
       "      <th>0</th>\n",
       "      <td>10</td>\n",
       "      <td>10</td>\n",
       "    </tr>\n",
       "    <tr>\n",
       "      <th>1</th>\n",
       "      <td>100</td>\n",
       "      <td>9</td>\n",
       "    </tr>\n",
       "    <tr>\n",
       "      <th>2</th>\n",
       "      <td>101</td>\n",
       "      <td>1</td>\n",
       "    </tr>\n",
       "    <tr>\n",
       "      <th>3</th>\n",
       "      <td>1014</td>\n",
       "      <td>1</td>\n",
       "    </tr>\n",
       "    <tr>\n",
       "      <th>4</th>\n",
       "      <td>1031</td>\n",
       "      <td>2</td>\n",
       "    </tr>\n",
       "  </tbody>\n",
       "</table>\n",
       "</div>"
      ],
      "text/plain": [
       "   Word  Count\n",
       "0    10     10\n",
       "1   100      9\n",
       "2   101      1\n",
       "3  1014      1\n",
       "4  1031      2"
      ]
     },
     "execution_count": 34,
     "metadata": {},
     "output_type": "execute_result"
    }
   ],
   "source": [
    "count_dtm_dataframe.head()"
   ]
  },
  {
   "cell_type": "code",
   "execution_count": 35,
   "metadata": {
    "ExecuteTime": {
     "end_time": "2021-04-14T06:10:47.704228Z",
     "start_time": "2021-04-14T06:10:47.393061Z"
    }
   },
   "outputs": [],
   "source": [
    "#adding sentiment column which shows sentiment polarity of each word\n",
    "sentiment_word = []\n",
    "for word in count_dtm_dataframe['Word']:\n",
    "    sentiment_word.append(sentiment_review(word))\n",
    "count_dtm_dataframe['Sentiment'] = sentiment_word"
   ]
  },
  {
   "cell_type": "code",
   "execution_count": 36,
   "metadata": {
    "ExecuteTime": {
     "end_time": "2021-04-14T06:10:48.894733Z",
     "start_time": "2021-04-14T06:10:48.885755Z"
    }
   },
   "outputs": [
    {
     "data": {
      "text/html": [
       "<div>\n",
       "<style scoped>\n",
       "    .dataframe tbody tr th:only-of-type {\n",
       "        vertical-align: middle;\n",
       "    }\n",
       "\n",
       "    .dataframe tbody tr th {\n",
       "        vertical-align: top;\n",
       "    }\n",
       "\n",
       "    .dataframe thead th {\n",
       "        text-align: right;\n",
       "    }\n",
       "</style>\n",
       "<table border=\"1\" class=\"dataframe\">\n",
       "  <thead>\n",
       "    <tr style=\"text-align: right;\">\n",
       "      <th></th>\n",
       "      <th>Word</th>\n",
       "      <th>Count</th>\n",
       "      <th>Sentiment</th>\n",
       "    </tr>\n",
       "  </thead>\n",
       "  <tbody>\n",
       "    <tr>\n",
       "      <th>0</th>\n",
       "      <td>10</td>\n",
       "      <td>10</td>\n",
       "      <td>Neutral</td>\n",
       "    </tr>\n",
       "    <tr>\n",
       "      <th>1</th>\n",
       "      <td>100</td>\n",
       "      <td>9</td>\n",
       "      <td>Neutral</td>\n",
       "    </tr>\n",
       "    <tr>\n",
       "      <th>2</th>\n",
       "      <td>101</td>\n",
       "      <td>1</td>\n",
       "      <td>Neutral</td>\n",
       "    </tr>\n",
       "    <tr>\n",
       "      <th>3</th>\n",
       "      <td>1014</td>\n",
       "      <td>1</td>\n",
       "      <td>Neutral</td>\n",
       "    </tr>\n",
       "    <tr>\n",
       "      <th>4</th>\n",
       "      <td>1031</td>\n",
       "      <td>2</td>\n",
       "      <td>Neutral</td>\n",
       "    </tr>\n",
       "  </tbody>\n",
       "</table>\n",
       "</div>"
      ],
      "text/plain": [
       "   Word  Count Sentiment\n",
       "0    10     10   Neutral\n",
       "1   100      9   Neutral\n",
       "2   101      1   Neutral\n",
       "3  1014      1   Neutral\n",
       "4  1031      2   Neutral"
      ]
     },
     "execution_count": 36,
     "metadata": {},
     "output_type": "execute_result"
    }
   ],
   "source": [
    "count_dtm_dataframe.head()"
   ]
  },
  {
   "cell_type": "code",
   "execution_count": 37,
   "metadata": {
    "ExecuteTime": {
     "end_time": "2021-04-14T06:10:51.159989Z",
     "start_time": "2021-04-14T06:10:51.151014Z"
    }
   },
   "outputs": [],
   "source": [
    "# separating positive words\n",
    "positive_words_df= count_dtm_dataframe.loc[count_dtm_dataframe['Sentiment']=='Positive',:].sort_values('Count',ascending=False)"
   ]
  },
  {
   "cell_type": "code",
   "execution_count": 38,
   "metadata": {
    "ExecuteTime": {
     "end_time": "2021-04-14T06:10:51.968172Z",
     "start_time": "2021-04-14T06:10:51.957202Z"
    }
   },
   "outputs": [
    {
     "data": {
      "text/html": [
       "<div>\n",
       "<style scoped>\n",
       "    .dataframe tbody tr th:only-of-type {\n",
       "        vertical-align: middle;\n",
       "    }\n",
       "\n",
       "    .dataframe tbody tr th {\n",
       "        vertical-align: top;\n",
       "    }\n",
       "\n",
       "    .dataframe thead th {\n",
       "        text-align: right;\n",
       "    }\n",
       "</style>\n",
       "<table border=\"1\" class=\"dataframe\">\n",
       "  <thead>\n",
       "    <tr style=\"text-align: right;\">\n",
       "      <th></th>\n",
       "      <th>Word</th>\n",
       "      <th>Count</th>\n",
       "      <th>Sentiment</th>\n",
       "    </tr>\n",
       "  </thead>\n",
       "  <tbody>\n",
       "    <tr>\n",
       "      <th>1022</th>\n",
       "      <td>great</td>\n",
       "      <td>139</td>\n",
       "      <td>Positive</td>\n",
       "    </tr>\n",
       "    <tr>\n",
       "      <th>278</th>\n",
       "      <td>best</td>\n",
       "      <td>99</td>\n",
       "      <td>Positive</td>\n",
       "    </tr>\n",
       "    <tr>\n",
       "      <th>1739</th>\n",
       "      <td>professional</td>\n",
       "      <td>70</td>\n",
       "      <td>Positive</td>\n",
       "    </tr>\n",
       "    <tr>\n",
       "      <th>746</th>\n",
       "      <td>easy</td>\n",
       "      <td>65</td>\n",
       "      <td>Positive</td>\n",
       "    </tr>\n",
       "    <tr>\n",
       "      <th>1095</th>\n",
       "      <td>highly</td>\n",
       "      <td>64</td>\n",
       "      <td>Positive</td>\n",
       "    </tr>\n",
       "    <tr>\n",
       "      <th>2257</th>\n",
       "      <td>thanks</td>\n",
       "      <td>61</td>\n",
       "      <td>Positive</td>\n",
       "    </tr>\n",
       "    <tr>\n",
       "      <th>2207</th>\n",
       "      <td>sure</td>\n",
       "      <td>51</td>\n",
       "      <td>Positive</td>\n",
       "    </tr>\n",
       "    <tr>\n",
       "      <th>64</th>\n",
       "      <td>able</td>\n",
       "      <td>47</td>\n",
       "      <td>Positive</td>\n",
       "    </tr>\n",
       "    <tr>\n",
       "      <th>1008</th>\n",
       "      <td>good</td>\n",
       "      <td>39</td>\n",
       "      <td>Positive</td>\n",
       "    </tr>\n",
       "    <tr>\n",
       "      <th>1056</th>\n",
       "      <td>happy</td>\n",
       "      <td>37</td>\n",
       "      <td>Positive</td>\n",
       "    </tr>\n",
       "    <tr>\n",
       "      <th>1785</th>\n",
       "      <td>quick</td>\n",
       "      <td>37</td>\n",
       "      <td>Positive</td>\n",
       "    </tr>\n",
       "    <tr>\n",
       "      <th>967</th>\n",
       "      <td>friendly</td>\n",
       "      <td>36</td>\n",
       "      <td>Positive</td>\n",
       "    </tr>\n",
       "    <tr>\n",
       "      <th>1520</th>\n",
       "      <td>new</td>\n",
       "      <td>32</td>\n",
       "      <td>Positive</td>\n",
       "    </tr>\n",
       "    <tr>\n",
       "      <th>131</th>\n",
       "      <td>amazing</td>\n",
       "      <td>31</td>\n",
       "      <td>Positive</td>\n",
       "    </tr>\n",
       "    <tr>\n",
       "      <th>1818</th>\n",
       "      <td>really</td>\n",
       "      <td>31</td>\n",
       "      <td>Positive</td>\n",
       "    </tr>\n",
       "    <tr>\n",
       "      <th>820</th>\n",
       "      <td>excellent</td>\n",
       "      <td>30</td>\n",
       "      <td>Positive</td>\n",
       "    </tr>\n",
       "    <tr>\n",
       "      <th>235</th>\n",
       "      <td>available</td>\n",
       "      <td>29</td>\n",
       "      <td>Positive</td>\n",
       "    </tr>\n",
       "    <tr>\n",
       "      <th>1950</th>\n",
       "      <td>right</td>\n",
       "      <td>28</td>\n",
       "      <td>Positive</td>\n",
       "    </tr>\n",
       "    <tr>\n",
       "      <th>2090</th>\n",
       "      <td>smooth</td>\n",
       "      <td>27</td>\n",
       "      <td>Positive</td>\n",
       "    </tr>\n",
       "    <tr>\n",
       "      <th>280</th>\n",
       "      <td>better</td>\n",
       "      <td>26</td>\n",
       "      <td>Positive</td>\n",
       "    </tr>\n",
       "  </tbody>\n",
       "</table>\n",
       "</div>"
      ],
      "text/plain": [
       "              Word  Count Sentiment\n",
       "1022         great    139  Positive\n",
       "278           best     99  Positive\n",
       "1739  professional     70  Positive\n",
       "746           easy     65  Positive\n",
       "1095        highly     64  Positive\n",
       "2257        thanks     61  Positive\n",
       "2207          sure     51  Positive\n",
       "64            able     47  Positive\n",
       "1008          good     39  Positive\n",
       "1056         happy     37  Positive\n",
       "1785         quick     37  Positive\n",
       "967       friendly     36  Positive\n",
       "1520           new     32  Positive\n",
       "131        amazing     31  Positive\n",
       "1818        really     31  Positive\n",
       "820      excellent     30  Positive\n",
       "235      available     29  Positive\n",
       "1950         right     28  Positive\n",
       "2090        smooth     27  Positive\n",
       "280         better     26  Positive"
      ]
     },
     "execution_count": 38,
     "metadata": {},
     "output_type": "execute_result"
    }
   ],
   "source": [
    "positive_words_df.head(20)"
   ]
  },
  {
   "cell_type": "code",
   "execution_count": 39,
   "metadata": {
    "ExecuteTime": {
     "end_time": "2021-04-14T06:10:56.447658Z",
     "start_time": "2021-04-14T06:10:55.773677Z"
    }
   },
   "outputs": [
    {
     "data": {
      "image/png": "[encoded data removed]",
      "text/plain": [
       "<Figure size 576x576 with 1 Axes>"
      ]
     },
     "metadata": {
      "needs_background": "light"
     },
     "output_type": "display_data"
    }
   ],
   "source": [
    "# plotting word cloud of 10 most frequently used positive words\n",
    "wordcloud = WordCloud(width = 1000, height = 500).generate(' '.join(positive_words_df.iloc[0:11,0]))\n",
    "# plot the WordCloud image                        \n",
    "plt.figure(figsize = (8, 8), facecolor = None) \n",
    "plt.imshow(wordcloud) \n",
    "plt.axis(\"off\") \n",
    "plt.tight_layout(pad = 0) \n",
    "  \n",
    "plt.show()"
   ]
  },
  {
   "cell_type": "code",
   "execution_count": null,
   "metadata": {},
   "outputs": [],
   "source": [
    "# separating negative words\n",
    "negative_words_df= count_dtm_dataframe.loc[count_dtm_dataframe['Sentiment']=='Negative',:].sort_values('Count',ascending=False)"
   ]
  },
  {
   "cell_type": "code",
   "execution_count": null,
   "metadata": {},
   "outputs": [],
   "source": [
    "negative_words_df.head(10)"
   ]
  },
  {
   "cell_type": "code",
   "execution_count": null,
   "metadata": {},
   "outputs": [],
   "source": [
    "# plotting word cloud of 10 most frequently used negative words\n",
    "wordcloud = WordCloud(width = 1000, height = 500).generate(' '.join(negative_words_df.iloc[0:11,0]))\n",
    "# plot the WordCloud image                        \n",
    "plt.figure(figsize = (8, 8), facecolor = None) \n",
    "plt.imshow(wordcloud) \n",
    "plt.axis(\"off\") \n",
    "plt.tight_layout(pad = 0) \n",
    "  \n",
    "plt.show()"
   ]
  },
  {
   "cell_type": "markdown",
   "metadata": {},
   "source": [
    "### Topic Modelling"
   ]
  },
  {
   "cell_type": "markdown",
   "metadata": {},
   "source": [
    "#### Splitting the data into train and test"
   ]
  },
  {
   "cell_type": "code",
   "execution_count": null,
   "metadata": {},
   "outputs": [],
   "source": [
    "train_X,test_X,train_Y,test_Y = train_test_split(X,Y,random_state = 123, test_size = 0.2)"
   ]
  },
  {
   "cell_type": "code",
   "execution_count": null,
   "metadata": {},
   "outputs": [],
   "source": [
    "print('No.of observations in train_X: ',len(train_X), '| No.of observations in test_X: ',len(test_X))\n",
    "print('No.of observations in train_Y: ',len(train_Y), '| No.of observations in test_Y: ',len(test_Y))"
   ]
  },
  {
   "cell_type": "markdown",
   "metadata": {},
   "source": [
    "### Feature Generation using DTM and TDM"
   ]
  },
  {
   "cell_type": "markdown",
   "metadata": {},
   "source": [
    "#### Feature generation using DTM"
   ]
  },
  {
   "cell_type": "code",
   "execution_count": null,
   "metadata": {},
   "outputs": [],
   "source": [
    "vect = CountVectorizer(strip_accents='unicode', stop_words='english', ngram_range=(1,1),min_df=0.001,max_df=0.95)"
   ]
  },
  {
   "cell_type": "code",
   "execution_count": null,
   "metadata": {},
   "outputs": [],
   "source": [
    "#train_X_fit = vect.fit(train_X)\n",
    "#train_X_dtm = vect.transform(train_X)\n",
    "train_X_dtm = vect.fit_transform(train_X)\n",
    "test_X_dtm = vect.transform(test_X)"
   ]
  },
  {
   "cell_type": "code",
   "execution_count": null,
   "metadata": {},
   "outputs": [],
   "source": [
    "print(train_X_dtm)"
   ]
  },
  {
   "cell_type": "code",
   "execution_count": null,
   "metadata": {},
   "outputs": [],
   "source": [
    "print(test_X_dtm)"
   ]
  },
  {
   "cell_type": "code",
   "execution_count": null,
   "metadata": {},
   "outputs": [],
   "source": [
    "vect.get_feature_names()"
   ]
  },
  {
   "cell_type": "code",
   "execution_count": null,
   "metadata": {},
   "outputs": [],
   "source": [
    "print('No.of features for are',len(vect.get_feature_names()))"
   ]
  },
  {
   "cell_type": "code",
   "execution_count": null,
   "metadata": {},
   "outputs": [],
   "source": [
    "train_X_dtm_df = pd.DataFrame(train_X_dtm.toarray(),columns=vect.get_feature_names())"
   ]
  },
  {
   "cell_type": "code",
   "execution_count": null,
   "metadata": {},
   "outputs": [],
   "source": [
    "train_X_dtm_df.head()"
   ]
  },
  {
   "cell_type": "code",
   "execution_count": null,
   "metadata": {},
   "outputs": [],
   "source": [
    "# Finding how many times a tem is used in corpus\n",
    "train_dtm_freq = np.sum(train_X_dtm_df,axis=0)\n",
    "train_dtm_freq"
   ]
  },
  {
   "cell_type": "markdown",
   "metadata": {},
   "source": [
    "#### Feature generation using TDM"
   ]
  },
  {
   "cell_type": "code",
   "execution_count": null,
   "metadata": {},
   "outputs": [],
   "source": [
    "vect_tdm = TfidfVectorizer(strip_accents='unicode', stop_words='english', ngram_range=(1,1),min_df=0.001,max_df=0.95)"
   ]
  },
  {
   "cell_type": "code",
   "execution_count": null,
   "metadata": {},
   "outputs": [],
   "source": [
    "train_X_tdm = vect_tdm.fit_transform(train_X)\n",
    "test_X_tdm = vect.transform(test_X)"
   ]
  },
  {
   "cell_type": "code",
   "execution_count": null,
   "metadata": {},
   "outputs": [],
   "source": [
    "print('No.of features for are',len(vect_tdm.get_feature_names()))"
   ]
  },
  {
   "cell_type": "code",
   "execution_count": null,
   "metadata": {},
   "outputs": [],
   "source": [
    "# creating dataframe to to see which features are present in the documents\n",
    "train_X_tdm_df = pd.DataFrame(train_X_tdm.toarray(),columns=vect_tdm.get_feature_names())\n"
   ]
  },
  {
   "cell_type": "code",
   "execution_count": null,
   "metadata": {},
   "outputs": [],
   "source": [
    "train_X_tdm_df.head()"
   ]
  },
  {
   "cell_type": "code",
   "execution_count": null,
   "metadata": {},
   "outputs": [],
   "source": [
    "# Finding how many times a tem is used in corpus\n",
    "train_dtm_freq = np.sum(train_X_dtm_df,axis=0)\n",
    "train_dtm_freq"
   ]
  },
  {
   "cell_type": "markdown",
   "metadata": {},
   "source": [
    "### Building Model\n",
    "#### Building Model on DTM"
   ]
  },
  {
   "cell_type": "code",
   "execution_count": null,
   "metadata": {},
   "outputs": [],
   "source": [
    "# building naive bayes model on DTM\n",
    "naive_model = MultinomialNB()\n",
    "naive_model.fit(train_X_dtm,train_Y)"
   ]
  },
  {
   "cell_type": "code",
   "execution_count": null,
   "metadata": {},
   "outputs": [],
   "source": [
    "predict_train = naive_model.predict(train_X_dtm)\n",
    "predict_test = naive_model.predict(test_X_dtm)"
   ]
  },
  {
   "cell_type": "code",
   "execution_count": null,
   "metadata": {},
   "outputs": [],
   "source": [
    "len(predict_test)"
   ]
  },
  {
   "cell_type": "code",
   "execution_count": null,
   "metadata": {},
   "outputs": [],
   "source": [
    "print('Accuracy on train: ',metrics.accuracy_score(train_Y,predict_train))\n",
    "print('Accuracy on test: ',metrics.accuracy_score(test_Y,predict_test))"
   ]
  },
  {
   "cell_type": "code",
   "execution_count": null,
   "metadata": {},
   "outputs": [],
   "source": [
    "# predict probabilities on train and test\n",
    "predict_prob_train = naive_model.predict_proba(train_X_dtm)[:,1]\n",
    "predict_prob_test = naive_model.predict_proba(test_X_dtm)[:,1]"
   ]
  },
  {
   "cell_type": "code",
   "execution_count": null,
   "metadata": {},
   "outputs": [],
   "source": [
    "print('ROC_AUC score on train: ',metrics.roc_auc_score(train_Y,predict_prob_train))\n",
    "print('ROC_AUC score on test: ',metrics.roc_auc_score(test_Y,predict_prob_test))"
   ]
  },
  {
   "cell_type": "code",
   "execution_count": null,
   "metadata": {},
   "outputs": [],
   "source": [
    "# confusion matrix on test \n",
    "cm_test = metrics.confusion_matrix(test_Y,predict_test)"
   ]
  },
  {
   "cell_type": "code",
   "execution_count": null,
   "metadata": {},
   "outputs": [],
   "source": [
    "cm_test"
   ]
  },
  {
   "cell_type": "code",
   "execution_count": null,
   "metadata": {},
   "outputs": [],
   "source": [
    "import seaborn as sns\n",
    "sns.heatmap(cm_test,annot=True,xticklabels=[1,5],yticklabels=[1,5])\n",
    "plt.xlabel('Predicted')\n",
    "plt.ylabel('Actual')\n",
    "plt.show()"
   ]
  },
  {
   "cell_type": "markdown",
   "metadata": {},
   "source": [
    "#### Building Model on TDM"
   ]
  },
  {
   "cell_type": "code",
   "execution_count": null,
   "metadata": {},
   "outputs": [],
   "source": [
    "# building naive bayes model on TDM\n",
    "naive_model = MultinomialNB()\n",
    "naive_model.fit(train_X_tdm,train_Y)"
   ]
  },
  {
   "cell_type": "code",
   "execution_count": null,
   "metadata": {},
   "outputs": [],
   "source": [
    "predict_train = naive_model.predict(train_X_tdm)\n",
    "predict_test = naive_model.predict(test_X_tdm)"
   ]
  },
  {
   "cell_type": "code",
   "execution_count": null,
   "metadata": {},
   "outputs": [],
   "source": [
    "len(predict_test)"
   ]
  },
  {
   "cell_type": "code",
   "execution_count": null,
   "metadata": {},
   "outputs": [],
   "source": [
    "print('Accuracy on train: ',metrics.accuracy_score(train_Y,predict_train))\n",
    "print('Accuracy on test: ',metrics.accuracy_score(test_Y,predict_test))"
   ]
  },
  {
   "cell_type": "code",
   "execution_count": null,
   "metadata": {},
   "outputs": [],
   "source": [
    "# predict probabilities on train and test\n",
    "predict_prob_train = naive_model.predict_proba(train_X_tdm)[:,1]\n",
    "predict_prob_test = naive_model.predict_proba(test_X_tdm)[:,1]"
   ]
  },
  {
   "cell_type": "code",
   "execution_count": null,
   "metadata": {},
   "outputs": [],
   "source": [
    "print('ROC_AUC score on train: ',metrics.roc_auc_score(train_Y,predict_prob_train))\n",
    "print('ROC_AUC score on test: ',metrics.roc_auc_score(test_Y,predict_prob_test))"
   ]
  },
  {
   "cell_type": "code",
   "execution_count": null,
   "metadata": {},
   "outputs": [],
   "source": [
    "# confusion matrix on test \n",
    "cm_test = metrics.confusion_matrix(test_Y,predict_test, labels=[1,5])"
   ]
  },
  {
   "cell_type": "code",
   "execution_count": null,
   "metadata": {},
   "outputs": [],
   "source": [
    "cm_test"
   ]
  },
  {
   "cell_type": "code",
   "execution_count": null,
   "metadata": {},
   "outputs": [],
   "source": [
    "tn, fp, fn, tp = metrics.confusion_matrix(test_Y,predict_test).ravel()\n",
    "tn, fp, fn, tp"
   ]
  },
  {
   "cell_type": "code",
   "execution_count": null,
   "metadata": {},
   "outputs": [],
   "source": [
    "import seaborn as sns\n",
    "sns.heatmap(cm_test,annot=True,xticklabels=[1,5],yticklabels=[1,5])\n",
    "plt.xlabel('Predicted')\n",
    "plt.ylabel('Actual')\n",
    "plt.show()"
   ]
  },
  {
   "cell_type": "markdown",
   "metadata": {},
   "source": [
    "Model showed better results using DTM values and using unigrams."
   ]
  }
 ],
 "metadata": {
  "kernelspec": {
   "display_name": "Python 3",
   "language": "python",
   "name": "python3"
  },
  "language_info": {
   "codemirror_mode": {
    "name": "ipython",
    "version": 3
   },
   "file_extension": ".py",
   "mimetype": "text/x-python",
   "name": "python",
   "nbconvert_exporter": "python",
   "pygments_lexer": "ipython3",
   "version": "3.7.7"
  }
 },
 "nbformat": 4,
 "nbformat_minor": 4
}
