{
 "cells": [
  {
   "cell_type": "markdown",
   "metadata": {},
   "source": [
    "# SQL 3 Exercises\n",
    "\n",
    "---"
   ]
  },
  {
   "cell_type": "markdown",
   "metadata": {},
   "source": [
    "## Question 1\n",
    "\n",
    "Write SQL statements to create the tables `employee` & `department` with the following constraints and attributes respectively. You can test your statements by running the SQL statement in your MariaDB.\n",
    "\n",
    "| Table | Attributes |\n",
    "|:---|:---|\n",
    "| employee | id (PK, char(5))<br>name (not null, varchar)<br>deptID (fk dept(dept_id), char(5))<br>salary (int, 22000 < salary<  50000)<br>insurance_opted (char, default value 'Y') |\n",
    "| department | dept_id (Unique, not null, char(5))<br>name (unique, varchar) |\n"
   ]
  },
  {
   "cell_type": "markdown",
   "metadata": {},
   "source": [
    "**Answer**\n",
    "```sql\n",
    "CREATE TABLE department(dept_id CHAR(5) NOT NULL UNIQUE,\n",
    "name VARCHAR(20) UNIQUE);\n",
    "\n",
    "\n",
    "CREATE TABLE employee (ID CHAR(5),\n",
    "name VARCHAR(20) NOT NULL,\n",
    "deptid CHAR(5),\n",
    "salary INT,\n",
    "insurance_opted CHAR(1) DEFAULT 'Y',\n",
    "PRIMARY KEY(ID), \n",
    "FOREIGN KEY(deptid) REFERENCES department(dept_id),\n",
    "CHECK(salary > 22000 AND salary < 50000));\n",
    "```"
   ]
  },
  {
   "cell_type": "markdown",
   "metadata": {},
   "source": [
    "## Question 2\n",
    "In this question we are going to investigate how we can call a stored procedure from a trigger\n",
    "\n",
    "1. Write the SQL statement to create a table called `accounts` with the following constraints in MariaDB. Then insert a few records into the table.\n",
    "\n",
    "| Table | Attributes |\n",
    "|:---|:---|\n",
    "| accounts | acct_id (PK, auto increment)<br>name (not null, varchar)<br>amount (decimal(10,2), not null, amount>=0) |"
   ]
  },
  {
   "cell_type": "markdown",
   "metadata": {},
   "source": [
    "**Answer**\n",
    "```sql\n",
    "CREATE TABLE accounts (\n",
    "    acct_id INT AUTO_INCREMENT,\n",
    "    name VARCHAR(100) NOT NULL,\n",
    "    amount DECIMAL(10 , 2 ) NOT NULL ,\n",
    "    PRIMARY KEY (acct_id),\n",
    "    CHECK(amount >= 0) \n",
    ");\n",
    "```"
   ]
  },
  {
   "cell_type": "markdown",
   "metadata": {},
   "source": [
    "2. Write a stored procedure that withdraws from an account. Remember to use the `DELIMITER` keyword.<br>\n",
    " **Pseudocode:**\n",
    " ```\n",
    " if withrawal amount is <= 0\n",
    "     throw SQL exception with message\n",
    " \n",
    " update the accounts table\n",
    " ```"
   ]
  },
  {
   "cell_type": "markdown",
   "metadata": {},
   "source": [
    "**Answer**\n",
    "```sql\n",
    "DELIMITER //\n",
    "\n",
    "CREATE PROCEDURE Withdraw(IN fromAccountId INT, IN withdrawAmount DEC(10,2))\n",
    "BEGIN\n",
    "    IF withdrawAmount <= 0 THEN\n",
    "        SIGNAL SQLSTATE '45000' \n",
    "            SET MESSAGE_TEXT = 'The withdrawal amount must be greater than zero';\n",
    "    END IF;\n",
    "    \n",
    "    UPDATE accounts \n",
    "    SET amount = amount - withdrawAmount\n",
    "    WHERE acct_id = fromAccountId;\n",
    "END //\n",
    "\n",
    "DELIMITER ;\n",
    "```"
   ]
  },
  {
   "cell_type": "markdown",
   "metadata": {},
   "source": [
    "3. Write a stored procedure that checks the withdrawal from an account. Remember to use the DELIMITER keyword.<br>\n",
    " **Logic:**\n",
    " ```\n",
    " declare some variables\n",
    " using a select statement get the current balance out from the account table and store it\n",
    " \n",
    " store the new balance amount after the withdrawal\n",
    " if new balance amount < 2 /* minimum balance to maintain */\n",
    "     throw SQL exception with message (you may need to refer to mariadb docs to see the string functions)\n",
    " ```"
   ]
  },
  {
   "cell_type": "markdown",
   "metadata": {},
   "source": [
    "**Answer**\n",
    "\n",
    "```sql\n",
    "DELIMITER //\n",
    "\n",
    "CREATE PROCEDURE CheckWithdrawal(IN fromAccountId INT, IN withdrawAmount DEC(10,2))\n",
    "BEGIN\n",
    "    DECLARE balance DEC(10,2);\n",
    "    DECLARE newBal DEC(10,2);\n",
    "    DECLARE message VARCHAR(255);\n",
    "\n",
    "    -- get current balance of the account\n",
    "    SELECT amount INTO balance FROM accounts\n",
    "    WHERE acct_id = fromAccountId;\n",
    "    \n",
    "    -- check balance\n",
    "    SET newBal = balance - withdrawAmount;\n",
    "\n",
    "    IF newBal < 2 THEN\n",
    "        SET message = CONCAT('Insufficient amount, your balance is ', balance);\n",
    "        SIGNAL SQLSTATE '45000' \n",
    "            SET MESSAGE_TEXT = message;\n",
    "    END IF;\n",
    "END //\n",
    "\n",
    "DELIMITER ;\n",
    "```"
   ]
  },
  {
   "cell_type": "markdown",
   "metadata": {},
   "source": [
    "4. Test your stored procedure from step 3 before moving on to step 5. Refer to the lecture notes on how to invoke a stored procedure.\n",
    "\n",
    "5. Write a trigger that calls the stored procedure from step 3. This trigger is to fire **before the update** to the `accounts` table.<br>\n",
    " **Hint**: Invoke the stored procedure from within the `BEGIN...END` block in the trigger."
   ]
  },
  {
   "cell_type": "markdown",
   "metadata": {},
   "source": [
    "**Answer**\n",
    "```sql\n",
    "DELIMITER //\n",
    "\n",
    "CREATE TRIGGER before_accounts_update\n",
    "BEFORE UPDATE\n",
    "ON accounts FOR EACH ROW\n",
    "BEGIN\n",
    "    CALL CheckWithdrawal (\n",
    "        OLD.acct_id, \n",
    "        OLD.amount - NEW.amount\n",
    "    );\n",
    "END //\n",
    "\n",
    "DELIMITER ;\n",
    "```"
   ]
  },
  {
   "cell_type": "markdown",
   "metadata": {},
   "source": [
    "6. Test your transaction by invoking the stored procedure in step 2. Use `SELECT` statements to check your results. You can reset the account amounts using the regular `UPDATE` statements."
   ]
  },
  {
   "cell_type": "markdown",
   "metadata": {},
   "source": [
    "**Answer**\n",
    "```sql\n",
    "/* withdrawing from account 1 */\n",
    "CALL withdraw(1,25);\n",
    "\n",
    "SELECT * FROM accounts;\n",
    "```"
   ]
  },
  {
   "cell_type": "markdown",
   "metadata": {},
   "source": [
    "## Question 3\n",
    "\n",
    "In this question we are going to investigate how we can chain triggers on the same table.\n",
    "\n",
    "From the lecture, the general syntax for a Trigger is:\n",
    "```sql\n",
    "CREATE TRIGGER trigger_name\n",
    "{BEFORE | AFTER} {INSERT | UPDATE | DELETE }\n",
    "ON table_name FOR EACH ROW\n",
    "[{ FOLLOWS | PRECEDES } other_trigger_name ]\n",
    "trigger_body;\n",
    "```\n",
    "\n",
    "the `FOLLOWS` & `PRECEDES` specifies whether the other trigger should be invoked before or after an existing trigger.\n",
    "\n",
    "To keep this investigation small, we will import the tables from the file `chaining_triggers.sql` (use the same instructions for importing databases into MariaDB as in SQL 2 Exercise). Once imported you should have the following tables and some data included in the `products` table.\n",
    "\n",
    "```\n",
    "products(productCode PK, productName, productLine, productScale, productVendor, productDescription, quantityInStock, buyPrice, MSRP)\n",
    "priceLogs(id PK, productCode FK, price, updated_at)\n",
    "userChangeLogs(id PK, productCode FK, updatedAt, updatedBy)\n",
    "```\n",
    "You are encouraged to open the file to see how it is structured. \n",
    "\n",
    "**Objective**<br>\n",
    "Log the changes made to the the price of a product (column `MSRP` in the `products` table) when it's updated.\n",
    "\n",
    "1. Create a Trigger that inserts a record to the `pricelogs` table **before the update** to the `products` table, `MSRP` column. The column `updated_at` can be omitted because the constraint attached to that attribute ensures that it will get filled with a value upon creation.  "
   ]
  },
  {
   "cell_type": "markdown",
   "metadata": {},
   "source": [
    "**Answer**\n",
    "```sql\n",
    "DELIMITER //\n",
    "\n",
    "CREATE TRIGGER before_products_update \n",
    "   BEFORE UPDATE ON products \n",
    "   FOR EACH ROW \n",
    "BEGIN\n",
    "     IF OLD.msrp <> NEW.msrp THEN\n",
    "         INSERT INTO PriceLogs(productCode,price)\n",
    "         VALUES(old.productCode,old.msrp);\n",
    "     END IF;\n",
    "END //\n",
    "\n",
    "DELIMITER ;\n",
    "```"
   ]
  },
  {
   "cell_type": "markdown",
   "metadata": {},
   "source": [
    "2. Test your trigger by updating the `MSRP` price of any record in the `products` table. You should see a record get created in the `pricelogs` table.\n",
    "\n",
    "3. Create another Trigger that inserts a record to the `userChangeLogs` tables **before the update** to the `products` table, `MSRP` column. This trigger is to be activated **after** the trigger created in step 1. Again the `updatedAt` column can be omitted because the constraint attached to that attribute ensures that it will get filled with a value upon creation. However, to get the current user id, use the `USER()` function."
   ]
  },
  {
   "cell_type": "markdown",
   "metadata": {},
   "source": [
    "**Answer**\n",
    "```sql\n",
    "DELIMITER //\n",
    "\n",
    "CREATE TRIGGER before_products_update_log_user\n",
    "   BEFORE UPDATE ON products \n",
    "   FOR EACH ROW \n",
    "   FOLLOWS before_products_update\n",
    "BEGIN\n",
    "    IF OLD.msrp <> NEW.msrp THEN\n",
    "    INSERT INTO UserChangeLogs(productCode, updatedBy)\n",
    "        VALUES (OLD.productCode, USER());\n",
    "    END IF;\n",
    "END //\n",
    "\n",
    "DELIMITER ;\n",
    "```"
   ]
  },
  {
   "cell_type": "markdown",
   "metadata": {},
   "source": [
    "4. Test the tigger created in step 3 by updating the `MSRP` price of any record in the `products` table. You should now see a record created in both the `pricelogs` and `userChangeLogs` table.\n",
    "\n",
    "**Bonus**<br>\n",
    "Sometimes we need to check the trigger order of the created triggers. This information is stored in the `information_schema` database, `triggers` table. We can access it via the following SQL\n",
    "\n",
    "```sql\n",
    "SELECT \n",
    "    trigger_name, \n",
    "    action_order\n",
    "FROM\n",
    "    information_schema.triggers\n",
    "WHERE\n",
    "    trigger_schema = <database_name>\n",
    "ORDER BY \n",
    "    event_object_table , \n",
    "    action_timing , \n",
    "    event_manipulation;\n",
    "```"
   ]
  }
 ],
 "metadata": {
  "kernelspec": {
   "display_name": "Python 3",
   "language": "python",
   "name": "python3"
  },
  "language_info": {
   "codemirror_mode": {
    "name": "ipython",
    "version": 3
   },
   "file_extension": ".py",
   "mimetype": "text/x-python",
   "name": "python",
   "nbconvert_exporter": "python",
   "pygments_lexer": "ipython3",
   "version": "3.8.3"
  }
 },
 "nbformat": 4,
 "nbformat_minor": 4
}
