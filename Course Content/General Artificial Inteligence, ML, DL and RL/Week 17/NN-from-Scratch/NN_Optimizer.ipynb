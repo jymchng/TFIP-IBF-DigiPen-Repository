{
 "cells": [
  {
   "cell_type": "code",
   "execution_count": 1,
   "metadata": {},
   "outputs": [],
   "source": [
    "import numpy as np\n",
    "\n",
    "# Optimizations module - implements various optimization functions\n",
    "\n",
    "def vanilla_gd(params, grad1, grad2):\n",
    "    # The vanilla gradient descent algorithm\n",
    "    # w_new = w_old - lr * grad\n",
    "    if len(params) == 0:\n",
    "        raise ValueError(\"params must have a length of at least one, and params[0] should be the learning rate.\")\n",
    "    learning_rate = params[0]\n",
    "    w1_update, w2_update = learning_rate * grad1, learning_rate * grad2\n",
    "    return w1_update, w2_update\n",
    "\n",
    "def momentum_optimizer(params, grad1, grad2, prev_grad_1, prev_grad_2, nesterov = False):\n",
    "    # Gradient descent with momentum.\n",
    "    learning_rate = params[0]\n",
    "    momentum_rate = params[1]\n",
    "\n",
    "    w1_update, w2_update = learning_rate * grad1, learning_rate * grad2\n",
    "\n",
    "    if nesterov:\n",
    "        # momentum update is the same\n",
    "        v1 = momentum_rate * prev_grad_1 - w1_update\n",
    "        # gradient is taken at the place where the momentum takes the param\n",
    "        v2 = momentum_rate * prev_grad_2 - w2_update\n",
    "        w1_update = momentum_rate * prev_grad_1 - (1 + momentum_rate) * v1\n",
    "        w2_update = momentum_rate * prev_grad_2 - (1 + momentum_rate) * v2\n",
    "    else:\n",
    "        # the update just takes on an additional constant * the previous gradient.\n",
    "        w1_update = (w1_update + momentum_rate * prev_grad_1)\n",
    "        w2_update = (w2_update + momentum_rate * prev_grad_2)\n",
    "\n",
    "    return w1_update, w2_update"
   ]
  },
  {
   "cell_type": "code",
   "execution_count": null,
   "metadata": {},
   "outputs": [],
   "source": []
  }
 ],
 "metadata": {
  "kernelspec": {
   "display_name": "Python 3",
   "language": "python",
   "name": "python3"
  },
  "language_info": {
   "codemirror_mode": {
    "name": "ipython",
    "version": 3
   },
   "file_extension": ".py",
   "mimetype": "text/x-python",
   "name": "python",
   "nbconvert_exporter": "python",
   "pygments_lexer": "ipython3",
   "version": "3.8.3"
  }
 },
 "nbformat": 4,
 "nbformat_minor": 4
}
