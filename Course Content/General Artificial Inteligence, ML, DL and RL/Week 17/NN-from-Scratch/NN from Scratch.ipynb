{
 "cells": [
  {
   "cell_type": "markdown",
   "metadata": {},
   "source": [
    "### NN Demo\n",
    "\n",
    "* Optimizer function\n",
    "* Neural Network function"
   ]
  },
  {
   "cell_type": "code",
   "execution_count": null,
   "metadata": {},
   "outputs": [],
   "source": [
    "import numpy as np\n",
    "from NeuralNetwork import NeuralNetwork\n",
    "from load_mnist import MNIST_Loader"
   ]
  },
  {
   "cell_type": "code",
   "execution_count": null,
   "metadata": {},
   "outputs": [],
   "source": [
    "a = MNIST_Loader()\n",
    "X_train, y_train = a.load_mnist('./data')\n",
    "X_test, y_test = a.load_mnist('./data', 't10k')\n",
    "print X_train.shape\n",
    "print X_test.shape\n",
    "print y_train.shape\n",
    "print y_test.shape"
   ]
  },
  {
   "cell_type": "code",
   "execution_count": null,
   "metadata": {},
   "outputs": [],
   "source": [
    "nn = NeuralNetwork(n_output=10,\n",
    "                  n_features=X_train.shape[1],\n",
    "                  n_hidden=100,\n",
    "                  l2=0.1,\n",
    "                  epochs=10000,\n",
    "                  learning_rate=0.001,\n",
    "                  momentum_const=0.5,\n",
    "                  decay_rate=0.00001,\n",
    "                  dropout=True,\n",
    "                  minibatch_size=500, nesterov = True, check_gradients = False\n",
    "                 )"
   ]
  },
  {
   "cell_type": "code",
   "execution_count": null,
   "metadata": {},
   "outputs": [],
   "source": [
    "nn.fit(X_train, y_train)"
   ]
  },
  {
   "cell_type": "code",
   "execution_count": null,
   "metadata": {},
   "outputs": [],
   "source": []
  }
 ],
 "metadata": {
  "kernelspec": {
   "display_name": "Python 3",
   "language": "python",
   "name": "python3"
  },
  "language_info": {
   "codemirror_mode": {
    "name": "ipython",
    "version": 3
   },
   "file_extension": ".py",
   "mimetype": "text/x-python",
   "name": "python",
   "nbconvert_exporter": "python",
   "pygments_lexer": "ipython3",
   "version": "3.8.3"
  }
 },
 "nbformat": 4,
 "nbformat_minor": 4
}
