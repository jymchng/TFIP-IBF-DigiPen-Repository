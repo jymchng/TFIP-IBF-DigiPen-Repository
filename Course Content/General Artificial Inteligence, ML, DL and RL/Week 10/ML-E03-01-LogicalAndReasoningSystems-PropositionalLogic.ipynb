{
 "cells": [
  {
   "cell_type": "markdown",
   "metadata": {},
   "source": [
    "# Propositional Logic\n",
    "\n",
    "---\n",
    "\n",
    "1. Determine whether the following statements are propositions.\n",
    " 1. 1 + 1 = 2\n",
    " 2. 1 + 1 > 3\n",
    " 3. x = 1\n",
    " 4. Every month has 28 days.\n",
    " 5. Have you eaten?\n",
    " 6. This statement is false"
   ]
  },
  {
   "cell_type": "markdown",
   "metadata": {},
   "source": [
    "---\n",
    "\n",
    "2. What is the difference between the following logic symbols: $\\vee$ and $\\wedge$?\n"
   ]
  },
  {
   "cell_type": "markdown",
   "metadata": {},
   "source": [
    "---\n",
    "\n",
    "3. Using the truth table, prove that $\\neg (p\\wedge q)$ and $\\neg p \\vee q$ are the equivalent."
   ]
  },
  {
   "cell_type": "markdown",
   "metadata": {},
   "source": [
    "---\n",
    "\n",
    "4. Using the truth table, prove that following three statements are equivalent.\n",
    "- Harry is not married but Bob is not single  \n",
    "  $\\neg h \\wedge \\neg b$\n",
    "- Bob is not single and Harry is not married  \n",
    "  $\\neg b \\wedge \\neg h$\n",
    "- Neither Bob is single nor Harry is married  \n",
    "  $\\neg (b \\vee h)$"
   ]
  },
  {
   "cell_type": "markdown",
   "metadata": {},
   "source": [
    "--- \n",
    "\n",
    "5. Using the truth table, prove that $p \\Rightarrow q$ is equivalent to $\\neg p \\vee q$"
   ]
  },
  {
   "cell_type": "markdown",
   "metadata": {},
   "source": [
    "---\n",
    "\n",
    "6. Using the truth table, prove that $p \\Leftrightarrow q$ is equivalent to $(p \\Rightarrow q) \\wedge (q \\Rightarrow p)$"
   ]
  },
  {
   "cell_type": "markdown",
   "metadata": {},
   "source": [
    "---\n",
    "\n",
    "7. To practice some of the logical concepts we have studied so far, we will consider the well known puzzles of the island of knights and knaves.\n",
    "   The assumptions are that on this island:\n",
    " -  Knights always tell the truth.\n",
    " - Knaves always lie.  \n",
    "   \n",
    "   As a visitor, you will be told some statements, and you have to decide whether the islanders you are speaking with are knights or knaves. The general method will be to rewrite the claims of the islanders using propositional logic, and then to use truth tables to figure out the truth!\n",
    "   \n",
    "   For each of the statement, decide what islanders *A* and *B* are:\n",
    "   1. *A* says: \"I am a knave but he is not\".\n",
    "   2. *A* says: \"If I am a knight then so is he\".\n",
    "   3. *A* says: \"I am a knave or *B* is a knight\".\n",
    "   4. *A* says: \"I am a knave\"."
   ]
  },
  {
   "cell_type": "markdown",
   "metadata": {},
   "source": [
    "---\n",
    "\n",
    "During a murder investigation, you have gathered the following\n",
    "clues:\n",
    "1. if the knife is in the store room, then we saw it when we cleared the store room;\n",
    "2. the murder was committed at the basement or inside the apartment;\n",
    "3. if the murder was committed at the basement, then the knife is in the yellow dust bin;\n",
    "4. we did not see a knife when we cleared the store room;\n",
    "5. if the murder was committed outside the building, then we are unable to find the knife;\n",
    "6. if the murder was committed inside the apartment, then the knife is in the store room.\n",
    "\n",
    "So where is the knife?"
   ]
  }
 ],
 "metadata": {
  "kernelspec": {
   "display_name": "Python 3",
   "language": "python",
   "name": "python3"
  },
  "language_info": {
   "codemirror_mode": {
    "name": "ipython",
    "version": 3
   },
   "file_extension": ".py",
   "mimetype": "text/x-python",
   "name": "python",
   "nbconvert_exporter": "python",
   "pygments_lexer": "ipython3",
   "version": "3.7.7"
  }
 },
 "nbformat": 4,
 "nbformat_minor": 4
}
