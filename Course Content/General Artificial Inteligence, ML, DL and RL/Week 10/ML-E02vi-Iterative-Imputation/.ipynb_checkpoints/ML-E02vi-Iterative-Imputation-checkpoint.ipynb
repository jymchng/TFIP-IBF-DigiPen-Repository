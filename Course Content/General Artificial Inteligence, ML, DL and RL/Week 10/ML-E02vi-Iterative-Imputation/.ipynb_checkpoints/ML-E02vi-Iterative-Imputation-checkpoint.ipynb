{
 "cells": [
  {
   "cell_type": "markdown",
   "metadata": {},
   "source": [
    "# Iterative Imputation\n",
    "\n",
    "In the previous exercise, you have discovered how to use statistical imputation strategies for missing data in machine learning. Another approach involves defining a model to predict each missing feature as a function of all other features and to repeat this process of estimating feature values multiple times. The repetition allows the refined estimated values for other features to be used as input in subsequent iterations of predicting missing values. This is generally referred to as iterative imputation. In this exercise, you will discover how to use iterative imputation strategies for missing data in machine learning.\n",
    "\n",
    "After completing this exercise, you will know:\n",
    "- Missing values must be marked with NaN values and can be replaced with iteratively estimated values.\n",
    "- How to load a CSV value with missing values and mark the missing values with NaN values and report the number and percentage of missing values for each column.\n",
    "- How to impute missing values with iterative models as a data preparation method when evaluating models and when fitting a final model to make predictions on new data.\n",
    "\n",
    "---\n",
    "\n",
    "## 1. Exercise Overview\n",
    "\n",
    "This exercise is divided into three parts; they are:\n",
    "1. Iterative Imputation\n",
    "2. Horse Colic Dataset\n",
    "3. Iterative Imputation With IterativeImputer\n",
    "\n",
    "---\n",
    "\n",
    "## 2. Iterative Imputation\n",
    "\n",
    "One approach to imputing missing values is to use an iterative imputation model. Iterative imputation refers to a process where each feature is modeled as a function of the other features, e.g. a regression problem where missing values are predicted. Each feature is imputed sequentially, one after the other, allowing prior imputed values to be used as part of a model in predicting subsequent features.\n",
    "\n",
    "It is iterative because this process is repeated multiple times, allowing ever improved estimates of missing values to be calculated as missing values across all features are estimated. This approach may be generally referred to as fully conditional specification (FCS) or multivariate\n",
    "imputation by chained equations (MICE).\n",
    "\n",
    "This methodology is attractive if the multivariate distribution is a reasonable description of the data. FCS specifies the multivariate imputation model on a variable-by-variable basis by a set of conditional densities, one for each incomplete variable. Starting from an initial imputation, FCS draws imputations by iterating over the conditional densities. A low number of iterations (say 10-20) is often sufficient.\n",
    "\n",
    "Different regression algorithms can be used to estimate the missing values for each feature, although linear methods are often used for simplicity. The number of iterations of the procedure is often kept small, such as 10. Finally, the order that features are processed sequentially can be considered, such as from the feature with the least missing values to the feature with the most missing values. Now that we are familiar with iterative methods for missing value imputation, let's take a look at a dataset with missing values.\n",
    "\n",
    "---\n",
    "\n",
    "## 3. Horse Colic Dataset\n",
    "\n",
    "We will use the horse colic dataset in this exercise. The horse colic dataset describes medical characteristics of horses with colic and whether they lived or died. There are 300 rows and 26 input variables with one output variable. It is a binary classification prediction task that involves predicting 1 if the horse lived and 2 if the horse died. There are many fields we could select to predict in this dataset. In this case, we will predict whether the problem was surgical or not (column index 23), making it a binary classification problem. The dataset has numerous missing values for many of the columns where each missing value is marked with a question mark character (\"?\").\n",
    "\n",
    "We can load the dataset using the `read_csv()` Pandas function and specify the `na_values` to load values of \"?\" as missing, marked with a NaN value.\n",
    "\n",
    "- Load the horse colic dataset and replace the \"?\" characters with NaN values."
   ]
  },
  {
   "cell_type": "code",
   "execution_count": 1,
   "metadata": {
    "ExecuteTime": {
     "end_time": "2021-01-22T05:59:58.637096Z",
     "start_time": "2021-01-22T05:59:55.646829Z"
    }
   },
   "outputs": [],
   "source": [
    "import pandas as pd\n",
    "import numpy as np"
   ]
  },
  {
   "cell_type": "code",
   "execution_count": 44,
   "metadata": {
    "ExecuteTime": {
     "end_time": "2021-01-22T06:37:28.423992Z",
     "start_time": "2021-01-22T06:37:28.389082Z"
    }
   },
   "outputs": [
    {
     "data": {
      "text/html": [
       "<div>\n",
       "<style scoped>\n",
       "    .dataframe tbody tr th:only-of-type {\n",
       "        vertical-align: middle;\n",
       "    }\n",
       "\n",
       "    .dataframe tbody tr th {\n",
       "        vertical-align: top;\n",
       "    }\n",
       "\n",
       "    .dataframe thead th {\n",
       "        text-align: right;\n",
       "    }\n",
       "</style>\n",
       "<table border=\"1\" class=\"dataframe\">\n",
       "  <thead>\n",
       "    <tr style=\"text-align: right;\">\n",
       "      <th></th>\n",
       "      <th>0</th>\n",
       "      <th>1</th>\n",
       "      <th>2</th>\n",
       "      <th>3</th>\n",
       "      <th>4</th>\n",
       "      <th>5</th>\n",
       "      <th>6</th>\n",
       "      <th>7</th>\n",
       "      <th>8</th>\n",
       "      <th>9</th>\n",
       "      <th>...</th>\n",
       "      <th>18</th>\n",
       "      <th>19</th>\n",
       "      <th>20</th>\n",
       "      <th>21</th>\n",
       "      <th>22</th>\n",
       "      <th>23</th>\n",
       "      <th>24</th>\n",
       "      <th>25</th>\n",
       "      <th>26</th>\n",
       "      <th>27</th>\n",
       "    </tr>\n",
       "  </thead>\n",
       "  <tbody>\n",
       "    <tr>\n",
       "      <th>0</th>\n",
       "      <td>2.0</td>\n",
       "      <td>1</td>\n",
       "      <td>530101</td>\n",
       "      <td>38.5</td>\n",
       "      <td>66.0</td>\n",
       "      <td>28.0</td>\n",
       "      <td>3.0</td>\n",
       "      <td>3.0</td>\n",
       "      <td>NaN</td>\n",
       "      <td>2.0</td>\n",
       "      <td>...</td>\n",
       "      <td>45.0</td>\n",
       "      <td>8.4</td>\n",
       "      <td>NaN</td>\n",
       "      <td>NaN</td>\n",
       "      <td>2.0</td>\n",
       "      <td>2</td>\n",
       "      <td>11300</td>\n",
       "      <td>0</td>\n",
       "      <td>0</td>\n",
       "      <td>2</td>\n",
       "    </tr>\n",
       "    <tr>\n",
       "      <th>1</th>\n",
       "      <td>1.0</td>\n",
       "      <td>1</td>\n",
       "      <td>534817</td>\n",
       "      <td>39.2</td>\n",
       "      <td>88.0</td>\n",
       "      <td>20.0</td>\n",
       "      <td>NaN</td>\n",
       "      <td>NaN</td>\n",
       "      <td>4.0</td>\n",
       "      <td>1.0</td>\n",
       "      <td>...</td>\n",
       "      <td>50.0</td>\n",
       "      <td>85.0</td>\n",
       "      <td>2.0</td>\n",
       "      <td>2.0</td>\n",
       "      <td>3.0</td>\n",
       "      <td>2</td>\n",
       "      <td>2208</td>\n",
       "      <td>0</td>\n",
       "      <td>0</td>\n",
       "      <td>2</td>\n",
       "    </tr>\n",
       "    <tr>\n",
       "      <th>2</th>\n",
       "      <td>2.0</td>\n",
       "      <td>1</td>\n",
       "      <td>530334</td>\n",
       "      <td>38.3</td>\n",
       "      <td>40.0</td>\n",
       "      <td>24.0</td>\n",
       "      <td>1.0</td>\n",
       "      <td>1.0</td>\n",
       "      <td>3.0</td>\n",
       "      <td>1.0</td>\n",
       "      <td>...</td>\n",
       "      <td>33.0</td>\n",
       "      <td>6.7</td>\n",
       "      <td>NaN</td>\n",
       "      <td>NaN</td>\n",
       "      <td>1.0</td>\n",
       "      <td>2</td>\n",
       "      <td>0</td>\n",
       "      <td>0</td>\n",
       "      <td>0</td>\n",
       "      <td>1</td>\n",
       "    </tr>\n",
       "    <tr>\n",
       "      <th>3</th>\n",
       "      <td>1.0</td>\n",
       "      <td>9</td>\n",
       "      <td>5290409</td>\n",
       "      <td>39.1</td>\n",
       "      <td>164.0</td>\n",
       "      <td>84.0</td>\n",
       "      <td>4.0</td>\n",
       "      <td>1.0</td>\n",
       "      <td>6.0</td>\n",
       "      <td>2.0</td>\n",
       "      <td>...</td>\n",
       "      <td>48.0</td>\n",
       "      <td>7.2</td>\n",
       "      <td>3.0</td>\n",
       "      <td>5.3</td>\n",
       "      <td>2.0</td>\n",
       "      <td>1</td>\n",
       "      <td>2208</td>\n",
       "      <td>0</td>\n",
       "      <td>0</td>\n",
       "      <td>1</td>\n",
       "    </tr>\n",
       "    <tr>\n",
       "      <th>4</th>\n",
       "      <td>2.0</td>\n",
       "      <td>1</td>\n",
       "      <td>530255</td>\n",
       "      <td>37.3</td>\n",
       "      <td>104.0</td>\n",
       "      <td>35.0</td>\n",
       "      <td>NaN</td>\n",
       "      <td>NaN</td>\n",
       "      <td>6.0</td>\n",
       "      <td>2.0</td>\n",
       "      <td>...</td>\n",
       "      <td>74.0</td>\n",
       "      <td>7.4</td>\n",
       "      <td>NaN</td>\n",
       "      <td>NaN</td>\n",
       "      <td>2.0</td>\n",
       "      <td>2</td>\n",
       "      <td>4300</td>\n",
       "      <td>0</td>\n",
       "      <td>0</td>\n",
       "      <td>2</td>\n",
       "    </tr>\n",
       "    <tr>\n",
       "      <th>...</th>\n",
       "      <td>...</td>\n",
       "      <td>...</td>\n",
       "      <td>...</td>\n",
       "      <td>...</td>\n",
       "      <td>...</td>\n",
       "      <td>...</td>\n",
       "      <td>...</td>\n",
       "      <td>...</td>\n",
       "      <td>...</td>\n",
       "      <td>...</td>\n",
       "      <td>...</td>\n",
       "      <td>...</td>\n",
       "      <td>...</td>\n",
       "      <td>...</td>\n",
       "      <td>...</td>\n",
       "      <td>...</td>\n",
       "      <td>...</td>\n",
       "      <td>...</td>\n",
       "      <td>...</td>\n",
       "      <td>...</td>\n",
       "      <td>...</td>\n",
       "    </tr>\n",
       "    <tr>\n",
       "      <th>295</th>\n",
       "      <td>1.0</td>\n",
       "      <td>1</td>\n",
       "      <td>533886</td>\n",
       "      <td>NaN</td>\n",
       "      <td>120.0</td>\n",
       "      <td>70.0</td>\n",
       "      <td>4.0</td>\n",
       "      <td>NaN</td>\n",
       "      <td>4.0</td>\n",
       "      <td>2.0</td>\n",
       "      <td>...</td>\n",
       "      <td>55.0</td>\n",
       "      <td>65.0</td>\n",
       "      <td>NaN</td>\n",
       "      <td>NaN</td>\n",
       "      <td>3.0</td>\n",
       "      <td>2</td>\n",
       "      <td>3205</td>\n",
       "      <td>0</td>\n",
       "      <td>0</td>\n",
       "      <td>2</td>\n",
       "    </tr>\n",
       "    <tr>\n",
       "      <th>296</th>\n",
       "      <td>2.0</td>\n",
       "      <td>1</td>\n",
       "      <td>527702</td>\n",
       "      <td>37.2</td>\n",
       "      <td>72.0</td>\n",
       "      <td>24.0</td>\n",
       "      <td>3.0</td>\n",
       "      <td>2.0</td>\n",
       "      <td>4.0</td>\n",
       "      <td>2.0</td>\n",
       "      <td>...</td>\n",
       "      <td>44.0</td>\n",
       "      <td>NaN</td>\n",
       "      <td>3.0</td>\n",
       "      <td>3.3</td>\n",
       "      <td>3.0</td>\n",
       "      <td>1</td>\n",
       "      <td>2208</td>\n",
       "      <td>0</td>\n",
       "      <td>0</td>\n",
       "      <td>1</td>\n",
       "    </tr>\n",
       "    <tr>\n",
       "      <th>297</th>\n",
       "      <td>1.0</td>\n",
       "      <td>1</td>\n",
       "      <td>529386</td>\n",
       "      <td>37.5</td>\n",
       "      <td>72.0</td>\n",
       "      <td>30.0</td>\n",
       "      <td>4.0</td>\n",
       "      <td>3.0</td>\n",
       "      <td>4.0</td>\n",
       "      <td>1.0</td>\n",
       "      <td>...</td>\n",
       "      <td>60.0</td>\n",
       "      <td>6.8</td>\n",
       "      <td>NaN</td>\n",
       "      <td>NaN</td>\n",
       "      <td>2.0</td>\n",
       "      <td>1</td>\n",
       "      <td>3205</td>\n",
       "      <td>0</td>\n",
       "      <td>0</td>\n",
       "      <td>2</td>\n",
       "    </tr>\n",
       "    <tr>\n",
       "      <th>298</th>\n",
       "      <td>1.0</td>\n",
       "      <td>1</td>\n",
       "      <td>530612</td>\n",
       "      <td>36.5</td>\n",
       "      <td>100.0</td>\n",
       "      <td>24.0</td>\n",
       "      <td>3.0</td>\n",
       "      <td>3.0</td>\n",
       "      <td>3.0</td>\n",
       "      <td>1.0</td>\n",
       "      <td>...</td>\n",
       "      <td>50.0</td>\n",
       "      <td>6.0</td>\n",
       "      <td>3.0</td>\n",
       "      <td>3.4</td>\n",
       "      <td>1.0</td>\n",
       "      <td>1</td>\n",
       "      <td>2208</td>\n",
       "      <td>0</td>\n",
       "      <td>0</td>\n",
       "      <td>1</td>\n",
       "    </tr>\n",
       "    <tr>\n",
       "      <th>299</th>\n",
       "      <td>1.0</td>\n",
       "      <td>1</td>\n",
       "      <td>534618</td>\n",
       "      <td>37.2</td>\n",
       "      <td>40.0</td>\n",
       "      <td>20.0</td>\n",
       "      <td>NaN</td>\n",
       "      <td>NaN</td>\n",
       "      <td>NaN</td>\n",
       "      <td>NaN</td>\n",
       "      <td>...</td>\n",
       "      <td>36.0</td>\n",
       "      <td>62.0</td>\n",
       "      <td>1.0</td>\n",
       "      <td>1.0</td>\n",
       "      <td>3.0</td>\n",
       "      <td>2</td>\n",
       "      <td>6112</td>\n",
       "      <td>0</td>\n",
       "      <td>0</td>\n",
       "      <td>2</td>\n",
       "    </tr>\n",
       "  </tbody>\n",
       "</table>\n",
       "<p>300 rows × 28 columns</p>\n",
       "</div>"
      ],
      "text/plain": [
       "      0   1        2     3      4     5    6    7    8    9   ...    18    19  \\\n",
       "0    2.0   1   530101  38.5   66.0  28.0  3.0  3.0  NaN  2.0  ...  45.0   8.4   \n",
       "1    1.0   1   534817  39.2   88.0  20.0  NaN  NaN  4.0  1.0  ...  50.0  85.0   \n",
       "2    2.0   1   530334  38.3   40.0  24.0  1.0  1.0  3.0  1.0  ...  33.0   6.7   \n",
       "3    1.0   9  5290409  39.1  164.0  84.0  4.0  1.0  6.0  2.0  ...  48.0   7.2   \n",
       "4    2.0   1   530255  37.3  104.0  35.0  NaN  NaN  6.0  2.0  ...  74.0   7.4   \n",
       "..   ...  ..      ...   ...    ...   ...  ...  ...  ...  ...  ...   ...   ...   \n",
       "295  1.0   1   533886   NaN  120.0  70.0  4.0  NaN  4.0  2.0  ...  55.0  65.0   \n",
       "296  2.0   1   527702  37.2   72.0  24.0  3.0  2.0  4.0  2.0  ...  44.0   NaN   \n",
       "297  1.0   1   529386  37.5   72.0  30.0  4.0  3.0  4.0  1.0  ...  60.0   6.8   \n",
       "298  1.0   1   530612  36.5  100.0  24.0  3.0  3.0  3.0  1.0  ...  50.0   6.0   \n",
       "299  1.0   1   534618  37.2   40.0  20.0  NaN  NaN  NaN  NaN  ...  36.0  62.0   \n",
       "\n",
       "      20   21   22  23     24  25  26  27  \n",
       "0    NaN  NaN  2.0   2  11300   0   0   2  \n",
       "1    2.0  2.0  3.0   2   2208   0   0   2  \n",
       "2    NaN  NaN  1.0   2      0   0   0   1  \n",
       "3    3.0  5.3  2.0   1   2208   0   0   1  \n",
       "4    NaN  NaN  2.0   2   4300   0   0   2  \n",
       "..   ...  ...  ...  ..    ...  ..  ..  ..  \n",
       "295  NaN  NaN  3.0   2   3205   0   0   2  \n",
       "296  3.0  3.3  3.0   1   2208   0   0   1  \n",
       "297  NaN  NaN  2.0   1   3205   0   0   2  \n",
       "298  3.0  3.4  1.0   1   2208   0   0   1  \n",
       "299  1.0  1.0  3.0   2   6112   0   0   2  \n",
       "\n",
       "[300 rows x 28 columns]"
      ]
     },
     "execution_count": 44,
     "metadata": {},
     "output_type": "execute_result"
    }
   ],
   "source": [
    "horses = pd.read_csv('horse-colic.csv', header = None, na_values = '?')\n",
    "horses"
   ]
  },
  {
   "cell_type": "markdown",
   "metadata": {},
   "source": [
    "Now  let's look at how we can use iterative imputation.\n",
    "\n",
    "---\n",
    "\n",
    "## 4. Iterative Imputation With `IterativeImputer`\n",
    "\n",
    "The scikit-learn machine learning library provides the `IterativeImputer` class that supports iterative imputation. In this section, we will explore how to effectively use the IterativeImputer class.\n",
    "\n",
    "\n",
    "### 4.1. IterativeImputer Data Transform\n",
    "\n",
    "It is a data transform that is first configured based on the method used to estimate the missing values. By default, a `BayesianRidge` model is employed. You are not required to understand the Bayesian Ridge regression model at this stage. However, it is important to note that the `BayesianRidge` model uses a function of all other input features. Features are then filled in ascending order, from those with the fewest missing values to those with the most.\n",
    "\n",
    "```python\n",
    "'''Example of defining a IterativeImputer instance.'''\n",
    "from sklearn.impute import IterativeImputer\n",
    "...\n",
    "# define imputer\n",
    "imputer = IterativeImputer(estimator=BayesianRidge(), n_nearest_features=None,\n",
    "imputation_order='ascending')\n",
    "```\n",
    "\n",
    "Then the imputer is fit on a dataset.\n",
    "\n",
    "```python\n",
    "'''Example of fitting a IterativeImputer instance.'''\n",
    "...\n",
    "# fit on the dataset\n",
    "imputer.fit(X)\n",
    "```\n",
    "\n",
    "The fit imputer is then applied to a dataset to create a copy of the dataset with all missing values for each column replaced with an estimated value.\n",
    "\n",
    "```python\n",
    "'''Example of using a IterativeImputer to transform a dataset.'''\n",
    "...\n",
    "# transform the dataset\n",
    "Xtrans = imputer.transform(X)\n",
    "```\n",
    "\n",
    "Note that the `IterativeImputer` class cannot be used directly because it is experimental. If you try to use it directly, you will get an error as follows:\n",
    "\n",
    "```\n",
    "ImportError: cannot import name 'IterativeImputer'\n",
    "```\n",
    "\n",
    "Instead, you must add an additional import statement to add support for the IterativeImputer class, as follows:\n",
    "\n",
    "```python\n",
    "...\n",
    "from sklearn.experimental import enable_iterative_imputer\n",
    "```\n",
    "\n",
    "We can demonstrate its usage on the horse colic dataset and confirm it works by summarizing the total number of missing values in the dataset before and after the transform.\n",
    "\n",
    "- Demonstrate the usage of `IterativeImputer` on the horse colic dataset and confirm it works by summarizing the total number of missing values in the dataset before and after the transform. (Answer: Before 1605, After 0)"
   ]
  },
  {
   "cell_type": "code",
   "execution_count": 8,
   "metadata": {
    "ExecuteTime": {
     "end_time": "2021-01-22T06:07:32.392470Z",
     "start_time": "2021-01-22T06:07:32.388480Z"
    }
   },
   "outputs": [],
   "source": [
    "from sklearn import linear_model\n",
    "from sklearn.experimental import enable_iterative_imputer \n",
    "from sklearn.impute import IterativeImputer"
   ]
  },
  {
   "cell_type": "code",
   "execution_count": 6,
   "metadata": {
    "ExecuteTime": {
     "end_time": "2021-01-22T06:07:25.812136Z",
     "start_time": "2021-01-22T06:07:25.808147Z"
    }
   },
   "outputs": [],
   "source": [
    "X = horses"
   ]
  },
  {
   "cell_type": "code",
   "execution_count": 14,
   "metadata": {
    "ExecuteTime": {
     "end_time": "2021-01-22T06:15:10.037579Z",
     "start_time": "2021-01-22T06:15:09.936848Z"
    }
   },
   "outputs": [
    {
     "name": "stdout",
     "output_type": "stream",
     "text": [
      "Before 1605, After 0\n"
     ]
    }
   ],
   "source": [
    "# define imputer\n",
    "imputer = IterativeImputer(estimator=linear_model.BayesianRidge(), n_nearest_features=None, imputation_order='ascending')\n",
    "\n",
    "# fit on the dataset\n",
    "imputer.fit(X)\n",
    "\n",
    "Xtrans = imputer.transform(X)\n",
    "Xtrans = pd.DataFrame(Xtrans)\n",
    "\n",
    "print(f\"Before {pd.DataFrame(horses).isnull().sum().sum()}, After {Xtrans.isnull().sum().sum()}\")"
   ]
  },
  {
   "cell_type": "markdown",
   "metadata": {},
   "source": [
    "The transform is configured, fit, and performed and the resulting new dataset has no missing values, confirming it was performed as we expected. Each missing value was replaced with a value estimated by the model.\n",
    "\n",
    "### 4.2. `IterativeImputer` and Model Evaluation\n",
    "\n",
    "It is a good practice to evaluate machine learning models on a dataset using $k$-fold cross-validation. To correctly apply iterative missing data imputation and avoid data leakage, it is required that the models for each column are calculated on the training dataset only, then applied to the train and test sets for each fold in the dataset. This can be achieved by creating a modeling pipeline where the first step is the iterative imputation, then the second step is the model. This can be achieved using the `Pipeline` class. For example, the `Pipeline` below uses an IterativeImputer with the default strategy, followed by a random forest model.\n",
    "\n",
    "```python\n",
    "'''Example of defining a IterativeImputer Pipeline to evaluate a model.'''\n",
    "...\n",
    "# define modeling pipeline\n",
    "model = RandomForestClassifier()\n",
    "imputer = IterativeImputer()\n",
    "pipeline = Pipeline(steps=[('i', imputer), ('m', model)])\n",
    "```\n",
    "\n",
    "- Evaluate the iterative-imputed dataset of the the random forest modeling pipeline for the horse colic dataset with repeated stratified 10-fold cross-validation. (Answer: 86.778% (5.269))\n",
    "  \n",
    "  Use `n_repeats=3` and `random_state=1` for the `RepeatedStratifiedKFold` parameters. You may refer to the previous exercise example to define the cross-validation.\n",
    "  \n",
    "  Note: Your specific results may vary given the stochastic nature of the learning algorithm, the evaluation procedure, or differences in numerical precision. Consider running the example a few times and compare the average performance."
   ]
  },
  {
   "cell_type": "code",
   "execution_count": 15,
   "metadata": {
    "ExecuteTime": {
     "end_time": "2021-01-22T06:15:11.471244Z",
     "start_time": "2021-01-22T06:15:11.466259Z"
    }
   },
   "outputs": [],
   "source": [
    "from sklearn.ensemble import RandomForestClassifier\n",
    "from sklearn.pipeline import Pipeline\n",
    "from sklearn.model_selection import RepeatedStratifiedKFold, cross_val_score\n",
    "from sklearn.metrics import accuracy_score"
   ]
  },
  {
   "cell_type": "code",
   "execution_count": 16,
   "metadata": {
    "ExecuteTime": {
     "end_time": "2021-01-22T06:15:11.983586Z",
     "start_time": "2021-01-22T06:15:11.975608Z"
    }
   },
   "outputs": [],
   "source": [
    "y = Xtrans.iloc[:,23]\n",
    "X = Xtrans.drop(Xtrans.columns[23], axis = 1)"
   ]
  },
  {
   "cell_type": "code",
   "execution_count": 18,
   "metadata": {
    "ExecuteTime": {
     "end_time": "2021-01-22T06:15:34.663721Z",
     "start_time": "2021-01-22T06:15:30.185557Z"
    }
   },
   "outputs": [
    {
     "name": "stdout",
     "output_type": "stream",
     "text": [
      "Accuracy: 87.111 (5.756)\n"
     ]
    }
   ],
   "source": [
    "'''Example of defining a IterativeImputer Pipeline to evaluate a model.'''\n",
    "...\n",
    "# define modeling pipeline\n",
    "model = RandomForestClassifier()\n",
    "imputer = IterativeImputer()\n",
    "pipeline = Pipeline(steps=[('i', imputer), ('m', model)])\n",
    "\n",
    "rskf = RepeatedStratifiedKFold(n_splits=10, n_repeats=3, random_state=1)\n",
    "\n",
    "# Cross-validation doesn't need to split.\n",
    "# for train_index, test_index in rskf.split(X, y):\n",
    "#     X_train, X_test = X[train_index], X[test_index]\n",
    "#     y_train, y_test = y[train_index], y[test_index]\n",
    "    \n",
    "scores = cross_val_score(pipeline, X, y, scoring='accuracy', cv=rskf, n_jobs=-1)\n",
    "print('Accuracy: %.3f (%.3f)' % (np.mean(scores)*100, np.std(scores)*100))"
   ]
  },
  {
   "cell_type": "markdown",
   "metadata": {},
   "source": [
    "The pipeline is evaluated using three repeats of 10-fold cross-validation and reports the mean\n",
    "classification accuracy on the dataset as about 87 percent which is a good score.\n",
    "\n",
    "How do we know that using a default iterative strategy is good or best for this dataset?\n",
    "\n",
    "The answer is that we don't.\n",
    "\n",
    "### 4.3. `IterativeImputer` and Different Imputation Order\n",
    "\n",
    "By default, imputation is performed in ascending order from the feature with the least missing values to the feature with the most. This makes sense as we want to have more complete data when it comes time to estimating missing values for columns where the majority of values are missing. Nevertheless, we can experiment with different imputation order strategies, such as descending, right-to-left (Arabic), left-to-right (Roman), and random.\n",
    "\n",
    "- Using `strategies = ['ascending', 'descending', 'roman', 'arabic', 'random']`, evaluate the model of each accuracy.\n",
    "\n",
    "  Expected results:\n",
    "\n",
    "  ```\n",
    "  >ascending 87.111% (5.493)\n",
    "  >descending 87.778% (5.329)\n",
    "  >roman 87.333% (4.974)\n",
    "  >arabic 87.333% (5.604)\n",
    "  >random 87.222% (5.098)\n",
    "  ```\n",
    "  \n",
    "  <br>You should also append the scores to a list `results`, this will be used later for analysis.\n",
    "  \n",
    "  Note: Your specific results may vary given the stochastic nature of the learning algorithm, the evaluation procedure, or differences in numerical precision. Consider running the example a few times and compare the average performance."
   ]
  },
  {
   "cell_type": "code",
   "execution_count": 21,
   "metadata": {
    "ExecuteTime": {
     "end_time": "2021-01-22T06:18:10.028456Z",
     "start_time": "2021-01-22T06:18:02.838683Z"
    }
   },
   "outputs": [
    {
     "name": "stdout",
     "output_type": "stream",
     "text": [
      "Strategy: ascending, Accuracy: 87.333% (5.670)\n",
      "Strategy: descending, Accuracy: 87.556% (4.939)\n",
      "Strategy: roman, Accuracy: 87.444% (5.213)\n",
      "Strategy: arabic, Accuracy: 87.000% (5.260)\n",
      "Strategy: random, Accuracy: 87.000% (5.467)\n"
     ]
    }
   ],
   "source": [
    "strategies = ['ascending', 'descending', 'roman', 'arabic', 'random']\n",
    "\n",
    "results = []\n",
    "\n",
    "for i in strategies:\n",
    "    \n",
    "    imputer = IterativeImputer(estimator=linear_model.BayesianRidge(), n_nearest_features=None, imputation_order=i)\n",
    "\n",
    "    pipeline = Pipeline(steps=[('i', imputer), ('m', model)])\n",
    "\n",
    "    rskf = RepeatedStratifiedKFold(n_splits=10, n_repeats=3, random_state=1)\n",
    "\n",
    "    scores = cross_val_score(pipeline, X, y, scoring='accuracy', cv=rskf, n_jobs=-1)\n",
    "    print(f'Strategy: {i}, Accuracy: %.3f%% (%.3f)' % (np.mean(scores)*100, np.std(scores)*100))\n",
    "    results.append(scores)"
   ]
  },
  {
   "attachments": {
    "331ad178-ad29-4716-b184-5961cbb6979e.png": {
     "image/png": "[encoded data removed]"
    }
   },
   "cell_type": "markdown",
   "metadata": {},
   "source": [
    "The example evaluates each imputation order on the horse colic dataset using repeated cross-validation. The mean accuracy of each strategy is reported along the way.\n",
    "\n",
    "In this case, the results suggest little difference between most of the methods. \n",
    "\n",
    "At the end of the run, a box and whisker plot can be created for each set of results, allowing the\n",
    "distribution of results to be compared.\n",
    "\n",
    "- Using the list of scores stored in `results`, plot a box and whisker plot for each strategy.\n",
    "\n",
    "  Expected results (Note: results may differ)\n",
    "  \n",
    "  ![image.png](attachment:331ad178-ad29-4716-b184-5961cbb6979e.png)"
   ]
  },
  {
   "cell_type": "code",
   "execution_count": 23,
   "metadata": {
    "ExecuteTime": {
     "end_time": "2021-01-22T06:19:06.793872Z",
     "start_time": "2021-01-22T06:19:06.789883Z"
    }
   },
   "outputs": [],
   "source": [
    "old_results = results"
   ]
  },
  {
   "cell_type": "code",
   "execution_count": 24,
   "metadata": {
    "ExecuteTime": {
     "end_time": "2021-01-22T06:19:07.959753Z",
     "start_time": "2021-01-22T06:19:07.174853Z"
    }
   },
   "outputs": [],
   "source": [
    "import matplotlib.pyplot as plt"
   ]
  },
  {
   "cell_type": "code",
   "execution_count": 25,
   "metadata": {
    "ExecuteTime": {
     "end_time": "2021-01-22T06:19:07.973721Z",
     "start_time": "2021-01-22T06:19:07.960751Z"
    }
   },
   "outputs": [],
   "source": [
    "results = pd.DataFrame(results)\n",
    "results = results.rename(index={p:q for p,q in enumerate(strategies)})"
   ]
  },
  {
   "cell_type": "code",
   "execution_count": 26,
   "metadata": {
    "ExecuteTime": {
     "end_time": "2021-01-22T06:19:08.600046Z",
     "start_time": "2021-01-22T06:19:08.564144Z"
    }
   },
   "outputs": [
    {
     "data": {
      "text/html": [
       "<div>\n",
       "<style scoped>\n",
       "    .dataframe tbody tr th:only-of-type {\n",
       "        vertical-align: middle;\n",
       "    }\n",
       "\n",
       "    .dataframe tbody tr th {\n",
       "        vertical-align: top;\n",
       "    }\n",
       "\n",
       "    .dataframe thead th {\n",
       "        text-align: right;\n",
       "    }\n",
       "</style>\n",
       "<table border=\"1\" class=\"dataframe\">\n",
       "  <thead>\n",
       "    <tr style=\"text-align: right;\">\n",
       "      <th></th>\n",
       "      <th>0</th>\n",
       "      <th>1</th>\n",
       "      <th>2</th>\n",
       "      <th>3</th>\n",
       "      <th>4</th>\n",
       "      <th>5</th>\n",
       "      <th>6</th>\n",
       "      <th>7</th>\n",
       "      <th>8</th>\n",
       "      <th>9</th>\n",
       "      <th>...</th>\n",
       "      <th>20</th>\n",
       "      <th>21</th>\n",
       "      <th>22</th>\n",
       "      <th>23</th>\n",
       "      <th>24</th>\n",
       "      <th>25</th>\n",
       "      <th>26</th>\n",
       "      <th>27</th>\n",
       "      <th>28</th>\n",
       "      <th>29</th>\n",
       "    </tr>\n",
       "  </thead>\n",
       "  <tbody>\n",
       "    <tr>\n",
       "      <th>ascending</th>\n",
       "      <td>0.933333</td>\n",
       "      <td>0.833333</td>\n",
       "      <td>0.866667</td>\n",
       "      <td>0.800000</td>\n",
       "      <td>0.933333</td>\n",
       "      <td>0.866667</td>\n",
       "      <td>0.866667</td>\n",
       "      <td>0.966667</td>\n",
       "      <td>0.766667</td>\n",
       "      <td>0.8</td>\n",
       "      <td>...</td>\n",
       "      <td>0.766667</td>\n",
       "      <td>0.933333</td>\n",
       "      <td>0.833333</td>\n",
       "      <td>0.933333</td>\n",
       "      <td>0.866667</td>\n",
       "      <td>0.8</td>\n",
       "      <td>0.866667</td>\n",
       "      <td>0.966667</td>\n",
       "      <td>0.866667</td>\n",
       "      <td>0.900000</td>\n",
       "    </tr>\n",
       "    <tr>\n",
       "      <th>descending</th>\n",
       "      <td>0.900000</td>\n",
       "      <td>0.833333</td>\n",
       "      <td>0.866667</td>\n",
       "      <td>0.833333</td>\n",
       "      <td>0.933333</td>\n",
       "      <td>0.933333</td>\n",
       "      <td>0.900000</td>\n",
       "      <td>0.966667</td>\n",
       "      <td>0.766667</td>\n",
       "      <td>0.8</td>\n",
       "      <td>...</td>\n",
       "      <td>0.833333</td>\n",
       "      <td>0.866667</td>\n",
       "      <td>0.833333</td>\n",
       "      <td>0.933333</td>\n",
       "      <td>0.866667</td>\n",
       "      <td>0.8</td>\n",
       "      <td>0.866667</td>\n",
       "      <td>0.966667</td>\n",
       "      <td>0.866667</td>\n",
       "      <td>0.900000</td>\n",
       "    </tr>\n",
       "    <tr>\n",
       "      <th>roman</th>\n",
       "      <td>0.933333</td>\n",
       "      <td>0.833333</td>\n",
       "      <td>0.933333</td>\n",
       "      <td>0.833333</td>\n",
       "      <td>0.933333</td>\n",
       "      <td>0.900000</td>\n",
       "      <td>0.900000</td>\n",
       "      <td>0.966667</td>\n",
       "      <td>0.766667</td>\n",
       "      <td>0.8</td>\n",
       "      <td>...</td>\n",
       "      <td>0.833333</td>\n",
       "      <td>0.900000</td>\n",
       "      <td>0.833333</td>\n",
       "      <td>0.900000</td>\n",
       "      <td>0.866667</td>\n",
       "      <td>0.8</td>\n",
       "      <td>0.866667</td>\n",
       "      <td>0.966667</td>\n",
       "      <td>0.866667</td>\n",
       "      <td>0.866667</td>\n",
       "    </tr>\n",
       "    <tr>\n",
       "      <th>arabic</th>\n",
       "      <td>0.933333</td>\n",
       "      <td>0.800000</td>\n",
       "      <td>0.900000</td>\n",
       "      <td>0.833333</td>\n",
       "      <td>0.933333</td>\n",
       "      <td>0.900000</td>\n",
       "      <td>0.900000</td>\n",
       "      <td>0.966667</td>\n",
       "      <td>0.766667</td>\n",
       "      <td>0.8</td>\n",
       "      <td>...</td>\n",
       "      <td>0.800000</td>\n",
       "      <td>0.866667</td>\n",
       "      <td>0.833333</td>\n",
       "      <td>0.933333</td>\n",
       "      <td>0.866667</td>\n",
       "      <td>0.8</td>\n",
       "      <td>0.866667</td>\n",
       "      <td>0.966667</td>\n",
       "      <td>0.833333</td>\n",
       "      <td>0.900000</td>\n",
       "    </tr>\n",
       "    <tr>\n",
       "      <th>random</th>\n",
       "      <td>0.933333</td>\n",
       "      <td>0.833333</td>\n",
       "      <td>0.900000</td>\n",
       "      <td>0.833333</td>\n",
       "      <td>0.933333</td>\n",
       "      <td>0.900000</td>\n",
       "      <td>0.900000</td>\n",
       "      <td>0.966667</td>\n",
       "      <td>0.766667</td>\n",
       "      <td>0.8</td>\n",
       "      <td>...</td>\n",
       "      <td>0.800000</td>\n",
       "      <td>0.900000</td>\n",
       "      <td>0.800000</td>\n",
       "      <td>0.933333</td>\n",
       "      <td>0.866667</td>\n",
       "      <td>0.8</td>\n",
       "      <td>0.866667</td>\n",
       "      <td>0.966667</td>\n",
       "      <td>0.833333</td>\n",
       "      <td>0.900000</td>\n",
       "    </tr>\n",
       "  </tbody>\n",
       "</table>\n",
       "<p>5 rows × 30 columns</p>\n",
       "</div>"
      ],
      "text/plain": [
       "                  0         1         2         3         4         5   \\\n",
       "ascending   0.933333  0.833333  0.866667  0.800000  0.933333  0.866667   \n",
       "descending  0.900000  0.833333  0.866667  0.833333  0.933333  0.933333   \n",
       "roman       0.933333  0.833333  0.933333  0.833333  0.933333  0.900000   \n",
       "arabic      0.933333  0.800000  0.900000  0.833333  0.933333  0.900000   \n",
       "random      0.933333  0.833333  0.900000  0.833333  0.933333  0.900000   \n",
       "\n",
       "                  6         7         8    9   ...        20        21  \\\n",
       "ascending   0.866667  0.966667  0.766667  0.8  ...  0.766667  0.933333   \n",
       "descending  0.900000  0.966667  0.766667  0.8  ...  0.833333  0.866667   \n",
       "roman       0.900000  0.966667  0.766667  0.8  ...  0.833333  0.900000   \n",
       "arabic      0.900000  0.966667  0.766667  0.8  ...  0.800000  0.866667   \n",
       "random      0.900000  0.966667  0.766667  0.8  ...  0.800000  0.900000   \n",
       "\n",
       "                  22        23        24   25        26        27        28  \\\n",
       "ascending   0.833333  0.933333  0.866667  0.8  0.866667  0.966667  0.866667   \n",
       "descending  0.833333  0.933333  0.866667  0.8  0.866667  0.966667  0.866667   \n",
       "roman       0.833333  0.900000  0.866667  0.8  0.866667  0.966667  0.866667   \n",
       "arabic      0.833333  0.933333  0.866667  0.8  0.866667  0.966667  0.833333   \n",
       "random      0.800000  0.933333  0.866667  0.8  0.866667  0.966667  0.833333   \n",
       "\n",
       "                  29  \n",
       "ascending   0.900000  \n",
       "descending  0.900000  \n",
       "roman       0.866667  \n",
       "arabic      0.900000  \n",
       "random      0.900000  \n",
       "\n",
       "[5 rows x 30 columns]"
      ]
     },
     "execution_count": 26,
     "metadata": {},
     "output_type": "execute_result"
    }
   ],
   "source": [
    "results"
   ]
  },
  {
   "cell_type": "code",
   "execution_count": 28,
   "metadata": {
    "ExecuteTime": {
     "end_time": "2021-01-22T06:19:41.103651Z",
     "start_time": "2021-01-22T06:19:40.950062Z"
    }
   },
   "outputs": [
    {
     "data": {
      "image/png": "[encoded data removed]",
      "text/plain": [
       "<Figure size 720x504 with 1 Axes>"
      ]
     },
     "metadata": {
      "needs_background": "light"
     },
     "output_type": "display_data"
    }
   ],
   "source": [
    "results = pd.DataFrame(results)\n",
    "results = results.rename(index={p:q for p,q in enumerate(strategies)})\n",
    "\n",
    "fig = plt.figure(figsize =(17,13)) \n",
    "\n",
    "# Creating plot\n",
    "plt.boxplot(results, showmeans = True)\n",
    "plt.xticks([i for i in range(1,6)], strategies, fontsize = 15)\n",
    "plt.yticks(fontsize = 15)\n",
    "    \n",
    "# show plot \n",
    "plt.show() "
   ]
  },
  {
   "cell_type": "markdown",
   "metadata": {},
   "source": [
    "Apart from the random strategy, we can see that the distribution of accuracy scores for is very similar across the different strategies.\n",
    "\n",
    "### 4.4. IterativeImputer and Different Number of Iterations\n",
    "\n",
    "By default, the IterativeImputer will repeat the number of iterations 10 times. It is possible that a large number of iterations may begin to bias or skew the estimate and that few iterations may be preferred. The number of iterations of the procedure can be specified via the `max_iter` argument.\n",
    "\n",
    "```python\n",
    "strategies = [str(i) for i in range(1, 11)]\n",
    "for s in strategies:\n",
    "    # create the modeling pipeline\n",
    "    pipeline = Pipeline(steps=[('i', IterativeImputer(max_iter=int(s))), ('m',RandomForestClassifier())])\n",
    "```\n",
    "\n",
    "It may be interesting to evaluate different numbers of iterations compares different values for `max_iter` from 1 to 20.\n",
    "\n",
    "- Using iteration values from 1 to 20, compare the model performance with different number of iterations in `IterativeImputer`\n",
    "\n",
    "  Expected results:\n",
    "  ```\n",
    "  >1 87.556% (5.23)\n",
    "  >2 86.667% (5.018)\n",
    "  >3 86.667% (5.774)\n",
    "  >4 87.889% (5.543)\n",
    "  >5 87.222% (5.17)\n",
    "  >6 87.222% (5.17)\n",
    "  >7 87.444% (5.141)\n",
    "  >8 86.667% (5.578)\n",
    "  >9 87.111% (5.692)\n",
    "  >10 87.111% (5.145)\n",
    "  >11 87.222% (4.95)\n",
    "  >12 87.111% (5.493)\n",
    "  >13 87.111% (5.946)\n",
    "  >14 87.222% (5.17)\n",
    "  >15 87.222% (5.025)\n",
    "  >16 87.0% (5.534)\n",
    "  >17 86.556% (4.905)\n",
    "  >18 86.889% (5.159)\n",
    "  >19 87.0% (5.33)\n",
    "  >20 87.0% (4.895)\n",
    "  ```\n",
    "  \n",
    "  You should also append the scores to a list `results`, this will be used later for analysis.\n",
    "  \n",
    "  Note: Your specific results may vary given the stochastic nature of the learning algorithm, the evaluation procedure, or differences in numerical precision. Consider running the example a few times and compare the average performance."
   ]
  },
  {
   "cell_type": "code",
   "execution_count": 33,
   "metadata": {
    "ExecuteTime": {
     "end_time": "2021-01-22T06:29:19.313895Z",
     "start_time": "2021-01-22T06:28:45.843904Z"
    }
   },
   "outputs": [
    {
     "name": "stdout",
     "output_type": "stream",
     "text": [
      ">1, Accuracy: 87.333% (5.925)\n",
      ">2, Accuracy: 87.333% (6.110)\n",
      ">3, Accuracy: 86.889% (6.262)\n",
      ">4, Accuracy: 87.111% (5.287)\n",
      ">5, Accuracy: 87.889% (5.339)\n",
      ">6, Accuracy: 87.333% (5.799)\n",
      ">7, Accuracy: 87.333% (4.745)\n",
      ">8, Accuracy: 87.333% (5.925)\n",
      ">9, Accuracy: 87.222% (5.098)\n",
      ">10, Accuracy: 87.000% (5.467)\n",
      ">11, Accuracy: 87.111% (4.999)\n",
      ">12, Accuracy: 87.000% (5.399)\n",
      ">13, Accuracy: 87.000% (5.667)\n",
      ">14, Accuracy: 87.556% (5.087)\n",
      ">15, Accuracy: 86.667% (5.511)\n",
      ">16, Accuracy: 87.222% (5.649)\n",
      ">17, Accuracy: 86.667% (5.164)\n",
      ">18, Accuracy: 86.556% (5.127)\n",
      ">19, Accuracy: 87.000% (4.970)\n",
      ">20, Accuracy: 87.556% (5.573)\n"
     ]
    }
   ],
   "source": [
    "strategies = [str(i) for i in range(1, 21)]\n",
    "results = []\n",
    "\n",
    "for s in strategies:\n",
    "    # create the modeling pipeline\n",
    "    pipeline = Pipeline(steps=[('i', IterativeImputer(max_iter=int(s), estimator=linear_model.BayesianRidge(), n_nearest_features=None)), ('m',RandomForestClassifier())])\n",
    "\n",
    "    rskf = RepeatedStratifiedKFold(n_splits=10, n_repeats=3, random_state=1)\n",
    "\n",
    "    scores = cross_val_score(pipeline, X, y, scoring='accuracy', cv=rskf, n_jobs=-1)\n",
    "    print(f'>{s}, Accuracy: %.3f%% (%.3f)' % (np.mean(scores)*100, np.std(scores)*100))\n",
    "    results.append(scores)"
   ]
  },
  {
   "attachments": {
    "b724a918-9a42-43ef-a985-01825b179b83.png": {
     "image/png": "[encoded data removed]"
    }
   },
   "cell_type": "markdown",
   "metadata": {},
   "source": [
    "The example evaluates each number of iterations on the horse colic dataset using repeated cross-validation.\n",
    "\n",
    "The results suggest that very few iterations, such as 4, might be as or more effective than higher number iterations on this dataset.\n",
    "\n",
    "At the end of the run, a box and whisker plot can be created for each set of results, allowing the distribution of results to be compared.\n",
    "\n",
    "- Using the list of scores stored in `results`, plot a box and whisker plot for each strategy.\n",
    "\n",
    "  Expected results (Note: results may differ)\n",
    "  \n",
    "  ![image.png](attachment:b724a918-9a42-43ef-a985-01825b179b83.png)"
   ]
  },
  {
   "cell_type": "code",
   "execution_count": 36,
   "metadata": {
    "ExecuteTime": {
     "end_time": "2021-01-22T06:30:18.857474Z",
     "start_time": "2021-01-22T06:30:18.535295Z"
    }
   },
   "outputs": [
    {
     "data": {
      "image/png": "[encoded data removed]",
      "text/plain": [
       "<Figure size 1224x936 with 1 Axes>"
      ]
     },
     "metadata": {
      "needs_background": "light"
     },
     "output_type": "display_data"
    }
   ],
   "source": [
    "results = pd.DataFrame(results)\n",
    "results = results.rename(index={p:q for p,q in enumerate(strategies)})\n",
    "\n",
    "fig = plt.figure(figsize =(17,13)) \n",
    "\n",
    "# Creating plot\n",
    "plt.boxplot(results, showmeans = True)\n",
    "plt.xticks([i for i in range(1,21)], strategies, fontsize = 15)\n",
    "plt.yticks(fontsize = 15)\n",
    "    \n",
    "# show plot \n",
    "plt.show() "
   ]
  },
  {
   "cell_type": "markdown",
   "metadata": {},
   "source": [
    "### 4.5 `IterativeImputer` Transform When Making a Prediction\n",
    "\n",
    "We may wish to create a final modeling pipeline with the iterative imputation and random forest algorithm, then make a prediction for new data. This can be achieved by defining the pipeline and fitting it on all available data, then calling the `predict()` function, passing new data in as an argument. Importantly, the row of new data must mark any missing values using\n",
    "the NaN value.\n",
    "\n",
    "```\n",
    "\n",
    "- Using `IterativeImputer`, make a classification prediction based on the new data below. (Expected answer: 2)\n",
    "\n",
    "  You may refer to the example given in the previous exercise."
   ]
  },
  {
   "cell_type": "code",
   "execution_count": 40,
   "metadata": {
    "ExecuteTime": {
     "end_time": "2021-01-22T06:34:25.652733Z",
     "start_time": "2021-01-22T06:34:25.648743Z"
    }
   },
   "outputs": [],
   "source": [
    "from sklearn.metrics import accuracy_score"
   ]
  },
  {
   "cell_type": "code",
   "execution_count": 55,
   "metadata": {
    "ExecuteTime": {
     "end_time": "2021-01-22T07:31:58.780551Z",
     "start_time": "2021-01-22T07:31:58.775548Z"
    }
   },
   "outputs": [],
   "source": [
    "from numpy import nan\n",
    "# define new data\n",
    "row = [2, 1, 530101, 38.50, 66, 28, 3, 3, nan, 2, 5, 4, 4, nan, nan, nan, 3, 5, 45.00,\n",
    "8.40, nan, nan, 2, 11300, 00000, 00000, 2]\n",
    "row = np.array(row)"
   ]
  },
  {
   "cell_type": "code",
   "execution_count": 59,
   "metadata": {
    "ExecuteTime": {
     "end_time": "2021-01-22T07:35:36.989682Z",
     "start_time": "2021-01-22T07:35:36.741364Z"
    }
   },
   "outputs": [
    {
     "name": "stdout",
     "output_type": "stream",
     "text": [
      "Predicted Class: 2\n"
     ]
    }
   ],
   "source": [
    "# constant imputation strategy and prediction for the horse colic dataset\n",
    "from pandas import read_csv\n",
    "from sklearn.ensemble import RandomForestClassifier\n",
    "from sklearn.impute import SimpleImputer\n",
    "from sklearn.pipeline import Pipeline\n",
    "# load dataset\n",
    "dataframe = read_csv('horse-colic.csv', header=None, na_values='?')\n",
    "# split into input and output elements\n",
    "data = dataframe.values\n",
    "ix = [i for i in range(data.shape[1]) if i != 23]\n",
    "X, y = data[:, ix], data[:, 23]\n",
    "# create the modeling pipeline\n",
    "imputer = IterativeImputer(estimator=linear_model.BayesianRidge(), n_nearest_features=None)\n",
    "pipeline = Pipeline(steps=[('i', imputer), ('m',\n",
    "RandomForestClassifier())])\n",
    "# fit the model\n",
    "pipeline.fit(X, y)\n",
    "# define new data\n",
    "row = [2, 1, 530101, 38.50, 66, 28, 3, 3, nan, 2, 5, 4, 4, nan, nan, nan, 3, 5, 45.00,\n",
    "8.40, nan, nan, 2, 11300, 00000, 00000, 2]\n",
    "# make a prediction\n",
    "yhat = pipeline.predict([row])\n",
    "# summarize prediction\n",
    "print('Predicted Class: %d' % yhat[0])"
   ]
  },
  {
   "cell_type": "markdown",
   "metadata": {},
   "source": [
    "---\n",
    "\n",
    "## 5. References\n",
    "\n",
    "- mice: Multivariate Imputation by Chained Equations in R, 2009.\n",
    "https://www.jstatsoft.org/article/view/v045i03\n",
    "\n",
    "- Imputation of missing values, scikit-learn Documentation.\n",
    "https://scikit-learn.org/stable/modules/impute.html\n",
    "\n",
    "- sklearn.impute.IterativeImputer API.\n",
    "https://scikit-learn.org/stable/modules/generated/sklearn.impute.IterativeImputer.html\n",
    "\n",
    "---\n",
    "\n",
    "## 6. Summary\n",
    "In this exercise, you discovered how to use iterative imputation strategies for missing data inmachine learning. Specifically, you learned:\n",
    "- Missing values must be marked with NaN values and can be replaced with iteratively estimated values.\n",
    "- How to load a CSV value with missing values and mark the missing values with NaN values and report the number and percentage of missing values for each column.\n",
    "- How to impute missing values with iterative models as a data preparation method when evaluating models and when fitting a final model to make predictions on new data."
   ]
  }
 ],
 "metadata": {
  "kernelspec": {
   "display_name": "Python 3",
   "language": "python",
   "name": "python3"
  },
  "language_info": {
   "codemirror_mode": {
    "name": "ipython",
    "version": 3
   },
   "file_extension": ".py",
   "mimetype": "text/x-python",
   "name": "python",
   "nbconvert_exporter": "python",
   "pygments_lexer": "ipython3",
   "version": "3.7.7"
  }
 },
 "nbformat": 4,
 "nbformat_minor": 4
}
