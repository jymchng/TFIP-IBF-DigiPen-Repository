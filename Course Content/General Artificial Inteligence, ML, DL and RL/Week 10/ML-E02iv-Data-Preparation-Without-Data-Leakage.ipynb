{
 "cells": [
  {
   "cell_type": "markdown",
   "metadata": {},
   "source": [
    "# Data Preparation Without Data Leakage\n",
    "\n",
    "Data preparation is the process of transforming raw data into a form that is appropriate for modeling. A naive approach to preparing data applies the transform on the entire dataset before evaluating the performance of the model. This results in a problem referred to as data leakage, where knowledge of the hold-out test set leaks into the dataset used to train the model. This can result in an incorrect estimate of model performance when making predictions on new data. A careful application of data preparation techniques is required in order to avoid data leakage, and this varies depending on the model evaluation scheme used, such as train-test splits or $k$-fold cross-validation. In this exercise, you will discover how to avoid data leakage during data preparation when evaluating machine learning models. After completing this exercise, you will know:\n",
    "- Naive application of data preparation methods to the whole dataset results in data leakage that causes incorrect estimates of model performance.\n",
    "- Data preparation must be prepared on the training set only in order to avoid data leakage.\n",
    "- How to implement data preparation without data leakage for train-test splits and $k$-fold cross-validation in Python.\n",
    "\n",
    "---\n",
    "\n",
    "## 1. Exercise Overview\n",
    "\n",
    "This exercise is divided into three parts\n",
    "1. Problem With Naive Data Preparation\n",
    "2. Data Preparation With Train and Test Sets\n",
    "3. Data Preparation With $k$-fold Cross-Validation\n",
    "\n",
    "---\n",
    "\n",
    "## 2. Problem With Naive Data Preparation\n",
    "\n",
    "The manner in which data preparation techniques are applied to data matters. A common approach is to first apply one or more transforms to the entire dataset. Then the dataset is split into train and test sets or $k$-fold cross-validation is used to fit and evaluate a machine learning model.\n",
    "1. Prepare Dataset\n",
    "2. Split Data\n",
    "3. Evaluate Models\n",
    "\n",
    "Although this is a common approach, it is dangerously incorrect in most cases. The problem with applying data preparation techniques before splitting data for model evaluation is that it can lead to data leakage and, in turn, will likely result in an incorrect estimate of a model's performance on the problem. Data leakage refers to a problem where information about the holdout dataset, such as a test or validation dataset, is made available to the model in the training dataset. This leakage is often small and subtle but can have a marked effect on performance.\n",
    "\n",
    "Data leakage means that information is revealed to the model that gives it an unrealistic advantage to make better predictions. This could happen when test data is leaked into the training set, or when data from the future is leaked to the past. Any time that a model is given information that it shouldn't have access to when it is making predictions in real time in production, there is leakage.\n",
    "\n",
    "We get data leakage by applying data preparation techniques to the entire dataset. This is not a direct type of data leakage, where we would train the model on the test dataset. Instead, it is an indirect type of data leakage, where some knowledge about the test dataset, captured in summary statistics is available to the model during training. This can make it a harder type of\n",
    "data leakage to spot, especially for beginners.\n",
    "\n",
    "One other aspect of resampling is related to the concept of information leakage which is where the test set data are used (directly or indirectly) during the training process. This can lead to overly optimistic results that do not replicate on future\n",
    "data points and can occur in subtle ways.\n",
    "\n",
    "For example, consider the case where we want to normalize data, that is scale input variables to the range between 0 to 1. When we normalize the input variables, this requires that we fist calculate the minimum and maximum values for each variable before using these values to scale the variables. The dataset is then split into train and test datasets, but the examples in the training\n",
    "dataset know something about the data in the test dataset; they have been scaled by the global minimum and maximum values, so they know more about the global distribution of the variable then they should.\n",
    "\n",
    "We get the same type of leakage with almost all data preparation techniques; for example, standardization estimates the mean and standard deviation values from the domain in order to scale the variables. Even models that impute missing values using a model or summary statistics will draw on the full dataset to fill in values in the training dataset. The solution is straightforward. Data preparation must be fit on the training dataset only. That is, any coefficients or models prepared for the data preparation process must only use rows of data in the training dataset. Once fit, the data preparation algorithms or models can then be applied to the training dataset, and to the test dataset.\n",
    "1. Split Data.\n",
    "2. Fit Data Preparation on Training Dataset.\n",
    "3. Apply Data Preparation to Train and Test Datasets.\n",
    "4. Evaluate Models.\n",
    "\n",
    "More generally, the entire modeling pipeline must be prepared only on the training dataset to avoid data leakage. This might include data transforms, but also other techniques such feature selection, dimensionality reduction, feature engineering and more. \n",
    "\n",
    "Now that we are familiar with how to apply data preparation to avoid data leakage, let's look at some worked examples.\n",
    "\n",
    "---\n",
    "\n",
    "## 3. Data Preparation With Train and Test Sets\n",
    "\n",
    "In this section, we will evaluate a logistic regression model using train and test sets on a synthetic binary classfication dataset where the input variables have been normalized. First, let's define our synthetic dataset.\n",
    "\n",
    "- Use the `make_classification()` function from `sklearn.datasets` to create the dataset `X` and `y` with 1,000 rows of data and 20 numerical input features.  \n",
    "  Set the `n_informative`, `n_redundant` and `random_state` to $15$, $5$ and $7$ respectively.  \n",
    "  You should expect the shape of `X` and `y` to be `(1000,20)` and `(1000,)` respectively.  \n",
    "  For more information on `make_classification()`, refer to the official documentation at https://scikit-learn.org/stable/modules/generated/sklearn.datasets.make_classification.html."
   ]
  },
  {
   "cell_type": "code",
   "execution_count": 1,
   "metadata": {
    "ExecuteTime": {
     "end_time": "2021-01-21T06:29:41.503018Z",
     "start_time": "2021-01-21T06:29:40.395338Z"
    }
   },
   "outputs": [],
   "source": [
    "from sklearn.datasets import make_classification\n",
    "import numpy as np\n",
    "import pandas as pd"
   ]
  },
  {
   "cell_type": "code",
   "execution_count": 4,
   "metadata": {
    "ExecuteTime": {
     "end_time": "2021-01-21T06:30:52.123651Z",
     "start_time": "2021-01-21T06:30:52.112681Z"
    }
   },
   "outputs": [
    {
     "name": "stdout",
     "output_type": "stream",
     "text": [
      "(1000, 20)\n",
      "(1000,)\n"
     ]
    }
   ],
   "source": [
    "X, y = make_classification(n_samples = 1000, n_informative = 15, n_redundant = 5, random_state = 7)\n",
    "print(X.shape)\n",
    "print(y.shape)"
   ]
  },
  {
   "cell_type": "markdown",
   "metadata": {},
   "source": [
    "This creates the dataset and confirms that the input part of the dataset has 1,000 rows and 20 columns for the 20 input variables and that the output variable has 1,000 examples to match the 1,000 rows of input data, one value per row.\n",
    "\n",
    "Next, we can evaluate our model on a scaled dataset, starting with their naive or incorrect approach.\n",
    "\n",
    "### 3.1. Train-Test Evaluation With Naive Data Preparation\n",
    "\n",
    "The naive approach involves first applying the data preparation method, then splitting the data before finally evaluating the model. We can normalize the input variables using the `MinMaxScaler` class, which is first defined with the default configuration scaling the data to the range $0$-$1$, then the `fit_transform()` function is called to fit the transform on the dataset and apply it to the dataset in a single step. The result is a normalized version of the input variables, where each column in the array is separately normalized (e.g. has its own minimum and maximum calculated). Don't worry too much about the specifics of this transform yet, we\n",
    "will go into a more detail in the future.\n",
    "\n",
    "```python\n",
    "'''Example of configuring and applying the transform to the dataset.'''\n",
    "from sklearn.preprocessing import MinMaxScaler\n",
    "...\n",
    "# standardize the dataset\n",
    "scaler = MinMaxScaler()\n",
    "X = scaler.fit_transform(X)\n",
    "```\n",
    "\n",
    "Next, we can split our dataset into train and test sets using the `train_test_split()` function. We will use 67 percent for the training set and 33 percent for the test set.\n",
    "\n",
    "```python\n",
    "'''Example of splitting the dataset into train and test sets.'''\n",
    "from sklearn.model_selection import train_test_split\n",
    "...\n",
    "# split into train and test sets\n",
    "X_train, X_test, y_train, y_test = train_test_split(X, y, test_size=0.33, random_state=1)\n",
    "```\n",
    " \n",
    "We can then define our logistic regression algorithm via the `LogisticRegression` class, with default configuration, and fit it on the training dataset.\n",
    "\n",
    "```python\n",
    "'''Example of defining and fitting the model on the training dataset.'''\n",
    "from sklearn.linear_model import LogisticRegression\n",
    "...\n",
    "# fit the model\n",
    "model = LogisticRegression()\n",
    "model.fit(X_train, y_train)\n",
    "```\n",
    "\n",
    "The fit model can then make a prediction using the input data from the test set, and we can compare the predictions to the expected values and calculate a classification accuracy score.\n",
    "\n",
    "```python\n",
    "'''Example of evaluating the model on the test dataset.'''\n",
    "from sklearn.metrics import accuracy_score\n",
    "...\n",
    "# evaluate the model\n",
    "yhat = model.predict(X_test)\n",
    "# evaluate predictions\n",
    "accuracy = accuracy_score(y_test, yhat)\n",
    "print('Accuracy: %.3f' % (accuracy*100))\n",
    "```\n",
    "\n",
    "Let's tie this together.\n",
    "\n",
    "- Using your dataset and the examples above, evaluate the model using a train-test split. (Answer: 84.848%)"
   ]
  },
  {
   "cell_type": "code",
   "execution_count": 5,
   "metadata": {
    "ExecuteTime": {
     "end_time": "2021-01-21T06:37:02.015647Z",
     "start_time": "2021-01-21T06:37:01.916881Z"
    }
   },
   "outputs": [],
   "source": [
    "from sklearn.preprocessing import MinMaxScaler\n",
    "from sklearn.linear_model import LogisticRegression\n",
    "from sklearn.model_selection import train_test_split\n",
    "from sklearn.metrics import accuracy_score"
   ]
  },
  {
   "cell_type": "code",
   "execution_count": 6,
   "metadata": {
    "ExecuteTime": {
     "end_time": "2021-01-21T06:37:37.132185Z",
     "start_time": "2021-01-21T06:37:37.091290Z"
    }
   },
   "outputs": [
    {
     "name": "stdout",
     "output_type": "stream",
     "text": [
      "Accuracy: 84.848\n"
     ]
    }
   ],
   "source": [
    "# standardize the dataset\n",
    "scaler = MinMaxScaler()\n",
    "X = scaler.fit_transform(X)\n",
    "\n",
    "# split into train and test sets\n",
    "X_train, X_test, y_train, y_test = train_test_split(X, y, test_size=0.33, random_state=1)\n",
    "\n",
    "# fit the model\n",
    "model = LogisticRegression()\n",
    "model.fit(X_train, y_train)\n",
    "\n",
    "# evaluate the model\n",
    "yhat = model.predict(X_test)\n",
    "# evaluate predictions\n",
    "accuracy = accuracy_score(y_test, yhat)\n",
    "print('Accuracy: %.3f' % (accuracy*100))"
   ]
  },
  {
   "cell_type": "markdown",
   "metadata": {},
   "source": [
    "The example above normalizes the data, splits the data into train and test sets, then fits and evaluates the model.\n",
    "\n",
    "Note: Your specific results may vary given the stochastic nature of the learning algorithm, the evaluation procedure, or differences in numerical precision. Consider running the example a few times and compare the average performance.\n",
    "\n",
    "In this case, we can see that the estimate for the model is about 84.848 percent.\n",
    "\n",
    "<u>Given we know that there was data leakage, we know that this estimate of model accuracy is wrong.</u>\n",
    "\n",
    "Next, let's explore how we might correctly prepare the data to avoid data leakage.\n",
    "\n",
    "### 3.2 Train-Test Evaluation With Correct Data Preparation\n",
    "\n",
    "The correct approach to performing data preparation with a train-test split evaluation is to fit the data preparation on the training set, then apply the transform to the train and test sets. This requires that we first split the data into train and test sets.\n",
    "\n",
    "We can then define the `MinMaxScaler` and call the `fit()` function only on the training set, then apply the `transform()` function on the train and test sets to create a normalized version of each dataset.\n",
    "\n",
    "```python\n",
    "'''Example of fitting the transform on the train set and applying it to both train and test sets.'''\n",
    "...\n",
    "# define the scaler\n",
    "scaler = MinMaxScaler()\n",
    "# fit on the training dataset\n",
    "scaler.fit(X_train)\n",
    "# scale the training dataset\n",
    "X_train = scaler.transform(X_train)\n",
    "# scale the test dataset\n",
    "X_test = scaler.transform(X_test)\n",
    "```\n",
    "\n",
    "This avoids data leakage as the calculation of the minimum and maximum value for each input variable is calculated using only the training dataset (X train) instead of the entire dataset (X). The model can then be evaluated as before.\n",
    "\n",
    "- Tying this together, re-evaluate the model. (Answer: 85.455%)"
   ]
  },
  {
   "cell_type": "code",
   "execution_count": 7,
   "metadata": {
    "ExecuteTime": {
     "end_time": "2021-01-21T06:37:53.329171Z",
     "start_time": "2021-01-21T06:37:53.304239Z"
    }
   },
   "outputs": [
    {
     "name": "stdout",
     "output_type": "stream",
     "text": [
      "Accuracy: 85.455\n"
     ]
    }
   ],
   "source": [
    "# define the scaler\n",
    "scaler = MinMaxScaler()\n",
    "# fit on the training dataset\n",
    "scaler.fit(X_train)\n",
    "# scale the training dataset\n",
    "X_train = scaler.transform(X_train)\n",
    "# scale the test dataset\n",
    "X_test = scaler.transform(X_test)\n",
    "\n",
    "# fit the model\n",
    "model = LogisticRegression()\n",
    "model.fit(X_train, y_train)\n",
    "\n",
    "# evaluate the model\n",
    "yhat = model.predict(X_test)\n",
    "# evaluate predictions\n",
    "accuracy = accuracy_score(y_test, yhat)\n",
    "print('Accuracy: %.3f' % (accuracy*100))"
   ]
  },
  {
   "cell_type": "markdown",
   "metadata": {},
   "source": [
    "Running the example splits the data into train and test sets, normalizes the data correctly, then fits and evaluates the model.\n",
    "\n",
    "Note: Your specific results may vary given the stochastic nature of the learning algorithm, the evaluation procedure, or differences in numerical precision. Consider running the example a few times and compare the average performance.\n",
    "\n",
    "In this case, we can see that the estimate for the model is about 85.455 percent, which is more accurate than the estimate with data leakage in the previous section that achieved an accuracy of 84.848 percent. We expect data leakage to result in an incorrect estimate of model performance. We would expect this to be an optimistic estimate with data leakage, e.g. better performance, although in this case, we can see that data leakage resulted in slightly worse performance. This might be because of the difficulty of the prediction task.\n",
    "\n",
    "---\n",
    "\n",
    "## 4. Data Preparation With $k$-fold Cross-Validation\n",
    "\n",
    "In this section, we will evaluate a logistic regression model using $k$-fold cross-validation on a synthetic binary classification dataset where the input variables have been normalized. You may recall that $k$-fold cross-validation involves splitting a dataset into $k$ non-overlapping groups of rows. The model is then trained on all but one group to form a training dataset and then evaluated on the held-out fold. This process is repeated so that each fold is given a chance to be used as the holdout test set. Finally, the average performance across all evaluations is reported. The $k$-fold cross-validation procedure generally gives a more reliable estimate of model performance than a train-test split, although it is more computationally expensive given the repeated fitting and evaluation of models. Let's first look at naive data preparation with $k$-fold cross-validation.\n",
    "\n",
    "\n",
    "### 4.1. Cross-Validation Evaluation With Naive Data Preparation\n",
    "\n",
    "Naive data preparation with cross-validation involves applying the data transforms first, then using the cross-validation procedure. \n",
    "\n",
    "We will use the synthetic dataset prepared in the previous section and normalize the data directly.\n",
    "\n",
    "```python\n",
    "'''Example of configuring and applying the transform to the dataset.'''\n",
    "...\n",
    "# standardize the dataset\n",
    "scaler = MinMaxScaler()\n",
    "X = scaler.fit_transform(X)\n",
    "```\n",
    "\n",
    "The $k$-fold cross-validation procedure must first be defined. We will use repeated stratified 10-fold cross-validation, which is a best practice for classification.\n",
    "- *Repeated* means that the whole cross-validation procedure is repeated multiple times, three in this case.\n",
    "- *Stratified* means that each group of rows will have the relative composition of examples from each class as the whole dataset.\n",
    "\n",
    "We will use k = 10 or 10-fold cross-validation. This can be achieved using the `RepeatedStratifiedKFold` which can be configured to three repeats and 10 folds, and then using the `cross_val_score()` function to perform the procedure, passing in the defined model,\n",
    "cross-validation object, and metric to calculate, in this case, accuracy.\n",
    "\n",
    "```python\n",
    "'''Example of evaluating model performance using cross-validation.'''\n",
    "from sklearn.model_selection import RepeatedStratifiedKFold\n",
    "from sklearn.model_selection import cross_val_score\n",
    "...\n",
    "# define the evaluation procedure\n",
    "cv = RepeatedStratifiedKFold(n_splits=10, n_repeats=3, random_state=1)\n",
    "# evaluate the model using cross-validation\n",
    "scores = cross_val_score(model, X, y, scoring='accuracy', cv=cv, n_jobs=-1)\n",
    "```\n",
    "\n",
    "We can then report the average accuracy across all of the repeats and folds.\n",
    "\n",
    "```python\n",
    "# report performance\n",
    "print('Accuracy: %.3f (%.3f)' % (mean(scores)*100, std(scores)*100))\n",
    "```\n",
    "\n",
    "- Tying this all together, evaluating the regression model with cross-validation. (Answer: 85.3% (3.607))"
   ]
  },
  {
   "cell_type": "code",
   "execution_count": 8,
   "metadata": {
    "ExecuteTime": {
     "end_time": "2021-01-21T06:38:19.235142Z",
     "start_time": "2021-01-21T06:38:19.232151Z"
    }
   },
   "outputs": [],
   "source": [
    "from sklearn.model_selection import RepeatedStratifiedKFold\n",
    "from sklearn.model_selection import cross_val_score"
   ]
  },
  {
   "cell_type": "code",
   "execution_count": 11,
   "metadata": {
    "ExecuteTime": {
     "end_time": "2021-01-21T06:39:00.935206Z",
     "start_time": "2021-01-21T06:39:00.804555Z"
    }
   },
   "outputs": [
    {
     "name": "stdout",
     "output_type": "stream",
     "text": [
      "Accuracy: 85.300 (3.607)\n"
     ]
    }
   ],
   "source": [
    "'''Example of configuring and applying the transform to the dataset.'''\n",
    "...\n",
    "# standardize the dataset\n",
    "scaler = MinMaxScaler()\n",
    "X = scaler.fit_transform(X)\n",
    "\n",
    "'''Example of evaluating model performance using cross-validation.'''\n",
    "from sklearn.model_selection import RepeatedStratifiedKFold\n",
    "from sklearn.model_selection import cross_val_score\n",
    "...\n",
    "# define the evaluation procedure\n",
    "cv = RepeatedStratifiedKFold(n_splits=10, n_repeats=3, random_state=1)\n",
    "# evaluate the model using cross-validation\n",
    "scores = cross_val_score(model, X, y, scoring='accuracy', cv=cv, n_jobs=-1)\n",
    "\n",
    "# report performance\n",
    "print('Accuracy: %.3f (%.3f)' % (np.mean(scores)*100, np.std(scores)*100))"
   ]
  },
  {
   "cell_type": "markdown",
   "metadata": {},
   "source": [
    "Similarly, the example above normalizes the data first, then evaluates the model using repeated stratified $k$-fold cross-validation and reports the mean and standard deviation of the classification accuracy for the model when making predictions on data not used during training.\n",
    "\n",
    "Note: Your specific results may vary given the stochastic nature of the learning algorithm, the evaluation procedure, or differences in numerical precision. Consider running the example a few times and compare the average performance.\n",
    "\n",
    "In this case, we can see that the model achieved an estimated accuracy of about 85.3 percent, which we know is incorrect given the data leakage allowed via the data preparation procedure.\n",
    "\n",
    "Next, let's look at how we can evaluate the model with cross-validation and avoid data leakage.\n",
    "\n",
    "### 4.2. Cross-Validation Evaluation With Correct Data Preparation\n",
    "\n",
    "Data preparation without data leakage when using cross-validation is slightly more challenging. It requires that the data preparation method is prepared on the training set and applied to the train and test sets within the cross-validation procedure, e.g. the groups of folds of rows. We can achieve this by defining a modeling pipeline that defines a sequence of data preparation steps to perform and ending in the model to fit and evaluate.\n",
    "\n",
    "To provide a solid methodology, we should constrain ourselves to developing the list of preprocessing techniques, estimate them only in the presence of the training data points, and then apply the techniques to future data (including the test set).\n",
    "\n",
    "The evaluation procedure changes from simply and incorrectly evaluating just the model to correctly evaluating the entire pipeline of data preparation and model together as a single atomic unit. This can be achieved using the `Pipeline` class. This class takes a list of steps that define the pipeline. Each step in the list is a tuple with two elements. The first element is the name of the step (a string) and the second is the configured object of the step, such as a transform or a model. The model is only supported as the final step, although we can have as many transforms as we like in the sequence.\n",
    "\n",
    "```python\n",
    "'''Example of defining a modeling pipeline.'''\n",
    "from sklearn.pipeline import Pipeline\n",
    "...\n",
    "# define the pipeline\n",
    "steps = list()\n",
    "steps.append(('scaler', MinMaxScaler()))\n",
    "steps.append(('model', LogisticRegression()))\n",
    "pipeline = Pipeline(steps=steps)\n",
    "```\n",
    "\n",
    "We can then pass the configured object to the `cross_val_score()` function for evaluation.\n",
    "\n",
    "```python\n",
    "'''Example of evaluating a modeling pipeline using cross-validation.'''\n",
    "...\n",
    "# define the evaluation procedure\n",
    "cv = RepeatedStratifiedKFold(n_splits=10, n_repeats=3, random_state=1)\n",
    "# evaluate the model using cross-validation\n",
    "scores = cross_val_score(pipeline, X, y, scoring='accuracy', cv=cv, n_jobs=-1)\n",
    "```\n",
    "\n",
    "- Tying this together, re-evaluate the model."
   ]
  },
  {
   "cell_type": "code",
   "execution_count": 12,
   "metadata": {
    "ExecuteTime": {
     "end_time": "2021-01-21T06:39:23.117798Z",
     "start_time": "2021-01-21T06:39:23.113779Z"
    }
   },
   "outputs": [],
   "source": [
    "'''Example of defining a modeling pipeline.'''\n",
    "from sklearn.pipeline import Pipeline"
   ]
  },
  {
   "cell_type": "code",
   "execution_count": 14,
   "metadata": {
    "ExecuteTime": {
     "end_time": "2021-01-21T06:44:22.892880Z",
     "start_time": "2021-01-21T06:44:22.761232Z"
    }
   },
   "outputs": [
    {
     "name": "stdout",
     "output_type": "stream",
     "text": [
      "Accuracy: 85.433 (3.471)\n"
     ]
    }
   ],
   "source": [
    "# define the pipeline\n",
    "steps = list()\n",
    "steps.append(('scaler', MinMaxScaler()))\n",
    "steps.append(('model', LogisticRegression()))\n",
    "pipeline = Pipeline(steps=steps)\n",
    "\n",
    "'''Example of evaluating a modeling pipeline using cross-validation.'''\n",
    "...\n",
    "# define the evaluation procedure\n",
    "cv = RepeatedStratifiedKFold(n_splits=10, n_repeats=3, random_state=1)\n",
    "# evaluate the model using cross-validation\n",
    "scores = cross_val_score(pipeline, X, y, scoring='accuracy', cv=cv, n_jobs=-1)\n",
    "\n",
    "# report performance\n",
    "print('Accuracy: %.3f (%.3f)' % (np.mean(scores)*100, np.std(scores)*100))"
   ]
  },
  {
   "cell_type": "markdown",
   "metadata": {},
   "source": [
    "The example above normalizes the data correctly within the cross-validation folds of the evaluation procedure to avoid data leakage.\n",
    "\n",
    "Note: Your specific results may vary given the stochastic nature of the learning algorithm, the evaluation procedure, or differences in numerical precision. Consider running the example a few times and compare the average performance.\n",
    "\n",
    "In this case, we can see that the model has an estimated accuracy of about 85.433 percent, compared to the approach with data leakage that achieved an accuracy of about 85.3 percent. As with the train-test example in the previous section, removing data leakage has resulted in a slight improvement in performance when our intuition might suggest a drop given that data leakage often results in an optimistic estimate of model performance. Nevertheless, the examples demonstrate that data leakage may impact the estimate of model performance and how to correct data leakage by correctly performing data preparation after the data is split.\n",
    "\n",
    "---\n",
    "\n",
    "## 5. References\n",
    "\n",
    "- sklearn.datasets.make classification API.\n",
    "https://scikit-learn.org/stable/modules/generated/sklearn.datasets.make_classification.html\n",
    "- sklearn.preprocessing.MinMaxScaler API.\n",
    "https://scikit-learn.org/stable/modules/generated/sklearn.preprocessing.MinMaxScaler.html\n",
    "- sklearn.model selection.train test split API.\n",
    "https://scikit-learn.org/stable/modules/generated/sklearn.model_selection.train_test_split.html\n",
    "- sklearn.linear model.LogisticRegression API.\n",
    "https://scikit-learn.org/stable/modules/generated/sklearn.linear_model.LogisticRegression.html\n",
    "- sklearn.model selection.RepeatedStratifiedKFold API.\n",
    "https://scikit-learn.org/stable/modules/generated/sklearn.model_selection.RepeatedStratifiedKFold.html\n",
    "- sklearn.model selection.cross val score API.\n",
    "https://scikit-learn.org/stable/modules/generated/sklearn.model_selection.cross_val_score.html\n",
    "\n",
    "Articles\n",
    "- Data preparation, Wikipedia.\n",
    "https://en.wikipedia.org/wiki/Data_preparation\n",
    "- Data cleansing, Wikipedia.\n",
    "https://en.wikipedia.org/wiki/Data_cleansing\n",
    "- Data pre-processing, Wikipedia.\n",
    "https://en.wikipedia.org/wiki/Data_pre-processing\n",
    "\n",
    "---\n",
    "\n",
    "## 6. Summary\n",
    "In this exercise, you discovered how to avoid data leakage during data preparation when evaluating machine learning models. Specifically, you learned:\n",
    "- Naive application of data preparation methods to the whole dataset results in data leakage that causes incorrect estimates of model performance.\n",
    "- Data preparation must be prepared on the training set only in order to avoid data leakage.\n",
    "- How to implement data preparation without data leakage for train-test splits and $k$-fold cross-validation in Python."
   ]
  },
  {
   "cell_type": "markdown",
   "metadata": {},
   "source": []
  }
 ],
 "metadata": {
  "kernelspec": {
   "display_name": "Python 3",
   "language": "python",
   "name": "python3"
  },
  "language_info": {
   "codemirror_mode": {
    "name": "ipython",
    "version": 3
   },
   "file_extension": ".py",
   "mimetype": "text/x-python",
   "name": "python",
   "nbconvert_exporter": "python",
   "pygments_lexer": "ipython3",
   "version": "3.7.7"
  }
 },
 "nbformat": 4,
 "nbformat_minor": 4
}
