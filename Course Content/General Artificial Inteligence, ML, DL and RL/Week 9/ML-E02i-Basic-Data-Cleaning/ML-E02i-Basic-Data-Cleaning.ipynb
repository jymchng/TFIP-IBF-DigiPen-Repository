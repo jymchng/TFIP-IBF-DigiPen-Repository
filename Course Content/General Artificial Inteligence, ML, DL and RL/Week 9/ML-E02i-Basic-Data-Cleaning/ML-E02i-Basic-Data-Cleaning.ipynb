{
 "cells": [
  {
   "cell_type": "markdown",
   "metadata": {},
   "source": [
    "# Basic Data Cleaning\n",
    "\n",
    "Data cleaning is a critically important step in any machine learning project. In tabular data, there are many different statistical analysis and data visualization techniques you can use to explore your data in order to identify data cleaning operations you may want to perform. Before jumping to the sophisticated methods, there are some very basic data cleaning operations that you probably should perform on every single machine learning project. These are so basic that they are often overlooked by seasoned machine learning practitioners, yet are so critical that if skipped, models may break or report overly optimistic performance results. In this exercise, you will discover basic data cleaning you should always perform on your dataset. After completing this exercise, you will know:\n",
    "- How to identify and remove column variables that only have a single value.\n",
    "- How to identify and consider column variables with very few unique values.\n",
    "- How to identify and remove rows that contain duplicate observations.\n",
    "\n",
    "---\n",
    "\n",
    "## 1. Exercise Overview\n",
    "This exercise is divided into seven parts; they are:\n",
    "1. Messy Datasets\n",
    "2. Identify Columns That Contain a Single Value\n",
    "3. Delete Columns That Contain a Single Value\n",
    "4. Consider Columns That Have Very Few Values\n",
    "5. Remove Columns That Have A Low Variance\n",
    "6. Identify Rows that Contain Duplicate Data\n",
    "7. Delete Rows that Contain Duplicate Data\n",
    "\n",
    "---\n",
    "\n",
    "## 2. Messy Datasets\n",
    "Data cleaning refers to identifying and correcting errors in the dataset that may negatively impact a predictive model. *Data cleaning* is used to refer to all kinds of tasks and activities to detect and repair errors in the data.\n",
    "\n",
    "There are many types of errors that exist in a dataset, although some of the simplest errors include columns that don't contain much information and duplicated rows. Before we dive into identifying and correcting messy data, let's define some messy datasets. We will use two datasets as the basis for this exercise, the oil spill dataset and the iris flowers dataset. You can find the datasets attached in the zip file.\n",
    "\n",
    "### 2.1. Oil Spill Dataset\n",
    "The *oil spill* dataset is a standard machine learning dataset. The task involves predicting whether the patch contains an oil spill or not, e.g. from the illegal or accidental dumping of oil in the ocean, given a vector that describes the contents of a patch of a satellite image.\n",
    "\n",
    "- Using NumPy, read the dataset and determine the total number of case entries. (Answer: 937)"
   ]
  },
  {
   "cell_type": "code",
   "execution_count": 1,
   "metadata": {
    "ExecuteTime": {
     "end_time": "2021-01-14T05:54:21.796156Z",
     "start_time": "2021-01-14T05:54:20.268356Z"
    }
   },
   "outputs": [],
   "source": [
    "import numpy as np"
   ]
  },
  {
   "cell_type": "code",
   "execution_count": 9,
   "metadata": {
    "ExecuteTime": {
     "end_time": "2021-01-14T06:00:19.751007Z",
     "start_time": "2021-01-14T06:00:19.706675Z"
    }
   },
   "outputs": [
    {
     "data": {
      "text/plain": [
       "(937, 50)"
      ]
     },
     "execution_count": 9,
     "metadata": {},
     "output_type": "execute_result"
    }
   ],
   "source": [
    "oilspill = np.genfromtxt('oil-spill.csv', delimiter = ',')\n",
    "oilspill.shape"
   ]
  },
  {
   "cell_type": "markdown",
   "metadata": {},
   "source": [
    "- Given that each case comprises of $x$ number of numerical computer vision derived features, a patch number, and a class label, determine the value of $x$ (Answer: 48)."
   ]
  },
  {
   "cell_type": "code",
   "execution_count": 10,
   "metadata": {
    "ExecuteTime": {
     "end_time": "2021-01-14T06:00:20.492779Z",
     "start_time": "2021-01-14T06:00:20.487794Z"
    }
   },
   "outputs": [
    {
     "data": {
      "text/plain": [
       "48"
      ]
     },
     "execution_count": 10,
     "metadata": {},
     "output_type": "execute_result"
    }
   ],
   "source": [
    "oilspill.shape[1] - 2"
   ]
  },
  {
   "cell_type": "markdown",
   "metadata": {},
   "source": [
    "The normal case is no oil spill assigned the class label of $0$, whereas an oil spill is indicated by a class label of $1$.\n",
    "- Given that the last column represents the class label, determine the number of cases of oil spills. (Answer: 41)"
   ]
  },
  {
   "cell_type": "code",
   "execution_count": 11,
   "metadata": {
    "ExecuteTime": {
     "end_time": "2021-01-14T06:01:07.182506Z",
     "start_time": "2021-01-14T06:01:07.178502Z"
    }
   },
   "outputs": [
    {
     "data": {
      "text/plain": [
       "41"
      ]
     },
     "execution_count": 11,
     "metadata": {},
     "output_type": "execute_result"
    }
   ],
   "source": [
    "sum(1 for x in oilspill[:,-1] if x == 1)"
   ]
  },
  {
   "cell_type": "markdown",
   "metadata": {},
   "source": [
    "Review the contents of the data file. We can see that the first column contains integers for the patch number. We can also see that the computer vision derived features are real-valued with differing scales such as thousands in the second column and fractions in other columns. This dataset contains columns with very few unique values that provides a good basis for data cleaning.\n",
    "\n",
    "### 2.2. Iris Flowers Dataset\n",
    "The *iris flowers* dataset is another standard machine learning dataset. The dataset involves predicting the flower species given measurements of iris flowers in centimeters. It is a multiclass classification problem. The number of observations for each class is balanced. There are 150 observations with 4 input variables and 1 output variable.\n",
    "\n",
    "- Using Pandas, read the dataset and determine the total number of observations. (Answer: 150)"
   ]
  },
  {
   "cell_type": "code",
   "execution_count": 12,
   "metadata": {
    "ExecuteTime": {
     "end_time": "2021-01-14T06:01:47.027347Z",
     "start_time": "2021-01-14T06:01:45.685556Z"
    }
   },
   "outputs": [],
   "source": [
    "import pandas as pd"
   ]
  },
  {
   "cell_type": "code",
   "execution_count": 18,
   "metadata": {
    "ExecuteTime": {
     "end_time": "2021-01-14T06:09:28.583969Z",
     "start_time": "2021-01-14T06:09:28.576990Z"
    }
   },
   "outputs": [
    {
     "data": {
      "text/plain": [
       "(150, 5)"
      ]
     },
     "execution_count": 18,
     "metadata": {},
     "output_type": "execute_result"
    }
   ],
   "source": [
    "iris = pd.read_csv('iris.csv', header = None) # Must put header = None\n",
    "iris.shape"
   ]
  },
  {
   "cell_type": "markdown",
   "metadata": {},
   "source": [
    "- Using the `head` method, display the first few lines of the file."
   ]
  },
  {
   "cell_type": "code",
   "execution_count": 20,
   "metadata": {
    "ExecuteTime": {
     "end_time": "2021-01-14T06:09:36.643054Z",
     "start_time": "2021-01-14T06:09:36.635073Z"
    }
   },
   "outputs": [
    {
     "data": {
      "text/html": [
       "<div>\n",
       "<style scoped>\n",
       "    .dataframe tbody tr th:only-of-type {\n",
       "        vertical-align: middle;\n",
       "    }\n",
       "\n",
       "    .dataframe tbody tr th {\n",
       "        vertical-align: top;\n",
       "    }\n",
       "\n",
       "    .dataframe thead th {\n",
       "        text-align: right;\n",
       "    }\n",
       "</style>\n",
       "<table border=\"1\" class=\"dataframe\">\n",
       "  <thead>\n",
       "    <tr style=\"text-align: right;\">\n",
       "      <th></th>\n",
       "      <th>0</th>\n",
       "      <th>1</th>\n",
       "      <th>2</th>\n",
       "      <th>3</th>\n",
       "      <th>4</th>\n",
       "    </tr>\n",
       "  </thead>\n",
       "  <tbody>\n",
       "    <tr>\n",
       "      <th>0</th>\n",
       "      <td>5.1</td>\n",
       "      <td>3.5</td>\n",
       "      <td>1.4</td>\n",
       "      <td>0.2</td>\n",
       "      <td>Iris-setosa</td>\n",
       "    </tr>\n",
       "    <tr>\n",
       "      <th>1</th>\n",
       "      <td>4.9</td>\n",
       "      <td>3.0</td>\n",
       "      <td>1.4</td>\n",
       "      <td>0.2</td>\n",
       "      <td>Iris-setosa</td>\n",
       "    </tr>\n",
       "    <tr>\n",
       "      <th>2</th>\n",
       "      <td>4.7</td>\n",
       "      <td>3.2</td>\n",
       "      <td>1.3</td>\n",
       "      <td>0.2</td>\n",
       "      <td>Iris-setosa</td>\n",
       "    </tr>\n",
       "    <tr>\n",
       "      <th>3</th>\n",
       "      <td>4.6</td>\n",
       "      <td>3.1</td>\n",
       "      <td>1.5</td>\n",
       "      <td>0.2</td>\n",
       "      <td>Iris-setosa</td>\n",
       "    </tr>\n",
       "    <tr>\n",
       "      <th>4</th>\n",
       "      <td>5.0</td>\n",
       "      <td>3.6</td>\n",
       "      <td>1.4</td>\n",
       "      <td>0.2</td>\n",
       "      <td>Iris-setosa</td>\n",
       "    </tr>\n",
       "  </tbody>\n",
       "</table>\n",
       "</div>"
      ],
      "text/plain": [
       "     0    1    2    3            4\n",
       "0  5.1  3.5  1.4  0.2  Iris-setosa\n",
       "1  4.9  3.0  1.4  0.2  Iris-setosa\n",
       "2  4.7  3.2  1.3  0.2  Iris-setosa\n",
       "3  4.6  3.1  1.5  0.2  Iris-setosa\n",
       "4  5.0  3.6  1.4  0.2  Iris-setosa"
      ]
     },
     "execution_count": 20,
     "metadata": {},
     "output_type": "execute_result"
    }
   ],
   "source": [
    "iris.head()"
   ]
  },
  {
   "cell_type": "markdown",
   "metadata": {},
   "source": [
    "We can see that all four input variables are numeric and that the target class variable is a string representing the iris flower species. This dataset contains duplicate rows that provides a good basis for data cleaning.\n",
    "\n",
    "---\n",
    "\n",
    "## 3. Identify Columns That Contain a Single Value\n",
    "\n",
    "Columns that have a single observation or value are probably useless for modeling. These columns or predictors are referred to zero-variance predictors as if we measured the variance (average value from the mean), it would be zero.\n",
    "\n",
    "Here, a single value means that each row for that column has the same value. For example, the column $X1$ has the value $1.0$ for all rows in the dataset:\n",
    "```\n",
    "X1\n",
    "1.0\n",
    "1.0\n",
    "1.0\n",
    "1.0\n",
    "1.0\n",
    "...\n",
    "```\n",
    "\n",
    "Columns that have a single value for all rows do not contain any information for modeling. Depending on the choice of data preparation and modeling algorithms, variables with a single value can also cause errors or unexpected results.\n",
    "\n",
    "You can detect rows that have this property using the `unique()` NumPy function that will report the number of unique values in each column.\n",
    "- From the oil-spill dataset, determine the number of unique values for each column using the `unique()` NumPy function. Your output should look look something similar to:\n",
    "\n",
    " ```\n",
    "0 238\n",
    "1 297\n",
    "2 927\n",
    "3 933\n",
    "4 179\n",
    "5 375\n",
    "6 820\n",
    "7 618\n",
    "8 561\n",
    "9 57\n",
    "10 577\n",
    "11 59\n",
    "12 73\n",
    "13 107\n",
    "14 53\n",
    "15 91\n",
    "16 893\n",
    "17 810\n",
    "18 170\n",
    "19 53\n",
    "20 68\n",
    "21 9\n",
    "22 1\n",
    "23 92\n",
    "24 9\n",
    "25 8\n",
    "26 9\n",
    "27 308\n",
    "28 447\n",
    "29 392\n",
    "30 107\n",
    "31 42\n",
    "32 4\n",
    "33 45\n",
    "34 141\n",
    "35 110\n",
    "36 3\n",
    "37 758\n",
    "38 9\n",
    "39 9\n",
    "40 388\n",
    "41 220\n",
    "42 644\n",
    "43 649\n",
    "44 499\n",
    "45 2\n",
    "46 937\n",
    "47 169\n",
    "48 286\n",
    "49 2\n",
    "```"
   ]
  },
  {
   "cell_type": "code",
   "execution_count": 28,
   "metadata": {
    "ExecuteTime": {
     "end_time": "2021-01-14T06:14:00.429746Z",
     "start_time": "2021-01-14T06:14:00.406807Z"
    }
   },
   "outputs": [
    {
     "name": "stdout",
     "output_type": "stream",
     "text": [
      "0 238\n",
      "1 297\n",
      "2 927\n",
      "3 933\n",
      "4 179\n",
      "5 375\n",
      "6 820\n",
      "7 618\n",
      "8 561\n",
      "9 57\n",
      "10 577\n",
      "11 59\n",
      "12 73\n",
      "13 107\n",
      "14 53\n",
      "15 91\n",
      "16 893\n",
      "17 810\n",
      "18 170\n",
      "19 53\n",
      "20 68\n",
      "21 9\n",
      "22 1\n",
      "23 92\n",
      "24 9\n",
      "25 8\n",
      "26 9\n",
      "27 308\n",
      "28 447\n",
      "29 392\n",
      "30 107\n",
      "31 42\n",
      "32 4\n",
      "33 45\n",
      "34 141\n",
      "35 110\n",
      "36 3\n",
      "37 758\n",
      "38 9\n",
      "39 9\n",
      "40 388\n",
      "41 220\n",
      "42 644\n",
      "43 649\n",
      "44 499\n",
      "45 2\n",
      "46 937\n",
      "47 169\n",
      "48 286\n",
      "49 2\n"
     ]
    }
   ],
   "source": [
    "for i in range(oilspill.shape[1]):\n",
    "    print(i, len(np.unique(oilspill[:,i])))"
   ]
  },
  {
   "cell_type": "markdown",
   "metadata": {},
   "source": [
    "We can see that column index 22 only has a single value and should be removed.\n",
    "\n",
    "A simpler approach is to use the `nunique()` Pandas function that does the hard work for you.\n",
    "- Read the *oil-spill* dataset using `read_csv` Pandas function.\n",
    "- Using the `nunique()` function, determine the number of unique values for each column. You should get the same results."
   ]
  },
  {
   "cell_type": "code",
   "execution_count": 41,
   "metadata": {
    "ExecuteTime": {
     "end_time": "2021-01-14T06:32:54.667212Z",
     "start_time": "2021-01-14T06:32:54.643291Z"
    }
   },
   "outputs": [
    {
     "data": {
      "text/plain": [
       "0     238\n",
       "1     297\n",
       "2     927\n",
       "3     933\n",
       "4     179\n",
       "5     375\n",
       "6     820\n",
       "7     618\n",
       "8     561\n",
       "9      57\n",
       "10    577\n",
       "11     59\n",
       "12     73\n",
       "13    107\n",
       "14     53\n",
       "15     91\n",
       "16    893\n",
       "17    810\n",
       "18    170\n",
       "19     53\n",
       "20     68\n",
       "21      9\n",
       "22      1\n",
       "23     92\n",
       "24      9\n",
       "25      8\n",
       "26      9\n",
       "27    308\n",
       "28    447\n",
       "29    392\n",
       "30    107\n",
       "31     42\n",
       "32      4\n",
       "33     45\n",
       "34    141\n",
       "35    110\n",
       "36      3\n",
       "37    758\n",
       "38      9\n",
       "39      9\n",
       "40    388\n",
       "41    220\n",
       "42    644\n",
       "43    649\n",
       "44    499\n",
       "45      2\n",
       "46    937\n",
       "47    169\n",
       "48    286\n",
       "49      2\n",
       "dtype: int64"
      ]
     },
     "execution_count": 41,
     "metadata": {},
     "output_type": "execute_result"
    }
   ],
   "source": [
    "oil_spill = pd.read_csv('oil-spill.csv', header = None)\n",
    "\n",
    "oil_spill.nunique()"
   ]
  },
  {
   "cell_type": "markdown",
   "metadata": {},
   "source": [
    "---\n",
    "\n",
    "## 4. Delete Columns That Contain a Single Value\n",
    "\n",
    "Variables or columns that have a single value should probably be removed from your dataset.\n",
    "\n",
    "Columns are relatively easy to remove from a NumPy array or Pandas DataFrame.\n",
    "- From the oil-spill dataset, record all columns that have a single unique value, then delete them from the Pandas DataFrame by calling the `drop()` function. Your dataset should have a shape of `(937, 49)`."
   ]
  },
  {
   "cell_type": "code",
   "execution_count": 42,
   "metadata": {
    "ExecuteTime": {
     "end_time": "2021-01-14T06:32:55.747978Z",
     "start_time": "2021-01-14T06:32:55.742002Z"
    }
   },
   "outputs": [
    {
     "data": {
      "text/plain": [
       "(937, 49)"
      ]
     },
     "execution_count": 42,
     "metadata": {},
     "output_type": "execute_result"
    }
   ],
   "source": [
    "oil_spill.drop(labels = 22, axis = 1, inplace = True) # Can just put 22 in the argument.\n",
    "\n",
    "oil_spill.shape"
   ]
  },
  {
   "cell_type": "markdown",
   "metadata": {},
   "source": [
    "---\n",
    "\n",
    "## 5. Consider Columns That Have Very Few Values\n",
    "\n",
    "In the previous section, we saw that some columns in the example dataset had very few unique values. For example, there were columns that only had 2, 4, and 9 unique values. This might make sense for ordinal or categorical variables. In this case, however, the dataset only contains numerical variables. As such, only having 2, 4, or 9 unique numerical values in a column might be surprising. We can refer to these columns or predictors as near-zero variance predictors, as their variance is not zero, but a very small number close to zero. These columns may or may not contribute to the skill of a model. We cannot assume that they are useless to modeling. Depending on the choice of data preparation and modeling algorithms, variables with very few numerical values can also cause errors or unexpected results.\n",
    "\n",
    "To help highlight columns of this type,\n",
    "- calculate the number of unique values for each variable as a percentage of the total number of rows in the dataset. Let's do this on the oil-spill dataset using NumPy. \n",
    "\n",
    " Expected output:\n",
    " ```\n",
    " 0, 238, 25.4%\n",
    " 1, 297, 31.7%\n",
    " 2, 927, 98.9%\n",
    " 3, 933, 99.6%\n",
    " 4, 179, 19.1%\n",
    " 5, 375, 40.0%\n",
    " 6, 820, 87.5%\n",
    " 7, 618, 66.0%\n",
    " 8, 561, 59.9%\n",
    " 9, 57, 6.1%\n",
    " 10, 577, 61.6%\n",
    " 11, 59, 6.3%\n",
    " 12, 73, 7.8%\n",
    " 13, 107, 11.4%\n",
    " 14, 53, 5.7%\n",
    " 15, 91, 9.7%\n",
    " 16, 893, 95.3%\n",
    " 17, 810, 86.4%\n",
    " 18, 170, 18.1%\n",
    " 19, 53, 5.7%\n",
    " 20, 68, 7.3%\n",
    " 21, 9, 1.0%\n",
    " 22, 1, 0.1%\n",
    " 23, 92, 9.8%\n",
    " 24, 9, 1.0%\n",
    " 25, 8, 0.9%\n",
    " 26, 9, 1.0%\n",
    " 27, 308, 32.9%\n",
    " 28, 447, 47.7%\n",
    " 29, 392, 41.8%\n",
    " 30, 107, 11.4%\n",
    " 31, 42, 4.5%\n",
    " 32, 4, 0.4%\n",
    " 33, 45, 4.8%\n",
    " 34, 141, 15.0%\n",
    " 35, 110, 11.7%\n",
    " 36, 3, 0.3%\n",
    " 37, 758, 80.9%\n",
    " 38, 9, 1.0%\n",
    " 39, 9, 1.0%\n",
    " 40, 388, 41.4%\n",
    " 41, 220, 23.5%\n",
    " 42, 644, 68.7%\n",
    " 43, 649, 69.3%\n",
    " 44, 499, 53.3%\n",
    " 45, 2, 0.2%\n",
    " 46, 937, 100.0%\n",
    " 47, 169, 18.0%\n",
    " 48, 286, 30.5%\n",
    " 49, 2, 0.2%\n",
    " ```"
   ]
  },
  {
   "cell_type": "code",
   "execution_count": 47,
   "metadata": {
    "ExecuteTime": {
     "end_time": "2021-01-14T06:35:32.124417Z",
     "start_time": "2021-01-14T06:35:32.080535Z"
    }
   },
   "outputs": [
    {
     "name": "stdout",
     "output_type": "stream",
     "text": [
      "0 , 238 , 25.4%\n",
      "1 , 297 , 31.7%\n",
      "2 , 927 , 98.9%\n",
      "3 , 933 , 99.6%\n",
      "4 , 179 , 19.1%\n",
      "5 , 375 , 40.0%\n",
      "6 , 820 , 87.5%\n",
      "7 , 618 , 66.0%\n",
      "8 , 561 , 59.9%\n",
      "9 , 57 , 6.1%\n",
      "10 , 577 , 61.6%\n",
      "11 , 59 , 6.3%\n",
      "12 , 73 , 7.8%\n",
      "13 , 107 , 11.4%\n",
      "14 , 53 , 5.7%\n",
      "15 , 91 , 9.7%\n",
      "16 , 893 , 95.3%\n",
      "17 , 810 , 86.4%\n",
      "18 , 170 , 18.1%\n",
      "19 , 53 , 5.7%\n",
      "20 , 68 , 7.3%\n",
      "21 , 9 , 1.0%\n",
      "22 , 1 , 0.1%\n",
      "23 , 92 , 9.8%\n",
      "24 , 9 , 1.0%\n",
      "25 , 8 , 0.9%\n",
      "26 , 9 , 1.0%\n",
      "27 , 308 , 32.9%\n",
      "28 , 447 , 47.7%\n",
      "29 , 392 , 41.8%\n",
      "30 , 107 , 11.4%\n",
      "31 , 42 , 4.5%\n",
      "32 , 4 , 0.4%\n",
      "33 , 45 , 4.8%\n",
      "34 , 141 , 15.0%\n",
      "35 , 110 , 11.7%\n",
      "36 , 3 , 0.3%\n",
      "37 , 758 , 80.9%\n",
      "38 , 9 , 1.0%\n",
      "39 , 9 , 1.0%\n",
      "40 , 388 , 41.4%\n",
      "41 , 220 , 23.5%\n",
      "42 , 644 , 68.7%\n",
      "43 , 649 , 69.3%\n",
      "44 , 499 , 53.3%\n",
      "45 , 2 , 0.2%\n",
      "46 , 937 , 100.0%\n",
      "47 , 169 , 18.0%\n",
      "48 , 286 , 30.5%\n",
      "49 , 2 , 0.2%\n"
     ]
    }
   ],
   "source": [
    "for i in range(oilspill.shape[1]):\n",
    "    leng = len(np.unique(oilspill[:,i]))\n",
    "    fract = len(np.unique(oilspill[:,i]))/oilspill.shape[0]\n",
    "    print(i,',', leng,',', str(round(fract*100,1))+'%')"
   ]
  },
  {
   "cell_type": "markdown",
   "metadata": {},
   "source": [
    "The output reports the column index and the number of unique values for each column, followed by the percentage of unique values out of all rows in the dataset. Here, we can see that some columns have a very low percentage of unique values, such as below 1 percent.\n",
    "\n",
    "- From your code above, summarize those variables that have unique values that are less than 1 percent of the number of rows\n",
    " \n",
    " Expected output:\n",
    " ```\n",
    " 21, 9, 1.0%\n",
    " 22, 1, 0.1%\n",
    " 24, 9, 1.0%\n",
    " 25, 8, 0.9%\n",
    " 26, 9, 1.0%\n",
    " 32, 4, 0.4%\n",
    " 36, 3, 0.3%\n",
    " 38, 9, 1.0%\n",
    " 39, 9, 1.0%\n",
    " 45, 2, 0.2%\n",
    " 49, 2, 0.2%\n",
    " ```"
   ]
  },
  {
   "cell_type": "code",
   "execution_count": 49,
   "metadata": {
    "ExecuteTime": {
     "end_time": "2021-01-14T06:36:28.597190Z",
     "start_time": "2021-01-14T06:36:28.581233Z"
    }
   },
   "outputs": [
    {
     "name": "stdout",
     "output_type": "stream",
     "text": [
      "21 , 9 , 1.0%\n",
      "22 , 1 , 0.1%\n",
      "24 , 9 , 1.0%\n",
      "25 , 8 , 0.9%\n",
      "26 , 9 , 1.0%\n",
      "32 , 4 , 0.4%\n",
      "36 , 3 , 0.3%\n",
      "38 , 9 , 1.0%\n",
      "39 , 9 , 1.0%\n",
      "45 , 2 , 0.2%\n",
      "49 , 2 , 0.2%\n"
     ]
    }
   ],
   "source": [
    "for i in range(oilspill.shape[1]):\n",
    "    leng = len(np.unique(oilspill[:,i]))\n",
    "    fract = len(np.unique(oilspill[:,i]))/oilspill.shape[0]\n",
    "    if fract <= 0.01:\n",
    "        print(i,',', leng,',', str(round(fract*100,1))+'%')"
   ]
  },
  {
   "cell_type": "markdown",
   "metadata": {},
   "source": [
    "From the output, we can see that 11 of the 50 variables have numerical variables that have unique values that are less than 1 percent of the number of rows. This does not mean that these rows and columns should be deleted, but they require further attention. For example:\n",
    "- Perhaps the unique values can be encoded as ordinal values?\n",
    "- Perhaps the unique values can be encoded as categorical values?\n",
    "- Perhaps compare model skill with each variable removed from the dataset?\n",
    "\n",
    "However, for the sake of this exercise,\n",
    "- read the oil-spill dataset again using pandas `read_csv` and delete all 11 columns with unique values less than 1 percent of rows. Your dataset should have a shape of `(937, 39)`."
   ]
  },
  {
   "cell_type": "code",
   "execution_count": 53,
   "metadata": {
    "ExecuteTime": {
     "end_time": "2021-01-14T06:39:21.036049Z",
     "start_time": "2021-01-14T06:39:21.005131Z"
    }
   },
   "outputs": [
    {
     "data": {
      "text/plain": [
       "(936, 39)"
      ]
     },
     "execution_count": 53,
     "metadata": {},
     "output_type": "execute_result"
    }
   ],
   "source": [
    "deleteIdx = []\n",
    "for i in range(oilspill.shape[1]):\n",
    "    leng = len(np.unique(oilspill[:,i]))\n",
    "    fract = len(np.unique(oilspill[:,i]))/oilspill.shape[0]\n",
    "    if fract <= 0.01:\n",
    "        deleteIdx.append(i)\n",
    "        \n",
    "oil_spill = pd.read_csv('oil-spill.csv')\n",
    "oil_spill.drop(oil_spill.columns[deleteIdx], axis = 1, inplace = True)\n",
    "oil_spill.shape"
   ]
  },
  {
   "cell_type": "markdown",
   "metadata": {},
   "source": [
    "---\n",
    "\n",
    "## 6. Remove Columns That Have A Low Variance\n",
    "\n",
    "Another approach to the problem of removing columns with few unique values is to consider the variance of the column. Recall that the variance is a statistic calculated on a variable as the average squared difference of values in the sample from the mean. The variance can be used as a filter for identifying columns to be removed from the dataset. A column that has a single value has a variance of $0.0$, and a column that has very few unique values may have a small variance. The `VarianceThreshold` class from the scikit-learn library supports this as a type of feature selection. An instance of the class can be created and we can specify the `threshold` argument, which defaults to $0.0$ to remove columns with a single value. It can then be fitted and applied to a dataset by calling the `fit_transform()` function to create a transformed version of the dataset where the columns that have a variance lower than the threshold have been removed automatically.\n",
    "```python\n",
    "'''Example of  how to configure and apply the VarianceThreshold to data.'''\n",
    "\n",
    "from sklearn.feature_selection import VarianceThreshold\n",
    "...\n",
    "# define the transform\n",
    "transform = VarianceThreshold()\n",
    "# transform the input data\n",
    "X_sel = transform.fit_transform(X)\n",
    "```\n",
    "\n",
    "Let's demonstrate this on the oil spill dataset.\n",
    "- Load the oil-spill dataset using `read_csv` in Pandas and use the method above to remove all columns with a variance of $0.0$. You should also exclude the class label before applying the `VarianceThreshold`. Your dataset should have a shape of `(937, 48)`."
   ]
  },
  {
   "cell_type": "code",
   "execution_count": 55,
   "metadata": {
    "ExecuteTime": {
     "end_time": "2021-01-14T06:40:56.907574Z",
     "start_time": "2021-01-14T06:40:56.903621Z"
    }
   },
   "outputs": [],
   "source": [
    "from sklearn.feature_selection import VarianceThreshold\n",
    "import pandas as pd"
   ]
  },
  {
   "cell_type": "code",
   "execution_count": 68,
   "metadata": {
    "ExecuteTime": {
     "end_time": "2021-01-14T06:48:48.935211Z",
     "start_time": "2021-01-14T06:48:48.910278Z"
    }
   },
   "outputs": [
    {
     "data": {
      "text/plain": [
       "(937, 48)"
      ]
     },
     "execution_count": 68,
     "metadata": {},
     "output_type": "execute_result"
    }
   ],
   "source": [
    "oil_spill = pd.read_csv('oil-spill.csv', header = None)\n",
    "\n",
    "transform = VarianceThreshold()\n",
    "X = oil_spill.iloc[:,:-1]\n",
    "Y = oil_spill.iloc[:,-1]\n",
    "X_trans = transform.fit_transform(X)\n",
    "X_trans.shape"
   ]
  },
  {
   "cell_type": "markdown",
   "metadata": {},
   "source": [
    "We can expand this example and see what happens when we use different thresholds.\n",
    "\n",
    "- We can define a sequence of thresholds from $0.0$ to $0.5$ with a step size of $0.05$, e.g. $0.0$, $0.05$, $0.1$, etc.\n",
    " \n",
    " ```python\n",
    " ...\n",
    " # define thresholds to check\n",
    " thresholds = arange(0.0, 0.55, 0.05)\n",
    " ```  \n",
    " <br>\n",
    " We can then report the number of features in the transformed dataset for each given threshold. <br></br>\n",
    " \n",
    " ```python\n",
    " ...\n",
    " # apply transform with each threshold\n",
    " results = list()\n",
    " for t in thresholds:\n",
    "     # define the transform\n",
    "     transform = VarianceThreshold(threshold=t)\n",
    "     # transform the input data\n",
    "     X_sel = transform.fit_transform(X)\n",
    "     # determine the number of input features\n",
    "     n_features = X_sel.shape[1]\n",
    "     print('>Threshold=%.2f, Features=%d' % (t, n_features))\n",
    "     # store the result\n",
    "     results.append(n_features)\n",
    " ```\n",
    " <br>\n",
    " Finally, we can plot the results."
   ]
  },
  {
   "cell_type": "code",
   "execution_count": null,
   "metadata": {},
   "outputs": [],
   "source": []
  },
  {
   "attachments": {
    "2ffafaaa-251c-4b61-8c8c-d2132620a444.png": {
     "image/png": "[encoded data removed]"
    }
   },
   "cell_type": "markdown",
   "metadata": {},
   "source": [
    "Expected output:\n",
    "```\n",
    ">Threshold=0.00, Features=48\n",
    ">Threshold=0.05, Features=37\n",
    ">Threshold=0.10, Features=36\n",
    ">Threshold=0.15, Features=35\n",
    ">Threshold=0.20, Features=35\n",
    ">Threshold=0.25, Features=35\n",
    ">Threshold=0.30, Features=35\n",
    ">Threshold=0.35, Features=35\n",
    ">Threshold=0.40, Features=35\n",
    ">Threshold=0.45, Features=33\n",
    ">Threshold=0.50, Features=31\n",
    "```\n",
    "![image.png](attachment:2ffafaaa-251c-4b61-8c8c-d2132620a444.png)"
   ]
  },
  {
   "cell_type": "markdown",
   "metadata": {},
   "source": [
    "The `VarianceThreshold` is applied to the raw dataset with values from $0.0$ to $0.5$ and the number of remaining features after the transform is applied are reported. The number of features in the dataset quickly drops from 49 in the unchanged data down to 35 with a threshold of $0.15$. It later drops to 31 (18 columns deleted) with a threshold of $0.5$.\n",
    "\n",
    "A line plot is created to show the relationship between the threshold and the number of features in the transformed dataset. We can see that even with a small threshold between 0.15 and 0.4, that a large number of features (14) are removed immediately.\n",
    "\n",
    "---\n",
    "\n",
    "## 7. Identify Rows That Contain Duplicate Data\n",
    "\n",
    "Rows that have identical data are could be useless to the modeling process, if not dangerously misleading during model evaluation. Here, a duplicate row is a row where each value in each column for that row appears in identically the same order (same column values) in another row. \n",
    "\n",
    "From a probabilistic perspective, you can think of duplicate data as adjusting the priors for a class label or data distribution. This may help an algorithm like Naive Bayes if you wish to purposefully bias the priors. Typically, this is not the case and machine learning algorithms will perform better by identifying and removing rows with duplicate data. From an algorithm evaluation perspective, duplicate rows will result in misleading performance. For example, it is possible for a duplicate row or rows to appear in both train and test datasets and any evaluation of the model on these rows will be (or should be) correct. This will result in an optimistically biased estimate of performance on unseen data.\n",
    "\n",
    "If you think this is not the case for your dataset or chosen model, design a controlled experiment to test it. This could be achieved by evaluating model skill with the raw dataset and the dataset with duplicates removed and comparing performance. Another experiment might involve augmenting the dataset with different numbers of randomly selected duplicate examples.\n",
    "\n",
    "The Pandas function `duplicated()` will report whether a given row is duplicated or not. All rows are marked as either False to indicate that it is not a duplicate or True to indicate that it is a duplicate. If there are duplicates, the first occurrence of the row is marked False (by default).\n",
    "\n",
    "- In the *iris flowers* dataset, determine the duplicated entries using the Pandas function `duplicated()`. You should expect 3 duplicated entries."
   ]
  },
  {
   "cell_type": "code",
   "execution_count": 74,
   "metadata": {
    "ExecuteTime": {
     "end_time": "2021-01-14T06:52:52.832570Z",
     "start_time": "2021-01-14T06:52:52.821557Z"
    }
   },
   "outputs": [
    {
     "data": {
      "text/plain": [
       "False    147\n",
       "True       3\n",
       "dtype: int64"
      ]
     },
     "execution_count": 74,
     "metadata": {},
     "output_type": "execute_result"
    }
   ],
   "source": [
    "iris = pd.read_csv('iris.csv', header = None)\n",
    "iris_dup = iris.duplicated()\n",
    "iris_dup.value_counts()"
   ]
  },
  {
   "cell_type": "markdown",
   "metadata": {},
   "source": [
    "---\n",
    "\n",
    "## 8. Delete Rows That Contain Duplicate Data\n",
    "\n",
    "Rows of duplicate data should probably be deleted from your dataset prior to modeling.\n",
    "\n",
    "\n",
    "There are many ways to achieve this, although Pandas provides the `drop_duplicates()` function that achieves exactly this.\n",
    "- Use the `drop_duplicated()` function to delete the duplicate rows from the *iris flowers* dataset. Your Your dataset should have a shape of `(147, 5)`."
   ]
  },
  {
   "cell_type": "code",
   "execution_count": 77,
   "metadata": {
    "ExecuteTime": {
     "end_time": "2021-01-14T06:53:44.921770Z",
     "start_time": "2021-01-14T06:53:44.914748Z"
    }
   },
   "outputs": [
    {
     "data": {
      "text/plain": [
       "(147, 5)"
      ]
     },
     "execution_count": 77,
     "metadata": {},
     "output_type": "execute_result"
    }
   ],
   "source": [
    "iris.drop_duplicates(inplace = True)\n",
    "iris.shape"
   ]
  },
  {
   "cell_type": "markdown",
   "metadata": {},
   "source": [
    "---\n",
    "\n",
    "## 9. References\n",
    "\n",
    "- [numpy.unique](https://docs.scipy.org/doc/numpy/reference/generated/numpy.unique.html)\n",
    "- [pandas.DataFrame.nunique](https://pandas.pydata.org/pandas-docs/stable/reference/api/pandas.DataFrame.nunique.html)\n",
    "- [pandas.DataFrame.drop](https://pandas.pydata.org/pandas-docs/stable/reference/api/pandas.DataFrame.drop.html)\n",
    "- [pandas.DataFrame.duplicated](https://pandas.pydata.org/pandas-docs/stable/reference/api/pandas.DataFrame.duplicated.html)\n",
    "- [pandas.DataFrame.drop duplicates](https://pandas.pydata.org/pandas-docs/stable/reference/api/pandas.DataFrame.drop_duplicates.html)"
   ]
  }
 ],
 "metadata": {
  "kernelspec": {
   "display_name": "Python 3",
   "language": "python",
   "name": "python3"
  },
  "language_info": {
   "codemirror_mode": {
    "name": "ipython",
    "version": 3
   },
   "file_extension": ".py",
   "mimetype": "text/x-python",
   "name": "python",
   "nbconvert_exporter": "python",
   "pygments_lexer": "ipython3",
   "version": "3.7.7"
  }
 },
 "nbformat": 4,
 "nbformat_minor": 4
}
