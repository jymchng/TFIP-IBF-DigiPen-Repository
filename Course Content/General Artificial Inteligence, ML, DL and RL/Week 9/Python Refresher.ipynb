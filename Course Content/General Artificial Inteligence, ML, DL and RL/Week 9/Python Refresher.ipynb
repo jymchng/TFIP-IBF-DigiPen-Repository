{
 "cells": [
  {
   "cell_type": "markdown",
   "metadata": {},
   "source": [
    "# Python Refresher\n",
    "\n",
    "The exercises here are meant for a quick refresher. For more practice, you are encouraged to revisit the previous topics, focusing on the exercises in the these topics.\n",
    "- Data Manipulation\n",
    "- NumPy\n",
    "- Matplotlib\n",
    "- Pandas\n",
    "\n",
    "---\n",
    "\n",
    "## Numbers\n",
    "\n",
    "\n",
    "Answer the following questions. You may use the `math` module.\n",
    "\n",
    "1. What is the function that returns the variable type of a value? Using your answer, determine the types of the following:\n",
    "```\n",
    "a = 9\n",
    "b = -2\n",
    "c = 3.14\n",
    "d = 1j\n",
    "```\n",
    "<br></br>\n",
    "2. What are the types of the following output? Confirm your answer using the function in question 1.\n",
    "```\n",
    "9/2\n",
    "4/2\n",
    "4/1\n",
    "```\n",
    "<br></br>\n",
    "3. What are the types of the following output? Confirm your answer using the function in question 1.\n",
    "```\n",
    "9//2\n",
    "4//2.0\n",
    "4//2\n",
    "```\n",
    "<br></br>\n",
    "4. Determine the output of the following:\n",
    " - remainder of $123\\div 4$\n",
    " - $12.3^4$ in 2 decimal places\n",
    " - $\\sqrt[3]{15.625}$ rounded to the nearest whole number\n",
    " - $\\log_2{256}$  \n",
    " - $\\ln{2}$\n",
    " - greatest common divisor between $8$ and $12$\n",
    " - lowest common multiple between $8$ and $12$\n",
    " - $5!$ (factorial)\n",
    " - $\\lvert-5\\rvert$ (absolute)\n",
    " <br></br>\n",
    "5. Given $\\sin{\\theta} = \\frac{\\sqrt{3}}{2}$, what is $\\theta$ in terms of $\\pi$?\n",
    "6. What is mean, median and mode?\n",
    "7. What is variance and standard deviation? What is their relationship?"
   ]
  },
  {
   "cell_type": "code",
   "execution_count": null,
   "metadata": {},
   "outputs": [],
   "source": []
  },
  {
   "cell_type": "markdown",
   "metadata": {},
   "source": [
    "---\n",
    "## Strings"
   ]
  },
  {
   "cell_type": "code",
   "execution_count": 18,
   "metadata": {
    "ExecuteTime": {
     "end_time": "2021-01-13T06:02:03.365393Z",
     "start_time": "2021-01-13T06:02:03.361361Z"
    }
   },
   "outputs": [],
   "source": [
    "myStr = 'hello world'"
   ]
  },
  {
   "cell_type": "markdown",
   "metadata": {},
   "source": [
    "Run the cell above and answer the following related to `myStr`.\n",
    "1. Print the first character [output: `h`].\n",
    "2. Print the number of characters [output: `11`].\n",
    "3. Print the last character [output: `d`],\n",
    " 1. using positive index.\n",
    " 2. using negative index.\n",
    "4. Count the number of `l`s [output: `3`].\n",
    "5. Count the number of vowels (i.e. *a, e, i, o, u*) [output: `3`].\n",
    "6. Print the index of `w` [output: `6`].\n",
    "7. Capitalize the first letter of each word [output: `Hello World`].\n",
    "8. Using the `in` keyword, check if the following strings are present:\n",
    " 1. `world` [output: True]\n",
    " 2. `cat` [output: False]\n",
    "9. Repeat question 8 using the `not in` keywords.\n",
    "10. Replace `world` with `Andrew` [output: `hello Andrew`]\n",
    "11. Insert `, my name is ` in between `hello` and `world` [output: `hello, my name is Andrew`]\n",
    "12. Remove all characters except for `Andrew`.\n",
    "13. Using slice, get the characters from index 2 to position 5 (not included).\n",
    "14. Get the same characters from question 13 using negative index slicing."
   ]
  },
  {
   "cell_type": "code",
   "execution_count": null,
   "metadata": {},
   "outputs": [],
   "source": [
    "print(myStr[0])\n",
    "print(len(myStr))\n",
    "print(myStr[-1])\n",
    "print(myStr[len(myStr)-1])"
   ]
  },
  {
   "cell_type": "markdown",
   "metadata": {},
   "source": [
    "---\n",
    "## Lists/Tuple"
   ]
  },
  {
   "cell_type": "code",
   "execution_count": 30,
   "metadata": {
    "ExecuteTime": {
     "end_time": "2021-01-13T06:13:53.274660Z",
     "start_time": "2021-01-13T06:13:53.269674Z"
    }
   },
   "outputs": [],
   "source": [
    "myList = [-1, 'apple', 2, ('cat', 3, 'dog'), 4.0]"
   ]
  },
  {
   "cell_type": "markdown",
   "metadata": {},
   "source": [
    "Run the cell above and answer the following related to `myList`.\n",
    "1. Print the second element [output: `apple`].\n",
    "2. Print the number of elements [output: `4`].\n",
    "3. Print the last element [output: `4.0`],\n",
    " 1. using positive index.\n",
    " 2. using negative index.\n",
    "4. Count the number of strings [output: `1`].\n",
    "5. Find the sum of all numbers [output: `8.0`]\n",
    "6. Print the index of `2` [output: `2`].\n",
    "7. Replace `apple` with `orange` [output: `[-1, 'orange', 2, ('cat', 3, 'dog'), 4.0]`]\n",
    "8. Expand the elements in the tuple into `myList` [output: `[-1, 'orange', 2, 'cat', 3, 'dog', 4.0]`]\n",
    "9. Remove `dog` [output: `[-1, 'orange', 2, 'cat', 3, 4.0]`]\n",
    "10. Separate `myList` into 2 lists `numList` containing only numbers, and `strList` containing only strings.\n",
    "11. multiply each element in `numList` by 2 [output: `[-2, 4, 6, 8.0]`]\n"
   ]
  },
  {
   "cell_type": "code",
   "execution_count": 53,
   "metadata": {
    "ExecuteTime": {
     "end_time": "2021-01-13T06:24:11.960806Z",
     "start_time": "2021-01-13T06:24:11.950834Z"
    }
   },
   "outputs": [
    {
     "name": "stdout",
     "output_type": "stream",
     "text": [
      "Q1  apple \n",
      "Q2  6 \n",
      "Q3B  4.0 \n",
      "Q3A  4.0\n",
      "Q4 2\n",
      "Q5 4\n",
      "Q6 2\n",
      "Q7 [-1, 'orange', 2, 'cat', 3, 4.0]\n",
      "Q8 [-1, 'apple', 2, 'cat', 3, 'dog', 4.0]\n",
      "Q9 [-1, 'apple', 2, 'cat', 3, 4.0]\n",
      "Q10 [-1, 2, 3, 4.0]\n",
      "Q10 ['apple', 'cat']\n",
      "Q11 [-2, 4, 6, 8.0]\n"
     ]
    }
   ],
   "source": [
    "print(\"Q1 \", myList[1], \"\\nQ2 \", len(myList), \"\\nQ3B \", myList[-1], \"\\nQ3A \", myList[len(myList)-1])\n",
    "x = sum(1 for y in myList if isinstance(y, str))\n",
    "print(\"Q4\", x)\n",
    "x = sum(1 for y in myList if isinstance(y, (int,float)))\n",
    "print(\"Q5\", x)\n",
    "print(\"Q6\", myList[2])\n",
    "myList[1] = 'orange'\n",
    "print(\"Q7\", myList)\n",
    "myList = [-1, 'apple', 2, ('cat', 3, 'dog'), 4.0]\n",
    "myList = myList[0:3]+list(myList[3])+[myList[-1]]\n",
    "print(\"Q8\", myList)\n",
    "myList.pop(myList.index('dog'))\n",
    "print(\"Q9\", myList)\n",
    "numList = [x for x in myList if type(x) in (int,float)]\n",
    "print(\"Q10\", numList)\n",
    "print(\"Q10\",[x for x in myList if type(x) == str])\n",
    "numList = map(lambda x: x*2, numList)\n",
    "print(\"Q11\", list(numList))"
   ]
  },
  {
   "cell_type": "markdown",
   "metadata": {},
   "source": [
    "---\n",
    "\n",
    "## NumPy\n",
    "\n",
    "Before you begin, understand the definition of arrays, matrices and vectors, and how their are represented in NumPy.\n",
    "\n",
    "1. Import the numpy library\n",
    "2. Create an array consisting of running floating point values $1.0$, $2.0$ and $3.0$.\n",
    "3. Print the shape of the array\n",
    "4. Print the array data type\n",
    "5. Create and print an empty $3\\times 3$ two-dimensional array.\n",
    "6. Create and print a $3\\times 5$ two-dimensional array consisting of zeros.\n",
    "7. Create and print a $5$-element one-dimensional array consisting of ones.\n",
    "8. Given 3 arrays `[1,2,3,4]`,`[5,6,7,8]` and `[9,10,11,12]`, stack them vertically such that the output is a $3\\times 4$ two-dimensional array. Store it as `vArr`\n",
    " 1. Print the middle row\n",
    " 2. Print the elements in the 2nd column [output: `2, 6, 10`]\n",
    " 3. Get the element in the 3rd row, 3rd column\n",
    " 4. Using slicing (`:`), select all rows and all columns except the last column and store it in `x`\n",
    " 5. Find $x^T$\n",
    " 6. Find $\\lvert x\\rvert$\n",
    " 7. Flatten `x` such that the output is a $9$-element one-dimensional array. Store it as `hArr`\n",
    " 8. Find the mean of `hArr`\n",
    " 9. Add 2 to each element in `hArr`\n",
    " 10. Replace all odd numbers in `hArr` with $-1$\n",
    " 11. Print the shape of `hArr` [output: `(9,)`]\n",
    " 12. Reshape the array to 9 rows and 1 column. Confirm by printing the shape of the new array.\n",
    "9. Get the common elements between two arrays `[1,2,3,2,3,4,3,4,5,6]` and `[7,2,10,2,7,4,9,4,9,8]`\n",
    "10. Remove from array `[1,2,3,4,5,6,7,8,9]` all elements that exists in array `[3,6,9]`. [output, `[1,2,4,5,7,8]`]\n",
    "11. Get the positionas at which elements of array A`[1,2,3,2,3,4,3,4,5,6]` matches with that of array B`[7,2,10,2,7,4,9,4,9,8]`. [output: `[1, 3, 5, 7]`]\n",
    "12. Get all items between 5 and 10 from the array `[2, 6, 1, 9, 10, 3, 27]`. [output: `[6, 9, 10]`]\n",
    "13. Given the following $3\\times 3$ two-dimensional array `[[2,1,0],[5,4,3],[8,7,6]]`\n",
    " 1. shift the first row to the last row\n",
    " 2. shift the last row to the first row\n",
    " 3. get the smallest element\n",
    " 4. get the largest element\n",
    " 5. Find the sum of all elements\n",
    " 6. Find the mean of each row, your output should be a $3\\times 1$ two-dimensional array\n",
    " 7. Find the standard deviation of each column, your output should be $3$-element one-dimensional array\n",
    " 8. Find the Eigenvalues and Eigenvectors of the array\n",
    " 9. Find the inverse of the array\n",
    "14. Create a size $3$ identity matrix\n",
    "15. What is median and mode of the the array `[99,86,87,88,111,86,103,87,94,78,77,85,86]`.\n",
    "16. Given the following array [5,31,43,48,50,41,7,11,15,39,80,82,32,2,8,6,25,36,27,61,31], determine the $75^{th}$ percentile of the array. What does this value represent?"
   ]
  },
  {
   "cell_type": "code",
   "execution_count": 67,
   "metadata": {
    "ExecuteTime": {
     "end_time": "2021-01-13T06:27:19.874875Z",
     "start_time": "2021-01-13T06:27:19.872872Z"
    }
   },
   "outputs": [],
   "source": [
    "import numpy as np"
   ]
  },
  {
   "cell_type": "code",
   "execution_count": 96,
   "metadata": {
    "ExecuteTime": {
     "end_time": "2021-01-13T07:17:52.293070Z",
     "start_time": "2021-01-13T07:17:52.276111Z"
    }
   },
   "outputs": [
    {
     "name": "stdout",
     "output_type": "stream",
     "text": [
      "Q2 [1. 2. 3.]\n",
      "Q3 (3,)\n",
      "Q4 float64\n",
      "Q5 [[1. 0. 0.]\n",
      " [0. 1. 0.]\n",
      " [0. 0. 1.]]\n",
      "Q6 [[0. 0. 0. 0. 0.]\n",
      " [0. 0. 0. 0. 0.]\n",
      " [0. 0. 0. 0. 0.]]\n",
      "Q7 [1. 1. 1. 1. 1.]\n",
      "Q8 [[ 1  2  3  4]\n",
      " [ 5  6  7  8]\n",
      " [ 9 10 11 12]]\n",
      "Q8A [5 6 7 8]\n",
      "Q8B [ 2  6 10]\n",
      "Q8C 11\n",
      "Q8D [[ 1  2  3]\n",
      " [ 5  6  7]\n",
      " [ 9 10 11]]\n",
      "Q8E [[ 1  5  9]\n",
      " [ 2  6 10]\n",
      " [ 3  7 11]]\n",
      "Q8F 20.639767440550294\n",
      "Q8G [ 1  2  3  5  6  7  9 10 11]\n",
      "Q8H 6.0\n",
      "Q8I [ 3  4  5  7  8  9 11 12 13]\n",
      "Q8J [-1  2 -1 -1  6 -1 -1 10 -1]\n",
      "Q8H (9,)\n"
     ]
    }
   ],
   "source": [
    "x = np.arange(1,4,1.0)\n",
    "print(\"Q2\", x)\n",
    "print(\"Q3\", x.shape)\n",
    "print(\"Q4\", x.dtype)\n",
    "x = np.empty(shape = (3,3))\n",
    "print(\"Q5\", x)\n",
    "x = np.zeros(shape = (3,5))\n",
    "print(\"Q6\", x)\n",
    "x = np.ones(shape = (5,))\n",
    "print(\"Q7\", x)\n",
    "x = np.vstack(([1,2,3,4],\n",
    "[5,6,7,8],\n",
    "[9,10,11,12]))\n",
    "print(\"Q8\", x)\n",
    "print(\"Q8A\", x[1,:])\n",
    "print(\"Q8B\", x[:,1])\n",
    "print(\"Q8C\", x[2,2])\n",
    "x = x[:,0:3]\n",
    "print(\"Q8D\", x)\n",
    "print(\"Q8E\", x.T)\n",
    "print(\"Q8F\", np.linalg.norm(x))\n",
    "hArr = x.flatten()\n",
    "print(\"Q8G\", hArr)\n",
    "print(\"Q8H\", np.mean(hArr))\n",
    "print(\"Q8I\", hArr + 2)\n",
    "hArr = x.flatten()\n",
    "hArr[hArr%2!=0]=-1\n",
    "print(\"Q8J\", hArr)\n",
    "print(\"Q8H\", hArr.shape)"
   ]
  },
  {
   "cell_type": "markdown",
   "metadata": {},
   "source": [
    "---\n",
    "\n",
    "## Matplotlib\n",
    "\n",
    "1. Plot the graph of $y=2x+3$. Include a suitable title, labels (axes scale, axes title), gridlines.\n",
    " 1. On the same graph, plot the graph of $y = x^2 + 1$. Use a different colour.\n",
    " 2. Show on your graph, the intercepts of the 2 graphs\n",
    "2. Create a NumPy array consisting of evenly spaced numbers between $-5$ to $5$. The numbers should be spaced by $0.1$.\n",
    " 1. Plot the standard normal distribution of the array\n",
    "3. Given `x=[5,7,8,7,2,17,2,9,4,11,12,9,6]` and `y = [99,86,87,88,111,86,103,87,94,78,77,85,86]`\n",
    " 1. draw the scatter plot. \n",
    " 2. On the same graph, plot the line of best fit (you may use other libraries)"
   ]
  },
  {
   "cell_type": "code",
   "execution_count": 1,
   "metadata": {
    "ExecuteTime": {
     "end_time": "2021-01-13T05:49:46.557048Z",
     "start_time": "2021-01-13T05:49:46.155041Z"
    }
   },
   "outputs": [],
   "source": [
    "import matplotlib\n",
    "import matplotlib.pyplot as plt\n",
    "import numpy as np"
   ]
  },
  {
   "cell_type": "code",
   "execution_count": 60,
   "metadata": {
    "ExecuteTime": {
     "end_time": "2021-01-13T06:25:38.038104Z",
     "start_time": "2021-01-13T06:25:37.872545Z"
    }
   },
   "outputs": [
    {
     "data": {
      "text/plain": [
       "<matplotlib.legend.Legend at 0x1f3848437c8>"
      ]
     },
     "execution_count": 60,
     "metadata": {},
     "output_type": "execute_result"
    },
    {
     "data": {
      "image/png": "[encoded data removed]",
      "text/plain": [
       "<Figure size 432x288 with 1 Axes>"
      ]
     },
     "metadata": {
      "needs_background": "light"
     },
     "output_type": "display_data"
    }
   ],
   "source": [
    "x = np.arange(0,10,0.01)\n",
    "y1 = 2*x+3\n",
    "y2 = x**2 + 1\n",
    "figure = plt.plot(x, y1, label = r'$ y = 2x+3 $')\n",
    "plt.text(-1,111, \"Question 1A and 1B\", fontweight = 'heavy')\n",
    "plt.plot(x, y2, label = '$y = x^2+1$')\n",
    "plt.title('Equations')\n",
    "plt.ylabel('y')\n",
    "plt.xlabel('x')\n",
    "plt.grid(alpha = 0.4)\n",
    "plt.legend()"
   ]
  },
  {
   "cell_type": "code",
   "execution_count": 64,
   "metadata": {
    "ExecuteTime": {
     "end_time": "2021-01-13T06:26:30.299493Z",
     "start_time": "2021-01-13T06:26:30.162882Z"
    }
   },
   "outputs": [
    {
     "data": {
      "text/plain": [
       "Text(-5, 0.45, 'Question 2A')"
      ]
     },
     "execution_count": 64,
     "metadata": {},
     "output_type": "execute_result"
    },
    {
     "data": {
      "image/png": "[encoded data removed]",
      "text/plain": [
       "<Figure size 432x288 with 1 Axes>"
      ]
     },
     "metadata": {
      "needs_background": "light"
     },
     "output_type": "display_data"
    }
   ],
   "source": [
    "x = np.arange(-5,5,0.1)\n",
    "y = 1/(2 * np.pi)**0.5 * np.exp(-x**2 / 2)\n",
    "figure2 = plt.plot(x, y, label = 'Standard Normal')\n",
    "plt.text(-5,0.45, \"Question 2A\", fontweight = 'heavy')"
   ]
  },
  {
   "cell_type": "code",
   "execution_count": 66,
   "metadata": {
    "ExecuteTime": {
     "end_time": "2021-01-13T06:27:01.381859Z",
     "start_time": "2021-01-13T06:27:01.249214Z"
    }
   },
   "outputs": [
    {
     "data": {
      "text/plain": [
       "Text(0, 115, 'Question 3A and 3B')"
      ]
     },
     "execution_count": 66,
     "metadata": {},
     "output_type": "execute_result"
    },
    {
     "data": {
      "image/png": "[encoded data removed]",
      "text/plain": [
       "<Figure size 432x288 with 1 Axes>"
      ]
     },
     "metadata": {
      "needs_background": "light"
     },
     "output_type": "display_data"
    }
   ],
   "source": [
    "x = [5,7,8,7,2,17,2,9,4,11,12,9,6]\n",
    "x = np.array(x)\n",
    "y = [99,86,87,88,111,86,103,87,94,78,77,85,86]\n",
    "y = np.array(y)\n",
    "coefficients = np.polyfit(x,y,2)\n",
    "z = np.poly1d(coefficients)\n",
    "new_x = np.linspace(2,20)\n",
    "z = z(new_x)\n",
    "plt.scatter(x,y)\n",
    "plt.plot(new_x,z)\n",
    "plt.text(0,115, \"Question 3A and 3B\", fontweight = 'heavy')"
   ]
  },
  {
   "cell_type": "code",
   "execution_count": null,
   "metadata": {},
   "outputs": [],
   "source": []
  }
 ],
 "metadata": {
  "kernelspec": {
   "display_name": "Python 3",
   "language": "python",
   "name": "python3"
  },
  "language_info": {
   "codemirror_mode": {
    "name": "ipython",
    "version": 3
   },
   "file_extension": ".py",
   "mimetype": "text/x-python",
   "name": "python",
   "nbconvert_exporter": "python",
   "pygments_lexer": "ipython3",
   "version": "3.7.7"
  }
 },
 "nbformat": 4,
 "nbformat_minor": 4
}
