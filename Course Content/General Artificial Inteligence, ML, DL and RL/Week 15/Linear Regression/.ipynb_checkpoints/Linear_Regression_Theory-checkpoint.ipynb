{
 "cells": [
  {
   "cell_type": "code",
   "execution_count": null,
   "metadata": {},
   "outputs": [],
   "source": [
    "#Supervised Learning Algorithms\n",
    "1.Regression Algorithms\n",
    "a)Simple and Multiple Linear Regression\n",
    "b)Lasso and Ridge Regression\n",
    "c)OLS and Gradient Descent\n",
    "2.Classification Algorithms\n",
    "a)Logistic Regression\n",
    "b)Decision Tree\n",
    "c)Random Forest\n",
    "d)KNN\n",
    "e)SVM\n",
    "f)Boosting Algorithms\n",
    "g)Naive Bayes Algorithm"
   ]
  },
  {
   "cell_type": "code",
   "execution_count": null,
   "metadata": {},
   "outputs": [],
   "source": [
    "#UnSupervised Learning Algorithms <- We dont have any dependent Variable\n",
    "k means and Heirarchical clustering Algorithms"
   ]
  },
  {
   "cell_type": "code",
   "execution_count": null,
   "metadata": {},
   "outputs": [],
   "source": [
    "#PCA and NLP"
   ]
  },
  {
   "cell_type": "code",
   "execution_count": null,
   "metadata": {},
   "outputs": [],
   "source": [
    "# Linear Regression\n",
    "#Simpple Linear Regression"
   ]
  },
  {
   "cell_type": "code",
   "execution_count": null,
   "metadata": {},
   "outputs": [],
   "source": [
    "#Multiple Linear Regression"
   ]
  },
  {
   "cell_type": "code",
   "execution_count": null,
   "metadata": {},
   "outputs": [],
   "source": [
    "y = b0+b1x1+b2x2+b3x3"
   ]
  },
  {
   "cell_type": "code",
   "execution_count": null,
   "metadata": {},
   "outputs": [],
   "source": [
    "1.OLS(Ordinary Least Square Method)\n",
    "2.Gradient Descent"
   ]
  },
  {
   "cell_type": "code",
   "execution_count": null,
   "metadata": {},
   "outputs": [],
   "source": [
    "y = mx +c \n",
    "y = 10x + 30 x = 40\n",
    "y = 430\n",
    "y = 20*120 + 100 = 2400+100 =2500"
   ]
  },
  {
   "cell_type": "code",
   "execution_count": null,
   "metadata": {},
   "outputs": [],
   "source": [
    "(10,11) and (12,45) and c = 70"
   ]
  },
  {
   "cell_type": "code",
   "execution_count": null,
   "metadata": {},
   "outputs": [],
   "source": [
    "(x1,y1) and (x2,y2) and c = 70"
   ]
  },
  {
   "cell_type": "code",
   "execution_count": null,
   "metadata": {},
   "outputs": [],
   "source": [
    "m = y2-y1/x2-x1 = 45-11/12-10 = 34/2=17"
   ]
  },
  {
   "cell_type": "code",
   "execution_count": null,
   "metadata": {},
   "outputs": [],
   "source": [
    "y = 17x+70\n",
    "y = 17*100 +70\n",
    "y = 17*45 + 70"
   ]
  },
  {
   "cell_type": "code",
   "execution_count": null,
   "metadata": {},
   "outputs": [],
   "source": [
    "2,4,6,8,10"
   ]
  },
  {
   "cell_type": "code",
   "execution_count": null,
   "metadata": {},
   "outputs": [],
   "source": [
    "sales  Profit\n",
    "100     20\n",
    "200     25\n",
    "150     15\n",
    "160     16\n",
    "250     27\n",
    "90      20\n",
    "120      ?"
   ]
  },
  {
   "cell_type": "code",
   "execution_count": null,
   "metadata": {},
   "outputs": [],
   "source": []
  },
  {
   "cell_type": "code",
   "execution_count": null,
   "metadata": {},
   "outputs": [],
   "source": []
  },
  {
   "cell_type": "code",
   "execution_count": null,
   "metadata": {},
   "outputs": [],
   "source": []
  },
  {
   "cell_type": "code",
   "execution_count": null,
   "metadata": {},
   "outputs": [],
   "source": [
    "#Linear regression Mathematically\n",
    "y=mx+c<-simple linear regression\n",
    "y=b+b1x1+b2x2+....multiple linear regression\n",
    "#Simple Linear Regression\n",
    "y=mx+c\n",
    "Y = C + M*X\n",
    "Y = Dependent variable (output/outcome/prediction/estimation/Target Varible)\n",
    "C = Constant (Y-Intercept)\n",
    "M = Slope of the regression line (the effect that X has on Y)\n",
    "X = Independent variable (input variable used in the prediction of Y"
   ]
  },
  {
   "cell_type": "code",
   "execution_count": null,
   "metadata": {},
   "outputs": [],
   "source": [
    "Parametric Models(Linear,Logistic)\n",
    "#Linear Regression<-If dependent variable is numeric then we will go for Linear Regression\n",
    "Linear Regression:It is a linear model that establishes the relationship between a dependent variable y(Target) \n",
    "and one or more independent variables denoted X(Inputs)\n",
    "#Usecases:\n",
    "1.Evaluating trends and sales estimates\n",
    "2.Analyze the impact of price changes\n",
    "4.Assessment of risk in financial services and insurance domain\n",
    "5.Determining the strength of predictors\n",
    "6.Forecasting an effect\n",
    "7.Trend Forecasting"
   ]
  },
  {
   "cell_type": "code",
   "execution_count": null,
   "metadata": {},
   "outputs": [],
   "source": [
    "Assumptions:\n",
    "1.There should be linear relationship between dependent variable and independent variable\n",
    "2.There shoudnt be no multicollinearity between independent variables\n",
    "VIF=1/1-R^2\n",
    "VIF>10<-High Multicollinearity\n",
    "VIF<=4<-No Multicollinearity\n",
    "#from statsmodels.stats.outliers_influence import variance_inflation_factor\n",
    "3.The errors should follow a constant variance.\n",
    "If the errors should follow a normal distribution is called homoscadicity.\n",
    "If the errors are not normally distributed is called heteroscadacity.\n",
    "4.No autocorrelation between residuals[Presence of correlation in error terms is called autocorrelation]\n",
    "DW(Durbon Watson Test)=2<-No autocorrelation\n",
    "0<DW<2<-Positive autocorrelation\n",
    "2<DW<4<-Negative Autocorrelation\n",
    "5.The dependent variable and error terms must process a normal distribution"
   ]
  },
  {
   "cell_type": "code",
   "execution_count": null,
   "metadata": {},
   "outputs": [],
   "source": [
    "#R^2 metric tells the amount of variance explained by the independent variables in the model"
   ]
  },
  {
   "cell_type": "code",
   "execution_count": null,
   "metadata": {},
   "outputs": [],
   "source": [
    "#R^2 will  increase if we add number of variables to the model\n",
    "#Adj R^2 will increase if the variables are significant"
   ]
  },
  {
   "cell_type": "code",
   "execution_count": null,
   "metadata": {},
   "outputs": [],
   "source": [
    "#F-statistics:It evaluates the overall siginificant of the model.It is the ratio of explained variance by the model by unexplained variance."
   ]
  },
  {
   "cell_type": "code",
   "execution_count": null,
   "metadata": {},
   "outputs": [],
   "source": [
    "#Evaluating the performance of the model\n",
    "#We will be using Root mean squared error(RMSE) and Coefficient of Determination(R² score) to evaluate our model.\n",
    "#RMSE is the square root of the average of the sum of the squares of residuals.\n",
    "#RMSE is defined by\n",
    "#Model Evaluation Metrics for Regression\n",
    "\n",
    "#Mean Absolute Error (MAE) is the mean of the absolute value of the errors:\n",
    "\n",
    "1/n*sum(|yi-y^i|)...i=1 to n\n",
    " \n",
    "#Mean Squared Error (MSE) is the mean of the squared errors:\n",
    "\n",
    "1/n*sum((yi-y^i)2)....i=1 to n\n",
    " \n",
    "#Root Mean Squared Error (RMSE) is the square root of the mean of the squared errors:\n",
    "\n",
    "1/n*sqrt(sum((yi-y^i)2))...i=1 to n"
   ]
  }
 ],
 "metadata": {
  "kernelspec": {
   "display_name": "Python 3",
   "language": "python",
   "name": "python3"
  },
  "language_info": {
   "codemirror_mode": {
    "name": "ipython",
    "version": 3
   },
   "file_extension": ".py",
   "mimetype": "text/x-python",
   "name": "python",
   "nbconvert_exporter": "python",
   "pygments_lexer": "ipython3",
   "version": "3.7.7"
  }
 },
 "nbformat": 4,
 "nbformat_minor": 2
}
