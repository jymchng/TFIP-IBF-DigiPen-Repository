{
 "cells": [
  {
   "cell_type": "markdown",
   "metadata": {},
   "source": [
    "# Credit defaulters identification using Logistic Regression"
   ]
  },
  {
   "cell_type": "markdown",
   "metadata": {},
   "source": [
    "Introduction to the data set"
   ]
  },
  {
   "cell_type": "markdown",
   "metadata": {},
   "source": [
    "German credit rating dataset contains categorical/symbolic attributes of the persons who availed the credit and the current status of the credit. The status of the credit is indicated by 1 for good credits and 2 for bad credits.\n",
    "\n",
    "The dataset can be downloaded from UCI Repository.\n",
    "\n",
    "https://archive.ics.uci.edu/ml/datasets/Statlog+%28German+Credit+Data%29\n",
    "\n",
    "The detailed description of variables can be found at the same link."
   ]
  },
  {
   "cell_type": "markdown",
   "metadata": {},
   "source": [
    "## Objective of the study"
   ]
  },
  {
   "cell_type": "markdown",
   "metadata": {},
   "source": [
    "1. Read the dataset\n",
    "2. Create dummy variables for the categorical features\n",
    "3. Specify X ( independent) and y (target/dependent) features\n",
    "4. Split datasets into train and test datasets\n",
    "5. Build a logistic regression model\n",
    "6. Find significant variables\n",
    "7. Create confusion matrix to find out Sensitivity and specificity\n",
    "8. Draw ROC Plot\n",
    "9. Find optimal cutoff probability using yoden's index\n",
    "10. Find optimal cutoff probability using cost"
   ]
  },
  {
   "cell_type": "markdown",
   "metadata": {},
   "source": [
    "### Read the data set"
   ]
  },
  {
   "cell_type": "code",
   "execution_count": 254,
   "metadata": {},
   "outputs": [],
   "source": [
    "import pandas as pd\n",
    "import numpy as np"
   ]
  },
  {
   "cell_type": "code",
   "execution_count": 255,
   "metadata": {},
   "outputs": [],
   "source": [
    "data = pd.read_csv( \"german.data\", delim_whitespace = True, header = None )"
   ]
  },
  {
   "cell_type": "code",
   "execution_count": 256,
   "metadata": {},
   "outputs": [
    {
     "data": {
      "text/html": [
       "<div>\n",
       "<style scoped>\n",
       "    .dataframe tbody tr th:only-of-type {\n",
       "        vertical-align: middle;\n",
       "    }\n",
       "\n",
       "    .dataframe tbody tr th {\n",
       "        vertical-align: top;\n",
       "    }\n",
       "\n",
       "    .dataframe thead th {\n",
       "        text-align: right;\n",
       "    }\n",
       "</style>\n",
       "<table border=\"1\" class=\"dataframe\">\n",
       "  <thead>\n",
       "    <tr style=\"text-align: right;\">\n",
       "      <th></th>\n",
       "      <th>0</th>\n",
       "      <th>1</th>\n",
       "      <th>2</th>\n",
       "      <th>3</th>\n",
       "      <th>4</th>\n",
       "      <th>5</th>\n",
       "      <th>6</th>\n",
       "      <th>7</th>\n",
       "      <th>8</th>\n",
       "      <th>9</th>\n",
       "      <th>...</th>\n",
       "      <th>11</th>\n",
       "      <th>12</th>\n",
       "      <th>13</th>\n",
       "      <th>14</th>\n",
       "      <th>15</th>\n",
       "      <th>16</th>\n",
       "      <th>17</th>\n",
       "      <th>18</th>\n",
       "      <th>19</th>\n",
       "      <th>20</th>\n",
       "    </tr>\n",
       "  </thead>\n",
       "  <tbody>\n",
       "    <tr>\n",
       "      <th>0</th>\n",
       "      <td>A11</td>\n",
       "      <td>6</td>\n",
       "      <td>A34</td>\n",
       "      <td>A43</td>\n",
       "      <td>1169</td>\n",
       "      <td>A65</td>\n",
       "      <td>A75</td>\n",
       "      <td>4</td>\n",
       "      <td>A93</td>\n",
       "      <td>A101</td>\n",
       "      <td>...</td>\n",
       "      <td>A121</td>\n",
       "      <td>67</td>\n",
       "      <td>A143</td>\n",
       "      <td>A152</td>\n",
       "      <td>2</td>\n",
       "      <td>A173</td>\n",
       "      <td>1</td>\n",
       "      <td>A192</td>\n",
       "      <td>A201</td>\n",
       "      <td>1</td>\n",
       "    </tr>\n",
       "    <tr>\n",
       "      <th>1</th>\n",
       "      <td>A12</td>\n",
       "      <td>48</td>\n",
       "      <td>A32</td>\n",
       "      <td>A43</td>\n",
       "      <td>5951</td>\n",
       "      <td>A61</td>\n",
       "      <td>A73</td>\n",
       "      <td>2</td>\n",
       "      <td>A92</td>\n",
       "      <td>A101</td>\n",
       "      <td>...</td>\n",
       "      <td>A121</td>\n",
       "      <td>22</td>\n",
       "      <td>A143</td>\n",
       "      <td>A152</td>\n",
       "      <td>1</td>\n",
       "      <td>A173</td>\n",
       "      <td>1</td>\n",
       "      <td>A191</td>\n",
       "      <td>A201</td>\n",
       "      <td>2</td>\n",
       "    </tr>\n",
       "  </tbody>\n",
       "</table>\n",
       "<p>2 rows × 21 columns</p>\n",
       "</div>"
      ],
      "text/plain": [
       "    0   1    2    3     4    5    6   7    8     9   ...    11  12    13  \\\n",
       "0  A11   6  A34  A43  1169  A65  A75   4  A93  A101  ...  A121  67  A143   \n",
       "1  A12  48  A32  A43  5951  A61  A73   2  A92  A101  ...  A121  22  A143   \n",
       "\n",
       "     14 15    16 17    18    19 20  \n",
       "0  A152  2  A173  1  A192  A201  1  \n",
       "1  A152  1  A173  1  A191  A201  2  \n",
       "\n",
       "[2 rows x 21 columns]"
      ]
     },
     "execution_count": 256,
     "metadata": {},
     "output_type": "execute_result"
    }
   ],
   "source": [
    "data.head(2)"
   ]
  },
  {
   "cell_type": "code",
   "execution_count": 257,
   "metadata": {},
   "outputs": [],
   "source": [
    "columns = ['checkin_acc', 'duration', 'credit_history', 'purpose', 'amount', 'svaing_acc', 'present_emp_since', \n",
    "           'inst_rate', 'personal_status', 'other_debtors', 'residing_since', 'property', 'age','inst_plans', 'housing', \n",
    "           'num_credits', 'job', 'dependents', 'telephone', 'foreign_worker', 'status']"
   ]
  },
  {
   "cell_type": "code",
   "execution_count": 259,
   "metadata": {},
   "outputs": [],
   "source": [
    "data.columns = columns"
   ]
  },
  {
   "cell_type": "code",
   "execution_count": null,
   "metadata": {},
   "outputs": [],
   "source": []
  },
  {
   "cell_type": "code",
   "execution_count": 260,
   "metadata": {},
   "outputs": [
    {
     "data": {
      "text/html": [
       "<div>\n",
       "<style scoped>\n",
       "    .dataframe tbody tr th:only-of-type {\n",
       "        vertical-align: middle;\n",
       "    }\n",
       "\n",
       "    .dataframe tbody tr th {\n",
       "        vertical-align: top;\n",
       "    }\n",
       "\n",
       "    .dataframe thead th {\n",
       "        text-align: right;\n",
       "    }\n",
       "</style>\n",
       "<table border=\"1\" class=\"dataframe\">\n",
       "  <thead>\n",
       "    <tr style=\"text-align: right;\">\n",
       "      <th></th>\n",
       "      <th>checkin_acc</th>\n",
       "      <th>duration</th>\n",
       "      <th>credit_history</th>\n",
       "      <th>purpose</th>\n",
       "      <th>amount</th>\n",
       "      <th>svaing_acc</th>\n",
       "      <th>present_emp_since</th>\n",
       "      <th>inst_rate</th>\n",
       "      <th>personal_status</th>\n",
       "      <th>other_debtors</th>\n",
       "      <th>...</th>\n",
       "      <th>property</th>\n",
       "      <th>age</th>\n",
       "      <th>inst_plans</th>\n",
       "      <th>housing</th>\n",
       "      <th>num_credits</th>\n",
       "      <th>job</th>\n",
       "      <th>dependents</th>\n",
       "      <th>telephone</th>\n",
       "      <th>foreign_worker</th>\n",
       "      <th>status</th>\n",
       "    </tr>\n",
       "  </thead>\n",
       "  <tbody>\n",
       "    <tr>\n",
       "      <th>0</th>\n",
       "      <td>A11</td>\n",
       "      <td>6</td>\n",
       "      <td>A34</td>\n",
       "      <td>A43</td>\n",
       "      <td>1169</td>\n",
       "      <td>A65</td>\n",
       "      <td>A75</td>\n",
       "      <td>4</td>\n",
       "      <td>A93</td>\n",
       "      <td>A101</td>\n",
       "      <td>...</td>\n",
       "      <td>A121</td>\n",
       "      <td>67</td>\n",
       "      <td>A143</td>\n",
       "      <td>A152</td>\n",
       "      <td>2</td>\n",
       "      <td>A173</td>\n",
       "      <td>1</td>\n",
       "      <td>A192</td>\n",
       "      <td>A201</td>\n",
       "      <td>1</td>\n",
       "    </tr>\n",
       "    <tr>\n",
       "      <th>1</th>\n",
       "      <td>A12</td>\n",
       "      <td>48</td>\n",
       "      <td>A32</td>\n",
       "      <td>A43</td>\n",
       "      <td>5951</td>\n",
       "      <td>A61</td>\n",
       "      <td>A73</td>\n",
       "      <td>2</td>\n",
       "      <td>A92</td>\n",
       "      <td>A101</td>\n",
       "      <td>...</td>\n",
       "      <td>A121</td>\n",
       "      <td>22</td>\n",
       "      <td>A143</td>\n",
       "      <td>A152</td>\n",
       "      <td>1</td>\n",
       "      <td>A173</td>\n",
       "      <td>1</td>\n",
       "      <td>A191</td>\n",
       "      <td>A201</td>\n",
       "      <td>2</td>\n",
       "    </tr>\n",
       "  </tbody>\n",
       "</table>\n",
       "<p>2 rows × 21 columns</p>\n",
       "</div>"
      ],
      "text/plain": [
       "  checkin_acc  duration credit_history purpose  amount svaing_acc  \\\n",
       "0         A11         6            A34     A43    1169        A65   \n",
       "1         A12        48            A32     A43    5951        A61   \n",
       "\n",
       "  present_emp_since  inst_rate personal_status other_debtors  ...  property  \\\n",
       "0               A75          4             A93          A101  ...      A121   \n",
       "1               A73          2             A92          A101  ...      A121   \n",
       "\n",
       "  age  inst_plans housing num_credits   job dependents  telephone  \\\n",
       "0  67        A143    A152           2  A173          1       A192   \n",
       "1  22        A143    A152           1  A173          1       A191   \n",
       "\n",
       "  foreign_worker status  \n",
       "0           A201      1  \n",
       "1           A201      2  \n",
       "\n",
       "[2 rows x 21 columns]"
      ]
     },
     "execution_count": 260,
     "metadata": {},
     "output_type": "execute_result"
    }
   ],
   "source": [
    "data.head(2)"
   ]
  },
  {
   "cell_type": "code",
   "execution_count": 261,
   "metadata": {},
   "outputs": [
    {
     "data": {
      "text/html": [
       "<div>\n",
       "<style scoped>\n",
       "    .dataframe tbody tr th:only-of-type {\n",
       "        vertical-align: middle;\n",
       "    }\n",
       "\n",
       "    .dataframe tbody tr th {\n",
       "        vertical-align: top;\n",
       "    }\n",
       "\n",
       "    .dataframe thead th {\n",
       "        text-align: right;\n",
       "    }\n",
       "</style>\n",
       "<table border=\"1\" class=\"dataframe\">\n",
       "  <thead>\n",
       "    <tr style=\"text-align: right;\">\n",
       "      <th></th>\n",
       "      <th>checkin_acc</th>\n",
       "      <th>duration</th>\n",
       "      <th>credit_history</th>\n",
       "      <th>purpose</th>\n",
       "      <th>amount</th>\n",
       "      <th>svaing_acc</th>\n",
       "      <th>present_emp_since</th>\n",
       "      <th>inst_rate</th>\n",
       "      <th>personal_status</th>\n",
       "      <th>other_debtors</th>\n",
       "      <th>...</th>\n",
       "      <th>property</th>\n",
       "      <th>age</th>\n",
       "      <th>inst_plans</th>\n",
       "      <th>housing</th>\n",
       "      <th>num_credits</th>\n",
       "      <th>job</th>\n",
       "      <th>dependents</th>\n",
       "      <th>telephone</th>\n",
       "      <th>foreign_worker</th>\n",
       "      <th>status</th>\n",
       "    </tr>\n",
       "  </thead>\n",
       "  <tbody>\n",
       "    <tr>\n",
       "      <th>0</th>\n",
       "      <td>A11</td>\n",
       "      <td>6</td>\n",
       "      <td>A34</td>\n",
       "      <td>A43</td>\n",
       "      <td>1169</td>\n",
       "      <td>A65</td>\n",
       "      <td>A75</td>\n",
       "      <td>4</td>\n",
       "      <td>A93</td>\n",
       "      <td>A101</td>\n",
       "      <td>...</td>\n",
       "      <td>A121</td>\n",
       "      <td>67</td>\n",
       "      <td>A143</td>\n",
       "      <td>A152</td>\n",
       "      <td>2</td>\n",
       "      <td>A173</td>\n",
       "      <td>1</td>\n",
       "      <td>A192</td>\n",
       "      <td>A201</td>\n",
       "      <td>1</td>\n",
       "    </tr>\n",
       "    <tr>\n",
       "      <th>1</th>\n",
       "      <td>A12</td>\n",
       "      <td>48</td>\n",
       "      <td>A32</td>\n",
       "      <td>A43</td>\n",
       "      <td>5951</td>\n",
       "      <td>A61</td>\n",
       "      <td>A73</td>\n",
       "      <td>2</td>\n",
       "      <td>A92</td>\n",
       "      <td>A101</td>\n",
       "      <td>...</td>\n",
       "      <td>A121</td>\n",
       "      <td>22</td>\n",
       "      <td>A143</td>\n",
       "      <td>A152</td>\n",
       "      <td>1</td>\n",
       "      <td>A173</td>\n",
       "      <td>1</td>\n",
       "      <td>A191</td>\n",
       "      <td>A201</td>\n",
       "      <td>2</td>\n",
       "    </tr>\n",
       "    <tr>\n",
       "      <th>2</th>\n",
       "      <td>A14</td>\n",
       "      <td>12</td>\n",
       "      <td>A34</td>\n",
       "      <td>A46</td>\n",
       "      <td>2096</td>\n",
       "      <td>A61</td>\n",
       "      <td>A74</td>\n",
       "      <td>2</td>\n",
       "      <td>A93</td>\n",
       "      <td>A101</td>\n",
       "      <td>...</td>\n",
       "      <td>A121</td>\n",
       "      <td>49</td>\n",
       "      <td>A143</td>\n",
       "      <td>A152</td>\n",
       "      <td>1</td>\n",
       "      <td>A172</td>\n",
       "      <td>2</td>\n",
       "      <td>A191</td>\n",
       "      <td>A201</td>\n",
       "      <td>1</td>\n",
       "    </tr>\n",
       "    <tr>\n",
       "      <th>3</th>\n",
       "      <td>A11</td>\n",
       "      <td>42</td>\n",
       "      <td>A32</td>\n",
       "      <td>A42</td>\n",
       "      <td>7882</td>\n",
       "      <td>A61</td>\n",
       "      <td>A74</td>\n",
       "      <td>2</td>\n",
       "      <td>A93</td>\n",
       "      <td>A103</td>\n",
       "      <td>...</td>\n",
       "      <td>A122</td>\n",
       "      <td>45</td>\n",
       "      <td>A143</td>\n",
       "      <td>A153</td>\n",
       "      <td>1</td>\n",
       "      <td>A173</td>\n",
       "      <td>2</td>\n",
       "      <td>A191</td>\n",
       "      <td>A201</td>\n",
       "      <td>1</td>\n",
       "    </tr>\n",
       "    <tr>\n",
       "      <th>4</th>\n",
       "      <td>A11</td>\n",
       "      <td>24</td>\n",
       "      <td>A33</td>\n",
       "      <td>A40</td>\n",
       "      <td>4870</td>\n",
       "      <td>A61</td>\n",
       "      <td>A73</td>\n",
       "      <td>3</td>\n",
       "      <td>A93</td>\n",
       "      <td>A101</td>\n",
       "      <td>...</td>\n",
       "      <td>A124</td>\n",
       "      <td>53</td>\n",
       "      <td>A143</td>\n",
       "      <td>A153</td>\n",
       "      <td>2</td>\n",
       "      <td>A173</td>\n",
       "      <td>2</td>\n",
       "      <td>A191</td>\n",
       "      <td>A201</td>\n",
       "      <td>2</td>\n",
       "    </tr>\n",
       "  </tbody>\n",
       "</table>\n",
       "<p>5 rows × 21 columns</p>\n",
       "</div>"
      ],
      "text/plain": [
       "  checkin_acc  duration credit_history purpose  amount svaing_acc  \\\n",
       "0         A11         6            A34     A43    1169        A65   \n",
       "1         A12        48            A32     A43    5951        A61   \n",
       "2         A14        12            A34     A46    2096        A61   \n",
       "3         A11        42            A32     A42    7882        A61   \n",
       "4         A11        24            A33     A40    4870        A61   \n",
       "\n",
       "  present_emp_since  inst_rate personal_status other_debtors  ...  property  \\\n",
       "0               A75          4             A93          A101  ...      A121   \n",
       "1               A73          2             A92          A101  ...      A121   \n",
       "2               A74          2             A93          A101  ...      A121   \n",
       "3               A74          2             A93          A103  ...      A122   \n",
       "4               A73          3             A93          A101  ...      A124   \n",
       "\n",
       "  age  inst_plans housing num_credits   job dependents  telephone  \\\n",
       "0  67        A143    A152           2  A173          1       A192   \n",
       "1  22        A143    A152           1  A173          1       A191   \n",
       "2  49        A143    A152           1  A172          2       A191   \n",
       "3  45        A143    A153           1  A173          2       A191   \n",
       "4  53        A143    A153           2  A173          2       A191   \n",
       "\n",
       "  foreign_worker status  \n",
       "0           A201      1  \n",
       "1           A201      2  \n",
       "2           A201      1  \n",
       "3           A201      1  \n",
       "4           A201      2  \n",
       "\n",
       "[5 rows x 21 columns]"
      ]
     },
     "execution_count": 261,
     "metadata": {},
     "output_type": "execute_result"
    }
   ],
   "source": [
    "data.head()"
   ]
  },
  {
   "cell_type": "code",
   "execution_count": 262,
   "metadata": {},
   "outputs": [
    {
     "name": "stdout",
     "output_type": "stream",
     "text": [
      "<class 'pandas.core.frame.DataFrame'>\n",
      "RangeIndex: 1000 entries, 0 to 999\n",
      "Data columns (total 21 columns):\n",
      " #   Column             Non-Null Count  Dtype \n",
      "---  ------             --------------  ----- \n",
      " 0   checkin_acc        1000 non-null   object\n",
      " 1   duration           1000 non-null   int64 \n",
      " 2   credit_history     1000 non-null   object\n",
      " 3   purpose            1000 non-null   object\n",
      " 4   amount             1000 non-null   int64 \n",
      " 5   svaing_acc         1000 non-null   object\n",
      " 6   present_emp_since  1000 non-null   object\n",
      " 7   inst_rate          1000 non-null   int64 \n",
      " 8   personal_status    1000 non-null   object\n",
      " 9   other_debtors      1000 non-null   object\n",
      " 10  residing_since     1000 non-null   int64 \n",
      " 11  property           1000 non-null   object\n",
      " 12  age                1000 non-null   int64 \n",
      " 13  inst_plans         1000 non-null   object\n",
      " 14  housing            1000 non-null   object\n",
      " 15  num_credits        1000 non-null   int64 \n",
      " 16  job                1000 non-null   object\n",
      " 17  dependents         1000 non-null   int64 \n",
      " 18  telephone          1000 non-null   object\n",
      " 19  foreign_worker     1000 non-null   object\n",
      " 20  status             1000 non-null   int64 \n",
      "dtypes: int64(8), object(13)\n",
      "memory usage: 164.2+ KB\n"
     ]
    }
   ],
   "source": [
    "data.info()"
   ]
  },
  {
   "cell_type": "markdown",
   "metadata": {},
   "source": [
    "#### How many default and no default observations in the sample"
   ]
  },
  {
   "cell_type": "code",
   "execution_count": 264,
   "metadata": {},
   "outputs": [
    {
     "data": {
      "text/plain": [
       "1    700\n",
       "2    300\n",
       "Name: status, dtype: int64"
      ]
     },
     "execution_count": 264,
     "metadata": {},
     "output_type": "execute_result"
    }
   ],
   "source": [
    "data.status.value_counts()"
   ]
  },
  {
   "cell_type": "markdown",
   "metadata": {},
   "source": [
    "There are about 300 defaults and 700 non-default observations"
   ]
  },
  {
   "cell_type": "markdown",
   "metadata": {},
   "source": [
    "### Create dummy variables for the categorical features"
   ]
  },
  {
   "cell_type": "code",
   "execution_count": 265,
   "metadata": {},
   "outputs": [
    {
     "data": {
      "text/plain": [
       "Index(['checkin_acc', 'duration', 'credit_history', 'purpose', 'amount',\n",
       "       'svaing_acc', 'present_emp_since', 'inst_rate', 'personal_status',\n",
       "       'other_debtors', 'residing_since', 'property', 'age', 'inst_plans',\n",
       "       'housing', 'num_credits', 'job', 'dependents', 'telephone',\n",
       "       'foreign_worker', 'status'],\n",
       "      dtype='object')"
      ]
     },
     "execution_count": 265,
     "metadata": {},
     "output_type": "execute_result"
    }
   ],
   "source": [
    "data.columns"
   ]
  },
  {
   "cell_type": "code",
   "execution_count": 171,
   "metadata": {},
   "outputs": [
    {
     "data": {
      "text/plain": [
       "['checkin_acc',\n",
       " 'duration',\n",
       " 'credit_history',\n",
       " 'purpose',\n",
       " 'amount',\n",
       " 'svaing_acc',\n",
       " 'present_emp_since',\n",
       " 'inst_rate',\n",
       " 'personal_status',\n",
       " 'other_debtors',\n",
       " 'residing_since',\n",
       " 'property',\n",
       " 'age',\n",
       " 'inst_plans',\n",
       " 'housing',\n",
       " 'num_credits',\n",
       " 'job',\n",
       " 'dependents',\n",
       " 'telephone',\n",
       " 'foreign_worker',\n",
       " 'status']"
      ]
     },
     "execution_count": 171,
     "metadata": {},
     "output_type": "execute_result"
    }
   ],
   "source": [
    "list(data.columns )"
   ]
  },
  {
   "cell_type": "markdown",
   "metadata": {},
   "source": [
    "#### Remove the response variable from the dataset"
   ]
  },
  {
   "cell_type": "code",
   "execution_count": 266,
   "metadata": {},
   "outputs": [
    {
     "data": {
      "text/plain": [
       "['checkin_acc',\n",
       " 'duration',\n",
       " 'credit_history',\n",
       " 'purpose',\n",
       " 'amount',\n",
       " 'svaing_acc',\n",
       " 'present_emp_since',\n",
       " 'inst_rate',\n",
       " 'personal_status',\n",
       " 'other_debtors',\n",
       " 'residing_since',\n",
       " 'property',\n",
       " 'age',\n",
       " 'inst_plans',\n",
       " 'housing',\n",
       " 'num_credits',\n",
       " 'job',\n",
       " 'dependents',\n",
       " 'telephone',\n",
       " 'foreign_worker']"
      ]
     },
     "execution_count": 266,
     "metadata": {},
     "output_type": "execute_result"
    }
   ],
   "source": [
    "X_features = list(data.columns )\n",
    "X_features.remove( 'status' )\n",
    "X_features"
   ]
  },
  {
   "cell_type": "code",
   "execution_count": 173,
   "metadata": {},
   "outputs": [],
   "source": [
    "data_complete = pd.get_dummies(data[X_features], drop_first = True )"
   ]
  },
  {
   "cell_type": "code",
   "execution_count": 267,
   "metadata": {},
   "outputs": [
    {
     "data": {
      "text/plain": [
       "48"
      ]
     },
     "execution_count": 267,
     "metadata": {},
     "output_type": "execute_result"
    }
   ],
   "source": [
    "len(data_complete.columns )"
   ]
  },
  {
   "cell_type": "code",
   "execution_count": 268,
   "metadata": {},
   "outputs": [
    {
     "data": {
      "text/html": [
       "<div>\n",
       "<style scoped>\n",
       "    .dataframe tbody tr th:only-of-type {\n",
       "        vertical-align: middle;\n",
       "    }\n",
       "\n",
       "    .dataframe tbody tr th {\n",
       "        vertical-align: top;\n",
       "    }\n",
       "\n",
       "    .dataframe thead th {\n",
       "        text-align: right;\n",
       "    }\n",
       "</style>\n",
       "<table border=\"1\" class=\"dataframe\">\n",
       "  <thead>\n",
       "    <tr style=\"text-align: right;\">\n",
       "      <th></th>\n",
       "      <th>duration</th>\n",
       "      <th>amount</th>\n",
       "      <th>inst_rate</th>\n",
       "      <th>residing_since</th>\n",
       "      <th>age</th>\n",
       "      <th>num_credits</th>\n",
       "      <th>dependents</th>\n",
       "      <th>checkin_acc_A12</th>\n",
       "      <th>checkin_acc_A13</th>\n",
       "      <th>checkin_acc_A14</th>\n",
       "      <th>...</th>\n",
       "      <th>property_A124</th>\n",
       "      <th>inst_plans_A142</th>\n",
       "      <th>inst_plans_A143</th>\n",
       "      <th>housing_A152</th>\n",
       "      <th>housing_A153</th>\n",
       "      <th>job_A172</th>\n",
       "      <th>job_A173</th>\n",
       "      <th>job_A174</th>\n",
       "      <th>telephone_A192</th>\n",
       "      <th>foreign_worker_A202</th>\n",
       "    </tr>\n",
       "  </thead>\n",
       "  <tbody>\n",
       "    <tr>\n",
       "      <th>0</th>\n",
       "      <td>6</td>\n",
       "      <td>1169</td>\n",
       "      <td>4</td>\n",
       "      <td>4</td>\n",
       "      <td>67</td>\n",
       "      <td>2</td>\n",
       "      <td>1</td>\n",
       "      <td>0</td>\n",
       "      <td>0</td>\n",
       "      <td>0</td>\n",
       "      <td>...</td>\n",
       "      <td>0</td>\n",
       "      <td>0</td>\n",
       "      <td>1</td>\n",
       "      <td>1</td>\n",
       "      <td>0</td>\n",
       "      <td>0</td>\n",
       "      <td>1</td>\n",
       "      <td>0</td>\n",
       "      <td>1</td>\n",
       "      <td>0</td>\n",
       "    </tr>\n",
       "    <tr>\n",
       "      <th>1</th>\n",
       "      <td>48</td>\n",
       "      <td>5951</td>\n",
       "      <td>2</td>\n",
       "      <td>2</td>\n",
       "      <td>22</td>\n",
       "      <td>1</td>\n",
       "      <td>1</td>\n",
       "      <td>1</td>\n",
       "      <td>0</td>\n",
       "      <td>0</td>\n",
       "      <td>...</td>\n",
       "      <td>0</td>\n",
       "      <td>0</td>\n",
       "      <td>1</td>\n",
       "      <td>1</td>\n",
       "      <td>0</td>\n",
       "      <td>0</td>\n",
       "      <td>1</td>\n",
       "      <td>0</td>\n",
       "      <td>0</td>\n",
       "      <td>0</td>\n",
       "    </tr>\n",
       "    <tr>\n",
       "      <th>2</th>\n",
       "      <td>12</td>\n",
       "      <td>2096</td>\n",
       "      <td>2</td>\n",
       "      <td>3</td>\n",
       "      <td>49</td>\n",
       "      <td>1</td>\n",
       "      <td>2</td>\n",
       "      <td>0</td>\n",
       "      <td>0</td>\n",
       "      <td>1</td>\n",
       "      <td>...</td>\n",
       "      <td>0</td>\n",
       "      <td>0</td>\n",
       "      <td>1</td>\n",
       "      <td>1</td>\n",
       "      <td>0</td>\n",
       "      <td>1</td>\n",
       "      <td>0</td>\n",
       "      <td>0</td>\n",
       "      <td>0</td>\n",
       "      <td>0</td>\n",
       "    </tr>\n",
       "    <tr>\n",
       "      <th>3</th>\n",
       "      <td>42</td>\n",
       "      <td>7882</td>\n",
       "      <td>2</td>\n",
       "      <td>4</td>\n",
       "      <td>45</td>\n",
       "      <td>1</td>\n",
       "      <td>2</td>\n",
       "      <td>0</td>\n",
       "      <td>0</td>\n",
       "      <td>0</td>\n",
       "      <td>...</td>\n",
       "      <td>0</td>\n",
       "      <td>0</td>\n",
       "      <td>1</td>\n",
       "      <td>0</td>\n",
       "      <td>1</td>\n",
       "      <td>0</td>\n",
       "      <td>1</td>\n",
       "      <td>0</td>\n",
       "      <td>0</td>\n",
       "      <td>0</td>\n",
       "    </tr>\n",
       "    <tr>\n",
       "      <th>4</th>\n",
       "      <td>24</td>\n",
       "      <td>4870</td>\n",
       "      <td>3</td>\n",
       "      <td>4</td>\n",
       "      <td>53</td>\n",
       "      <td>2</td>\n",
       "      <td>2</td>\n",
       "      <td>0</td>\n",
       "      <td>0</td>\n",
       "      <td>0</td>\n",
       "      <td>...</td>\n",
       "      <td>1</td>\n",
       "      <td>0</td>\n",
       "      <td>1</td>\n",
       "      <td>0</td>\n",
       "      <td>1</td>\n",
       "      <td>0</td>\n",
       "      <td>1</td>\n",
       "      <td>0</td>\n",
       "      <td>0</td>\n",
       "      <td>0</td>\n",
       "    </tr>\n",
       "  </tbody>\n",
       "</table>\n",
       "<p>5 rows × 48 columns</p>\n",
       "</div>"
      ],
      "text/plain": [
       "   duration  amount  inst_rate  residing_since  age  num_credits  dependents  \\\n",
       "0         6    1169          4               4   67            2           1   \n",
       "1        48    5951          2               2   22            1           1   \n",
       "2        12    2096          2               3   49            1           2   \n",
       "3        42    7882          2               4   45            1           2   \n",
       "4        24    4870          3               4   53            2           2   \n",
       "\n",
       "   checkin_acc_A12  checkin_acc_A13  checkin_acc_A14  ...  property_A124  \\\n",
       "0                0                0                0  ...              0   \n",
       "1                1                0                0  ...              0   \n",
       "2                0                0                1  ...              0   \n",
       "3                0                0                0  ...              0   \n",
       "4                0                0                0  ...              1   \n",
       "\n",
       "   inst_plans_A142  inst_plans_A143  housing_A152  housing_A153  job_A172  \\\n",
       "0                0                1             1             0         0   \n",
       "1                0                1             1             0         0   \n",
       "2                0                1             1             0         1   \n",
       "3                0                1             0             1         0   \n",
       "4                0                1             0             1         0   \n",
       "\n",
       "   job_A173  job_A174  telephone_A192  foreign_worker_A202  \n",
       "0         1         0               1                    0  \n",
       "1         1         0               0                    0  \n",
       "2         0         0               0                    0  \n",
       "3         1         0               0                    0  \n",
       "4         1         0               0                    0  \n",
       "\n",
       "[5 rows x 48 columns]"
      ]
     },
     "execution_count": 268,
     "metadata": {},
     "output_type": "execute_result"
    }
   ],
   "source": [
    "data_complete.head()"
   ]
  },
  {
   "cell_type": "markdown",
   "metadata": {},
   "source": [
    "#### Change the reponse variable to 0 = No Default and 1 = Default"
   ]
  },
  {
   "cell_type": "code",
   "execution_count": 271,
   "metadata": {},
   "outputs": [
    {
     "data": {
      "text/plain": [
       "0      0\n",
       "1      1\n",
       "2      0\n",
       "3      0\n",
       "4      1\n",
       "      ..\n",
       "995    0\n",
       "996    0\n",
       "997    0\n",
       "998    1\n",
       "999    0\n",
       "Name: status, Length: 1000, dtype: int64"
      ]
     },
     "execution_count": 271,
     "metadata": {},
     "output_type": "execute_result"
    }
   ],
   "source": [
    "y = data.status - 1\n",
    "y"
   ]
  },
  {
   "cell_type": "code",
   "execution_count": 272,
   "metadata": {},
   "outputs": [],
   "source": [
    "x = data_complete"
   ]
  },
  {
   "cell_type": "markdown",
   "metadata": {},
   "source": [
    "### Specify X ( independent) and y (target/dependent) features"
   ]
  },
  {
   "cell_type": "markdown",
   "metadata": {},
   "source": [
    "### Split datasets into train and test datasets"
   ]
  },
  {
   "cell_type": "code",
   "execution_count": 273,
   "metadata": {},
   "outputs": [],
   "source": [
    "from sklearn.model_selection import train_test_split"
   ]
  },
  {
   "cell_type": "code",
   "execution_count": 274,
   "metadata": {},
   "outputs": [],
   "source": [
    "x_train, x_test, y_train, y_test = train_test_split( x, y, test_size = 0.3)"
   ]
  },
  {
   "cell_type": "code",
   "execution_count": 275,
   "metadata": {},
   "outputs": [
    {
     "data": {
      "text/plain": [
       "93     0\n",
       "425    0\n",
       "764    0\n",
       "405    1\n",
       "546    0\n",
       "755    1\n",
       "591    0\n",
       "889    0\n",
       "995    0\n",
       "839    0\n",
       "Name: status, dtype: int64"
      ]
     },
     "execution_count": 275,
     "metadata": {},
     "output_type": "execute_result"
    }
   ],
   "source": [
    "y_test[0:10]"
   ]
  },
  {
   "cell_type": "markdown",
   "metadata": {},
   "source": [
    "### Build a logistic regression model"
   ]
  },
  {
   "cell_type": "code",
   "execution_count": 276,
   "metadata": {},
   "outputs": [],
   "source": [
    "import statsmodels.api as sm"
   ]
  },
  {
   "cell_type": "code",
   "execution_count": 277,
   "metadata": {},
   "outputs": [],
   "source": [
    "logit = sm.Logit( y_train, sm.add_constant(x_train ) )"
   ]
  },
  {
   "cell_type": "code",
   "execution_count": 279,
   "metadata": {},
   "outputs": [
    {
     "name": "stdout",
     "output_type": "stream",
     "text": [
      "Warning: Maximum number of iterations has been exceeded.\n",
      "         Current function value: 0.447131\n",
      "         Iterations: 35\n"
     ]
    },
    {
     "name": "stderr",
     "output_type": "stream",
     "text": [
      "C:\\Users\\Priyanka\\anaconda3\\lib\\site-packages\\statsmodels\\base\\model.py:566: ConvergenceWarning: Maximum Likelihood optimization failed to converge. Check mle_retvals\n",
      "  warnings.warn(\"Maximum Likelihood optimization failed to \"\n"
     ]
    }
   ],
   "source": [
    "lg = logit.fit()"
   ]
  },
  {
   "cell_type": "code",
   "execution_count": 281,
   "metadata": {},
   "outputs": [
    {
     "data": {
      "text/html": [
       "<table class=\"simpletable\">\n",
       "<caption>Logit Regression Results</caption>\n",
       "<tr>\n",
       "  <th>Dep. Variable:</th>        <td>status</td>      <th>  No. Observations:  </th>  <td>   700</td>  \n",
       "</tr>\n",
       "<tr>\n",
       "  <th>Model:</th>                 <td>Logit</td>      <th>  Df Residuals:      </th>  <td>   651</td>  \n",
       "</tr>\n",
       "<tr>\n",
       "  <th>Method:</th>                 <td>MLE</td>       <th>  Df Model:          </th>  <td>    48</td>  \n",
       "</tr>\n",
       "<tr>\n",
       "  <th>Date:</th>            <td>Wed, 24 Feb 2021</td> <th>  Pseudo R-squ.:     </th>  <td>0.2830</td>  \n",
       "</tr>\n",
       "<tr>\n",
       "  <th>Time:</th>                <td>12:10:01</td>     <th>  Log-Likelihood:    </th> <td> -312.99</td> \n",
       "</tr>\n",
       "<tr>\n",
       "  <th>converged:</th>             <td>False</td>      <th>  LL-Null:           </th> <td> -436.52</td> \n",
       "</tr>\n",
       "<tr>\n",
       "  <th>Covariance Type:</th>     <td>nonrobust</td>    <th>  LLR p-value:       </th> <td>1.379e-28</td>\n",
       "</tr>\n",
       "</table>\n",
       "<table class=\"simpletable\">\n",
       "<tr>\n",
       "            <td></td>               <th>coef</th>     <th>std err</th>      <th>z</th>      <th>P>|z|</th>  <th>[0.025</th>    <th>0.975]</th>  \n",
       "</tr>\n",
       "<tr>\n",
       "  <th>const</th>                 <td>    0.7926</td> <td>    1.332</td> <td>    0.595</td> <td> 0.552</td> <td>   -1.817</td> <td>    3.403</td>\n",
       "</tr>\n",
       "<tr>\n",
       "  <th>duration</th>              <td>    0.0310</td> <td>    0.011</td> <td>    2.760</td> <td> 0.006</td> <td>    0.009</td> <td>    0.053</td>\n",
       "</tr>\n",
       "<tr>\n",
       "  <th>amount</th>                <td>    0.0001</td> <td> 5.48e-05</td> <td>    2.493</td> <td> 0.013</td> <td> 2.92e-05</td> <td>    0.000</td>\n",
       "</tr>\n",
       "<tr>\n",
       "  <th>inst_rate</th>             <td>    0.2905</td> <td>    0.104</td> <td>    2.786</td> <td> 0.005</td> <td>    0.086</td> <td>    0.495</td>\n",
       "</tr>\n",
       "<tr>\n",
       "  <th>residing_since</th>        <td>   -0.1220</td> <td>    0.104</td> <td>   -1.171</td> <td> 0.242</td> <td>   -0.326</td> <td>    0.082</td>\n",
       "</tr>\n",
       "<tr>\n",
       "  <th>age</th>                   <td>   -0.0138</td> <td>    0.011</td> <td>   -1.283</td> <td> 0.200</td> <td>   -0.035</td> <td>    0.007</td>\n",
       "</tr>\n",
       "<tr>\n",
       "  <th>num_credits</th>           <td>    0.3396</td> <td>    0.232</td> <td>    1.467</td> <td> 0.142</td> <td>   -0.114</td> <td>    0.793</td>\n",
       "</tr>\n",
       "<tr>\n",
       "  <th>dependents</th>            <td>    0.4688</td> <td>    0.310</td> <td>    1.511</td> <td> 0.131</td> <td>   -0.139</td> <td>    1.077</td>\n",
       "</tr>\n",
       "<tr>\n",
       "  <th>checkin_acc_A12</th>       <td>   -0.3768</td> <td>    0.265</td> <td>   -1.419</td> <td> 0.156</td> <td>   -0.897</td> <td>    0.143</td>\n",
       "</tr>\n",
       "<tr>\n",
       "  <th>checkin_acc_A13</th>       <td>   -0.8934</td> <td>    0.480</td> <td>   -1.862</td> <td> 0.063</td> <td>   -1.834</td> <td>    0.047</td>\n",
       "</tr>\n",
       "<tr>\n",
       "  <th>checkin_acc_A14</th>       <td>   -1.7064</td> <td>    0.279</td> <td>   -6.107</td> <td> 0.000</td> <td>   -2.254</td> <td>   -1.159</td>\n",
       "</tr>\n",
       "<tr>\n",
       "  <th>credit_history_A31</th>    <td>    1.0470</td> <td>    0.700</td> <td>    1.496</td> <td> 0.135</td> <td>   -0.325</td> <td>    2.419</td>\n",
       "</tr>\n",
       "<tr>\n",
       "  <th>credit_history_A32</th>    <td>   -0.0240</td> <td>    0.514</td> <td>   -0.047</td> <td> 0.963</td> <td>   -1.032</td> <td>    0.984</td>\n",
       "</tr>\n",
       "<tr>\n",
       "  <th>credit_history_A33</th>    <td>   -0.5223</td> <td>    0.553</td> <td>   -0.945</td> <td> 0.345</td> <td>   -1.606</td> <td>    0.561</td>\n",
       "</tr>\n",
       "<tr>\n",
       "  <th>credit_history_A34</th>    <td>   -0.9471</td> <td>    0.530</td> <td>   -1.788</td> <td> 0.074</td> <td>   -1.985</td> <td>    0.091</td>\n",
       "</tr>\n",
       "<tr>\n",
       "  <th>purpose_A41</th>           <td>   -1.6842</td> <td>    0.463</td> <td>   -3.641</td> <td> 0.000</td> <td>   -2.591</td> <td>   -0.778</td>\n",
       "</tr>\n",
       "<tr>\n",
       "  <th>purpose_A410</th>          <td>   -1.3947</td> <td>    1.003</td> <td>   -1.391</td> <td> 0.164</td> <td>   -3.360</td> <td>    0.571</td>\n",
       "</tr>\n",
       "<tr>\n",
       "  <th>purpose_A42</th>           <td>   -0.7920</td> <td>    0.324</td> <td>   -2.447</td> <td> 0.014</td> <td>   -1.426</td> <td>   -0.158</td>\n",
       "</tr>\n",
       "<tr>\n",
       "  <th>purpose_A43</th>           <td>   -0.7867</td> <td>    0.296</td> <td>   -2.654</td> <td> 0.008</td> <td>   -1.368</td> <td>   -0.206</td>\n",
       "</tr>\n",
       "<tr>\n",
       "  <th>purpose_A44</th>           <td>   -0.0765</td> <td>    0.909</td> <td>   -0.084</td> <td> 0.933</td> <td>   -1.858</td> <td>    1.705</td>\n",
       "</tr>\n",
       "<tr>\n",
       "  <th>purpose_A45</th>           <td>   -0.2596</td> <td>    0.629</td> <td>   -0.413</td> <td> 0.680</td> <td>   -1.492</td> <td>    0.973</td>\n",
       "</tr>\n",
       "<tr>\n",
       "  <th>purpose_A46</th>           <td>    0.1283</td> <td>    0.471</td> <td>    0.273</td> <td> 0.785</td> <td>   -0.794</td> <td>    1.051</td>\n",
       "</tr>\n",
       "<tr>\n",
       "  <th>purpose_A48</th>           <td>  -16.9100</td> <td> 2808.195</td> <td>   -0.006</td> <td> 0.995</td> <td>-5520.871</td> <td> 5487.051</td>\n",
       "</tr>\n",
       "<tr>\n",
       "  <th>purpose_A49</th>           <td>   -0.8956</td> <td>    0.405</td> <td>   -2.210</td> <td> 0.027</td> <td>   -1.690</td> <td>   -0.101</td>\n",
       "</tr>\n",
       "<tr>\n",
       "  <th>svaing_acc_A62</th>        <td>   -0.2162</td> <td>    0.349</td> <td>   -0.619</td> <td> 0.536</td> <td>   -0.901</td> <td>    0.469</td>\n",
       "</tr>\n",
       "<tr>\n",
       "  <th>svaing_acc_A63</th>        <td>   -0.2226</td> <td>    0.484</td> <td>   -0.460</td> <td> 0.645</td> <td>   -1.171</td> <td>    0.725</td>\n",
       "</tr>\n",
       "<tr>\n",
       "  <th>svaing_acc_A64</th>        <td>   -0.8078</td> <td>    0.576</td> <td>   -1.403</td> <td> 0.161</td> <td>   -1.936</td> <td>    0.320</td>\n",
       "</tr>\n",
       "<tr>\n",
       "  <th>svaing_acc_A65</th>        <td>   -0.7609</td> <td>    0.313</td> <td>   -2.435</td> <td> 0.015</td> <td>   -1.373</td> <td>   -0.148</td>\n",
       "</tr>\n",
       "<tr>\n",
       "  <th>present_emp_since_A72</th> <td>   -0.7006</td> <td>    0.509</td> <td>   -1.377</td> <td> 0.169</td> <td>   -1.698</td> <td>    0.297</td>\n",
       "</tr>\n",
       "<tr>\n",
       "  <th>present_emp_since_A73</th> <td>   -0.7703</td> <td>    0.490</td> <td>   -1.572</td> <td> 0.116</td> <td>   -1.731</td> <td>    0.190</td>\n",
       "</tr>\n",
       "<tr>\n",
       "  <th>present_emp_since_A74</th> <td>   -1.6533</td> <td>    0.545</td> <td>   -3.034</td> <td> 0.002</td> <td>   -2.721</td> <td>   -0.585</td>\n",
       "</tr>\n",
       "<tr>\n",
       "  <th>present_emp_since_A75</th> <td>   -0.7516</td> <td>    0.482</td> <td>   -1.560</td> <td> 0.119</td> <td>   -1.696</td> <td>    0.193</td>\n",
       "</tr>\n",
       "<tr>\n",
       "  <th>personal_status_A92</th>   <td>   -1.0079</td> <td>    0.481</td> <td>   -2.094</td> <td> 0.036</td> <td>   -1.951</td> <td>   -0.064</td>\n",
       "</tr>\n",
       "<tr>\n",
       "  <th>personal_status_A93</th>   <td>   -1.7118</td> <td>    0.481</td> <td>   -3.558</td> <td> 0.000</td> <td>   -2.655</td> <td>   -0.769</td>\n",
       "</tr>\n",
       "<tr>\n",
       "  <th>personal_status_A94</th>   <td>   -1.2121</td> <td>    0.569</td> <td>   -2.130</td> <td> 0.033</td> <td>   -2.327</td> <td>   -0.097</td>\n",
       "</tr>\n",
       "<tr>\n",
       "  <th>other_debtors_A102</th>    <td>    0.9828</td> <td>    0.506</td> <td>    1.944</td> <td> 0.052</td> <td>   -0.008</td> <td>    1.974</td>\n",
       "</tr>\n",
       "<tr>\n",
       "  <th>other_debtors_A103</th>    <td>   -0.9568</td> <td>    0.493</td> <td>   -1.942</td> <td> 0.052</td> <td>   -1.922</td> <td>    0.009</td>\n",
       "</tr>\n",
       "<tr>\n",
       "  <th>property_A122</th>         <td>    0.5129</td> <td>    0.306</td> <td>    1.676</td> <td> 0.094</td> <td>   -0.087</td> <td>    1.113</td>\n",
       "</tr>\n",
       "<tr>\n",
       "  <th>property_A123</th>         <td>    0.3393</td> <td>    0.292</td> <td>    1.161</td> <td> 0.246</td> <td>   -0.233</td> <td>    0.912</td>\n",
       "</tr>\n",
       "<tr>\n",
       "  <th>property_A124</th>         <td>    0.6195</td> <td>    0.516</td> <td>    1.201</td> <td> 0.230</td> <td>   -0.391</td> <td>    1.630</td>\n",
       "</tr>\n",
       "<tr>\n",
       "  <th>inst_plans_A142</th>       <td>   -0.1415</td> <td>    0.475</td> <td>   -0.298</td> <td> 0.766</td> <td>   -1.073</td> <td>    0.790</td>\n",
       "</tr>\n",
       "<tr>\n",
       "  <th>inst_plans_A143</th>       <td>   -0.7099</td> <td>    0.284</td> <td>   -2.498</td> <td> 0.013</td> <td>   -1.267</td> <td>   -0.153</td>\n",
       "</tr>\n",
       "<tr>\n",
       "  <th>housing_A152</th>          <td>   -0.5219</td> <td>    0.279</td> <td>   -1.872</td> <td> 0.061</td> <td>   -1.068</td> <td>    0.024</td>\n",
       "</tr>\n",
       "<tr>\n",
       "  <th>housing_A153</th>          <td>   -0.4231</td> <td>    0.596</td> <td>   -0.710</td> <td> 0.478</td> <td>   -1.592</td> <td>    0.746</td>\n",
       "</tr>\n",
       "<tr>\n",
       "  <th>job_A172</th>              <td>    1.0452</td> <td>    0.813</td> <td>    1.285</td> <td> 0.199</td> <td>   -0.549</td> <td>    2.639</td>\n",
       "</tr>\n",
       "<tr>\n",
       "  <th>job_A173</th>              <td>    1.1006</td> <td>    0.793</td> <td>    1.388</td> <td> 0.165</td> <td>   -0.453</td> <td>    2.654</td>\n",
       "</tr>\n",
       "<tr>\n",
       "  <th>job_A174</th>              <td>    0.6562</td> <td>    0.798</td> <td>    0.822</td> <td> 0.411</td> <td>   -0.909</td> <td>    2.221</td>\n",
       "</tr>\n",
       "<tr>\n",
       "  <th>telephone_A192</th>        <td>   -0.3792</td> <td>    0.244</td> <td>   -1.552</td> <td> 0.121</td> <td>   -0.858</td> <td>    0.100</td>\n",
       "</tr>\n",
       "<tr>\n",
       "  <th>foreign_worker_A202</th>   <td>   -1.1473</td> <td>    0.675</td> <td>   -1.700</td> <td> 0.089</td> <td>   -2.470</td> <td>    0.175</td>\n",
       "</tr>\n",
       "</table>"
      ],
      "text/plain": [
       "<class 'statsmodels.iolib.summary.Summary'>\n",
       "\"\"\"\n",
       "                           Logit Regression Results                           \n",
       "==============================================================================\n",
       "Dep. Variable:                 status   No. Observations:                  700\n",
       "Model:                          Logit   Df Residuals:                      651\n",
       "Method:                           MLE   Df Model:                           48\n",
       "Date:                Wed, 24 Feb 2021   Pseudo R-squ.:                  0.2830\n",
       "Time:                        12:10:01   Log-Likelihood:                -312.99\n",
       "converged:                      False   LL-Null:                       -436.52\n",
       "Covariance Type:            nonrobust   LLR p-value:                 1.379e-28\n",
       "=========================================================================================\n",
       "                            coef    std err          z      P>|z|      [0.025      0.975]\n",
       "-----------------------------------------------------------------------------------------\n",
       "const                     0.7926      1.332      0.595      0.552      -1.817       3.403\n",
       "duration                  0.0310      0.011      2.760      0.006       0.009       0.053\n",
       "amount                    0.0001   5.48e-05      2.493      0.013    2.92e-05       0.000\n",
       "inst_rate                 0.2905      0.104      2.786      0.005       0.086       0.495\n",
       "residing_since           -0.1220      0.104     -1.171      0.242      -0.326       0.082\n",
       "age                      -0.0138      0.011     -1.283      0.200      -0.035       0.007\n",
       "num_credits               0.3396      0.232      1.467      0.142      -0.114       0.793\n",
       "dependents                0.4688      0.310      1.511      0.131      -0.139       1.077\n",
       "checkin_acc_A12          -0.3768      0.265     -1.419      0.156      -0.897       0.143\n",
       "checkin_acc_A13          -0.8934      0.480     -1.862      0.063      -1.834       0.047\n",
       "checkin_acc_A14          -1.7064      0.279     -6.107      0.000      -2.254      -1.159\n",
       "credit_history_A31        1.0470      0.700      1.496      0.135      -0.325       2.419\n",
       "credit_history_A32       -0.0240      0.514     -0.047      0.963      -1.032       0.984\n",
       "credit_history_A33       -0.5223      0.553     -0.945      0.345      -1.606       0.561\n",
       "credit_history_A34       -0.9471      0.530     -1.788      0.074      -1.985       0.091\n",
       "purpose_A41              -1.6842      0.463     -3.641      0.000      -2.591      -0.778\n",
       "purpose_A410             -1.3947      1.003     -1.391      0.164      -3.360       0.571\n",
       "purpose_A42              -0.7920      0.324     -2.447      0.014      -1.426      -0.158\n",
       "purpose_A43              -0.7867      0.296     -2.654      0.008      -1.368      -0.206\n",
       "purpose_A44              -0.0765      0.909     -0.084      0.933      -1.858       1.705\n",
       "purpose_A45              -0.2596      0.629     -0.413      0.680      -1.492       0.973\n",
       "purpose_A46               0.1283      0.471      0.273      0.785      -0.794       1.051\n",
       "purpose_A48             -16.9100   2808.195     -0.006      0.995   -5520.871    5487.051\n",
       "purpose_A49              -0.8956      0.405     -2.210      0.027      -1.690      -0.101\n",
       "svaing_acc_A62           -0.2162      0.349     -0.619      0.536      -0.901       0.469\n",
       "svaing_acc_A63           -0.2226      0.484     -0.460      0.645      -1.171       0.725\n",
       "svaing_acc_A64           -0.8078      0.576     -1.403      0.161      -1.936       0.320\n",
       "svaing_acc_A65           -0.7609      0.313     -2.435      0.015      -1.373      -0.148\n",
       "present_emp_since_A72    -0.7006      0.509     -1.377      0.169      -1.698       0.297\n",
       "present_emp_since_A73    -0.7703      0.490     -1.572      0.116      -1.731       0.190\n",
       "present_emp_since_A74    -1.6533      0.545     -3.034      0.002      -2.721      -0.585\n",
       "present_emp_since_A75    -0.7516      0.482     -1.560      0.119      -1.696       0.193\n",
       "personal_status_A92      -1.0079      0.481     -2.094      0.036      -1.951      -0.064\n",
       "personal_status_A93      -1.7118      0.481     -3.558      0.000      -2.655      -0.769\n",
       "personal_status_A94      -1.2121      0.569     -2.130      0.033      -2.327      -0.097\n",
       "other_debtors_A102        0.9828      0.506      1.944      0.052      -0.008       1.974\n",
       "other_debtors_A103       -0.9568      0.493     -1.942      0.052      -1.922       0.009\n",
       "property_A122             0.5129      0.306      1.676      0.094      -0.087       1.113\n",
       "property_A123             0.3393      0.292      1.161      0.246      -0.233       0.912\n",
       "property_A124             0.6195      0.516      1.201      0.230      -0.391       1.630\n",
       "inst_plans_A142          -0.1415      0.475     -0.298      0.766      -1.073       0.790\n",
       "inst_plans_A143          -0.7099      0.284     -2.498      0.013      -1.267      -0.153\n",
       "housing_A152             -0.5219      0.279     -1.872      0.061      -1.068       0.024\n",
       "housing_A153             -0.4231      0.596     -0.710      0.478      -1.592       0.746\n",
       "job_A172                  1.0452      0.813      1.285      0.199      -0.549       2.639\n",
       "job_A173                  1.1006      0.793      1.388      0.165      -0.453       2.654\n",
       "job_A174                  0.6562      0.798      0.822      0.411      -0.909       2.221\n",
       "telephone_A192           -0.3792      0.244     -1.552      0.121      -0.858       0.100\n",
       "foreign_worker_A202      -1.1473      0.675     -1.700      0.089      -2.470       0.175\n",
       "=========================================================================================\n",
       "\"\"\""
      ]
     },
     "execution_count": 281,
     "metadata": {},
     "output_type": "execute_result"
    }
   ],
   "source": [
    "lg.summary()"
   ]
  },
  {
   "cell_type": "markdown",
   "metadata": {},
   "source": [
    "### Find significant variables"
   ]
  },
  {
   "cell_type": "code",
   "execution_count": 282,
   "metadata": {},
   "outputs": [],
   "source": [
    "def get_significant_vars( lm ):\n",
    "    var_p_vals_df = pd.DataFrame( lm.pvalues )\n",
    "    var_p_vals_df['vars'] = var_p_vals_df.index\n",
    "    var_p_vals_df.columns = ['pvals', 'vars']\n",
    "    return list( var_p_vals_df[var_p_vals_df.pvals <= 0.05]['vars'] )"
   ]
  },
  {
   "cell_type": "code",
   "execution_count": 283,
   "metadata": {},
   "outputs": [],
   "source": [
    "significant_vars = get_significant_vars( lg )"
   ]
  },
  {
   "cell_type": "code",
   "execution_count": 284,
   "metadata": {},
   "outputs": [
    {
     "data": {
      "text/plain": [
       "['duration',\n",
       " 'amount',\n",
       " 'inst_rate',\n",
       " 'checkin_acc_A14',\n",
       " 'purpose_A41',\n",
       " 'purpose_A42',\n",
       " 'purpose_A43',\n",
       " 'purpose_A49',\n",
       " 'svaing_acc_A65',\n",
       " 'present_emp_since_A74',\n",
       " 'personal_status_A92',\n",
       " 'personal_status_A93',\n",
       " 'personal_status_A94',\n",
       " 'inst_plans_A143']"
      ]
     },
     "execution_count": 284,
     "metadata": {},
     "output_type": "execute_result"
    }
   ],
   "source": [
    "significant_vars"
   ]
  },
  {
   "cell_type": "markdown",
   "metadata": {},
   "source": [
    "### Predict Test Data and Measure Accuracy"
   ]
  },
  {
   "cell_type": "code",
   "execution_count": 286,
   "metadata": {},
   "outputs": [],
   "source": [
    "from sklearn import metrics\n",
    "from sklearn.metrics import classification_report"
   ]
  },
  {
   "cell_type": "code",
   "execution_count": 287,
   "metadata": {},
   "outputs": [],
   "source": [
    "def get_predictions( y_test, model ):\n",
    "    y_pred_df = pd.DataFrame( { 'actual': y_test,\n",
    "                               \"predicted_prob\": lg.predict( sm.add_constant( x_test ) ) } )\n",
    "    return y_pred_df"
   ]
  },
  {
   "cell_type": "code",
   "execution_count": 288,
   "metadata": {},
   "outputs": [],
   "source": [
    "y_pred_df = get_predictions( y_test, lg )"
   ]
  },
  {
   "cell_type": "markdown",
   "metadata": {},
   "source": [
    "#### Status_1 columns provides the predicted probability for the default classes"
   ]
  },
  {
   "cell_type": "code",
   "execution_count": 289,
   "metadata": {},
   "outputs": [
    {
     "data": {
      "text/html": [
       "<div>\n",
       "<style scoped>\n",
       "    .dataframe tbody tr th:only-of-type {\n",
       "        vertical-align: middle;\n",
       "    }\n",
       "\n",
       "    .dataframe tbody tr th {\n",
       "        vertical-align: top;\n",
       "    }\n",
       "\n",
       "    .dataframe thead th {\n",
       "        text-align: right;\n",
       "    }\n",
       "</style>\n",
       "<table border=\"1\" class=\"dataframe\">\n",
       "  <thead>\n",
       "    <tr style=\"text-align: right;\">\n",
       "      <th></th>\n",
       "      <th>actual</th>\n",
       "      <th>predicted_prob</th>\n",
       "    </tr>\n",
       "  </thead>\n",
       "  <tbody>\n",
       "    <tr>\n",
       "      <th>93</th>\n",
       "      <td>0</td>\n",
       "      <td>0.428878</td>\n",
       "    </tr>\n",
       "    <tr>\n",
       "      <th>425</th>\n",
       "      <td>0</td>\n",
       "      <td>0.176100</td>\n",
       "    </tr>\n",
       "    <tr>\n",
       "      <th>764</th>\n",
       "      <td>0</td>\n",
       "      <td>0.092155</td>\n",
       "    </tr>\n",
       "    <tr>\n",
       "      <th>405</th>\n",
       "      <td>1</td>\n",
       "      <td>0.352353</td>\n",
       "    </tr>\n",
       "    <tr>\n",
       "      <th>546</th>\n",
       "      <td>0</td>\n",
       "      <td>0.139654</td>\n",
       "    </tr>\n",
       "    <tr>\n",
       "      <th>755</th>\n",
       "      <td>1</td>\n",
       "      <td>0.578642</td>\n",
       "    </tr>\n",
       "    <tr>\n",
       "      <th>591</th>\n",
       "      <td>0</td>\n",
       "      <td>0.489975</td>\n",
       "    </tr>\n",
       "    <tr>\n",
       "      <th>889</th>\n",
       "      <td>0</td>\n",
       "      <td>0.171622</td>\n",
       "    </tr>\n",
       "    <tr>\n",
       "      <th>995</th>\n",
       "      <td>0</td>\n",
       "      <td>0.038990</td>\n",
       "    </tr>\n",
       "    <tr>\n",
       "      <th>839</th>\n",
       "      <td>0</td>\n",
       "      <td>0.205888</td>\n",
       "    </tr>\n",
       "  </tbody>\n",
       "</table>\n",
       "</div>"
      ],
      "text/plain": [
       "     actual  predicted_prob\n",
       "93        0        0.428878\n",
       "425       0        0.176100\n",
       "764       0        0.092155\n",
       "405       1        0.352353\n",
       "546       0        0.139654\n",
       "755       1        0.578642\n",
       "591       0        0.489975\n",
       "889       0        0.171622\n",
       "995       0        0.038990\n",
       "839       0        0.205888"
      ]
     },
     "execution_count": 289,
     "metadata": {},
     "output_type": "execute_result"
    }
   ],
   "source": [
    "y_pred_df[0:10]"
   ]
  },
  {
   "cell_type": "code",
   "execution_count": 290,
   "metadata": {},
   "outputs": [],
   "source": [
    "y_pred_df['predicted'] = y_pred_df.predicted_prob.map( lambda x: 1 if x > 0.5 else 0)"
   ]
  },
  {
   "cell_type": "code",
   "execution_count": 291,
   "metadata": {},
   "outputs": [
    {
     "data": {
      "text/html": [
       "<div>\n",
       "<style scoped>\n",
       "    .dataframe tbody tr th:only-of-type {\n",
       "        vertical-align: middle;\n",
       "    }\n",
       "\n",
       "    .dataframe tbody tr th {\n",
       "        vertical-align: top;\n",
       "    }\n",
       "\n",
       "    .dataframe thead th {\n",
       "        text-align: right;\n",
       "    }\n",
       "</style>\n",
       "<table border=\"1\" class=\"dataframe\">\n",
       "  <thead>\n",
       "    <tr style=\"text-align: right;\">\n",
       "      <th></th>\n",
       "      <th>actual</th>\n",
       "      <th>predicted_prob</th>\n",
       "      <th>predicted</th>\n",
       "    </tr>\n",
       "  </thead>\n",
       "  <tbody>\n",
       "    <tr>\n",
       "      <th>93</th>\n",
       "      <td>0</td>\n",
       "      <td>0.428878</td>\n",
       "      <td>0</td>\n",
       "    </tr>\n",
       "    <tr>\n",
       "      <th>425</th>\n",
       "      <td>0</td>\n",
       "      <td>0.176100</td>\n",
       "      <td>0</td>\n",
       "    </tr>\n",
       "    <tr>\n",
       "      <th>764</th>\n",
       "      <td>0</td>\n",
       "      <td>0.092155</td>\n",
       "      <td>0</td>\n",
       "    </tr>\n",
       "    <tr>\n",
       "      <th>405</th>\n",
       "      <td>1</td>\n",
       "      <td>0.352353</td>\n",
       "      <td>0</td>\n",
       "    </tr>\n",
       "    <tr>\n",
       "      <th>546</th>\n",
       "      <td>0</td>\n",
       "      <td>0.139654</td>\n",
       "      <td>0</td>\n",
       "    </tr>\n",
       "    <tr>\n",
       "      <th>755</th>\n",
       "      <td>1</td>\n",
       "      <td>0.578642</td>\n",
       "      <td>1</td>\n",
       "    </tr>\n",
       "    <tr>\n",
       "      <th>591</th>\n",
       "      <td>0</td>\n",
       "      <td>0.489975</td>\n",
       "      <td>0</td>\n",
       "    </tr>\n",
       "    <tr>\n",
       "      <th>889</th>\n",
       "      <td>0</td>\n",
       "      <td>0.171622</td>\n",
       "      <td>0</td>\n",
       "    </tr>\n",
       "    <tr>\n",
       "      <th>995</th>\n",
       "      <td>0</td>\n",
       "      <td>0.038990</td>\n",
       "      <td>0</td>\n",
       "    </tr>\n",
       "    <tr>\n",
       "      <th>839</th>\n",
       "      <td>0</td>\n",
       "      <td>0.205888</td>\n",
       "      <td>0</td>\n",
       "    </tr>\n",
       "  </tbody>\n",
       "</table>\n",
       "</div>"
      ],
      "text/plain": [
       "     actual  predicted_prob  predicted\n",
       "93        0        0.428878          0\n",
       "425       0        0.176100          0\n",
       "764       0        0.092155          0\n",
       "405       1        0.352353          0\n",
       "546       0        0.139654          0\n",
       "755       1        0.578642          1\n",
       "591       0        0.489975          0\n",
       "889       0        0.171622          0\n",
       "995       0        0.038990          0\n",
       "839       0        0.205888          0"
      ]
     },
     "execution_count": 291,
     "metadata": {},
     "output_type": "execute_result"
    }
   ],
   "source": [
    "y_pred_df[0:10]"
   ]
  },
  {
   "cell_type": "code",
   "execution_count": null,
   "metadata": {},
   "outputs": [],
   "source": []
  },
  {
   "cell_type": "markdown",
   "metadata": {},
   "source": [
    "### Create confusion matrix to find out Sensitivity and specificity"
   ]
  },
  {
   "cell_type": "code",
   "execution_count": 292,
   "metadata": {},
   "outputs": [],
   "source": [
    "import matplotlib.pylab as plt\n",
    "import seaborn as sn\n",
    "%matplotlib inline "
   ]
  },
  {
   "cell_type": "code",
   "execution_count": 295,
   "metadata": {},
   "outputs": [],
   "source": [
    "def draw_cm( actual, predicted ):\n",
    "    cm = metrics.confusion_matrix( actual, predicted, [1,0] )\n",
    "    sn.heatmap(cm, annot=True,  fmt='.2f', xticklabels = [\"Default\", \"No Default\"] , yticklabels = [\"Default\", \"No Default\"] )\n",
    "    plt.xlabel('True label')\n",
    "    plt.ylabel('Predicted label')\n",
    "    plt.show()"
   ]
  },
  {
   "cell_type": "code",
   "execution_count": 296,
   "metadata": {},
   "outputs": [
    {
     "data": {
      "image/png": "[encoded data removed]",
      "text/plain": [
       "<Figure size 432x288 with 2 Axes>"
      ]
     },
     "metadata": {
      "needs_background": "light"
     },
     "output_type": "display_data"
    }
   ],
   "source": [
    "draw_cm(y_pred_df.predicted,  y_pred_df.actual)"
   ]
  },
  {
   "cell_type": "markdown",
   "metadata": {
    "collapsed": true
   },
   "source": [
    "Note: the model could only predict very few default classes."
   ]
  },
  {
   "cell_type": "code",
   "execution_count": 297,
   "metadata": {},
   "outputs": [
    {
     "data": {
      "text/plain": [
       "'              precision    recall  f1-score   support\\n\\n           0       0.85      0.84      0.84       221\\n           1       0.56      0.57      0.57        79\\n\\n    accuracy                           0.77       300\\n   macro avg       0.70      0.71      0.70       300\\nweighted avg       0.77      0.77      0.77       300\\n'"
      ]
     },
     "execution_count": 297,
     "metadata": {},
     "output_type": "execute_result"
    }
   ],
   "source": [
    "classification_report(y_pred_df.actual, y_pred_df.predicted)"
   ]
  },
  {
   "cell_type": "markdown",
   "metadata": {
    "collapsed": true
   },
   "source": [
    "#### Overall accuracy of the model "
   ]
  },
  {
   "cell_type": "code",
   "execution_count": 299,
   "metadata": {},
   "outputs": [
    {
     "name": "stdout",
     "output_type": "stream",
     "text": [
      "Total Accuracy :  0.77\n"
     ]
    }
   ],
   "source": [
    "print( 'Total Accuracy : ',np.round( metrics.accuracy_score( y_test, y_pred_df.predicted ), 2 ) )"
   ]
  },
  {
   "cell_type": "code",
   "execution_count": 300,
   "metadata": {},
   "outputs": [
    {
     "name": "stdout",
     "output_type": "stream",
     "text": [
      "Precision :  0.56\n"
     ]
    }
   ],
   "source": [
    "print( 'Precision : ',np.round( metrics.precision_score( y_test, y_pred_df.predicted ), 2 ) )"
   ]
  },
  {
   "cell_type": "code",
   "execution_count": 301,
   "metadata": {},
   "outputs": [
    {
     "name": "stdout",
     "output_type": "stream",
     "text": [
      "Recall :  0.57\n"
     ]
    }
   ],
   "source": [
    "print( 'Recall : ',np.round( metrics.recall_score( y_test, y_pred_df.predicted ), 2 ) )"
   ]
  },
  {
   "cell_type": "code",
   "execution_count": 302,
   "metadata": {},
   "outputs": [],
   "source": [
    "cm1 = metrics.confusion_matrix( y_pred_df.actual, y_pred_df.predicted, [1,0] )"
   ]
  },
  {
   "cell_type": "code",
   "execution_count": 304,
   "metadata": {},
   "outputs": [],
   "source": [
    "sensitivity = cm1[0,0]/(cm1[0,0]+cm1[0,1])"
   ]
  },
  {
   "cell_type": "code",
   "execution_count": 305,
   "metadata": {},
   "outputs": [
    {
     "name": "stdout",
     "output_type": "stream",
     "text": [
      "Sensitivity :  0.57\n"
     ]
    }
   ],
   "source": [
    "print('Sensitivity : ', round( sensitivity, 2) )"
   ]
  },
  {
   "cell_type": "code",
   "execution_count": 306,
   "metadata": {},
   "outputs": [],
   "source": [
    "specificity = cm1[1,1]/(cm1[1,0]+cm1[1,1])"
   ]
  },
  {
   "cell_type": "code",
   "execution_count": 307,
   "metadata": {},
   "outputs": [
    {
     "name": "stdout",
     "output_type": "stream",
     "text": [
      "Specificity :  0.84\n"
     ]
    }
   ],
   "source": [
    "print('Specificity : ', round( specificity, 2 ) )"
   ]
  },
  {
   "cell_type": "markdown",
   "metadata": {},
   "source": [
    "### Predicted Probability distribution Plots for Defaults and Non Defaults "
   ]
  },
  {
   "cell_type": "code",
   "execution_count": 308,
   "metadata": {},
   "outputs": [
    {
     "name": "stderr",
     "output_type": "stream",
     "text": [
      "C:\\Users\\Priyanka\\anaconda3\\lib\\site-packages\\seaborn\\distributions.py:2551: FutureWarning: `distplot` is a deprecated function and will be removed in a future version. Please adapt your code to use either `displot` (a figure-level function with similar flexibility) or `histplot` (an axes-level function for histograms).\n",
      "  warnings.warn(msg, FutureWarning)\n",
      "C:\\Users\\Priyanka\\anaconda3\\lib\\site-packages\\seaborn\\distributions.py:2551: FutureWarning: `distplot` is a deprecated function and will be removed in a future version. Please adapt your code to use either `displot` (a figure-level function with similar flexibility) or `histplot` (an axes-level function for histograms).\n",
      "  warnings.warn(msg, FutureWarning)\n"
     ]
    },
    {
     "data": {
      "text/plain": [
       "<AxesSubplot:xlabel='predicted_prob'>"
      ]
     },
     "execution_count": 308,
     "metadata": {},
     "output_type": "execute_result"
    },
    {
     "data": {
      "image/png": "[encoded data removed]",
      "text/plain": [
       "<Figure size 432x288 with 1 Axes>"
      ]
     },
     "metadata": {
      "needs_background": "light"
     },
     "output_type": "display_data"
    }
   ],
   "source": [
    "sn.distplot( y_pred_df[y_pred_df.actual == 1][\"predicted_prob\"], kde=False, color = 'b' )\n",
    "sn.distplot( y_pred_df[y_pred_df.actual == 0][\"predicted_prob\"], kde=False, color = 'g' )"
   ]
  },
  {
   "cell_type": "markdown",
   "metadata": {},
   "source": [
    "### Draw ROC Plot"
   ]
  },
  {
   "cell_type": "code",
   "execution_count": 309,
   "metadata": {},
   "outputs": [
    {
     "data": {
      "text/plain": [
       "0.79"
      ]
     },
     "execution_count": 309,
     "metadata": {},
     "output_type": "execute_result"
    }
   ],
   "source": [
    "auc_score = metrics.roc_auc_score( y_pred_df.actual, y_pred_df.predicted_prob  )\n",
    "round( float( auc_score ), 2 )"
   ]
  },
  {
   "cell_type": "code",
   "execution_count": 310,
   "metadata": {},
   "outputs": [],
   "source": [
    "def draw_roc( actual, probs ):\n",
    "    fpr, tpr, thresholds = metrics.roc_curve( actual, probs,\n",
    "                                              drop_intermediate = False )\n",
    "    auc_score = metrics.roc_auc_score( actual, probs )\n",
    "    plt.figure(figsize=(6, 4))\n",
    "    plt.plot( fpr, tpr, label='ROC curve (area = %0.2f)' % auc_score )\n",
    "    plt.plot([0, 1], [0, 1], 'k--')\n",
    "    plt.xlim([0.0, 1.0])\n",
    "    plt.ylim([0.0, 1.05])\n",
    "    plt.xlabel('False Positive Rate or [1 - True Negative Rate]')\n",
    "    plt.ylabel('True Positive Rate')\n",
    "    plt.title('Receiver operating characteristic example')\n",
    "    plt.legend(loc=\"lower right\")\n",
    "    plt.show()\n",
    "\n",
    "    return fpr, tpr, thresholds"
   ]
  },
  {
   "cell_type": "code",
   "execution_count": 311,
   "metadata": {},
   "outputs": [
    {
     "data": {
      "image/png": "[encoded data removed]",
      "text/plain": [
       "<Figure size 432x288 with 1 Axes>"
      ]
     },
     "metadata": {
      "needs_background": "light"
     },
     "output_type": "display_data"
    }
   ],
   "source": [
    "fpr, tpr, thresholds = draw_roc( y_pred_df.actual, y_pred_df.predicted_prob )"
   ]
  },
  {
   "cell_type": "markdown",
   "metadata": {},
   "source": [
    "### Draw ROC Plot"
   ]
  },
  {
   "cell_type": "code",
   "execution_count": 312,
   "metadata": {},
   "outputs": [
    {
     "data": {
      "text/plain": [
       "array([1.97964687, 0.97964687, 0.97882769, 0.96013422, 0.93152262,\n",
       "       0.90452308, 0.90432814, 0.89508024, 0.88238537, 0.88151919])"
      ]
     },
     "execution_count": 312,
     "metadata": {},
     "output_type": "execute_result"
    }
   ],
   "source": [
    "thresholds[0:10]"
   ]
  },
  {
   "cell_type": "code",
   "execution_count": 313,
   "metadata": {},
   "outputs": [
    {
     "data": {
      "text/plain": [
       "array([0.        , 0.00452489, 0.00904977, 0.00904977, 0.00904977,\n",
       "       0.00904977, 0.00904977, 0.00904977, 0.00904977, 0.00904977])"
      ]
     },
     "execution_count": 313,
     "metadata": {},
     "output_type": "execute_result"
    }
   ],
   "source": [
    "fpr[0:10]"
   ]
  },
  {
   "cell_type": "code",
   "execution_count": 314,
   "metadata": {},
   "outputs": [
    {
     "data": {
      "text/plain": [
       "array([0.        , 0.        , 0.        , 0.01265823, 0.02531646,\n",
       "       0.03797468, 0.05063291, 0.06329114, 0.07594937, 0.08860759])"
      ]
     },
     "execution_count": 314,
     "metadata": {},
     "output_type": "execute_result"
    }
   ],
   "source": [
    "tpr[0:10]"
   ]
  },
  {
   "cell_type": "code",
   "execution_count": null,
   "metadata": {},
   "outputs": [],
   "source": [
    "#Finding Optimal Cutoff Point\n",
    "#Optimal cutoff probability is that prob where we get balanced sensitivity and specificity"
   ]
  },
  {
   "cell_type": "code",
   "execution_count": 316,
   "metadata": {},
   "outputs": [
    {
     "data": {
      "text/html": [
       "<div>\n",
       "<style scoped>\n",
       "    .dataframe tbody tr th:only-of-type {\n",
       "        vertical-align: middle;\n",
       "    }\n",
       "\n",
       "    .dataframe tbody tr th {\n",
       "        vertical-align: top;\n",
       "    }\n",
       "\n",
       "    .dataframe thead th {\n",
       "        text-align: right;\n",
       "    }\n",
       "</style>\n",
       "<table border=\"1\" class=\"dataframe\">\n",
       "  <thead>\n",
       "    <tr style=\"text-align: right;\">\n",
       "      <th></th>\n",
       "      <th>actual</th>\n",
       "      <th>predicted_prob</th>\n",
       "      <th>predicted</th>\n",
       "    </tr>\n",
       "  </thead>\n",
       "  <tbody>\n",
       "    <tr>\n",
       "      <th>93</th>\n",
       "      <td>0</td>\n",
       "      <td>0.428878</td>\n",
       "      <td>0</td>\n",
       "    </tr>\n",
       "    <tr>\n",
       "      <th>425</th>\n",
       "      <td>0</td>\n",
       "      <td>0.176100</td>\n",
       "      <td>0</td>\n",
       "    </tr>\n",
       "    <tr>\n",
       "      <th>764</th>\n",
       "      <td>0</td>\n",
       "      <td>0.092155</td>\n",
       "      <td>0</td>\n",
       "    </tr>\n",
       "    <tr>\n",
       "      <th>405</th>\n",
       "      <td>1</td>\n",
       "      <td>0.352353</td>\n",
       "      <td>0</td>\n",
       "    </tr>\n",
       "    <tr>\n",
       "      <th>546</th>\n",
       "      <td>0</td>\n",
       "      <td>0.139654</td>\n",
       "      <td>0</td>\n",
       "    </tr>\n",
       "  </tbody>\n",
       "</table>\n",
       "</div>"
      ],
      "text/plain": [
       "     actual  predicted_prob  predicted\n",
       "93        0        0.428878          0\n",
       "425       0        0.176100          0\n",
       "764       0        0.092155          0\n",
       "405       1        0.352353          0\n",
       "546       0        0.139654          0"
      ]
     },
     "execution_count": 316,
     "metadata": {},
     "output_type": "execute_result"
    }
   ],
   "source": [
    "y_pred_df.head()"
   ]
  },
  {
   "cell_type": "code",
   "execution_count": 318,
   "metadata": {},
   "outputs": [
    {
     "data": {
      "text/html": [
       "<div>\n",
       "<style scoped>\n",
       "    .dataframe tbody tr th:only-of-type {\n",
       "        vertical-align: middle;\n",
       "    }\n",
       "\n",
       "    .dataframe tbody tr th {\n",
       "        vertical-align: top;\n",
       "    }\n",
       "\n",
       "    .dataframe thead th {\n",
       "        text-align: right;\n",
       "    }\n",
       "</style>\n",
       "<table border=\"1\" class=\"dataframe\">\n",
       "  <thead>\n",
       "    <tr style=\"text-align: right;\">\n",
       "      <th></th>\n",
       "      <th>actual</th>\n",
       "      <th>predicted_prob</th>\n",
       "      <th>predicted</th>\n",
       "      <th>0.0</th>\n",
       "      <th>0.1</th>\n",
       "      <th>0.2</th>\n",
       "      <th>0.3</th>\n",
       "      <th>0.4</th>\n",
       "      <th>0.5</th>\n",
       "      <th>0.6</th>\n",
       "      <th>0.7</th>\n",
       "      <th>0.8</th>\n",
       "      <th>0.9</th>\n",
       "    </tr>\n",
       "  </thead>\n",
       "  <tbody>\n",
       "    <tr>\n",
       "      <th>93</th>\n",
       "      <td>0</td>\n",
       "      <td>0.428878</td>\n",
       "      <td>0</td>\n",
       "      <td>1</td>\n",
       "      <td>1</td>\n",
       "      <td>1</td>\n",
       "      <td>1</td>\n",
       "      <td>1</td>\n",
       "      <td>0</td>\n",
       "      <td>0</td>\n",
       "      <td>0</td>\n",
       "      <td>0</td>\n",
       "      <td>0</td>\n",
       "    </tr>\n",
       "    <tr>\n",
       "      <th>425</th>\n",
       "      <td>0</td>\n",
       "      <td>0.176100</td>\n",
       "      <td>0</td>\n",
       "      <td>1</td>\n",
       "      <td>1</td>\n",
       "      <td>0</td>\n",
       "      <td>0</td>\n",
       "      <td>0</td>\n",
       "      <td>0</td>\n",
       "      <td>0</td>\n",
       "      <td>0</td>\n",
       "      <td>0</td>\n",
       "      <td>0</td>\n",
       "    </tr>\n",
       "    <tr>\n",
       "      <th>764</th>\n",
       "      <td>0</td>\n",
       "      <td>0.092155</td>\n",
       "      <td>0</td>\n",
       "      <td>1</td>\n",
       "      <td>0</td>\n",
       "      <td>0</td>\n",
       "      <td>0</td>\n",
       "      <td>0</td>\n",
       "      <td>0</td>\n",
       "      <td>0</td>\n",
       "      <td>0</td>\n",
       "      <td>0</td>\n",
       "      <td>0</td>\n",
       "    </tr>\n",
       "    <tr>\n",
       "      <th>405</th>\n",
       "      <td>1</td>\n",
       "      <td>0.352353</td>\n",
       "      <td>0</td>\n",
       "      <td>1</td>\n",
       "      <td>1</td>\n",
       "      <td>1</td>\n",
       "      <td>1</td>\n",
       "      <td>0</td>\n",
       "      <td>0</td>\n",
       "      <td>0</td>\n",
       "      <td>0</td>\n",
       "      <td>0</td>\n",
       "      <td>0</td>\n",
       "    </tr>\n",
       "    <tr>\n",
       "      <th>546</th>\n",
       "      <td>0</td>\n",
       "      <td>0.139654</td>\n",
       "      <td>0</td>\n",
       "      <td>1</td>\n",
       "      <td>1</td>\n",
       "      <td>0</td>\n",
       "      <td>0</td>\n",
       "      <td>0</td>\n",
       "      <td>0</td>\n",
       "      <td>0</td>\n",
       "      <td>0</td>\n",
       "      <td>0</td>\n",
       "      <td>0</td>\n",
       "    </tr>\n",
       "  </tbody>\n",
       "</table>\n",
       "</div>"
      ],
      "text/plain": [
       "     actual  predicted_prob  predicted  0.0  0.1  0.2  0.3  0.4  0.5  0.6  \\\n",
       "93        0        0.428878          0    1    1    1    1    1    0    0   \n",
       "425       0        0.176100          0    1    1    0    0    0    0    0   \n",
       "764       0        0.092155          0    1    0    0    0    0    0    0   \n",
       "405       1        0.352353          0    1    1    1    1    0    0    0   \n",
       "546       0        0.139654          0    1    1    0    0    0    0    0   \n",
       "\n",
       "     0.7  0.8  0.9  \n",
       "93     0    0    0  \n",
       "425    0    0    0  \n",
       "764    0    0    0  \n",
       "405    0    0    0  \n",
       "546    0    0    0  "
      ]
     },
     "execution_count": 318,
     "metadata": {},
     "output_type": "execute_result"
    }
   ],
   "source": [
    "# Let's create columns with different probability cutoffs \n",
    "numbers = [float(x)/10 for x in range(10)]\n",
    "for i in numbers:\n",
    "    y_pred_df[i]= y_pred_df.predicted_prob.map( lambda x: 1 if x > i else 0)\n",
    "y_pred_df.head()"
   ]
  },
  {
   "cell_type": "code",
   "execution_count": 319,
   "metadata": {},
   "outputs": [
    {
     "name": "stdout",
     "output_type": "stream",
     "text": [
      "     prob  accuracy     sensi     speci\n",
      "0.0   0.0  0.263333  0.000000  1.000000\n",
      "0.1   0.1  0.526667  0.375566  0.949367\n",
      "0.2   0.2  0.623333  0.552036  0.822785\n",
      "0.3   0.3  0.706667  0.696833  0.734177\n",
      "0.4   0.4  0.746667  0.782805  0.645570\n",
      "0.5   0.5  0.770000  0.841629  0.569620\n",
      "0.6   0.6  0.770000  0.886878  0.443038\n",
      "0.7   0.7  0.786667  0.954751  0.316456\n",
      "0.8   0.8  0.770000  0.977376  0.189873\n",
      "0.9   0.9  0.743333  0.990950  0.050633\n"
     ]
    }
   ],
   "source": [
    "# Now let's calculate accuracy sensitivity and specificity for various probability cutoffs.\n",
    "cutoff_df = pd.DataFrame( columns = ['prob','accuracy','sensi','speci'])\n",
    "from sklearn.metrics import confusion_matrix\n",
    "num = [0.0,0.1,0.2,0.3,0.4,0.5,0.6,0.7,0.8,0.9]\n",
    "for i in num:\n",
    "    cm1 = metrics.confusion_matrix(y_pred_df.actual, y_pred_df[i] )\n",
    "    total1=sum(sum(cm1))\n",
    "    accuracy = (cm1[0,0]+cm1[1,1])/total1\n",
    "    sensi = cm1[0,0]/(cm1[0,0]+cm1[0,1])\n",
    "    speci = cm1[1,1]/(cm1[1,0]+cm1[1,1])\n",
    "    cutoff_df.loc[i] =[ i ,accuracy,sensi,speci]\n",
    "print(cutoff_df)"
   ]
  },
  {
   "cell_type": "code",
   "execution_count": 225,
   "metadata": {},
   "outputs": [
    {
     "data": {
      "text/plain": [
       "<AxesSubplot:xlabel='prob'>"
      ]
     },
     "execution_count": 225,
     "metadata": {},
     "output_type": "execute_result"
    },
    {
     "data": {
      "image/png": "[encoded data removed]",
      "text/plain": [
       "<Figure size 432x288 with 1 Axes>"
      ]
     },
     "metadata": {
      "needs_background": "light"
     },
     "output_type": "display_data"
    }
   ],
   "source": [
    "#Let's plot accuracy sensitivity and specificity for various probabilities.\n",
    "cutoff_df.plot.line(x='prob', y=['accuracy','sensi','speci'])"
   ]
  },
  {
   "cell_type": "code",
   "execution_count": 320,
   "metadata": {},
   "outputs": [],
   "source": [
    "y_pred_df['predicted'] = y_pred_df.predicted_prob.map( lambda x: 1 if x > 0.25 else 0)"
   ]
  },
  {
   "cell_type": "code",
   "execution_count": 322,
   "metadata": {},
   "outputs": [
    {
     "data": {
      "image/png": "[encoded data removed]",
      "text/plain": [
       "<Figure size 432x288 with 2 Axes>"
      ]
     },
     "metadata": {
      "needs_background": "light"
     },
     "output_type": "display_data"
    }
   ],
   "source": [
    "draw_cm( y_pred_df.actual, y_pred_df.predicted)"
   ]
  },
  {
   "cell_type": "markdown",
   "metadata": {},
   "source": [
    "### Find optimal cutoff probability using yoden's index"
   ]
  },
  {
   "cell_type": "markdown",
   "metadata": {},
   "source": [
    "1. Youden's index is where (Sensitivity+Specificity - 1) is maximum.\n",
    "\n",
    "That is when (TPR+TNR -1) is maximum.\n",
    "\n",
    "max( TPR - (1 - TNR) )\n",
    "\n",
    "max( TPR - FPR )"
   ]
  },
  {
   "cell_type": "code",
   "execution_count": 324,
   "metadata": {},
   "outputs": [
    {
     "data": {
      "text/html": [
       "<div>\n",
       "<style scoped>\n",
       "    .dataframe tbody tr th:only-of-type {\n",
       "        vertical-align: middle;\n",
       "    }\n",
       "\n",
       "    .dataframe tbody tr th {\n",
       "        vertical-align: top;\n",
       "    }\n",
       "\n",
       "    .dataframe thead th {\n",
       "        text-align: right;\n",
       "    }\n",
       "</style>\n",
       "<table border=\"1\" class=\"dataframe\">\n",
       "  <thead>\n",
       "    <tr style=\"text-align: right;\">\n",
       "      <th></th>\n",
       "      <th>tpr</th>\n",
       "      <th>fpr</th>\n",
       "      <th>thresholds</th>\n",
       "    </tr>\n",
       "  </thead>\n",
       "  <tbody>\n",
       "    <tr>\n",
       "      <th>0</th>\n",
       "      <td>0.000000</td>\n",
       "      <td>0.000000</td>\n",
       "      <td>1.979647</td>\n",
       "    </tr>\n",
       "    <tr>\n",
       "      <th>1</th>\n",
       "      <td>0.000000</td>\n",
       "      <td>0.004525</td>\n",
       "      <td>0.979647</td>\n",
       "    </tr>\n",
       "    <tr>\n",
       "      <th>2</th>\n",
       "      <td>0.000000</td>\n",
       "      <td>0.009050</td>\n",
       "      <td>0.978828</td>\n",
       "    </tr>\n",
       "    <tr>\n",
       "      <th>3</th>\n",
       "      <td>0.012658</td>\n",
       "      <td>0.009050</td>\n",
       "      <td>0.960134</td>\n",
       "    </tr>\n",
       "    <tr>\n",
       "      <th>4</th>\n",
       "      <td>0.025316</td>\n",
       "      <td>0.009050</td>\n",
       "      <td>0.931523</td>\n",
       "    </tr>\n",
       "  </tbody>\n",
       "</table>\n",
       "</div>"
      ],
      "text/plain": [
       "        tpr       fpr  thresholds\n",
       "0  0.000000  0.000000    1.979647\n",
       "1  0.000000  0.004525    0.979647\n",
       "2  0.000000  0.009050    0.978828\n",
       "3  0.012658  0.009050    0.960134\n",
       "4  0.025316  0.009050    0.931523"
      ]
     },
     "execution_count": 324,
     "metadata": {},
     "output_type": "execute_result"
    }
   ],
   "source": [
    "tpr_fpr = pd.DataFrame( { 'tpr': tpr, 'fpr': fpr, 'thresholds': thresholds } )\n",
    "tpr_fpr.head()"
   ]
  },
  {
   "cell_type": "code",
   "execution_count": 325,
   "metadata": {},
   "outputs": [],
   "source": [
    "tpr_fpr['diff'] = tpr_fpr.tpr - tpr_fpr.fpr"
   ]
  },
  {
   "cell_type": "code",
   "execution_count": 326,
   "metadata": {},
   "outputs": [
    {
     "data": {
      "text/html": [
       "<div>\n",
       "<style scoped>\n",
       "    .dataframe tbody tr th:only-of-type {\n",
       "        vertical-align: middle;\n",
       "    }\n",
       "\n",
       "    .dataframe tbody tr th {\n",
       "        vertical-align: top;\n",
       "    }\n",
       "\n",
       "    .dataframe thead th {\n",
       "        text-align: right;\n",
       "    }\n",
       "</style>\n",
       "<table border=\"1\" class=\"dataframe\">\n",
       "  <thead>\n",
       "    <tr style=\"text-align: right;\">\n",
       "      <th></th>\n",
       "      <th>tpr</th>\n",
       "      <th>fpr</th>\n",
       "      <th>thresholds</th>\n",
       "      <th>diff</th>\n",
       "    </tr>\n",
       "  </thead>\n",
       "  <tbody>\n",
       "    <tr>\n",
       "      <th>108</th>\n",
       "      <td>0.721519</td>\n",
       "      <td>0.230769</td>\n",
       "      <td>0.352353</td>\n",
       "      <td>0.490750</td>\n",
       "    </tr>\n",
       "    <tr>\n",
       "      <th>109</th>\n",
       "      <td>0.721519</td>\n",
       "      <td>0.235294</td>\n",
       "      <td>0.348583</td>\n",
       "      <td>0.486225</td>\n",
       "    </tr>\n",
       "    <tr>\n",
       "      <th>106</th>\n",
       "      <td>0.708861</td>\n",
       "      <td>0.226244</td>\n",
       "      <td>0.364628</td>\n",
       "      <td>0.482616</td>\n",
       "    </tr>\n",
       "    <tr>\n",
       "      <th>110</th>\n",
       "      <td>0.721519</td>\n",
       "      <td>0.239819</td>\n",
       "      <td>0.342824</td>\n",
       "      <td>0.481700</td>\n",
       "    </tr>\n",
       "    <tr>\n",
       "      <th>107</th>\n",
       "      <td>0.708861</td>\n",
       "      <td>0.230769</td>\n",
       "      <td>0.362267</td>\n",
       "      <td>0.478092</td>\n",
       "    </tr>\n",
       "    <tr>\n",
       "      <th>111</th>\n",
       "      <td>0.721519</td>\n",
       "      <td>0.244344</td>\n",
       "      <td>0.342341</td>\n",
       "      <td>0.477175</td>\n",
       "    </tr>\n",
       "    <tr>\n",
       "      <th>112</th>\n",
       "      <td>0.721519</td>\n",
       "      <td>0.248869</td>\n",
       "      <td>0.340832</td>\n",
       "      <td>0.472650</td>\n",
       "    </tr>\n",
       "    <tr>\n",
       "      <th>105</th>\n",
       "      <td>0.696203</td>\n",
       "      <td>0.226244</td>\n",
       "      <td>0.365149</td>\n",
       "      <td>0.469958</td>\n",
       "    </tr>\n",
       "    <tr>\n",
       "      <th>113</th>\n",
       "      <td>0.721519</td>\n",
       "      <td>0.253394</td>\n",
       "      <td>0.339214</td>\n",
       "      <td>0.468125</td>\n",
       "    </tr>\n",
       "    <tr>\n",
       "      <th>114</th>\n",
       "      <td>0.721519</td>\n",
       "      <td>0.257919</td>\n",
       "      <td>0.339014</td>\n",
       "      <td>0.463600</td>\n",
       "    </tr>\n",
       "  </tbody>\n",
       "</table>\n",
       "</div>"
      ],
      "text/plain": [
       "          tpr       fpr  thresholds      diff\n",
       "108  0.721519  0.230769    0.352353  0.490750\n",
       "109  0.721519  0.235294    0.348583  0.486225\n",
       "106  0.708861  0.226244    0.364628  0.482616\n",
       "110  0.721519  0.239819    0.342824  0.481700\n",
       "107  0.708861  0.230769    0.362267  0.478092\n",
       "111  0.721519  0.244344    0.342341  0.477175\n",
       "112  0.721519  0.248869    0.340832  0.472650\n",
       "105  0.696203  0.226244    0.365149  0.469958\n",
       "113  0.721519  0.253394    0.339214  0.468125\n",
       "114  0.721519  0.257919    0.339014  0.463600"
      ]
     },
     "execution_count": 326,
     "metadata": {},
     "output_type": "execute_result"
    }
   ],
   "source": [
    "tpr_fpr.sort_values( 'diff', ascending = False )[0:10]"
   ]
  },
  {
   "cell_type": "code",
   "execution_count": 327,
   "metadata": {},
   "outputs": [],
   "source": [
    "y_pred_df['predicted_new'] = y_pred_df.predicted_prob.map( lambda x: 1 if x > 0.35 else 0)"
   ]
  },
  {
   "cell_type": "code",
   "execution_count": 329,
   "metadata": {},
   "outputs": [
    {
     "data": {
      "image/png": "[encoded data removed]",
      "text/plain": [
       "<Figure size 432x288 with 2 Axes>"
      ]
     },
     "metadata": {
      "needs_background": "light"
     },
     "output_type": "display_data"
    }
   ],
   "source": [
    "draw_cm( y_pred_df.actual, y_pred_df.predicted_new )"
   ]
  },
  {
   "cell_type": "markdown",
   "metadata": {},
   "source": [
    "### Find optimal cutoff probability using cost"
   ]
  },
  {
   "cell_type": "code",
   "execution_count": 330,
   "metadata": {},
   "outputs": [],
   "source": [
    "cm = metrics.confusion_matrix( y_pred_df.actual, y_pred_df.predicted_new, [1,0] )"
   ]
  },
  {
   "cell_type": "code",
   "execution_count": 331,
   "metadata": {},
   "outputs": [],
   "source": [
    "cm_mat = np.array( cm )"
   ]
  },
  {
   "cell_type": "code",
   "execution_count": 332,
   "metadata": {},
   "outputs": [
    {
     "data": {
      "text/plain": [
       "51"
      ]
     },
     "execution_count": 332,
     "metadata": {},
     "output_type": "execute_result"
    }
   ],
   "source": [
    "cm_mat[1, 0]"
   ]
  },
  {
   "cell_type": "code",
   "execution_count": 333,
   "metadata": {},
   "outputs": [
    {
     "data": {
      "text/plain": [
       "22"
      ]
     },
     "execution_count": 333,
     "metadata": {},
     "output_type": "execute_result"
    }
   ],
   "source": [
    "cm_mat[0, 1]"
   ]
  },
  {
   "cell_type": "code",
   "execution_count": 334,
   "metadata": {},
   "outputs": [],
   "source": [
    "def get_total_cost( actual, predicted ):\n",
    "    cm = metrics.confusion_matrix( actual, predicted, [1,0] )\n",
    "    cm_mat = np.array( cm )\n",
    "    return cm_mat[0,1] * 2 + cm_mat[0,1] * 1"
   ]
  },
  {
   "cell_type": "code",
   "execution_count": 335,
   "metadata": {},
   "outputs": [
    {
     "data": {
      "text/plain": [
       "66"
      ]
     },
     "execution_count": 335,
     "metadata": {},
     "output_type": "execute_result"
    }
   ],
   "source": [
    "get_total_cost( y_pred_df.actual, y_pred_df.predicted_new )"
   ]
  },
  {
   "cell_type": "code",
   "execution_count": 336,
   "metadata": {},
   "outputs": [],
   "source": [
    "cost_df = pd.DataFrame( columns = ['prob', 'cost'])"
   ]
  },
  {
   "cell_type": "code",
   "execution_count": 337,
   "metadata": {},
   "outputs": [],
   "source": [
    "idx = 0\n",
    "for each_prob in range( 20, 50):\n",
    "    cost = get_total_cost( y_pred_df.actual,\n",
    "                          y_pred_df.predicted_prob.map(\n",
    "            lambda x: 1 if x > (each_prob/100)  else 0) )\n",
    "    cost_df.loc[idx] = [(each_prob/100), cost]\n",
    "    idx += 1"
   ]
  },
  {
   "cell_type": "code",
   "execution_count": 338,
   "metadata": {},
   "outputs": [
    {
     "data": {
      "text/html": [
       "<div>\n",
       "<style scoped>\n",
       "    .dataframe tbody tr th:only-of-type {\n",
       "        vertical-align: middle;\n",
       "    }\n",
       "\n",
       "    .dataframe tbody tr th {\n",
       "        vertical-align: top;\n",
       "    }\n",
       "\n",
       "    .dataframe thead th {\n",
       "        text-align: right;\n",
       "    }\n",
       "</style>\n",
       "<table border=\"1\" class=\"dataframe\">\n",
       "  <thead>\n",
       "    <tr style=\"text-align: right;\">\n",
       "      <th></th>\n",
       "      <th>prob</th>\n",
       "      <th>cost</th>\n",
       "    </tr>\n",
       "  </thead>\n",
       "  <tbody>\n",
       "    <tr>\n",
       "      <th>0</th>\n",
       "      <td>0.20</td>\n",
       "      <td>42.0</td>\n",
       "    </tr>\n",
       "    <tr>\n",
       "      <th>1</th>\n",
       "      <td>0.21</td>\n",
       "      <td>42.0</td>\n",
       "    </tr>\n",
       "    <tr>\n",
       "      <th>2</th>\n",
       "      <td>0.22</td>\n",
       "      <td>42.0</td>\n",
       "    </tr>\n",
       "    <tr>\n",
       "      <th>3</th>\n",
       "      <td>0.23</td>\n",
       "      <td>45.0</td>\n",
       "    </tr>\n",
       "    <tr>\n",
       "      <th>4</th>\n",
       "      <td>0.24</td>\n",
       "      <td>45.0</td>\n",
       "    </tr>\n",
       "  </tbody>\n",
       "</table>\n",
       "</div>"
      ],
      "text/plain": [
       "   prob  cost\n",
       "0  0.20  42.0\n",
       "1  0.21  42.0\n",
       "2  0.22  42.0\n",
       "3  0.23  45.0\n",
       "4  0.24  45.0"
      ]
     },
     "execution_count": 338,
     "metadata": {},
     "output_type": "execute_result"
    }
   ],
   "source": [
    "cost_df.sort_values( 'cost', ascending = True )[0:5]"
   ]
  },
  {
   "cell_type": "code",
   "execution_count": 339,
   "metadata": {},
   "outputs": [],
   "source": [
    "y_pred_df['predicted_final'] = y_pred_df.predicted_prob.map( lambda x: 1 if x > 0.20 else 0)"
   ]
  },
  {
   "cell_type": "code",
   "execution_count": 341,
   "metadata": {},
   "outputs": [
    {
     "data": {
      "image/png": "[encoded data removed]",
      "text/plain": [
       "<Figure size 432x288 with 2 Axes>"
      ]
     },
     "metadata": {
      "needs_background": "light"
     },
     "output_type": "display_data"
    }
   ],
   "source": [
    "draw_cm( y_pred_df.actual, y_pred_df.predicted_final )"
   ]
  },
  {
   "cell_type": "markdown",
   "metadata": {},
   "source": [
    "Note: Predicting Defaults as No Defaults have been minimized"
   ]
  },
  {
   "cell_type": "code",
   "execution_count": 342,
   "metadata": {},
   "outputs": [
    {
     "name": "stdout",
     "output_type": "stream",
     "text": [
      "Total Accuracy :  0.62\n",
      "Precision :  0.4\n",
      "Recall :  0.82\n",
      "Sensitivity :  0.82\n",
      "Specificity :  0.55\n"
     ]
    }
   ],
   "source": [
    "print( 'Total Accuracy : ',np.round( metrics.accuracy_score( y_test, y_pred_df.predicted_final ), 2 ) )\n",
    "print( 'Precision : ',np.round( metrics.precision_score( y_test, y_pred_df.predicted_final ), 2 ) )\n",
    "print( 'Recall : ',np.round( metrics.recall_score( y_test, y_pred_df.predicted_final ), 2 ) )\n",
    "\n",
    "cm1 = metrics.confusion_matrix( y_pred_df.actual, y_pred_df.predicted_final, [1,0] )\n",
    "\n",
    "sensitivity = cm1[0,0]/(cm1[0,0]+cm1[0,1])\n",
    "print('Sensitivity : ', round( sensitivity, 2) )\n",
    "\n",
    "specificity = cm1[1,1]/(cm1[1,0]+cm1[1,1])\n",
    "print('Specificity : ', round( specificity, 2 ) )"
   ]
  },
  {
   "cell_type": "markdown",
   "metadata": {},
   "source": [
    "## Note: Total accuracy of the model is 62%, becuase the objective is not to improve total accuracy but minimize the quadrants that contribute to the cost."
   ]
  }
 ],
 "metadata": {
  "kernelspec": {
   "display_name": "Python 3",
   "language": "python",
   "name": "python3"
  },
  "language_info": {
   "codemirror_mode": {
    "name": "ipython",
    "version": 3
   },
   "file_extension": ".py",
   "mimetype": "text/x-python",
   "name": "python",
   "nbconvert_exporter": "python",
   "pygments_lexer": "ipython3",
   "version": "3.7.7"
  }
 },
 "nbformat": 4,
 "nbformat_minor": 2
}
