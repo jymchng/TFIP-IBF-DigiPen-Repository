{
 "cells": [
  {
   "cell_type": "code",
   "execution_count": 2,
   "metadata": {
    "ExecuteTime": {
     "end_time": "2021-01-25T01:23:31.819771Z",
     "start_time": "2021-01-25T01:23:30.311043Z"
    }
   },
   "outputs": [],
   "source": [
    "import numpy as np"
   ]
  },
  {
   "cell_type": "markdown",
   "metadata": {},
   "source": [
    "# Question 5"
   ]
  },
  {
   "cell_type": "code",
   "execution_count": 7,
   "metadata": {
    "ExecuteTime": {
     "end_time": "2021-01-25T01:26:14.079178Z",
     "start_time": "2021-01-25T01:26:14.073194Z"
    }
   },
   "outputs": [
    {
     "name": "stdout",
     "output_type": "stream",
     "text": [
      "[[ 7 -2 -2]\n",
      " [ 4 -9 10]\n",
      " [ 9  2  8]]\n",
      "[[ 7  9  3]\n",
      " [ 7 -7 -9]\n",
      " [ 1  6  5]]\n"
     ]
    }
   ],
   "source": [
    "#define first matrix\n",
    "A = np.array([\n",
    "    [7,-2,-2],\n",
    "    [4,-9,10],\n",
    "    [9,2,8]\n",
    "])\n",
    "print(A)\n",
    "#define second matrix\n",
    "B = np.array([\n",
    "    [7,9,3],\n",
    "    [7,-7,-9],\n",
    "    [1,6,5]\n",
    "])\n",
    "print(B)"
   ]
  },
  {
   "cell_type": "code",
   "execution_count": 6,
   "metadata": {
    "ExecuteTime": {
     "end_time": "2021-01-25T01:24:49.606748Z",
     "start_time": "2021-01-25T01:24:49.601759Z"
    }
   },
   "outputs": [
    {
     "name": "stdout",
     "output_type": "stream",
     "text": [
      "[[ 49 -18  -6]\n",
      " [ 28  63 -90]\n",
      " [  9  12  40]]\n"
     ]
    }
   ],
   "source": [
    "# Hadamard Product\n",
    "C = A * B\n",
    "print(C)"
   ]
  },
  {
   "cell_type": "code",
   "execution_count": 8,
   "metadata": {
    "ExecuteTime": {
     "end_time": "2021-01-25T01:26:35.253579Z",
     "start_time": "2021-01-25T01:26:35.249601Z"
    }
   },
   "outputs": [
    {
     "name": "stdout",
     "output_type": "stream",
     "text": [
      "[[ 33  65  29]\n",
      " [-25 159 143]\n",
      " [ 85 115  49]]\n"
     ]
    }
   ],
   "source": [
    "# Dot Product\n",
    "C = A.dot(B)\n",
    "print(C)"
   ]
  },
  {
   "cell_type": "code",
   "execution_count": null,
   "metadata": {},
   "outputs": [],
   "source": [
    "#define first matrix\n",
    "A = np.array([\n",
    "    [7,-2,-2],\n",
    "    [4,-9,10],\n",
    "    [9,2,8]\n",
    "])\n",
    "print(A)\n",
    "#define second matrix\n",
    "B = np.array([\n",
    "    [7,9,3],\n",
    "    [7,-7,-9],\n",
    "    [1,6,5]\n",
    "])\n",
    "print(B)"
   ]
  },
  {
   "cell_type": "code",
   "execution_count": null,
   "metadata": {},
   "outputs": [],
   "source": [
    "from numpy.linalg import solve\n",
    "X2 = solve(A,B)\n",
    "print(X2)"
   ]
  },
  {
   "cell_type": "markdown",
   "metadata": {},
   "source": [
    "# Question 6"
   ]
  },
  {
   "cell_type": "code",
   "execution_count": 9,
   "metadata": {
    "ExecuteTime": {
     "end_time": "2021-01-25T01:50:38.010438Z",
     "start_time": "2021-01-25T01:50:38.004491Z"
    }
   },
   "outputs": [
    {
     "name": "stdout",
     "output_type": "stream",
     "text": [
      "[[ 1  1  1  1  1]\n",
      " [ 1  2  3  4  5]\n",
      " [ 1  3  6 10 15]\n",
      " [ 1  4 10 20 35]\n",
      " [ 1  5 15 35 70]]\n"
     ]
    }
   ],
   "source": [
    "#define first matrix\n",
    "A = np.array([\n",
    "    [1,1,1,1,1],\n",
    "    [1,2,3,4,5],\n",
    "    [1,3,6,10,15],\n",
    "    [1,4,10,20,35],\n",
    "    [1,5,15,35,70]\n",
    "])\n",
    "print(A)"
   ]
  },
  {
   "cell_type": "code",
   "execution_count": 11,
   "metadata": {
    "ExecuteTime": {
     "end_time": "2021-01-25T01:51:04.547871Z",
     "start_time": "2021-01-25T01:51:04.531890Z"
    }
   },
   "outputs": [
    {
     "name": "stdout",
     "output_type": "stream",
     "text": [
      "0.9999999999999998\n"
     ]
    }
   ],
   "source": [
    "from numpy.linalg import det\n",
    "print(det(A))"
   ]
  },
  {
   "cell_type": "markdown",
   "metadata": {},
   "source": [
    "# Question 3"
   ]
  },
  {
   "cell_type": "code",
   "execution_count": 12,
   "metadata": {
    "ExecuteTime": {
     "end_time": "2021-01-25T01:55:06.048034Z",
     "start_time": "2021-01-25T01:55:06.044003Z"
    }
   },
   "outputs": [],
   "source": [
    "A = np.array([\n",
    "    [1,2],\n",
    "    [2,4],\n",
    "    [3,6]\n",
    "])"
   ]
  },
  {
   "cell_type": "code",
   "execution_count": 20,
   "metadata": {
    "ExecuteTime": {
     "end_time": "2021-01-25T02:04:40.897264Z",
     "start_time": "2021-01-25T02:04:40.893276Z"
    }
   },
   "outputs": [
    {
     "name": "stdout",
     "output_type": "stream",
     "text": [
      "[[ 5 10 15]\n",
      " [10 20 30]\n",
      " [15 30 45]]\n"
     ]
    }
   ],
   "source": [
    "B = A.dot(A.T)\n",
    "print(A.dot(A.T))"
   ]
  },
  {
   "cell_type": "code",
   "execution_count": 17,
   "metadata": {
    "ExecuteTime": {
     "end_time": "2021-01-25T01:59:52.899268Z",
     "start_time": "2021-01-25T01:59:52.895281Z"
    }
   },
   "outputs": [
    {
     "name": "stdout",
     "output_type": "stream",
     "text": [
      "[[14 28]\n",
      " [28 56]]\n"
     ]
    }
   ],
   "source": [
    "C = A.T.dot(A)\n",
    "print(A.T.dot(A))"
   ]
  },
  {
   "cell_type": "code",
   "execution_count": 18,
   "metadata": {
    "ExecuteTime": {
     "end_time": "2021-01-25T01:59:53.586277Z",
     "start_time": "2021-01-25T01:59:53.581291Z"
    }
   },
   "outputs": [
    {
     "name": "stdout",
     "output_type": "stream",
     "text": [
      "[ 0. 70.]\n",
      "[[-0.89442719 -0.4472136 ]\n",
      " [ 0.4472136  -0.89442719]]\n"
     ]
    }
   ],
   "source": [
    "from numpy.linalg import eig\n",
    "values, vectors = eig(C)\n",
    "print(values)\n",
    "print(vectors)"
   ]
  },
  {
   "cell_type": "code",
   "execution_count": 21,
   "metadata": {
    "ExecuteTime": {
     "end_time": "2021-01-25T02:04:43.666088Z",
     "start_time": "2021-01-25T02:04:43.661108Z"
    }
   },
   "outputs": [
    {
     "name": "stdout",
     "output_type": "stream",
     "text": [
      "[7.00000000e+01 3.42348056e-15 7.86710410e-31]\n",
      "[[-2.67261242e-01 -8.99989016e-01 -2.59226735e-16]\n",
      " [-5.34522484e-01 -1.58890294e-01 -8.32050294e-01]\n",
      " [-8.01783726e-01  4.05923201e-01  5.54700196e-01]]\n"
     ]
    }
   ],
   "source": [
    "from numpy.linalg import eig\n",
    "values, vectors = eig(B)\n",
    "print(values)\n",
    "print(vectors)"
   ]
  },
  {
   "cell_type": "markdown",
   "metadata": {},
   "source": [
    "# Question 4"
   ]
  },
  {
   "cell_type": "code",
   "execution_count": 23,
   "metadata": {
    "ExecuteTime": {
     "end_time": "2021-01-25T02:52:52.322049Z",
     "start_time": "2021-01-25T02:52:52.302064Z"
    }
   },
   "outputs": [
    {
     "name": "stdout",
     "output_type": "stream",
     "text": [
      "[[1 1 0]\n",
      " [1 0 1]\n",
      " [0 1 1]]\n",
      "[[-0.70710678  0.40824829 -0.57735027]\n",
      " [-0.70710678 -0.40824829  0.57735027]\n",
      " [-0.          0.81649658  0.57735027]]\n",
      "[[-1.41421356 -0.70710678 -0.70710678]\n",
      " [ 0.          1.22474487  0.40824829]\n",
      " [ 0.          0.          1.15470054]]\n",
      "[[ 1.00000000e+00  1.00000000e+00 -3.09999437e-16]\n",
      " [ 1.00000000e+00 -1.11022302e-16  1.00000000e+00]\n",
      " [ 0.00000000e+00  1.00000000e+00  1.00000000e+00]]\n"
     ]
    }
   ],
   "source": [
    "# QR decomposition\n",
    "from numpy import array\n",
    "from numpy.linalg import qr\n",
    "# define rectangular matrix\n",
    "A = array([\n",
    "    [1,1,0],\n",
    "    [1,0,1],\n",
    "    [0,1,1]])\n",
    "print(A)\n",
    "# factorize\n",
    "Q, R = qr(A, 'complete')\n",
    "print(Q)\n",
    "print(R)\n",
    "# reconstruct\n",
    "B = Q.dot(R)\n",
    "print(B)"
   ]
  },
  {
   "cell_type": "code",
   "execution_count": 24,
   "metadata": {
    "ExecuteTime": {
     "end_time": "2021-01-25T03:11:48.548528Z",
     "start_time": "2021-01-25T03:11:48.537557Z"
    }
   },
   "outputs": [
    {
     "name": "stdout",
     "output_type": "stream",
     "text": [
      "[[-0.70710678 -0.70710678 -0.        ]\n",
      " [ 0.40824829 -0.40824829  0.81649658]\n",
      " [-0.57735027  0.57735027  0.57735027]]\n"
     ]
    }
   ],
   "source": [
    "print(Q.T)"
   ]
  },
  {
   "cell_type": "code",
   "execution_count": 26,
   "metadata": {
    "ExecuteTime": {
     "end_time": "2021-01-25T03:14:10.463263Z",
     "start_time": "2021-01-25T03:14:10.454288Z"
    }
   },
   "outputs": [
    {
     "name": "stdout",
     "output_type": "stream",
     "text": [
      "[[-2.44948974  1.41421356 -2.        ]\n",
      " [-2.44948974 -1.41421356  2.        ]\n",
      " [-0.          2.82842712  2.        ]]\n"
     ]
    }
   ],
   "source": [
    "print(Q*np.sqrt(12))"
   ]
  },
  {
   "cell_type": "code",
   "execution_count": 27,
   "metadata": {
    "ExecuteTime": {
     "end_time": "2021-01-25T03:14:25.920425Z",
     "start_time": "2021-01-25T03:14:25.916441Z"
    }
   },
   "outputs": [
    {
     "name": "stdout",
     "output_type": "stream",
     "text": [
      "[[-1.41421356 -0.70710678 -0.70710678]\n",
      " [ 0.          1.22474487  0.40824829]\n",
      " [ 0.          0.          1.15470054]]\n"
     ]
    }
   ],
   "source": [
    "print(R)"
   ]
  },
  {
   "cell_type": "code",
   "execution_count": null,
   "metadata": {},
   "outputs": [],
   "source": []
  }
 ],
 "metadata": {
  "kernelspec": {
   "display_name": "Python 3",
   "language": "python",
   "name": "python3"
  },
  "language_info": {
   "codemirror_mode": {
    "name": "ipython",
    "version": 3
   },
   "file_extension": ".py",
   "mimetype": "text/x-python",
   "name": "python",
   "nbconvert_exporter": "python",
   "pygments_lexer": "ipython3",
   "version": "3.7.7"
  }
 },
 "nbformat": 4,
 "nbformat_minor": 4
}
