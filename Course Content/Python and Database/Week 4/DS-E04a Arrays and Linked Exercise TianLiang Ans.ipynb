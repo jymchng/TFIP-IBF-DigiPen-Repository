{
 "cells": [
  {
   "cell_type": "markdown",
   "metadata": {},
   "source": [
    "# Fundamental Data Structures and Algorithms 04a - Arrays and Linked List - Exercise\n",
    "---"
   ]
  },
  {
   "cell_type": "markdown",
   "metadata": {},
   "source": [
    "The following problems should help you get familiar with the arrays and linked lists"
   ]
  },
  {
   "cell_type": "markdown",
   "metadata": {},
   "source": [
    "  "
   ]
  },
  {
   "cell_type": "markdown",
   "metadata": {},
   "source": [
    "### Question 1  \n",
    "  \n",
    "**(a)** When you add 2 lists together: `[1, 2, 3] + [4, 5, 6]`, you will get `[1, 2, 3, 4, 5, 6]`. However, we want to sum elements together i.e. `[1, 2, 3] + [4, 5, 6]` will return `[5, 7, 9]`. Write a function `listSum` that takes 2 lists, `listA` and `listB` as input and returns a new list with the elements added together. Assume that both lists are of the same length and only consist of numbers."
   ]
  },
  {
   "cell_type": "code",
   "execution_count": 1,
   "metadata": {},
   "outputs": [],
   "source": [
    "def listSum(listA, listB):\n",
    "    # write your code here\n",
    "    new_lst = []\n",
    "    for i in range(len(listA)):\n",
    "        new_lst.append(listA[i] + listB[i])\n",
    "    return new_lst\n"
   ]
  },
  {
   "cell_type": "code",
   "execution_count": 7,
   "metadata": {},
   "outputs": [],
   "source": [
    "def listSum(listA, listB):\n",
    "    return list(map((lambda x,y:x+y), listA, listB))"
   ]
  },
  {
   "cell_type": "code",
   "execution_count": 19,
   "metadata": {},
   "outputs": [],
   "source": [
    "import numpy as np\n",
    "\n",
    "def listSum(listA, listB):\n",
    "    A = np.array(listA)\n",
    "    B = np.array(listB)\n",
    "    return list(A+B)"
   ]
  },
  {
   "cell_type": "code",
   "execution_count": 20,
   "metadata": {},
   "outputs": [
    {
     "data": {
      "text/plain": [
       "[5, 7, 9]"
      ]
     },
     "execution_count": 20,
     "metadata": {},
     "output_type": "execute_result"
    }
   ],
   "source": [
    "###### Test code #########\n",
    "listA = [1, 2, 3]\n",
    "listB = [4, 5, 6]\n",
    "\n",
    "listSum(listA, listB)"
   ]
  },
  {
   "cell_type": "markdown",
   "metadata": {},
   "source": [
    "  "
   ]
  },
  {
   "cell_type": "markdown",
   "metadata": {},
   "source": [
    "**(b)** Write a <u>recursive</u> function `allOnes` that takes in a list `l` and an input size `n`, and returns a list consisting of $n$ ones. E.g. if $n = 3$, the function will return `[1, 1, 1]`. "
   ]
  },
  {
   "cell_type": "code",
   "execution_count": 35,
   "metadata": {},
   "outputs": [],
   "source": [
    "def allOnes(l, n):\n",
    "    # write your code here\n",
    "    if n == 0:\n",
    "        return l\n",
    "    else:\n",
    "        l.append(1)\n",
    "        return allOnes(l, n-1)"
   ]
  },
  {
   "cell_type": "code",
   "execution_count": null,
   "metadata": {},
   "outputs": [],
   "source": []
  },
  {
   "cell_type": "code",
   "execution_count": 37,
   "metadata": {},
   "outputs": [
    {
     "data": {
      "text/plain": [
       "[1, 1, 1, 1, 1]"
      ]
     },
     "execution_count": 37,
     "metadata": {},
     "output_type": "execute_result"
    }
   ],
   "source": [
    "allOnes([], 5)"
   ]
  },
  {
   "cell_type": "markdown",
   "metadata": {},
   "source": [
    "---"
   ]
  },
  {
   "cell_type": "markdown",
   "metadata": {},
   "source": [
    "### Question 2  \n",
    "\n",
    "In mathematics, an $m \\times n$ matrix is a rectangular grid of numberical values arranged in $m$ rows and $n$ columns. You will implement some of the common operations performed on matrices. For the following problems, you are to use lists to represent the matrix. You are also encouraged to write your own test cases for the functions that you have implemented.\n",
    "  \n",
    "For example,  \n",
    "  \n",
    "the row matrix, \n",
    "$\\quad\n",
    "a=\n",
    "\\begin{bmatrix}\n",
    "0&1&2\\\\\n",
    "\\end{bmatrix}\n",
    "\\quad\n",
    "$\n",
    ", can be written as `a = [0, 1, 2]`,  \n",
    "  \n",
    "the column matrix, \n",
    "$\\quad\n",
    "b=\n",
    "\\begin{bmatrix}\n",
    "3 \\\\\n",
    "4 \\\\\n",
    "5 \\\\\n",
    "\\end{bmatrix}\n",
    "\\quad\n",
    "$\n",
    ", can be written as `b = [[3], [4], [5]]` and,  \n",
    "  \n",
    "the $3 \\times 2$ matrix,\n",
    "$\\quad\n",
    "m=\n",
    "\\begin{bmatrix}\n",
    "0&1 \\\\\n",
    "2&3 \\\\\n",
    "4&5 \\\\\n",
    "\\end{bmatrix}\n",
    "\\quad\n",
    "$\n",
    ", can be written as the nested list, `m = [[0, 1], [2, 3], [4, 5]]`."
   ]
  },
  {
   "cell_type": "markdown",
   "metadata": {},
   "source": [
    "  "
   ]
  },
  {
   "cell_type": "markdown",
   "metadata": {},
   "source": [
    "**(a) Size of Matrix**  \n",
    "Implement the function `getSize` that takes in a matrix `m` as input and returns the size of the matrix as a tuple in the following format $(row, column)$. This will serve as an auxilary function to the other functions that requires their matrix inputs to be of the correct sizes."
   ]
  },
  {
   "cell_type": "code",
   "execution_count": 33,
   "metadata": {},
   "outputs": [],
   "source": [
    "def getSize(m):\n",
    "    # implement your code here\n",
    "    if isinstance(m[0], list):\n",
    "        return len(m), len(m[0])\n",
    "    else:\n",
    "        return 1, len(m)\n",
    "        "
   ]
  },
  {
   "cell_type": "code",
   "execution_count": 34,
   "metadata": {},
   "outputs": [
    {
     "name": "stdout",
     "output_type": "stream",
     "text": [
      "(1, 3)\n",
      "(3, 1)\n"
     ]
    }
   ],
   "source": [
    "# Test cases\n",
    "a1 = [1, 2, 3]\n",
    "a2 = [[1], [2], [3]]\n",
    "print(getSize(a1))    # expected output: (1,3)\n",
    "print(getSize(a2))    # expected output: (3,1)\n",
    "# Write your test cases here\n"
   ]
  },
  {
   "cell_type": "markdown",
   "metadata": {},
   "source": [
    "  "
   ]
  },
  {
   "cell_type": "markdown",
   "metadata": {},
   "source": [
    "**(b) Additional and Subtraction**  \n",
    "Two $m \\times n$ matrices can be added or subtracted to create a third $m \\times n$ matrix. When adding two $m \\times n$ matrices, corresponding elements are summed as illustrated below.  \n",
    "  \n",
    "$$\n",
    "\\begin{bmatrix}\n",
    "0&1 \\\\\n",
    "2&3 \\\\\n",
    "4&5 \\\\\n",
    "\\end{bmatrix}\n",
    "+\n",
    "\\begin{bmatrix}\n",
    "6&7 \\\\\n",
    "8&9 \\\\\n",
    "1&0 \\\\\n",
    "\\end{bmatrix}\n",
    "=\n",
    "\\begin{bmatrix}\n",
    "(0+6)&(1+7) \\\\\n",
    "(2+8)&(3+9) \\\\\n",
    "(4+1)&(5+0) \\\\\n",
    "\\end{bmatrix}\n",
    "=\n",
    "\\begin{bmatrix}\n",
    "6&8 \\\\\n",
    "10&12 \\\\\n",
    "5&5 \\\\\n",
    "\\end{bmatrix}\\\\\n",
    "$$  \n",
    "  \n",
    "Subtraction is performed in a similar fashion but the corresponding elements are subtracted instead of summed.\n",
    "  \n",
    "You are to implement the matrix addition function `matrixSum` that takes in two matrices, `mA` and `mB`, as inputs and returns the summed matrix as output. Your function should ensure that both matrices have the same size."
   ]
  },
  {
   "cell_type": "code",
   "execution_count": 44,
   "metadata": {},
   "outputs": [],
   "source": [
    "def matrixSum(mA, mB):\n",
    "    # implement your code here\n",
    "    r, c = getSize(mA)\n",
    "    result = mA.copy()\n",
    "    for i in range(r):\n",
    "        for j in range(c):\n",
    "            result[i][j] += mB[i][j]\n",
    "    return result"
   ]
  },
  {
   "cell_type": "code",
   "execution_count": 45,
   "metadata": {},
   "outputs": [
    {
     "name": "stdout",
     "output_type": "stream",
     "text": [
      "[[6, 8], [10, 12], [5, 5]]\n"
     ]
    }
   ],
   "source": [
    "# Test cases\n",
    "b1 = [[0, 1], [2, 3], [4, 5]]\n",
    "b2 = [[6, 7], [8, 9], [1, 0]]\n",
    "b3 = matrixSum(b1, b2)    # expected output: [[6, 8], [10, 12], [5, 5]]\n",
    "print(b3)\n",
    "# Write your test cases here\n"
   ]
  },
  {
   "cell_type": "markdown",
   "metadata": {},
   "source": [
    "  "
   ]
  },
  {
   "cell_type": "markdown",
   "metadata": {},
   "source": [
    "**(c) Scaling**  \n",
    "matrix can be uniformly scaled, which modifies each element of the matrix by the same scale factor. A scale factor of less than $1$ has the effect of reducing the value of each element whereas a scale factor greater than $1$ increases the value of each element. Scaling a matrix by a scale factor of $3$ is illustrated here:  \n",
    "  \n",
    "$$\n",
    "3\n",
    "\\begin{bmatrix}\n",
    "6&7 \\\\\n",
    "8&9 \\\\\n",
    "1&0 \\\\\n",
    "\\end{bmatrix}\n",
    "=\n",
    "\\begin{bmatrix}\n",
    "(3\\times 6)&(3\\times 7) \\\\\n",
    "(3\\times 8)&(3\\times 9) \\\\\n",
    "(3\\times 1)&(3\\times 0) \\\\\n",
    "\\end{bmatrix}\n",
    "=\n",
    "\\begin{bmatrix}\n",
    "18&21 \\\\\n",
    "24&27 \\\\\n",
    "3&0 \\\\\n",
    "\\end{bmatrix}\\\\\n",
    "$$  \n",
    "  \n",
    "You are to implement the scale function `matrixScale` that takes in a matrix, `m`, and scale factor `sf`, as inputs and returns the scaled matrix as output."
   ]
  },
  {
   "cell_type": "code",
   "execution_count": 46,
   "metadata": {},
   "outputs": [],
   "source": [
    "def matrixScale(m, sf):\n",
    "    # implement your code here\n",
    "    r, c = getSize(m)\n",
    "    result = m.copy()\n",
    "    for i in range(r):\n",
    "        for j in range(c):\n",
    "            result[i][j] *= sf\n",
    "    return result"
   ]
  },
  {
   "cell_type": "code",
   "execution_count": 47,
   "metadata": {},
   "outputs": [
    {
     "name": "stdout",
     "output_type": "stream",
     "text": [
      "[[18, 21], [24, 27], [3, 0]]\n"
     ]
    }
   ],
   "source": [
    "# Test cases\n",
    "c1 = [[6, 7], [8, 9], [1, 0]]\n",
    "c2 = matrixScale(c1, 3)\n",
    "print(c2)    # expected output: [[18, 21], [24, 27], [3, 0]]\n",
    "# Write your test cases here\n"
   ]
  },
  {
   "cell_type": "markdown",
   "metadata": {},
   "source": [
    "  "
   ]
  },
  {
   "cell_type": "markdown",
   "metadata": {},
   "source": [
    "**(d) Multiplication**  \n",
    "Matrix multiplication is only defined for matrices where the number of columns in the matrix on the lefthand side is equal to the number of rows in the matrix on the righthand side. The result is a new matrix that contains the same number of rows as the matrix on the lefthand side and the same number of columns as the matrix on the righthand side. In other words, given a matrix of size $m \\times n$ multiplied by a matrix of size $n \\times p$, the resulting matrix is of size $m \\times p$. In multiplying two matrices, each element of the new matrix is the result of summing the product of a row in the lefthand side matrix by a column in the righthand side matrix. In the example matrix multiplication illustrated here, the row and column used to compute the first entry i.e. $(0, 0)$ of the new matrix is in bold fonts.\n",
    "  \n",
    "$$\n",
    "\\begin{bmatrix}\n",
    "\\mathbf{0}&\\mathbf{1} \\\\\n",
    "2&3 \\\\\n",
    "4&5 \\\\\n",
    "\\end{bmatrix}\n",
    "\\times\n",
    "\\begin{bmatrix}\n",
    "\\mathbf{6}&7&8 \\\\\n",
    "\\mathbf{9}&1&0 \\\\\n",
    "\\end{bmatrix}\n",
    "=\n",
    "\\begin{bmatrix}\n",
    "\\mathbf{(0\\times 6 + 1\\times 9)}&(0\\times 7 + 1\\times 1)&(0\\times 8 + 1\\times 0) \\\\\n",
    "(2\\times 6 + 3\\times 9)&(2\\times 7 + 3\\times 1)&(2\\times 8 + 3\\times 0) \\\\\n",
    "(4\\times 6 + 5\\times 9)&(4\\times 7 + 5\\times 1)&(4\\times 8 + 5\\times 0) \\\\\n",
    "\\end{bmatrix}\n",
    "=\n",
    "\\begin{bmatrix}\n",
    "\\mathbf{9}&1&0 \\\\\n",
    "39&17&16 \\\\\n",
    "69&33&32 \\\\\n",
    "\\end{bmatrix}\\\\\n",
    "$$  \n",
    "  \n",
    "View matrix multiplication based on the element subscripts can help you to better understand the operation. Consider the two matrices from above and assume they are labeled $A$ and $B$, respectively.  \n",
    "  \n",
    "$$\n",
    "A=\n",
    "\\begin{bmatrix}\n",
    "\\mathbf{A_{0,0}}&\\mathbf{A_{0,1}} \\\\\n",
    "A_{1,0}&A_{1,1} \\\\\n",
    "A_{2,0}&A_{2,1} \\\\\n",
    "\\end{bmatrix}\n",
    "\\quad \\quad\n",
    "B=\n",
    "\\begin{bmatrix}\n",
    "\\mathbf{B_{0,0}}&B_{0,1}&B_{0,2} \\\\\n",
    "\\mathbf{B_{1,0}}&B_{1,1}&B_{1,2} \\\\\n",
    "\\end{bmatrix}\\\\\n",
    "$$  \n",
    "\n",
    "The computation of the individual elements resulting from multiplying $A$ and $B$ (i.e. $C = A \\times B$) is performed as follows:\n",
    "\n",
    "$$\n",
    "C_{0,0} = A_{0,0} \\times B_{0,0} + A_{0,1} \\times B_{1,0}\\\\\n",
    "C_{0,1} = A_{0,0} \\times B_{0,1} + A_{0,1} \\times B_{1,1}\\\\\n",
    "C_{0,2} = A_{0,0} \\times B_{0,2} + A_{0,1} \\times B_{1,2}\\\\\n",
    "C_{1,0} = A_{1,0} \\times B_{0,0} + A_{1,1} \\times B_{1,0}\\\\\n",
    "C_{1,1} = A_{1,0} \\times B_{0,1} + A_{1,1} \\times B_{1,1}\\\\\n",
    "C_{1,2} = A_{1,0} \\times B_{0,2} + A_{1,1} \\times B_{1,2}\\\\\n",
    "C_{2,0} = A_{2,0} \\times B_{0,0} + A_{2,1} \\times B_{1,0}\\\\\n",
    "C_{2,1} = A_{2,0} \\times B_{0,1} + A_{2,1} \\times B_{1,1}\\\\\n",
    "C_{2,2} = A_{2,0} \\times B_{0,2} + A_{2,1} \\times B_{1,2}\\\\\n",
    "$$  \n",
    "  \n",
    "resulting in  \n",
    "  \n",
    "$$\n",
    "\\\\\n",
    "C=\n",
    "\\begin{bmatrix}\n",
    "(A_{0,0} \\times B_{0,0} + A_{0,1} \\times B_{1,0})&\n",
    "(A_{0,0} \\times B_{0,1} + A_{0,1} \\times B_{1,1})&\n",
    "(A_{0,0} \\times B_{0,2} + A_{0,1} \\times B_{1,2}) \\\\\n",
    "(A_{1,0} \\times B_{0,0} + A_{1,1} \\times B_{1,0})&\n",
    "(A_{1,0} \\times B_{0,1} + A_{1,1} \\times B_{1,1})&\n",
    "(A_{1,0} \\times B_{0,2} + A_{1,1} \\times B_{1,2}) \\\\\n",
    "(A_{2,0} \\times B_{0,0} + A_{2,1} \\times B_{1,0})&\n",
    "(A_{2,0} \\times B_{0,1} + A_{2,1} \\times B_{1,1})&\n",
    "(A_{2,0} \\times B_{0,2} + A_{2,1} \\times B_{1,2})\n",
    "\\end{bmatrix}\\\\\n",
    "$$  \n",
    "  \n",
    "You are to implement the matrix multiplication function `matrixMultiplication` that takes in two matrices, `mA` and `mB`, as inputs and returns the multiplied matrix as output. The function must ensure that both matrices are of correct sizes before proceeding i.e. matrix `mA` of size $m \\times n$ when multiplied with matrix `mB` of size $n \\times p$ will retult in matrix `mC` of size $m \\times p$"
   ]
  },
  {
   "cell_type": "code",
   "execution_count": 52,
   "metadata": {},
   "outputs": [],
   "source": [
    "def matrixMultiplication(mA, mB):\n",
    "    # Write your implementation here\n",
    "    ra, ca = getSize(mA)\n",
    "    rb, cb = getSize(mB)\n",
    "    result = []\n",
    "    if ca == rb:\n",
    "        for m in range(ra):\n",
    "            result.append([])\n",
    "            for p in range(cb):\n",
    "                result[m].append(0)\n",
    "                for n in range(ca):\n",
    "                    result[m][p] += mA[m][n] * mB[n][p]\n",
    "        return result\n",
    "    else:\n",
    "        assert(\"shape error\")"
   ]
  },
  {
   "cell_type": "code",
   "execution_count": 53,
   "metadata": {},
   "outputs": [
    {
     "name": "stdout",
     "output_type": "stream",
     "text": [
      "[[9, 1, 0], [39, 17, 16], [69, 33, 32]]\n"
     ]
    }
   ],
   "source": [
    "# Test cases\n",
    "d1 = [[0, 1], [2, 3], [4, 5]]\n",
    "d2 = [[6, 7, 8], [9, 1, 0]]\n",
    "d3 = matrixMultiplication(d1, d2)\n",
    "print(d3)    # expected output: [[9, 1, 0], [39, 17, 16], [69, 33, 32]]\n",
    "# Write your test cases here\n"
   ]
  },
  {
   "cell_type": "markdown",
   "metadata": {},
   "source": [
    "  "
   ]
  },
  {
   "cell_type": "markdown",
   "metadata": {},
   "source": [
    "**(e) Transpose**  \n",
    "Another useful operation that can be applied to a matrix is the matrix transpose. Given a $m \\times n$ matrix, a transpose swaps the rows and columns to create a new matrix of size $n \\times m$ as illustrated here:  \n",
    "  \n",
    "$$\n",
    "\\begin{bmatrix}\n",
    "0&1 \\\\\n",
    "2&3 \\\\\n",
    "4&5 \\\\\n",
    "\\end{bmatrix}\n",
    "^{\\ T}\n",
    "=\n",
    "\\begin{bmatrix}\n",
    "0&2&4 \\\\\n",
    "1&3&5 \\\\\n",
    "\\end{bmatrix}\\\\\n",
    "$$  \n",
    "  \n",
    "You are to implement the matrix transpose function `matrixTranspose` that takes in a matrix, `m`,  and returns the transposed matrix as output."
   ]
  },
  {
   "cell_type": "code",
   "execution_count": 61,
   "metadata": {},
   "outputs": [],
   "source": [
    "def matrixTranspose(m):\n",
    "    # Write your implementation here\n",
    "    r, c = getSize(m)\n",
    "    result = []\n",
    "    for j in range(c):\n",
    "        result.append([])\n",
    "        \n",
    "    for i in range(r):\n",
    "        for j in range(c):\n",
    "            result[j].append(m[i][j])\n",
    "    return result"
   ]
  },
  {
   "cell_type": "code",
   "execution_count": 62,
   "metadata": {},
   "outputs": [
    {
     "name": "stdout",
     "output_type": "stream",
     "text": [
      "[[0, 2, 4], [1, 3, 5]]\n"
     ]
    }
   ],
   "source": [
    "# Test cases\n",
    "e1 = [[0, 1], [2, 3], [4, 5]]\n",
    "e2 = matrixTranspose(e1)\n",
    "print(e2)    # expected output: [[0, 2, 4], [1, 3, 5]]\n",
    "# Write your test cases here\n"
   ]
  },
  {
   "cell_type": "markdown",
   "metadata": {},
   "source": [
    "  "
   ]
  },
  {
   "cell_type": "markdown",
   "metadata": {},
   "source": [
    "**(f) NumPy Array**  \n",
    "  \n",
    "NumPy is a popular Python library that supports many mathematical functions. Instead of using *lists* to represent a matrix, a NumPy array is much more suitable.  \n",
    "  \n",
    "Similarly,  \n",
    "  \n",
    "the row matrix, \n",
    "$\\quad\n",
    "a=\n",
    "\\begin{bmatrix}\n",
    "0&1&2\\\\\n",
    "\\end{bmatrix}\n",
    "\\quad\n",
    "$\n",
    ", can be written as `a = np.array([0, 1, 2])`,  \n",
    "  \n",
    "the column matrix, \n",
    "$\\quad\n",
    "b=\n",
    "\\begin{bmatrix}\n",
    "3 \\\\\n",
    "4 \\\\\n",
    "5 \\\\\n",
    "\\end{bmatrix}\n",
    "\\quad\n",
    "$\n",
    ", can be written as `b = np.array([[3], [4], [5]])` and,  \n",
    "  \n",
    "the $3 \\times 2$ matrix,\n",
    "$\\quad\n",
    "m=\n",
    "\\begin{bmatrix}\n",
    "0&1 \\\\\n",
    "2&3 \\\\\n",
    "4&5 \\\\\n",
    "\\end{bmatrix}\n",
    "\\quad\n",
    "$\n",
    ", can be written as the nested list, `m = np.array([[0, 1], [2, 3], [4, 5]])`.  \n",
    "  \n",
    "For each of the matrix operations above, you are to find their equivalent functions within the NumPy module. You are to compare your results"
   ]
  },
  {
   "cell_type": "code",
   "execution_count": 72,
   "metadata": {},
   "outputs": [
    {
     "name": "stdout",
     "output_type": "stream",
     "text": [
      "[5 7 9]\n",
      "[[1. 1. 1. 1. 1.]]\n",
      "(3,)\n",
      "(3, 1)\n",
      "[[54 63]\n",
      " [72 81]\n",
      " [ 9  0]]\n",
      "[[ 9  1  0]\n",
      " [39 17 16]\n",
      " [69 33 32]]\n",
      "[[0 2 4]\n",
      " [1 3 5]]\n"
     ]
    }
   ],
   "source": [
    "import numpy as np\n",
    "\n",
    "# Write your code here\n",
    "print(np.array(listA) + np.array(listB))\n",
    "print(np.ones((1, 5)))\n",
    "print(np.array(a1).shape)\n",
    "print(np.array(a2).shape)\n",
    "print(np.array(c1) * 3)\n",
    "print(np.dot(np.array(d1), np.array(d2)))\n",
    "print(np.array(e1).T)"
   ]
  },
  {
   "cell_type": "markdown",
   "metadata": {},
   "source": [
    "---"
   ]
  },
  {
   "cell_type": "markdown",
   "metadata": {},
   "source": [
    "### Question 3  \n",
    "  \n",
    "**(a)**  In the linked list presented in the notes, each node maintains a reference to the node that is immediately after it. A **doubly linked list** is a linked list that references <u>both the node before and after it</u>. This provides a greater flexibility as compared to the standard linked list.\n",
    "\n",
    "![doubly linked list](https://i.ibb.co/ftMwyZt/Slide49.png)\n",
    "\n",
    "Complete the implementation of the doubly linked list class below. The class `Node` and the ` __init__()` method have been done for you."
   ]
  },
  {
   "cell_type": "code",
   "execution_count": 1,
   "metadata": {
    "ExecuteTime": {
     "end_time": "2020-11-17T13:42:10.990529Z",
     "start_time": "2020-11-17T13:42:10.974572Z"
    }
   },
   "outputs": [],
   "source": [
    "class DoublyLinkedList:\n",
    "    \n",
    "    class Node:\n",
    "        def __init__(self, data, prev, next):\n",
    "            self.data = data\n",
    "            self.prev = prev\n",
    "            self.next = next\n",
    "            \n",
    "    def __init__(self):\n",
    "        self.head = self.Node(None, None, None)\n",
    "        self.tail = self.Node(None, None, None)\n",
    "        self.head.next = self.tail\n",
    "        self.tail.prev = self.head\n",
    "        self.size = 0\n",
    "        \n",
    "    # this will return the number of nodes in your linked list (aka length of the list)\n",
    "    def __len__(self):\n",
    "        # Implement your code here\n",
    "        # return self.size    #### this one have bug if add same node twice\n",
    "        if self.head.next == self.tail:\n",
    "            self.size = 0\n",
    "            return self.size\n",
    "        self.size = 0\n",
    "        current_node = self.head\n",
    "        while True:\n",
    "            current_node = current_node.next\n",
    "            if current_node == self.tail:\n",
    "                break\n",
    "            self.size += 1\n",
    "        return self.size    \n",
    "        \n",
    "    # this will return a True if list is empty\n",
    "    def isEmpty(self):\n",
    "        # Implement your code here\n",
    "        return self.__len__() == 0\n",
    "    \n",
    "    # this will insert a node between two existing nodes and return new node\n",
    "    def insert(self, newData, predecessor, successor):\n",
    "        # Implement your code here\n",
    "        newNode = self.Node(newData, predecessor, successor)\n",
    "        predecessor.next = newNode\n",
    "        successor.prev = newNode\n",
    "        #self.size += 1\n",
    "        return newNode\n",
    "    \n",
    "    # deletes node and returns the deleted data, returns None if no such node exists\n",
    "    def deleteNode(self,node):\n",
    "        # Implement your code here\n",
    "        if node.prev == None and node.next == None:\n",
    "            return None\n",
    "        \n",
    "        node.prev.next = node.next\n",
    "        node.next.prev = node.prev\n",
    "        #self.size -= 1\n",
    "        return node.data \n",
    "        \n",
    "    # prints list data from head to tail or prints \"list is empty\" if list is empty\n",
    "    def forwardPrint(self):\n",
    "        # Implement your code here\n",
    "        if self.__len__() == 0:\n",
    "            print(\"list is empty\")\n",
    "        else:\n",
    "            node_to_be_printed = self.head\n",
    "            while True:\n",
    "                node_to_be_printed = node_to_be_printed.next\n",
    "                if node_to_be_printed == self.tail:\n",
    "                    #print(self.tail.data)\n",
    "                    break\n",
    "                else:\n",
    "                    print(node_to_be_printed.data)\n",
    "                    \n",
    "                \n",
    "    \n",
    "    # prints list data from tail back to head or prints \"list is empty\" if list is empty\n",
    "    def reversePrint(self):\n",
    "        # Implement your code here\n",
    "        if self.__len__() == 0:\n",
    "            print(\"list is empty\")\n",
    "        else:\n",
    "            node_to_be_printed = self.tail\n",
    "            while True:\n",
    "                node_to_be_printed = node_to_be_printed.prev\n",
    "                if node_to_be_printed == self.head:\n",
    "                    #print(self.head.data)\n",
    "                    break\n",
    "                else:\n",
    "                    print(node_to_be_printed.data)\n",
    "                    "
   ]
  },
  {
   "cell_type": "markdown",
   "metadata": {},
   "source": [
    "  "
   ]
  },
  {
   "cell_type": "markdown",
   "metadata": {},
   "source": [
    "**(b)** You are to implement your own test cases to ensure that your doubly linked list class is implemented correctly."
   ]
  },
  {
   "cell_type": "code",
   "execution_count": 151,
   "metadata": {},
   "outputs": [],
   "source": [
    "# Do not modify this cell.\n",
    "# Run this before running the test cases below.\n",
    "dll = DoublyLinkedList()"
   ]
  },
  {
   "cell_type": "code",
   "execution_count": 152,
   "metadata": {},
   "outputs": [
    {
     "data": {
      "text/plain": [
       "True"
      ]
     },
     "execution_count": 152,
     "metadata": {},
     "output_type": "execute_result"
    }
   ],
   "source": [
    "# Test 1: verify that the list is empty; expected output: True\n",
    "# Implement your code here\n",
    "dll.isEmpty()"
   ]
  },
  {
   "cell_type": "code",
   "execution_count": 153,
   "metadata": {},
   "outputs": [
    {
     "data": {
      "text/plain": [
       "0"
      ]
     },
     "execution_count": 153,
     "metadata": {},
     "output_type": "execute_result"
    }
   ],
   "source": [
    "# Test 2: check the length of the list; expected output: 0\n",
    "# Implement your code here\n",
    "dll.__len__()"
   ]
  },
  {
   "cell_type": "code",
   "execution_count": 154,
   "metadata": {},
   "outputs": [
    {
     "name": "stdout",
     "output_type": "stream",
     "text": [
      "list is empty\n"
     ]
    }
   ],
   "source": [
    "# Test 3: print list; expected output: \"list is empty\"\n",
    "# Implement your code here\n",
    "dll.forwardPrint()"
   ]
  },
  {
   "cell_type": "code",
   "execution_count": 155,
   "metadata": {},
   "outputs": [],
   "source": [
    "# Test 4: Insert '2'\n",
    "# Implement your code here\n",
    "node2 = dll.insert('2', dll.head, dll.tail)"
   ]
  },
  {
   "cell_type": "code",
   "execution_count": 156,
   "metadata": {},
   "outputs": [],
   "source": [
    "# Test 5: Insert '3' at tail\n",
    "# Implement your code here\n",
    "node3 = dll.insert('3', node2, dll.tail)"
   ]
  },
  {
   "cell_type": "code",
   "execution_count": 157,
   "metadata": {},
   "outputs": [],
   "source": [
    "# Test 6: Insert '1' at head\n",
    "# Implement your code here\n",
    "node1 = dll.insert('1', dll.head, node2)"
   ]
  },
  {
   "cell_type": "code",
   "execution_count": 158,
   "metadata": {},
   "outputs": [
    {
     "data": {
      "text/plain": [
       "False"
      ]
     },
     "execution_count": 158,
     "metadata": {},
     "output_type": "execute_result"
    }
   ],
   "source": [
    "# Test 7: check if list is empty; expected output: False\n",
    "# Implement your code here\n",
    "dll.isEmpty()"
   ]
  },
  {
   "cell_type": "code",
   "execution_count": 159,
   "metadata": {},
   "outputs": [
    {
     "data": {
      "text/plain": [
       "3"
      ]
     },
     "execution_count": 159,
     "metadata": {},
     "output_type": "execute_result"
    }
   ],
   "source": [
    "# Test 8: verify the length of the list; expected output: 3\n",
    "# Implement your code here\n",
    "dll.__len__()"
   ]
  },
  {
   "cell_type": "code",
   "execution_count": 160,
   "metadata": {},
   "outputs": [
    {
     "name": "stdout",
     "output_type": "stream",
     "text": [
      "1\n",
      "2\n",
      "3\n"
     ]
    }
   ],
   "source": [
    "# Test 9: print list forwards; expected output: 1 2 3\n",
    "# Implement your code here\n",
    "dll.forwardPrint()"
   ]
  },
  {
   "cell_type": "code",
   "execution_count": 161,
   "metadata": {},
   "outputs": [
    {
     "data": {
      "text/plain": [
       "'2'"
      ]
     },
     "execution_count": 161,
     "metadata": {},
     "output_type": "execute_result"
    }
   ],
   "source": [
    "# Test 10: Delete '2'\n",
    "# Implement your code here\n",
    "dll.deleteNode(node2)"
   ]
  },
  {
   "cell_type": "code",
   "execution_count": 163,
   "metadata": {},
   "outputs": [
    {
     "data": {
      "text/plain": [
       "2"
      ]
     },
     "execution_count": 163,
     "metadata": {},
     "output_type": "execute_result"
    }
   ],
   "source": [
    "# Test 11: verify the length of the list; expected output: 2\n",
    "# Implement your code here\n",
    "dll.__len__()"
   ]
  },
  {
   "cell_type": "code",
   "execution_count": 164,
   "metadata": {},
   "outputs": [
    {
     "name": "stdout",
     "output_type": "stream",
     "text": [
      "3\n",
      "1\n"
     ]
    }
   ],
   "source": [
    "# Test 12: print list in reverse; expected output: 3 1\n",
    "# Implement your code here\n",
    "dll.reversePrint()"
   ]
  },
  {
   "cell_type": "code",
   "execution_count": 165,
   "metadata": {},
   "outputs": [
    {
     "data": {
      "text/plain": [
       "'1'"
      ]
     },
     "execution_count": 165,
     "metadata": {},
     "output_type": "execute_result"
    }
   ],
   "source": [
    "# Test 13: Delete '1'\n",
    "# Implement your code here\n",
    "dll.deleteNode(node1)"
   ]
  },
  {
   "cell_type": "code",
   "execution_count": 166,
   "metadata": {},
   "outputs": [
    {
     "data": {
      "text/plain": [
       "'3'"
      ]
     },
     "execution_count": 166,
     "metadata": {},
     "output_type": "execute_result"
    }
   ],
   "source": [
    "# Test 14: Delete '3'\n",
    "# Implement your code here\n",
    "dll.deleteNode(node3)"
   ]
  },
  {
   "cell_type": "code",
   "execution_count": 171,
   "metadata": {},
   "outputs": [
    {
     "name": "stdout",
     "output_type": "stream",
     "text": [
      "None\n"
     ]
    }
   ],
   "source": [
    "# Test 15: Delete '4', expected output: None\n",
    "# Implement your code here\n",
    "node4 = dll.Node('4', None, None)\n",
    "print(dll.deleteNode(node4))"
   ]
  },
  {
   "cell_type": "code",
   "execution_count": 172,
   "metadata": {},
   "outputs": [
    {
     "name": "stdout",
     "output_type": "stream",
     "text": [
      "True\n",
      "0\n",
      "list is empty\n"
     ]
    }
   ],
   "source": [
    "# Test 16: Repeat Tests #1, #2, #3. You can copy code here.\n",
    "# Implement your code here\n",
    "print(dll.isEmpty())\n",
    "print(dll.__len__())\n",
    "dll.forwardPrint()"
   ]
  },
  {
   "cell_type": "markdown",
   "metadata": {},
   "source": [
    "  "
   ]
  },
  {
   "cell_type": "markdown",
   "metadata": {},
   "source": [
    "**(c)** Write a function `listToDLL` that takes a list and returns a doubly linked list."
   ]
  },
  {
   "cell_type": "code",
   "execution_count": 173,
   "metadata": {},
   "outputs": [],
   "source": [
    "# implement your code here\n",
    "def listToDLL(lst):\n",
    "    dll = DoublyLinkedList()\n",
    "    for data in lst:\n",
    "        next_node = dll.tail\n",
    "        prev_node = dll.tail.prev\n",
    "        dll.insert(data, prev_node, next_node)\n",
    "    return dll"
   ]
  },
  {
   "cell_type": "code",
   "execution_count": 176,
   "metadata": {},
   "outputs": [
    {
     "name": "stdout",
     "output_type": "stream",
     "text": [
      "5\n",
      "4\n",
      "3\n",
      "\n",
      "3\n",
      "4\n",
      "5\n"
     ]
    }
   ],
   "source": [
    "# Test your code here\n",
    "lst = ['5', '4', '3']\n",
    "dll = listToDLL(lst)\n",
    "dll.forwardPrint()\n",
    "print()\n",
    "dll.reversePrint()"
   ]
  },
  {
   "cell_type": "markdown",
   "metadata": {},
   "source": [
    "  "
   ]
  }
 ],
 "metadata": {
  "kernelspec": {
   "display_name": "Python 3",
   "language": "python",
   "name": "python3"
  },
  "language_info": {
   "codemirror_mode": {
    "name": "ipython",
    "version": 3
   },
   "file_extension": ".py",
   "mimetype": "text/x-python",
   "name": "python",
   "nbconvert_exporter": "python",
   "pygments_lexer": "ipython3",
   "version": "3.7.7"
  }
 },
 "nbformat": 4,
 "nbformat_minor": 4
}
