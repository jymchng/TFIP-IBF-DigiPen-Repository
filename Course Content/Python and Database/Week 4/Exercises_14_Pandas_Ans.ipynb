{
 "cells": [
  {
   "cell_type": "markdown",
   "metadata": {},
   "source": [
    "# Pandas Exercise\n",
    "---\n",
    "In this exercise, we will be using a dataset avaliable from [Kaggle](https://www.kaggle.com/leekahhow/singapore-psi-pm25-20162019). You can download this dataset (`psi_df_2016_2019.csv`) from Moodle. This dataset consists of the Pollutant Standards Index (PSI), specifically pm2.5 data. \n",
    "\n",
    "The dataset has these columns\n",
    "* north\n",
    "* south\n",
    "* east\n",
    "* west\n",
    "* central\n",
    "* national\n",
    "* timestamp\n",
    "\n",
    "We will be going through how to extract a subset of data from the main dataset and plot this subset."
   ]
  },
  {
   "cell_type": "markdown",
   "metadata": {},
   "source": [
    "## Importing the libraries\n",
    "---\n",
    "Complete the code cell to define which libraries are required for:\n",
    "* pandas\n",
    "* plotting"
   ]
  },
  {
   "cell_type": "code",
   "execution_count": null,
   "metadata": {},
   "outputs": [],
   "source": [
    "import datetime\n",
    "import pandas as pd\n",
    "import matplotlib.pyplot as plt"
   ]
  },
  {
   "cell_type": "markdown",
   "metadata": {},
   "source": [
    "## Loading and viewing the data "
   ]
  },
  {
   "cell_type": "markdown",
   "metadata": {},
   "source": [
    "Load the data."
   ]
  },
  {
   "cell_type": "code",
   "execution_count": null,
   "metadata": {},
   "outputs": [],
   "source": [
    "df = pd.read_csv('psi_df_2016_2019.csv', header=0)"
   ]
  },
  {
   "cell_type": "markdown",
   "metadata": {},
   "source": [
    "Check if the data have been loaded properly"
   ]
  },
  {
   "cell_type": "code",
   "execution_count": null,
   "metadata": {},
   "outputs": [],
   "source": [
    "df.info()"
   ]
  },
  {
   "cell_type": "markdown",
   "metadata": {},
   "source": [
    "Take a look at what the first 5 records"
   ]
  },
  {
   "cell_type": "code",
   "execution_count": null,
   "metadata": {
    "scrolled": true
   },
   "outputs": [],
   "source": [
    "df.head()"
   ]
  },
  {
   "cell_type": "markdown",
   "metadata": {},
   "source": [
    "Check the data for any null values"
   ]
  },
  {
   "cell_type": "code",
   "execution_count": null,
   "metadata": {
    "scrolled": true
   },
   "outputs": [],
   "source": [
    "df.isnull().sum()"
   ]
  },
  {
   "cell_type": "markdown",
   "metadata": {},
   "source": [
    "## Sorting the data"
   ]
  },
  {
   "cell_type": "markdown",
   "metadata": {},
   "source": [
    "As the timestamps are in string format, we will be converting it into pandas datetime object."
   ]
  },
  {
   "cell_type": "code",
   "execution_count": null,
   "metadata": {},
   "outputs": [],
   "source": [
    "# convert the time stamp to pandas datetime object\n",
    "df['timestamp'] = pd.to_datetime(df['timestamp'])"
   ]
  },
  {
   "cell_type": "markdown",
   "metadata": {},
   "source": [
    "Since this data is has a span of 3 different years we would like to split it up into year and months\n",
    "<br>\n",
    "We added the year and month column to the dataframe"
   ]
  },
  {
   "cell_type": "code",
   "execution_count": null,
   "metadata": {},
   "outputs": [],
   "source": [
    "df['year'] = pd.DatetimeIndex(df['timestamp']).year\n",
    "df['month'] = pd.DatetimeIndex(df['timestamp']).month\n",
    "df.head()"
   ]
  },
  {
   "cell_type": "markdown",
   "metadata": {},
   "source": [
    "We now need to extract the data for the year 2016. To work with a clean dataset, we would like to remove the columns `timestamp` and `year`.\n",
    "\n",
    "**Hint:** Find out how a copy of a object is done"
   ]
  },
  {
   "cell_type": "code",
   "execution_count": null,
   "metadata": {},
   "outputs": [],
   "source": [
    "# performs a deep copy of the dataframe \n",
    "df_2016 = df.loc[df['year'] == 2016].copy()\n",
    "\n",
    "# discarding the 'timestamp' column\n",
    "df_2016.drop(['timestamp', 'year'], inplace=True, axis=1)\n",
    "df_2016.tail()\n"
   ]
  },
  {
   "cell_type": "markdown",
   "metadata": {},
   "source": [
    "Saving the dataframe into a CSV file for future use (not required but you may want to know how it can be done)"
   ]
  },
  {
   "cell_type": "code",
   "execution_count": null,
   "metadata": {},
   "outputs": [],
   "source": [
    "df_2016.to_csv('psi_df_2016.csv', index=False)"
   ]
  },
  {
   "cell_type": "markdown",
   "metadata": {},
   "source": [
    "## Normalizing the data for plotting"
   ]
  },
  {
   "cell_type": "markdown",
   "metadata": {},
   "source": [
    "Calculate the mean of PSI by month for the year of 2016"
   ]
  },
  {
   "cell_type": "code",
   "execution_count": null,
   "metadata": {},
   "outputs": [],
   "source": [
    "df_mean_by_month_2016 = df_2016.groupby('month').mean()\n",
    "df_mean_by_month_2016"
   ]
  },
  {
   "cell_type": "markdown",
   "metadata": {},
   "source": [
    "Plot the Mean PSI values for the year 2016. The x-axis is the months and the y-axis is the column data.\n",
    "\n",
    "**Hint:** If you have already used the `groupby` function in the previous code cell, check that your dataframe has the right columns and whether or not the dataframe's index can be used."
   ]
  },
  {
   "cell_type": "code",
   "execution_count": null,
   "metadata": {},
   "outputs": [],
   "source": [
    "# There are 2 ways to plot, either with matplotlib or with pandas. \n",
    "# Pandas uses matplotlib as well but there are times where one way is simpler than the other.\n",
    "\n",
    "# ------------------- Matplotlib way ----------------------------------\n",
    "fig = plt.figure(figsize=(13,10))\n",
    "for col in df_mean_by_month_2016.columns:\n",
    "    plt.plot(df_mean_by_month_2016.index, df_mean_by_month_2016[col], 'o-', label=str(col))\n",
    "\n",
    "plt.ylabel(\"PSI PM2.5 Levels\")\n",
    "plt.xlabel(\"Months\")\n",
    "plt.title('Mean PSI for Year 2016')\n",
    "plt.legend(fontsize=15)\n",
    "plt.show()"
   ]
  },
  {
   "cell_type": "code",
   "execution_count": null,
   "metadata": {},
   "outputs": [],
   "source": [
    "# ---------------------- Pandas way ---------------------------------\n",
    "axes = df_mean_by_month_2016.plot(title='Mean PSI for Year 2016',figsize=(13,10), style='o-')\n",
    "axes.set_ylabel(\"PSI PM2.5 Levels\")\n",
    "axes.legend(fontsize=15)\n",
    "plt.show()"
   ]
  }
 ],
 "metadata": {
  "kernelspec": {
   "display_name": "Python 3",
   "language": "python",
   "name": "python3"
  },
  "language_info": {
   "codemirror_mode": {
    "name": "ipython",
    "version": 3
   },
   "file_extension": ".py",
   "mimetype": "text/x-python",
   "name": "python",
   "nbconvert_exporter": "python",
   "pygments_lexer": "ipython3",
   "version": "3.8.3"
  }
 },
 "nbformat": 4,
 "nbformat_minor": 4
}
