{
 "cells": [
  {
   "cell_type": "markdown",
   "metadata": {},
   "source": [
    "# Fundamental Data Structures and Algorithms 05 - Trees - Exercise\n",
    "---\n"
   ]
  },
  {
   "cell_type": "markdown",
   "metadata": {},
   "source": [
    "The following problems should help you get familiar with trees."
   ]
  },
  {
   "cell_type": "markdown",
   "metadata": {},
   "source": [
    "### Question 1  \n",
    "\n",
    "Using pen and paper, draw the resulting Binary Search Tree based on the  following instructions:"
   ]
  },
  {
   "cell_type": "markdown",
   "metadata": {},
   "source": [
    "**(a)** Insert the numbers `25, 50, 35, 15, 10, 20, 70` in sequence."
   ]
  },
  {
   "cell_type": "markdown",
   "metadata": {},
   "source": [
    "Double click <b>here</b> for the solution\n",
    "<!--\n",
    "       25\n",
    "     /    \\\n",
    "   15      50\n",
    "  /  \\    /  \\\n",
    " 10  20  35   70\n",
    " -->"
   ]
  },
  {
   "cell_type": "markdown",
   "metadata": {},
   "source": [
    "  "
   ]
  },
  {
   "cell_type": "markdown",
   "metadata": {},
   "source": [
    "**(b)** Insert the numbers `11, 6, 8, 19, 4, 10, 5, 17, 43, 49, 31` in sequence."
   ]
  },
  {
   "cell_type": "markdown",
   "metadata": {},
   "source": [
    "Double click <b>here</b> for the solution\n",
    "<!--\n",
    "     11\n",
    "   /    \\\n",
    "  6      19\n",
    " / \\    /  \\\n",
    "4   8  17  43\n",
    " \\   \\    /  \\\n",
    "  5  10  31  49\n",
    "-->"
   ]
  },
  {
   "cell_type": "markdown",
   "metadata": {},
   "source": [
    "  "
   ]
  },
  {
   "cell_type": "markdown",
   "metadata": {},
   "source": [
    "**(c)** Draw the 2 possible trees that can formed after the removal of `11` from the tree in **(b)**."
   ]
  },
  {
   "cell_type": "markdown",
   "metadata": {},
   "source": [
    "Double click <b>here</b> for the solution\n",
    "<!--\n",
    "     10                        17 \n",
    "   /    \\                    /    \\\n",
    "  6      19                 6      19\n",
    " / \\    /  \\               / \\       \\\n",
    "4   8  17  43             4   8      43\n",
    " \\        /  \\             \\   \\    /  \\\n",
    "  5      31  49             5  10  31  49\n",
    "  -->"
   ]
  },
  {
   "cell_type": "markdown",
   "metadata": {},
   "source": [
    "---"
   ]
  },
  {
   "cell_type": "markdown",
   "metadata": {},
   "source": [
    "### Question 2"
   ]
  },
  {
   "cell_type": "raw",
   "metadata": {},
   "source": [
    "     Tree 1                 Tree 2\n",
    "\n",
    "      100                     18\n",
    "    /     \\                 /    \\\n",
    "  20       200             5      4\n",
    " /  \\     /   \\           / \\      \\\n",
    "10  30  150   300        9   7      11\n",
    "                            / \\    /  \n",
    "                           1  12  3\n",
    "                              /\n",
    "                             2"
   ]
  },
  {
   "cell_type": "markdown",
   "metadata": {},
   "source": [
    "**(a)** For each tree, determine the following:\n",
    "- Root node\n",
    "- Leaf node(s)"
   ]
  },
  {
   "cell_type": "raw",
   "metadata": {},
   "source": [
    "Tree 1\n",
    "    Root node    :\n",
    "    Leaf node(s) :\n",
    "\n",
    "Tree 2\n",
    "    Root node    :\n",
    "    Leaf node(s) :"
   ]
  },
  {
   "cell_type": "markdown",
   "metadata": {},
   "source": [
    "Double click <b>here</b> for the solution\n",
    "<!--\n",
    "Tree 1\n",
    "    Root node    : 100\n",
    "    Leaf node(s) : 10, 30, 150, 300\n",
    "\n",
    "Tree 2\n",
    "    Root node    : 18\n",
    "    Leaf node(s) : 9, 1, 2, 3\n",
    "-->"
   ]
  },
  {
   "cell_type": "markdown",
   "metadata": {},
   "source": [
    "  "
   ]
  },
  {
   "cell_type": "markdown",
   "metadata": {},
   "source": [
    "**(b)** Given the trees above, write down the nodes visited during pre-order, in-order and post-order traversal. Click on the 3 dots below to reveal the answer."
   ]
  },
  {
   "cell_type": "raw",
   "metadata": {},
   "source": [
    "Tree 1\n",
    "    pre-order  : \n",
    "    in-order   : \n",
    "    post-order : \n",
    "\n",
    "Tree 2\n",
    "    pre-order  : \n",
    "    in-order   : \n",
    "    post-order : "
   ]
  },
  {
   "cell_type": "markdown",
   "metadata": {},
   "source": [
    "Double click <b>here</b> for the solution\n",
    "<!--\n",
    "(a)\n",
    "    pre-order  : 100, 20, 10, 30, 200, 150, 300\n",
    "    in-order   : 10, 20, 30, 100, 150, 200, 300\n",
    "    post-order : 10, 30, 20, 150, 300, 200, 100\n",
    "\n",
    "(b)\n",
    "    pre-order  : 8, 5, 9, 7, 1, 12, 2, 4, 11, 3\n",
    "    in-order   : 9, 5, 1, 7, 2, 12, 8, 4, 3, 11\n",
    "    post-order : 9, 1, 2, 12, 7, 5, 3, 11, 4, 8\n",
    "-->"
   ]
  },
  {
   "cell_type": "markdown",
   "metadata": {},
   "source": [
    "---"
   ]
  },
  {
   "cell_type": "markdown",
   "metadata": {},
   "source": [
    "### Question 3\n",
    "\n",
    "Expanding from the Binary Search Tree class implementation in Chapter 3.6.2.1 and the algorithms detailed in Chapter 3.6.2.3 of the Trees lecture notes, implement the following methods:\n",
    "\n",
    "**(a)** `search` that takes in a value to be searched as input, and returns `True` if the value is found, and\n",
    "\n",
    "**(b)** `minSearch` and `maxSearch` that returns the the minimum and maximum values contained within the tree espectively.\n",
    "\n",
    "You are highly encouraged to create your own test cases to test your code."
   ]
  },
  {
   "cell_type": "code",
   "execution_count": null,
   "metadata": {},
   "outputs": [],
   "source": [
    "class BST:\n",
    "    #method 1\n",
    "#     class Node:\n",
    "#         def __init__(self, data):\n",
    "#             self.data = data\n",
    "#             self.left = None\n",
    "#             self.right = None\n",
    "    #method 2\n",
    "    def __init__(self, data):\n",
    "        self.data = data\n",
    "        self.left = None\n",
    "        self.right = None\n",
    "    \n",
    "    def insert(self, data):\n",
    "        if self.data:\n",
    "            if data < self.data:\n",
    "                if self.left is None:\n",
    "                    self.left = BST(data)\n",
    "                else:\n",
    "                    self.left.insert(data)\n",
    "            elif data > self.data:\n",
    "                if self.right is None:\n",
    "                    self.right = BST(data)\n",
    "                else:\n",
    "                    self.right.insert(data)\n",
    "        else:\n",
    "            self.data = BST(data)\n",
    "            \n",
    "    def inOrder(self):\n",
    "        if self.left:\n",
    "            self.left.inOrder()\n",
    "        print(self.data) # can be any other function\n",
    "        if self.right:\n",
    "            self.right.inOrder()\n",
    "            \n",
    "    def preOrder(self):\n",
    "        print(self.data)# can be any other function\n",
    "        if self.left:\n",
    "            self.left.preOrder()\n",
    "        if self.right:\n",
    "            self.right.preOrder()\n",
    "            \n",
    "    def postOrder(self):\n",
    "        if self.left:\n",
    "            self.left.postOrder()\n",
    "        if self.right:\n",
    "            self.right.postOrder()\n",
    "        print(self.data) # can be any other function\n",
    "            \n",
    "    def search(self, data):\n",
    "        # Base Cases: root is null\n",
    "        if self.data is None:\n",
    "            print(f\"Element {data} does not exist\\n\")\n",
    "   \n",
    "        # key is present at root  \n",
    "        elif self.data == data:\n",
    "            print(f\"Element {data} found in the Tree\\n\")\n",
    "            return True\n",
    "   \n",
    "        # Key is greater than root's key\n",
    "        elif self.data < data:\n",
    "            return self.right.search(data)\n",
    "   \n",
    "        # Key is smaller than root's key\n",
    "        elif self.data > data:\n",
    "            return self.left.search(data)\n",
    "   \n",
    "        #key is not present\n",
    "        else:\n",
    "            print(f\"Element{data} not found in Tree\\n\")\n",
    "        \n",
    "    def minSearch(self):\n",
    "        # write your code here\n",
    "        while self.left != None:\n",
    "            self = self.left\n",
    "        return self.data\n",
    "    \n",
    "    def maxSearch(self):\n",
    "        # write your code here\n",
    "        while self.right != None:\n",
    "            self = self.right\n",
    "        return self.data"
   ]
  },
  {
   "cell_type": "code",
   "execution_count": null,
   "metadata": {},
   "outputs": [],
   "source": [
    "root = BST(8)\n",
    "root.insert(3)\n",
    "root.insert(10)\n",
    "root.insert(1)\n",
    "root.insert(6)\n",
    "root.insert(9)\n",
    "root.insert(12)\n",
    "root.insert(4)\n",
    "root.insert(7)\n",
    "root.insert(11)\n",
    "root.insert(14)\n",
    "root.search(11)\n",
    "\n",
    "\n",
    "print(\"\\nmin:\", root.minSearch())\n",
    "print(\"\\nmax:\", root.maxSearch())\n",
    "\n",
    "print(\"\\nIn order:\")\n",
    "root.inOrder()\n",
    "print(\"\\nPre order:\")\n",
    "root.preOrder()\n",
    "print(\"\\nPost order:\")\n",
    "root.postOrder()"
   ]
  },
  {
   "cell_type": "markdown",
   "metadata": {},
   "source": [
    "---"
   ]
  },
  {
   "cell_type": "markdown",
   "metadata": {},
   "source": [
    "### Question 4\n",
    "\n",
    "Repeat Question 1 but for an AVL tree instead. Also, for each tree, you are highly encouraged to draw the resulting trees after each insertion/rotation/deletion step."
   ]
  },
  {
   "cell_type": "markdown",
   "metadata": {},
   "source": [
    "**(a)** Insert the numbers `25, 50, 35, 15, 10, 20, 70` in sequence.   "
   ]
  },
  {
   "cell_type": "markdown",
   "metadata": {},
   "source": [
    "Double click <b>here</b> for the solution\n",
    "<!--\n",
    "       25\n",
    "     /    \\\n",
    "   15      50\n",
    "  /  \\    /  \\\n",
    " 10  20  35   70\n",
    "-->"
   ]
  },
  {
   "cell_type": "markdown",
   "metadata": {},
   "source": [
    "    "
   ]
  },
  {
   "cell_type": "markdown",
   "metadata": {},
   "source": [
    "**(b)** Insert the numbers `11, 6, 8, 19, 4, 10, 5, 17, 43, 49, 31` in sequence."
   ]
  },
  {
   "cell_type": "markdown",
   "metadata": {},
   "source": [
    "Double click <b>here</b> for the solution\n",
    "<!--\n",
    "       8\n",
    "    /    \\\n",
    "   5      19\n",
    " /  \\    /   \\\n",
    "4    6  11    43\n",
    "       / \\   /  \\\n",
    "     10  17 31  49\n",
    "-->"
   ]
  },
  {
   "cell_type": "markdown",
   "metadata": {},
   "source": [
    "  "
   ]
  },
  {
   "cell_type": "markdown",
   "metadata": {},
   "source": [
    "**(c)** Draw the 2 possible trees that can formed after the removal of `11` from the tree in **(b)**."
   ]
  },
  {
   "cell_type": "markdown",
   "metadata": {},
   "source": [
    "Double click <b>here</b> for the solution\n",
    "<!--\n",
    "\n",
    "       8\n",
    "    /    \\\n",
    "   5      19\n",
    " /  \\    /   \\\n",
    "4    6  10    43\n",
    "         \\   /  \\\n",
    "         17 31  49\n",
    "         \n",
    "-->"
   ]
  },
  {
   "cell_type": "markdown",
   "metadata": {},
   "source": [
    "---"
   ]
  },
  {
   "cell_type": "markdown",
   "metadata": {},
   "source": [
    "### Question 5\n",
    "  \n",
    "**(a)** Using pen and paper, draw the AVL Tree after inserting the numbers `40, 20, 10, 25, 30, 22, 50` in sequence."
   ]
  },
  {
   "cell_type": "markdown",
   "metadata": {},
   "source": [
    "Double click <b>here</b> for the solution\n",
    "<!--\n",
    "       25\n",
    "     /    \\\n",
    "   20      40\n",
    "  /  \\    /  \\\n",
    " 10  22  30   50\n",
    "-->"
   ]
  },
  {
   "cell_type": "markdown",
   "metadata": {},
   "source": [
    "  "
   ]
  },
  {
   "cell_type": "markdown",
   "metadata": {},
   "source": [
    "**(b)** Continuing from part (a), draw the resulting AVL tree after deleting the numbers in the order `22, 25, 40, 20`."
   ]
  },
  {
   "cell_type": "markdown",
   "metadata": {},
   "source": [
    "Double click <b>here</b> for the solution\n",
    "<!--\n",
    "\n",
    "  30 \n",
    " /  \\\n",
    "10  50\n",
    "\n",
    "-->"
   ]
  },
  {
   "cell_type": "markdown",
   "metadata": {},
   "source": [
    "---"
   ]
  },
  {
   "cell_type": "markdown",
   "metadata": {},
   "source": [
    "### Question 6\n",
    "\n",
    "Implement an AVL tree class. You are encouraged to research the algorithm from reliable sources. It should include methods to insert and delete. You should also include the various rotation methods that may be required during insertions and deletions."
   ]
  },
  {
   "cell_type": "code",
   "execution_count": null,
   "metadata": {},
   "outputs": [],
   "source": [
    "#import random, math\n",
    "\n",
    "outputdebug = False \n",
    "\n",
    "def debug(msg):\n",
    "    if outputdebug:\n",
    "        print (msg)\n",
    "\n",
    "class Node():\n",
    "    def __init__(self, key):\n",
    "        self.key = key\n",
    "        self.left = None \n",
    "        self.right = None \n",
    "\n",
    "class AVLTree():\n",
    "    def __init__(self, *args):\n",
    "        self.node = None \n",
    "        self.height = -1  \n",
    "        self.balance = 0; \n",
    "        \n",
    "        if len(args) == 1: \n",
    "            for i in args[0]: \n",
    "                self.insert(i)\n",
    "                \n",
    "    def height(self):\n",
    "        if self.node: \n",
    "            return self.node.height \n",
    "        else: \n",
    "            return 0 \n",
    "    \n",
    "    def is_leaf(self):\n",
    "        return (self.height == 0) \n",
    "    \n",
    "    def insert(self, key):\n",
    "        tree = self.node\n",
    "        \n",
    "        newnode = Node(key)\n",
    "        \n",
    "        if tree == None:\n",
    "            self.node = newnode \n",
    "            self.node.left = AVLTree() \n",
    "            self.node.right = AVLTree()\n",
    "            debug(\"Inserted key [\" + str(key) + \"]\")\n",
    "        \n",
    "        elif key < tree.key: \n",
    "            self.node.left.insert(key)\n",
    "            \n",
    "        elif key > tree.key: \n",
    "            self.node.right.insert(key)\n",
    "        \n",
    "        else: \n",
    "            debug(\"Key [\" + str(key) + \"] already in tree.\")\n",
    "            \n",
    "        self.rebalance() \n",
    "        \n",
    "    def rebalance(self):\n",
    "        ''' \n",
    "        Rebalance a particular (sub)tree\n",
    "        ''' \n",
    "        # key inserted. Let's check if we're balanced\n",
    "        self.update_heights(False)\n",
    "        self.update_balances(False)\n",
    "        while self.balance < -1 or self.balance > 1: \n",
    "            if self.balance > 1:\n",
    "                if self.node.left.balance < 0:  \n",
    "                    self.node.left.lrotate() # we're in case II\n",
    "                    self.update_heights()\n",
    "                    self.update_balances()\n",
    "                self.rrotate()\n",
    "                self.update_heights()\n",
    "                self.update_balances()\n",
    "                \n",
    "            if self.balance < -1:\n",
    "                if self.node.right.balance > 0:  \n",
    "                    self.node.right.rrotate() # we're in case III\n",
    "                    self.update_heights()\n",
    "                    self.update_balances()\n",
    "                self.lrotate()\n",
    "                self.update_heights()\n",
    "                self.update_balances()\n",
    " \n",
    "    def rrotate(self):\n",
    "        # Rotate left pivoting on self\n",
    "        debug ('Rotating ' + str(self.node.key) + ' right') \n",
    "        A = self.node \n",
    "        B = self.node.left.node \n",
    "        T = B.right.node \n",
    "        \n",
    "        self.node = B \n",
    "        B.right.node = A \n",
    "        A.left.node = T \n",
    "\n",
    "    \n",
    "    def lrotate(self):\n",
    "        # Rotate left pivoting on self\n",
    "        debug ('Rotating ' + str(self.node.key) + ' left') \n",
    "        A = self.node \n",
    "        B = self.node.right.node \n",
    "        T = B.left.node \n",
    "        \n",
    "        self.node = B \n",
    "        B.left.node = A \n",
    "        A.right.node = T \n",
    "\n",
    "    def update_heights(self, recurse=True):\n",
    "        if not self.node == None: \n",
    "            if recurse: \n",
    "                if self.node.left != None: \n",
    "                    self.node.left.update_heights()\n",
    "                if self.node.right != None:\n",
    "                    self.node.right.update_heights()\n",
    "            \n",
    "            self.height = max(self.node.left.height,\n",
    "                              self.node.right.height) + 1 \n",
    "        else: \n",
    "            self.height = -1 \n",
    "\n",
    "    def update_balances(self, recurse=True):\n",
    "        if not self.node == None: \n",
    "            if recurse: \n",
    "                if self.node.left != None: \n",
    "                    self.node.left.update_balances()\n",
    "                if self.node.right != None:\n",
    "                    self.node.right.update_balances()\n",
    "\n",
    "            self.balance = self.node.left.height - self.node.right.height \n",
    "        else: \n",
    "            self.balance = 0 \n",
    "\n",
    "    def delete(self, key):\n",
    "        # debug(\"Trying to delete at node: \" + str(self.node.key))\n",
    "        if self.node != None: \n",
    "            if self.node.key == key: \n",
    "                debug(\"Deleting ... \" + str(key))  \n",
    "                if self.node.left.node == None and self.node.right.node == None:\n",
    "                    self.node = None # leaves can be killed at will \n",
    "                # if only one subtree, take that \n",
    "                elif self.node.left.node == None: \n",
    "                    self.node = self.node.right.node\n",
    "                elif self.node.right.node == None: \n",
    "                    self.node = self.node.left.node\n",
    "                \n",
    "                # worst-case: both children present. Find logical successor\n",
    "                else:  \n",
    "                    replacement = self.logical_successor(self.node)\n",
    "                    if replacement != None: # sanity check \n",
    "                        debug(\"Found replacement for \" + str(key) + \" -> \" + str(replacement.key))  \n",
    "                        self.node.key = replacement.key \n",
    "                        \n",
    "                        # replaced. Now delete the key from right child \n",
    "                        self.node.right.delete(replacement.key)\n",
    "                    \n",
    "                self.rebalance()\n",
    "                return  \n",
    "            elif key < self.node.key: \n",
    "                self.node.left.delete(key)  \n",
    "            elif key > self.node.key: \n",
    "                self.node.right.delete(key)\n",
    "                        \n",
    "            self.rebalance()\n",
    "        else: \n",
    "            return \n",
    "\n",
    "    def logical_predecessor(self, node):\n",
    "        ''' \n",
    "        Find the biggest valued node in LEFT child\n",
    "        ''' \n",
    "        node = node.left.node \n",
    "        if node != None: \n",
    "            while node.right != None:\n",
    "                if node.right.node == None: \n",
    "                    return node \n",
    "                else: \n",
    "                    node = node.right.node  \n",
    "        return node \n",
    "\n",
    "    def logical_successor(self, node):\n",
    "        ''' \n",
    "        Find the smallese valued node in RIGHT child\n",
    "        ''' \n",
    "        node = node.right.node  \n",
    "        if node != None: # just a sanity check  \n",
    "            \n",
    "            while node.left != None:\n",
    "                debug(\"LS: traversing: \" + str(node.key))\n",
    "                if node.left.node == None: \n",
    "                    return node \n",
    "                else: \n",
    "                    node = node.left.node  \n",
    "        return node \n",
    "\n",
    "    def check_balanced(self):\n",
    "        if self == None or self.node == None: \n",
    "            return True\n",
    "        \n",
    "        # We always need to make sure we are balanced \n",
    "        self.update_heights()\n",
    "        self.update_balances()\n",
    "        return ((abs(self.balance) < 2) and self.node.left.check_balanced() and self.node.right.check_balanced())  \n",
    "        \n",
    "    def inorder_traverse(self):\n",
    "        if self.node == None:\n",
    "            return [] \n",
    "        \n",
    "        inlist = [] \n",
    "        l = self.node.left.inorder_traverse()\n",
    "        for i in l: \n",
    "            inlist.append(i) \n",
    "\n",
    "        inlist.append(self.node.key)\n",
    "\n",
    "        l = self.node.right.inorder_traverse()\n",
    "        for i in l: \n",
    "            inlist.append(i) \n",
    "    \n",
    "        return inlist \n",
    "\n",
    "    def display(self, level=0, pref=''):\n",
    "        '''\n",
    "        Display the whole tree. Uses recursive def.\n",
    "        TODO: create a better display using breadth-first search\n",
    "        '''        \n",
    "        self.update_heights()  # Must update heights before balances \n",
    "        self.update_balances()\n",
    "        if(self.node != None): \n",
    "            print ('-' * level * 2, pref, self.node.key, \"[\" + str(self.height) + \":\" + str(self.balance) + \"]\", 'L' if self.is_leaf() else ' '    )\n",
    "            if self.node.left != None: \n",
    "                self.node.left.display(level + 1, '<')\n",
    "            if self.node.right != None:\n",
    "                self.node.right.display(level + 1, '>')"
   ]
  },
  {
   "cell_type": "code",
   "execution_count": null,
   "metadata": {},
   "outputs": [],
   "source": [
    "    a = AVLTree()\n",
    "    print (\"----- Inserting -------\")\n",
    "    #inlist = [5, 2, 12, -4, 3, 21, 19, 25]\n",
    "    inlist = [7, 5, 2, 6, 3, 4, 1, 8, 9, 0]\n",
    "    for i in inlist: \n",
    "        a.insert(i)\n",
    "         \n",
    "    a.display()\n",
    "    \n",
    "    print (\"----- Deleting -------\")\n",
    "    a.delete(3)\n",
    "    a.delete(4)\n",
    "    # a.delete(5) \n",
    "    a.display()\n",
    "    \n",
    "    print ()\n",
    "    print (\"Input            :\", inlist )\n",
    "    print (\"deleting ...       \", 3)\n",
    "    print (\"deleting ...       \", 4)\n",
    "    print (\"Inorder traversal:\", a.inorder_traverse())"
   ]
  },
  {
   "cell_type": "markdown",
   "metadata": {},
   "source": [
    "---"
   ]
  },
  {
   "cell_type": "markdown",
   "metadata": {},
   "source": [
    "### Question 7\n",
    "\n",
    "Given the number of times that a coin is thrown, $n$, as input, write a function `coin` that return a list of string for all the possibilities (heads[H] and tails[T]).\n",
    "\n",
    "*Examples*:\n",
    "\n",
    "- `coin(1)` should return `[\"H\", \"T\"]`\n",
    "- `coin(2)` should return `[\"HH\", \"HT\", \"TH\", \"TT\"]`\n",
    "- `coin(3)` should return `[\"HHH\", \"HHT\", \"HTH\", \"HTT\", \"THH\", \"THT\", \"TTH\", \"TTT\"]`"
   ]
  },
  {
   "cell_type": "code",
   "execution_count": 2,
   "metadata": {
    "ExecuteTime": {
     "end_time": "2020-11-21T11:50:43.075764Z",
     "start_time": "2020-11-21T11:50:43.066787Z"
    }
   },
   "outputs": [],
   "source": [
    "def coin(n):\n",
    "    # code here\n",
    "    possible_outcomes = []\n",
    "    for i in range(2**n):\n",
    "        if i%2==0:\n",
    "                possible_outcomes.append('H')\n",
    "        else:\n",
    "                possible_outcomes.append('T')\n",
    "    \n",
    "    depth = 1\n",
    "    while (depth<n):\n",
    "        possible_outcomes.sort()\n",
    "        for j in range(2**n):\n",
    "            if j%2==0:\n",
    "                possible_outcomes[j]+='H'\n",
    "            else:\n",
    "                possible_outcomes[j]+='T'\n",
    "        depth+=1\n",
    "        \n",
    "    \n",
    "    return possible_outcomes"
   ]
  },
  {
   "cell_type": "code",
   "execution_count": 3,
   "metadata": {
    "ExecuteTime": {
     "end_time": "2020-11-21T11:50:43.664231Z",
     "start_time": "2020-11-21T11:50:43.656238Z"
    }
   },
   "outputs": [
    {
     "name": "stdout",
     "output_type": "stream",
     "text": [
      "['H', 'T']\n",
      "['HH', 'HT', 'TH', 'TT']\n",
      "['HHH', 'HHT', 'HTH', 'HTT', 'THH', 'THT', 'TTH', 'TTT']\n"
     ]
    }
   ],
   "source": [
    "for i in range(1,4):\n",
    "    print(coin(i))"
   ]
  },
  {
   "cell_type": "markdown",
   "metadata": {},
   "source": [
    "---"
   ]
  }
 ],
 "metadata": {
  "kernelspec": {
   "display_name": "Python 3",
   "language": "python",
   "name": "python3"
  },
  "language_info": {
   "codemirror_mode": {
    "name": "ipython",
    "version": 3
   },
   "file_extension": ".py",
   "mimetype": "text/x-python",
   "name": "python",
   "nbconvert_exporter": "python",
   "pygments_lexer": "ipython3",
   "version": "3.7.7"
  }
 },
 "nbformat": 4,
 "nbformat_minor": 4
}
