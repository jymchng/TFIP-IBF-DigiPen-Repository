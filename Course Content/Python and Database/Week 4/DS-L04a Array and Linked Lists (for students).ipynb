{
 "cells": [
  {
   "cell_type": "markdown",
   "metadata": {},
   "source": [
    "# Fundamental Data Structures and Algorithms 04 - Array"
   ]
  },
  {
   "cell_type": "markdown",
   "metadata": {},
   "source": [
    "## Unit 3: Basic Data Structures\n",
    "---"
   ]
  },
  {
   "cell_type": "markdown",
   "metadata": {},
   "source": [
    "### Objective\n",
    "\n",
    "- Differentiate data structures from data types\n",
    "- Introduce basic data structures\n",
    " - Array\n",
    "   - Python `list` (recap)\n",
    "   - NumPy array (recap)\n",
    " - Linked Lists"
   ]
  },
  {
   "cell_type": "markdown",
   "metadata": {},
   "source": [
    "---"
   ]
  },
  {
   "cell_type": "markdown",
   "metadata": {},
   "source": [
    "### Data Types vs Data Structures\n",
    "\n",
    "| Property       | Data Type                                                    | Data Structure                                               |\n",
    "| -------------- | ------------------------------------------------------------ | ------------------------------------------------------------ |\n",
    "| Definition     | Data type is the representation of nature and type of data that has been going to be used in programming or in other words data type describes all that data which share a common property. For example an integer data type describes every integer that the computers can handle. | On other hand Data structure is the collection that holds data which can be manipulated and used in programming so that operations and algorithms can be more easily applied. For example tree type data structures often allow for efficient searching algorithms. |\n",
    "| Implementation | Data type in programming are implemented in abstract implementation whose definition is provided by different languages in different ways. | On other hand Data structure in programming are implemented in concrete implementation as their definition is already defined by the language that what type of data they going to store and deal with. |\n",
    "| Storage        | In case of data type the value of data is not stored as it only represents the type of data that can be get stored. | On other hand data structure holds the data along with its value that actually acquires the space in main memory of the computer. Also data structure can hold different kind and types of data within one single object |\n",
    "| Assignment     | As data type already represents the type of value that can be stored so values can directly be assigned to the data type variables. | On other hand in case of data structure the data is assigned to using some set of algorithms and operations like push, pop and so on. |\n",
    "| Performance    | If case of data type only type and nature of data is concern so there in no issue of time complexity. | On other hand time complexity comes in case of data structure as it mainly deals with manipulation and execution of logic over data that it stored. |"
   ]
  },
  {
   "cell_type": "markdown",
   "metadata": {},
   "source": [
    "***Recap***  \n",
    "> Discuss what are some of the data types and data structures that you have learnt."
   ]
  },
  {
   "cell_type": "markdown",
   "metadata": {},
   "source": [
    "---"
   ]
  },
  {
   "cell_type": "markdown",
   "metadata": {},
   "source": [
    "### Introduction to Arrays\n",
    "\n",
    "- Arrays generally structure other (fundamental) objects in dimensions like 2-dimensional rows and columns\n",
    " - In the simplest case, a one-dimensional array then represents, mathematically speaking, a *vector* of numbers. We can think of it as a single row or a single column of numbers.\n",
    " - In a more common case, an array represents an $(i × j)$ matrix of elements.\n",
    " - This concept generalizes to $(i × j × k)$ cubes of elements in three dimensions as well as to general *n*-dimensional arrays of shape $(i × j × k × l × …)$.\n",
    " - most importantly, arrays store data in a **contiguous** block of memory \n",
    "  \n",
    "> What about lists? Are arrays and lists the same? What about `Numpy` array?"
   ]
  },
  {
   "cell_type": "markdown",
   "metadata": {},
   "source": [
    "---"
   ]
  },
  {
   "cell_type": "markdown",
   "metadata": {},
   "source": [
    "### Arrays with built-in `List`\n",
    "\n",
    "***Recap***  \n",
    "A simple list can already be considered a one-dimensional array:"
   ]
  },
  {
   "cell_type": "code",
   "execution_count": 1,
   "metadata": {
    "ExecuteTime": {
     "end_time": "2020-11-27T08:39:19.926616Z",
     "start_time": "2020-11-27T08:39:19.919566Z"
    }
   },
   "outputs": [
    {
     "name": "stdout",
     "output_type": "stream",
     "text": [
      "<class 'list'>\n",
      "<class 'list'>\n"
     ]
    }
   ],
   "source": [
    "'''empty list'''\n",
    "a = list()\n",
    "print(type(a))\n",
    "\n",
    "b = []\n",
    "print(type(b))"
   ]
  },
  {
   "cell_type": "markdown",
   "metadata": {},
   "source": [
    "Note: brackets [] are the preferred method of initializing a list  \n",
    "Use list() only when you need to convert from other sequences, e.g. tuple -> list"
   ]
  },
  {
   "cell_type": "code",
   "execution_count": 2,
   "metadata": {
    "ExecuteTime": {
     "end_time": "2020-11-27T08:39:19.936521Z",
     "start_time": "2020-11-27T08:39:19.928542Z"
    }
   },
   "outputs": [
    {
     "name": "stdout",
     "output_type": "stream",
     "text": [
      "2\n",
      "3\n"
     ]
    }
   ],
   "source": [
    "'''list of integers + accessing index'''\n",
    "c = [1,2,3]\n",
    "\n",
    "print(c[1])\n",
    "print(len(c))"
   ]
  },
  {
   "cell_type": "code",
   "execution_count": 3,
   "metadata": {
    "ExecuteTime": {
     "end_time": "2020-11-27T08:39:19.942537Z",
     "start_time": "2020-11-27T08:39:19.938516Z"
    }
   },
   "outputs": [
    {
     "name": "stdout",
     "output_type": "stream",
     "text": [
      "3\n"
     ]
    }
   ],
   "source": [
    "'''list of floats + negative index'''\n",
    "print(c[-1])"
   ]
  },
  {
   "cell_type": "code",
   "execution_count": 4,
   "metadata": {
    "ExecuteTime": {
     "end_time": "2020-11-27T08:39:19.950486Z",
     "start_time": "2020-11-27T08:39:19.943539Z"
    }
   },
   "outputs": [
    {
     "name": "stdout",
     "output_type": "stream",
     "text": [
      "<class 'list'> ['123']\n",
      "<class 'str'> 2\n"
     ]
    }
   ],
   "source": [
    "'''list of strings'''\n",
    "\n",
    "'''which is correct?'''\n",
    "# e = [x, y, z]\n",
    "# print(type(e), e)\n",
    "# print(type(e[1]), e[1])\n",
    "\n",
    "f = ['123']\n",
    "print(type(f), f)\n",
    "print(type(f[0]), f[0][1])"
   ]
  },
  {
   "cell_type": "code",
   "execution_count": 5,
   "metadata": {
    "ExecuteTime": {
     "end_time": "2020-11-27T08:39:19.962452Z",
     "start_time": "2020-11-27T08:39:19.951481Z"
    }
   },
   "outputs": [
    {
     "data": {
      "text/plain": [
       "'list of mixed object'"
      ]
     },
     "execution_count": 5,
     "metadata": {},
     "output_type": "execute_result"
    }
   ],
   "source": [
    "'''list of mixed object'''\n"
   ]
  },
  {
   "cell_type": "code",
   "execution_count": 6,
   "metadata": {
    "ExecuteTime": {
     "end_time": "2020-11-27T08:39:19.969472Z",
     "start_time": "2020-11-27T08:39:19.963450Z"
    }
   },
   "outputs": [
    {
     "data": {
      "text/plain": [
       "'\\naccessing range of index\\n\\nsyntax -> [start:stop:step]\\nExample:\\n          +---+---+---+---+---+---+\\n          | P | y | t | h | o | n |\\n          +---+---+---+---+---+---+\\nindex       0   1   2   3   4   5\\nindex      -6  -5  -4  -3  -2  -1\\n'"
      ]
     },
     "execution_count": 6,
     "metadata": {},
     "output_type": "execute_result"
    }
   ],
   "source": [
    "'''\n",
    "accessing range of index\n",
    "\n",
    "syntax -> [start:stop:step]\n",
    "Example:\n",
    "          +---+---+---+---+---+---+\n",
    "          | P | y | t | h | o | n |\n",
    "          +---+---+---+---+---+---+\n",
    "index       0   1   2   3   4   5\n",
    "index      -6  -5  -4  -3  -2  -1\n",
    "'''\n"
   ]
  },
  {
   "cell_type": "code",
   "execution_count": 7,
   "metadata": {
    "ExecuteTime": {
     "end_time": "2020-11-27T08:39:19.976447Z",
     "start_time": "2020-11-27T08:39:19.971429Z"
    }
   },
   "outputs": [
    {
     "data": {
      "text/plain": [
       "'accessing index beyond range'"
      ]
     },
     "execution_count": 7,
     "metadata": {},
     "output_type": "execute_result"
    }
   ],
   "source": [
    "'''accessing index beyond range'''\n"
   ]
  },
  {
   "cell_type": "markdown",
   "metadata": {},
   "source": [
    "---"
   ]
  },
  {
   "cell_type": "markdown",
   "metadata": {},
   "source": [
    "Since list objects can contain arbitrary other objects, they can also contain other list objects. In that way, two- and higher-dimensional arrays are easily constructed by nested list objects:"
   ]
  },
  {
   "cell_type": "code",
   "execution_count": 8,
   "metadata": {
    "ExecuteTime": {
     "end_time": "2020-11-27T08:39:19.983395Z",
     "start_time": "2020-11-27T08:39:19.977411Z"
    }
   },
   "outputs": [
    {
     "data": {
      "text/plain": [
       "'nested empty list'"
      ]
     },
     "execution_count": 8,
     "metadata": {},
     "output_type": "execute_result"
    }
   ],
   "source": [
    "'''nested empty list'''\n"
   ]
  },
  {
   "cell_type": "code",
   "execution_count": 9,
   "metadata": {
    "ExecuteTime": {
     "end_time": "2020-11-27T08:39:19.990375Z",
     "start_time": "2020-11-27T08:39:19.985393Z"
    }
   },
   "outputs": [
    {
     "data": {
      "text/plain": [
       "'nested list using previously defined \"g\" '"
      ]
     },
     "execution_count": 9,
     "metadata": {},
     "output_type": "execute_result"
    }
   ],
   "source": [
    "'''nested list using previously defined \"g\" '''\n"
   ]
  },
  {
   "cell_type": "code",
   "execution_count": 10,
   "metadata": {
    "ExecuteTime": {
     "end_time": "2020-11-27T08:39:20.047224Z",
     "start_time": "2020-11-27T08:39:19.991373Z"
    }
   },
   "outputs": [
    {
     "ename": "NameError",
     "evalue": "name 'i' is not defined",
     "output_type": "error",
     "traceback": [
      "\u001b[1;31m---------------------------------------------------------------------------\u001b[0m",
      "\u001b[1;31mNameError\u001b[0m                                 Traceback (most recent call last)",
      "\u001b[1;32m<ipython-input-10-c9f0c9175a5f>\u001b[0m in \u001b[0;36m<module>\u001b[1;34m\u001b[0m\n\u001b[0;32m      1\u001b[0m \u001b[1;34m'''accessing nested list'''\u001b[0m\u001b[1;33m\u001b[0m\u001b[1;33m\u001b[0m\u001b[0m\n\u001b[1;32m----> 2\u001b[1;33m \u001b[0mprint\u001b[0m\u001b[1;33m(\u001b[0m\u001b[0mi\u001b[0m\u001b[1;33m[\u001b[0m\u001b[1;36m0\u001b[0m\u001b[1;33m]\u001b[0m\u001b[1;33m[\u001b[0m\u001b[1;36m2\u001b[0m\u001b[1;33m]\u001b[0m\u001b[1;33m)\u001b[0m\u001b[1;33m\u001b[0m\u001b[1;33m\u001b[0m\u001b[0m\n\u001b[0m",
      "\u001b[1;31mNameError\u001b[0m: name 'i' is not defined"
     ]
    }
   ],
   "source": [
    "'''accessing nested list'''\n",
    "print(i[0][2])"
   ]
  },
  {
   "cell_type": "markdown",
   "metadata": {},
   "source": [
    "---"
   ]
  },
  {
   "cell_type": "markdown",
   "metadata": {},
   "source": [
    "Note that combining objects in the way just presented generally works with reference pointers to the original objects. What does that mean in practice? Let us have a look at the following operations:"
   ]
  },
  {
   "cell_type": "code",
   "execution_count": null,
   "metadata": {
    "ExecuteTime": {
     "end_time": "2020-11-27T08:39:20.049219Z",
     "start_time": "2020-11-27T08:39:19.955Z"
    }
   },
   "outputs": [],
   "source": [
    "'''modify g'''\n",
    "g[0]=123\n",
    "g"
   ]
  },
  {
   "cell_type": "markdown",
   "metadata": {},
   "source": [
    "Now let's look at basic arithmetic operations with lists:"
   ]
  },
  {
   "cell_type": "code",
   "execution_count": null,
   "metadata": {
    "ExecuteTime": {
     "end_time": "2020-11-27T08:39:20.050216Z",
     "start_time": "2020-11-27T08:39:19.959Z"
    }
   },
   "outputs": [],
   "source": [
    "'''add 2 lists together'''\n",
    "c = [1,2,3]\n",
    "d = [7,8,9]\n",
    "\n",
    "c+d"
   ]
  },
  {
   "cell_type": "code",
   "execution_count": null,
   "metadata": {
    "ExecuteTime": {
     "end_time": "2020-11-27T08:39:20.051212Z",
     "start_time": "2020-11-27T08:39:19.962Z"
    }
   },
   "outputs": [],
   "source": [
    "'''add list to another object'''\n",
    "c + 5"
   ]
  },
  {
   "cell_type": "code",
   "execution_count": null,
   "metadata": {
    "ExecuteTime": {
     "end_time": "2020-11-27T08:39:20.052210Z",
     "start_time": "2020-11-27T08:39:19.964Z"
    }
   },
   "outputs": [],
   "source": [
    "'''multiply a list with an integer'''\n",
    "c * 3"
   ]
  },
  {
   "cell_type": "code",
   "execution_count": null,
   "metadata": {
    "ExecuteTime": {
     "end_time": "2020-11-27T08:39:20.053209Z",
     "start_time": "2020-11-27T08:39:19.967Z"
    }
   },
   "outputs": [],
   "source": [
    "'''multiply a list with a float'''\n",
    "c * 0.3"
   ]
  },
  {
   "cell_type": "code",
   "execution_count": null,
   "metadata": {
    "ExecuteTime": {
     "end_time": "2020-11-27T08:39:20.055203Z",
     "start_time": "2020-11-27T08:39:19.970Z"
    }
   },
   "outputs": [],
   "source": [
    "'''division of a list by an integer'''\n",
    "c/8"
   ]
  },
  {
   "cell_type": "code",
   "execution_count": null,
   "metadata": {
    "ExecuteTime": {
     "end_time": "2020-11-27T08:39:20.056227Z",
     "start_time": "2020-11-27T08:39:19.973Z"
    }
   },
   "outputs": [],
   "source": [
    "'''multiply a list with another list'''\n"
   ]
  },
  {
   "cell_type": "markdown",
   "metadata": {},
   "source": [
    "---"
   ]
  },
  {
   "cell_type": "markdown",
   "metadata": {},
   "source": [
    "Python has a set of built-in methods (functions) that you can use on lists. Example:"
   ]
  },
  {
   "cell_type": "code",
   "execution_count": null,
   "metadata": {
    "ExecuteTime": {
     "end_time": "2020-11-27T08:39:20.057196Z",
     "start_time": "2020-11-27T08:39:19.978Z"
    }
   },
   "outputs": [],
   "source": [
    "'''append()'''\n"
   ]
  },
  {
   "cell_type": "code",
   "execution_count": null,
   "metadata": {
    "ExecuteTime": {
     "end_time": "2020-11-27T08:39:20.058194Z",
     "start_time": "2020-11-27T08:39:19.982Z"
    }
   },
   "outputs": [],
   "source": [
    "'''sort()'''\n"
   ]
  },
  {
   "cell_type": "code",
   "execution_count": null,
   "metadata": {
    "ExecuteTime": {
     "end_time": "2020-11-27T08:39:20.059193Z",
     "start_time": "2020-11-27T08:39:19.985Z"
    }
   },
   "outputs": [],
   "source": [
    "'''pop()'''\n",
    "\n",
    "\n",
    "'''pop(index)'''\n"
   ]
  },
  {
   "cell_type": "code",
   "execution_count": null,
   "metadata": {
    "ExecuteTime": {
     "end_time": "2020-11-27T08:39:20.060225Z",
     "start_time": "2020-11-27T08:39:19.989Z"
    }
   },
   "outputs": [],
   "source": [
    "'''reverse()'''\n"
   ]
  },
  {
   "cell_type": "markdown",
   "metadata": {},
   "source": [
    "Other methods include `copy()`, `count()`, `extend()`, `index()`, `insert()`, `pop()`,  `remove()`, `reverse()`. You are encouraged to explore the them in the [official documentation](https://docs.python.org/3/tutorial/datastructures.html).\n",
    "\n",
    "The table below lists some the complexities for the various functions and operations:\n",
    "\n",
    "|Operation     | Example                  | Big O Notation     | Notes                                              |\n",
    "|:-------------|:-------------------------|:-------------------|:---------------------------------------------------|\n",
    "|access        | `l[i]`                   | $O(1)$             |                                                    |\n",
    "|assignment    | `l[i] = 0`               | $O(1)$             |                                                    |\n",
    "|length        | `len(l)`                 | $O(1)$             |                                                    |\n",
    "|append        | `l.append(x)`            | $O(1)$             | equivalent to `a[len(a):] = [x]`                   |\n",
    "|pop           | `l.pop()`                | $O(1)$             | equivalent to `l.pop(-1)`, popping at end          |\n",
    "|clear         | `l.clear()`              | $O(1)$             | similar to `l = []`                                |\n",
    "|slice         | `l[a:b]`                 | $O(b-a)$           | depends on the number of elements in the parameter |\n",
    "|extend        | `l.extend(iterable)`     | $O(len(iterable))$ | equivalent to `a[len(a):] = iterable`              |\n",
    "|              |                          |                    | depends on number of elements in iterable          |\n",
    "|constructor   | `list(iterable)`         | $O(len(iterable))$ | depends on number of elements in iterable          |\n",
    "|comparison    | `l1 == l2` or `l1 != l2` | $O(n)$             |                                                    |\n",
    "|index         | `l.index(i)`             | $O(n)$             |                                                    |\n",
    "|insert        | `l.insert(i, x)`         | $O(n)$             |                                                    |\n",
    "|delete        | `del l[i]`               | $O(n)$             |                                                    |\n",
    "|containment   | `x in l`or`x not in l`   | $O(n)$             | linearly searches list                             |\n",
    "|copy          | `l.copy()`               | $O(n)$             | equivalent to`l[:]`                                |\n",
    "|count         | `l.count(x)`             | $O(n)$             |                                                    |\n",
    "|remove        | `l.remove(x)`            | $O(n)$             |                                                    |\n",
    "|pop           | `l.pop(i)`               | $O(n)$             |                                                    |\n",
    "|min/max       | `min(l)/max(l)`          | $O(n)$             | linearly searches list for value                   |\n",
    "|reverse       | `l.reverse()`            | $O(n)$             |                                                    |\n",
    "|iteration     | `for v in l:`            | $O(n)$             |                                                    |\n",
    "|sort          | `l.sort()`               | $O(n\\log{n})$      | [Timsort](http://svn.python.org/projects/python/trunk/Objects/listsort.txt)                                                  |\n",
    "|multiply      | `k*l`                    | $O(k\\ n)$          | example 1: `5*l` $\\rightarrow O(n)$;               |\n",
    "|              |                          |                    | example 2: `len(l)*l` $\\rightarrow O(n^2)$         |"
   ]
  },
  {
   "cell_type": "markdown",
   "metadata": {},
   "source": [
    "---"
   ]
  },
  {
   "cell_type": "markdown",
   "metadata": {},
   "source": [
    "### Array with NumPy\n",
    "\n",
    "- the list class has been built with a broad and general scope\n",
    "- might need a more specialized class to handle array-specific structures\n",
    " - `Numpy` library\n",
    " - written in C\n",
    " - able to handle n-dimensional arrays conveniently and efficiently"
   ]
  },
  {
   "cell_type": "code",
   "execution_count": null,
   "metadata": {
    "ExecuteTime": {
     "end_time": "2020-11-27T08:39:20.061187Z",
     "start_time": "2020-11-27T08:39:19.995Z"
    }
   },
   "outputs": [],
   "source": [
    "'''syntax to invoke the NumPy library'''\n",
    "import numpy as np"
   ]
  },
  {
   "cell_type": "markdown",
   "metadata": {},
   "source": [
    "Let's illustrate with examples"
   ]
  },
  {
   "cell_type": "code",
   "execution_count": null,
   "metadata": {
    "ExecuteTime": {
     "end_time": "2020-11-27T08:39:20.062184Z",
     "start_time": "2020-11-27T08:39:19.999Z"
    }
   },
   "outputs": [],
   "source": [
    "'''initializing a numpy array'''\n",
    "q = numpy.array([0,1,2,3,4,5,6,7,8,9])"
   ]
  },
  {
   "cell_type": "markdown",
   "metadata": {},
   "source": [
    "Alternatively we can import a library using a shorthand. The example below is commonly used:"
   ]
  },
  {
   "cell_type": "code",
   "execution_count": null,
   "metadata": {
    "ExecuteTime": {
     "end_time": "2020-11-27T08:39:20.063181Z",
     "start_time": "2020-11-27T08:39:20.003Z"
    }
   },
   "outputs": [],
   "source": [
    "'''import as np'''\n",
    "import numpy as np"
   ]
  },
  {
   "cell_type": "markdown",
   "metadata": {},
   "source": [
    "![array](http://jalammar.github.io/images/numpy/create-numpy-array-1.png)"
   ]
  },
  {
   "cell_type": "markdown",
   "metadata": {},
   "source": [
    "---"
   ]
  },
  {
   "cell_type": "markdown",
   "metadata": {},
   "source": [
    "Numpy also provides many methods to create arrays:"
   ]
  },
  {
   "cell_type": "code",
   "execution_count": null,
   "metadata": {
    "ExecuteTime": {
     "end_time": "2020-11-27T08:39:20.064179Z",
     "start_time": "2020-11-27T08:39:20.007Z"
    }
   },
   "outputs": [],
   "source": [
    "'''create an array of all zeros'''\n",
    "np.zeros((3,2))"
   ]
  },
  {
   "cell_type": "code",
   "execution_count": null,
   "metadata": {
    "ExecuteTime": {
     "end_time": "2020-11-27T08:39:20.065176Z",
     "start_time": "2020-11-27T08:39:20.009Z"
    }
   },
   "outputs": [],
   "source": [
    "'''create an array of all ones'''\n",
    "s = np.ones((3,2))\n",
    "s"
   ]
  },
  {
   "cell_type": "code",
   "execution_count": null,
   "metadata": {
    "ExecuteTime": {
     "end_time": "2020-11-27T08:39:20.065176Z",
     "start_time": "2020-11-27T08:39:20.011Z"
    }
   },
   "outputs": [],
   "source": [
    "'''create a constant array'''\n",
    "q = np.full((2,2),3)\n",
    "q"
   ]
  },
  {
   "cell_type": "code",
   "execution_count": null,
   "metadata": {
    "ExecuteTime": {
     "end_time": "2020-11-27T08:39:20.066174Z",
     "start_time": "2020-11-27T08:39:20.013Z"
    }
   },
   "outputs": [],
   "source": [
    "'''create a 4x4 identity matrix'''\n",
    "np.eye(4) # No need send in the shape."
   ]
  },
  {
   "cell_type": "code",
   "execution_count": null,
   "metadata": {
    "ExecuteTime": {
     "end_time": "2020-11-27T08:39:20.068168Z",
     "start_time": "2020-11-27T08:39:20.014Z"
    }
   },
   "outputs": [],
   "source": [
    "'''create an array of random values'''\n",
    "np.random.random((3,3))"
   ]
  },
  {
   "cell_type": "markdown",
   "metadata": {},
   "source": [
    "**Visualizing NumPy array creation**\n",
    "\n",
    "![create](http://jalammar.github.io/images/numpy/create-numpy-array-ones-zeros-random.png)\n",
    "\n",
    "![create2](http://jalammar.github.io/images/numpy/numpy-array-create-2d.png)\n",
    "\n",
    "![create3](http://jalammar.github.io/images/numpy/numpy-matrix-ones-zeros-random.png)"
   ]
  },
  {
   "cell_type": "markdown",
   "metadata": {},
   "source": [
    "You can read about other methods of array creation in the [documentation](https://numpy.org/doc/stable/user/basics.creation.html#arrays-creation)."
   ]
  },
  {
   "cell_type": "markdown",
   "metadata": {},
   "source": [
    "---"
   ]
  },
  {
   "cell_type": "markdown",
   "metadata": {},
   "source": [
    "**NumPy Array index**"
   ]
  },
  {
   "cell_type": "code",
   "execution_count": null,
   "metadata": {
    "ExecuteTime": {
     "end_time": "2020-11-27T08:39:20.068168Z",
     "start_time": "2020-11-27T08:39:20.018Z"
    }
   },
   "outputs": [],
   "source": [
    "'''accessing index and slice similar to python list'''\n",
    "v = np.random.random((5,3))\n",
    "print(v)\n",
    "v[1:3,2]"
   ]
  },
  {
   "cell_type": "markdown",
   "metadata": {},
   "source": [
    "note that array[row,col] is equivalent to array[row][col] in numpy"
   ]
  },
  {
   "cell_type": "markdown",
   "metadata": {},
   "source": [
    "**Visualizing NumPy array index**\n",
    "\n",
    "Example 1:\n",
    "![index](http://jalammar.github.io/images/numpy/numpy-array-slice.png)\n",
    "\n",
    "Example 2:\n",
    "![index2](http://jalammar.github.io/images/numpy/numpy-matrix-indexing.png)"
   ]
  },
  {
   "cell_type": "markdown",
   "metadata": {},
   "source": [
    "---"
   ]
  },
  {
   "cell_type": "markdown",
   "metadata": {},
   "source": [
    "**NumPy Array Arithmetic Operations**\n",
    "\n",
    "NumPy array arithmetic operations <u>differs</u> from Python `list`:"
   ]
  },
  {
   "cell_type": "code",
   "execution_count": null,
   "metadata": {
    "ExecuteTime": {
     "end_time": "2020-11-27T08:39:20.069165Z",
     "start_time": "2020-11-27T08:39:20.025Z"
    }
   },
   "outputs": [],
   "source": [
    "pythonList = [3,2,1]\n",
    "numpyArray = np.array([3,2,1])"
   ]
  },
  {
   "cell_type": "code",
   "execution_count": null,
   "metadata": {
    "ExecuteTime": {
     "end_time": "2020-11-27T08:39:20.070162Z",
     "start_time": "2020-11-27T08:39:20.028Z"
    }
   },
   "outputs": [],
   "source": [
    "'''addition'''\n",
    "print('python list addition:')\n",
    "  \n",
    "\n",
    "print('\\nnumpy array addition:')\n",
    "print(numpyArray+numpyArray)\n",
    "print(np.add(numpyArray,numpyArray))"
   ]
  },
  {
   "cell_type": "markdown",
   "metadata": {},
   "source": [
    "numpy.add() works with Python list and NumPy arrays"
   ]
  },
  {
   "cell_type": "code",
   "execution_count": null,
   "metadata": {
    "ExecuteTime": {
     "end_time": "2020-11-27T08:39:20.071160Z",
     "start_time": "2020-11-27T08:39:20.031Z"
    }
   },
   "outputs": [],
   "source": [
    "'''subtraction 1'''\n",
    "print('python list subtraction:')\n"
   ]
  },
  {
   "cell_type": "code",
   "execution_count": null,
   "metadata": {
    "ExecuteTime": {
     "end_time": "2020-11-27T08:39:20.072157Z",
     "start_time": "2020-11-27T08:39:20.034Z"
    }
   },
   "outputs": [],
   "source": [
    "'''subtraction 2'''\n",
    "print('\\nnumpy array subtraction:')\n"
   ]
  },
  {
   "cell_type": "code",
   "execution_count": null,
   "metadata": {
    "ExecuteTime": {
     "end_time": "2020-11-27T08:39:20.073197Z",
     "start_time": "2020-11-27T08:39:20.037Z"
    }
   },
   "outputs": [],
   "source": [
    "'''multiplication 1'''\n",
    "print('python list x integer multiplication:')\n",
    "\n",
    "\n",
    "print('\\nnumpy array x integer multiplication:')\n"
   ]
  },
  {
   "cell_type": "code",
   "execution_count": null,
   "metadata": {
    "ExecuteTime": {
     "end_time": "2020-11-27T08:39:20.074191Z",
     "start_time": "2020-11-27T08:39:20.040Z"
    }
   },
   "outputs": [],
   "source": [
    "'''multiplication 2'''\n",
    "print('python list x python list multiplication:')\n"
   ]
  },
  {
   "cell_type": "code",
   "execution_count": null,
   "metadata": {
    "ExecuteTime": {
     "end_time": "2020-11-27T08:39:20.075149Z",
     "start_time": "2020-11-27T08:39:20.042Z"
    }
   },
   "outputs": [],
   "source": [
    "'''multiplication 3'''\n",
    "print('numpy array x numpy array multiplication:')\n"
   ]
  },
  {
   "cell_type": "code",
   "execution_count": null,
   "metadata": {
    "ExecuteTime": {
     "end_time": "2020-11-27T08:39:20.076147Z",
     "start_time": "2020-11-27T08:39:20.045Z"
    }
   },
   "outputs": [],
   "source": [
    "'''division 1'''\n",
    "print('python list / integer division:')\n"
   ]
  },
  {
   "cell_type": "code",
   "execution_count": 11,
   "metadata": {
    "ExecuteTime": {
     "end_time": "2020-11-27T08:39:20.183859Z",
     "start_time": "2020-11-27T08:39:20.179870Z"
    }
   },
   "outputs": [
    {
     "name": "stdout",
     "output_type": "stream",
     "text": [
      "numpy array / integer division:\n"
     ]
    }
   ],
   "source": [
    "'''division 2'''\n",
    "print('numpy array / integer division:')\n"
   ]
  },
  {
   "cell_type": "code",
   "execution_count": 12,
   "metadata": {
    "ExecuteTime": {
     "end_time": "2020-11-27T08:39:20.189843Z",
     "start_time": "2020-11-27T08:39:20.185853Z"
    }
   },
   "outputs": [
    {
     "name": "stdout",
     "output_type": "stream",
     "text": [
      "numpy array / numpy array multiplication:\n"
     ]
    }
   ],
   "source": [
    "'''division 3'''\n",
    "print('numpy array / numpy array multiplication:')\n"
   ]
  },
  {
   "cell_type": "code",
   "execution_count": 13,
   "metadata": {
    "ExecuteTime": {
     "end_time": "2020-11-27T08:39:20.196823Z",
     "start_time": "2020-11-27T08:39:20.190839Z"
    }
   },
   "outputs": [
    {
     "name": "stdout",
     "output_type": "stream",
     "text": [
      "numpyArray power 2:\n"
     ]
    }
   ],
   "source": [
    "'''power'''\n",
    "print('numpyArray power 2:')\n"
   ]
  },
  {
   "cell_type": "code",
   "execution_count": 14,
   "metadata": {
    "ExecuteTime": {
     "end_time": "2020-11-27T08:39:20.202808Z",
     "start_time": "2020-11-27T08:39:20.197821Z"
    }
   },
   "outputs": [
    {
     "name": "stdout",
     "output_type": "stream",
     "text": [
      "numpyArray square root 2:\n"
     ]
    }
   ],
   "source": [
    "'''square root:'''\n",
    "print('numpyArray square root 2:')\n"
   ]
  },
  {
   "cell_type": "markdown",
   "metadata": {},
   "source": [
    "---"
   ]
  },
  {
   "cell_type": "markdown",
   "metadata": {},
   "source": [
    "**Visualizing Arithetic Operations on NumPy arrays (Example 1)**\n",
    "\n",
    "Assume:\n",
    "![arith1](http://jalammar.github.io/images/numpy/numpy-arrays-example-1.png)\n",
    "\n",
    "Adding them up element-wise (i.e. adding the values of each row) is as simple as typing `data + ones`:\n",
    "![arith2](http://jalammar.github.io/images/numpy/numpy-arrays-adding-1.png)\n",
    "\n",
    "And it’s not only addition that we can do this way:\n",
    "![arith3](http://jalammar.github.io/images/numpy/numpy-array-subtract-multiply-divide.png)\n",
    "\n",
    "Scalar multiplication:\n",
    "![arith4](http://jalammar.github.io/images/numpy/numpy-array-broadcast.png)"
   ]
  },
  {
   "cell_type": "markdown",
   "metadata": {},
   "source": [
    "---"
   ]
  },
  {
   "cell_type": "markdown",
   "metadata": {},
   "source": [
    "**Visualizing Arithetic Operations on NumPy arrays (Example 2)**\n",
    "\n",
    "We can add and multiply matrices using arithmetic operators (`+-*/`) if the two matrices are the same size. NumPy handles those as position-wise operations:\n",
    "![arith5](http://jalammar.github.io/images/numpy/numpy-matrix-arithmetic.png)\n",
    "\n",
    "We can get away with doing these arithmetic operations on matrices of different size only if the different dimension is one (e.g. the matrix has only one column or one row), in which case NumPy uses its broadcast rules for that operation:\n",
    "![arith6](http://jalammar.github.io/images/numpy/numpy-matrix-broadcast.png)"
   ]
  },
  {
   "cell_type": "markdown",
   "metadata": {},
   "source": [
    "---"
   ]
  },
  {
   "cell_type": "markdown",
   "metadata": {},
   "source": [
    "**Other NumPy Methods**\n",
    "\n",
    "A major feature of NumPy is that it includes many built-in methods. Here are some examples:"
   ]
  },
  {
   "cell_type": "code",
   "execution_count": 15,
   "metadata": {
    "ExecuteTime": {
     "end_time": "2020-11-27T08:39:20.214808Z",
     "start_time": "2020-11-27T08:39:20.203804Z"
    }
   },
   "outputs": [
    {
     "ename": "NameError",
     "evalue": "name 'np' is not defined",
     "output_type": "error",
     "traceback": [
      "\u001b[1;31m---------------------------------------------------------------------------\u001b[0m",
      "\u001b[1;31mNameError\u001b[0m                                 Traceback (most recent call last)",
      "\u001b[1;32m<ipython-input-15-f375d9e1f760>\u001b[0m in \u001b[0;36m<module>\u001b[1;34m\u001b[0m\n\u001b[1;32m----> 1\u001b[1;33m \u001b[0mw\u001b[0m \u001b[1;33m=\u001b[0m \u001b[0mnp\u001b[0m\u001b[1;33m.\u001b[0m\u001b[0marray\u001b[0m\u001b[1;33m(\u001b[0m\u001b[1;33m[\u001b[0m\u001b[1;36m1\u001b[0m\u001b[1;33m,\u001b[0m\u001b[1;36m2\u001b[0m\u001b[1;33m,\u001b[0m\u001b[1;36m3\u001b[0m\u001b[1;33m,\u001b[0m\u001b[1;36m4\u001b[0m\u001b[1;33m,\u001b[0m\u001b[1;36m5\u001b[0m\u001b[1;33m]\u001b[0m\u001b[1;33m)\u001b[0m\u001b[1;33m\u001b[0m\u001b[1;33m\u001b[0m\u001b[0m\n\u001b[0m",
      "\u001b[1;31mNameError\u001b[0m: name 'np' is not defined"
     ]
    }
   ],
   "source": [
    "w = np.array([1,2,3,4,5])"
   ]
  },
  {
   "cell_type": "code",
   "execution_count": null,
   "metadata": {
    "ExecuteTime": {
     "end_time": "2020-11-27T08:39:20.215773Z",
     "start_time": "2020-11-27T08:39:20.068Z"
    }
   },
   "outputs": [],
   "source": [
    "'''shape returns a tuple in the format (row, col); note the difference'''\n"
   ]
  },
  {
   "cell_type": "code",
   "execution_count": null,
   "metadata": {
    "ExecuteTime": {
     "end_time": "2020-11-27T08:39:20.216772Z",
     "start_time": "2020-11-27T08:39:20.070Z"
    }
   },
   "outputs": [],
   "source": [
    "'''sum()'''\n"
   ]
  },
  {
   "cell_type": "markdown",
   "metadata": {},
   "source": [
    "![sum](http://jalammar.github.io/images/numpy/numpy-matrix-dot-product-2.png)"
   ]
  },
  {
   "cell_type": "code",
   "execution_count": null,
   "metadata": {
    "ExecuteTime": {
     "end_time": "2020-11-27T08:39:20.217768Z",
     "start_time": "2020-11-27T08:39:20.074Z"
    }
   },
   "outputs": [],
   "source": [
    "'''mean()'''\n",
    "w.mean() # w is a nparray\n",
    "np.mean(w) # w may be a list"
   ]
  },
  {
   "cell_type": "code",
   "execution_count": null,
   "metadata": {
    "ExecuteTime": {
     "end_time": "2020-11-27T08:39:20.219762Z",
     "start_time": "2020-11-27T08:39:20.077Z"
    }
   },
   "outputs": [],
   "source": [
    "'''standard deviation'''\n",
    "w.std()\n",
    "np.std(w)"
   ]
  },
  {
   "cell_type": "code",
   "execution_count": null,
   "metadata": {
    "ExecuteTime": {
     "end_time": "2020-11-27T08:39:20.220761Z",
     "start_time": "2020-11-27T08:39:20.080Z"
    }
   },
   "outputs": [],
   "source": [
    "'''min/max'''\n"
   ]
  },
  {
   "cell_type": "code",
   "execution_count": null,
   "metadata": {
    "ExecuteTime": {
     "end_time": "2020-11-27T08:39:20.221758Z",
     "start_time": "2020-11-27T08:39:20.083Z"
    }
   },
   "outputs": [],
   "source": [
    "'''dot product (recall matrix)'''\n"
   ]
  },
  {
   "cell_type": "markdown",
   "metadata": {},
   "source": [
    "![dot](http://jalammar.github.io/images/numpy/numpy-matrix-dot-product-1.png)"
   ]
  },
  {
   "cell_type": "markdown",
   "metadata": {},
   "source": [
    "---"
   ]
  },
  {
   "cell_type": "markdown",
   "metadata": {},
   "source": [
    "**Axis Parameter**\n",
    "\n",
    "The axis parameter is best explained using visuals:\n",
    "\n",
    "![axis1](http://community.datacamp.com.s3.amazonaws.com/community/production/ckeditor_assets/pictures/332/content_arrays-axes.png)\n",
    "\n",
    "Example:\n",
    "![axis2](http://jalammar.github.io/images/numpy/numpy-matrix-aggregation-4.png)"
   ]
  },
  {
   "cell_type": "markdown",
   "metadata": {},
   "source": [
    "---"
   ]
  },
  {
   "cell_type": "markdown",
   "metadata": {},
   "source": [
    "**Transpose and Reshape of Num**\n",
    "\n",
    "A common need when dealing with matrices is the need to rotate them. This is often the case when we need to take the dot product of two matrices and need to align the dimension they share. NumPy arrays have a convenient property called T to get the transpose of a matrix:\n",
    "![transpose](http://jalammar.github.io/images/numpy/numpy-transpose.png)"
   ]
  },
  {
   "cell_type": "code",
   "execution_count": null,
   "metadata": {
    "ExecuteTime": {
     "end_time": "2020-11-27T08:39:20.222755Z",
     "start_time": "2020-11-27T08:39:20.091Z"
    }
   },
   "outputs": [],
   "source": [
    "'''transpose'''\n",
    "data = np.array([[1,2],[3,4],[5,6]])\n",
    "print('data :\\n', data)\n",
    "print('shape:', data.shape)\n",
    "\n",
    "  "
   ]
  },
  {
   "cell_type": "markdown",
   "metadata": {},
   "source": [
    "In more advanced use case, you may find yourself needing to switch the dimensions of a certain matrix. This is often the case in machine learning applications where a certain model expects a certain shape for the inputs that is different from your dataset. NumPy’s `reshape()` method is useful in these cases. You just pass it the new dimensions you want for the matrix. You can pass -1 for a dimension and NumPy can infer the correct dimension based on your matrix:\n",
    "![reshape](http://jalammar.github.io/images/numpy/numpy-reshape.png)"
   ]
  },
  {
   "cell_type": "code",
   "execution_count": null,
   "metadata": {
    "ExecuteTime": {
     "end_time": "2020-11-27T08:39:20.223751Z",
     "start_time": "2020-11-27T08:39:20.095Z"
    }
   },
   "outputs": [],
   "source": [
    "'''reshape'''\n",
    "data = np.array([[1],[2],[3],[4],[5],[6]])\n",
    "print('data :\\n', data)\n",
    "print('shape:\\n', data.shape )\n"
   ]
  },
  {
   "cell_type": "markdown",
   "metadata": {},
   "source": [
    "---"
   ]
  },
  {
   "cell_type": "markdown",
   "metadata": {},
   "source": [
    "**N-Dimensional Arrays**\n",
    "\n",
    "NumPy can do everything we’ve mentioned in any number of dimensions. Its central data structure is called ndarray (N-Dimensional Array) for a reason.\n",
    "\n",
    "![ndarray](http://jalammar.github.io/images/numpy/numpy-3d-array.png)\n",
    "\n",
    "In a lot of ways, dealing with a new dimension is just adding a comma to the parameters of a NumPy function:\n",
    "\n",
    "![ndarray2](http://jalammar.github.io/images/numpy/numpy-3d-array-creation.png)"
   ]
  },
  {
   "cell_type": "markdown",
   "metadata": {},
   "source": [
    "---"
   ]
  },
  {
   "cell_type": "markdown",
   "metadata": {},
   "source": [
    "## Python `List` vs NumPy Array\n",
    "\n",
    "**Memory**\n",
    "\n",
    "The main benefits of using NumPy arrays should be smaller memory consumption and better runtime behavior. We can use `getsizeof()` method from the `sys` module to determine the size of the object in bytes."
   ]
  },
  {
   "cell_type": "code",
   "execution_count": null,
   "metadata": {
    "ExecuteTime": {
     "end_time": "2020-11-27T08:39:20.224750Z",
     "start_time": "2020-11-27T08:39:20.099Z"
    }
   },
   "outputs": [],
   "source": [
    "import sys, random\n",
    "import numpy as np\n",
    "\n",
    "'''for n = 1'''\n",
    "n = 1\n",
    "print('for n = 1:')\n",
    "myList = random.sample(range(1000), n) # statement to generate list of random values\n",
    "print('size of python list in bytes:', sys.getsizeof(myList))\n",
    "myArray = np.array(random.sample(range(1000), n))\n",
    "print('size of numpy array in bytes:', sys.getsizeof(myArray))\n",
    "\n",
    "'''for n = 10'''\n",
    "n = 10\n",
    "print('\\nfor n = 10:')\n",
    "myList = random.sample(range(1000), n)\n",
    "print('size of python list in bytes:', sys.getsizeof(myList))\n",
    "myArray = np.array(random.sample(range(1000), n))\n",
    "print('size of numpy array in bytes:', sys.getsizeof(myArray))\n",
    "\n",
    "'''for n = 100'''\n",
    "print('\\nfor n = 100:')\n",
    "n = 100\n",
    "myList = random.sample(range(1000), n)\n",
    "print('size of python list in bytes:', sys.getsizeof(myList))\n",
    "myArray = np.array(random.sample(range(1000), n))\n",
    "print('size of numpy array in bytes:', sys.getsizeof(myArray))\n",
    "\n",
    "'''for n = 1000'''\n",
    "print('\\nfor n = 1000:')\n",
    "n = 1000\n",
    "myList = random.sample(range(1000), n)\n",
    "print('size of python list in bytes:', sys.getsizeof(myList))\n",
    "myArray = np.array(random.sample(range(1000), n))\n",
    "print('size of numpy array in bytes:', sys.getsizeof(myArray))"
   ]
  },
  {
   "cell_type": "markdown",
   "metadata": {},
   "source": [
    "From the example above, we can see that the as the input size increases, so does the memory consumption. Most importantly is that at large input sizes, NumPy arrays takes up less memory than Python lists."
   ]
  },
  {
   "cell_type": "markdown",
   "metadata": {},
   "source": [
    "**Speed**\n",
    "\n",
    "This shows some performance numbers of operations between Python list and NumPy array. "
   ]
  },
  {
   "cell_type": "code",
   "execution_count": null,
   "metadata": {
    "ExecuteTime": {
     "end_time": "2020-11-27T08:39:20.225747Z",
     "start_time": "2020-11-27T08:39:20.102Z"
    }
   },
   "outputs": [],
   "source": [
    "import time\n",
    "import numpy as np\n",
    "\n",
    "n = 1000000\n",
    "\n",
    "def python_list_version():\n",
    "    t1 = time.time()\n",
    "    X = range(n)\n",
    "    Y = range(n)\n",
    "    Z = [X[i] + Y[i] for i in range(len(X)) ] # list comprehension\n",
    "    return time.time() - t1\n",
    "\n",
    "def numpy_array_version():\n",
    "    t1 = time.time()\n",
    "    X = np.arange(n)\n",
    "    Y = np.arange(n)\n",
    "    Z = X + Y\n",
    "    return time.time() - t1\n",
    "\n",
    "t1 = python_list_version()\n",
    "t2 = numpy_array_version()\n",
    "print('python_list_version time taken, t1:', t1)\n",
    "print('numpy_array_version time taken, t2:', t2)\n",
    "print(\"Numpy array is  \" + str(t1/t2) + \" faster!\")"
   ]
  },
  {
   "cell_type": "markdown",
   "metadata": {},
   "source": [
    "Notice how the 2nd set of numbers (NumPy) are always smaller - meaning they have much better performance than their Python List core library counterparts."
   ]
  },
  {
   "cell_type": "markdown",
   "metadata": {},
   "source": [
    "---"
   ]
  },
  {
   "cell_type": "markdown",
   "metadata": {},
   "source": [
    "## Linked List\n",
    "\n",
    "*Think of trains!*\n",
    "\n",
    "**Linked List** is a data structure in which objects are arranged linearly. It is made of a single row of cabins (**nodes**), each connected to adjacent cabins. Each node consists of 2 fields:\n",
    "1. `data` - containing the data to be stored in the node\n",
    "2. `next` - containing the reference to the next node in the list (represented by arrows).\n",
    "\n",
    "<a name=\"linked_list\"></a>\n",
    "\n",
    "| ![linked_list](https://i.ibb.co/gzXZfrm/Slide7.png) |\n",
    "| :----------------------------------------------------------: |\n",
    "|      Fig 3.1. Visual representation of linked list       |\n",
    "\n",
    "*Class Discussion*\n",
    "> What does <u>reference</u> mean?"
   ]
  },
  {
   "cell_type": "markdown",
   "metadata": {},
   "source": [
    "---"
   ]
  },
  {
   "cell_type": "markdown",
   "metadata": {},
   "source": [
    "### Basic Implementation of a Singly Linked List\n",
    "\n",
    "Let's define the `node` class:"
   ]
  },
  {
   "cell_type": "code",
   "execution_count": null,
   "metadata": {
    "ExecuteTime": {
     "end_time": "2020-11-27T08:39:20.226744Z",
     "start_time": "2020-11-27T08:39:20.107Z"
    }
   },
   "outputs": [],
   "source": [
    "'''node class definition'''\n",
    "class Node:\n",
    "    def __init__(self,data):\n",
    "        self.data = data\n",
    "        self.next = None # Initializing it to None because it is not linked to another node."
   ]
  },
  {
   "cell_type": "markdown",
   "metadata": {},
   "source": [
    "Once we have the Node class, we can implement any *linked list* as follows:"
   ]
  },
  {
   "cell_type": "code",
   "execution_count": null,
   "metadata": {
    "ExecuteTime": {
     "end_time": "2020-11-27T08:39:20.227742Z",
     "start_time": "2020-11-27T08:39:20.109Z"
    }
   },
   "outputs": [],
   "source": [
    "'''creating node objects independently'''\n",
    "node1 = Node('This is a test')\n",
    "node2 = Node('3')\n",
    "node3 = Node(Node(\"Node in node.\")) # Node in node."
   ]
  },
  {
   "cell_type": "markdown",
   "metadata": {},
   "source": [
    "At this point, nodes are created but the are unlinked. To link them up, we can do the following:"
   ]
  },
  {
   "cell_type": "code",
   "execution_count": null,
   "metadata": {
    "ExecuteTime": {
     "end_time": "2020-11-27T08:39:20.228738Z",
     "start_time": "2020-11-27T08:39:20.111Z"
    }
   },
   "outputs": [],
   "source": [
    "'''linking nodes'''\n",
    "node1.next = node2\n",
    "node2.next = node3"
   ]
  },
  {
   "cell_type": "markdown",
   "metadata": {},
   "source": [
    "We can now display the entire linked list, by passing the first node, also known as the **head node**, as the argument. This is also known as linked *list traversal*."
   ]
  },
  {
   "cell_type": "code",
   "execution_count": null,
   "metadata": {
    "ExecuteTime": {
     "end_time": "2020-11-27T08:39:20.229737Z",
     "start_time": "2020-11-27T08:39:20.114Z"
    }
   },
   "outputs": [],
   "source": [
    "'''printing a linked list'''\n",
    "def printLinkedList(node):\n",
    "    while node is not None:\n",
    "        print(node.data)\n",
    "        node = node.next\n",
    "    print()\n",
    "    \n",
    "printLinkedList(node1)"
   ]
  },
  {
   "cell_type": "markdown",
   "metadata": {},
   "source": [
    "*Class Discussion*\n",
    "> Explain the output. \n",
    "> - Why does the last print statement display a weird message?\n",
    "> - What do I write to print the last node?"
   ]
  },
  {
   "cell_type": "code",
   "execution_count": null,
   "metadata": {
    "ExecuteTime": {
     "end_time": "2020-11-27T08:39:20.230733Z",
     "start_time": "2020-11-27T08:39:20.117Z"
    }
   },
   "outputs": [],
   "source": [
    "'''Accessing the last node'''\n",
    "print((node3.data).data)"
   ]
  },
  {
   "cell_type": "markdown",
   "metadata": {},
   "source": [
    "There are various ways of implementing a linked list in Python. The example above is a simplified version to demonstrate the workings of a linked list.\n",
    "\n",
    "*Thought Activity*\n",
    "> 1. How do we insert a node in between existing nodes?  \n",
    ">\n",
    "> 2. What are the big O notations for the search, insertion and deletion operation of a node? Explain.\n",
    ">\n",
    "> 3. Write a function to append a node at the end of a linked list recursively. Note: linked list are made up of sub linked lists."
   ]
  },
  {
   "cell_type": "markdown",
   "metadata": {},
   "source": [
    "*Solution*\n",
    "\n",
    "1. To insert between existing nodes"
   ]
  },
  {
   "cell_type": "code",
   "execution_count": null,
   "metadata": {
    "ExecuteTime": {
     "end_time": "2020-11-27T08:39:20.231730Z",
     "start_time": "2020-11-27T08:39:20.120Z"
    }
   },
   "outputs": [],
   "source": [
    "'''Insert between existing nodes'''\n",
    "nodePi = Node(3.142)"
   ]
  },
  {
   "cell_type": "markdown",
   "metadata": {},
   "source": [
    "2. Big O Notation for search, insert, delete\n",
    "\n",
    "|Operation|Time Complexity|\n",
    "|:--------|:-------------:|\n",
    "|$search$ | $O(n)$        |\n",
    "|$insert$ | $O(1)$        |\n",
    "|$delete$ | $O(1)$        |"
   ]
  },
  {
   "cell_type": "markdown",
   "metadata": {},
   "source": [
    "3. Append recursively."
   ]
  },
  {
   "cell_type": "code",
   "execution_count": null,
   "metadata": {
    "ExecuteTime": {
     "end_time": "2020-11-27T08:39:20.232728Z",
     "start_time": "2020-11-27T08:39:20.123Z"
    }
   },
   "outputs": [],
   "source": [
    "'''recursive append'''\n",
    "def append(currentNode, newdata):\n",
    "    if (currentNode == None):\n",
    "        return Node(newData)\n",
    "    else:\n",
    "        currentNode.next = append()"
   ]
  },
  {
   "cell_type": "markdown",
   "metadata": {},
   "source": [
    "---"
   ]
  },
  {
   "cell_type": "markdown",
   "metadata": {},
   "source": [
    "## Arrays vs Linked Lists\n",
    "\n",
    "- Arrays are made up of a contiguous block of memory, whereas linked list are dynamically allocated. This has several implications:\n",
    "\n",
    "  1. Accessing an element in an array is fast $O(1)$, whereas linked list takes linear time $O(n)$ (needs to start from head node).\n",
    "\n",
    "  2. Linked list are more memory efficient than arrays. In an array, each index is allocated a fixed size of memory (despite not needed the amount of memory), while linked list has a dynamic allocation of memory base on requirements.\n",
    "  \n",
    "- insertion/deletion operations are ineffecient in arrays - to insert an element, either have to create a new block of memory big enough to hold the inserted element or shift up one index after the insertion $O(n)$. On the other, we just need to manipulate the `next` values.\n",
    "\n",
    "- some operations in arrays benefit due to *cache locality* which improves performance."
   ]
  },
  {
   "cell_type": "markdown",
   "metadata": {},
   "source": [
    "---"
   ]
  }
 ],
 "metadata": {
  "kernelspec": {
   "display_name": "Python 3",
   "language": "python",
   "name": "python3"
  },
  "language_info": {
   "codemirror_mode": {
    "name": "ipython",
    "version": 3
   },
   "file_extension": ".py",
   "mimetype": "text/x-python",
   "name": "python",
   "nbconvert_exporter": "python",
   "pygments_lexer": "ipython3",
   "version": "3.7.7"
  }
 },
 "nbformat": 4,
 "nbformat_minor": 4
}
