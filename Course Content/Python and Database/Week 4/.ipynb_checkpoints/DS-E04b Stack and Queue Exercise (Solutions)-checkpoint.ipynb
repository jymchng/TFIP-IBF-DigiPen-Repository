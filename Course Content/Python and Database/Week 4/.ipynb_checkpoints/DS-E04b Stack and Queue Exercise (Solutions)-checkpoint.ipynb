{
 "cells": [
  {
   "cell_type": "markdown",
   "metadata": {},
   "source": [
    "# Fundamental Data Structures and Algorithms 04b - Stack and Queue - Exercise (Solutions)\n",
    "---"
   ]
  },
  {
   "cell_type": "markdown",
   "metadata": {},
   "source": [
    "The following problems should help you get familiar with stacks and queue"
   ]
  },
  {
   "cell_type": "markdown",
   "metadata": {},
   "source": [
    "  "
   ]
  },
  {
   "cell_type": "markdown",
   "metadata": {},
   "source": [
    "### Question 4\n",
    "  \n",
    "Using pen and paper, determine the contents of the resulting stack `s` or queue `q` based on the pseudocode below.  \n",
    "  \n",
    "**(a)**  \n",
    "```python\n",
    "s = Stack()\n",
    "for i in range(24):\n",
    "    if i % 3 == 0:\n",
    "        s.push(i)\n",
    "    elif i % 4 == 0:\n",
    "        s.pop()\n",
    "```\n",
    "\n",
    "**(b)**  \n",
    "```python\n",
    "q = Queue()\n",
    "for j in range(24):\n",
    "    if j % 3 == 0:\n",
    "        q.push(j)\n",
    "    elif i % 4 == 0:\n",
    "        q.pop()\n",
    "```"
   ]
  },
  {
   "cell_type": "markdown",
   "metadata": {},
   "source": [
    "Answer:\n",
    "\n",
    "(a) [0, 9, 12, 21]  \n",
    "(b) [12, 15, 18, 21]"
   ]
  },
  {
   "cell_type": "markdown",
   "metadata": {},
   "source": [
    "---"
   ]
  },
  {
   "cell_type": "markdown",
   "metadata": {},
   "source": [
    "### Question 5\n",
    "\n",
    "In this question we will explore a related application of the stack data structure, which involve testing for pairs of matching symbols.\n",
    "\n",
    "Consider an arithmetic equation that contains various pairs of grouping symbols, such as\n",
    "- Parenthesis: **( )**\n",
    "- Brackets: **\\[ ]**\n",
    "- Braces: **{ }**  \n",
    "\n",
    "Each opening symbol must match is corresponding closing symbol. For example, a left bracket **[** must match a corresponding right bracket **]** as in the expression $[(a+b)(a-b)]$. The following examples further illustrates this concept:\n",
    "- Correct: **( )(( )){([( )])}**\n",
    "- Correct: **((( )(( )){([( )])}))**\n",
    "- Incorrect: **)(( )){([( )])}**\n",
    "- Incorrect: **({[ ])}**\n",
    "- Incorrect: **(**\n",
    "  \n",
    "An important task when processing arithmetic expressions is to make sure their symbols match up correctly. You are to implement a function `isMatched` that parses through an expression string and returns True if the symbols match."
   ]
  },
  {
   "cell_type": "code",
   "execution_count": null,
   "metadata": {},
   "outputs": [],
   "source": [
    "def isMatched(expr):\n",
    "    # Implement your code here\n",
    "    l = '({['  # opening delimiters\n",
    "    r = ')}]'  # respective closing delims\n",
    "    S = []\n",
    "    for c in expr:\n",
    "        if c in l:\n",
    "            S.append(c)  # push left delimiter on stack\n",
    "        elif c in r:\n",
    "            if not S:\n",
    "                return False  # nothing to match with\n",
    "            if r.index(c) != l.index(S.pop( )):\n",
    "                return False  # mismatched\n",
    "    return not S  # were all symbols matched?"
   ]
  },
  {
   "cell_type": "code",
   "execution_count": null,
   "metadata": {},
   "outputs": [],
   "source": [
    "# Test cases\n",
    "print(isMatched(\"[(a+b)(a-b)]\"))             # expected output: True\n",
    "print(isMatched(\"( )(( )){([( )])}\"))        # expected output: True\n",
    "print(isMatched(\"((( )(( )){([( )])}))\"))    # expected output: True\n",
    "print(isMatched(\")(( )){([( )])}\"))          # expected output: False\n",
    "print(isMatched(\"({[ ])}\"))                  # expected output: False\n",
    "print(isMatched(\"(\"))                        # expected output: False"
   ]
  },
  {
   "cell_type": "markdown",
   "metadata": {},
   "source": [
    "---"
   ]
  },
  {
   "cell_type": "markdown",
   "metadata": {},
   "source": [
    "### Question 6\n",
    "\n",
    "Implement a queue class that maintains the element with the minimum value at the front of the queue.\n",
    "\n",
    "It needs to support the following methods:\n",
    "- `enqueue(x)` - enqueues element $x$ onto the queue\n",
    "- `dequeue()` - dequeues the element with the minimum value from the queue\n",
    "- any other methods that you may require\n",
    "\n",
    "(Create your own test cases.)\n",
    "\n",
    "**Example**\n",
    "```python\n",
    "q = MinQueue()\n",
    "q.enqueue(2)\n",
    "q.enqueue(1)\n",
    "q.enqueue(3)\n",
    "q.dequeue() # should return 1\n",
    "q.dequeue() # should return 2\n",
    "```"
   ]
  },
  {
   "cell_type": "code",
   "execution_count": null,
   "metadata": {},
   "outputs": [],
   "source": [
    "class MinQueue:\n",
    "    def __init__(self): \n",
    "        self.queue = [] \n",
    "  \n",
    "    # for checking if the queue is empty \n",
    "    def isEmpty(self): \n",
    "        return len(self.queue) == 0\n",
    "  \n",
    "    # for inserting an element in the queue \n",
    "    def enqueue(self, data): \n",
    "        self.queue.append(data) \n",
    "  \n",
    "    # for popping an element based on Priority \n",
    "    def dequeue(self): \n",
    "        try: \n",
    "            min = 0\n",
    "            for i in range(len(self.queue)): \n",
    "                if self.queue[i] < self.queue[min]: \n",
    "                    min = i \n",
    "            temp = self.queue[min] \n",
    "            del self.queue[min] \n",
    "            return temp \n",
    "        except IndexError: \n",
    "            print() \n",
    "            exit() \n",
    "\n",
    "q = MinQueue()\n",
    "q.enqueue(2)\n",
    "q.enqueue(1)\n",
    "q.enqueue(3)\n",
    "print(q.dequeue()) # should return 1\n",
    "print(q.dequeue()) # should return 2\n",
    "print(q.dequeue())\n",
    "print(q.dequeue())"
   ]
  }
 ],
 "metadata": {
  "kernelspec": {
   "display_name": "Python 3",
   "language": "python",
   "name": "python3"
  },
  "language_info": {
   "codemirror_mode": {
    "name": "ipython",
    "version": 3
   },
   "file_extension": ".py",
   "mimetype": "text/x-python",
   "name": "python",
   "nbconvert_exporter": "python",
   "pygments_lexer": "ipython3",
   "version": "3.7.7"
  }
 },
 "nbformat": 4,
 "nbformat_minor": 4
}
