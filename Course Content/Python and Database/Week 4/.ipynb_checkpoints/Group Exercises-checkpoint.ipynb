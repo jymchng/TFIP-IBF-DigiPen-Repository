{
 "cells": [
  {
   "cell_type": "markdown",
   "metadata": {},
   "source": [
    "# Group Exercises\n",
    "\n",
    "**Instructions:**\n",
    "\n",
    "- In groups of 3-4, answer the following questions.\n",
    "\n",
    "- Create your own test cases with expected outputs before working on the problems\n",
    "\n",
    "- Determine the computational complexity of your solutions.\n",
    "\n",
    "- You are to present your solutions once you have completed.\n",
    "---"
   ]
  },
  {
   "cell_type": "markdown",
   "metadata": {},
   "source": [
    "## Question 1\n",
    "\n",
    "Given a list of non-repeating integers `nums` and an integer `sumVal`, return indices of the two numbers such that they add up to the `sumVal`.\n",
    "You may assume that each input would have **exactly one solution**, and you *may not use the same element twice*.\n",
    "You can return the answer in any order.\n",
    "\n",
    "**Example 1:**  \n",
    "Input: nums = [2,7,11,15], sumVal = 9  \n",
    "Output: [0,1]  \n",
    "Output: Because nums[0] + nums[1] == 9, we return [0, 1].  \n",
    "\n",
    "**Example 2:**  \n",
    "Input: nums = [3,2,4], sumVal = 6  \n",
    "Output: [1,2]  \n",
    "\n",
    "**Example 3:**  \n",
    "Input: nums = [3,3], sumVal = 6  \n",
    "Output: [0,1]  "
   ]
  },
  {
   "cell_type": "markdown",
   "metadata": {},
   "source": [
    "---"
   ]
  },
  {
   "cell_type": "code",
   "execution_count": null,
   "metadata": {},
   "outputs": [],
   "source": [
    "'''Q1 solution'''\n",
    "def sumPair(nums, sumVal):\n",
    "    "
   ]
  },
  {
   "cell_type": "markdown",
   "metadata": {},
   "source": [
    "---"
   ]
  },
  {
   "cell_type": "markdown",
   "metadata": {},
   "source": [
    "## Question 2\n",
    "\n",
    "Given a non-empty list of integers nums, <u>every element appears twice except for one</u>. Find that single one.\n",
    "\n",
    "**Example 1:**  \n",
    "Input: nums = [2,2,1]\n",
    "Output: 1\n",
    "\n",
    "**Example 2:**  \n",
    "Input: nums = [4,1,2,1,2]\n",
    "Output: 4 \n",
    "\n",
    "**Example 3:**  \n",
    "Input: nums = [1]\n",
    "Output: 1 "
   ]
  },
  {
   "cell_type": "markdown",
   "metadata": {},
   "source": [
    "---"
   ]
  },
  {
   "cell_type": "code",
   "execution_count": 7,
   "metadata": {
    "ExecuteTime": {
     "end_time": "2020-11-16T05:56:50.159520Z",
     "start_time": "2020-11-16T05:56:50.152539Z"
    }
   },
   "outputs": [
    {
     "data": {
      "text/plain": [
       "5"
      ]
     },
     "execution_count": 7,
     "metadata": {},
     "output_type": "execute_result"
    }
   ],
   "source": [
    "'''Q2 Solution'''\n",
    "def singleNumber(nums):\n",
    "    mydict = {}\n",
    "    for num in nums:\n",
    "        if num in mydict:\n",
    "            del mydict[num]\n",
    "        else:\n",
    "            mydict[num] = 1\n",
    "    return list(mydict.keys())[0]\n",
    "\n",
    "def singleNumber1(nums):\n",
    "    nums.sort()\n",
    "    \n",
    "    for i in range(0,len(nums)-1,2):\n",
    "        if nums[i] 1+ nums[i+1]:\n",
    "            return nums[i]\n",
    "    return nums[-1]\n",
    "\n",
    "nums = [3,3,4,4,5,6,6]\n",
    "# Should output 5.\n",
    "singleNumber(nums)"
   ]
  },
  {
   "cell_type": "markdown",
   "metadata": {},
   "source": [
    "---"
   ]
  },
  {
   "cell_type": "markdown",
   "metadata": {},
   "source": [
    "## Question 3\n",
    "\n",
    "Given an integer list `nums`, find a continuous sub-list (containing at least one number) which has the largest sum and return the largest sum.\n",
    "\n",
    "**Example 1:**  \n",
    "Input: nums = [-2,1,-3,4,-1,2,1,-5,4]  \n",
    "Output: 6  \n",
    "Explanation: [4,-1,2,1] has the largest sum = 6.\n",
    "\n",
    "**Example 2:**  \n",
    "Input: nums = [1]  \n",
    "Output: 1\n",
    "\n",
    "**Example 3:**  \n",
    "Input: nums = [-1]  \n",
    "Output: -1  \n",
    "\n",
    "**Example 4:**   \n",
    "Input: nums = [-2147483647]  \n",
    "Output: -2147483647\n",
    "\n",
    "**Example 4:**   \n",
    "Input: nums = [2,-1,2]  \n",
    "Output: 3"
   ]
  },
  {
   "cell_type": "markdown",
   "metadata": {},
   "source": [
    "---"
   ]
  },
  {
   "cell_type": "code",
   "execution_count": 9,
   "metadata": {
    "ExecuteTime": {
     "end_time": "2020-11-16T06:37:22.217595Z",
     "start_time": "2020-11-16T06:37:22.209617Z"
    }
   },
   "outputs": [
    {
     "data": {
      "text/plain": [
       "(3, 7, 6)"
      ]
     },
     "execution_count": 9,
     "metadata": {},
     "output_type": "execute_result"
    }
   ],
   "source": [
    "'''Q3 Solution'''\n",
    "    \n",
    "def maxSubList1(nums):\n",
    "    best = current = 0\n",
    "    currentidx = startidx = endidx = 0\n",
    "    for ind, i in enumerate(l):\n",
    "        if current+i > 0:\n",
    "            current += i\n",
    "        else: # reset start position\n",
    "            current, currentidx = 0, ind+1\n",
    "\n",
    "        if current > best:\n",
    "            startidx, endidx, best = currentdx, ind+1, current\n",
    "    return startidx, endidx, best\n",
    "\n",
    "def maxSubList2(nums):\n",
    "    s = []\n",
    "    for i in range(len(nums)-1, -1, -1):\n",
    "        if len(s) != 0:\n",
    "            #check lst[i] vs s[-1]\n",
    "            if s[-1] > 0:\n",
    "                s.append(nums[i] + s[-1])\n",
    "            else:\n",
    "                s.append(lst[i])\n",
    "        else:\n",
    "            s.append(lst[i])\n",
    "    return max(s)\n",
    "\n",
    "def maxSubList3(nums):\n",
    "    ''' O(n)\n",
    "    form list of maxsums starting at each index; including the right side if +ve\n",
    "    largest sum is then the largest val here, starting at it, and ending at the next -ve\n",
    "    '''\n",
    "    sumList = [0]*len(nums)\n",
    "    sumList[-1] = nums[-1] # last elem has nothing on its right, only a sublist of itself possible\n",
    "    for i in range(len(nums)-2, -1, -1):\n",
    "        if sumList[i+1] > 0: # include neighbour as part of sublist\n",
    "            sumList[i] = nums[i] + sumList[i+1]\n",
    "        else:\n",
    "            sumList[i] = nums[i]\n",
    "    return max(sumList)\n",
    "   \n",
    "   \n",
    "#test\n",
    "lst = [-2,1,-3,4,-1,2,1,-5,4]\n",
    "maxSubList(lst)\n",
    "\n",
    "maxSubList( [-2,1,-3,4,-1,2,1,-5,4])"
   ]
  },
  {
   "cell_type": "markdown",
   "metadata": {},
   "source": [
    "---"
   ]
  },
  {
   "cell_type": "markdown",
   "metadata": {},
   "source": [
    "## Question 4\n",
    "\n",
    "Say you have a list for which the $i^{th}$ element is the price of a given stock on day $i$.\n",
    "\n",
    "If you were only permitted to complete at most one transaction (i.e., buy one and sell one share of the stock), design an algorithm to find the maximum profit.\n",
    "\n",
    "Note that you cannot sell a stock before you buy one.\n",
    "\n",
    "**Example 1:**  \n",
    "Input: [7,1,5,3,6,4]  \n",
    "Output: 5  \n",
    "Explanation:  Buy on day 2 (price = 1) and sell on day 5 (price = 6), profit = 6-1 = 5.  \n",
    "(Note: Not 7-1 = 6, as selling price needs to be larger than buying price.)\n",
    "\n",
    "**Example 2:**  \n",
    "Input: [7,6,4,3,1]  \n",
    "Output: 0  \n",
    "Explanation: In this case, no transaction is done, i.e. max profit = 0."
   ]
  },
  {
   "cell_type": "markdown",
   "metadata": {},
   "source": [
    "---"
   ]
  },
  {
   "cell_type": "code",
   "execution_count": 12,
   "metadata": {
    "ExecuteTime": {
     "end_time": "2020-11-16T07:14:28.699444Z",
     "start_time": "2020-11-16T07:14:28.692462Z"
    }
   },
   "outputs": [
    {
     "data": {
      "text/plain": [
       "14"
      ]
     },
     "execution_count": 12,
     "metadata": {},
     "output_type": "execute_result"
    }
   ],
   "source": [
    "'''Q4 Solution'''\n",
    "def maxProfit(prices):\n",
    "    if len(prices) == 0: \n",
    "        return 0        \n",
    "    else:\n",
    "        low = 99999 # represent minimum price so far\n",
    "        profitmax = 0\n",
    "        big = 0\n",
    "        for price in prices:\n",
    "            if price > low:\n",
    "                if price > big:\n",
    "                    profitmax = price - low\n",
    "                    big = price\n",
    "            elif price < low:\n",
    "                low = price\n",
    "                \n",
    "        return profitmax\n",
    "\n",
    "def maxProfit2(prices):\n",
    "    max_profit = 0\n",
    "    min_price = float(\"inf\")\n",
    "    for price in prices:\n",
    "        min_prices = min(min_price,price)\n",
    "        profit = price - min_price\n",
    "        max_profit = max(max_profit,profit)\n",
    "    return max_profit\n",
    "    \n",
    "maxProfit([7,1,5,3,6,4,10,15,2,3,4,5])"
   ]
  },
  {
   "cell_type": "markdown",
   "metadata": {},
   "source": [
    "---"
   ]
  },
  {
   "cell_type": "markdown",
   "metadata": {},
   "source": [
    "## Question 5\n",
    "\n",
    "Given a string `s`, find the length of the longest substring without repeating characters.\n",
    "\n",
    "**Example 1:**  \n",
    "Input: s = \"abcabcbb\"  \n",
    "Output: 3  \n",
    "Explanation: The answer is \"abc\", with the length of 3.\n",
    "\n",
    "**Example 2:**  \n",
    "Input: s = \"bbbbb\"  \n",
    "Output: 1  \n",
    "Explanation: The answer is \"b\", with the length of 1.\n",
    "\n",
    "**Example 3:**  \n",
    "Input: s = \"pwwkew\"  \n",
    "Output: 3  \n",
    "Explanation: The answer is \"wke\", with the length of 3.  \n",
    "Notice that the answer must be a substring, \"pwke\" is a subsequence and not a substring.\n",
    "\n",
    "**Example 4:**  \n",
    "Input: s = \"\"  \n",
    "Output: 0"
   ]
  },
  {
   "cell_type": "markdown",
   "metadata": {},
   "source": [
    "---"
   ]
  },
  {
   "cell_type": "code",
   "execution_count": 15,
   "metadata": {
    "ExecuteTime": {
     "end_time": "2020-11-16T07:28:53.172371Z",
     "start_time": "2020-11-16T07:28:53.165390Z"
    }
   },
   "outputs": [
    {
     "name": "stdout",
     "output_type": "stream",
     "text": [
      "wke\n"
     ]
    },
    {
     "data": {
      "text/plain": [
       "3"
      ]
     },
     "execution_count": 15,
     "metadata": {},
     "output_type": "execute_result"
    }
   ],
   "source": [
    "'''Q5 Solution'''\n",
    "def lengthOfLongestSubstring(s):\n",
    "    substr = \"\"\n",
    "    maxsubstr = 0\n",
    "    for ch in s:\n",
    "        if ch in substr:\n",
    "            substr = \"\"\n",
    "        substr = substr + ch\n",
    "        if len(substr) > maxsubstr:\n",
    "            maxsubstr = len(substr)\n",
    "            maxstr = substr\n",
    "    print(maxstr)\n",
    "    return maxsubstr\n",
    "\n",
    "lengthOfLongestSubstring(\"pwwkew\")"
   ]
  },
  {
   "cell_type": "markdown",
   "metadata": {},
   "source": [
    "---"
   ]
  },
  {
   "cell_type": "markdown",
   "metadata": {},
   "source": [
    "## Question 6\n",
    "\n",
    "Given a list of size $n$, find the majority element. The majority element is the element that appears more than ⌊ n/2 ⌋ times.\n",
    "\n",
    "You may assume that the list is non-empty and the majority element always exist in the list.\n",
    "\n",
    "**Example 1:**  \n",
    "Input: [3,2,3]  \n",
    "Output: 3\n",
    "\n",
    "**Example 2:**  \n",
    "Input: [2,2,1,1,1,2,2]  \n",
    "Output: 2"
   ]
  },
  {
   "cell_type": "markdown",
   "metadata": {},
   "source": [
    "---"
   ]
  },
  {
   "cell_type": "code",
   "execution_count": null,
   "metadata": {},
   "outputs": [],
   "source": [
    "'''Q6 Solution'''\n",
    "def majorityElement(nums):\n"
   ]
  },
  {
   "cell_type": "markdown",
   "metadata": {},
   "source": [
    "---"
   ]
  }
 ],
 "metadata": {
  "kernelspec": {
   "display_name": "Python 3",
   "language": "python",
   "name": "python3"
  },
  "language_info": {
   "codemirror_mode": {
    "name": "ipython",
    "version": 3
   },
   "file_extension": ".py",
   "mimetype": "text/x-python",
   "name": "python",
   "nbconvert_exporter": "python",
   "pygments_lexer": "ipython3",
   "version": "3.7.7"
  }
 },
 "nbformat": 4,
 "nbformat_minor": 4
}
