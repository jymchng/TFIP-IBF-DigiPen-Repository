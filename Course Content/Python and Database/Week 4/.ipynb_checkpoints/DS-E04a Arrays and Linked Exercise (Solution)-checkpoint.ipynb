{
 "cells": [
  {
   "cell_type": "markdown",
   "metadata": {},
   "source": [
    "# Fundamental Data Structures and Algorithms 04a - Arrays and Linked List - Exercise\n",
    "---"
   ]
  },
  {
   "cell_type": "markdown",
   "metadata": {},
   "source": [
    "The following problems should help you get familiar with the arrays and linked lists"
   ]
  },
  {
   "cell_type": "markdown",
   "metadata": {},
   "source": [
    "  "
   ]
  },
  {
   "cell_type": "markdown",
   "metadata": {},
   "source": [
    "### Question 1  \n",
    "  \n",
    "**(a)** When you add 2 lists together: `[1, 2, 3] + [4, 5, 6]`, you will get `[1, 2, 3, 4, 5, 6]`. However, we want to sum elements together i.e. `[1, 2, 3] + [4, 5, 6]` will return `[5, 7, 9]`. Write a function `listSum` that takes 2 lists, `listA` and `listB` as input and returns a new list with the elements added together. Assume that both lists are of the same length and only consist of numbers."
   ]
  },
  {
   "cell_type": "code",
   "execution_count": 1,
   "metadata": {},
   "outputs": [
    {
     "name": "stdout",
     "output_type": "stream",
     "text": [
      "[5, 7, 9]\n",
      "[3, 7, 11]\n"
     ]
    }
   ],
   "source": [
    "'''Method 1: list comprehension'''\n",
    "def listSum(listA, listB):\n",
    "    listSum = []\n",
    "    for i in range(len(listA)):\n",
    "        listSum.append(listA[i] + listB[i])\n",
    "    return listSum\n",
    "\n",
    "print(listSum([1,2,3],[4,5,6]))\n",
    "print(listSum([1,3,5],[2,4,6]))"
   ]
  },
  {
   "cell_type": "code",
   "execution_count": 2,
   "metadata": {},
   "outputs": [
    {
     "name": "stdout",
     "output_type": "stream",
     "text": [
      "[5, 7, 9]\n",
      "[3, 7, 11]\n"
     ]
    }
   ],
   "source": [
    "'''Method 2: list comprehension'''\n",
    "def listSum2(listA, listB):\n",
    "    return [listA[i]+listB[i] for i in range(len(listA))]\n",
    "\n",
    "print(listSum2([1,2,3],[4,5,6]))\n",
    "print(listSum2([1,3,5],[2,4,6]))"
   ]
  },
  {
   "cell_type": "code",
   "execution_count": 3,
   "metadata": {},
   "outputs": [
    {
     "name": "stdout",
     "output_type": "stream",
     "text": [
      "[5 7 9]\n",
      "[ 3  7 11]\n"
     ]
    }
   ],
   "source": [
    "'''Method 3: NumPy library'''\n",
    "import numpy as np\n",
    "def listSum3(listA, listB):\n",
    "    return np.array(listA)+np.array(listB)\n",
    "\n",
    "print(listSum3([1,2,3],[4,5,6]))\n",
    "print(listSum3([1,3,5],[2,4,6]))"
   ]
  },
  {
   "cell_type": "markdown",
   "metadata": {},
   "source": [
    "  "
   ]
  },
  {
   "cell_type": "markdown",
   "metadata": {},
   "source": [
    "**(b)** Write a <u>recursive</u> function `allOnes` that takes in a list `l` and an input size `n`, and returns a list consisting of $n$ ones. E.g. if $n = 3$, the function will return `[1, 1, 1]`. "
   ]
  },
  {
   "cell_type": "code",
   "execution_count": 4,
   "metadata": {},
   "outputs": [
    {
     "name": "stdout",
     "output_type": "stream",
     "text": [
      "[]\n",
      "[1]\n",
      "[1, 1]\n",
      "[1, 1, 1]\n",
      "[1, 1, 1, 1]\n"
     ]
    }
   ],
   "source": [
    "def allOnes(l, n):\n",
    "\n",
    "    if n == 0:\n",
    "        return l\n",
    "    while n > 0:\n",
    "        l.append(1)\n",
    "        return allOnes(l,n-1)\n",
    "        \n",
    "print(allOnes([],0))\n",
    "print(allOnes([],1))\n",
    "print(allOnes([],2))\n",
    "print(allOnes([],3))\n",
    "print(allOnes([],4))"
   ]
  },
  {
   "cell_type": "markdown",
   "metadata": {},
   "source": [
    "---"
   ]
  },
  {
   "cell_type": "markdown",
   "metadata": {},
   "source": [
    "### Question 2  \n",
    "\n",
    "In mathematics, an $m \\times n$ matrix is a rectangular grid of numberical values arranged in $m$ rows and $n$ columns. You will implement some of the common operations performed on matrices. For the following problems, you are to use lists to represent the matrix. You are also encouraged to write your own test cases for the functions that you have implemented.\n",
    "  \n",
    "For example,  \n",
    "  \n",
    "the row matrix, \n",
    "$\\quad\n",
    "a=\n",
    "\\begin{bmatrix}\n",
    "0&1&2\\\\\n",
    "\\end{bmatrix}\n",
    "\\quad\n",
    "$\n",
    ", can be written as `a = [0, 1, 2]`,  \n",
    "  \n",
    "the column matrix, \n",
    "$\\quad\n",
    "b=\n",
    "\\begin{bmatrix}\n",
    "3 \\\\\n",
    "4 \\\\\n",
    "5 \\\\\n",
    "\\end{bmatrix}\n",
    "\\quad\n",
    "$\n",
    ", can be written as `b = [[3], [4], [5]]` and,  \n",
    "  \n",
    "the $3 \\times 2$ matrix,\n",
    "$\\quad\n",
    "m=\n",
    "\\begin{bmatrix}\n",
    "0&1 \\\\\n",
    "2&3 \\\\\n",
    "4&5 \\\\\n",
    "\\end{bmatrix}\n",
    "\\quad\n",
    "$\n",
    ", can be written as the nested list, `m = [[0, 1], [2, 3], [4, 5]]`."
   ]
  },
  {
   "cell_type": "markdown",
   "metadata": {},
   "source": [
    "  "
   ]
  },
  {
   "cell_type": "markdown",
   "metadata": {},
   "source": [
    "**(a) Size of Matrix**  \n",
    "Implement the function `getSize` that takes in a matrix `m` as input and returns the size of the matrix as a tuple in the following format $(row, column)$. This will serve as an auxilary function to the other functions that requires their matrix inputs to be of the correct sizes."
   ]
  },
  {
   "cell_type": "code",
   "execution_count": 5,
   "metadata": {},
   "outputs": [],
   "source": [
    "def getSize(m):\n",
    "\n",
    "    row = col = len(m)\n",
    "    try:\n",
    "        col = len(m[0])\n",
    "    except:\n",
    "        row = 1\n",
    "    return (row,col)\n"
   ]
  },
  {
   "cell_type": "code",
   "execution_count": 6,
   "metadata": {},
   "outputs": [
    {
     "name": "stdout",
     "output_type": "stream",
     "text": [
      "(1, 3)\n",
      "(3, 1)\n",
      "(3, 2)\n"
     ]
    }
   ],
   "source": [
    "# Test cases\n",
    "a1 = [1, 2, 3]\n",
    "a2 = [[1], [2], [3]]\n",
    "a3 = [[1,2], [2,3], [3,4]]\n",
    "print(getSize(a1))    # expected output: (1,3)\n",
    "print(getSize(a2))    # expected output: (3,1)\n",
    "print(getSize(a3))    # expected output: (3,2)"
   ]
  },
  {
   "cell_type": "markdown",
   "metadata": {},
   "source": [
    "  "
   ]
  },
  {
   "cell_type": "markdown",
   "metadata": {},
   "source": [
    "**(b) Additional and Subtraction**  \n",
    "Two $m \\times n$ matrices can be added or subtracted to create a third $m \\times n$ matrix. When adding two $m \\times n$ matrices, corresponding elements are summed as illustrated below.  \n",
    "  \n",
    "$$\n",
    "\\begin{bmatrix}\n",
    "0&1 \\\\\n",
    "2&3 \\\\\n",
    "4&5 \\\\\n",
    "\\end{bmatrix}\n",
    "+\n",
    "\\begin{bmatrix}\n",
    "6&7 \\\\\n",
    "8&9 \\\\\n",
    "1&0 \\\\\n",
    "\\end{bmatrix}\n",
    "=\n",
    "\\begin{bmatrix}\n",
    "(0+6)&(1+7) \\\\\n",
    "(2+8)&(3+9) \\\\\n",
    "(4+1)&(5+0) \\\\\n",
    "\\end{bmatrix}\n",
    "=\n",
    "\\begin{bmatrix}\n",
    "6&8 \\\\\n",
    "10&12 \\\\\n",
    "5&5 \\\\\n",
    "\\end{bmatrix}\\\\\n",
    "$$  \n",
    "  \n",
    "Subtraction is performed in a similar fashion but the corresponding elements are subtracted instead of summed.\n",
    "  \n",
    "You are to implement the matrix addition function `matrixSum` that takes in two matrices, `mA` and `mB`, as inputs and returns the summed matrix as output. Your function should ensure that both matrices have the same size."
   ]
  },
  {
   "cell_type": "code",
   "execution_count": 7,
   "metadata": {},
   "outputs": [],
   "source": [
    "'''Method 1: create a new list and append the sum of each element'''\n",
    "def matrixSum(mA, mB):\n",
    "\n",
    "    if getSize(mA) != getSize(mB):\n",
    "        return \"matrices not same size\"\n",
    "    \n",
    "    row, col = getSize(mA)\n",
    "    if row == 1:\n",
    "        return listSum(mA, mB)\n",
    "    \n",
    "    sum = []\n",
    "    for i in range (len(mA)):\n",
    "        sum.append([])\n",
    "        for j in range(len(mA[0])):\n",
    "            sum[i].append(mA[i][j]+mB[i][j])\n",
    "    return sum"
   ]
  },
  {
   "cell_type": "code",
   "execution_count": 8,
   "metadata": {},
   "outputs": [],
   "source": [
    "'''Method 2: list comprehension'''\n",
    "def matrixSum2(mA, mB):\n",
    "    if getSize(mA) != getSize(mB):\n",
    "        return \"matrices not same size\"\n",
    "    \n",
    "    row, col = getSize(mA)\n",
    "    if row == 1:\n",
    "        return listSum(mA, mB)\n",
    "    \n",
    "    return [[(mA[i][j]+mB[i][j]) for j in range(len(mA[0]))] for i in range(len(mA))]"
   ]
  },
  {
   "cell_type": "code",
   "execution_count": 9,
   "metadata": {},
   "outputs": [],
   "source": [
    "'''Method 3: numpy'''\n",
    "import numpy as np\n",
    "def matrixSum3(mA, mB):\n",
    "    if getSize(mA) != getSize(mB):\n",
    "        return \"matrices not same size\"\n",
    "    return np.array(mA)+np.array(mB)"
   ]
  },
  {
   "cell_type": "code",
   "execution_count": 10,
   "metadata": {},
   "outputs": [
    {
     "name": "stdout",
     "output_type": "stream",
     "text": [
      "test case 1\n",
      "[[6, 8], [10, 12], [5, 5]]\n",
      "[[6, 8], [10, 12], [5, 5]]\n",
      "[[ 6  8]\n",
      " [10 12]\n",
      " [ 5  5]]\n",
      "\n",
      "test case 2\n",
      "[3, 7, 11]\n",
      "[3, 7, 11]\n",
      "[ 3  7 11]\n",
      "\n",
      "test case 3\n",
      "[[6], [10], [5]]\n",
      "[[6], [10], [5]]\n",
      "[[ 6]\n",
      " [10]\n",
      " [ 5]]\n",
      "\n",
      "test case 4\n",
      "[3]\n",
      "[3]\n",
      "[3]\n",
      "\n",
      "test case 5\n",
      "matrices not same size\n",
      "matrices not same size\n",
      "matrices not same size\n"
     ]
    }
   ],
   "source": [
    "# Test case 1\n",
    "b1 = [[0, 1], [2, 3], [4, 5]]\n",
    "b2 = [[6, 7], [8, 9], [1, 0]]\n",
    "# expected output: [[6, 8], [10, 12], [5, 5]]\n",
    "print(\"test case 1\")\n",
    "print(matrixSum(b1, b2))\n",
    "print(matrixSum2(b1, b2))\n",
    "print(matrixSum3(b1, b2)) \n",
    "\n",
    "# Test case 2\n",
    "b3 = [1,3,5]\n",
    "b4 = [2,4,6]\n",
    "# expected output: [3, 7, 11]\n",
    "print(\"\\ntest case 2\")\n",
    "print(matrixSum(b3, b4))\n",
    "print(matrixSum2(b3, b4))\n",
    "print(matrixSum3(b3, b4))\n",
    "\n",
    "# Test case 3\n",
    "b5 = [[0], [2], [4]]\n",
    "b6 = [[6], [8], [1]]\n",
    "# expected output: [[6], [10], [5]]\n",
    "print(\"\\ntest case 3\")\n",
    "print(matrixSum(b5, b6))\n",
    "print(matrixSum2(b5, b6))\n",
    "print(matrixSum3(b5, b6))\n",
    "\n",
    "# Test case 4\n",
    "b7 = [1]\n",
    "b8 = [2]\n",
    "# expected output: [3]\n",
    "print(\"\\ntest case 4\")\n",
    "print(matrixSum(b7, b8))\n",
    "print(matrixSum2(b7, b8))\n",
    "print(matrixSum3(b7, b8))\n",
    "\n",
    "# Test case 5\n",
    "b9 = [1, 2]\n",
    "b10 = [3]\n",
    "# expected output: \"matrices not same size\"\n",
    "print(\"\\ntest case 5\")\n",
    "print(matrixSum(b9, b10))\n",
    "print(matrixSum2(b9, b10))\n",
    "print(matrixSum3(b9, b10))"
   ]
  },
  {
   "cell_type": "markdown",
   "metadata": {},
   "source": [
    "  "
   ]
  },
  {
   "cell_type": "markdown",
   "metadata": {},
   "source": [
    "**(c) Scaling**  \n",
    "matrix can be uniformly scaled, which modifies each element of the matrix by the same scale factor. A scale factor of less than $1$ has the effect of reducing the value of each element whereas a scale factor greater than $1$ increases the value of each element. Scaling a matrix by a scale factor of $3$ is illustrated here:  \n",
    "  \n",
    "$$\n",
    "3\n",
    "\\begin{bmatrix}\n",
    "6&7 \\\\\n",
    "8&9 \\\\\n",
    "1&0 \\\\\n",
    "\\end{bmatrix}\n",
    "=\n",
    "\\begin{bmatrix}\n",
    "(3\\times 6)&(3\\times 7) \\\\\n",
    "(3\\times 8)&(3\\times 9) \\\\\n",
    "(3\\times 1)&(3\\times 0) \\\\\n",
    "\\end{bmatrix}\n",
    "=\n",
    "\\begin{bmatrix}\n",
    "18&21 \\\\\n",
    "24&27 \\\\\n",
    "3&0 \\\\\n",
    "\\end{bmatrix}\\\\\n",
    "$$  \n",
    "  \n",
    "You are to implement the scale function `matrixScale` that takes in a matrix, `m`, and scale factor `sf`, as inputs and returns the scaled matrix as output."
   ]
  },
  {
   "cell_type": "code",
   "execution_count": 11,
   "metadata": {},
   "outputs": [],
   "source": [
    "'''Method 1: create a new list and append the scaled elements'''\n",
    "def matrixScale(m, sf):\n",
    "    \n",
    "    row, col = getSize(m)\n",
    "    scale = []\n",
    "    if row == 1:\n",
    "        for j in m:\n",
    "            scale.append(sf * j)\n",
    "    else:\n",
    "        for row in range (len(m)):\n",
    "            scale.append([])\n",
    "            for col in range(len(m[0])):\n",
    "                scale[row].append(sf*m[row][col])\n",
    "    return scale"
   ]
  },
  {
   "cell_type": "code",
   "execution_count": 12,
   "metadata": {},
   "outputs": [],
   "source": [
    "'''Method 2: list comprehension'''\n",
    "def matrixScale2(m, sf):\n",
    "    \n",
    "    row, col = getSize(m)\n",
    "    \n",
    "    if row == 1:\n",
    "        return [j*sf for j in m]\n",
    "    else:\n",
    "        return [[sf*(m[i][j]) for j in range(len(m[0]))] for i in range(len(m))]"
   ]
  },
  {
   "cell_type": "code",
   "execution_count": 13,
   "metadata": {},
   "outputs": [],
   "source": [
    "'''Method 3: numpy'''\n",
    "import numpy as np\n",
    "def matrixScale3(m, sf):\n",
    "    return np.array(m)*sf"
   ]
  },
  {
   "cell_type": "code",
   "execution_count": 14,
   "metadata": {},
   "outputs": [
    {
     "name": "stdout",
     "output_type": "stream",
     "text": [
      "test case 1\n",
      "[[18, 21], [24, 27], [3, 0]]\n",
      "[[18, 21], [24, 27], [3, 0]]\n",
      "[[18 21]\n",
      " [24 27]\n",
      " [ 3  0]]\n",
      "\n",
      "test case 2\n",
      "[[6], [8], [1]]\n",
      "[[6], [8], [1]]\n",
      "[[6]\n",
      " [8]\n",
      " [1]]\n",
      "\n",
      "test case 3\n",
      "[2, 4, 6]\n",
      "[2, 4, 6]\n",
      "[2 4 6]\n",
      "\n",
      "test case 4\n",
      "[[0, 0], [0, 0], [0, 0]]\n",
      "[[0, 0], [0, 0], [0, 0]]\n",
      "[[0 0]\n",
      " [0 0]\n",
      " [0 0]]\n",
      "\n",
      "test case 5\n",
      "[]\n",
      "[]\n",
      "[]\n"
     ]
    }
   ],
   "source": [
    "# Test case 1\n",
    "c1 = [[6, 7], [8, 9], [1, 0]]\n",
    "sf = 3\n",
    "# expected output: [[18, 21], [24, 27], [3, 0]]\n",
    "print('test case 1')\n",
    "print(matrixScale(c1, sf))     \n",
    "print(matrixScale2(c1, sf))\n",
    "print(matrixScale3(c1, sf))\n",
    "\n",
    "# Test case 2\n",
    "c2 = [[6], [8], [1]]\n",
    "sf2 = 1\n",
    "# expected output: [[6], [8], [1]]\n",
    "print('\\ntest case 2')\n",
    "print(matrixScale(c2, sf2))     \n",
    "print(matrixScale2(c2, sf2))\n",
    "print(matrixScale3(c2, sf2))\n",
    "\n",
    "# Test case 3\n",
    "c3 = [1,2,3]\n",
    "sf3 = 2\n",
    "# expected output: [2,4,6]\n",
    "print('\\ntest case 3')\n",
    "print(matrixScale(c3, sf3))     \n",
    "print(matrixScale2(c3, sf3))\n",
    "print(matrixScale3(c3, sf3))\n",
    "\n",
    "# Test case 4\n",
    "c4 = [[1,2],[3,4],[5,6]]\n",
    "sf4 = 0\n",
    "# expected output: [[0,0],[0,0],[0,0]]\n",
    "print('\\ntest case 4')\n",
    "print(matrixScale(c4, sf4))     \n",
    "print(matrixScale2(c4, sf4))\n",
    "print(matrixScale3(c4, sf4))\n",
    "\n",
    "# Test case 5\n",
    "c5 = []\n",
    "sf5 = 10\n",
    "# expected output: []\n",
    "print('\\ntest case 5')\n",
    "print(matrixScale(c5, sf5))     \n",
    "print(matrixScale2(c5, sf5))\n",
    "print(matrixScale3(c5, sf5))"
   ]
  },
  {
   "cell_type": "markdown",
   "metadata": {},
   "source": [
    "  "
   ]
  },
  {
   "cell_type": "markdown",
   "metadata": {},
   "source": [
    "**(d) Multiplication**  \n",
    "Matrix multiplication is only defined for matrices where the number of columns in the matrix on the lefthand side is equal to the number of rows in the matrix on the righthand side. The result is a new matrix that contains the same number of rows as the matrix on the lefthand side and the same number of columns as the matrix on the righthand side. In other words, given a matrix of size $m \\times n$ multiplied by a matrix of size $n \\times p$, the resulting matrix is of size $m \\times p$. In multiplying two matrices, each element of the new matrix is the result of summing the product of a row in the lefthand side matrix by a column in the righthand side matrix. In the example matrix multiplication illustrated here, the row and column used to compute the first entry i.e. $(0, 0)$ of the new matrix is in bold fonts.\n",
    "  \n",
    "$$\n",
    "\\begin{bmatrix}\n",
    "\\mathbf{0}&\\mathbf{1} \\\\\n",
    "2&3 \\\\\n",
    "4&5 \\\\\n",
    "\\end{bmatrix}\n",
    "\\times\n",
    "\\begin{bmatrix}\n",
    "\\mathbf{6}&7&8 \\\\\n",
    "\\mathbf{9}&1&0 \\\\\n",
    "\\end{bmatrix}\n",
    "=\n",
    "\\begin{bmatrix}\n",
    "\\mathbf{(0\\times 6 + 1\\times 9)}&(0\\times 7 + 1\\times 1)&(0\\times 8 + 1\\times 0) \\\\\n",
    "(2\\times 6 + 3\\times 9)&(2\\times 7 + 3\\times 1)&(2\\times 8 + 3\\times 0) \\\\\n",
    "(4\\times 6 + 5\\times 9)&(4\\times 7 + 5\\times 1)&(4\\times 8 + 5\\times 0) \\\\\n",
    "\\end{bmatrix}\n",
    "=\n",
    "\\begin{bmatrix}\n",
    "\\mathbf{9}&1&0 \\\\\n",
    "39&17&16 \\\\\n",
    "69&33&32 \\\\\n",
    "\\end{bmatrix}\\\\\n",
    "$$  \n",
    "  \n",
    "View matrix multiplication based on the element subscripts can help you to better understand the operation. Consider the two matrices from above and assume they are labeled $A$ and $B$, respectively.  \n",
    "  \n",
    "$$\n",
    "A=\n",
    "\\begin{bmatrix}\n",
    "\\mathbf{A_{0,0}}&\\mathbf{A_{0,1}} \\\\\n",
    "A_{1,0}&A_{1,1} \\\\\n",
    "A_{2,0}&A_{2,1} \\\\\n",
    "\\end{bmatrix}\n",
    "\\quad \\quad\n",
    "B=\n",
    "\\begin{bmatrix}\n",
    "\\mathbf{B_{0,0}}&B_{0,1}&B_{0,2} \\\\\n",
    "\\mathbf{B_{1,0}}&B_{1,1}&B_{1,2} \\\\\n",
    "\\end{bmatrix}\\\\\n",
    "$$  \n",
    "\n",
    "The computation of the individual elements resulting from multiplying $A$ and $B$ (i.e. $C = A \\times B$) is performed as follows:\n",
    "\n",
    "$$\n",
    "C_{0,0} = A_{0,0} \\times B_{0,0} + A_{0,1} \\times B_{1,0}\\\\\n",
    "C_{0,1} = A_{0,0} \\times B_{0,1} + A_{0,1} \\times B_{1,1}\\\\\n",
    "C_{0,2} = A_{0,0} \\times B_{0,2} + A_{0,1} \\times B_{1,2}\\\\\n",
    "C_{1,0} = A_{1,0} \\times B_{0,0} + A_{1,1} \\times B_{1,0}\\\\\n",
    "C_{1,1} = A_{1,0} \\times B_{0,1} + A_{1,1} \\times B_{1,1}\\\\\n",
    "C_{1,2} = A_{1,0} \\times B_{0,2} + A_{1,1} \\times B_{1,2}\\\\\n",
    "C_{2,0} = A_{2,0} \\times B_{0,0} + A_{2,1} \\times B_{1,0}\\\\\n",
    "C_{2,1} = A_{2,0} \\times B_{0,1} + A_{2,1} \\times B_{1,1}\\\\\n",
    "C_{2,2} = A_{2,0} \\times B_{0,2} + A_{2,1} \\times B_{1,2}\\\\\n",
    "$$  \n",
    "  \n",
    "resulting in  \n",
    "  \n",
    "$$\n",
    "\\\\\n",
    "C=\n",
    "\\begin{bmatrix}\n",
    "(A_{0,0} \\times B_{0,0} + A_{0,1} \\times B_{1,0})&\n",
    "(A_{0,0} \\times B_{0,1} + A_{0,1} \\times B_{1,1})&\n",
    "(A_{0,0} \\times B_{0,2} + A_{0,1} \\times B_{1,2}) \\\\\n",
    "(A_{1,0} \\times B_{0,0} + A_{1,1} \\times B_{1,0})&\n",
    "(A_{1,0} \\times B_{0,1} + A_{1,1} \\times B_{1,1})&\n",
    "(A_{1,0} \\times B_{0,2} + A_{1,1} \\times B_{1,2}) \\\\\n",
    "(A_{2,0} \\times B_{0,0} + A_{2,1} \\times B_{1,0})&\n",
    "(A_{2,0} \\times B_{0,1} + A_{2,1} \\times B_{1,1})&\n",
    "(A_{2,0} \\times B_{0,2} + A_{2,1} \\times B_{1,2})\n",
    "\\end{bmatrix}\\\\\n",
    "$$  \n",
    "  \n",
    "You are to implement the matrix multiplication function `matrixMultiplication` that takes in two matrices, `mA` and `mB`, as inputs and returns the multiplied matrix as output. The function must ensure that both matrices are of correct sizes before proceeding i.e. matrix `mA` of size $m \\times n$ when multiplied with matrix `mB` of size $n \\times p$ will retult in matrix `mC` of size $m \\times p$."
   ]
  },
  {
   "cell_type": "code",
   "execution_count": 15,
   "metadata": {},
   "outputs": [],
   "source": [
    "'''Method 1: create a new list and append the product of each element'''\n",
    "def matrixMultiplication(mA, mB):\n",
    "    rA,cA = getSize(mA)\n",
    "    rB,cB = getSize(mB)\n",
    "    \n",
    "    if cA != rB:\n",
    "        return \"matrices not correct size\"\n",
    "    \n",
    "    product = []\n",
    "    \n",
    "    if rA == 1:         # if mA is row matrix\n",
    "        if cB == 1:     # if output is []\n",
    "            temp = 0\n",
    "            for i in range(rB):\n",
    "                temp = temp + mA[i] * mB[i][0]\n",
    "            product.append(temp)\n",
    "        else:\n",
    "            for j in range(cB):\n",
    "                temp = 0\n",
    "                for i in range(rB):\n",
    "                    temp = temp + mA[i] * mB[i][j]\n",
    "                product.append(temp)                \n",
    "    else:\n",
    "        if cA == 1:\n",
    "            for i in range(rA):\n",
    "                #temp = 0\n",
    "                product.append([])\n",
    "                for j in range(cB):\n",
    "                    temp = 0\n",
    "                    temp = temp + mA[i][0] * mB[j]\n",
    "                    product[i].append(temp)\n",
    "        else:\n",
    "            for i in range(rA):\n",
    "                product.append([])\n",
    "                for j in range(cB):\n",
    "                    temp = 0\n",
    "                    for k in range(cA):\n",
    "                        temp = temp + mA[i][k] * mB[k][j]\n",
    "                    product[i].append(temp)\n",
    "                    \n",
    "\n",
    "    return product"
   ]
  },
  {
   "cell_type": "code",
   "execution_count": 16,
   "metadata": {},
   "outputs": [],
   "source": [
    "'''Method 2: numpy'''\n",
    "import numpy as np\n",
    "def matrixMultiplication2(mA, mB):\n",
    "    rA, cA = getSize(mA)\n",
    "    rB, cB = getSize(mB)\n",
    "    if cA != rB:\n",
    "        return \"matrices not same size\"\n",
    "    mA = np.array(mA, ndmin = 2)\n",
    "    mB = np.array(mB, ndmin = 2)\n",
    "    return np.dot(mA,mB)"
   ]
  },
  {
   "cell_type": "code",
   "execution_count": 17,
   "metadata": {},
   "outputs": [
    {
     "name": "stdout",
     "output_type": "stream",
     "text": [
      "test case 1\n",
      "[[9, 1, 0], [39, 17, 16], [69, 33, 32]]\n",
      "[[ 9  1  0]\n",
      " [39 17 16]\n",
      " [69 33 32]]\n",
      "\n",
      "test case 2\n",
      "[20]\n",
      "[[20]]\n",
      "\n",
      "test case 3\n",
      "[20, 14, 8]\n",
      "[[20 14  8]]\n",
      "\n",
      "test case 4\n",
      "[[4, 5, 6], [8, 10, 12], [12, 15, 18]]\n",
      "[[ 4  5  6]\n",
      " [ 8 10 12]\n",
      " [12 15 18]]\n"
     ]
    }
   ],
   "source": [
    "# Test case 1\n",
    "d1 = [[0, 1], [2, 3], [4, 5]]\n",
    "d2 = [[6, 7, 8], [9, 1, 0]]\n",
    "#expected output: [[9, 1, 0], [39, 17, 16], [69, 33, 32]]\n",
    "print('test case 1')\n",
    "print(matrixMultiplication(d1, d2))\n",
    "print(matrixMultiplication2(d1, d2))\n",
    "\n",
    "# Test case 2\n",
    "d3 = [1, 2, 3]\n",
    "d4 = [[2],[3],[4]]\n",
    "#expected output: [20]\n",
    "print('\\ntest case 2')\n",
    "print(matrixMultiplication(d3, d4))\n",
    "print(matrixMultiplication2(d3, d4))\n",
    "\n",
    "# Test case 3\n",
    "d5 = [1, 2, 3]\n",
    "d6 = [[2,1,0],[3,2,1],[4,3,2]]\n",
    "#expected output: [[20],[14]]\n",
    "print('\\ntest case 3')\n",
    "print(matrixMultiplication(d5, d6))\n",
    "print(matrixMultiplication2(d5, d6))\n",
    "\n",
    "# Test case 4\n",
    "d7 = [[1],[2],[3]]\n",
    "d8 = [4,5,6]\n",
    "#expected output: [[20],[14]]\n",
    "print('\\ntest case 4')\n",
    "print(matrixMultiplication(d7, d8))\n",
    "print(matrixMultiplication2(d7, d8))"
   ]
  },
  {
   "cell_type": "markdown",
   "metadata": {},
   "source": [
    "  "
   ]
  },
  {
   "cell_type": "markdown",
   "metadata": {},
   "source": [
    "**(e) Transpose**  \n",
    "Another useful operation that can be applied to a matrix is the matrix transpose. Given a $m \\times n$ matrix, a transpose swaps the rows and columns to create a new matrix of size $n \\times m$ as illustrated here:  \n",
    "  \n",
    "$$\n",
    "\\begin{bmatrix}\n",
    "0&1 \\\\\n",
    "2&3 \\\\\n",
    "4&5 \\\\\n",
    "\\end{bmatrix}\n",
    "^{\\ T}\n",
    "=\n",
    "\\begin{bmatrix}\n",
    "0&2&4 \\\\\n",
    "1&3&5 \\\\\n",
    "\\end{bmatrix}\\\\\n",
    "$$  \n",
    "  \n",
    "You are to implement the matrix transpose function `matrixTranspose` that takes in a matrix, `m`,  and returns the transposed matrix as output."
   ]
  },
  {
   "cell_type": "code",
   "execution_count": 18,
   "metadata": {},
   "outputs": [],
   "source": [
    "'''Method 1: fatten 2d to 1d before populating'''\n",
    "def matrixTranspose(m):    \n",
    "    r, c = getSize(m)\n",
    "    if r==1:\n",
    "        if c==1:\n",
    "            return m\n",
    "        else:\n",
    "            return [[m[x]] for x in range(c)]\n",
    "    else:\n",
    "        temp = sum(m, [])\n",
    "        t = []\n",
    "        if r==1:\n",
    "            return [m[y][0] for y in range(r)]\n",
    "        else:\n",
    "            for i in range(c):\n",
    "                t.append([])\n",
    "                for j in range(r):\n",
    "                    t[i].append(temp[i+j*c])\n",
    "    return t"
   ]
  },
  {
   "cell_type": "code",
   "execution_count": 19,
   "metadata": {},
   "outputs": [],
   "source": [
    "'''Method 2: numpy'''\n",
    "def matrixTranspose2(m):\n",
    "    m = np.array(m, ndmin = 2)\n",
    "    return np.transpose(m)"
   ]
  },
  {
   "cell_type": "code",
   "execution_count": 20,
   "metadata": {},
   "outputs": [
    {
     "name": "stdout",
     "output_type": "stream",
     "text": [
      "test case 1\n",
      "[[0, 2, 4], [1, 3, 5]]\n",
      "[[0 2 4]\n",
      " [1 3 5]]\n",
      "\n",
      "test case 2\n",
      "[[0, 2, 4], [1, 3, 5], [2, 4, 6]]\n",
      "[[0 2 4]\n",
      " [1 3 5]\n",
      " [2 4 6]]\n",
      "\n",
      "test case 3\n",
      "[[0], [1], [2]]\n",
      "[[0]\n",
      " [1]\n",
      " [2]]\n",
      "\n",
      "test case 4\n",
      "[[0, 1, 2]]\n",
      "[[0 1 2]]\n"
     ]
    }
   ],
   "source": [
    "# Test cases 1\n",
    "e1 = [[0, 1], [2, 3], [4, 5]]\n",
    "# expected output: [[0, 2, 4], [1, 3, 5]]\n",
    "print('test case 1')\n",
    "print(matrixTranspose(e1))\n",
    "print(matrixTranspose2(e1))\n",
    "\n",
    "# Test case 2\n",
    "e2 = [[0, 1, 2], [2, 3, 4], [4, 5, 6]]\n",
    "# expected output: [[0, 2, 4], [1, 3, 5]]\n",
    "print('\\ntest case 2')\n",
    "print(matrixTranspose(e2))\n",
    "print(matrixTranspose2(e2))\n",
    "\n",
    "# Test case 3\n",
    "e3 = [0, 1, 2]\n",
    "# expected output: [[0], [1], [2]]\n",
    "print('\\ntest case 3')\n",
    "print(matrixTranspose(e3))\n",
    "print(matrixTranspose2(e3))\n",
    "\n",
    "# Test case 4\n",
    "e4 = [[0], [1], [2]]\n",
    "# expected output: [[0, 1, 2]]\n",
    "print('\\ntest case 4')\n",
    "print(matrixTranspose(e4))\n",
    "print(matrixTranspose2(e4))"
   ]
  },
  {
   "cell_type": "markdown",
   "metadata": {},
   "source": [
    "  "
   ]
  },
  {
   "cell_type": "markdown",
   "metadata": {},
   "source": [
    "**(f) NumPy Array**  \n",
    "  \n",
    "NumPy is a popular Python library that supports many mathematical functions. Instead of using *lists* to represent a matrix, a NumPy array is much more suitable.  \n",
    "  \n",
    "Similarly,  \n",
    "  \n",
    "the row matrix, \n",
    "$\\quad\n",
    "a=\n",
    "\\begin{bmatrix}\n",
    "0&1&2\\\\\n",
    "\\end{bmatrix}\n",
    "\\quad\n",
    "$\n",
    ", can be written as `a = np.array([0, 1, 2])`,  \n",
    "  \n",
    "the column matrix, \n",
    "$\\quad\n",
    "b=\n",
    "\\begin{bmatrix}\n",
    "3 \\\\\n",
    "4 \\\\\n",
    "5 \\\\\n",
    "\\end{bmatrix}\n",
    "\\quad\n",
    "$\n",
    ", can be written as `b = np.array([[3], [4], [5]])` and,  \n",
    "  \n",
    "the $3 \\times 2$ matrix,\n",
    "$\\quad\n",
    "m=\n",
    "\\begin{bmatrix}\n",
    "0&1 \\\\\n",
    "2&3 \\\\\n",
    "4&5 \\\\\n",
    "\\end{bmatrix}\n",
    "\\quad\n",
    "$\n",
    ", can be written as the nested list, `m = np.array([[0, 1], [2, 3], [4, 5]])`.  \n",
    "  \n",
    "For each of the matrix operations above, you are to find their equivalent functions within the NumPy module. You are to compare your results"
   ]
  },
  {
   "cell_type": "code",
   "execution_count": 21,
   "metadata": {},
   "outputs": [],
   "source": [
    "#refer to above"
   ]
  },
  {
   "cell_type": "markdown",
   "metadata": {},
   "source": [
    "---"
   ]
  },
  {
   "cell_type": "markdown",
   "metadata": {},
   "source": [
    "### Question 3  \n",
    "  \n",
    "**(a)**  In the linked list presented in the notes, each node maintains a reference to the node that is immediately after it. A **doubly linked list** is a linked list that references <u>both the node before and after it</u>. This provides a greater flexibility as compared to the standard linked list.\n",
    "\n",
    "![doubly linked list](https://i.ibb.co/ftMwyZt/Slide49.png)\n",
    "\n",
    "Complete the implementation of the doubly linked list class below. The class `Node` and the ` __init__()` method have been done for you."
   ]
  },
  {
   "cell_type": "code",
   "execution_count": 46,
   "metadata": {},
   "outputs": [],
   "source": [
    "class DoublyLinkedList:\n",
    "    \n",
    "    class Node:\n",
    "        def __init__(self, data, prev, next):\n",
    "            self.data = data\n",
    "            self.prev = prev\n",
    "            self.next = next\n",
    "            \n",
    "    def __init__(self):\n",
    "        self.head = self.Node(None, None, None)\n",
    "        self.tail = self.Node(None, None, None)\n",
    "        self.head.next = self.tail\n",
    "        self.tail.prev = self.head\n",
    "        self.size = 0\n",
    "        \n",
    "    # this will return the number of nodes in your linked list (aka length of the list)\n",
    "    def __len__(self):\n",
    "        # Implement your code here\n",
    "        return self.size\n",
    "    \n",
    "    # this will return a True if list is empty\n",
    "    def isEmpty(self):\n",
    "        # Implement your code here\n",
    "        return self.size == 0\n",
    "    \n",
    "    # this will insert a node between two existing nodes and return new node\n",
    "    def insert(self, newData, predecessor, successor):\n",
    "        # Implement your code here\n",
    "        newNode = self.Node(newData, predecessor, successor)\n",
    "        predecessor.next = newNode\n",
    "        successor.prev = newNode\n",
    "        self.size += 1\n",
    "        return newNode\n",
    "        \n",
    "    # deletes node and returns the deleted data, returns None if no such node exists\n",
    "    def deleteNode(self,node):\n",
    "        # Implement your code here\n",
    "        predecessor = node.prev\n",
    "        successor = node.next\n",
    "        predecessor.next = successor\n",
    "        successor.prev = predecessor\n",
    "        self.size -= 1\n",
    "        deletedData = node.data\n",
    "        node.prev = node.next = node.data = None\n",
    "        return deletedData\n",
    "        \n",
    "    \n",
    "    # prints list data from head to tail or prints \"list is empty\" if list is empty\n",
    "    def forwardPrint(self):\n",
    "        # Implement your code here\n",
    "        if self.isEmpty():\n",
    "            return \"list is empty\"\n",
    "        temp = self.head\n",
    "        while(temp):\n",
    "            print(temp.data)\n",
    "            temp = temp.next\n",
    "    \n",
    "    # prints list data from tail back to head or prints \"list is empty\" if list is empty\n",
    "    def reversePrint(self):\n",
    "        # Implement your code here\n",
    "        if self.isEmpty():\n",
    "            return \"list is empty\"\n",
    "        temp = self.tail\n",
    "        while(temp):\n",
    "            print(temp.data)\n",
    "            temp = temp.prev\n",
    "    "
   ]
  },
  {
   "cell_type": "markdown",
   "metadata": {},
   "source": [
    "  "
   ]
  },
  {
   "cell_type": "markdown",
   "metadata": {},
   "source": [
    "**(b)** You are to implement your own test cases to ensure that your doubly linked list class is implemented correctly."
   ]
  },
  {
   "cell_type": "code",
   "execution_count": 47,
   "metadata": {},
   "outputs": [],
   "source": [
    "# Do not modify this cell.\n",
    "# Run this before running the test cases below.\n",
    "dll = DoublyLinkedList()"
   ]
  },
  {
   "cell_type": "code",
   "execution_count": 48,
   "metadata": {},
   "outputs": [
    {
     "data": {
      "text/plain": [
       "True"
      ]
     },
     "execution_count": 48,
     "metadata": {},
     "output_type": "execute_result"
    }
   ],
   "source": [
    "# Test 1: verify that the list is empty; expected output: True\n",
    "# Implement your code here\n",
    "dll.isEmpty()"
   ]
  },
  {
   "cell_type": "code",
   "execution_count": 49,
   "metadata": {},
   "outputs": [
    {
     "data": {
      "text/plain": [
       "0"
      ]
     },
     "execution_count": 49,
     "metadata": {},
     "output_type": "execute_result"
    }
   ],
   "source": [
    "# Test 2: check the length of the list; expected output: 0\n",
    "# Implement your code here\n",
    "len(dll)"
   ]
  },
  {
   "cell_type": "code",
   "execution_count": 50,
   "metadata": {},
   "outputs": [
    {
     "data": {
      "text/plain": [
       "'list is empty'"
      ]
     },
     "execution_count": 50,
     "metadata": {},
     "output_type": "execute_result"
    }
   ],
   "source": [
    "# Test 3: print list; expected output: \"list is empty\"\n",
    "# Implement your code here\n",
    "dll.forwardPrint()"
   ]
  },
  {
   "cell_type": "code",
   "execution_count": 51,
   "metadata": {},
   "outputs": [
    {
     "data": {
      "text/plain": [
       "<__main__.DoublyLinkedList.Node at 0x129ee93f2e0>"
      ]
     },
     "execution_count": 51,
     "metadata": {},
     "output_type": "execute_result"
    }
   ],
   "source": [
    "# Test 4: Insert '2'\n",
    "# Implement your code here\n",
    "dll.insert(2, dll.head, dll.tail)"
   ]
  },
  {
   "cell_type": "code",
   "execution_count": 52,
   "metadata": {},
   "outputs": [
    {
     "data": {
      "text/plain": [
       "<__main__.DoublyLinkedList.Node at 0x129ee93f6d0>"
      ]
     },
     "execution_count": 52,
     "metadata": {},
     "output_type": "execute_result"
    }
   ],
   "source": [
    "# Test 5: Insert '3' at tail\n",
    "# Implement your code here\n",
    "dll.insert(3, dll.tail.prev, dll.tail)"
   ]
  },
  {
   "cell_type": "code",
   "execution_count": 53,
   "metadata": {},
   "outputs": [
    {
     "data": {
      "text/plain": [
       "<__main__.DoublyLinkedList.Node at 0x129ee96b820>"
      ]
     },
     "execution_count": 53,
     "metadata": {},
     "output_type": "execute_result"
    }
   ],
   "source": [
    "# Test 6: Insert '1' at head\n",
    "# Implement your code here\n",
    "dll.insert(1, dll.head, dll.head.next)"
   ]
  },
  {
   "cell_type": "code",
   "execution_count": 54,
   "metadata": {},
   "outputs": [
    {
     "data": {
      "text/plain": [
       "False"
      ]
     },
     "execution_count": 54,
     "metadata": {},
     "output_type": "execute_result"
    }
   ],
   "source": [
    "# Test 7: check if list is empty; expected output: False\n",
    "# Implement your code here\n",
    "dll.isEmpty()"
   ]
  },
  {
   "cell_type": "code",
   "execution_count": 55,
   "metadata": {},
   "outputs": [
    {
     "data": {
      "text/plain": [
       "3"
      ]
     },
     "execution_count": 55,
     "metadata": {},
     "output_type": "execute_result"
    }
   ],
   "source": [
    "# Test 8: verify the length of the list; expected output: 3\n",
    "# Implement your code here\n",
    "len(dll)"
   ]
  },
  {
   "cell_type": "code",
   "execution_count": 56,
   "metadata": {},
   "outputs": [
    {
     "name": "stdout",
     "output_type": "stream",
     "text": [
      "None\n",
      "1\n",
      "2\n",
      "3\n",
      "None\n"
     ]
    }
   ],
   "source": [
    "# Test 9: print list forwards; expected output: 1 2 3\n",
    "# Implement your code here\n",
    "dll.forwardPrint()"
   ]
  },
  {
   "cell_type": "code",
   "execution_count": 57,
   "metadata": {},
   "outputs": [
    {
     "data": {
      "text/plain": [
       "2"
      ]
     },
     "execution_count": 57,
     "metadata": {},
     "output_type": "execute_result"
    }
   ],
   "source": [
    "# Test 10: Delete '2'\n",
    "# Implement your code here\n",
    "dll.deleteNode(dll.head.next.next)"
   ]
  },
  {
   "cell_type": "code",
   "execution_count": 58,
   "metadata": {},
   "outputs": [
    {
     "data": {
      "text/plain": [
       "2"
      ]
     },
     "execution_count": 58,
     "metadata": {},
     "output_type": "execute_result"
    }
   ],
   "source": [
    "# Test 11: verify the length of the list; expected output: 2\n",
    "# Implement your code here\n",
    "len(dll)"
   ]
  },
  {
   "cell_type": "code",
   "execution_count": 59,
   "metadata": {},
   "outputs": [
    {
     "name": "stdout",
     "output_type": "stream",
     "text": [
      "None\n",
      "3\n",
      "1\n",
      "None\n"
     ]
    }
   ],
   "source": [
    "# Test 12: print list in reverse; expected output: 3 1\n",
    "# Implement your code here\n",
    "dll.reversePrint()"
   ]
  },
  {
   "cell_type": "code",
   "execution_count": 60,
   "metadata": {},
   "outputs": [
    {
     "data": {
      "text/plain": [
       "1"
      ]
     },
     "execution_count": 60,
     "metadata": {},
     "output_type": "execute_result"
    }
   ],
   "source": [
    "# Test 13: Delete '1'\n",
    "# Implement your code here\n",
    "dll.deleteNode(dll.head.next)"
   ]
  },
  {
   "cell_type": "code",
   "execution_count": 61,
   "metadata": {},
   "outputs": [
    {
     "data": {
      "text/plain": [
       "3"
      ]
     },
     "execution_count": 61,
     "metadata": {},
     "output_type": "execute_result"
    }
   ],
   "source": [
    "# Test 14: Delete '3'\n",
    "# Implement your code here\n",
    "dll.deleteNode(dll.head.next)"
   ]
  },
  {
   "cell_type": "code",
   "execution_count": 62,
   "metadata": {},
   "outputs": [
    {
     "ename": "AttributeError",
     "evalue": "'NoneType' object has no attribute 'prev'",
     "output_type": "error",
     "traceback": [
      "\u001b[1;31m------------------------------------------------------------------\u001b[0m",
      "\u001b[1;31mAttributeError\u001b[0m                   Traceback (most recent call last)",
      "\u001b[1;32m<ipython-input-62-c2335fc678ba>\u001b[0m in \u001b[0;36m<module>\u001b[1;34m\u001b[0m\n\u001b[0;32m      1\u001b[0m \u001b[1;31m# Test 15: Delete '4', expected output: None\u001b[0m\u001b[1;33m\u001b[0m\u001b[1;33m\u001b[0m\u001b[1;33m\u001b[0m\u001b[0m\n\u001b[0;32m      2\u001b[0m \u001b[1;31m# Implement your code here\u001b[0m\u001b[1;33m\u001b[0m\u001b[1;33m\u001b[0m\u001b[1;33m\u001b[0m\u001b[0m\n\u001b[1;32m----> 3\u001b[1;33m \u001b[0mdll\u001b[0m\u001b[1;33m.\u001b[0m\u001b[0mdeleteNode\u001b[0m\u001b[1;33m(\u001b[0m\u001b[0mdll\u001b[0m\u001b[1;33m.\u001b[0m\u001b[0mhead\u001b[0m\u001b[1;33m.\u001b[0m\u001b[0mnext\u001b[0m\u001b[1;33m)\u001b[0m\u001b[1;33m\u001b[0m\u001b[1;33m\u001b[0m\u001b[0m\n\u001b[0m",
      "\u001b[1;32m<ipython-input-46-533dab27739f>\u001b[0m in \u001b[0;36mdeleteNode\u001b[1;34m(self, node)\u001b[0m\n\u001b[0;32m     39\u001b[0m         \u001b[0msuccessor\u001b[0m \u001b[1;33m=\u001b[0m \u001b[0mnode\u001b[0m\u001b[1;33m.\u001b[0m\u001b[0mnext\u001b[0m\u001b[1;33m\u001b[0m\u001b[1;33m\u001b[0m\u001b[0m\n\u001b[0;32m     40\u001b[0m         \u001b[0mpredecessor\u001b[0m\u001b[1;33m.\u001b[0m\u001b[0mnext\u001b[0m \u001b[1;33m=\u001b[0m \u001b[0msuccessor\u001b[0m\u001b[1;33m\u001b[0m\u001b[1;33m\u001b[0m\u001b[0m\n\u001b[1;32m---> 41\u001b[1;33m         \u001b[0msuccessor\u001b[0m\u001b[1;33m.\u001b[0m\u001b[0mprev\u001b[0m \u001b[1;33m=\u001b[0m \u001b[0mpredecessor\u001b[0m\u001b[1;33m\u001b[0m\u001b[1;33m\u001b[0m\u001b[0m\n\u001b[0m\u001b[0;32m     42\u001b[0m         \u001b[0mself\u001b[0m\u001b[1;33m.\u001b[0m\u001b[0msize\u001b[0m \u001b[1;33m-=\u001b[0m \u001b[1;36m1\u001b[0m\u001b[1;33m\u001b[0m\u001b[1;33m\u001b[0m\u001b[0m\n\u001b[0;32m     43\u001b[0m         \u001b[0mdeletedData\u001b[0m \u001b[1;33m=\u001b[0m \u001b[0mnode\u001b[0m\u001b[1;33m.\u001b[0m\u001b[0mdata\u001b[0m\u001b[1;33m\u001b[0m\u001b[1;33m\u001b[0m\u001b[0m\n",
      "\u001b[1;31mAttributeError\u001b[0m: 'NoneType' object has no attribute 'prev'"
     ]
    }
   ],
   "source": [
    "# Test 15: Delete '4', expected output: Error\n",
    "# Implement your code here\n",
    "dll.deleteNode(dll.head.next)"
   ]
  },
  {
   "cell_type": "code",
   "execution_count": 66,
   "metadata": {},
   "outputs": [
    {
     "name": "stdout",
     "output_type": "stream",
     "text": [
      "True\n",
      "0\n",
      "list is empty\n"
     ]
    }
   ],
   "source": [
    "# Test 16: Repeat Tests #1, #2, #3. You can copy code here.\n",
    "# Implement your code here\n",
    "print(dll.isEmpty(), len(dll), dll.forwardPrint(), sep = '\\n')"
   ]
  },
  {
   "cell_type": "markdown",
   "metadata": {},
   "source": [
    "  "
   ]
  },
  {
   "cell_type": "markdown",
   "metadata": {},
   "source": [
    "**(c)** Write a function `listToDLL` that takes a list and returns a doubly linked list."
   ]
  },
  {
   "cell_type": "code",
   "execution_count": 71,
   "metadata": {},
   "outputs": [],
   "source": [
    "def listToDLL(listDLL):\n",
    "    # implement your code here\n",
    "    dll = DoublyLinkedList()\n",
    "    while listDLL!=[]:\n",
    "        dll.insert(listDLL.pop(), dll.head, dll.head.next)\n",
    "    return dll"
   ]
  },
  {
   "cell_type": "code",
   "execution_count": 72,
   "metadata": {},
   "outputs": [
    {
     "name": "stdout",
     "output_type": "stream",
     "text": [
      "None\n",
      "1\n",
      "2\n",
      "3\n",
      "None\n"
     ]
    }
   ],
   "source": [
    "# Run this cell to test your code\n",
    "myList = [1, 2, 3]\n",
    "dll2 = listToDLL(myList) \n",
    "dll2.forwardPrint() # expected output: 1 2 3; dll2 can also be tested with the test cases in (b)"
   ]
  },
  {
   "cell_type": "markdown",
   "metadata": {},
   "source": [
    "  "
   ]
  }
 ],
 "metadata": {
  "kernelspec": {
   "display_name": "Python 3",
   "language": "python",
   "name": "python3"
  },
  "language_info": {
   "codemirror_mode": {
    "name": "ipython",
    "version": 3
   },
   "file_extension": ".py",
   "mimetype": "text/x-python",
   "name": "python",
   "nbconvert_exporter": "python",
   "pygments_lexer": "ipython3",
   "version": "3.7.7"
  }
 },
 "nbformat": 4,
 "nbformat_minor": 4
}
