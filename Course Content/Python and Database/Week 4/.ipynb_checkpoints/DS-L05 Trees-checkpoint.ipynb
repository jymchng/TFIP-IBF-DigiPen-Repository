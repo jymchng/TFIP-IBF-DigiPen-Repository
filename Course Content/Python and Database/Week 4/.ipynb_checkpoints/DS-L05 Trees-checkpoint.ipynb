{
 "cells": [
  {
   "cell_type": "markdown",
   "metadata": {},
   "source": [
    "# Fundamental Data Structures and Algorithms 05 - Trees"
   ]
  },
  {
   "cell_type": "markdown",
   "metadata": {},
   "source": [
    "## Unit 3: Basic Data Structures (continued)\n",
    "---"
   ]
  },
  {
   "cell_type": "markdown",
   "metadata": {},
   "source": [
    "### Objective\n",
    "\n",
    "- Introduce the tree data structure\n",
    " - Binary Search Tree\n",
    " - AVL Tree\n",
    "---"
   ]
  },
  {
   "cell_type": "markdown",
   "metadata": {},
   "source": [
    "### Recap\n",
    "> What is a *linked list*?"
   ]
  },
  {
   "cell_type": "markdown",
   "metadata": {},
   "source": [
    "![linked_list](https://i.ibb.co/gzXZfrm/Slide7.png)"
   ]
  },
  {
   "cell_type": "markdown",
   "metadata": {},
   "source": [
    "---"
   ]
  },
  {
   "cell_type": "markdown",
   "metadata": {},
   "source": [
    "## Trees\n",
    "\n",
    "Trees in nature  \n",
    "![image.png](https://i.ibb.co/vhgTqHH/trees-01b.png)\n",
    "\n",
    "Trees in computers  \n",
    "![image.png](https://i.ibb.co/JpkZqRB/trees-01b.png)\n",
    "\n",
    "The *tree* basically resembles a family tree: parent and child  \n",
    "![Family Tree](https://i.ibb.co/PMYYJr9/Slide15.png)"
   ]
  },
  {
   "cell_type": "markdown",
   "metadata": {},
   "source": [
    "---"
   ]
  },
  {
   "cell_type": "markdown",
   "metadata": {},
   "source": [
    "## Tree Structures and Terminologies\n",
    "\n",
    "- with the exception of the first node, each node has a ***parent*** node and zero or more ***child*** nodes\n",
    "- think of linked list but have multiple `next`'s\n",
    "- In this course, at most 2 child nodes: ***left*** child and ***right** child\n",
    " - Such trees are called ***binary trees***"
   ]
  },
  {
   "cell_type": "markdown",
   "metadata": {},
   "source": [
    "![Tree_structures_and_terminologies](https://i.ibb.co/6ZrNLN6/Slide16.png)"
   ]
  },
  {
   "cell_type": "markdown",
   "metadata": {},
   "source": [
    "- Top node is also known as the ***root***\n",
    " - used as an 'access point' into the tree data structure"
   ]
  },
  {
   "cell_type": "raw",
   "metadata": {},
   "source": [
    "Identify the root node\n",
    "Tree 1:  A\n",
    "Tree 2:  K"
   ]
  },
  {
   "cell_type": "markdown",
   "metadata": {},
   "source": [
    "  "
   ]
  },
  {
   "cell_type": "markdown",
   "metadata": {},
   "source": [
    "- Each node can be the root of its own ***subtree***\n",
    " - Therefore, trees are recursive"
   ]
  },
  {
   "cell_type": "raw",
   "metadata": {},
   "source": [
    "Examples of a subtree\n",
    "Tree 1:  C, F, G, I, J and K where C is the root node of the subtree\n",
    "Tree 2:  M, N and O where M is the root node of the subtree"
   ]
  },
  {
   "cell_type": "markdown",
   "metadata": {},
   "source": [
    "  "
   ]
  },
  {
   "cell_type": "markdown",
   "metadata": {},
   "source": [
    "- A node is ***external*** if it has no children\n",
    " - also refered to as a ***leaf*** node\n",
    "- A node is ***internal*** if it has one or more children"
   ]
  },
  {
   "cell_type": "raw",
   "metadata": {},
   "source": [
    "Identify the leaf nodes:\n",
    "Tree 1: D, H, F, I, J\n",
    "Tree 2: O"
   ]
  },
  {
   "cell_type": "raw",
   "metadata": {},
   "source": [
    "Identify the internal nodes:\n",
    "Answer: (Every other node not mentioned above)"
   ]
  },
  {
   "cell_type": "markdown",
   "metadata": {},
   "source": [
    "  "
   ]
  },
  {
   "cell_type": "markdown",
   "metadata": {},
   "source": [
    "- an ***edge*** of a tree is a pair of ndoes such that the pair have a parent-child relationship.\n",
    "- a ***path*** is a sequence of nodes such that any two consecutive nodes in the sequence form an edge"
   ]
  },
  {
   "cell_type": "raw",
   "metadata": {},
   "source": [
    "Identify the nodes that form a path from node K to node O:\n",
    "K->L->M->N->O\n",
    "\n",
    "Identify the nodes that form a path from node I to node J:\n",
    "Is I->G->J correct?\n",
    "Generally speaking, a node only contains references to its children, but does not contain a reference to its parent. Since there is no reference from I->G, there is no path from I to J."
   ]
  },
  {
   "cell_type": "markdown",
   "metadata": {},
   "source": [
    "  "
   ]
  },
  {
   "cell_type": "markdown",
   "metadata": {},
   "source": [
    "- nodes in a tree are categorized into ***levels***\n",
    " - root node of the entire tree is at level 0\n",
    "- depth of a tree is the distance from the root, the distance being the number of levels that separate the two"
   ]
  },
  {
   "cell_type": "raw",
   "metadata": {},
   "source": [
    "What is the depth of..\n",
    "Node C: 1\n",
    "Node N: 3"
   ]
  },
  {
   "cell_type": "markdown",
   "metadata": {},
   "source": [
    "  "
   ]
  },
  {
   "cell_type": "markdown",
   "metadata": {},
   "source": [
    "- the ***height*** of a tree is the number of levels in the tree"
   ]
  },
  {
   "cell_type": "raw",
   "metadata": {},
   "source": [
    "Height\n",
    "Tree 1: 3\n",
    "Tree 2: 4"
   ]
  },
  {
   "cell_type": "markdown",
   "metadata": {},
   "source": [
    "  "
   ]
  },
  {
   "cell_type": "markdown",
   "metadata": {},
   "source": [
    "- the ***width*** of a tree is the number of nodes on the level containing the most nodes"
   ]
  },
  {
   "cell_type": "raw",
   "metadata": {},
   "source": [
    "Width\n",
    "Tree 1: 4\n",
    "Tree 2: 1"
   ]
  },
  {
   "cell_type": "markdown",
   "metadata": {},
   "source": [
    "  "
   ]
  },
  {
   "cell_type": "markdown",
   "metadata": {},
   "source": [
    "- the ***size*** of a tree is the number of nodes within the tree"
   ]
  },
  {
   "cell_type": "raw",
   "metadata": {},
   "source": [
    "Size\n",
    "Tree 1: 10\n",
    "Tree 2: 5"
   ]
  },
  {
   "cell_type": "markdown",
   "metadata": {},
   "source": [
    "  "
   ]
  },
  {
   "cell_type": "markdown",
   "metadata": {},
   "source": [
    "- ***empty tree*** has a height, width and size equal to 0"
   ]
  },
  {
   "cell_type": "markdown",
   "metadata": {},
   "source": [
    "---"
   ]
  },
  {
   "cell_type": "markdown",
   "metadata": {},
   "source": [
    "### Types of Binary Trees\n",
    "\n",
    "- A ***full / proper*** binary tree is when each node has either 0 or 2 children.\n",
    "\n",
    "- A ***complete*** binary tree is a binary tree where every level, except possibly the last, is completely filled and all nodes in the last level are as far left as possible.\n",
    "\n",
    "- A ***perfect*** binary tree is a full binary tree in which all leaf nodes are at the same level. The perfect tree has all possible node slots filled from top to bottom with no gaps\n",
    "\n",
    "![Full_and_Complete_Binary_Trees](https://i.ibb.co/CbS0My4/Slide17.png)\n",
    "\n",
    "Tree 1 is a full binary tree but it is not proper as the the leaf nodes are not left aligned. Tree 2 is an not a full binary tree but it is a complete binary tree."
   ]
  },
  {
   "cell_type": "markdown",
   "metadata": {},
   "source": [
    "---"
   ]
  },
  {
   "cell_type": "markdown",
   "metadata": {},
   "source": [
    "## Binary Search Tree\n",
    "\n",
    "A binary search tree (BST) is an ordered binary tree with the following properties:\n",
    "1. Every node has <u>at most two children</u>.\n",
    "2. Most importantly, <u>the left child precedes a right child in the order of children of a node.</u> This also means that a binary search tree should never contain duplicate nodes."
   ]
  },
  {
   "cell_type": "markdown",
   "metadata": {},
   "source": [
    "**Binary Search Tree Implementation**"
   ]
  },
  {
   "cell_type": "code",
   "execution_count": 2,
   "metadata": {
    "ExecuteTime": {
     "end_time": "2020-11-20T01:18:19.301520Z",
     "start_time": "2020-11-20T01:18:19.291482Z"
    }
   },
   "outputs": [],
   "source": [
    "class Node: \n",
    "    def __init__(self, key): \n",
    "        self.left = None\n",
    "        self.right = None\n",
    "        self.val = key \n",
    "  \n",
    "    # A utility function to insert a new node with the given key \n",
    "def insert(root, key): \n",
    "    if root is None: \n",
    "        return Node(key) # This becomes the root node as Node(key), i.e. constructor is called.\n",
    "    else: \n",
    "        if root.val == key: \n",
    "            return root \n",
    "        elif root.val < key: \n",
    "            root.right = insert(root.right, key) \n",
    "        else: \n",
    "            root.left = insert(root.left, key) \n",
    "    return root \n",
    "        \n",
    "# A function to do inorder tree traversal \n",
    "def printInorder(root): \n",
    "    if root: \n",
    "        # First recur on left child \n",
    "        printInorder(root.left) \n",
    "  \n",
    "        # then print the data of node \n",
    "        print(root.val), \n",
    "  \n",
    "        # now recur on right child \n",
    "        printInorder(root.right) \n",
    "        \n",
    "# A function to do postorder tree traversal \n",
    "def printPostorder(root): \n",
    "    if root: \n",
    "        # First recur on left child \n",
    "        printPostorder(root.left) \n",
    "  \n",
    "        # the recur on right child \n",
    "        printPostorder(root.right) \n",
    "  \n",
    "        # now print the data of node \n",
    "        print(root.val), \n",
    "  \n",
    "  \n",
    "# A function to do preorder tree traversal \n",
    "def printPreorder(root):   \n",
    "    if root: \n",
    "        # First print the data of node \n",
    "        print(root.val), \n",
    "  \n",
    "        # Then recur on left child \n",
    "        printPreorder(root.left) \n",
    "  \n",
    "        # Finally recur on right child \n",
    "        printPreorder(root.right) \n",
    "        \n",
    "# A utility function to search a given key in BST \n",
    "def search(root,key):   \n",
    "   \n",
    "    # Base Cases: root is null\n",
    "    if root is None:\n",
    "        print(f\"Element {key} does not exist\")\n",
    "   \n",
    "    # key is present at root  \n",
    "    elif root.val == key:\n",
    "        print(f\"Element {root.val} found in the Tree\")\n",
    "        return True\n",
    "   \n",
    "    # Key is greater than root's key\n",
    "    elif root.val < key:\n",
    "        return search(root.right,key)\n",
    "   \n",
    "    # Key is smaller than root's key\n",
    "    elif root.val > key:\n",
    "        return search(root.left,key)\n",
    "   \n",
    "    #key is not present\n",
    "    else:\n",
    "        print(\"Element not found in Tree\")\n",
    "        return False"
   ]
  },
  {
   "cell_type": "markdown",
   "metadata": {},
   "source": [
    "![Binary_Search_Tree](https://i.ibb.co/nc3rXsd/Slide18.png)\n",
    "\n",
    "\n",
    "To create the same structure as shown above, we can do the following:"
   ]
  },
  {
   "cell_type": "code",
   "execution_count": 3,
   "metadata": {
    "ExecuteTime": {
     "end_time": "2020-11-20T01:18:20.396523Z",
     "start_time": "2020-11-20T01:18:20.385554Z"
    }
   },
   "outputs": [
    {
     "data": {
      "text/plain": [
       "<__main__.Node at 0x1c58718fe08>"
      ]
     },
     "execution_count": 3,
     "metadata": {},
     "output_type": "execute_result"
    }
   ],
   "source": [
    "r = Node(8) \n",
    "insert(r, 3) \n",
    "insert(r, 10) \n",
    "insert(r, 1) \n",
    "insert(r, 6) \n",
    "insert(r, 9) \n",
    "insert(r, 12)\n",
    "insert(r, 4)\n",
    "insert(r, 7)\n",
    "insert(r, 11)\n",
    "insert(r, 14) "
   ]
  },
  {
   "cell_type": "markdown",
   "metadata": {},
   "source": [
    "---"
   ]
  },
  {
   "attachments": {
    "image.png": {
     "image/png": "[encoded data removed]"
    }
   },
   "cell_type": "markdown",
   "metadata": {},
   "source": [
    "**Tree Traversal**\n",
    "\n",
    "- a *traversal* of a tree is a systematic way of accessing, or \"visiting\", all the nodes of the tree.\n",
    "\n",
    "![image.png](attachment:image.png)\n",
    "\n",
    "#### Depth First Traversals:\n",
    "\n",
    "(a) Inorder (Left, Root, Right) : 4 2 5 1 3<br> <mark>IN</mark>: <mark>Root</mark> is printed <mark>IN</mark>-between left and right.<br>\n",
    "(b) Preorder (Root, Left, Right) : 1 2 4 5 3<br> <mark>PRE</mark>: <mark>Root</mark> is printed <mark>PRE</mark> of left and right.<br>\n",
    "(c) Postorder (Left, Right, Root) : 4 5 2 3 1<br> <mark>POST</mark>: <mark>Root</mark> is printed <mark>POST</mark> of left and right.<br>\n",
    "\n",
    "To traverse a tree <u>inorder, you print the left tree, then the root, and then the right tree.</u> To verify we can print the BST by invoking `printInorder(root)` method. This is one of the three tree traversals methods.\n",
    "\n",
    "1. *Inorder* traversals of a BST will always give nodes in a sorted (ascending) order. "
   ]
  },
  {
   "cell_type": "code",
   "execution_count": 4,
   "metadata": {
    "ExecuteTime": {
     "end_time": "2020-11-20T01:18:22.934730Z",
     "start_time": "2020-11-20T01:18:22.927750Z"
    }
   },
   "outputs": [
    {
     "name": "stdout",
     "output_type": "stream",
     "text": [
      "\n",
      "Inorder traversal of binary tree is\n",
      "1\n",
      "3\n",
      "4\n",
      "6\n",
      "7\n",
      "8\n",
      "9\n",
      "10\n",
      "11\n",
      "12\n",
      "14\n"
     ]
    }
   ],
   "source": [
    "print(\"\\nInorder traversal of binary tree is\")\n",
    "printInorder(r)"
   ]
  },
  {
   "cell_type": "markdown",
   "metadata": {},
   "source": [
    "  "
   ]
  },
  {
   "cell_type": "markdown",
   "metadata": {},
   "source": [
    "What about `postOrder` and `preOrder`?\n",
    "It may seem like it is merely printing the nodes in different orders but there are several use cases. You may think of the print function as a placeholder for other things i.e. it can be replaced by other functions depending on the application."
   ]
  },
  {
   "cell_type": "markdown",
   "metadata": {},
   "source": [
    "2. One of the use cases for the *preorder* traversal is that it is typically used to create a copy of the BST. If we were to invoke `printPreOrder(root)`, you will see that the order at which the nodes are printed can be used to create a copy of the BST <u>because the contents of the root appear before the contents of the children</u>.\n",
    "\n",
    "Another interesting use case of a *preorder* traversal is used in this notes - in particular, accessing chapters or sub-chapter of a book or document."
   ]
  },
  {
   "cell_type": "markdown",
   "metadata": {},
   "source": [
    "![preorder_traversal](https://i.ibb.co/pQk5LJN/Slide25.png)"
   ]
  },
  {
   "cell_type": "code",
   "execution_count": 5,
   "metadata": {
    "ExecuteTime": {
     "end_time": "2020-11-20T01:19:18.373443Z",
     "start_time": "2020-11-20T01:19:18.370432Z"
    }
   },
   "outputs": [
    {
     "name": "stdout",
     "output_type": "stream",
     "text": [
      "Preorder traversal of binary tree is\n",
      "8\n",
      "3\n",
      "1\n",
      "6\n",
      "4\n",
      "7\n",
      "10\n",
      "9\n",
      "12\n",
      "11\n",
      "14\n"
     ]
    }
   ],
   "source": [
    "print(\"Preorder traversal of binary tree is\")\n",
    "printPreorder(r) "
   ]
  },
  {
   "cell_type": "markdown",
   "metadata": {},
   "source": [
    "  "
   ]
  },
  {
   "cell_type": "markdown",
   "metadata": {},
   "source": [
    "3. On the other hand, *postorder* traversal is typically used to delete the tree. <u>If you print the subtrees first and then the root node, you get the order of traversal which is called postorder.</u>"
   ]
  },
  {
   "cell_type": "code",
   "execution_count": 6,
   "metadata": {
    "ExecuteTime": {
     "end_time": "2020-11-20T01:37:01.071704Z",
     "start_time": "2020-11-20T01:37:01.066719Z"
    }
   },
   "outputs": [
    {
     "name": "stdout",
     "output_type": "stream",
     "text": [
      "\n",
      "Postorder traversal of binary tree is\n",
      "1\n",
      "4\n",
      "7\n",
      "6\n",
      "3\n",
      "9\n",
      "11\n",
      "14\n",
      "12\n",
      "10\n",
      "8\n"
     ]
    }
   ],
   "source": [
    "print(\"\\nPostorder traversal of binary tree is\")\n",
    "printPostorder(r) "
   ]
  },
  {
   "cell_type": "markdown",
   "metadata": {},
   "source": [
    "If we follow the nodes listed above we can see that the nodes being called, are all leaf nodes, which can be deleted without affecting the other parts of the tree. However, this is form of deletion is only applicable if the nodes we intend to delete are leaf nodes. To remove interior nodes, we have to consider a different approach. This will be left as an exercise for readers."
   ]
  },
  {
   "cell_type": "markdown",
   "metadata": {},
   "source": [
    "---"
   ]
  },
  {
   "cell_type": "markdown",
   "metadata": {},
   "source": [
    "**Search, Minimum and Maximum Values**"
   ]
  },
  {
   "cell_type": "markdown",
   "metadata": {},
   "source": [
    "Binary search trees are particularly useful for searching items. Searching in a BST follows a very simple rules:  \n",
    "1. Start from the root node.\n",
    "2. If target node < root node, search the left subtree.\n",
    "3. If target node > root node, search the right subtree.\n",
    "In fact, this can be seen in the `insert()` method."
   ]
  },
  {
   "cell_type": "markdown",
   "metadata": {},
   "source": [
    "**Example:** \n",
    "\n",
    "![Binary_Search_Tree](https://i.ibb.co/nc3rXsd/Slide18.png)\n",
    "\n",
    "<u>Search for Node 11</u>  \n",
    "We simply have to compare the node we are visiting with node $11$:\n",
    "- moving to the right subtree if node $11$ is greater than the visited node or left subtree if is lesser than the visited node. \n",
    "  - Using this simple algorithm, we can see that we will visit the root node $8$, then node $10$, and then node $12$ before finally reaching the targeted node $11$."
   ]
  },
  {
   "cell_type": "code",
   "execution_count": null,
   "metadata": {},
   "outputs": [],
   "source": [
    "search(r, 11)"
   ]
  },
  {
   "cell_type": "markdown",
   "metadata": {},
   "source": [
    "<u>Search for Node 5</u>\n",
    "- Starting from the root node, we move the left child (since $5$ is smaller than $8$) which is node $3$.\n",
    "- We then repeat the comparison process by visiting node $6$ and finally node $4$.\n",
    "- However, since node $5$ is greater than node $4$, we expect node $5$ to be the right child of node $4$ but we find that node $4$ is a leaf node thus we can return a *node not found* message or an error."
   ]
  },
  {
   "cell_type": "code",
   "execution_count": null,
   "metadata": {},
   "outputs": [],
   "source": [
    "search(r,5)"
   ]
  },
  {
   "cell_type": "markdown",
   "metadata": {},
   "source": [
    "Based on the same algorithm, we can easily find the minimum and maximum values contained in the BST. To reach the minimum value, all we have to do is just recursively visit the left subtree until a leaf node is reached and thus we can ignore step 3 entirely. The maximum value can also be found in a similar fashion. "
   ]
  },
  {
   "cell_type": "code",
   "execution_count": null,
   "metadata": {},
   "outputs": [],
   "source": [
    "def minValue(root): \n",
    "     \n",
    "    # loop down to find the lefmost leaf \n",
    "    while(root.left is not None): \n",
    "        root = root.left \n",
    "  \n",
    "    return root.val \n",
    "\n",
    "minValue(r)"
   ]
  },
  {
   "cell_type": "code",
   "execution_count": null,
   "metadata": {},
   "outputs": [],
   "source": [
    "def maxValue(root): \n",
    "    # loop down to find the lefmost leaf \n",
    "    while(root.right is not None): \n",
    "        root = root.right\n",
    "  \n",
    "    return root.val \n",
    "\n",
    "maxValue(r)"
   ]
  },
  {
   "cell_type": "markdown",
   "metadata": {},
   "source": [
    "---"
   ]
  },
  {
   "cell_type": "markdown",
   "metadata": {},
   "source": [
    "## Efficiency of Binary Search Trees\n",
    "\n",
    "- Assume tree contains *n* nodes.\n",
    "- In searching a target node, the function starts at the root node and works its way down into the tree until either the node is located or a null link is encountered. \n",
    "- The worst case time for the search operation depends on the number of nodes  $n$ that have to be examined. Think of Tree made up of only single children (linked list)\n",
    "- Similar argument for insertion and traversal\n",
    "- Therefore, each operation in BST has a time complexity of O(n)\n",
    "\n",
    "*Class Discussion*\n",
    "> So what's the point of BST?"
   ]
  },
  {
   "cell_type": "markdown",
   "metadata": {},
   "source": [
    "Answer:  \n",
    "BST is only useful if the tree is <u>balanced</u>."
   ]
  },
  {
   "cell_type": "markdown",
   "metadata": {},
   "source": [
    "---"
   ]
  },
  {
   "cell_type": "markdown",
   "metadata": {},
   "source": [
    "## AVL Tree\n",
    "\n",
    "- As mentioned, worst case for each operation in BST is O(n) (linked list)\n",
    "- However, best case for BST is O($\\log{n}$) (balance tree)\n",
    "- How can we achieve this?\n",
    " - Answer: build a BST with height equals to $\\log{n}$)\n",
    " - Next question is How?\n",
    " - Solution: AVL tree \n",
    " \n",
    "AVL refers to the inventors:\n",
    "- Adel'son-Verlskii, G. M.\n",
    "- Landis, Y. M.\n",
    "\n",
    "What is AVL tree?\n",
    "- an improved version of BST\n",
    "- always generate a tree is height balanced\n",
    "- this significantly improves the efficiency of operations on the tree\n",
    "\n",
    "*Recall*\n",
    "> What is considered a **balanced** tree?  \n",
    "<u>Answer: If the heights of left and the right subtrees of every node differ by at most 1</u>"
   ]
  },
  {
   "cell_type": "markdown",
   "metadata": {},
   "source": [
    "**Balance Factor**\n",
    "- indicates the height difference between left and right sub-trees\n",
    "- the BF can be one of three states:\n",
    " 1. left high - When the left subtree is higher than the right subtree.\n",
    " 2. equal high - When the two subtrees have equal height.\n",
    " 3. right high - When the right subtree is higher than the left subtree.  "
   ]
  },
  {
   "cell_type": "markdown",
   "metadata": {},
   "source": [
    "- BF illustrated by the following symbols:\n",
    " - $>$ for left high state\n",
    " - $=$ for the equal high state\n",
    " - $<$ for a right high state.\n",
    " - When a node is out of balance, we will use either $<<$ or $>>$ to indicate which subtree is higher."
   ]
  },
  {
   "cell_type": "markdown",
   "metadata": {},
   "source": [
    "---  "
   ]
  },
  {
   "cell_type": "markdown",
   "metadata": {},
   "source": [
    "## Efficiency of AVL Trees\n",
    "\n",
    "- The search and traversal operations are the same with an AVL tree as with a binary search tree i.e. O($n$)\n",
    "- The insertion and deletion operations have to be modified in order to maintain the balance property of the tree as new nodes are inserted and existing ones removed. - By maintaining a balanced tree, we ensure its height never exceeds O($\\log{n}$) time operations even in the worst case."
   ]
  },
  {
   "cell_type": "markdown",
   "metadata": {},
   "source": [
    "---"
   ]
  },
  {
   "cell_type": "markdown",
   "metadata": {},
   "source": [
    "**Insertions**\n",
    "\n",
    "- begins with same process used as BST\n",
    " - search for the new node in the tree\n",
    " - add node where we 'fall off' the tree (i.e. reached leaf node)\n",
    "- difference is in after insertion\n",
    " - must check if tree is balance after insertion\n",
    " - if unbalanced, have to rebalance"
   ]
  },
  {
   "cell_type": "markdown",
   "metadata": {},
   "source": [
    "**Example 1:**  \n",
    "![AVL_insertion](https://i.ibb.co/D1ZZrcq/Slide27.png)  \n",
    "\n",
    "- Inserting node 120 to tree (a)\n",
    "- Figure shows a simple insertion into an AVL tree: (a) original; and (b) with node 120 inserted.\n",
    "- tree remains balanced since the insertion does not change the height of any subtree\n",
    "- does cause a change in the balance factors\n",
    "- After the node is inserted, the balance factors have to be adjusted in order to determine if any subtree is out of balance.\n",
    "- There is a limited set of nodes that can be affected when a new node is added. This set is limited to the nodes along the path to the insertion point.\n",
    "- Tree (b) also shows the new balance factors after node 120 is added."
   ]
  },
  {
   "cell_type": "markdown",
   "metadata": {},
   "source": [
    "  "
   ]
  },
  {
   "cell_type": "markdown",
   "metadata": {},
   "source": [
    "**Example 2:**  \n",
    "![AVL_insertion_unbalance](https://i.ibb.co/tLffwqR/Slide28.png)\n",
    "\n",
    "- Inserting node 28 to tree (b)\n",
    "- new node is inserted as the left child of node 30\n",
    "- When the balance factors are recalculated, we can see all of the subtrees along the path that are above node 30 are now out of balance\n",
    "- correct the imbalance by *rotating* the subtree rooted at node 35. "
   ]
  },
  {
   "cell_type": "markdown",
   "metadata": {},
   "source": [
    "---"
   ]
  },
  {
   "cell_type": "markdown",
   "metadata": {},
   "source": [
    "**Rotations**\n",
    "\n",
    "- Any binary search tree containing at least two nodes can be drawn in one of the two forms:  \n",
    "\n",
    "![tree rotations](https://i.ibb.co/V2LxKxf/Slide26.png)\n",
    "\n",
    "- B and D are the required two nodes to be rotated\n",
    "- A, C and E are binary search sub-trees (any of which may be empty)\n",
    "- any nodes in sub-tree A would simply be shifted up the tree by a right rotation, and any nodes in sub-tree E would simply be shifted up the tree by a left rotation."
   ]
  },
  {
   "cell_type": "markdown",
   "metadata": {},
   "source": [
    " - Multiple subtrees can become unbalanced after inserting a new node, all of which have roots along the insertion path. \n",
    "  - But only one will have to be rebalanced: the one deepest in the tree and closest to the new node.\n",
    " - After inserting the node, the balance factors are adjusted during the unwinding of the recursion.\n",
    " - The first subtree encountered that is out of balance has to be rebalanced.\n",
    " - The root node of this subtree is known as the *pivot node*.\n",
    " - An AVL subtree is rebalanced by performing a rotation around the pivot node.\n",
    " - This involves rearranging the links of the pivot node, its children, and possibly one of its grandchildren\n",
    " - The actual modifications depend on which descendant's subtree of the pivot node the new node was inserted into and the balance factors.\n",
    "\n",
    "There are 4 possible cases:"
   ]
  },
  {
   "cell_type": "markdown",
   "metadata": {},
   "source": [
    "---"
   ]
  },
  {
   "cell_type": "markdown",
   "metadata": {},
   "source": [
    "**Case 1**\n",
    "\n",
    "- occurs when the balance factor of the pivot node (P) is left high before the insertion and the new node is inserted into the left child (C) of the pivot node.\n",
    "\n",
    "![tree_rotations_case_1](https://i.ibb.co/BLj6Fq8/Slide29.png)\n",
    "\n",
    "- To rebalance the subtree, the pivot node has to be rotated right over its left child.\n",
    "- The rotation is accomplished by changing the links such that P becomes the right child of C and the right child of C becomes the left child of P."
   ]
  },
  {
   "cell_type": "markdown",
   "metadata": {},
   "source": [
    "---"
   ]
  },
  {
   "cell_type": "markdown",
   "metadata": {},
   "source": [
    "**Case 2**\n",
    "\n",
    "- involves three nodes: the pivot (P), the left child of the pivot (C), and the right grandchild (G) of P\n",
    "- For this case to occur, the balance factor of the pivot is left high before the insertion and the new node is inserted into either the right subtree of C\n",
    "\n",
    "![tree_rotations_case_2](https://i.ibb.co/PZ26Bhv/Slide30.png)\n",
    "\n",
    "- Node C has to be rotated left and the pivot node has to be rotated right.\n",
    "- The link modifications required to accomplish this rotation include\n",
    " - setting the right child of G as the new left child of the pivot node,\n",
    " - changing the left child of G to become the right child of C, and\n",
    " - setting C to be the new left child of G."
   ]
  },
  {
   "cell_type": "markdown",
   "metadata": {},
   "source": [
    "---"
   ]
  },
  {
   "cell_type": "markdown",
   "metadata": {},
   "source": [
    "**Case 3 and 4**\n",
    "\n",
    "- The third case is a mirror image of the first case and the fourth case is a mirror image of the second case.\n",
    "- The difference is the new node is inserted in the right subtree of the pivot node or a descendant of its right subtree."
   ]
  },
  {
   "cell_type": "markdown",
   "metadata": {},
   "source": [
    "---  "
   ]
  },
  {
   "cell_type": "markdown",
   "metadata": {},
   "source": [
    "**More on Balance Factors**\n",
    "\n",
    "- When a new key is inserted into the tree, the balance factors of the nodes along the path from the root to the insertion point may have to be modified to reflect the insertion.\n",
    "\n",
    "- The balance factor of a node along the path changes if the subtree into which the new node was inserted grows taller.\n",
    "\n",
    "- The new balance factor of a node depends on its current balance factor and the subtree into which the new node was inserted.\n",
    "\n",
    "- The resulting balance factors are provided here:"
   ]
  },
  {
   "cell_type": "markdown",
   "metadata": {},
   "source": [
    "| Current BF | New BF<br />(after inserting into left subtree) | New BF<br />(after inserting right subtree) |\n",
    "| ---------- | ----------------------------------------------- | ------------------------------------------- |\n",
    "| >          | >>                                              | =                                           |\n",
    "| =          | >                                               | <                                           |\n",
    "| <          | =                                               | <<                                          |"
   ]
  },
  {
   "cell_type": "markdown",
   "metadata": {},
   "source": [
    "  "
   ]
  },
  {
   "cell_type": "markdown",
   "metadata": {},
   "source": [
    "- Modifications to the balance factors are made in reverse order as the recursion unwinds.\n",
    "\n",
    "- When a node has a left high balance and the new node is inserted into its left child or it has a right high balance and the new node is inserted into its right child, the node is out of balance and its subtree has to be rebalanced.\n",
    "\n",
    "- After rebalancing, the subtree will shrink by one level, which results in the balance factors of its ancestors remaining the same.\n",
    "\n",
    "- The balance factors of the ancestors will also remain the same when the balance factor changes to equal high.\n",
    "\n",
    "- After a rotation is performed, the balance factor of the impacted nodes have to be changed to reflect the new node heights.\n",
    "\n",
    "- The changes required depend on which of the four cases triggered the rotation.\n",
    "\n",
    "- The balance factor settings in cases 2 and 4 depend on the balance factor of the original pivot nodes grandchild (the right child of node L or the left child of node R).\n",
    "\n",
    "- The new balance factors for the nodes involved in a rotation are provided below:"
   ]
  },
  {
   "cell_type": "markdown",
   "metadata": {},
   "source": [
    "| Case | original G      | new P           | new L           | new  R          | new G           |\n",
    "| ---- | --------------- | --------------- | --------------- | --------------- | --------------- |\n",
    "| 1    | .               | =               | =               | .               | .               |\n",
    "| 2    | ><br />=<br />< | <<br />=<br />= | =<br />=<br />> | .<br />.<br />. | =<br />=<br />= |\n",
    "| 3    | .               | =               | .               | =               | .               |\n",
    "| 4    | ><br />=<br />< | =<br />=<br />= | .<br />.<br />. | =<br />=<br />= | <<br />=<br />> |"
   ]
  },
  {
   "cell_type": "markdown",
   "metadata": {},
   "source": [
    "---"
   ]
  },
  {
   "cell_type": "markdown",
   "metadata": {},
   "source": [
    "**Example**\n",
    "\n",
    "Figure below illustrates the construction of an AVL tree by inserting the nodes from the list [60, 25, 35, 100, 17, 80], one node at a time. Each tree in the figure shows the results after performing the indicate operation. Two double rotations are required to construct the tree: one after node 35 is inserted and one after node 80 is inserted.\n",
    "\n",
    "| ![Building AVL tree 1](https://i.ibb.co/S34tsdn/Slide31.png) |\n",
    "| :----------------------------------------------------------: |\n",
    "| ![Building AVL tree 2](https://i.ibb.co/Qvr8Fqm/Slide32.png) |\n",
    "| ![Building AVL tree 3](https://i.ibb.co/jL7TLvb/Slide33.png) |\n",
    "| Fig 3.18. Building an AVL tree from the list of keys [60, 25, 35, 100, 17, 80]. |"
   ]
  },
  {
   "cell_type": "markdown",
   "metadata": {},
   "source": [
    "---"
   ]
  },
  {
   "cell_type": "markdown",
   "metadata": {},
   "source": [
    "**Deletions**\n",
    "\n",
    "- When an entry is removed from an AVL tree, we must ensure the balance property is maintained.\n",
    "- As with the insert operation, deletion begins by using the corresponding operation from the binary search tree.\n",
    "- After removing the targeted entry, subtrees may have to be rebalanced."
   ]
  },
  {
   "cell_type": "markdown",
   "metadata": {},
   "source": [
    "**Example**\n",
    "\n",
    "![Building AVL tree 1](https://i.ibb.co/KDwVNsv/Slide34.png)\n",
    "\n",
    "**Remove node 17 from AVL tree (a)**\n",
    "\n",
    "- After removing the leaf node, the subtree rooted at node 25 is out of balance, as shown in AVL tree (b)\n",
    "\n",
    "- As with an insertion, the only subtrees that can become unbalanced are those along the path from the root to the original node containing the target.\n",
    "\n",
    "- Remember, if the key being removed is in an interior node, its successor is located and copied to the node and the successor's original node is removed. \n",
    "\n",
    "- In the insertion operation, at most one subtree can become unbalanced.\n",
    " - After the appropriate rotation is performed on the subtree, the balance factors of the node's ancestors do not change.\n",
    " - Thus, it restores the height-balance property both locally at the subtree and globally for the entire tree. \n",
    "<br>\n",
    "<br>\n",
    "- This is not the case with a deletion.\n",
    " - When a subtree is rebalanced due to a deletion, it can cause the ancestors of the subtree to then become unbalanced.\n",
    " - This effect can ripple up all the way to the root node.\n",
    "<br>\n",
    "<br>\n",
    "- Therefore, all of the nodes along the path have to be evaluated and rebalanced if necessary."
   ]
  }
 ],
 "metadata": {
  "kernelspec": {
   "display_name": "Python 3",
   "language": "python",
   "name": "python3"
  },
  "language_info": {
   "codemirror_mode": {
    "name": "ipython",
    "version": 3
   },
   "file_extension": ".py",
   "mimetype": "text/x-python",
   "name": "python",
   "nbconvert_exporter": "python",
   "pygments_lexer": "ipython3",
   "version": "3.7.7"
  }
 },
 "nbformat": 4,
 "nbformat_minor": 4
}
