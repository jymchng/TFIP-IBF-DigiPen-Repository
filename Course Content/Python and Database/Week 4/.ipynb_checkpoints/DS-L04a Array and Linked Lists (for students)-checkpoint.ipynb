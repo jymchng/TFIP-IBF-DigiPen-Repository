{
 "cells": [
  {
   "cell_type": "markdown",
   "metadata": {},
   "source": [
    "# Fundamental Data Structures and Algorithms 04 - Array"
   ]
  },
  {
   "cell_type": "markdown",
   "metadata": {},
   "source": [
    "## Unit 3: Basic Data Structures\n",
    "---"
   ]
  },
  {
   "cell_type": "markdown",
   "metadata": {},
   "source": [
    "### Objective\n",
    "\n",
    "- Differentiate data structures from data types\n",
    "- Introduce basic data structures\n",
    " - Array\n",
    "   - Python `list` (recap)\n",
    "   - NumPy array (recap)\n",
    " - Linked Lists"
   ]
  },
  {
   "cell_type": "markdown",
   "metadata": {},
   "source": [
    "---"
   ]
  },
  {
   "cell_type": "markdown",
   "metadata": {},
   "source": [
    "### Data Types vs Data Structures\n",
    "\n",
    "| Property       | Data Type                                                    | Data Structure                                               |\n",
    "| -------------- | ------------------------------------------------------------ | ------------------------------------------------------------ |\n",
    "| Definition     | Data type is the representation of nature and type of data that has been going to be used in programming or in other words data type describes all that data which share a common property. For example an integer data type describes every integer that the computers can handle. | On other hand Data structure is the collection that holds data which can be manipulated and used in programming so that operations and algorithms can be more easily applied. For example tree type data structures often allow for efficient searching algorithms. |\n",
    "| Implementation | Data type in programming are implemented in abstract implementation whose definition is provided by different languages in different ways. | On other hand Data structure in programming are implemented in concrete implementation as their definition is already defined by the language that what type of data they going to store and deal with. |\n",
    "| Storage        | In case of data type the value of data is not stored as it only represents the type of data that can be get stored. | On other hand data structure holds the data along with its value that actually acquires the space in main memory of the computer. Also data structure can hold different kind and types of data within one single object |\n",
    "| Assignment     | As data type already represents the type of value that can be stored so values can directly be assigned to the data type variables. | On other hand in case of data structure the data is assigned to using some set of algorithms and operations like push, pop and so on. |\n",
    "| Performance    | If case of data type only type and nature of data is concern so there in no issue of time complexity. | On other hand time complexity comes in case of data structure as it mainly deals with manipulation and execution of logic over data that it stored. |"
   ]
  },
  {
   "cell_type": "markdown",
   "metadata": {},
   "source": [
    "***Recap***  \n",
    "> Discuss what are some of the data types and data structures that you have learnt."
   ]
  },
  {
   "cell_type": "markdown",
   "metadata": {},
   "source": [
    "---"
   ]
  },
  {
   "cell_type": "markdown",
   "metadata": {},
   "source": [
    "### Introduction to Arrays\n",
    "\n",
    "- Arrays generally structure other (fundamental) objects in dimensions like 2-dimensional rows and columns\n",
    " - In the simplest case, a one-dimensional array then represents, mathematically speaking, a *vector* of numbers. We can think of it as a single row or a single column of numbers.\n",
    " - In a more common case, an array represents an $(i × j)$ matrix of elements.\n",
    " - This concept generalizes to $(i × j × k)$ cubes of elements in three dimensions as well as to general *n*-dimensional arrays of shape $(i × j × k × l × …)$.\n",
    " - most importantly, arrays store data in a **contiguous** block of memory \n",
    "  \n",
    "> What about lists? Are arrays and lists the same? What about `Numpy` array?"
   ]
  },
  {
   "cell_type": "markdown",
   "metadata": {},
   "source": [
    "---"
   ]
  },
  {
   "cell_type": "markdown",
   "metadata": {},
   "source": [
    "### Arrays with built-in `List`\n",
    "\n",
    "***Recap***  \n",
    "A simple list can already be considered a one-dimensional array:"
   ]
  },
  {
   "cell_type": "code",
   "execution_count": 2,
   "metadata": {
    "ExecuteTime": {
     "end_time": "2020-11-17T03:12:47.921603Z",
     "start_time": "2020-11-17T03:12:47.917614Z"
    }
   },
   "outputs": [
    {
     "name": "stdout",
     "output_type": "stream",
     "text": [
      "<class 'list'>\n",
      "<class 'list'>\n"
     ]
    }
   ],
   "source": [
    "'''empty list'''\n",
    "a = list()\n",
    "print(type(a))\n",
    "\n",
    "b = []\n",
    "print(type(b))"
   ]
  },
  {
   "cell_type": "markdown",
   "metadata": {},
   "source": [
    "Note: brackets [] are the preferred method of initializing a list  \n",
    "Use list() only when you need to convert from other sequences, e.g. tuple -> list"
   ]
  },
  {
   "cell_type": "code",
   "execution_count": null,
   "metadata": {},
   "outputs": [],
   "source": [
    "'''list of integers + accessing index'''\n",
    "c = [1,2,3]\n",
    "\n",
    "print(c[1])\n",
    "print(len(c))"
   ]
  },
  {
   "cell_type": "code",
   "execution_count": null,
   "metadata": {},
   "outputs": [],
   "source": [
    "'''list of floats + negative index'''\n",
    "print(c[-1])"
   ]
  },
  {
   "cell_type": "code",
   "execution_count": 5,
   "metadata": {
    "ExecuteTime": {
     "end_time": "2020-11-17T03:17:10.340093Z",
     "start_time": "2020-11-17T03:17:10.334111Z"
    }
   },
   "outputs": [
    {
     "name": "stdout",
     "output_type": "stream",
     "text": [
      "<class 'list'> ['123']\n",
      "<class 'str'> 2\n"
     ]
    }
   ],
   "source": [
    "'''list of strings'''\n",
    "\n",
    "'''which is correct?'''\n",
    "# e = [x, y, z]\n",
    "# print(type(e), e)\n",
    "# print(type(e[1]), e[1])\n",
    "\n",
    "f = ['123']\n",
    "print(type(f), f)\n",
    "print(type(f[0]), f[0][1])"
   ]
  },
  {
   "cell_type": "code",
   "execution_count": null,
   "metadata": {},
   "outputs": [],
   "source": [
    "'''list of mixed object'''\n"
   ]
  },
  {
   "cell_type": "code",
   "execution_count": null,
   "metadata": {},
   "outputs": [],
   "source": [
    "'''\n",
    "accessing range of index\n",
    "\n",
    "syntax -> [start:stop:step]\n",
    "Example:\n",
    "          +---+---+---+---+---+---+\n",
    "          | P | y | t | h | o | n |\n",
    "          +---+---+---+---+---+---+\n",
    "index       0   1   2   3   4   5\n",
    "index      -6  -5  -4  -3  -2  -1\n",
    "'''\n"
   ]
  },
  {
   "cell_type": "code",
   "execution_count": null,
   "metadata": {},
   "outputs": [],
   "source": [
    "'''accessing index beyond range'''\n"
   ]
  },
  {
   "cell_type": "markdown",
   "metadata": {},
   "source": [
    "---"
   ]
  },
  {
   "cell_type": "markdown",
   "metadata": {},
   "source": [
    "Since list objects can contain arbitrary other objects, they can also contain other list objects. In that way, two- and higher-dimensional arrays are easily constructed by nested list objects:"
   ]
  },
  {
   "cell_type": "code",
   "execution_count": null,
   "metadata": {},
   "outputs": [],
   "source": [
    "'''nested empty list'''\n"
   ]
  },
  {
   "cell_type": "code",
   "execution_count": null,
   "metadata": {},
   "outputs": [],
   "source": [
    "'''nested list using previously defined \"g\" '''\n"
   ]
  },
  {
   "cell_type": "code",
   "execution_count": null,
   "metadata": {},
   "outputs": [],
   "source": [
    "'''accessing nested list'''\n",
    "print(i[0][2])"
   ]
  },
  {
   "cell_type": "markdown",
   "metadata": {},
   "source": [
    "---"
   ]
  },
  {
   "cell_type": "markdown",
   "metadata": {},
   "source": [
    "Note that combining objects in the way just presented generally works with reference pointers to the original objects. What does that mean in practice? Let us have a look at the following operations:"
   ]
  },
  {
   "cell_type": "code",
   "execution_count": null,
   "metadata": {},
   "outputs": [],
   "source": [
    "'''modify g'''\n",
    "g[0]=123\n",
    "g"
   ]
  },
  {
   "cell_type": "markdown",
   "metadata": {},
   "source": [
    "Now let's look at basic arithmetic operations with lists:"
   ]
  },
  {
   "cell_type": "code",
   "execution_count": 6,
   "metadata": {
    "ExecuteTime": {
     "end_time": "2020-11-17T03:23:31.387013Z",
     "start_time": "2020-11-17T03:23:31.341132Z"
    }
   },
   "outputs": [
    {
     "data": {
      "text/plain": [
       "[1, 2, 3, 7, 8, 9]"
      ]
     },
     "execution_count": 6,
     "metadata": {},
     "output_type": "execute_result"
    }
   ],
   "source": [
    "'''add 2 lists together'''\n",
    "c = [1,2,3]\n",
    "d = [7,8,9]\n",
    "\n",
    "c+d"
   ]
  },
  {
   "cell_type": "code",
   "execution_count": 7,
   "metadata": {
    "ExecuteTime": {
     "end_time": "2020-11-17T03:23:37.813804Z",
     "start_time": "2020-11-17T03:23:37.680162Z"
    }
   },
   "outputs": [
    {
     "ename": "TypeError",
     "evalue": "can only concatenate list (not \"int\") to list",
     "output_type": "error",
     "traceback": [
      "\u001b[1;31m---------------------------------------------------------------------------\u001b[0m",
      "\u001b[1;31mTypeError\u001b[0m                                 Traceback (most recent call last)",
      "\u001b[1;32m<ipython-input-7-013aaca32e41>\u001b[0m in \u001b[0;36m<module>\u001b[1;34m\u001b[0m\n\u001b[0;32m      1\u001b[0m \u001b[1;34m'''add list to another object'''\u001b[0m\u001b[1;33m\u001b[0m\u001b[1;33m\u001b[0m\u001b[0m\n\u001b[1;32m----> 2\u001b[1;33m \u001b[0mc\u001b[0m \u001b[1;33m+\u001b[0m \u001b[1;36m5\u001b[0m\u001b[1;33m\u001b[0m\u001b[1;33m\u001b[0m\u001b[0m\n\u001b[0m",
      "\u001b[1;31mTypeError\u001b[0m: can only concatenate list (not \"int\") to list"
     ]
    }
   ],
   "source": [
    "'''add list to another object'''\n",
    "c + 5"
   ]
  },
  {
   "cell_type": "code",
   "execution_count": null,
   "metadata": {},
   "outputs": [],
   "source": [
    "'''multiply a list with an integer'''\n",
    "c * 3"
   ]
  },
  {
   "cell_type": "code",
   "execution_count": 8,
   "metadata": {
    "ExecuteTime": {
     "end_time": "2020-11-17T03:24:16.223978Z",
     "start_time": "2020-11-17T03:24:16.132224Z"
    }
   },
   "outputs": [
    {
     "ename": "TypeError",
     "evalue": "can't multiply sequence by non-int of type 'float'",
     "output_type": "error",
     "traceback": [
      "\u001b[1;31m---------------------------------------------------------------------------\u001b[0m",
      "\u001b[1;31mTypeError\u001b[0m                                 Traceback (most recent call last)",
      "\u001b[1;32m<ipython-input-8-e36a07be59e2>\u001b[0m in \u001b[0;36m<module>\u001b[1;34m\u001b[0m\n\u001b[0;32m      1\u001b[0m \u001b[1;34m'''multiply a list with a float'''\u001b[0m\u001b[1;33m\u001b[0m\u001b[1;33m\u001b[0m\u001b[0m\n\u001b[1;32m----> 2\u001b[1;33m \u001b[0mc\u001b[0m \u001b[1;33m*\u001b[0m \u001b[1;36m0.3\u001b[0m\u001b[1;33m\u001b[0m\u001b[1;33m\u001b[0m\u001b[0m\n\u001b[0m",
      "\u001b[1;31mTypeError\u001b[0m: can't multiply sequence by non-int of type 'float'"
     ]
    }
   ],
   "source": [
    "'''multiply a list with a float'''\n",
    "c * 0.3"
   ]
  },
  {
   "cell_type": "code",
   "execution_count": 9,
   "metadata": {
    "ExecuteTime": {
     "end_time": "2020-11-17T03:24:37.276619Z",
     "start_time": "2020-11-17T03:24:37.253680Z"
    }
   },
   "outputs": [
    {
     "ename": "TypeError",
     "evalue": "unsupported operand type(s) for /: 'list' and 'int'",
     "output_type": "error",
     "traceback": [
      "\u001b[1;31m---------------------------------------------------------------------------\u001b[0m",
      "\u001b[1;31mTypeError\u001b[0m                                 Traceback (most recent call last)",
      "\u001b[1;32m<ipython-input-9-3ea891b28f32>\u001b[0m in \u001b[0;36m<module>\u001b[1;34m\u001b[0m\n\u001b[0;32m      1\u001b[0m \u001b[1;34m'''division of a list by an integer'''\u001b[0m\u001b[1;33m\u001b[0m\u001b[1;33m\u001b[0m\u001b[0m\n\u001b[1;32m----> 2\u001b[1;33m \u001b[0mc\u001b[0m\u001b[1;33m/\u001b[0m\u001b[1;36m8\u001b[0m\u001b[1;33m\u001b[0m\u001b[1;33m\u001b[0m\u001b[0m\n\u001b[0m",
      "\u001b[1;31mTypeError\u001b[0m: unsupported operand type(s) for /: 'list' and 'int'"
     ]
    }
   ],
   "source": [
    "'''division of a list by an integer'''\n",
    "c/8"
   ]
  },
  {
   "cell_type": "code",
   "execution_count": null,
   "metadata": {},
   "outputs": [],
   "source": [
    "'''multiply a list with another list'''\n"
   ]
  },
  {
   "cell_type": "markdown",
   "metadata": {},
   "source": [
    "---"
   ]
  },
  {
   "cell_type": "markdown",
   "metadata": {},
   "source": [
    "Python has a set of built-in methods (functions) that you can use on lists. Example:"
   ]
  },
  {
   "cell_type": "code",
   "execution_count": null,
   "metadata": {},
   "outputs": [],
   "source": [
    "'''append()'''\n"
   ]
  },
  {
   "cell_type": "code",
   "execution_count": null,
   "metadata": {},
   "outputs": [],
   "source": [
    "'''sort()'''\n"
   ]
  },
  {
   "cell_type": "code",
   "execution_count": null,
   "metadata": {},
   "outputs": [],
   "source": [
    "'''pop()'''\n",
    "\n",
    "\n",
    "'''pop(index)'''\n"
   ]
  },
  {
   "cell_type": "code",
   "execution_count": null,
   "metadata": {},
   "outputs": [],
   "source": [
    "'''reverse()'''\n"
   ]
  },
  {
   "cell_type": "markdown",
   "metadata": {},
   "source": [
    "Other methods include `copy()`, `count()`, `extend()`, `index()`, `insert()`, `pop()`,  `remove()`, `reverse()`. You are encouraged to explore the them in the [official documentation](https://docs.python.org/3/tutorial/datastructures.html).\n",
    "\n",
    "The table below lists some the complexities for the various functions and operations:\n",
    "\n",
    "|Operation     | Example                  | Big O Notation     | Notes                                              |\n",
    "|:-------------|:-------------------------|:-------------------|:---------------------------------------------------|\n",
    "|access        | `l[i]`                   | $O(1)$             |                                                    |\n",
    "|assignment    | `l[i] = 0`               | $O(1)$             |                                                    |\n",
    "|length        | `len(l)`                 | $O(1)$             |                                                    |\n",
    "|append        | `l.append(x)`            | $O(1)$             | equivalent to `a[len(a):] = [x]`                   |\n",
    "|pop           | `l.pop()`                | $O(1)$             | equivalent to `l.pop(-1)`, popping at end          |\n",
    "|clear         | `l.clear()`              | $O(1)$             | similar to `l = []`                                |\n",
    "|slice         | `l[a:b]`                 | $O(b-a)$           | depends on the number of elements in the parameter |\n",
    "|extend        | `l.extend(iterable)`     | $O(len(iterable))$ | equivalent to `a[len(a):] = iterable`              |\n",
    "|              |                          |                    | depends on number of elements in iterable          |\n",
    "|constructor   | `list(iterable)`         | $O(len(iterable))$ | depends on number of elements in iterable          |\n",
    "|comparison    | `l1 == l2` or `l1 != l2` | $O(n)$             |                                                    |\n",
    "|index         | `l.index(i)`             | $O(n)$             |                                                    |\n",
    "|insert        | `l.insert(i, x)`         | $O(n)$             |                                                    |\n",
    "|delete        | `del l[i]`               | $O(n)$             |                                                    |\n",
    "|containment   | `x in l`or`x not in l`   | $O(n)$             | linearly searches list                             |\n",
    "|copy          | `l.copy()`               | $O(n)$             | equivalent to`l[:]`                                |\n",
    "|count         | `l.count(x)`             | $O(n)$             |                                                    |\n",
    "|remove        | `l.remove(x)`            | $O(n)$             |                                                    |\n",
    "|pop           | `l.pop(i)`               | $O(n)$             |                                                    |\n",
    "|min/max       | `min(l)/max(l)`          | $O(n)$             | linearly searches list for value                   |\n",
    "|reverse       | `l.reverse()`            | $O(n)$             |                                                    |\n",
    "|iteration     | `for v in l:`            | $O(n)$             |                                                    |\n",
    "|sort          | `l.sort()`               | $O(n\\log{n})$      | [Timsort](http://svn.python.org/projects/python/trunk/Objects/listsort.txt)                                                  |\n",
    "|multiply      | `k*l`                    | $O(k\\ n)$          | example 1: `5*l` $\\rightarrow O(n)$;               |\n",
    "|              |                          |                    | example 2: `len(l)*l` $\\rightarrow O(n^2)$         |"
   ]
  },
  {
   "cell_type": "markdown",
   "metadata": {},
   "source": [
    "---"
   ]
  },
  {
   "cell_type": "markdown",
   "metadata": {},
   "source": [
    "### Array with NumPy\n",
    "\n",
    "- the list class has been built with a broad and general scope\n",
    "- might need a more specialized class to handle array-specific structures\n",
    " - `Numpy` library\n",
    " - written in C\n",
    " - able to handle n-dimensional arrays conveniently and efficiently"
   ]
  },
  {
   "cell_type": "code",
   "execution_count": null,
   "metadata": {},
   "outputs": [],
   "source": [
    "'''syntax to invoke the NumPy library'''\n",
    "import numpy as np"
   ]
  },
  {
   "cell_type": "markdown",
   "metadata": {},
   "source": [
    "Let's illustrate with examples"
   ]
  },
  {
   "cell_type": "code",
   "execution_count": null,
   "metadata": {},
   "outputs": [],
   "source": [
    "'''initializing a numpy array'''\n",
    "q = numpy.array([0,1,2,3,4,5,6,7,8,9])"
   ]
  },
  {
   "cell_type": "markdown",
   "metadata": {},
   "source": [
    "Alternatively we can import a library using a shorthand. The example below is commonly used:"
   ]
  },
  {
   "cell_type": "code",
   "execution_count": 11,
   "metadata": {
    "ExecuteTime": {
     "end_time": "2020-11-17T03:29:08.446742Z",
     "start_time": "2020-11-17T03:29:06.739313Z"
    }
   },
   "outputs": [],
   "source": [
    "'''import as np'''\n",
    "import numpy as np"
   ]
  },
  {
   "cell_type": "markdown",
   "metadata": {},
   "source": [
    "![array](http://jalammar.github.io/images/numpy/create-numpy-array-1.png)"
   ]
  },
  {
   "cell_type": "markdown",
   "metadata": {},
   "source": [
    "---"
   ]
  },
  {
   "cell_type": "markdown",
   "metadata": {},
   "source": [
    "Numpy also provides many methods to create arrays:"
   ]
  },
  {
   "cell_type": "code",
   "execution_count": 16,
   "metadata": {
    "ExecuteTime": {
     "end_time": "2020-11-17T03:29:26.477473Z",
     "start_time": "2020-11-17T03:29:26.473484Z"
    }
   },
   "outputs": [
    {
     "data": {
      "text/plain": [
       "array([[0., 0.],\n",
       "       [0., 0.],\n",
       "       [0., 0.]])"
      ]
     },
     "execution_count": 16,
     "metadata": {},
     "output_type": "execute_result"
    }
   ],
   "source": [
    "'''create an array of all zeros'''\n",
    "np.zeros((3,2))"
   ]
  },
  {
   "cell_type": "code",
   "execution_count": 15,
   "metadata": {
    "ExecuteTime": {
     "end_time": "2020-11-17T03:29:16.727576Z",
     "start_time": "2020-11-17T03:29:16.721591Z"
    }
   },
   "outputs": [
    {
     "data": {
      "text/plain": [
       "array([[1., 1.],\n",
       "       [1., 1.],\n",
       "       [1., 1.]])"
      ]
     },
     "execution_count": 15,
     "metadata": {},
     "output_type": "execute_result"
    }
   ],
   "source": [
    "'''create an array of all ones'''\n",
    "s = np.ones((3,2))\n",
    "s"
   ]
  },
  {
   "cell_type": "code",
   "execution_count": 19,
   "metadata": {
    "ExecuteTime": {
     "end_time": "2020-11-17T03:30:24.855194Z",
     "start_time": "2020-11-17T03:30:24.849210Z"
    }
   },
   "outputs": [
    {
     "data": {
      "text/plain": [
       "array([[3, 3],\n",
       "       [3, 3]])"
      ]
     },
     "execution_count": 19,
     "metadata": {},
     "output_type": "execute_result"
    }
   ],
   "source": [
    "'''create a constant array'''\n",
    "q = np.full((2,2),3)\n",
    "q"
   ]
  },
  {
   "cell_type": "code",
   "execution_count": 21,
   "metadata": {
    "ExecuteTime": {
     "end_time": "2020-11-17T03:30:43.014582Z",
     "start_time": "2020-11-17T03:30:43.008596Z"
    }
   },
   "outputs": [
    {
     "data": {
      "text/plain": [
       "array([[1., 0., 0., 0.],\n",
       "       [0., 1., 0., 0.],\n",
       "       [0., 0., 1., 0.],\n",
       "       [0., 0., 0., 1.]])"
      ]
     },
     "execution_count": 21,
     "metadata": {},
     "output_type": "execute_result"
    }
   ],
   "source": [
    "'''create a 4x4 identity matrix'''\n",
    "np.eye(4) # No need send in the shape."
   ]
  },
  {
   "cell_type": "code",
   "execution_count": 23,
   "metadata": {
    "ExecuteTime": {
     "end_time": "2020-11-17T03:31:12.659220Z",
     "start_time": "2020-11-17T03:31:12.653237Z"
    }
   },
   "outputs": [
    {
     "data": {
      "text/plain": [
       "array([[0.33952726, 0.49717465, 0.67835214],\n",
       "       [0.22804197, 0.0767618 , 0.67331192],\n",
       "       [0.93541337, 0.20212863, 0.84552363]])"
      ]
     },
     "execution_count": 23,
     "metadata": {},
     "output_type": "execute_result"
    }
   ],
   "source": [
    "'''create an array of random values'''\n",
    "np.random.random((3,3))"
   ]
  },
  {
   "cell_type": "markdown",
   "metadata": {},
   "source": [
    "**Visualizing NumPy array creation**\n",
    "\n",
    "![create](http://jalammar.github.io/images/numpy/create-numpy-array-ones-zeros-random.png)\n",
    "\n",
    "![create2](http://jalammar.github.io/images/numpy/numpy-array-create-2d.png)\n",
    "\n",
    "![create3](http://jalammar.github.io/images/numpy/numpy-matrix-ones-zeros-random.png)"
   ]
  },
  {
   "cell_type": "markdown",
   "metadata": {},
   "source": [
    "You can read about other methods of array creation in the [documentation](https://numpy.org/doc/stable/user/basics.creation.html#arrays-creation)."
   ]
  },
  {
   "cell_type": "markdown",
   "metadata": {},
   "source": [
    "---"
   ]
  },
  {
   "cell_type": "markdown",
   "metadata": {},
   "source": [
    "**NumPy Array index**"
   ]
  },
  {
   "cell_type": "code",
   "execution_count": 27,
   "metadata": {
    "ExecuteTime": {
     "end_time": "2020-11-17T03:34:47.490108Z",
     "start_time": "2020-11-17T03:34:47.483123Z"
    }
   },
   "outputs": [
    {
     "name": "stdout",
     "output_type": "stream",
     "text": [
      "[[0.52618707 0.64877956 0.2720911 ]\n",
      " [0.22269788 0.64516791 0.42831057]\n",
      " [0.87744494 0.87848541 0.36679394]\n",
      " [0.78893727 0.79142909 0.81951989]\n",
      " [0.85629627 0.35203866 0.95455634]]\n"
     ]
    },
    {
     "data": {
      "text/plain": [
       "array([0.42831057, 0.36679394])"
      ]
     },
     "execution_count": 27,
     "metadata": {},
     "output_type": "execute_result"
    }
   ],
   "source": [
    "'''accessing index and slice similar to python list'''\n",
    "v = np.random.random((5,3))\n",
    "print(v)\n",
    "v[1:3,2]"
   ]
  },
  {
   "cell_type": "markdown",
   "metadata": {},
   "source": [
    "note that array[row,col] is equivalent to array[row][col] in numpy"
   ]
  },
  {
   "cell_type": "markdown",
   "metadata": {},
   "source": [
    "**Visualizing NumPy array index**\n",
    "\n",
    "Example 1:\n",
    "![index](http://jalammar.github.io/images/numpy/numpy-array-slice.png)\n",
    "\n",
    "Example 2:\n",
    "![index2](http://jalammar.github.io/images/numpy/numpy-matrix-indexing.png)"
   ]
  },
  {
   "cell_type": "markdown",
   "metadata": {},
   "source": [
    "---"
   ]
  },
  {
   "cell_type": "markdown",
   "metadata": {},
   "source": [
    "**NumPy Array Arithmetic Operations**\n",
    "\n",
    "NumPy array arithmetic operations <u>differs</u> from Python `list`:"
   ]
  },
  {
   "cell_type": "code",
   "execution_count": 29,
   "metadata": {
    "ExecuteTime": {
     "end_time": "2020-11-17T03:37:54.790690Z",
     "start_time": "2020-11-17T03:37:54.782712Z"
    }
   },
   "outputs": [],
   "source": [
    "pythonList = [3,2,1]\n",
    "numpyArray = np.array([3,2,1])"
   ]
  },
  {
   "cell_type": "code",
   "execution_count": 30,
   "metadata": {
    "ExecuteTime": {
     "end_time": "2020-11-17T03:37:55.481841Z",
     "start_time": "2020-11-17T03:37:55.463919Z"
    }
   },
   "outputs": [
    {
     "name": "stdout",
     "output_type": "stream",
     "text": [
      "python list addition:\n",
      "\n",
      "numpy array addition:\n",
      "[6 4 2]\n",
      "[6 4 2]\n"
     ]
    }
   ],
   "source": [
    "'''addition'''\n",
    "print('python list addition:')\n",
    "  \n",
    "\n",
    "print('\\nnumpy array addition:')\n",
    "print(numpyArray+numpyArray)\n",
    "print(np.add(numpyArray,numpyArray))"
   ]
  },
  {
   "cell_type": "markdown",
   "metadata": {},
   "source": [
    "numpy.add() works with Python list and NumPy arrays"
   ]
  },
  {
   "cell_type": "code",
   "execution_count": null,
   "metadata": {},
   "outputs": [],
   "source": [
    "'''subtraction 1'''\n",
    "print('python list subtraction:')\n"
   ]
  },
  {
   "cell_type": "code",
   "execution_count": null,
   "metadata": {},
   "outputs": [],
   "source": [
    "'''subtraction 2'''\n",
    "print('\\nnumpy array subtraction:')\n"
   ]
  },
  {
   "cell_type": "code",
   "execution_count": null,
   "metadata": {},
   "outputs": [],
   "source": [
    "'''multiplication 1'''\n",
    "print('python list x integer multiplication:')\n",
    "\n",
    "\n",
    "print('\\nnumpy array x integer multiplication:')\n"
   ]
  },
  {
   "cell_type": "code",
   "execution_count": null,
   "metadata": {},
   "outputs": [],
   "source": [
    "'''multiplication 2'''\n",
    "print('python list x python list multiplication:')\n"
   ]
  },
  {
   "cell_type": "code",
   "execution_count": null,
   "metadata": {},
   "outputs": [],
   "source": [
    "'''multiplication 3'''\n",
    "print('numpy array x numpy array multiplication:')\n"
   ]
  },
  {
   "cell_type": "code",
   "execution_count": null,
   "metadata": {},
   "outputs": [],
   "source": [
    "'''division 1'''\n",
    "print('python list / integer division:')\n"
   ]
  },
  {
   "cell_type": "code",
   "execution_count": null,
   "metadata": {},
   "outputs": [],
   "source": [
    "'''division 2'''\n",
    "print('numpy array / integer division:')\n"
   ]
  },
  {
   "cell_type": "code",
   "execution_count": null,
   "metadata": {},
   "outputs": [],
   "source": [
    "'''division 3'''\n",
    "print('numpy array / numpy array multiplication:')\n"
   ]
  },
  {
   "cell_type": "code",
   "execution_count": null,
   "metadata": {},
   "outputs": [],
   "source": [
    "'''power'''\n",
    "print('numpyArray power 2:')\n"
   ]
  },
  {
   "cell_type": "code",
   "execution_count": null,
   "metadata": {},
   "outputs": [],
   "source": [
    "'''square root:'''\n",
    "print('numpyArray square root 2:')\n"
   ]
  },
  {
   "cell_type": "markdown",
   "metadata": {},
   "source": [
    "---"
   ]
  },
  {
   "cell_type": "markdown",
   "metadata": {},
   "source": [
    "**Visualizing Arithetic Operations on NumPy arrays (Example 1)**\n",
    "\n",
    "Assume:\n",
    "![arith1](http://jalammar.github.io/images/numpy/numpy-arrays-example-1.png)\n",
    "\n",
    "Adding them up element-wise (i.e. adding the values of each row) is as simple as typing `data + ones`:\n",
    "![arith2](http://jalammar.github.io/images/numpy/numpy-arrays-adding-1.png)\n",
    "\n",
    "And it’s not only addition that we can do this way:\n",
    "![arith3](http://jalammar.github.io/images/numpy/numpy-array-subtract-multiply-divide.png)\n",
    "\n",
    "Scalar multiplication:\n",
    "![arith4](http://jalammar.github.io/images/numpy/numpy-array-broadcast.png)"
   ]
  },
  {
   "cell_type": "markdown",
   "metadata": {},
   "source": [
    "---"
   ]
  },
  {
   "cell_type": "markdown",
   "metadata": {},
   "source": [
    "**Visualizing Arithetic Operations on NumPy arrays (Example 2)**\n",
    "\n",
    "We can add and multiply matrices using arithmetic operators (`+-*/`) if the two matrices are the same size. NumPy handles those as position-wise operations:\n",
    "![arith5](http://jalammar.github.io/images/numpy/numpy-matrix-arithmetic.png)\n",
    "\n",
    "We can get away with doing these arithmetic operations on matrices of different size only if the different dimension is one (e.g. the matrix has only one column or one row), in which case NumPy uses its broadcast rules for that operation:\n",
    "![arith6](http://jalammar.github.io/images/numpy/numpy-matrix-broadcast.png)"
   ]
  },
  {
   "cell_type": "markdown",
   "metadata": {},
   "source": [
    "---"
   ]
  },
  {
   "cell_type": "markdown",
   "metadata": {},
   "source": [
    "**Other NumPy Methods**\n",
    "\n",
    "A major feature of NumPy is that it includes many built-in methods. Here are some examples:"
   ]
  },
  {
   "cell_type": "code",
   "execution_count": null,
   "metadata": {},
   "outputs": [],
   "source": [
    "w = np.array([1,2,3,4,5])"
   ]
  },
  {
   "cell_type": "code",
   "execution_count": null,
   "metadata": {},
   "outputs": [],
   "source": [
    "'''shape returns a tuple in the format (row, col); note the difference'''\n"
   ]
  },
  {
   "cell_type": "code",
   "execution_count": null,
   "metadata": {},
   "outputs": [],
   "source": [
    "'''sum()'''\n"
   ]
  },
  {
   "cell_type": "markdown",
   "metadata": {},
   "source": [
    "![sum](http://jalammar.github.io/images/numpy/numpy-matrix-dot-product-2.png)"
   ]
  },
  {
   "cell_type": "code",
   "execution_count": null,
   "metadata": {},
   "outputs": [],
   "source": [
    "'''mean()'''\n",
    "w.mean() # w is a nparray\n",
    "np.mean(w) # w may be a list"
   ]
  },
  {
   "cell_type": "code",
   "execution_count": null,
   "metadata": {},
   "outputs": [],
   "source": [
    "'''standard deviation'''\n",
    "w.std()\n",
    "np.std(w)"
   ]
  },
  {
   "cell_type": "code",
   "execution_count": null,
   "metadata": {},
   "outputs": [],
   "source": [
    "'''min/max'''\n"
   ]
  },
  {
   "cell_type": "code",
   "execution_count": null,
   "metadata": {},
   "outputs": [],
   "source": [
    "'''dot product (recall matrix)'''\n"
   ]
  },
  {
   "cell_type": "markdown",
   "metadata": {},
   "source": [
    "![dot](http://jalammar.github.io/images/numpy/numpy-matrix-dot-product-1.png)"
   ]
  },
  {
   "cell_type": "markdown",
   "metadata": {},
   "source": [
    "---"
   ]
  },
  {
   "cell_type": "markdown",
   "metadata": {},
   "source": [
    "**Axis Parameter**\n",
    "\n",
    "The axis parameter is best explained using visuals:\n",
    "\n",
    "![axis1](http://community.datacamp.com.s3.amazonaws.com/community/production/ckeditor_assets/pictures/332/content_arrays-axes.png)\n",
    "\n",
    "Example:\n",
    "![axis2](http://jalammar.github.io/images/numpy/numpy-matrix-aggregation-4.png)"
   ]
  },
  {
   "cell_type": "markdown",
   "metadata": {},
   "source": [
    "---"
   ]
  },
  {
   "cell_type": "markdown",
   "metadata": {},
   "source": [
    "**Transpose and Reshape of Num**\n",
    "\n",
    "A common need when dealing with matrices is the need to rotate them. This is often the case when we need to take the dot product of two matrices and need to align the dimension they share. NumPy arrays have a convenient property called T to get the transpose of a matrix:\n",
    "![transpose](http://jalammar.github.io/images/numpy/numpy-transpose.png)"
   ]
  },
  {
   "cell_type": "code",
   "execution_count": null,
   "metadata": {},
   "outputs": [],
   "source": [
    "'''transpose'''\n",
    "data = np.array([[1,2],[3,4],[5,6]])\n",
    "print('data :\\n', data)\n",
    "print('shape:', data.shape)\n",
    "\n",
    "  "
   ]
  },
  {
   "cell_type": "markdown",
   "metadata": {},
   "source": [
    "In more advanced use case, you may find yourself needing to switch the dimensions of a certain matrix. This is often the case in machine learning applications where a certain model expects a certain shape for the inputs that is different from your dataset. NumPy’s `reshape()` method is useful in these cases. You just pass it the new dimensions you want for the matrix. You can pass -1 for a dimension and NumPy can infer the correct dimension based on your matrix:\n",
    "![reshape](http://jalammar.github.io/images/numpy/numpy-reshape.png)"
   ]
  },
  {
   "cell_type": "code",
   "execution_count": null,
   "metadata": {},
   "outputs": [],
   "source": [
    "'''reshape'''\n",
    "data = np.array([[1],[2],[3],[4],[5],[6]])\n",
    "print('data :\\n', data)\n",
    "print('shape:\\n', data.shape )\n"
   ]
  },
  {
   "cell_type": "markdown",
   "metadata": {},
   "source": [
    "---"
   ]
  },
  {
   "cell_type": "markdown",
   "metadata": {},
   "source": [
    "**N-Dimensional Arrays**\n",
    "\n",
    "NumPy can do everything we’ve mentioned in any number of dimensions. Its central data structure is called ndarray (N-Dimensional Array) for a reason.\n",
    "\n",
    "![ndarray](http://jalammar.github.io/images/numpy/numpy-3d-array.png)\n",
    "\n",
    "In a lot of ways, dealing with a new dimension is just adding a comma to the parameters of a NumPy function:\n",
    "\n",
    "![ndarray2](http://jalammar.github.io/images/numpy/numpy-3d-array-creation.png)"
   ]
  },
  {
   "cell_type": "markdown",
   "metadata": {},
   "source": [
    "---"
   ]
  },
  {
   "cell_type": "markdown",
   "metadata": {},
   "source": [
    "## Python `List` vs NumPy Array\n",
    "\n",
    "**Memory**\n",
    "\n",
    "The main benefits of using NumPy arrays should be smaller memory consumption and better runtime behavior. We can use `getsizeof()` method from the `sys` module to determine the size of the object in bytes."
   ]
  },
  {
   "cell_type": "code",
   "execution_count": null,
   "metadata": {},
   "outputs": [],
   "source": [
    "import sys, random\n",
    "import numpy as np\n",
    "\n",
    "'''for n = 1'''\n",
    "n = 1\n",
    "print('for n = 1:')\n",
    "myList = random.sample(range(1000), n) # statement to generate list of random values\n",
    "print('size of python list in bytes:', sys.getsizeof(myList))\n",
    "myArray = np.array(random.sample(range(1000), n))\n",
    "print('size of numpy array in bytes:', sys.getsizeof(myArray))\n",
    "\n",
    "'''for n = 10'''\n",
    "n = 10\n",
    "print('\\nfor n = 10:')\n",
    "myList = random.sample(range(1000), n)\n",
    "print('size of python list in bytes:', sys.getsizeof(myList))\n",
    "myArray = np.array(random.sample(range(1000), n))\n",
    "print('size of numpy array in bytes:', sys.getsizeof(myArray))\n",
    "\n",
    "'''for n = 100'''\n",
    "print('\\nfor n = 100:')\n",
    "n = 100\n",
    "myList = random.sample(range(1000), n)\n",
    "print('size of python list in bytes:', sys.getsizeof(myList))\n",
    "myArray = np.array(random.sample(range(1000), n))\n",
    "print('size of numpy array in bytes:', sys.getsizeof(myArray))\n",
    "\n",
    "'''for n = 1000'''\n",
    "print('\\nfor n = 1000:')\n",
    "n = 1000\n",
    "myList = random.sample(range(1000), n)\n",
    "print('size of python list in bytes:', sys.getsizeof(myList))\n",
    "myArray = np.array(random.sample(range(1000), n))\n",
    "print('size of numpy array in bytes:', sys.getsizeof(myArray))"
   ]
  },
  {
   "cell_type": "markdown",
   "metadata": {},
   "source": [
    "From the example above, we can see that the as the input size increases, so does the memory consumption. Most importantly is that at large input sizes, NumPy arrays takes up less memory than Python lists."
   ]
  },
  {
   "cell_type": "markdown",
   "metadata": {},
   "source": [
    "**Speed**\n",
    "\n",
    "This shows some performance numbers of operations between Python list and NumPy array. "
   ]
  },
  {
   "cell_type": "code",
   "execution_count": 31,
   "metadata": {
    "ExecuteTime": {
     "end_time": "2020-11-17T05:35:07.619040Z",
     "start_time": "2020-11-17T05:35:07.216119Z"
    }
   },
   "outputs": [
    {
     "name": "stdout",
     "output_type": "stream",
     "text": [
      "python_list_version time taken, t1: 0.34003567695617676\n",
      "numpy_array_version time taken, t2: 0.008975744247436523\n",
      "Numpy array is  37.883842006003135 faster!\n"
     ]
    }
   ],
   "source": [
    "import time\n",
    "import numpy as np\n",
    "\n",
    "n = 1000000\n",
    "\n",
    "def python_list_version():\n",
    "    t1 = time.time()\n",
    "    X = range(n)\n",
    "    Y = range(n)\n",
    "    Z = [X[i] + Y[i] for i in range(len(X)) ] # list comprehension\n",
    "    return time.time() - t1\n",
    "\n",
    "def numpy_array_version():\n",
    "    t1 = time.time()\n",
    "    X = np.arange(n)\n",
    "    Y = np.arange(n)\n",
    "    Z = X + Y\n",
    "    return time.time() - t1\n",
    "\n",
    "t1 = python_list_version()\n",
    "t2 = numpy_array_version()\n",
    "print('python_list_version time taken, t1:', t1)\n",
    "print('numpy_array_version time taken, t2:', t2)\n",
    "print(\"Numpy array is  \" + str(t1/t2) + \" faster!\")"
   ]
  },
  {
   "cell_type": "markdown",
   "metadata": {},
   "source": [
    "Notice how the 2nd set of numbers (NumPy) are always smaller - meaning they have much better performance than their Python List core library counterparts."
   ]
  },
  {
   "cell_type": "markdown",
   "metadata": {},
   "source": [
    "---"
   ]
  },
  {
   "cell_type": "markdown",
   "metadata": {},
   "source": [
    "## Linked List\n",
    "\n",
    "*Think of trains!*\n",
    "\n",
    "**Linked List** is a data structure in which objects are arranged linearly. It is made of a single row of cabins (**nodes**), each connected to adjacent cabins. Each node consists of 2 fields:\n",
    "1. `data` - containing the data to be stored in the node\n",
    "2. `next` - containing the reference to the next node in the list (represented by arrows).\n",
    "\n",
    "<a name=\"linked_list\"></a>\n",
    "\n",
    "| ![linked_list](https://i.ibb.co/gzXZfrm/Slide7.png) |\n",
    "| :----------------------------------------------------------: |\n",
    "|      Fig 3.1. Visual representation of linked list       |\n",
    "\n",
    "*Class Discussion*\n",
    "> What does <u>reference</u> mean?"
   ]
  },
  {
   "cell_type": "markdown",
   "metadata": {},
   "source": [
    "---"
   ]
  },
  {
   "cell_type": "markdown",
   "metadata": {},
   "source": [
    "### Basic Implementation of a Singly Linked List\n",
    "\n",
    "Let's define the `node` class:"
   ]
  },
  {
   "cell_type": "code",
   "execution_count": 33,
   "metadata": {
    "ExecuteTime": {
     "end_time": "2020-11-17T05:48:50.586919Z",
     "start_time": "2020-11-17T05:48:50.575939Z"
    }
   },
   "outputs": [],
   "source": [
    "'''node class definition'''\n",
    "class Node:\n",
    "    def __init__(self,data):\n",
    "        self.data = data\n",
    "        self.next = None # Initializing it to None because it is not linked to another node."
   ]
  },
  {
   "cell_type": "markdown",
   "metadata": {},
   "source": [
    "Once we have the Node class, we can implement any *linked list* as follows:"
   ]
  },
  {
   "cell_type": "code",
   "execution_count": 34,
   "metadata": {
    "ExecuteTime": {
     "end_time": "2020-11-17T05:48:51.894409Z",
     "start_time": "2020-11-17T05:48:51.884438Z"
    }
   },
   "outputs": [],
   "source": [
    "'''creating node objects independently'''\n",
    "node1 = Node('This is a test')\n",
    "node2 = Node('3')\n",
    "node3 = Node(Node(\"Node in node.\")) # Node in node."
   ]
  },
  {
   "cell_type": "markdown",
   "metadata": {},
   "source": [
    "At this point, nodes are created but the are unlinked. To link them up, we can do the following:"
   ]
  },
  {
   "cell_type": "code",
   "execution_count": 35,
   "metadata": {
    "ExecuteTime": {
     "end_time": "2020-11-17T05:48:53.133093Z",
     "start_time": "2020-11-17T05:48:53.129104Z"
    }
   },
   "outputs": [],
   "source": [
    "'''linking nodes'''\n",
    "node1.next = node2\n",
    "node2.next = node3"
   ]
  },
  {
   "cell_type": "markdown",
   "metadata": {},
   "source": [
    "We can now display the entire linked list, by passing the first node, also known as the **head node**, as the argument. This is also known as linked *list traversal*."
   ]
  },
  {
   "cell_type": "code",
   "execution_count": 36,
   "metadata": {
    "ExecuteTime": {
     "end_time": "2020-11-17T05:48:54.500433Z",
     "start_time": "2020-11-17T05:48:54.494449Z"
    }
   },
   "outputs": [
    {
     "name": "stdout",
     "output_type": "stream",
     "text": [
      "This is a test\n",
      "3\n",
      "<__main__.Node object at 0x0000024A41EDD188>\n",
      "\n"
     ]
    }
   ],
   "source": [
    "'''printing a linked list'''\n",
    "def printLinkedList(node):\n",
    "    while node is not None:\n",
    "        print(node.data)\n",
    "        node = node.next\n",
    "    print()\n",
    "    \n",
    "printLinkedList(node1)"
   ]
  },
  {
   "cell_type": "markdown",
   "metadata": {},
   "source": [
    "*Class Discussion*\n",
    "> Explain the output. \n",
    "> - Why does the last print statement display a weird message?\n",
    "> - What do I write to print the last node?"
   ]
  },
  {
   "cell_type": "code",
   "execution_count": 37,
   "metadata": {
    "ExecuteTime": {
     "end_time": "2020-11-17T05:50:59.078930Z",
     "start_time": "2020-11-17T05:50:59.069953Z"
    }
   },
   "outputs": [
    {
     "name": "stdout",
     "output_type": "stream",
     "text": [
      "Node in node.\n"
     ]
    }
   ],
   "source": [
    "'''Accessing the last node'''\n",
    "print((node3.data).data)"
   ]
  },
  {
   "cell_type": "markdown",
   "metadata": {},
   "source": [
    "There are various ways of implementing a linked list in Python. The example above is a simplified version to demonstrate the workings of a linked list.\n",
    "\n",
    "*Thought Activity*\n",
    "> 1. How do we insert a node in between existing nodes?  \n",
    ">\n",
    "> 2. What are the big O notations for the search, insertion and deletion operation of a node? Explain.\n",
    ">\n",
    "> 3. Write a function to append a node at the end of a linked list recursively. Note: linked list are made up of sub linked lists."
   ]
  },
  {
   "cell_type": "markdown",
   "metadata": {},
   "source": [
    "*Solution*\n",
    "\n",
    "1. To insert between existing nodes"
   ]
  },
  {
   "cell_type": "code",
   "execution_count": null,
   "metadata": {},
   "outputs": [],
   "source": [
    "'''Insert between existing nodes'''\n",
    "nodePi = Node(3.142)"
   ]
  },
  {
   "cell_type": "markdown",
   "metadata": {},
   "source": [
    "2. Big O Notation for search, insert, delete\n",
    "\n",
    "|Operation|Time Complexity|\n",
    "|:--------|:-------------:|\n",
    "|$search$ | $O(n)$        |\n",
    "|$insert$ | $O(1)$        |\n",
    "|$delete$ | $O(1)$        |"
   ]
  },
  {
   "cell_type": "markdown",
   "metadata": {},
   "source": [
    "3. Append recursively."
   ]
  },
  {
   "cell_type": "code",
   "execution_count": null,
   "metadata": {},
   "outputs": [],
   "source": [
    "'''recursive append'''\n",
    "def append(currentNode, newdata):\n",
    "    if (currentNode == None):\n",
    "        return Node(newData)\n",
    "    else:\n",
    "        currentNode.next = append()"
   ]
  },
  {
   "cell_type": "markdown",
   "metadata": {},
   "source": [
    "---"
   ]
  },
  {
   "cell_type": "markdown",
   "metadata": {},
   "source": [
    "## Arrays vs Linked Lists\n",
    "\n",
    "- Arrays are made up of a contiguous block of memory, whereas linked list are dynamically allocated. This has several implications:\n",
    "\n",
    "  1. Accessing an element in an array is fast $O(1)$, whereas linked list takes linear time $O(n)$ (needs to start from head node).\n",
    "\n",
    "  2. Linked list are more memory efficient than arrays. In an array, each index is allocated a fixed size of memory (despite not needed the amount of memory), while linked list has a dynamic allocation of memory base on requirements.\n",
    "  \n",
    "- insertion/deletion operations are ineffecient in arrays - to insert an element, either have to create a new block of memory big enough to hold the inserted element or shift up one index after the insertion $O(n)$. On the other, we just need to manipulate the `next` values.\n",
    "\n",
    "- some operations in arrays benefit due to *cache locality* which improves performance."
   ]
  },
  {
   "cell_type": "markdown",
   "metadata": {},
   "source": [
    "---"
   ]
  }
 ],
 "metadata": {
  "kernelspec": {
   "display_name": "Python 3",
   "language": "python",
   "name": "python3"
  },
  "language_info": {
   "codemirror_mode": {
    "name": "ipython",
    "version": 3
   },
   "file_extension": ".py",
   "mimetype": "text/x-python",
   "name": "python",
   "nbconvert_exporter": "python",
   "pygments_lexer": "ipython3",
   "version": "3.7.7"
  }
 },
 "nbformat": 4,
 "nbformat_minor": 4
}
