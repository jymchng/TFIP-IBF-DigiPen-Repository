{
 "cells": [
  {
   "cell_type": "markdown",
   "metadata": {},
   "source": [
    "# Fundamental Data Structures and Algorithms 04a - Arrays and Linked List - Exercise\n",
    "---"
   ]
  },
  {
   "cell_type": "markdown",
   "metadata": {},
   "source": [
    "The following problems should help you get familiar with the arrays and linked lists"
   ]
  },
  {
   "cell_type": "markdown",
   "metadata": {},
   "source": [
    "  "
   ]
  },
  {
   "cell_type": "markdown",
   "metadata": {},
   "source": [
    "### Question 1  \n",
    "  \n",
    "**(a)** When you add 2 lists together: `[1, 2, 3] + [4, 5, 6]`, you will get `[1, 2, 3, 4, 5, 6]`. However, we want to sum elements together i.e. `[1, 2, 3] + [4, 5, 6]` will return `[5, 7, 9]`. Write a function `listSum` that takes 2 lists, `listA` and `listB` as input and returns a new list with the elements added together. Assume that both lists are of the same length and only consist of numbers."
   ]
  },
  {
   "cell_type": "code",
   "execution_count": 2,
   "metadata": {
    "ExecuteTime": {
     "end_time": "2020-11-17T06:05:02.141006Z",
     "start_time": "2020-11-17T06:05:02.128041Z"
    }
   },
   "outputs": [
    {
     "data": {
      "text/plain": [
       "[5, 7, 9]"
      ]
     },
     "execution_count": 2,
     "metadata": {},
     "output_type": "execute_result"
    }
   ],
   "source": [
    "def listSum(listA, listB):\n",
    "    # write your code here\n",
    "    return [listA[i]+listB[i] for i in range(len(listA))]\n",
    "\n",
    "listA = [1,2,3]\n",
    "listB = [4,5,6]\n",
    "listSum(listA,listB)"
   ]
  },
  {
   "cell_type": "markdown",
   "metadata": {},
   "source": [
    "  "
   ]
  },
  {
   "cell_type": "markdown",
   "metadata": {},
   "source": [
    "**(b)** Write a <u>recursive</u> function `allOnes` that takes in a list `l` and an input size `n`, and returns a list consisting of $n$ ones. E.g. if $n = 3$, the function will return `[1, 1, 1]`. "
   ]
  },
  {
   "cell_type": "code",
   "execution_count": 7,
   "metadata": {
    "ExecuteTime": {
     "end_time": "2020-11-17T06:07:23.586348Z",
     "start_time": "2020-11-17T06:07:23.577374Z"
    }
   },
   "outputs": [
    {
     "name": "stdout",
     "output_type": "stream",
     "text": [
      "[1, 1, 1, 1, 1, 1, 1, 1, 1, 1]\n",
      "[1, 1, 1, 1, 1]\n"
     ]
    }
   ],
   "source": [
    "def allOnes(l, n):\n",
    "    # write your code here\n",
    "    if n == 0:\n",
    "        return l\n",
    "    else:\n",
    "        a = [1]\n",
    "        l = a+l\n",
    "    return allOnes(l, n-1)\n",
    "\n",
    "l = []\n",
    "print(allOnes(l, 10))\n",
    "print(allOnes(l, 5))"
   ]
  },
  {
   "cell_type": "markdown",
   "metadata": {},
   "source": [
    "---"
   ]
  },
  {
   "cell_type": "markdown",
   "metadata": {},
   "source": [
    "### Question 2  \n",
    "\n",
    "In mathematics, an $m \\times n$ matrix is a rectangular grid of numberical values arranged in $m$ rows and $n$ columns. You will implement some of the common operations performed on matrices. For the following problems, you are to use lists to represent the matrix. You are also encouraged to write your own test cases for the functions that you have implemented.\n",
    "  \n",
    "For example,  \n",
    "  \n",
    "the row matrix, \n",
    "$\\quad\n",
    "a=\n",
    "\\begin{bmatrix}\n",
    "0&1&2\\\\\n",
    "\\end{bmatrix}\n",
    "\\quad\n",
    "$\n",
    ", can be written as `a = [0, 1, 2]`,  \n",
    "  \n",
    "the column matrix, \n",
    "$\\quad\n",
    "b=\n",
    "\\begin{bmatrix}\n",
    "3 \\\\\n",
    "4 \\\\\n",
    "5 \\\\\n",
    "\\end{bmatrix}\n",
    "\\quad\n",
    "$\n",
    ", can be written as `b = [[3], [4], [5]]` and,  \n",
    "  \n",
    "the $3 \\times 2$ matrix,\n",
    "$\\quad\n",
    "m=\n",
    "\\begin{bmatrix}\n",
    "0&1 \\\\\n",
    "2&3 \\\\\n",
    "4&5 \\\\\n",
    "\\end{bmatrix}\n",
    "\\quad\n",
    "$\n",
    ", can be written as the nested list, `m = [[0, 1], [2, 3], [4, 5]]`."
   ]
  },
  {
   "cell_type": "markdown",
   "metadata": {},
   "source": [
    "  "
   ]
  },
  {
   "cell_type": "markdown",
   "metadata": {},
   "source": [
    "**(a) Size of Matrix**  \n",
    "Implement the function `getSize` that takes in a matrix `m` as input and returns the size of the matrix as a tuple in the following format $(row, column)$. This will serve as an auxilary function to the other functions that requires their matrix inputs to be of the correct sizes."
   ]
  },
  {
   "cell_type": "code",
   "execution_count": 17,
   "metadata": {
    "ExecuteTime": {
     "end_time": "2020-11-26T14:05:24.381317Z",
     "start_time": "2020-11-26T14:05:24.375296Z"
    }
   },
   "outputs": [
    {
     "name": "stdout",
     "output_type": "stream",
     "text": [
      "(3, 2)\n",
      "<class 'list'>\n"
     ]
    }
   ],
   "source": [
    "def getSize(m):\n",
    "    # implement your code here\n",
    "    if not isinstance(m[0], list):\n",
    "        return 1, len(m)\n",
    "    return len(m), len(m[0])\n",
    "\n",
    "def getSize(m):\n",
    "    return (1, len(m)) if not isinstance(m[0],list) else (len(m),len(m[0]))\n",
    "\n",
    "m = [[0, 1], [2, 3], [4, 5]]\n",
    "print(getSize(m))\n",
    "print(type(m))"
   ]
  },
  {
   "cell_type": "code",
   "execution_count": 18,
   "metadata": {
    "ExecuteTime": {
     "end_time": "2020-11-26T14:05:25.503277Z",
     "start_time": "2020-11-26T14:05:25.498291Z"
    }
   },
   "outputs": [
    {
     "name": "stdout",
     "output_type": "stream",
     "text": [
      "(1, 3)\n",
      "(3, 1)\n"
     ]
    }
   ],
   "source": [
    "# Test cases\n",
    "a1 = [1, 2, 3]\n",
    "a2 = [[1], [2], [3]]\n",
    "print(getSize(a1))    # expected output: (1,3)\n",
    "print(getSize(a2))    # expected output: (3,1)\n",
    "# Write your test cases here\n"
   ]
  },
  {
   "cell_type": "markdown",
   "metadata": {},
   "source": [
    "  "
   ]
  },
  {
   "cell_type": "markdown",
   "metadata": {},
   "source": [
    "**(b) Additional and Subtraction**  \n",
    "Two $m \\times n$ matrices can be added or subtracted to create a third $m \\times n$ matrix. When adding two $m \\times n$ matrices, corresponding elements are summed as illustrated below.  \n",
    "  \n",
    "$$\n",
    "\\begin{bmatrix}\n",
    "0&1 \\\\\n",
    "2&3 \\\\\n",
    "4&5 \\\\\n",
    "\\end{bmatrix}\n",
    "+\n",
    "\\begin{bmatrix}\n",
    "6&7 \\\\\n",
    "8&9 \\\\\n",
    "1&0 \\\\\n",
    "\\end{bmatrix}\n",
    "=\n",
    "\\begin{bmatrix}\n",
    "(0+6)&(1+7) \\\\\n",
    "(2+8)&(3+9) \\\\\n",
    "(4+1)&(5+0) \\\\\n",
    "\\end{bmatrix}\n",
    "=\n",
    "\\begin{bmatrix}\n",
    "6&8 \\\\\n",
    "10&12 \\\\\n",
    "5&5 \\\\\n",
    "\\end{bmatrix}\\\\\n",
    "$$  \n",
    "  \n",
    "Subtraction is performed in a similar fashion but the corresponding elements are subtracted instead of summed.\n",
    "  \n",
    "You are to implement the matrix addition function `matrixSum` that takes in two matrices, `mA` and `mB`, as inputs and returns the summed matrix as output. Your function should ensure that both matrices have the same size."
   ]
  },
  {
   "cell_type": "code",
   "execution_count": 5,
   "metadata": {
    "ExecuteTime": {
     "end_time": "2020-11-26T14:02:01.839496Z",
     "start_time": "2020-11-26T14:02:01.831518Z"
    }
   },
   "outputs": [],
   "source": [
    "def matrixSum(mA, mB):\n",
    "    # implement your code here\n",
    "    rows, cols = getSize(mA)\n",
    "    \n",
    "    ### ERROR, LP ###\n",
    "    # c = [[0]*cols]*rows >>> CODE WITH ERROR <<<\n",
    "    # List is mutable i.e. [[0]*cols] generates something like [a,a,a]\n",
    "    # where each a is a list and if one of the 'a's got modified, all 3 'a's are modified too.\n",
    "    # print(\"c is \",c)\n",
    "    ### ERROR, LP ###\n",
    "    \n",
    "    c = [[[] for n in range(cols)] for n in range(rows)]\n",
    "    print(\"c is \",c)\n",
    "    \n",
    "    for i in range(rows):\n",
    "        for j in range(cols):\n",
    "#             print(i, j)\n",
    "#             print(f\"mA[{i}][{j}]: \",mA[i][j])\n",
    "#             print(f\"mB[{i}][{j}]: \",mB[i][j])\n",
    "            c[i][j] = mA[i][j] + mB[i][j]\n",
    "#             print(f\"c[{i}][{j}]: \",c[i][j])\n",
    "#       print(c)\n",
    "    return c"
   ]
  },
  {
   "cell_type": "code",
   "execution_count": 6,
   "metadata": {
    "ExecuteTime": {
     "end_time": "2020-11-26T14:02:02.637365Z",
     "start_time": "2020-11-26T14:02:02.633370Z"
    }
   },
   "outputs": [
    {
     "name": "stdout",
     "output_type": "stream",
     "text": [
      "(3, 2)\n",
      "c is  [[[], []], [[], []], [[], []]]\n",
      "b3 is:  [[6, 8], [10, 12], [5, 5]]\n"
     ]
    }
   ],
   "source": [
    "# Test cases\n",
    "b1 = [[0, 1], [2, 3], [4, 5]]\n",
    "b2 = [[6, 7], [8, 9], [1, 0]]\n",
    "print(getSize(b1))\n",
    "b3 = matrixSum(b1, b2)    # expected output: [[6, 8], [10, 12], [5, 5]]\n",
    "print(\"b3 is: \",b3)\n",
    "# Write your test cases here\n"
   ]
  },
  {
   "cell_type": "markdown",
   "metadata": {},
   "source": [
    "  "
   ]
  },
  {
   "cell_type": "markdown",
   "metadata": {},
   "source": [
    "**(c) Scaling**  \n",
    "matrix can be uniformly scaled, which modifies each element of the matrix by the same scale factor. A scale factor of less than $1$ has the effect of reducing the value of each element whereas a scale factor greater than $1$ increases the value of each element. Scaling a matrix by a scale factor of $3$ is illustrated here:  \n",
    "  \n",
    "$$\n",
    "3\n",
    "\\begin{bmatrix}\n",
    "6&7 \\\\\n",
    "8&9 \\\\\n",
    "1&0 \\\\\n",
    "\\end{bmatrix}\n",
    "=\n",
    "\\begin{bmatrix}\n",
    "(3\\times 6)&(3\\times 7) \\\\\n",
    "(3\\times 8)&(3\\times 9) \\\\\n",
    "(3\\times 1)&(3\\times 0) \\\\\n",
    "\\end{bmatrix}\n",
    "=\n",
    "\\begin{bmatrix}\n",
    "18&21 \\\\\n",
    "24&27 \\\\\n",
    "3&0 \\\\\n",
    "\\end{bmatrix}\\\\\n",
    "$$  \n",
    "  \n",
    "You are to implement the scale function `matrixScale` that takes in a matrix, `m`, and scale factor `sf`, as inputs and returns the scaled matrix as output."
   ]
  },
  {
   "cell_type": "code",
   "execution_count": 78,
   "metadata": {
    "ExecuteTime": {
     "end_time": "2020-11-17T06:50:34.450461Z",
     "start_time": "2020-11-17T06:50:34.445475Z"
    }
   },
   "outputs": [],
   "source": [
    "def matrixScale(m, sf):\n",
    "    # implement your code here\n",
    "    rows, cols = getSize(m)\n",
    "    c = [[[] for n in range(cols)] for n in range(rows)]\n",
    "    \n",
    "    for i in range(rows):\n",
    "        for j in range(cols):\n",
    "            c[i][j] = sf * m[i][j]\n",
    "    return c"
   ]
  },
  {
   "cell_type": "code",
   "execution_count": 79,
   "metadata": {
    "ExecuteTime": {
     "end_time": "2020-11-17T06:50:35.211424Z",
     "start_time": "2020-11-17T06:50:35.206437Z"
    }
   },
   "outputs": [
    {
     "name": "stdout",
     "output_type": "stream",
     "text": [
      "[[18, 21], [24, 27], [3, 0]]\n"
     ]
    }
   ],
   "source": [
    "# Test cases\n",
    "c1 = [[6, 7], [8, 9], [1, 0]]\n",
    "c2 = matrixScale(c1, 3)\n",
    "print(c2)    # expected output: [[18, 21], [24, 27], [3, 0]]\n",
    "# Write your test cases here\n"
   ]
  },
  {
   "cell_type": "markdown",
   "metadata": {},
   "source": [
    "  "
   ]
  },
  {
   "cell_type": "markdown",
   "metadata": {},
   "source": [
    "**NOT DONE!!! (d) Multiplication**  \n",
    "Matrix multiplication is only defined for matrices where the number of columns in the matrix on the lefthand side is equal to the number of rows in the matrix on the righthand side. The result is a new matrix that contains the same number of rows as the matrix on the lefthand side and the same number of columns as the matrix on the righthand side. In other words, given a matrix of size $m \\times n$ multiplied by a matrix of size $n \\times p$, the resulting matrix is of size $m \\times p$. In multiplying two matrices, each element of the new matrix is the result of summing the product of a row in the lefthand side matrix by a column in the righthand side matrix. In the example matrix multiplication illustrated here, the row and column used to compute the first entry i.e. $(0, 0)$ of the new matrix is in bold fonts.\n",
    "  \n",
    "$$\n",
    "\\begin{bmatrix}\n",
    "\\mathbf{0}&\\mathbf{1} \\\\\n",
    "2&3 \\\\\n",
    "4&5 \\\\\n",
    "\\end{bmatrix}\n",
    "\\times\n",
    "\\begin{bmatrix}\n",
    "\\mathbf{6}&7&8 \\\\\n",
    "\\mathbf{9}&1&0 \\\\\n",
    "\\end{bmatrix}\n",
    "=\n",
    "\\begin{bmatrix}\n",
    "\\mathbf{(0\\times 6 + 1\\times 9)}&(0\\times 7 + 1\\times 1)&(0\\times 8 + 1\\times 0) \\\\\n",
    "(2\\times 6 + 3\\times 9)&(2\\times 7 + 3\\times 1)&(2\\times 8 + 3\\times 0) \\\\\n",
    "(4\\times 6 + 5\\times 9)&(4\\times 7 + 5\\times 1)&(4\\times 8 + 5\\times 0) \\\\\n",
    "\\end{bmatrix}\n",
    "=\n",
    "\\begin{bmatrix}\n",
    "\\mathbf{9}&1&0 \\\\\n",
    "39&17&16 \\\\\n",
    "69&33&32 \\\\\n",
    "\\end{bmatrix}\\\\\n",
    "$$  \n",
    "  \n",
    "View matrix multiplication based on the element subscripts can help you to better understand the operation. Consider the two matrices from above and assume they are labeled $A$ and $B$, respectively.  \n",
    "  \n",
    "$$\n",
    "A=\n",
    "\\begin{bmatrix}\n",
    "\\mathbf{A_{0,0}}&\\mathbf{A_{0,1}} \\\\\n",
    "A_{1,0}&A_{1,1} \\\\\n",
    "A_{2,0}&A_{2,1} \\\\\n",
    "\\end{bmatrix}\n",
    "\\quad \\quad\n",
    "B=\n",
    "\\begin{bmatrix}\n",
    "\\mathbf{B_{0,0}}&B_{0,1}&B_{0,2} \\\\\n",
    "\\mathbf{B_{1,0}}&B_{1,1}&B_{1,2} \\\\\n",
    "\\end{bmatrix}\\\\\n",
    "$$  \n",
    "\n",
    "The computation of the individual elements resulting from multiplying $A$ and $B$ (i.e. $C = A \\times B$) is performed as follows:\n",
    "\n",
    "$$\n",
    "C_{0,0} = A_{0,0} \\times B_{0,0} + A_{0,1} \\times B_{1,0}\\\\\n",
    "C_{0,1} = A_{0,0} \\times B_{0,1} + A_{0,1} \\times B_{1,1}\\\\\n",
    "C_{0,2} = A_{0,0} \\times B_{0,2} + A_{0,1} \\times B_{1,2}\\\\\n",
    "C_{1,0} = A_{1,0} \\times B_{0,0} + A_{1,1} \\times B_{1,0}\\\\\n",
    "C_{1,1} = A_{1,0} \\times B_{0,1} + A_{1,1} \\times B_{1,1}\\\\\n",
    "C_{1,2} = A_{1,0} \\times B_{0,2} + A_{1,1} \\times B_{1,2}\\\\\n",
    "C_{2,0} = A_{2,0} \\times B_{0,0} + A_{2,1} \\times B_{1,0}\\\\\n",
    "C_{2,1} = A_{2,0} \\times B_{0,1} + A_{2,1} \\times B_{1,1}\\\\\n",
    "C_{2,2} = A_{2,0} \\times B_{0,2} + A_{2,1} \\times B_{1,2}\\\\\n",
    "$$  \n",
    "  \n",
    "resulting in  \n",
    "  \n",
    "$$\n",
    "\\\\\n",
    "C=\n",
    "\\begin{bmatrix}\n",
    "(A_{0,0} \\times B_{0,0} + A_{0,1} \\times B_{1,0})&\n",
    "(A_{0,0} \\times B_{0,1} + A_{0,1} \\times B_{1,1})&\n",
    "(A_{0,0} \\times B_{0,2} + A_{0,1} \\times B_{1,2}) \\\\\n",
    "(A_{1,0} \\times B_{0,0} + A_{1,1} \\times B_{1,0})&\n",
    "(A_{1,0} \\times B_{0,1} + A_{1,1} \\times B_{1,1})&\n",
    "(A_{1,0} \\times B_{0,2} + A_{1,1} \\times B_{1,2}) \\\\\n",
    "(A_{2,0} \\times B_{0,0} + A_{2,1} \\times B_{1,0})&\n",
    "(A_{2,0} \\times B_{0,1} + A_{2,1} \\times B_{1,1})&\n",
    "(A_{2,0} \\times B_{0,2} + A_{2,1} \\times B_{1,2})\n",
    "\\end{bmatrix}\\\\\n",
    "$$  \n",
    "  \n",
    "You are to implement the matrix multiplication function `matrixMultiplication` that takes in two matrices, `mA` and `mB`, as inputs and returns the multiplied matrix as output. The function must ensure that both matrices are of correct sizes before proceeding i.e. matrix `mA` of size $m \\times n$ when multiplied with matrix `mB` of size $n \\times p$ will retult in matrix `mC` of size $m \\times p$"
   ]
  },
  {
   "cell_type": "code",
   "execution_count": 8,
   "metadata": {
    "ExecuteTime": {
     "end_time": "2020-11-26T14:02:34.392350Z",
     "start_time": "2020-11-26T14:02:34.383374Z"
    }
   },
   "outputs": [],
   "source": [
    "def matrixMultiplication(mA, mB):\n",
    "    # Write your implementation here\n",
    "    mArows, mAcols = getSize(mA)\n",
    "    mBrows, mBcols = getSize(mB)\n",
    "    assert mAcols == mBrows, \"Not possible for matrix multiplication.\"\n",
    "    \n",
    "    if mArows != 1 and mBcols != 1:\n",
    "        c = [[[] for n in range(mBcols)] for n in range(mArows)]\n",
    "\n",
    "\n",
    "        for i in range(mArows):\n",
    "            for k in range(mBcols):\n",
    "                Cik = 0\n",
    "                for j in range(mAcols):\n",
    "                    Cik = Cik + mA[i][j]*mB[j][k]\n",
    "                c[i][k] = Cik\n",
    "                \n",
    "    return c"
   ]
  },
  {
   "cell_type": "code",
   "execution_count": 9,
   "metadata": {
    "ExecuteTime": {
     "end_time": "2020-11-26T14:02:35.259032Z",
     "start_time": "2020-11-26T14:02:35.254043Z"
    }
   },
   "outputs": [
    {
     "name": "stdout",
     "output_type": "stream",
     "text": [
      "[[9, 1, 0], [39, 17, 16], [69, 33, 32]]\n"
     ]
    }
   ],
   "source": [
    "# Test cases\n",
    "d1 = [[0, 1], [2, 3], [4, 5]] # Shape (3,2)\n",
    "d2 = [[6, 7, 8], [9, 1, 0]] # Shape (2, 3)\n",
    "d3 = matrixMultiplication(d1, d2)\n",
    "print(d3)    # expected output: [[9, 1, 0], [39, 17, 16], [69, 33, 32]] # Shape (3, 3)\n",
    "# Write your test cases here\n"
   ]
  },
  {
   "cell_type": "code",
   "execution_count": 19,
   "metadata": {
    "ExecuteTime": {
     "end_time": "2020-11-26T14:05:41.747790Z",
     "start_time": "2020-11-26T14:05:41.733827Z"
    }
   },
   "outputs": [
    {
     "name": "stdout",
     "output_type": "stream",
     "text": [
      "test case 1\n",
      "[[9, 1, 0], [39, 17, 16], [69, 33, 32]]\n",
      "\n",
      "test case 2\n"
     ]
    },
    {
     "ename": "TypeError",
     "evalue": "'int' object is not subscriptable",
     "output_type": "error",
     "traceback": [
      "\u001b[1;31m---------------------------------------------------------------------------\u001b[0m",
      "\u001b[1;31mTypeError\u001b[0m                                 Traceback (most recent call last)",
      "\u001b[1;32m<ipython-input-19-19f824225496>\u001b[0m in \u001b[0;36m<module>\u001b[1;34m\u001b[0m\n\u001b[0;32m     12\u001b[0m \u001b[1;31m#expected output: [20]\u001b[0m\u001b[1;33m\u001b[0m\u001b[1;33m\u001b[0m\u001b[1;33m\u001b[0m\u001b[0m\n\u001b[0;32m     13\u001b[0m \u001b[0mprint\u001b[0m\u001b[1;33m(\u001b[0m\u001b[1;34m'\\ntest case 2'\u001b[0m\u001b[1;33m)\u001b[0m\u001b[1;33m\u001b[0m\u001b[1;33m\u001b[0m\u001b[0m\n\u001b[1;32m---> 14\u001b[1;33m \u001b[0mprint\u001b[0m\u001b[1;33m(\u001b[0m\u001b[0mmatrixMultiplication\u001b[0m\u001b[1;33m(\u001b[0m\u001b[0md3\u001b[0m\u001b[1;33m,\u001b[0m \u001b[0md4\u001b[0m\u001b[1;33m)\u001b[0m\u001b[1;33m)\u001b[0m\u001b[1;33m\u001b[0m\u001b[1;33m\u001b[0m\u001b[0m\n\u001b[0m\u001b[0;32m     15\u001b[0m \u001b[1;31m#print(matrixMultiplication2(d3, d4))\u001b[0m\u001b[1;33m\u001b[0m\u001b[1;33m\u001b[0m\u001b[1;33m\u001b[0m\u001b[0m\n\u001b[0;32m     16\u001b[0m \u001b[1;33m\u001b[0m\u001b[0m\n",
      "\u001b[1;32m<ipython-input-8-8c18eb437501>\u001b[0m in \u001b[0;36mmatrixMultiplication\u001b[1;34m(mA, mB)\u001b[0m\n\u001b[0;32m     12\u001b[0m             \u001b[0mCik\u001b[0m \u001b[1;33m=\u001b[0m \u001b[1;36m0\u001b[0m\u001b[1;33m\u001b[0m\u001b[1;33m\u001b[0m\u001b[0m\n\u001b[0;32m     13\u001b[0m             \u001b[1;32mfor\u001b[0m \u001b[0mj\u001b[0m \u001b[1;32min\u001b[0m \u001b[0mrange\u001b[0m\u001b[1;33m(\u001b[0m\u001b[0mmAcols\u001b[0m\u001b[1;33m)\u001b[0m\u001b[1;33m:\u001b[0m\u001b[1;33m\u001b[0m\u001b[1;33m\u001b[0m\u001b[0m\n\u001b[1;32m---> 14\u001b[1;33m                 \u001b[0mCik\u001b[0m \u001b[1;33m=\u001b[0m \u001b[0mCik\u001b[0m \u001b[1;33m+\u001b[0m \u001b[0mmA\u001b[0m\u001b[1;33m[\u001b[0m\u001b[0mi\u001b[0m\u001b[1;33m]\u001b[0m\u001b[1;33m[\u001b[0m\u001b[0mj\u001b[0m\u001b[1;33m]\u001b[0m\u001b[1;33m*\u001b[0m\u001b[0mmB\u001b[0m\u001b[1;33m[\u001b[0m\u001b[0mj\u001b[0m\u001b[1;33m]\u001b[0m\u001b[1;33m[\u001b[0m\u001b[0mk\u001b[0m\u001b[1;33m]\u001b[0m\u001b[1;33m\u001b[0m\u001b[1;33m\u001b[0m\u001b[0m\n\u001b[0m\u001b[0;32m     15\u001b[0m             \u001b[0mc\u001b[0m\u001b[1;33m[\u001b[0m\u001b[0mi\u001b[0m\u001b[1;33m]\u001b[0m\u001b[1;33m[\u001b[0m\u001b[0mk\u001b[0m\u001b[1;33m]\u001b[0m \u001b[1;33m=\u001b[0m \u001b[0mCik\u001b[0m\u001b[1;33m\u001b[0m\u001b[1;33m\u001b[0m\u001b[0m\n\u001b[0;32m     16\u001b[0m \u001b[1;33m\u001b[0m\u001b[0m\n",
      "\u001b[1;31mTypeError\u001b[0m: 'int' object is not subscriptable"
     ]
    }
   ],
   "source": [
    "# Test case 1\n",
    "d1 = [[0, 1], [2, 3], [4, 5]]\n",
    "d2 = [[6, 7, 8], [9, 1, 0]]\n",
    "#expected output: [[9, 1, 0], [39, 17, 16], [69, 33, 32]]\n",
    "print('test case 1')\n",
    "print(matrixMultiplication(d1, d2))\n",
    "#print(matrixMultiplication2(d1, d2))\n",
    "\n",
    "# Test case 2\n",
    "d3 = [1, 2, 3]\n",
    "d4 = [[2],[3],[4]]\n",
    "#expected output: [20]\n",
    "print('\\ntest case 2')\n",
    "print(matrixMultiplication(d3, d4))\n",
    "#print(matrixMultiplication2(d3, d4))\n",
    "\n",
    "# Test case 3\n",
    "d5 = [1, 2, 3]\n",
    "d6 = [[2,1,0],[3,2,1],[4,3,2]]\n",
    "#expected output: [[20],[14]]\n",
    "print('\\ntest case 3')\n",
    "print(matrixMultiplication(d5, d6))\n",
    "#print(matrixMultiplication2(d5, d6))\n",
    "\n",
    "# Test case 4\n",
    "d7 = [[1],[2],[3]]\n",
    "d8 = [4,5,6]\n",
    "#expected output: [[20],[14]]\n",
    "print('\\ntest case 4')\n",
    "print(matrixMultiplication(d7, d8))\n",
    "#print(matrixMultiplication2(d7, d8))"
   ]
  },
  {
   "cell_type": "markdown",
   "metadata": {},
   "source": [
    "  "
   ]
  },
  {
   "cell_type": "markdown",
   "metadata": {},
   "source": [
    "**(e) Transpose**  \n",
    "Another useful operation that can be applied to a matrix is the matrix transpose. Given a $m \\times n$ matrix, a transpose swaps the rows and columns to create a new matrix of size $n \\times m$ as illustrated here:  \n",
    "  \n",
    "$$\n",
    "\\begin{bmatrix}\n",
    "0&1 \\\\\n",
    "2&3 \\\\\n",
    "4&5 \\\\\n",
    "\\end{bmatrix}\n",
    "^{\\ T}\n",
    "=\n",
    "\\begin{bmatrix}\n",
    "0&2&4 \\\\\n",
    "1&3&5 \\\\\n",
    "\\end{bmatrix}\\\\\n",
    "$$  \n",
    "  \n",
    "You are to implement the matrix transpose function `matrixTranspose` that takes in a matrix, `m`,  and returns the transposed matrix as output."
   ]
  },
  {
   "cell_type": "code",
   "execution_count": 115,
   "metadata": {
    "ExecuteTime": {
     "end_time": "2020-11-17T07:09:05.241811Z",
     "start_time": "2020-11-17T07:09:05.233834Z"
    }
   },
   "outputs": [],
   "source": [
    "def matrixTranspose(m):\n",
    "    # Write your implementation here\n",
    "    rows, cols = getSize(m)\n",
    "    \n",
    "    ### INCORRECT CODE ###\n",
    "    # ERROR CODE >>> c = [[[] for n in range(cols)] for n in range(rows)]\n",
    "    # Creating matrix for transpose so the size of the matrix must be swapped, i.e.\n",
    "    # (m,n) becomes (n,m)\n",
    "    \n",
    "    c = [[[] for n in range(rows)] for n in range(cols)]\n",
    "    \n",
    "    for i in range(rows):\n",
    "        for j in range(cols):\n",
    "            # print(i,j)\n",
    "            c[j][i] = m[i][j]\n",
    "            # print(c)\n",
    "    return c"
   ]
  },
  {
   "cell_type": "code",
   "execution_count": 116,
   "metadata": {
    "ExecuteTime": {
     "end_time": "2020-11-17T07:09:05.688615Z",
     "start_time": "2020-11-17T07:09:05.682633Z"
    }
   },
   "outputs": [
    {
     "name": "stdout",
     "output_type": "stream",
     "text": [
      "e2 is:  [[0, 2, 4], [1, 3, 5]]\n"
     ]
    }
   ],
   "source": [
    "# Test cases\n",
    "e1 = [[0, 1], [2, 3], [4, 5]] # Shape (3,2)\n",
    "e2 = matrixTranspose(m)\n",
    "print(\"e2 is: \", e2)    # expected output: [[0, 2, 4], [1, 3, 5]]\n",
    "# Write your test cases here\n"
   ]
  },
  {
   "cell_type": "markdown",
   "metadata": {},
   "source": [
    "  "
   ]
  },
  {
   "cell_type": "markdown",
   "metadata": {},
   "source": [
    "**(f) NumPy Array**  \n",
    "  \n",
    "NumPy is a popular Python library that supports many mathematical functions. Instead of using *lists* to represent a matrix, a NumPy array is much more suitable.  \n",
    "  \n",
    "Similarly,  \n",
    "  \n",
    "the row matrix, \n",
    "$\\quad\n",
    "a=\n",
    "\\begin{bmatrix}\n",
    "0&1&2\\\\\n",
    "\\end{bmatrix}\n",
    "\\quad\n",
    "$\n",
    ", can be written as `a = np.array([0, 1, 2])`,  \n",
    "  \n",
    "the column matrix, \n",
    "$\\quad\n",
    "b=\n",
    "\\begin{bmatrix}\n",
    "3 \\\\\n",
    "4 \\\\\n",
    "5 \\\\\n",
    "\\end{bmatrix}\n",
    "\\quad\n",
    "$\n",
    ", can be written as `b = np.array([[3], [4], [5]])` and,  \n",
    "  \n",
    "the $3 \\times 2$ matrix,\n",
    "$\\quad\n",
    "m=\n",
    "\\begin{bmatrix}\n",
    "0&1 \\\\\n",
    "2&3 \\\\\n",
    "4&5 \\\\\n",
    "\\end{bmatrix}\n",
    "\\quad\n",
    "$\n",
    ", can be written as the nested list, `m = np.array([[0, 1], [2, 3], [4, 5]])`.  \n",
    "  \n",
    "For each of the matrix operations above, you are to find their equivalent functions within the NumPy module. You are to compare your results"
   ]
  },
  {
   "cell_type": "code",
   "execution_count": null,
   "metadata": {},
   "outputs": [],
   "source": [
    "import numpy as np\n",
    "\n",
    "# Write your code here\n"
   ]
  },
  {
   "cell_type": "markdown",
   "metadata": {},
   "source": [
    "---"
   ]
  },
  {
   "cell_type": "markdown",
   "metadata": {},
   "source": [
    "### Question 3  \n",
    "  \n",
    "**(a)**  In the linked list presented in the notes, each node maintains a reference to the node that is immediately after it. A **doubly linked list** is a linked list that references <u>both the node before and after it</u>. This provides a greater flexibility as compared to the standard linked list.\n",
    "\n",
    "![doubly linked list](https://i.ibb.co/ftMwyZt/Slide49.png)\n",
    "\n",
    "Complete the implementation of the doubly linked list class below. The class `Node` and the ` __init__()` method have been done for you."
   ]
  },
  {
   "cell_type": "code",
   "execution_count": 361,
   "metadata": {
    "ExecuteTime": {
     "end_time": "2020-11-17T14:24:46.134628Z",
     "start_time": "2020-11-17T14:24:46.113687Z"
    }
   },
   "outputs": [],
   "source": [
    "class DoublyLinkedList:\n",
    "    \n",
    "    class Node: # Inner Class\n",
    "        def __init__(self, data, prev, next):\n",
    "            self.data = data\n",
    "            self.prev = prev # 'prev' points to a Node\n",
    "            self.next = next # 'next' points to a Node\n",
    "            \n",
    "    def __init__(self):\n",
    "        self.head = self.Node(None, None, None) # head is a Node\n",
    "        self.tail = self.Node(None, None, None) # tail is also a Node\n",
    "        self.head.next = self.tail # Node call 'head' has an attribute call 'next'\n",
    "        self.tail.prev = self.head\n",
    "        \n",
    "        \n",
    "    # this will return the number of nodes in your linked list (aka length of the list)\n",
    "    ''' MY WRONG CODE\n",
    "    def __len__(self):\n",
    "        # Implement your code here\n",
    "        return self.size\n",
    "    '''\n",
    "    ##### Took Tian Liang's Code #####\n",
    "    def __len__(self):\n",
    "        if self.head.next == self.tail:\n",
    "            self.size = 0\n",
    "            return self.size\n",
    "        self.size = 0\n",
    "        current_node = self.head\n",
    "        while True:\n",
    "            current_node = current_node.next\n",
    "            if current_node == self.tail:\n",
    "                break\n",
    "            self.size += 1\n",
    "        return self.size \n",
    "    \n",
    "    # this will return a True if list is empty\n",
    "    def isEmpty(self):\n",
    "        # Implement your code here\n",
    "        return True if len(self) == 0 else False\n",
    "    \n",
    "    # this will insert a node between two existing nodes and return new node\n",
    "    ### NEVER READ?!?!?! NEED TO RETURN THE NEW NODE SO HAVE TO CREATE THE NODE INSIDE insert()\n",
    "    def insert(self, newData, predecessor, successor):\n",
    "        # Implement your code here\n",
    "        newNode = self.Node(newData, None, None)\n",
    "        \n",
    "        newNode.prev = predecessor\n",
    "        predecessor.next = newNode\n",
    "        \n",
    "        newNode.next = successor\n",
    "        successor.prev = newNode\n",
    "        \n",
    "# DON'T INCREASE SELF.SIZE HERE, LET LEN() BE COUNTING THE NODES!\n",
    "# IF NOT, SOMEONE WHO RUNS INSERT TWICE WILL NOT INSE\n",
    "        return newNode\n",
    "    \n",
    "    # deletes node and returns the deleted data, returns None if no such node exists\n",
    "    def deleteNode(self,node):\n",
    "        # Implement your code here\n",
    "        if node.next is not None and node.prev is not None:\n",
    "            node.prev.next = node.next\n",
    "            node.next.prev = node.prev\n",
    "            # self.size -=1\n",
    "            return node.data\n",
    "        else:\n",
    "            return\n",
    "        \n",
    "    \n",
    "    # prints list data from head to tail or prints \"list is empty\" if list is empty\n",
    "    def forwardPrint(self):\n",
    "        # Implement your code here\n",
    "        if self.isEmpty():\n",
    "            return \"List is empty.\"\n",
    "        else:\n",
    "            node = self.head.next\n",
    "            print(f\"First node data is: {self.head.data}\")\n",
    "            print(f\"--- There are {len(self)} intermediate nodes ---\")\n",
    "            while node.next is not None:\n",
    "                \n",
    "                print(f\"Intermediate node data is: {node.data}\")\n",
    "                node = node.next\n",
    "                \n",
    "            print(f\"Last node data is: {self.tail.data}\")\n",
    "            print(f\"--- End of DLL ---\")\n",
    "    \n",
    "    # prints list data from tail back to head or prints \"list is empty\" if list is empty\n",
    "    def reversePrint(self):\n",
    "        # Implement your code here\n",
    "        if self.isEmpty():\n",
    "            return \"List is empty.\"\n",
    "        else:\n",
    "            node = self.tail.prev\n",
    "            print(f\"Last node data is: {self.tail.data}\")\n",
    "            print(f\"--- There are {len(self)} intermediate nodes ---\")\n",
    "            while node.prev is not None:\n",
    "                \n",
    "                print(f\"Intermediate node data is: {node.data}\")\n",
    "                node = node.prev\n",
    "                \n",
    "            print(f\"First node data is: {self.head.data}\")\n",
    "            print(f\"--- End of DLL ---\")"
   ]
  },
  {
   "cell_type": "markdown",
   "metadata": {},
   "source": [
    "  "
   ]
  },
  {
   "cell_type": "markdown",
   "metadata": {},
   "source": [
    "**(b)** You are to implement your own test cases to ensure that your doubly linked list class is implemented correctly."
   ]
  },
  {
   "cell_type": "code",
   "execution_count": 362,
   "metadata": {
    "ExecuteTime": {
     "end_time": "2020-11-17T14:24:47.797180Z",
     "start_time": "2020-11-17T14:24:47.794188Z"
    }
   },
   "outputs": [],
   "source": [
    "# Do not modify this cell.\n",
    "# Run this before running the test cases below.\n",
    "dll = DoublyLinkedList()"
   ]
  },
  {
   "cell_type": "code",
   "execution_count": 363,
   "metadata": {
    "ExecuteTime": {
     "end_time": "2020-11-17T14:24:48.318783Z",
     "start_time": "2020-11-17T14:24:48.306814Z"
    }
   },
   "outputs": [
    {
     "name": "stdout",
     "output_type": "stream",
     "text": [
      "<__main__.DoublyLinkedList object at 0x0000023917F3EAC8>\n"
     ]
    },
    {
     "data": {
      "text/plain": [
       "True"
      ]
     },
     "execution_count": 363,
     "metadata": {},
     "output_type": "execute_result"
    }
   ],
   "source": [
    "# Test 1: verify that the list is empty; expected output: True\n",
    "# Implement your code here\n",
    "print(dll)\n",
    "dll.isEmpty()\n"
   ]
  },
  {
   "cell_type": "code",
   "execution_count": 364,
   "metadata": {
    "ExecuteTime": {
     "end_time": "2020-11-17T14:24:48.907209Z",
     "start_time": "2020-11-17T14:24:48.903262Z"
    }
   },
   "outputs": [
    {
     "data": {
      "text/plain": [
       "0"
      ]
     },
     "execution_count": 364,
     "metadata": {},
     "output_type": "execute_result"
    }
   ],
   "source": [
    "# Test 2: check the length of the list; expected output: 0\n",
    "# Implement your code here\n",
    "len(dll)\n"
   ]
  },
  {
   "cell_type": "code",
   "execution_count": 365,
   "metadata": {
    "ExecuteTime": {
     "end_time": "2020-11-17T14:24:49.451750Z",
     "start_time": "2020-11-17T14:24:49.447761Z"
    }
   },
   "outputs": [
    {
     "name": "stdout",
     "output_type": "stream",
     "text": [
      "List is empty.\n"
     ]
    }
   ],
   "source": [
    "# Test 3: print list; expected output: \"list is empty\"\n",
    "# Implement your code here\n",
    "print(dll.forwardPrint())"
   ]
  },
  {
   "cell_type": "code",
   "execution_count": 366,
   "metadata": {
    "ExecuteTime": {
     "end_time": "2020-11-17T14:24:49.967369Z",
     "start_time": "2020-11-17T14:24:49.962381Z"
    }
   },
   "outputs": [
    {
     "name": "stdout",
     "output_type": "stream",
     "text": [
      "1\n",
      "First node data is: None\n",
      "--- There are 1 intermediate nodes ---\n",
      "Intermediate node data is: 2\n",
      "Last node data is: None\n",
      "--- End of DLL ---\n"
     ]
    }
   ],
   "source": [
    "# Test 4: Insert '2'\n",
    "# Implement your code here\n",
    "\n",
    "# newNode2 = dll.Node('2',None,None) The node creation should be inside INSERT and NOT OUTSIDE.\n",
    "# dll.insert(newNode2, dll.head, dll.tail) Insert returns a new node so should assign that to a\n",
    "# variable.\n",
    "\n",
    "newNode2 = dll.insert(2,dll.head,dll.tail)\n",
    "\n",
    "print(len(dll))\n",
    "\n",
    "dll.forwardPrint() # Print to see if DLL is working correctly.\n"
   ]
  },
  {
   "cell_type": "code",
   "execution_count": 367,
   "metadata": {
    "ExecuteTime": {
     "end_time": "2020-11-17T14:24:50.714372Z",
     "start_time": "2020-11-17T14:24:50.710381Z"
    }
   },
   "outputs": [
    {
     "name": "stdout",
     "output_type": "stream",
     "text": [
      "First node data is: None\n",
      "--- There are 2 intermediate nodes ---\n",
      "Intermediate node data is: 2\n",
      "Intermediate node data is: 3\n",
      "Last node data is: None\n",
      "--- End of DLL ---\n"
     ]
    }
   ],
   "source": [
    "# Test 5: Insert '3' at tail\n",
    "# Implement your code here\n",
    "newNode3 = dll.insert(3,newNode2,dll.tail)\n",
    "\n",
    "dll.forwardPrint()"
   ]
  },
  {
   "cell_type": "code",
   "execution_count": 368,
   "metadata": {
    "ExecuteTime": {
     "end_time": "2020-11-17T14:24:51.562099Z",
     "start_time": "2020-11-17T14:24:51.557115Z"
    }
   },
   "outputs": [
    {
     "name": "stdout",
     "output_type": "stream",
     "text": [
      "First node data is: None\n",
      "--- There are 3 intermediate nodes ---\n",
      "Intermediate node data is: 1\n",
      "Intermediate node data is: 2\n",
      "Intermediate node data is: 3\n",
      "Last node data is: None\n",
      "--- End of DLL ---\n"
     ]
    }
   ],
   "source": [
    "# Test 6: Insert '1' at head\n",
    "# Implement your code here\n",
    "newNode1 = dll.insert(1,dll.head,newNode2)\n",
    "dll.forwardPrint()"
   ]
  },
  {
   "cell_type": "code",
   "execution_count": 369,
   "metadata": {
    "ExecuteTime": {
     "end_time": "2020-11-17T14:24:53.139877Z",
     "start_time": "2020-11-17T14:24:53.134891Z"
    }
   },
   "outputs": [
    {
     "data": {
      "text/plain": [
       "False"
      ]
     },
     "execution_count": 369,
     "metadata": {},
     "output_type": "execute_result"
    }
   ],
   "source": [
    "# Test 7: check if list is empty; expected output: False\n",
    "# Implement your code here\n",
    "dll.isEmpty()"
   ]
  },
  {
   "cell_type": "code",
   "execution_count": 370,
   "metadata": {
    "ExecuteTime": {
     "end_time": "2020-11-17T14:24:53.871919Z",
     "start_time": "2020-11-17T14:24:53.867929Z"
    }
   },
   "outputs": [
    {
     "data": {
      "text/plain": [
       "3"
      ]
     },
     "execution_count": 370,
     "metadata": {},
     "output_type": "execute_result"
    }
   ],
   "source": [
    "# Test 8: verify the length of the list; expected output: 3\n",
    "# Implement your code here\n",
    "len(dll)"
   ]
  },
  {
   "cell_type": "code",
   "execution_count": 371,
   "metadata": {
    "ExecuteTime": {
     "end_time": "2020-11-17T14:24:54.895177Z",
     "start_time": "2020-11-17T14:24:54.890192Z"
    }
   },
   "outputs": [
    {
     "name": "stdout",
     "output_type": "stream",
     "text": [
      "First node data is: None\n",
      "--- There are 3 intermediate nodes ---\n",
      "Intermediate node data is: 1\n",
      "Intermediate node data is: 2\n",
      "Intermediate node data is: 3\n",
      "Last node data is: None\n",
      "--- End of DLL ---\n"
     ]
    }
   ],
   "source": [
    "# Test 9: print list forwards; expected output: 1 2 3\n",
    "# Implement your code here\n",
    "dll.forwardPrint()"
   ]
  },
  {
   "cell_type": "code",
   "execution_count": 372,
   "metadata": {
    "ExecuteTime": {
     "end_time": "2020-11-17T14:24:55.672096Z",
     "start_time": "2020-11-17T14:24:55.668109Z"
    }
   },
   "outputs": [
    {
     "name": "stdout",
     "output_type": "stream",
     "text": [
      "First node data is: None\n",
      "--- There are 2 intermediate nodes ---\n",
      "Intermediate node data is: 1\n",
      "Intermediate node data is: 3\n",
      "Last node data is: None\n",
      "--- End of DLL ---\n"
     ]
    }
   ],
   "source": [
    "# Test 10: Delete '2'\n",
    "# Implement your code here\n",
    "dll.deleteNode(newNode2)\n",
    "dll.forwardPrint()"
   ]
  },
  {
   "cell_type": "code",
   "execution_count": 373,
   "metadata": {
    "ExecuteTime": {
     "end_time": "2020-11-17T14:24:56.301414Z",
     "start_time": "2020-11-17T14:24:56.296428Z"
    }
   },
   "outputs": [
    {
     "data": {
      "text/plain": [
       "2"
      ]
     },
     "execution_count": 373,
     "metadata": {},
     "output_type": "execute_result"
    }
   ],
   "source": [
    "# Test 11: verify the length of the list; expected output: 2\n",
    "# Implement your code here\n",
    "len(dll)"
   ]
  },
  {
   "cell_type": "code",
   "execution_count": 374,
   "metadata": {
    "ExecuteTime": {
     "end_time": "2020-11-17T14:24:57.058387Z",
     "start_time": "2020-11-17T14:24:57.054435Z"
    }
   },
   "outputs": [
    {
     "name": "stdout",
     "output_type": "stream",
     "text": [
      "Last node data is: None\n",
      "--- There are 2 intermediate nodes ---\n",
      "Intermediate node data is: 3\n",
      "Intermediate node data is: 1\n",
      "First node data is: None\n",
      "--- End of DLL ---\n"
     ]
    }
   ],
   "source": [
    "# Test 12: print list in reverse; expected output: 3 1\n",
    "# Implement your code here\n",
    "dll.reversePrint()"
   ]
  },
  {
   "cell_type": "code",
   "execution_count": 375,
   "metadata": {
    "ExecuteTime": {
     "end_time": "2020-11-17T14:24:57.826336Z",
     "start_time": "2020-11-17T14:24:57.821345Z"
    }
   },
   "outputs": [
    {
     "data": {
      "text/plain": [
       "1"
      ]
     },
     "execution_count": 375,
     "metadata": {},
     "output_type": "execute_result"
    }
   ],
   "source": [
    "# Test 13: Delete '1'\n",
    "# Implement your code here\n",
    "dll.deleteNode(newNode1)"
   ]
  },
  {
   "cell_type": "code",
   "execution_count": 376,
   "metadata": {
    "ExecuteTime": {
     "end_time": "2020-11-17T14:24:58.541416Z",
     "start_time": "2020-11-17T14:24:58.537428Z"
    }
   },
   "outputs": [
    {
     "data": {
      "text/plain": [
       "3"
      ]
     },
     "execution_count": 376,
     "metadata": {},
     "output_type": "execute_result"
    }
   ],
   "source": [
    "# Test 14: Delete '3'\n",
    "# Implement your code here\n",
    "dll.deleteNode(newNode3)"
   ]
  },
  {
   "cell_type": "code",
   "execution_count": 377,
   "metadata": {
    "ExecuteTime": {
     "end_time": "2020-11-17T14:24:59.169779Z",
     "start_time": "2020-11-17T14:24:59.161777Z"
    }
   },
   "outputs": [
    {
     "ename": "NameError",
     "evalue": "name 'newNode4' is not defined",
     "output_type": "error",
     "traceback": [
      "\u001b[1;31m---------------------------------------------------------------------------\u001b[0m",
      "\u001b[1;31mNameError\u001b[0m                                 Traceback (most recent call last)",
      "\u001b[1;32m<ipython-input-377-96e1642b347f>\u001b[0m in \u001b[0;36m<module>\u001b[1;34m\u001b[0m\n\u001b[0;32m      1\u001b[0m \u001b[1;31m# Test 15: Delete '4', expected output: None\u001b[0m\u001b[1;33m\u001b[0m\u001b[1;33m\u001b[0m\u001b[1;33m\u001b[0m\u001b[0m\n\u001b[0;32m      2\u001b[0m \u001b[1;31m# Implement your code here\u001b[0m\u001b[1;33m\u001b[0m\u001b[1;33m\u001b[0m\u001b[1;33m\u001b[0m\u001b[0m\n\u001b[1;32m----> 3\u001b[1;33m \u001b[0mdll\u001b[0m\u001b[1;33m.\u001b[0m\u001b[0mdeleteNode\u001b[0m\u001b[1;33m(\u001b[0m\u001b[0mnewNode4\u001b[0m\u001b[1;33m)\u001b[0m\u001b[1;33m\u001b[0m\u001b[1;33m\u001b[0m\u001b[0m\n\u001b[0m",
      "\u001b[1;31mNameError\u001b[0m: name 'newNode4' is not defined"
     ]
    }
   ],
   "source": [
    "# Test 15: Delete '4', expected output: None\n",
    "# Implement your code here\n",
    "dll.deleteNode(newNode4)"
   ]
  },
  {
   "cell_type": "code",
   "execution_count": 378,
   "metadata": {
    "ExecuteTime": {
     "end_time": "2020-11-17T14:24:59.825978Z",
     "start_time": "2020-11-17T14:24:59.823000Z"
    }
   },
   "outputs": [],
   "source": [
    "# Test 16: Repeat Tests #1, #2, #3. You can copy code here.\n",
    "# Implement your code here\n"
   ]
  },
  {
   "cell_type": "code",
   "execution_count": 379,
   "metadata": {
    "ExecuteTime": {
     "end_time": "2020-11-17T14:25:00.387514Z",
     "start_time": "2020-11-17T14:25:00.380494Z"
    }
   },
   "outputs": [
    {
     "name": "stdout",
     "output_type": "stream",
     "text": [
      "<__main__.DoublyLinkedList object at 0x0000023917F3EAC8>\n"
     ]
    },
    {
     "data": {
      "text/plain": [
       "True"
      ]
     },
     "execution_count": 379,
     "metadata": {},
     "output_type": "execute_result"
    }
   ],
   "source": [
    "# Test 1: verify that the list is empty; expected output: True\n",
    "# Implement your code here\n",
    "print(dll)\n",
    "dll.isEmpty()"
   ]
  },
  {
   "cell_type": "code",
   "execution_count": 380,
   "metadata": {
    "ExecuteTime": {
     "end_time": "2020-11-17T14:25:01.082613Z",
     "start_time": "2020-11-17T14:25:01.077626Z"
    }
   },
   "outputs": [
    {
     "data": {
      "text/plain": [
       "0"
      ]
     },
     "execution_count": 380,
     "metadata": {},
     "output_type": "execute_result"
    }
   ],
   "source": [
    "# Test 2: check the length of the list; expected output: 0\n",
    "# Implement your code here\n",
    "len(dll)\n"
   ]
  },
  {
   "cell_type": "code",
   "execution_count": 381,
   "metadata": {
    "ExecuteTime": {
     "end_time": "2020-11-17T14:25:01.685000Z",
     "start_time": "2020-11-17T14:25:01.681042Z"
    }
   },
   "outputs": [
    {
     "name": "stdout",
     "output_type": "stream",
     "text": [
      "List is empty.\n"
     ]
    }
   ],
   "source": [
    "# Test 3: print list; expected output: \"list is empty\"\n",
    "# Implement your code here\n",
    "print(dll.forwardPrint())"
   ]
  },
  {
   "cell_type": "markdown",
   "metadata": {},
   "source": [
    "  "
   ]
  },
  {
   "cell_type": "markdown",
   "metadata": {},
   "source": [
    "**(c)** Write a function `listToDLL` that takes a list and returns a doubly linked list."
   ]
  },
  {
   "cell_type": "code",
   "execution_count": 382,
   "metadata": {
    "ExecuteTime": {
     "end_time": "2020-11-17T14:25:03.776437Z",
     "start_time": "2020-11-17T14:25:03.772412Z"
    }
   },
   "outputs": [],
   "source": [
    "# implement your code here\n",
    "def listToDLL(lst):\n",
    "    dll = DoublyLinkedList()\n",
    "    start = dll.head\n",
    "    end = dll.tail\n",
    "    for l in lst:\n",
    "        node = dll.insert(l, start, end)\n",
    "        start = start.next\n",
    "    return dll"
   ]
  },
  {
   "cell_type": "code",
   "execution_count": 383,
   "metadata": {
    "ExecuteTime": {
     "end_time": "2020-11-17T14:25:04.609172Z",
     "start_time": "2020-11-17T14:25:04.604185Z"
    }
   },
   "outputs": [
    {
     "name": "stdout",
     "output_type": "stream",
     "text": [
      "First node data is: None\n",
      "--- There are 4 intermediate nodes ---\n",
      "Intermediate node data is: 5\n",
      "Intermediate node data is: 6\n",
      "Intermediate node data is: 7\n",
      "Intermediate node data is: 8\n",
      "Last node data is: None\n",
      "--- End of DLL ---\n",
      "None\n",
      "First node data is: None\n",
      "--- There are 4 intermediate nodes ---\n",
      "Intermediate node data is: 3\n",
      "Intermediate node data is: 6\n",
      "Intermediate node data is: 4\n",
      "Intermediate node data is: 8\n",
      "Last node data is: None\n",
      "--- End of DLL ---\n",
      "None\n"
     ]
    }
   ],
   "source": [
    "# Test your code here\n",
    "\n",
    "print(listToDLL([5,6,7,8]).forwardPrint())\n",
    "print(listToDLL([3,6,4,8]).forwardPrint())"
   ]
  },
  {
   "cell_type": "markdown",
   "metadata": {},
   "source": [
    "  "
   ]
  }
 ],
 "metadata": {
  "kernelspec": {
   "display_name": "Python 3",
   "language": "python",
   "name": "python3"
  },
  "language_info": {
   "codemirror_mode": {
    "name": "ipython",
    "version": 3
   },
   "file_extension": ".py",
   "mimetype": "text/x-python",
   "name": "python",
   "nbconvert_exporter": "python",
   "pygments_lexer": "ipython3",
   "version": "3.7.7"
  }
 },
 "nbformat": 4,
 "nbformat_minor": 4
}
