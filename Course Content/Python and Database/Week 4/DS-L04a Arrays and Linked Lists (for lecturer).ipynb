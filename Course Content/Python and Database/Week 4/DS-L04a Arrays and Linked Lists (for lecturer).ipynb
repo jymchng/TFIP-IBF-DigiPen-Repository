{
 "cells": [
  {
   "cell_type": "markdown",
   "metadata": {},
   "source": [
    "# Fundamental Data Structures and Algorithms 04a - Arrays and Linked Lists"
   ]
  },
  {
   "cell_type": "markdown",
   "metadata": {},
   "source": [
    "## Unit 3: Basic Data Structures\n",
    "---"
   ]
  },
  {
   "cell_type": "markdown",
   "metadata": {},
   "source": [
    "### Objective\n",
    "\n",
    "- Differentiate data structures from data types\n",
    "- Introduce basic data structures\n",
    " - Arrays\n",
    "   - Python `list` (recap)\n",
    "   - NumPy arrays (recap)\n",
    " - Linked Lists"
   ]
  },
  {
   "cell_type": "markdown",
   "metadata": {},
   "source": [
    "---"
   ]
  },
  {
   "cell_type": "markdown",
   "metadata": {},
   "source": [
    "### Data Types vs Data Structures\n",
    "\n",
    "| Property       | Data Type                                                    | Data Structure                                               |\n",
    "| -------------- | ------------------------------------------------------------ | ------------------------------------------------------------ |\n",
    "| Definition     | Data type is the representation of nature and type of data that has been going to be used in programming or in other words data type describes all that data which share a common property. For example an integer data type describes every integer that the computers can handle. | On other hand Data structure is the collection that holds data which can be manipulated and used in programming so that operations and algorithms can be more easily applied. For example tree type data structures often allow for efficient searching algorithms. |\n",
    "| Implementation | Data type in programming are implemented in abstract implementation whose definition is provided by different languages in different ways. | On other hand Data structure in programming are implemented in concrete implementation as their definition is already defined by the language that what type of data they going to store and deal with. |\n",
    "| Storage        | In case of data type the value of data is not stored as it only represents the type of data that can be get stored. | On other hand data structure holds the data along with its value that actually acquires the space in main memory of the computer. Also data structure can hold different kind and types of data within one single object |\n",
    "| Assignment     | As data type already represents the type of value that can be stored so values can directly be assigned to the data type variables. | On other hand in case of data structure the data is assigned to using some set of algorithms and operations like push, pop and so on. |\n",
    "| Performance    | If case of data type only type and nature of data is concern so there in no issue of time complexity. | On other hand time complexity comes in case of data structure as it mainly deals with manipulation and execution of logic over data that it stored. |"
   ]
  },
  {
   "cell_type": "markdown",
   "metadata": {},
   "source": [
    "***Recap***  \n",
    "> Discuss what are some of the data types and data structures that you have learnt."
   ]
  },
  {
   "cell_type": "markdown",
   "metadata": {},
   "source": [
    "---"
   ]
  },
  {
   "cell_type": "markdown",
   "metadata": {},
   "source": [
    "### Introduction to Arrays\n",
    "\n",
    "- Arrays generally structure other (fundamental) objects in dimensions like 2-dimensional rows and columns\n",
    " - In the simplest case, a one-dimensional array then represents, mathematically speaking, a *vector* of numbers. We can think of it as a single row or a single column of numbers.\n",
    " - In a more common case, an array represents an $(i × j)$ matrix of elements.\n",
    " - This concept generalizes to $(i × j × k)$ cubes of elements in three dimensions as well as to general *n*-dimensional arrays of shape $(i × j × k × l × …)$.\n",
    " - most importantly, arrays store data in a **contiguous** block of memory \n",
    "  \n",
    "> What about lists? Are arrays and lists the same? What about `Numpy` array?"
   ]
  },
  {
   "cell_type": "markdown",
   "metadata": {},
   "source": [
    "---"
   ]
  },
  {
   "cell_type": "markdown",
   "metadata": {},
   "source": [
    "### Arrays with built-in `List`\n",
    "\n",
    "***Recap***  \n",
    "A simple list can already be considered a one-dimensional array:"
   ]
  },
  {
   "cell_type": "code",
   "execution_count": null,
   "metadata": {},
   "outputs": [],
   "source": [
    "'''empty list'''\n",
    "a = list()                     # list constructor\n",
    "print('a     :', type(a), a)   # type()\n",
    "print('len(a):', len(a), '\\n') # len() returns the number of objects\n",
    "\n",
    "b = []\n",
    "print('b     :', type(b), b)\n",
    "print('len(b):', len(b))\n",
    "\n",
    "# Note: brackets [] are the preferred method of initializing a list\n",
    "# Use list() only when you need to convert from other sequences, e.g. tuple -> list"
   ]
  },
  {
   "cell_type": "code",
   "execution_count": null,
   "metadata": {},
   "outputs": [],
   "source": [
    "'''list of integers + accessing index'''\n",
    "c = [1, 2, 3]\n",
    "print('c     :', type(c), c)\n",
    "print('c[1]  :', type(c[1]), c[1])  # c[1] to access the first index\n",
    "print('len(c):', len(c))"
   ]
  },
  {
   "cell_type": "code",
   "execution_count": null,
   "metadata": {},
   "outputs": [],
   "source": [
    "'''list of floats + negative index'''\n",
    "d = [1.0, 2.0, 3.0]\n",
    "print('d   :', type(d), d)\n",
    "print('d[-1]:', type(d[-1]), d[-1])"
   ]
  },
  {
   "cell_type": "code",
   "execution_count": null,
   "metadata": {},
   "outputs": [],
   "source": [
    "'''list of strings'''\n",
    "\n",
    "'''which is correct?'''\n",
    "e = [x, y, z]\n",
    "print(type(e), e)\n",
    "print(type(e[1]), e[1])\n",
    "\n",
    "f = ['123']\n",
    "print(type(f), f)\n",
    "print(type(f[0]), f[0])"
   ]
  },
  {
   "cell_type": "code",
   "execution_count": null,
   "metadata": {},
   "outputs": [],
   "source": [
    "'''list of mixed object'''\n",
    "g = [1, 'a', b, {'myKey':99}]\n",
    "print(type(g), g)\n",
    "print(type(g[2]), g[2])\n",
    "print(type(g[3]), g[3])"
   ]
  },
  {
   "cell_type": "code",
   "execution_count": null,
   "metadata": {},
   "outputs": [],
   "source": [
    "'''\n",
    "accessing range of index\n",
    "\n",
    "syntax -> [start:stop:step]\n",
    "Example:\n",
    "          +---+---+---+---+---+---+\n",
    "          | P | y | t | h | o | n |\n",
    "          +---+---+---+---+---+---+\n",
    "index       0   1   2   3   4   5\n",
    "index      -6  -5  -4  -3  -2  -1\n",
    "'''\n",
    "g = list('Python')\n",
    "print(g[1:])\n",
    "print(g[:2])\n",
    "print(g[1:2])"
   ]
  },
  {
   "cell_type": "code",
   "execution_count": null,
   "metadata": {},
   "outputs": [],
   "source": [
    "'''accessing index beyond range'''\n",
    "print(g[10])"
   ]
  },
  {
   "cell_type": "markdown",
   "metadata": {},
   "source": [
    "---"
   ]
  },
  {
   "cell_type": "markdown",
   "metadata": {},
   "source": [
    "Since list objects can contain arbitrary other objects, they can also contain other list objects. In that way, two- and higher-dimensional arrays are easily constructed by nested list objects:"
   ]
  },
  {
   "cell_type": "code",
   "execution_count": null,
   "metadata": {},
   "outputs": [],
   "source": [
    "'''nested empty list'''\n",
    "h = [[]]\n",
    "print('h     :', h)\n",
    "print('len(h):', len(h)) # note that it a nested empty list has length 1"
   ]
  },
  {
   "cell_type": "code",
   "execution_count": null,
   "metadata": {},
   "outputs": [],
   "source": [
    "'''nested list using previously defined \"g\" '''\n",
    "i = [g, g, g]\n",
    "print('i     :', i)\n",
    "print('len(i):', len(i))"
   ]
  },
  {
   "cell_type": "code",
   "execution_count": null,
   "metadata": {},
   "outputs": [],
   "source": [
    "'''accessing nested list'''\n",
    "print('i[0]   : ', i[0])\n",
    "print('i[0][0]: ',i[0][0])"
   ]
  },
  {
   "cell_type": "markdown",
   "metadata": {},
   "source": [
    "---"
   ]
  },
  {
   "cell_type": "markdown",
   "metadata": {},
   "source": [
    "Note that combining objects in the way just presented generally works with reference pointers to the original objects. What does that mean in practice? Let us have a look at the following operations:"
   ]
  },
  {
   "cell_type": "code",
   "execution_count": null,
   "metadata": {},
   "outputs": [],
   "source": [
    "'''modify g'''\n",
    "g[0] = 123\n",
    "print('i:', i) # note that i also changes if g changes"
   ]
  },
  {
   "cell_type": "markdown",
   "metadata": {},
   "source": [
    "Now let's look at basic arithmetic operations with lists:"
   ]
  },
  {
   "cell_type": "code",
   "execution_count": null,
   "metadata": {},
   "outputs": [],
   "source": [
    "'''add 2 lists together'''\n",
    "j = c + d\n",
    "print('j:', j)"
   ]
  },
  {
   "cell_type": "code",
   "execution_count": null,
   "metadata": {},
   "outputs": [],
   "source": [
    "'''add list to another object (not supposed to work)'''\n",
    "k = j + 3\n",
    "print('k:', k)"
   ]
  },
  {
   "cell_type": "code",
   "execution_count": null,
   "metadata": {},
   "outputs": [],
   "source": [
    "'''multiply a list with an integer'''\n",
    "l = j * 2\n",
    "print('l:', l)"
   ]
  },
  {
   "cell_type": "code",
   "execution_count": null,
   "metadata": {},
   "outputs": [],
   "source": [
    "'''multiply a list with a float (not supposed to work)'''\n",
    "m = j * 2.0\n",
    "print('m:', m)"
   ]
  },
  {
   "cell_type": "code",
   "execution_count": null,
   "metadata": {},
   "outputs": [],
   "source": [
    "'''division of a list by an integer (not supposed to work)'''\n",
    "n = j / 2\n",
    "print('n:', n)"
   ]
  },
  {
   "cell_type": "code",
   "execution_count": null,
   "metadata": {},
   "outputs": [],
   "source": [
    "'''multiply a list with another list (not supposed to work)'''\n",
    "o = [1, 2] * [3, 4]\n",
    "print('o:', o)"
   ]
  },
  {
   "cell_type": "markdown",
   "metadata": {},
   "source": [
    "---"
   ]
  },
  {
   "cell_type": "markdown",
   "metadata": {},
   "source": [
    "Python has a set of built-in methods (functions) that you can use on lists. Example:"
   ]
  },
  {
   "cell_type": "code",
   "execution_count": null,
   "metadata": {},
   "outputs": [],
   "source": [
    "'''append()'''\n",
    "p = [9,4,2,6,8,1,3,7]\n",
    "print('original p         :', p)\n",
    "\n",
    "p.append(5)\n",
    "print('p after appending 5:', p)"
   ]
  },
  {
   "cell_type": "code",
   "execution_count": null,
   "metadata": {},
   "outputs": [],
   "source": [
    "'''sort()'''\n",
    "p.sort()\n",
    "print('p.sort():', p)"
   ]
  },
  {
   "cell_type": "code",
   "execution_count": null,
   "metadata": {},
   "outputs": [],
   "source": [
    "'''pop()'''\n",
    "p.pop()\n",
    "print('p.pop():', p)\n",
    "\n",
    "'''pop(index)'''\n",
    "p.pop(2)\n",
    "print('p.pop(2):', p)"
   ]
  },
  {
   "cell_type": "code",
   "execution_count": null,
   "metadata": {},
   "outputs": [],
   "source": [
    "'''reverse()'''\n",
    "p.reverse()\n",
    "print('p.reverse():',p)"
   ]
  },
  {
   "cell_type": "markdown",
   "metadata": {},
   "source": [
    "Other methods include `copy()`, `count()`, `extend()`, `index()`, `insert()`, `pop()`,  `remove()`, `reverse()`. You are encouraged to explore the them in the [official documentation](https://docs.python.org/3/tutorial/datastructures.html).\n",
    "\n",
    "The table below lists some the complexities for the various functions and operations:\n",
    "\n",
    "|Operation     | Example                  | Big O Notation     | Notes                                              |\n",
    "|:-------------|:-------------------------|:-------------------|:---------------------------------------------------|\n",
    "|access        | `l[i]`                   | $O(1)$             |                                                    |\n",
    "|assignment    | `l[i] = 0`               | $O(1)$             |                                                    |\n",
    "|length        | `len(l)`                 | $O(1)$             |                                                    |\n",
    "|append        | `l.append(x)`            | $O(1)$             | equivalent to `a[len(a):] = [x]`                   |\n",
    "|pop           | `l.pop()`                | $O(1)$             | equivalent to `l.pop(-1)`, popping at end          |\n",
    "|clear         | `l.clear()`              | $O(1)$             | similar to `l = []`                                |\n",
    "|slice         | `l[a:b]`                 | $O(b-a)$           | depends on the number of elements in the parameter |\n",
    "|extend        | `l.extend(iterable)`     | $O(len(iterable))$ | equivalent to `a[len(a):] = iterable`              |\n",
    "|              |                          |                    | depends on number of elements in iterable          |\n",
    "|constructor   | `list(iterable)`         | $O(len(iterable))$ | depends on number of elements in iterable          |\n",
    "|comparison    | `l1 == l2` or `l1 != l2` | $O(n)$             |                                                    |\n",
    "|index         | `l.index(i)`             | $O(n)$             |                                                    |\n",
    "|insert        | `l.insert(i, x)`         | $O(n)$             |                                                    |\n",
    "|delete        | `del l[i]`               | $O(n)$             |                                                    |\n",
    "|containment   | `x in l`or`x not in l`   | $O(n)$             | linearly searches list                             |\n",
    "|copy          | `l.copy()`               | $O(n)$             | equivalent to`l[:]`                                |\n",
    "|count         | `l.count(x)`             | $O(n)$             |                                                    |\n",
    "|remove        | `l.remove(x)`            | $O(n)$             |                                                    |\n",
    "|pop           | `l.pop(i)`               | $O(n)$             |                                                    |\n",
    "|min/max       | `min(l)/max(l)`          | $O(n)$             | linearly searches list for value                   |\n",
    "|reverse       | `l.reverse()`            | $O(n)$             |                                                    |\n",
    "|iteration     | `for v in l:`            | $O(n)$             |                                                    |\n",
    "|sort          | `l.sort()`               | $O(n\\log{n})$      | [Timsort](http://svn.python.org/projects/python/trunk/Objects/listsort.txt)                                                  |\n",
    "|multiply      | `k*l`                    | $O(k\\ n)$          | example 1: `5*l` $\\rightarrow O(n)$;               |\n",
    "|              |                          |                    | example 2: `len(l)*l` $\\rightarrow O(n^2)$         |"
   ]
  },
  {
   "cell_type": "markdown",
   "metadata": {},
   "source": [
    "---"
   ]
  },
  {
   "cell_type": "markdown",
   "metadata": {},
   "source": [
    "### Array with NumPy\n",
    "\n",
    "https://www3.ntu.edu.sg/home/ehchua/programming/webprogramming/Python4_DataAnalysis.html#numpy\n",
    "\n",
    "\n",
    "- the list class has been built with a broad and general scope\n",
    "- might need a more specialized class to handle array-specific structures\n",
    " - `Numpy` library\n",
    " - written in C\n",
    " - able to handle n-dimensional arrays conveniently and efficiently"
   ]
  },
  {
   "cell_type": "code",
   "execution_count": null,
   "metadata": {},
   "outputs": [],
   "source": [
    "'''syntax to invoke the NumPy library'''\n",
    "import numpy"
   ]
  },
  {
   "cell_type": "markdown",
   "metadata": {},
   "source": [
    "Let's illustrate with examples"
   ]
  },
  {
   "cell_type": "code",
   "execution_count": null,
   "metadata": {},
   "outputs": [],
   "source": [
    "'''initializing a numpy array'''\n",
    "q = numpy.array([0, 0.5, 1.0, 1.5, 2.0])\n",
    "print('q', type(q), q) # note the difference in the output"
   ]
  },
  {
   "cell_type": "markdown",
   "metadata": {},
   "source": [
    "Alternatively we can import a library using a shorthand. The example below is commonly used:"
   ]
  },
  {
   "cell_type": "code",
   "execution_count": null,
   "metadata": {},
   "outputs": [],
   "source": [
    "'''import as np'''\n",
    "import numpy as np\n",
    "\n",
    "q = np.array([0, 0.5, 1.0, 1.5, 2.0])\n",
    "print('q', type(q), q) # note that this equivalent to the one above"
   ]
  },
  {
   "cell_type": "markdown",
   "metadata": {},
   "source": [
    "![array](http://jalammar.github.io/images/numpy/create-numpy-array-1.png)"
   ]
  },
  {
   "cell_type": "markdown",
   "metadata": {},
   "source": [
    "---"
   ]
  },
  {
   "cell_type": "markdown",
   "metadata": {},
   "source": [
    "Numpy also provides many methods to create arrays:"
   ]
  },
  {
   "cell_type": "code",
   "execution_count": null,
   "metadata": {},
   "outputs": [],
   "source": [
    "'''create an array of all zeros'''\n",
    "r = np.zeros((2,3))\n",
    "print('np.zeros((2,3)):\\n', r)"
   ]
  },
  {
   "cell_type": "code",
   "execution_count": null,
   "metadata": {},
   "outputs": [],
   "source": [
    "'''create an array of all ones'''\n",
    "s = np.ones((3,2))\n",
    "print('np.ones((1,2):\\n', s)"
   ]
  },
  {
   "cell_type": "code",
   "execution_count": null,
   "metadata": {},
   "outputs": [],
   "source": [
    "'''create a constant array'''\n",
    "t = np.full((2,2), 7)\n",
    "print('np.full((2,2), 7):\\n', t)"
   ]
  },
  {
   "cell_type": "code",
   "execution_count": null,
   "metadata": {},
   "outputs": [],
   "source": [
    "'''create a 4x4 identity matrix'''\n",
    "u = np.eye(4)\n",
    "print('np.eye(4):\\n', u)"
   ]
  },
  {
   "cell_type": "code",
   "execution_count": null,
   "metadata": {},
   "outputs": [],
   "source": [
    "'''create an array of random values'''\n",
    "v = np.random.random((3,3))\n",
    "print('np.random.random((3,3)):\\n', v)"
   ]
  },
  {
   "cell_type": "markdown",
   "metadata": {},
   "source": [
    "**Visualizing NumPy array creation**\n",
    "\n",
    "![create](http://jalammar.github.io/images/numpy/create-numpy-array-ones-zeros-random.png)\n",
    "\n",
    "![create2](http://jalammar.github.io/images/numpy/numpy-array-create-2d.png)\n",
    "\n",
    "![create3](http://jalammar.github.io/images/numpy/numpy-matrix-ones-zeros-random.png)"
   ]
  },
  {
   "cell_type": "markdown",
   "metadata": {},
   "source": [
    "You can read about other methods of array creation in the [documentation](https://numpy.org/doc/stable/user/basics.creation.html#arrays-creation)."
   ]
  },
  {
   "cell_type": "markdown",
   "metadata": {},
   "source": [
    "---"
   ]
  },
  {
   "cell_type": "markdown",
   "metadata": {},
   "source": [
    "**NumPy Array index**"
   ]
  },
  {
   "cell_type": "code",
   "execution_count": null,
   "metadata": {},
   "outputs": [],
   "source": [
    "'''accessing index and slice similar to python list'''\n",
    "print('v[2]     :\\n', v[2])\n",
    "print('\\nv[1:2] :\\n', v[1:2])\n",
    "print('\\nv[1][2]:\\n', v[1][2])\n",
    "print('\\nv[1, 2]:\\n', v[1, 2]) # note that array[row,col] is equivalent to array[row][col] in numpy"
   ]
  },
  {
   "cell_type": "markdown",
   "metadata": {},
   "source": [
    "**Visualizing NumPy array index**\n",
    "\n",
    "Example 1:\n",
    "![index](http://jalammar.github.io/images/numpy/numpy-array-slice.png)\n",
    "\n",
    "Example 2:\n",
    "![index2](http://jalammar.github.io/images/numpy/numpy-matrix-indexing.png)"
   ]
  },
  {
   "cell_type": "markdown",
   "metadata": {},
   "source": [
    "---"
   ]
  },
  {
   "cell_type": "markdown",
   "metadata": {},
   "source": [
    "**NumPy Array Arithmetic Operations**\n",
    "\n",
    "NumPy array arithmetic operations <u>differs</u> from Python `list`:"
   ]
  },
  {
   "cell_type": "code",
   "execution_count": null,
   "metadata": {},
   "outputs": [],
   "source": [
    "pythonList = [3,2,1]\n",
    "numpyArray = np.array([3,2,1])"
   ]
  },
  {
   "cell_type": "code",
   "execution_count": null,
   "metadata": {},
   "outputs": [],
   "source": [
    "'''addition'''\n",
    "print('python list addition:')\n",
    "print(pythonList + pythonList)       \n",
    "\n",
    "print('\\nnumpy array addition:')\n",
    "print(numpyArray + numpyArray, '(method 1)')       \n",
    "print(np.add(numpyArray, numpyArray), '(method 2)') \n",
    "print(np.add(pythonList, pythonList), '(method 3)') # numpy.add() works with Python list and NumPy arrays"
   ]
  },
  {
   "cell_type": "code",
   "execution_count": null,
   "metadata": {},
   "outputs": [],
   "source": [
    "'''subtraction 1 (not supposed to work)'''\n",
    "print('python list subtraction:')\n",
    "print(pythonList - pythonList)  "
   ]
  },
  {
   "cell_type": "code",
   "execution_count": null,
   "metadata": {},
   "outputs": [],
   "source": [
    "'''subtraction 2'''\n",
    "print('\\nnumpy array subtraction:')\n",
    "print(numpyArray - np.sort(numpyArray), '(method 1)')       \n",
    "print(np.subtract(numpyArray,np.sort(numpyArray)), '(method 2)') "
   ]
  },
  {
   "cell_type": "code",
   "execution_count": null,
   "metadata": {},
   "outputs": [],
   "source": [
    "'''multiplication 1'''\n",
    "print('python list x integer multiplication:')\n",
    "print(3*pythonList)\n",
    "\n",
    "print('\\nnumpy array x integer multiplication:')\n",
    "print(3*numpyArray, '(method 1)')\n",
    "print(np.multiply(3,numpyArray), '(method 2)')"
   ]
  },
  {
   "cell_type": "code",
   "execution_count": null,
   "metadata": {},
   "outputs": [],
   "source": [
    "'''multiplication 2 (not supposed to work)'''\n",
    "print('python list x python list multiplication:')\n",
    "print(pythonList * pythonList)"
   ]
  },
  {
   "cell_type": "code",
   "execution_count": null,
   "metadata": {},
   "outputs": [],
   "source": [
    "'''multiplication 3'''\n",
    "print('numpy array x numpy array multiplication:')\n",
    "print(numpyArray * numpyArray, '(method 1)') # element-wise multiplication\n",
    "print(np.multiply(numpyArray, numpyArray), '(method 2)') # equivalent to * operator"
   ]
  },
  {
   "cell_type": "code",
   "execution_count": null,
   "metadata": {},
   "outputs": [],
   "source": [
    "'''division 1 (not supposed to work)'''\n",
    "print('python list / integer division:')\n",
    "print(pythonList/2)"
   ]
  },
  {
   "cell_type": "code",
   "execution_count": null,
   "metadata": {},
   "outputs": [],
   "source": [
    "'''division 2'''\n",
    "print('numpy array / integer division:')\n",
    "print(numpyArray/2, '(method 1)')\n",
    "print(np.divide(numpyArray, 2), '(method 2)')"
   ]
  },
  {
   "cell_type": "code",
   "execution_count": null,
   "metadata": {},
   "outputs": [],
   "source": [
    "'''division 3'''\n",
    "print('numpy array / numpy array multiplication:')\n",
    "print(numpyArray / np.sort(numpyArray), '(method 1)') # element-wise division\n",
    "print(np.divide(numpyArray, np.sort(numpyArray)), '(method 2)') # equivalent to / operator"
   ]
  },
  {
   "cell_type": "code",
   "execution_count": null,
   "metadata": {},
   "outputs": [],
   "source": [
    "'''power'''\n",
    "print('numpyArray power 2:')\n",
    "print(numpyArray**2, '(method 1)')\n",
    "print(np.power(numpyArray, 2), '(method 2)')"
   ]
  },
  {
   "cell_type": "code",
   "execution_count": null,
   "metadata": {},
   "outputs": [],
   "source": [
    "'''square root:'''\n",
    "print('numpyArray square root 2:')\n",
    "print(numpyArray**0.5, '(method 1)')\n",
    "print(np.sqrt(numpyArray), '(method 2)')"
   ]
  },
  {
   "cell_type": "markdown",
   "metadata": {},
   "source": [
    "---"
   ]
  },
  {
   "cell_type": "markdown",
   "metadata": {},
   "source": [
    "**Visualizing Arithetic Operations on NumPy arrays (Example 1)**\n",
    "\n",
    "Assume:\n",
    "![arith1](http://jalammar.github.io/images/numpy/numpy-arrays-example-1.png)\n",
    "\n",
    "Adding them up element-wise (i.e. adding the values of each row) is as simple as typing `data + ones`:\n",
    "![arith2](http://jalammar.github.io/images/numpy/numpy-arrays-adding-1.png)\n",
    "\n",
    "And it’s not only addition that we can do this way:\n",
    "![arith3](http://jalammar.github.io/images/numpy/numpy-array-subtract-multiply-divide.png)\n",
    "\n",
    "Scalar multiplication:\n",
    "![arith4](http://jalammar.github.io/images/numpy/numpy-array-broadcast.png)"
   ]
  },
  {
   "cell_type": "markdown",
   "metadata": {},
   "source": [
    "---"
   ]
  },
  {
   "cell_type": "markdown",
   "metadata": {},
   "source": [
    "**Visualizing Arithetic Operations on NumPy arrays (Example 2)**\n",
    "\n",
    "We can add and multiply matrices using arithmetic operators (`+-*/`) if the two matrices are the same size. NumPy handles those as position-wise operations:\n",
    "![arith5](http://jalammar.github.io/images/numpy/numpy-matrix-arithmetic.png)\n",
    "\n",
    "We can get away with doing these arithmetic operations on matrices of different size only if the different dimension is one (e.g. the matrix has only one column or one row), in which case NumPy uses its broadcast rules for that operation:\n",
    "![arith6](http://jalammar.github.io/images/numpy/numpy-matrix-broadcast.png)"
   ]
  },
  {
   "cell_type": "markdown",
   "metadata": {},
   "source": [
    "---"
   ]
  },
  {
   "cell_type": "markdown",
   "metadata": {},
   "source": [
    "**Other NumPy Methods**\n",
    "\n",
    "A major feature of NumPy is that it includes many built-in methods. Here are some examples:"
   ]
  },
  {
   "cell_type": "code",
   "execution_count": null,
   "metadata": {},
   "outputs": [],
   "source": [
    "w = np.array([1,2,3,4,5])"
   ]
  },
  {
   "cell_type": "code",
   "execution_count": null,
   "metadata": {},
   "outputs": [],
   "source": [
    "'''shape returns a tuple in the format (row, col); note the difference'''\n",
    "print('w.shape    :', w.shape)     # method 1\n",
    "print('np.shape(w):', np.shape(w)) # method 2"
   ]
  },
  {
   "cell_type": "code",
   "execution_count": null,
   "metadata": {},
   "outputs": [],
   "source": [
    "'''sum()'''\n",
    "print('w.sum()  :', w.sum())\n",
    "print('np.sum(w):', np.sum(w))"
   ]
  },
  {
   "cell_type": "markdown",
   "metadata": {},
   "source": [
    "![sum](http://jalammar.github.io/images/numpy/numpy-matrix-dot-product-2.png)"
   ]
  },
  {
   "cell_type": "code",
   "execution_count": null,
   "metadata": {},
   "outputs": [],
   "source": [
    "'''mean()'''\n",
    "print('w.mean()  :', w.mean())\n",
    "print('np.mean(w):', np.mean(w))"
   ]
  },
  {
   "cell_type": "code",
   "execution_count": null,
   "metadata": {},
   "outputs": [],
   "source": [
    "'''standard deviation'''\n",
    "print('w.std()  :', w.std())\n",
    "print('np.std(w):', np.std(w))"
   ]
  },
  {
   "cell_type": "code",
   "execution_count": null,
   "metadata": {},
   "outputs": [],
   "source": [
    "'''min/max'''\n",
    "print('w.min()  :', w.min())\n",
    "print('np.max(w):', np.max(w))"
   ]
  },
  {
   "cell_type": "code",
   "execution_count": null,
   "metadata": {},
   "outputs": [],
   "source": [
    "'''dot product (recall matrix)'''\n",
    "print('w.dot(w)   :', w.dot(w))\n",
    "print('np.dot(w,w):', np.dot(w,w))"
   ]
  },
  {
   "cell_type": "markdown",
   "metadata": {},
   "source": [
    "![dot](http://jalammar.github.io/images/numpy/numpy-matrix-dot-product-1.png)"
   ]
  },
  {
   "cell_type": "markdown",
   "metadata": {},
   "source": [
    "---"
   ]
  },
  {
   "cell_type": "markdown",
   "metadata": {},
   "source": [
    "**Axis Parameter**\n",
    "\n",
    "The axis parameter is best explained using visuals:\n",
    "\n",
    "![axis1](http://community.datacamp.com.s3.amazonaws.com/community/production/ckeditor_assets/pictures/332/content_arrays-axes.png)\n",
    "\n",
    "Example:\n",
    "![axis2](http://jalammar.github.io/images/numpy/numpy-matrix-aggregation-4.png)"
   ]
  },
  {
   "cell_type": "markdown",
   "metadata": {},
   "source": [
    "---"
   ]
  },
  {
   "cell_type": "markdown",
   "metadata": {},
   "source": [
    "**Transpose and Reshape of Num**\n",
    "\n",
    "A common need when dealing with matrices is the need to rotate them. This is often the case when we need to take the dot product of two matrices and need to align the dimension they share. NumPy arrays have a convenient property called T to get the transpose of a matrix:\n",
    "![transpose](http://jalammar.github.io/images/numpy/numpy-transpose.png)"
   ]
  },
  {
   "cell_type": "code",
   "execution_count": null,
   "metadata": {},
   "outputs": [],
   "source": [
    "'''transpose'''\n",
    "data = np.array([[1,2],[3,4],[5,6]])\n",
    "print('data :\\n', data)\n",
    "print('shape:', data.shape)\n",
    "\n",
    "print('\\ndata.T:\\n', data.T)\n",
    "print('shape:', data.T.shape)      "
   ]
  },
  {
   "cell_type": "markdown",
   "metadata": {},
   "source": [
    "In more advanced use case, you may find yourself needing to switch the dimensions of a certain matrix. This is often the case in machine learning applications where a certain model expects a certain shape for the inputs that is different from your dataset. NumPy’s `reshape()` method is useful in these cases. You just pass it the new dimensions you want for the matrix. You can pass -1 for a dimension and NumPy can infer the correct dimension based on your matrix:\n",
    "![reshape](http://jalammar.github.io/images/numpy/numpy-reshape.png)"
   ]
  },
  {
   "cell_type": "code",
   "execution_count": null,
   "metadata": {},
   "outputs": [],
   "source": [
    "'''reshape'''\n",
    "data = np.array([[1],[2],[3],[4],[5],[6]])\n",
    "print('data:\\n', data)\n",
    "print('shape:\\n', data.shape )\n",
    "\n",
    "print('\\ndata.reshape(2,3):\\n', data.reshape(2,3))\n",
    "print('\\ndata.reshape(3,2):\\n', data.reshape(3,2))"
   ]
  },
  {
   "cell_type": "markdown",
   "metadata": {},
   "source": [
    "---"
   ]
  },
  {
   "cell_type": "markdown",
   "metadata": {},
   "source": [
    "**N-Dimensional Arrays**\n",
    "\n",
    "NumPy can do everything we’ve mentioned in any number of dimensions. Its central data structure is called ndarray (N-Dimensional Array) for a reason.\n",
    "\n",
    "![ndarray](http://jalammar.github.io/images/numpy/numpy-3d-array.png)\n",
    "\n",
    "In a lot of ways, dealing with a new dimension is just adding a comma to the parameters of a NumPy function:\n",
    "\n",
    "![ndarray2](http://jalammar.github.io/images/numpy/numpy-3d-array-creation.png)"
   ]
  },
  {
   "cell_type": "markdown",
   "metadata": {},
   "source": [
    "---"
   ]
  },
  {
   "cell_type": "markdown",
   "metadata": {},
   "source": [
    "## Python `List` vs NumPy Array\n",
    "\n",
    "**Memory**\n",
    "\n",
    "The main benefits of using NumPy arrays should be smaller memory consumption and better runtime behavior. We can use `getsizeof()` method from the `sys` module to determine the size of the object in bytes."
   ]
  },
  {
   "cell_type": "code",
   "execution_count": null,
   "metadata": {},
   "outputs": [],
   "source": [
    "import sys, random\n",
    "import numpy as np\n",
    "\n",
    "'''for n = 1'''\n",
    "n = 1\n",
    "print('for n = 1:')\n",
    "myList = random.sample(range(1000), n) # statement to generate list of random values\n",
    "print('size of python list in bytes:', sys.getsizeof(myList))\n",
    "myArray = np.array(random.sample(range(1000), n))\n",
    "print('size of numpy array in bytes:', sys.getsizeof(myArray))\n",
    "\n",
    "'''for n = 10'''\n",
    "n = 10\n",
    "print('\\nfor n = 10:')\n",
    "myList = random.sample(range(1000), n)\n",
    "print('size of python list in bytes:', sys.getsizeof(myList))\n",
    "myArray = np.array(random.sample(range(1000), n))\n",
    "print('size of numpy array in bytes:', sys.getsizeof(myArray))\n",
    "\n",
    "'''for n = 100'''\n",
    "print('\\nfor n = 100:')\n",
    "n = 100\n",
    "myList = random.sample(range(1000), n)\n",
    "print('size of python list in bytes:', sys.getsizeof(myList))\n",
    "myArray = np.array(random.sample(range(1000), n))\n",
    "print('size of numpy array in bytes:', sys.getsizeof(myArray))\n",
    "\n",
    "'''for n = 1000'''\n",
    "print('\\nfor n = 1000:')\n",
    "n = 1000\n",
    "myList = random.sample(range(1000), n)\n",
    "print('size of python list in bytes:', sys.getsizeof(myList))\n",
    "myArray = np.array(random.sample(range(1000), n))\n",
    "print('size of numpy array in bytes:', sys.getsizeof(myArray))"
   ]
  },
  {
   "cell_type": "markdown",
   "metadata": {},
   "source": [
    "From the example above, we can see that the as the input size increases, so does the memory consumption. Most importantly is that at large input sizes, NumPy arrays takes up less memory than Python lists."
   ]
  },
  {
   "cell_type": "markdown",
   "metadata": {},
   "source": [
    "**Speed**\n",
    "\n",
    "This shows some performance numbers of operations between Python list and NumPy array. "
   ]
  },
  {
   "cell_type": "code",
   "execution_count": null,
   "metadata": {},
   "outputs": [],
   "source": [
    "import time\n",
    "import numpy as np\n",
    "\n",
    "n = 1000000\n",
    "\n",
    "def python_list_version():\n",
    "    t1 = time.time()\n",
    "    X = range(n)\n",
    "    Y = range(n)\n",
    "    Z = [X[i] + Y[i] for i in range(len(X)) ] # list comprehension\n",
    "    return time.time() - t1\n",
    "\n",
    "def numpy_array_version():\n",
    "    t1 = time.time()\n",
    "    X = np.arange(n)\n",
    "    Y = np.arange(n)\n",
    "    Z = X + Y\n",
    "    return time.time() - t1\n",
    "\n",
    "t1 = python_list_version()\n",
    "t2 = numpy_array_version()\n",
    "print('python_list_version time taken, t1:', t1)\n",
    "print('numpy_array_version time taken, t2:', t2)\n",
    "print(\"Numpy array is  \" + str(t1/t2) + \" faster!\")"
   ]
  },
  {
   "cell_type": "markdown",
   "metadata": {},
   "source": [
    "Notice how the 2nd set of numbers (NumPy) are always smaller - meaning they have much better performance than their Python List core library counterparts."
   ]
  },
  {
   "cell_type": "markdown",
   "metadata": {},
   "source": [
    "---"
   ]
  },
  {
   "cell_type": "markdown",
   "metadata": {},
   "source": [
    "## Linked List\n",
    "\n",
    "*Think of trains!*\n",
    "\n",
    "**Linked List** is a data structure in which objects are arranged linearly. It is made of a single row of cabins (**nodes**), each connected to adjacent cabins. Each node consists of 2 fields:\n",
    "1. `data` - containing the data to be stored in the node\n",
    "2. `next` - containing the reference to the next node in the list (represented by arrows).\n",
    "\n",
    "<a name=\"linked_list\"></a>\n",
    "\n",
    "| ![linked_list](https://i.ibb.co/gzXZfrm/Slide7.png) |\n",
    "| :----------------------------------------------------------: |\n",
    "|      Fig 3.1. Visual representation of linked list       |\n",
    "\n",
    "*Class Discussion*\n",
    "> What does <u>reference</u> mean?"
   ]
  },
  {
   "cell_type": "markdown",
   "metadata": {},
   "source": [
    "---"
   ]
  },
  {
   "cell_type": "markdown",
   "metadata": {},
   "source": [
    "### Basic Implementation of a Singly Linked List\n",
    "\n",
    "Let's define the `node` class:"
   ]
  },
  {
   "cell_type": "code",
   "execution_count": null,
   "metadata": {},
   "outputs": [],
   "source": [
    "'''node class definition'''\n",
    "class Node:\n",
    "    # constructor\n",
    "    def __init__(self, data):\n",
    "        self.data = data\n",
    "        self.next = None "
   ]
  },
  {
   "cell_type": "markdown",
   "metadata": {},
   "source": [
    "Once we have the Node class, we can implement any *linked list* as follows:"
   ]
  },
  {
   "cell_type": "code",
   "execution_count": null,
   "metadata": {},
   "outputs": [],
   "source": [
    "'''creating node objects independently'''\n",
    "node1 = Node(\"This is the first node and also the head node.\")\n",
    "node2 = Node(\"This is the second node. I can basically put any data I want.\")\n",
    "node3 = Node(43)\n",
    "node4 = Node(1.618)\n",
    "node5 = Node(Node(\"this is a node inside a node\"))"
   ]
  },
  {
   "cell_type": "markdown",
   "metadata": {},
   "source": [
    "At this point, nodes are created but the are unlinked. To link them up, we can do the following:"
   ]
  },
  {
   "cell_type": "code",
   "execution_count": null,
   "metadata": {},
   "outputs": [],
   "source": [
    "'''linking nodes'''\n",
    "node1.next = node2\n",
    "node2.next = node3\n",
    "node3.next = node4\n",
    "node4.next = node5"
   ]
  },
  {
   "cell_type": "markdown",
   "metadata": {},
   "source": [
    "We can now display the entire linked list, by passing the first node, also known as the **head node**, as the argument. This is also known as linked *list traversal*."
   ]
  },
  {
   "cell_type": "code",
   "execution_count": null,
   "metadata": {},
   "outputs": [],
   "source": [
    "'''printing a linked list'''\n",
    "def printLinkedList(node):\n",
    "    while node is not None:\n",
    "        print(node.data)\n",
    "        node = node.next\n",
    "    print()\n",
    "    \n",
    "printLinkedList(node1) # starting from first node, also called 'head' node"
   ]
  },
  {
   "cell_type": "markdown",
   "metadata": {},
   "source": [
    "*Class Discussion*\n",
    "> Explain the output. \n",
    "> - Why does the last print statement display a weird message?\n",
    "> - What do I write to print the last node?"
   ]
  },
  {
   "cell_type": "code",
   "execution_count": null,
   "metadata": {},
   "outputs": [],
   "source": [
    "'''Accessing the last node'''\n",
    "print(node5.data)\n",
    "print((node5.data).data) # note the difference"
   ]
  },
  {
   "cell_type": "markdown",
   "metadata": {},
   "source": [
    "There are various ways of implementing a linked list in Python. The example above is a simplified version to demonstrate the workings of a linked list.\n",
    "\n",
    "*Thought Activity*\n",
    "> 1. How do we insert a node in between existing nodes?  \n",
    ">\n",
    "> 2. What are the big O notations for the search, insertion and deletion operation of a node? Explain.\n",
    ">\n",
    "> 3. Write a function to append a node at the end of a linked list recursively. Note: linked list are made up of sub linked lists."
   ]
  },
  {
   "cell_type": "markdown",
   "metadata": {},
   "source": [
    "*Solution*\n",
    "\n",
    "1. To insert between existing nodes"
   ]
  },
  {
   "cell_type": "code",
   "execution_count": null,
   "metadata": {},
   "outputs": [],
   "source": [
    "'''Insert between existing nodes'''\n",
    "nodePi = Node(3.142)\n",
    "node3.next = nodePi\n",
    "nodePi.next = node4\n",
    " \n",
    "printLinkedList(node1) # to test"
   ]
  },
  {
   "cell_type": "markdown",
   "metadata": {},
   "source": [
    "2. Big O Notation for search, insert, delete\n",
    "\n",
    "|Operation|Time Complexity|\n",
    "|:--------|:-------------:|\n",
    "|$search$ | $O(n)$        |\n",
    "|$insert$ | $O(1)$        |\n",
    "|$delete$ | $O(1)$        |"
   ]
  },
  {
   "cell_type": "markdown",
   "metadata": {},
   "source": [
    "3. Append recursively."
   ]
  },
  {
   "cell_type": "code",
   "execution_count": null,
   "metadata": {},
   "outputs": [],
   "source": [
    "'''recursive append'''\n",
    "def append(currentNode, newData):\n",
    "    # If linked list is empty, create a\n",
    "    # new node (Assuming newNode() allocates\n",
    "    # a new node with given data) \n",
    "    if (currentNode == None):\n",
    "        return Node(newData)   \n",
    "    # If we have not reached end,  \n",
    "    # keep traversing recursively. \n",
    "    else: \n",
    "        currentNode.next = append(currentNode.next, newData) \n",
    "    return currentNode\n",
    "\n",
    "append(node1, 'this is added recursively')\n",
    "printLinkedList(node1) # to test"
   ]
  },
  {
   "cell_type": "markdown",
   "metadata": {},
   "source": [
    "---"
   ]
  },
  {
   "cell_type": "markdown",
   "metadata": {},
   "source": [
    "## Arrays vs Linked Lists\n",
    "\n",
    "- Arrays are made up of a contiguous block of memory, whereas linked list are dynamically allocated. This has several implications:\n",
    "\n",
    "  1. Accessing an element in an array is fast $O(1)$, whereas linked list takes linear time $O(n)$ (needs to start from head node).\n",
    "\n",
    "  2. Linked list are more memory efficient than arrays. In an array, each index is allocated a fixed size of memory (despite not needed the amount of memory), while linked list has a dynamic allocation of memory base on requirements.\n",
    "  \n",
    "- insertion/deletion operations are ineffecient in arrays - to insert an element, either have to create a new block of memory big enough to hold the inserted element or shift up one index after the insertion $O(n)$. On the other, we just need to manipulate the `next` values.\n",
    "\n",
    "- some operations in arrays benefit due to *cache locality* which improves performance."
   ]
  },
  {
   "cell_type": "markdown",
   "metadata": {},
   "source": [
    "---"
   ]
  }
 ],
 "metadata": {
  "kernelspec": {
   "display_name": "Python 3",
   "language": "python",
   "name": "python3"
  },
  "language_info": {
   "codemirror_mode": {
    "name": "ipython",
    "version": 3
   },
   "file_extension": ".py",
   "mimetype": "text/x-python",
   "name": "python",
   "nbconvert_exporter": "python",
   "pygments_lexer": "ipython3",
   "version": "3.7.7"
  }
 },
 "nbformat": 4,
 "nbformat_minor": 4
}
