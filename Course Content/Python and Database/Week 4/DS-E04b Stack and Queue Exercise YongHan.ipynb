{
 "cells": [
  {
   "cell_type": "markdown",
   "metadata": {},
   "source": [
    "# Fundamental Data Structures and Algorithms 04b - Stack and Queue - Exercise\n",
    "---"
   ]
  },
  {
   "cell_type": "markdown",
   "metadata": {},
   "source": [
    "The following problems should help you get familiar with stacks and queue"
   ]
  },
  {
   "cell_type": "markdown",
   "metadata": {},
   "source": [
    "  "
   ]
  },
  {
   "cell_type": "markdown",
   "metadata": {},
   "source": [
    "### Question 4\n",
    "  \n",
    "Using pen and paper, determine the contents of the resulting stack `s` or queue `q` based on the pseudocode below.  \n",
    "  \n",
    "**(a)**  \n",
    "```python\n",
    "s = Stack()\n",
    "for i in range(24):\n",
    "    if i % 3 == 0:\n",
    "        s.push(i)\n",
    "    elif i % 4 == 0:\n",
    "        s.pop()\n",
    "```\n",
    "\n",
    "**(b)**  \n",
    "```python\n",
    "q = Queue()\n",
    "for j in range(24):\n",
    "    if j % 3 == 0:\n",
    "        q.push(j)\n",
    "    elif i % 4 == 0:\n",
    "        q.pop()\n",
    "```"
   ]
  },
  {
   "cell_type": "markdown",
   "metadata": {},
   "source": [
    "Q1. 0,9,12,21\n",
    "\n",
    "Q2. 12,15,18,21\n",
    "OR\n",
    "Q2. Error"
   ]
  },
  {
   "cell_type": "markdown",
   "metadata": {},
   "source": [
    "---"
   ]
  },
  {
   "cell_type": "markdown",
   "metadata": {},
   "source": [
    "### Question 5\n",
    "\n",
    "In this question we will explore a related application of the stack data structure, which involve testing for pairs of matching symbols.\n",
    "\n",
    "Consider an arithmetic equation that contains various pairs of grouping symbols, such as\n",
    "- Parenthesis: **( )**\n",
    "- Brackets: **\\[ ]**\n",
    "- Braces: **{ }**  \n",
    "\n",
    "Each opening symbol must match is corresponding closing symbol. For example, a left bracket **[** must match a corresponding right bracket **}** as in the expression $[(a+b)(a-b)]$. The following examples further illustrates this concept:\n",
    "- Correct: **( )(( )){([( )])}**\n",
    "- Correct: **((( )(( )){([( )])}))**\n",
    "- Incorrect: **)(( )){([( )])}**\n",
    "- Incorrect: **({[ ])}**\n",
    "- Incorrect: **(**\n",
    "  \n",
    "An important task when processing arithmetic expressions is to make sure their symbols match up correctly. You are to implement a function `isMatched` that parses through an expression string and returns True if the symbols match."
   ]
  },
  {
   "cell_type": "code",
   "execution_count": 52,
   "metadata": {},
   "outputs": [],
   "source": [
    "def isMatched(expr):\n",
    "    # Implement your code here\n",
    "    EXPR = symbolparse()\n",
    "    for char in expr:\n",
    "        EXPR.pushandcheck(char)\n",
    "    return EXPR.isEmpty()\n",
    "            \n",
    "def opp(char):\n",
    "        if char =='(':\n",
    "            return ')'\n",
    "        elif char == '{':\n",
    "            return '}'\n",
    "        elif char == '[':\n",
    "            return ']'\n",
    "        \n",
    "class symbol:\n",
    "    def __init__(self,char):\n",
    "        self.char = char\n",
    "        self.nxt = None\n",
    "    \n",
    "class symbolparse:\n",
    "    \n",
    "    def __init__(self):\n",
    "        self.top = None\n",
    "    \n",
    "    def isEmpty(self):\n",
    "        return self.top is None\n",
    "    \n",
    "    def pushandcheck(self,char):\n",
    "        if self.top is None:\n",
    "            temp = symbol(char)\n",
    "            if temp.char in '[({})]':\n",
    "                self.top = temp\n",
    "        else:\n",
    "            if self.top.char in '[({})]':\n",
    "                new = symbol(char)\n",
    "                if new.char in '[({})]':\n",
    "                    if new.char == opp(self.top.char):\n",
    "                        self.pop()\n",
    "                    else:\n",
    "                        new.nxt = self.top\n",
    "                        self.top = new\n",
    "            \n",
    "    def pop(self):\n",
    "        if self.isEmpty():\n",
    "            return None\n",
    "        out = self.top\n",
    "        self.top = self.top.nxt\n",
    "        out.nxt = None\n",
    "        return out.char"
   ]
  },
  {
   "cell_type": "code",
   "execution_count": 55,
   "metadata": {},
   "outputs": [
    {
     "name": "stdout",
     "output_type": "stream",
     "text": [
      "True\n",
      "True\n",
      "True\n",
      "False\n",
      "False\n",
      "False\n",
      "True\n"
     ]
    }
   ],
   "source": [
    "# Test cases\n",
    "print(isMatched(\"[(a+b)(a-b)]\"))             # expected output: True\n",
    "print(isMatched(\"( )(( )){([( )])}\"))        # expected output: True\n",
    "print(isMatched(\"((( )(( )){([( )])}))\"))    # expected output: True\n",
    "print(isMatched(\")(( )){([( )])}\"))          # expected output: False\n",
    "print(isMatched(\"({[ ])}\"))                  # expected output: False\n",
    "print(isMatched(\"(\"))                        # expected output: False\n",
    "print(isMatched('(s(ef[dg()]))'))"
   ]
  },
  {
   "cell_type": "markdown",
   "metadata": {},
   "source": [
    "---"
   ]
  },
  {
   "cell_type": "markdown",
   "metadata": {},
   "source": [
    "### Question 6\n",
    "\n",
    "Implement a queue class that maintains the element with the minimum value at the front of the queue.\n",
    "\n",
    "It needs to support the following methods:\n",
    "- `enqueue(x)` - enqueues element $x$ onto the queue\n",
    "- `dequeue()` - dequeues the element with the minimum value from the queue\n",
    "- any other methods that you may require\n",
    "\n",
    "(Create your own test cases.)\n",
    "\n",
    "**Example**\n",
    "```python\n",
    "q = MinQueue()\n",
    "q.enqueue(2)\n",
    "q.enqueue(1)\n",
    "q.enqueue(3)\n",
    "q.dequeue() # should return 1\n",
    "q.dequeue() # should return 2\n",
    "```"
   ]
  },
  {
   "cell_type": "code",
   "execution_count": 87,
   "metadata": {},
   "outputs": [],
   "source": [
    "class QNode:\n",
    "    def __init__(self,data):\n",
    "        self.data = data\n",
    "        self.front = None\n",
    "        self.back = None\n",
    "        self.nxt = None\n",
    "\n",
    "class MinQueue:\n",
    "    # Implement your code here\n",
    "    def __init__(self):\n",
    "        self.front = None\n",
    "        self.back = None\n",
    "        self.size = 0\n",
    "    def isEmpty(self):\n",
    "        return self.front is None\n",
    "    \n",
    "    def peek(self):\n",
    "        if self.isEmpty():\n",
    "            return None\n",
    "        return self.front.data\n",
    "    \n",
    "    def enqueue(self, data):\n",
    "        node = QNode(data)\n",
    "        if self.back is None:\n",
    "            self.front = self.back = node\n",
    "            return\n",
    "        currentnode = self.front\n",
    "        if node.data < currentnode.data:\n",
    "            node.nxt = currentnode\n",
    "            self.front = node\n",
    "            return\n",
    "        while currentnode.nxt is not self.back:\n",
    "            if currentnode.data <= node.data < currentnode.nxt.data:\n",
    "                node.nxt = currentnode.nxt\n",
    "                currentnode.nxt = node\n",
    "                break\n",
    "            else:\n",
    "                currentnode = currentnode.nxt\n",
    "        if currentnode.data <= node.data < self.back.data:\n",
    "            node.nxt = self.back\n",
    "            currentnode.nxt = node\n",
    "        else:\n",
    "            self.back.nxt = node\n",
    "            self.back = node\n",
    "    \n",
    "    def dequeue(self):\n",
    "        if self.isEmpty():\n",
    "            print('Queue is Empty')\n",
    "            return\n",
    "        node = self.front\n",
    "        self.front = node.nxt\n",
    "        if self.front is None:\n",
    "            self.back = None\n",
    "        return node.data"
   ]
  },
  {
   "cell_type": "code",
   "execution_count": 90,
   "metadata": {},
   "outputs": [],
   "source": [
    "q1 = MinQueue()\n",
    "q1.enqueue(5)\n",
    "q1.enqueue(1)\n",
    "q1.enqueue(3)\n",
    "q1.enqueue(10)\n",
    "q1.enqueue(-4)\n",
    "q1.enqueue(8)\n"
   ]
  },
  {
   "cell_type": "code",
   "execution_count": 91,
   "metadata": {},
   "outputs": [
    {
     "name": "stdout",
     "output_type": "stream",
     "text": [
      "-4\n",
      "1\n",
      "3\n",
      "5\n",
      "8\n",
      "10\n"
     ]
    }
   ],
   "source": [
    "print(q1.dequeue())\n",
    "print(q1.dequeue())\n",
    "print(q1.dequeue())\n",
    "print(q1.dequeue())\n",
    "print(q1.dequeue())\n",
    "print(q1.dequeue())"
   ]
  }
 ],
 "metadata": {
  "kernelspec": {
   "display_name": "Python 3",
   "language": "python",
   "name": "python3"
  },
  "language_info": {
   "codemirror_mode": {
    "name": "ipython",
    "version": 3
   },
   "file_extension": ".py",
   "mimetype": "text/x-python",
   "name": "python",
   "nbconvert_exporter": "python",
   "pygments_lexer": "ipython3",
   "version": "3.7.7"
  }
 },
 "nbformat": 4,
 "nbformat_minor": 4
}
