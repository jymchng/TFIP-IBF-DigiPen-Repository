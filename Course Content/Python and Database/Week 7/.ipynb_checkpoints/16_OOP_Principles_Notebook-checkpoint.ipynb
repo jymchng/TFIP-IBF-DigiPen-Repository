{
 "cells": [
  {
   "cell_type": "markdown",
   "metadata": {},
   "source": [
    "# Principles of Object-Oriented Programming (OOP)\n",
    "\n",
    "From Wikipedia:\n",
    "> Object-oriented programming (OOP) is a programming paradigm based on the concept of \"objects\", which can contain data and code: data in the form of fields (often known as attributes or properties), and code, in the form of procedures (often known as methods).\n",
    "\n",
    "We have learnt about Classes and objects previously, and we have learnt that objects have attributes (or properties or fields) & behaviours (or methods or functions). Object-oriented programming builds on this concept to help us relate to real world objects. There are 4 main principles: **Abstraction**, **Encapsulation**, **Inheritance** and **Polymorphism**.\n",
    "\n",
    "## Topics:\n",
    "* Encapsulation\n",
    "* Inheritance\n",
    "* Abstraction\n",
    "* Polymorphism\n",
    " * Operator Overloading\n",
    "* Custom Exceptions with Exception Propagation\n",
    "\n",
    "---"
   ]
  },
  {
   "cell_type": "markdown",
   "metadata": {},
   "source": [
    "## Encapsulation\n",
    "\n",
    "Encapsulation is the act of protecting an object (its attributes and methods) from outside influence. This principle introduces the 3 keywords **public**, **protected**, **private** to describe the visibility (or scope) of the attributes or methods within the application. In more statically typed languages like C++ and Java, `public`, `protected`, `private` are special keywords used for Encapsulation. However, Python uses a different way to represent those keywords. It uses underscores, and the **number** of underscores (`_`) preceding the attribute or method names determines the visibility,\n",
    "\n",
    "<style>\n",
    "    tr:nth-child(even) { background-color:#f2f2f2; }\n",
    "    table: width=\"100%\"\n",
    "</style>\n",
    "<table align=\"center\" border=1>\n",
    "    <colgroup>\n",
    "       <col span=\"1\" style=\"width: 50%;\">\n",
    "       <col span=\"1\" style=\"width: 50%;\">\n",
    "    </colgroup>\n",
    "    <tr>\n",
    "        <th align=\"center\">C++/Java</th>\n",
    "        <th align=\"center\">Python</th>\n",
    "    </tr>\n",
    "    <tr>\n",
    "        <td align=\"center\"><code>public</code></td>\n",
    "        <td align=\"center\">no underscores (0)</td>\n",
    "    </tr>\n",
    "    <tr>\n",
    "        <td align=\"center\"><code>protected</code></td>\n",
    "        <td align=\"center\">single underscore (1)</td>\n",
    "    </tr>\n",
    "    <tr>\n",
    "        <td align=\"center\"><code>private</code></td>\n",
    "        <td align=\"center\">double underscores (2)</td>\n",
    "    </tr>\n",
    "</table>\n",
    "\n",
    "* A **public** attribute or method means that they are visible and accessible to any objects who would like access to it.\n",
    "* A **protected** attribute or method means that only the derived (child) class as access to it.\n",
    "* A **private** attribute or method means **only** the class where it is defined in, is able to access and manipulate it. \n",
    "\n",
    "> A caveat of Python is that Encapsulation rules are not strictly enforced meaning that there are ways where even private attributes and methods can be accessed as if it has public visibility therefore it is up to the developer to treat it as a non-public identifier. \n",
    "\n",
    "Looking back at the chapter on *Classes & Objects*, all instance attributes and methods are considered **public** if they do not start with any underscores therefore they are accessible \"outside\" the class using the dot `.` notation. However, **private** class and instance attributes, and methods will produce an error if you try to access them from the \"outside\". We can say that the scope of these *private* attributes and methods are only local to the class and no others."
   ]
  },
  {
   "cell_type": "markdown",
   "metadata": {},
   "source": [
    "**Demo Program:**"
   ]
  },
  {
   "cell_type": "code",
   "execution_count": null,
   "metadata": {},
   "outputs": [],
   "source": [
    "class Test:\n",
    "    x=10\n",
    "    _y=20\n",
    "    __z=30\n",
    "    \n",
    "    def m1(self):\n",
    "        print(Test.x)\n",
    "        print(Test._y)\n",
    "        print(Test.__z)\n",
    "\n",
    "t=Test()\n",
    "t.m1()\n",
    "print(Test.x)\n",
    "print(Test._y)\n",
    "print(Test.__z)"
   ]
  },
  {
   "cell_type": "markdown",
   "metadata": {},
   "source": [
    "### How to access private variables from outside of the class:\n",
    "We cannot access private variables directly from outside of the class.\n",
    "But we can access them indirectly as follows\n",
    "\n",
    "`objectreference._classname__variablename`"
   ]
  },
  {
   "cell_type": "code",
   "execution_count": null,
   "metadata": {},
   "outputs": [],
   "source": [
    "#Ex:\n",
    "class Test:\n",
    "    def __init__(self):\n",
    "        self.__x=10\n",
    "\n",
    "t=Test()\n",
    "print(t._Test__x) # output: 10"
   ]
  },
  {
   "cell_type": "markdown",
   "metadata": {},
   "source": [
    "**Example: A `Person` class with some attributes**"
   ]
  },
  {
   "cell_type": "code",
   "execution_count": null,
   "metadata": {},
   "outputs": [],
   "source": [
    "class Person():\n",
    "    def __init__(self):\n",
    "        self.name = \"Tom\"\n",
    "        self._address = \"58 Moon Drive\"\n",
    "        self.__salary = 10000\n",
    "        \n",
    "    def iseeyou(self):\n",
    "        return 'i see you'\n",
    "    \n",
    "    def __youcannotseeme(self):\n",
    "        return 'you cannot see me!!'"
   ]
  },
  {
   "cell_type": "code",
   "execution_count": null,
   "metadata": {},
   "outputs": [],
   "source": [
    "p = Person()\n",
    "print(p.name)\n",
    "print(p._address)   # DO NOT use this way\n",
    "print(p._Person__salary)   # DO NOT use this way\n",
    "\n",
    "print()\n",
    "print(p.iseeyou())\n",
    "print(p._Person__youcannotseeme())   # DO NOT use this way\n",
    "\n",
    "# print(p.__salary)   # will result in an error\n",
    "# print(p.__youcannotseme())   # will result in an error"
   ]
  },
  {
   "cell_type": "markdown",
   "metadata": {},
   "source": [
    "As we can see from the above code, we are able to access the protected and private variables (`_address` & `__salary`) even though it should be \"hidden\" from outside the class therefore it is imperative that we **REFRAIN** ourselves from disrespecting the encapsulation principle. \n",
    "\n",
    "So what happens if we need to access either protected or private attributes of an object? We use something called **accessor methods**. Accessors methods are a type of user defined methods specifically used for exposing and/or giving manipulation rights to protected and private attributes. These methods are normally prefixed with the word `get`or `set` followed by the method name. Accessor methods are **always** public and are used to expose **one** attribute at a time.\n",
    "\n",
    "**Example: An `Employee` class with some accessor methonds.**"
   ]
  },
  {
   "cell_type": "code",
   "execution_count": null,
   "metadata": {},
   "outputs": [],
   "source": [
    "class Employee:\n",
    " \n",
    "    def __init__(self, name, emp_id):\n",
    "        self.__name = name\n",
    "        self.emp_id = emp_id\n",
    "    \n",
    "    # Accessor methods\n",
    "    def get_name(self):\n",
    "        return self.__name\n",
    "    \n",
    "    def set_name(self, name):\n",
    "        self.__name = name"
   ]
  },
  {
   "cell_type": "code",
   "execution_count": null,
   "metadata": {},
   "outputs": [],
   "source": [
    "emp1 = Employee('Rocky', '02015')\n",
    "print(\"Employee id: \", emp1.emp_id)\n",
    "print(\"Before change: \", emp1.get_name())\n",
    "emp1.set_name('Rocky Balboa')\n",
    "print(\"After change: \", emp1.get_name())"
   ]
  },
  {
   "cell_type": "markdown",
   "metadata": {},
   "source": [
    "In the above example, we have given public access to the private variable `__name` through accessor methods. Therefore we can freely change the name of the employee. However for other more sensitive attributes (such as `salary` data), we can restrict the access by providing only a `get` method so as not to easily allow changes to be freely made."
   ]
  },
  {
   "attachments": {
    "a0787a00-e821-4169-835b-adbb41d57e1a.png": {
     "image/png": "[encoded data removed]"
    }
   },
   "cell_type": "markdown",
   "metadata": {},
   "source": [
    "---\n",
    "## Inheritance\n",
    "\n",
    "Inheritance is the concept of creating specialized versions of a parent (base) class to a child (derived) class. In other words, the parent class is generic version of the child class and this child class would inherit all the **public and protected** attributes and methods of its parent class. A real world example would be how parents pass down physical features to their children therefore children will always look like their parents. \n",
    "\n",
    "The general syntax of the parent and child class is as follows:\n",
    "```python\n",
    "class Parent():\n",
    "    statement(s)\n",
    "\n",
    "class Child(Parent):\n",
    "    statement(s)\n",
    "```\n",
    "\n",
    "### Single Inheritance:\n",
    "\n",
    "The concept of inheriting the properties from one class to another class is known as single\n",
    "inheritance.\n",
    "\n",
    "![inheritance_single.png](attachment:a0787a00-e821-4169-835b-adbb41d57e1a.png)\n",
    "\n",
    "Child classes are able to invoke a parent's method in its own methods using the `super()` method. This allows the child class to extend the functionalities of the parent's method if required. "
   ]
  },
  {
   "cell_type": "code",
   "execution_count": null,
   "metadata": {},
   "outputs": [],
   "source": [
    "#Eg:\n",
    "class P:\n",
    "    def m1(self):\n",
    "        print(\"Parent Method\")\n",
    "class C(P):\n",
    "    def m2(self):\n",
    "        print(\"Child Method\")\n",
    "c=C()\n",
    "c.m1()\n",
    "c.m2()"
   ]
  },
  {
   "cell_type": "markdown",
   "metadata": {},
   "source": [
    "**Example: A `Person` class is a generic version of an `Employee` class**"
   ]
  },
  {
   "cell_type": "code",
   "execution_count": null,
   "metadata": {},
   "outputs": [],
   "source": [
    "# base class\n",
    "class Person():\n",
    "    def __init__(self, name, address, salary, age):\n",
    "        self.name = name\n",
    "        self.address = address\n",
    "        self.__salary = salary\n",
    "        self.age = age\n",
    "    \n",
    "    def calculate_CPF(self, rate):\n",
    "        return round((self.__salary * 12) * rate, 2)\n",
    "    \n",
    "    def get_salary(self):\n",
    "        return self.__salary\n",
    "    \n",
    "    def print_info(self):\n",
    "        print(f\"Name: {self.name}\")\n",
    "        print(f\"Age: {self.age}\")\n",
    "        print(f\"Address: {self.address}\")\n",
    "        print(f\"Salary per mth: {self.__salary}\")\n",
    "\n",
    "# child class\n",
    "class Employee(Person):\n",
    "    employee_cnt = 0\n",
    "    def __init__(self, name, address, salary, age, company):\n",
    "        # calling Parent method\n",
    "        super().__init__(name, address, salary, age)\n",
    "        self.company = company\n",
    "        Employee.employee_cnt += 1\n",
    "    \n",
    "    def __get_CPF_rate(self):\n",
    "        if self.age <= 55:\n",
    "            return 0.37\n",
    "        elif self.age > 55 and self.age <= 60:\n",
    "            return 0.23\n",
    "        elif self.age > 60 and self.age <= 65:\n",
    "            return 0.165\n",
    "        else:\n",
    "            return 0.125\n",
    "    \n",
    "    def calculate_employee_CPF(self):\n",
    "        return super().calculate_CPF(self.__get_CPF_rate())"
   ]
  },
  {
   "cell_type": "code",
   "execution_count": null,
   "metadata": {},
   "outputs": [],
   "source": [
    "p = Employee(\"Tom\", \"58 Moon Lane\", 4000, 35, \"IBM\")\n",
    "# child inherited these methods from the parent\n",
    "p.print_info()\n",
    "print(\"This employee's CPF is :\", p.calculate_employee_CPF())"
   ]
  },
  {
   "cell_type": "markdown",
   "metadata": {},
   "source": [
    "#### Diagnosis of a Parent and its Child class\n",
    "Let's take a peek at which are the attributes and methods that is inherited from a parent class to a child class. We can use the `dir()` function for this but note that this function is not able to differentiate between attributes or methods.\n",
    "\n",
    "**Example: Showing the inherited attributes and methods from the Parent Class (excluding special methods)**"
   ]
  },
  {
   "cell_type": "code",
   "execution_count": null,
   "metadata": {},
   "outputs": [],
   "source": [
    "# dir() returns/shows all the attributes and methods associated \n",
    "# with the object\n",
    "for i in dir(p):\n",
    "    if not i.startswith(\"__\"):\n",
    "        # print only the non special methods\n",
    "        print(i)"
   ]
  },
  {
   "cell_type": "markdown",
   "metadata": {},
   "source": [
    "Because the `dir()` function is not able to distinguish between attributes or methods, we can use the `getattr()` function to help us distinguish between attributes and methods. However we still can't tell if those attributes are class or instance attributes.\n",
    "\n",
    "**Example: Showing the difference between attributes and methods from the `Employee` object (excluding special methods)**"
   ]
  },
  {
   "cell_type": "code",
   "execution_count": null,
   "metadata": {},
   "outputs": [],
   "source": [
    "for i in dir(p):\n",
    "    if not i.startswith(\"__\"):\n",
    "        print(f'{i} is {type(getattr(p,i))}')"
   ]
  },
  {
   "cell_type": "markdown",
   "metadata": {},
   "source": [
    "That's when we can use the next method `vars()`. This method will return all the object's attributes in a dictionary format. This is because **all** python objects are inherited from the `Object` class. We will cover a bit more of this in the section on *Operator Overloading*.\n",
    "\n",
    "**Example: Showing the `Employee`'s object instance variables (both inherited and not inherited)**"
   ]
  },
  {
   "cell_type": "code",
   "execution_count": null,
   "metadata": {},
   "outputs": [],
   "source": [
    "vars(p)"
   ]
  },
  {
   "cell_type": "markdown",
   "metadata": {},
   "source": [
    "From the diagnostics, we can see that the `Employee` class inherits the private variable `salary` from the `Person` class but it does not mean that the `Employee` class can access it freely. That is why we need the accessor methods.\n",
    "\n",
    "**Example: Trying to access Parent private variables from the Child class**"
   ]
  },
  {
   "cell_type": "code",
   "execution_count": null,
   "metadata": {},
   "outputs": [],
   "source": [
    "print(p.get_salary())\n",
    "\n",
    "# this will work but then the princple of encapsulation is broken\n",
    "# DO NOT USE THIS\n",
    "print(p._Person__salary)\n",
    "\n",
    "# this will result in an error\n",
    "print(p.__salary)"
   ]
  },
  {
   "attachments": {
    "9ca769ea-0654-4519-8c76-413c763c1a36.png": {
     "image/png": "[encoded data removed]"
    }
   },
   "cell_type": "markdown",
   "metadata": {},
   "source": [
    "#### Multiple Single Inheritance\n",
    "\n",
    "We can also do multiple **single** inheritance, where \n",
    "* a child class becomes a parent of another class (multilevel inheritance)\n",
    "* a parent has multiple children (hierarchical inheritance)\n",
    "\n",
    "**DO NOT** confuse this is with mulitple inheritance (which is out of scope of this course).\n",
    "\n",
    "**Multilevel Inheritance**<br>\n",
    "In multilevel inheritance, it features the parent class and the child class are further inherited into the new child class. This is similar to a relationship representing a child and grandfather. \n",
    "\n",
    "![inheritance_multilevel.png](attachment:9ca769ea-0654-4519-8c76-413c763c1a36.png)\n",
    "\n",
    "**Example: Multilevel Inheritance**"
   ]
  },
  {
   "cell_type": "code",
   "execution_count": null,
   "metadata": {},
   "outputs": [],
   "source": [
    "class P:\n",
    "    def m1(self):\n",
    "        print(\"Parent Method\")\n",
    "\n",
    "class C(P):\n",
    "    def m2(self):\n",
    "        print(\"Child Method\")\n",
    "\n",
    "class CC(C):\n",
    "    def m3(self):\n",
    "        print(\"Sub Child Method\")\n",
    "\n",
    "c=CC()\n",
    "c.m1()\n",
    "c.m2()\n",
    "c.m3()"
   ]
  },
  {
   "cell_type": "code",
   "execution_count": null,
   "metadata": {},
   "outputs": [],
   "source": [
    "# parent class --------------------------------------\n",
    "class Rectangle:\n",
    "    def __init__(self, length, width):\n",
    "        self.length = length\n",
    "        self.width = width\n",
    "\n",
    "    def area(self):\n",
    "        return self.length * self.width\n",
    "\n",
    "    def perimeter(self):\n",
    "        return 2 * self.length + 2 * self.width\n",
    "\n",
    "# child class 1 --------------------------------------\n",
    "class Square(Rectangle):\n",
    "    def __init__(self, length):\n",
    "        super().__init__(length, length)\n",
    "\n",
    "# child class 2 --------------------------------------\n",
    "class Cube(Square):\n",
    "    def surface_area(self):\n",
    "        face_area = super().area()\n",
    "        return face_area * 6\n",
    "\n",
    "    def volume(self):\n",
    "        face_area = super().area()\n",
    "        return face_area * self.length"
   ]
  },
  {
   "cell_type": "code",
   "execution_count": null,
   "metadata": {},
   "outputs": [],
   "source": [
    "# objects -----------------------------------------\n",
    "sqr = Square(5)\n",
    "print(\"Area of a Square with 5 units side:\", sqr.area())\n",
    "print()\n",
    "cube = Cube(2)\n",
    "print(\"Surface area of a cube with 2 units side: \", cube.surface_area())\n",
    "print(\"Volume of a cube with 2 units side: \", cube.volume())"
   ]
  },
  {
   "cell_type": "markdown",
   "metadata": {},
   "source": [
    "As each child class inherit its parent's properties, we can propergate down the functions of the parent to create more specialized versions of the parent. "
   ]
  },
  {
   "attachments": {
    "ffeed0ba-e975-4c9d-be64-7d87d3706b09.png": {
     "image/png": "[encoded data removed]"
    }
   },
   "cell_type": "markdown",
   "metadata": {},
   "source": [
    "**Hierarchical Inheritance**\n",
    "When more than one child classes are created from a single parent class.\n",
    "\n",
    "![inheritance_hierarchical.png](attachment:ffeed0ba-e975-4c9d-be64-7d87d3706b09.png)\n",
    "\n",
    "**Example: Hierarchical Inheritance**"
   ]
  },
  {
   "cell_type": "code",
   "execution_count": null,
   "metadata": {},
   "outputs": [],
   "source": [
    "class P:\n",
    "    def m1(self):\n",
    "        print(\"Parent Method\")\n",
    "\n",
    "class C1(P):\n",
    "    def m2(self):\n",
    "        print(\"Child1 Method\")\n",
    "\n",
    "class C2(P):\n",
    "    def m3(self):\n",
    "        print(\"Child2 Method\")\n",
    "\n",
    "\n",
    "c1=C1()\n",
    "c1.m1()\n",
    "c1.m2()\n",
    "c2=C2()\n",
    "c2.m1()\n",
    "c2.m3()"
   ]
  },
  {
   "cell_type": "code",
   "execution_count": 37,
   "metadata": {
    "ExecuteTime": {
     "end_time": "2020-12-07T03:45:51.588218Z",
     "start_time": "2020-12-07T03:45:51.578246Z"
    }
   },
   "outputs": [],
   "source": [
    "class Person:\n",
    "    def __init__(self, name, address=None):\n",
    "        self.__name = name\n",
    "        self.__address = address\n",
    "    \n",
    "    def get_name(self):\n",
    "        return self.__name\n",
    "    \n",
    "    def set_name(self, name):\n",
    "        self.__name = name\n",
    "    \n",
    "    def get_address(self):\n",
    "        return self.__address\n",
    "    \n",
    "    def set_address(self, addr):\n",
    "        self.__address = addr"
   ]
  },
  {
   "cell_type": "code",
   "execution_count": 38,
   "metadata": {
    "ExecuteTime": {
     "end_time": "2020-12-07T03:45:52.219528Z",
     "start_time": "2020-12-07T03:45:52.209556Z"
    }
   },
   "outputs": [],
   "source": [
    "class Student(Person):\n",
    "    def __init__(self, course, year, fee, name, address=None):\n",
    "        super().__init__(name, address)\n",
    "        self.__course = course\n",
    "        self.__year = year\n",
    "        self.__fee = fee\n",
    "    \n",
    "    def get_course(self):\n",
    "        return self.__course\n",
    "    \n",
    "    def set_course(self, course):\n",
    "        self.__course = course\n",
    "    \n",
    "    def get_year(self):\n",
    "        return self.__year\n",
    "    \n",
    "    def set_year(self, year):\n",
    "        self.__year = year\n",
    "    \n",
    "    def get_fee(self):\n",
    "        return self.__fee\n",
    "    \n",
    "    def set_fee(self, fee):\n",
    "        self.__fee = fee\n",
    "    "
   ]
  },
  {
   "cell_type": "code",
   "execution_count": 39,
   "metadata": {
    "ExecuteTime": {
     "end_time": "2020-12-07T03:45:53.013404Z",
     "start_time": "2020-12-07T03:45:53.008416Z"
    }
   },
   "outputs": [],
   "source": [
    "class Staff(Person):\n",
    "    def __init__(self, faculty, pay, name, address=None):\n",
    "        super().__init__(name, address)\n",
    "        self.__faculty = faculty\n",
    "        self.__pay = pay\n",
    "    \n",
    "    def get_faculty(self):\n",
    "        return self.__faculty\n",
    "    \n",
    "    def set_faculty(self, faculty):\n",
    "        self.__faculty = faculty\n",
    "    \n",
    "    def get_pay(self):\n",
    "        return self.__pay\n",
    "    \n",
    "    def set_fee(self, pay):\n",
    "        self.__pay = pay"
   ]
  },
  {
   "cell_type": "code",
   "execution_count": 40,
   "metadata": {
    "ExecuteTime": {
     "end_time": "2020-12-07T03:45:53.832211Z",
     "start_time": "2020-12-07T03:45:53.825232Z"
    }
   },
   "outputs": [],
   "source": [
    "class Another_Staff(Person):\n",
    "    def __init__(self, faculty, pay, name, address=None):\n",
    "        self.__faculty = faculty\n",
    "        self.__pay = pay\n",
    "    \n",
    "    def get_faculty(self):\n",
    "        return self.__faculty\n",
    "    \n",
    "    def set_faculty(self, faculty):\n",
    "        self.__faculty = faculty\n",
    "    \n",
    "    def get_pay(self):\n",
    "        return self.__pay\n",
    "    \n",
    "    def set_fee(self, pay):\n",
    "        self.__pay = pay"
   ]
  },
  {
   "cell_type": "code",
   "execution_count": 43,
   "metadata": {
    "ExecuteTime": {
     "end_time": "2020-12-07T03:46:45.276526Z",
     "start_time": "2020-12-07T03:46:45.261534Z"
    }
   },
   "outputs": [
    {
     "name": "stdout",
     "output_type": "stream",
     "text": [
      "Staff Name: John Doe\n",
      "Staff Address: 85 Sunrise lane\n",
      "Faculty: Technology and Bionics\n",
      "\n",
      "Student Name: Sally Mae\n",
      "Student Address: 9 Bukit Timah Rd\n",
      "Course: Comp Sci\n",
      "\n"
     ]
    },
    {
     "ename": "AttributeError",
     "evalue": "'Another_Staff' object has no attribute '_Person__name'",
     "output_type": "error",
     "traceback": [
      "\u001b[1;31m---------------------------------------------------------------------------\u001b[0m",
      "\u001b[1;31mAttributeError\u001b[0m                            Traceback (most recent call last)",
      "\u001b[1;32m<ipython-input-43-bcfd6b8b54ec>\u001b[0m in \u001b[0;36m<module>\u001b[1;34m\u001b[0m\n\u001b[0;32m     12\u001b[0m \u001b[0mprint\u001b[0m\u001b[1;33m(\u001b[0m\u001b[1;33m)\u001b[0m\u001b[1;33m\u001b[0m\u001b[1;33m\u001b[0m\u001b[0m\n\u001b[0;32m     13\u001b[0m \u001b[0mstaff2\u001b[0m \u001b[1;33m=\u001b[0m \u001b[0mAnother_Staff\u001b[0m\u001b[1;33m(\u001b[0m\u001b[1;34m'Technology and Bionics'\u001b[0m\u001b[1;33m,\u001b[0m \u001b[1;36m10000\u001b[0m\u001b[1;33m,\u001b[0m \u001b[1;34m'Christmas'\u001b[0m\u001b[1;33m,\u001b[0m \u001b[1;34m'85 Sunrise lane'\u001b[0m\u001b[1;33m)\u001b[0m\u001b[1;33m\u001b[0m\u001b[1;33m\u001b[0m\u001b[0m\n\u001b[1;32m---> 14\u001b[1;33m \u001b[0mprint\u001b[0m\u001b[1;33m(\u001b[0m\u001b[1;34mf'Staff Name: {staff2.get_name()}'\u001b[0m\u001b[1;33m)\u001b[0m\u001b[1;33m\u001b[0m\u001b[1;33m\u001b[0m\u001b[0m\n\u001b[0m\u001b[0;32m     15\u001b[0m \u001b[0mprint\u001b[0m\u001b[1;33m(\u001b[0m\u001b[1;34mf'Staff Address: {staff2.get_address()}'\u001b[0m\u001b[1;33m)\u001b[0m\u001b[1;33m\u001b[0m\u001b[1;33m\u001b[0m\u001b[0m\n\u001b[0;32m     16\u001b[0m \u001b[0mprint\u001b[0m\u001b[1;33m(\u001b[0m\u001b[1;34mf'Faculty: {staff2.get_faculty()}'\u001b[0m\u001b[1;33m)\u001b[0m\u001b[1;33m\u001b[0m\u001b[1;33m\u001b[0m\u001b[0m\n",
      "\u001b[1;32m<ipython-input-37-c5df104185a9>\u001b[0m in \u001b[0;36mget_name\u001b[1;34m(self)\u001b[0m\n\u001b[0;32m      5\u001b[0m \u001b[1;33m\u001b[0m\u001b[0m\n\u001b[0;32m      6\u001b[0m     \u001b[1;32mdef\u001b[0m \u001b[0mget_name\u001b[0m\u001b[1;33m(\u001b[0m\u001b[0mself\u001b[0m\u001b[1;33m)\u001b[0m\u001b[1;33m:\u001b[0m\u001b[1;33m\u001b[0m\u001b[1;33m\u001b[0m\u001b[0m\n\u001b[1;32m----> 7\u001b[1;33m         \u001b[1;32mreturn\u001b[0m \u001b[0mself\u001b[0m\u001b[1;33m.\u001b[0m\u001b[0m__name\u001b[0m\u001b[1;33m\u001b[0m\u001b[1;33m\u001b[0m\u001b[0m\n\u001b[0m\u001b[0;32m      8\u001b[0m \u001b[1;33m\u001b[0m\u001b[0m\n\u001b[0;32m      9\u001b[0m     \u001b[1;32mdef\u001b[0m \u001b[0mset_name\u001b[0m\u001b[1;33m(\u001b[0m\u001b[0mself\u001b[0m\u001b[1;33m,\u001b[0m \u001b[0mname\u001b[0m\u001b[1;33m)\u001b[0m\u001b[1;33m:\u001b[0m\u001b[1;33m\u001b[0m\u001b[1;33m\u001b[0m\u001b[0m\n",
      "\u001b[1;31mAttributeError\u001b[0m: 'Another_Staff' object has no attribute '_Person__name'"
     ]
    }
   ],
   "source": [
    "staff1 = Staff('Technology and Bionics', 5000, 'John Doe', '85 Sunrise lane')\n",
    "print(f'Staff Name: {staff1.get_name()}')\n",
    "print(f'Staff Address: {staff1.get_address()}')\n",
    "print(f'Faculty: {staff1.get_faculty()}')\n",
    "\n",
    "print()\n",
    "\n",
    "student1 = Student('Comp Sci', '2019', 30000, 'Sally Mae', '9 Bukit Timah Rd')\n",
    "print(f'Student Name: {student1.get_name()}')\n",
    "print(f'Student Address: {student1.get_address()}')\n",
    "print(f'Course: {student1.get_course()}')\n",
    "print()\n",
    "staff2 = Another_Staff('Technology and Bionics', 10000, 'Christmas', '85 Sunrise lane')\n",
    "print(f'Staff Name: {staff2.get_name()}')\n",
    "print(f'Staff Address: {staff2.get_address()}')\n",
    "print(f'Faculty: {staff2.get_faculty()}')"
   ]
  },
  {
   "cell_type": "markdown",
   "metadata": {},
   "source": [
    "### Multiple Inheritance:\n",
    "The concept of inheriting the properties from multiple classes into a single class at a time, is\n",
    "known as multiple inheritance.\n",
    "\n",
    "https://realpython.com/python-super/"
   ]
  },
  {
   "attachments": {
    "image.png": {
     "image/png": "[encoded data removed]"
    }
   },
   "cell_type": "markdown",
   "metadata": {},
   "source": [
    "![image.png](attachment:image.png)"
   ]
  },
  {
   "cell_type": "code",
   "execution_count": 16,
   "metadata": {
    "ExecuteTime": {
     "end_time": "2020-12-07T02:20:27.619160Z",
     "start_time": "2020-12-07T02:20:27.609188Z"
    }
   },
   "outputs": [
    {
     "name": "stdout",
     "output_type": "stream",
     "text": [
      "Parent1 m1 Method\n"
     ]
    },
    {
     "ename": "NameError",
     "evalue": "name 'self' is not defined",
     "output_type": "error",
     "traceback": [
      "\u001b[1;31m---------------------------------------------------------------------------\u001b[0m",
      "\u001b[1;31mNameError\u001b[0m                                 Traceback (most recent call last)",
      "\u001b[1;32m<ipython-input-16-f2d4662bdafc>\u001b[0m in \u001b[0;36m<module>\u001b[1;34m\u001b[0m\n\u001b[0;32m     12\u001b[0m \u001b[0mc\u001b[0m\u001b[1;33m=\u001b[0m\u001b[0mC\u001b[0m\u001b[1;33m(\u001b[0m\u001b[1;33m)\u001b[0m\u001b[1;33m\u001b[0m\u001b[1;33m\u001b[0m\u001b[0m\n\u001b[0;32m     13\u001b[0m \u001b[0mc\u001b[0m\u001b[1;33m.\u001b[0m\u001b[0mm1\u001b[0m\u001b[1;33m(\u001b[0m\u001b[1;33m)\u001b[0m\u001b[1;33m\u001b[0m\u001b[1;33m\u001b[0m\u001b[0m\n\u001b[1;32m---> 14\u001b[1;33m \u001b[0mP2\u001b[0m\u001b[1;33m.\u001b[0m\u001b[0mm1\u001b[0m\u001b[1;33m(\u001b[0m\u001b[0mself\u001b[0m\u001b[1;33m)\u001b[0m\u001b[1;33m\u001b[0m\u001b[1;33m\u001b[0m\u001b[0m\n\u001b[0m\u001b[0;32m     15\u001b[0m \u001b[0mc\u001b[0m\u001b[1;33m.\u001b[0m\u001b[0mm2\u001b[0m\u001b[1;33m(\u001b[0m\u001b[1;33m)\u001b[0m\u001b[1;33m\u001b[0m\u001b[1;33m\u001b[0m\u001b[0m\n\u001b[0;32m     16\u001b[0m \u001b[0mc\u001b[0m\u001b[1;33m.\u001b[0m\u001b[0mm3\u001b[0m\u001b[1;33m(\u001b[0m\u001b[1;33m)\u001b[0m\u001b[1;33m\u001b[0m\u001b[1;33m\u001b[0m\u001b[0m\n",
      "\u001b[1;31mNameError\u001b[0m: name 'self' is not defined"
     ]
    }
   ],
   "source": [
    "class P1:\n",
    "    def m1(self):\n",
    "        print(\"Parent1 m1 Method\")\n",
    "class P2:\n",
    "    def m1(self):\n",
    "        print(\"Parent2 m1 Method\")\n",
    "    def m2(self):\n",
    "        print(\"Parent2 m2 Method\")\n",
    "class C(P1,P2):\n",
    "    def m3(self):\n",
    "        super(P1, self).m1()\n",
    "        super(P2, self).m1()\n",
    "        print(\"Child2 Method\")\n",
    "c=C()\n",
    "c.m1()\n",
    "P2.m1()\n",
    "c.m2()\n",
    "c.m3()"
   ]
  },
  {
   "cell_type": "markdown",
   "metadata": {},
   "source": [
    "If the same method is inherited from both parent classes,then Python will always consider the order of Parent classes in the declaration of the child class.  \n",
    "class C(P1,P2): ===> P1 method will be considered  \n",
    "class C(P2,P1): ===> P2 method will be considered  "
   ]
  },
  {
   "cell_type": "code",
   "execution_count": null,
   "metadata": {},
   "outputs": [],
   "source": [
    "class P1:\n",
    "    def m1(self):\n",
    "        print(\"Parent1 Method\")\n",
    "class P2:\n",
    "    def m1(self):\n",
    "        print(\"Parent2 Method\")\n",
    "class C(P2,P1):\n",
    "    def m2(self):\n",
    "        print(\"Child Method\")\n",
    "\n",
    "c=C()\n",
    "c.m1()\n",
    "c.m2()"
   ]
  },
  {
   "cell_type": "markdown",
   "metadata": {},
   "source": [
    "### Hybrid Inheritance:\n",
    "Combination of Single, Multi level, multiple and Hierarchical inheritance is known as Hybrid\n",
    "Inheritance."
   ]
  },
  {
   "cell_type": "code",
   "execution_count": null,
   "metadata": {},
   "outputs": [],
   "source": [
    "#Ex: \n",
    "class School:\n",
    "     def func1(self):\n",
    "            print(\"This function is in school.\")\n",
    "        \n",
    "class Student1(School):\n",
    "     def func2(self):\n",
    "            print(\"This function is in student 1. \")\n",
    "        \n",
    "class Student2(School):\n",
    "     def func3(self):\n",
    "            print(\"This function is in student 2.\")\n",
    "        \n",
    "class Student3(Student1, School):\n",
    "     def func4(self):\n",
    "            print(\"This function is in student 3.\")\n",
    "\n",
    "# Driver's code\n",
    "object = Student3()\n",
    "object.func1()\n",
    "object.func2()"
   ]
  },
  {
   "cell_type": "markdown",
   "metadata": {},
   "source": [
    "---\n",
    "## Abstraction\n",
    "\n",
    "In a nutshell, abstraction is to hide the real implementation of an application from the user and emphasizing **only** the usage of it. For example, buying any new electronic gadget will normally come with a user manual to guide you on how to use this particular gadget. However, this manual does not tell you the internal workings of the gadget.\n",
    "\n",
    "Even with the Python language, there is a layer of abstraction that hides from us the low level workings of the language from us. So how is Abstraction achieved in Python?"
   ]
  },
  {
   "cell_type": "markdown",
   "metadata": {},
   "source": [
    "### Abstract Method:\n",
    "Sometimes we may not know about the implementation, however we are still able to declare the method. Such type of methods are called **abstract methods**. i.e abstract method has only declaration but not implementation.  \n",
    "\n",
    "In python we can declare abstract method by using the `@abstractmethod` decorator as follows.\n",
    "\n",
    "@abstractmethod\n",
    "def m1(self): pass\n",
    "\n",
    "`@abstractmethod` decorator is from the `abc` module. Hence it is compulsory to import the `abc` module, otherwise we will get an error.  \n",
    "\n",
    "`abc` ==> abstract base class module"
   ]
  },
  {
   "cell_type": "code",
   "execution_count": 17,
   "metadata": {
    "ExecuteTime": {
     "end_time": "2020-12-07T02:55:15.841780Z",
     "start_time": "2020-12-07T02:55:15.828788Z"
    }
   },
   "outputs": [
    {
     "ename": "NameError",
     "evalue": "name 'abstractmethod' is not defined",
     "output_type": "error",
     "traceback": [
      "\u001b[1;31m---------------------------------------------------------------------------\u001b[0m",
      "\u001b[1;31mNameError\u001b[0m                                 Traceback (most recent call last)",
      "\u001b[1;32m<ipython-input-17-8dcab3de2008>\u001b[0m in \u001b[0;36m<module>\u001b[1;34m\u001b[0m\n\u001b[1;32m----> 1\u001b[1;33m \u001b[1;32mclass\u001b[0m \u001b[0mTest\u001b[0m\u001b[1;33m:\u001b[0m\u001b[1;33m\u001b[0m\u001b[1;33m\u001b[0m\u001b[0m\n\u001b[0m\u001b[0;32m      2\u001b[0m     \u001b[1;33m@\u001b[0m\u001b[0mabstractmethod\u001b[0m\u001b[1;33m\u001b[0m\u001b[1;33m\u001b[0m\u001b[0m\n\u001b[0;32m      3\u001b[0m     \u001b[1;32mdef\u001b[0m \u001b[0mm1\u001b[0m\u001b[1;33m(\u001b[0m\u001b[0mself\u001b[0m\u001b[1;33m)\u001b[0m\u001b[1;33m:\u001b[0m\u001b[1;33m\u001b[0m\u001b[1;33m\u001b[0m\u001b[0m\n\u001b[0;32m      4\u001b[0m         \u001b[1;32mpass\u001b[0m\u001b[1;33m\u001b[0m\u001b[1;33m\u001b[0m\u001b[0m\n\u001b[0;32m      5\u001b[0m \u001b[1;33m\u001b[0m\u001b[0m\n",
      "\u001b[1;32m<ipython-input-17-8dcab3de2008>\u001b[0m in \u001b[0;36mTest\u001b[1;34m()\u001b[0m\n\u001b[0;32m      1\u001b[0m \u001b[1;32mclass\u001b[0m \u001b[0mTest\u001b[0m\u001b[1;33m:\u001b[0m\u001b[1;33m\u001b[0m\u001b[1;33m\u001b[0m\u001b[0m\n\u001b[1;32m----> 2\u001b[1;33m     \u001b[1;33m@\u001b[0m\u001b[0mabstractmethod\u001b[0m\u001b[1;33m\u001b[0m\u001b[1;33m\u001b[0m\u001b[0m\n\u001b[0m\u001b[0;32m      3\u001b[0m     \u001b[1;32mdef\u001b[0m \u001b[0mm1\u001b[0m\u001b[1;33m(\u001b[0m\u001b[0mself\u001b[0m\u001b[1;33m)\u001b[0m\u001b[1;33m:\u001b[0m\u001b[1;33m\u001b[0m\u001b[1;33m\u001b[0m\u001b[0m\n\u001b[0;32m      4\u001b[0m         \u001b[1;32mpass\u001b[0m\u001b[1;33m\u001b[0m\u001b[1;33m\u001b[0m\u001b[0m\n\u001b[0;32m      5\u001b[0m \u001b[1;33m\u001b[0m\u001b[0m\n",
      "\u001b[1;31mNameError\u001b[0m: name 'abstractmethod' is not defined"
     ]
    }
   ],
   "source": [
    "class Test:\n",
    "    @abstractmethod\n",
    "    def m1(self):\n",
    "        pass\n",
    "    \n",
    "#NameError: name 'abstractmethod' is not defined, abc NOT imported yet."
   ]
  },
  {
   "cell_type": "code",
   "execution_count": 18,
   "metadata": {
    "ExecuteTime": {
     "end_time": "2020-12-07T02:55:16.724409Z",
     "start_time": "2020-12-07T02:55:16.719404Z"
    }
   },
   "outputs": [],
   "source": [
    "#Ex\n",
    "from abc import *\n",
    "class Test:\n",
    "    @abstractmethod\n",
    "    def m1(self):\n",
    "        pass"
   ]
  },
  {
   "cell_type": "code",
   "execution_count": 19,
   "metadata": {
    "ExecuteTime": {
     "end_time": "2020-12-07T02:55:18.889595Z",
     "start_time": "2020-12-07T02:55:18.885605Z"
    }
   },
   "outputs": [],
   "source": [
    "from abc import *\n",
    "class Fruit:\n",
    "    @abstractmethod\n",
    "    def taste(self):\n",
    "        pass"
   ]
  },
  {
   "cell_type": "markdown",
   "metadata": {},
   "source": [
    "**Child classes are responsible to provide implemention for parent class abstract methods.**"
   ]
  },
  {
   "cell_type": "markdown",
   "metadata": {},
   "source": [
    "### Abstract class:\n",
    "\n",
    "Some times implementation of a class is not complete, these type of partially implementation classes are called abstract classes.\n",
    "\n",
    "An Abstract class is a class that contains **one of more** abstract methods. Remember, an abstract method normally has no implementation therefore **all** implementation of the abstract class have to be defined by their child classes. **An abstract class CANNOT be instantiated unless all its abstract methods have been implemented.** An abstract class must also import the class `ABC` from the module `abc`. \n",
    "\n",
    "The general syntax for an Abstract class is:\n",
    "```python\n",
    "from abc import ABC, abstractmethod \n",
    "\n",
    "class SomeName(ABC):\n",
    "    def some_normal_method(self):\n",
    "        # implementation\n",
    "    \n",
    "    @abstractmethod\n",
    "    def some_abstract_method(self):\n",
    "        pass\n",
    "```\n",
    "\n",
    "The Abstract Base Class module of Python works by decorating methods (using the `@abstractmethod`) of the base class as abstract and then registering concrete (normal) classes as implementations of the abstract base. "
   ]
  },
  {
   "cell_type": "code",
   "execution_count": 20,
   "metadata": {
    "ExecuteTime": {
     "end_time": "2020-12-07T02:55:27.043765Z",
     "start_time": "2020-12-07T02:55:27.039776Z"
    }
   },
   "outputs": [],
   "source": [
    "#Case-1:\n",
    "from abc import *\n",
    "class Test:\n",
    "    pass\n",
    "\n",
    "t=Test()\n",
    "\n",
    "# Can instantiate the class object because there is no abstract method."
   ]
  },
  {
   "cell_type": "markdown",
   "metadata": {},
   "source": [
    "In the above code we can create an object for Test class because it is a concrete class and it does not conatin any abstract methods."
   ]
  },
  {
   "cell_type": "code",
   "execution_count": 21,
   "metadata": {
    "ExecuteTime": {
     "end_time": "2020-12-07T02:55:50.710408Z",
     "start_time": "2020-12-07T02:55:50.705422Z"
    }
   },
   "outputs": [],
   "source": [
    "#Case-2:\n",
    "from abc import *\n",
    "class Test(ABC):\n",
    "    pass\n",
    "\n",
    "t=Test()"
   ]
  },
  {
   "cell_type": "markdown",
   "metadata": {},
   "source": [
    "In the above code we can create an object, even it is derived from `ABC` class, because it does not contain any abstract methods."
   ]
  },
  {
   "cell_type": "code",
   "execution_count": 22,
   "metadata": {
    "ExecuteTime": {
     "end_time": "2020-12-07T02:55:54.332714Z",
     "start_time": "2020-12-07T02:55:54.323735Z"
    }
   },
   "outputs": [
    {
     "ename": "TypeError",
     "evalue": "Can't instantiate abstract class Test with abstract methods m1",
     "output_type": "error",
     "traceback": [
      "\u001b[1;31m---------------------------------------------------------------------------\u001b[0m",
      "\u001b[1;31mTypeError\u001b[0m                                 Traceback (most recent call last)",
      "\u001b[1;32m<ipython-input-22-72ea7766f42c>\u001b[0m in \u001b[0;36m<module>\u001b[1;34m\u001b[0m\n\u001b[0;32m      6\u001b[0m         \u001b[1;32mpass\u001b[0m\u001b[1;33m\u001b[0m\u001b[1;33m\u001b[0m\u001b[0m\n\u001b[0;32m      7\u001b[0m \u001b[1;33m\u001b[0m\u001b[0m\n\u001b[1;32m----> 8\u001b[1;33m \u001b[0mt\u001b[0m\u001b[1;33m=\u001b[0m\u001b[0mTest\u001b[0m\u001b[1;33m(\u001b[0m\u001b[1;33m)\u001b[0m\u001b[1;33m\u001b[0m\u001b[1;33m\u001b[0m\u001b[0m\n\u001b[0m",
      "\u001b[1;31mTypeError\u001b[0m: Can't instantiate abstract class Test with abstract methods m1"
     ]
    }
   ],
   "source": [
    "#Case-3:\n",
    "from abc import *\n",
    "class Test(ABC):\n",
    "    @abstractmethod\n",
    "    def m1(self):\n",
    "        pass\n",
    "\n",
    "t=Test()\n",
    "\n",
    "# Because there is an abstract method not yet implemented, therefore it cannot be instantiated."
   ]
  },
  {
   "cell_type": "markdown",
   "metadata": {},
   "source": [
    "`TypeError:` Can't instantiate abstract class `Test` with the abstract method `m1()`"
   ]
  },
  {
   "cell_type": "code",
   "execution_count": null,
   "metadata": {},
   "outputs": [],
   "source": [
    "#Case-4:\n",
    "from abc import *\n",
    "class Test:\n",
    "    @abstractmethod\n",
    "    def m1(self):\n",
    "        pass\n",
    "\n",
    "t=Test()\n",
    "\n",
    "# Yes, we can instantiate the object because we never inherit ABC. "
   ]
  },
  {
   "cell_type": "markdown",
   "metadata": {},
   "source": [
    "We can create an object even though the class contains an abstract method because we are not inheriting `ABC` class."
   ]
  },
  {
   "cell_type": "code",
   "execution_count": 23,
   "metadata": {
    "ExecuteTime": {
     "end_time": "2020-12-07T03:03:40.782172Z",
     "start_time": "2020-12-07T03:03:40.776187Z"
    }
   },
   "outputs": [
    {
     "name": "stdout",
     "output_type": "stream",
     "text": [
      "Hello\n"
     ]
    }
   ],
   "source": [
    "#Case-5:\n",
    "from abc import *\n",
    "class Test:\n",
    "    @abstractmethod\n",
    "    def m1(self):\n",
    "        print('Hello')\n",
    "\n",
    "t=Test()\n",
    "t.m1()\n",
    "\n",
    "# Yes, can instantiate because the abstract method is implemented."
   ]
  },
  {
   "cell_type": "code",
   "execution_count": 24,
   "metadata": {
    "ExecuteTime": {
     "end_time": "2020-12-07T03:07:37.167357Z",
     "start_time": "2020-12-07T03:07:37.157382Z"
    }
   },
   "outputs": [
    {
     "ename": "TypeError",
     "evalue": "Can't instantiate abstract class xyz with abstract methods sum",
     "output_type": "error",
     "traceback": [
      "\u001b[1;31m---------------------------------------------------------------------------\u001b[0m",
      "\u001b[1;31mTypeError\u001b[0m                                 Traceback (most recent call last)",
      "\u001b[1;32m<ipython-input-24-361dd4d6d41f>\u001b[0m in \u001b[0;36m<module>\u001b[1;34m\u001b[0m\n\u001b[0;32m      8\u001b[0m     \u001b[1;32mpass\u001b[0m\u001b[1;33m\u001b[0m\u001b[1;33m\u001b[0m\u001b[0m\n\u001b[0;32m      9\u001b[0m \u001b[1;33m\u001b[0m\u001b[0m\n\u001b[1;32m---> 10\u001b[1;33m \u001b[0mx\u001b[0m \u001b[1;33m=\u001b[0m \u001b[0mxyz\u001b[0m\u001b[1;33m(\u001b[0m\u001b[1;33m)\u001b[0m\u001b[1;33m\u001b[0m\u001b[1;33m\u001b[0m\u001b[0m\n\u001b[0m",
      "\u001b[1;31mTypeError\u001b[0m: Can't instantiate abstract class xyz with abstract methods sum"
     ]
    }
   ],
   "source": [
    "from abc import *\n",
    "\n",
    "class P(ABC):\n",
    "    @abstractmethod\n",
    "    def sum(a,b): pass\n",
    "    \n",
    "class xyz(P):\n",
    "    pass\n",
    "\n",
    "x = xyz()"
   ]
  },
  {
   "cell_type": "markdown",
   "metadata": {},
   "source": [
    "**Conclusion:**  \n",
    "If a class contains at least one abstract method and if we are inheriting from the `ABC` class then instantiation is not possible.\n",
    "\n",
    "**`abstract class` with abstract method instantiation is not possible**\n",
    "\n",
    "Parent class abstract methods should be implemented in the child classes otherwise we cannot instantiate the child class. If we are not creating the child class object then we would not get an error."
   ]
  },
  {
   "cell_type": "code",
   "execution_count": 26,
   "metadata": {
    "ExecuteTime": {
     "end_time": "2020-12-07T03:08:17.746723Z",
     "start_time": "2020-12-07T03:08:17.737747Z"
    }
   },
   "outputs": [
    {
     "ename": "TypeError",
     "evalue": "Can't instantiate abstract class Bus with abstract methods noofwheels",
     "output_type": "error",
     "traceback": [
      "\u001b[1;31m---------------------------------------------------------------------------\u001b[0m",
      "\u001b[1;31mTypeError\u001b[0m                                 Traceback (most recent call last)",
      "\u001b[1;32m<ipython-input-26-c1297d937b63>\u001b[0m in \u001b[0;36m<module>\u001b[1;34m\u001b[0m\n\u001b[0;32m      8\u001b[0m \u001b[1;32mclass\u001b[0m \u001b[0mBus\u001b[0m\u001b[1;33m(\u001b[0m\u001b[0mVehicle\u001b[0m\u001b[1;33m)\u001b[0m\u001b[1;33m:\u001b[0m \u001b[1;32mpass\u001b[0m\u001b[1;33m\u001b[0m\u001b[1;33m\u001b[0m\u001b[0m\n\u001b[0;32m      9\u001b[0m \u001b[1;33m\u001b[0m\u001b[0m\n\u001b[1;32m---> 10\u001b[1;33m \u001b[0mbus\u001b[0m \u001b[1;33m=\u001b[0m \u001b[0mBus\u001b[0m\u001b[1;33m(\u001b[0m\u001b[1;33m)\u001b[0m\u001b[1;33m\u001b[0m\u001b[1;33m\u001b[0m\u001b[0m\n\u001b[0m",
      "\u001b[1;31mTypeError\u001b[0m: Can't instantiate abstract class Bus with abstract methods noofwheels"
     ]
    }
   ],
   "source": [
    "#Case-1:\n",
    "from abc import *\n",
    "class Vehicle(ABC):\n",
    "    @abstractmethod\n",
    "    def noofwheels(self):\n",
    "        pass\n",
    "\n",
    "class Bus(Vehicle): pass\n",
    "\n",
    "bus = Bus() # Cannot instantiate the object bus of Bus()"
   ]
  },
  {
   "cell_type": "code",
   "execution_count": 27,
   "metadata": {
    "ExecuteTime": {
     "end_time": "2020-12-07T03:13:39.929222Z",
     "start_time": "2020-12-07T03:13:39.914263Z"
    }
   },
   "outputs": [
    {
     "ename": "TypeError",
     "evalue": "Can't instantiate abstract class Bus with abstract methods mul",
     "output_type": "error",
     "traceback": [
      "\u001b[1;31m---------------------------------------------------------------------------\u001b[0m",
      "\u001b[1;31mTypeError\u001b[0m                                 Traceback (most recent call last)",
      "\u001b[1;32m<ipython-input-27-2959bd3a3ece>\u001b[0m in \u001b[0;36m<module>\u001b[1;34m\u001b[0m\n\u001b[0;32m     13\u001b[0m         \u001b[1;32mpass\u001b[0m\u001b[1;33m\u001b[0m\u001b[1;33m\u001b[0m\u001b[0m\n\u001b[0;32m     14\u001b[0m \u001b[1;33m\u001b[0m\u001b[0m\n\u001b[1;32m---> 15\u001b[1;33m \u001b[0mbus\u001b[0m \u001b[1;33m=\u001b[0m \u001b[0mBus\u001b[0m\u001b[1;33m(\u001b[0m\u001b[1;33m)\u001b[0m\u001b[1;33m\u001b[0m\u001b[1;33m\u001b[0m\u001b[0m\n\u001b[0m",
      "\u001b[1;31mTypeError\u001b[0m: Can't instantiate abstract class Bus with abstract methods mul"
     ]
    }
   ],
   "source": [
    "from abc import *\n",
    "class Vehicle(ABC):\n",
    "    @abstractmethod\n",
    "    def noofwheels(self):\n",
    "        pass\n",
    "    \n",
    "class Bus(Vehicle):\n",
    "    def noofwheels(self):\n",
    "        print(\"Hello\")\n",
    "        \n",
    "    @abstractmethod\n",
    "    def mul(self, a, b):\n",
    "        pass\n",
    "    \n",
    "bus = Bus()"
   ]
  },
  {
   "cell_type": "markdown",
   "metadata": {},
   "source": [
    "It is valid because we are not creating a Child class object"
   ]
  },
  {
   "cell_type": "code",
   "execution_count": 28,
   "metadata": {
    "ExecuteTime": {
     "end_time": "2020-12-07T03:13:45.558153Z",
     "start_time": "2020-12-07T03:13:45.548179Z"
    }
   },
   "outputs": [
    {
     "ename": "TypeError",
     "evalue": "Can't instantiate abstract class Bus with abstract methods noofwheels",
     "output_type": "error",
     "traceback": [
      "\u001b[1;31m---------------------------------------------------------------------------\u001b[0m",
      "\u001b[1;31mTypeError\u001b[0m                                 Traceback (most recent call last)",
      "\u001b[1;32m<ipython-input-28-0d72b5b0c989>\u001b[0m in \u001b[0;36m<module>\u001b[1;34m\u001b[0m\n\u001b[0;32m      8\u001b[0m \u001b[1;32mclass\u001b[0m \u001b[0mBus\u001b[0m\u001b[1;33m(\u001b[0m\u001b[0mVehicle\u001b[0m\u001b[1;33m)\u001b[0m\u001b[1;33m:\u001b[0m \u001b[1;32mpass\u001b[0m\u001b[1;33m\u001b[0m\u001b[1;33m\u001b[0m\u001b[0m\n\u001b[0;32m      9\u001b[0m \u001b[1;33m\u001b[0m\u001b[0m\n\u001b[1;32m---> 10\u001b[1;33m \u001b[0mb\u001b[0m\u001b[1;33m=\u001b[0m\u001b[0mBus\u001b[0m\u001b[1;33m(\u001b[0m\u001b[1;33m)\u001b[0m\u001b[1;33m\u001b[0m\u001b[1;33m\u001b[0m\u001b[0m\n\u001b[0m",
      "\u001b[1;31mTypeError\u001b[0m: Can't instantiate abstract class Bus with abstract methods noofwheels"
     ]
    }
   ],
   "source": [
    "#Case-2:\n",
    "from abc import *\n",
    "class Vehicle(ABC):\n",
    "    @abstractmethod\n",
    "    def noofwheels(self):\n",
    "        pass\n",
    "\n",
    "class Bus(Vehicle): pass\n",
    "\n",
    "b=Bus()"
   ]
  },
  {
   "cell_type": "markdown",
   "metadata": {},
   "source": [
    "`TypeError:` Can't instantiate abstract class `Bus` without implementing the abstract method `noofwheels()`"
   ]
  },
  {
   "cell_type": "markdown",
   "metadata": {},
   "source": [
    "**Note:** If we are inheriting an abstract class and do not override its abstract methods then the child class is also an abstract class and instantiation is not possible."
   ]
  },
  {
   "cell_type": "code",
   "execution_count": 29,
   "metadata": {
    "ExecuteTime": {
     "end_time": "2020-12-07T03:13:50.958698Z",
     "start_time": "2020-12-07T03:13:50.951714Z"
    }
   },
   "outputs": [
    {
     "name": "stdout",
     "output_type": "stream",
     "text": [
      "8\n",
      "4\n"
     ]
    }
   ],
   "source": [
    "#Example\n",
    "from abc import *\n",
    "class Vehicle(ABC):\n",
    "    @abstractmethod\n",
    "    def noofwheels(self):\n",
    "        pass\n",
    "\n",
    "class Bus(Vehicle):\n",
    "    def noofwheels(self):\n",
    "        return 8\n",
    "\n",
    "class Car(Vehicle):\n",
    "    def noofwheels(self):\n",
    "        return 4\n",
    "\n",
    "b=Bus()\n",
    "print(b.noofwheels()) # Output: 8\n",
    "\n",
    "a=Car()\n",
    "print(a.noofwheels()) # Output: 4"
   ]
  },
  {
   "cell_type": "markdown",
   "metadata": {},
   "source": [
    "You may think that abstract methods can't be implemented in the abstract base class. This impression is wrong: An abstract method can have an implementation in the abstract class! Even if they are implemented, designers of subclasses will be forced to override the implementation. Like in other cases of \"normal\" inheritance, the abstract method can be invoked with `super()` call mechanism. This enables providing some basic functionality in the abstract method, which can be enriched by the subclass implementation."
   ]
  },
  {
   "cell_type": "code",
   "execution_count": null,
   "metadata": {},
   "outputs": [],
   "source": [
    "#Ex:\n",
    "from abc import ABC, abstractmethod\n",
    " \n",
    "class AbstractClassExample(ABC):\n",
    "    \n",
    "    @abstractmethod # abstractmethod with partial implementation.\n",
    "    def do_something(self):\n",
    "        print(\"Some implementation!\")\n",
    "        \n",
    "class AnotherSubclass(AbstractClassExample):\n",
    "\n",
    "    def do_something(self):\n",
    "        super().do_something()\n",
    "        print(\"The enrichment from AnotherSubclass\")\n",
    "        \n",
    "x = AnotherSubclass()\n",
    "x.do_something()"
   ]
  },
  {
   "cell_type": "markdown",
   "metadata": {},
   "source": [
    "**Example: A `Payment` abstract class**"
   ]
  },
  {
   "cell_type": "code",
   "execution_count": null,
   "metadata": {},
   "outputs": [],
   "source": [
    "from abc import ABC, abstractmethod\n",
    "\n",
    "class Payment(ABC):\n",
    "    def __init__(self):\n",
    "        self.amt = None\n",
    "    \n",
    "    def print_receipt(self):\n",
    "        print(f'Purchase amount: {self.amt}')\n",
    "    \n",
    "    @abstractmethod\n",
    "    def payment(self, amt):\n",
    "        self.amt = amt\n",
    "        "
   ]
  },
  {
   "cell_type": "markdown",
   "metadata": {},
   "source": [
    "Since we do not know about the different methods of payment, we create an abstract class that has an abstract method called `payment()`. The implementation is then left to the various child class to implement its own payment logic. \n",
    "\n",
    "**Example: `Payment` child classes**"
   ]
  },
  {
   "cell_type": "code",
   "execution_count": null,
   "metadata": {},
   "outputs": [],
   "source": [
    "# Right way to use an abstract class\n",
    "\n",
    "# All Credit Card Payments has a discount of 5%\n",
    "class CreditCardPayment(Payment):\n",
    "    def payment(self, amount):\n",
    "        new_amt = amount - (amount * 0.05)\n",
    "        super().payment(new_amt)\n",
    "        \n",
    "        \n",
    "# All Mobile Wallet Payments has a discount of 8%\n",
    "class MobileWalletPayment(Payment):\n",
    "    def payment(self, amount):\n",
    "        new_amt = amount - (amount * 0.08)\n",
    "        super().payment(new_amt)"
   ]
  },
  {
   "cell_type": "code",
   "execution_count": null,
   "metadata": {},
   "outputs": [],
   "source": [
    "cc_pay = CreditCardPayment()\n",
    "cc_pay.payment(150)\n",
    "cc_pay.print_receipt()\n",
    "\n",
    "mw_pay = MobileWalletPayment()\n",
    "mw_pay.payment(200)\n",
    "mw_pay.print_receipt()"
   ]
  },
  {
   "cell_type": "markdown",
   "metadata": {},
   "source": [
    "As abstract classes are **incomplete**, they **cannot** be instantiated. If an abstract class can be instantiated, anyone using that particular object and calls its abstract method will be left with nothing because there is no implementation to invoke. Treat abstract as the most generic template upon which we can extend an build on it before we can use it. \n",
    "\n",
    "**Example: The wrong way of using an abstract class**"
   ]
  },
  {
   "cell_type": "code",
   "execution_count": null,
   "metadata": {},
   "outputs": [],
   "source": [
    "# wrong way to use an abstract class because there is no implementation of\n",
    "# the payment logic\n",
    "class WrongWay(Payment):\n",
    "    pass\n",
    "\n",
    "WrongWay()"
   ]
  },
  {
   "cell_type": "markdown",
   "metadata": {},
   "source": [
    "#### Points to note about Abstract classes\n",
    "* An abstract class can have both a normal method and an abstract method\n",
    "* An abstract class cannot be instantiated, ie., we cannot create objects for the abstract class\n",
    "* Requires the module `abc` to be imported. `abc` stands for \"Abstract Base Class\".\n",
    "\n",
    "#### Difference between Encapsulation and Abstraction\n",
    "* **Abstraction** - is information hiding. It helps us identify which specific information should be visible, and which information should be hidden.\n",
    "* **Encapsulation** - is the technique for packaging the information in such a way as to hide what should be hidden, and make visible what is intended to be visible."
   ]
  },
  {
   "cell_type": "markdown",
   "metadata": {},
   "source": [
    "## Interfaces In Python:\n",
    "In general if an abstract class contains only abstract methods these type of abstract classes are considered as interfaces."
   ]
  },
  {
   "cell_type": "code",
   "execution_count": 31,
   "metadata": {
    "ExecuteTime": {
     "end_time": "2020-12-07T03:21:56.337310Z",
     "start_time": "2020-12-07T03:21:54.322702Z"
    }
   },
   "outputs": [
    {
     "name": "stdout",
     "output_type": "stream",
     "text": [
      "Enter Database Name:Oracle\n",
      "<class 'abc.ABCMeta'>\n",
      "Connecting to Oracle Database...\n",
      "Disconnecting to Oracle Database...\n"
     ]
    }
   ],
   "source": [
    "#Demo program:\n",
    "from abc import *\n",
    "class DBInterface(ABC):\n",
    "    @abstractmethod\n",
    "    def connect(self):pass\n",
    "\n",
    "    @abstractmethod\n",
    "    def disconnect(self):pass\n",
    "\n",
    "class Oracle(DBInterface):\n",
    "    def connect(self):\n",
    "        print('Connecting to Oracle Database...')\n",
    "    def disconnect(self):\n",
    "        print('Disconnecting to Oracle Database...')\n",
    "\n",
    "class Sybase(DBInterface):\n",
    "    def connect(self):\n",
    "        print('Connecting to Sybase Database...')\n",
    "    def disconnect(self):\n",
    "        print('Disconnecting to Sybase Database...')\n",
    "\n",
    "dbname=input('Enter Database Name:')\n",
    "classname=globals()[dbname]\n",
    "print(type(classname))\n",
    "x=classname()\n",
    "x.connect()\n",
    "x.disconnect()"
   ]
  },
  {
   "cell_type": "markdown",
   "metadata": {},
   "source": [
    "# **Note:** The inbuilt function `globals()[str]` converts the string `str` into a class name and returns the classname."
   ]
  },
  {
   "cell_type": "code",
   "execution_count": null,
   "metadata": {},
   "outputs": [],
   "source": [
    "#Demo Program-2: Reading class name from the file\n",
    "#config.txt: EPSON\n",
    "\n",
    "from abc import *\n",
    "class Printer(ABC):\n",
    "    @abstractmethod\n",
    "    def printit(self,text):pass\n",
    "\n",
    "    @abstractmethod\n",
    "    def disconnect(self):pass\n",
    "\n",
    "class EPSON(Printer):\n",
    "    def printit(self,text):\n",
    "        print('Printing from EPSON Printer...')\n",
    "        print(text)\n",
    "    def disconnect(self):\n",
    "        print('Printing completed on EPSON Printer...')\n",
    "\n",
    "class HP(Printer):\n",
    "    def printit(self,text):\n",
    "        print('Printing from HP Printer...')\n",
    "        print(text)\n",
    "    def disconnect(self):\n",
    "        print('Printing completed on HP Printer...')\n",
    "\n",
    "with open('config.txt','r') as f:\n",
    "    pname=f.readline()\n",
    "\n",
    "classname=globals()[pname]\n",
    "x=classname()\n",
    "x.printit('This data has to print...')\n",
    "x.disconnect()"
   ]
  },
  {
   "cell_type": "markdown",
   "metadata": {},
   "source": [
    "## Concrete class vs Abstract Class vs Interface:\n",
    "\n",
    "1. If we dont know anything about the implementation and we only have requirement specification then, we should go for an `interface`.  \n",
    "\n",
    "2. If we are talking about implementation but not completely then we should go for `abstract class`.(partially implemented class)  \n",
    "\n",
    "3. If we are talking about implementation, completely and ready to provide service then we should go for `concrete class`. (normal class)"
   ]
  },
  {
   "cell_type": "code",
   "execution_count": 3,
   "metadata": {},
   "outputs": [
    {
     "name": "stdout",
     "output_type": "stream",
     "text": [
      "m1 method implementation\n",
      "m2 method implementation\n",
      "m3 method implementation\n"
     ]
    }
   ],
   "source": [
    "from abc import *\n",
    "class CollegeAutomation(ABC):\n",
    "    @abstractmethod\n",
    "    def m1(self): pass\n",
    "    \n",
    "    @abstractmethod\n",
    "    def m2(self): pass\n",
    "\n",
    "    @abstractmethod\n",
    "    def m3(self): pass\n",
    "\n",
    "class AbsCls(CollegeAutomation):\n",
    "    def m1(self):\n",
    "        print('m1 method implementation')\n",
    "    def m2(self):\n",
    "        print('m2 method implementation')\n",
    "\n",
    "class ConcreteCls(AbsCls):\n",
    "    def m3(self):\n",
    "        print('m3 method implementation')\n",
    "\n",
    "c=ConcreteCls()\n",
    "c.m1()\n",
    "c.m2()\n",
    "c.m3()"
   ]
  },
  {
   "cell_type": "code",
   "execution_count": null,
   "metadata": {},
   "outputs": [],
   "source": [
    "from abc import *\n",
    "\n",
    "class Account(ABC):\n",
    "    \n",
    "    @abstractmethod\n",
    "    def deposit():\n",
    "        pass\n",
    "    \n",
    "    @abstractmethod\n",
    "    def withdraw():\n",
    "        pass\n",
    "    \n",
    "class Saving(Account):\n",
    "    pass\n",
    "\n",
    "class Current(Account):\n",
    "    pass"
   ]
  },
  {
   "cell_type": "markdown",
   "metadata": {},
   "source": [
    "---\n",
    "## Polymorphism\n",
    "\n",
    "`Poly` means `many`. `Morphs` means `forms`.  \n",
    "`Polymorphism` means `'Many Forms'`. \n",
    "\n",
    "**Ex:** Yourself is best example of polymorphism.In front of Your parents You will have one type of behaviour and with friends another type of behaviour.Same person but different behaviours at\n",
    "different places,which is nothing but polymorphism.\n",
    "\n",
    "Polymorphism is a principle that can be thought of like a shapeshifter in the real world, where it means that the person has the ability to take on various appearances. In the field of object-oriented language, it means that it allows us to do things like:\n",
    "* **Method Overloading** - have more than one method having the same name within the class where the methods differ in types or number of arguments passed, **not supported in Python**\n",
    "* **Method Overriding** - child methods having the **same name and same number of arguments** as methods in the parent class but have different functionalities\n",
    "* **Operator Overloading** - the ability to overload the operator to provide extra functionality in addition to its real operational meaning.\n",
    "* **Duck Typing** - special case of polymorphism in Python\n",
    "\n",
    "### Method Overloading\n",
    "As mentioned above, Method Overloading in the traditional sense, is to have more than one method having the same name within the class where the methods differ in types or number of arguments passed. However, this is not supported in Python as having multiple methods of the same name within the same class will only cause Python to recognize the last defined method, calling the other methods will result in an error.\n",
    "\n",
    "**Example: Reason why Python cannot do traditional method overloading**"
   ]
  },
  {
   "cell_type": "code",
   "execution_count": null,
   "metadata": {},
   "outputs": [],
   "source": [
    "class WrongOverloadingExample():\n",
    "    def do_something(self, a):\n",
    "        print(a)\n",
    "    \n",
    "    def do_something(self, a, b):\n",
    "        print(f'{a}, {b}')\n",
    "    \n",
    "woe = WrongOverloadingExample()\n",
    "woe.do_something('This will not cause an error.', 'YaY')\n",
    "# woe.do_something('This will cause an error')"
   ]
  },
  {
   "cell_type": "markdown",
   "metadata": {},
   "source": [
    "Even though, traditional Method Overloading is not possible in Python, we can simulate it using default parameters in the function definition. Recall from the *Functions* chapter, that default parameters are input parameters in a function definition that has default values.\n",
    "\n",
    "**Example**\n",
    "```python\n",
    "def factorial(n=5):\n",
    "    fact = 1\n",
    "    if n >= 1:\n",
    "        for i in range(1, n+1):\n",
    "            fact *= i\n",
    "```\n",
    "\n",
    "The default parameters in the function allows Python to simulate Method Overloading as there is no requirement to supply all the input arguments at once to the function.\n",
    "\n",
    "### Method Overriding\n",
    "Method overriding provides ability to change the implementation of a method in a child class which is already defined in one of its parent classes. In other words, if there is a method in the child class that has the **same name and same number of arguments** as a method in one of its parent classes, it means that the child method has overridden the parent class method.\n",
    "\n",
    "**Example: Method Overriding in Python**"
   ]
  },
  {
   "cell_type": "code",
   "execution_count": null,
   "metadata": {},
   "outputs": [],
   "source": [
    "# parent class ----------------------------------------\n",
    "class Country:\n",
    "    def __init__(self, name, currency):\n",
    "        self.name = name\n",
    "        self.currency = currency\n",
    "        self.usd_rate = 1\n",
    "        \n",
    "    def calculate_exchange(self, amt):\n",
    "        return amt * self.usd_rate\n",
    "\n",
    "# child class -----------------------------------------\n",
    "class Singapore(Country):\n",
    "    def __init__(self, exRate): # No need pass in parameters for parent class.\n",
    "        super().__init__('SG', 'SGD') # Initialize the parent class with default values using super().__init__()\n",
    "        # No need to pass in self for super().__init__()\n",
    "        self.sgd_to_usd_rates = exRate\n",
    "    \n",
    "    # overridden function\n",
    "    def calculate_exchange(self, amt):\n",
    "        return amt / self.sgd_to_usd_rates"
   ]
  },
  {
   "cell_type": "code",
   "execution_count": null,
   "metadata": {},
   "outputs": [],
   "source": [
    "usd = Country('USA', 'USD')\n",
    "print(f'USD58.9 is {usd.calculate_exchange(58.90)} in USD')\n",
    "\n",
    "sgd = Singapore(0.73)\n",
    "print(f'USD58.9 is {sgd.calculate_exchange(58.90):.02f} in SGD')"
   ]
  },
  {
   "cell_type": "markdown",
   "metadata": {},
   "source": [
    "Note that Method Overridding is **dependent on the object type**, this means that if the object is of the Parent class type, the method being called is from the parent class and if it is of the child class type, it will call the method from the child class.\n",
    "\n",
    "In this aspect, Method Overridding is only used when inheritance has been done. \n",
    "\n",
    "**Example: Method Overridding in multiple single inheritance**"
   ]
  },
  {
   "cell_type": "code",
   "execution_count": null,
   "metadata": {},
   "outputs": [],
   "source": [
    "# we need the pi number from the math library\n",
    "from math import pi\n",
    "\n",
    "# parent class ----------------------------------------\n",
    "class Shape:\n",
    "    def __init__(self, name):\n",
    "        self.name = name\n",
    "\n",
    "    def area(self):\n",
    "        print(\"Parent class Area ... \")\n",
    "\n",
    "# child class 1 ---------------------------------------\n",
    "class Square(Shape):\n",
    "    def __init__(self, length):\n",
    "        super().__init__(\"Square\")\n",
    "        self.length = length\n",
    "        \n",
    "    # Overridding area method\n",
    "    def area(self):\n",
    "        return self.length**2\n",
    "\n",
    "# child class 2 --------------------------------------\n",
    "class Circle(Shape):\n",
    "    def __init__(self, radius):\n",
    "        super().__init__(\"Circle\")\n",
    "        self.radius = radius\n",
    "    \n",
    "    # Overridding area method\n",
    "    def area(self):\n",
    "        return round(pi*self.radius**2, 2)"
   ]
  },
  {
   "cell_type": "code",
   "execution_count": null,
   "metadata": {},
   "outputs": [],
   "source": [
    "# objects --------------------------------------------\n",
    "a = Square(4)\n",
    "b = Circle(7)\n",
    "print(\"The area of a square with side of 4 units is :\", a.area())\n",
    "print(\"The area of a circle with radius of 7 units is :\", b.area())"
   ]
  },
  {
   "cell_type": "markdown",
   "metadata": {},
   "source": [
    "### Operator Overloading\n",
    "Operator overloading means to give more behaviours to predefined built-in operators. So what are these predefined built-in operators? They can be operators like `+`, `-`, etc or even special methods defined by Python under the Chapter [Data Model](https://docs.python.org/3/reference/datamodel.html#special-method-names) from the Python documentation. \n",
    "\n",
    "Each object (`Integer`, `String`, `List`, etc) in Python has a set of operators with a default implementation of how it should work with each object type. \n",
    "\n",
    "**Example: Recap the `+` operator used on different objects**"
   ]
  },
  {
   "cell_type": "code",
   "execution_count": null,
   "metadata": {},
   "outputs": [],
   "source": [
    "#using + operator with integers to add them\n",
    "print(5 + 7)\n",
    "\n",
    "#using + operator with Strings to concatenate them\n",
    "print('hello ' + 'world')\n",
    "\n",
    "a = [1, 2, 3]\n",
    "b = [4, 5, 6]\n",
    "# using + operator with List to concatenate them\n",
    "print(a + b)"
   ]
  },
  {
   "cell_type": "markdown",
   "metadata": {},
   "source": [
    "These methods can also be overloaded to provide custom operator functionalities to our custom classes. For example, we can define a `Point` class where it can be used to represent a point in 2 dimensional space.\n",
    "\n",
    "**Example: The `Point` class and trying to add 2 `Point` objects**"
   ]
  },
  {
   "cell_type": "code",
   "execution_count": null,
   "metadata": {},
   "outputs": [],
   "source": [
    "class Point:\n",
    "    def __init__(self, x=0, y=0):\n",
    "        self.x = x\n",
    "        self.y = y\n",
    "        \n",
    "p1 = Point(2,1)\n",
    "p2 = Point(5,8)\n",
    "\n",
    "print(p1+p2)"
   ]
  },
  {
   "cell_type": "markdown",
   "metadata": {},
   "source": [
    "Looking at this class, with would be impossible to use the regular `+` operator to add 2 points as there is no implementation of how 2 `Point` objects can be added. \n",
    "\n",
    "For all operators, Python internally defines methods to provide functionality for these operators. For example functionality for `+` operator is provide by special method `__add__()`. Therefore, whenever `+` operator is used internally, `__add__()` method is invoked to do the operation. These methods are called **special methods** or **magic methods**. \n",
    "\n",
    "In order for the `Point` class to add 2 `Point` objects, we would need to overload the corresponding special method for that operator.\n",
    "\n",
    "**Example: Overloading `__add__()` and `__str__()` functions for `Point` class**"
   ]
  },
  {
   "cell_type": "code",
   "execution_count": null,
   "metadata": {},
   "outputs": [],
   "source": [
    "class Point:\n",
    "    def __init__(self, x=0, y=0):\n",
    "        self.x = x\n",
    "        self.y = y\n",
    "    \n",
    "    # overloaded '+' operator\n",
    "    def __add__(self, other):\n",
    "        return self.x + other.x, self.y + other.y\n",
    "    \n",
    "    # overloaded String representation attribute\n",
    "    def __str__(self):\n",
    "        return (f\"{self.x, self.y}\")\n",
    "        \n",
    "p1 = Point(2,1)\n",
    "p2 = Point(5,8)\n",
    "\n",
    "print(f'{p1} + {p2} = {p1+p2}')"
   ]
  },
  {
   "cell_type": "markdown",
   "metadata": {},
   "source": [
    "How do we recognize these special methods of Python objects? These special methods are characterized their prefix and suffix double underscores. \n",
    "\n",
    "**Example: Looking that the special methods of a `Integer` object**"
   ]
  },
  {
   "cell_type": "code",
   "execution_count": null,
   "metadata": {},
   "outputs": [],
   "source": [
    "cnt = 0\n",
    "for i in dir(5):\n",
    "    if cnt < 8:\n",
    "        print(i, end=', ')\n",
    "        cnt += 1\n",
    "    else:\n",
    "        print()\n",
    "        cnt = 0"
   ]
  },
  {
   "cell_type": "markdown",
   "metadata": {},
   "source": [
    "A full list of special methods that can be overloaded can be found [here](https://docs.python.org/3/reference/datamodel.html#special-method-names) and the table below list the common operators and their internal method names.\n",
    "\n",
    "<style>\n",
    "    tr:nth-child(even) { background-color:#f2f2f2; }\n",
    "    table: width=\"100%\"\n",
    "</style>\n",
    "<table align=\"center\" border=1>\n",
    "    <colgroup>\n",
    "       <col span=\"1\" style=\"width: 30%;\">\n",
    "       <col span=\"1\" style=\"width: 30%;\">\n",
    "       <col span=\"1\" style=\"width: 40%;\">\n",
    "    </colgroup>\n",
    "    <tr>\n",
    "        <th align=\"center\">Operator</th>\n",
    "        <th align=\"center\">Expression</th>\n",
    "        <th align=\"center\">Internal Name</th>\n",
    "    </tr>\n",
    "    <tr>\n",
    "        <td align=\"center\">Addition</td>\n",
    "        <td align=\"center\">p1 + p2</td>\n",
    "        <td><code>p1.__add__(p2)</code></td>\n",
    "    </tr>\n",
    "    <tr>\n",
    "        <td align=\"center\">Subtraction</td>\n",
    "        <td align=\"center\">p1 - p2</td>\n",
    "        <td><code>p1.__sub__(p2)</code></td>\n",
    "    </tr>\n",
    "    <tr>\n",
    "        <td align=\"center\">Multiplication</td>\n",
    "        <td align=\"center\">p1 * p2</td>\n",
    "        <td><code>p1.__mul__(p2)</code></td>\n",
    "    </tr>\n",
    "    <tr>\n",
    "        <td align=\"center\">Division</td>\n",
    "        <td align=\"center\">p1 / p2</td>\n",
    "        <td><code>p1.__truediv__(p2)</code></td>\n",
    "    </tr>\n",
    "    <tr>\n",
    "        <td align=\"center\">Power</td>\n",
    "        <td align=\"center\">p1 ** p2</td>\n",
    "        <td><code>p1.__pow__(p2)</code></td>\n",
    "    </tr>\n",
    "    <tr>\n",
    "        <td align=\"center\">Floor Division</td>\n",
    "        <td align=\"center\">p1 // p2</td>\n",
    "        <td><code>p1.__floordiv__(p2)</code></td>\n",
    "    </tr>\n",
    "    <tr>\n",
    "        <td align=\"center\">Modulus (Remainder)</td>\n",
    "        <td align=\"center\">p1 % p2</td>\n",
    "        <td><code>p1.__mod__(p2)</code></td>\n",
    "    </tr>\n",
    "    <tr>\n",
    "        <td align=\"center\">Less than</td>\n",
    "        <td align=\"center\">p1 &lt; p2</td>\n",
    "        <td><code>p1.__lt__(p2)</code></td>\n",
    "    </tr>\n",
    "    <tr>\n",
    "        <td align=\"center\">Less than or equal to</td>\n",
    "        <td align=\"center\">p1 &lt;= p2</td>\n",
    "        <td><code>p1.__le__(p2)</code></td>\n",
    "    </tr>\n",
    "    <tr>\n",
    "        <td align=\"center\">Greater than</td>\n",
    "        <td align=\"center\">p1 &gt; p2</td>\n",
    "        <td><code>p1.__gt__(p2)</code></td>\n",
    "    </tr>\n",
    "    <tr>\n",
    "        <td align=\"center\">Greater than or equal to</td>\n",
    "        <td align=\"center\">p1 &gt;= p2</td>\n",
    "        <td><code>p1.__ge__(p2)</code></td>\n",
    "    </tr>\n",
    "    <tr>\n",
    "        <td align=\"center\">Equal to</td>\n",
    "        <td align=\"center\">p1 == p2</td>\n",
    "        <td><code>p1.__eq__(p2)</code></td>\n",
    "    </tr>\n",
    "    <tr>\n",
    "        <td align=\"center\">Not equal to</td>\n",
    "        <td align=\"center\">p1 != p2</td>\n",
    "        <td><code>p1.__ne__(p2)</code></td>\n",
    "    </tr>\n",
    "</table>\n",
    "\n",
    "### Duck Typing\n",
    "Is a technique that implicitly assigns a type to an object/field depending on how the it is used at run-time. It has characteristics of polymorphism.\n",
    "\n",
    "> It follows the English phrase: <br>\n",
    "If there is an object that can fly and quack like a duck then it must be a duck.\n",
    "\n",
    "Duck typing is a concept related to **dynamic typing**, where the presence of the object's methods and properties are used to determine suitability rather than the actual type of the object in question. In other words, you check whether the object quacks like a duck and walks like a duck rather than asking whether the object is a duck.\n",
    "\n",
    "> **Dynamic typed** is where programming languages does majority of its **type** checking at run-time as opposed to at compile-time.\n",
    "\n",
    "This means that Python will \"look for\" the methods binded to the object rather than caring about the object type when the object is in use. For example, if you would like to use the `len()` function on your custom class, that class needs to overload the `__len__()` special method.\n",
    "\n",
    "**Example: Using `len()` on a user defined class**"
   ]
  },
  {
   "cell_type": "code",
   "execution_count": null,
   "metadata": {},
   "outputs": [],
   "source": [
    "class TheHobbit:\n",
    "    def __len__(self):\n",
    "        return 95356\n",
    "\n",
    "class HarryPotter:\n",
    "    def __len__(self):\n",
    "        return 1084170\n",
    "\n",
    "class TheGoldenCompass:\n",
    "    def __len__(self):\n",
    "        return 112815\n",
    "    \n",
    "book = TheHobbit()\n",
    "print(f'Number of words in The Hobbit is {len(hobbit)}')\n",
    "\n",
    "book = TheGoldenCompass()\n",
    "print(f'Number of words in The Golden Compass is {len(gc)}')"
   ]
  },
  {
   "cell_type": "markdown",
   "metadata": {},
   "source": [
    "**Example: Duck typing with normal functions**"
   ]
  },
  {
   "cell_type": "code",
   "execution_count": null,
   "metadata": {},
   "outputs": [],
   "source": [
    "class Duck:\n",
    "    def sound(self):\n",
    "        print('Quack Quack')\n",
    "\n",
    "class Cat:\n",
    "    def sound(self):\n",
    "        print('Meow Meow')\n",
    "\n",
    "class Human:\n",
    "    def sound(self):\n",
    "        print('Hey hello')\n",
    "\n",
    "class Test:\n",
    "    def invoke(self, obj):\n",
    "        obj.sound();\n",
    "\n",
    "t = Test()\n",
    "obj = Duck()\n",
    "t.invoke(obj)\n",
    "\n",
    "obj = Cat()\n",
    "t.invoke(obj)\n",
    "\n",
    "obj = Human()\n",
    "t.invoke(obj)"
   ]
  },
  {
   "cell_type": "markdown",
   "metadata": {},
   "source": [
    "---\n",
    "## Custom Exceptions with Exception Propagation\n",
    "\n",
    "An application of the some of the 4 OOP Principles is most often used in the creation of custom exceptions. In most programs, the standard list of python exceptions are insufficient to clearly identify specialized errors. For example, when developing a large application, we may come across a business logic where it states that:\n",
    "* hourly staff are only paid between SGD 7.50 to SGD 10 per hour\n",
    "* salaried staff are only paid between SGD 3000 to SGD 6000 per month\n",
    "\n",
    "Normally we would use the `if...else` statements to check the condition then return a flag (boolean). However, it is better to use custom exceptions to handle such business logic. It will also help us with logging errors as the application grows in size.\n",
    "\n",
    "A basic user defined custom exception class can simply be created by **inheriting the `Exception` class** and leaving the class without any implementation. This new exception class will have all the behaviours of the standard exception but it is triggered via the `raise` keyword.\n",
    "\n",
    "**Example: `MonthlySalaryNotInRange` custom exception**"
   ]
  },
  {
   "cell_type": "code",
   "execution_count": null,
   "metadata": {},
   "outputs": [],
   "source": [
    "class MonthlySalaryNotInRange(Exception):\n",
    "    pass"
   ]
  },
  {
   "cell_type": "code",
   "execution_count": null,
   "metadata": {},
   "outputs": [],
   "source": [
    "salary = int(input(\"Enter salary amount for the month: \"))\n",
    "\n",
    "if not 3000 < salary < 6000:\n",
    "    raise MonthlySalaryNotInRange(salary)"
   ]
  },
  {
   "cell_type": "markdown",
   "metadata": {},
   "source": [
    "Further customization of the `MonthlySalaryNotInRange` exception can be done by initializing the `__init__()` and overridding `__str__()` special function.\n",
    "\n",
    "**Example: `MonthlySalaryNotInRange` custom exception part 2**"
   ]
  },
  {
   "cell_type": "code",
   "execution_count": null,
   "metadata": {},
   "outputs": [],
   "source": [
    "class MonthlySalaryNotInRange(Exception):\n",
    "    def __init__(self, amt, msg='Salary is not in (3000, 6000) range'):\n",
    "        self.salary = amt\n",
    "        self.message = msg\n",
    "        super().__init__(self.message)\n",
    "    \n",
    "    def __str__(self):\n",
    "        return f'{self.salary} -> {self.message}'"
   ]
  },
  {
   "cell_type": "code",
   "execution_count": null,
   "metadata": {},
   "outputs": [],
   "source": [
    "salary = int(input(\"Enter salary amount for the month: \"))\n",
    "\n",
    "if not 3000 < salary < 6000:\n",
    "    raise MonthlySalaryNotInRange(salary, \"We have a problem!!\")"
   ]
  },
  {
   "attachments": {
    "9fcedf0b-2491-4d17-a1b8-b525b604e632.png": {
     "image/png": "[encoded data removed]"
    }
   },
   "cell_type": "markdown",
   "metadata": {},
   "source": [
    "#### Exception propagation\n",
    "When an exception is raised, the exception-propagation mechanism takes control. The normal control flow of the program stops, and Python looks for a suitable exception handler. We have already learnt about the `try...except` block of statements and how it is the `except` clause that handles the exceptions.\n",
    "\n",
    "When we talk about exception propagation, it means that when an exception is raised, Python will **search \"upward\"** along the stack of function calls to the statement that called the function and check if it is within the `try...except` block of statements.\n",
    "\n",
    "![python-exception-propagation.png](attachment:9fcedf0b-2491-4d17-a1b8-b525b604e632.png)\n",
    "\n",
    "Referring to the figure above, the `module` is where your program start its execution. `func1()` is called which in turns calls `func2()` and `func2()` calls `func3()`. When an exception occurs within `func3()`, Python will traverse up the call stack to look for a function nested within the `try...except` block of statements. \n",
    "\n",
    "If the `try...except` block of statements are within `func1()`, the processing of the exception is done by `func1()`. However, if there are **no** `try...except` block of statements in any of the functions, the program will abruptly terminate.\n",
    "\n",
    "**Example: Exception propagation**"
   ]
  },
  {
   "cell_type": "code",
   "execution_count": null,
   "metadata": {},
   "outputs": [],
   "source": [
    "class ExceptPropagation:\n",
    "    def func3(self):\n",
    "        print(\"in func3, before 1/0\")\n",
    "        1/0        # raises a ZeroDivisionError exception\n",
    "        print(\"in func3, after 1/0\")\n",
    "\n",
    "    def func2(self):\n",
    "        print(\"in func2, before func3()\")\n",
    "        self.func3()\n",
    "        print(\"in func2, after func3()\")\n",
    "\n",
    "    def func1(self):\n",
    "        print(\"in func1, before func2()\")\n",
    "        try:\n",
    "            self.func2()\n",
    "            print(\"in func1, after func2()\")\n",
    "        except ZeroDivisionError:\n",
    "            print(\"ZD exception caught\")\n",
    "        print(\"function func1 ends\")"
   ]
  },
  {
   "cell_type": "code",
   "execution_count": null,
   "metadata": {},
   "outputs": [],
   "source": [
    "ep = ExceptPropagation()\n",
    "ep.func1()"
   ]
  },
  {
   "cell_type": "markdown",
   "metadata": {},
   "source": [
    "---\n",
    "## Summary\n",
    "* 4 concepts of Object-Oriented Programming\n",
    " * Encapsulation\n",
    " * Inheritance \n",
    " * Abstraction and Differences between encapsulation & abstraction\n",
    " * Polymorphism (Method Overloading & Overridding and Operator Overloading)\n",
    "* How to create custom exceptions\n",
    "* What is exception propagation"
   ]
  }
 ],
 "metadata": {
  "kernelspec": {
   "display_name": "Python 3",
   "language": "python",
   "name": "python3"
  },
  "language_info": {
   "codemirror_mode": {
    "name": "ipython",
    "version": 3
   },
   "file_extension": ".py",
   "mimetype": "text/x-python",
   "name": "python",
   "nbconvert_exporter": "python",
   "pygments_lexer": "ipython3",
   "version": "3.7.7"
  }
 },
 "nbformat": 4,
 "nbformat_minor": 4
}
