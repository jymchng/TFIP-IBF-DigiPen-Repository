{
 "cells": [
  {
   "cell_type": "markdown",
   "metadata": {},
   "source": [
    "# Object Oriented Programming Principles Exercises\n",
    "\n",
    "## Write codes based on the questions\n",
    "---"
   ]
  },
  {
   "cell_type": "markdown",
   "metadata": {},
   "source": [
    "### Classes Recap\n",
    "\n",
    "**Qn 1)** Create a deck of cards class. Internally, the deck of cards should use another class, a `Card` class. Your requirements are:\n",
    "\n",
    "* The `Deck` class should have a `deal` method to deal a single card from the deck\n",
    "* After a card is dealt, it is removed from the deck.\n",
    "* There should be a `shuffle` method which makes sure the deck of cards has all 52 cards and then rearranges them randomly.\n",
    "* The `Card` class should have a suit (Hearts, Diamonds, Clubs, Spades) and a value (A,2,3,4,5,6,7,8,9,10,J,Q,K)\n",
    "* use the `shuffle()` function from the `random` module to help you shuffle the cards\n",
    "\n",
    "The test program have been provided.\n",
    "\n",
    "**Sample Program Output**\n",
    "<pre>\n",
    "2 of Spades\n",
    "3 of Diamonds\n",
    "8 of Diamonds\n",
    "J of Diamonds\n",
    "7 of Hearts\n",
    "Cards remaining in deck: 47\n",
    "</pre>"
   ]
  },
  {
   "cell_type": "code",
   "execution_count": null,
   "metadata": {},
   "outputs": [],
   "source": []
  },
  {
   "cell_type": "code",
   "execution_count": null,
   "metadata": {},
   "outputs": [],
   "source": [
    "# test program -------------------------\n",
    "d = Deck()\n",
    "d.shuffle()\n",
    "\n",
    "for _ in range(5):\n",
    "    print(d.deal())\n",
    "print(d)"
   ]
  },
  {
   "cell_type": "markdown",
   "metadata": {},
   "source": [
    "---\n",
    "### Encapsulation, Inheritance, Abstraction & Polymorphism\n",
    "\n",
    "**Qn 1)** Someone made the following class:\n",
    "```python\n",
    "class Address:\n",
    "    def __init__(self, street, num):\n",
    "        self.street_name = street\n",
    "        self.number = num\n",
    "```\n",
    "\n",
    "Sally now wants to make a subclass (child) of the class `Address` called `CampusAddress` that has a new attribute (`office number`),\n",
    "that can vary. This subclass will always have the `street` attribute set to `Hougang` and the `num` attribute\n",
    "set to `77`. She wants to use the class as follows:\n",
    "\n",
    "```python\n",
    "sally_addr = CampusAddress('8745 5951')\n",
    "print(sally_addr.office_number)\n",
    "print(sally_addr.street_name)\n",
    "print(sally_addr.number)\n",
    "```\n",
    "\n",
    "Help her implement the `CampusAddress` class as she doesn't know how."
   ]
  },
  {
   "cell_type": "code",
   "execution_count": 105,
   "metadata": {
    "ExecuteTime": {
     "end_time": "2020-12-08T08:00:27.867512Z",
     "start_time": "2020-12-08T08:00:27.863523Z"
    }
   },
   "outputs": [],
   "source": [
    "class Address:\n",
    "    def __init__(self, street, num):\n",
    "        self.street_name = street\n",
    "        self.number = num"
   ]
  },
  {
   "cell_type": "code",
   "execution_count": 106,
   "metadata": {
    "ExecuteTime": {
     "end_time": "2020-12-08T08:00:28.244503Z",
     "start_time": "2020-12-08T08:00:28.239516Z"
    }
   },
   "outputs": [],
   "source": [
    "class CampusAddress(Address):\n",
    "    \n",
    "    def __init__(self, office_number, street = 'Hougang', num = 77):\n",
    "        super().__init__(street, num)\n",
    "        self.office_number = office_number"
   ]
  },
  {
   "cell_type": "code",
   "execution_count": 107,
   "metadata": {
    "ExecuteTime": {
     "end_time": "2020-12-08T08:00:28.628475Z",
     "start_time": "2020-12-08T08:00:28.623487Z"
    }
   },
   "outputs": [
    {
     "name": "stdout",
     "output_type": "stream",
     "text": [
      "8745 5951\n",
      "Hougang\n",
      "77\n"
     ]
    }
   ],
   "source": [
    "sally_addr = CampusAddress('8745 5951')\n",
    "print(sally_addr.office_number)\n",
    "print(sally_addr.street_name)\n",
    "print(sally_addr.number)"
   ]
  },
  {
   "cell_type": "markdown",
   "metadata": {},
   "source": [
    "**Qn 2)** Write an abstract class (you are to decide whether this class is an Abstract Class or an Interface), `Box`, define the following methods: \n",
    "* `add` - for adding any number of items to the box\n",
    "* `empty` - for taking all the items out of the box and returning them as a list\n",
    "* `count` - for counting the items which are currently in the box. \n",
    "\n",
    "Write an `Item` class which has a `name` attribute and a `value` attribute. Assume that all the items you will use will be `Item` objects. Now write two more subclasses of `Box` which uses different underlying collections to store items: `ListBox` should use a `list`, and `DictBox` should use a `dict`.\n",
    "\n",
    "Write a function called `repack_boxes`, which takes a list of boxes as parameters, gathers up all the items they contain, and redistributes them as evenly as possible over all the boxes. **Order is unimportant**.\n",
    "\n",
    "**Sample Program Output**\n",
    "<pre>\n",
    "<b>Input:</b> 20 `ListBox` items, 9 `ListBox` items and 5 `DictBox` with 5 items\n",
    "<b>Output:</b> \n",
    "12\n",
    "11\n",
    "11\n",
    "</pre>"
   ]
  },
  {
   "cell_type": "code",
   "execution_count": 136,
   "metadata": {
    "ExecuteTime": {
     "end_time": "2020-12-08T08:13:25.423032Z",
     "start_time": "2020-12-08T08:13:25.413058Z"
    }
   },
   "outputs": [],
   "source": [
    "from abc import *\n",
    "\n",
    "class Box(ABC):\n",
    "    \n",
    "    @abstractmethod\n",
    "    def add(item, box):\n",
    "        pass\n",
    "    \n",
    "    @abstractmethod\n",
    "    def empty(box):\n",
    "        pass\n",
    "    \n",
    "    @abstractmethod\n",
    "    def count(box):\n",
    "        pass\n",
    "    \n",
    "class ListBox(Box):\n",
    "    \n",
    "    def __init__(self):\n",
    "        self.items = []\n",
    "        \n",
    "    def add(self, item):\n",
    "        self.items.append(item)\n",
    "        \n",
    "    def empty(self):\n",
    "        listOfItems = self.items\n",
    "        self.items = []\n",
    "        return listOfItems\n",
    "    \n",
    "    def count(self):\n",
    "        return len(self.items)\n",
    "    \n",
    "class DictBox(Box):\n",
    "    \n",
    "    def __init__(self):\n",
    "        self.items = {}\n",
    "        \n",
    "    def add(self, item):\n",
    "        self.items.update({item: 0})\n",
    "        \n",
    "    def empty(self):\n",
    "        listOfItems = [key for key in self.items]\n",
    "        self.items = {}\n",
    "        return listOfItems\n",
    "    \n",
    "    def count(self):\n",
    "        return len(self.items)\n",
    "    \n",
    "class Item:\n",
    "    \n",
    "    def __init__(self, name, value):\n",
    "        self._name = name\n",
    "        self._value = value"
   ]
  },
  {
   "cell_type": "code",
   "execution_count": 177,
   "metadata": {
    "ExecuteTime": {
     "end_time": "2020-12-08T08:35:38.290132Z",
     "start_time": "2020-12-08T08:35:38.281154Z"
    }
   },
   "outputs": [],
   "source": [
    "def repack_boxes(lst):\n",
    "    \n",
    "    lstItems = list()\n",
    "    \n",
    "    for box in lst:\n",
    "        boxContent = box.empty()\n",
    "#         print(\"Length box content: \", len(boxContent))\n",
    "#         print(\"Box.count() is now: \", box.count())\n",
    "#         print(\"Length of lst is now: \", len(lst))\n",
    "        for item in boxContent:\n",
    "            # print(\"item is: \", item)\n",
    "            lstItems.append(item)\n",
    "    \n",
    "    print(\"len(lstItems) is: \",len(lstItems))\n",
    "    \n",
    "    while lstItems:\n",
    "        print(\"before for-loop, len(lstItems) is: \", len(lstItems))\n",
    "        if len(lstItems) == 0:\n",
    "            break\n",
    "                \n",
    "        for box in lst:\n",
    "            print(\"len(lstItems): \", len(lstItems))\n",
    "            box.add(lstItems.pop())\n",
    "#             try:\n",
    "#                 box.add(lstItems.pop())\n",
    "#             except IndexError:\n",
    "#                 break\n",
    "            \n",
    "            \n",
    "            \n",
    "    return None\n",
    "    \n",
    "    "
   ]
  },
  {
   "cell_type": "code",
   "execution_count": 178,
   "metadata": {
    "ExecuteTime": {
     "end_time": "2020-12-08T08:35:38.719980Z",
     "start_time": "2020-12-08T08:35:38.688066Z"
    }
   },
   "outputs": [
    {
     "name": "stdout",
     "output_type": "stream",
     "text": [
      "box1.count() now is:  20\n",
      "\n",
      "box2.count() now is:  9\n",
      "\n",
      "box3.count() now is:  5\n",
      "\n",
      "len(lstItems) is:  34\n",
      "before for-loop, len(lstItems) is:  34\n",
      "len(lstItems):  34\n",
      "len(lstItems):  33\n",
      "len(lstItems):  32\n",
      "before for-loop, len(lstItems) is:  31\n",
      "len(lstItems):  31\n",
      "len(lstItems):  30\n",
      "len(lstItems):  29\n",
      "before for-loop, len(lstItems) is:  28\n",
      "len(lstItems):  28\n",
      "len(lstItems):  27\n",
      "len(lstItems):  26\n",
      "before for-loop, len(lstItems) is:  25\n",
      "len(lstItems):  25\n",
      "len(lstItems):  24\n",
      "len(lstItems):  23\n",
      "before for-loop, len(lstItems) is:  22\n",
      "len(lstItems):  22\n",
      "len(lstItems):  21\n",
      "len(lstItems):  20\n",
      "before for-loop, len(lstItems) is:  19\n",
      "len(lstItems):  19\n",
      "len(lstItems):  18\n",
      "len(lstItems):  17\n",
      "before for-loop, len(lstItems) is:  16\n",
      "len(lstItems):  16\n",
      "len(lstItems):  15\n",
      "len(lstItems):  14\n",
      "before for-loop, len(lstItems) is:  13\n",
      "len(lstItems):  13\n",
      "len(lstItems):  12\n",
      "len(lstItems):  11\n",
      "before for-loop, len(lstItems) is:  10\n",
      "len(lstItems):  10\n",
      "len(lstItems):  9\n",
      "len(lstItems):  8\n",
      "before for-loop, len(lstItems) is:  7\n",
      "len(lstItems):  7\n",
      "len(lstItems):  6\n",
      "len(lstItems):  5\n",
      "before for-loop, len(lstItems) is:  4\n",
      "len(lstItems):  4\n",
      "len(lstItems):  3\n",
      "len(lstItems):  2\n",
      "before for-loop, len(lstItems) is:  1\n",
      "len(lstItems):  1\n",
      "len(lstItems):  0\n"
     ]
    },
    {
     "ename": "IndexError",
     "evalue": "pop from empty list",
     "output_type": "error",
     "traceback": [
      "\u001b[1;31m---------------------------------------------------------------------------\u001b[0m",
      "\u001b[1;31mIndexError\u001b[0m                                Traceback (most recent call last)",
      "\u001b[1;32m<ipython-input-178-4eda5b4ee80e>\u001b[0m in \u001b[0;36m<module>\u001b[1;34m\u001b[0m\n\u001b[0;32m     15\u001b[0m \u001b[0mprint\u001b[0m\u001b[1;33m(\u001b[0m\u001b[1;34m\"box3.count() now is: \"\u001b[0m\u001b[1;33m,\u001b[0m \u001b[0mbox3\u001b[0m\u001b[1;33m.\u001b[0m\u001b[0mcount\u001b[0m\u001b[1;33m(\u001b[0m\u001b[1;33m)\u001b[0m\u001b[1;33m)\u001b[0m\u001b[1;33m\u001b[0m\u001b[1;33m\u001b[0m\u001b[0m\n\u001b[0;32m     16\u001b[0m \u001b[0mprint\u001b[0m\u001b[1;33m(\u001b[0m\u001b[1;33m)\u001b[0m\u001b[1;33m\u001b[0m\u001b[1;33m\u001b[0m\u001b[0m\n\u001b[1;32m---> 17\u001b[1;33m \u001b[0mrepack_boxes\u001b[0m\u001b[1;33m(\u001b[0m\u001b[1;33m[\u001b[0m\u001b[0mbox1\u001b[0m\u001b[1;33m,\u001b[0m \u001b[0mbox2\u001b[0m\u001b[1;33m,\u001b[0m \u001b[0mbox3\u001b[0m\u001b[1;33m]\u001b[0m\u001b[1;33m)\u001b[0m\u001b[1;33m\u001b[0m\u001b[1;33m\u001b[0m\u001b[0m\n\u001b[0m\u001b[0;32m     18\u001b[0m \u001b[1;33m\u001b[0m\u001b[0m\n\u001b[0;32m     19\u001b[0m \u001b[0mprint\u001b[0m\u001b[1;33m(\u001b[0m\u001b[0mbox1\u001b[0m\u001b[1;33m.\u001b[0m\u001b[0mcount\u001b[0m\u001b[1;33m(\u001b[0m\u001b[1;33m)\u001b[0m\u001b[1;33m)\u001b[0m\u001b[1;33m\u001b[0m\u001b[1;33m\u001b[0m\u001b[0m\n",
      "\u001b[1;32m<ipython-input-177-de3edc95aa68>\u001b[0m in \u001b[0;36mrepack_boxes\u001b[1;34m(lst)\u001b[0m\n\u001b[0;32m     21\u001b[0m         \u001b[1;32mfor\u001b[0m \u001b[0mbox\u001b[0m \u001b[1;32min\u001b[0m \u001b[0mlst\u001b[0m\u001b[1;33m:\u001b[0m\u001b[1;33m\u001b[0m\u001b[1;33m\u001b[0m\u001b[0m\n\u001b[0;32m     22\u001b[0m             \u001b[0mprint\u001b[0m\u001b[1;33m(\u001b[0m\u001b[1;34m\"len(lstItems): \"\u001b[0m\u001b[1;33m,\u001b[0m \u001b[0mlen\u001b[0m\u001b[1;33m(\u001b[0m\u001b[0mlstItems\u001b[0m\u001b[1;33m)\u001b[0m\u001b[1;33m)\u001b[0m\u001b[1;33m\u001b[0m\u001b[1;33m\u001b[0m\u001b[0m\n\u001b[1;32m---> 23\u001b[1;33m             \u001b[0mbox\u001b[0m\u001b[1;33m.\u001b[0m\u001b[0madd\u001b[0m\u001b[1;33m(\u001b[0m\u001b[0mlstItems\u001b[0m\u001b[1;33m.\u001b[0m\u001b[0mpop\u001b[0m\u001b[1;33m(\u001b[0m\u001b[1;33m)\u001b[0m\u001b[1;33m)\u001b[0m\u001b[1;33m\u001b[0m\u001b[1;33m\u001b[0m\u001b[0m\n\u001b[0m\u001b[0;32m     24\u001b[0m \u001b[1;31m#             try:\u001b[0m\u001b[1;33m\u001b[0m\u001b[1;33m\u001b[0m\u001b[1;33m\u001b[0m\u001b[0m\n\u001b[0;32m     25\u001b[0m \u001b[1;31m#                 box.add(lstItems.pop())\u001b[0m\u001b[1;33m\u001b[0m\u001b[1;33m\u001b[0m\u001b[1;33m\u001b[0m\u001b[0m\n",
      "\u001b[1;31mIndexError\u001b[0m: pop from empty list"
     ]
    }
   ],
   "source": [
    "# Test program ----------------------------------------\n",
    "box1 = ListBox()\n",
    "for i in range(20):\n",
    "    box1.add(Item('box1, ' + str(i), i))\n",
    "print(\"box1.count() now is: \", box1.count())\n",
    "print()\n",
    "box2 = ListBox()\n",
    "for i in range(9):\n",
    "    box2.add(Item('box2, ' + str(i), i))\n",
    "print(\"box2.count() now is: \", box2.count())\n",
    "print()\n",
    "box3 = DictBox()\n",
    "for i in range(5):\n",
    "    box3.add(Item('box3, ' + str(i), i))\n",
    "print(\"box3.count() now is: \", box3.count())\n",
    "print()\n",
    "repack_boxes([box1, box2, box3])\n",
    "\n",
    "print(box1.count())\n",
    "print(box2.count())\n",
    "print(box3.count())"
   ]
  },
  {
   "cell_type": "code",
   "execution_count": 174,
   "metadata": {
    "ExecuteTime": {
     "end_time": "2020-12-08T08:34:02.135541Z",
     "start_time": "2020-12-08T08:34:02.128561Z"
    }
   },
   "outputs": [
    {
     "name": "stdout",
     "output_type": "stream",
     "text": [
      "len(lst) before pop 10\n",
      "len(lst) after pop 9\n",
      "len(lst) before pop 9\n",
      "len(lst) after pop 8\n",
      "len(lst) before pop 8\n",
      "len(lst) after pop 7\n",
      "len(lst) before pop 7\n",
      "len(lst) after pop 6\n",
      "len(lst) before pop 6\n",
      "len(lst) after pop 5\n",
      "len(lst) before pop 5\n",
      "len(lst) after pop 4\n",
      "len(lst) before pop 4\n",
      "len(lst) after pop 3\n",
      "len(lst) before pop 3\n",
      "len(lst) after pop 2\n",
      "len(lst) before pop 2\n",
      "len(lst) after pop 1\n",
      "len(lst) before pop 1\n",
      "len(lst) after pop 0\n",
      "lst after while loop []\n"
     ]
    }
   ],
   "source": [
    "lst = [1,2,3,4,5,6,7,8,9,10]\n",
    "\n",
    "while lst:\n",
    "    if len(lst) == 0:\n",
    "        print(\"len(lst) in check\",len(lst))\n",
    "        break\n",
    "    \n",
    "    print(\"len(lst) before pop\", len(lst))\n",
    "    lst.pop()\n",
    "    print(\"len(lst) after pop\", len(lst))\n",
    "\n",
    "print(\"lst after while loop\", lst)"
   ]
  },
  {
   "cell_type": "markdown",
   "metadata": {},
   "source": [
    "**Qn 3)** Write a `Circle` and a `Cylinder` class with the following requirements:\n",
    "\n",
    "**`Circle` class**\n",
    "* has 2 private variables `radius` & `colour`\n",
    "* the `radius` & `colour` properties are set during initialization, if nothing is given, `radius` & `colour` defaults to `1.0` and `'Blue'` respectively\n",
    "* setter method for the variable `radius` \n",
    "* accessor methods for the variable `colour`\n",
    "* the `Cicrle` class must know how to calculate its own area\n",
    "* the `Circle` class must return a string representation following the format `'Circle[radius=<?>, colour=<?>]'` when called from the `print()` function\n",
    "* round all numbers to 2 decimal places\n",
    "\n",
    "**`Cylinder` class**\n",
    "* is derived from the `Circle` class\n",
    "* has 1 additional private variable `height`\n",
    "* the `height`, `radius` & `colour` properties are set during initialization, if nothing is given, `height`, `radius` & `colour` defaults to `1.0`, `1.0` and `'Red'` respectively\n",
    "* accessor methods for the variable `height`\n",
    "* the `Cylinder` class must know how to calculate its own volume\n",
    "* the `Cylinder` class must return a string representation following the format `'Cylinder[radius=<?>, height=<?>, colour=<?>]'` when called from the `print()` function\n",
    "* round all numbers to 2 decimal places\n",
    "\n",
    "The test program have been provided.\n",
    "\n",
    "**Sample Program Output**\n",
    "<pre>\n",
    "Cylinder 1 stats: Cylinder[radius=1.00, height=1.00, colour=Red]\n",
    "Cylinder 1 volume: 3.14\n",
    "\n",
    "Cylinder 2 stats: Cylinder[radius=1.00, height=10.00, colour=Red]\n",
    "Cylinder 2 volume: 31.4\n",
    "\n",
    "Cylinder 3 stats: Cylinder[radius=5.00, height=20.00, colour=black]\n",
    "Cylinder 3 volume: 1570.8\n",
    "\n",
    "Circle 1 stats: Circle[radius=4.00, colour=Blue]\n",
    "Circle 1 area: 50.27\n",
    "</pre>"
   ]
  },
  {
   "cell_type": "code",
   "execution_count": 35,
   "metadata": {
    "ExecuteTime": {
     "end_time": "2020-12-08T07:00:42.117109Z",
     "start_time": "2020-12-08T07:00:42.109130Z"
    }
   },
   "outputs": [],
   "source": [
    "import math\n",
    "\n",
    "class Circle:\n",
    "    \n",
    "    def __init__(self, radius = 1.0, colour = 'Blue'):\n",
    "        self.__radius = radius\n",
    "        self.__colour = colour\n",
    "        super().__init__()\n",
    "      \n",
    "    # Getters\n",
    "    def getRadius(self):\n",
    "        return self.__radius\n",
    "    \n",
    "    def getColour(self):\n",
    "        return self.__colour\n",
    "    \n",
    "    # Setters\n",
    "    def setColour(self, colour):\n",
    "        \n",
    "        if not isinstance(colour, str):\n",
    "            raise TypeError(\"Colour is not of string type.\")\n",
    "            \n",
    "        else:\n",
    "            self.__colour = colour\n",
    "    \n",
    "    def setRadius(self, radius):\n",
    "        \n",
    "        if not isinstance(radius, (float, int)):\n",
    "            raise TypeError(\"Radius is not of float or int type.\")\n",
    "            \n",
    "        else:\n",
    "            self.__radius = radius\n",
    "            \n",
    "    # Others            \n",
    "    def cal_area(self):\n",
    "        return math.pi*self.getRadius()**2\n",
    "    \n",
    "    def circumference(self):\n",
    "        return math.pi*2*self.getRadius()\n",
    "    \n",
    "    def __str__(self):\n",
    "        return f'Circle[Colour = {self.getColour()}, Radius= {self.getRadius():.2f}]'"
   ]
  },
  {
   "cell_type": "code",
   "execution_count": 38,
   "metadata": {
    "ExecuteTime": {
     "end_time": "2020-12-08T07:01:12.512779Z",
     "start_time": "2020-12-08T07:01:12.506754Z"
    }
   },
   "outputs": [],
   "source": [
    "class Cylinder(Circle):\n",
    "    \n",
    "    def __init__(self, height = 1.0, radius = 1.0, colour = 'Red'):\n",
    "        super().__init__(radius, colour)\n",
    "        self.__height = height\n",
    "        \n",
    "    def getHeight(self):\n",
    "        return self.__height\n",
    "    \n",
    "    def setHeight(self, height):\n",
    "        if not isinstance(height, (float, int)):\n",
    "            raise TypeError(\"Height is not of float or int type.\")\n",
    "            \n",
    "        else:\n",
    "            self.__height = height\n",
    "            \n",
    "    def cal_volume(self):\n",
    "        return self.getHeight()*(self.cal_area())\n",
    "    \n",
    "    def __str__(self):\n",
    "        return f'Cylinder[radius={self.getRadius():.2f}, height= {self.getHeight():.2f}, colour={self.getColour()}]'\n",
    "        "
   ]
  },
  {
   "cell_type": "code",
   "execution_count": 39,
   "metadata": {
    "ExecuteTime": {
     "end_time": "2020-12-08T07:01:12.832891Z",
     "start_time": "2020-12-08T07:01:12.820914Z"
    }
   },
   "outputs": [
    {
     "name": "stdout",
     "output_type": "stream",
     "text": [
      "Cylinder 1 stats: Cylinder[radius=1.00, height= 1.00, colour=Red]\n",
      "Cylinder 1 volume: 3.141592653589793\n",
      "\n",
      "Cylinder 2 stats: Cylinder[radius=1.00, height= 10.00, colour=Red]\n",
      "Cylinder 2 volume: 31.41592653589793\n",
      "\n",
      "Cylinder 3 stats: Cylinder[radius=5.00, height= 20.00, colour=black]\n",
      "Cylinder 3 volume: 1570.7963267948967\n",
      "\n",
      "Circle 1 stats: Circle[Colour = Blue, Radius= 4.00]\n",
      "Circle 1 area: 50.26548245743669\n"
     ]
    }
   ],
   "source": [
    "# Cylinder object 1 ---------------------------\n",
    "cyl1 = Cylinder()\n",
    "print(f'Cylinder 1 stats: {cyl1}')\n",
    "print(f'Cylinder 1 volume: {cyl1.cal_volume()}\\n')\n",
    "\n",
    "# Cylinder object 2 ---------------------------\n",
    "cyl2 = Cylinder(10.0)\n",
    "print(f'Cylinder 2 stats: {cyl2}')\n",
    "print(f'Cylinder 2 volume: {cyl2.cal_volume()}\\n')\n",
    "\n",
    "# Cylinder object 3 ---------------------------\n",
    "cyl3 = Cylinder(20, 5, 'black')\n",
    "print(f'Cylinder 3 stats: {cyl3}')\n",
    "print(f'Cylinder 3 volume: {cyl3.cal_volume()}\\n')\n",
    "\n",
    "# Circle object 1 ---------------------------\n",
    "cir1 = Circle(4)\n",
    "print(f'Circle 1 stats: {cir1}')\n",
    "print(f'Circle 1 area: {cir1.cal_area()}')"
   ]
  },
  {
   "cell_type": "markdown",
   "metadata": {},
   "source": [
    "**Qn 4)** Write a `Shape`, a `Circle`, a `Rectangle` and a `Square` classes with the following requirements:\n",
    "\n",
    "**`Shape` class**\n",
    "* has 2 private variables `filled` (boolean) & `colour` (string)\n",
    "* the `filled` & `colour` properties are set during initialization, if nothing is given, `filled` & `colour` defaults to `True` and `'Green'` respectively\n",
    "* accessor methods for both variables\n",
    "* the `Shape` class must return a string representation following the format `'Shape[colour=<?>, filled=<?>]'` when called from the `print()` function\n",
    "\n",
    "**`Circle` class**\n",
    "* is derived from the `Shape` class\n",
    "* has 1 additional private variable `radius`\n",
    "* its properties are set during initialization, if nothing is given, `radius` defaults to `1.0`.\n",
    "* accessor methods for the `radius` variable\n",
    "* the `Circle` class must know how to calculate its own area and perimeter\n",
    "* the `Circle` class must return a string representation following the format `'Circle[Shape[filled=<?>, colour=<?>], radius=<?>]'` when called from the `print()` function\n",
    "* round all numbers to 2 decimal places\n",
    "\n",
    "**`Rectangle` class**\n",
    "* is derived from the `Shape` class\n",
    "* has 2 additional private variable `width` & `length`\n",
    "* its properties are set during initialization, if nothing is given, both `width` & `length` defaults to `1.0`.\n",
    "* accessor methods for both the `width` & `length` variable\n",
    "* the `Rectangle` class must know how to calculate its own area and perimeter\n",
    "* the `Circle` class must return a string representation following the format `'Rectangle[Shape[filled=<?>, colour=<?>], width=<?>, length=<?>]'` when called from the `print()` function\n",
    "* round all numbers to 2 decimal places\n",
    "\n",
    "**`Square` class**\n",
    "* is derived from the `Rectangle` class\n",
    "* has 1 additional private variable `side`\n",
    "* its properties are set during initialization, if nothing is given, `side` defaults to `1.0`.\n",
    "* accessor methods for the `side` (Note that the accessor methods should set both the `width` & `length` of the parent class and get the value of either `width` or `length` from the parent class)\n",
    "* the `Square` class must return a string representation following the format `'Square[Rectangle[Shape[filled=<?>, colour=<?>], width=<?>, length=<?>]]'` when called from the `print()` function\n",
    "* round all numbers to 2 decimal places\n",
    "\n",
    "**Sample Program Output**\n",
    "<pre>\n",
    "Circle[Shape[colour=Green, filled=True], radius=5]\n",
    "area=78.54\n",
    "perimeter=31.42\n",
    "\n",
    "Square[Rectangle[Shape[colour=Green, filled=True], width=5, length=5]]\n",
    "area=25\n",
    "perimeter=20\n",
    "</pre>"
   ]
  },
  {
   "cell_type": "code",
   "execution_count": 43,
   "metadata": {
    "ExecuteTime": {
     "end_time": "2020-12-08T07:06:27.712974Z",
     "start_time": "2020-12-08T07:06:27.703000Z"
    }
   },
   "outputs": [],
   "source": [
    "class Shape:\n",
    "    \n",
    "    def __init__(self, filled = True, colour = 'Green'):\n",
    "        self.__filled = filled\n",
    "        self.__colour = colour\n",
    "        \n",
    "    def setColour(self, colour):\n",
    "        \n",
    "        if not isinstance(colour, str):\n",
    "            raise TypeError(\"Colour is not of string type.\")\n",
    "            \n",
    "        else:\n",
    "            self.__colour = colour\n",
    "            \n",
    "    def setFilled(self, filled):\n",
    "        \n",
    "        if not isinstance(filled, bool):\n",
    "            raise TypeError(\"Filled is not of bool type.\")\n",
    "            \n",
    "        else:\n",
    "            self.__filled = filled\n",
    "            \n",
    "    def getFilled(self):\n",
    "        return self.__filled\n",
    "            \n",
    "    def getColour(self):\n",
    "        return self.__colour\n",
    "        \n",
    "    def __str__(self):\n",
    "        return f\"Shape[Colour = {self.getColour()}, Filled = {self.getFilled()}]\""
   ]
  },
  {
   "cell_type": "markdown",
   "metadata": {},
   "source": [
    "**`Circle` class**\n",
    "* is derived from the `Shape` class\n",
    "* has 1 additional private variable `radius`\n",
    "* its properties are set during initialization, if nothing is given, `radius` defaults to `1.0`.\n",
    "* accessor methods for the `radius` variable\n",
    "* the `Circle` class must know how to calculate its own area and perimeter\n",
    "* the `Circle` class must return a string representation following the format `'Circle[Shape[filled=<?>, colour=<?>], radius=<?>]'` when called from the `print()` function\n",
    "* round all numbers to 2 decimal places"
   ]
  },
  {
   "cell_type": "code",
   "execution_count": 42,
   "metadata": {
    "ExecuteTime": {
     "end_time": "2020-12-08T07:06:21.347015Z",
     "start_time": "2020-12-08T07:06:21.340033Z"
    }
   },
   "outputs": [],
   "source": [
    "import math\n",
    "\n",
    "class Circle(Shape):\n",
    "    \n",
    "    def __init__(self, radius = 1.0):\n",
    "        self.__radius = radius\n",
    "        super().__init__()\n",
    "        \n",
    "    def getRadius(self):\n",
    "        return self.__radius\n",
    "    \n",
    "    def setRadius(self, radius):\n",
    "        \n",
    "        if not isinstance(radius, (float, int)):\n",
    "            raise TypeError(\"Radius is not of float or int type.\")\n",
    "            \n",
    "        else:\n",
    "            self.__radius = radius\n",
    "            \n",
    "    def area(self):\n",
    "        return math.pi*self.getRadius()**2\n",
    "    \n",
    "    def circumference(self):\n",
    "        return math.pi*2*self.getRadius()\n",
    "    \n",
    "    def __str__(self):\n",
    "        sp = super().__str__()\n",
    "        return f'Circle[{sp}, Radius= {self.getRadius():.2f}]'"
   ]
  },
  {
   "cell_type": "markdown",
   "metadata": {},
   "source": [
    "**`Rectangle` class**\n",
    "* is derived from the `Shape` class\n",
    "* has 2 additional private variable `width` & `length`\n",
    "* its properties are set during initialization, if nothing is given, both `width` & `length` defaults to `1.0`.\n",
    "* accessor methods for both the `width` & `length` variable\n",
    "* the `Rectangle` class must know how to calculate its own area and perimeter\n",
    "* the `Circle` class must return a string representation following the format `'Rectangle[Shape[filled=<?>, colour=<?>], width=<?>, length=<?>]'` when called from the `print()` function\n",
    "* round all numbers to 2 decimal places\n"
   ]
  },
  {
   "cell_type": "code",
   "execution_count": 41,
   "metadata": {
    "ExecuteTime": {
     "end_time": "2020-12-08T07:06:06.401027Z",
     "start_time": "2020-12-08T07:06:06.390055Z"
    }
   },
   "outputs": [],
   "source": [
    "class Rectangle(Shape):\n",
    "    \n",
    "    def __init__(self, width = 1.0, length = 1.0):\n",
    "        super().__init__()\n",
    "        self.__width = width\n",
    "        self.__length = length\n",
    "        \n",
    "    def getWidth(self):\n",
    "        return self.__width\n",
    "    \n",
    "    def getLength(self):\n",
    "        return self.__length\n",
    "    \n",
    "    def setWidth(self, width):\n",
    "        \n",
    "        if isinstance(width, (float, int)):\n",
    "            raise TypeError(\"Width is not of float or int type.\")\n",
    "            \n",
    "        else:\n",
    "            self.__width = width\n",
    "            \n",
    "    def setLength(self, length):\n",
    "\n",
    "        if isinstance(length, (float, int)):\n",
    "            raise TypeError(\"length is not of float or int type.\")\n",
    "\n",
    "        else:\n",
    "            self.__length = length\n",
    "            \n",
    "    def area(self):\n",
    "        return self.getLength()*self.getWidth()\n",
    "    \n",
    "    def perimeter(self):\n",
    "        return 2*(self.getLength()+self.getWidth())\n",
    "    \n",
    "    def __str__(self):\n",
    "        sp = super().__str__()\n",
    "        return f'Rectangle[{sp}, width={self.getWidth():.2f}, length={self.getLength():.2f}]'"
   ]
  },
  {
   "cell_type": "markdown",
   "metadata": {},
   "source": [
    "\n",
    "**`Square` class**\n",
    "* is derived from the `Rectangle` class\n",
    "* has 1 additional private variable `side`\n",
    "* its properties are set during initialization, if nothing is given, `side` defaults to `1.0`.\n",
    "* accessor methods for the `side` (Note that the accessor methods should set both the `width` & `length` of the parent class and get the value of either `width` or `length` from the parent class)\n",
    "* the `Square` class must return a string representation following the format `'Square[Rectangle[Shape[filled=<?>, colour=<?>], width=<?>, length=<?>]]'` when called from the `print()` function\n",
    "* round all numbers to 2 decimal places"
   ]
  },
  {
   "cell_type": "code",
   "execution_count": 45,
   "metadata": {
    "ExecuteTime": {
     "end_time": "2020-12-08T07:07:30.247601Z",
     "start_time": "2020-12-08T07:07:30.239623Z"
    }
   },
   "outputs": [],
   "source": [
    "class Square(Rectangle):\n",
    "    \n",
    "    def __init__(self, side = 1.0):\n",
    "        super().__init__(side, side) # Need to pass in variables.\n",
    "        self.__side = side\n",
    "        \n",
    "    def getSide(self):\n",
    "        return super().getLength()\n",
    "    \n",
    "    def setSide(self, side):\n",
    "        \n",
    "        if isinstance(side, (float, int)):\n",
    "            raise TypeError(\"Side is not of type int or float.\")\n",
    "            \n",
    "        else:\n",
    "            super().getWidth(side)\n",
    "            super().getLength(side)\n",
    "            self._side = side\n",
    "            \n",
    "    def __str__(self):\n",
    "        sp = super().__str__()\n",
    "        return f'Square[{sp}, Width= {self.getSide():.2f}, Length= {self.getSide():.2f}]]'"
   ]
  },
  {
   "cell_type": "code",
   "execution_count": 46,
   "metadata": {
    "ExecuteTime": {
     "end_time": "2020-12-08T07:07:30.586696Z",
     "start_time": "2020-12-08T07:07:30.580709Z"
    }
   },
   "outputs": [
    {
     "name": "stdout",
     "output_type": "stream",
     "text": [
      "Circle[Shape[Colour = Green, Filled = True], Radius= 5.00]\n",
      "area=78.53981633974483\n",
      "perimeter=31.41592653589793\n",
      "\n",
      "Square[Rectangle[Shape[Colour = Green, Filled = True], width=5.00, length=5.00], Width= 5.00, Length= 5.00]]\n",
      "area=25\n",
      "perimeter=20\n"
     ]
    }
   ],
   "source": [
    "c = Circle(5)\n",
    "print(c)\n",
    "print(f'area={c.area()}')\n",
    "print(f'perimeter={c.circumference()}')\n",
    "\n",
    "print()\n",
    "s = Square(5)\n",
    "print(s)\n",
    "print(f'area={s.area()}')\n",
    "print(f'perimeter={s.perimeter()}')"
   ]
  },
  {
   "cell_type": "code",
   "execution_count": null,
   "metadata": {},
   "outputs": [],
   "source": []
  }
 ],
 "metadata": {
  "kernelspec": {
   "display_name": "Python 3",
   "language": "python",
   "name": "python3"
  },
  "language_info": {
   "codemirror_mode": {
    "name": "ipython",
    "version": 3
   },
   "file_extension": ".py",
   "mimetype": "text/x-python",
   "name": "python",
   "nbconvert_exporter": "python",
   "pygments_lexer": "ipython3",
   "version": "3.7.7"
  }
 },
 "nbformat": 4,
 "nbformat_minor": 4
}
