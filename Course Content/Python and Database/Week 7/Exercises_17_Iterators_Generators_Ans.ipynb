{
 "cells": [
  {
   "cell_type": "markdown",
   "metadata": {},
   "source": [
    "# Iterators & Generators Exercises\n",
    "\n",
    "## Write code based on the following questions\n",
    "---"
   ]
  },
  {
   "cell_type": "markdown",
   "metadata": {},
   "source": [
    "**Qn 1)** Given the following `for` loop, write an iterator class called `MyEnumerate` for it. Spliting it into iterator and iterable object is not required.\n",
    "\n",
    "```python\n",
    "for index, letter in enumerate('abc'):\n",
    "    print(f\"{index}: {letter}\")\n",
    "```"
   ]
  },
  {
   "cell_type": "code",
   "execution_count": null,
   "metadata": {},
   "outputs": [],
   "source": [
    "class MyEnumerate():\n",
    "    def __init__(self, data):\n",
    "        self.data = data\n",
    "        self.index = 0\n",
    "\n",
    "    def __iter__(self):\n",
    "        return self\n",
    "\n",
    "    def __next__(self):\n",
    "        if self.index >= len(self.data):\n",
    "            raise StopIteration\n",
    "        value = (self.index, self.data[self.index])\n",
    "        self.index += 1\n",
    "        return value"
   ]
  },
  {
   "cell_type": "code",
   "execution_count": null,
   "metadata": {},
   "outputs": [],
   "source": [
    "for index, letter in MyEnumerate('abc'):\n",
    "    print(f\"{index} : {letter}\")"
   ]
  },
  {
   "cell_type": "markdown",
   "metadata": {},
   "source": [
    "**Qn 2)** Write an iterator object and an iterable object produces the following output\n",
    "```python\n",
    "c = CircleIterable('abc', 5)\n",
    "print(list(c))        # outputs: ['a', 'b', 'c', 'a', 'b']\n",
    "```"
   ]
  },
  {
   "cell_type": "code",
   "execution_count": null,
   "metadata": {},
   "outputs": [],
   "source": [
    "class CircleIterator():\n",
    "    def __init__(self, data, max_times):\n",
    "        self.data = data\n",
    "        self.max_times = max_times\n",
    "        self.index = 0\n",
    "\n",
    "    def __next__(self):\n",
    "        if self.index >= self.max_times:\n",
    "            raise StopIteration\n",
    "        value = self.data[self.index % len(self.data)]\n",
    "        self.index += 1\n",
    "        return value\n",
    "\n",
    "class CircleIterable():\n",
    "    def __init__(self, data, max_times):\n",
    "        self.data = data\n",
    "        self.max_times = max_times\n",
    "\n",
    "    def __iter__(self):\n",
    "        return CircleIterator(self.data, self.max_times)"
   ]
  },
  {
   "cell_type": "code",
   "execution_count": null,
   "metadata": {},
   "outputs": [],
   "source": [
    "c = CircleIterable('abc', 5)\n",
    "print(list(c))        # outputs: ['a', 'b', 'c', 'a', 'b']"
   ]
  },
  {
   "cell_type": "markdown",
   "metadata": {},
   "source": [
    "**Qn 3)** Write a generator `frange`, which behaves like `range` but accepts `float` values.\n",
    "\n",
    "**Sample Program Output**\n",
    "<pre>\n",
    "0, 1, 2, 3, 4, 5, \n",
    "0.3, 1.3, 2.3, 3.3, 4.3, 5.3, \n",
    "0.3, 1.1, 1.9000000000000001, 2.7, 3.5, 4.3, 5.1, \n",
    "</pre>"
   ]
  },
  {
   "cell_type": "code",
   "execution_count": null,
   "metadata": {},
   "outputs": [],
   "source": [
    "def frange(stop, start=0, step=1):\n",
    "    startval = start\n",
    "    stepsize = step\n",
    "    endval = stop\n",
    "    \n",
    "    value = startval\n",
    "    while value < endval:\n",
    "        yield value\n",
    "        value += stepsize"
   ]
  },
  {
   "cell_type": "code",
   "execution_count": null,
   "metadata": {},
   "outputs": [],
   "source": [
    "for i in frange(5.6):\n",
    "    print(i, end=\", \")\n",
    "print()\n",
    "for i in frange(start=0.3, stop=5.6):\n",
    "    print(i, end=\", \")\n",
    "print()\n",
    "for i in frange(start=0.3, stop=5.6, step=0.8):\n",
    "    print(i, end=\", \")\n",
    "print()"
   ]
  },
  {
   "cell_type": "markdown",
   "metadata": {},
   "source": [
    "**Qn 4)** Write a generator `trange`, which generates a sequence of time tuples from start to stop incremented by step. A time tuple is a 3-tuple of integers: (hours, minutes, seconds) therefore a call to `trange` might look like this: `trange((10, 10, 10), (13, 50, 15), (0, 15, 12) )`\n",
    "\n",
    "**Sample Program Output**\n",
    "<pre>\n",
    "(10, 10, 10)\n",
    "(11, 34, 22)\n",
    "(12, 58, 34)\n",
    "(14, 22, 46)\n",
    "(15, 46, 58)\n",
    "(17, 11, 10)\n",
    "(18, 35, 22)\n",
    "</pre>"
   ]
  },
  {
   "cell_type": "code",
   "execution_count": null,
   "metadata": {},
   "outputs": [],
   "source": [
    "def trange(start, stop, step):\n",
    "    \"\"\" \n",
    "    trange(stop) -> time as a 3-tuple (hours, minutes, seconds)\n",
    "    trange(start, stop[, step]) -> time tuple\n",
    "\n",
    "    start: time tuple (hours, minutes, seconds)\n",
    "    stop: time tuple\n",
    "    step: time tuple\n",
    "\n",
    "    returns a sequence of time tuples from start to stop incremented by step\n",
    "    \"\"\"        \n",
    "\n",
    "    current = list(start)\n",
    "    while current < list(stop):\n",
    "        yield tuple(current)\n",
    "        seconds = step[2] + current[2]\n",
    "        min_borrow = 0\n",
    "        hours_borrow = 0\n",
    "        if seconds < 60:\n",
    "            current[2] = seconds\n",
    "        else:\n",
    "            current[2] = seconds - 60\n",
    "            min_borrow = 1\n",
    "        minutes = step[1] + current[1] + min_borrow\n",
    "        if minutes < 60:\n",
    "            current[1] = minutes \n",
    "        else:\n",
    "            current[1] = minutes - 60\n",
    "            hours_borrow = 1\n",
    "        hours = step[0] + current[0] + hours_borrow\n",
    "        if hours < 24:\n",
    "            current[0] = hours \n",
    "        else:\n",
    "            current[0] = hours - 24"
   ]
  },
  {
   "cell_type": "code",
   "execution_count": null,
   "metadata": {},
   "outputs": [],
   "source": [
    "for time in trange((10, 10, 10), (19, 53, 15), (1, 24, 12) ):\n",
    "    print(time)  "
   ]
  },
  {
   "cell_type": "markdown",
   "metadata": {},
   "source": [
    "**Qn 5)** Write a generator with the name `running_average` which computes the running average.\n",
    "\n",
    "**Sample Program Output**\n",
    "<pre>\n",
    "sent:   7, new average:   7.00\n",
    "sent:  13, new average:  10.00\n",
    "sent:  17, new average:  12.33\n",
    "sent: 231, new average:  67.00\n",
    "sent:  12, new average:  56.00\n",
    "sent:   8, new average:  48.00\n",
    "sent:   3, new average:  41.57\n",
    "</pre>"
   ]
  },
  {
   "cell_type": "code",
   "execution_count": null,
   "metadata": {},
   "outputs": [],
   "source": [
    "def running_average():\n",
    "    total = 0.0\n",
    "    counter = 0\n",
    "    average = None\n",
    "    while True:\n",
    "        term = yield average\n",
    "        total += term\n",
    "        counter += 1\n",
    "        average = total / counter"
   ]
  },
  {
   "cell_type": "code",
   "execution_count": null,
   "metadata": {},
   "outputs": [],
   "source": [
    "ra = running_average()  # initialize the generator\n",
    "next(ra)                # start the generator\n",
    "\n",
    "for value in [7, 13, 17, 231, 12, 8, 3]:\n",
    "    print(f'sent: {value:3d}, new average: {ra.send(value):6.2f}')"
   ]
  },
  {
   "cell_type": "markdown",
   "metadata": {},
   "source": [
    "**Qn 6)** Write a generator with the name `random_ones_and_zeroes`, which returns a bitstream, i.e. a zero or a one in every iteration. The probability `p` for returning a `1` is defined in a variable `p`. The generator will initialize this value to `0.5`. In other words, zeroes and ones will be returned with the same probability.\n",
    "\n",
    "**Sample Program Output**\n",
    "<pre>\n",
    "We change the probability to : 0.2\n",
    "1 0 0 0 1 0 0 0 0 0 0 0 0 0 0 1 0 1 1 1 \n",
    "\n",
    "We change the probability to : 0.8\n",
    "1 1 1 1 1 1 1 0 1 0 0 1 1 1 1 1 0 1 1 0 \n",
    "</pre>"
   ]
  },
  {
   "cell_type": "code",
   "execution_count": null,
   "metadata": {},
   "outputs": [],
   "source": [
    "import random\n",
    "\n",
    "def random_ones_and_zeros():\n",
    "    p = 0.5\n",
    "    while True:\n",
    "        x = random.random()\n",
    "        message = yield 1 if x < p else 0\n",
    "        if message != None:\n",
    "            p = message"
   ]
  },
  {
   "cell_type": "code",
   "execution_count": null,
   "metadata": {},
   "outputs": [],
   "source": [
    "x = random_ones_and_zeros()\n",
    "next(x)  # we are starting up the generator therefore the first value can be discarded\n",
    "\n",
    "for p in [0.2, 0.8]:\n",
    "    print(\"\\nWe change the probability to : \" + str(p))\n",
    "    x.send(p)\n",
    "    for i in range(20):\n",
    "        print(next(x), end=\" \")\n",
    "    print()"
   ]
  }
 ],
 "metadata": {
  "kernelspec": {
   "display_name": "Python 3",
   "language": "python",
   "name": "python3"
  },
  "language_info": {
   "codemirror_mode": {
    "name": "ipython",
    "version": 3
   },
   "file_extension": ".py",
   "mimetype": "text/x-python",
   "name": "python",
   "nbconvert_exporter": "python",
   "pygments_lexer": "ipython3",
   "version": "3.8.3"
  }
 },
 "nbformat": 4,
 "nbformat_minor": 4
}
