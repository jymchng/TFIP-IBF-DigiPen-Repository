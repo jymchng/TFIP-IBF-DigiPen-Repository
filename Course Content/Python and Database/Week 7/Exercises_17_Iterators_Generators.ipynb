{
 "cells": [
  {
   "cell_type": "code",
   "execution_count": null,
   "metadata": {},
   "outputs": [],
   "source": []
  },
  {
   "cell_type": "markdown",
   "metadata": {},
   "source": [
    "# Iterators & Generators Exercises\n",
    "\n",
    "## Write code based on the following questions\n",
    "---"
   ]
  },
  {
   "cell_type": "markdown",
   "metadata": {},
   "source": [
    "**Qn 1)** Given the following `for` loop, write an iterator class called `MyEnumerate` for it. Spliting it into iterator and iterable object is not required.\n",
    "\n",
    "```python\n",
    "for index, letter in enumerate('abc'):\n",
    "    print(f\"{index}: {letter}\")\n",
    "```"
   ]
  },
  {
   "cell_type": "code",
   "execution_count": 135,
   "metadata": {
    "ExecuteTime": {
     "end_time": "2020-12-10T05:28:56.446033Z",
     "start_time": "2020-12-10T05:28:56.441057Z"
    }
   },
   "outputs": [],
   "source": [
    "class MyEnumerate:\n",
    "    \n",
    "    def __init__(self, string):\n",
    "        self.string = string\n",
    "        \n",
    "    def __iter__(self):\n",
    "        self.char = 0\n",
    "        return self\n",
    "    \n",
    "    def __next__(self):\n",
    "        if self.char < len(self.string):\n",
    "            result = self.string[self.char]\n",
    "            char = self.char\n",
    "            self.char += 1\n",
    "            return char, result\n",
    "        else:\n",
    "            raise StopIteration"
   ]
  },
  {
   "cell_type": "code",
   "execution_count": 136,
   "metadata": {
    "ExecuteTime": {
     "end_time": "2020-12-10T05:28:56.778607Z",
     "start_time": "2020-12-10T05:28:56.774617Z"
    }
   },
   "outputs": [
    {
     "name": "stdout",
     "output_type": "stream",
     "text": [
      "0 : a\n",
      "1 : b\n",
      "2 : c\n"
     ]
    }
   ],
   "source": [
    "for index, letter in MyEnumerate('abc'):\n",
    "    print(f\"{index} : {letter}\")"
   ]
  },
  {
   "cell_type": "markdown",
   "metadata": {},
   "source": [
    "**Qn 2)** Write an iterator object and an iterable object produces the following output\n",
    "```python\n",
    "c = CircleIterable('abc', 5)\n",
    "print(list(c))        # outputs: ['a', 'b', 'c', 'a', 'b']\n",
    "```"
   ]
  },
  {
   "cell_type": "code",
   "execution_count": 137,
   "metadata": {
    "ExecuteTime": {
     "end_time": "2020-12-10T05:28:57.611783Z",
     "start_time": "2020-12-10T05:28:57.604764Z"
    }
   },
   "outputs": [],
   "source": [
    "# Separation of Iterable and Iterator!\n",
    "\n",
    "# iterable object\n",
    "class CircleIterable:\n",
    "    def __init__(self, string, num):\n",
    "        self.string = string\n",
    "        self.num = num\n",
    "    \n",
    "    def __iter__(self):\n",
    "        return CircleIterator(self.string, self.num)\n",
    "\n",
    "# iterator \n",
    "class CircleIterator:\n",
    "    def __init__(self, string, num):\n",
    "        self.string = string\n",
    "        self.num = num\n",
    "        self.count = 1\n",
    "        self.char = 0\n",
    "\n",
    "    def __iter__(self):\n",
    "        return self\n",
    "\n",
    "    def __next__(self):\n",
    "        \n",
    "        if self.count <= self.num:\n",
    "            if self.char >= len(self.string): # Remove this line then the iterator becomes an infinite iterator.\n",
    "                self.char = 0\n",
    "                \n",
    "            result = self.string[self.char]\n",
    "            self.char += 1\n",
    "            self.count += 1\n",
    "        \n",
    "            return result\n",
    "        else:\n",
    "            raise StopIteration"
   ]
  },
  {
   "cell_type": "code",
   "execution_count": 138,
   "metadata": {
    "ExecuteTime": {
     "end_time": "2020-12-10T05:28:58.216061Z",
     "start_time": "2020-12-10T05:28:58.212071Z"
    }
   },
   "outputs": [
    {
     "name": "stdout",
     "output_type": "stream",
     "text": [
      "['a', 'b', 'c', 'a', 'b']\n"
     ]
    }
   ],
   "source": [
    "c = CircleIterable('abc', 5)\n",
    "print(list(c))        # outputs: ['a', 'b', 'c', 'a', 'b']"
   ]
  },
  {
   "cell_type": "markdown",
   "metadata": {},
   "source": [
    "**Qn 3)** Write a generator `frange`, which behaves like `range` but accepts `float` values.\n",
    "\n",
    "**Sample Program Output**\n",
    "<pre>\n",
    "0, 1, 2, 3, 4, 5, \n",
    "0.3, 1.3, 2.3, 3.3, 4.3, 5.3, \n",
    "0.3, 1.1, 1.9000000000000001, 2.7, 3.5, 4.3, 5.1, \n",
    "</pre>"
   ]
  },
  {
   "cell_type": "code",
   "execution_count": 139,
   "metadata": {
    "ExecuteTime": {
     "end_time": "2020-12-10T05:28:59.366683Z",
     "start_time": "2020-12-10T05:28:59.362693Z"
    }
   },
   "outputs": [],
   "source": [
    "def frange(stop, start = 0, step = 1):\n",
    "    counter = start\n",
    "    \n",
    "    while counter <= stop:\n",
    "        new_counter_val = yield counter\n",
    "        if new_counter_val is None:\n",
    "            counter += step\n",
    "        else:\n",
    "            counter = new_counter_val"
   ]
  },
  {
   "cell_type": "code",
   "execution_count": 140,
   "metadata": {
    "ExecuteTime": {
     "end_time": "2020-12-10T05:28:59.822461Z",
     "start_time": "2020-12-10T05:28:59.815520Z"
    }
   },
   "outputs": [
    {
     "name": "stdout",
     "output_type": "stream",
     "text": [
      "0, 1, 2, 3, 4, 5, \n",
      "0.3, 1.3, 2.3, 3.3, 4.3, 5.3, \n",
      "0.3, 1.1, 1.9000000000000001, 2.7, 3.5, 4.3, 5.1, \n"
     ]
    }
   ],
   "source": [
    "for i in frange(5.6):\n",
    "    print(i, end=\", \")\n",
    "print()\n",
    "for i in frange(start=0.3, stop=5.6):\n",
    "    print(i, end=\", \")\n",
    "print()\n",
    "for i in frange(start=0.3, stop=5.6, step=0.8):\n",
    "    print(i, end=\", \")\n",
    "print()"
   ]
  },
  {
   "cell_type": "markdown",
   "metadata": {},
   "source": [
    "**Qn 4)** Write a generator `trange`, which generates a sequence of time tuples from start to stop incremented by step. A time tuple is a 3-tuple of integers: (hours, minutes, seconds) therefore a call to `trange` might look like this: `trange((10, 10, 10), (13, 50, 15), (0, 15, 12) )`\n",
    "\n",
    "**Sample Program Output**\n",
    "<pre>\n",
    "(10, 10, 10)\n",
    "(11, 34, 22)\n",
    "(12, 58, 34)\n",
    "(14, 22, 46)\n",
    "(15, 46, 58)\n",
    "(17, 11, 10)\n",
    "(18, 35, 22)\n",
    "</pre>"
   ]
  },
  {
   "cell_type": "code",
   "execution_count": 154,
   "metadata": {
    "ExecuteTime": {
     "end_time": "2020-12-10T06:25:45.790062Z",
     "start_time": "2020-12-10T06:25:45.783070Z"
    }
   },
   "outputs": [],
   "source": [
    "def trange(start, end, step):\n",
    "    hours, minutes, seconds = start\n",
    "    current_seconds = hours*60*60 + minutes*60 + seconds\n",
    "    \n",
    "    ehours, eminutes, eseconds = end\n",
    "    end_seconds = ehours*60*60 + eminutes*60 + eseconds\n",
    "    \n",
    "    shours, seminutes, sseconds = step\n",
    "    step_seconds = shours*60*60 + seminutes*60 + sseconds\n",
    "    \n",
    "    while  current_seconds < end_seconds:\n",
    "        yield current_seconds//3600, current_seconds//60%60, current_seconds%60\n",
    "        current_seconds += step_seconds"
   ]
  },
  {
   "cell_type": "code",
   "execution_count": 155,
   "metadata": {
    "ExecuteTime": {
     "end_time": "2020-12-10T06:25:46.434410Z",
     "start_time": "2020-12-10T06:25:46.429423Z"
    }
   },
   "outputs": [
    {
     "name": "stdout",
     "output_type": "stream",
     "text": [
      "(10, 10, 10)\n",
      "(11, 34, 22)\n",
      "(12, 58, 34)\n",
      "(14, 22, 46)\n",
      "(15, 46, 58)\n",
      "(17, 11, 10)\n",
      "(18, 35, 22)\n"
     ]
    }
   ],
   "source": [
    "for time in trange((10, 10, 10), (19, 53, 15), (1, 24, 12) ):\n",
    "    print(time)  "
   ]
  },
  {
   "cell_type": "markdown",
   "metadata": {},
   "source": [
    "**Qn 5)** Write a generator with the name `running_average` which computes the running average.\n",
    "\n",
    "**Sample Program Output**\n",
    "<pre>\n",
    "sent:   7, new average:   7.00\n",
    "sent:  13, new average:  10.00\n",
    "sent:  17, new average:  12.33\n",
    "sent: 231, new average:  67.00\n",
    "sent:  12, new average:  56.00\n",
    "sent:   8, new average:  48.00\n",
    "sent:   3, new average:  41.57\n",
    "</pre>"
   ]
  },
  {
   "attachments": {
    "image.png": {
     "image/png": "[encoded data removed]"
    }
   },
   "cell_type": "markdown",
   "metadata": {},
   "source": [
    "![image.png](attachment:image.png)"
   ]
  },
  {
   "cell_type": "code",
   "execution_count": 143,
   "metadata": {
    "ExecuteTime": {
     "end_time": "2020-12-10T05:29:03.349005Z",
     "start_time": "2020-12-10T05:29:03.344019Z"
    }
   },
   "outputs": [],
   "source": [
    "def running_average():\n",
    "    \n",
    "    count = 1\n",
    "    prev_sum = 0\n",
    "    new_average = 0\n",
    "    new_num = 0\n",
    "    \n",
    "    while True:\n",
    "        new_num = yield new_average\n",
    "        new_average = new_average + (new_num-new_average)/count\n",
    "        count += 1      "
   ]
  },
  {
   "cell_type": "code",
   "execution_count": 144,
   "metadata": {
    "ExecuteTime": {
     "end_time": "2020-12-10T05:29:03.861310Z",
     "start_time": "2020-12-10T05:29:03.856324Z"
    }
   },
   "outputs": [
    {
     "name": "stdout",
     "output_type": "stream",
     "text": [
      "sent:   7, new average:   7.00\n",
      "sent:  13, new average:  10.00\n",
      "sent:  17, new average:  12.33\n",
      "sent: 231, new average:  67.00\n",
      "sent:  12, new average:  56.00\n",
      "sent:   8, new average:  48.00\n",
      "sent:   3, new average:  41.57\n"
     ]
    }
   ],
   "source": [
    "ra = running_average()  # initialize the generator\n",
    "next(ra)                # start the generator\n",
    "\n",
    "for value in [7, 13, 17, 231, 12, 8, 3]:\n",
    "    print(f'sent: {value:3d}, new average: {ra.send(value):6.2f}')"
   ]
  },
  {
   "cell_type": "markdown",
   "metadata": {},
   "source": [
    "**Qn 6)** Write a generator with the name `random_ones_and_zeroes`, which returns a bitstream, i.e. a zero or a one in every iteration. The probability `p` for returning a `1` is defined in a variable `p`. The generator will initialize this value to `0.5`. In other words, zeroes and ones will be returned with the same probability.\n",
    "\n",
    "**Sample Program Output**\n",
    "<pre>\n",
    "We change the probability to : 0.2\n",
    "1 0 0 0 1 0 0 0 0 0 0 0 0 0 0 1 0 1 1 1 \n",
    "\n",
    "We change the probability to : 0.8\n",
    "1 1 1 1 1 1 1 0 1 0 0 1 1 1 1 1 0 1 1 0 \n",
    "</pre>"
   ]
  },
  {
   "cell_type": "code",
   "execution_count": 145,
   "metadata": {
    "ExecuteTime": {
     "end_time": "2020-12-10T05:29:04.907775Z",
     "start_time": "2020-12-10T05:29:04.901792Z"
    }
   },
   "outputs": [],
   "source": [
    "def random_ones_and_zeros():\n",
    "    import random\n",
    "    \n",
    "    p=0.5\n",
    "    digit = random.choices([1,0], weights = [p,1-p])[0]\n",
    "    \n",
    "    while True:\n",
    "        new_p = yield digit\n",
    "        if new_p is not None:\n",
    "            p = new_p\n",
    "            digit = random.choices([1,0], weights = [p,1-p])[0]\n",
    "        else:\n",
    "            digit = random.choices([1,0], weights = [p,1-p])[0]"
   ]
  },
  {
   "cell_type": "code",
   "execution_count": 146,
   "metadata": {
    "ExecuteTime": {
     "end_time": "2020-12-10T05:29:05.322082Z",
     "start_time": "2020-12-10T05:29:05.314105Z"
    }
   },
   "outputs": [
    {
     "name": "stdout",
     "output_type": "stream",
     "text": [
      "\n",
      "We change the probability to : 0.2\n",
      "0 0 0 0 1 0 0 0 0 0 0 0 0 1 0 0 0 0 0 1 \n",
      "\n",
      "We change the probability to : 0.8\n",
      "1 1 0 1 1 1 0 0 1 1 1 1 0 1 0 1 1 1 0 1 \n"
     ]
    }
   ],
   "source": [
    "x = random_ones_and_zeros()\n",
    "next(x)  # we are starting up the generator therefore the first value can be discarded\n",
    "\n",
    "for p in [0.2, 0.8]:\n",
    "    print(\"\\nWe change the probability to : \" + str(p))\n",
    "    x.send(p)\n",
    "    for i in range(20):\n",
    "        print(next(x), end=\" \")\n",
    "    print()"
   ]
  },
  {
   "cell_type": "code",
   "execution_count": 147,
   "metadata": {
    "ExecuteTime": {
     "end_time": "2020-12-10T05:29:05.970612Z",
     "start_time": "2020-12-10T05:29:05.962635Z"
    }
   },
   "outputs": [
    {
     "name": "stdout",
     "output_type": "stream",
     "text": [
      "x 3\n"
     ]
    },
    {
     "data": {
      "text/plain": [
       "6"
      ]
     },
     "execution_count": 147,
     "metadata": {},
     "output_type": "execute_result"
    }
   ],
   "source": [
    "def double_inputs():\n",
    "     while True:\n",
    "        x = yield\n",
    "        print(\"x\", x)\n",
    "        yield x * 2\n",
    "        \n",
    "a = double_inputs()        \n",
    "\n",
    "next(a)\n",
    "a.send(3)"
   ]
  },
  {
   "cell_type": "code",
   "execution_count": null,
   "metadata": {},
   "outputs": [],
   "source": []
  }
 ],
 "metadata": {
  "kernelspec": {
   "display_name": "Python 3",
   "language": "python",
   "name": "python3"
  },
  "language_info": {
   "codemirror_mode": {
    "name": "ipython",
    "version": 3
   },
   "file_extension": ".py",
   "mimetype": "text/x-python",
   "name": "python",
   "nbconvert_exporter": "python",
   "pygments_lexer": "ipython3",
   "version": "3.7.7"
  }
 },
 "nbformat": 4,
 "nbformat_minor": 4
}
