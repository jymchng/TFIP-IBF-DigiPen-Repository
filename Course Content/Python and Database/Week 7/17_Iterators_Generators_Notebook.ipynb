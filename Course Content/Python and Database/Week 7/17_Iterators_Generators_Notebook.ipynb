{
 "cells": [
  {
   "cell_type": "markdown",
   "metadata": {},
   "source": [
    "# Iterators & Generators\n",
    "\n",
    "#### Recap from Loops\n",
    "We know how a `for` loop can be used to iterate through each element of a sequence like so\n",
    "```python\n",
    "some_nums = [5,8,9,3,1,4]\n",
    "for num in some_nums:\n",
    "    print(num)\n",
    "```\n",
    "Each iteration of the `for` loop assigns the variable `num` with a different element in from the sequence `some_nums`.\n",
    "\n",
    "The `for` loop's **general syntax** is\n",
    "```python\n",
    "for var in iterable:\n",
    "    statement(s)\n",
    "```\n",
    "\n",
    "We can even use loop control statements like `break`, `continue` and `pass` within the loop to alter the flow.\n",
    "\n",
    "## Topics\n",
    "* Iterators\n",
    " * Custom Classes with Iterators\n",
    " * Infinite Iterators\n",
    "* Generators\n",
    " * Finite & Infinite Generators\n",
    " * `send()`\n",
    " * Generator Expressions\n",
    " * Advantages of Generators\n",
    "---"
   ]
  },
  {
   "cell_type": "markdown",
   "metadata": {},
   "source": [
    "## Iterators\n",
    "\n",
    "**What is the Iterator Pattern?**<br>\n",
    "> This algorithm of iterating each element of a given sequence is called an Iterator Pattern. An object that supports the Iterator Pattern is able to iterate and return each element in its container regardless on whether the object supports indexing.\n",
    "\n",
    "`While` loops are not used with the Iterator Pattern because it only works on object that supports indexing.\n",
    "\n",
    "The tradition Iterator pattern consists of 3 objects:\n",
    "\n",
    "* a container object\n",
    "* the container's internal logic that allows it to gather and organize the items within it\n",
    "* the container uses a generic iterator object that implements exact same logic as all other kinds of containers.\n",
    "\n",
    "Let's take a step back from the `for` loop to see how an iteration can be done manually. There are 2 functions that are important to iterators namely\n",
    "\n",
    "* `iter()` this function takes a container object (like `list`, `dict`, `tuples`, `str`, `sets`) and builds then returns a new iterator object. It will raise a `TypeError` if the container object is not an iterable.\n",
    " > From the Python documentation:<br>\n",
    " > Sequences, **always** support the iteration methods.\n",
    "* `next()` this function accepts the iterator object returned from the `iter()` function and each time it's called, it returns the next item from the container. When it hits the end, a `StopIteration` exception is raised.\n",
    "\n",
    "**Example of a basic `list` iterator**"
   ]
  },
  {
   "cell_type": "code",
   "execution_count": 1,
   "metadata": {
    "ExecuteTime": {
     "end_time": "2020-12-10T01:20:41.062086Z",
     "start_time": "2020-12-10T01:20:41.058122Z"
    }
   },
   "outputs": [],
   "source": [
    "# define a list\n",
    "my_list = [4, 7, 0, 3]\n",
    "# get an iterator using iter()\n",
    "my_iter = iter(my_list)"
   ]
  },
  {
   "cell_type": "code",
   "execution_count": 2,
   "metadata": {
    "ExecuteTime": {
     "end_time": "2020-12-10T01:20:41.650005Z",
     "start_time": "2020-12-10T01:20:41.642026Z"
    }
   },
   "outputs": [
    {
     "name": "stdout",
     "output_type": "stream",
     "text": [
      "4\n"
     ]
    }
   ],
   "source": [
    "print(next(my_iter))"
   ]
  },
  {
   "cell_type": "code",
   "execution_count": 3,
   "metadata": {
    "ExecuteTime": {
     "end_time": "2020-12-10T01:20:42.120908Z",
     "start_time": "2020-12-10T01:20:42.116877Z"
    }
   },
   "outputs": [
    {
     "name": "stdout",
     "output_type": "stream",
     "text": [
      "7\n"
     ]
    }
   ],
   "source": [
    "print(next(my_iter))"
   ]
  },
  {
   "cell_type": "code",
   "execution_count": 4,
   "metadata": {
    "ExecuteTime": {
     "end_time": "2020-12-10T01:20:42.634767Z",
     "start_time": "2020-12-10T01:20:42.629779Z"
    }
   },
   "outputs": [
    {
     "name": "stdout",
     "output_type": "stream",
     "text": [
      "0\n"
     ]
    }
   ],
   "source": [
    "print(next(my_iter))"
   ]
  },
  {
   "cell_type": "code",
   "execution_count": 5,
   "metadata": {
    "ExecuteTime": {
     "end_time": "2020-12-10T01:20:43.115905Z",
     "start_time": "2020-12-10T01:20:43.112914Z"
    }
   },
   "outputs": [
    {
     "name": "stdout",
     "output_type": "stream",
     "text": [
      "3\n"
     ]
    }
   ],
   "source": [
    "print(next(my_iter))"
   ]
  },
  {
   "cell_type": "code",
   "execution_count": 6,
   "metadata": {
    "ExecuteTime": {
     "end_time": "2020-12-10T01:20:43.842345Z",
     "start_time": "2020-12-10T01:20:43.780511Z"
    }
   },
   "outputs": [
    {
     "ename": "StopIteration",
     "evalue": "",
     "output_type": "error",
     "traceback": [
      "\u001b[1;31m---------------------------------------------------------------------------\u001b[0m",
      "\u001b[1;31mStopIteration\u001b[0m                             Traceback (most recent call last)",
      "\u001b[1;32m<ipython-input-6-1eb47a72599f>\u001b[0m in \u001b[0;36m<module>\u001b[1;34m\u001b[0m\n\u001b[0;32m      1\u001b[0m \u001b[1;31m# will raise an error because there are no more elements left in the list\u001b[0m\u001b[1;33m\u001b[0m\u001b[1;33m\u001b[0m\u001b[1;33m\u001b[0m\u001b[0m\n\u001b[1;32m----> 2\u001b[1;33m \u001b[0mprint\u001b[0m\u001b[1;33m(\u001b[0m\u001b[0mnext\u001b[0m\u001b[1;33m(\u001b[0m\u001b[0mmy_iter\u001b[0m\u001b[1;33m)\u001b[0m\u001b[1;33m)\u001b[0m\u001b[1;33m\u001b[0m\u001b[1;33m\u001b[0m\u001b[0m\n\u001b[0m",
      "\u001b[1;31mStopIteration\u001b[0m: "
     ]
    }
   ],
   "source": [
    "# will raise an error because there are no more elements left in the list\n",
    "print(next(my_iter))"
   ]
  },
  {
   "cell_type": "markdown",
   "metadata": {},
   "source": [
    "We can see from the above that a more elegant way of automatically iterating is by using the `for` loop.\n",
    "```python\n",
    "for element in my_list:\n",
    "    print(element)\n",
    "```\n",
    "\n",
    "But if you notice, a `for` loop requires a predefined number of `next()` functions to be known therefore the iterator's true implementation is \n",
    "```python\n",
    "# create an iterator object from that iterable\n",
    "iter_obj = iter(iterable)\n",
    "\n",
    "# infinite loop\n",
    "while True:\n",
    "    try:\n",
    "        # get the next item\n",
    "        element = next(iter_obj)\n",
    "        # do something with element\n",
    "    except StopIteration:\n",
    "        # if StopIteration is raised, break from loop\n",
    "        break\n",
    "```\n",
    "\n",
    "**Example: Implementation of the previous `list` iterator**"
   ]
  },
  {
   "cell_type": "code",
   "execution_count": 7,
   "metadata": {
    "ExecuteTime": {
     "end_time": "2020-12-10T01:20:58.422288Z",
     "start_time": "2020-12-10T01:20:58.417302Z"
    }
   },
   "outputs": [
    {
     "name": "stdout",
     "output_type": "stream",
     "text": [
      "4\n",
      "7\n",
      "0\n",
      "3\n"
     ]
    }
   ],
   "source": [
    "iter_obj = iter(my_list)\n",
    "\n",
    "# infinite loop\n",
    "while True:\n",
    "    try:\n",
    "        # get the next item\n",
    "        element = next(iter_obj)\n",
    "        print(element)\n",
    "    except StopIteration:\n",
    "        # if StopIteration is raised, break from loop\n",
    "        break"
   ]
  },
  {
   "cell_type": "markdown",
   "metadata": {},
   "source": [
    "So why do we need to separate the iterator from the container and why can we not just use a counter to keep track of the next element? \n",
    "\n",
    "The single counter would work if we were using 1 `for` loop per container but what happens if we require several `for` loops to work on the same container? For example, we want to generate all combinations from 2 or more 6-sided dice.\n",
    "\n",
    "**Example: Normal code for generating all combinations of 2 6-sided dice**"
   ]
  },
  {
   "cell_type": "code",
   "execution_count": 8,
   "metadata": {
    "ExecuteTime": {
     "end_time": "2020-12-10T01:21:05.191055Z",
     "start_time": "2020-12-10T01:21:05.184074Z"
    }
   },
   "outputs": [
    {
     "name": "stdout",
     "output_type": "stream",
     "text": [
      "first: one, second: one\n",
      "first: one, second: two\n",
      "first: one, second: three\n",
      "first: one, second: four\n",
      "first: one, second: five\n",
      "first: one, second: six\n",
      "first: two, second: one\n",
      "first: two, second: two\n",
      "first: two, second: three\n",
      "first: two, second: four\n",
      "first: two, second: five\n",
      "first: two, second: six\n",
      "first: three, second: one\n",
      "first: three, second: two\n",
      "first: three, second: three\n",
      "first: three, second: four\n",
      "first: three, second: five\n",
      "first: three, second: six\n",
      "first: four, second: one\n",
      "first: four, second: two\n",
      "first: four, second: three\n",
      "first: four, second: four\n",
      "first: four, second: five\n",
      "first: four, second: six\n",
      "first: five, second: one\n",
      "first: five, second: two\n",
      "first: five, second: three\n",
      "first: five, second: four\n",
      "first: five, second: five\n",
      "first: five, second: six\n",
      "first: six, second: one\n",
      "first: six, second: two\n",
      "first: six, second: three\n",
      "first: six, second: four\n",
      "first: six, second: five\n",
      "first: six, second: six\n"
     ]
    }
   ],
   "source": [
    "dice = ['one', 'two', 'three', 'four', 'five', 'six']\n",
    "for face_1 in dice:\n",
    "    for face_2 in dice:\n",
    "        print(f'first: {face_1}, second: {face_2}')"
   ]
  },
  {
   "cell_type": "markdown",
   "metadata": {},
   "source": [
    "If the Python list object `dice` had tried to support iteration using **only a single internal counter**, then the inner `for` loop would have used up all of the items and left the outer `for` loop without any further items to visit. Instead, we are given a separate iterator on each call to `iter()`.\n",
    "\n",
    "**Example: Separate iterator objects for each `iter()` call**"
   ]
  },
  {
   "cell_type": "code",
   "execution_count": 9,
   "metadata": {
    "ExecuteTime": {
     "end_time": "2020-12-10T01:21:15.887938Z",
     "start_time": "2020-12-10T01:21:15.883029Z"
    }
   },
   "outputs": [
    {
     "name": "stdout",
     "output_type": "stream",
     "text": [
      "<list_iterator object at 0x0000023E26C69388>\n",
      "<list_iterator object at 0x0000023E26C69348>\n",
      "False\n"
     ]
    }
   ],
   "source": [
    "itr1 = iter(dice)\n",
    "itr2 = iter(dice)\n",
    "\n",
    "print(itr1)\n",
    "print(itr2)\n",
    "print(itr1 is itr2)"
   ]
  },
  {
   "cell_type": "markdown",
   "metadata": {},
   "source": [
    "#### Custom Classes with iterators\n",
    "Now that we have seen how iterators can be used manually, we shall move on to study how it can be implemented in a class. For a `class` to be an iterator, it has to implement two special methods\n",
    "\n",
    "* `__iter__()` this function returns an iterator object.\n",
    "* `__next__()` this function returns the next item in the sequence and raise a `StopIteration` exception upon reaching the end.\n",
    "* In addition, if we want our object to be usable with a `for` loop, we need to add an `__iter__()` method that **returns itself**.\n",
    "\n",
    "**Example: An class calculating Powers of 2 (aka 2<sup>x</sup>)**"
   ]
  },
  {
   "cell_type": "code",
   "execution_count": 10,
   "metadata": {
    "ExecuteTime": {
     "end_time": "2020-12-10T01:21:19.514249Z",
     "start_time": "2020-12-10T01:21:19.507268Z"
    }
   },
   "outputs": [],
   "source": [
    "class PowTwo:\n",
    "    \"\"\"Class to implement an iterator of powers of two\"\"\"\n",
    "    def __init__(self, limit=0):\n",
    "        print(\"Now in __init__\")\n",
    "        self.limit = limit\n",
    "\n",
    "    def __iter__(self):\n",
    "        print(\"Now in __iter__\")\n",
    "        self.n = 0\n",
    "        return self\n",
    "\n",
    "    def __next__(self):\n",
    "        print(\"Now in __next__\")\n",
    "        if self.n <= self.limit:\n",
    "            result = 2 ** self.n\n",
    "            self.n += 1\n",
    "            print(f\"Take the value and increment to the next power {self.n}\")\n",
    "            return result\n",
    "        else:\n",
    "            raise StopIteration"
   ]
  },
  {
   "cell_type": "markdown",
   "metadata": {},
   "source": [
    "**Manual iteration**"
   ]
  },
  {
   "cell_type": "code",
   "execution_count": 11,
   "metadata": {
    "ExecuteTime": {
     "end_time": "2020-12-10T01:21:55.425795Z",
     "start_time": "2020-12-10T01:21:55.421798Z"
    }
   },
   "outputs": [
    {
     "name": "stdout",
     "output_type": "stream",
     "text": [
      "Now in __init__\n",
      "Now in __iter__\n"
     ]
    }
   ],
   "source": [
    "# create an object\n",
    "numbers = PowTwo(3)\n",
    "\n",
    "# create an iterable from the object\n",
    "i = iter(numbers) # iter calls the __iter__() method."
   ]
  },
  {
   "cell_type": "code",
   "execution_count": 12,
   "metadata": {
    "ExecuteTime": {
     "end_time": "2020-12-10T01:21:56.412771Z",
     "start_time": "2020-12-10T01:21:56.408795Z"
    }
   },
   "outputs": [
    {
     "name": "stdout",
     "output_type": "stream",
     "text": [
      "Now in __next__\n",
      "Take the value and increment to the next power 1\n",
      "1\n"
     ]
    }
   ],
   "source": [
    "# Using next to get to the next iterator element\n",
    "print(next(i))"
   ]
  },
  {
   "cell_type": "code",
   "execution_count": 13,
   "metadata": {
    "ExecuteTime": {
     "end_time": "2020-12-10T01:21:57.724817Z",
     "start_time": "2020-12-10T01:21:57.719875Z"
    }
   },
   "outputs": [
    {
     "name": "stdout",
     "output_type": "stream",
     "text": [
      "Now in __next__\n",
      "Take the value and increment to the next power 2\n",
      "2\n"
     ]
    }
   ],
   "source": [
    "print(next(i))  # will result in an error "
   ]
  },
  {
   "cell_type": "markdown",
   "metadata": {},
   "source": [
    "**Using `for` loop iteration**"
   ]
  },
  {
   "cell_type": "code",
   "execution_count": 14,
   "metadata": {
    "ExecuteTime": {
     "end_time": "2020-12-10T01:22:00.843997Z",
     "start_time": "2020-12-10T01:22:00.839012Z"
    }
   },
   "outputs": [
    {
     "name": "stdout",
     "output_type": "stream",
     "text": [
      "Now in __init__\n",
      "Now in __iter__\n",
      "Now in __next__\n",
      "Take the value and increment to the next power 1\n",
      "1\n",
      "Now in __next__\n",
      "Take the value and increment to the next power 2\n",
      "2\n",
      "Now in __next__\n",
      "Take the value and increment to the next power 3\n",
      "4\n",
      "Now in __next__\n",
      "Take the value and increment to the next power 4\n",
      "8\n",
      "Now in __next__\n",
      "Take the value and increment to the next power 5\n",
      "16\n",
      "Now in __next__\n",
      "Take the value and increment to the next power 6\n",
      "32\n",
      "Now in __next__\n"
     ]
    }
   ],
   "source": [
    "for i in PowTwo(5):\n",
    "    print(i) # For loop internally can detect and avoid the exception, so no error StopIterationError."
   ]
  },
  {
   "attachments": {
    "6da70afe-f563-4662-86c0-741c1052a98b.png": {
     "image/png": "[encoded data removed]"
    }
   },
   "cell_type": "markdown",
   "metadata": {},
   "source": [
    "#### The PREFERRED method of implementing custom classes with iteration\n",
    "\n",
    "We can split the **Iterator object** from the **Iterable object**. \n",
    "* An **iterable Object** like we have seen earlier is any sequence object (`list`, `tuple`, `str`, etc). We can iterate over this and this must **create** the iterator object when called by the `iter()` function.\n",
    "* The **iterator object** is the object that is used to iterate over an iterable object using `__next__()` method.\n",
    "\n",
    "![iterables.png](attachment:6da70afe-f563-4662-86c0-741c1052a98b.png)\n",
    "\n",
    "<br>\n",
    "\n",
    "**Example: OddNum Iterable**\n",
    "* The iterator object iterates through `n` number of times (`1` to `n`) each time the `__next__()` method is called.\n",
    "* The iterable object is the object that creates the iterator object with the maximum limit value set.\n",
    "\n",
    "# The iterable object is the object that creates the iterator object with the maximum limit value set.\n",
    "\n",
    "# iter(iterable) -> iterator then iterator returns an iterable."
   ]
  },
  {
   "cell_type": "markdown",
   "metadata": {},
   "source": [
    "# Separation of Iterable and Iterator!\n"
   ]
  },
  {
   "cell_type": "code",
   "execution_count": 40,
   "metadata": {
    "ExecuteTime": {
     "end_time": "2020-12-10T01:39:56.397297Z",
     "start_time": "2020-12-10T01:39:56.391317Z"
    }
   },
   "outputs": [],
   "source": [
    "# Separation of Iterable and Iterator!\n",
    "\n",
    "# iterable object\n",
    "class OddNumIterable:\n",
    "    def __init__(self, limit):\n",
    "        self.limit = limit\n",
    "    \n",
    "    def __iter__(self):\n",
    "        return OddNumIterator(self.limit)\n",
    "\n",
    "# iterator \n",
    "class OddNumIterator:\n",
    "    def __init__(self, limit):\n",
    "        self.limit = limit\n",
    "        self.num = 1\n",
    "\n",
    "    def __iter__(self):\n",
    "        return self\n",
    "\n",
    "    def __next__(self):\n",
    "        if self.num <= self.limit: # Remove this line then the iterator becomes an infinite iterator.\n",
    "            num = self.num\n",
    "            # increment next odd number\n",
    "            self.num += 2\n",
    "            return num\n",
    "        else:\n",
    "            raise StopIteration"
   ]
  },
  {
   "cell_type": "markdown",
   "metadata": {},
   "source": [
    "**Manaual iteration**"
   ]
  },
  {
   "cell_type": "code",
   "execution_count": 16,
   "metadata": {
    "ExecuteTime": {
     "end_time": "2020-12-10T01:22:20.140170Z",
     "start_time": "2020-12-10T01:22:20.136180Z"
    }
   },
   "outputs": [],
   "source": [
    "obj = OddNumIterable(5)\n",
    "iter_obj = iter(obj)"
   ]
  },
  {
   "cell_type": "code",
   "execution_count": 17,
   "metadata": {
    "ExecuteTime": {
     "end_time": "2020-12-10T01:22:20.946273Z",
     "start_time": "2020-12-10T01:22:20.942284Z"
    }
   },
   "outputs": [
    {
     "name": "stdout",
     "output_type": "stream",
     "text": [
      "1\n"
     ]
    }
   ],
   "source": [
    "print(next(iter_obj))"
   ]
  },
  {
   "cell_type": "markdown",
   "metadata": {},
   "source": [
    "**Using `for` loop iteration**"
   ]
  },
  {
   "cell_type": "code",
   "execution_count": 18,
   "metadata": {
    "ExecuteTime": {
     "end_time": "2020-12-10T01:22:22.923408Z",
     "start_time": "2020-12-10T01:22:22.917424Z"
    }
   },
   "outputs": [
    {
     "name": "stdout",
     "output_type": "stream",
     "text": [
      "1 3 5 7 9 11 13 15 "
     ]
    }
   ],
   "source": [
    "odds = OddNumIterable(15)\n",
    "for odd in odds:\n",
    "    print(odd, end=' ')"
   ]
  },
  {
   "cell_type": "markdown",
   "metadata": {},
   "source": [
    "#### Infinite Iterators\n",
    "\n",
    "An **Infinite Iterator** that returns a theoretically infinite stream of odd numbers. <br>\n",
    "An Infinite Iterator \"remembers\" the last number they were at so long as the iterator is still alive in memory.\n",
    "\n",
    "The **main difference** between a normal iterator object and an infinite iterator object is the **absence** of the variable limiting the iteration."
   ]
  },
  {
   "cell_type": "code",
   "execution_count": 19,
   "metadata": {
    "ExecuteTime": {
     "end_time": "2020-12-10T01:22:35.980795Z",
     "start_time": "2020-12-10T01:22:35.975807Z"
    }
   },
   "outputs": [],
   "source": [
    "# iterable object\n",
    "class InfOddNumIterable:\n",
    "    def __iter__(self):\n",
    "        return InfOddNumIterator()\n",
    "\n",
    "# iterator \n",
    "class InfOddNumIterator:\n",
    "    def __init__(self):\n",
    "        self.num = 1\n",
    "        \n",
    "    def __iter__(self):\n",
    "        return self\n",
    "\n",
    "    def __next__(self):\n",
    "        num = self.num\n",
    "        # increment next odd number\n",
    "        self.num += 2\n",
    "        return num"
   ]
  },
  {
   "cell_type": "code",
   "execution_count": 20,
   "metadata": {
    "ExecuteTime": {
     "end_time": "2020-12-10T01:22:36.821496Z",
     "start_time": "2020-12-10T01:22:36.816511Z"
    }
   },
   "outputs": [
    {
     "name": "stdout",
     "output_type": "stream",
     "text": [
      "1\n",
      "3\n",
      "5\n"
     ]
    }
   ],
   "source": [
    "# iterable object\n",
    "odd = iter(InfOddNumIterable())\n",
    "print(next(odd))\n",
    "print(next(odd))\n",
    "print(next(odd))"
   ]
  },
  {
   "cell_type": "code",
   "execution_count": 21,
   "metadata": {
    "ExecuteTime": {
     "end_time": "2020-12-10T01:22:37.893504Z",
     "start_time": "2020-12-10T01:22:37.889515Z"
    }
   },
   "outputs": [
    {
     "name": "stdout",
     "output_type": "stream",
     "text": [
      "7\n"
     ]
    }
   ],
   "source": [
    "# it can still be called from any other code cell so long as \n",
    "# the variable 'odd' is still in memory\n",
    "print(next(odd))"
   ]
  },
  {
   "cell_type": "markdown",
   "metadata": {},
   "source": [
    "The advantage of using iterators is that they **save resources**. Like in the example above theoretically, we have an infinite set of odd numbers (in finite menory) without storing the entire number system in memory ."
   ]
  },
  {
   "cell_type": "markdown",
   "metadata": {},
   "source": [
    "---\n",
    "## Generators\n",
    "\n",
    "Generators makes creating iterators simpler. We have seen from the previous section on iterators that if we want to create one, we have to implement a class with `__iter__()` and `__next__()` method, keep track of internal states, and raise `StopIteration` when there are no values to be returned. This is both lengthy and counterintuitive.\n",
    "\n",
    "Generators are a simpler way of creating iterators by automatically creating the iterator object and returning it so that we can iterate over it one value at a time.\n",
    "\n",
    "Generators uses the `yield` statement instead of the `return` statement. The difference between the `yield` and `return` statement is:\n",
    "* **`return`** - **terminates** a function completely\n",
    "* **`yield`** - **pauses** the function, saving all its states and is able to resume from there on successive later calls\n",
    "\n",
    "**Example: A simple generator**"
   ]
  },
  {
   "cell_type": "code",
   "execution_count": 22,
   "metadata": {
    "ExecuteTime": {
     "end_time": "2020-12-10T01:22:43.371790Z",
     "start_time": "2020-12-10T01:22:43.367801Z"
    }
   },
   "outputs": [],
   "source": [
    "# A simple generator function\n",
    "def my_gen():\n",
    "    n = 1\n",
    "    print('This is printed first')\n",
    "    # Generator function contains yield statements\n",
    "    yield n\n",
    "\n",
    "    n += 1\n",
    "    print('This is printed second')\n",
    "    yield n\n",
    "\n",
    "    n += 1\n",
    "    print('This is printed at last')\n",
    "    yield n"
   ]
  },
  {
   "cell_type": "code",
   "execution_count": 23,
   "metadata": {
    "ExecuteTime": {
     "end_time": "2020-12-10T01:22:44.574781Z",
     "start_time": "2020-12-10T01:22:44.557779Z"
    }
   },
   "outputs": [
    {
     "name": "stdout",
     "output_type": "stream",
     "text": [
      "This is printed first\n"
     ]
    },
    {
     "data": {
      "text/plain": [
       "1"
      ]
     },
     "execution_count": 23,
     "metadata": {},
     "output_type": "execute_result"
    }
   ],
   "source": [
    "# It returns an object but does not start execution immediately.\n",
    "a = my_gen()\n",
    "\n",
    "# We can iterate through the items using next().\n",
    "next(a)"
   ]
  },
  {
   "cell_type": "code",
   "execution_count": null,
   "metadata": {},
   "outputs": [],
   "source": [
    "# Once the function yields, the function is paused and the control is transferred to the caller.\n",
    "# Local variables and theirs states are remembered between successive calls.\n",
    "next(a)"
   ]
  },
  {
   "cell_type": "code",
   "execution_count": null,
   "metadata": {},
   "outputs": [],
   "source": [
    "next(a)"
   ]
  },
  {
   "cell_type": "code",
   "execution_count": null,
   "metadata": {},
   "outputs": [],
   "source": [
    "# Finally, when the function terminates, StopIteration is raised automatically on further calls.\n",
    "next(a)"
   ]
  },
  {
   "cell_type": "markdown",
   "metadata": {},
   "source": [
    "An interesting thing to note in the above example is that the value of variable `n` is **remembered** between each call. Unlike normal functions, the local variables are **not destroyed** when the function yields. Furthermore, the generator object can be iterated only once through.\n",
    "\n",
    "So how is a generator function **different** from a normal function?\n",
    "* Generator function contains one or more `yield` statements.\n",
    "* When called, it returns an object (iterator) but does not start execution immediately.\n",
    "* Methods like `__iter__()` and `__next__()` are implemented automatically. So we can iterate through the items using `next()`.\n",
    "* Once the function yields, the function is paused and the control is transferred to the caller.\n",
    "* Local variables and their states are remembered between successive calls.\n",
    "* Finally, when the function terminates, `StopIteration` is raised automatically on further calls.\n",
    "\n",
    "To restart the previous generator, we can call `my_gen()` again. Generators can also be used in a `for` loop because a `for` loop takes an iterator and iterates over it using `next()` function. It automatically ends when `StopIteration` is raised."
   ]
  },
  {
   "cell_type": "code",
   "execution_count": 24,
   "metadata": {
    "ExecuteTime": {
     "end_time": "2020-12-10T01:23:36.397573Z",
     "start_time": "2020-12-10T01:23:36.392578Z"
    }
   },
   "outputs": [
    {
     "name": "stdout",
     "output_type": "stream",
     "text": [
      "This is printed first\n",
      "1\n",
      "This is printed second\n",
      "2\n",
      "This is printed at last\n",
      "3\n"
     ]
    }
   ],
   "source": [
    "for item in my_gen():\n",
    "    print(item)"
   ]
  },
  {
   "cell_type": "markdown",
   "metadata": {},
   "source": [
    "Normally, generator functions are implemented with a loop having a **suitable terminating condition**.\n",
    "\n",
    "### Finite Generators\n",
    "Generators that generates values up to a predefined value.\n",
    "\n",
    "**Example: A generator that returns 7 random numbers between `1` and `49`** <br>"
   ]
  },
  {
   "cell_type": "code",
   "execution_count": 25,
   "metadata": {
    "ExecuteTime": {
     "end_time": "2020-12-10T01:23:41.376594Z",
     "start_time": "2020-12-10T01:23:41.371608Z"
    }
   },
   "outputs": [
    {
     "name": "stdout",
     "output_type": "stream",
     "text": [
      "And the next number is... 43!\n",
      "And the next number is... 39!\n",
      "And the next number is... 11!\n",
      "And the next number is... 42!\n",
      "And the next number is... 18!\n",
      "And the next number is... 32!\n",
      "And the next number is... 19!\n"
     ]
    }
   ],
   "source": [
    "import random\n",
    "\n",
    "def lottery(limit):\n",
    "    # returns 7 numbers between 1 and 49\n",
    "    for i in range(limit):\n",
    "        yield random.randint(1, 49)\n",
    "\n",
    "for num in lottery(7):\n",
    "       print(f\"And the next number is... {num}!\")"
   ]
  },
  {
   "cell_type": "markdown",
   "metadata": {},
   "source": [
    "### Infinite Generators\n",
    "\n",
    "Like infinite iterators, there is also a version for an infinite generator. The internal states are also \"remembered\" so long as the generator is alive in memory.\n",
    "\n",
    "**Example: Infinite generator that returns every multiple of 2.**"
   ]
  },
  {
   "cell_type": "code",
   "execution_count": 26,
   "metadata": {
    "ExecuteTime": {
     "end_time": "2020-12-10T01:24:01.755910Z",
     "start_time": "2020-12-10T01:24:01.751902Z"
    }
   },
   "outputs": [],
   "source": [
    "def mul_by_two():\n",
    "    n = 0\n",
    "    while True:\n",
    "        yield n * 2\n",
    "        n += 1"
   ]
  },
  {
   "cell_type": "code",
   "execution_count": 27,
   "metadata": {
    "ExecuteTime": {
     "end_time": "2020-12-10T01:24:02.607089Z",
     "start_time": "2020-12-10T01:24:02.603100Z"
    }
   },
   "outputs": [],
   "source": [
    "m = mul_by_two()"
   ]
  },
  {
   "cell_type": "code",
   "execution_count": 28,
   "metadata": {
    "ExecuteTime": {
     "end_time": "2020-12-10T01:24:03.615068Z",
     "start_time": "2020-12-10T01:24:03.611077Z"
    }
   },
   "outputs": [
    {
     "name": "stdout",
     "output_type": "stream",
     "text": [
      "0\n"
     ]
    }
   ],
   "source": [
    "print(next(m))"
   ]
  },
  {
   "cell_type": "markdown",
   "metadata": {},
   "source": [
    "**Example: Infinite generator that generates the fibonacci sequence.**"
   ]
  },
  {
   "cell_type": "code",
   "execution_count": 29,
   "metadata": {
    "ExecuteTime": {
     "end_time": "2020-12-10T01:24:08.431477Z",
     "start_time": "2020-12-10T01:24:08.427519Z"
    }
   },
   "outputs": [],
   "source": [
    "def inf_fibonacci():\n",
    "    a, b = 1, 1\n",
    "    while True:\n",
    "        yield a\n",
    "        a, b = b, a + b"
   ]
  },
  {
   "cell_type": "markdown",
   "metadata": {},
   "source": [
    "We can use an input to limit the number of times the generator is called."
   ]
  },
  {
   "cell_type": "code",
   "execution_count": 30,
   "metadata": {
    "ExecuteTime": {
     "end_time": "2020-12-10T01:24:12.730373Z",
     "start_time": "2020-12-10T01:24:10.665444Z"
    }
   },
   "outputs": [
    {
     "name": "stdout",
     "output_type": "stream",
     "text": [
      "Enter a limit: 3\n",
      "1 1 2 "
     ]
    }
   ],
   "source": [
    "m = inf_fibonacci()\n",
    "user_limit = int(input(\"Enter a limit: \"))\n",
    "\n",
    "for _ in range(user_limit):\n",
    "    print(next(m), end=' ')"
   ]
  },
  {
   "cell_type": "code",
   "execution_count": 31,
   "metadata": {
    "ExecuteTime": {
     "end_time": "2020-12-10T01:24:13.836741Z",
     "start_time": "2020-12-10T01:24:13.832716Z"
    }
   },
   "outputs": [
    {
     "name": "stdout",
     "output_type": "stream",
     "text": [
      "3\n"
     ]
    }
   ],
   "source": [
    "# as the generator object is still alive in memory, we can \n",
    "# still use it in another code cell\n",
    "print(next(m))"
   ]
  },
  {
   "cell_type": "markdown",
   "metadata": {},
   "source": [
    "### `Send()`\n",
    "\n",
    "This a special function is used to send values to generator object. Be aware of the fact that `send()` both sends a value to the generator and returns the value yielded by the generator. \n",
    "\n",
    "**Example: The `send()` function in action**"
   ]
  },
  {
   "cell_type": "code",
   "execution_count": 32,
   "metadata": {
    "ExecuteTime": {
     "end_time": "2020-12-10T01:24:24.582859Z",
     "start_time": "2020-12-10T01:24:24.578871Z"
    }
   },
   "outputs": [],
   "source": [
    "def simple_send():\n",
    "    print(\"generator has been started!\")\n",
    "    while True:\n",
    "        x = yield \"foo\"\n",
    "        print(\"generator received: \", x)"
   ]
  },
  {
   "cell_type": "code",
   "execution_count": 33,
   "metadata": {
    "ExecuteTime": {
     "end_time": "2020-12-10T01:24:27.036107Z",
     "start_time": "2020-12-10T01:24:27.032155Z"
    }
   },
   "outputs": [],
   "source": [
    "ss = simple_send()"
   ]
  },
  {
   "cell_type": "code",
   "execution_count": 34,
   "metadata": {
    "ExecuteTime": {
     "end_time": "2020-12-10T01:24:27.766984Z",
     "start_time": "2020-12-10T01:24:27.762996Z"
    }
   },
   "outputs": [
    {
     "name": "stdout",
     "output_type": "stream",
     "text": [
      "generator has been started!\n"
     ]
    },
    {
     "data": {
      "text/plain": [
       "'foo'"
      ]
     },
     "execution_count": 34,
     "metadata": {},
     "output_type": "execute_result"
    }
   ],
   "source": [
    "# used to \"start\" the generator\n",
    "next(ss)"
   ]
  },
  {
   "cell_type": "code",
   "execution_count": 36,
   "metadata": {
    "ExecuteTime": {
     "end_time": "2020-12-10T01:24:47.588627Z",
     "start_time": "2020-12-10T01:24:47.584638Z"
    }
   },
   "outputs": [
    {
     "name": "stdout",
     "output_type": "stream",
     "text": [
      "generator received:  Hi\n",
      "'send' returned:  foo\n"
     ]
    }
   ],
   "source": [
    "ret_value = ss.send(\"Hi\")\n",
    "print(\"'send' returned: \", ret_value)"
   ]
  },
  {
   "cell_type": "markdown",
   "metadata": {},
   "source": [
    "Caveat is that the generator needs to be started first (using the `next()` function) before the `send()` can be used otherwise and exception will be thrown.\n",
    "\n",
    "To use the `send()` method, the generator must wait for a `yield` statement so that the data sent can be processed or assigned to the variable on the left.\n",
    "\n",
    "**Example: A Counter application using the `send()` function**"
   ]
  },
  {
   "cell_type": "code",
   "execution_count": 37,
   "metadata": {
    "ExecuteTime": {
     "end_time": "2020-12-10T01:25:06.757909Z",
     "start_time": "2020-12-10T01:25:06.752924Z"
    }
   },
   "outputs": [],
   "source": [
    "def count(firstval=0, step=1):\n",
    "    counter = firstval\n",
    "    while True:\n",
    "        new_counter_val = yield counter\n",
    "        if new_counter_val is None:\n",
    "            counter += step\n",
    "        else:\n",
    "            counter = new_counter_val"
   ]
  },
  {
   "cell_type": "code",
   "execution_count": 38,
   "metadata": {
    "ExecuteTime": {
     "end_time": "2020-12-10T01:25:07.776085Z",
     "start_time": "2020-12-10T01:25:07.771098Z"
    }
   },
   "outputs": [
    {
     "name": "stdout",
     "output_type": "stream",
     "text": [
      "2.50, 2.70, 2.90, 3.10, 3.30, 3.50, 3.70, 3.90, 4.10, 4.30, "
     ]
    }
   ],
   "source": [
    "counter = count(2.5, 0.2)\n",
    "for i in range(10):\n",
    "    new_value = next(counter)\n",
    "    print(f\"{new_value:2.2f}\", end=\", \")"
   ]
  },
  {
   "cell_type": "code",
   "execution_count": 41,
   "metadata": {
    "ExecuteTime": {
     "end_time": "2020-12-10T03:32:18.057464Z",
     "start_time": "2020-12-10T03:32:18.046428Z"
    }
   },
   "outputs": [
    {
     "name": "stdout",
     "output_type": "stream",
     "text": [
      "set current count value to another value:\n",
      "100.5\n",
      "100.70, 100.90, 101.10, 101.30, 101.50, 101.70, 101.90, 102.10, 102.30, 102.50, "
     ]
    }
   ],
   "source": [
    "print(\"set current count value to another value:\")\n",
    "print(counter.send(100.5))\n",
    "for i in range(10):\n",
    "    new_value = next(counter)\n",
    "    print(f\"{new_value:2.2f}\", end=\", \")"
   ]
  },
  {
   "cell_type": "markdown",
   "metadata": {},
   "source": [
    "### Generator Expressions\n",
    "\n",
    "We can even create simple generator on-the-fly using generator expressions. Similar to the `lambda` functions which create anonymous functions, generator expressions create anonymous generator functions.\n",
    "\n",
    "The syntax for generator expression is similar to that of a list comprehension. But the square brackets (`[]`) are replaced with round parentheses (`()`). The **major difference** between a list comprehension and a generator expression is that a list comprehension produces the entire `list` while the generator expression produces one item at a time.\n",
    "\n",
    "**Example: A list comprehension vs a generator expression**"
   ]
  },
  {
   "cell_type": "code",
   "execution_count": null,
   "metadata": {},
   "outputs": [],
   "source": [
    "# Initialize the list\n",
    "my_list = [1, 3, 6, 10]\n",
    "\n",
    "# square each term using list comprehension\n",
    "list_comp = [x**2 for x in my_list]\n",
    "\n",
    "# same thing can be done using a generator expression\n",
    "generator = (x**2 for x in my_list)\n",
    "\n",
    "print(list_comp)\n",
    "print(generator)"
   ]
  },
  {
   "cell_type": "markdown",
   "metadata": {},
   "source": [
    "From the results, we can see that the generator expression did not produce the result immediately. Instead, it returned a generator object, which produces items only on demand till a `StopIteration` is thrown."
   ]
  },
  {
   "cell_type": "code",
   "execution_count": null,
   "metadata": {},
   "outputs": [],
   "source": [
    "print(next(generator))"
   ]
  },
  {
   "cell_type": "markdown",
   "metadata": {},
   "source": [
    "Generator expressions can be used as function arguments. When used in such a way, the round parentheses can be dropped.\n",
    "\n",
    "**Example: Using the `sum()` function with a Generator expression**"
   ]
  },
  {
   "cell_type": "code",
   "execution_count": null,
   "metadata": {},
   "outputs": [],
   "source": [
    "sum(x**2 for x in my_list)"
   ]
  },
  {
   "cell_type": "markdown",
   "metadata": {},
   "source": [
    "### Advantages of Generators\n",
    "Some reasons are listed below:\n",
    "\n",
    "1. Easy to implement. Take the `OddNumIterable` iterator object (from the Iterators section), the generator version would look like\n",
    "\n",
    " **Example: Generator version of the `OddNumIterable()`**"
   ]
  },
  {
   "cell_type": "code",
   "execution_count": null,
   "metadata": {},
   "outputs": [],
   "source": [
    "def OddNumGenerator(limit):\n",
    "    cnt = 1\n",
    "    while cnt <= limit:\n",
    "        if cnt % 2 == 1:\n",
    "            yield cnt\n",
    "        cnt += 1"
   ]
  },
  {
   "cell_type": "markdown",
   "metadata": {},
   "source": [
    "2. More efficient on memory because normal functions will return a whole sequence of items which was created in memory before returning thus if the number of items is huge, the memory requirements is also huge.\n",
    "\n",
    "3. Generators are excellent mediums to represent an infinite stream of data. Infinite streams cannot be stored in memory, and since generators produce only one item at a time, they can be used to represent an infinite stream of data.\n",
    "\n",
    "4. Generators can be chained. It means that multiple generators can be chained into a series of operations. \n",
    "\n",
    " **Example: Generator Chaining**"
   ]
  },
  {
   "cell_type": "code",
   "execution_count": null,
   "metadata": {},
   "outputs": [],
   "source": [
    "# one generator to calculate the fibonacci numbers is \n",
    "# a series of numbers in which each number is the sum \n",
    "# of the two preceding numbers. \n",
    "# The simplest is the series 1, 1, 2, 3, 5, 8, etc.\n",
    "def fibonacci_numbers(nums):\n",
    "    x, y = 0, 1\n",
    "    for not_used in range(nums):\n",
    "        x, y = y, x+y\n",
    "        yield x\n",
    "\n",
    "# second generator that squares numbers\n",
    "def square(nums):\n",
    "    for num in nums:\n",
    "        yield num**2\n",
    "        \n",
    "# chaining generators\n",
    "for i in square(fibonacci_numbers(8)):\n",
    "    print(i, end=' ')"
   ]
  },
  {
   "cell_type": "markdown",
   "metadata": {},
   "source": [
    "---\n",
    "## Summary\n",
    "\n",
    "* Iterators - what are they, how they work both manually and with a `for` loop\n",
    " * Custom Classes with Iterators\n",
    " * Infinite Iterators\n",
    "* Generators - what are they, how different are they from iterators\n",
    " * Finite & Infinite Generators\n",
    " * `send()`\n",
    " * Generator Expressions\n",
    " * Advantages of Generators"
   ]
  }
 ],
 "metadata": {
  "kernelspec": {
   "display_name": "Python 3",
   "language": "python",
   "name": "python3"
  },
  "language_info": {
   "codemirror_mode": {
    "name": "ipython",
    "version": 3
   },
   "file_extension": ".py",
   "mimetype": "text/x-python",
   "name": "python",
   "nbconvert_exporter": "python",
   "pygments_lexer": "ipython3",
   "version": "3.7.7"
  }
 },
 "nbformat": 4,
 "nbformat_minor": 4
}
