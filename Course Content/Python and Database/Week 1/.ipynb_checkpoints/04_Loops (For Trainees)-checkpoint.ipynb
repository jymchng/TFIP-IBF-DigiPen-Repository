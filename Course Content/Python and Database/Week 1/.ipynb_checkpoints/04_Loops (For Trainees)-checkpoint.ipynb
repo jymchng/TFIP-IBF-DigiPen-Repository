{
 "cells": [
  {
   "cell_type": "markdown",
   "metadata": {},
   "source": [
    "# Recap\n",
    "\n",
    "---\n",
    "\n",
    "## Python Fundamentals Part 2"
   ]
  },
  {
   "cell_type": "markdown",
   "metadata": {},
   "source": [
    "- What is Operators and it's types\n",
    "- Different data types available in python\n",
    "- What is expression and statements"
   ]
  },
  {
   "cell_type": "markdown",
   "metadata": {},
   "source": [
    "# Loops"
   ]
  },
  {
   "cell_type": "markdown",
   "metadata": {},
   "source": [
    "### Topics:  \n",
    "- `for` loops\n",
    "- `while` loops\n",
    "- Nested loops\n",
    "- Loop Control Statements"
   ]
  },
  {
   "cell_type": "markdown",
   "metadata": {},
   "source": [
    "## `for` loops"
   ]
  },
  {
   "cell_type": "markdown",
   "metadata": {},
   "source": [
    "If we want to execute some action for every element present in some sequence(it may be string or collection)then we should go for for loop."
   ]
  },
  {
   "cell_type": "markdown",
   "metadata": {},
   "source": [
    "**Syntax**\n",
    "\n",
    "```python\n",
    "for x in sequnce:\n",
    "    body\n",
    "```\n",
    "\n",
    "#### where sequence can be string or any collection. Body will be executed for every element present in the sequence."
   ]
  },
  {
   "cell_type": "markdown",
   "metadata": {},
   "source": [
    "**Flow Chart:**\n",
    "\n",
    "<figure style=\"text-align: center\">\n",
    "<img src=\"../images/for_loop.png\" class=\"center\">\n",
    "<figcaption style=\"font-size:90%; font-weight: 550;\">\n",
    "Flowchart 1 - <code>for</code> loop\n",
    "</figcaption>\n",
    "</figure>\n",
    "   "
   ]
  },
  {
   "cell_type": "code",
   "execution_count": null,
   "metadata": {},
   "outputs": [],
   "source": [
    "#Eg 1: To print characters present in the given string\n",
    "s=\"DigiPen Institute\"\n",
    "for x in s:\n",
    "    print(x)"
   ]
  },
  {
   "cell_type": "code",
   "execution_count": null,
   "metadata": {},
   "outputs": [],
   "source": [
    "#Eg 2: To display numbers from 0 to 10\n",
    "for x in range(11):\n",
    "    print(x)"
   ]
  },
  {
   "cell_type": "code",
   "execution_count": null,
   "metadata": {
    "ExecuteTime": {
     "end_time": "2020-10-29T02:26:46.708537Z",
     "start_time": "2020-10-29T02:26:46.702594Z"
    }
   },
   "outputs": [],
   "source": [
    "#Eg 3: To display odd numbers from 0 to 20\n",
    "print(*[i for i in range(21) if not i%2==0],sep='\\n')"
   ]
  },
  {
   "cell_type": "code",
   "execution_count": null,
   "metadata": {},
   "outputs": [],
   "source": [
    "#Eg 4: To print characters present in string index wise:\n",
    "s=input(\"Enter some String: \")\n",
    "i=0\n",
    "for x in s:\n",
    "    print(\"The character present at \",i,\"index is :\",x)\n",
    "    i=i+1"
   ]
  },
  {
   "cell_type": "code",
   "execution_count": null,
   "metadata": {
    "ExecuteTime": {
     "end_time": "2020-10-29T02:30:00.511450Z",
     "start_time": "2020-10-29T02:30:00.504447Z"
    }
   },
   "outputs": [],
   "source": [
    "#Eg 5: To display numbers from 10 to 1 in descending order\n",
    "print(*[i for i in range(10)][::-1])"
   ]
  },
  {
   "cell_type": "markdown",
   "metadata": {},
   "source": [
    "## `while` loops"
   ]
  },
  {
   "cell_type": "markdown",
   "metadata": {},
   "source": [
    "If we want to execute a group of statements iteratively until some condition false, then we should go for while loop."
   ]
  },
  {
   "cell_type": "markdown",
   "metadata": {},
   "source": [
    "**Syntax**\n",
    "\n",
    "```python\n",
    "while expression:\n",
    "    statement(s)\n",
    "```"
   ]
  },
  {
   "cell_type": "markdown",
   "metadata": {},
   "source": [
    "**Flow Chart**"
   ]
  },
  {
   "cell_type": "markdown",
   "metadata": {},
   "source": [
    "<figure style=\"text-align: center\">\n",
    "<img src=\"../images/while_loop.png\" class=\"center\">\n",
    "<figcaption style=\"font-size:90%; font-weight: 550;\">\n",
    "Flowchart 2 - <code>while</code> loop\n",
    "</figcaption>\n",
    "</figure>"
   ]
  },
  {
   "cell_type": "code",
   "execution_count": null,
   "metadata": {},
   "outputs": [],
   "source": [
    "# variable to make sure that the expression resolves \n",
    "# to a False value after 5 counts\n",
    "count = 0\n",
    "while count < 5:\n",
    "    print(\"Count is: \", count)\n",
    "    count += 1   # keeps track of the number of repeats\n",
    "print(\"Finished!\")"
   ]
  },
  {
   "cell_type": "code",
   "execution_count": null,
   "metadata": {},
   "outputs": [],
   "source": [
    "#Eg: To print numbers from 1 to 10 by using while loop\n",
    "x=1\n",
    "while x <=10:\n",
    "    print(x)\n",
    "    x=x+1"
   ]
  },
  {
   "cell_type": "code",
   "execution_count": null,
   "metadata": {
    "ExecuteTime": {
     "end_time": "2020-10-29T02:46:56.278474Z",
     "start_time": "2020-10-29T02:46:54.132202Z"
    }
   },
   "outputs": [],
   "source": [
    "#Eg: To display the sum of first n numbers\n",
    "print(\"Sum is: \", sum([i for i in range(int(input(\"Please input a number: \"))+1)]))"
   ]
  },
  {
   "cell_type": "markdown",
   "metadata": {},
   "source": [
    "## Infinite Loops:"
   ]
  },
  {
   "cell_type": "code",
   "execution_count": null,
   "metadata": {
    "ExecuteTime": {
     "end_time": "2020-10-29T02:47:09.425318Z",
     "start_time": "2020-10-29T02:47:05.899745Z"
    }
   },
   "outputs": [],
   "source": [
    "i=0;\n",
    "while True :\n",
    "    i=i+1;\n",
    "    print(\"Hello\",i)"
   ]
  },
  {
   "cell_type": "markdown",
   "metadata": {},
   "source": [
    "## Nested Loops:"
   ]
  },
  {
   "cell_type": "markdown",
   "metadata": {},
   "source": [
    "Sometimes we can take a loop inside another loop, which are also known as nested loops."
   ]
  },
  {
   "cell_type": "markdown",
   "metadata": {},
   "source": [
    "**Syntax**\n",
    "\n",
    "```python\n",
    "# Nested for loop\n",
    "for var in sequence1:\n",
    "    for var in sequence2:\n",
    "    \tstatement(s)\n",
    "    statement(s)\n",
    "\n",
    "# Nested while loop\n",
    "while expression1:\n",
    "    while expression2:\n",
    "    \tstatement(s)\n",
    "    statement(s)\n",
    "\n",
    "# Nested for and while loops\n",
    "for var in sequence:\n",
    "    while expression:\n",
    "    \tstatement(s)\n",
    "    statement(s)\n",
    "\n",
    "while expression:\n",
    "    for var in sequence:\n",
    "    \tstatement(s)\n",
    "    statement(s)\n",
    "```"
   ]
  },
  {
   "cell_type": "code",
   "execution_count": null,
   "metadata": {
    "ExecuteTime": {
     "end_time": "2020-10-29T02:47:13.611126Z",
     "start_time": "2020-10-29T02:47:13.605142Z"
    }
   },
   "outputs": [],
   "source": [
    "for i in range(3):\n",
    "    for j in range(3):\n",
    "        print(\"i=\",i,\" j=\",j)\n",
    "    print(\"**********\")"
   ]
  },
  {
   "cell_type": "code",
   "execution_count": null,
   "metadata": {
    "ExecuteTime": {
     "end_time": "2020-10-29T02:47:24.931862Z",
     "start_time": "2020-10-29T02:47:24.923885Z"
    }
   },
   "outputs": [],
   "source": [
    "# prints a 5 by 5 matrix of numbers\n",
    "for row in range(1,6):          # outer for loop\n",
    "    for col in range(1,6):       # inner for loop\n",
    "        k = row * col\n",
    "        print(f'{k:02}', end=' ')\n",
    "    print()     # belongs to the outer for loop"
   ]
  },
  {
   "cell_type": "code",
   "execution_count": 12,
   "metadata": {
    "ExecuteTime": {
     "end_time": "2020-10-29T03:07:06.847189Z",
     "start_time": "2020-10-29T03:07:06.830234Z"
    }
   },
   "outputs": [
    {
     "name": "stdout",
     "output_type": "stream",
     "text": [
      "*\n",
      "**\n",
      "***\n",
      "****\n",
      "*****\n",
      "******\n",
      "*******\n",
      "********\n",
      "*********\n",
      "**********\n",
      "***********\n",
      "************\n",
      "*************\n",
      "**************\n",
      "***************\n",
      "****************\n",
      "*****************\n",
      "******************\n",
      "*******************\n",
      "********************\n",
      "*********************\n"
     ]
    }
   ],
   "source": [
    "#Q. Write a program to dispaly *'s in Right angled triangled form\n",
    "for i in range(21):\n",
    "    x=0\n",
    "    while x <= i:\n",
    "        print('*',end=\"\")\n",
    "        x+=1\n",
    "    print()"
   ]
  },
  {
   "cell_type": "markdown",
   "metadata": {},
   "source": [
    "## Loop Control Statements"
   ]
  },
  {
   "cell_type": "markdown",
   "metadata": {},
   "source": [
    "There are also special control statements that changes the execution flow of the loops from its normal sequence. These statements are:\n",
    "\n",
    "* **break** - stops and exits the loop and transfers the execution to the statement immediately following the loop.\n",
    "* **continue** - causes the loop to skip the remaining of its statements and immediately retest the expression before continuing with the loop again.\n",
    "* **pass** - used when the statement is required syntactically but no execution of codes are needed."
   ]
  },
  {
   "cell_type": "markdown",
   "metadata": {},
   "source": [
    "**1) break:**  \n",
    "We can use `break` statement inside loops to break loop execution based on some condition."
   ]
  },
  {
   "cell_type": "code",
   "execution_count": null,
   "metadata": {},
   "outputs": [],
   "source": [
    "#Examples\n",
    "for i in range(10):\n",
    "    if i==7:\n",
    "        print(\"processing is enough..plz break\")\n",
    "        break\n",
    "    print(i)"
   ]
  },
  {
   "cell_type": "markdown",
   "metadata": {},
   "source": [
    "**2) continue:**  \n",
    "We can use `continue` statement to skip current iteration and continue next iteration."
   ]
  },
  {
   "cell_type": "code",
   "execution_count": null,
   "metadata": {},
   "outputs": [],
   "source": [
    "##Eg 1: To print odd numbers in the range 0 to 9\n",
    "for i in range(10):\n",
    "    if i%2==0:\n",
    "        continue\n",
    "    print(i)"
   ]
  },
  {
   "cell_type": "markdown",
   "metadata": {},
   "source": [
    "**3) pass statement:**  \n",
    "`pass` is a keyword in Python.  \n",
    "In our programming syntactically if block is required which won't do anything then we can define that empty block with `pass` keyword.\n",
    "\n",
    "**pass**\n",
    "- It is an empty statement\n",
    "- It is null statement\n",
    "- It won't do anything"
   ]
  },
  {
   "cell_type": "markdown",
   "metadata": {},
   "source": [
    "**use case of pass:**  \n",
    "Sometimes in the parent class we have to declare a function with empty body and child class responsible to provide proper implementation. Such type of empty body we can\n",
    "define by using pass keyword. (It is something like abstract method in java)"
   ]
  },
  {
   "cell_type": "code",
   "execution_count": null,
   "metadata": {},
   "outputs": [],
   "source": [
    "##Examples\n",
    "if True:"
   ]
  },
  {
   "cell_type": "code",
   "execution_count": null,
   "metadata": {},
   "outputs": [],
   "source": [
    "if True: pass"
   ]
  },
  {
   "cell_type": "code",
   "execution_count": null,
   "metadata": {},
   "outputs": [],
   "source": [
    "def m1():"
   ]
  },
  {
   "cell_type": "code",
   "execution_count": null,
   "metadata": {},
   "outputs": [],
   "source": [
    "def m1():pass"
   ]
  },
  {
   "cell_type": "code",
   "execution_count": null,
   "metadata": {
    "ExecuteTime": {
     "end_time": "2020-10-29T02:48:45.127467Z",
     "start_time": "2020-10-29T02:48:45.122482Z"
    }
   },
   "outputs": [],
   "source": [
    "#Print the number which are divisible by 9\n",
    "for i in range(100):\n",
    "    if i%9==0:\n",
    "        print(i)\n",
    "    else:pass"
   ]
  },
  {
   "cell_type": "code",
   "execution_count": null,
   "metadata": {
    "ExecuteTime": {
     "end_time": "2020-10-29T02:48:48.989143Z",
     "start_time": "2020-10-29T02:48:48.984157Z"
    }
   },
   "outputs": [],
   "source": [
    "# pass statement example\n",
    "print(\"Pass Statement\"+(\"-\"*14))\n",
    "for letter in \"GoodDay\":\n",
    "    if letter == \"d\":\n",
    "        pass\n",
    "        print(\"passed block\")\n",
    "    print (\"Current Letter :\", letter)"
   ]
  },
  {
   "cell_type": "markdown",
   "metadata": {},
   "source": [
    "#### Q. What is the difference between for loop and while loop in Python?"
   ]
  },
  {
   "cell_type": "markdown",
   "metadata": {},
   "source": []
  },
  {
   "cell_type": "markdown",
   "metadata": {},
   "source": [
    "#### Q. How to exit from the loop?"
   ]
  },
  {
   "cell_type": "markdown",
   "metadata": {},
   "source": []
  },
  {
   "cell_type": "markdown",
   "metadata": {},
   "source": [
    "#### Q. How to skip some iterations inside loop?"
   ]
  },
  {
   "cell_type": "markdown",
   "metadata": {},
   "source": []
  },
  {
   "cell_type": "markdown",
   "metadata": {},
   "source": [
    "# Exercises"
   ]
  },
  {
   "cell_type": "markdown",
   "metadata": {},
   "source": [
    "**Q. What is the value of x**"
   ]
  },
  {
   "cell_type": "code",
   "execution_count": null,
   "metadata": {
    "ExecuteTime": {
     "end_time": "2020-10-29T02:49:13.002945Z",
     "start_time": "2020-10-29T02:49:12.998002Z"
    }
   },
   "outputs": [],
   "source": [
    "x = 0\n",
    "while (x < 100):\n",
    "  x+=2\n",
    "print(x)"
   ]
  },
  {
   "cell_type": "markdown",
   "metadata": {},
   "source": [
    "- 101\n",
    "- 99\n",
    "- None of the above, this is an infinite loop\n",
    "- 100"
   ]
  },
  {
   "cell_type": "markdown",
   "metadata": {},
   "source": [
    "**Q. What is the value of x after the following nested for loop completes its execution**"
   ]
  },
  {
   "cell_type": "code",
   "execution_count": null,
   "metadata": {
    "ExecuteTime": {
     "end_time": "2020-10-29T02:49:36.779382Z",
     "start_time": "2020-10-29T02:49:36.774396Z"
    }
   },
   "outputs": [],
   "source": [
    "x = 0\n",
    "for i in range(10):\n",
    "    for j in range(-1, -10, -1):\n",
    "        x += 1\n",
    "print(x)"
   ]
  },
  {
   "cell_type": "markdown",
   "metadata": {},
   "source": [
    "- 99\n",
    "- 90\n",
    "- 100"
   ]
  },
  {
   "cell_type": "markdown",
   "metadata": {},
   "source": [
    "**Q. What is the output of the following range() function**"
   ]
  },
  {
   "cell_type": "code",
   "execution_count": null,
   "metadata": {
    "ExecuteTime": {
     "end_time": "2020-10-29T02:49:42.765378Z",
     "start_time": "2020-10-29T02:49:42.761388Z"
    }
   },
   "outputs": [],
   "source": [
    "for num in range(2,-5,-1):\n",
    "    print(num, end=\", \")"
   ]
  },
  {
   "cell_type": "markdown",
   "metadata": {},
   "source": [
    "- 2, 1, 0  \n",
    "- 2, 1, 0, -1, -2, -3, -4, -5  \n",
    "- 2, 1, 0, -1, -2, -3, -4  "
   ]
  },
  {
   "cell_type": "markdown",
   "metadata": {},
   "source": [
    "**Q. if -3 will evaluate to true**\n",
    "* True\n",
    "* False"
   ]
  },
  {
   "cell_type": "markdown",
   "metadata": {},
   "source": [
    "**Q. What is the output of the following loop**"
   ]
  },
  {
   "cell_type": "code",
   "execution_count": null,
   "metadata": {
    "ExecuteTime": {
     "end_time": "2020-10-29T02:50:49.388295Z",
     "start_time": "2020-10-29T02:50:49.383288Z"
    }
   },
   "outputs": [],
   "source": [
    "for l in 'Jhon':\n",
    "    if l == 'o':\n",
    "        pass\n",
    "    print(l, end=\", \")"
   ]
  },
  {
   "cell_type": "markdown",
   "metadata": {},
   "source": [
    "- J, h, n,\n",
    "- J, h, o, n,"
   ]
  },
  {
   "cell_type": "markdown",
   "metadata": {},
   "source": [
    "# Summary"
   ]
  },
  {
   "cell_type": "markdown",
   "metadata": {},
   "source": [
    "1. How `for` loop will works?\n",
    "2. How `while` will execute internally?\n",
    "3. When to use `for` and `while` loops?\n",
    "5. When loop will go to infinite state?\n",
    "6. What is nested loops?\n",
    "7. What are the control statemnets and what is it execution flow?"
   ]
  }
 ],
 "metadata": {
  "kernelspec": {
   "display_name": "Python 3",
   "language": "python",
   "name": "python3"
  },
  "language_info": {
   "codemirror_mode": {
    "name": "ipython",
    "version": 3
   },
   "file_extension": ".py",
   "mimetype": "text/x-python",
   "name": "python",
   "nbconvert_exporter": "python",
   "pygments_lexer": "ipython3",
   "version": "3.8.3"
  }
 },
 "nbformat": 4,
 "nbformat_minor": 2
}
