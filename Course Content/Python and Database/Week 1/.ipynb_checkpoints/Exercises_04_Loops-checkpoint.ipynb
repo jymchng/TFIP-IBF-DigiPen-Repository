{
 "cells": [
  {
   "cell_type": "markdown",
   "metadata": {},
   "source": [
    "# Python Loops Exercise"
   ]
  },
  {
   "cell_type": "markdown",
   "metadata": {},
   "source": [
    "## Write codes based on the questions\n",
    "---\n",
    "**Q1)** Write a program to find the Greatest Common Divisor of 2 integer numbers from an user's input.    \n",
    "**Example:** The Greatest Common Divisor of 20 and 15 is 5."
   ]
  },
  {
   "cell_type": "code",
   "execution_count": 10,
   "metadata": {
    "ExecuteTime": {
     "end_time": "2020-10-29T06:40:49.144552Z",
     "start_time": "2020-10-29T06:40:46.512589Z"
    }
   },
   "outputs": [
    {
     "name": "stdout",
     "output_type": "stream",
     "text": [
      "Please enter first integer: 20\n",
      "Please enter second integer: 15\n",
      "15 5\n",
      "5 0\n",
      "The GCD of 20 and 15 is 5\n"
     ]
    }
   ],
   "source": [
    "a = int(input(\"Please enter first integer: \"))\n",
    "b = int(input(\"Please enter second integer: \"))\n",
    "num1 = a\n",
    "num2 = b\n",
    "while num2:\n",
    "    num1, num2 = num2, num1%num2\n",
    "    print(num1,num2)\n",
    "\n",
    "print(f\"The GCD of {a} and {b} is {num1}\")"
   ]
  },
  {
   "cell_type": "markdown",
   "metadata": {},
   "source": [
    "**Q2)** Write a program to sum up a range of 2 integer numbers provided by the user. Place these 2 numbers in variables call `lower_bound` and `upper_bound`. In addition, compute and display the average. Implement both `for` and `while` loops.\n",
    "\n",
    "**Program Example Output:**\n",
    "<pre>\n",
    "Enter a lower bound: 5\n",
    "Enter a upper bound: 105\n",
    "\n",
    "The sum is:  5555\n",
    "The average is:  55.0\n",
    "</pre>"
   ]
  },
  {
   "cell_type": "code",
   "execution_count": 12,
   "metadata": {
    "ExecuteTime": {
     "end_time": "2020-10-29T06:49:38.475483Z",
     "start_time": "2020-10-29T06:49:36.250391Z"
    }
   },
   "outputs": [
    {
     "name": "stdout",
     "output_type": "stream",
     "text": [
      "Enter lower bound: 5\n",
      "Enter upper bound: 105\n",
      "The sum is: 5555\n",
      "The average is:  55.0\n"
     ]
    }
   ],
   "source": [
    "lower_bound = int(input(\"Enter lower bound: \"))\n",
    "upper_bound = int(input(\"Enter upper bound: \"))\n",
    "sum=0\n",
    "for i in range(lower_bound, upper_bound+1, 1):\n",
    "    sum+=i\n",
    "print(f\"The sum is: {sum}\")\n",
    "print(\"The average is: \", 0.5*(upper_bound+lower_bound))"
   ]
  },
  {
   "cell_type": "markdown",
   "metadata": {},
   "source": [
    "**Q3)** Write a program that prints the numbers 1 to 110, **11 numbers per line**. The program shall print \"Coza\" in place of the numbers which are multiples of 3, \"Loza\" for multiples of 5, \"Woza\" for multiples of 7, \"CozaLoza\" for multiples of 3 and 5, and so on. Implement both `for` and `while` loops\n",
    "\n",
    "**Partial Program Output:**\n",
    "<pre>\n",
    "1 2 Coza 4 Loza Coza Woza 8 Coza Loza 11\n",
    "Coza 13 Woza CozaLoza 16 17 Coza 19 Loza CozaWoza 22\n",
    "23 Coza Loza 26 Coza Woza 29 CozaLoza 31 32 Coza\n",
    "...\n",
    "</pre>"
   ]
  },
  {
   "cell_type": "code",
   "execution_count": 14,
   "metadata": {
    "ExecuteTime": {
     "end_time": "2020-10-29T06:51:54.473957Z",
     "start_time": "2020-10-29T06:51:54.455002Z"
    }
   },
   "outputs": [
    {
     "name": "stdout",
     "output_type": "stream",
     "text": [
      "1 2 Coza 4 Loza Coza Woza 8 Coza Loza 11 Coza 13 Woza CozaLoza 16 17 Coza 19 Loza Coza 22 23 Coza Loza 26 Coza Woza 29 CozaLoza 31 32 Coza 34 Loza Coza 37 38 Coza Loza 41 Coza 43 44 CozaLoza 46 47 Coza Woza Loza Coza 52 53 Coza Loza Woza Coza 58 59 CozaLoza 61 62 Coza 64 Loza Coza 67 68 Coza Loza 71 Coza 73 74 CozaLoza 76 Woza Coza 79 Loza Coza 82 83 Coza Loza 86 Coza 88 89 CozaLoza Woza 92 Coza 94 Loza Coza 97 Woza Coza Loza 101 Coza 103 104 CozaLoza 106 107 Coza 109 Loza "
     ]
    }
   ],
   "source": [
    "for i in range (1,111, 1):\n",
    "    if i%3==0 and i%5==0:\n",
    "        print(\"CozaLoza\",end=\" \")\n",
    "    elif i%3==0:\n",
    "        print(\"Coza\",end=\" \")\n",
    "    elif i%5==0:\n",
    "        print(\"Loza\",end=\" \")\n",
    "    elif i%7==0:\n",
    "        print(\"Woza\",end=\" \")\n",
    "    else:\n",
    "        print(i,end=\" \")"
   ]
  },
  {
   "cell_type": "markdown",
   "metadata": {},
   "source": [
    "**Q4)** Write a program to extract each digit from an integer, in the reverse order provided by the user. The output shall be the digits separated with a whitespace.\n",
    "\n",
    "**Program Output Example**\n",
    "<pre>\n",
    "Enter an integer: 487652\n",
    "2 5 6 7 8 4 \n",
    "</pre>"
   ]
  },
  {
   "cell_type": "code",
   "execution_count": 15,
   "metadata": {
    "ExecuteTime": {
     "end_time": "2020-10-29T06:53:18.227049Z",
     "start_time": "2020-10-29T06:53:13.656268Z"
    }
   },
   "outputs": [
    {
     "name": "stdout",
     "output_type": "stream",
     "text": [
      "Enter an integer: 487652\n",
      "2 5 6 7 8 4 "
     ]
    }
   ],
   "source": [
    "num = int(input(\"Enter an integer: \"))\n",
    "while num:\n",
    "    print(num%10, end=\" \")\n",
    "    num //= 10"
   ]
  },
  {
   "cell_type": "markdown",
   "metadata": {},
   "source": [
    "**Q5)** Write a program to calculate the CPF contribution for an employee based on their monthly salary and age. The program is to display the employee's, employer's and total CPF contribution. The program will only terminate if the letter `q` (lower case) is entered in the prompt for monthly salary.\n",
    "\n",
    "The table below shows the rates:\n",
    "\n",
    "| Employee's Age | Employee Rate (%) | Employer Rate (%) |\n",
    "|:---:|:---:|:---:|\n",
    "| 55 and Above | 20 | 17 |\n",
    "| above 55 to 60 | 13 | 13 |\n",
    "| above 60 to 65 | 7.5 | 9 |\n",
    "| above 65 | 5 | 7.5 |\n",
    "\n",
    "**Program Output Example**\n",
    "<pre>\n",
    "Enter monthly salary: $3000\n",
    "Enter age: 30\n",
    "\n",
    "The employee's contribution is: $ 600.0\n",
    "The employer's contribution is: $ 510.00000000000006\n",
    "The total contribution is: $ 1110.0\n",
    "</pre>"
   ]
  },
  {
   "cell_type": "code",
   "execution_count": 50,
   "metadata": {
    "ExecuteTime": {
     "end_time": "2020-10-29T07:40:16.277165Z",
     "start_time": "2020-10-29T07:40:03.466412Z"
    }
   },
   "outputs": [
    {
     "name": "stdout",
     "output_type": "stream",
     "text": [
      "Enter monthly salary: 3000\n",
      "Enter age: 25\n",
      "The employee's contribution is: $600.00\n",
      "The employer's contribution is: $510.00\n",
      "The total contribution is: $1110.00\n",
      "Enter monthly salary: $4000\n",
      "Enter age: 30\n",
      "The employee's contribution is: $800.00\n",
      "The employer's contribution is: $680.00\n",
      "The total contribution is: $1480.00\n",
      "Enter monthly salary: q\n",
      "You quitted.\n"
     ]
    }
   ],
   "source": [
    "while True:\n",
    "\n",
    "    MonthlySalary = input(\"Enter monthly salary: \")\n",
    "    if MonthlySalary == 'q':\n",
    "        print(\"You quitted.\")\n",
    "        break\n",
    "    if MonthlySalary[0] == '$':\n",
    "        MonthlySalary = int(MonthlySalary[1:])\n",
    "    MonthlySalary = int(MonthlySalary)\n",
    "    age = int(input(\"Enter age: \"))\n",
    "\n",
    "    if age <= 55:\n",
    "        EmployeeRate = 0.2\n",
    "        EmployerRate = 0.17\n",
    "    elif 55<age<=60:\n",
    "        EmployeeRate = 0.13\n",
    "        EmployerRate = 0.13\n",
    "    elif 60<age<=65:\n",
    "        EmployeeRate = 0.075\n",
    "        EmployerRate = 0.09\n",
    "    elif 65<age:\n",
    "        EmployeeRate = 0.05\n",
    "        EmployerRate = 0.075\n",
    "\n",
    "\n",
    "    print(f\"The employee's contribution is: ${EmployeeRate*MonthlySalary:.2f}\")\n",
    "    print(f\"The employer's contribution is: ${EmployerRate*MonthlySalary:.2f}\")\n",
    "    print(f\"The total contribution is: ${EmployerRate*MonthlySalary+EmployeeRate*MonthlySalary:.2f}\")"
   ]
  },
  {
   "cell_type": "markdown",
   "metadata": {},
   "source": [
    "### **Q6)** Write a program to print <b>alphabet pattern</b> 'E' like the pattern below.<br>\n",
    "<pre>\n",
    "*****\n",
    "*    \n",
    "**** \n",
    "*    \n",
    "*****\n",
    "</pre>\n",
    "<b>Some Hints</b>\n",
    "<ul>\n",
    "    <li>think about it like printing a grid</li>\n",
    "    <li>the top and bottom part of the 'E' are the same, thus the logic used is also the same</li>\n",
    "    <li>the middle part is independent</li>\n",
    "    <li>use the newline character <code>\\n</code> to move the <code>*</code> to a newline\n",
    "</ul>"
   ]
  },
  {
   "cell_type": "code",
   "execution_count": 43,
   "metadata": {
    "ExecuteTime": {
     "end_time": "2020-10-29T07:26:47.950292Z",
     "start_time": "2020-10-29T07:26:47.944306Z"
    }
   },
   "outputs": [
    {
     "name": "stdout",
     "output_type": "stream",
     "text": [
      "*******\n",
      "*\n",
      "*\n",
      "******\n",
      "*\n",
      "*\n",
      "*******\n",
      "\n"
     ]
    }
   ],
   "source": [
    "# the size is set to a 5 by 5 grid but it can be changed to any odd number,\n",
    "# even numbers make weird 'E's\n",
    "size = 7\n",
    "\n",
    "# we will be \"storing\" our different 'parts' of the 'E' in a temporary \n",
    "# string variable.\n",
    "str_e=\"\"\n",
    "\n",
    "# Step 1: define the grid\n",
    "\n",
    "        \n",
    "# Step 2: define the conditions for printing the '*' or whitespace\n",
    "for i in range(size):\n",
    "    if i == size//2:\n",
    "        print(\"*\"*(size-1))\n",
    "    elif i == 0 or i == (size-1):\n",
    "        print(\"*\"*size)\n",
    "    else:\n",
    "        print(\"*\")\n",
    "\n",
    "\n",
    "# print the 'E'\n",
    "print(str_e)"
   ]
  },
  {
   "cell_type": "markdown",
   "metadata": {},
   "source": [
    "**Q7)** Write a program to print the following patterns with the number of rows provided by user's input.    \n",
    "Your program must work for any positive number of rows.\n",
    "\n",
    "**Program Output Example**\n",
    "<pre>\n",
    "Pattern A\n",
    "1 \n",
    "1 2 \n",
    "1 2 3 \n",
    "1 2 3 4 \n",
    "\n",
    "Pattern B\n",
    "      1 \n",
    "    2 1 \n",
    "  3 2 1 \n",
    "4 3 2 1 \n",
    "\n",
    "Pattern C\n",
    "1 2 3 4 \n",
    "  1 2 3 \n",
    "    1 2 \n",
    "      1 \n",
    "\n",
    "Pattern D\n",
    "4 3 2 1 \n",
    "3 2 1   \n",
    "2 1     \n",
    "1       \n",
    "</pre>"
   ]
  },
  {
   "cell_type": "code",
   "execution_count": 46,
   "metadata": {
    "ExecuteTime": {
     "end_time": "2020-10-29T07:28:47.869699Z",
     "start_time": "2020-10-29T07:28:46.491384Z"
    }
   },
   "outputs": [
    {
     "name": "stdout",
     "output_type": "stream",
     "text": [
      "Enter the number of rows: 4\n",
      "Pattern A\n",
      "1 \n",
      "1 2 \n",
      "1 2 3 \n",
      "1 2 3 4 \n"
     ]
    }
   ],
   "source": [
    "numrows = int(input(\"Enter the number of rows: \"))\n",
    "\n",
    "print(\"Pattern A\")\n",
    "for i in range(1, numrows+1):\n",
    "    for j in range(1, i+1):\n",
    "        print(j, end=\" \")\n",
    "    print()\n",
    "print()\n",
    "print(\"Pattern B\")\n",
    "for i in range(1, numrows+1):\n",
    "    for j in range(1, i+1):\n",
    "        print(j, end=\" \")\n",
    "    print()\n",
    "print()\n",
    "print(\"Pattern C\")\n",
    "for i in range(1, numrows+1):\n",
    "    for j in range(1, i+1):\n",
    "        print(j, end=\" \")\n",
    "    print()\n",
    "print()\n",
    "print(\"Pattern D\")\n",
    "for i in range(1, numrows+1):\n",
    "    for j in range(1, i+1):\n",
    "        print(j, end=\" \")\n",
    "    print()\n",
    "print()"
   ]
  },
  {
   "cell_type": "code",
   "execution_count": null,
   "metadata": {},
   "outputs": [],
   "source": []
  }
 ],
 "metadata": {
  "kernelspec": {
   "display_name": "Python 3",
   "language": "python",
   "name": "python3"
  },
  "language_info": {
   "codemirror_mode": {
    "name": "ipython",
    "version": 3
   },
   "file_extension": ".py",
   "mimetype": "text/x-python",
   "name": "python",
   "nbconvert_exporter": "python",
   "pygments_lexer": "ipython3",
   "version": "3.8.3"
  }
 },
 "nbformat": 4,
 "nbformat_minor": 4
}
