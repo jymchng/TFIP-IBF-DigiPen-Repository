{
 "cells": [
  {
   "cell_type": "markdown",
   "metadata": {},
   "source": [
    "# Numeral Systems and Storing Data in Memory\n",
    "---\n",
    "\n",
    "## Numbers and Computing\n",
    "\n",
    "**Numbers** A unit of abstract mathematical system subject to the laws of arithmetic\n",
    "\n",
    "- Natural Numbers :"
   ]
  },
  {
   "cell_type": "markdown",
   "metadata": {
    "jupyter": {
     "source_hidden": true
    }
   },
   "source": [
    "$0, 1, 2, 3, 4, \\cdots$"
   ]
  },
  {
   "cell_type": "markdown",
   "metadata": {},
   "source": [
    "- Integers :"
   ]
  },
  {
   "cell_type": "markdown",
   "metadata": {
    "jupyter": {
     "source_hidden": true
    }
   },
   "source": [
    "$\\cdots, -4, -3, -2, -1, 0, 1, 2, 3, 4, \\cdots$"
   ]
  },
  {
   "cell_type": "markdown",
   "metadata": {},
   "source": [
    "- Rational Numbers :"
   ]
  },
  {
   "cell_type": "markdown",
   "metadata": {
    "jupyter": {
     "source_hidden": true
    }
   },
   "source": [
    "$\\frac{a}{b}$ where $a$ and $b$ are integers, and $b \\ne 0$  \n",
    "\n",
    "*Example 1*:\n",
    "<br>$1.5$ since it can be represented as $\\frac{3}{2}$  \n",
    "\n",
    "<br>\n",
    "\n",
    "*Example 2*:\n",
    "<br>$1$ since it can be represented as $\\frac{2}{1}$"
   ]
  },
  {
   "cell_type": "markdown",
   "metadata": {},
   "source": [
    "- Real Numbers :"
   ]
  },
  {
   "cell_type": "markdown",
   "metadata": {
    "jupyter": {
     "source_hidden": true
    }
   },
   "source": [
    "any value that can be represented on a number line\n",
    "  \n",
    "(includes: natural numbers, integers numbers, rational numbers)\n",
    "\n",
    "*Examples*:\n",
    "<br>$-3.33333\\cdots\\\\ -1\\\\ 0\\\\ \\sqrt{2}\\\\ \\pi\\\\ 8\\\\ 9.09090909\\cdots\\\\ 100000000$"
   ]
  },
  {
   "cell_type": "markdown",
   "metadata": {},
   "source": [
    "---\n",
    "## Base and Positional Notation\n",
    "\n",
    "How many actual things does the number <u>943</u> represent?"
   ]
  },
  {
   "cell_type": "markdown",
   "metadata": {},
   "source": [
    "**Base of a Number System** the number of digits used in the system."
   ]
  },
  {
   "cell_type": "markdown",
   "metadata": {},
   "source": [
    "- Base-10"
   ]
  },
  {
   "cell_type": "markdown",
   "metadata": {
    "jupyter": {
     "source_hidden": true
    }
   },
   "source": [
    "consists of  $0, 1, 2, 3, 4, 5, 6, 7, 8, 9$  \n",
    "also known as *decimal system*"
   ]
  },
  {
   "cell_type": "markdown",
   "metadata": {},
   "source": [
    "- Base-8"
   ]
  },
  {
   "cell_type": "markdown",
   "metadata": {
    "jupyter": {
     "source_hidden": true
    }
   },
   "source": [
    "consists of  $0, 1, 2, 3, 4, 5, 6, 7$  \n",
    "also known as *octal system*"
   ]
  },
  {
   "cell_type": "markdown",
   "metadata": {},
   "source": [
    "- Base-2"
   ]
  },
  {
   "cell_type": "markdown",
   "metadata": {
    "jupyter": {
     "source_hidden": true
    }
   },
   "source": [
    "consists of $0, 1$ only  \n",
    "also known as *binary system*"
   ]
  },
  {
   "cell_type": "markdown",
   "metadata": {},
   "source": [
    "- Base-R  "
   ]
  },
  {
   "cell_type": "markdown",
   "metadata": {
    "jupyter": {
     "source_hidden": true
    }
   },
   "source": [
    "general formula : $0, 1, \\cdots, R-2, R-1$"
   ]
  },
  {
   "cell_type": "markdown",
   "metadata": {},
   "source": [
    "**Question 1:** How then would you represent bases above 10?  "
   ]
  },
  {
   "cell_type": "markdown",
   "metadata": {},
   "source": [
    "**Positional Notation** a system of expressing numbers in arranged succession, the position of each digit has a place value and the number is equal to the sum of the products of each digit by its place value.\n",
    "\n",
    "*Example*: $943$ in base-10 (or in decimal)  "
   ]
  },
  {
   "cell_type": "markdown",
   "metadata": {},
   "source": [
    "*Example*: $943$ in base-13."
   ]
  },
  {
   "cell_type": "markdown",
   "metadata": {},
   "source": [
    "**General Form**"
   ]
  },
  {
   "cell_type": "markdown",
   "metadata": {
    "jupyter": {
     "source_hidden": true
    }
   },
   "source": [
    "$$\n",
    "\\begin{align*}\n",
    "(d_n*R^{n-1}&) +(d_{n-1}*R^{n-2})+\\cdots + (d_2*R^1)+(d_1*R^0)\\\\\n",
    "\\\\\n",
    "\\text{where } & \\text{$n$ is the number of digits,}\\\\\n",
    "& \\text{$R$ is the base, and}\\\\\n",
    "& \\text{$d_i$ is the digit in the $i^{th}$ position.}\\\\\n",
    "\\end{align*}\n",
    "\\\\\n",
    "$$"
   ]
  },
  {
   "cell_type": "markdown",
   "metadata": {},
   "source": [
    "> *Exercise*: Write the the decimal equivalent of 943 in base-2 (binary)."
   ]
  },
  {
   "cell_type": "markdown",
   "metadata": {},
   "source": [
    "> *Exercise*: Write the decimal equivalent of ABC in base-16 (hexadecimal)."
   ]
  },
  {
   "cell_type": "markdown",
   "metadata": {},
   "source": [
    "> *Exercise*: Write the decimal equivalent of 1010110 in base-2 (binary)."
   ]
  },
  {
   "cell_type": "markdown",
   "metadata": {},
   "source": [
    "---\n",
    "## Arithmetic in other bases\n",
    "\n",
    "<u>Addition example</u>\n",
    "\n",
    "![arithmetic2](https://learning.oreilly.com/library/view/computer-science-illuminated/9781284055917/images/pg72-1.jpg)"
   ]
  },
  {
   "cell_type": "markdown",
   "metadata": {},
   "source": [
    "*Exercise:* Convert to decimal to check."
   ]
  },
  {
   "cell_type": "markdown",
   "metadata": {},
   "source": [
    "<u>Subtraction example</u>\n",
    "\n",
    "![arithmetic3](https://learning.oreilly.com/library/view/computer-science-illuminated/9781284055917/images/pg72-2.jpg)\n"
   ]
  },
  {
   "cell_type": "markdown",
   "metadata": {},
   "source": [
    "*Exercise:* Convert to decimal to check."
   ]
  },
  {
   "cell_type": "markdown",
   "metadata": {},
   "source": [
    "*Exercise:* Add the hexadecimal values $789$ to $345$. Convert to decimal to check."
   ]
  },
  {
   "cell_type": "markdown",
   "metadata": {},
   "source": [
    "*Exercise:* Subtract the octal values $741$ from $3625$. Convert to decimal to check."
   ]
  },
  {
   "cell_type": "markdown",
   "metadata": {},
   "source": [
    "---\n",
    "## Binary, Octal, Decimal, Hexadecimal\n",
    "\n",
    "| Base-2<br>(Binary) | Base-8<br>(Octal) | Base-10<br>(Decimal) | Base-16<br>(Hexadecimal) |\n",
    "|:------:|:-----:|:-------:|:-----------:|\n",
    "|  0     |   0   |    0    |      0      |\n",
    "|  1     |   1   |    1    |      1      |\n",
    "|  10    |   2   |    2    |      2      |\n",
    "|  11    |   3   |    3    |      3      |\n",
    "|  100   |   4   |    4    |      4      |\n",
    "|  101   |   5   |    5    |      5      |\n",
    "|  110   |   6   |    6    |      6      |\n",
    "|  111   |   7   |    7    |      7      |\n",
    "|  1000  |   10  |    8    |      8      |\n",
    "|  1001  |   11  |    9    |      9      |\n",
    "|  1010  |   12  |    10   |      A      |\n",
    "|  1011  |   13  |    11   |      B      |\n",
    "|  1100  |   14  |    12   |      C      |\n",
    "|  1101  |   15  |    13   |      D      |\n",
    "|  1110  |   16  |    14   |      E      |\n",
    "|  1111  |   17  |    15   |      F      |\n",
    "|  10000 |   20  |    16   |      10     |\n",
    "\n",
    "<br>\n",
    "\n",
    "**Converting Binary to Octal**\n",
    "\n",
    "- Split into groups of threes and convert using table.\n",
    "\n",
    "*Example 1*: $111101100_2$ to Octal  "
   ]
  },
  {
   "cell_type": "markdown",
   "metadata": {},
   "source": [
    "*Example 2*: $101010111100_2$ to Octal"
   ]
  },
  {
   "cell_type": "markdown",
   "metadata": {},
   "source": [
    "<br>\n",
    "\n",
    "**Converting Binary to Decimal**\n",
    "\n",
    "1. Use base-2 positional notation\n",
    "\n",
    "*Example 1*: $1010110_2$ to Decimal using base-2 positional table"
   ]
  },
  {
   "cell_type": "markdown",
   "metadata": {},
   "source": [
    "2. Alternatively, convert to octal or hexadecimal first, then using their respective positional notation\n",
    "\n",
    "*Example 2a*: $1010110_2$ to octal then to decimal using base-8 positional notation"
   ]
  },
  {
   "cell_type": "markdown",
   "metadata": {},
   "source": [
    "*Example 2b*: $1010110_2$ to hexadecimal then to decimal using base-16 positional notation"
   ]
  },
  {
   "cell_type": "markdown",
   "metadata": {},
   "source": [
    "---\n",
    "## Converting Base-10 to Other Bases\n",
    "\n",
    "**while** (the quotient is not zero)  \n",
    "&emsp; Divide the decimal number by the new base  \n",
    "&emsp; Make the remainder the next digit to the left in the answer  \n",
    "&emsp; Replace the decimal number with the quotient  \n",
    "**endwhile**\n",
    "\n",
    "*Example*: Convert $2748_{10}$ to hexadecimal"
   ]
  },
  {
   "cell_type": "markdown",
   "metadata": {
    "jupyter": {
     "source_hidden": true
    }
   },
   "source": [
    "- Divide base-10 number ($2748_{10}$) by base ($16$)\n",
    "\n",
    "![img](https://learning.oreilly.com/library/view/computer-science-illuminated/9781284055917/images/pg75-1.jpg)\n",
    "\n",
    "- Remainder ($12$) is the first digit (rightmost) in the hexadecimal answer; represented by $C$.\n",
    "\n",
    "- Since quotient is not zero, we divide it ($171$) by base ($16$) again\n",
    "\n",
    "![img](https://learning.oreilly.com/library/view/computer-science-illuminated/9781284055917/images/pg75-2.jpg)\n",
    "\n",
    "- Remainder ($11$) is the next digit to the left of the hexadecimal answer; represented by $B$.\n",
    "\n",
    "- Since quotient is not zero, we divide it ($10$) by base ($16$) again\n",
    "\n",
    "![img](https://learning.oreilly.com/library/view/computer-science-illuminated/9781284055917/images/pg75-3.jpg)\n",
    "\n",
    "- Remainder ($11$) is the next digit to the left of the hexadecimal answer; represented by $A$.\n",
    "\n",
    "- Since quotient is zero, algorithm has terminated. Final answer: $ABC$"
   ]
  },
  {
   "cell_type": "markdown",
   "metadata": {},
   "source": [
    "*Exercise*: Convert $57005_{10}$ to octal."
   ]
  },
  {
   "cell_type": "markdown",
   "metadata": {},
   "source": [
    "*Exercise*: Convert $57005_{10}$ to hexadecimal."
   ]
  },
  {
   "cell_type": "markdown",
   "metadata": {},
   "source": [
    "---\n",
    "## Binary System and Memory\n",
    "\n",
    "- Data in computers are stored in low and high voltage\n",
    "- 2 states for each memory location: Low voltage = 0s, high voltage = 1s\n",
    "- binary digit (bit) is the binary number system\n",
    "- 1 byte = 8 bits\n",
    "\n",
    "---\n",
    "## Unsigned Binary Integer\n",
    "\n",
    "**Unsigned binary integer** Non-negative integers represented by 1s and 0s\n",
    "\n",
    "**Range of unsigned integer**"
   ]
  },
  {
   "cell_type": "markdown",
   "metadata": {},
   "source": [
    "- smallest to largest unsigned integer that can be represented in binary\n",
    "- depends on system architecture / programming languange"
   ]
  },
  {
   "cell_type": "markdown",
   "metadata": {},
   "source": [
    "*Example:* Range of 7-bit system"
   ]
  },
  {
   "cell_type": "markdown",
   "metadata": {},
   "source": [
    "---\n",
    "## The Carry Bit\n",
    "\n",
    "*Class Discussion*\n",
    "> What happens when we add 1 to the largest possible value in a 7-bit system ($111\\ 1111$)?"
   ]
  },
  {
   "cell_type": "markdown",
   "metadata": {
    "jupyter": {
     "source_hidden": true
    }
   },
   "source": [
    "- Expected value is $1000\\ 0000$.\n",
    "- However, since it can only hold 7 bits, only the 7 rightmost bits will be stored ($000\\ 0000$).\n",
    "- Therefore, incorrectly evaluate to zero."
   ]
  },
  {
   "cell_type": "markdown",
   "metadata": {},
   "source": [
    "How then do we solve this problem?"
   ]
  },
  {
   "cell_type": "markdown",
   "metadata": {
    "jupyter": {
     "source_hidden": true
    }
   },
   "source": [
    "To flag this condition, the CPU contains a special bit called the **carry bit**\n",
    "- denoted by the letter $C$\n",
    "- How? \n",
    " - if the sum of the leftmost column (called the *most significant bit*) produces a carry, then $C$ is set to $1$\n",
    " - else, $C$ is cleared to $0$\n",
    " - to summarise, $C$ always contains the carry of the leftmost column"
   ]
  },
  {
   "cell_type": "markdown",
   "metadata": {},
   "source": [
    "---\n",
    "## Two's Complement Binary Representation\n",
    "\n",
    "- unsigned binary representation -> non-negative integers only\n",
    "\n",
    "*Class Discussion*\n",
    "> How to represent $-5$ in binary in a 6-bit system?"
   ]
  },
  {
   "cell_type": "markdown",
   "metadata": {
    "jupyter": {
     "source_hidden": true
    }
   },
   "source": [
    "Simple 2 parts solution:\n",
    "- 1 bit for sign (0 for positive, 1 for negative)\n",
    "- 5 bits for magnitude\n",
    "\n",
    "![img](https://i.ibb.co/nRTqH1R/Slide54.png)\n",
    "\n",
    "Therefore:\n",
    "- $+5$ is $00\\ 0101$\n",
    "- $-5$ is $10\\ 0101$"
   ]
  },
  {
   "cell_type": "markdown",
   "metadata": {},
   "source": [
    "*Class Discussion*\n",
    "> Then what happens if we add $+5$ to $-5$ in binary?"
   ]
  },
  {
   "cell_type": "markdown",
   "metadata": {
    "jupyter": {
     "source_hidden": true
    }
   },
   "source": [
    "**Expected Result:** *Zero*\n",
    "\n",
    "<br>\n",
    "\n",
    "![img](https://learning.oreilly.com/library/view/computer-systems-5th/9781284079647/graphics/f0126-01.jpg)\n",
    "\n",
    "<br>\n",
    "\n",
    "**Actual Result:** *$10\\ 1010_2 \\ne 0_2$*\n",
    "\n",
    "<u>Therefore, need to have a different representation"
   ]
  },
  {
   "cell_type": "markdown",
   "metadata": {},
   "source": [
    "<br>\n",
    "\n",
    "**Two's Complement**  \n",
    "\n",
    "Positive numbers (same as the above): "
   ]
  },
  {
   "cell_type": "markdown",
   "metadata": {},
   "source": [
    "- sign bit value is $0$\n",
    "- magnitude bits same as the unsigned binary representation"
   ]
  },
  {
   "cell_type": "markdown",
   "metadata": {},
   "source": [
    "*Example*: Converting decimal $+5$ to two's complement in a 6-bit system."
   ]
  },
  {
   "cell_type": "markdown",
   "metadata": {
    "jupyter": {
     "source_hidden": true
    }
   },
   "source": [
    "     0               00101\n",
    "     |               |||||\n",
    "sign bit (+)     magnitude bits"
   ]
  },
  {
   "cell_type": "markdown",
   "metadata": {},
   "source": [
    "<br> However, $-5$ is <u>not</u> $10\\ 0101$ in two's complement:"
   ]
  },
  {
   "cell_type": "markdown",
   "metadata": {
    "jupyter": {
     "source_hidden": true
    }
   },
   "source": [
    "Note:\n",
    "- adding $+5$ to $-5$ gives $0$ in BOTH binary decimal and 6-bit system.\n",
    "\n",
    "- Therefore,  \n",
    " ![img](https://learning.oreilly.com/library/view/computer-systems-5th/9781284079647/graphics/f0126-02.jpg)\n",
    "\n",
    "- Notice that the 6-bit sum is all 0s with 1 carry.\n",
    "- $11\\ 0111$ is called the *additive inverse* of $00\\ 0101$\n",
    "- Process of finding the additive inverse is called *negation*, or *NEG*  \n",
    " i.e. $\\text{  NEG }\\ 00 0101 = 11\\ 0111$\n",
    "- to negate a number is also called *taking its two's complement*\n",
    "- Thus, $-5$ in two's complement is $11\\ 1011$  "
   ]
  },
  {
   "cell_type": "markdown",
   "metadata": {},
   "source": [
    "<br>\n",
    "\n",
    "**How to determine the Two's Complement?**\n",
    "\n",
    "<u>2 Steps</u>  \n",
    "Step 1:"
   ]
  },
  {
   "cell_type": "markdown",
   "metadata": {
    "jupyter": {
     "source_hidden": true
    }
   },
   "source": [
    "Find the one's complement:  \n",
    " - swapping all 1s to 0s, and 0s to 1s\n",
    " - also known as *NOT* operation"
   ]
  },
  {
   "cell_type": "markdown",
   "metadata": {},
   "source": [
    "*Example*: Ones' complement of $00\\ 0101$ (decimal $+5$)."
   ]
  },
  {
   "cell_type": "markdown",
   "metadata": {
    "jupyter": {
     "source_hidden": true
    }
   },
   "source": [
    "$\\text{NOT }\\ 00\\ 0101 = 11\\ 1010$"
   ]
  },
  {
   "cell_type": "markdown",
   "metadata": {},
   "source": [
    "Step 2:"
   ]
  },
  {
   "cell_type": "markdown",
   "metadata": {
    "jupyter": {
     "source_hidden": true
    }
   },
   "source": [
    "Add 1 to the ones' complement:\n",
    "\n",
    "![img](https://learning.oreilly.com/library/view/computer-systems-5th/9781284079647/graphics/f0127-03.jpg)"
   ]
  },
  {
   "cell_type": "markdown",
   "metadata": {},
   "source": [
    "Entire process can also be written as:"
   ]
  },
  {
   "cell_type": "markdown",
   "metadata": {
    "jupyter": {
     "source_hidden": true
    }
   },
   "source": [
    "$\\text{NEG }\\ 00\\ 0101 = 11\\ 1011$"
   ]
  },
  {
   "cell_type": "markdown",
   "metadata": {},
   "source": [
    "To summarise:"
   ]
  },
  {
   "cell_type": "markdown",
   "metadata": {
    "jupyter": {
     "source_hidden": true
    }
   },
   "source": [
    "> The two's complement of a number is 1 plus its ones' complement, or  \n",
    "> \n",
    "> $\\text{NEG }\\ x = \\text{NOT }\\ x + 1$"
   ]
  },
  {
   "cell_type": "markdown",
   "metadata": {},
   "source": [
    "*Example*: Two's complement of $-5$."
   ]
  },
  {
   "cell_type": "markdown",
   "metadata": {
    "jupyter": {
     "source_hidden": true
    }
   },
   "source": [
    "**Expected Result:** *+5*\n",
    "\n",
    "<br>\n",
    "\n",
    "![img](https://learning.oreilly.com/library/view/computer-systems-5th/9781284079647/graphics/f0128-01.jpg)\n",
    "\n",
    "<br>\n",
    "\n",
    "**Actual Result:** *$00\\ 0101_2 = +5_{10}$*"
   ]
  },
  {
   "cell_type": "markdown",
   "metadata": {},
   "source": [
    "---\n",
    "## Two's Complement Range\n",
    "\n",
    "*Class Discussion*\n",
    "> In a 4-bit system storing integers in two's complement, what is the **range** of integers that can be represented?\n",
    "> - What is the largest integer?\n",
    "> - What is the smallest integer?"
   ]
  },
  {
   "cell_type": "markdown",
   "metadata": {
    "jupyter": {
     "source_hidden": true
    }
   },
   "source": [
    "| Decimal | Binary |\n",
    "|:-------:|:------:|\n",
    "|   -8    |  1000  |\n",
    "|   -7    |  1001  |\n",
    "|   -6    |  1010  |\n",
    "|   -5    |  1011  |\n",
    "|   -4    |  1100  |\n",
    "|   -3    |  1101  |\n",
    "|   -2    |  1110  |\n",
    "|   -1    |  1111  |\n",
    "|    0    |  0000  |\n",
    "|    1    |  0001  |\n",
    "|    2    |  0010  |\n",
    "|    3    |  0011  |\n",
    "|    4    |  0100  |\n",
    "|    5    |  0101  |\n",
    "|    6    |  0110  |\n",
    "|    7    |  0111  |"
   ]
  },
  {
   "cell_type": "markdown",
   "metadata": {},
   "source": [
    "*Exercise:* Find the two's complement of $-7$ in a 4-bit system."
   ]
  },
  {
   "cell_type": "markdown",
   "metadata": {},
   "source": [
    "*Exercise:* Find the two's complement of $-8$ in a 4-bit system."
   ]
  },
  {
   "cell_type": "markdown",
   "metadata": {},
   "source": [
    "**What is the range of numbers in two's complement?**"
   ]
  },
  {
   "cell_type": "markdown",
   "metadata": {
    "jupyter": {
     "source_hidden": true
    }
   },
   "source": [
    "- The largest integer is a single $0$ followed by all $1$s.\n",
    "- The smallest integer is a single $1$ followed by all $0$s.\n",
    " Note that it is $1$ greater than the magnitude of the largest integer\n",
    "- Also note that:\n",
    " - the number $0$ in decimal is represented as all $0$s\n",
    " - the number $–1$ in decimal is represented as all $1$s"
   ]
  },
  {
   "cell_type": "markdown",
   "metadata": {},
   "source": [
    "---\n",
    "## The Number Line\n",
    "\n",
    "<u>Assuming a 3-bit system:</u>\n",
    "\n",
    "- **Unsigned binary number line**"
   ]
  },
  {
   "cell_type": "markdown",
   "metadata": {
    "jupyter": {
     "source_hidden": true
    }
   },
   "source": [
    "![img](https://i.ibb.co/HXhtC7B/numberline.png)"
   ]
  },
  {
   "cell_type": "markdown",
   "metadata": {},
   "source": [
    "*Example*: Add unsigned 4 to 3."
   ]
  },
  {
   "cell_type": "markdown",
   "metadata": {
    "jupyter": {
     "source_hidden": true
    }
   },
   "source": [
    "Addition is done by moving to the right on the number line:\n",
    "1. start with 4\n",
    "2. move 3 steps to the right\n",
    "3. answer = 7"
   ]
  },
  {
   "cell_type": "markdown",
   "metadata": {},
   "source": [
    "*Example*: Add unsigned 6 to 3."
   ]
  },
  {
   "cell_type": "markdown",
   "metadata": {
    "jupyter": {
     "source_hidden": true
    }
   },
   "source": [
    "![img](https://learning.oreilly.com/library/view/computer-systems-5th/9781284079647/graphics/f0131-01.jpg)\n",
    "\n",
    "Incorrect result because the answer is out of range."
   ]
  },
  {
   "cell_type": "markdown",
   "metadata": {},
   "source": [
    "<br>\n",
    "\n",
    "- **Two's complement number line**"
   ]
  },
  {
   "cell_type": "markdown",
   "metadata": {
    "jupyter": {
     "source_hidden": true
    }
   },
   "source": [
    "split the unsigned number line between 3 and 4, and shift the right part to the left side\n",
    "\n",
    "<img src=\"https://i.ibb.co/nj3VJTn/numberline2.png\" alt=\"table\" width=\"500\" height=\"300\">\n",
    "\n",
    "Notice that binary 111 to next to 0000"
   ]
  },
  {
   "cell_type": "markdown",
   "metadata": {},
   "source": [
    "*Example*: Add two's complement -2 to 3."
   ]
  },
  {
   "cell_type": "markdown",
   "metadata": {
    "jupyter": {
     "source_hidden": true
    }
   },
   "source": [
    "Addition is done by moving to the right on the number line:\n",
    "1. start with -2\n",
    "2. move 3 steps to the right\n",
    "3. answer = 1\n",
    "\n",
    "![img](https://learning.oreilly.com/library/view/computer-systems-5th/9781284079647/graphics/f0132-01.jpg)\n",
    "\n",
    "Note: With two’s complement representation, the carry bit no longer indicates whether the result of the addition is in range."
   ]
  },
  {
   "cell_type": "markdown",
   "metadata": {},
   "source": [
    "---\n",
    "## The Overflow Bit\n",
    "\n",
    "- hardware makes no distinction between unsigned or two's complement\n",
    "- when CPU adds the contents of two memory cells, it uses the rules for binary addition on the bit sequences, regardless of their types\n",
    "- In unsigned binary, if the sum is out of range, \n",
    " - the hardware simply stores the (incorrect) result\n",
    " - sets the carry bit *C* accordingly and goes on\n",
    " - up to the software to examine the *C* bit after the addition to take appropriate action if necessary."
   ]
  },
  {
   "cell_type": "markdown",
   "metadata": {
    "jupyter": {
     "source_hidden": true
    }
   },
   "source": [
    "> $C$ bit detects overflow only for unsigned integers."
   ]
  },
  {
   "cell_type": "markdown",
   "metadata": {},
   "source": [
    "- In two's complement binary representation, the carry bit no longer indicates whether a sum is in range or out of range\n",
    " - An *overflow condition* occurs when the result of an operation is out of range  \n",
    " \n",
    " - To flag this condition, the CPU contains another special bit called the **overflow bit**:\n",
    "   - denoted by the letter $V$\n",
    "   - if the sum two binary integers represented in two's complement is out of range, sets the overflow bit $V$ to\n",
    "   - else, $V$ is cleared to $0$"
   ]
  },
  {
   "cell_type": "markdown",
   "metadata": {
    "jupyter": {
     "source_hidden": true
    }
   },
   "source": [
    "> $V$ bit detects overflow for signed integers."
   ]
  },
  {
   "cell_type": "markdown",
   "metadata": {},
   "source": [
    "**How does the overflow bit V detect overflow in two's complement?**\n",
    "\n",
    "<u>Method 1</u>"
   ]
  },
  {
   "cell_type": "markdown",
   "metadata": {
    "jupyter": {
     "source_hidden": true
    }
   },
   "source": [
    "1. One way would be to convert the two numbers to decimal, add them, and see if their sum is outside the range as written in decimal. If so, an overflow has occurred."
   ]
  },
  {
   "cell_type": "markdown",
   "metadata": {},
   "source": [
    "<u>Method 2</u>"
   ]
  },
  {
   "cell_type": "markdown",
   "metadata": {
    "jupyter": {
     "source_hidden": true
    }
   },
   "source": [
    "2. Another way is that hardware detects an overflow by comparing the carry-in to the sign bit with the carry out of sign bit ($C$). If they are different, an overflow has occurred, and $V$ gets $1$. If they are the same, $V$ gets $0$.\n",
    "\n",
    " Let's look at examples in 6-bit systems:\n",
    " \n",
    " ![img](https://learning.oreilly.com/library/view/computer-systems-5th/9781284079647/graphics/f0134-01.jpg)"
   ]
  },
  {
   "cell_type": "markdown",
   "metadata": {},
   "source": [
    "<u>Method 3</u>"
   ]
  },
  {
   "cell_type": "markdown",
   "metadata": {
    "jupyter": {
     "source_hidden": true
    }
   },
   "source": [
    "3. Instead of comparing the carry-in to the sign bit with *C*, you can tell directly by inspecting the signs of the numbers and the sum:\n",
    " An overflow will occur if:\n",
    " - Addition of two positive numbers and get a negative sum\n",
    " - Addition of two negative numbers and get a positive sum\n",
    " - Note: It is not possible to get an overflow by adding a positive number and a negative number."
   ]
  },
  {
   "cell_type": "markdown",
   "metadata": {},
   "source": [
    "---\n",
    "## The Negative and Zero Bits\n",
    "\n",
    "Additional 2 bits:"
   ]
  },
  {
   "cell_type": "markdown",
   "metadata": {
    "jupyter": {
     "source_hidden": true
    }
   },
   "source": [
    "1. N-bit to detect negative result\n",
    "2. Z-but to detect zero result"
   ]
  },
  {
   "cell_type": "markdown",
   "metadata": {},
   "source": [
    "**Summary of the functions of the 4 status bit:**"
   ]
  },
  {
   "cell_type": "markdown",
   "metadata": {
    "jupyter": {
     "source_hidden": true
    }
   },
   "source": [
    "- $N = 1$ if the result is negative. Otherwise, $N=0$.\n",
    "- $Z = 1$ if the result is all zeros. Otherwise, $Z=0$\n",
    "- $V = 1$ if a signed integer overflow occurred. Otherwise, $V=0$\n",
    "- $C = 1$ if an unsigned integer overflow occurred. Otherwise, $C=0$"
   ]
  },
  {
   "cell_type": "markdown",
   "metadata": {},
   "source": [
    "*Example*: Effects of 4 status bits."
   ]
  },
  {
   "cell_type": "markdown",
   "metadata": {
    "jupyter": {
     "source_hidden": true
    }
   },
   "source": [
    "![img](https://learning.oreilly.com/library/view/computer-systems-5th/9781284079647/graphics/f0135-01.jpg)"
   ]
  },
  {
   "cell_type": "markdown",
   "metadata": {},
   "source": [
    "---\n",
    "## Binary Arithmetic\n",
    "\n",
    "**Binary Addition** (recap)"
   ]
  },
  {
   "cell_type": "markdown",
   "metadata": {},
   "source": [
    "8 rules when adding binary values:"
   ]
  },
  {
   "cell_type": "markdown",
   "metadata": {
    "jupyter": {
     "source_hidden": true
    }
   },
   "source": [
    "- $0+0=0$\n",
    "\n",
    "- $0+1=1$\n",
    "\n",
    "- $1+0=1$\n",
    "\n",
    "- $1+1=0+C$\n",
    "\n",
    "- $C+0+0=1$\n",
    "\n",
    "- $C+0+1=0+C$\n",
    "\n",
    "- $C+1+0=0+C$\n",
    "\n",
    "- $C+1+1=1+C$\n",
    "\n",
    "  Note: $C$ is the carry bit."
   ]
  },
  {
   "cell_type": "markdown",
   "metadata": {},
   "source": [
    "*Binary Addition Example*: $\\ 0101 + 0011$"
   ]
  },
  {
   "cell_type": "raw",
   "metadata": {
    "jupyter": {
     "source_hidden": true
    }
   },
   "source": [
    "          0101\n",
    "        + 0011\n",
    "        ------\n",
    "\n",
    "Step 1: Add the rightmost bits (1 + 1 = 0 + C).\n",
    "\n",
    "            c\n",
    "          0101\n",
    "        + 0011\n",
    "        ------\n",
    "             0\n",
    "\n",
    "Step 2: Add the carry plus the bits in bit position one (carry + 0 + 1 = 0 + C).\n",
    "\n",
    "           c\n",
    "          0101\n",
    "        + 0011\n",
    "        -------\n",
    "            00\n",
    "Step 3: Add the carry plus the bits in bit position two (carry + 1 + 0 = 0 + C).\n",
    "\n",
    "          c\n",
    "          0101\n",
    "        + 0011\n",
    "        ------\n",
    "           000\n",
    "\n",
    "Step 4: Add the carry plus the bits in bit position three (C + 0 + 0 = 1).\n",
    "\n",
    "          0101\n",
    "        + 0011\n",
    "        ------\n",
    "          1000"
   ]
  },
  {
   "cell_type": "markdown",
   "metadata": {},
   "source": [
    "*Binary Addition Exercise 1*: $\\ 1100\\ 1101 + 0011\\ 1011$\n",
    "\n",
    "*Binary Addition Exercise 2*: $\\ 1001\\ 1111 + 0001\\ 0001$\n",
    "\n",
    "*Binary Addition Exercise 3*: $\\ 0111\\ 0111 + 0000\\ 1001$"
   ]
  },
  {
   "cell_type": "markdown",
   "metadata": {},
   "source": [
    "<br>\n",
    "\n",
    "**Binary Subtraction** (recap)"
   ]
  },
  {
   "cell_type": "markdown",
   "metadata": {},
   "source": [
    "Similar to addition but add the NEG or two's complement of the second value"
   ]
  },
  {
   "cell_type": "markdown",
   "metadata": {},
   "source": [
    "*Binary Subtraction Example*: $\\ 0101 - 0011$"
   ]
  },
  {
   "cell_type": "raw",
   "metadata": {
    "jupyter": {
     "source_hidden": true
    }
   },
   "source": [
    "          0101\n",
    "        - 0011\n",
    "        ------\n",
    "\n",
    "Step 1: Determine the NEG or two's complement of the second value.\n",
    "\n",
    "      NOT 0101\n",
    "        ------\n",
    "          1010\n",
    "      \n",
    "          1010\n",
    "        + 0001\n",
    "        ------\n",
    "          1011\n",
    "\n",
    "Step 2: Add first value to the two's complement of the second value.\n",
    "\n",
    "           \n",
    "          0101\n",
    "        + 1011\n",
    "        -------\n",
    "            \n",
    "Step 3: Add the rightmost bit i.e. bit position 0 (1 + 1 = 0 + C)\n",
    "\n",
    "            c\n",
    "          0101\n",
    "        + 1011\n",
    "        ------\n",
    "             0\n",
    "             \n",
    "Step 4: Add the carry plus the bits in bit position one (C + 0 + 1 = 0 + C).\n",
    "\n",
    "           c\n",
    "          0101\n",
    "        + 1011\n",
    "        ------\n",
    "            00\n",
    "            \n",
    "Step 5: Add the carry plus the bits in bit position two (C + 1 + 0 = 0 + C).\n",
    "\n",
    "          c\n",
    "          0101\n",
    "        + 1011\n",
    "        ------\n",
    "           000\n",
    "           \n",
    "Step 6: Add the carry plus the bits in bit position three (C + 0 + 1 = 0 + C).\n",
    "\n",
    "          c\n",
    "          0101\n",
    "        + 1011\n",
    "        ------\n",
    "        1 0000"
   ]
  },
  {
   "cell_type": "markdown",
   "metadata": {},
   "source": [
    "*Binary Subtraction Exercise 1*: $\\ 1100\\ 1101 - 0011\\ 1011$\n",
    "\n",
    "*Binary Subtraction Exercise 2*: $\\ 1001\\ 1111 - 0001\\ 0001$\n",
    "\n",
    "*Binary Subtraction Exercise 3*: $\\ 0111\\ 0111 - 0000\\ 1001$"
   ]
  },
  {
   "cell_type": "markdown",
   "metadata": {},
   "source": [
    "<br>\n",
    "\n",
    "**Binary Multiplication**\n",
    "\n",
    "Works the same as decimal multiplication but only 1s and 0s:"
   ]
  },
  {
   "cell_type": "markdown",
   "metadata": {
    "jupyter": {
     "source_hidden": true
    }
   },
   "source": [
    "- $0\\times 0=0$\n",
    "\n",
    "- $0\\times 1=0$\n",
    "\n",
    "- $1\\times 0=0$\n",
    "\n",
    "- $1\\times 1=1$"
   ]
  },
  {
   "cell_type": "markdown",
   "metadata": {},
   "source": [
    "*Multiplication Example*: $\\ 1010\\times 0101$"
   ]
  },
  {
   "cell_type": "raw",
   "metadata": {
    "jupyter": {
     "source_hidden": true
    }
   },
   "source": [
    "      1010 (multiplicand)\n",
    "   ×  0101 (multiplier)\n",
    "   -------\n",
    "\n",
    "Step 1: Multiply the rightmost bit of the multiplier times the multiplicand.\n",
    "\n",
    "      1010\n",
    "   ×  0101\n",
    "   -------\n",
    "      1010    (1 × 1010)\n",
    "\n",
    "Step 2: Multiply bit one of the multiplier times the multiplicand.\n",
    "\n",
    "      1010\n",
    "   ×  0101\n",
    "   -------\n",
    "      1010    (1 × 1010)\n",
    "     0000     (0 × 1010)\n",
    "   -------\n",
    "     01010    (partial sum)\n",
    "\n",
    "Step 3: Multiply bit two of the multiplier times the multiplicand.\n",
    "\n",
    "      1010\n",
    "   ×  0101\n",
    "   -------\n",
    "    001010    (previous partial sum)\n",
    "    1010      (1 × 1010)\n",
    "   -------\n",
    "    110010    (partial sum)\n",
    "\n",
    "Step 4: Multiply bit three of the multiplier times the multiplicand.\n",
    "\n",
    "      1010\n",
    "   ×  0101\n",
    "   -------\n",
    "    110010    (previous partial sum)\n",
    "   0000       (0 × 1010)\n",
    "   -------\n",
    "   0110010    (product)"
   ]
  },
  {
   "cell_type": "markdown",
   "metadata": {},
   "source": [
    "*Multiplication Exercise 1*: $\\ 1100 \\times 1101$\n",
    "\n",
    "*Multiplication Exercise 2*: $\\ 1001 \\times 1111$\n",
    "\n",
    "*Multiplication Exercise 3*: $\\ 111 \\times 111$"
   ]
  },
  {
   "cell_type": "markdown",
   "metadata": {},
   "source": [
    "<br>\n",
    "\n",
    "**Binary Division**\n",
    "\n",
    "Works the same as decimal division but only 1s and 0s:\n",
    "\n",
    "*Division Example*: $\\ 1\\ 1011 \\div 11$"
   ]
  },
  {
   "cell_type": "markdown",
   "metadata": {
    "jupyter": {
     "source_hidden": true
    }
   },
   "source": [
    "| ![img](https://learning.oreilly.com/library/view/write-great-code/1593270038/httpatomoreillycomsourcenostarchimages1289869.png.jpg)  |\n",
    "| :----------------------------------------------------------: |\n",
    "| ![img](https://learning.oreilly.com/library/view/write-great-code/1593270038/httpatomoreillycomsourcenostarchimages1289871.png.jpg)  |\n",
    "| ![img](https://learning.oreilly.com/library/view/write-great-code/1593270038/httpatomoreillycomsourcenostarchimages1289873.png.jpg)  |\n",
    "| ![img](https://learning.oreilly.com/library/view/write-great-code/1593270038/httpatomoreillycomsourcenostarchimages1289875.png.jpg)  |\n",
    "| ![img](https://learning.oreilly.com/library/view/write-great-code/1593270038/httpatomoreillycomsourcenostarchimages1289877.png.jpg)  |\n",
    "| ![img](https://learning.oreilly.com/library/view/write-great-code/1593270038/httpatomoreillycomsourcenostarchimages1289879.png.jpg)  |\n",
    "| ![img](https://learning.oreilly.com/library/view/write-great-code/1593270038/httpatomoreillycomsourcenostarchimages1289881.png.jpg)  |\n",
    "| ![img](https://learning.oreilly.com/library/view/write-great-code/1593270038/httpatomoreillycomsourcenostarchimages1289883.png.jpg)  |"
   ]
  },
  {
   "cell_type": "markdown",
   "metadata": {},
   "source": [
    "*Division Exercise 1*: $\\ 1100 \\div 11$\n",
    "\n",
    "*Division Exercise 2*: $\\ 1111 \\div 101$\n",
    "\n",
    "*Division Exercise 3*: $\\ 1010\\ 1010 \\div 1010$"
   ]
  },
  {
   "cell_type": "markdown",
   "metadata": {},
   "source": [
    "---\n",
    "## Four Logical Operations on Bits\n",
    "\n",
    "**Truth Table**\n",
    "- Values in the left column correspond to the left operand of the operation\n",
    "- Values in the top row correspond to the right operand of the operation\n",
    "- Values located at the intersection of the row and column (for a particular pair of input values) is the result."
   ]
  },
  {
   "cell_type": "markdown",
   "metadata": {},
   "source": [
    "1. **AND**"
   ]
  },
  {
   "cell_type": "markdown",
   "metadata": {
    "jupyter": {
     "source_hidden": true
    }
   },
   "source": [
    "<table style=\"margin-left:0; width:20%\">\n",
    "   <tr><td>AND</td><td>0</td><td>1</td></tr>\n",
    "   <tr><td>0</td><td>0</td><td>0</td></tr>\n",
    "   <tr><td>1</td><td>0</td><td>1</td></tr>\n",
    "</table>"
   ]
  },
  {
   "cell_type": "markdown",
   "metadata": {},
   "source": [
    "2. **OR**"
   ]
  },
  {
   "cell_type": "markdown",
   "metadata": {
    "jupyter": {
     "source_hidden": true
    }
   },
   "source": [
    "<table style=\"margin-left:0; width:20%\">\n",
    "   <tr><td>OR</td><td>0</td><td>1</td></tr>\n",
    "   <tr><td>0</td><td>0</td><td>1</td></tr>\n",
    "   <tr><td>1</td><td>1</td><td>1</td></tr>\n",
    "</table>"
   ]
  },
  {
   "cell_type": "markdown",
   "metadata": {},
   "source": [
    "3. **XOR**"
   ]
  },
  {
   "cell_type": "markdown",
   "metadata": {
    "jupyter": {
     "source_hidden": true
    }
   },
   "source": [
    "<table style=\"margin-left:0; width:20%\">\n",
    "   <tr><td>XOR</td><td>0</td><td>1</td></tr>\n",
    "   <tr><td>0</td><td>0</td><td>1</td></tr>\n",
    "   <tr><td>1</td><td>1</td><td>0</td></tr>\n",
    "</table>"
   ]
  },
  {
   "cell_type": "markdown",
   "metadata": {},
   "source": [
    "4. **NOT**"
   ]
  },
  {
   "cell_type": "markdown",
   "metadata": {
    "jupyter": {
     "source_hidden": true
    }
   },
   "source": [
    "<table style=\"margin-left:0; width:20%\">\n",
    "   <tr><td>NOT</td><td>0</td><td>1</td></tr>\n",
    "   <tr><td></td><td>1</td><td>0</td></tr>\n",
    "</table>\n",
    "\n",
    "Note: NOT operation is *unary* - accepts only 1 operand."
   ]
  },
  {
   "cell_type": "markdown",
   "metadata": {},
   "source": [
    "**Bonus:** [The Marriage Operation](https://www.youtube.com/watch?v=zE55_TLgRec)"
   ]
  },
  {
   "cell_type": "markdown",
   "metadata": {},
   "source": [
    "---\n",
    "## Logical Operations on Binary Numbers\n",
    "\n",
    "Apply logical operations *bit-by-bit* (or *bitwise*):\n",
    "\n",
    "Given 2 binary numbers, a bitwise logical function operates on:\n",
    "- bit position zero of both operands producing bit position zero of the result,\n",
    "- bit position one of both operands producing bit position one of the result, and so on.\n",
    "\n",
    "*Example*: $\\ 1011\\ 0101\\quad \\text{AND}\\quad 1110\\ 1110$"
   ]
  },
  {
   "cell_type": "raw",
   "metadata": {
    "jupyter": {
     "source_hidden": true
    }
   },
   "source": [
    "     1011 0101\n",
    " AND 1110 1110\n",
    "    ----------\n",
    "     1010 0100"
   ]
  },
  {
   "cell_type": "markdown",
   "metadata": {},
   "source": [
    "*Exercises*:\n",
    "- $\\ 0010\\ 0110\\quad \\text{AND}\\quad 1010\\ 0111$\n",
    "- $\\ 1011\\ 0101\\quad \\text{OR}\\quad 1110\\ 1110$\n",
    "- $\\ 0010\\ 0110\\quad \\text{OR}\\quad 1010\\ 0111$\n",
    "- $\\ 1011\\ 0101\\quad \\text{XOR}\\quad 1110\\ 1110$\n",
    "- $\\ 0010\\ 0110\\quad \\text{XOR}\\quad 1010\\ 0111$\n",
    "- $\\ \\text{NOT}\\quad 1110\\ 1001$\n",
    "- $\\ \\text{NOT}\\quad 0101\\ 1010$"
   ]
  },
  {
   "cell_type": "markdown",
   "metadata": {},
   "source": [
    "**Python bitwise operations**"
   ]
  },
  {
   "cell_type": "markdown",
   "metadata": {},
   "source": [
    "```python\n",
    "i = j & k    # Bitwise AND\n",
    "i = j | k    # Bitwise OR\n",
    "i = j ^ k    # Bitwise XOR\n",
    "i = ˜j       # Bitwise NOT\n",
    "```"
   ]
  },
  {
   "cell_type": "markdown",
   "metadata": {},
   "source": [
    "*Exercises*: Repeat the above examples using Python.  \n",
    "Note: Use `0b` prefix to represent binary numbers, use `bin()` to convert answer to binary."
   ]
  },
  {
   "cell_type": "code",
   "execution_count": null,
   "metadata": {
    "jupyter": {
     "source_hidden": true
    }
   },
   "outputs": [],
   "source": [
    "bin(0b00100110 & 0b10100111)"
   ]
  },
  {
   "cell_type": "markdown",
   "metadata": {},
   "source": [
    "---\n",
    "## Floating point representation\n",
    "\n",
    "We have seen integer representations.\n",
    "\n",
    "*Class Discussion*\n",
    "> How to represent other real numbers which are non-integers e.g. $\\pi$? "
   ]
  },
  {
   "cell_type": "markdown",
   "metadata": {},
   "source": [
    "<u>Method 1</u>"
   ]
  },
  {
   "cell_type": "markdown",
   "metadata": {
    "jupyter": {
     "source_hidden": true
    }
   },
   "source": [
    "**Mathematical notation**\n",
    "- digit string can be of any length\n",
    "- location of radix point (decimal point) b\n",
    "\n",
    "Therefore, $\\pi$ is $3.14159265359...$."
   ]
  },
  {
   "cell_type": "markdown",
   "metadata": {},
   "source": [
    "<u>Method 2</u>"
   ]
  },
  {
   "cell_type": "markdown",
   "metadata": {
    "jupyter": {
     "source_hidden": true
    }
   },
   "source": [
    "**Scientific notation**\n",
    "- number scaled by powers of 10 such that numbers lie between 1 to 10\n",
    "- radix point appears immediately after the first digit\n",
    "\n",
    "e.g. $6.0221409 \\times 10^{23}$"
   ]
  },
  {
   "cell_type": "markdown",
   "metadata": {},
   "source": [
    "<u>Method 3</u>"
   ]
  },
  {
   "cell_type": "markdown",
   "metadata": {
    "jupyter": {
     "source_hidden": true
    }
   },
   "source": [
    "**Floating point representation**\n",
    "- can think of it as the binary version of scientific notation\n",
    "- consists of 3 fields:  \n",
    " 1. one bit to represent the sign\n",
    " 2. several bits to represent the exponent of the normalized binary number\n",
    " 3. several bits to represent the magnitude of the number (*significand* or *mantissa*)\n",
    " \n",
    " ![img](https://i.ibb.co/JCf9cfK/1.png)\n",
    " \n",
    " - range of floating point values depend on the number of bits stored in the exponent\n",
    " - precision of floating point depends on the number of bits in significand"
   ]
  },
  {
   "cell_type": "markdown",
   "metadata": {},
   "source": [
    "<br>\n",
    "\n",
    "**Binary Fractions**\n",
    "- binary point (base-2 version of decimal point)\n",
    "\n",
    "*Example*: $101.011$"
   ]
  },
  {
   "cell_type": "markdown",
   "metadata": {
    "jupyter": {
     "source_hidden": true
    }
   },
   "source": [
    "<img src=\"https://i.ibb.co/cb3xMQv/1.png\" alt=\"table\" width=\"550\" height=\"300\">\n",
    "\n",
    "- bits to the left of the binary point -> unsigned binary representation\n",
    "- bits to the right of the binary point ->  $(d_1 \\times 2^{-1}) + (d_2 \\times 2^{-2}) + (d_3 \\times 2^{-3}) +\\ ...\\ $  \n",
    " where $d_i$ is the positional notation to the right of the binary point\n",
    " \n",
    " <img src=\"https://i.ibb.co/8b0wDwt/1.png\" alt=\"table\" width=\"500\" height=\"150\">"
   ]
  },
  {
   "cell_type": "markdown",
   "metadata": {},
   "source": [
    "<br>\n",
    "\n",
    "**Converting decimal to binary fractions**\n",
    "\n",
    "<u>Step 1:</u>"
   ]
  },
  {
   "cell_type": "markdown",
   "metadata": {
    "jupyter": {
     "source_hidden": true
    }
   },
   "source": [
    "Convert whole part (the bits to the left of the binary point) using the technique seen earlier for converting unsigned binary values"
   ]
  },
  {
   "cell_type": "markdown",
   "metadata": {},
   "source": [
    "<u>Step 2:</u>"
   ]
  },
  {
   "cell_type": "markdown",
   "metadata": {
    "jupyter": {
     "source_hidden": true
    }
   },
   "source": [
    "Use successive doubling to convert the bits to the right of the binary point."
   ]
  },
  {
   "cell_type": "markdown",
   "metadata": {},
   "source": [
    "*Example*: Convert $6.5859375$ decimal to binary."
   ]
  },
  {
   "cell_type": "markdown",
   "metadata": {
    "jupyter": {
     "source_hidden": true
    }
   },
   "source": [
    "<img src=\"https://i.ibb.co/27y4Tyc/1.png\" alt=\"table\" width=\"175\" height=\"300\">\n",
    "\n",
    "Note: when doubling the fractions, do not include the whole number part. E.g. the value $0.34375$ comes from doubling $0.171875$, not from doubling $1.171875$\n",
    "\n",
    "For the binary fractions, read from top to bottom.\n",
    "\n",
    "Therefore, $6.5859375_{10} = 110.1001011_2$."
   ]
  },
  {
   "cell_type": "markdown",
   "metadata": {},
   "source": [
    "<br>\n",
    "\n",
    "*Exercise:* Convert $0.2$ decimal to binary."
   ]
  },
  {
   "cell_type": "markdown",
   "metadata": {
    "jupyter": {
     "source_hidden": true
    }
   },
   "source": [
    "<table style=\"margin-left:0; width:10%\">\n",
    "   <tr><td> </td><td>0.2</td></tr>\n",
    "   <tr><td>0</td><td>0.4</td></tr>\n",
    "   <tr><td>0</td><td>0.8</td></tr>\n",
    "   <tr><td>1</td><td>0.6</td></tr>\n",
    "   <tr><td>1</td><td>0.2</td></tr>\n",
    "   <tr><td>0</td><td>0.4</td></tr>\n",
    "   <tr><td>0</td><td>0.8</td></tr>\n",
    "   <tr><td>1</td><td>0.6</td></tr>\n",
    "   <tr><td>$\\vdots$</td><td>$\\vdots$</td></tr>\n",
    "</table>\n",
    "\n",
    "Notice that the process will never terminate.\n",
    "\n",
    "Therefore, $0.2_{10} = 0.001100110011_2$ with the bit pattern $0011$ endlessly repeating.\n",
    "\n",
    "You should realize that if you add $0.2 + 0.2$ in a some language like C, you will probably not get $0.4$ exactly because of the roundoff error inherent in the binary representation of the values\n",
    "\n",
    "For that reason, good numeric software rarely tests two floating point numbers for strict equality.\n",
    "\n",
    "Instead, the software maintains a small but nonzero tolerance that represents how close two floating point values must be to be considered equal.\n",
    "\n",
    "For example, if the tolerance = $0.0001$\n",
    "- then, $1.38264$ = $1.38267$\n",
    "- since their difference ($0.00003$) < tolerance ($0.0001$)\n",
    "\n",
    "If Python were to print the true decimal value of $0.1$, it would have to display `0.1000000000000000055511151231257827021181583404541015625`.\n",
    "\n",
    "However, it is more digits than most people would find it useful and therefore prints a rounded value of `0.1` instead.\n",
    "\n",
    "Refer to [official documentation](https://docs.python.org/3.8/tutorial/floatingpoint.html)"
   ]
  },
  {
   "cell_type": "markdown",
   "metadata": {},
   "source": [
    "<br>\n",
    "\n",
    "**Normalized Form in Scientific Notation**\n",
    "\n",
    "- Example, the decimal number $–328.4$ is written in normalized form in scientific notation as $–3.284 × 10^2$\n",
    " - The effect of the exponent $2$ as the power of $10$ is to shift the decimal point two places to the right.\n",
    "\n",
    "\n",
    "- Similarly, the binary number $–10101.101$ is written in normalized form in scientific notation as $–1.0101101 × 2^4$\n",
    " - The effect of the exponent $4$ as the power of $2$ is to shift the binary point four places to the right.\n",
    "\n",
    "\n",
    "- On the other hand, the binary number $0.00101101$ is written in normalized form in scientific notation as $1.01101 × 2^{–3}$\n",
    " - The effect of the exponent $–3$ as the power of $2$ is to shift the binary point three places to the left.\n",
    " \n",
    "\n",
    "- The number zero cannot be normalized because it does not any a nonzero digit.\n",
    "\n",
    "\n",
    "- Based on the normalized form in scientific notation:\n",
    " - floating point numbers can be positive or negative\n",
    " - exponent can be positive or negative"
   ]
  },
  {
   "cell_type": "markdown",
   "metadata": {},
   "source": [
    "<br>\n",
    "\n",
    "**Excess-N (or Biased) Representation**\n",
    "\n",
    "- used to store exponents of the normalized binary number\n",
    "- IEEE-754 uses excess-$(2^{N−1} − 1)$ where $N$ is the number of bits\n",
    "- all 0s corresponds to the minimal negative value and all 1s to the maximal positive value\n",
    " - range of numbers is from $-(2^{N-1} - 1)$ to $(2^{N-1})$"
   ]
  },
  {
   "cell_type": "markdown",
   "metadata": {},
   "source": [
    "<br>\n",
    "\n",
    "*Example:* Different representations of 3-bit cell"
   ]
  },
  {
   "cell_type": "markdown",
   "metadata": {
    "jupyter": {
     "source_hidden": true
    }
   },
   "source": [
    "| Decimal | Two's Complement | Excess 3 |\n",
    "| ------- | ---------------- | -------- |\n",
    "|   -4    |       100        |          |\n",
    "|   -3    |       101        |    000   |\n",
    "|   -2    |       110        |    001   |\n",
    "|   -1    |       111        |    010   |\n",
    "|    0    |       000        |    011   |\n",
    "|    1    |       001        |    100   |\n",
    "|    2    |       010        |    101   |\n",
    "|    3    |       011        |    110   |\n",
    "|    4    |                  |    111   |"
   ]
  },
  {
   "cell_type": "markdown",
   "metadata": {},
   "source": [
    "<br>\n",
    "\n",
    "*Example:* Biased representation of 5-bit cell"
   ]
  },
  {
   "cell_type": "markdown",
   "metadata": {},
   "source": [
    "<br>\n",
    "\n",
    "**Convert from decimal to excess-N**\n",
    "\n",
    "How?"
   ]
  },
  {
   "cell_type": "markdown",
   "metadata": {
    "jupyter": {
     "source_hidden": true
    }
   },
   "source": [
    "1. Add $N$ to the decimal value\n",
    "2. then convert to binary as you would an unsigned number"
   ]
  },
  {
   "cell_type": "markdown",
   "metadata": {},
   "source": [
    "*Example*: Convert 5 from decimal to excess-15."
   ]
  },
  {
   "cell_type": "markdown",
   "metadata": {
    "jupyter": {
     "source_hidden": true
    }
   },
   "source": [
    "- Add $5 + 15 = 20$.\n",
    "- Then convert $20$ to binary as if it were unsigned, $20$ (dec) = $10100$ (bin).\n",
    "- Therefore, $5$ (dec) = $10100$ (excess-$15$).\n",
    "- Note the first bit is 1, indicating a positive value."
   ]
  },
  {
   "cell_type": "markdown",
   "metadata": {},
   "source": [
    "<br>\n",
    "\n",
    "**Convert from excess-N to decimal**\n",
    "\n",
    "How?"
   ]
  },
  {
   "cell_type": "markdown",
   "metadata": {
    "jupyter": {
     "source_hidden": true
    }
   },
   "source": [
    "1. Write the decimal value as if it were an unsigned number\n",
    "2. subtract $N$ from it"
   ]
  },
  {
   "cell_type": "markdown",
   "metadata": {},
   "source": [
    "*Example*: Convert $00011$ from excess-15 to decimal."
   ]
  },
  {
   "cell_type": "markdown",
   "metadata": {
    "jupyter": {
     "source_hidden": true
    }
   },
   "source": [
    "- Convert $00011$ as an unsigned value, $00011$ (bin) = $3$ (dec).\n",
    "- Then subtract decimal values $3 – 15 = –12$.\n",
    "- Therefore, $00011$ (excess-15) = $–12$ (dec)."
   ]
  },
  {
   "cell_type": "markdown",
   "metadata": {},
   "source": [
    "<br>\n",
    "\n",
    "**The Hidden Bit**\n",
    "\n",
    "Numbers are stored normalized. Therefore:"
   ]
  },
  {
   "cell_type": "markdown",
   "metadata": {
    "jupyter": {
     "source_hidden": true
    }
   },
   "source": [
    "- no bit required for storing the binary point\n",
    "- no bit required for storing the leading $1$ to the left of the binary point (**hidden bit**)"
   ]
  },
  {
   "cell_type": "markdown",
   "metadata": {},
   "source": [
    "<br>\n",
    "\n",
    "**Decimal value in floating point representation**"
   ]
  },
  {
   "cell_type": "markdown",
   "metadata": {},
   "source": [
    "1. Store the sign bit\n",
    "2. Convert value to binary\n",
    "3. Write in normalized scientific notation form\n",
    "4. Store the exponent in excess representation\n",
    "5. Drop the leading 1 to the left of the binary point\n",
    "6. Store the remaining bits of the magnitude in the significand or mantissa"
   ]
  },
  {
   "cell_type": "markdown",
   "metadata": {},
   "source": [
    "*Example*: Assuming a three-bit exponent using excess-3 and a four-bit significand, how is the number $3.375$ stored?"
   ]
  },
  {
   "cell_type": "markdown",
   "metadata": {},
   "source": [
    "<br>\n",
    "\n",
    "Note: the hidden bit is assumed, not ignored\n",
    "- When a decimal floating point value is read from memory, the compiler assumes that the hidden bit is not stored\n",
    "- Then, it generates code to insert the hidden bit before it performs any computation with the full number of bits"
   ]
  },
  {
   "cell_type": "markdown",
   "metadata": {},
   "source": [
    "<br>\n",
    "\n",
    "**Rounding binary numbers**\n",
    "\n",
    "- every memory cell has a finite number of bits\n",
    "- system approximates by rounding off the least significant bits it must discard using a rule called “round to nearest, ties to even.\n",
    "\n",
    "*Example*:"
   ]
  },
  {
   "cell_type": "markdown",
   "metadata": {
    "jupyter": {
     "source_hidden": true
    }
   },
   "source": [
    "Decimal Rounding \n",
    "\n",
    "| Decimal | Decimal Rounded |\n",
    "|:------- |:--------------- |\n",
    "| 23.499  |       23        | \n",
    "| 23.5    |       24        | \n",
    "| 23.501  |       24        | \n",
    "| 24.499  |       24        | \n",
    "| 24.5    |       25        | \n",
    "| 24.501  |       25        | \n",
    "\n",
    "<br>\n",
    "\n",
    "Binary Rounding\n",
    "\n",
    "| Binary    | Binary Rounded |\n",
    "|:--------  |:-------------- |\n",
    "| 10111.011 | 10111          |\n",
    "| 10111.1   | 11000          |\n",
    "| 10111.100 | 11000          |\n",
    "| 11000.011 | 11000          |\n",
    "| 11000.1   | 11000          |\n",
    "| 11000.100 | 11000          |\n",
    "\n",
    "Note:\n",
    "- round off $23.499$ to $23$ because $23.499$ is closer to $23$ than it is to $24$\n",
    "- round off $23.501$ to $24$ because $23.501$ is closer to $24$ than it is to $23$\n",
    "- round off $23.5$ to $24$ because $24$ is even, despite $23.5$ being just as close to $23$ as it is to $24$\n",
    "- round off binary $10111.1$ to $11000$ because $11000$ is even, despite being just as close to $10111$ as it is to $11000$"
   ]
  },
  {
   "cell_type": "markdown",
   "metadata": {},
   "source": [
    "*Exercise:* Assuming a three-bit exponent using excess-$3$ and a four-bit significand, how is the number $–13.75$ stored?"
   ]
  },
  {
   "cell_type": "markdown",
   "metadata": {},
   "source": [
    "<br>\n",
    "\n",
    "**Special Values**\n",
    "\n",
    "- some real values require special treatment\n",
    "- the most obvious is **Zero**\n",
    " - all 0s in significand and exponent\n",
    "- positive or negative zero depending on sign bit\n",
    "\n",
    "*Example 1*: Assuming a three-bit exponent using excess-$3$  and a four-bit significand, what is the <u>smallest positive value possible</u> in binary and decimal?"
   ]
  },
  {
   "cell_type": "markdown",
   "metadata": {},
   "source": [
    "<br>\n",
    "\n",
    "*Example 2*: Assuming a three-bit exponent using excess-$3$  and a four-bit significand, what is the <u>largest negative value possible</u> in binary and decimal?"
   ]
  },
  {
   "cell_type": "markdown",
   "metadata": {},
   "source": [
    "<br>\n",
    "\n",
    "*Example 3*: Assuming a three-bit exponent using excess-$3$  and a four-bit significand, what is the <u>largest positive value possible</u> in binary and decimal?"
   ]
  },
  {
   "cell_type": "markdown",
   "metadata": {},
   "source": [
    "<br>\n",
    "\n",
    "From the examples above, we can represent the special numbers in a number line."
   ]
  },
  {
   "cell_type": "markdown",
   "metadata": {
    "jupyter": {
     "source_hidden": true
    }
   },
   "source": [
    "![img](https://i.ibb.co/56wws9m/1.png)\n",
    "\n",
    "if $9.5\\times 12.0$, both of which are in range\n",
    "- true value is $114.0$\n",
    "- but is in the positive overflow region\n",
    "\n",
    "if $0.145\\times 0.145$, both of which are in range\n",
    "- true value is $0.021025$\n",
    "- but is in the positive underflow region\n",
    "\n",
    "Therefore, to alleviate overflow and underflow problem, need to introduce more special characters:"
   ]
  },
  {
   "cell_type": "markdown",
   "metadata": {
    "jupyter": {
     "source_hidden": true
    }
   },
   "source": [
    "| Special Value      | Exponent  | Significand |\n",
    "| ------------------ | --------- | ----------- |\n",
    "| Zero               | All zeros | All zeros   |\n",
    "| Denormalized       | All zeros | Non-zero    |\n",
    "| Infinity           | All ones  | All zeros   |\n",
    "| Not a Number (NaN) | All ones  | Non-zero    |"
   ]
  },
  {
   "cell_type": "markdown",
   "metadata": {},
   "source": [
    "<br>\n",
    "\n",
    "**Infinity**\n",
    "\n",
    "- used for values that are in the overflow regions\n",
    "\n",
    "- if the result of an operation overflows, the bit pattern for infinity is stored\n",
    "\n",
    "- further operations on this bit pattern, will produce the expected result for an infinite value.  \n",
    " Examples include:"
   ]
  },
  {
   "cell_type": "markdown",
   "metadata": {
    "jupyter": {
     "source_hidden": true
    }
   },
   "source": [
    "$\\qquad \\frac{3}{\\infty} = 0$  \n",
    "\n",
    "$\\qquad 5 + \\infty = \\infty$  \n",
    "\n",
    "$\\qquad \\sqrt{\\infty} = \\infty$  "
   ]
  },
  {
   "cell_type": "markdown",
   "metadata": {},
   "source": [
    "<br>\n",
    "\n",
    "- can produce infinity by dividing by 0.\n",
    "  Examples include:"
   ]
  },
  {
   "cell_type": "markdown",
   "metadata": {
    "jupyter": {
     "source_hidden": true
    }
   },
   "source": [
    "$\\qquad \\frac{3}{0} = \\infty$  \n",
    "\n",
    "$\\qquad \\frac{–4}{0} = -{\\infty}$"
   ]
  },
  {
   "cell_type": "markdown",
   "metadata": {},
   "source": [
    "<br>\n",
    "\n",
    "**Not a Number (NaN)**\n",
    "- bit pattern for a value that is not a number\n",
    "\n",
    "- used to indicate floating point operations that are illegal  \n",
    " Examples include:  "
   ]
  },
  {
   "cell_type": "markdown",
   "metadata": {
    "jupyter": {
     "source_hidden": true
    }
   },
   "source": [
    "$\\qquad \\sqrt{-1}$  \n",
    "\n",
    "$\\qquad \\frac{0}{0}$"
   ]
  },
  {
   "cell_type": "markdown",
   "metadata": {},
   "source": [
    "<br>\n",
    "\n",
    "- Any floating point operation with at least one NaN operand produces NaN  \n",
    " Examples include:"
   ]
  },
  {
   "cell_type": "markdown",
   "metadata": {
    "jupyter": {
     "source_hidden": true
    }
   },
   "source": [
    "$\\qquad 7 + \\text{NaN} = \\text{NaN}$\n",
    "\n",
    "$\\qquad \\frac{7}{\\text{NaN}} = \\text{NaN}$"
   ]
  },
  {
   "cell_type": "markdown",
   "metadata": {},
   "source": [
    "Note:\n",
    "- both infinity and NaN use the largest possible value of the exponent for their bit patterns i.e. exponent field is all $1$s\n",
    "\n",
    "- significand is all $0$s for infinity\n",
    "\n",
    "- significand is any nonzero pattern for NaN\n",
    "\n",
    "- Reserving these bit patterns for infinity and NaN has the effect of reducing the range of values that can be stored\n",
    " - *Example*: For a three-bit exponent and four-bit significand, the bit patterns for the largest magnitudes and their decimal values are:"
   ]
  },
  {
   "cell_type": "markdown",
   "metadata": {
    "jupyter": {
     "source_hidden": true
    }
   },
   "source": [
    "$1\\ 111\\ 0000\\ \\text{(bin)} = -\\infty$\n",
    "\n",
    "$1\\ 110\\ 1111\\ \\text{(bin)} = -15.5$\n",
    "\n",
    "$0\\ 110\\ 1111\\ \\text{(bin)} = +15.5$\n",
    "\n",
    "$0\\ 111\\ 0000\\ \\text{(bin)} = +\\infty$"
   ]
  },
  {
   "cell_type": "markdown",
   "metadata": {},
   "source": [
    "<br>\n",
    "\n",
    "**Denormalized Numbers**\n",
    "\n",
    "- used to alleviate underflow problem"
   ]
  },
  {
   "cell_type": "markdown",
   "metadata": {},
   "source": [
    "![img](https://i.ibb.co/PW34t1v/1.png)\n",
    "\n",
    "Figure shows three complete sequences of values for exponent fields of $000$, $001$, and $010$ (excess-3), which represent $–3$, $–2$, and $–1$ (dec), respectively.\n",
    " - $2^{-3} = 0.125$\n",
    " - $2^{-2} = 0.25$\n",
    " - $2^{-1} = 0.5$\n",
    " \n",
    "For normalized numbers in general,\n",
    "- the gap between successive values doubles with each unit increase of the exponent\n",
    "- the gap between $+0.0$ and the smallest positive value is excessive compared to the gaps in the smallest sequence. \n",
    " \n",
    "With denormalized special values,\n",
    "- the gap between successive values for the first sequence equal to the gap between successive values for the second sequence\n",
    "- the gap between $+0.0$ and the smallest positive value is reduced considerably\n",
    "- values are evenly spaced as they approach +0.0 from the right\n",
    "- similarly, on the left half of the number line (not shown in figure), the negative values are spread out evenly as they approach –0.0 from the left.\n",
    "- this is known as *gradual underflow*\n",
    "- idea is to take nonzero values that would be stored with an exponent field of all 0s (in excess representation) and distribute them evenly in the underflow gap.\n",
    "- since the exponent field of all 0s is reserved for denormalized numbers, the smallest positive normalized number becomes $0\\ 001\\ 0000 = 1.000 \\times 2^{-2} \\text{(bin)} = 0.25 \\text{(dec)}$"
   ]
  },
  {
   "cell_type": "markdown",
   "metadata": {},
   "source": [
    "**Representation rules for denormalized numbers**"
   ]
  },
  {
   "cell_type": "markdown",
   "metadata": {},
   "source": [
    "1. The hidden bit to the left of the binary point is assumed to be 0 instead of 1\n",
    "2. The exponent is assumed to be stored in excess-(N-1) instead of excess-N\n",
    "\n",
    "*Example 1*: For a representation with a three-bit exponent and four-bit significand, what decimal value is represented by $0\\ 000\\ 0110$?"
   ]
  },
  {
   "cell_type": "markdown",
   "metadata": {},
   "source": [
    "<br>\n",
    "\n",
    "*Example 2*: For a representation with a three-bit exponent and four-bit significand, what is the <u>smallest denormalized positive value possible</u> in binary and decimal?"
   ]
  },
  {
   "cell_type": "markdown",
   "metadata": {},
   "source": [
    "<br>\n",
    "\n",
    "With denormalization, to convert from decimal to binary you must first check if a decimal value is in the denormalized range to determine its representation\n",
    "\n",
    "For a three-bit exponent and a four-bit significand,\n",
    "- the smallest positive normalized value is $0\\ 001\\ 0000 = 1.0000\\times 2^{-2} = 0.25$ (dec)\n",
    "- any value less than $0.25$ is stored in denormalized format\n",
    "\n",
    "*Example 3*: For a representation with a three-bit exponent and four-bit significand, how is the decimal value –0.078 stored?"
   ]
  },
  {
   "cell_type": "markdown",
   "metadata": {},
   "source": [
    "<br>\n",
    "\n",
    "## The IEEE 754 Floating-Point Standard\n",
    "\n",
    "- Institute of Electrical and Electronic Engineers. Inc (IEEE)\n",
    "- a society made up of professionals across engineering fields including computer engineering\n",
    "- propose standards for floating point numbers\n",
    "- virtually every computer manufacturer now provides floating point numbers for their computers that confirm to IEEE 754 standard\n",
    "\n",
    "Two formats:"
   ]
  },
  {
   "cell_type": "markdown",
   "metadata": {},
   "source": [
    "1. **single precision (32-bit system)**\n",
    "  - 1-bit sign\n",
    "  - 8-bits exponent using excess-127 (except denormalized numbers which use excess-126)\n",
    "  - 23-bits significand\n",
    "  - has the following bit values:\n",
    "    - Positive infinity is $0\\ 1111\\ 1111\\ 000\\ 0000\\ 0000\\ 0000\\ 0000\\ 0000\\$.\n",
    "\n",
    "    - The hex values for the full 32-bit pattern arranges the bits into groups of four  \n",
    "     e.g. $0111\\ 1111\\ 1000\\ 0000\\ 0000\\ 0000\\ 0000\\ 0000$ can be written as $7F80\\ 0000$ (hex).\n",
    " \n",
    "    - The largest positive value is $0\\ 1111\\ 1110\\ 111\\ 1111\\ 1111\\ 1111\\ 1111\\ 1111$ or $7F7F\\ FFFF$ (hex).  \n",
    "     It is exactly $2^{128} – 2^{104}$, which is approximately $2^{128}$ or $3.4 × 10^{38}$.\n",
    " \n",
    "    - The smallest positive normalized number is $0\\ 0000\\ 0001\\ 000\\ 0000\\ 0000\\ 0000\\ 0000\\ 0000$ or $0000\\ 0001$ (hex).  \n",
    "     It is exactly $2^{-149}$, which is approximately $1.4 × 10^{–45}$.\n",
    "\n",
    "<br>\n",
    "\n",
    "2. **double prevision (64-bit system)**\n",
    "  - 1-bit sign\n",
    "  - 11-bit exponent using excess-1023 (except denormalized numbers which use excess-1022)\n",
    "  - 52-bit significand\n",
    "  - has both wider range and greater precision because of the larger exponent and significand fields\n",
    "  - has the following bit values:\n",
    "    - The largest positive value is approximately $2^{1023}$, or $1.8\\times 10^{308}$.\n",
    "   \n",
    "    - The smallest positive normalized number is approximately $2.2\\times 10^{-308}$.\n",
    "   \n",
    "    - The smallest denormalized number is approximately $4.9\\times 10^{-324}$.\n",
    "  \n",
    "<br>\n",
    "  \n",
    "![img](https://i.ibb.co/ftCmSWY/1.png)\n",
    "\n"
   ]
  },
  {
   "cell_type": "markdown",
   "metadata": {},
   "source": [
    "<br>\n",
    "\n",
    "*Exercise 1*: What is the hexadecimal representation of $-47.25$ in single-precision floating point?"
   ]
  },
  {
   "cell_type": "markdown",
   "metadata": {},
   "source": [
    "<br>\n",
    "\n",
    "*Exercise 2*: What is the number, as written in binary scientific notation, whose hexadecimal representation is $3CC8\\ 0000$?"
   ]
  },
  {
   "cell_type": "markdown",
   "metadata": {},
   "source": [
    "<br>\n",
    "\n",
    "*Exercise 3*: What is the number, as written in binary scientific notation, whose hexadecimal representation is $0050\\ 0000$?"
   ]
  },
  {
   "cell_type": "markdown",
   "metadata": {},
   "source": [
    "---\n",
    "## References\n",
    "\n",
    "<br>\n",
    "\n",
    "Hyde, R. (2012). *Write Great Code, Volume 1*. O'Reilly Media, Inc.\n",
    "\n",
    "Kahan, W. (1997). *Lecture Notes on the Status of IEEE Standard 754 for Binary Floating-Point Arithmetic*. University of California.\n",
    "\n",
    "Linda, N. (2018). *Essentials of computer organization and architecture* (Fifth edition.). Jones & Bartlett Learning, LLC.\n",
    "\n",
    "Dale, N. (2016). *Computer science illuminated* (Sixth edition). Jones & Bartlett Learning, LLC.\n",
    "\n",
    "Warford, J. S. (2017). *Computer systems* (Fifth edition). O'Reilly Media, Inc."
   ]
  }
 ],
 "metadata": {
  "kernelspec": {
   "display_name": "Python 3",
   "language": "python",
   "name": "python3"
  },
  "language_info": {
   "codemirror_mode": {
    "name": "ipython",
    "version": 3
   },
   "file_extension": ".py",
   "mimetype": "text/x-python",
   "name": "python",
   "nbconvert_exporter": "python",
   "pygments_lexer": "ipython3",
   "version": "3.8.3"
  }
 },
 "nbformat": 4,
 "nbformat_minor": 4
}
