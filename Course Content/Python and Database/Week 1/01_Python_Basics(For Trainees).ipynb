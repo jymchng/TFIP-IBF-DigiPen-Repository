{
 "cells": [
  {
   "cell_type": "markdown",
   "metadata": {},
   "source": [
    "# Recap\n",
    "---\n",
    "\n",
    "### Numeral Systems and Storing Data in Memory\n",
    "\n",
    "#### Binary, Octal, Decimal, Hexadecimal\n",
    "\n",
    "| Base-2<br>(Binary) | Base-8<br>(Octal) | Base-10<br>(Decimal) | Base-16<br>(Hexadecimal) |\n",
    "|:------:|:-----:|:-------:|:-----------:|\n",
    "|  0     |   0   |    0    |      0      |\n",
    "|  1     |   1   |    1    |      1      |\n",
    "|  10    |   2   |    2    |      2      |\n",
    "|  11    |   3   |    3    |      3      |\n",
    "|  100   |   4   |    4    |      4      |\n",
    "|  101   |   5   |    5    |      5      |\n",
    "|  110   |   6   |    6    |      6      |\n",
    "|  111   |   7   |    7    |      7      |\n",
    "|  1000  |   10  |    8    |      8      |\n",
    "|  1001  |   11  |    9    |      9      |\n",
    "|  1010  |   12  |    10   |      A      |\n",
    "|  1011  |   13  |    11   |      B      |\n",
    "|  1100  |   14  |    12   |      C      |\n",
    "|  1101  |   15  |    13   |      D      |\n",
    "|  1110  |   16  |    14   |      E      |\n",
    "|  1111  |   17  |    15   |      F      |\n",
    "|  10000 |   20  |    16   |      10     |\n",
    "\n",
    "<br>\n",
    "\n",
    "**Converting Binary to Octal**\n",
    "\n",
    "- Split into groups of threes and convert using table.\n",
    "\n",
    "*Example 1*: $111101100_2$ to Octal  \n",
    "\n",
    "![img](https://learning.oreilly.com/library/view/computer-science-illuminated/9781284055917/images/pg73-1.jpg)\n",
    "\n",
    "*Example 2*: $101010111100_2$ to Octal\n",
    "![img](https://learning.oreilly.com/library/view/computer-science-illuminated/9781284055917/images/pg74-2.jpg)"
   ]
  },
  {
   "cell_type": "markdown",
   "metadata": {},
   "source": [
    "<br>\n",
    "\n",
    "**Converting Binary to Decimal**\n",
    "\n",
    "1. Use base-2 positional notation\n",
    "\n",
    "*Example 1*: $1010110_2$ to Decimal using base-2 positional table"
   ]
  },
  {
   "cell_type": "markdown",
   "metadata": {},
   "source": [
    "$(1*10^6) + (0*10^5) + (1*10^4) + (0*10^3) + (1*10^2) + (1*10^1) + (0*10^0) = 86_{10}$"
   ]
  },
  {
   "cell_type": "markdown",
   "metadata": {},
   "source": [
    "2. Alternatively, convert to octal or hexadecimal first, then using their respective positional notation\n",
    "\n",
    "*Example 2a*: $1010110_2$ to octal then to decimal using base-8 positional notation"
   ]
  },
  {
   "cell_type": "markdown",
   "metadata": {},
   "source": [
    "![img](https://learning.oreilly.com/library/view/computer-science-illuminated/9781284055917/images/pg73-2.jpg)"
   ]
  },
  {
   "cell_type": "markdown",
   "metadata": {},
   "source": [
    "*Example 2b*: $1010110_2$ to hexadecimal then to decimal using base-16 positional notation"
   ]
  },
  {
   "cell_type": "markdown",
   "metadata": {},
   "source": [
    "![img](https://learning.oreilly.com/library/view/computer-science-illuminated/9781284055917/images/pg74-1.jpg)"
   ]
  },
  {
   "cell_type": "markdown",
   "metadata": {},
   "source": [
    "#  Python Fundamentals\n"
   ]
  },
  {
   "cell_type": "markdown",
   "metadata": {},
   "source": [
    "### Topics Covered:\n",
    "- Python Programs\n",
    "\n",
    "- Basics\n",
    "\n",
    "- Commenting in Python\n",
    "\n",
    "- Requesting User Input\n",
    "\n",
    "- References"
   ]
  },
  {
   "cell_type": "markdown",
   "metadata": {},
   "source": [
    "## Introduction\n",
    "- Python is a general purpose high level programming language.\n",
    "- Python was developed by **'Guido Van Rossam'** in 1989 while working at National Research Institute at Netherlands.\n",
    "- But officially Python was made available to public in 1991. The official Date of Birth for Python is : `Feb 20th 1991`.\n",
    "- Python is recommended as first programming language for beginners."
   ]
  },
  {
   "cell_type": "markdown",
   "metadata": {},
   "source": [
    "**Example 1: To print Helloworld**"
   ]
  },
  {
   "cell_type": "code",
   "execution_count": null,
   "metadata": {},
   "outputs": [],
   "source": [
    "#Java:\n",
    "public class HelloWorld\n",
    "{\n",
    " public static void main(String[] args)\n",
    " {\n",
    "  System.out.println(\"Hello world\");\n",
    " }\n",
    "}"
   ]
  },
  {
   "cell_type": "code",
   "execution_count": null,
   "metadata": {},
   "outputs": [],
   "source": [
    "#C:\n",
    "#include<stdio.h>\n",
    "void main()\n",
    "{\n",
    " print(\"Hello world\");\n",
    "}"
   ]
  },
  {
   "cell_type": "code",
   "execution_count": 1,
   "metadata": {
    "ExecuteTime": {
     "end_time": "2020-10-28T01:07:10.665124Z",
     "start_time": "2020-10-28T01:07:10.658150Z"
    }
   },
   "outputs": [
    {
     "name": "stdout",
     "output_type": "stream",
     "text": [
      "Hello World\n",
      "Good morning!\n"
     ]
    }
   ],
   "source": [
    "#Python:\n",
    "print(\"Hello World\")\n",
    "print(\"Good morning!\")"
   ]
  },
  {
   "cell_type": "markdown",
   "metadata": {},
   "source": [
    "**Example 2: To print the sum of 2 numbers**"
   ]
  },
  {
   "cell_type": "code",
   "execution_count": null,
   "metadata": {},
   "outputs": [],
   "source": [
    "#Java\n",
    "public class Add\n",
    "{\n",
    "    public static void main(String[] args)\n",
    "    {\n",
    "        int a,b;\n",
    "        a =10;\n",
    "        b=20;\n",
    "        System.out.println(\"The Sum:\"+(a+b));\n",
    "    }\n",
    "}"
   ]
  },
  {
   "cell_type": "code",
   "execution_count": null,
   "metadata": {},
   "outputs": [],
   "source": [
    "#C:\n",
    "\n",
    "#include <stdio.h>\n",
    "void main()\n",
    "{\n",
    "    int a,b;\n",
    "    a =10;\n",
    "    b=20;\n",
    "    printf(\"The Sum:%d\",(a+b));\n",
    "}"
   ]
  },
  {
   "cell_type": "code",
   "execution_count": null,
   "metadata": {},
   "outputs": [],
   "source": [
    "#Python\n",
    "a=10\n",
    "b=20\n",
    "print(\"The Sum:\",(a+b))"
   ]
  },
  {
   "cell_type": "markdown",
   "metadata": {},
   "source": [
    "**The name Python was selected from the TV Show**  \n",
    "\"`The Complete Monty Python's Circus`\", which was broadcasted in BBC from 1969 to 1974."
   ]
  },
  {
   "cell_type": "markdown",
   "metadata": {},
   "source": [
    "### Guido developed Python language by taking almost all programming features from different languages\n",
    "1. Functional Programming Features from C\n",
    "2. Object Oriented Programming Features from C++\n",
    "3. Scripting Language Features from Perl and Shell Script\n",
    "4. Modular Programming Features from Modula-3"
   ]
  },
  {
   "cell_type": "markdown",
   "metadata": {},
   "source": [
    "### Where we can use Python:\n",
    "We can use everywhere. The most common important application areas are\n",
    "1. For developing Desktop Applications\n",
    "2. For developing web Applications\n",
    "3. For developing database Applications\n",
    "4. For Network Programming\n",
    "5. For developing games\n",
    "6. For Data Analysis Applications\n",
    "7. For Machine Learning\n",
    "8. For developing Artificial Intelligence Applications\n",
    "9. For IOT\n",
    "..."
   ]
  },
  {
   "cell_type": "markdown",
   "metadata": {},
   "source": [
    "**Note:**  \n",
    "Internally Google and Youtube use Python coding  \n",
    "NASA and Nework Stock Exchange Applications developed by Python.  \n",
    "Top Software companies like Google, Microsoft, IBM, Yahoo using Python.  "
   ]
  },
  {
   "cell_type": "markdown",
   "metadata": {},
   "source": [
    "### Python Versions:  \n",
    "Python 1.0V introduced in Jan 1994  \n",
    "Python 2.0V introduced in October 2000  \n",
    "Python 3.0V introduced in December 2008  \n",
    "\n",
    "`Note:` Python 3 won't provide backward compatibility to Python2 i.e there is no guarantee that Python2 programs will run in Python3."
   ]
  },
  {
   "cell_type": "markdown",
   "metadata": {},
   "source": [
    "## Identifiers"
   ]
  },
  {
   "cell_type": "markdown",
   "metadata": {},
   "source": [
    "A name in Python program is called identifier.  \n",
    "It can be class name or function name or module name or variable name.  \n",
    "\n",
    "**a = 10**  \n",
    "\n",
    "**Rules to define identifiers in Python:**  \n",
    "1. The only allowed characters in Python are\n",
    "    1. alphabet symbols(either lower case or upper case)\n",
    "    2. digits(0 to 9)\n",
    "    3. underscore symbol(_)\n",
    "    \n",
    "    By mistake if we are using any other symbol like `$` then we will get syntax error.  \n",
    "        cash = 10     √    \n",
    "        ca$h = 20     x   \n",
    "    \n",
    "2. Identifier should not starts with digit  \n",
    "        123total   X    \n",
    "        total123   √  \n",
    "        \n",
    "3. Identifiers are case sensitive. Of course Python language is case sensitive language.\n",
    "        total=10\n",
    "        TOTAL=999\n",
    "        print(total) # 10\n",
    "        print(TOTAL) # 999\n",
    "\n",
    "\n",
    "**Identifier:**  \n",
    "1. Alphabet Symbols (Either Upper case OR Lower case)\n",
    "2. If Identifier is start with Underscore (_) then it indicates it is private.\n",
    "3. Identifier should not start with Digits.\n",
    "4. Identifiers are case sensitive.\n",
    "5. We cannot use reserved words as identifiers\n",
    "    Eg: def=10 \n",
    "6. There is no length limit for Python identifiers. But not recommended to use too lengthy identifiers.\n",
    "7. Dollor ($) Symbol is not allowed in Python."
   ]
  },
  {
   "cell_type": "markdown",
   "metadata": {},
   "source": [
    "### Q. Which of the following are valid Python identifiers?  \n",
    "\n",
    "| No. | Identifiers | Output |\n",
    "|:---:|:---|:---|\n",
    "| 1. | `123total` | X |\n",
    "| 2. | `total123'` | √ |\n",
    "| 3. | `java2share` | √ |\n",
    "| 4. | `ca$h` | X |\n",
    "| 5. | `_abc_abc_` | √ |\n",
    "| 6. | `def` | X |\n",
    "| 7. | `if` | X |                "
   ]
  },
  {
   "cell_type": "markdown",
   "metadata": {},
   "source": [
    "**Note:**  \n",
    "1. If identifier starts `with _ symbol` then it indicates that it is `private`  \n",
    "2. If identifier starts `with __(two under score symbols)` indicating that `strongly private` identifier.   \n",
    "3. If the identifier `starts and ends with two underscore symbols` then the identifier is language defined special name, which is also known as magic methods.  \n",
    "Ex: `__add__`  "
   ]
  },
  {
   "cell_type": "code",
   "execution_count": null,
   "metadata": {},
   "outputs": [],
   "source": [
    "x,y,z = 1,2,\"abcd\"\n",
    "print(x)\n",
    "print(y)\n",
    "print(z)"
   ]
  },
  {
   "cell_type": "markdown",
   "metadata": {},
   "source": [
    "## Reserved Words"
   ]
  },
  {
   "cell_type": "markdown",
   "metadata": {},
   "source": [
    "**There are 33 reserved words available in Python.**\n",
    "\n",
    "- True, False, None\n",
    "- and, or, not, is\n",
    "- if, elif, else\n",
    "- while, for, break, continue, return, in, yield\n",
    "- try, except, finally, raise, assert\n",
    "- import, from, as, class, def, pass, global, nonlocal, lambda, del, with"
   ]
  },
  {
   "cell_type": "markdown",
   "metadata": {},
   "source": [
    "**Note:**  \n",
    "1. All Reserved words in Python contain only alphabet symbols.  \n",
    "2. Except the following 3 reserved words, all contain only lower case alphabet symbols.  \n",
    "    * True\n",
    "    * False\n",
    "    * None  \n",
    "    \n",
    "Ex: a= true  X  \n",
    "    a= True  √"
   ]
  },
  {
   "cell_type": "code",
   "execution_count": null,
   "metadata": {
    "scrolled": false
   },
   "outputs": [],
   "source": [
    "import keyword\n",
    "keyword.kwlist"
   ]
  },
  {
   "cell_type": "markdown",
   "metadata": {},
   "source": [
    " ## Commenting in Python"
   ]
  },
  {
   "cell_type": "markdown",
   "metadata": {},
   "source": [
    "Commenting codes in programming is very important as it provides a human readable explanation of what the codes or function are used for. Comments are generally ignored by compilers and interpreters provided that the right comment syntax is used.  \n",
    "\n",
    "For Python, comments are done using the hash symbol `(#)` **for single line comments** or enclosed in `triple single or double quotes ( \"\"\" or ''' )` for **multiline comments**."
   ]
  },
  {
   "cell_type": "code",
   "execution_count": null,
   "metadata": {},
   "outputs": [],
   "source": [
    "# this is a single line comment\n",
    "\n",
    "'''\n",
    "This is a multiline\n",
    "comment.\n",
    "'''\n",
    "\n",
    "\"\"\"\n",
    "This is also a multiline\n",
    "comment.\n",
    "\"\"\""
   ]
  },
  {
   "cell_type": "markdown",
   "metadata": {},
   "source": [
    "Comments can be added almost any where within the code and it is advisable to add comments to your code so that you can use it for future reference.\n",
    "\n",
    "In addition to commenting, there will be times where a line of code is too long and we need a way to break it up into multiple lines for ease of reading. To do this, we use the backslash\n",
    "character \\ to tell the interpreter that the line has not concluded or we can also break a line up at the commas."
   ]
  },
  {
   "cell_type": "code",
   "execution_count": null,
   "metadata": {},
   "outputs": [],
   "source": [
    "# for breaking up arithmetic equations\n",
    "result = 1 + 5 + 92 + 14 + 64 + \\\n",
    "5**2 + 9**3 + 2*2\n",
    "\n",
    "# for functions\n",
    "def foo_bar(input_1, input_2, input_3,\n",
    "            input_4, input_5)"
   ]
  },
  {
   "cell_type": "markdown",
   "metadata": {},
   "source": [
    "### Single-line Python comment\n",
    "You might prefer to use a single line Python comment when there is need of short, quick comments for debugging. Single-line comments begin with a pound (#) symbol and automatically ends with an EOL (end of the line)."
   ]
  },
  {
   "cell_type": "code",
   "execution_count": null,
   "metadata": {},
   "outputs": [],
   "source": [
    "# Good code is self-documenting.\n",
    "print(\"Learn Python Step by Step!\")"
   ]
  },
  {
   "cell_type": "markdown",
   "metadata": {},
   "source": [
    "While putting a comment, make sure your comment is at the same indent level as the code beneath it. For example, you might annotate a function definition which doesn’t have any indentation. But the function could have blocks of code indented at multiple levels. So take care of the alignment, when you comment inside the internal code blocks."
   ]
  },
  {
   "cell_type": "code",
   "execution_count": null,
   "metadata": {},
   "outputs": [],
   "source": [
    "# Define a list of months\n",
    "months = ['Jan', 'Feb', 'Mar', 'Apr', 'May', 'Jun', 'Jul','Aug','Sep','Oct','Nov','Dec']\n",
    "\n",
    "# Function to print the calender months\n",
    "def showCalender(months):\n",
    "    # For loop that traverses the list and prints the name of each month\n",
    "    for month in months:\n",
    "        print(month)\n",
    "\n",
    "showCalender(months)"
   ]
  },
  {
   "cell_type": "markdown",
   "metadata": {},
   "source": [
    "### Multiline Python comment\n",
    "Python allows comments to span across multiple lines. Such comments are known as multiline or block comments. You can use this style of commenting to describe something more complicated.  \n",
    "\n",
    "This extended form of comments applies to some or all of the code that follows. Here is an example to use the multiline Python comment.  "
   ]
  },
  {
   "cell_type": "markdown",
   "metadata": {},
   "source": [
    "**Using the hash (#) mark**  \n",
    "To add multiline comments, you should begin each line with the pound (#) symbol followed by a single space. You can divide a comment into paragraphs. Just add an empty line with a hash mark between each para."
   ]
  },
  {
   "cell_type": "code",
   "execution_count": null,
   "metadata": {},
   "outputs": [],
   "source": [
    "# To Learn any language you must follow the below rules.\n",
    "# 1. Know the basic syntax, data types, control structures and conditional statements.\n",
    "# 2. Learn error handling and file I/O.\n",
    "# 3. Read about advanced data structures.\n",
    "# 4. Write functions and follow OOPs concepts.\n",
    "\n",
    "def main():\n",
    "    print(\"Let's start to learn Python.\")\n",
    "..."
   ]
  },
  {
   "cell_type": "markdown",
   "metadata": {},
   "source": [
    "### Docstring in Python (**Bonus Point**)\n",
    "Python has the documentation strings (or docstrings) feature. It gives programmers an easy way of adding quick notes with every Python module, function, class, and method.  \n",
    "\n",
    "You can define a docstring by adding it as a string constant. It must be the first statement in the object’s (module, function, class, and method) definition.  \n",
    "\n",
    "The docstring has a much wider scope than a Python comment. Hence, it should describe what the function does, not how. Also, it is a good practice for all functions of a program to have a docstring.  "
   ]
  },
  {
   "cell_type": "markdown",
   "metadata": {},
   "source": [
    "**How to define docstring in Python?**  \n",
    "\n",
    "You can define a docstring with the help of triple-quotation mark. Add one in the beginning and second at the end of the string. Just like multiline comments, docstring can also overlap to multiple lines."
   ]
  },
  {
   "cell_type": "markdown",
   "metadata": {},
   "source": [
    "**What is the difference between a comment and the docstring?**  \n",
    "\n",
    "The strings beginning with triple quotes are still regular strings except the fact that they could spread to multiple lines. It means they are executable statements. And if they are not labeled, then they will be garbage collected as soon as the code executes."
   ]
  },
  {
   "cell_type": "markdown",
   "metadata": {},
   "source": [
    "The Python interpreter won’t ignore them as it does with the comments. However, if such a string is placed immediately after a function or class definition or on top of a module, then they turn into docstrings. You can access them using the following special variable."
   ]
  },
  {
   "cell_type": "code",
   "execution_count": null,
   "metadata": {},
   "outputs": [],
   "source": [
    "def theFunction():\n",
    "    '''\n",
    "This function demonstrate the use of docstring in Python.\n",
    "    '''\n",
    "    print(\"Python docstrings are not comments.\")\n",
    "\n",
    "print(\"\\nJust printing the docstring value...\")\n",
    "print(theFunction.__doc__)"
   ]
  },
  {
   "cell_type": "code",
   "execution_count": null,
   "metadata": {},
   "outputs": [],
   "source": [
    "\"\"\"This function demonstrate \n",
    "the use of docstring in Python.\"\"\""
   ]
  },
  {
   "cell_type": "markdown",
   "metadata": {},
   "source": [
    "## Requesting User Input"
   ]
  },
  {
   "cell_type": "markdown",
   "metadata": {},
   "source": [
    "In almost all software programs that most of us have used, we would have come across some form of user input. User input is an integral part of most (if not all) software that help its users complete a task. Python is no different, we will be learning to create programs and some of those programs will require some form of user input. To request for user input, we use the function `input(<prompt>)` where <prompt> is the message shown to the user to indicate that their input is required.   \n",
    "\n",
    "An example is as follows:  \n",
    "\n",
    "**user_input = input(\"Enter a letter then press enter.\")**\n",
    "    \n",
    "Pressing the Enter key on the keyboard after entering a value will \"tell\" the `input()` function that the user has finished entering their inputs. The user's input is then stored into the variable called user_input using the `'='` assignment operator. \n",
    "\n",
    "Note that when the `input()` function is used, the program will pause its execution until the Enter key on the keyboard is pressed regardless of whether or not the user has entered a value.\n"
   ]
  },
  {
   "cell_type": "code",
   "execution_count": 2,
   "metadata": {
    "ExecuteTime": {
     "end_time": "2020-10-28T01:35:48.708564Z",
     "start_time": "2020-10-28T01:35:45.683651Z"
    }
   },
   "outputs": [
    {
     "name": "stdout",
     "output_type": "stream",
     "text": [
      "Enter your name Soon Siang\n"
     ]
    }
   ],
   "source": [
    "user_input = input(\"Enter your name \")"
   ]
  },
  {
   "cell_type": "code",
   "execution_count": 3,
   "metadata": {
    "ExecuteTime": {
     "end_time": "2020-10-28T01:35:56.524668Z",
     "start_time": "2020-10-28T01:35:53.474823Z"
    }
   },
   "outputs": [
    {
     "name": "stdout",
     "output_type": "stream",
     "text": [
      "your question herehow are you\n",
      "how are you\n"
     ]
    }
   ],
   "source": [
    "x = input(\"your question here\") # when someone types something here that answer will be saved and be used for later\n",
    "\n",
    "# for example \n",
    "print(x)"
   ]
  },
  {
   "cell_type": "markdown",
   "metadata": {},
   "source": [
    "## Output statements:\n",
    "We can use print() function to display output."
   ]
  },
  {
   "cell_type": "code",
   "execution_count": null,
   "metadata": {},
   "outputs": [],
   "source": [
    "#print() without any argument : Just it prints new line character\n",
    "print()"
   ]
  },
  {
   "cell_type": "code",
   "execution_count": null,
   "metadata": {},
   "outputs": [],
   "source": [
    "print(\"Hello World\")"
   ]
  },
  {
   "cell_type": "code",
   "execution_count": null,
   "metadata": {},
   "outputs": [],
   "source": [
    "#print() with variable number of arguments:\n",
    "a,b,c=10,20,30\n",
    "print(\"The Values are :\",a,b,c)"
   ]
  },
  {
   "cell_type": "code",
   "execution_count": null,
   "metadata": {},
   "outputs": [],
   "source": [
    "#By default output values are seperated by space.If we want we can specify seperator by using \"sep\" attribute\n",
    "a,b,c=10,20,30\n",
    "print(a,b,c,sep=',')\n",
    "print(a,b,c,sep=':')"
   ]
  },
  {
   "cell_type": "code",
   "execution_count": null,
   "metadata": {},
   "outputs": [],
   "source": [
    "#print() with end attribute:\n",
    "print(\"Hello\")\n",
    "print(\"Durga\")\n",
    "print(\"Soft\")\n",
    "print(\"#######################\")\n",
    "#If we want output in the same line with space\n",
    "print(\"Hello\",end=' ')\n",
    "print(\"Durga\",end=' ')\n",
    "print(\"Soft\")"
   ]
  },
  {
   "cell_type": "markdown",
   "metadata": {},
   "source": [
    "**Note:**  \n",
    "The default value for end attribute is `\\n`, which is nothing but new line character."
   ]
  },
  {
   "cell_type": "markdown",
   "metadata": {},
   "source": [
    "# Exercises"
   ]
  },
  {
   "cell_type": "markdown",
   "metadata": {},
   "source": [
    "**Q. Write a python program to take Fahrenheit as a user input and convert it into Celsius problem.**"
   ]
  },
  {
   "cell_type": "code",
   "execution_count": 16,
   "metadata": {
    "ExecuteTime": {
     "end_time": "2020-10-28T01:49:29.306435Z",
     "start_time": "2020-10-28T01:49:27.663826Z"
    }
   },
   "outputs": [
    {
     "name": "stdout",
     "output_type": "stream",
     "text": [
      "Please enter your temperature in Fahrenheit. \n",
      "55\n",
      "Your temperature in Celsius is: 12.78\n"
     ]
    }
   ],
   "source": [
    "a = input(\"Please enter your temperature in Fahrenheit. \\n\")\n",
    "print(\"Your temperature in Celsius is: {:.2f}\".format((float(a)-32)*5/9))"
   ]
  },
  {
   "cell_type": "markdown",
   "metadata": {},
   "source": [
    "**Q. Write a python program to read two integer from user and perform multiplication operaton on it and display the result.**"
   ]
  },
  {
   "cell_type": "code",
   "execution_count": 21,
   "metadata": {
    "ExecuteTime": {
     "end_time": "2020-10-28T01:57:01.303148Z",
     "start_time": "2020-10-28T01:56:56.876980Z"
    }
   },
   "outputs": [
    {
     "name": "stdout",
     "output_type": "stream",
     "text": [
      "Please input first digit.56\n",
      "Please input second digit.4\n",
      "Their multiplication is:  224\n"
     ]
    }
   ],
   "source": [
    "a = input(\"Please input first digit.\")\n",
    "b = input(\"Please input second digit.\")\n",
    "print(\"Their multiplication is: \", (int(a)*int(b)))"
   ]
  },
  {
   "cell_type": "markdown",
   "metadata": {},
   "source": [
    "**Q. Display “My Name Is James” as “My!!Name!!Is!!James” using output formatting of a print() function**"
   ]
  },
  {
   "cell_type": "code",
   "execution_count": 18,
   "metadata": {
    "ExecuteTime": {
     "end_time": "2020-10-28T01:53:29.390673Z",
     "start_time": "2020-10-28T01:53:29.385688Z"
    }
   },
   "outputs": [
    {
     "name": "stdout",
     "output_type": "stream",
     "text": [
      "My!!Name!!Is!!James\n"
     ]
    }
   ],
   "source": [
    "print(\"My\",\"Name\",\"Is\",\"James\", sep=\"!!\")"
   ]
  },
  {
   "cell_type": "markdown",
   "metadata": {},
   "source": [
    "## Summary:"
   ]
  },
  {
   "cell_type": "markdown",
   "metadata": {},
   "source": [
    "- Python basics\n",
    "- Python features\n",
    "- How to define identifiers in python\n",
    "- How to do commenting in python\n",
    "- What are the reserved words available in python\n",
    "- Input and output statements in python"
   ]
  }
 ],
 "metadata": {
  "kernelspec": {
   "display_name": "Python 3",
   "language": "python",
   "name": "python3"
  },
  "language_info": {
   "codemirror_mode": {
    "name": "ipython",
    "version": 3
   },
   "file_extension": ".py",
   "mimetype": "text/x-python",
   "name": "python",
   "nbconvert_exporter": "python",
   "pygments_lexer": "ipython3",
   "version": "3.8.3"
  }
 },
 "nbformat": 4,
 "nbformat_minor": 2
}
