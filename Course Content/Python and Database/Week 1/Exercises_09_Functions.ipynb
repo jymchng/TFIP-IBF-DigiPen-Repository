{
 "cells": [
  {
   "cell_type": "markdown",
   "metadata": {},
   "source": [
    "# Python Functions Exercise"
   ]
  },
  {
   "cell_type": "markdown",
   "metadata": {},
   "source": [
    "## Write codes based on the questions\n",
    "---\n",
    "\n",
    "In this exercise, we are going to revisit problems from the previous exercises and convert them into functions with additions therefore if you have not finish the previous exercises, you can finish some of them here.\n",
    "\n",
    "<br>\n",
    "\n",
    "(DONE) **Q1)** *From exercise on Conditionals Q1*    \n",
    "Write a function called `find_largest_num()` that has 3 input arguments (`num1`, `num2` and `num3`) and return the largest number among the 3 input arguments. The 3 input integers will be provided by the user. Remember to include the function docstring."
   ]
  },
  {
   "cell_type": "code",
   "execution_count": 3,
   "metadata": {
    "ExecuteTime": {
     "end_time": "2020-10-30T05:41:49.319533Z",
     "start_time": "2020-10-30T05:41:49.305570Z"
    }
   },
   "outputs": [
    {
     "data": {
      "text/plain": [
       "5"
      ]
     },
     "execution_count": 3,
     "metadata": {},
     "output_type": "execute_result"
    }
   ],
   "source": [
    "def find_largest_num(num1, num2, num3):\n",
    "    \"\"\"\n",
    "    Inputs\n",
    "    ---\n",
    "    \n",
    "    num1: number\n",
    "    num2: number\n",
    "    num3: number\n",
    "    \n",
    "    Output\n",
    "    ---\n",
    "    \n",
    "    largest: number\n",
    "    \"\"\"\n",
    "    \n",
    "    maxnum = num1\n",
    "    if num2>num1:\n",
    "        maxnum=num2\n",
    "    if num3>num1:\n",
    "        maxnum=num3\n",
    "    \n",
    "    return maxnum\n",
    "\n",
    "find_largest_num(4, 5, 3)"
   ]
  },
  {
   "cell_type": "markdown",
   "metadata": {},
   "source": [
    "(DONE) **Q2)** *From exercise on Conditionals Q5*    \n",
    "Write a function called `cal_quadratic_eqn()` that has 3 input arguments (`a`, `b` and `c`) and return 3 outputs (a boolean and 2 floats). \n",
    "\n",
    "$$\n",
    "\\frac{-b\\pm \\sqrt{b^{2}-4ac}}{2a}\n",
    "$$\n",
    "\n",
    "The function must clearly reflect the following:\n",
    "* calculates the roots return 3 values\n",
    "* `True` to indicate a successful calculation and `False` for unsuccessful calculation\n",
    "* 2 roots (regardless of whether they are same or different) upon successful calculation\n",
    "* return 2 zeroes when the roots are complex\n",
    "* check that input `a` cannot be 0. If it is, return `False` and 2 zeroes \n",
    "\n",
    "The program must clearly reflect the following:\n",
    "* print nice messages for the users\n",
    "\n",
    "**Program Output Example**\n",
    "<pre>\n",
    "Enter a number for variable a: 5\n",
    "Enter a number for variable b: 6\n",
    "Enter a number for variable c: 1\n",
    "\n",
    "The first root is  -0.2\n",
    "The second root is  -1.0\n",
    "</pre>"
   ]
  },
  {
   "cell_type": "code",
   "execution_count": 84,
   "metadata": {
    "ExecuteTime": {
     "end_time": "2020-10-30T07:17:26.713750Z",
     "start_time": "2020-10-30T07:17:24.496679Z"
    }
   },
   "outputs": [
    {
     "name": "stdout",
     "output_type": "stream",
     "text": [
      "Enter 'a' 5\n",
      "Enter 'b' 6\n",
      "Enter 'c' 1\n",
      "The roots are -0.20 and -1.00\n"
     ]
    }
   ],
   "source": [
    "from math import sqrt\n",
    "\n",
    "a,b,c=float(input(\"Enter 'a' \")),float(input(\"Enter 'b' \")),float(input(\"Enter 'c' \"))\n",
    "\n",
    "def cal_quadratic_eqn(a, b, c):\n",
    "    \n",
    "    if abs(b**2-4*a*c)<1e-7:\n",
    "        return -b/(2*a), -b/(2*a), True\n",
    "    if b**2-4*a*c>0:\n",
    "        return ((-b+sqrt(b**2-4*a*c))/(2*a)), ((-b-sqrt(b**2-4*a*c))/(2*a)), True\n",
    "    if b**2-4*a*c<0:\n",
    "        return 0, 0, False\n",
    "\n",
    "if cal_quadratic_eqn(a, b, c)[2]:\n",
    "    print(f\"The roots are {cal_quadratic_eqn(a, b, c)[0]:.2f} and {cal_quadratic_eqn(a, b, c)[1]:.2f}\")\n",
    "else:\n",
    "    print(\"The roots are complex.\")"
   ]
  },
  {
   "cell_type": "markdown",
   "metadata": {},
   "source": [
    "(DONE) **Q3)** Write a function `cal()` such that it can accept two variables (`a`,`b`) and calculate the addition, subtraction, multiplication and floor division from it. The numbers can either be positive or negative but **not floats**. The function also have the following properties.\n",
    "* It must return all 4 calculation results in the order of addition, subtraction, multiplication and floor division when calculation is successful.\n",
    "* Only variable `a` is to have the default value of `5`.\n",
    "* The function is to check that the variable `b` is 0. if it is, return 4 `None`s.\n",
    "\n",
    "The program is to accept user inputs for the variables (`a`, `b`), call the function and print messages based on the function return results. Remember since variable `b` is required, users are allowed to leave the first number input blank.\n",
    "\n",
    "**Program Output Example**\n",
    "<pre>\n",
    "Enter 1st number:  \n",
    "Enter 2nd number:  1\n",
    "\n",
    "The addition of  and 1  is:  6\n",
    "The subtraction of  and 1  is:  4\n",
    "The multiplication of  and 1  is:  5\n",
    "The floor division of  and 1  is:  5\n",
    "\n",
    "Enter 1st number:  8\n",
    "Enter 2nd number:  0\n",
    "\n",
    "The second number cannot be zero!\n",
    "</pre>"
   ]
  },
  {
   "cell_type": "code",
   "execution_count": 75,
   "metadata": {
    "ExecuteTime": {
     "end_time": "2020-10-30T07:02:10.672569Z",
     "start_time": "2020-10-30T07:02:07.688516Z"
    }
   },
   "outputs": [
    {
     "name": "stdout",
     "output_type": "stream",
     "text": [
      "Enter 1st number: 9\n",
      "Enter 2nd number: 0\n",
      "The second number cannot be zero!\n"
     ]
    },
    {
     "data": {
      "text/plain": [
       "(None, None, None, None)"
      ]
     },
     "execution_count": 75,
     "metadata": {},
     "output_type": "execute_result"
    }
   ],
   "source": [
    "num1 = int(input(\"Enter 1st number: \"))\n",
    "num2 = int(input(\"Enter 2nd number: \"))\n",
    "cal(num1,num2)\n",
    "def cal(num1, num2):\n",
    "    if not num2:\n",
    "        return None, None, None, None\n",
    "    else:\n",
    "        return num1+num2, num1-num2, num1*num2, num1//num2\n",
    "\n",
    "if cal(num1,num2)[0]:\n",
    "    print(f\"The addition of {num1} and {num2} is: \", cal(num1,num2)[0])\n",
    "    print(f\"The substration of {num1} and {num2} is: \", cal(num1,num2)[1])\n",
    "    print(f\"The multiplication of {num1} and {num2} is: \",cal(num1,num2)[2])\n",
    "    print(f\"The floor division of {num1} and {num2} is: \", cal(num1,num2)[3])\n",
    "else:\n",
    "    print(\"The second number cannot be zero!\")\n",
    "cal(num1,num2)"
   ]
  },
  {
   "cell_type": "markdown",
   "metadata": {},
   "source": [
    "(DONE) **Q4)** *From exercise on Loops Q2*    \n",
    "Write a function called `sum_average_running_int()` to sum up a range of 2 positive integer numbers. The function accepts 2 input arguments call `lower_bound` with a default value of 1 and `upper_bound` with a default value of 50. It returns the sum and the average of the numbers. Use either `for` or `while` loop implementations\n",
    "\n",
    "The program (not the function) is to check if the user inputs are digits. If they are not call the function with the default values.    \n",
    "**Hint:** use the `isdigit()` function from the `str` object to check if the input is a letter or a numeral.\n",
    "\n",
    "**Program Output Example:**\n",
    "<pre>\n",
    "Enter a lower bound: r\n",
    "Enter a upper bound: 9\n",
    "\n",
    "The sum is:  1275\n",
    "The average is:  25.5\n",
    "</pre>"
   ]
  },
  {
   "cell_type": "code",
   "execution_count": 25,
   "metadata": {
    "ExecuteTime": {
     "end_time": "2020-10-30T06:02:15.709173Z",
     "start_time": "2020-10-30T06:02:12.900690Z"
    }
   },
   "outputs": [
    {
     "name": "stdout",
     "output_type": "stream",
     "text": [
      "Enter lower bound: 5\n",
      "Enter upper bound: 10\n",
      "The sum is: 35\n",
      "The average is:  7.5\n"
     ]
    }
   ],
   "source": [
    "def sum_average_running_int(lower_bound=1, upper_bound=50):\n",
    "    sumnumber = 0\n",
    "    for i in range(lower_bound,upper_bound,1):\n",
    "        sumnumber = sumnumber + i\n",
    "    return sumnumber, 0.5*(lower_bound+upper_bound)\n",
    "\n",
    "lower_bound = input(\"Enter lower bound: \")\n",
    "upper_bound = input(\"Enter upper bound: \")\n",
    "\n",
    "if lower_bound.isdigit() and upper_bound.isdigit():\n",
    "    lower_bound, upper_bound = int(lower_bound), int(upper_bound)\n",
    "    sumnum, average = sum_average_running_int(lower_bound, upper_bound)\n",
    "    print(f\"The sum is: {sumnum}\")\n",
    "    print(\"The average is: \", 0.5*(upper_bound+lower_bound))\n",
    "else:\n",
    "    print(\"You did not key in two digits.\")\n"
   ]
  },
  {
   "cell_type": "markdown",
   "metadata": {},
   "source": [
    "(DONE) **Q5)** *From exercise on Loops Q5*    \n",
    "Write a function called `cpf_calculator()` that calculates the CPF contribution for an employee based on their monthly salary and age. The function is to return the employee's and employer's CPF contribution.\n",
    "\n",
    "The program (not the function) will display the employee's, employer's and total CPF contribution and only terminate if the letter `q` (case-insensitive) is entered in the prompt for monthly salary.\n",
    "\n",
    "The table below shows the rates:\n",
    "\n",
    "| Employee's Age | Employee Rate (%) | Employer Rate (%) |\n",
    "|:---:|:---:|:---:|\n",
    "| 55 and Above | 20 | 17 |\n",
    "| above 55 to 60 | 13 | 13 |\n",
    "| above 60 to 65 | 7.5 | 9 |\n",
    "| above 65 | 5 | 7.5 |\n",
    "\n",
    "**Program Output Example**\n",
    "<pre>\n",
    "Enter monthly salary: $3000\n",
    "Enter age: 30\n",
    "\n",
    "The employee's contribution is: $ 600.0\n",
    "The employer's contribution is: $ 510.00000000000006\n",
    "The total contribution is: $ 1110.0\n",
    "</pre>"
   ]
  },
  {
   "cell_type": "code",
   "execution_count": 76,
   "metadata": {
    "ExecuteTime": {
     "end_time": "2020-10-30T07:08:16.541793Z",
     "start_time": "2020-10-30T07:08:14.800449Z"
    }
   },
   "outputs": [
    {
     "name": "stdout",
     "output_type": "stream",
     "text": [
      "Enter monthly salary: \n"
     ]
    },
    {
     "ename": "IndexError",
     "evalue": "string index out of range",
     "output_type": "error",
     "traceback": [
      "\u001b[1;31m---------------------------------------------------------------------------\u001b[0m",
      "\u001b[1;31mIndexError\u001b[0m                                Traceback (most recent call last)",
      "\u001b[1;32m<ipython-input-76-869870513a97>\u001b[0m in \u001b[0;36m<module>\u001b[1;34m\u001b[0m\n\u001b[0;32m     21\u001b[0m         \u001b[0mprint\u001b[0m\u001b[1;33m(\u001b[0m\u001b[1;34m\"You quitted.\"\u001b[0m\u001b[1;33m)\u001b[0m\u001b[1;33m\u001b[0m\u001b[1;33m\u001b[0m\u001b[0m\n\u001b[0;32m     22\u001b[0m         \u001b[1;32mbreak\u001b[0m\u001b[1;33m\u001b[0m\u001b[1;33m\u001b[0m\u001b[0m\n\u001b[1;32m---> 23\u001b[1;33m     \u001b[1;32mif\u001b[0m \u001b[0mMonthlySalary\u001b[0m\u001b[1;33m[\u001b[0m\u001b[1;36m0\u001b[0m\u001b[1;33m]\u001b[0m \u001b[1;33m==\u001b[0m \u001b[1;34m'$'\u001b[0m\u001b[1;33m:\u001b[0m\u001b[1;33m\u001b[0m\u001b[1;33m\u001b[0m\u001b[0m\n\u001b[0m\u001b[0;32m     24\u001b[0m         \u001b[0mMonthlySalary\u001b[0m \u001b[1;33m=\u001b[0m \u001b[0mint\u001b[0m\u001b[1;33m(\u001b[0m\u001b[0mMonthlySalary\u001b[0m\u001b[1;33m[\u001b[0m\u001b[1;36m1\u001b[0m\u001b[1;33m:\u001b[0m\u001b[1;33m]\u001b[0m\u001b[1;33m)\u001b[0m\u001b[1;33m\u001b[0m\u001b[1;33m\u001b[0m\u001b[0m\n\u001b[0;32m     25\u001b[0m     \u001b[0mMonthlySalary\u001b[0m \u001b[1;33m=\u001b[0m \u001b[0mint\u001b[0m\u001b[1;33m(\u001b[0m\u001b[0mMonthlySalary\u001b[0m\u001b[1;33m)\u001b[0m\u001b[1;33m\u001b[0m\u001b[1;33m\u001b[0m\u001b[0m\n",
      "\u001b[1;31mIndexError\u001b[0m: string index out of range"
     ]
    }
   ],
   "source": [
    "def cpf_calculator(age, monthlysalary):\n",
    "    if age <= 55:\n",
    "        EmployeeRate = 0.2\n",
    "        EmployerRate = 0.17\n",
    "    elif 55<age<=60:\n",
    "        EmployeeRate = 0.13\n",
    "        EmployerRate = 0.13\n",
    "    elif 60<age<=65:\n",
    "        EmployeeRate = 0.075\n",
    "        EmployerRate = 0.09\n",
    "    elif 65<age:\n",
    "        EmployeeRate = 0.05\n",
    "        EmployerRate = 0.075\n",
    "\n",
    "    return EmployeeRate*MonthlySalary, EmployerRate*MonthlySalary\n",
    "\n",
    "while True:\n",
    "\n",
    "    MonthlySalary = input(\"Enter monthly salary: \")\n",
    "    if MonthlySalary == 'q':\n",
    "        print(\"You quitted.\")\n",
    "        break\n",
    "    if MonthlySalary[0] == '$':\n",
    "        MonthlySalary = int(MonthlySalary[1:])\n",
    "    MonthlySalary = int(MonthlySalary)\n",
    "    age = int(input(\"Enter age: \"))\n",
    "        \n",
    "    EmployeeCon, EmployerCon = cpf_calculator(age, MonthlySalary)\n",
    "    print(f\"The employee's contribution is: ${EmployeeCon:.2f}\")\n",
    "    print(f\"The employer's contribution is: ${EmployerCon:.2f}\")\n",
    "    print(f\"The total contribution is: ${EmployeeCon+EmployerCon:.2f}\")"
   ]
  },
  {
   "cell_type": "markdown",
   "metadata": {},
   "source": [
    "(DONE) **Q6)** Write a function called `is_perfect()` that accepts a **single** integer and returns a boolean. The function is to check if the given number is a perfect number or not. \n",
    "\n",
    ">From Britannica:    \n",
    "Perfect number, a positive integer that is equal to the sum of its proper divisors. The smallest perfect number is 6, which is the sum of 1, 2, and 3. Other perfect numbers are 28, 496, and 8,128.\n",
    "\n",
    "For Example:     \n",
    "6 is a perfect number because 1,2, and 3 are its proper divisors. \n",
    "* 1 + 2 + 3 = 6\n",
    "* 1 + 2 + 4 + 7 + 14 = 28\n",
    "\n",
    "The program is to get the number from user input before calling the function to check. A nice message is to be printed to inform the user of the result. **Assume that the user will always enter an integer.**\n",
    "\n",
    "**Program Output Example**\n",
    "<pre>\n",
    "Enter a number:  8\n",
    "Is the number 8 perfect? False\n",
    "\n",
    "Enter a number:  496\n",
    "Is the number 496 perfect? True\n",
    "</pre>"
   ]
  },
  {
   "cell_type": "code",
   "execution_count": 69,
   "metadata": {
    "ExecuteTime": {
     "end_time": "2020-10-30T06:54:02.542301Z",
     "start_time": "2020-10-30T06:54:00.638395Z"
    }
   },
   "outputs": [
    {
     "name": "stdout",
     "output_type": "stream",
     "text": [
      "Enter a number: 8\n",
      "Is the number 8 perfect? False\n"
     ]
    }
   ],
   "source": [
    "import math\n",
    "\n",
    "num = int(input(\"Enter a number: \"))\n",
    "\n",
    "def is_perfect(num):\n",
    "    results = 0\n",
    "    if num == 1:\n",
    "        return True\n",
    "    for i in range(2, int(math.sqrt(num)+1)):\n",
    "        if num%i==0:\n",
    "            if num/i == i:\n",
    "                results += i\n",
    "            else:\n",
    "                results = results + i + int(num/i)\n",
    "    results = results + 1\n",
    "    if results == num:   \n",
    "        return True\n",
    "    else:\n",
    "        return False\n",
    "    \n",
    "print(f\"Is the number {num} perfect?\", is_perfect(num))"
   ]
  },
  {
   "cell_type": "markdown",
   "metadata": {},
   "source": [
    "###### **Q7)** *From exercise on Loops Q7*    \n",
    "Write 4 functions called `pattern_a()`, `pattern_b()`, `pattern_c()` and `pattern_d()` that accepts a single variable for size and prints the following patterns.\n",
    "\n",
    "**Program Output Example**\n",
    "<pre>\n",
    "Enter an integer for size of Pattern A: 4\n",
    "\n",
    "Pattern A\n",
    "1 \n",
    "1 2 \n",
    "1 2 3 \n",
    "1 2 3 4 \n",
    "\n",
    "Pattern B\n",
    "          1 \n",
    "        2 1 \n",
    "      3 2 1 \n",
    "    4 3 2 1 \n",
    "  5 4 3 2 1 \n",
    "6 5 4 3 2 1 \n",
    "\n",
    "Pattern C\n",
    "1 2 3 4 5 6 7 8 \n",
    "  1 2 3 4 5 6 7 \n",
    "    1 2 3 4 5 6 \n",
    "      1 2 3 4 5 \n",
    "        1 2 3 4 \n",
    "          1 2 3 \n",
    "            1 2 \n",
    "              1 \n",
    "\n",
    "Pattern D\n",
    "11 10 9 8 7 6 5 4 3 2 1 \n",
    "10 9 8 7 6 5 4 3 2 1   \n",
    "9 8 7 6 5 4 3 2 1     \n",
    "8 7 6 5 4 3 2 1       \n",
    "7 6 5 4 3 2 1         \n",
    "6 5 4 3 2 1           \n",
    "5 4 3 2 1             \n",
    "4 3 2 1               \n",
    "3 2 1                 \n",
    "2 1                   \n",
    "1 \n",
    "</pre>\n",
    "\n",
    "The user input will provide the number of rows for Pattern A **but** Pattern B, C and D have incremental rows based on the following rules:\n",
    "\n",
    "* number of rows for Pattern B is 2 more than pattern A\n",
    "* number of rows for Pattern C is 2 times than that of pattern A\n",
    "* number of rows for Pattern D is 2 times + 3 more than that of pattern A"
   ]
  },
  {
   "cell_type": "code",
   "execution_count": null,
   "metadata": {},
   "outputs": [],
   "source": []
  },
  {
   "cell_type": "markdown",
   "metadata": {},
   "source": [
    "(DONE) **Q8)** Using higher order `lambda` functions implement the math equation $ f(x,y) = y + f(x) $ and $ f(x) = x * 15 $\n",
    "\n",
    " **Program Input Example**\n",
    " <pre>\n",
    " x = 2\n",
    " y = 5\n",
    " output = 35\n",
    " </pre>"
   ]
  },
  {
   "cell_type": "code",
   "execution_count": 12,
   "metadata": {
    "ExecuteTime": {
     "end_time": "2020-10-30T05:46:27.083579Z",
     "start_time": "2020-10-30T05:46:27.077595Z"
    }
   },
   "outputs": [
    {
     "data": {
      "text/plain": [
       "35"
      ]
     },
     "execution_count": 12,
     "metadata": {},
     "output_type": "execute_result"
    }
   ],
   "source": [
    "high_order = lambda y, x, func: y + func(x)\n",
    "high_order(5, 2, lambda x: x*15)"
   ]
  },
  {
   "cell_type": "code",
   "execution_count": null,
   "metadata": {},
   "outputs": [],
   "source": []
  }
 ],
 "metadata": {
  "kernelspec": {
   "display_name": "Python 3",
   "language": "python",
   "name": "python3"
  },
  "language_info": {
   "codemirror_mode": {
    "name": "ipython",
    "version": 3
   },
   "file_extension": ".py",
   "mimetype": "text/x-python",
   "name": "python",
   "nbconvert_exporter": "python",
   "pygments_lexer": "ipython3",
   "version": "3.8.3"
  }
 },
 "nbformat": 4,
 "nbformat_minor": 4
}
