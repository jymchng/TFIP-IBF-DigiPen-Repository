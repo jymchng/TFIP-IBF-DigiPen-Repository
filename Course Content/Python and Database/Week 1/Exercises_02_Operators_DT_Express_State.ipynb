{
 "cells": [
  {
   "cell_type": "markdown",
   "metadata": {},
   "source": [
    "# Python Operations, Datatypes, Expressions & Statements Exercise"
   ]
  },
  {
   "cell_type": "markdown",
   "metadata": {},
   "source": [
    "## Learning Objectives\n",
    "\n",
    "* Python basics\n",
    "* Operators & Operands\n",
    "* Standard Datatypes\n",
    "* Expressions & Statements"
   ]
  },
  {
   "cell_type": "markdown",
   "metadata": {},
   "source": [
    "# Complete the code cells\n",
    "---\n",
    "**Q1)** Write an expression that calculates the **Hypotenuse** of a triangle using the Pythagorean theorem $$ a^{2} + b^{2} = c^{2} $$\n",
    "where $ c^{2} $ is the hypotenuse."
   ]
  },
  {
   "cell_type": "code",
   "execution_count": 1,
   "metadata": {
    "ExecuteTime": {
     "end_time": "2020-10-28T05:16:37.713888Z",
     "start_time": "2020-10-28T05:16:34.375812Z"
    }
   },
   "outputs": [
    {
     "name": "stdout",
     "output_type": "stream",
     "text": [
      "Enter a number for a: 2\n",
      "Enter a number for b: 2\n",
      "The hypotenuse is: 8\n"
     ]
    }
   ],
   "source": [
    "a = int(input(\"Enter a number for a: \"))\n",
    "b = int(input(\"Enter a number for b: \"))\n",
    "\n",
    "c_sqr = a**2+b**2\n",
    "\n",
    "print(\"The hypotenuse is:\", c_sqr)"
   ]
  },
  {
   "cell_type": "markdown",
   "metadata": {},
   "source": [
    "**Q2)** Given the following equation (in the code cell), put in the brackets such that the answer results to  <code>5.5</code>.<br>\n",
    "<b>Hint:</b> Only 3 sets of brackets are required and divisions are king."
   ]
  },
  {
   "cell_type": "code",
   "execution_count": 49,
   "metadata": {
    "ExecuteTime": {
     "end_time": "2020-10-28T05:45:48.133328Z",
     "start_time": "2020-10-28T05:45:48.128341Z"
    }
   },
   "outputs": [
    {
     "name": "stdout",
     "output_type": "stream",
     "text": [
      "The answer is: 5.5\n"
     ]
    }
   ],
   "source": [
    "answer = 9 * (5 / 10) + (6 // 5) ** (2 / 9)\n",
    "\n",
    "print(\"The answer is:\", answer)"
   ]
  },
  {
   "cell_type": "markdown",
   "metadata": {},
   "source": [
    "**Q3)** Write an expression to test whether an user input number is between $ 5 < number < 20 $.   \n",
    "The expression should return a boolean."
   ]
  },
  {
   "cell_type": "code",
   "execution_count": 3,
   "metadata": {
    "ExecuteTime": {
     "end_time": "2020-10-28T05:17:23.236198Z",
     "start_time": "2020-10-28T05:17:22.456317Z"
    }
   },
   "outputs": [
    {
     "name": "stdout",
     "output_type": "stream",
     "text": [
      "Enter a number: 21\n",
      "False\n"
     ]
    }
   ],
   "source": [
    "num = int(input(\"Enter a number: \"))\n",
    "\n",
    "print(5<num<20)"
   ]
  },
  {
   "cell_type": "markdown",
   "metadata": {},
   "source": [
    "# Write codes based on the questions\n",
    "---\n",
    "**Q1)** Write a program using the operators to show if the given variable and datatype matches.\n",
    "\n",
    "| Variables   | Datatype| Results |\n",
    "|------------|---------|--------|\n",
    "|  8         | string  | False  |\n",
    "|  2.3       | float   | True   |\n",
    "| 'abc'      | string  | True   |\n",
    "| ('hello',) | list    | False  |\n",
    "| 100        | integer | True   |"
   ]
  },
  {
   "cell_type": "code",
   "execution_count": 51,
   "metadata": {
    "ExecuteTime": {
     "end_time": "2020-10-28T06:04:23.621028Z",
     "start_time": "2020-10-28T06:04:23.611051Z"
    }
   },
   "outputs": [
    {
     "ename": "NameError",
     "evalue": "name 'string' is not defined",
     "output_type": "error",
     "traceback": [
      "\u001b[1;31m---------------------------------------------------------------------------\u001b[0m",
      "\u001b[1;31mNameError\u001b[0m                                 Traceback (most recent call last)",
      "\u001b[1;32m<ipython-input-51-d952f6a7becd>\u001b[0m in \u001b[0;36m<module>\u001b[1;34m\u001b[0m\n\u001b[0;32m      4\u001b[0m     \u001b[1;32mreturn\u001b[0m \u001b[1;32mFalse\u001b[0m\u001b[1;33m\u001b[0m\u001b[1;33m\u001b[0m\u001b[0m\n\u001b[0;32m      5\u001b[0m \u001b[1;33m\u001b[0m\u001b[0m\n\u001b[1;32m----> 6\u001b[1;33m \u001b[0misVariableDataMatch\u001b[0m\u001b[1;33m(\u001b[0m\u001b[1;36m8\u001b[0m\u001b[1;33m,\u001b[0m \u001b[0mstring\u001b[0m\u001b[1;33m)\u001b[0m\u001b[1;33m\u001b[0m\u001b[1;33m\u001b[0m\u001b[0m\n\u001b[0m",
      "\u001b[1;31mNameError\u001b[0m: name 'string' is not defined"
     ]
    }
   ],
   "source": [
    "def isVariableDataMatch(var, datatype):\n",
    "    if type(var)==datatype:\n",
    "        return True\n",
    "    return False\n",
    "\n",
    "isVariableDataMatch(8, string)"
   ]
  },
  {
   "cell_type": "code",
   "execution_count": 48,
   "metadata": {
    "ExecuteTime": {
     "end_time": "2020-10-28T05:44:36.667388Z",
     "start_time": "2020-10-28T05:44:36.662398Z"
    }
   },
   "outputs": [
    {
     "data": {
      "text/plain": [
       "False"
      ]
     },
     "execution_count": 48,
     "metadata": {},
     "output_type": "execute_result"
    }
   ],
   "source": [
    "isinstance(8,str)"
   ]
  },
  {
   "cell_type": "markdown",
   "metadata": {},
   "source": [
    "**Q2)** Given the following equations, type them into the code cell and see if you get the same given results, where `x = 5`.\n",
    "\n",
    "| Equations &nbsp;&nbsp;&nbsp;&nbsp;&nbsp;&nbsp;&nbsp;&nbsp;&nbsp;&nbsp;&nbsp;&nbsp;&nbsp;&nbsp;&nbsp;&nbsp; &nbsp;&nbsp;&nbsp;| Results |\n",
    "|:---|:---|\n",
    "| $4x + 2x^{5}$          | 6270  |\n",
    "| $\\frac{2x+5x^{2}}{x}$  | 27.0  |\n",
    "| $\\frac{5}{9}x + \\frac{4x^{5}+3x^{3}}{5x^{7}} - x^{6}$    | -15622.18926222  |"
   ]
  },
  {
   "cell_type": "code",
   "execution_count": 18,
   "metadata": {
    "ExecuteTime": {
     "end_time": "2020-10-28T05:25:14.288880Z",
     "start_time": "2020-10-28T05:25:14.283893Z"
    }
   },
   "outputs": [
    {
     "name": "stdout",
     "output_type": "stream",
     "text": [
      "6270\n",
      "27.0\n",
      "-15622.189262222222\n"
     ]
    }
   ],
   "source": [
    "x = 5\n",
    "print(4*x+2*x**5)\n",
    "print((2*x+5*x**2)/x)\n",
    "print((5/9)*x+(4*x**5+3*x**3)/(5*x**7)-x**6)"
   ]
  },
  {
   "cell_type": "markdown",
   "metadata": {},
   "source": [
    "**Q3)** Given the following equations, type them into the code cell and see if you get the same given results, where $ x = \\frac{3}{2} $.\n",
    "\n",
    "| Equations &nbsp;&nbsp;&nbsp;&nbsp;&nbsp;&nbsp;&nbsp;&nbsp;&nbsp;&nbsp;&nbsp;&nbsp;&nbsp;&nbsp;&nbsp;&nbsp; &nbsp;&nbsp;&nbsp;&nbsp;&nbsp;&nbsp;&nbsp;&nbsp;&nbsp;&nbsp;&nbsp;&nbsp;&nbsp;&nbsp;&nbsp;&nbsp;&nbsp;&nbsp;&nbsp;&nbsp;&nbsp;&nbsp;| Results |\n",
    "|:---|:---|\n",
    "| $9^{x} + 5^{x+1} < 11^{x}$ | False |\n",
    "| $4^{x} - 2(5^{2x} - 10^{x}) > 0$ | False |\n",
    "| $3^{4-3x} - 35*(\\frac{1}{3})^{2-3x} + 6 \\geq 0 $ | True |"
   ]
  },
  {
   "cell_type": "code",
   "execution_count": 50,
   "metadata": {
    "ExecuteTime": {
     "end_time": "2020-10-28T06:01:22.689726Z",
     "start_time": "2020-10-28T06:01:22.684738Z"
    }
   },
   "outputs": [
    {
     "name": "stdout",
     "output_type": "stream",
     "text": [
      "False\n",
      "False\n",
      "False\n"
     ]
    }
   ],
   "source": [
    "x = 3/2\n",
    "print((9**x+5**(x+1))<11**x)\n",
    "print(4**x-2*(5**2*x-10**x)>0)\n",
    "print(((3**(4-3*x))-35*((1/3)**(2-3*x))+6)>=0)"
   ]
  },
  {
   "cell_type": "code",
   "execution_count": null,
   "metadata": {},
   "outputs": [],
   "source": []
  }
 ],
 "metadata": {
  "kernelspec": {
   "display_name": "Python 3",
   "language": "python",
   "name": "python3"
  },
  "language_info": {
   "codemirror_mode": {
    "name": "ipython",
    "version": 3
   },
   "file_extension": ".py",
   "mimetype": "text/x-python",
   "name": "python",
   "nbconvert_exporter": "python",
   "pygments_lexer": "ipython3",
   "version": "3.7.7"
  }
 },
 "nbformat": 4,
 "nbformat_minor": 4
}
