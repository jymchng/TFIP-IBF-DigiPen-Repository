{
 "cells": [
  {
   "cell_type": "markdown",
   "metadata": {},
   "source": [
    "# Python Conditionals Exercise"
   ]
  },
  {
   "cell_type": "markdown",
   "metadata": {},
   "source": [
    "## Write codes based on the questions\n",
    "---"
   ]
  },
  {
   "cell_type": "markdown",
   "metadata": {},
   "source": [
    "**Q1)** Implement a different way from the lecture for the program find the largest integer based off 3 user inputs of integers."
   ]
  },
  {
   "cell_type": "code",
   "execution_count": null,
   "metadata": {},
   "outputs": [],
   "source": [
    "num1 = int(input(\"Enter a number 1: \"))\n",
    "num2 = int(input(\"Enter a number 2: \"))\n",
    "num3 = int(input(\"Enter a number 3: \"))\n",
    "\n",
    "max_num = num1\n",
    "if max_num < num2:\n",
    "    max_num = num2\n",
    "if max_num < num3:\n",
    "    max_num = num3\n",
    "\n",
    "print('The maximum number is', max_num)"
   ]
  },
  {
   "cell_type": "markdown",
   "metadata": {},
   "source": [
    "**Q2)** Write a program that accepts an user's input of a string of numbers and checks whether the entered number is an integer or not. If the entered number is an integer, multiply it by itself and the result with a nice message. Print a message to inform the user if the string is not an integer. \n",
    "\n",
    "**Hint to help you:**   \n",
    "To check that the entered string is a number use the <code>str_to_test.isdecimal()</code> function to test if the string is <b>an integer</b>. Replace <code>str_to_test</code> with the string you want to check.\n",
    "\n",
    "**Note**: we will only use whole numbers for now and not floats as that will require knowledge on the on the section of Exceptions which will be covered later."
   ]
  },
  {
   "cell_type": "code",
   "execution_count": null,
   "metadata": {},
   "outputs": [],
   "source": [
    "# Step 1: Get input from the user\n",
    "user_input = input(\"Enter an integer: \")\n",
    "\n",
    "# Step 2: Check the input to see if it is an integer using the str.isdecimal() function\n",
    "if user_input.isdecimal():\n",
    "    # Step 3: If the number is an integer, multiply by itself or use the exponent of 2 \n",
    "    #         then print out a nice message\n",
    "    result = int(user_input) ** 2\n",
    "    print(\"I gave your number a shock and it multiply itself to \", result)\n",
    "else:\n",
    "    # Step 4: If the number is not an integer, print out a message informing the user\n",
    "    print(\"You did not enter an integer!\")"
   ]
  },
  {
   "cell_type": "markdown",
   "metadata": {},
   "source": [
    "**Q3)** Write a program to requests for an user's input in the range from (0 to 10) and compares it with a random number. Print to screen a nice message, the results of the user's guess vs the random number according to the following rules:\n",
    "\n",
    "$$\n",
    "msgPart = \\left\\{\\begin{matrix}\n",
    "\"so\\; close!\" & & ranInt-1 <= num <= ranInt+1\\\\ \n",
    "\"relatively\\; close.\"& & ranInt-3 <= num <= ranInt+3\\\\ \n",
    "\"so\\; far it..\"& & ranInt-3 < num < ranInt+4\n",
    "\\end{matrix}\\right.\n",
    "$$\n",
    "\n",
    "The function to generate a random number is provided below."
   ]
  },
  {
   "cell_type": "code",
   "execution_count": null,
   "metadata": {},
   "outputs": [],
   "source": [
    "from random import randint\n",
    "\n",
    "# generate a random number between the range of 0 to 10\n",
    "ran_int = randint(0,10)\n",
    "print(ran_int)  # to help with testing your code\n",
    "\n",
    "# start your codes here -----------------------------------------------\n",
    "# get input from the user\n",
    "num = int(input(\"Enter a number from 0 to 10: \"))\n",
    "\n",
    "msg_part = \"\"\n",
    "# checking the input against the requirements\n",
    "if num == ran_int:\n",
    "    print(\"You won!!\")\n",
    "elif num >= ran_int-1 and num <= ran_int+1:\n",
    "    msg_part = \"so close!\"\n",
    "elif (num >= ran_int-3) and (num <= ran_int+3):\n",
    "    msg_part = \"relatively close.\"\n",
    "else:\n",
    "    msg_part = \"so far it..\"\n",
    "    \n",
    "    \n",
    "if msg_part != \"\":\n",
    "    print('Awwwww it was', msg_part)"
   ]
  },
  {
   "cell_type": "markdown",
   "metadata": {},
   "source": [
    "**Q4)** Write a program that asks the user for a *year* and checks if it is a leap year or not.\n",
    "\n",
    "**Pseudocode**\n",
    "<pre>\n",
    "<b>if</b> (year is divisible by 4) <b>then</b>\n",
    "    <b>if</b> (year is divisible by 100) <b>then</b>\n",
    "        <b>if</b> (year is divisible by 400) <b>then</b>\n",
    "            <b>print</b> \"is a leap year\"\n",
    "        <b>else</b>\n",
    "            <b>print</b> \"is not a leap year\"\n",
    "    <b>else</b>\n",
    "        <b>print</b> \"is a leap year\"\n",
    "<b>else</b>\n",
    "    <b>print</b> \"is not a leap year\"\n",
    "</pre>"
   ]
  },
  {
   "cell_type": "code",
   "execution_count": null,
   "metadata": {},
   "outputs": [],
   "source": [
    "yr = int(input(\"Enter a Year: \"))\n",
    "\n",
    "if (yr % 4) == 0:\n",
    "    if (yr % 100) == 0:\n",
    "        if (yr % 400) == 0:\n",
    "            print(yr,\"is a leap year\")\n",
    "        else:\n",
    "            print(yr, \"is not a leap year\")\n",
    "    else:\n",
    "        print(yr, \"is a leap year\")\n",
    "else:\n",
    "    print(yr, \"is not a leap year\")"
   ]
  },
  {
   "cell_type": "markdown",
   "metadata": {},
   "source": [
    "**Q5)** Write a program to compute the roots of a Quadratic Equation.\n",
    "\n",
    "$$\n",
    "\\frac{-b\\pm \\sqrt{b^{2}-4ac}}{2a}\n",
    "$$\n",
    "\n",
    "The program must clearly reflect the following:\n",
    "* accept 3 user inputs for the variables `a`, `b`, `c`\n",
    "* roots are equal when $b^{2}-4ac$ equals 0, calculate the roots and print some messages\n",
    "* 2 real solutions must be calculated when $b^{2}-4ac$ is positive and print some messages\n",
    "* roots are complex when $b^{2}-4ac$ is negative, print a message, no further calculation needed\n",
    "* Assume that the users nevers enter 0 for variable `a`"
   ]
  },
  {
   "cell_type": "code",
   "execution_count": null,
   "metadata": {},
   "outputs": [],
   "source": [
    "from math import sqrt\n",
    "\n",
    "a = int(input(\"Enter a number for variable a: \"))\n",
    "b = int(input(\"Enter a number for variable b: \"))\n",
    "c = int(input(\"Enter a number for variable c: \"))\n",
    "\n",
    "discriminant = b**2 - 4*a*c\n",
    "\n",
    "print()  # for formating\n",
    "if discriminant == 0:\n",
    "    roots = -b/(2*a)\n",
    "    print('Both roots are equal')\n",
    "    print('First root is:', roots)\n",
    "    print('Second root is:', roots)\n",
    "elif discriminant > 0:\n",
    "    root1 = (-b + sqrt(discriminant))/(2*a)\n",
    "    root2 = (-b - sqrt(discriminant))/(2*a)\n",
    "    print('Both roots are real and different')\n",
    "    print('First root is: ', root1)\n",
    "    print('Second root is: ', root2)\n",
    "else:\n",
    "    print('Roots are complex therefore no solution')"
   ]
  },
  {
   "cell_type": "markdown",
   "metadata": {},
   "source": [
    "**Q6)** Write a program to calculate and print the Electricity bill of a customer. The program is to ask the customer for their *customer id*, *customer name* and *number of units consumed* (always an integer). \n",
    "\n",
    "The charges are as follows:\n",
    "\n",
    "| Unit | Charge/Unit |\n",
    "|:---|:---|\n",
    "| up to 199 | @1.20 |\n",
    "| 200 and above but less then 400 | @1.50 |\n",
    "| 400 and above but less then 600 | @1.80 |\n",
    "| 600 and above | @2.00 |\n",
    "\n",
    "If the bill exceeds SGD 400, a surcharge of 15% will be added to the total bill and the minimum bill should be SGD 100.\n",
    "\n",
    "**Program Output Example**\n",
    "<pre>\n",
    "------Electrical Bill------\n",
    "Customer ID:  8753\n",
    "Customer Name:  Tom\n",
    "Units Consumed:  500\n",
    "Amount Charged:  900.0\n",
    "Surcharge Amount Charged:  135.0\n",
    "Total Amount Charged:  1035.0\n",
    "</pre>"
   ]
  },
  {
   "cell_type": "code",
   "execution_count": null,
   "metadata": {},
   "outputs": [],
   "source": [
    "cust_id = input(\"Enter the Customer's ID: \")\n",
    "cust_name = input(\"Enter the Customer's Name: \")\n",
    "unit_used = int(input(\"Enter the amount of units used: \"))\n",
    "\n",
    "charge = 0\n",
    "if unit_used < 200:\n",
    "    charge = unit_used * 1.20\n",
    "elif unit_used >= 200 and unit_used < 400:\n",
    "    charge = unit_used * 1.50\n",
    "elif unit_used >= 400 and unit_used < 600:\n",
    "    charge = unit_used * 1.80\n",
    "else:\n",
    "    charge = unit_used * 2\n",
    "    \n",
    "grand_total = 0\n",
    "surcharge = 0\n",
    "if charge > 400:\n",
    "    surcharge = (charge * 0.15)\n",
    "    grand_total = surcharge + charge\n",
    "elif charge < 100:\n",
    "    grand_total = 100\n",
    "else:\n",
    "    grand_total = charge\n",
    "\n",
    "    \n",
    "print()\n",
    "print('------Electrical Bill------')\n",
    "print('Customer ID: ', cust_id)\n",
    "print('Customer Name: ', cust_name)\n",
    "print('Units Consumed: ', unit_used)\n",
    "print('Amount Charged: ', charge)\n",
    "print('Surcharge Amount Charged: ', surcharge)\n",
    "print('Total Amount Charged: ', grand_total)"
   ]
  },
  {
   "cell_type": "markdown",
   "metadata": {},
   "source": [
    "**Q7)** Write a menu driven program to perform a simple calculation. Use the following steps to help with the algorithm.\n",
    "1. get a user's input based on a list of options of 4 operations (add, subtract, multiply and divide)\n",
    "2. based on the user's option, carry out the operation and print the result with a nice message\n",
    "3. Beware of dividing by 0 for the division operation"
   ]
  },
  {
   "cell_type": "code",
   "execution_count": null,
   "metadata": {},
   "outputs": [],
   "source": [
    "print(\"Options to choose\")\n",
    "print(\"1. Add\")\n",
    "print(\"2. Subtract\")\n",
    "print(\"3. Multiply\")\n",
    "print(\"4. Divide\")\n",
    "\n",
    "option = int(input(\"Enter an option: \"))\n",
    "num1 = int(input(\"Enter first number: \"))\n",
    "num2 = int(input(\"Enter second number: \"))\n",
    "\n",
    "if option == 1:\n",
    "    print(\"Addition result is: \", num1+num2)\n",
    "elif option == 2:\n",
    "    print(\"Subtraction result is: \", num1-num2)\n",
    "elif option == 3:\n",
    "    print(\"Multiplcation result is:\", num1*num2)\n",
    "else:\n",
    "    if num2 == 0:\n",
    "        print(\"The second number cannot be 0.\")\n",
    "    else:\n",
    "        print(\"Division result is: \", num1/num2)"
   ]
  },
  {
   "cell_type": "code",
   "execution_count": null,
   "metadata": {},
   "outputs": [],
   "source": []
  }
 ],
 "metadata": {
  "kernelspec": {
   "display_name": "Python 3",
   "language": "python",
   "name": "python3"
  },
  "language_info": {
   "codemirror_mode": {
    "name": "ipython",
    "version": 3
   },
   "file_extension": ".py",
   "mimetype": "text/x-python",
   "name": "python",
   "nbconvert_exporter": "python",
   "pygments_lexer": "ipython3",
   "version": "3.8.3"
  }
 },
 "nbformat": 4,
 "nbformat_minor": 4
}
