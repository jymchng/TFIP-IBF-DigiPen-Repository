{
 "cells": [
  {
   "cell_type": "markdown",
   "metadata": {},
   "source": [
    "# Python Operations, Datatypes, Expressions & Statements Exercise"
   ]
  },
  {
   "cell_type": "markdown",
   "metadata": {},
   "source": [
    "## Learning Objectives\n",
    "\n",
    "* Python basics\n",
    "* Operators & Operands\n",
    "* Standard Datatypes\n",
    "* Expressions & Statements"
   ]
  },
  {
   "cell_type": "markdown",
   "metadata": {},
   "source": [
    "# Complete the code cells\n",
    "---\n",
    "**Q1)** Write an expression that calculates the **Hypotenuse** of a triangle using the Pythagorean theorem $$ a^{2} + b^{2} = c^{2} $$\n",
    "where $ c^{2} $ is the hypotenuse."
   ]
  },
  {
   "cell_type": "code",
   "execution_count": null,
   "metadata": {},
   "outputs": [],
   "source": [
    "a = int(input(\"Enter a number for a: \"))\n",
    "b = int(input(\"Enter a number for b: \"))\n",
    "\n",
    "c_sqr = a**2 + b**2\n",
    "\n",
    "print(\"The hypotenuse is:\", c_sqr)"
   ]
  },
  {
   "cell_type": "markdown",
   "metadata": {},
   "source": [
    "**Q2)** Given the following equation (in the code cell), put in the brackets such that the answer results to  <code>5.5</code>.<br>\n",
    "<b>Hint:</b> Only 3 sets of brackets are required and divisions are king."
   ]
  },
  {
   "cell_type": "code",
   "execution_count": null,
   "metadata": {},
   "outputs": [],
   "source": [
    "answer = 9 * (5 / 10) + (6 // 5) ** (2 / 9)\n",
    "\n",
    "print(\"The answer is:\", answer)"
   ]
  },
  {
   "cell_type": "markdown",
   "metadata": {},
   "source": [
    "**Q3)** Write an expression to test whether an user input number is between $ 5 < number < 20 $.   \n",
    "The expression should return a boolean."
   ]
  },
  {
   "cell_type": "code",
   "execution_count": null,
   "metadata": {},
   "outputs": [],
   "source": [
    "num = int(input(\"Enter a number: \"))\n",
    "\n",
    "print((num >5) and (num <20))"
   ]
  },
  {
   "cell_type": "markdown",
   "metadata": {},
   "source": [
    "# Write codes based on the questions\n",
    "---\n",
    "**Q1)** Write a program using the operators to show if the given variable and datatype matches.\n",
    "\n",
    "| Variables   | Datatype| Results |\n",
    "|------------|---------|--------|\n",
    "|  8         | string  | False  |\n",
    "|  2.3       | float   | True   |\n",
    "| 'abc'      | string  | True   |\n",
    "| ('hello',) | list    | False  |\n",
    "| 100        | integer | True   |"
   ]
  },
  {
   "cell_type": "code",
   "execution_count": null,
   "metadata": {},
   "outputs": [],
   "source": [
    "print(isinstance(8, str))\n",
    "print(isinstance(2.3, float))\n",
    "print(isinstance('abc', str))\n",
    "print(isinstance(('hello',), list))\n",
    "print(isinstance(100, int))\n",
    "\n",
    "# or \n",
    "\n",
    "print(type(8) == str)\n",
    "print(type(2.3) == float)\n",
    "print(type('abc') == str)\n",
    "print(type(('hello',)) == list)\n",
    "print(type(100) == int)"
   ]
  },
  {
   "cell_type": "markdown",
   "metadata": {},
   "source": [
    "**Q2)** Given the following equations, type them into the code cell and see if you get the same given results, where `x = 5`.\n",
    "\n",
    "| Equations &nbsp;&nbsp;&nbsp;&nbsp;&nbsp;&nbsp;&nbsp;&nbsp;&nbsp;&nbsp;&nbsp;&nbsp;&nbsp;&nbsp;&nbsp;&nbsp; &nbsp;&nbsp;&nbsp;| Results |\n",
    "|:---|:---|\n",
    "| $4x + 2x^{5}$          | 6270  |\n",
    "| $\\frac{2x+5x^{2}}{x}$  | 27.0  |\n",
    "| $\\frac{5}{9}x + \\frac{4x^{5}+3x^{3}}{5x^{7}} - x^{6}$    | -15622.18926222  |"
   ]
  },
  {
   "cell_type": "code",
   "execution_count": null,
   "metadata": {},
   "outputs": [],
   "source": [
    "x = 5\n",
    "\n",
    "print(4*x + 2*x**5)\n",
    "print( (2*x+5*(x**2)) / x)\n",
    "print( (5/9)*x + ( (4*(x**5) + 3*(x**3)) / (5*(x**7)) ) - x**6 )"
   ]
  },
  {
   "cell_type": "markdown",
   "metadata": {},
   "source": [
    "**Q3)** Given the following equations, type them into the code cell and see if you get the same given results, where $ x = \\frac{3}{2} $.\n",
    "\n",
    "| Equations &nbsp;&nbsp;&nbsp;&nbsp;&nbsp;&nbsp;&nbsp;&nbsp;&nbsp;&nbsp;&nbsp;&nbsp;&nbsp;&nbsp;&nbsp;&nbsp; &nbsp;&nbsp;&nbsp;&nbsp;&nbsp;&nbsp;&nbsp;&nbsp;&nbsp;&nbsp;&nbsp;&nbsp;&nbsp;&nbsp;&nbsp;&nbsp;&nbsp;&nbsp;&nbsp;&nbsp;&nbsp;&nbsp;| Results |\n",
    "|:---|:---|\n",
    "| $9^{x} + 5^{x+1} < 11^{x}$ | False |\n",
    "| $4^{x} - 2(5^{2x} - 10^{x}) > 0$ | False |\n",
    "| $3^{4-3x} - 35*(\\frac{1}{3})^{2-3x} + 6 \\leq 0 $ | True |"
   ]
  },
  {
   "cell_type": "code",
   "execution_count": 1,
   "metadata": {},
   "outputs": [
    {
     "name": "stdout",
     "output_type": "stream",
     "text": [
      "False\n",
      "False\n",
      "True\n"
     ]
    }
   ],
   "source": [
    "x = 3/2\n",
    "\n",
    "print( (9**x + 5**(x+1)) < (11**x) )\n",
    "print( (4**x -2 * (5**(2*x) - (10**x))) > 0 )\n",
    "print( ( (3**(4-3*x)) - 35 * ((1/3)**(2-3*x)) + 6 ) <= 0 )"
   ]
  }
 ],
 "metadata": {
  "kernelspec": {
   "display_name": "Python 3",
   "language": "python",
   "name": "python3"
  },
  "language_info": {
   "codemirror_mode": {
    "name": "ipython",
    "version": 3
   },
   "file_extension": ".py",
   "mimetype": "text/x-python",
   "name": "python",
   "nbconvert_exporter": "python",
   "pygments_lexer": "ipython3",
   "version": "3.8.0"
  }
 },
 "nbformat": 4,
 "nbformat_minor": 4
}
