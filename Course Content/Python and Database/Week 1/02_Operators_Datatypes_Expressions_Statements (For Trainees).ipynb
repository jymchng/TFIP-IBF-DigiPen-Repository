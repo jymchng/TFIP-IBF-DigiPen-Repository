{
 "cells": [
  {
   "cell_type": "markdown",
   "metadata": {},
   "source": [
    "# Recap:\n",
    "---\n",
    "\n",
    "## Python Basics\n",
    "- Python basics\n",
    "- Python features\n",
    "- How to define identifiers in python\n",
    "- How to do commenting in python\n",
    "- What are the reserved words available in python\n",
    "- Input and output statements in python"
   ]
  },
  {
   "cell_type": "markdown",
   "metadata": {},
   "source": [
    "# Python Fundamentals Part 2"
   ]
  },
  {
   "cell_type": "markdown",
   "metadata": {},
   "source": [
    "### Topics Covered:\n",
    "\n",
    "- Python Operators and Operands  \n",
    "    1. Arithmetic Operators  \n",
    "    2. Comparison Operators  \n",
    "    3. Logical Operators  \n",
    "    4. Assignment Operators  \n",
    "    5. Membership Operators  \n",
    "    6. Identity Operators  \n",
    "    7. Bitwise Operators  \n",
    "    8. Operators Precedence  \n",
    "- Standard Data Types  \n",
    "- Expressions and Statements  "
   ]
  },
  {
   "cell_type": "markdown",
   "metadata": {},
   "source": [
    "### Python Operators and Operands"
   ]
  },
  {
   "attachments": {
    "operator.png": {
     "image/png": "[encoded data removed]"
    }
   },
   "cell_type": "markdown",
   "metadata": {},
   "source": [
    "In mathematics, operations are functions where by values (called operands) are worked on by operators and a result is generally returned. Take the example shown below in figure 1:\n",
    "                                \n",
    "                                  \n",
    "| ![operator.png](attachment:operator.png) |\n",
    "|:---:|\n",
    "| **Figure 1:** What are operands and operators. |\n",
    "\n",
    "\n",
    "The number 5 and 2 are the operands to the * (multiply) operator and the result 10 is returned using the = equal operator. \n",
    "\n",
    "In Python, operators and operands uses the same\n",
    "concepts as in math but the difference is that there are a lot more types of operators compared to math and its operands are the variables that specify what the value of this data that is to be operated upon.\n",
    "\n",
    "Python operators can be classified into the following types:\n",
    "\n",
    "- **Arithmetic Operators**\n",
    "- **Comparison (Relational) Operators**\n",
    "- **Assignment Operators**\n",
    "- **Logical Operators**\n",
    "- **Membership Operators**\n",
    "- **Identity Operators**\n",
    "- **Bitwise Operators**"
   ]
  },
  {
   "cell_type": "markdown",
   "metadata": {},
   "source": [
    "### 1.  Arithmetic Operators\n",
    "Arithmetic operators are operators that we have all learnt in math in school. Assume that the variables a = 10 and b = 21."
   ]
  },
  {
   "cell_type": "markdown",
   "metadata": {},
   "source": [
    "<style>\n",
    "    tr:nth-child(even) { background-color:#f2f2f2; }\n",
    "    table: width=\"100%\"\n",
    "</style>\n",
    "<table align=\"center\" border=1>\n",
    "    <colgroup>\n",
    "       <col span=\"1\" style=\"width: 23%;\">\n",
    "       <col span=\"1\" style=\"width: 57%;\">\n",
    "       <col span=\"1\" style=\"width: 20%;\">\n",
    "    </colgroup>\n",
    "    <tr>\n",
    "        <th align=\"center\">Operator</th>\n",
    "        <th align=\"center\">Description</th>\n",
    "        <th align=\"center\">Example</th>\n",
    "    </tr>\n",
    "    <tr>\n",
    "        <td>- (unary)</td>\n",
    "        <td>Unary operator that is used mainly to show unary negation.</td>\n",
    "        <td>-11</td>\n",
    "    </tr>\n",
    "    <tr>\n",
    "        <td>+ (Addition)</td>\n",
    "        <td><b>Adds</b> values on either side of the operator.</td>\n",
    "        <td>a + b = 31</td>\n",
    "    </tr>\n",
    "    <tr>\n",
    "        <td>- (Subtraction)</td>\n",
    "        <td><b>Subtracts</b> right hand operand from left hand operand.</td>\n",
    "        <td>a - b = -11</td>\n",
    "    </tr>\n",
    "    <tr>\n",
    "        <td>* (Multiplication)</td>\n",
    "        <td><b>Multiplies</b> values on either side of the operator.</td>\n",
    "        <td>a * b = 210</td>\n",
    "    </tr>\n",
    "    <tr>\n",
    "        <td>/ (Division)</td>\n",
    "        <td><b>Divides</b> left hand operand by right hand operand.</td>\n",
    "        <td>b / a = 2.1</td>\n",
    "    </tr>\n",
    "    <tr>\n",
    "        <td>% (Modulus)</td>\n",
    "        <td>Divides left hand operand by right hand operand and returns <b>remainder</b>.</td>\n",
    "        <td>b % a = 1</td>\n",
    "    </tr>\n",
    "    <tr>\n",
    "        <td>** (Exponent)</td>\n",
    "        <td>Performs <b>exponential</b> (power) calculation on operators.</td>\n",
    "        <td>a**20 = 10<sup>20</sup></td>\n",
    "    </tr>\n",
    "    <tr>\n",
    "        <td>// (Floor Division)</td>\n",
    "        <td>The division of operands where the result is the <b>quotient</b> in which the digits after the decimal point are removed. But if one of the operands is a negative number, the result is floored, i.e., rounded away from zero (towards negative infinity).</td>\n",
    "        <td>9 // 2 = 4<br>-11 // 3 = -4</td>\n",
    "    </tr>\n",
    "</table>"
   ]
  },
  {
   "cell_type": "markdown",
   "metadata": {},
   "source": [
    "## Examples:"
   ]
  },
  {
   "cell_type": "code",
   "execution_count": null,
   "metadata": {},
   "outputs": [],
   "source": [
    "a=10\n",
    "b=2\n",
    "print('a+b=',a+b)\n",
    "print('a-b=',a-b)\n",
    "print('a*b=',a*b)\n",
    "print('a/b=',a/b)\n",
    "print('a//b=',a//b)\n",
    "print('a%b=',a%b)\n",
    "print('a**b=',a**b)"
   ]
  },
  {
   "cell_type": "code",
   "execution_count": null,
   "metadata": {},
   "outputs": [],
   "source": [
    "#Examples\n",
    "10/2           #==>5.0\n",
    "10//2          #==>5\n",
    "10.0/2         #===>5.0\n",
    "10.0//2        #===>5.0"
   ]
  },
  {
   "cell_type": "markdown",
   "metadata": {},
   "source": [
    "**Note:**  \n",
    "\n",
    "`/` operator always performs floating point arithmetic. Hence it will always returns `float` value.  \n",
    "\n",
    "But `Floor division (//)` can perform both floating point and integral arithmetic. If arguments are int type then result is int type. If atleast one argument is float type then result is float type."
   ]
  },
  {
   "cell_type": "markdown",
   "metadata": {},
   "source": [
    "**Note:**  \n",
    "\n",
    "We can use +, * operators for str type also.\n",
    "If we want to use + operator for str type then compulsory both arguments should be str type only otherwise we will get error."
   ]
  },
  {
   "cell_type": "code",
   "execution_count": null,
   "metadata": {},
   "outputs": [],
   "source": [
    "\"DigiPen\"+10"
   ]
  },
  {
   "cell_type": "code",
   "execution_count": null,
   "metadata": {},
   "outputs": [],
   "source": [
    "\"DigiPen\"+\"10\""
   ]
  },
  {
   "cell_type": "markdown",
   "metadata": {},
   "source": [
    "If we use * operator for str type then compulsory one argument should be int and other argument should be str type."
   ]
  },
  {
   "cell_type": "code",
   "execution_count": null,
   "metadata": {},
   "outputs": [],
   "source": [
    "2*\"DigiPen\""
   ]
  },
  {
   "cell_type": "code",
   "execution_count": null,
   "metadata": {},
   "outputs": [],
   "source": [
    "\"DigiPen\"*2"
   ]
  },
  {
   "cell_type": "code",
   "execution_count": null,
   "metadata": {},
   "outputs": [],
   "source": [
    "2.5*\"DigiPen\""
   ]
  },
  {
   "cell_type": "code",
   "execution_count": null,
   "metadata": {},
   "outputs": [],
   "source": [
    "\"DigiPen\"*\"DigiPen\""
   ]
  },
  {
   "cell_type": "markdown",
   "metadata": {},
   "source": [
    "`\\+` ====>String `concatenation operator`     \n",
    "`\\*` ====>String `multiplication operator`"
   ]
  },
  {
   "cell_type": "markdown",
   "metadata": {},
   "source": [
    "**Note:**\n",
    "For any number x,   \n",
    "`x/0 and x%0` always raises **\"ZeroDivisionError\"**"
   ]
  },
  {
   "cell_type": "code",
   "execution_count": null,
   "metadata": {},
   "outputs": [],
   "source": [
    "10/0\n",
    "10.0/0"
   ]
  },
  {
   "cell_type": "markdown",
   "metadata": {},
   "source": [
    "### 2. Comparison Operators\n",
    "Comparison operators are used to compare the values of the operands and return the relationship between the operands. Assume that the variables a = 10 and b = 21."
   ]
  },
  {
   "cell_type": "markdown",
   "metadata": {},
   "source": [
    "<style>\n",
    "    tr:nth-child(even) { background-color:#f2f2f2; }\n",
    "    table: width=\"100%\"\n",
    "</style>\n",
    "<table align=\"center\" border=1>\n",
    "    <colgroup>\n",
    "       <col span=\"1\" style=\"width: 15%;\">\n",
    "       <col span=\"1\" style=\"width: 63%;\">\n",
    "       <col span=\"1\" style=\"width: 22%;\">\n",
    "    </colgroup>\n",
    "    <tr>\n",
    "        <th align=\"center\">Operator</th>\n",
    "        <th align=\"center\">Description</th>\n",
    "        <th align=\"center\">Example</th>\n",
    "    </tr>\n",
    "    <tr>\n",
    "        <td>==</td>\n",
    "        <td>Compares the values of two operands for <b>equality</b>, true if they are equal.</td>\n",
    "        <td>(a == b) is not true.</td>\n",
    "    </tr>\n",
    "    <tr>\n",
    "        <td>!=</td>\n",
    "        <td>Compares the values of two operands for <b>inequality</b>, true if they are equal.</td>\n",
    "        <td>(a != b) is true.</td>\n",
    "    </tr>\n",
    "    <tr>\n",
    "        <td>&gt;</td>\n",
    "        <td>If the value of left operand is <b>greater than</b> the value of right operand, then condition becomes true.</td>\n",
    "        <td>(a &gt; b) is not true.</td>\n",
    "    </tr>\n",
    "    <tr>\n",
    "        <td>&lt;</td>\n",
    "        <td>If the value of left operand is <b>less than</b> the value of right operand, then condition becomes true.</td>\n",
    "        <td>(a &lt; b) is true.</td>\n",
    "    </tr>\n",
    "    <tr>\n",
    "        <td>&gt;=</td>\n",
    "        <td>If the value of left operand is <b>greater than or equal to</b> the value of right operand, then condition becomes true.</td>\n",
    "        <td>(a &gt;= b) is not true.</td>\n",
    "    </tr>\n",
    "    <tr>\n",
    "        <td>&lt;=</td>\n",
    "        <td>If the value of left operand is <b>less than or equal to</b> the value of right operand, then condition becomes true.</td>\n",
    "        <td>(a &lt;= b) is true.</td>\n",
    "    </tr>\n",
    "</table>"
   ]
  },
  {
   "cell_type": "markdown",
   "metadata": {},
   "source": [
    "## Examples:"
   ]
  },
  {
   "cell_type": "code",
   "execution_count": null,
   "metadata": {},
   "outputs": [],
   "source": [
    "a=10\n",
    "b=20\n",
    "print(\"a > b is \",a>b)\n",
    "print(\"a >= b is \",a>=b)\n",
    "print(\"a < b is \",a<b)\n",
    "print(\"a <= b is \",a<=b)"
   ]
  },
  {
   "cell_type": "markdown",
   "metadata": {},
   "source": [
    "We can apply relational operators for str types also"
   ]
  },
  {
   "cell_type": "code",
   "execution_count": null,
   "metadata": {},
   "outputs": [],
   "source": [
    "a=\"DigiPen\"\n",
    "b=\"DigiPen\"\n",
    "print(\"a > b is \",a>b)\n",
    "print(\"a >= b is \",a>=b)\n",
    "print(\"a < b is \",a<b)\n",
    "print(\"a <= b is \",a<=b)"
   ]
  },
  {
   "cell_type": "code",
   "execution_count": null,
   "metadata": {},
   "outputs": [],
   "source": [
    "print(True>True) \n",
    "print(True>=True) \n",
    "print(10 >True) \n",
    "print(False > True) \n",
    "print(10>'DigiPen')"
   ]
  },
  {
   "cell_type": "markdown",
   "metadata": {},
   "source": [
    "**Note:**  \n",
    "Chaining of relational operators is possible. In the chaining, **if all comparisons returns `True` then only result is `True`. If atleast one comparison returns `False` then the\n",
    "result is `False`**"
   ]
  },
  {
   "cell_type": "code",
   "execution_count": null,
   "metadata": {},
   "outputs": [],
   "source": [
    "print(10<20) \n",
    "print(10<20<30)\n",
    "print(10<20<30<40) \n",
    "print(10<20<30<40>50)"
   ]
  },
  {
   "cell_type": "markdown",
   "metadata": {},
   "source": [
    "### 3. Logical Operators\n",
    "Logical operators are used mainly to control the flow of a program. Assume that the variables a = **True** and b = **False**."
   ]
  },
  {
   "cell_type": "markdown",
   "metadata": {},
   "source": [
    "<style>\n",
    "    tr:nth-child(even) { background-color:#f2f2f2; }\n",
    "    table: width=\"100%\"\n",
    "</style>\n",
    "<table align=\"center\" border=1>\n",
    "    <colgroup>\n",
    "       <col span=\"1\" style=\"width: 20%;\">\n",
    "       <col span=\"1\" style=\"width: 60%;\">\n",
    "       <col span=\"1\" style=\"width: 20%;\">\n",
    "    </colgroup>\n",
    "    <tr>\n",
    "        <th align=\"center\">Operator</th>\n",
    "        <th align=\"center\">Description</th>\n",
    "        <th align=\"center\">Example</th>\n",
    "    </tr>\n",
    "    <tr>\n",
    "        <td>and (logical and)</td>\n",
    "        <td>If <b>both the operands</b> are true then condition becomes true.</td>\n",
    "        <td>(a and b) result is False.</td>\n",
    "    </tr>\n",
    "    <tr>\n",
    "        <td>or (logical or)</td>\n",
    "        <td>If <b>any</b> of the two operands are <b>non-zero</b> then condition becomes true.</td>\n",
    "        <td>(a or b) result is True.</td>\n",
    "    </tr>\n",
    "    <tr>\n",
    "        <td>not (logical not)</td>\n",
    "        <td>Used to <b>reverse</b> the logical state of its operand.</td>\n",
    "        <td>not(a and b) result is True.<br><br>not(a) results is False</td>\n",
    "    </tr>\n",
    "</table>\n",
    "<div style=\"page-break-after: always; break-after: page;\"></div>"
   ]
  },
  {
   "cell_type": "markdown",
   "metadata": {},
   "source": [
    "**For boolean types behaviour:**\n",
    "- **and** ==>If both arguments are True then only result is True\n",
    "- **or** ====>If atleast one arugemnt is True then result is True\n",
    "- **not** ==>complement\n",
    "\n",
    "\n",
    "- **True and False** ==>False\n",
    "- **True or False** ===>True\n",
    "- **not False** ==>True"
   ]
  },
  {
   "cell_type": "markdown",
   "metadata": {},
   "source": [
    "**For non-boolean types behaviour:**\n",
    "- `0` means `False`\n",
    "- `non-zero` means `True`\n",
    "- `empty string` is always treated as `False`"
   ]
  },
  {
   "cell_type": "markdown",
   "metadata": {},
   "source": [
    "**`x and y:`**  \n",
    "if x is evaluates to false return x otherwise return y"
   ]
  },
  {
   "cell_type": "code",
   "execution_count": null,
   "metadata": {},
   "outputs": [],
   "source": [
    "#Ex:\n",
    "print(10 and 20)\n",
    "print(0 and 20)"
   ]
  },
  {
   "cell_type": "markdown",
   "metadata": {},
   "source": [
    "**`x or y:`**  \n",
    "If x evaluates to True then result is x otherwise result is y"
   ]
  },
  {
   "cell_type": "code",
   "execution_count": null,
   "metadata": {},
   "outputs": [],
   "source": [
    "print(10 or 20)      #10\n",
    "print(0 or 20)       #20"
   ]
  },
  {
   "cell_type": "markdown",
   "metadata": {},
   "source": [
    "**`not x:`**  \n",
    "If x is evalutates to False then result is True otherwise False"
   ]
  },
  {
   "cell_type": "code",
   "execution_count": null,
   "metadata": {},
   "outputs": [],
   "source": [
    "print(not 10)        #False\n",
    "print(not 0)         #True"
   ]
  },
  {
   "cell_type": "code",
   "execution_count": null,
   "metadata": {},
   "outputs": [],
   "source": [
    "#Examples\n",
    "print(\"DigiPen\" and \"Institute\")\n",
    "print(\"\" and \"DigiPen\" )\n",
    "print(\"DigiPen\" and \"\")\n",
    "print(\"\" or \"DigiPen\")\n",
    "print(\"DigiPen\" or \"\")\n",
    "print(not \"\")\n",
    "print(not \"DigiPen\" )"
   ]
  },
  {
   "cell_type": "markdown",
   "metadata": {},
   "source": [
    "### 4.  Assignment Operators\n",
    "Assignment operators are operators that assigns the result of the computation to the leftmost operand. These operators can be combined with the Arithmetic operators (from the previous section) to result in a shortened computation line of code.   \n",
    "Assume that the variables a = 10 and b = 21."
   ]
  },
  {
   "cell_type": "markdown",
   "metadata": {},
   "source": [
    "<style>\n",
    "    tr:nth-child(even) { background-color:#f2f2f2; }\n",
    "    table: width=\"100%\"\n",
    "</style>\n",
    "<table align=\"center\" border=1>\n",
    "    <colgroup>\n",
    "       <col span=\"1\" style=\"width: 20%;\">\n",
    "       <col span=\"1\" style=\"width: 55%;\">\n",
    "       <col span=\"1\" style=\"width: 25%;\">\n",
    "    </colgroup>\n",
    "    <tr>\n",
    "        <th align=\"center\">Operator</th>\n",
    "        <th align=\"center\">Description</th>\n",
    "        <th align=\"center\">Example</th>\n",
    "    </tr>\n",
    "    <tr>\n",
    "        <td>=</td>\n",
    "        <td>Assigns the value from right side operands computation to left side operand.</td>\n",
    "        <td>c = a + b assigns value of a + b into c</td>\n",
    "    </tr>\n",
    "    <tr>\n",
    "        <td>+= (add then equate)</td>\n",
    "        <td>Adds right operand to the left operand and assign the result to left operand</td>\n",
    "        <td>c += a is equivalent to c = c + a</td>\n",
    "    </tr>\n",
    "    <tr>\n",
    "        <td>-= (subtract then equate)</td>\n",
    "        <td>Subtracts right operand from the left operand and assign the result to left operand.</td>\n",
    "        <td>c -= a is equivalent to c = c - a</td>\n",
    "    </tr>\n",
    "    <tr>\n",
    "        <td>*= (multiply then equate)</td>\n",
    "        <td>Multiplies right operand with the left operand and assign the result to left operand.</td>\n",
    "        <td>c *= a is equivalent to c = c * a</td>\n",
    "    </tr>\n",
    "    <tr>\n",
    "        <td>/= (divide then equate)</td>\n",
    "        <td>Divides left operand with the right operand and assign the result to left operand.</td>\n",
    "        <td>c /= a is equivalent to c = c / a</td>\n",
    "    </tr>\n",
    "    <tr>\n",
    "        <td>%= (modulus then equate)</td>\n",
    "        <td>Performs modulus on the two operands and assign the result to left operand.</td>\n",
    "        <td>c %= a is equivalent to c = c % a</td>\n",
    "    </tr>\n",
    "    <tr>\n",
    "        <td>**= (exponent then equate)</td>\n",
    "        <td>Performs exponential (power) calculation on operators and assign value to the left operand.</td>\n",
    "        <td>c **= a is equivalent to c = c ** a</td>\n",
    "    </tr>\n",
    "    <tr>\n",
    "        <td>//= (floor division then equate)</td>\n",
    "        <td>Performs floor division on operators and assign value to the left operand.</td>\n",
    "        <td>c //= a is equivalent to c = c // a</td>\n",
    "    </tr>\n",
    "</table>"
   ]
  },
  {
   "cell_type": "markdown",
   "metadata": {},
   "source": [
    "### Examples:"
   ]
  },
  {
   "cell_type": "code",
   "execution_count": null,
   "metadata": {},
   "outputs": [],
   "source": [
    "x=10\n",
    "x+=20\n",
    "print(x)"
   ]
  },
  {
   "cell_type": "code",
   "execution_count": null,
   "metadata": {},
   "outputs": [],
   "source": [
    "x=10\n",
    "x*=5\n",
    "print(x)"
   ]
  },
  {
   "cell_type": "markdown",
   "metadata": {},
   "source": [
    "### 5. Membership Operators\n",
    "Membership operators tests whether the object is in a sequence. Example of sequences are\n",
    "strings, lists or tuples.  \n",
    "\n",
    "Assume that the variables x = [1,5,8,3,9,2], y = 5 and z = 10"
   ]
  },
  {
   "cell_type": "markdown",
   "metadata": {},
   "source": [
    "<style>\n",
    "    tr:nth-child(even) { background-color:#f2f2f2; }\n",
    "    table: width=\"100%\"\n",
    "</style>\n",
    "<table align=\"center\" border=1>\n",
    "    <colgroup>\n",
    "       <col span=\"1\" style=\"width: 20%;\">\n",
    "       <col span=\"1\" style=\"width: 60%;\">\n",
    "       <col span=\"1\" style=\"width: 20%;\">\n",
    "    </colgroup>\n",
    "    <tr>\n",
    "        <th align=\"center\">Operator</th>\n",
    "        <th align=\"center\">Description</th>\n",
    "        <th align=\"center\">Example</th>\n",
    "    </tr>\n",
    "    <tr>\n",
    "        <td>in</td>\n",
    "        <td>Evaluates to true if it <b>finds</b> the object in the specified sequence and false otherwise.</td>\n",
    "        <td>y in x, here <i><b>in</b></i> results in a true if y is a member of sequence x.</td>\n",
    "    </tr>\n",
    "    <tr>\n",
    "        <td>not in</td>\n",
    "        <td>Evaluates to true if it <b>does not finds</b> a variable in the specified sequence and false otherwise.</td>\n",
    "        <td>z not in x, here <i><b>not in</b></i> results in a true if z is not a member of sequence x.</td>\n",
    "    </tr>\n",
    "</table>\n",
    "<div style=\"page-break-after: always; break-after: page;\"></div>"
   ]
  },
  {
   "cell_type": "markdown",
   "metadata": {},
   "source": [
    "We can use Membership operators to check whether the given object present in the given collection. (It may be String,List,Set,Tuple or Dict)  \n",
    "\n",
    "- **in** ==> Returns True if the given object present in the specified Collection\n",
    "- **not in** ==> Retruns True if the given object not present in the specified Collection"
   ]
  },
  {
   "cell_type": "code",
   "execution_count": null,
   "metadata": {},
   "outputs": [],
   "source": [
    "x=\"hello learning Python is very easy!!!\"\n",
    "print('h' in x) \n",
    "print('d' in x)\n",
    "print('d' not in x)\n",
    "print('Python' in x)"
   ]
  },
  {
   "cell_type": "code",
   "execution_count": null,
   "metadata": {},
   "outputs": [],
   "source": [
    "list1=[\"sunny\",\"bunny\",\"chinny\",\"pinny\"]\n",
    "print(\"sunny\" in list1) \n",
    "print(\"tunny\" in list1)\n",
    "print(\"tunny\" not in list1) "
   ]
  },
  {
   "cell_type": "markdown",
   "metadata": {},
   "source": [
    "### 6. Identity Operators\n",
    "Identity operators compare the memory locations of two objects. Note that this is not equivalent to the comparison operator **==** as that compares the values of the variables and identity operators compare the physical memory address of the objects. Memory addresses can shown using the built-in function id(). \n",
    "\n",
    "Assume that the variables a = 1001, b = 1000 + 1 and c = a.  "
   ]
  },
  {
   "cell_type": "markdown",
   "metadata": {},
   "source": [
    "<style>\n",
    "    tr:nth-child(even) { background-color:#f2f2f2; }\n",
    "    table: width=\"100%\"\n",
    "</style>\n",
    "<table align=\"center\" border=1>\n",
    "    <colgroup>\n",
    "       <col span=\"1\" style=\"width: 20%;\">\n",
    "       <col span=\"1\" style=\"width: 60%;\">\n",
    "       <col span=\"1\" style=\"width: 20%;\">\n",
    "    </colgroup>\n",
    "    <tr>\n",
    "        <th align=\"center\">Operator</th>\n",
    "        <th align=\"center\">Description</th>\n",
    "        <th align=\"center\">Example</th>\n",
    "    </tr>\n",
    "    <tr>\n",
    "        <td>is</td>\n",
    "        <td>Evaluates to true if the variables on either side of the operator point to the same object and false otherwise.</td>\n",
    "        <td>c is a, here <i><b>is</b></i> results in a true if id(c) equals id(a).</td>\n",
    "    </tr>\n",
    "    <tr>\n",
    "        <td>is not</td>\n",
    "        <td>Evaluates to false if the variables on either side of the operator point to the same object and true otherwise.</td>\n",
    "        <td>a is not b, here <i><b>is not</b></i> results in a true if id(a) is not equal to id(b).</td>\n",
    "    </tr>\n",
    "</table>"
   ]
  },
  {
   "cell_type": "markdown",
   "metadata": {},
   "source": [
    "### Examples"
   ]
  },
  {
   "cell_type": "code",
   "execution_count": null,
   "metadata": {},
   "outputs": [],
   "source": [
    "a=10\n",
    "b=10\n",
    "print(a is b) \n",
    "x=True\n",
    "y=True\n",
    "print( x is y) "
   ]
  },
  {
   "cell_type": "code",
   "execution_count": null,
   "metadata": {},
   "outputs": [],
   "source": [
    "a=\"DigiPen\"\n",
    "b=\"DigiPen\"\n",
    "print(id(a))\n",
    "print(id(b))\n",
    "print(a is b)"
   ]
  },
  {
   "cell_type": "code",
   "execution_count": null,
   "metadata": {},
   "outputs": [],
   "source": [
    "list1=[\"one\",\"two\",\"three\"]\n",
    "list2=[\"one\",\"two\",\"three\"]\n",
    "print(id(list1))\n",
    "print(id(list2))\n",
    "print(list1 is list2) \n",
    "print(list1 is not list2) \n",
    "print(list1 == list2) "
   ]
  },
  {
   "cell_type": "markdown",
   "metadata": {},
   "source": [
    "### 7. Bitwise Operators  \n",
    "\n",
    "We can apply these operators bitwise. These operators are applicable only for int and boolean types. By mistake if we are trying to apply for any other type then we will get Error.\n",
    "\n",
    "Bitwise operators only works on bits and performs bit-by-bit operations.   \n",
    "Assume that the variables **a = 0011 1100 binary for 60 and b = 0000 1101 binary for 13.**  \n",
    "\n",
    "Note binary representation of integer number can obtained from the built-in function `bin()`."
   ]
  },
  {
   "cell_type": "markdown",
   "metadata": {},
   "source": [
    "<style>\n",
    "    tr:nth-child(even) { background-color:#f2f2f2; }\n",
    "    table: width=\"100%\"\n",
    "</style>\n",
    "<table align=\"center\" border=1>\n",
    "    <colgroup>\n",
    "       <col span=\"1\" style=\"width: 20%;\">\n",
    "       <col span=\"1\" style=\"width: 57%;\">\n",
    "       <col span=\"1\" style=\"width: 23%;\">\n",
    "    </colgroup>\n",
    "    <tr>\n",
    "        <th align=\"center\">Operator</th>\n",
    "        <th align=\"center\">Description</th>\n",
    "        <th align=\"center\">Example</th>\n",
    "    </tr>\n",
    "    <tr>\n",
    "        <td>&amp; (binary AND)</td>\n",
    "        <td>Copies a bit, to the result, if there exista a bit at the same position of the operand.</td>\n",
    "        <td>(a &amp; b) = 12 (0000 1100 in binary)</td>\n",
    "    </tr>\n",
    "    <tr>\n",
    "        <td>| (binary OR)</td>\n",
    "        <td>Copies a bit, to the result, if there exists a bit in either position of the operand.</td>\n",
    "        <td>(a | b) = 61 (0011 1101 in binary)</td>\n",
    "    </tr>\n",
    "    <tr>\n",
    "        <td>^ (binary XOR)</td>\n",
    "        <td>Copies the bit, to the result, set 1 if the bits in the operands are different and 0 if they are the same.</td>\n",
    "        <td>(a ^ b) = 49 (0011 0001 in binary)</td>\n",
    "    </tr>\n",
    "    <tr>\n",
    "        <td>~ (binary Ones Complement)</td>\n",
    "        <td>Each bit position in the result is the logical negation of the bit in the operand. It has the effect of 'flipping' bits</td>\n",
    "        <td>(~a ) = -61 (1100 0011 in binary but in 2's complement form due to a signed binary number)</td>\n",
    "    </tr>\n",
    "    <tr>\n",
    "        <td>&lt;&lt; (binary Left Shift)</td>\n",
    "        <td>Left operand's value is moved left by the number of bits specified by the right operand.</td>\n",
    "        <td>a &lt;&lt; 2 = 240 (1111 0000 in binary)</td>\n",
    "    </tr>\n",
    "    <tr>\n",
    "        <td>&gt;&gt; (binary Right Shift)</td>\n",
    "        <td>Left operand's value is moved right by the number of bits specified by the right operand.</td>\n",
    "        <td>a &gt;&gt; 2 = 15 (0000 1111 in binary)</td>\n",
    "    </tr>\n",
    "</table>\n",
    "<div style=\"page-break-after: always; break-after: page;\"></div>"
   ]
  },
  {
   "cell_type": "code",
   "execution_count": null,
   "metadata": {},
   "outputs": [],
   "source": [
    "print(4&5) \n",
    "print(4|5) \n",
    "print(4^5) \n",
    "print(12<<2)\n",
    "print(12>>2)"
   ]
  },
  {
   "cell_type": "markdown",
   "metadata": {},
   "source": [
    "**Note:**\n",
    "The most significant bit acts as sign bit. 0 value represents +ve number where as 1 represents -ve value.\n",
    "positive numbers will be repesented directly in the memory where as -ve numbers will be represented indirectly in 2's complement form."
   ]
  },
  {
   "cell_type": "markdown",
   "metadata": {},
   "source": [
    "### 8. Operators Precedence\n",
    "The brackets that is used in conjunction with operators are the rounded brackets () . These brackets are used to group equations that are to be evaluated together. But if the rounded brackets are omitted, operators following the operators precedence order according to the table below is used to evaluate the equation. \n",
    "\n",
    "Note that if the operators have the same precedence, the operators are evaluated from left to right. Refer to the examples after the table."
   ]
  },
  {
   "cell_type": "markdown",
   "metadata": {},
   "source": [
    "<style>\n",
    "    tr:nth-child(even) { background-color:#f2f2f2; }\n",
    "    table: width=\"100%\"\n",
    "</style>\n",
    "<table align=\"center\" border=1>\n",
    "    <colgroup>\n",
    "       <col span=\"1\" style=\"width: 15%;\">\n",
    "       <col span=\"1\" style=\"width: 15%;\">\n",
    "       <col span=\"1\" style=\"width: 70%;\">\n",
    "    </colgroup>\n",
    "    <tr>\n",
    "        <th align=\"center\"></th>\n",
    "        <th align=\"center\">Operator</th>\n",
    "        <th align=\"center\">Descriptor</th>\n",
    "    </tr>\n",
    "    <tr>\n",
    "        <td align=\"center\">Highest Precedence</td>\n",
    "        <td>**</td>\n",
    "        <td>Exponentiation (raise to the power of)</td>\n",
    "    </tr>\n",
    "    <tr>\n",
    "        <td align=\"center\"></td>\n",
    "        <td>~ + -</td>\n",
    "        <td>Complement, Unary Plus and Minus</td>\n",
    "    </tr>\n",
    "    <tr>\n",
    "        <td align=\"center\"></td>\n",
    "        <td>* / % //</td>\n",
    "        <td>Multiply, Divide, Modulus and Floor Division</td>\n",
    "    </tr>\n",
    "    <tr>\n",
    "        <td align=\"center\"></td>\n",
    "        <td>+ -</td>\n",
    "        <td>Addition and Subtraction</td>\n",
    "    </tr>\n",
    "    <tr>\n",
    "        <td align=\"center\"></td>\n",
    "        <td>&gt;&gt; &lt;&lt;</td>\n",
    "        <td>Right and Left Bitwise Shift</td>\n",
    "    </tr>\n",
    "    <tr>\n",
    "        <td align=\"center\"></td>\n",
    "        <td>&amp;</td>\n",
    "        <td>Bitwise 'AND'</td>\n",
    "    </tr>\n",
    "    <tr>\n",
    "        <td align=\"center\"></td>\n",
    "        <td>^ |</td>\n",
    "        <td>Bitwise 'XOR' and regular 'OR'</td>\n",
    "    </tr>\n",
    "    <tr>\n",
    "        <td align=\"center\"></td>\n",
    "        <td>&lt;= &lt; &gt; &gt;=</td>\n",
    "        <td>Comparison operators</td>\n",
    "    </tr>\n",
    "    <tr>\n",
    "        <td align=\"center\"></td>\n",
    "        <td>&lt; &gt; == !=</td>\n",
    "        <td>Equality operators</td>\n",
    "    </tr>\n",
    "    <tr>\n",
    "        <td align=\"center\"></td>\n",
    "        <td>= %= /= //= -= += *= **=</td>\n",
    "        <td>Assignment operators</td>\n",
    "    </tr>\n",
    "    <tr>\n",
    "        <td align=\"center\"></td>\n",
    "        <td>is is not</td>\n",
    "        <td>Identity operators</td>\n",
    "    </tr>\n",
    "    <tr>\n",
    "        <td align=\"center\"></td>\n",
    "        <td>in not in</td>\n",
    "        <td>Membership operators</td>\n",
    "    </tr>\n",
    "    <tr>\n",
    "        <td align=\"center\">Lowest Precedence</td>\n",
    "        <td>not or and</td>\n",
    "        <td>Logical operators</td>\n",
    "    </tr>\n",
    "</table>"
   ]
  },
  {
   "cell_type": "markdown",
   "metadata": {},
   "source": [
    "### Examples"
   ]
  },
  {
   "cell_type": "code",
   "execution_count": null,
   "metadata": {},
   "outputs": [],
   "source": [
    "print(3+10*2)"
   ]
  },
  {
   "cell_type": "code",
   "execution_count": null,
   "metadata": {},
   "outputs": [],
   "source": [
    "print((3+10)*2) "
   ]
  },
  {
   "cell_type": "code",
   "execution_count": null,
   "metadata": {},
   "outputs": [],
   "source": [
    "a=30\n",
    "b=20\n",
    "c=10\n",
    "d=5\n",
    "print((a+b)*c/d) \n",
    "print((a+b)*(c/d)) \n",
    "print(a+(b*c)/d) "
   ]
  },
  {
   "cell_type": "code",
   "execution_count": null,
   "metadata": {},
   "outputs": [],
   "source": [
    "print(5+9/2*4)"
   ]
  },
  {
   "cell_type": "code",
   "execution_count": 3,
   "metadata": {
    "ExecuteTime": {
     "end_time": "2020-10-28T03:18:45.014117Z",
     "start_time": "2020-10-28T03:18:45.010090Z"
    }
   },
   "outputs": [
    {
     "data": {
      "text/plain": [
       "'0b11111111'"
      ]
     },
     "execution_count": 3,
     "metadata": {},
     "output_type": "execute_result"
    }
   ],
   "source": [
    "bin(255)"
   ]
  },
  {
   "cell_type": "markdown",
   "metadata": {},
   "source": [
    "## Standard Data Types"
   ]
  },
  {
   "cell_type": "markdown",
   "metadata": {},
   "source": [
    "Data Type represent the type of data present inside a variable. In Python we are not required to specify the type explicitly. Based on value provided,the type will be assigned automatically. `Hence Python is Dynamically Typed Language`.  "
   ]
  },
  {
   "cell_type": "markdown",
   "metadata": {},
   "source": [
    "Python contains the following inbuilt data types:   \n",
    "1. int  \n",
    "2. float  \n",
    "3. complex  \n",
    "4. bool  \n",
    "5. str  \n",
    "6. bytes  \n",
    "7. bytearray  \n",
    "8. range  \n",
    "9. list  \n",
    "10. tuple  \n",
    "11. set  \n",
    "12. frozenset  \n",
    "13. dict  \n",
    "14. None  "
   ]
  },
  {
   "attachments": {
    "id_10.PNG": {
     "image/png": "[encoded data removed]"
    }
   },
   "cell_type": "markdown",
   "metadata": {},
   "source": [
    "![id_10.PNG](attachment:id_10.PNG)"
   ]
  },
  {
   "cell_type": "markdown",
   "metadata": {},
   "source": [
    "#### Note: Python contains several inbuilt functions\n",
    "#### 1. type()  \n",
    "to check the type of variable\n",
    "#### 2. id()\n",
    "to get address of object\n",
    "#### 3. print()\n",
    "to print the value\n",
    "#### 4. isinstance()\n",
    "To find out if a literal or a variable is of a specific datatype, the `isinstance()` function can be used."
   ]
  },
  {
   "cell_type": "code",
   "execution_count": null,
   "metadata": {},
   "outputs": [],
   "source": [
    "print(type(7))             # <class 'int'>\n",
    "print(type(7) == int)      # True\n",
    "isinstance(7, int)         # True"
   ]
  },
  {
   "cell_type": "code",
   "execution_count": null,
   "metadata": {},
   "outputs": [],
   "source": [
    "print(isinstance(10, str))\n",
    "print(isinstance(5.8, float))\n",
    "print(isinstance('Digipen', str))\n",
    "print(isinstance(('John',), list))\n",
    "print(isinstance(500, int))"
   ]
  },
  {
   "cell_type": "code",
   "execution_count": null,
   "metadata": {},
   "outputs": [],
   "source": [
    "#Alternatevie way\n",
    "print(type(10) == str)\n",
    "print(type(5.8) == float)\n",
    "print(type('Digipen') == str)\n",
    "print(type(('John',)) == list)\n",
    "print(type(500) == int)"
   ]
  },
  {
   "cell_type": "markdown",
   "metadata": {},
   "source": [
    "### 1. `int` data type:"
   ]
  },
  {
   "cell_type": "code",
   "execution_count": null,
   "metadata": {},
   "outputs": [],
   "source": [
    "a = 10\n",
    "type(a)"
   ]
  },
  {
   "cell_type": "code",
   "execution_count": null,
   "metadata": {},
   "outputs": [],
   "source": [
    "b= 56\n",
    "type(b)"
   ]
  },
  {
   "cell_type": "markdown",
   "metadata": {},
   "source": [
    "We can represent int values in the following ways\n",
    "1. Decimal form\n",
    "2. Binary form\n",
    "3. Octal form\n",
    "4. Hexa decimal form"
   ]
  },
  {
   "cell_type": "markdown",
   "metadata": {},
   "source": [
    "**1. Decimal form(base-10):**    \n",
    "It is the default number system in Python  \n",
    "The allowed digits are: 0 to 9  \n",
    "Eg: a = 10"
   ]
  },
  {
   "cell_type": "markdown",
   "metadata": {},
   "source": [
    "**2. Binary form(Base-2):**  \n",
    "The allowed digits are : 0 & 1  \n",
    "Literal value should be prefixed with 0b or 0B  \n",
    "Eg: a = 0B1111  \n",
    "a=b111  "
   ]
  },
  {
   "cell_type": "markdown",
   "metadata": {},
   "source": [
    "**3. Octal Form(Base-8):**  \n",
    "The allowed digits are : 0 to 7  \n",
    "Literal value should be prefixed with 0o or 0O.  \n",
    "\n",
    "Eg: a=0o123  "
   ]
  },
  {
   "cell_type": "markdown",
   "metadata": {},
   "source": [
    "**4. Hexa Decimal Form(Base-16):**  \n",
    "The allowed digits are : 0 to 9, a-f (both lower and upper cases are allowed)  \n",
    "Literal value should be prefixed with 0x or 0X  \n",
    "Eg:\n",
    "a =0XFACE  \n",
    "a=0XBeef  "
   ]
  },
  {
   "cell_type": "markdown",
   "metadata": {},
   "source": [
    "**Note:**  \n",
    "Being a programmer we can specify literal values in decimal, binary, octal and hexa decimal forms. But PVM will always provide values only in decimal form."
   ]
  },
  {
   "cell_type": "code",
   "execution_count": 5,
   "metadata": {
    "ExecuteTime": {
     "end_time": "2020-10-28T03:35:47.404866Z",
     "start_time": "2020-10-28T03:35:47.400837Z"
    }
   },
   "outputs": [
    {
     "name": "stdout",
     "output_type": "stream",
     "text": [
      "10\n",
      "8\n",
      "16\n",
      "2\n"
     ]
    }
   ],
   "source": [
    "a=10\n",
    "b=0o10\n",
    "c=0X10\n",
    "d=0B10\n",
    "print(a)   #10\n",
    "print(b)   #8\n",
    "print(c)   #16\n",
    "print(d)   #2"
   ]
  },
  {
   "cell_type": "markdown",
   "metadata": {},
   "source": [
    "#### Base Conversions\n",
    "Python provide the following in-built functions for base conversions"
   ]
  },
  {
   "cell_type": "markdown",
   "metadata": {},
   "source": [
    "**1.bin():**  \n",
    "We can use bin() to convert from any base to binary"
   ]
  },
  {
   "cell_type": "code",
   "execution_count": null,
   "metadata": {},
   "outputs": [],
   "source": [
    "#Ex:\n",
    "bin(15)   #'0b1111'\n",
    "bin(0o11) #'0b1001'\n",
    "bin(0X10) #'0b10000'"
   ]
  },
  {
   "cell_type": "markdown",
   "metadata": {},
   "source": [
    "**2. oct():**  \n",
    "We can use oct() to convert from any base to octal"
   ]
  },
  {
   "cell_type": "code",
   "execution_count": null,
   "metadata": {},
   "outputs": [],
   "source": [
    "oct(10)     #'0o12'\n",
    "oct(0B1111) #'0o17'\n",
    "oct(0X123)  #'0o443'"
   ]
  },
  {
   "cell_type": "markdown",
   "metadata": {},
   "source": [
    "**3. hex():**  \n",
    "We can use hex() to convert from any base to hexa decimal"
   ]
  },
  {
   "cell_type": "code",
   "execution_count": null,
   "metadata": {},
   "outputs": [],
   "source": [
    "#Ex:\n",
    "hex(100)   #'0x64'\n",
    "hex(0B111111)  #'0x3f'\n",
    "hex(0o12345)   #'0x14e5'"
   ]
  },
  {
   "cell_type": "markdown",
   "metadata": {},
   "source": [
    "### 2. `float` data type:"
   ]
  },
  {
   "cell_type": "code",
   "execution_count": null,
   "metadata": {},
   "outputs": [],
   "source": [
    "f=1.234\n",
    "type(f)"
   ]
  },
  {
   "cell_type": "code",
   "execution_count": null,
   "metadata": {},
   "outputs": [],
   "source": [
    "#We can also represent floating point values by using exponential form (scientific notation)\n",
    "#The main advantage of exponential form is we can represent big values in less memory.\n",
    "f=1.2e3\n",
    "print(f)\n",
    "print(type(f))"
   ]
  },
  {
   "cell_type": "markdown",
   "metadata": {},
   "source": [
    "**Note:**  \n",
    "We can represent int values in decimal, binary, octal and hexa decimal forms. But we can\n",
    "represent float values only by using decimal form."
   ]
  },
  {
   "cell_type": "code",
   "execution_count": null,
   "metadata": {},
   "outputs": [],
   "source": [
    "f=0B11.01   #SyntaxError: invalid syntax"
   ]
  },
  {
   "cell_type": "code",
   "execution_count": null,
   "metadata": {},
   "outputs": [],
   "source": [
    "f=0o123.456   #SyntaxError: invalid syntax"
   ]
  },
  {
   "cell_type": "code",
   "execution_count": null,
   "metadata": {},
   "outputs": [],
   "source": [
    "f=0X123.456    #SyntaxError: invalid syntax"
   ]
  },
  {
   "cell_type": "markdown",
   "metadata": {},
   "source": [
    "### 3. `Complex` Data Type:"
   ]
  },
  {
   "attachments": {
    "image.png": {
     "image/png": "[encoded data removed]"
    }
   },
   "cell_type": "markdown",
   "metadata": {},
   "source": [
    "A complex number is of the form\n",
    "\n",
    "![image.png](attachment:image.png)\n"
   ]
  },
  {
   "cell_type": "code",
   "execution_count": null,
   "metadata": {},
   "outputs": [],
   "source": [
    "#a and b contain intergers or floating point values\n",
    "print(3+5j)\n",
    "print(10+5.5j)\n",
    "print(0.5+0.1j)"
   ]
  },
  {
   "cell_type": "code",
   "execution_count": null,
   "metadata": {},
   "outputs": [],
   "source": [
    "a=10+1.5j\n",
    "b=20+2.5j\n",
    "c=a+b\n",
    "print(c)\n",
    "print(type(c))"
   ]
  },
  {
   "cell_type": "code",
   "execution_count": null,
   "metadata": {},
   "outputs": [],
   "source": [
    "##Note: Complex data type has some inbuilt attributes to retrieve the real part and imaginary part\n",
    "c=10.5+3.6j\n",
    "print(c.real)\n",
    "print(c.imag)"
   ]
  },
  {
   "cell_type": "markdown",
   "metadata": {},
   "source": [
    "### 4. `bool` data type:"
   ]
  },
  {
   "cell_type": "markdown",
   "metadata": {},
   "source": [
    "We can use this data type to represent boolean values. The only allowed values for this data type are: `True and False`  \n",
    "Internally Python represents `True as 1` and `False as 0`  "
   ]
  },
  {
   "cell_type": "code",
   "execution_count": null,
   "metadata": {},
   "outputs": [],
   "source": [
    "b=True\n",
    "type(b)"
   ]
  },
  {
   "cell_type": "code",
   "execution_count": null,
   "metadata": {},
   "outputs": [],
   "source": [
    "a=10\n",
    "b=20\n",
    "c=a<b\n",
    "print(c)"
   ]
  },
  {
   "cell_type": "markdown",
   "metadata": {},
   "source": [
    "**True + True==>2**  \n",
    "**True - False==>1**"
   ]
  },
  {
   "cell_type": "markdown",
   "metadata": {},
   "source": [
    "### 5. `str` data type:"
   ]
  },
  {
   "cell_type": "markdown",
   "metadata": {},
   "source": [
    "`str` represents String data type.   \n",
    "A String is a sequence of characters enclosed within `single quotes or double quotes`."
   ]
  },
  {
   "cell_type": "code",
   "execution_count": null,
   "metadata": {},
   "outputs": [],
   "source": [
    "s1='DigiPen'\n",
    "s2=\"DigiPen\""
   ]
  },
  {
   "cell_type": "markdown",
   "metadata": {},
   "source": [
    "By using single quotes or double quotes we cannot represent multi line string literals."
   ]
  },
  {
   "cell_type": "markdown",
   "metadata": {},
   "source": [
    "For this requirement we should go for triple single quotes(''') or triple double quotes(\"\"\")"
   ]
  },
  {
   "cell_type": "code",
   "execution_count": null,
   "metadata": {},
   "outputs": [],
   "source": [
    "s1='''DigiPen\n",
    "Institute'''"
   ]
  },
  {
   "cell_type": "code",
   "execution_count": null,
   "metadata": {},
   "outputs": [],
   "source": [
    "s=\"DigiPen\"\n",
    "s[0]\n",
    "s[1]\n",
    "s[-1]"
   ]
  },
  {
   "cell_type": "markdown",
   "metadata": {},
   "source": [
    "**Note:**  \n",
    "1. In Python the following data types are considered as Fundamental Data types  \n",
    "    - int\n",
    "    - float\n",
    "    - complex\n",
    "    - bool\n",
    "    - str    \n",
    "\n",
    "2. In Python,we can represent char values also by using str type and explicitly char type is not available."
   ]
  },
  {
   "cell_type": "code",
   "execution_count": null,
   "metadata": {},
   "outputs": [],
   "source": [
    "c='a'\n",
    "type(c)"
   ]
  },
  {
   "cell_type": "markdown",
   "metadata": {},
   "source": [
    "### Type Casting"
   ]
  },
  {
   "cell_type": "markdown",
   "metadata": {},
   "source": [
    "The following are various inbuilt functions for type casting.  \n",
    "1. int()\n",
    "2. float()\n",
    "3. complex()\n",
    "4. bool()\n",
    "5. str()"
   ]
  },
  {
   "cell_type": "markdown",
   "metadata": {},
   "source": [
    "**1.int():**  \n",
    "We can use this function to convert values from other types to int"
   ]
  },
  {
   "cell_type": "code",
   "execution_count": null,
   "metadata": {},
   "outputs": [],
   "source": [
    "int(123.987)"
   ]
  },
  {
   "cell_type": "code",
   "execution_count": null,
   "metadata": {},
   "outputs": [],
   "source": [
    "int(10+5j)"
   ]
  },
  {
   "cell_type": "code",
   "execution_count": null,
   "metadata": {},
   "outputs": [],
   "source": [
    "int(True)"
   ]
  },
  {
   "cell_type": "code",
   "execution_count": null,
   "metadata": {},
   "outputs": [],
   "source": [
    "int(False)"
   ]
  },
  {
   "cell_type": "code",
   "execution_count": null,
   "metadata": {},
   "outputs": [],
   "source": [
    "int(\"10\")"
   ]
  },
  {
   "cell_type": "code",
   "execution_count": null,
   "metadata": {},
   "outputs": [],
   "source": [
    "int(\"10.5\")"
   ]
  },
  {
   "cell_type": "markdown",
   "metadata": {},
   "source": [
    "**Note:**  \n",
    "1. We can convert from any type to int except complex type.\n",
    "2. If we want to convert str type to int type, compulsary str should contain only integral\n",
    "value and should be specified in base-10"
   ]
  },
  {
   "cell_type": "markdown",
   "metadata": {},
   "source": [
    "**2. float():**  \n",
    "We can use float() function to convert other type values to float type."
   ]
  },
  {
   "cell_type": "code",
   "execution_count": null,
   "metadata": {},
   "outputs": [],
   "source": [
    "float(10)"
   ]
  },
  {
   "cell_type": "code",
   "execution_count": null,
   "metadata": {},
   "outputs": [],
   "source": [
    "float(10+5j)"
   ]
  },
  {
   "cell_type": "code",
   "execution_count": null,
   "metadata": {},
   "outputs": [],
   "source": [
    "float(True)"
   ]
  },
  {
   "cell_type": "code",
   "execution_count": null,
   "metadata": {},
   "outputs": [],
   "source": [
    "float(False)"
   ]
  },
  {
   "cell_type": "code",
   "execution_count": null,
   "metadata": {},
   "outputs": [],
   "source": [
    "float(\"10\")"
   ]
  },
  {
   "cell_type": "code",
   "execution_count": null,
   "metadata": {},
   "outputs": [],
   "source": [
    "float(\"10.5\")"
   ]
  },
  {
   "cell_type": "code",
   "execution_count": null,
   "metadata": {},
   "outputs": [],
   "source": [
    "float(\"ten\")"
   ]
  },
  {
   "cell_type": "markdown",
   "metadata": {},
   "source": [
    "**Note:**  \n",
    "1. We can convert any type value to float type except complex type.  \n",
    "2. Whenever we are trying to convert str type to float type compulsary str should be either integral or floating point literal and should be specified only in base-10."
   ]
  },
  {
   "cell_type": "markdown",
   "metadata": {},
   "source": [
    "**3.complex():**  \n",
    "We can use complex() function to convert other types to complex type."
   ]
  },
  {
   "cell_type": "markdown",
   "metadata": {},
   "source": [
    "**Form-1: complex(x)**  \n",
    "We can use this function to convert x into complex number with real part x and imaginary part 0."
   ]
  },
  {
   "cell_type": "code",
   "execution_count": null,
   "metadata": {},
   "outputs": [],
   "source": [
    "complex(10)"
   ]
  },
  {
   "cell_type": "code",
   "execution_count": null,
   "metadata": {},
   "outputs": [],
   "source": [
    "complex(10.5)"
   ]
  },
  {
   "cell_type": "code",
   "execution_count": null,
   "metadata": {},
   "outputs": [],
   "source": [
    "complex(True)"
   ]
  },
  {
   "cell_type": "code",
   "execution_count": null,
   "metadata": {},
   "outputs": [],
   "source": [
    "complex(False)"
   ]
  },
  {
   "cell_type": "code",
   "execution_count": null,
   "metadata": {},
   "outputs": [],
   "source": [
    "complex(\"10\")"
   ]
  },
  {
   "cell_type": "code",
   "execution_count": null,
   "metadata": {},
   "outputs": [],
   "source": [
    "complex(\"10.5\")"
   ]
  },
  {
   "cell_type": "code",
   "execution_count": null,
   "metadata": {},
   "outputs": [],
   "source": [
    "complex(10,-2)"
   ]
  },
  {
   "cell_type": "code",
   "execution_count": null,
   "metadata": {},
   "outputs": [],
   "source": [
    "complex(True,False)"
   ]
  },
  {
   "cell_type": "markdown",
   "metadata": {},
   "source": [
    "**Form-2: complex(x,y)**  \n",
    "We can use this method to convert x and y into complex number such that x will be real part and y will be imaginary part.  \n",
    "Eg: \n",
    "complex(10,-2)==>10-2j  \n",
    "complex(True,False)==>1+0j"
   ]
  },
  {
   "cell_type": "markdown",
   "metadata": {},
   "source": [
    "**4. bool():**  \n",
    "We can use this function to convert other type values to bool type."
   ]
  },
  {
   "cell_type": "code",
   "execution_count": null,
   "metadata": {},
   "outputs": [],
   "source": [
    "print(bool(0))\n",
    "print(bool(1))\n",
    "print(bool(10))\n",
    "print(bool(10.5))\n",
    "print(bool(0.178))\n",
    "print(bool(0.0))\n",
    "print(bool(10-2j))\n",
    "print(bool(0+1.5j))\n",
    "print(bool(0+0j))\n",
    "print(bool(\"True\"))\n",
    "print(bool(\"False\"))\n",
    "print(bool(\"\"))"
   ]
  },
  {
   "cell_type": "markdown",
   "metadata": {},
   "source": [
    "**5. str():**  \n",
    "    We can use this method to convert other type values to str type"
   ]
  },
  {
   "cell_type": "code",
   "execution_count": null,
   "metadata": {},
   "outputs": [],
   "source": [
    "str(10)"
   ]
  },
  {
   "cell_type": "code",
   "execution_count": null,
   "metadata": {},
   "outputs": [],
   "source": [
    "str(10.5)"
   ]
  },
  {
   "cell_type": "code",
   "execution_count": null,
   "metadata": {},
   "outputs": [],
   "source": [
    "str(10+5j)"
   ]
  },
  {
   "cell_type": "code",
   "execution_count": null,
   "metadata": {},
   "outputs": [],
   "source": [
    "str(True)"
   ]
  },
  {
   "cell_type": "markdown",
   "metadata": {},
   "source": [
    "### Fundamental Data Types vs Immutability:"
   ]
  },
  {
   "cell_type": "markdown",
   "metadata": {},
   "source": [
    "All Fundamental Data types are immutable. i.e once we creates an object,we cannot perform any changes in that object. If we are trying to change then with those changes a new object will be created. This non-chageable behaviour is called `immutability`."
   ]
  },
  {
   "cell_type": "markdown",
   "metadata": {},
   "source": [
    "In Python if a new object is required, then PVM wont create object immediately. First it will check is any object available with the required content or not. If available then existing object will be reused. If it is not available then only a new object will be created. The advantage of this approach is memory utilization and performance will be improved."
   ]
  },
  {
   "cell_type": "code",
   "execution_count": null,
   "metadata": {},
   "outputs": [],
   "source": [
    "a=10\n",
    "b=10\n",
    "print(a is b)\n",
    "print(id(a))\n",
    "print(id(b))"
   ]
  },
  {
   "cell_type": "markdown",
   "metadata": {},
   "source": [
    "### 6. `bytes` Data Type:\n",
    "bytes data type represens a group of byte numbers just like an array."
   ]
  },
  {
   "cell_type": "code",
   "execution_count": null,
   "metadata": {},
   "outputs": [],
   "source": [
    "x = [10,20,30,40]\n",
    "b = bytes(x)\n",
    "print(type(b))"
   ]
  },
  {
   "cell_type": "code",
   "execution_count": null,
   "metadata": {},
   "outputs": [],
   "source": [
    "print(b[0])\n",
    "print(b[-1])"
   ]
  },
  {
   "cell_type": "markdown",
   "metadata": {},
   "source": [
    "- The only allowed values for byte data type are `0 to 256`. By mistake if we are trying to provide any other values then we will get `value error`. \n",
    "- Once we creates bytes data type value, we cannot change its values, otherwise we will get `TypeError`."
   ]
  },
  {
   "cell_type": "markdown",
   "metadata": {},
   "source": [
    "### 7. `bytearray` Data type:\n",
    "bytearray is exactly same as bytes data type except that its elements can be modified."
   ]
  },
  {
   "cell_type": "code",
   "execution_count": null,
   "metadata": {},
   "outputs": [],
   "source": [
    "x=[10,20,30,40]\n",
    "b = bytearray(x)\n",
    "print(type(b))"
   ]
  },
  {
   "cell_type": "code",
   "execution_count": null,
   "metadata": {},
   "outputs": [],
   "source": [
    "x =[10,257]\n",
    "b = bytearray(x)"
   ]
  },
  {
   "cell_type": "markdown",
   "metadata": {},
   "source": [
    "### 8. `list` data type:  \n",
    "If we want to represent a group of values as a single entity where insertion order required to preserve and duplicates are allowed then we should go for list data type."
   ]
  },
  {
   "cell_type": "code",
   "execution_count": null,
   "metadata": {},
   "outputs": [],
   "source": [
    "list=[10,10.5,'durga',True,10]\n",
    "print(list)"
   ]
  },
  {
   "cell_type": "code",
   "execution_count": null,
   "metadata": {},
   "outputs": [],
   "source": [
    "list[0]"
   ]
  },
  {
   "cell_type": "code",
   "execution_count": null,
   "metadata": {},
   "outputs": [],
   "source": [
    "list[-1]"
   ]
  },
  {
   "cell_type": "code",
   "execution_count": null,
   "metadata": {},
   "outputs": [],
   "source": [
    "list[0]=100"
   ]
  },
  {
   "cell_type": "code",
   "execution_count": null,
   "metadata": {},
   "outputs": [],
   "source": [
    "print(list)"
   ]
  },
  {
   "cell_type": "markdown",
   "metadata": {},
   "source": [
    "### 9. `tuple` data type:  \n",
    "tuple data type is exactly same as list data type except that it is immutable. i.e we can not chage values. Tuple elements can be represented within parenthesis."
   ]
  },
  {
   "cell_type": "code",
   "execution_count": null,
   "metadata": {},
   "outputs": [],
   "source": [
    "t=(10,20,30,40)\n",
    "type(t)"
   ]
  },
  {
   "cell_type": "code",
   "execution_count": null,
   "metadata": {},
   "outputs": [],
   "source": [
    "t[0]=100"
   ]
  },
  {
   "cell_type": "markdown",
   "metadata": {},
   "source": [
    "**Note:** tuple is the read only version of list"
   ]
  },
  {
   "cell_type": "markdown",
   "metadata": {},
   "source": [
    "### 10. `range` data Type:  \n",
    "range data type represents a sequence of numbers. The elements present in range data type are not modifiable. i.e range Data type is immutable."
   ]
  },
  {
   "cell_type": "code",
   "execution_count": null,
   "metadata": {},
   "outputs": [],
   "source": [
    "range(10)"
   ]
  },
  {
   "cell_type": "code",
   "execution_count": null,
   "metadata": {},
   "outputs": [],
   "source": [
    "r=range(10)\n",
    "for i in r : \n",
    "    print(i)"
   ]
  },
  {
   "cell_type": "code",
   "execution_count": null,
   "metadata": {},
   "outputs": [],
   "source": [
    "r = range(10,20,2)\n",
    "for i in r : \n",
    "    print(i)"
   ]
  },
  {
   "cell_type": "code",
   "execution_count": null,
   "metadata": {},
   "outputs": [],
   "source": [
    "r[0]   "
   ]
  },
  {
   "cell_type": "code",
   "execution_count": null,
   "metadata": {},
   "outputs": [],
   "source": [
    "r[15]"
   ]
  },
  {
   "cell_type": "code",
   "execution_count": null,
   "metadata": {},
   "outputs": [],
   "source": [
    "r[0]=100"
   ]
  },
  {
   "cell_type": "markdown",
   "metadata": {},
   "source": [
    "### 11. `set` data type:\n",
    "If we want to represent a group of values without duplicates where order is not important then we should go for set data type.  \n",
    "1. insertion order is not preserved\n",
    "2. duplicates are not allowed\n",
    "3. heterogeneous objects are allowed\n",
    "4. index concept is not applicable\n",
    "5. It is mutable collection\n",
    "6. Growable in nature"
   ]
  },
  {
   "cell_type": "code",
   "execution_count": null,
   "metadata": {},
   "outputs": [],
   "source": [
    "s={100,0,10,200,10,'durga'}\n",
    "s"
   ]
  },
  {
   "cell_type": "code",
   "execution_count": null,
   "metadata": {},
   "outputs": [],
   "source": [
    "s[0]"
   ]
  },
  {
   "cell_type": "code",
   "execution_count": null,
   "metadata": {},
   "outputs": [],
   "source": [
    "s.add(60)\n",
    "print(s)"
   ]
  },
  {
   "cell_type": "code",
   "execution_count": null,
   "metadata": {},
   "outputs": [],
   "source": [
    "s.remove(100)\n",
    "print(s)"
   ]
  },
  {
   "cell_type": "markdown",
   "metadata": {},
   "source": [
    "### 12. `frozenset` data type:"
   ]
  },
  {
   "cell_type": "markdown",
   "metadata": {},
   "source": [
    "It is exactly same as set except that it is immutable. Hence we cannot use add or remove functions."
   ]
  },
  {
   "cell_type": "code",
   "execution_count": null,
   "metadata": {},
   "outputs": [],
   "source": [
    "s={10,20,30,40}\n",
    "fs=frozenset(s)\n",
    "print(type(fs))\n",
    "print(fs)"
   ]
  },
  {
   "cell_type": "code",
   "execution_count": null,
   "metadata": {},
   "outputs": [],
   "source": [
    "fs.add(70)"
   ]
  },
  {
   "cell_type": "code",
   "execution_count": null,
   "metadata": {},
   "outputs": [],
   "source": [
    "fs.remove(10)"
   ]
  },
  {
   "cell_type": "markdown",
   "metadata": {},
   "source": [
    "### 13. `dict` data type:\n",
    "If we want to represent a group of values as key-value pairs then we should go for dict data type. dict is mutable and the order wont be preserved."
   ]
  },
  {
   "cell_type": "code",
   "execution_count": null,
   "metadata": {},
   "outputs": [],
   "source": [
    "d={101:'durga',102:'ravi',103:'shiva'}\n",
    "print(d)"
   ]
  },
  {
   "cell_type": "markdown",
   "metadata": {},
   "source": [
    "Duplicate keys are not allowed but values can be duplicated. If we are trying to insert an entry with duplicate key then old value will be replaced with new value."
   ]
  },
  {
   "cell_type": "code",
   "execution_count": null,
   "metadata": {},
   "outputs": [],
   "source": [
    "d={101:'durga',102:'ravi',103:'shiva'}"
   ]
  },
  {
   "cell_type": "code",
   "execution_count": null,
   "metadata": {},
   "outputs": [],
   "source": [
    "d[101]='sunny'"
   ]
  },
  {
   "cell_type": "code",
   "execution_count": null,
   "metadata": {},
   "outputs": [],
   "source": [
    "print(d)"
   ]
  },
  {
   "cell_type": "markdown",
   "metadata": {},
   "source": [
    "**Note:** In general we can use bytes and bytearray data types to represent binary information like images,video files etc"
   ]
  },
  {
   "cell_type": "markdown",
   "metadata": {},
   "source": [
    "### 14. `None` data type:\n",
    "\n",
    "None means Nothing or No value associated. If the value is not available,then to handle such type of cases None introduced."
   ]
  },
  {
   "cell_type": "code",
   "execution_count": null,
   "metadata": {},
   "outputs": [],
   "source": [
    "def m1():\n",
    "    a=10\n",
    "print(m1())"
   ]
  },
  {
   "cell_type": "markdown",
   "metadata": {},
   "source": [
    "## Expressions and Statements"
   ]
  },
  {
   "cell_type": "markdown",
   "metadata": {},
   "source": [
    "A **statement** is an instruction that the Python interpreter can execute. We have only seen the assignment statement so far. Some other kinds of statements that we’ll see shortly are `while` statements, `for` statements, `if` statements, and `import` statements. (There are other kinds too!)\n",
    "\n",
    "An **expression** is a combination of values, variables, operators, and calls to functions. Expressions need to be evaluated. If you ask Python to `print` an expression, the interpreter evaluates the expression and displays the result."
   ]
  },
  {
   "cell_type": "code",
   "execution_count": null,
   "metadata": {},
   "outputs": [],
   "source": [
    "print(1 + 1)\n",
    "print(len(\"hello\"))"
   ]
  },
  {
   "cell_type": "markdown",
   "metadata": {},
   "source": [
    "In this example len is a built-in Python function that returns the number of characters in a string. \n",
    "\n",
    "The evaluation of an expression produces a value, which is why expressions can appear on the right hand side of assignment statements. A value all by itself is a simple expression, and so is a variable. Evaluating a variable gives the value that the variable refers to."
   ]
  },
  {
   "cell_type": "code",
   "execution_count": null,
   "metadata": {},
   "outputs": [],
   "source": [
    "# variables \n",
    "a = 10\n",
    "b = 20\n",
    "str_val = \"hello\"\n",
    "\n",
    "a + b - 9\t# expresion, output: 21\n",
    "\n",
    "# where len() is a built-in Python function to return the \n",
    "# length of the string (for this example), output: 5\n",
    "print(len(str_val))\t"
   ]
  },
  {
   "cell_type": "markdown",
   "metadata": {},
   "source": [
    "In general terms, **a statement** is a complete instruction that a Python interpreter can execute. A statement may or may not return any value therefore an expression is **also** considered a statement. Statements can also be made up of more than one line of code. Examples of these statements are the `if` statement , `while` statement, `for` statement and many more which we will be looking at in the later chapters."
   ]
  },
  {
   "cell_type": "code",
   "execution_count": null,
   "metadata": {},
   "outputs": [],
   "source": [
    "#Examples\n",
    "10 + 3 - 9"
   ]
  },
  {
   "cell_type": "markdown",
   "metadata": {},
   "source": [
    "# Exercises"
   ]
  },
  {
   "cell_type": "code",
   "execution_count": null,
   "metadata": {},
   "outputs": [],
   "source": [
    "#Power Operations\n"
   ]
  },
  {
   "cell_type": "code",
   "execution_count": null,
   "metadata": {},
   "outputs": [],
   "source": [
    "#Modulo Operations\n"
   ]
  },
  {
   "cell_type": "markdown",
   "metadata": {},
   "source": [
    "**Q. This particular Data Type has 2 potential values (typically True or False).**\n",
    "1. String \n",
    "2. Integer  \n",
    "3. Boolean\n",
    "4. Float"
   ]
  },
  {
   "cell_type": "markdown",
   "metadata": {},
   "source": [
    "**Q. Which of the following is an integer?**\n",
    "- 2\n",
    "- 0.2\n",
    "- .2\n",
    "- pi"
   ]
  },
  {
   "cell_type": "markdown",
   "metadata": {},
   "source": [
    "**Q. Which of the following is used to represent 'nothing'?**\n",
    "1. None\n",
    "2. Nil\n",
    "3. Nada\n",
    "4. No"
   ]
  },
  {
   "cell_type": "markdown",
   "metadata": {},
   "source": [
    "**Q. Which of the following is an example of a list of numbers?**\n",
    "1. y = [1,2,3,4,5]\n",
    "2. y = (1,2,3,4,5)\n",
    "3. y == \"1,2,3,4,5\"\n",
    "4. 12345 = y"
   ]
  },
  {
   "cell_type": "markdown",
   "metadata": {},
   "source": [
    "**Q. Which of these python statements will compare if a and b are the same?**\n",
    "1. if a = b\n",
    "2. if a != b\n",
    "3. if a == b"
   ]
  },
  {
   "cell_type": "markdown",
   "metadata": {},
   "source": [
    "# Summary"
   ]
  },
  {
   "cell_type": "markdown",
   "metadata": {},
   "source": [
    "- What is Operators and it's types\n",
    "- Different data types available in python\n",
    "- What is expression and statements"
   ]
  }
 ],
 "metadata": {
  "kernelspec": {
   "display_name": "Python 3",
   "language": "python",
   "name": "python3"
  },
  "language_info": {
   "codemirror_mode": {
    "name": "ipython",
    "version": 3
   },
   "file_extension": ".py",
   "mimetype": "text/x-python",
   "name": "python",
   "nbconvert_exporter": "python",
   "pygments_lexer": "ipython3",
   "version": "3.8.3"
  }
 },
 "nbformat": 4,
 "nbformat_minor": 2
}
