{
 "cells": [
  {
   "cell_type": "markdown",
   "metadata": {},
   "source": [
    "# Python Conditionals Exercise"
   ]
  },
  {
   "cell_type": "markdown",
   "metadata": {},
   "source": [
    "## Write codes based on the questions\n",
    "---"
   ]
  },
  {
   "cell_type": "markdown",
   "metadata": {},
   "source": [
    "Student Name: Soon Siang\n"
   ]
  },
  {
   "cell_type": "markdown",
   "metadata": {},
   "source": [
    "**Q1)** Implement a different way from the lecture for the program find the largest integer based off 3 user inputs of integers."
   ]
  },
  {
   "cell_type": "code",
   "execution_count": 43,
   "metadata": {
    "ExecuteTime": {
     "end_time": "2020-10-29T07:37:41.726598Z",
     "start_time": "2020-10-29T07:37:36.889530Z"
    }
   },
   "outputs": [
    {
     "name": "stdout",
     "output_type": "stream",
     "text": [
      "Enter first integer: 4343\n",
      "Enter second integer: 6452\n",
      "Enter third integer: 2324\n",
      "Max is 6452.\n"
     ]
    }
   ],
   "source": [
    "a, b, c = int(input(\"Enter first integer: \")), int(input(\"Enter second integer: \")), int(input(\"Enter third integer: \"))\n",
    "\n",
    "maxnum = a\n",
    "if maxnum < b:\n",
    "    maxnum = b\n",
    "if maxnum < c:\n",
    "    maxnum = c\n",
    "    \n",
    "print(f\"Max is {maxnum}.\")"
   ]
  },
  {
   "cell_type": "markdown",
   "metadata": {},
   "source": [
    "**Q2)** Write a program that accepts an user's input of a string of numbers and checks whether the entered number is an integer or not. If the entered number is an integer, multiply it by itself and the result with a nice message. Print a message to inform the user if the string is not an integer. \n",
    "\n",
    "**Hint to help you:**   \n",
    "To check that the entered string is a number use the <code>str_to_test.isdecimal()</code> function to test if the string is <b>an integer</b>. Replace <code>str_to_test</code> with the string you want to check.\n",
    "\n",
    "**Note**: we will only use whole numbers for now and not floats as that will require knowledge on the on the section of Exceptions which will be covered later."
   ]
  },
  {
   "cell_type": "code",
   "execution_count": 41,
   "metadata": {
    "ExecuteTime": {
     "end_time": "2020-10-29T07:34:41.731795Z",
     "start_time": "2020-10-29T07:34:38.846509Z"
    }
   },
   "outputs": [
    {
     "name": "stdout",
     "output_type": "stream",
     "text": [
      "Enter a string of numbers: fjsd\n",
      "Sorry, what you keyed in is not an integer.\n"
     ]
    }
   ],
   "source": [
    "num = input(\"Enter a string of numbers: \")\n",
    "print(f\"Good job, the number is an integer! The square of the number is {int(num)**2}.\") if num.isdecimal() else \\\n",
    "print(\"Sorry, what you keyed in is not an integer.\")"
   ]
  },
  {
   "cell_type": "markdown",
   "metadata": {},
   "source": [
    "**Q3)** Write a program to requests for an user's input in the range from (0 to 10) and compares it with a random number. Print to screen a nice message, the results of the user's guess vs the random number according to the following rules:\n",
    "\n",
    "$$\n",
    "msgPart = \\left\\{\\begin{matrix}\n",
    "\"so\\; close!\" & & ranInt-1 <= num <= ranInt+1\\\\ \n",
    "\"relatively\\; close.\"& & ranInt-3 <= num <= ranInt+3\\\\ \n",
    "\"so\\; far it..\"& & ranInt-3 < num < ranInt+4\n",
    "\\end{matrix}\\right.\n",
    "$$\n",
    "\n",
    "The function to generate a random number is provided below."
   ]
  },
  {
   "cell_type": "code",
   "execution_count": 33,
   "metadata": {
    "ExecuteTime": {
     "end_time": "2020-10-29T06:17:58.809207Z",
     "start_time": "2020-10-29T06:17:51.072856Z"
    }
   },
   "outputs": [
    {
     "name": "stdout",
     "output_type": "stream",
     "text": [
      "4\n",
      "Enter your number here. 9\n"
     ]
    }
   ],
   "source": [
    "from random import randint\n",
    "\n",
    "# generate a random number between the range of 0 to 10\n",
    "ran_int = randint(0,10)\n",
    "print(ran_int)  # to help with testing your code\n",
    "\n",
    "# start your codes here\n",
    "num = int(input(\"Enter your number here. \"))\n",
    "if (ran_int-1<=num<=ran_int+1):\n",
    "    print(\"so close!\")\n",
    "elif (ran_int-3<=num<=ran_int+3):\n",
    "    print(\"relatively close.\")\n",
    "elif (ran_int-3<num<ran_int+4):\n",
    "    print(\"so farit..\")\n",
    "\n"
   ]
  },
  {
   "cell_type": "markdown",
   "metadata": {},
   "source": [
    "**Q4)** Write a program that asks the user for a *year* and checks if it is a leap year or not."
   ]
  },
  {
   "cell_type": "code",
   "execution_count": null,
   "metadata": {
    "ExecuteTime": {
     "end_time": "2020-10-29T06:17:05.817842Z",
     "start_time": "2020-10-29T06:17:02.907658Z"
    }
   },
   "outputs": [],
   "source": [
    "year=int(input(\"Enter a year: \"))\n",
    "print(\"Year is Leap Year!\") if year%400==0 else print(\"Year is NOT Leap Year!\")"
   ]
  },
  {
   "cell_type": "markdown",
   "metadata": {},
   "source": [
    "**Q5)** Write a program to compute the roots of a Quadratic Equation.\n",
    "\n",
    "$$\n",
    "\\frac{-b\\pm \\sqrt{b^{2}-4ac}}{2a}\n",
    "$$\n",
    "\n",
    "The program must clearly reflect the following:\n",
    "* accept 3 user inputs for the variables `a`, `b`, `c`\n",
    "* roots are equal when $b^{2}-4ac$ equals 0, calculate the roots and print some messages\n",
    "* 2 real solutions must be calculated when $b^{2}-4ac$ is positive and print some messages\n",
    "* roots are complex when $b^{2}-4ac$ is negative, print a message, no further calculation needed\n",
    "* Assume that the users nevers enter 0 for variable `a`"
   ]
  },
  {
   "cell_type": "code",
   "execution_count": 19,
   "metadata": {
    "ExecuteTime": {
     "end_time": "2020-10-29T05:56:35.634930Z",
     "start_time": "2020-10-29T05:56:33.196443Z"
    }
   },
   "outputs": [
    {
     "name": "stdout",
     "output_type": "stream",
     "text": [
      "Enter 'a' 5\n",
      "Enter 'b' 6\n",
      "Enter 'c' 7\n",
      "The roots are complex.\n"
     ]
    }
   ],
   "source": [
    "from math import sqrt\n",
    "a,b,c=float(input(\"Enter 'a' \")),float(input(\"Enter 'b' \")),float(input(\"Enter 'c' \"))\n",
    "\n",
    "if abs(b**2-4*a*c)<1e-7:\n",
    "    print(\"There is only one root which is\", -b/(2*a))\n",
    "if b**2-4*a*c>0:\n",
    "    print(\"The roots are {:2f} and {:2f}\", (-b+sqrt(b**2-4*a*c)/(2*a)), (-b-sqrt(b**2-4*a*c)/(2*a)))\n",
    "if b**2-4*a*c<0:\n",
    "    print(\"The roots are complex.\")"
   ]
  },
  {
   "cell_type": "markdown",
   "metadata": {},
   "source": [
    "**Q6)** Write a program to calculate and print the Electricity bill of a customer. The program is to ask the customer for their *customer id*, *customer name* and *number of units consumed* (always an integer). \n",
    "\n",
    "The charges are as follows:\n",
    "\n",
    "| Unit | Charge/Unit |\n",
    "|:---|:---|\n",
    "| up to 199 | @1.20 |\n",
    "| 200 and above but less then 400 | @1.50 |\n",
    "| 400 and above but less then 600 | @1.80 |\n",
    "| 600 and above | @2.00 |\n",
    "\n",
    "If the bill exceeds SGD 400, a surcharge of 15% will be added to the total bill and the minimum bill should be SGD 100.\n",
    "\n",
    "**Program Output Example**\n",
    "<pre>\n",
    "------Electrical Bill------\n",
    "Customer ID:  8753\n",
    "Customer Name:  Tom\n",
    "Units Consumed:  500\n",
    "Amount Charged:  900.0\n",
    "Surcharge Amount Charged:  135.0\n",
    "Total Amount Charged:  1035.0\n",
    "</pre>"
   ]
  },
  {
   "cell_type": "code",
   "execution_count": 28,
   "metadata": {
    "ExecuteTime": {
     "end_time": "2020-10-29T06:15:39.175470Z",
     "start_time": "2020-10-29T06:15:30.096741Z"
    }
   },
   "outputs": [
    {
     "name": "stdout",
     "output_type": "stream",
     "text": [
      "Please enter your customer ID: 8753\n",
      "Please enter your name: Tom\n",
      "Please enter the number of units consumed: 500\n",
      "------Electrical Bill------\n",
      "Customer ID:  8753\n",
      "Customer Name:  Tom\n",
      "Amount Charged: 900.0\n",
      "Surcharge Amount Charged: 135.0\n",
      "Total Amount Charged: 1035.0\n"
     ]
    }
   ],
   "source": [
    "cust_ID = int(input(\"Please enter your customer ID: \"))\n",
    "cust_Name = input(\"Please enter your name: \")\n",
    "num = int(input(\"Please enter the number of units consumed: \"))\n",
    "if num<=199:\n",
    "    chargeperunit = 1.2\n",
    "\n",
    "elif 199<num<=400:\n",
    "    chargeperunit = 1.5\n",
    "    \n",
    "elif 400<num<600:\n",
    "    chargeperunit = 1.8\n",
    "    \n",
    "else:\n",
    "    chargeperunit = 2.0\n",
    "    \n",
    "print(\"------Electrical Bill------\")\n",
    "print(f\"Customer ID: \", cust_ID)\n",
    "print(f\"Customer Name: \", cust_Name)\n",
    "print(f\"Amount Charged: {num*chargeperunit:.1f}\")\n",
    "print(f\"Surcharge Amount Charged: {num*chargeperunit*0:.1f}\") if num<400 else \\\n",
    "print(f\"Surcharge Amount Charged: {num*chargeperunit*0.15:.1f}\")\n",
    "print(f\"Total Amount Charged: {num*chargeperunit*1.15:.1f}\")"
   ]
  },
  {
   "cell_type": "markdown",
   "metadata": {},
   "source": [
    "**Q7)** Write a menu driven program to perform a simple calculation. Use the following steps to help with the algorithm.\n",
    "1. get a user's input based on a list of options of 4 operations (add, subtract, multiply and divide)\n",
    "2. based on the user's option, carry out the operation and print the result with a nice message\n",
    "3. Beware of dividing by 0 for the division operation"
   ]
  },
  {
   "cell_type": "code",
   "execution_count": 39,
   "metadata": {
    "ExecuteTime": {
     "end_time": "2020-10-29T06:24:13.491546Z",
     "start_time": "2020-10-29T06:24:10.096623Z"
    }
   },
   "outputs": [
    {
     "name": "stdout",
     "output_type": "stream",
     "text": [
      "Enter first number: 4\n",
      "Enter '+', '-', '*', '/': /\n",
      "Enter second number: 6\n",
      "4.0 / 6.0 = 0.667\n"
     ]
    }
   ],
   "source": [
    "num1=float(input(\"Enter first number: \"))\n",
    "op=input(\"Enter '+', '-', '*', '/': \")\n",
    "num2=float(input(\"Enter second number: \"))\n",
    "\n",
    "if op == '+':\n",
    "    print(f\"{num1} \"+ op + f\" {num2} = \" + f\"{num1+num2}\")\n",
    "elif op == '-':\n",
    "    print(f\"{num1} \"+ op + f\" {num2} = \" + f\"{num1-num2}\")\n",
    "elif op == '*':\n",
    "    print(f\"{num1} \"+ op + f\" {num2} = \" + f\"{num1*num2}\")\n",
    "elif op == '/':\n",
    "    print(f\"{num1} \"+ op + f\" {num2} = \" + f\"{num1/num2:.3f}\") if num2!=0 else print(\"Division by zero is not possible!\")"
   ]
  },
  {
   "cell_type": "code",
   "execution_count": null,
   "metadata": {},
   "outputs": [],
   "source": []
  }
 ],
 "metadata": {
  "kernelspec": {
   "display_name": "Python 3",
   "language": "python",
   "name": "python3"
  },
  "language_info": {
   "codemirror_mode": {
    "name": "ipython",
    "version": 3
   },
   "file_extension": ".py",
   "mimetype": "text/x-python",
   "name": "python",
   "nbconvert_exporter": "python",
   "pygments_lexer": "ipython3",
   "version": "3.8.3"
  }
 },
 "nbformat": 4,
 "nbformat_minor": 4
}
