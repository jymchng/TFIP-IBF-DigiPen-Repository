{
 "cells": [
  {
   "cell_type": "markdown",
   "metadata": {},
   "source": [
    "# Python Basics Exercise"
   ]
  },
  {
   "cell_type": "markdown",
   "metadata": {},
   "source": [
    "## Learning Objectives\n",
    "\n",
    "* Python basics"
   ]
  },
  {
   "cell_type": "markdown",
   "metadata": {},
   "source": [
    "# Write codes based on the questions\n",
    "---\n",
    "**Q1)** Use one or more `print()` functions, print your name and profession to screen."
   ]
  },
  {
   "cell_type": "code",
   "execution_count": 2,
   "metadata": {
    "ExecuteTime": {
     "end_time": "2020-10-28T06:08:15.566944Z",
     "start_time": "2020-10-28T06:08:15.559961Z"
    }
   },
   "outputs": [
    {
     "name": "stdout",
     "output_type": "stream",
     "text": [
      "Soon Siang\n",
      "Admin Boy\n"
     ]
    }
   ],
   "source": [
    "print(\"Soon Siang\")\n",
    "print(\"Admin Boy\")"
   ]
  },
  {
   "cell_type": "markdown",
   "metadata": {},
   "source": [
    "## Basics of printing user input to screen\n",
    "\n",
    "In the handouts, we have seen the `print()` function, the `input()` function and the `=` assignment operator. From the individual components, we are able to decipher what each function or operator does\n",
    "\n",
    "* `print()` - a function that prints text to screen.\n",
    "* `input()` - a function that waits for and accepts user input.\n",
    "* `=` - an assignment operator that assigns a result from the righthand side code to the lefthand side variable.\n",
    "\n",
    "Therefore to get input from the user, we had to combine together a variable, an assignment operator and the `input()` function. However, what if we wanted to print the user input to screen? We already know that the `print()` function prints text to screen. Let's try using the `print()` function to print the value of the variable to screen using this syntax `print(<variable_name>)` where `<variable_name>` is a placeholder for your variable name.\n",
    "\n",
    "**Q2)** Use the `print()` and `input()` functions to accecpts a user's input and display that input to screen."
   ]
  },
  {
   "cell_type": "code",
   "execution_count": 3,
   "metadata": {
    "ExecuteTime": {
     "end_time": "2020-10-28T06:08:40.172164Z",
     "start_time": "2020-10-28T06:08:37.814465Z"
    }
   },
   "outputs": [
    {
     "name": "stdout",
     "output_type": "stream",
     "text": [
      "Please enter something.hello\n",
      "hello\n"
     ]
    }
   ],
   "source": [
    "x=input(\"Please enter something.\")\n",
    "print(x)"
   ]
  },
  {
   "cell_type": "code",
   "execution_count": null,
   "metadata": {},
   "outputs": [],
   "source": []
  }
 ],
 "metadata": {
  "kernelspec": {
   "display_name": "Python 3",
   "language": "python",
   "name": "python3"
  },
  "language_info": {
   "codemirror_mode": {
    "name": "ipython",
    "version": 3
   },
   "file_extension": ".py",
   "mimetype": "text/x-python",
   "name": "python",
   "nbconvert_exporter": "python",
   "pygments_lexer": "ipython3",
   "version": "3.7.7"
  }
 },
 "nbformat": 4,
 "nbformat_minor": 4
}
