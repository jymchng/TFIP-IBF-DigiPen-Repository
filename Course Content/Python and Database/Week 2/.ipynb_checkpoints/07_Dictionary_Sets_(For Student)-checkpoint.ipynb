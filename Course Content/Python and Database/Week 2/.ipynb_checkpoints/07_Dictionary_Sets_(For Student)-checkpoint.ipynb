{
 "cells": [
  {
   "cell_type": "markdown",
   "metadata": {},
   "source": [
    "\n",
    "# Recap"
   ]
  },
  {
   "cell_type": "markdown",
   "metadata": {},
   "source": [
    "## Strings  \n",
    "Any sequence of characters within either single quotes or double quotes is considered as a String.  \n",
    "`s=\"DigiPen\"` OR `s='DigiPen'`\n",
    "\n",
    "- `Escape Characers:` `\\n, \\r, \\t, \\\\, \\',\\\"`\n",
    "- `Special Operators:` (+, *, in, not in)\n",
    "- `String Formatting:` by using replacement operator `{}` and `format()` method.\n",
    "- `String Functions:` (len(), split(), join(), replace(), rstrip(), lstrip(), strip(), find(), rfind(), index(), rindex(), startswith(), endswith()"
   ]
  },
  {
   "cell_type": "code",
   "execution_count": 29,
   "metadata": {},
   "outputs": [
    {
     "name": "stdout",
     "output_type": "stream",
     "text": [
      "Hey there I am busy in learning Carriage Return in Python\r",
      "this is going to be added\n"
     ]
    }
   ],
   "source": [
    "print('Hey there I am busy in learning Carriage Return in Python\\rthis is going to be added')"
   ]
  },
  {
   "cell_type": "markdown",
   "metadata": {},
   "source": [
    "# Dictionary & Sets"
   ]
  },
  {
   "cell_type": "markdown",
   "metadata": {},
   "source": [
    "## Dictionary"
   ]
  },
  {
   "cell_type": "markdown",
   "metadata": {},
   "source": [
    "We can use List,Tuple and Set to represent a group of individual objects as a single entity.  \n",
    "If we want to represent a group of objects as key-value pairs then we should go for `Dictionary`.\n",
    "\n",
    "**Examples: **   \n",
    "rollno----name  \n",
    "phone number--address  \n",
    "ipaddress---domain name  \n",
    "\n",
    "- Duplicate keys are not allowed but values can be duplicated.\n",
    "- Hetrogeneous objects are allowed for both key and values.\n",
    "- insertion order is not preserved\n",
    "- Dictionaries are mutable\n",
    "- Dictionaries are dynamic\n",
    "- indexing and slicing concepts are not applicable"
   ]
  },
  {
   "cell_type": "markdown",
   "metadata": {},
   "source": [
    "### How to create Dictionary?"
   ]
  },
  {
   "cell_type": "markdown",
   "metadata": {},
   "source": [
    "**The syntax of a Dictionary is as follows.**  \n",
    "d={key:value, key:value}"
   ]
  },
  {
   "cell_type": "code",
   "execution_count": 2,
   "metadata": {
    "ExecuteTime": {
     "end_time": "2020-11-04T01:36:54.274949Z",
     "start_time": "2020-11-04T01:36:54.267923Z"
    }
   },
   "outputs": [
    {
     "name": "stdout",
     "output_type": "stream",
     "text": [
      "<class 'dict'>\n"
     ]
    }
   ],
   "source": [
    "# empty dictionary\n",
    "d = {}\n",
    "#OR\n",
    "d= dict()\n",
    "print(type(d))"
   ]
  },
  {
   "cell_type": "code",
   "execution_count": 3,
   "metadata": {
    "ExecuteTime": {
     "end_time": "2020-11-04T01:36:55.935416Z",
     "start_time": "2020-11-04T01:36:55.931425Z"
    }
   },
   "outputs": [
    {
     "name": "stdout",
     "output_type": "stream",
     "text": [
      "{100: 'John', 200: 'Josef', 300: 'Mira'}\n"
     ]
    }
   ],
   "source": [
    "#we are creating empty dictionary. We can add entries as follows\n",
    "d[100]='John'\n",
    "d[200]='Josef'\n",
    "d[300]='Mira'\n",
    "print(d)"
   ]
  },
  {
   "cell_type": "code",
   "execution_count": null,
   "metadata": {},
   "outputs": [],
   "source": [
    "#If we know the data in advance then we can create dictionary as follows\n",
    "d = {'Name': 'John', 'MatrNo': '002558', 'Profession': 'Student'}\n",
    "d"
   ]
  },
  {
   "cell_type": "code",
   "execution_count": null,
   "metadata": {},
   "outputs": [],
   "source": [
    "# converting a list/tuple to a dictionary\n"
   ]
  },
  {
   "cell_type": "markdown",
   "metadata": {},
   "source": [
    "### How to access data from the dictionary?"
   ]
  },
  {
   "cell_type": "markdown",
   "metadata": {},
   "source": [
    "We can access data by using keys."
   ]
  },
  {
   "cell_type": "code",
   "execution_count": null,
   "metadata": {},
   "outputs": [],
   "source": [
    "d={100:'durga' ,200:'ravi', 300:'shiva'}\n",
    "d[100]\n",
    "d[300]"
   ]
  },
  {
   "cell_type": "code",
   "execution_count": 4,
   "metadata": {
    "ExecuteTime": {
     "end_time": "2020-11-04T01:42:28.064071Z",
     "start_time": "2020-11-04T01:42:28.055097Z"
    }
   },
   "outputs": [
    {
     "ename": "KeyError",
     "evalue": "400",
     "output_type": "error",
     "traceback": [
      "\u001b[1;31m---------------------------------------------------------------------------\u001b[0m",
      "\u001b[1;31mKeyError\u001b[0m                                  Traceback (most recent call last)",
      "\u001b[1;32m<ipython-input-4-4e661cfbad17>\u001b[0m in \u001b[0;36m<module>\u001b[1;34m\u001b[0m\n\u001b[0;32m      1\u001b[0m \u001b[1;31m#If the specified key is not available then we will get KeyError\u001b[0m\u001b[1;33m\u001b[0m\u001b[1;33m\u001b[0m\u001b[1;33m\u001b[0m\u001b[0m\n\u001b[1;32m----> 2\u001b[1;33m \u001b[0md\u001b[0m\u001b[1;33m[\u001b[0m\u001b[1;36m400\u001b[0m\u001b[1;33m]\u001b[0m\u001b[1;33m\u001b[0m\u001b[1;33m\u001b[0m\u001b[0m\n\u001b[0m",
      "\u001b[1;31mKeyError\u001b[0m: 400"
     ]
    }
   ],
   "source": [
    "#If the specified key is not available then we will get KeyError\n",
    "d[400]"
   ]
  },
  {
   "cell_type": "code",
   "execution_count": 10,
   "metadata": {
    "ExecuteTime": {
     "end_time": "2020-11-04T01:44:56.483045Z",
     "start_time": "2020-11-04T01:44:56.479073Z"
    }
   },
   "outputs": [
    {
     "name": "stdout",
     "output_type": "stream",
     "text": [
      "True\n",
      "False\n",
      "Not in.\n"
     ]
    }
   ],
   "source": [
    "#We can prevent this by checking whether key is already available or not by using `in` operator.\n",
    "print(True if 100 in d.keys() else False)\n",
    "print(True if 400 in d else False)\n",
    "if 400 in d:\n",
    "    print(d[400])\n",
    "else:\n",
    "    print(\"Not in.\")"
   ]
  },
  {
   "cell_type": "markdown",
   "metadata": {},
   "source": [
    "#### Q. Write a program to enter name and percentage marks in a dictionary and display information on the screen"
   ]
  },
  {
   "cell_type": "code",
   "execution_count": 15,
   "metadata": {
    "ExecuteTime": {
     "end_time": "2020-11-04T01:53:23.541732Z",
     "start_time": "2020-11-04T01:53:19.752826Z"
    }
   },
   "outputs": [
    {
     "name": "stdout",
     "output_type": "stream",
     "text": [
      "Name Soon Siang\n",
      "Marks 100\n",
      "Enter number of student: dsds\n"
     ]
    },
    {
     "ename": "ValueError",
     "evalue": "invalid literal for int() with base 10: 'dsds'",
     "output_type": "error",
     "traceback": [
      "\u001b[1;31m---------------------------------------------------------------------------\u001b[0m",
      "\u001b[1;31mValueError\u001b[0m                                Traceback (most recent call last)",
      "\u001b[1;32m<ipython-input-15-ce0d1d8cb5ab>\u001b[0m in \u001b[0;36m<module>\u001b[1;34m\u001b[0m\n\u001b[0;32m      4\u001b[0m \u001b[1;33m\u001b[0m\u001b[0m\n\u001b[0;32m      5\u001b[0m \u001b[0mres\u001b[0m \u001b[1;33m=\u001b[0m \u001b[1;33m{\u001b[0m\u001b[1;33m}\u001b[0m\u001b[1;33m\u001b[0m\u001b[1;33m\u001b[0m\u001b[0m\n\u001b[1;32m----> 6\u001b[1;33m \u001b[0mn\u001b[0m \u001b[1;33m=\u001b[0m \u001b[0mint\u001b[0m\u001b[1;33m(\u001b[0m\u001b[0minput\u001b[0m\u001b[1;33m(\u001b[0m\u001b[1;34m\"Enter number of student: \"\u001b[0m\u001b[1;33m)\u001b[0m\u001b[1;33m)\u001b[0m\u001b[1;33m\u001b[0m\u001b[1;33m\u001b[0m\u001b[0m\n\u001b[0m\u001b[0;32m      7\u001b[0m \u001b[0mi\u001b[0m \u001b[1;33m=\u001b[0m \u001b[1;36m1\u001b[0m\u001b[1;33m\u001b[0m\u001b[1;33m\u001b[0m\u001b[0m\n\u001b[0;32m      8\u001b[0m \u001b[1;32mwhile\u001b[0m \u001b[0mi\u001b[0m\u001b[1;33m<=\u001b[0m\u001b[0mn\u001b[0m\u001b[1;33m:\u001b[0m\u001b[1;33m\u001b[0m\u001b[1;33m\u001b[0m\u001b[0m\n",
      "\u001b[1;31mValueError\u001b[0m: invalid literal for int() with base 10: 'dsds'"
     ]
    }
   ],
   "source": [
    "d ={'Name': 'Soon Siang', 'Marks':100}\n",
    "print(\"Name\", d['Name'])\n",
    "print(\"Marks\", d['Marks'])\n",
    "\n",
    "res = {}\n",
    "n = int(input(\"Enter number of student: \"))\n",
    "i = 1\n",
    "while i<=n:\n",
    "    name=input(\"Enter Student Name: \")\n",
    "    marks=int(input(\"Enter % of marks of Student: \"))\n",
    "    res[name]=marks\n",
    "    i=i+1\n",
    "\n",
    "print(\"Name of Student \\t Marks\")\n",
    "for x in res:\n",
    "    print(\"\\t\", x, \"\\t\\t\", res[x])"
   ]
  },
  {
   "cell_type": "markdown",
   "metadata": {},
   "source": [
    "### How to update dictionaries? OR Adding/Changing Items "
   ]
  },
  {
   "cell_type": "markdown",
   "metadata": {},
   "source": [
    "`d[key]=value`  \n",
    "If the key is not available then a new entry will be added to the dictionary with the specified key-value pair.  \n",
    "If the key is already available then old value will be replaced with new value.  "
   ]
  },
  {
   "cell_type": "code",
   "execution_count": 16,
   "metadata": {
    "ExecuteTime": {
     "end_time": "2020-11-04T01:54:37.450981Z",
     "start_time": "2020-11-04T01:54:37.444997Z"
    }
   },
   "outputs": [
    {
     "name": "stdout",
     "output_type": "stream",
     "text": [
      "{100: 'durga', 200: 'ravi', 300: 'shiva'}\n",
      "{100: 'Neelesh', 200: 'ravi', 300: 'shiva', 400: 'Anthony'}\n"
     ]
    }
   ],
   "source": [
    "d={100:\"durga\",200:\"ravi\",300:\"shiva\"}\n",
    "print(d)\n",
    "d[400] = \"Anthony\"\n",
    "d[100]='Neelesh'\n",
    "print(d)"
   ]
  },
  {
   "cell_type": "markdown",
   "metadata": {},
   "source": [
    "### Iterating  \n",
    "Iterating a dictionary is done by using a `for` loop and there are 3 ways to do it with each showing a different result."
   ]
  },
  {
   "cell_type": "markdown",
   "metadata": {},
   "source": [
    " - **iterating over the values **"
   ]
  },
  {
   "cell_type": "code",
   "execution_count": 17,
   "metadata": {
    "ExecuteTime": {
     "end_time": "2020-11-04T01:55:46.511241Z",
     "start_time": "2020-11-04T01:55:46.506254Z"
    }
   },
   "outputs": [
    {
     "name": "stdout",
     "output_type": "stream",
     "text": [
      "Neelesh\n",
      "ravi\n",
      "shiva\n",
      "Anthony\n"
     ]
    }
   ],
   "source": [
    "for val in d.values():\n",
    "    print(val)"
   ]
  },
  {
   "cell_type": "markdown",
   "metadata": {},
   "source": [
    "- **iterating over the keys**"
   ]
  },
  {
   "cell_type": "code",
   "execution_count": null,
   "metadata": {},
   "outputs": [],
   "source": [
    "for key in d.keys():\n",
    "    print(key)"
   ]
  },
  {
   "cell_type": "markdown",
   "metadata": {},
   "source": [
    "- **iterating over the items**"
   ]
  },
  {
   "cell_type": "code",
   "execution_count": 18,
   "metadata": {
    "ExecuteTime": {
     "end_time": "2020-11-04T01:58:09.773966Z",
     "start_time": "2020-11-04T01:58:09.768979Z"
    }
   },
   "outputs": [
    {
     "name": "stdout",
     "output_type": "stream",
     "text": [
      "key:100, value: Neelesh\n",
      "key:200, value: ravi\n",
      "key:300, value: shiva\n",
      "key:400, value: Anthony\n"
     ]
    }
   ],
   "source": [
    "for k,v in d.items():\n",
    "    print(f'key:{k}, value: {v}')\n",
    "    "
   ]
  },
  {
   "cell_type": "markdown",
   "metadata": {},
   "source": [
    "### Sorting\n",
    "\n",
    "As it was mention in the chapter on lists and tuples that the `sorted()` function is able to sort any Python iterable object, it must also be able to accept a custom function that returns a key such that the `sorted` function can be used to sort the object. "
   ]
  },
  {
   "cell_type": "code",
   "execution_count": 19,
   "metadata": {
    "ExecuteTime": {
     "end_time": "2020-11-04T01:59:15.036386Z",
     "start_time": "2020-11-04T01:59:15.030403Z"
    }
   },
   "outputs": [
    {
     "data": {
      "text/plain": [
       "['americano', 'cappuccino', 'cortado', 'espresso', 'latte']"
      ]
     },
     "execution_count": 19,
     "metadata": {},
     "output_type": "execute_result"
    }
   ],
   "source": [
    "orders = {'cappuccino': 54,'latte': 56,'espresso': 72,'americano': 48,'cortado': 41}\n",
    "sorted(orders)"
   ]
  },
  {
   "cell_type": "code",
   "execution_count": null,
   "metadata": {},
   "outputs": [],
   "source": [
    "orders = {'cappuccino': 54,'latte': 56,'espresso': 72,'americano': 48,'cortado': 41}\n",
    "\n"
   ]
  },
  {
   "cell_type": "code",
   "execution_count": null,
   "metadata": {},
   "outputs": [],
   "source": [
    "def sort_via_values(item):\n",
    "    return item[1]\n",
    "\n",
    "sorted(orders.items(), key=sort_via_values, reverse=True)"
   ]
  },
  {
   "cell_type": "markdown",
   "metadata": {},
   "source": [
    "### How to delete elements from dictionary?"
   ]
  },
  {
   "cell_type": "markdown",
   "metadata": {},
   "source": [
    "**`del d[key]`**  \n",
    "It deletes entry associated with the specified key. If the key is not available then we will get KeyError"
   ]
  },
  {
   "cell_type": "code",
   "execution_count": 20,
   "metadata": {
    "ExecuteTime": {
     "end_time": "2020-11-04T02:04:42.773675Z",
     "start_time": "2020-11-04T02:04:42.767692Z"
    }
   },
   "outputs": [
    {
     "name": "stdout",
     "output_type": "stream",
     "text": [
      "{100: 'durga', 200: 'ravi', 300: 'shiva'}\n",
      "{200: 'ravi', 300: 'shiva'}\n"
     ]
    }
   ],
   "source": [
    "d={100:\"durga\",200:\"ravi\",300:\"shiva\"}\n",
    "print(d)\n",
    "del d[100]\n",
    "print(d)"
   ]
  },
  {
   "cell_type": "code",
   "execution_count": 21,
   "metadata": {
    "ExecuteTime": {
     "end_time": "2020-11-04T02:05:40.482302Z",
     "start_time": "2020-11-04T02:05:40.469339Z"
    }
   },
   "outputs": [
    {
     "ename": "KeyError",
     "evalue": "400",
     "output_type": "error",
     "traceback": [
      "\u001b[1;31m---------------------------------------------------------------------------\u001b[0m",
      "\u001b[1;31mKeyError\u001b[0m                                  Traceback (most recent call last)",
      "\u001b[1;32m<ipython-input-21-740e994c1477>\u001b[0m in \u001b[0;36m<module>\u001b[1;34m\u001b[0m\n\u001b[1;32m----> 1\u001b[1;33m \u001b[1;32mdel\u001b[0m \u001b[0md\u001b[0m\u001b[1;33m[\u001b[0m\u001b[1;36m400\u001b[0m\u001b[1;33m]\u001b[0m\u001b[1;33m\u001b[0m\u001b[1;33m\u001b[0m\u001b[0m\n\u001b[0m",
      "\u001b[1;31mKeyError\u001b[0m: 400"
     ]
    }
   ],
   "source": [
    "del d[400]"
   ]
  },
  {
   "cell_type": "markdown",
   "metadata": {},
   "source": [
    "**`del d`**  \n",
    "To delete total dictionary. Now we cannot access d"
   ]
  },
  {
   "cell_type": "code",
   "execution_count": 22,
   "metadata": {
    "ExecuteTime": {
     "end_time": "2020-11-04T02:05:48.255509Z",
     "start_time": "2020-11-04T02:05:48.244539Z"
    }
   },
   "outputs": [
    {
     "name": "stdout",
     "output_type": "stream",
     "text": [
      "{100: 'durga', 200: 'ravi', 300: 'shiva'}\n"
     ]
    },
    {
     "ename": "NameError",
     "evalue": "name 'd' is not defined",
     "output_type": "error",
     "traceback": [
      "\u001b[1;31m---------------------------------------------------------------------------\u001b[0m",
      "\u001b[1;31mNameError\u001b[0m                                 Traceback (most recent call last)",
      "\u001b[1;32m<ipython-input-22-d1691ece3722>\u001b[0m in \u001b[0;36m<module>\u001b[1;34m\u001b[0m\n\u001b[0;32m      2\u001b[0m \u001b[0mprint\u001b[0m\u001b[1;33m(\u001b[0m\u001b[0md\u001b[0m\u001b[1;33m)\u001b[0m\u001b[1;33m\u001b[0m\u001b[1;33m\u001b[0m\u001b[0m\n\u001b[0;32m      3\u001b[0m \u001b[1;32mdel\u001b[0m \u001b[0md\u001b[0m\u001b[1;33m\u001b[0m\u001b[1;33m\u001b[0m\u001b[0m\n\u001b[1;32m----> 4\u001b[1;33m \u001b[0mprint\u001b[0m\u001b[1;33m(\u001b[0m\u001b[0md\u001b[0m\u001b[1;33m)\u001b[0m\u001b[1;33m\u001b[0m\u001b[1;33m\u001b[0m\u001b[0m\n\u001b[0m",
      "\u001b[1;31mNameError\u001b[0m: name 'd' is not defined"
     ]
    }
   ],
   "source": [
    "d={100:\"durga\",200:\"ravi\",300:\"shiva\"}\n",
    "print(d)\n",
    "del d\n",
    "print(d)"
   ]
  },
  {
   "cell_type": "markdown",
   "metadata": {},
   "source": [
    "**`d.clear()`**  \n",
    "To remove all entries from the dictionary"
   ]
  },
  {
   "cell_type": "code",
   "execution_count": 24,
   "metadata": {
    "ExecuteTime": {
     "end_time": "2020-11-04T02:06:39.942263Z",
     "start_time": "2020-11-04T02:06:39.937301Z"
    }
   },
   "outputs": [
    {
     "name": "stdout",
     "output_type": "stream",
     "text": [
      "{100: 'durga', 200: 'ravi', 300: 'shiva'}\n",
      "{}\n"
     ]
    }
   ],
   "source": [
    "d={100:\"durga\",200:\"ravi\",300:\"shiva\"}\n",
    "print(d)\n",
    "d.clear()\n",
    "print(d)"
   ]
  },
  {
   "cell_type": "markdown",
   "metadata": {},
   "source": [
    "### Important functions of dictionary:"
   ]
  },
  {
   "cell_type": "markdown",
   "metadata": {},
   "source": [
    "**`1. dict():`**  \n",
    "To create a dictionary"
   ]
  },
  {
   "cell_type": "code",
   "execution_count": null,
   "metadata": {},
   "outputs": [],
   "source": [
    "d=dict() #It creates empty dictionary\n",
    "d"
   ]
  },
  {
   "cell_type": "code",
   "execution_count": null,
   "metadata": {},
   "outputs": [],
   "source": [
    "d=dict({100:\"durga\",200:\"ravi\"}) #It creates dictionary with specified elements\n",
    "d"
   ]
  },
  {
   "cell_type": "code",
   "execution_count": null,
   "metadata": {},
   "outputs": [],
   "source": [
    "d=dict([(100,\"durga\"),(200,\"shiva\"),(300,\"ravi\")]) #It creates dictionary with the given list of tuple elements\n",
    "d"
   ]
  },
  {
   "cell_type": "markdown",
   "metadata": {},
   "source": [
    "**`2. len()`**  \n",
    "Returns the number of items in the dictionary"
   ]
  },
  {
   "cell_type": "code",
   "execution_count": null,
   "metadata": {},
   "outputs": [],
   "source": [
    "my_dict = {'name': 'Jack', 'age': 26}\n"
   ]
  },
  {
   "cell_type": "markdown",
   "metadata": {},
   "source": [
    "**`3. clear():`**  \n",
    "To remove all elements from the dictionary"
   ]
  },
  {
   "cell_type": "code",
   "execution_count": null,
   "metadata": {},
   "outputs": [],
   "source": [
    "d={100:\"durga\",200:\"ravi\",300:\"shiva\"}\n"
   ]
  },
  {
   "cell_type": "markdown",
   "metadata": {},
   "source": [
    "**`4. get():`**  \n",
    "To get the value associated with the key  \n",
    "\n",
    "`d.get(key)`  \n",
    "If the key is available then returns the corresponding value otherwise returns `None`. It won't raise any error.\n",
    "\n",
    "`d.get(key,defaultvalue)`\n",
    "If the key is available then returns the corresponding value otherwise returns default value."
   ]
  },
  {
   "cell_type": "code",
   "execution_count": 26,
   "metadata": {
    "ExecuteTime": {
     "end_time": "2020-11-04T02:10:36.135450Z",
     "start_time": "2020-11-04T02:10:36.124479Z"
    }
   },
   "outputs": [
    {
     "name": "stdout",
     "output_type": "stream",
     "text": [
      "durga\n"
     ]
    },
    {
     "ename": "KeyError",
     "evalue": "400",
     "output_type": "error",
     "traceback": [
      "\u001b[1;31m---------------------------------------------------------------------------\u001b[0m",
      "\u001b[1;31mKeyError\u001b[0m                                  Traceback (most recent call last)",
      "\u001b[1;32m<ipython-input-26-abf733a17c86>\u001b[0m in \u001b[0;36m<module>\u001b[1;34m\u001b[0m\n\u001b[0;32m      1\u001b[0m \u001b[0md\u001b[0m\u001b[1;33m=\u001b[0m\u001b[1;33m{\u001b[0m\u001b[1;36m100\u001b[0m\u001b[1;33m:\u001b[0m\u001b[1;34m\"durga\"\u001b[0m\u001b[1;33m,\u001b[0m\u001b[1;36m200\u001b[0m\u001b[1;33m:\u001b[0m\u001b[1;34m\"ravi\"\u001b[0m\u001b[1;33m,\u001b[0m\u001b[1;36m300\u001b[0m\u001b[1;33m:\u001b[0m\u001b[1;34m\"shiva\"\u001b[0m\u001b[1;33m}\u001b[0m\u001b[1;33m\u001b[0m\u001b[1;33m\u001b[0m\u001b[0m\n\u001b[0;32m      2\u001b[0m \u001b[0mprint\u001b[0m\u001b[1;33m(\u001b[0m\u001b[0md\u001b[0m\u001b[1;33m[\u001b[0m\u001b[1;36m100\u001b[0m\u001b[1;33m]\u001b[0m\u001b[1;33m)\u001b[0m\u001b[1;33m\u001b[0m\u001b[1;33m\u001b[0m\u001b[0m\n\u001b[1;32m----> 3\u001b[1;33m \u001b[0mprint\u001b[0m\u001b[1;33m(\u001b[0m\u001b[0md\u001b[0m\u001b[1;33m[\u001b[0m\u001b[1;36m400\u001b[0m\u001b[1;33m]\u001b[0m\u001b[1;33m)\u001b[0m\u001b[1;33m\u001b[0m\u001b[1;33m\u001b[0m\u001b[0m\n\u001b[0m",
      "\u001b[1;31mKeyError\u001b[0m: 400"
     ]
    }
   ],
   "source": [
    "d={100:\"durga\",200:\"ravi\",300:\"shiva\"}\n",
    "print(d[100]) \n",
    "print(d[400]) "
   ]
  },
  {
   "cell_type": "code",
   "execution_count": 27,
   "metadata": {
    "ExecuteTime": {
     "end_time": "2020-11-04T02:10:45.777656Z",
     "start_time": "2020-11-04T02:10:45.772670Z"
    }
   },
   "outputs": [
    {
     "data": {
      "text/plain": [
       "'ravi'"
      ]
     },
     "execution_count": 27,
     "metadata": {},
     "output_type": "execute_result"
    }
   ],
   "source": [
    "d.get(200)"
   ]
  },
  {
   "cell_type": "code",
   "execution_count": 30,
   "metadata": {
    "ExecuteTime": {
     "end_time": "2020-11-04T02:11:17.220546Z",
     "start_time": "2020-11-04T02:11:17.214561Z"
    }
   },
   "outputs": [
    {
     "data": {
      "text/plain": [
       "'guest'"
      ]
     },
     "execution_count": 30,
     "metadata": {},
     "output_type": "execute_result"
    }
   ],
   "source": [
    "d.get(400,'guest')"
   ]
  },
  {
   "cell_type": "markdown",
   "metadata": {},
   "source": [
    "**`5. pop():`**  \n",
    "`d.pop(key)`\n",
    "It removes the entry associated with the specified key and returns the corresponding value. If the specified key is not available then we will get KeyError."
   ]
  },
  {
   "cell_type": "code",
   "execution_count": 31,
   "metadata": {
    "ExecuteTime": {
     "end_time": "2020-11-04T02:13:15.053002Z",
     "start_time": "2020-11-04T02:13:15.048015Z"
    }
   },
   "outputs": [
    {
     "name": "stdout",
     "output_type": "stream",
     "text": [
      "durga\n",
      "{200: 'ravi', 300: 'shiva'}\n"
     ]
    }
   ],
   "source": [
    "d={100:\"durga\",200:\"ravi\",300:\"shiva\"}\n",
    "print(d.pop(100))\n",
    "print(d)"
   ]
  },
  {
   "cell_type": "code",
   "execution_count": 32,
   "metadata": {
    "ExecuteTime": {
     "end_time": "2020-11-04T02:13:16.102195Z",
     "start_time": "2020-11-04T02:13:16.093220Z"
    }
   },
   "outputs": [
    {
     "ename": "KeyError",
     "evalue": "400",
     "output_type": "error",
     "traceback": [
      "\u001b[1;31m---------------------------------------------------------------------------\u001b[0m",
      "\u001b[1;31mKeyError\u001b[0m                                  Traceback (most recent call last)",
      "\u001b[1;32m<ipython-input-32-7028b17ada00>\u001b[0m in \u001b[0;36m<module>\u001b[1;34m\u001b[0m\n\u001b[1;32m----> 1\u001b[1;33m \u001b[0mprint\u001b[0m\u001b[1;33m(\u001b[0m\u001b[0md\u001b[0m\u001b[1;33m.\u001b[0m\u001b[0mpop\u001b[0m\u001b[1;33m(\u001b[0m\u001b[1;36m400\u001b[0m\u001b[1;33m)\u001b[0m\u001b[1;33m)\u001b[0m\u001b[1;33m\u001b[0m\u001b[1;33m\u001b[0m\u001b[0m\n\u001b[0m",
      "\u001b[1;31mKeyError\u001b[0m: 400"
     ]
    }
   ],
   "source": [
    "print(d.pop(400))"
   ]
  },
  {
   "cell_type": "markdown",
   "metadata": {},
   "source": [
    "**`6. popitem():`**  \n",
    "    It removes an arbitrary item(key-value) from the dictionaty and return it."
   ]
  },
  {
   "cell_type": "code",
   "execution_count": 33,
   "metadata": {
    "ExecuteTime": {
     "end_time": "2020-11-04T02:13:17.548327Z",
     "start_time": "2020-11-04T02:13:17.543341Z"
    }
   },
   "outputs": [
    {
     "name": "stdout",
     "output_type": "stream",
     "text": [
      "{100: 'durga', 200: 'ravi', 300: 'shiva'}\n"
     ]
    }
   ],
   "source": [
    "d={100:\"durga\",200:\"ravi\",300:\"shiva\"}\n",
    "print(d)\n"
   ]
  },
  {
   "cell_type": "code",
   "execution_count": 35,
   "metadata": {
    "ExecuteTime": {
     "end_time": "2020-11-04T02:13:30.402941Z",
     "start_time": "2020-11-04T02:13:30.394962Z"
    }
   },
   "outputs": [
    {
     "ename": "KeyError",
     "evalue": "'popitem(): dictionary is empty'",
     "output_type": "error",
     "traceback": [
      "\u001b[1;31m---------------------------------------------------------------------------\u001b[0m",
      "\u001b[1;31mKeyError\u001b[0m                                  Traceback (most recent call last)",
      "\u001b[1;32m<ipython-input-35-31895bf0f469>\u001b[0m in \u001b[0;36m<module>\u001b[1;34m\u001b[0m\n\u001b[0;32m      1\u001b[0m \u001b[1;31m#If the dictionary is empty then we will get KeyError\u001b[0m\u001b[1;33m\u001b[0m\u001b[1;33m\u001b[0m\u001b[1;33m\u001b[0m\u001b[0m\n\u001b[0;32m      2\u001b[0m \u001b[0md\u001b[0m\u001b[1;33m=\u001b[0m\u001b[1;33m{\u001b[0m\u001b[1;33m}\u001b[0m\u001b[1;33m\u001b[0m\u001b[1;33m\u001b[0m\u001b[0m\n\u001b[1;32m----> 3\u001b[1;33m \u001b[0md\u001b[0m\u001b[1;33m.\u001b[0m\u001b[0mpopitem\u001b[0m\u001b[1;33m(\u001b[0m\u001b[1;33m)\u001b[0m\u001b[1;33m\u001b[0m\u001b[1;33m\u001b[0m\u001b[0m\n\u001b[0m",
      "\u001b[1;31mKeyError\u001b[0m: 'popitem(): dictionary is empty'"
     ]
    }
   ],
   "source": [
    "#If the dictionary is empty then we will get KeyError\n",
    "d={}\n",
    "d.popitem()"
   ]
  },
  {
   "cell_type": "markdown",
   "metadata": {},
   "source": [
    "**`7. keys():`**  \n",
    "It returns all keys associated with dictionary"
   ]
  },
  {
   "cell_type": "code",
   "execution_count": 40,
   "metadata": {
    "ExecuteTime": {
     "end_time": "2020-11-04T02:15:29.005674Z",
     "start_time": "2020-11-04T02:15:28.998691Z"
    }
   },
   "outputs": [
    {
     "name": "stdout",
     "output_type": "stream",
     "text": [
      "<class 'builtin_function_or_method'>\n",
      "dict_keys([100, 200, 300])\n",
      "100\n",
      "200\n",
      "300\n"
     ]
    }
   ],
   "source": [
    "d={100:\"durga\",200:\"ravi\",300:\"shiva\"}\n",
    "print(type(d.keys))\n",
    "print(d.keys())\n",
    "for k in d.keys():\n",
    "    print(k)"
   ]
  },
  {
   "cell_type": "code",
   "execution_count": null,
   "metadata": {},
   "outputs": [],
   "source": []
  },
  {
   "cell_type": "code",
   "execution_count": 38,
   "metadata": {
    "ExecuteTime": {
     "end_time": "2020-11-04T02:14:37.823587Z",
     "start_time": "2020-11-04T02:14:37.818603Z"
    }
   },
   "outputs": [
    {
     "data": {
      "text/plain": [
       "[100, 200, 300]"
      ]
     },
     "execution_count": 38,
     "metadata": {},
     "output_type": "execute_result"
    }
   ],
   "source": [
    "# converting the returned dict_keys object to a list\n",
    "list(d.keys())"
   ]
  },
  {
   "cell_type": "markdown",
   "metadata": {},
   "source": [
    "**`8. values():`**  \n",
    "It returns all values associated with the dictionary."
   ]
  },
  {
   "cell_type": "code",
   "execution_count": null,
   "metadata": {},
   "outputs": [],
   "source": [
    "d={100:\"durga\",200:\"ravi\",300:\"shiva\"}\n"
   ]
  },
  {
   "cell_type": "code",
   "execution_count": null,
   "metadata": {},
   "outputs": [],
   "source": [
    "# converting the returned dict_values object to a list\n"
   ]
  },
  {
   "cell_type": "markdown",
   "metadata": {},
   "source": [
    "**`9. items():`**  \n",
    "It returns list of tuples representing key-value pairs.  \n",
    "[(k,v),(k,v),(k,v)]"
   ]
  },
  {
   "cell_type": "code",
   "execution_count": null,
   "metadata": {},
   "outputs": [],
   "source": [
    "d={100:\"durga\",200:\"ravi\",300:\"shiva\"}\n",
    "print(d.items())\n",
    "for k,v in d.items():\n",
    "    print(k,\"--\",v)"
   ]
  },
  {
   "cell_type": "code",
   "execution_count": null,
   "metadata": {},
   "outputs": [],
   "source": [
    "# converting the returned dict_items object to a list\n",
    "print(list(d.items()))"
   ]
  },
  {
   "cell_type": "markdown",
   "metadata": {},
   "source": [
    "**`10. copy():`**  \n",
    "To create exactly duplicate dictionary(cloned copy).  \n",
    "`d1=d.copy()`"
   ]
  },
  {
   "cell_type": "code",
   "execution_count": null,
   "metadata": {},
   "outputs": [],
   "source": [
    "tel = {'jack': 4098,'sape': 4139, 'guido': 4127}\n",
    "print(tel)\n"
   ]
  },
  {
   "cell_type": "code",
   "execution_count": null,
   "metadata": {},
   "outputs": [],
   "source": []
  },
  {
   "cell_type": "code",
   "execution_count": null,
   "metadata": {},
   "outputs": [],
   "source": []
  },
  {
   "cell_type": "markdown",
   "metadata": {},
   "source": [
    "**`9. setdefault():`**   \n",
    "If the key is already available then this function returns the corresponding value. If the key is not available then the specified key-value will be added as new item to the dictionary.\n",
    "\n",
    " `d.setdefault(k,v)`"
   ]
  },
  {
   "cell_type": "code",
   "execution_count": null,
   "metadata": {},
   "outputs": [],
   "source": [
    "d={100:\"durga\",200:\"ravi\",300:\"shiva\"}\n",
    "print(d.setdefault(400,\"pavan\"))\n",
    "print(d)\n",
    "print(d.setdefault(100,\"sachin\"))\n",
    "print(d)"
   ]
  },
  {
   "cell_type": "markdown",
   "metadata": {},
   "source": [
    "**`10. update():`**  \n",
    "All items present in the dictionary x will be added to dictionary d.\n",
    "`d.update(x)`"
   ]
  },
  {
   "cell_type": "code",
   "execution_count": 41,
   "metadata": {
    "ExecuteTime": {
     "end_time": "2020-11-04T02:23:15.061478Z",
     "start_time": "2020-11-04T02:23:15.057485Z"
    }
   },
   "outputs": [
    {
     "name": "stdout",
     "output_type": "stream",
     "text": [
      "{'a': 'apocalypse', 'c': 'catwoman', 'b': 'batman', 'o': 'orange', 'p': 'phoenix', 'w': 'wolverine'}\n"
     ]
    }
   ],
   "source": [
    "d1 = {'a': 'apple', 'c': 'catwoman', 'b': 'batman', 'o': 'orange', \n",
    "     'p': 'penguin'}\n",
    "d2 = {'a': 'apocalypse', 'p': 'phoenix', 'w': 'wolverine'}\n",
    "d1.update(d2)\n",
    "print(d1)"
   ]
  },
  {
   "cell_type": "markdown",
   "metadata": {},
   "source": [
    "#### Q. Write a program to take dictionary from the keyboard and print the sum of values?"
   ]
  },
  {
   "cell_type": "code",
   "execution_count": null,
   "metadata": {},
   "outputs": [],
   "source": []
  },
  {
   "cell_type": "markdown",
   "metadata": {},
   "source": [
    "#### Q. Write a program to find number of occurrences of each letter present in the given string?"
   ]
  },
  {
   "cell_type": "code",
   "execution_count": null,
   "metadata": {},
   "outputs": [],
   "source": []
  },
  {
   "cell_type": "markdown",
   "metadata": {},
   "source": [
    "### Membership operators: (in , not in)"
   ]
  },
  {
   "cell_type": "code",
   "execution_count": null,
   "metadata": {},
   "outputs": [],
   "source": [
    "d={'a': 'apple', 'c': 'catwoman', 'b': 'batman', 'o': 'orange', 'p': 'penguin'}\n",
    "print(d)\n"
   ]
  },
  {
   "cell_type": "markdown",
   "metadata": {},
   "source": [
    "### Dictionary Comprehension:"
   ]
  },
  {
   "cell_type": "code",
   "execution_count": null,
   "metadata": {},
   "outputs": [],
   "source": [
    "#Comprehension concept applicable for dictionaries also.\n",
    "squares={x:x*x for x in range(1,6)}\n",
    "print(\"Squares:\",squares)\n",
    "\n",
    "\n",
    "doubles={x:2*x for x in range(1,6)}\n",
    "print(\"Doubles:\",doubles)"
   ]
  },
  {
   "cell_type": "markdown",
   "metadata": {},
   "source": [
    "**Learning Outcome:**  \n",
    "\n",
    "- How to handle a dictionary.  \n",
    "- Dictionary has O(1) search time complexity whereas List has O(n) time complexity. So it is recommended to use the dictionary where ever possible.\n",
    "- The best application of dictionary can be seen in Twitter Sentiment Analysis where analysis Twitter sentiments are analysed, using Lexicon approach."
   ]
  },
  {
   "cell_type": "markdown",
   "metadata": {},
   "source": [
    "### Exercises"
   ]
  },
  {
   "cell_type": "markdown",
   "metadata": {},
   "source": [
    "**Write a Python script to add a key to a dictionary.**   \n",
    "Sample Dictionary : {0: 10, 1: 20}  \n",
    "Expected Result : {0: 10, 1: 20, 2: 30}  "
   ]
  },
  {
   "cell_type": "code",
   "execution_count": 42,
   "metadata": {
    "ExecuteTime": {
     "end_time": "2020-11-04T03:11:39.763825Z",
     "start_time": "2020-11-04T03:11:39.758838Z"
    }
   },
   "outputs": [
    {
     "data": {
      "text/plain": [
       "{0: 10, 1: 20, 2: 30}"
      ]
     },
     "execution_count": 42,
     "metadata": {},
     "output_type": "execute_result"
    }
   ],
   "source": [
    "d = {0:10, 1:20}\n",
    "d[2] = 30\n",
    "d"
   ]
  },
  {
   "cell_type": "markdown",
   "metadata": {},
   "source": [
    "**Write a Python program to check whether a given key already exists in a dictionary.**"
   ]
  },
  {
   "cell_type": "code",
   "execution_count": 44,
   "metadata": {
    "ExecuteTime": {
     "end_time": "2020-11-04T03:13:45.989169Z",
     "start_time": "2020-11-04T03:13:45.257125Z"
    }
   },
   "outputs": [
    {
     "name": "stdout",
     "output_type": "stream",
     "text": [
      "Enter a key: 7\n",
      "False\n"
     ]
    }
   ],
   "source": [
    "k = input(\"Enter a key: \")\n",
    "if (k in d or int(k) in d):\n",
    "    print(\"True\")\n",
    "else:\n",
    "    print(\"False\")"
   ]
  },
  {
   "cell_type": "markdown",
   "metadata": {},
   "source": [
    "**Write a Python script to print a dictionary where the keys are numbers between 1 and 15 (both included) and the values are square of keys.**\n",
    "Sample Dictionary\n",
    "{1: 1, 2: 4, 3: 9, 4: 16, 5: 25, 6: 36, 7: 49, 8: 64, 9: 81, 10: 100, 11: 121, 12: 144, 13: 169, 14: 196, 15: 225}"
   ]
  },
  {
   "cell_type": "code",
   "execution_count": 45,
   "metadata": {
    "ExecuteTime": {
     "end_time": "2020-11-04T03:14:17.948673Z",
     "start_time": "2020-11-04T03:14:17.940695Z"
    }
   },
   "outputs": [
    {
     "data": {
      "text/plain": [
       "{1: 1,\n",
       " 2: 4,\n",
       " 3: 9,\n",
       " 4: 16,\n",
       " 5: 25,\n",
       " 6: 36,\n",
       " 7: 49,\n",
       " 8: 64,\n",
       " 9: 81,\n",
       " 10: 100,\n",
       " 11: 121,\n",
       " 12: 144,\n",
       " 13: 169,\n",
       " 14: 196,\n",
       " 15: 225}"
      ]
     },
     "execution_count": 45,
     "metadata": {},
     "output_type": "execute_result"
    }
   ],
   "source": [
    "d = {x:x**2 for x in range(1,16)}\n",
    "d"
   ]
  },
  {
   "cell_type": "markdown",
   "metadata": {},
   "source": [
    "## Set"
   ]
  },
  {
   "cell_type": "markdown",
   "metadata": {},
   "source": [
    "You may recall Sets and Set Theory from math in school. The ones using the Venn Diagrams. Refer to figure 1 below.\n",
    "\n",
    "<figure style=\"text-align: center\">\n",
    "<img src=\"../images/venn.png\" class=\"center\">\n",
    "<figcaption style=\"font-size:90%; font-weight: 550;\">\n",
    "Figure 1: Venn Diagram.\n",
    "</figcaption>\n",
    "</figure>"
   ]
  },
  {
   "cell_type": "markdown",
   "metadata": {},
   "source": [
    "- If we want to represent a group of unique values as a single entity then we should go for set.\n",
    "- Duplicates are not allowed.\n",
    "- Insertion order is not preserved.But we can sort the elements.\n",
    "- Indexing and slicing not allowed for the set.\n",
    "- Heterogeneous elements are allowed.\n",
    "- Set objects are mutable i.e once we creates set object we can perform any changes in that object based on our requirement.\n",
    "- We can represent set elements within curly braces and with comma seperation\n",
    "- We can apply mathematical operations like union,intersection,difference etc on set objects."
   ]
  },
  {
   "cell_type": "markdown",
   "metadata": {},
   "source": [
    "### Creation of Set objects:"
   ]
  },
  {
   "cell_type": "code",
   "execution_count": 46,
   "metadata": {
    "ExecuteTime": {
     "end_time": "2020-11-04T03:17:50.840181Z",
     "start_time": "2020-11-04T03:17:50.834196Z"
    }
   },
   "outputs": [
    {
     "name": "stdout",
     "output_type": "stream",
     "text": [
      "<class 'set'>\n",
      "<class 'set'>\n"
     ]
    }
   ],
   "source": [
    "s=set()\n",
    "print(type(s))\n",
    "\n",
    "s={10,20,30,40}\n",
    "print(type(s))"
   ]
  },
  {
   "cell_type": "markdown",
   "metadata": {},
   "source": [
    "We can create set objects by using set() function  \n",
    "`s=set(any sequence)`"
   ]
  },
  {
   "cell_type": "code",
   "execution_count": 47,
   "metadata": {
    "ExecuteTime": {
     "end_time": "2020-11-04T03:18:01.985366Z",
     "start_time": "2020-11-04T03:18:01.981377Z"
    }
   },
   "outputs": [
    {
     "name": "stdout",
     "output_type": "stream",
     "text": [
      "{40, 10, 20, 30}\n"
     ]
    }
   ],
   "source": [
    "l = [10,20,30,40,10,20,10]\n",
    "s=set(l)\n",
    "print(s)"
   ]
  },
  {
   "cell_type": "code",
   "execution_count": 48,
   "metadata": {
    "ExecuteTime": {
     "end_time": "2020-11-04T03:18:29.638394Z",
     "start_time": "2020-11-04T03:18:29.634403Z"
    }
   },
   "outputs": [
    {
     "name": "stdout",
     "output_type": "stream",
     "text": [
      "{0, 1, 2, 3, 4}\n"
     ]
    }
   ],
   "source": [
    "s=set(range(5))\n",
    "print(s)"
   ]
  },
  {
   "cell_type": "markdown",
   "metadata": {},
   "source": [
    "**Note:** While creating empty set we have to take special care. Compulsory we should use set() function.  \n",
    "`s={}` ==>It is treated as dictionary but not empty set."
   ]
  },
  {
   "cell_type": "code",
   "execution_count": 49,
   "metadata": {
    "ExecuteTime": {
     "end_time": "2020-11-04T03:18:32.527664Z",
     "start_time": "2020-11-04T03:18:32.523675Z"
    }
   },
   "outputs": [
    {
     "name": "stdout",
     "output_type": "stream",
     "text": [
      "{}\n",
      "<class 'dict'>\n"
     ]
    }
   ],
   "source": [
    "s={}\n",
    "print(s)\n",
    "print(type(s))"
   ]
  },
  {
   "cell_type": "code",
   "execution_count": 50,
   "metadata": {
    "ExecuteTime": {
     "end_time": "2020-11-04T03:18:35.516669Z",
     "start_time": "2020-11-04T03:18:35.511721Z"
    }
   },
   "outputs": [
    {
     "name": "stdout",
     "output_type": "stream",
     "text": [
      "set()\n",
      "<class 'set'>\n"
     ]
    }
   ],
   "source": [
    "s=set()\n",
    "print(s)\n",
    "print(type(s))"
   ]
  },
  {
   "cell_type": "code",
   "execution_count": 51,
   "metadata": {
    "ExecuteTime": {
     "end_time": "2020-11-04T03:18:39.088114Z",
     "start_time": "2020-11-04T03:18:39.083129Z"
    }
   },
   "outputs": [
    {
     "data": {
      "text/plain": [
       "{'galactus', 'gambit', 'phoenix', 'rogue', 'storm'}"
      ]
     },
     "execution_count": 51,
     "metadata": {},
     "output_type": "execute_result"
    }
   ],
   "source": [
    "# creation from list\n",
    "set(['rogue', 'phoenix', 'gambit', 'storm', 'galactus'])"
   ]
  },
  {
   "cell_type": "code",
   "execution_count": 52,
   "metadata": {
    "ExecuteTime": {
     "end_time": "2020-11-04T03:18:42.326488Z",
     "start_time": "2020-11-04T03:18:42.321467Z"
    }
   },
   "outputs": [
    {
     "data": {
      "text/plain": [
       "{'galactus', 'gambit', 'phoenix', 'rogue', 'storm'}"
      ]
     },
     "execution_count": 52,
     "metadata": {},
     "output_type": "execute_result"
    }
   ],
   "source": [
    "# creation from tuple\n",
    "set(('rogue', 'phoenix', 'gambit', 'storm', 'galactus'))"
   ]
  },
  {
   "cell_type": "code",
   "execution_count": 55,
   "metadata": {
    "ExecuteTime": {
     "end_time": "2020-11-04T03:19:21.938489Z",
     "start_time": "2020-11-04T03:19:21.930509Z"
    }
   },
   "outputs": [
    {
     "data": {
      "text/plain": [
       "{'b', 'c', 'o', 'p'}"
      ]
     },
     "execution_count": 55,
     "metadata": {},
     "output_type": "execute_result"
    }
   ],
   "source": [
    "# creation from dictionary, it only uses the keys\n",
    "set({'c': 'catwoman', 'b': 'batman', 'o': 'orange', 'p': 'penguin'})"
   ]
  },
  {
   "cell_type": "markdown",
   "metadata": {},
   "source": [
    "### iterating a set"
   ]
  },
  {
   "cell_type": "code",
   "execution_count": 56,
   "metadata": {
    "ExecuteTime": {
     "end_time": "2020-11-04T03:19:51.207193Z",
     "start_time": "2020-11-04T03:19:51.201210Z"
    }
   },
   "outputs": [
    {
     "name": "stdout",
     "output_type": "stream",
     "text": [
      "40\n",
      "10\n",
      "50\n",
      "20\n",
      "30\n"
     ]
    }
   ],
   "source": [
    "s={10,20,30,40,50}\n",
    "\n",
    "for elm in s:\n",
    "    print(elm)"
   ]
  },
  {
   "cell_type": "markdown",
   "metadata": {},
   "source": [
    "### Important functions of set:"
   ]
  },
  {
   "cell_type": "markdown",
   "metadata": {},
   "source": [
    "**`len(s)`**"
   ]
  },
  {
   "cell_type": "code",
   "execution_count": 57,
   "metadata": {
    "ExecuteTime": {
     "end_time": "2020-11-04T03:20:33.080182Z",
     "start_time": "2020-11-04T03:20:33.075194Z"
    }
   },
   "outputs": [
    {
     "data": {
      "text/plain": [
       "3"
      ]
     },
     "execution_count": 57,
     "metadata": {},
     "output_type": "execute_result"
    }
   ],
   "source": [
    "s={10,20,30}\n",
    "len(s)"
   ]
  },
  {
   "cell_type": "markdown",
   "metadata": {},
   "source": [
    "**`1. add(x):`**  \n",
    "Adds item x to the set"
   ]
  },
  {
   "cell_type": "code",
   "execution_count": 58,
   "metadata": {
    "ExecuteTime": {
     "end_time": "2020-11-04T03:20:55.152139Z",
     "start_time": "2020-11-04T03:20:55.147152Z"
    }
   },
   "outputs": [
    {
     "data": {
      "text/plain": [
       "{10, 20, 30, 40, 50}"
      ]
     },
     "execution_count": 58,
     "metadata": {},
     "output_type": "execute_result"
    }
   ],
   "source": [
    "s.add(40)\n",
    "s.add(50)\n",
    "s"
   ]
  },
  {
   "cell_type": "markdown",
   "metadata": {},
   "source": [
    "**`2. update(x,y,z):`**  \n",
    "To add multiple items to the set. Arguments are not individual elements and these are Iterable objects like List, range etc.  \n",
    "All elements present in the given Iterable objects will be added to the set."
   ]
  },
  {
   "cell_type": "code",
   "execution_count": null,
   "metadata": {},
   "outputs": [],
   "source": [
    "s={10,20,30}\n",
    "l=[40,50,60,10]\n",
    "s.update(l,range(5))\n",
    "print(s)"
   ]
  },
  {
   "cell_type": "markdown",
   "metadata": {},
   "source": [
    "### Q. What is the difference between add() and update() functions in set?  \n"
   ]
  },
  {
   "cell_type": "code",
   "execution_count": null,
   "metadata": {},
   "outputs": [],
   "source": []
  },
  {
   "cell_type": "markdown",
   "metadata": {},
   "source": [
    "### Q. Which of the following are valid for set s?"
   ]
  },
  {
   "cell_type": "code",
   "execution_count": 59,
   "metadata": {
    "ExecuteTime": {
     "end_time": "2020-11-04T03:23:39.580323Z",
     "start_time": "2020-11-04T03:23:39.567363Z"
    }
   },
   "outputs": [
    {
     "ename": "TypeError",
     "evalue": "add() takes exactly one argument (3 given)",
     "output_type": "error",
     "traceback": [
      "\u001b[1;31m---------------------------------------------------------------------------\u001b[0m",
      "\u001b[1;31mTypeError\u001b[0m                                 Traceback (most recent call last)",
      "\u001b[1;32m<ipython-input-59-1e1956dae740>\u001b[0m in \u001b[0;36m<module>\u001b[1;34m\u001b[0m\n\u001b[0;32m      1\u001b[0m \u001b[0ms\u001b[0m\u001b[1;33m.\u001b[0m\u001b[0madd\u001b[0m\u001b[1;33m(\u001b[0m\u001b[1;36m10\u001b[0m\u001b[1;33m)\u001b[0m\u001b[1;33m\u001b[0m\u001b[1;33m\u001b[0m\u001b[0m\n\u001b[1;32m----> 2\u001b[1;33m \u001b[0ms\u001b[0m\u001b[1;33m.\u001b[0m\u001b[0madd\u001b[0m\u001b[1;33m(\u001b[0m\u001b[1;36m10\u001b[0m\u001b[1;33m,\u001b[0m\u001b[1;36m20\u001b[0m\u001b[1;33m,\u001b[0m\u001b[1;36m30\u001b[0m\u001b[1;33m)\u001b[0m\u001b[1;33m\u001b[0m\u001b[1;33m\u001b[0m\u001b[0m\n\u001b[0m\u001b[0;32m      3\u001b[0m \u001b[0ms\u001b[0m\u001b[1;33m.\u001b[0m\u001b[0mupdate\u001b[0m\u001b[1;33m(\u001b[0m\u001b[1;36m10\u001b[0m\u001b[1;33m)\u001b[0m\u001b[1;33m\u001b[0m\u001b[1;33m\u001b[0m\u001b[0m\n\u001b[0;32m      4\u001b[0m \u001b[0ms\u001b[0m\u001b[1;33m.\u001b[0m\u001b[0mupdate\u001b[0m\u001b[1;33m(\u001b[0m\u001b[0mrange\u001b[0m\u001b[1;33m(\u001b[0m\u001b[1;36m1\u001b[0m\u001b[1;33m,\u001b[0m\u001b[1;36m10\u001b[0m\u001b[1;33m,\u001b[0m\u001b[1;36m2\u001b[0m\u001b[1;33m)\u001b[0m\u001b[1;33m,\u001b[0m\u001b[0mrange\u001b[0m\u001b[1;33m(\u001b[0m\u001b[1;36m0\u001b[0m\u001b[1;33m,\u001b[0m\u001b[1;36m10\u001b[0m\u001b[1;33m,\u001b[0m\u001b[1;36m2\u001b[0m\u001b[1;33m)\u001b[0m\u001b[1;33m)\u001b[0m\u001b[1;33m\u001b[0m\u001b[1;33m\u001b[0m\u001b[0m\n",
      "\u001b[1;31mTypeError\u001b[0m: add() takes exactly one argument (3 given)"
     ]
    }
   ],
   "source": [
    "s.add(10)\n",
    "s.add(10,20,30)  \n",
    "s.update(10)      \n",
    "s.update(range(1,10,2),range(0,10,2))"
   ]
  },
  {
   "cell_type": "code",
   "execution_count": null,
   "metadata": {},
   "outputs": [],
   "source": []
  },
  {
   "cell_type": "markdown",
   "metadata": {},
   "source": [
    "**`3. copy():`**  \n",
    "Returns copy of the set. It is cloned object."
   ]
  },
  {
   "cell_type": "code",
   "execution_count": 60,
   "metadata": {
    "ExecuteTime": {
     "end_time": "2020-11-04T03:25:02.148414Z",
     "start_time": "2020-11-04T03:25:02.142429Z"
    }
   },
   "outputs": [
    {
     "name": "stdout",
     "output_type": "stream",
     "text": [
      "{10, 20, 30}\n",
      "{10, 20, 30}\n"
     ]
    }
   ],
   "source": [
    "s={10,20,30}\n",
    "s1 = s.copy()\n",
    "print(s)\n",
    "print(s1)"
   ]
  },
  {
   "cell_type": "markdown",
   "metadata": {},
   "source": [
    "**`4. pop():`**  \n",
    "It removes and returns some random element from the set."
   ]
  },
  {
   "cell_type": "code",
   "execution_count": 63,
   "metadata": {
    "ExecuteTime": {
     "end_time": "2020-11-04T03:27:15.520636Z",
     "start_time": "2020-11-04T03:27:15.515689Z"
    }
   },
   "outputs": [
    {
     "name": "stdout",
     "output_type": "stream",
     "text": [
      "40\n",
      "{10, 20, 30}\n"
     ]
    }
   ],
   "source": [
    "s={40,10,30,20}\n",
    "# Insertion order is not preserved.\n",
    "print(s.pop())\n",
    "print(s)"
   ]
  },
  {
   "cell_type": "markdown",
   "metadata": {},
   "source": [
    "**`5. remove(x):`**  \n",
    "It removes specified element from the set. If the specified element not present in the Set then we will get `KeyError`"
   ]
  },
  {
   "cell_type": "code",
   "execution_count": null,
   "metadata": {},
   "outputs": [],
   "source": [
    "s={40,10,30,20}\n"
   ]
  },
  {
   "cell_type": "code",
   "execution_count": null,
   "metadata": {},
   "outputs": [],
   "source": [
    "s.remove(50)"
   ]
  },
  {
   "cell_type": "markdown",
   "metadata": {},
   "source": [
    "**`6. discard(x):`**  \n",
    "It removes the specified element from the set. If the specified element not present in the set then we `won't get any error`.    "
   ]
  },
  {
   "cell_type": "code",
   "execution_count": null,
   "metadata": {},
   "outputs": [],
   "source": [
    "s={10,20,30}\n"
   ]
  },
  {
   "cell_type": "code",
   "execution_count": null,
   "metadata": {},
   "outputs": [],
   "source": [
    "s.discard(50)\n",
    "print(s)"
   ]
  },
  {
   "cell_type": "markdown",
   "metadata": {},
   "source": [
    "**Q. Explain differences between pop(),remove() and discard() functions in Set?**"
   ]
  },
  {
   "cell_type": "code",
   "execution_count": null,
   "metadata": {},
   "outputs": [],
   "source": []
  },
  {
   "cell_type": "markdown",
   "metadata": {},
   "source": [
    "**`7.clear():`**  \n",
    "To remove all elements from the Set."
   ]
  },
  {
   "cell_type": "code",
   "execution_count": null,
   "metadata": {},
   "outputs": [],
   "source": [
    "s={10,20,30}\n",
    "\n"
   ]
  },
  {
   "cell_type": "markdown",
   "metadata": {},
   "source": [
    "### How to Sort set?"
   ]
  },
  {
   "cell_type": "code",
   "execution_count": 64,
   "metadata": {
    "ExecuteTime": {
     "end_time": "2020-11-04T03:31:19.122043Z",
     "start_time": "2020-11-04T03:31:19.116058Z"
    }
   },
   "outputs": [
    {
     "data": {
      "text/plain": [
       "['blue', 'green', 'red', 'yellow']"
      ]
     },
     "execution_count": 64,
     "metadata": {},
     "output_type": "execute_result"
    }
   ],
   "source": [
    "s={'red','green','yellow','blue'}\n",
    "sorted(s) # Returns sorted LIST.\n"
   ]
  },
  {
   "cell_type": "markdown",
   "metadata": {},
   "source": [
    "### Mathematical operations on the Set:"
   ]
  },
  {
   "cell_type": "markdown",
   "metadata": {},
   "source": [
    "**`1.union():`**  \n",
    "`x.union(y)` ==>We can use this function to return all elements present in both sets  \n",
    "x.union(y) or x|y"
   ]
  },
  {
   "cell_type": "code",
   "execution_count": 65,
   "metadata": {
    "ExecuteTime": {
     "end_time": "2020-11-04T03:31:46.622477Z",
     "start_time": "2020-11-04T03:31:46.615496Z"
    }
   },
   "outputs": [
    {
     "data": {
      "text/plain": [
       "{10, 20, 30, 40, 50, 60}"
      ]
     },
     "execution_count": 65,
     "metadata": {},
     "output_type": "execute_result"
    }
   ],
   "source": [
    "x={10,20,30,40}\n",
    "y={30,40,50,60}\n",
    "x.union(y)\n",
    "x|y"
   ]
  },
  {
   "cell_type": "markdown",
   "metadata": {},
   "source": [
    "**`2. intersection():`**  \n",
    "`x.intersection(y)` **or** `x&y` \n",
    "Returns common elements present in both x and y"
   ]
  },
  {
   "cell_type": "code",
   "execution_count": 66,
   "metadata": {
    "ExecuteTime": {
     "end_time": "2020-11-04T03:31:59.995704Z",
     "start_time": "2020-11-04T03:31:59.988723Z"
    }
   },
   "outputs": [
    {
     "data": {
      "text/plain": [
       "{30, 40}"
      ]
     },
     "execution_count": 66,
     "metadata": {},
     "output_type": "execute_result"
    }
   ],
   "source": [
    "x={10,20,30,40}\n",
    "y={30,40,50,60}\n",
    "x.intersection(y)\n",
    "x&y"
   ]
  },
  {
   "cell_type": "markdown",
   "metadata": {},
   "source": [
    "**`3. difference():`**  \n",
    "`x.difference(y)` **or** `x-y`  \n",
    "returns the elements present in x but not in y"
   ]
  },
  {
   "cell_type": "code",
   "execution_count": 67,
   "metadata": {
    "ExecuteTime": {
     "end_time": "2020-11-04T03:34:33.049304Z",
     "start_time": "2020-11-04T03:34:33.043294Z"
    }
   },
   "outputs": [
    {
     "data": {
      "text/plain": [
       "{10, 20}"
      ]
     },
     "execution_count": 67,
     "metadata": {},
     "output_type": "execute_result"
    }
   ],
   "source": [
    "x={10,20,30,40}\n",
    "y={30,40,50,60}\n",
    "x.difference(y)"
   ]
  },
  {
   "cell_type": "code",
   "execution_count": 68,
   "metadata": {
    "ExecuteTime": {
     "end_time": "2020-11-04T03:34:33.960840Z",
     "start_time": "2020-11-04T03:34:33.955854Z"
    }
   },
   "outputs": [
    {
     "name": "stdout",
     "output_type": "stream",
     "text": [
      "{50, 60}\n"
     ]
    }
   ],
   "source": [
    "print(y-x)"
   ]
  },
  {
   "cell_type": "markdown",
   "metadata": {},
   "source": [
    "**`4.symmetric_difference():`**  \n",
    "`x.symmetric_difference(y)` **or** `x^y`  \n",
    "Returns elements present in either x or y but not in both"
   ]
  },
  {
   "cell_type": "code",
   "execution_count": 69,
   "metadata": {
    "ExecuteTime": {
     "end_time": "2020-11-04T03:34:45.102037Z",
     "start_time": "2020-11-04T03:34:45.096053Z"
    }
   },
   "outputs": [
    {
     "data": {
      "text/plain": [
       "{10, 20, 50, 60}"
      ]
     },
     "execution_count": 69,
     "metadata": {},
     "output_type": "execute_result"
    }
   ],
   "source": [
    "x={10,20,30,40}\n",
    "y={30,40,50,60}\n",
    "x^y"
   ]
  },
  {
   "cell_type": "markdown",
   "metadata": {},
   "source": [
    "### Membership operators: (in, not in)"
   ]
  },
  {
   "cell_type": "code",
   "execution_count": 70,
   "metadata": {
    "ExecuteTime": {
     "end_time": "2020-11-04T03:37:50.459229Z",
     "start_time": "2020-11-04T03:37:50.454279Z"
    }
   },
   "outputs": [
    {
     "name": "stdout",
     "output_type": "stream",
     "text": [
      "{'p', 'n', 'g', 'e', 'i', 'd'}\n",
      "True\n"
     ]
    }
   ],
   "source": [
    "s=set(\"digipen\")\n",
    "print(s)\n",
    "print('g' in s)"
   ]
  },
  {
   "cell_type": "markdown",
   "metadata": {},
   "source": [
    "### Set Comprehension:  \n",
    "Set comprehension is possible."
   ]
  },
  {
   "cell_type": "code",
   "execution_count": 71,
   "metadata": {
    "ExecuteTime": {
     "end_time": "2020-11-04T03:38:05.011301Z",
     "start_time": "2020-11-04T03:38:05.005320Z"
    }
   },
   "outputs": [
    {
     "data": {
      "text/plain": [
       "{0, 1, 4, 9, 16, 25, 36, 49, 64, 81}"
      ]
     },
     "execution_count": 71,
     "metadata": {},
     "output_type": "execute_result"
    }
   ],
   "source": [
    "{x**2 for x in range(0,10)}"
   ]
  },
  {
   "cell_type": "code",
   "execution_count": 72,
   "metadata": {
    "ExecuteTime": {
     "end_time": "2020-11-04T03:39:08.336904Z",
     "start_time": "2020-11-04T03:39:08.331917Z"
    }
   },
   "outputs": [
    {
     "ename": "SyntaxError",
     "evalue": "invalid syntax (<ipython-input-72-1b874b9f1fe3>, line 1)",
     "output_type": "error",
     "traceback": [
      "\u001b[1;36m  File \u001b[1;32m\"<ipython-input-72-1b874b9f1fe3>\"\u001b[1;36m, line \u001b[1;32m1\u001b[0m\n\u001b[1;33m    [3,4] if [True, False]\u001b[0m\n\u001b[1;37m                          ^\u001b[0m\n\u001b[1;31mSyntaxError\u001b[0m\u001b[1;31m:\u001b[0m invalid syntax\n"
     ]
    }
   ],
   "source": []
  },
  {
   "cell_type": "markdown",
   "metadata": {},
   "source": [
    "### set objects won't support indexing and slicing:"
   ]
  },
  {
   "cell_type": "code",
   "execution_count": null,
   "metadata": {},
   "outputs": [],
   "source": [
    "s={10,20,30,40}\n"
   ]
  },
  {
   "cell_type": "code",
   "execution_count": null,
   "metadata": {},
   "outputs": [],
   "source": []
  },
  {
   "cell_type": "markdown",
   "metadata": {},
   "source": [
    "**Q.Write a program to eliminate duplicates present in the list?**"
   ]
  },
  {
   "cell_type": "code",
   "execution_count": 75,
   "metadata": {
    "ExecuteTime": {
     "end_time": "2020-11-04T03:46:58.665754Z",
     "start_time": "2020-11-04T03:46:58.661765Z"
    }
   },
   "outputs": [
    {
     "name": "stdout",
     "output_type": "stream",
     "text": [
      "[1, 2, 3, 4, 5, 6, 7]\n"
     ]
    }
   ],
   "source": [
    "#Approach-1:\n",
    "lst=[1,2,3,4,5,5,5,6,7]\n",
    "print(list(set(lst)))"
   ]
  },
  {
   "cell_type": "code",
   "execution_count": 81,
   "metadata": {
    "ExecuteTime": {
     "end_time": "2020-11-04T03:52:03.831424Z",
     "start_time": "2020-11-04T03:52:03.823445Z"
    }
   },
   "outputs": [
    {
     "data": {
      "text/plain": [
       "[6]"
      ]
     },
     "execution_count": 81,
     "metadata": {},
     "output_type": "execute_result"
    }
   ],
   "source": [
    "#Approach-2:\n"
   ]
  },
  {
   "cell_type": "markdown",
   "metadata": {},
   "source": [
    "**Q. Write a program to print different vowels present in the given word?**"
   ]
  },
  {
   "cell_type": "code",
   "execution_count": 80,
   "metadata": {
    "ExecuteTime": {
     "end_time": "2020-11-04T03:51:54.891338Z",
     "start_time": "2020-11-04T03:51:54.885356Z"
    }
   },
   "outputs": [
    {
     "name": "stdout",
     "output_type": "stream",
     "text": [
      "{'a', 'i', 'o'}\n",
      "{'a', 'i', 'o'}\n"
     ]
    }
   ],
   "source": [
    "s=set()\n",
    "word = 'djsirnwadopd'\n",
    "for c in word.lower():\n",
    "    if c in 'aeiou':\n",
    "        s.add(c)\n",
    "print(s)\n",
    "\n",
    "print(set(word)&set('aeiou')) # Better"
   ]
  },
  {
   "cell_type": "markdown",
   "metadata": {},
   "source": [
    "## Frozenset"
   ]
  },
  {
   "cell_type": "markdown",
   "metadata": {},
   "source": [
    "It is exactly same as set except that it is `immutable`. Hence we `can not` use `add` or `remove` functions.   \n",
    "There is an immutable version of a set called `Frozenset`. Frozensets are used when there is a need to create an immutable set. "
   ]
  },
  {
   "cell_type": "code",
   "execution_count": null,
   "metadata": {},
   "outputs": [],
   "source": [
    "s={10,20,30,40}\n"
   ]
  },
  {
   "cell_type": "code",
   "execution_count": null,
   "metadata": {},
   "outputs": [],
   "source": [
    "for i in fs:\n",
    "    print(i)"
   ]
  },
  {
   "cell_type": "code",
   "execution_count": null,
   "metadata": {},
   "outputs": [],
   "source": [
    "fs.add(70)"
   ]
  },
  {
   "cell_type": "code",
   "execution_count": null,
   "metadata": {},
   "outputs": [],
   "source": [
    "fs.remove(10)"
   ]
  },
  {
   "cell_type": "markdown",
   "metadata": {},
   "source": [
    "### Excersices"
   ]
  },
  {
   "cell_type": "markdown",
   "metadata": {},
   "source": [
    "**Write a Python program to create a union of sets.**"
   ]
  },
  {
   "cell_type": "code",
   "execution_count": 82,
   "metadata": {
    "ExecuteTime": {
     "end_time": "2020-11-04T03:59:11.996211Z",
     "start_time": "2020-11-04T03:59:11.989230Z"
    }
   },
   "outputs": [
    {
     "data": {
      "text/plain": [
       "{'blue', 'green', 'yellow'}"
      ]
     },
     "execution_count": 82,
     "metadata": {},
     "output_type": "execute_result"
    }
   ],
   "source": [
    "setx = set([\"green\", \"blue\"])\n",
    "sety = set([\"blue\", \"yellow\"])\n",
    "setx|sety"
   ]
  },
  {
   "cell_type": "markdown",
   "metadata": {},
   "source": [
    "**Write a Python program to create set difference and a symmetric difference.**  "
   ]
  },
  {
   "cell_type": "code",
   "execution_count": 83,
   "metadata": {
    "ExecuteTime": {
     "end_time": "2020-11-04T03:59:33.039919Z",
     "start_time": "2020-11-04T03:59:33.034931Z"
    }
   },
   "outputs": [
    {
     "data": {
      "text/plain": [
       "({'apple'}, {'apple', 'orange'})"
      ]
     },
     "execution_count": 83,
     "metadata": {},
     "output_type": "execute_result"
    }
   ],
   "source": [
    "setx = set([\"apple\", \"mango\"])\n",
    "sety = set([\"mango\", \"orange\"])\n",
    "setx-sety,setx^sety"
   ]
  },
  {
   "cell_type": "markdown",
   "metadata": {},
   "source": [
    "## Summary"
   ]
  },
  {
   "cell_type": "markdown",
   "metadata": {},
   "source": [
    "* **Dictionary & Set**\n",
    "    * How to create dictionary and set\n",
    "    * How to access and iterate it\n",
    "    * Sorting and deleting elements of dictionary\n",
    "    * in-built functions for dictionary and set\n",
    "    * Various Set operations\n",
    "    * what is frozenset?"
   ]
  }
 ],
 "metadata": {
  "kernelspec": {
   "display_name": "Python 3",
   "language": "python",
   "name": "python3"
  },
  "language_info": {
   "codemirror_mode": {
    "name": "ipython",
    "version": 3
   },
   "file_extension": ".py",
   "mimetype": "text/x-python",
   "name": "python",
   "nbconvert_exporter": "python",
   "pygments_lexer": "ipython3",
   "version": "3.8.3"
  }
 },
 "nbformat": 4,
 "nbformat_minor": 2
}
