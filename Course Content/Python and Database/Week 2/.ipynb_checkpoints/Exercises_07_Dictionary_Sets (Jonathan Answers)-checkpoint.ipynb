{
 "cells": [
  {
   "cell_type": "markdown",
   "metadata": {},
   "source": [
    "# Python Dictionary & Sets Exercise"
   ]
  },
  {
   "cell_type": "markdown",
   "metadata": {},
   "source": [
    "## Complete the code cells\n",
    "---"
   ]
  },
  {
   "cell_type": "markdown",
   "metadata": {},
   "source": [
    "**Q1)** Given the dictionary (in the code cell below) do the following:\n",
    "* add a key to the `inventory` called `cheese`\n",
    "* set the value of `cheese` to be a list consisting of `parmesan`, `cheddar`, `blue cheese`, `goat cheeese`\n",
    "* sort the items in the `backpack` in ascending order\n",
    "* remove the `bread loaf` after the list have been sorted\n",
    "* the price of gold has increased therefore add 60 to the current value for `gold`"
   ]
  },
  {
   "cell_type": "code",
   "execution_count": 1,
   "metadata": {},
   "outputs": [
    {
     "data": {
      "text/plain": [
       "{'gold': 560,\n",
       " 'gems': ['diamond', 'saphire', 'amethyst'],\n",
       " 'backpack': ['breadroll', 'dagger', 'xylophone'],\n",
       " 'cheese': ['parmesan', 'cheddar', 'blue cheese', 'goat cheeese']}"
      ]
     },
     "execution_count": 1,
     "metadata": {},
     "output_type": "execute_result"
    }
   ],
   "source": [
    "inventory = {\n",
    "    'gold' : 500,\n",
    "    'gems' : ['diamond', 'saphire', 'amethyst'],\n",
    "    'backpack' : ['xylophone','dagger', 'breadroll','bread loaf']\n",
    "}\n",
    "\n",
    "inventory[\"cheese\"] = [\"parmesan\", \"cheddar\", \"blue cheese\", \"goat cheeese\"]\n",
    "inventory[\"backpack\"].sort()\n",
    "inventory[\"backpack\"].remove(\"bread loaf\")\n",
    "inventory[\"gold\"] += 60\n",
    "\n",
    "inventory\n",
    "\n",
    "\n"
   ]
  },
  {
   "cell_type": "markdown",
   "metadata": {},
   "source": [
    "**Q2)** Write a program to generate and print a dictionary that contains numbers (keys) between `1` to `n` where `n` is an integer value provided by the user. The values are of the form $ keys^{2} $. Your program must work on any size value entered by the user.\n",
    "\n",
    "**Program Output Example:**\n",
    "<pre>\n",
    "size = 3\n",
    "d = {1:1, 2:4, 3:9}\n",
    "</pre>"
   ]
  },
  {
   "cell_type": "code",
   "execution_count": 2,
   "metadata": {},
   "outputs": [
    {
     "name": "stdout",
     "output_type": "stream",
     "text": [
      "size = 3\n"
     ]
    },
    {
     "data": {
      "text/plain": [
       "{1: 1, 2: 4, 3: 9}"
      ]
     },
     "execution_count": 2,
     "metadata": {},
     "output_type": "execute_result"
    }
   ],
   "source": [
    "n = int(input(\"size = \"))\n",
    "{i:i*i for i in range(1, n+1)}"
   ]
  },
  {
   "cell_type": "markdown",
   "metadata": {},
   "source": [
    "**Q3)** Create a dictionary called `fruits` with the data in the table below. This dictionary stores the type of fruit (keys) with it's number of stock remaining (values) for a store. Complete the program to check if the particular fruit (case insensitive) is in stock or not based on a user's input.\n",
    "\n",
    "|Type of fruit (keys) | Stock (values) |\n",
    "|---------------------|----------------|\n",
    "| Apples              |       50       |\n",
    "| Pears               |       80       |\n",
    "| Mangoes             |       5        |\n",
    "| Pineapples          |       10       |\n",
    "| Durian              |       40       |\n",
    "| Oranges             |       20       |"
   ]
  },
  {
   "cell_type": "code",
   "execution_count": 10,
   "metadata": {},
   "outputs": [
    {
     "name": "stdout",
     "output_type": "stream",
     "text": [
      "apple\n"
     ]
    },
    {
     "data": {
      "text/plain": [
       "False"
      ]
     },
     "execution_count": 10,
     "metadata": {},
     "output_type": "execute_result"
    }
   ],
   "source": [
    "fruits = {\"apples\":50, \"pears\":80,\"mangoes\":5, \"pineapples\":10,\"durian\":40,\"oranges\":20}\n",
    "s = input()\n",
    "fruits.get(s) is not None and fruits[s] > 0"
   ]
  },
  {
   "cell_type": "markdown",
   "metadata": {},
   "source": [
    "**Q4)** Write a program to combine the two given dictionaries into a new dictionary called `combine_dict`, adding the values for common keys. **Do not use any python libraries.**\n",
    "\n",
    "**Hint:** Using Sets is helpful."
   ]
  },
  {
   "cell_type": "code",
   "execution_count": 102,
   "metadata": {},
   "outputs": [
    {
     "data": {
      "text/plain": [
       "{'b': 480, 'a': 450, 'c': 512, 'd': 995}"
      ]
     },
     "execution_count": 102,
     "metadata": {},
     "output_type": "execute_result"
    }
   ],
   "source": [
    "d1 = {'a': 150, 'b': 220, 'c':512}\n",
    "d2 = {'a': 300, 'b': 260, 'd':995}\n",
    "\n",
    "different = d1.keys() ^ d2.keys()\n",
    "same = d1.keys() & d2.keys()\n",
    "\n",
    "\n",
    "combine_dict = {}\n",
    "for i in same:\n",
    "    combine_dict[i] = d1[i] + d2[i]\n",
    "    \n",
    "for i in different:\n",
    "        combine_dict[i] = d1[i] if i in d1 else d2[i]\n",
    "\n",
    "combine_dict\n"
   ]
  },
  {
   "cell_type": "markdown",
   "metadata": {},
   "source": [
    "**Q5)** Given a dictionary, remove the items with `None` values. Use dictionary comprehension to solve this."
   ]
  },
  {
   "cell_type": "code",
   "execution_count": 25,
   "metadata": {},
   "outputs": [
    {
     "data": {
      "text/plain": [
       "{'item1': 346,\n",
       " 'item2': 204,\n",
       " 'item4': 720,\n",
       " 'item5': 98,\n",
       " 'item6': 25,\n",
       " 'item7': 55,\n",
       " 'item9': 253}"
      ]
     },
     "execution_count": 25,
     "metadata": {},
     "output_type": "execute_result"
    }
   ],
   "source": [
    "d = {'item0': None, 'item1': 346, 'item2': 204, 'item3': None, 'item4': 720, 'item5': 98, 'item6': 25, 'item7': 55, 'item8': None, 'item9': 253, 'item10': None}\n",
    "\n",
    "d = {k:v for k,v in d.items() if v is not None}\n",
    "d"
   ]
  },
  {
   "cell_type": "markdown",
   "metadata": {},
   "source": [
    "## Write codes based on the questions\n",
    "---"
   ]
  },
  {
   "cell_type": "markdown",
   "metadata": {},
   "source": [
    "**Q1)** Write a function called `largest_value_dict()` that accepts an integer and a randomly generated dictionary of values. The integer is used to specify the number of keys to return from searching the dictionary for the n largest values in it.\n",
    "\n",
    "Write another function called `gen_dict()` that returns a generated the dictionary. The keys of this dictionary are the english alphabets in lowercase and it's values are random number from the range of `1` to `99999`.\n",
    "\n",
    "**Hints:**   \n",
    "* use the `randint()` function to generate the dictionary values\n",
    "* in the `string` library, all english alphabets can be access via the constant `string.ascii_lowercase`\n",
    "\n",
    "**Program Output Example**\n",
    "<pre>\n",
    "Enter an integer for the largest number of values to find: 5\n",
    "Dictionary being used:\n",
    "{'a': 14593, 'b': 3279, 'c': 97197, 'd': 36049, 'e': 32099, 'f': 29257, 'g': 18290, 'h': 96531, 'i': 13435, 'j': 88697, 'k': 97081, 'l': 71483, 'm': 11396, 'n': 77398, 'o': 55303, 'p': 4166, 'q': 3906, 'r': 12281, 's': 28658, 't': 30496, 'u': 66238}\n",
    "\n",
    "['c', 'k', 'h', 'j', 'n']\n",
    "</pre>"
   ]
  },
  {
   "cell_type": "code",
   "execution_count": 60,
   "metadata": {},
   "outputs": [
    {
     "name": "stdout",
     "output_type": "stream",
     "text": [
      "Enter an integer for the largest number of values to find: 5\n",
      "{'a': 21399, 'b': 5857, 'c': 72677, 'd': 14990, 'e': 24187, 'f': 98606, 'g': 52340, 'h': 5222, 'i': 55944, 'j': 74711, 'k': 25765, 'l': 40250, 'm': 53128, 'n': 87402, 'o': 78339, 'p': 56113, 'q': 70703, 'r': 6651, 's': 12401, 't': 96389, 'u': 86995, 'v': 99198, 'w': 43470, 'x': 79836, 'y': 63741, 'z': 55025}\n"
     ]
    },
    {
     "data": {
      "text/plain": [
       "['v', 'f', 't', 'n', 'u']"
      ]
     },
     "execution_count": 60,
     "metadata": {},
     "output_type": "execute_result"
    }
   ],
   "source": [
    "from random import randint\n",
    "import string\n",
    "\n",
    "\n",
    "def gen_dict():\n",
    "    return {i: randint(1, 99999) for i in string.ascii_lowercase}\n",
    "\n",
    "\n",
    "def largest_value_dict(n, d):\n",
    "    tmp = sorted(d.items(), key=lambda x: x[1], reverse=True)[:5]\n",
    "    return [i[0] for i in tmp]\n",
    "\n",
    "\n",
    "n = int(input(\"Enter an integer for the largest number of values to find: \"))\n",
    "d = gen_dict()\n",
    "print(d)\n",
    "largest_value_dict(n, d)\n"
   ]
  },
  {
   "cell_type": "markdown",
   "metadata": {},
   "source": [
    "**Q2)** Write a function called `combine_values()` that accepts a list of dictionaries and combines the values of with the same keys. The function returns a dictionary of the combined result. Order of the combined dictionary is not important.\n",
    "\n",
    "Modify your previously made `gen_dict()` function to be now called `gen_list_dict()` that generates a list of dictionaries based on following the requirments: \n",
    "* the number of dictionaries in the list is a random number between `10` and `25`\n",
    "* keys are `item` and `amount`\n",
    "* values are respective of the keys:\n",
    " * `item<x>` - where x is a randomly selected number from the range of `1` to `4`, inclusive of `1` and `4`.\n",
    " * `amount` - a random number from the range of `1` to `999`.\n",
    "\n",
    "**Program Output Example**\n",
    "<pre>\n",
    "List of dictionaries being used:\n",
    "[{'item': 'item1', 'amount': 26}, {'item': 'item3', 'amount': 251}, {'item': 'item2', 'amount': 143}, {'item': 'item1', 'amount': 693}, {'item': 'item1', 'amount': 605}, {'item': 'item4', 'amount': 33}, {'item': 'item1', 'amount': 96}, {'item': 'item2', 'amount': 239}, {'item': 'item1', 'amount': 575}, {'item': 'item2', 'amount': 734}, {'item': 'item4', 'amount': 226}, {'item': 'item4', 'amount': 604}, {'item': 'item3', 'amount': 829}, {'item': 'item1', 'amount': 778}, {'item': 'item2', 'amount': 715}, {'item': 'item4', 'amount': 349}, {'item': 'item3', 'amount': 160}, {'item': 'item2', 'amount': 981}, {'item': 'item3', 'amount': 105}, {'item': 'item1', 'amount': 390}, {'item': 'item1', 'amount': 368}]\n",
    "\n",
    "Combine result: {'item1': 3531, 'item3': 1345, 'item2': 2812, 'item4': 1212}\n",
    "</pre>"
   ]
  },
  {
   "cell_type": "code",
   "execution_count": 83,
   "metadata": {},
   "outputs": [
    {
     "name": "stdout",
     "output_type": "stream",
     "text": [
      "[{'item': 'item4', 'amount': 370}, {'item': 'item2', 'amount': 768}, {'item': 'item3', 'amount': 513}, {'item': 'item3', 'amount': 149}, {'item': 'item4', 'amount': 935}, {'item': 'item4', 'amount': 187}, {'item': 'item1', 'amount': 669}, {'item': 'item2', 'amount': 548}, {'item': 'item1', 'amount': 979}, {'item': 'item4', 'amount': 75}, {'item': 'item1', 'amount': 918}, {'item': 'item2', 'amount': 833}, {'item': 'item4', 'amount': 288}, {'item': 'item4', 'amount': 967}, {'item': 'item2', 'amount': 608}, {'item': 'item1', 'amount': 787}, {'item': 'item4', 'amount': 678}, {'item': 'item3', 'amount': 577}, {'item': 'item3', 'amount': 65}]\n"
     ]
    },
    {
     "data": {
      "text/plain": [
       "defaultdict(int, {'item4': 3500, 'item2': 2757, 'item3': 1304, 'item1': 3353})"
      ]
     },
     "execution_count": 83,
     "metadata": {},
     "output_type": "execute_result"
    }
   ],
   "source": [
    "from random import randint\n",
    "from collections import defaultdict\n",
    "import string\n",
    "\n",
    "\n",
    "def gen_list_dict():\n",
    "    r = []\n",
    "    for i in range(randint(10,25)):\n",
    "        r.append({\"item\":\"item\" + str(randint(1,4)), \"amount\":randint(1,999)})\n",
    "        \n",
    "    return r\n",
    "\n",
    "def combine_values(x):\n",
    "    d = defaultdict(int)\n",
    "    for i in x:\n",
    "        d[i[\"item\"]] += i[\"amount\"]\n",
    "    return d\n",
    "\n",
    "\n",
    "x = gen_list_dict()\n",
    "print(x)\n",
    "combine_values(x)"
   ]
  },
  {
   "cell_type": "markdown",
   "metadata": {},
   "source": [
    "**Q3)** Create a dictionary called `bank_personal_loan` with the data in the table below.     \n",
    "Write a function `best_bank()` that accepts a user input (either string or integer) and returns either a bank name and monthly payment amount (in a dictionary) or `None` if the input is invalid.\n",
    "\n",
    "The a program (not the function) must fulfil these requirements:\n",
    "* Where a user is able to ask for **either** a loan name (case insensitive) or the monthly repayment amount. A **single** input value\n",
    "* An error message must be shown when **either** key or value is not available in the dictionary\n",
    "* The function must be able to return with the right values and the program prints an informative message based on the result\n",
    "\n",
    "|key (bank name) |value (Monthly Payment in SGD) |\n",
    "|:---|:---|\n",
    "| SCB | 310 |\n",
    "| Citi | 316 |\n",
    "| OCBC | 307 |\n",
    "| HSBC | 309 |\n",
    "| DBS/POSB | 311 |\n",
    "| UOB | 313 |\n",
    "| CIMB | 315 |\n",
    "| Maybank | 327 |\n",
    "| BOC | 332 |\n",
    "\n",
    "**Program Output Example**    \n",
    "Output 1\n",
    "<pre>\n",
    "Enter either a bank's name or monthly repayment amount: rimb\n",
    "Your input is invalid.\n",
    "</pre>\n",
    "Output 2\n",
    "<pre>\n",
    "Enter either a bank's name or monthly repayment amount: 327\n",
    "Bank: MAYBANK\n",
    "Monthly repayment amount: 327\n",
    "</pre>\n",
    "Output 3\n",
    "<pre>\n",
    "Enter either a bank's name or monthly repayment amount:  ocbc\n",
    "Bank: OCBC\n",
    "Monthly repayment amount: 307\n",
    "</pre>"
   ]
  },
  {
   "cell_type": "code",
   "execution_count": 98,
   "metadata": {},
   "outputs": [
    {
     "name": "stdout",
     "output_type": "stream",
     "text": [
      "Enter either a bank's name or monthly repayment amount: DBS/posb\n",
      "Bank:  DBS/posb\n",
      "Monthly repayment amount:  311\n"
     ]
    }
   ],
   "source": [
    "bank_personal_loan = {\n",
    "    \"SCB\": 310,\n",
    "    \"CITI\": 316,\n",
    "    \"OCBC\": 307,\n",
    "    \"HSBC\": 309,\n",
    "    \"DBS/POSB\": 311,\n",
    "    \"UOB\": 313,\n",
    "    \"CIMB\": 315,\n",
    "    \"MAYBANK\": 327,\n",
    "    \"BOC\": 332,\n",
    "}\n",
    "\n",
    "d = {v: k for k, v in bank_personal_loan.items()}\n",
    "\n",
    "x = input(\"Enter either a bank's name or monthly repayment amount: \")\n",
    "\n",
    "if x.isdigit():\n",
    "    if int(x) in d:\n",
    "        print(\"Bank: \", d[int(x)])\n",
    "        print(\"Monthly repayment amount: \", x)\n",
    "    else:\n",
    "        print(\"Your input is invalid.\")\n",
    "\n",
    "else:\n",
    "    if x.upper() in bank_personal_loan:\n",
    "        print(\"Bank: \", x)\n",
    "        print(\"Monthly repayment amount: \", bank_personal_loan[x.upper()])\n",
    "    else:\n",
    "        print(\"Your input is invalid.\")\n"
   ]
  }
 ],
 "metadata": {
  "kernelspec": {
   "display_name": "Python 3",
   "language": "python",
   "name": "python3"
  },
  "language_info": {
   "codemirror_mode": {
    "name": "ipython",
    "version": 3
   },
   "file_extension": ".py",
   "mimetype": "text/x-python",
   "name": "python",
   "nbconvert_exporter": "python",
   "pygments_lexer": "ipython3",
   "version": "3.8.3"
  }
 },
 "nbformat": 4,
 "nbformat_minor": 4
}
