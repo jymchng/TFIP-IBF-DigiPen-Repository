{
 "cells": [
  {
   "cell_type": "markdown",
   "metadata": {},
   "source": [
    "\n",
    "# Recap"
   ]
  },
  {
   "cell_type": "markdown",
   "metadata": {},
   "source": [
    "## Strings  \n",
    "Any sequence of characters within either single quotes or double quotes is considered as a String.  \n",
    "`s=\"DigiPen\"` OR `s='DigiPen'`\n",
    "\n",
    "- `Escape Characers:` \\n, \\r, \\t, \\\\, \\',\\\"\n",
    "- `Special Operators:` (+, *, in, not in)\n",
    "- `String Formatting:` by using replacement operator `{}` and `format()` method and `%` operator.\n",
    "- `String Functions:` len(), split(), join(), replace(), rstrip(), lstrip(), strip(), find(), rfind(), index(), rindex(), startswith(), endswith()"
   ]
  },
  {
   "cell_type": "markdown",
   "metadata": {},
   "source": [
    "# Dictionary & Sets"
   ]
  },
  {
   "cell_type": "markdown",
   "metadata": {},
   "source": [
    "## Dictionary"
   ]
  },
  {
   "cell_type": "markdown",
   "metadata": {},
   "source": [
    "We can use List,Tuple and Set to represent a group of individual objects as a single entity.  \n",
    "If we want to represent a group of objects as key-value pairs then we should go for `Dictionary`.\n",
    "\n",
    "**Examples: **   \n",
    "rollno----name  \n",
    "phone number--address  \n",
    "ipaddress---domain name  \n",
    "\n",
    "- Duplicate keys are not allowed but values can be duplicated.\n",
    "- Hetrogeneous objects are allowed for both key and values.\n",
    "- insertion order is not preserved\n",
    "- Dictionaries are mutable\n",
    "- Dictionaries are dynamic\n",
    "- indexing and slicing concepts are not applicable"
   ]
  },
  {
   "cell_type": "markdown",
   "metadata": {},
   "source": [
    "### How to create Dictionary?"
   ]
  },
  {
   "cell_type": "markdown",
   "metadata": {},
   "source": [
    "**The syntax of a Dictionary is as follows.**  \n",
    "d={key:value, key:value}"
   ]
  },
  {
   "cell_type": "code",
   "execution_count": null,
   "metadata": {},
   "outputs": [],
   "source": [
    "# empty dictionary\n",
    "d = {}\n",
    "#OR\n",
    "d = dict()"
   ]
  },
  {
   "cell_type": "code",
   "execution_count": null,
   "metadata": {},
   "outputs": [],
   "source": [
    "#we are creating empty dictionary. We can add entries as follows\n",
    "d[100]=\"John\"\n",
    "d[200]=\"Josef\"\n",
    "d[300]=\"Chan\"\n",
    "print(d)"
   ]
  },
  {
   "cell_type": "code",
   "execution_count": null,
   "metadata": {},
   "outputs": [],
   "source": [
    "#If we know the data in advance then we can create dictionary as follows\n",
    "d = {'Name': 'John', 'MatrNo': '002558', 'Profession': 'Student'}\n",
    "d"
   ]
  },
  {
   "cell_type": "code",
   "execution_count": null,
   "metadata": {},
   "outputs": [],
   "source": [
    "# converting a list/tuple to a dictionary\n",
    "list_var = [ ('a', 'apple'), ('c', 'cat'), ('b', 'batman') ]\n",
    "dict(list_var)"
   ]
  },
  {
   "cell_type": "markdown",
   "metadata": {},
   "source": [
    "### How to access data from the dictionary?"
   ]
  },
  {
   "cell_type": "markdown",
   "metadata": {},
   "source": [
    "We can access data by using keys."
   ]
  },
  {
   "cell_type": "code",
   "execution_count": null,
   "metadata": {},
   "outputs": [],
   "source": [
    "d={100:'durga' ,200:'ravi', 300:'shiva'}\n",
    "print(d[100]) \n",
    "print(d[300])"
   ]
  },
  {
   "cell_type": "code",
   "execution_count": null,
   "metadata": {},
   "outputs": [],
   "source": [
    "#If the specified key is not available then we will get KeyError\n",
    "print(d[400])"
   ]
  },
  {
   "cell_type": "code",
   "execution_count": null,
   "metadata": {},
   "outputs": [],
   "source": [
    "#We can prevent this by checking whether key is already available or not by using `in` operator.\n",
    "if 400 in d:\n",
    "    print(d[400])"
   ]
  },
  {
   "cell_type": "markdown",
   "metadata": {},
   "source": [
    "#### Q. Write a program to enter name and percentage marks in a dictionary and display information on the screen"
   ]
  },
  {
   "cell_type": "code",
   "execution_count": null,
   "metadata": {},
   "outputs": [],
   "source": [
    "rec={}\n",
    "n=int(input(\"Enter number of students: \"))\n",
    "i=1\n",
    "while i <=n:\n",
    "    name=input(\"Enter Student Name: \")\n",
    "    marks=input(\"Enter % of Marks of Student: \")\n",
    "    rec[name]=marks\n",
    "    i=i+1\n",
    "    \n",
    "print(\"Name of Student\",\"\\t\",\"% of marks\")\n",
    "for x in rec:\n",
    "    print(\"\\t\",x,\"\\t\\t\",rec[x])"
   ]
  },
  {
   "cell_type": "markdown",
   "metadata": {},
   "source": [
    "### How to update dictionaries? OR Adding/Changing Items "
   ]
  },
  {
   "cell_type": "markdown",
   "metadata": {},
   "source": [
    "`d[key]=value`  \n",
    "If the key is not available then a new entry will be added to the dictionary with the specified key-value pair.  \n",
    "If the key is already available then old value will be replaced with new value.  "
   ]
  },
  {
   "cell_type": "code",
   "execution_count": null,
   "metadata": {},
   "outputs": [],
   "source": [
    "d={100:\"durga\",200:\"ravi\",300:\"shiva\"}\n",
    "print(d)\n",
    "d[400]=\"pavan\"\n",
    "print(d)\n",
    "d[100]=\"sunny\"\n",
    "print(d)"
   ]
  },
  {
   "cell_type": "markdown",
   "metadata": {},
   "source": [
    "### Iterating  \n",
    "Iterating a dictionary is done by using a `for` loop and there are 3 ways to do it with each showing a different result."
   ]
  },
  {
   "cell_type": "markdown",
   "metadata": {},
   "source": [
    " - **iterating over the values**"
   ]
  },
  {
   "cell_type": "code",
   "execution_count": null,
   "metadata": {},
   "outputs": [],
   "source": [
    "for val in d.values():\n",
    "    print(val)"
   ]
  },
  {
   "cell_type": "markdown",
   "metadata": {},
   "source": [
    "- **iterating over the keys**"
   ]
  },
  {
   "cell_type": "code",
   "execution_count": null,
   "metadata": {},
   "outputs": [],
   "source": [
    "for k in d.keys():\n",
    "    print(k)"
   ]
  },
  {
   "cell_type": "markdown",
   "metadata": {},
   "source": [
    "- **iterating over the items**"
   ]
  },
  {
   "cell_type": "code",
   "execution_count": 1,
   "metadata": {},
   "outputs": [
    {
     "ename": "NameError",
     "evalue": "name 'd' is not defined",
     "output_type": "error",
     "traceback": [
      "\u001b[1;31m---------------------------------------------------------------------------\u001b[0m",
      "\u001b[1;31mNameError\u001b[0m                                 Traceback (most recent call last)",
      "\u001b[1;32m<ipython-input-1-0d0ab21ecd95>\u001b[0m in \u001b[0;36m<module>\u001b[1;34m\u001b[0m\n\u001b[1;32m----> 1\u001b[1;33m \u001b[1;32mfor\u001b[0m \u001b[0mk\u001b[0m\u001b[1;33m,\u001b[0m \u001b[0mv\u001b[0m \u001b[1;32min\u001b[0m \u001b[0md\u001b[0m\u001b[1;33m.\u001b[0m\u001b[0mitems\u001b[0m\u001b[1;33m(\u001b[0m\u001b[1;33m)\u001b[0m\u001b[1;33m:\u001b[0m\u001b[1;33m\u001b[0m\u001b[1;33m\u001b[0m\u001b[0m\n\u001b[0m\u001b[0;32m      2\u001b[0m     \u001b[0mprint\u001b[0m\u001b[1;33m(\u001b[0m\u001b[1;34mf\"key: {k}, value: {v}\"\u001b[0m\u001b[1;33m)\u001b[0m\u001b[1;33m\u001b[0m\u001b[1;33m\u001b[0m\u001b[0m\n",
      "\u001b[1;31mNameError\u001b[0m: name 'd' is not defined"
     ]
    }
   ],
   "source": [
    "for k, v in d.items():\n",
    "    print(f\"key: {k}, value: {v}\")"
   ]
  },
  {
   "cell_type": "markdown",
   "metadata": {},
   "source": [
    "### Sorting\n",
    "\n",
    "As it was mention in the chapter on lists and tuples that the `sorted()` function is able to sort any Python iterable object, it must also be able to accept a custom function that returns a key such that the `sorted` function can be used to sort the object. "
   ]
  },
  {
   "cell_type": "code",
   "execution_count": null,
   "metadata": {},
   "outputs": [],
   "source": [
    "d = {'o': 'orange', 'c': 'catwoman', 'a': 'apocalypse', 'p': 'phoenix', 'b': 'batman', 'w': 'wolverine'}\n",
    "\n",
    "sorted(d)"
   ]
  },
  {
   "cell_type": "code",
   "execution_count": null,
   "metadata": {},
   "outputs": [],
   "source": [
    "orders = {'cappuccino': 54,'latte': 56,'espresso': 72,'americano': 48,'cortado': 41}\n",
    "\n",
    "sorted(orders)"
   ]
  },
  {
   "cell_type": "code",
   "execution_count": null,
   "metadata": {},
   "outputs": [],
   "source": [
    "orders = {'cappuccino': 54,'latte': 56,'espresso': 72,'americano': 48,'cortado': 41}\n",
    "\n",
    "def sort_via_values(item):\n",
    "    return item[1]\n",
    "\n",
    "sorted(orders.items(), key=sort_via_values)"
   ]
  },
  {
   "cell_type": "code",
   "execution_count": null,
   "metadata": {},
   "outputs": [],
   "source": [
    "def sort_via_values(item):\n",
    "    return item[1]\n",
    "\n",
    "sorted(orders.items(), key=sort_via_values, reverse=True)\n",
    "#sort_orders = sorted(orders.items(), key=lambda x: x[1], reverse=True)"
   ]
  },
  {
   "cell_type": "markdown",
   "metadata": {},
   "source": [
    "### How to delete elements from dictionary?"
   ]
  },
  {
   "cell_type": "markdown",
   "metadata": {},
   "source": [
    "**`del d[key]`**  \n",
    "It deletes entry associated with the specified key. If the key is not available then we will get KeyError"
   ]
  },
  {
   "cell_type": "code",
   "execution_count": null,
   "metadata": {},
   "outputs": [],
   "source": [
    "d={100:\"durga\",200:\"ravi\",300:\"shiva\"}\n",
    "print(d)\n",
    "del d[100]\n",
    "print(d)"
   ]
  },
  {
   "cell_type": "code",
   "execution_count": null,
   "metadata": {},
   "outputs": [],
   "source": [
    "del d[400]"
   ]
  },
  {
   "cell_type": "markdown",
   "metadata": {},
   "source": [
    "**`del d`**  \n",
    "To delete total dictionary. Now we cannot access d"
   ]
  },
  {
   "cell_type": "code",
   "execution_count": null,
   "metadata": {},
   "outputs": [],
   "source": [
    "d={100:\"durga\",200:\"ravi\",300:\"shiva\"}\n",
    "print(d)\n",
    "del d\n",
    "print(d)"
   ]
  },
  {
   "cell_type": "markdown",
   "metadata": {},
   "source": [
    "**`d.clear()`**  \n",
    "To remove all entries from the dictionary"
   ]
  },
  {
   "cell_type": "code",
   "execution_count": null,
   "metadata": {},
   "outputs": [],
   "source": [
    "d={100:\"durga\",200:\"ravi\",300:\"shiva\"}\n",
    "print(d)\n",
    "d.clear()\n",
    "print(d)"
   ]
  },
  {
   "cell_type": "markdown",
   "metadata": {},
   "source": [
    "### Important functions of dictionary:"
   ]
  },
  {
   "cell_type": "markdown",
   "metadata": {},
   "source": [
    "**`1. dict():`**  \n",
    "To create a dictionary"
   ]
  },
  {
   "cell_type": "code",
   "execution_count": null,
   "metadata": {},
   "outputs": [],
   "source": [
    "d=dict() #It creates empty dictionary\n",
    "d"
   ]
  },
  {
   "cell_type": "code",
   "execution_count": null,
   "metadata": {},
   "outputs": [],
   "source": [
    "d=dict({100:\"durga\",200:\"ravi\"}) #It creates dictionary with specified elements\n",
    "d"
   ]
  },
  {
   "cell_type": "code",
   "execution_count": null,
   "metadata": {},
   "outputs": [],
   "source": [
    "d=dict([(100,\"durga\"),(200,\"shiva\"),(300,\"ravi\")]) #It creates dictionary with the given list of tuple elements\n",
    "d"
   ]
  },
  {
   "cell_type": "markdown",
   "metadata": {},
   "source": [
    "**`2. len()`**  \n",
    "Returns the number of items in the dictionary"
   ]
  },
  {
   "cell_type": "code",
   "execution_count": null,
   "metadata": {},
   "outputs": [],
   "source": [
    "my_dict = {'name': 'Jack', 'age': 26}\n",
    "len(my_dict)"
   ]
  },
  {
   "cell_type": "markdown",
   "metadata": {},
   "source": [
    "**`3. clear():`**  \n",
    "To remove all elements from the dictionary"
   ]
  },
  {
   "cell_type": "code",
   "execution_count": null,
   "metadata": {},
   "outputs": [],
   "source": [
    "d={100:\"durga\",200:\"ravi\",300:\"shiva\"}\n",
    "print(d)\n",
    "d.clear()\n",
    "print(d)"
   ]
  },
  {
   "cell_type": "markdown",
   "metadata": {},
   "source": [
    "**`4. get():`**  \n",
    "To get the value associated with the key  \n",
    "\n",
    "`d.get(key)`  \n",
    "If the key is available then returns the corresponding value otherwise returns `None`. It won't raise any error.\n",
    "\n",
    "`d.get(key,defaultvalue)`\n",
    "If the key is available then returns the corresponding value otherwise returns default value."
   ]
  },
  {
   "cell_type": "code",
   "execution_count": null,
   "metadata": {},
   "outputs": [],
   "source": [
    "d={100:\"durga\",200:\"ravi\",300:\"shiva\"}\n",
    "print(d[100]) \n",
    "print(d[400]) "
   ]
  },
  {
   "cell_type": "code",
   "execution_count": null,
   "metadata": {},
   "outputs": [],
   "source": [
    "print(d.get(100)) \n",
    "print(d.get(400)) \n",
    "print(d.get(100,\"Guest\")) \n",
    "print(d.get(400,\"Guest\")) "
   ]
  },
  {
   "cell_type": "markdown",
   "metadata": {},
   "source": [
    "**`5. pop():`**  \n",
    "`d.pop(key)`\n",
    "It removes the entry associated with the specified key and returns the corresponding value. If the specified key is not available then we will get KeyError."
   ]
  },
  {
   "cell_type": "code",
   "execution_count": null,
   "metadata": {},
   "outputs": [],
   "source": [
    "d={100:\"durga\",200:\"ravi\",300:\"shiva\"}\n",
    "print(d.pop(100))\n",
    "print(d)"
   ]
  },
  {
   "cell_type": "code",
   "execution_count": null,
   "metadata": {},
   "outputs": [],
   "source": [
    "print(d.pop(400))"
   ]
  },
  {
   "cell_type": "markdown",
   "metadata": {},
   "source": [
    "**`6. popitem():`**  \n",
    "    It removes an arbitrary item(key-value) from the dictionaty and return it."
   ]
  },
  {
   "cell_type": "code",
   "execution_count": null,
   "metadata": {},
   "outputs": [],
   "source": [
    "d={100:\"durga\",200:\"ravi\",300:\"shiva\"}\n",
    "print(d)\n",
    "print(d.popitem())\n",
    "print(d)"
   ]
  },
  {
   "cell_type": "code",
   "execution_count": null,
   "metadata": {},
   "outputs": [],
   "source": [
    "#If the dictionary is empty then we will get KeyError\n",
    "d={}\n",
    "print(d.popitem())"
   ]
  },
  {
   "cell_type": "markdown",
   "metadata": {},
   "source": [
    "**`7. keys():`**  \n",
    "It returns all keys associated with dictionary"
   ]
  },
  {
   "cell_type": "code",
   "execution_count": null,
   "metadata": {},
   "outputs": [],
   "source": [
    "d={100:\"durga\",200:\"ravi\",300:\"shiva\"}\n",
    "#print(type(d.keys))\n",
    "print(d.keys())\n",
    "for k in d.keys():\n",
    "    print(k)"
   ]
  },
  {
   "cell_type": "code",
   "execution_count": null,
   "metadata": {},
   "outputs": [],
   "source": [
    "# converting the returned dict_keys object to a list\n",
    "list(d.keys())"
   ]
  },
  {
   "cell_type": "markdown",
   "metadata": {},
   "source": [
    "**`8. values():`**  \n",
    "It returns all values associated with the dictionary."
   ]
  },
  {
   "cell_type": "code",
   "execution_count": null,
   "metadata": {},
   "outputs": [],
   "source": [
    "d={100:\"durga\",200:\"ravi\",300:\"shiva\"}\n",
    "print(d.values())\n",
    "for v in d.values():\n",
    "    print(v)"
   ]
  },
  {
   "cell_type": "code",
   "execution_count": null,
   "metadata": {},
   "outputs": [],
   "source": [
    "# converting the returned dict_values object to a list\n",
    "list(d.values())"
   ]
  },
  {
   "cell_type": "markdown",
   "metadata": {},
   "source": [
    "**`9. items():`**  \n",
    "It returns list of tuples representing key-value pairs.  \n",
    "[(k,v),(k,v),(k,v)]"
   ]
  },
  {
   "cell_type": "code",
   "execution_count": null,
   "metadata": {},
   "outputs": [],
   "source": [
    "d={100:\"durga\",200:\"ravi\",300:\"shiva\"}\n",
    "print(d.items())\n",
    "for k,v in d.items():\n",
    "    print(k,\"--\",v)"
   ]
  },
  {
   "cell_type": "code",
   "execution_count": null,
   "metadata": {},
   "outputs": [],
   "source": [
    "# converting the returned dict_items object to a list\n",
    "print(list(d.items()))"
   ]
  },
  {
   "cell_type": "markdown",
   "metadata": {},
   "source": [
    "**`10. copy():`**  \n",
    "To create exactly duplicate dictionary(cloned copy).  \n",
    "`d1=d.copy()`"
   ]
  },
  {
   "cell_type": "code",
   "execution_count": null,
   "metadata": {},
   "outputs": [],
   "source": [
    "tel = {'jack': 4098,'sape': 4139, 'guido': 4127}\n",
    "print(tel)\n",
    "tel1=tel.copy()\n",
    "tel1"
   ]
  },
  {
   "cell_type": "markdown",
   "metadata": {},
   "source": [
    "**`9. setdefault():`**   \n",
    "If the key is already available then this function returns the corresponding value. If the key is not available then the specified key-value will be added as new item to the dictionary.\n",
    "\n",
    " `d.setdefault(k,v)`"
   ]
  },
  {
   "cell_type": "code",
   "execution_count": null,
   "metadata": {},
   "outputs": [],
   "source": [
    "d={100:\"durga\",200:\"ravi\",300:\"shiva\"}\n",
    "print(d.setdefault(400,\"pavan\"))\n",
    "print(d)\n",
    "print(d.setdefault(100,\"sachin\"))\n",
    "print(d)"
   ]
  },
  {
   "cell_type": "markdown",
   "metadata": {},
   "source": [
    "**`10. update():`**  \n",
    "All items present in the dictionary x will be added to dictionary d.\n",
    "`d.update(x)`"
   ]
  },
  {
   "cell_type": "code",
   "execution_count": null,
   "metadata": {},
   "outputs": [],
   "source": [
    "d1 = {'a': 'apple', 'c': 'catwoman', 'b': 'batman', 'o': 'orange', \n",
    "     'p': 'penguin'}\n",
    "d2 = {'a': 'apocalypse', 'p': 'phoenix', 'w': 'wolverine'}\n",
    "\n",
    "d1.update(d2)\n",
    "print(d1)"
   ]
  },
  {
   "cell_type": "markdown",
   "metadata": {},
   "source": [
    "#### Q. Write a program to take dictionary from the keyboard and print the sum of values?"
   ]
  },
  {
   "cell_type": "code",
   "execution_count": null,
   "metadata": {},
   "outputs": [],
   "source": [
    "d=eval(input(\"Enter dictionary:\"))\n",
    "s=sum(d.values())\n",
    "print(\"Sum= \",s)"
   ]
  },
  {
   "cell_type": "markdown",
   "metadata": {},
   "source": [
    "#### Q. Write a program to find number of occurrences of each letter present in the given string?"
   ]
  },
  {
   "cell_type": "code",
   "execution_count": null,
   "metadata": {},
   "outputs": [],
   "source": [
    "word=input(\"Enter any word: \")\n",
    "d={}\n",
    "for x in word:\n",
    "    d[x]=d.get(x,0)+1\n",
    "for k,v in d.items():\n",
    "    print(k,\"occurred \",v,\" times\")"
   ]
  },
  {
   "cell_type": "markdown",
   "metadata": {},
   "source": [
    "### Membership operators: (in , not in)"
   ]
  },
  {
   "cell_type": "code",
   "execution_count": null,
   "metadata": {},
   "outputs": [],
   "source": [
    "d={'a': 'apple', 'c': 'catwoman', 'b': 'batman', 'o': 'orange', 'p': 'penguin'}\n",
    "print(d)\n",
    "print('a' in d)\n",
    "print('z' in d)"
   ]
  },
  {
   "cell_type": "markdown",
   "metadata": {},
   "source": [
    "### Dictionary Comprehension:"
   ]
  },
  {
   "cell_type": "code",
   "execution_count": null,
   "metadata": {},
   "outputs": [],
   "source": [
    "#Comprehension concept applicable for dictionaries also.\n",
    "squares={x:x*x for x in range(1,6)}\n",
    "print(\"Squares:\",squares)\n",
    "doubles={x:2*x for x in range(1,6)}\n",
    "print(\"Doubles:\",doubles)"
   ]
  },
  {
   "cell_type": "markdown",
   "metadata": {},
   "source": [
    "**Learning Outcome:**  \n",
    "\n",
    "- How to handle a dictionary.  \n",
    "- Dictionary has O(1) search time complexity whereas List has O(n) time complexity. So it is recommended to use the dictionary where ever possible.\n",
    "- The best application of dictionary can be seen in Twitter Sentiment Analysis where analysis Twitter sentiments are analysed, using Lexicon approach."
   ]
  },
  {
   "cell_type": "markdown",
   "metadata": {},
   "source": [
    "### Exercises"
   ]
  },
  {
   "cell_type": "markdown",
   "metadata": {},
   "source": [
    "**Write a Python script to add a key to a dictionary.**   \n",
    "Sample Dictionary : {0: 10, 1: 20}  \n",
    "Expected Result : {0: 10, 1: 20, 2: 30}  "
   ]
  },
  {
   "cell_type": "code",
   "execution_count": null,
   "metadata": {},
   "outputs": [],
   "source": [
    "d = {0:10, 1:20}\n",
    "print(d)\n",
    "d.update({2:30})\n",
    "print(d)"
   ]
  },
  {
   "cell_type": "markdown",
   "metadata": {},
   "source": [
    "**Write a Python program to check whether a given key already exists in a dictionary.**"
   ]
  },
  {
   "cell_type": "code",
   "execution_count": null,
   "metadata": {},
   "outputs": [],
   "source": [
    "d = {1: 10, 2: 20, 3: 30, 4: 40, 5: 50, 6: 60}\n",
    "def is_key_present(x):\n",
    "    if x in d:\n",
    "        print('Key is present in the dictionary')\n",
    "    else:\n",
    "        print('Key is not present in the dictionary')\n",
    "is_key_present(5)\n",
    "is_key_present(9)"
   ]
  },
  {
   "cell_type": "markdown",
   "metadata": {},
   "source": [
    "**Write a Python script to print a dictionary where the keys are numbers between 1 and 15 (both included) and the values are square of keys.**\n",
    "Sample Dictionary\n",
    "{1: 1, 2: 4, 3: 9, 4: 16, 5: 25, 6: 36, 7: 49, 8: 64, 9: 81, 10: 100, 11: 121, 12: 144, 13: 169, 14: 196, 15: 225}"
   ]
  },
  {
   "cell_type": "code",
   "execution_count": null,
   "metadata": {},
   "outputs": [],
   "source": [
    "d=dict()\n",
    "for x in range(1,16):\n",
    "    d[x]=x**2\n",
    "print(d) "
   ]
  },
  {
   "cell_type": "markdown",
   "metadata": {},
   "source": [
    "## Set"
   ]
  },
  {
   "attachments": {
    "2fd48f37-6036-492d-8a5f-b2529c05187e.png": {
     "image/png": "[encoded data removed]"
    }
   },
   "cell_type": "markdown",
   "metadata": {},
   "source": [
    "You may recall Sets and Set Theory from math in school. The ones using the Venn Diagrams. Refer to figure 1 below.\n",
    "\n",
    "<figure style=\"text-align: left\">\n",
    "    \n",
    "![venn.png](attachment:2fd48f37-6036-492d-8a5f-b2529c05187e.png)\n",
    "    \n",
    "<figcaption style=\"font-size:90%; font-weight: 550;\">\n",
    "Figure 1: Venn Diagram.\n",
    "</figcaption>\n",
    "</figure>"
   ]
  },
  {
   "cell_type": "markdown",
   "metadata": {},
   "source": [
    "- If we want to represent a group of unique values as a single entity then we should go for set.\n",
    "- Duplicates are not allowed.\n",
    "- Insertion order is not preserved.But we can sort the elements.\n",
    "- Indexing and slicing not allowed for the set.\n",
    "- Heterogeneous elements are allowed.\n",
    "- Set objects are mutable i.e once we creates set object we can perform any changes in that object based on our requirement.\n",
    "- We can represent set elements within curly braces and with comma seperation\n",
    "- We can apply mathematical operations like union,intersection,difference etc on set objects."
   ]
  },
  {
   "cell_type": "markdown",
   "metadata": {},
   "source": [
    "### Creation of Set objects:"
   ]
  },
  {
   "cell_type": "code",
   "execution_count": null,
   "metadata": {},
   "outputs": [],
   "source": [
    "s={10,20,30,40}\n",
    "print(s)\n",
    "print(type(s))"
   ]
  },
  {
   "cell_type": "markdown",
   "metadata": {},
   "source": [
    "We can create set objects by using set() function  \n",
    "`s=set(any sequence)`"
   ]
  },
  {
   "cell_type": "code",
   "execution_count": null,
   "metadata": {},
   "outputs": [],
   "source": [
    "l = [10,20,30,40,10,20,10]\n",
    "s=set(l)\n",
    "print(s)"
   ]
  },
  {
   "cell_type": "code",
   "execution_count": null,
   "metadata": {},
   "outputs": [],
   "source": [
    "s=set(range(5))\n",
    "print(s)"
   ]
  },
  {
   "cell_type": "markdown",
   "metadata": {},
   "source": [
    "**Note:** While creating empty set we have to take special care. Compulsory we should use set() function.  \n",
    "`s={}` ==>It is treated as dictionary but not empty set."
   ]
  },
  {
   "cell_type": "code",
   "execution_count": null,
   "metadata": {},
   "outputs": [],
   "source": [
    "s={}\n",
    "print(s)\n",
    "print(type(s))"
   ]
  },
  {
   "cell_type": "code",
   "execution_count": null,
   "metadata": {},
   "outputs": [],
   "source": [
    "s=set()\n",
    "print(s)\n",
    "print(type(s))"
   ]
  },
  {
   "cell_type": "code",
   "execution_count": null,
   "metadata": {},
   "outputs": [],
   "source": [
    "# creation from list\n",
    "set(['rogue', 'phoenix', 'gambit', 'storm', 'galactus'])"
   ]
  },
  {
   "cell_type": "code",
   "execution_count": null,
   "metadata": {},
   "outputs": [],
   "source": [
    "# creation from tuple\n",
    "set(('rogue', 'phoenix', 'gambit', 'storm', 'galactus'))"
   ]
  },
  {
   "cell_type": "code",
   "execution_count": null,
   "metadata": {},
   "outputs": [],
   "source": [
    "# creation from dictionary, it only uses the keys\n",
    "set({'c': 'catwoman', 'b': 'batman', 'o': 'orange', 'p': 'penguin'})"
   ]
  },
  {
   "cell_type": "markdown",
   "metadata": {},
   "source": [
    "### iterating a set"
   ]
  },
  {
   "cell_type": "code",
   "execution_count": null,
   "metadata": {},
   "outputs": [],
   "source": [
    "s={10,20,30,40}\n",
    "for elem in s:\n",
    "    print(elem)"
   ]
  },
  {
   "cell_type": "markdown",
   "metadata": {},
   "source": [
    "### Important functions of set:"
   ]
  },
  {
   "cell_type": "markdown",
   "metadata": {},
   "source": [
    "**`len(s)`**"
   ]
  },
  {
   "cell_type": "code",
   "execution_count": null,
   "metadata": {},
   "outputs": [],
   "source": [
    "s={10,20,30}\n",
    "print(len(s))"
   ]
  },
  {
   "cell_type": "markdown",
   "metadata": {},
   "source": [
    "**`1. add(x):`**  \n",
    "Adds item x to the set"
   ]
  },
  {
   "cell_type": "code",
   "execution_count": null,
   "metadata": {},
   "outputs": [],
   "source": [
    "s={10,20,30}\n",
    "s.add(40);\n",
    "print(s)"
   ]
  },
  {
   "cell_type": "markdown",
   "metadata": {},
   "source": [
    "**`2. update(x,y,z):`**  \n",
    "To add multiple items to the set. Arguments are not individual elements and these are Iterable objects like List, range etc.  \n",
    "All elements present in the given Iterable objects will be added to the set."
   ]
  },
  {
   "cell_type": "code",
   "execution_count": null,
   "metadata": {},
   "outputs": [],
   "source": [
    "s={10,20,30}\n",
    "l=[40,50,60,10]\n",
    "s.update(l,range(5))\n",
    "print(s)"
   ]
  },
  {
   "cell_type": "markdown",
   "metadata": {},
   "source": [
    "### Q. What is the difference between add() and update() functions in set?**  \n",
    "We can use `add()` to add individual item to the Set, where as we can use `update()` function to add multiple items to Set.  \n",
    "`add()` function can take only one argument where as `update()` function can take any number of arguments but all arguments should be iterable objects."
   ]
  },
  {
   "cell_type": "markdown",
   "metadata": {},
   "source": [
    "### Q. Which of the following are valid for set s?"
   ]
  },
  {
   "cell_type": "code",
   "execution_count": null,
   "metadata": {},
   "outputs": [],
   "source": [
    "s.add(10)\n",
    "s.add(10,20,30)   #TypeError: add() takes exactly one argument (3 given)\n",
    "s.update(10)      #TypeError: 'int' object is not iterable\n",
    "s.update(range(1,10,2),range(0,10,2))"
   ]
  },
  {
   "cell_type": "code",
   "execution_count": null,
   "metadata": {},
   "outputs": [],
   "source": [
    "s.update(range(1,10,2),range(0,10,2))\n",
    "s"
   ]
  },
  {
   "cell_type": "markdown",
   "metadata": {},
   "source": [
    "**`3. copy():`**  \n",
    "Returns copy of the set. It is cloned object."
   ]
  },
  {
   "cell_type": "code",
   "execution_count": null,
   "metadata": {},
   "outputs": [],
   "source": [
    "s={10,20,30}\n",
    "s1=s.copy()\n",
    "print(s1)"
   ]
  },
  {
   "cell_type": "markdown",
   "metadata": {},
   "source": [
    "**`4. pop():`**  \n",
    "It removes and returns some random element from the set."
   ]
  },
  {
   "cell_type": "code",
   "execution_count": null,
   "metadata": {},
   "outputs": [],
   "source": [
    "s={40,10,30,20}\n",
    "print(s)\n",
    "print(s.pop())\n",
    "print(s)"
   ]
  },
  {
   "cell_type": "markdown",
   "metadata": {},
   "source": [
    "**`5. remove(x):`**  \n",
    "It removes specified element from the set. If the specified element not present in the Set then we will get `KeyError`"
   ]
  },
  {
   "cell_type": "code",
   "execution_count": null,
   "metadata": {},
   "outputs": [],
   "source": [
    "s={40,10,30,20}\n",
    "s.remove(30)\n",
    "print(s) "
   ]
  },
  {
   "cell_type": "code",
   "execution_count": null,
   "metadata": {},
   "outputs": [],
   "source": [
    "s.remove(50)"
   ]
  },
  {
   "cell_type": "markdown",
   "metadata": {},
   "source": [
    "**`6. discard(x):`**  \n",
    "It removes the specified element from the set. If the specified element not present in the set then we `won't get any error`.    "
   ]
  },
  {
   "cell_type": "code",
   "execution_count": null,
   "metadata": {},
   "outputs": [],
   "source": [
    "s={10,20,30}\n",
    "s.discard(10)\n",
    "print(s) "
   ]
  },
  {
   "cell_type": "code",
   "execution_count": null,
   "metadata": {},
   "outputs": [],
   "source": [
    "s.discard(50)\n",
    "print(s)"
   ]
  },
  {
   "cell_type": "markdown",
   "metadata": {},
   "source": [
    "**Q. Explain differences between pop(),remove() and discard() functions in Set?**"
   ]
  },
  {
   "cell_type": "markdown",
   "metadata": {},
   "source": [
    "* pop()---> It removes and returns some random element from the set.\n",
    "* remove()---> It removes specified element from the set. If the specified element not present in the Set then we will get KeyError\n",
    "* discard()---> It removes the specified element from the set. If the specified element not present in the set then we won't get any error."
   ]
  },
  {
   "cell_type": "markdown",
   "metadata": {},
   "source": [
    "**`7.clear():`**  \n",
    "To remove all elements from the Set."
   ]
  },
  {
   "cell_type": "code",
   "execution_count": null,
   "metadata": {},
   "outputs": [],
   "source": [
    "s={10,20,30}\n",
    "print(s)\n",
    "s.clear()\n",
    "print(s)"
   ]
  },
  {
   "cell_type": "markdown",
   "metadata": {},
   "source": [
    "### How to Sort set?"
   ]
  },
  {
   "cell_type": "code",
   "execution_count": null,
   "metadata": {},
   "outputs": [],
   "source": [
    "s={'red','green','yellow','blue'}\n",
    "print(sorted(s))\n",
    "print(type(sorted(s)))"
   ]
  },
  {
   "cell_type": "markdown",
   "metadata": {},
   "source": [
    "### Mathematical operations on the Set:"
   ]
  },
  {
   "cell_type": "markdown",
   "metadata": {},
   "source": [
    "**`1.union():`**  \n",
    "`x.union(y)` ==>We can use this function to return all elements present in both sets  \n",
    "x.union(y) or x|y"
   ]
  },
  {
   "cell_type": "code",
   "execution_count": null,
   "metadata": {},
   "outputs": [],
   "source": [
    "x={10,20,30,40}\n",
    "y={30,40,50,60}\n",
    "print(x.union(y)) \n",
    "print(x|y)"
   ]
  },
  {
   "cell_type": "markdown",
   "metadata": {},
   "source": [
    "**`2. intersection():`**  \n",
    "`x.intersection(y)` **or** `x&y` \n",
    "Returns common elements present in both x and y"
   ]
  },
  {
   "cell_type": "code",
   "execution_count": null,
   "metadata": {},
   "outputs": [],
   "source": [
    "x={10,20,30,40}\n",
    "y={30,40,50,60}\n",
    "print(x.intersection(y))\n",
    "print(x&y)"
   ]
  },
  {
   "cell_type": "markdown",
   "metadata": {},
   "source": [
    "**`3. difference():`**  \n",
    "`x.difference(y)` **or** `x-y`  \n",
    "returns the elements present in x but not in y"
   ]
  },
  {
   "cell_type": "code",
   "execution_count": null,
   "metadata": {},
   "outputs": [],
   "source": [
    "x={10,20,30,40}\n",
    "y={30,40,50,60}\n",
    "print(x.difference(y))\n",
    "print(x-y)"
   ]
  },
  {
   "cell_type": "code",
   "execution_count": null,
   "metadata": {},
   "outputs": [],
   "source": [
    "print(y-x)"
   ]
  },
  {
   "cell_type": "markdown",
   "metadata": {},
   "source": [
    "**`4.symmetric_difference():`**  \n",
    "`x.symmetric_difference(y)` **or** `x^y`  \n",
    "Returns elements present in either x or y but not in both"
   ]
  },
  {
   "cell_type": "code",
   "execution_count": null,
   "metadata": {},
   "outputs": [],
   "source": [
    "x={10,20,30,40}\n",
    "y={30,40,50,60}\n",
    "print(x.symmetric_difference(y)) #{10, 50, 20, 60}\n",
    "print(x^y)"
   ]
  },
  {
   "cell_type": "markdown",
   "metadata": {},
   "source": [
    "### Membership operators: (in, not in)"
   ]
  },
  {
   "cell_type": "code",
   "execution_count": null,
   "metadata": {},
   "outputs": [],
   "source": [
    "s=set(\"digipen\")\n",
    "print(s)\n",
    "print('d' in s)\n",
    "print('z' in s)"
   ]
  },
  {
   "cell_type": "markdown",
   "metadata": {},
   "source": [
    "### Set Comprehension:  \n",
    "Set comprehension is possible."
   ]
  },
  {
   "cell_type": "code",
   "execution_count": null,
   "metadata": {},
   "outputs": [],
   "source": [
    "s={x*x for x in range(5)}\n",
    "print(s)"
   ]
  },
  {
   "cell_type": "code",
   "execution_count": null,
   "metadata": {},
   "outputs": [],
   "source": [
    "s={2**x for x in range(2,10,2)}\n",
    "print(s)"
   ]
  },
  {
   "cell_type": "markdown",
   "metadata": {},
   "source": [
    "### set objects won't support indexing and slicing:"
   ]
  },
  {
   "cell_type": "code",
   "execution_count": null,
   "metadata": {},
   "outputs": [],
   "source": [
    "s={10,20,30,40}\n",
    "print(s[0]) #TypeError: 'set' object does not support indexing"
   ]
  },
  {
   "cell_type": "code",
   "execution_count": null,
   "metadata": {},
   "outputs": [],
   "source": [
    "print(s[1:3])"
   ]
  },
  {
   "cell_type": "markdown",
   "metadata": {},
   "source": [
    "**Q.Write a program to eliminate duplicates present in the list?**"
   ]
  },
  {
   "cell_type": "code",
   "execution_count": null,
   "metadata": {},
   "outputs": [],
   "source": [
    "#Approach-1:\n",
    "l=eval(input(\"Enter List of values: \"))\n",
    "print(type(l))\n",
    "s=set(l)\n",
    "print(s)"
   ]
  },
  {
   "cell_type": "code",
   "execution_count": null,
   "metadata": {},
   "outputs": [],
   "source": [
    "#Approach-2:\n",
    "l=eval(input(\"Enter List of values: \"))\n",
    "l1=[]\n",
    "for x in l:\n",
    "    if x not in l1:\n",
    "        l1.append(x)\n",
    "print(l1)"
   ]
  },
  {
   "cell_type": "markdown",
   "metadata": {},
   "source": [
    "**Q. Write a program to print different vowels present in the given word?**"
   ]
  },
  {
   "cell_type": "code",
   "execution_count": null,
   "metadata": {},
   "outputs": [],
   "source": [
    "w=input(\"Enter word to search for vowels: \")\n",
    "s=set(w)\n",
    "v={'a','e','i','o','u'}\n",
    "d=s.intersection(v)\n",
    "print(\"The different vowel present in\",w,\"are\",d)"
   ]
  },
  {
   "cell_type": "markdown",
   "metadata": {},
   "source": [
    "## Frozenset"
   ]
  },
  {
   "cell_type": "markdown",
   "metadata": {},
   "source": [
    "It is exactly same as set except that it is `immutable`. Hence we `can not` use `add` or `remove` functions.   \n",
    "There is an immutable version of a set called `Frozenset`. Frozensets are used when there is a need to create an immutable set. "
   ]
  },
  {
   "cell_type": "code",
   "execution_count": null,
   "metadata": {},
   "outputs": [],
   "source": [
    "# Frozensets\n",
    "a1 = frozenset(set(['foo']))\n",
    "a2 = frozenset(['bar'])\n",
    "a = {a1, a2}\n",
    "print(type(a))\n",
    "print(a)"
   ]
  },
  {
   "cell_type": "code",
   "execution_count": null,
   "metadata": {},
   "outputs": [],
   "source": [
    "s={10,20,30,40}\n",
    "fs=frozenset(s)\n",
    "print(type(fs))\n",
    "print(fs)"
   ]
  },
  {
   "cell_type": "code",
   "execution_count": null,
   "metadata": {},
   "outputs": [],
   "source": [
    "for i in fs:\n",
    "    print(i)"
   ]
  },
  {
   "cell_type": "code",
   "execution_count": null,
   "metadata": {},
   "outputs": [],
   "source": [
    "fs.add(70)"
   ]
  },
  {
   "cell_type": "code",
   "execution_count": null,
   "metadata": {},
   "outputs": [],
   "source": [
    "fs.remove(10)"
   ]
  },
  {
   "cell_type": "markdown",
   "metadata": {},
   "source": [
    "### Excersices"
   ]
  },
  {
   "cell_type": "markdown",
   "metadata": {},
   "source": [
    "**Write a Python program to create a union of sets.**"
   ]
  },
  {
   "cell_type": "code",
   "execution_count": null,
   "metadata": {},
   "outputs": [],
   "source": [
    "setx = set([\"green\", \"blue\"])\n",
    "sety = set([\"blue\", \"yellow\"])\n",
    "seta = setx | sety\n",
    "print(seta)"
   ]
  },
  {
   "cell_type": "markdown",
   "metadata": {},
   "source": [
    "**Write a Python program to create set difference and a symmetric difference.**  "
   ]
  },
  {
   "cell_type": "code",
   "execution_count": null,
   "metadata": {},
   "outputs": [],
   "source": [
    "setx = set([\"apple\", \"mango\"])\n",
    "sety = set([\"mango\", \"orange\"])\n",
    "#set difference\n",
    "setb = setx - sety\n",
    "print(setb)\n",
    "#Symmetric difference\n",
    "setc = setx ^ sety\n",
    "print(setc)"
   ]
  },
  {
   "cell_type": "markdown",
   "metadata": {},
   "source": [
    "## Summary"
   ]
  },
  {
   "cell_type": "markdown",
   "metadata": {},
   "source": [
    "* **Dictionary & Set**\n",
    "    * How to create dictionary and set\n",
    "    * How to access and iterate it\n",
    "    * Sorting and deleting elements of dictionary\n",
    "    * in-built functions for dictionary and set\n",
    "    * Various Set operations\n",
    "    * what is frozenset?"
   ]
  }
 ],
 "metadata": {
  "kernelspec": {
   "display_name": "Python 3",
   "language": "python",
   "name": "python3"
  },
  "language_info": {
   "codemirror_mode": {
    "name": "ipython",
    "version": 3
   },
   "file_extension": ".py",
   "mimetype": "text/x-python",
   "name": "python",
   "nbconvert_exporter": "python",
   "pygments_lexer": "ipython3",
   "version": "3.8.3"
  }
 },
 "nbformat": 4,
 "nbformat_minor": 4
}
