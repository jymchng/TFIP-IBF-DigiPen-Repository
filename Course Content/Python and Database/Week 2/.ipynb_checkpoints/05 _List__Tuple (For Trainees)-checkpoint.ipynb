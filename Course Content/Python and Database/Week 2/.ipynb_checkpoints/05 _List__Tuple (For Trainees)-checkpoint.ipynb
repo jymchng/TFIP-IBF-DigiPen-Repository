{
 "cells": [
  {
   "cell_type": "markdown",
   "metadata": {},
   "source": [
    "# Recap"
   ]
  },
  {
   "cell_type": "markdown",
   "metadata": {},
   "source": [
    "### Functions"
   ]
  },
  {
   "cell_type": "markdown",
   "metadata": {},
   "source": [
    "If a group of statements is repeatedly required then it is not recommended to write these statements everytime seperately.We have to define these statements as a single unit and we can call that unit any number of times based on our requirement without rewriting. This unit is nothing but function. The main advantage of functions is code Reusability.\n",
    "\n",
    "Python supports 2 types of functions  \n",
    "- 1. Built in Functions\n",
    "- 2. User Defined Functions"
   ]
  },
  {
   "cell_type": "code",
   "execution_count": null,
   "metadata": {},
   "outputs": [],
   "source": [
    "#Syntax\n",
    "def function_name( parameters ):\n",
    "    \"function_docstring\"\n",
    "    function_suite\n",
    "    return [expression]"
   ]
  },
  {
   "cell_type": "markdown",
   "metadata": {},
   "source": [
    "**Also We have studied following topics:**   \n",
    "* Function Basics\n",
    "* Argument Passing\n",
    " * Positional Arguments\n",
    " * Keyword Arguments\n",
    " * Default Parameters\n",
    "* Return Values\n",
    "* Anonymous Function\n",
    "* `None` Object\n",
    "* Passing by Object Reference\n",
    "* `import` Statement"
   ]
  },
  {
   "cell_type": "code",
   "execution_count": null,
   "metadata": {},
   "outputs": [],
   "source": [
    "# Function definition is here\n",
    "def printinfo(name, age):\n",
    "    \"This prints a passed info into this function\"\n",
    "    print(\"Name: \", name)\n",
    "    print(\"Age \", age)\n",
    "    return ;\n",
    "\n",
    "# Now you can call printinfo function\n",
    "#printinfo(\"miki\",50)\n",
    "#printinfo( 50, \"miki\")  \n",
    "#printinfo( age=50, name=\"miki\") \n",
    "#printinfo(\"miki\",age=40)\n",
    "#printinfo(\"John\")"
   ]
  },
  {
   "cell_type": "markdown",
   "metadata": {},
   "source": [
    "**lambda Function:**  \n",
    "We can define by using lambda keyword  \n",
    "`Syntax:`  \n",
    "lambda argument_list : expression\n",
    "\n",
    "`Ex:`  \n",
    "`lambda n:n*n`"
   ]
  },
  {
   "cell_type": "code",
   "execution_count": null,
   "metadata": {},
   "outputs": [],
   "source": [
    "#Q. Write a program to create a lambda function to find square of given number?\n",
    "s=lambda n:n*n\n",
    "print(\"The Square of 4 is :\",s(4))\n",
    "print(\"The Square of 5 is :\",s(5))"
   ]
  },
  {
   "cell_type": "code",
   "execution_count": null,
   "metadata": {},
   "outputs": [],
   "source": [
    "#Q. Write a program to create a lambda function to find square of given number?\n",
    "s = lambda x:x**2"
   ]
  },
  {
   "cell_type": "code",
   "execution_count": 10,
   "metadata": {
    "ExecuteTime": {
     "end_time": "2020-11-02T01:22:10.102105Z",
     "start_time": "2020-11-02T01:22:10.096122Z"
    }
   },
   "outputs": [
    {
     "data": {
      "text/plain": [
       "12"
      ]
     },
     "execution_count": 10,
     "metadata": {},
     "output_type": "execute_result"
    }
   ],
   "source": [
    "#Q. Lambda Function to find biggest of given values.\n",
    "s = lambda a,b,c: a if a>b else (b if (b>a and b>c) else (c if (c>a and c>b) else a))\n",
    "\n",
    "s(11,12,10)"
   ]
  },
  {
   "cell_type": "code",
   "execution_count": null,
   "metadata": {},
   "outputs": [],
   "source": [
    "#Q. Lambda function to find sum of 2 given numbers\n",
    "s = lambda a, b: a+b"
   ]
  },
  {
   "cell_type": "code",
   "execution_count": null,
   "metadata": {},
   "outputs": [],
   "source": [
    "# None Object\n",
    "a = None\n",
    "if a is None:\n",
    "    print(\"It's of NoneType\")\n",
    "else:\n",
    "    print(\"It's something else\")"
   ]
  },
  {
   "cell_type": "code",
   "execution_count": null,
   "metadata": {},
   "outputs": [],
   "source": [
    "#Passing by Object Reference\n",
    "def modify_list(input_list):\n",
    "    '''\n",
    "    Modify the elements in a list\n",
    "    Inputs: \n",
    "        input_list - a list to modify\n",
    "    '''\n",
    "    print(\"before list change:\", input_list)\n",
    "    # modify element in the list\n",
    "    input_list[1] = 20\n",
    "    print(\"after list change:\", input_list)\n",
    "\n",
    "lst = [50,90,80]\n",
    "modify_list(lst)\n",
    "print(\"list outside function:\", lst)"
   ]
  },
  {
   "cell_type": "code",
   "execution_count": null,
   "metadata": {},
   "outputs": [],
   "source": [
    "# method 1\n",
    "import random\n",
    "random.randint(0,50)\n",
    "\n",
    "# method 2\n",
    "from random import randint\n",
    "randint(0,50)"
   ]
  },
  {
   "cell_type": "markdown",
   "metadata": {},
   "source": [
    "# Chapter 5 - Lists & Tuples\n"
   ]
  },
  {
   "cell_type": "markdown",
   "metadata": {},
   "source": [
    "**List**  \n",
    "If we want to represent a group of individual objects as a single entity where insertion order preserved and duplicates are allowed, then we should go for List.\n",
    "- insertion order preserved.\n",
    "- duplicate objects are allowed\n",
    "- heterogeneous objects are allowed.\n",
    "- List is dynamic because based on our requirement we can increase the size and decrease the size.\n",
    "- In List the elements will be placed within square brackets and with comma seperator.\n",
    "- We can differentiate duplicate elements by using index and we can preserve insertion order by using index. Hence index will play very important role.  \n",
    "- Python supports both `positive and negative` indexes. +ve index means from left to right where as negative index means right to left"
   ]
  },
  {
   "cell_type": "markdown",
   "metadata": {},
   "source": [
    "**Tuple**  \n",
    "Tuple is exactly same as List except that it is immutable. i.e once we creates Tuple object,we cannot perform any changes in that object. `Hence, Tuple is Read Only version of List`. If our data is fixed and never changes then we should go for Tuple.\n",
    "- Insertion Order is preserved\n",
    "- Duplicates are allowed\n",
    "- Heterogeneous objects are allowed.\n",
    "- We can preserve insertion order and we can differentiate duplicate objects by using index. Hence index will play very important role in Tuple also.\n",
    "- Tuple support both +ve and -ve index. +ve index means forward direction(from left to right) and -ve index means backward direction(from right to left)\n",
    "- We can represent Tuple elements within Parenthesis and with comma seperator. Parenethesis are optional but recommended to use."
   ]
  },
  {
   "cell_type": "markdown",
   "metadata": {},
   "source": [
    "## Creation of List Objects:"
   ]
  },
  {
   "cell_type": "markdown",
   "metadata": {},
   "source": [
    "### 1. We can create empty list object as follows..."
   ]
  },
  {
   "cell_type": "code",
   "execution_count": null,
   "metadata": {},
   "outputs": [],
   "source": [
    "lst=[]\n",
    "print(lst)\n",
    "print(type(lst))"
   ]
  },
  {
   "cell_type": "markdown",
   "metadata": {},
   "source": [
    "### 2. If we know elements already then we can create list as follows"
   ]
  },
  {
   "cell_type": "code",
   "execution_count": null,
   "metadata": {},
   "outputs": [],
   "source": [
    "l = [10,20,30,40]"
   ]
  },
  {
   "cell_type": "markdown",
   "metadata": {},
   "source": [
    "### 3. With dynamic input:"
   ]
  },
  {
   "cell_type": "code",
   "execution_count": 14,
   "metadata": {
    "ExecuteTime": {
     "end_time": "2020-11-02T01:35:45.999916Z",
     "start_time": "2020-11-02T01:35:17.683663Z"
    }
   },
   "outputs": [
    {
     "ename": "KeyboardInterrupt",
     "evalue": "Interrupted by user",
     "output_type": "error",
     "traceback": [
      "\u001b[1;31m---------------------------------------------------------------------------\u001b[0m",
      "\u001b[1;31mKeyboardInterrupt\u001b[0m                         Traceback (most recent call last)",
      "\u001b[1;32m<ipython-input-14-aee7bc44daac>\u001b[0m in \u001b[0;36m<module>\u001b[1;34m\u001b[0m\n\u001b[1;32m----> 1\u001b[1;33m \u001b[0ml\u001b[0m \u001b[1;33m=\u001b[0m \u001b[0meval\u001b[0m\u001b[1;33m(\u001b[0m\u001b[0minput\u001b[0m\u001b[1;33m(\u001b[0m\u001b[1;34m\"Enter List:\"\u001b[0m\u001b[1;33m)\u001b[0m\u001b[1;33m)\u001b[0m \u001b[1;31m#to key in list you need to use square bracket otherwise it will return tuple.\u001b[0m\u001b[1;33m\u001b[0m\u001b[1;33m\u001b[0m\u001b[0m\n\u001b[0m\u001b[0;32m      2\u001b[0m \u001b[0mprint\u001b[0m\u001b[1;33m(\u001b[0m\u001b[0ml\u001b[0m\u001b[1;33m)\u001b[0m\u001b[1;33m\u001b[0m\u001b[1;33m\u001b[0m\u001b[0m\n\u001b[0;32m      3\u001b[0m \u001b[0mprint\u001b[0m\u001b[1;33m(\u001b[0m\u001b[0mtype\u001b[0m\u001b[1;33m(\u001b[0m\u001b[0ml\u001b[0m\u001b[1;33m)\u001b[0m\u001b[1;33m)\u001b[0m\u001b[1;33m\u001b[0m\u001b[1;33m\u001b[0m\u001b[0m\n",
      "\u001b[1;32m~\\anaconda3\\lib\\site-packages\\ipykernel\\kernelbase.py\u001b[0m in \u001b[0;36mraw_input\u001b[1;34m(self, prompt)\u001b[0m\n\u001b[0;32m    858\u001b[0m                 \u001b[1;34m\"raw_input was called, but this frontend does not support input requests.\"\u001b[0m\u001b[1;33m\u001b[0m\u001b[1;33m\u001b[0m\u001b[0m\n\u001b[0;32m    859\u001b[0m             )\n\u001b[1;32m--> 860\u001b[1;33m         return self._input_request(str(prompt),\n\u001b[0m\u001b[0;32m    861\u001b[0m             \u001b[0mself\u001b[0m\u001b[1;33m.\u001b[0m\u001b[0m_parent_ident\u001b[0m\u001b[1;33m,\u001b[0m\u001b[1;33m\u001b[0m\u001b[1;33m\u001b[0m\u001b[0m\n\u001b[0;32m    862\u001b[0m             \u001b[0mself\u001b[0m\u001b[1;33m.\u001b[0m\u001b[0m_parent_header\u001b[0m\u001b[1;33m,\u001b[0m\u001b[1;33m\u001b[0m\u001b[1;33m\u001b[0m\u001b[0m\n",
      "\u001b[1;32m~\\anaconda3\\lib\\site-packages\\ipykernel\\kernelbase.py\u001b[0m in \u001b[0;36m_input_request\u001b[1;34m(self, prompt, ident, parent, password)\u001b[0m\n\u001b[0;32m    902\u001b[0m             \u001b[1;32mexcept\u001b[0m \u001b[0mKeyboardInterrupt\u001b[0m\u001b[1;33m:\u001b[0m\u001b[1;33m\u001b[0m\u001b[1;33m\u001b[0m\u001b[0m\n\u001b[0;32m    903\u001b[0m                 \u001b[1;31m# re-raise KeyboardInterrupt, to truncate traceback\u001b[0m\u001b[1;33m\u001b[0m\u001b[1;33m\u001b[0m\u001b[1;33m\u001b[0m\u001b[0m\n\u001b[1;32m--> 904\u001b[1;33m                 \u001b[1;32mraise\u001b[0m \u001b[0mKeyboardInterrupt\u001b[0m\u001b[1;33m(\u001b[0m\u001b[1;34m\"Interrupted by user\"\u001b[0m\u001b[1;33m)\u001b[0m \u001b[1;32mfrom\u001b[0m \u001b[1;32mNone\u001b[0m\u001b[1;33m\u001b[0m\u001b[1;33m\u001b[0m\u001b[0m\n\u001b[0m\u001b[0;32m    905\u001b[0m             \u001b[1;32mexcept\u001b[0m \u001b[0mException\u001b[0m \u001b[1;32mas\u001b[0m \u001b[0me\u001b[0m\u001b[1;33m:\u001b[0m\u001b[1;33m\u001b[0m\u001b[1;33m\u001b[0m\u001b[0m\n\u001b[0;32m    906\u001b[0m                 \u001b[0mself\u001b[0m\u001b[1;33m.\u001b[0m\u001b[0mlog\u001b[0m\u001b[1;33m.\u001b[0m\u001b[0mwarning\u001b[0m\u001b[1;33m(\u001b[0m\u001b[1;34m\"Invalid Message:\"\u001b[0m\u001b[1;33m,\u001b[0m \u001b[0mexc_info\u001b[0m\u001b[1;33m=\u001b[0m\u001b[1;32mTrue\u001b[0m\u001b[1;33m)\u001b[0m\u001b[1;33m\u001b[0m\u001b[1;33m\u001b[0m\u001b[0m\n",
      "\u001b[1;31mKeyboardInterrupt\u001b[0m: Interrupted by user"
     ]
    }
   ],
   "source": [
    "l = eval(input(\"Enter List:\")) #to key in list you need to use square bracket otherwise it will return tuple.\n",
    "print(l)\n",
    "print(type(l))"
   ]
  },
  {
   "cell_type": "markdown",
   "metadata": {},
   "source": [
    "### 4. With list() function:"
   ]
  },
  {
   "cell_type": "code",
   "execution_count": 15,
   "metadata": {
    "ExecuteTime": {
     "end_time": "2020-11-02T01:35:53.299389Z",
     "start_time": "2020-11-02T01:35:53.295399Z"
    }
   },
   "outputs": [
    {
     "name": "stdout",
     "output_type": "stream",
     "text": [
      "[0, 2, 4, 6, 8]\n"
     ]
    }
   ],
   "source": [
    "l = list(range(0,10,2))\n",
    "print(l)"
   ]
  },
  {
   "cell_type": "code",
   "execution_count": null,
   "metadata": {},
   "outputs": [],
   "source": [
    "s=\"digipen\"\n",
    "l=list(s)\n",
    "l"
   ]
  },
  {
   "cell_type": "markdown",
   "metadata": {},
   "source": [
    "### 5. with split() function:"
   ]
  },
  {
   "cell_type": "code",
   "execution_count": 16,
   "metadata": {
    "ExecuteTime": {
     "end_time": "2020-11-02T01:39:58.774965Z",
     "start_time": "2020-11-02T01:39:58.769026Z"
    }
   },
   "outputs": [
    {
     "name": "stdout",
     "output_type": "stream",
     "text": [
      "['Learning', 'Python', 'is', 'very', 'very', 'easy', '!!!']\n"
     ]
    },
    {
     "data": {
      "text/plain": [
       "list"
      ]
     },
     "execution_count": 16,
     "metadata": {},
     "output_type": "execute_result"
    }
   ],
   "source": [
    "s=\"Learning Python is very very easy !!!\"\n",
    "l = s.split()\n",
    "print(l)\n",
    "type(l)"
   ]
  },
  {
   "cell_type": "markdown",
   "metadata": {},
   "source": [
    "## Creation of Tuple Objects:"
   ]
  },
  {
   "cell_type": "code",
   "execution_count": 17,
   "metadata": {
    "ExecuteTime": {
     "end_time": "2020-11-02T01:41:31.754240Z",
     "start_time": "2020-11-02T01:41:31.750251Z"
    }
   },
   "outputs": [],
   "source": [
    "t =()"
   ]
  },
  {
   "cell_type": "code",
   "execution_count": null,
   "metadata": {},
   "outputs": [],
   "source": [
    "t=(10,)\n",
    "t=10,"
   ]
  },
  {
   "cell_type": "code",
   "execution_count": null,
   "metadata": {},
   "outputs": [],
   "source": [
    "t=10,20,30\n",
    "t=(10,20,30)"
   ]
  },
  {
   "cell_type": "code",
   "execution_count": null,
   "metadata": {},
   "outputs": [],
   "source": [
    "list=[10,20,30]\n",
    "t=tuple(list)\n",
    "print(t)\n",
    "print(type(t))"
   ]
  },
  {
   "cell_type": "code",
   "execution_count": null,
   "metadata": {},
   "outputs": [],
   "source": [
    "t = tuple(range(10,20,2))\n",
    "print(t)"
   ]
  },
  {
   "cell_type": "markdown",
   "metadata": {},
   "source": [
    "### Q. Which of the following are valid tuples?"
   ]
  },
  {
   "cell_type": "code",
   "execution_count": null,
   "metadata": {},
   "outputs": [],
   "source": [
    "t=() #Y\n",
    "\n",
    "t=10,20,30,40 #Y \n",
    "\n",
    "t=10 #N\n",
    "\n",
    "t=10, #Y\n",
    "\n",
    "t=(10) #N\n",
    "\n",
    "t=(10,) #Y\n",
    "\n",
    "t=(10,20,30,40) #Y\n"
   ]
  },
  {
   "cell_type": "markdown",
   "metadata": {},
   "source": [
    "## Accessing the elements of List & Tuple:"
   ]
  },
  {
   "cell_type": "markdown",
   "metadata": {},
   "source": [
    "We can access elements of the list/tuple either by using index or by using slice operator(:)"
   ]
  },
  {
   "cell_type": "markdown",
   "metadata": {},
   "source": [
    "### 1. By using index:"
   ]
  },
  {
   "cell_type": "markdown",
   "metadata": {},
   "source": [
    "List/Tuple follows zero based index. ie index of first element is zero.  \n",
    "        List/Tuple supports both +ve and -ve indexes.  \n",
    "        `+ve index` meant for `Left to Right`  \n",
    "        `-ve index` meant for `Right to Left`  "
   ]
  },
  {
   "attachments": {
    "image.png": {
     "image/png": "[encoded data removed]"
    }
   },
   "cell_type": "markdown",
   "metadata": {},
   "source": [
    "list=[10,20,30,40]\n",
    "![image.png](attachment:image.png)\n"
   ]
  },
  {
   "cell_type": "markdown",
   "metadata": {},
   "source": [
    "**List**"
   ]
  },
  {
   "cell_type": "code",
   "execution_count": null,
   "metadata": {},
   "outputs": [],
   "source": [
    "l=[10,20,30,40]"
   ]
  },
  {
   "cell_type": "code",
   "execution_count": null,
   "metadata": {},
   "outputs": [],
   "source": [
    "print(l[0])"
   ]
  },
  {
   "cell_type": "code",
   "execution_count": null,
   "metadata": {},
   "outputs": [],
   "source": [
    "print(l[-1])"
   ]
  },
  {
   "cell_type": "code",
   "execution_count": null,
   "metadata": {},
   "outputs": [],
   "source": [
    "print(l[10])"
   ]
  },
  {
   "cell_type": "markdown",
   "metadata": {},
   "source": [
    "**Tuple**"
   ]
  },
  {
   "cell_type": "code",
   "execution_count": null,
   "metadata": {},
   "outputs": [],
   "source": [
    "t=(10,20,30,40,50,60)\n",
    "print(t[0]) \n",
    "print(t[-1]) "
   ]
  },
  {
   "cell_type": "code",
   "execution_count": null,
   "metadata": {},
   "outputs": [],
   "source": []
  },
  {
   "cell_type": "markdown",
   "metadata": {},
   "source": [
    "### 2. By using slice operator:"
   ]
  },
  {
   "cell_type": "markdown",
   "metadata": {},
   "source": [
    "**Syntax:**  \n",
    "list2= list1[start:stop:step] \n",
    "\n",
    "### OR\n",
    "\n",
    "tuple2 = tuple1[start:stop:step]\n",
    "\n",
    "**start ==>** It indicates the index where slice has to start  \n",
    "&nbsp;  &thinsp; &ensp; &emsp; default value is 0  \n",
    "**stop ===>** It indicates the index where slice has to end   \n",
    "&nbsp;  &thinsp; &ensp; &emsp; default value is max allowed index of list ie length of the list  \n",
    "**step ==>** Increment value  \n",
    " &nbsp;  &thinsp; &ensp; &emsp; default value is 1  "
   ]
  },
  {
   "cell_type": "markdown",
   "metadata": {},
   "source": [
    "**List**"
   ]
  },
  {
   "cell_type": "code",
   "execution_count": 19,
   "metadata": {
    "ExecuteTime": {
     "end_time": "2020-11-02T01:53:17.277451Z",
     "start_time": "2020-11-02T01:53:17.273461Z"
    }
   },
   "outputs": [],
   "source": [
    "n=[1,2,3,4,5,6,7,8,9,10]\n",
    "#  0,1,2,3,4,5,6,7,8,9"
   ]
  },
  {
   "cell_type": "code",
   "execution_count": 20,
   "metadata": {
    "ExecuteTime": {
     "end_time": "2020-11-02T01:53:18.283791Z",
     "start_time": "2020-11-02T01:53:18.279812Z"
    }
   },
   "outputs": [
    {
     "name": "stdout",
     "output_type": "stream",
     "text": [
      "[3, 5, 7]\n"
     ]
    }
   ],
   "source": [
    "print(n[2:7:2])"
   ]
  },
  {
   "cell_type": "code",
   "execution_count": 21,
   "metadata": {
    "ExecuteTime": {
     "end_time": "2020-11-02T01:53:19.279096Z",
     "start_time": "2020-11-02T01:53:19.276105Z"
    }
   },
   "outputs": [
    {
     "name": "stdout",
     "output_type": "stream",
     "text": [
      "[5, 7, 9]\n"
     ]
    }
   ],
   "source": [
    "print(n[4::2])"
   ]
  },
  {
   "cell_type": "code",
   "execution_count": 22,
   "metadata": {
    "ExecuteTime": {
     "end_time": "2020-11-02T01:53:20.363197Z",
     "start_time": "2020-11-02T01:53:20.360218Z"
    }
   },
   "outputs": [
    {
     "name": "stdout",
     "output_type": "stream",
     "text": [
      "[4, 5, 6, 7]\n"
     ]
    }
   ],
   "source": [
    "print(n[3:7])"
   ]
  },
  {
   "cell_type": "code",
   "execution_count": 23,
   "metadata": {
    "ExecuteTime": {
     "end_time": "2020-11-02T01:53:22.433659Z",
     "start_time": "2020-11-02T01:53:22.429709Z"
    }
   },
   "outputs": [
    {
     "name": "stdout",
     "output_type": "stream",
     "text": [
      "[9, 7, 5]\n"
     ]
    }
   ],
   "source": [
    "print(n[8:2:-2])"
   ]
  },
  {
   "cell_type": "code",
   "execution_count": 24,
   "metadata": {
    "ExecuteTime": {
     "end_time": "2020-11-02T01:53:25.762753Z",
     "start_time": "2020-11-02T01:53:25.758801Z"
    }
   },
   "outputs": [
    {
     "name": "stdout",
     "output_type": "stream",
     "text": [
      "[5, 6, 7, 8, 9, 10]\n"
     ]
    }
   ],
   "source": [
    "print(n[4:100])"
   ]
  },
  {
   "cell_type": "markdown",
   "metadata": {},
   "source": [
    "**Tuple**"
   ]
  },
  {
   "cell_type": "code",
   "execution_count": null,
   "metadata": {},
   "outputs": [],
   "source": [
    "t=(10,20,30,40,50,60)\n",
    "print(t[2:5])\n",
    "print(t[2:100])\n",
    "print(t[::2])"
   ]
  },
  {
   "cell_type": "markdown",
   "metadata": {},
   "source": [
    "## List vs mutability:"
   ]
  },
  {
   "cell_type": "markdown",
   "metadata": {},
   "source": [
    "Once we creates a List object,we can modify its content. Hence List objects are mutable."
   ]
  },
  {
   "cell_type": "code",
   "execution_count": null,
   "metadata": {},
   "outputs": [],
   "source": [
    "n=[10,20,30,40]\n"
   ]
  },
  {
   "cell_type": "markdown",
   "metadata": {},
   "source": [
    "## Tuple vs immutability:"
   ]
  },
  {
   "cell_type": "markdown",
   "metadata": {},
   "source": [
    "Once we creates tuple,we cannot change its content. Hence tuple objects are immutable."
   ]
  },
  {
   "cell_type": "code",
   "execution_count": null,
   "metadata": {},
   "outputs": [],
   "source": [
    "t=(10,20,30,40)\n"
   ]
  },
  {
   "cell_type": "markdown",
   "metadata": {},
   "source": [
    "## Traversing the elements of List / Tuple:"
   ]
  },
  {
   "cell_type": "markdown",
   "metadata": {},
   "source": [
    "The sequential access of each element in the list/tuple is called traversal."
   ]
  },
  {
   "cell_type": "markdown",
   "metadata": {},
   "source": [
    "### 1. By using while loop:"
   ]
  },
  {
   "cell_type": "code",
   "execution_count": null,
   "metadata": {},
   "outputs": [],
   "source": [
    "#Using List\n",
    "n=[0,1,2,3,4,5,6,7,8,9,10]\n",
    "i=0\n",
    "while i<len(n):\n",
    "    print(n[i])\n",
    "    i=i+1"
   ]
  },
  {
   "cell_type": "code",
   "execution_count": null,
   "metadata": {},
   "outputs": [],
   "source": [
    "#Using Tuple\n",
    "n=(0,1,2,3,4,5,6,7,8,9,10)\n",
    "i=0\n",
    "while i<len(n):\n",
    "    print(n[i])\n",
    "    i=i+1"
   ]
  },
  {
   "cell_type": "markdown",
   "metadata": {},
   "source": [
    "### 2. By using for loop:"
   ]
  },
  {
   "cell_type": "code",
   "execution_count": null,
   "metadata": {},
   "outputs": [],
   "source": [
    "#Using List\n",
    "n=[0,1,2,3,4,5,6,7,8,9,10]\n",
    "for n1 in n:\n",
    "    print(n1)"
   ]
  },
  {
   "cell_type": "code",
   "execution_count": 31,
   "metadata": {
    "ExecuteTime": {
     "end_time": "2020-11-02T02:11:42.428268Z",
     "start_time": "2020-11-02T02:11:42.423282Z"
    }
   },
   "outputs": [
    {
     "ename": "SyntaxError",
     "evalue": "invalid syntax (<ipython-input-31-898e0063ee5c>, line 7)",
     "output_type": "error",
     "traceback": [
      "\u001b[1;36m  File \u001b[1;32m\"<ipython-input-31-898e0063ee5c>\"\u001b[1;36m, line \u001b[1;32m7\u001b[0m\n\u001b[1;33m    print(n1) if n1%2\u001b[0m\n\u001b[1;37m                     ^\u001b[0m\n\u001b[1;31mSyntaxError\u001b[0m\u001b[1;31m:\u001b[0m invalid syntax\n"
     ]
    }
   ],
   "source": [
    "#Using Tuple\n",
    "n=(0,1,2,3,4,5,6,7,8,9,10)\n",
    "for n1 in n:\n",
    "    print(n1)"
   ]
  },
  {
   "cell_type": "markdown",
   "metadata": {},
   "source": [
    "### 3. To display only even numbers:"
   ]
  },
  {
   "cell_type": "code",
   "execution_count": 25,
   "metadata": {
    "ExecuteTime": {
     "end_time": "2020-11-02T02:08:36.075771Z",
     "start_time": "2020-11-02T02:08:36.064837Z"
    }
   },
   "outputs": [
    {
     "name": "stdout",
     "output_type": "stream",
     "text": [
      "0\n",
      "2\n",
      "4\n",
      "6\n",
      "8\n",
      "10\n"
     ]
    }
   ],
   "source": [
    "#Using List\n",
    "n=[0,1,2,3,4,5,6,7,8,9,10]\n",
    "for i in range(0,len(n),2):\n",
    "    print(n[i])\n",
    "    "
   ]
  },
  {
   "cell_type": "code",
   "execution_count": 28,
   "metadata": {
    "ExecuteTime": {
     "end_time": "2020-11-02T02:10:00.210742Z",
     "start_time": "2020-11-02T02:10:00.205718Z"
    }
   },
   "outputs": [
    {
     "ename": "SyntaxError",
     "evalue": "invalid syntax (<ipython-input-28-07eddb56596f>, line 7)",
     "output_type": "error",
     "traceback": [
      "\u001b[1;36m  File \u001b[1;32m\"<ipython-input-28-07eddb56596f>\"\u001b[1;36m, line \u001b[1;32m7\u001b[0m\n\u001b[1;33m    print(n[i]) if not i%2 else pass\u001b[0m\n\u001b[1;37m                                ^\u001b[0m\n\u001b[1;31mSyntaxError\u001b[0m\u001b[1;31m:\u001b[0m invalid syntax\n"
     ]
    }
   ],
   "source": [
    "#Using Tuple\n",
    "n=(0,1,2,3,4,5,6,7,8,9,10)\n",
    "for i in range(0,len(n),2):\n",
    "    print(n[i])\n"
   ]
  },
  {
   "cell_type": "markdown",
   "metadata": {},
   "source": [
    "### 4. To display elements by index wise:"
   ]
  },
  {
   "cell_type": "code",
   "execution_count": 29,
   "metadata": {
    "ExecuteTime": {
     "end_time": "2020-11-02T02:10:51.747842Z",
     "start_time": "2020-11-02T02:10:51.742855Z"
    }
   },
   "outputs": [
    {
     "name": "stdout",
     "output_type": "stream",
     "text": [
      "A is available at positive index:  0 and at negative index:  -3\n",
      "B is available at positive index:  1 and at negative index:  -2\n",
      "C is available at positive index:  2 and at negative index:  -1\n"
     ]
    }
   ],
   "source": [
    "#Using List\n",
    "l=[\"A\",\"B\",\"C\"]\n",
    "x=len(l)\n",
    "for i in range(x):\n",
    "    print(l[i],\"is available at positive index: \",i,\"and at negative index: \",i-x)"
   ]
  },
  {
   "cell_type": "code",
   "execution_count": null,
   "metadata": {},
   "outputs": [],
   "source": [
    "#Using Tuple\n",
    "l=(\"A\",\"B\",\"C\")\n"
   ]
  },
  {
   "cell_type": "markdown",
   "metadata": {},
   "source": [
    "## Important functions of List and Tuple:"
   ]
  },
  {
   "cell_type": "markdown",
   "metadata": {},
   "source": [
    "### I. To get information about list:"
   ]
  },
  {
   "cell_type": "markdown",
   "metadata": {},
   "source": [
    "**1. len():**  \n",
    "&nbsp;  &thinsp; &ensp;&emsp; It returns the number of elements present in the list / tuple"
   ]
  },
  {
   "cell_type": "code",
   "execution_count": null,
   "metadata": {},
   "outputs": [],
   "source": [
    "#Using List\n",
    "n=[10,20,30,40]\n"
   ]
  },
  {
   "cell_type": "code",
   "execution_count": null,
   "metadata": {},
   "outputs": [],
   "source": [
    "#Using Tuple\n",
    "t=(10,20,30,40)\n"
   ]
  },
  {
   "cell_type": "markdown",
   "metadata": {},
   "source": [
    "**2. count():**  \n",
    "&nbsp; &thinsp; &ensp; &emsp; It returns the number of occurrences of specified item in the list / tuple"
   ]
  },
  {
   "cell_type": "code",
   "execution_count": null,
   "metadata": {},
   "outputs": [],
   "source": [
    "#Using List\n",
    "n=[1,2,2,2,2,3,3]\n"
   ]
  },
  {
   "cell_type": "code",
   "execution_count": null,
   "metadata": {},
   "outputs": [],
   "source": [
    "#Using Tuple\n",
    "t=(10,20,10,10,20)\n"
   ]
  },
  {
   "cell_type": "markdown",
   "metadata": {},
   "source": [
    "**3. index():**  \n",
    "&nbsp; &thinsp; &ensp; &emsp; It returns the index of first occurrence of the specified item in the list / tuple."
   ]
  },
  {
   "cell_type": "code",
   "execution_count": null,
   "metadata": {},
   "outputs": [],
   "source": [
    "#Using List\n",
    "n=[1,2,2,2,2,3,3]\n"
   ]
  },
  {
   "cell_type": "markdown",
   "metadata": {},
   "source": [
    "**Note:** If the specified element not present in the list then we will get ValueError.Hence before index() method we have to check whether item present in the list or not by using in\n",
    "operator.  \n",
    "`print( 4 in n)==>False`"
   ]
  },
  {
   "cell_type": "code",
   "execution_count": null,
   "metadata": {},
   "outputs": [],
   "source": [
    "#Using Tuple\n",
    "t=(10,20,10,10,20)\n"
   ]
  },
  {
   "cell_type": "markdown",
   "metadata": {},
   "source": [
    "**4. min() and max():**  \n",
    "These functions return min and max values according to default natural sorting order."
   ]
  },
  {
   "cell_type": "code",
   "execution_count": null,
   "metadata": {},
   "outputs": [],
   "source": [
    "#Using List\n",
    "l=[1,2,3,4,5]\n"
   ]
  },
  {
   "cell_type": "code",
   "execution_count": null,
   "metadata": {},
   "outputs": [],
   "source": [
    "#Using Tuple\n",
    "t=(40,10,30,20)\n"
   ]
  },
  {
   "cell_type": "markdown",
   "metadata": {},
   "source": [
    "### II. Manipulating elements of List:"
   ]
  },
  {
   "cell_type": "markdown",
   "metadata": {},
   "source": [
    "**1. append():**  \n",
    "&nbsp; &thinsp; &ensp; &emsp; We can use append() function to add item at the end of the list."
   ]
  },
  {
   "cell_type": "markdown",
   "metadata": {},
   "source": [
    "**Examples:**"
   ]
  },
  {
   "cell_type": "code",
   "execution_count": null,
   "metadata": {},
   "outputs": [],
   "source": [
    "list=[]\n",
    "list.append(\"A\")\n",
    "list.append(\"B\")\n",
    "list.append(\"C\")\n",
    "print(list)"
   ]
  },
  {
   "cell_type": "code",
   "execution_count": null,
   "metadata": {},
   "outputs": [],
   "source": [
    "#To add all elements to list upto 100 which are divisible by 10\n",
    "list=[]\n",
    "for i in range(101):\n",
    "    if i%10==0:\n",
    "        list.append(i)\n",
    "print(list)"
   ]
  },
  {
   "cell_type": "markdown",
   "metadata": {},
   "source": [
    "**2. insert():**  \n",
    "&nbsp; &thinsp; &ensp; &emsp; To insert item at specified index position"
   ]
  },
  {
   "cell_type": "code",
   "execution_count": null,
   "metadata": {},
   "outputs": [],
   "source": [
    "n=[1,2,3,4,5]\n",
    "n.insert(1,888)\n",
    "print(n)"
   ]
  },
  {
   "cell_type": "code",
   "execution_count": null,
   "metadata": {},
   "outputs": [],
   "source": [
    "n=[1,2,3,4,5]\n",
    "n.insert(10,777)\n",
    "n.insert(-10,999)\n",
    "print(n)"
   ]
  },
  {
   "cell_type": "markdown",
   "metadata": {},
   "source": [
    "**Note:** If the specified index is greater than max index then element will be inserted at last position. If the specified index is smaller than min index then element will be inserted at\n",
    "first position. "
   ]
  },
  {
   "cell_type": "markdown",
   "metadata": {},
   "source": [
    "**3. extend():**  \n",
    "&nbsp;  &thinsp; &ensp;&emsp;To add all items of one list to another list \n",
    "\n",
    "`l1.extend(l2)`  \n",
    "&nbsp;  &thinsp; &ensp;&emsp;all items present in l2 will be added to l1"
   ]
  },
  {
   "cell_type": "code",
   "execution_count": null,
   "metadata": {},
   "outputs": [],
   "source": [
    "order1=[\"Chicken\",\"Mutton\",\"Fish\"]\n",
    "order2=[\"RC\",\"KF\",\"FO\"]\n",
    "order1.extend(order2)\n",
    "print(order1)\n",
    "print(order2)"
   ]
  },
  {
   "cell_type": "code",
   "execution_count": null,
   "metadata": {},
   "outputs": [],
   "source": [
    "order=[\"Chicken\",\"Mutton\",\"Fish\"]\n",
    "order.extend(\"Mushroom\")\n",
    "print(order)"
   ]
  },
  {
   "cell_type": "markdown",
   "metadata": {},
   "source": [
    "**4. remove():**  \n",
    "&nbsp;  &thinsp; &ensp;&emsp; We can use this function to remove specified item from the list.If the item present multiple times then only first occurrence will be removed."
   ]
  },
  {
   "cell_type": "code",
   "execution_count": null,
   "metadata": {},
   "outputs": [],
   "source": [
    "n=[10,20,10,30]\n"
   ]
  },
  {
   "cell_type": "markdown",
   "metadata": {},
   "source": [
    "If the specified item not present in list then we will get ValueError"
   ]
  },
  {
   "cell_type": "code",
   "execution_count": null,
   "metadata": {},
   "outputs": [],
   "source": [
    "n=[10,20,10,30]\n"
   ]
  },
  {
   "cell_type": "markdown",
   "metadata": {},
   "source": [
    "**5. pop():**"
   ]
  },
  {
   "cell_type": "markdown",
   "metadata": {},
   "source": [
    "It removes and returns the last element of the list.\n",
    "This is only function which manipulates list and returns some element."
   ]
  },
  {
   "cell_type": "code",
   "execution_count": null,
   "metadata": {},
   "outputs": [],
   "source": [
    "n=[10,20,30,40]\n",
    "print(n.pop())\n",
    "print(n.pop())\n",
    "print(n)"
   ]
  },
  {
   "cell_type": "markdown",
   "metadata": {},
   "source": [
    "`If the list is empty then pop() function raises IndexError`"
   ]
  },
  {
   "cell_type": "code",
   "execution_count": null,
   "metadata": {},
   "outputs": [],
   "source": [
    "n=[]\n",
    "print(n.pop())"
   ]
  },
  {
   "cell_type": "markdown",
   "metadata": {},
   "source": [
    "**Note:**  \n",
    "1. pop() is the only function which manipulates the list and returns some value  \n",
    "2. In general we can use append() and pop() functions to implement stack datastructure by using list,which follows LIFO(Last    In First Out) order.  \n",
    "\n",
    "In general we can use pop() function to remove last element of the list. But we can use to remove elements based on index.  \n",
    "`n.pop(index)`===>To remove and return element present at specified index.  \n",
    "`n.pop()`==>To remove and return last element of the list  "
   ]
  },
  {
   "cell_type": "markdown",
   "metadata": {},
   "source": [
    "**6. clear():**  \n",
    "We can use `clear()` function to remove all elements of List."
   ]
  },
  {
   "cell_type": "code",
   "execution_count": null,
   "metadata": {},
   "outputs": [],
   "source": [
    "n=[10,20,30,40]\n",
    "print(n)\n",
    "n.clear()\n",
    "print(n)"
   ]
  },
  {
   "cell_type": "markdown",
   "metadata": {},
   "source": [
    "### III. Ordering elements of List:"
   ]
  },
  {
   "cell_type": "markdown",
   "metadata": {},
   "source": [
    "**1. reverse():**  \n",
    "&nbsp;  &thinsp; &ensp;&emsp; We can use to reverse() order of elements of list."
   ]
  },
  {
   "cell_type": "code",
   "execution_count": null,
   "metadata": {},
   "outputs": [],
   "source": [
    "n=[10,20,30,40]\n"
   ]
  },
  {
   "cell_type": "markdown",
   "metadata": {},
   "source": [
    "**2. sort() and sorted():**  \n",
    "&nbsp;  &thinsp; &ensp; &emsp; In list by default insertion order is preserved. If want to sort the elements of list according to default natural sorting order then we should go for sort() method.  \n",
    "**For numbers** ==>default natural sorting order is Ascending Order  \n",
    "**For Strings** ==> default natural sorting order is Alphabetical Order"
   ]
  },
  {
   "cell_type": "markdown",
   "metadata": {},
   "source": [
    "`sort()` basically works with the list itself. It modifies the original list in place. The return value is None.\n",
    "\n",
    "`sorted()` works on any iterable that may include list, dict and so on. It returns another list and doesn't modify the original list."
   ]
  },
  {
   "cell_type": "code",
   "execution_count": null,
   "metadata": {},
   "outputs": [],
   "source": [
    "n=[20,5,15,10,0]\n"
   ]
  },
  {
   "cell_type": "markdown",
   "metadata": {},
   "source": [
    "**Note:** To use sort() function, compulsory list should contain only homogeneous elements. Otherwise we will get TypeError"
   ]
  },
  {
   "cell_type": "code",
   "execution_count": null,
   "metadata": {},
   "outputs": [],
   "source": [
    "n=[20,10,\"A\",\"B\"]\n"
   ]
  },
  {
   "cell_type": "code",
   "execution_count": null,
   "metadata": {},
   "outputs": [],
   "source": [
    "n=[20,5,15,10,0]\n",
    "\n"
   ]
  },
  {
   "cell_type": "code",
   "execution_count": null,
   "metadata": {},
   "outputs": [],
   "source": [
    "s=[\"Dog\",\"Banana\",\"Cat\",\"Apple\"]\n"
   ]
  },
  {
   "cell_type": "code",
   "execution_count": null,
   "metadata": {},
   "outputs": [],
   "source": [
    "#Tuple\n",
    "t=(\"Apple\", \"Orange\", \"Grapes\", \"Banana\")\n"
   ]
  },
  {
   "cell_type": "markdown",
   "metadata": {},
   "source": [
    "## To sort in reverse of default natural sorting order:\n",
    "We can sort according to reverse of default natural sorting order by using `reverse=True` argument."
   ]
  },
  {
   "cell_type": "code",
   "execution_count": null,
   "metadata": {},
   "outputs": [],
   "source": [
    "#Using List\n",
    "n=[40,10,30,20]\n",
    "n.sort()\n",
    "print(n)\n",
    "n.sort(reverse=True)\n",
    "print(n)\n",
    "n.sort(reverse=False)\n",
    "print(n)"
   ]
  },
  {
   "cell_type": "code",
   "execution_count": null,
   "metadata": {},
   "outputs": [],
   "source": [
    "#Using Tuple\n",
    "t=[40,10,30,20]\n",
    "t1=sorted(t)\n",
    "print(t1)\n",
    "t2=sorted(t, reverse=True)\n",
    "print(t2)\n",
    "sorted(t, reverse=False)\n",
    "print(t1)"
   ]
  },
  {
   "cell_type": "markdown",
   "metadata": {},
   "source": [
    "## Using Mathematical operators for List/Tuple Objects:\n",
    "We can use `+` and `*` operators for List objects."
   ]
  },
  {
   "cell_type": "markdown",
   "metadata": {},
   "source": [
    "### 1. Concatenation operator(+):"
   ]
  },
  {
   "cell_type": "markdown",
   "metadata": {},
   "source": [
    "We can use + to concatenate 2 lists into a single list"
   ]
  },
  {
   "cell_type": "code",
   "execution_count": null,
   "metadata": {},
   "outputs": [],
   "source": [
    "#Using List\n",
    "a=[10,20,30]\n",
    "b=[40,50,60]\n"
   ]
  },
  {
   "cell_type": "markdown",
   "metadata": {},
   "source": [
    "**Note:** To use + operator compulsory both arguments should be list objects,otherwise we will get TypeError."
   ]
  },
  {
   "cell_type": "code",
   "execution_count": null,
   "metadata": {},
   "outputs": [],
   "source": [
    "#Using Tuple\n",
    "t1=(10,20,30)\n",
    "t2=(40,50,60)\n",
    "t3=t1+t2\n",
    "print(t3)"
   ]
  },
  {
   "cell_type": "markdown",
   "metadata": {},
   "source": [
    "**2. Repetition Operator(*):**"
   ]
  },
  {
   "cell_type": "markdown",
   "metadata": {},
   "source": [
    "We can use repetition operator * to repeat elements of list specified number of times"
   ]
  },
  {
   "cell_type": "code",
   "execution_count": null,
   "metadata": {},
   "outputs": [],
   "source": [
    "#Using List\n",
    "x=[10,20,30]\n",
    "y=x*3\n",
    "print(y)"
   ]
  },
  {
   "cell_type": "code",
   "execution_count": null,
   "metadata": {},
   "outputs": [],
   "source": [
    "#Using Tuple\n",
    "t1=(10,20,30)\n",
    "t2=t1*3\n",
    "print(t2)"
   ]
  },
  {
   "cell_type": "markdown",
   "metadata": {},
   "source": [
    "## Comparing List / Tuple objects\n",
    "We can use comparison operators for List or tuple objects."
   ]
  },
  {
   "cell_type": "code",
   "execution_count": null,
   "metadata": {},
   "outputs": [],
   "source": [
    "#Using List\n",
    "x=[\"Dog\",\"Cat\",\"Rat\"]\n",
    "y=[\"Dog\",\"Cat\",\"Rat\"]\n",
    "z=[\"DOG\",\"CAT\",\"RAT\"]\n",
    "\n"
   ]
  },
  {
   "cell_type": "markdown",
   "metadata": {},
   "source": [
    "**Note:**  \n",
    "Whenever we are using comparison `operators (==,!=)` for List objects then the following should be considered  \n",
    "- 1. The number of elements\n",
    "- 2. The order of elements\n",
    "- 3. The content of elements (case sensitive)  \n",
    "\n",
    "When ever we are using relatational `operators(<,<=,>,>=)` between List objects,only first element comparison will be performed."
   ]
  },
  {
   "cell_type": "code",
   "execution_count": null,
   "metadata": {},
   "outputs": [],
   "source": [
    "#Using List\n",
    "x=[50,20,30]\n",
    "x1=[50,20]\n",
    "y=[40,50,60,100,200]\n"
   ]
  },
  {
   "cell_type": "code",
   "execution_count": null,
   "metadata": {},
   "outputs": [],
   "source": [
    "#Using Tuple\n",
    "tuple_var01 = (1,2,3,6)\n",
    "tuple_var02 = (1,2)\n",
    "tuple_var01 > tuple_var02"
   ]
  },
  {
   "cell_type": "markdown",
   "metadata": {},
   "source": [
    "## Membership operators:"
   ]
  },
  {
   "cell_type": "markdown",
   "metadata": {},
   "source": [
    "We can check whether element is a member of the list or not by using memebership operators.\n",
    "- `in` operator\n",
    "- `not in` operator"
   ]
  },
  {
   "cell_type": "code",
   "execution_count": null,
   "metadata": {},
   "outputs": [],
   "source": [
    "#Using List\n",
    "n=[10,20,30,40]\n"
   ]
  },
  {
   "cell_type": "code",
   "execution_count": null,
   "metadata": {},
   "outputs": [],
   "source": [
    "list_var01 = ['bird', 'croc', 'elephant']\n",
    "print('bluejay' in list_var01)"
   ]
  },
  {
   "cell_type": "code",
   "execution_count": null,
   "metadata": {},
   "outputs": [],
   "source": [
    "#Using Tuple\n",
    "tuple_var01 = ('foo', 'bar', 'werewolf')\n",
    "print('foo' in tuple_var01)"
   ]
  },
  {
   "cell_type": "markdown",
   "metadata": {},
   "source": [
    "## Nested Lists and Tuple:\n",
    "Sometimes we can take one list inside another list. Such type of lists are called nested lists."
   ]
  },
  {
   "cell_type": "code",
   "execution_count": null,
   "metadata": {},
   "outputs": [],
   "source": [
    "#Nested List\n",
    "n=[10,20,[30,40]]\n",
    "print(n)\n"
   ]
  },
  {
   "cell_type": "code",
   "execution_count": 37,
   "metadata": {
    "ExecuteTime": {
     "end_time": "2020-11-02T03:25:04.911621Z",
     "start_time": "2020-11-02T03:25:04.904600Z"
    }
   },
   "outputs": [
    {
     "name": "stdout",
     "output_type": "stream",
     "text": [
      "(10, 20, [30, 40])\n",
      "1872682459264\n",
      "(10, 20, [30, 99])\n",
      "1872682459264\n"
     ]
    }
   ],
   "source": [
    "#Nested Tuple\n",
    "n=(10,20,[30,40])\n",
    "print(n)\n",
    "print(id(n))\n",
    "n[2][1]=99\n",
    "print(n)\n",
    "print(id(n))\n"
   ]
  },
  {
   "cell_type": "markdown",
   "metadata": {},
   "source": [
    "**Note:** We can access nested list or tuple elements by using index just like accessing multi dimensional array elements."
   ]
  },
  {
   "cell_type": "markdown",
   "metadata": {},
   "source": [
    "## List Comprehensions:"
   ]
  },
  {
   "cell_type": "markdown",
   "metadata": {},
   "source": [
    "It is very easy and compact way of creating list objects from any iterable objects(like list,tuple,dictionary,range etc) based on some condition.\n",
    "\n",
    "**Syntax:**  \n",
    " new_list = [expression for m in iterable if condition]\n",
    "### or \n",
    "new_list = [expression if condition else false_expression for m in iterable]"
   ]
  },
  {
   "cell_type": "code",
   "execution_count": 42,
   "metadata": {
    "ExecuteTime": {
     "end_time": "2020-11-02T03:43:11.199606Z",
     "start_time": "2020-11-02T03:43:11.191627Z"
    }
   },
   "outputs": [
    {
     "data": {
      "text/plain": [
       "[['THE', 3, <function __main__.<listcomp>.<lambda>(w)>],\n",
       " ['QUICK', 5, <function __main__.<listcomp>.<lambda>(w)>],\n",
       " ['BROWN', 5, <function __main__.<listcomp>.<lambda>(w)>],\n",
       " ['FOX', 3, <function __main__.<listcomp>.<lambda>(w)>],\n",
       " ['JUMPS', 5, <function __main__.<listcomp>.<lambda>(w)>],\n",
       " ['OVER', 4, <function __main__.<listcomp>.<lambda>(w)>],\n",
       " ['THE', 3, <function __main__.<listcomp>.<lambda>(w)>],\n",
       " ['LAZY', 4, <function __main__.<listcomp>.<lambda>(w)>],\n",
       " ['DOG', 3, <function __main__.<listcomp>.<lambda>(w)>]]"
      ]
     },
     "execution_count": 42,
     "metadata": {},
     "output_type": "execute_result"
    }
   ],
   "source": [
    "words = \"the quick brown fox jumps over the lazy dog\".split()\n",
    "[[w.upper(),len(w), lambda w: len(w)**2] for w in words]"
   ]
  },
  {
   "cell_type": "code",
   "execution_count": 60,
   "metadata": {
    "ExecuteTime": {
     "end_time": "2020-11-02T04:05:27.991816Z",
     "start_time": "2020-11-02T04:05:27.986829Z"
    }
   },
   "outputs": [
    {
     "data": {
      "text/plain": [
       "['e', 'i']"
      ]
     },
     "execution_count": 60,
     "metadata": {},
     "output_type": "execute_result"
    }
   ],
   "source": [
    "s='digipen'\n",
    "vowel = ['a','e','i','o','u']\n",
    "found = []\n",
    "[letter for letter in \"aeiou\" if letter in s]"
   ]
  },
  {
   "cell_type": "code",
   "execution_count": null,
   "metadata": {},
   "outputs": [],
   "source": []
  },
  {
   "cell_type": "code",
   "execution_count": null,
   "metadata": {},
   "outputs": [],
   "source": []
  },
  {
   "cell_type": "code",
   "execution_count": null,
   "metadata": {},
   "outputs": [],
   "source": []
  },
  {
   "cell_type": "code",
   "execution_count": null,
   "metadata": {},
   "outputs": [],
   "source": []
  },
  {
   "cell_type": "code",
   "execution_count": null,
   "metadata": {},
   "outputs": [],
   "source": []
  },
  {
   "cell_type": "markdown",
   "metadata": {},
   "source": [
    "**Q. Write a program to display unique vowels present in the given word?**"
   ]
  },
  {
   "cell_type": "code",
   "execution_count": null,
   "metadata": {},
   "outputs": [],
   "source": []
  },
  {
   "cell_type": "markdown",
   "metadata": {},
   "source": [
    "## Tuple Comprehension:"
   ]
  },
  {
   "cell_type": "markdown",
   "metadata": {},
   "source": [
    "Tuple Comprehension is not supported by Python.  "
   ]
  },
  {
   "cell_type": "code",
   "execution_count": null,
   "metadata": {},
   "outputs": [],
   "source": [
    "t= ( x**2 for x in range(1,6))\n",
    "print(t)"
   ]
  },
  {
   "cell_type": "markdown",
   "metadata": {},
   "source": [
    "**Here we are not getting tuple object and we are getting generator object.**"
   ]
  },
  {
   "cell_type": "code",
   "execution_count": 45,
   "metadata": {
    "ExecuteTime": {
     "end_time": "2020-11-02T03:52:47.612780Z",
     "start_time": "2020-11-02T03:52:47.607794Z"
    }
   },
   "outputs": [
    {
     "name": "stdout",
     "output_type": "stream",
     "text": [
      "<class 'generator'>\n",
      "1\n",
      "4\n",
      "9\n",
      "16\n",
      "25\n"
     ]
    }
   ],
   "source": [
    "t= (x**2 for x in range(1,6))\n",
    "print(type(t))\n",
    "for x in t:\n",
    "    print(x)"
   ]
  },
  {
   "cell_type": "markdown",
   "metadata": {},
   "source": [
    "**Q. Write a program to take a tuple of numbers from the keyboard and print its sum and average?**"
   ]
  },
  {
   "cell_type": "code",
   "execution_count": null,
   "metadata": {},
   "outputs": [],
   "source": [
    "tup = (1,2,3,4,5)"
   ]
  },
  {
   "cell_type": "markdown",
   "metadata": {},
   "source": [
    "### Excersices:"
   ]
  },
  {
   "cell_type": "markdown",
   "metadata": {},
   "source": [
    "**Q. Write a Python program to sum all the items in a list.**"
   ]
  },
  {
   "cell_type": "code",
   "execution_count": 50,
   "metadata": {
    "ExecuteTime": {
     "end_time": "2020-11-02T03:55:13.808701Z",
     "start_time": "2020-11-02T03:55:13.802717Z"
    }
   },
   "outputs": [
    {
     "data": {
      "text/plain": [
       "10"
      ]
     },
     "execution_count": 50,
     "metadata": {},
     "output_type": "execute_result"
    }
   ],
   "source": [
    "lst = [1,2,3,4]\n",
    "sum1 = 0\n",
    "for i in lst:\n",
    "    sum1 = sum1 + i\n",
    "\n",
    "sum1"
   ]
  },
  {
   "cell_type": "markdown",
   "metadata": {},
   "source": [
    "**Q. Write a Python program to get the smallest number from a list.**"
   ]
  },
  {
   "cell_type": "code",
   "execution_count": null,
   "metadata": {},
   "outputs": [],
   "source": []
  },
  {
   "cell_type": "markdown",
   "metadata": {},
   "source": [
    "**Q. Write a Python program to create a tuple with different data types.**"
   ]
  },
  {
   "cell_type": "code",
   "execution_count": null,
   "metadata": {},
   "outputs": [],
   "source": []
  },
  {
   "cell_type": "markdown",
   "metadata": {},
   "source": [
    "**Q. Write a Python program to get the 4th element and 4th element from last of a tuple.**"
   ]
  },
  {
   "cell_type": "code",
   "execution_count": 46,
   "metadata": {
    "ExecuteTime": {
     "end_time": "2020-11-02T03:54:27.354011Z",
     "start_time": "2020-11-02T03:54:27.349022Z"
    }
   },
   "outputs": [
    {
     "name": "stdout",
     "output_type": "stream",
     "text": [
      "('w', 3, 'r', 'e', 's', 'o', 'u', 'r', 'c', 'e')\n",
      "e\n",
      "u\n"
     ]
    }
   ],
   "source": [
    "#Get an item of the tuple\n",
    "tuplex = (\"w\", 3, \"r\", \"e\", \"s\", \"o\", \"u\", \"r\", \"c\", \"e\")\n",
    "print(tuplex)\n",
    "#Get item (4th element)of the tuple by index\n",
    "item = tuplex[3]\n",
    "print(item)\n",
    "#Get item (4th element from last)by index negative\n",
    "item1 = tuplex[-4]\n",
    "print(item1)"
   ]
  },
  {
   "cell_type": "markdown",
   "metadata": {},
   "source": [
    "## Summary"
   ]
  },
  {
   "cell_type": "markdown",
   "metadata": {},
   "source": [
    "- List and Tuple are exactly same except small difference: List objects are mutable where as Tuple objects are immutable.\n",
    "- In both cases insertion order is preserved, duplicate objects are allowed, heterogenous objects are allowed, index and slicing are supported.\n",
    "- Supporting in-built functions for list and tuple\n",
    "- Membership operators\n",
    "- Mathematical Operators\n",
    "- List/Tuple comprehension"
   ]
  }
 ],
 "metadata": {
  "kernelspec": {
   "display_name": "Python 3",
   "language": "python",
   "name": "python3"
  },
  "language_info": {
   "codemirror_mode": {
    "name": "ipython",
    "version": 3
   },
   "file_extension": ".py",
   "mimetype": "text/x-python",
   "name": "python",
   "nbconvert_exporter": "python",
   "pygments_lexer": "ipython3",
   "version": "3.8.3"
  }
 },
 "nbformat": 4,
 "nbformat_minor": 2
}
