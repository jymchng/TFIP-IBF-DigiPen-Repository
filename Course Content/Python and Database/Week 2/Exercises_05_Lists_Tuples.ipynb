{
 "cells": [
  {
   "cell_type": "markdown",
   "metadata": {},
   "source": [
    "# Python Lists & Tuples Exercise"
   ]
  },
  {
   "cell_type": "markdown",
   "metadata": {},
   "source": [
    "# Complete the code cells\n",
    "---\n",
    "(DONE) **Q1**) Write a line of code that prints this output `('here', 100, 9)` using **negative indexing** from the given tuple. "
   ]
  },
  {
   "cell_type": "code",
   "execution_count": null,
   "metadata": {
    "ExecuteTime": {
     "end_time": "2020-11-02T05:34:59.473902Z",
     "start_time": "2020-11-02T05:34:59.469875Z"
    }
   },
   "outputs": [],
   "source": [
    "tuple_var = (\"hello\", 5, 6, \"bar\", \"here\", 100, 9)\n",
    "\n",
    "print(tuple_var[-3::])"
   ]
  },
  {
   "cell_type": "markdown",
   "metadata": {},
   "source": [
    "(DONE) **Q2)** Write a line of code to put the number of elements in the `list_var` into `num_elem`. Then print the value in `num_elem`."
   ]
  },
  {
   "cell_type": "code",
   "execution_count": 73,
   "metadata": {
    "ExecuteTime": {
     "end_time": "2020-11-02T07:15:47.756636Z",
     "start_time": "2020-11-02T07:15:47.750652Z"
    }
   },
   "outputs": [
    {
     "name": "stdout",
     "output_type": "stream",
     "text": [
      "11\n"
     ]
    }
   ],
   "source": [
    "list_var = [5, 8, 3, \"hello\", \"foo\", 8, \"bar\", 2, \"the\", [\"brown\", \"fox\"], 8]\n",
    "\n",
    "num_elem = len(list_var)\n",
    "print(num_elem)"
   ]
  },
  {
   "cell_type": "markdown",
   "metadata": {},
   "source": [
    "(DONE) **Q3)** Write a line of code that produces this output from the given lists.    \n",
    "`[\"The\", \"brown\", \"fox\", \"is\", \"hiding\", \"behind\", \"the\", \"fence\"]`"
   ]
  },
  {
   "cell_type": "code",
   "execution_count": 7,
   "metadata": {
    "ExecuteTime": {
     "end_time": "2020-11-02T05:55:52.960648Z",
     "start_time": "2020-11-02T05:55:52.955662Z"
    }
   },
   "outputs": [
    {
     "name": "stdout",
     "output_type": "stream",
     "text": [
      "['The', 'brown', 'fox', 'is', 'hiding', 'behind', 'the', 'fence']\n"
     ]
    }
   ],
   "source": [
    "list_var1 = [\"Hello\", \"python\", 5, 8, [\"The\", \"brown\", \"fox\", \"is\", \"hiding\"], 99]\n",
    "list_var2 = [\"behind\", \"the\", \"fence\"]\n",
    "\n",
    "lst = list_var1[4]+list_var2\n",
    "print(lst)"
   ]
  },
  {
   "cell_type": "markdown",
   "metadata": {},
   "source": [
    "(DONE) <b>Q4)</b> Given the list in the code cell below, use <b>index slicing</b> to get rid of the second <code>4</code> so that there is only 2 <code>4</code>s left in the list.\n",
    "Save the result in a variable called <code>new_lst</code>"
   ]
  },
  {
   "cell_type": "code",
   "execution_count": 6,
   "metadata": {
    "ExecuteTime": {
     "end_time": "2020-11-02T05:55:30.971471Z",
     "start_time": "2020-11-02T05:55:30.965487Z"
    }
   },
   "outputs": [
    {
     "name": "stdout",
     "output_type": "stream",
     "text": [
      "[5, 8, 9, 2.555, 4, 8, 0.25, 7, 64, 10, 75.22, 96.15, 85, 4]\n"
     ]
    }
   ],
   "source": [
    "lst = [5, 8, 9, 2.555, 4, 8, 0.25, 4, 7, 64, 10, 75.22, 96.15, 85, 4]\n",
    "\n",
    "new_lst = lst[0:7]+lst[8::]\n",
    "print(new_lst)"
   ]
  },
  {
   "cell_type": "markdown",
   "metadata": {},
   "source": [
    "(DONE) **Q5)** Given the following lists, add the contents of the `sub_list` to the main list between the elements `5000` and `6000`.<br>\n",
    "**Hint:** The built-in `enumerate()` function may be useful.\n",
    "\n",
    "**Output Example**\n",
    "<pre>\n",
    "[10, 20, [300, 400, [5000, 7000, 8000, 6000], 500], 30, 40]\n",
    "</pre>"
   ]
  },
  {
   "cell_type": "code",
   "execution_count": 35,
   "metadata": {
    "ExecuteTime": {
     "end_time": "2020-11-02T06:08:40.286078Z",
     "start_time": "2020-11-02T06:08:40.282089Z"
    }
   },
   "outputs": [
    {
     "name": "stdout",
     "output_type": "stream",
     "text": [
      "[10, 20, [300, 400, [5000, 7000, 8000, 6000], 500], 30, 40]\n"
     ]
    }
   ],
   "source": [
    "lst = [10, 20, [300, 400, [5000, 6000], 500], 30, 40]\n",
    "sub_list = [7000, 8000]\n",
    "\n",
    "[lst[2][2].insert(x+1,y) for x,y in enumerate(sub_list)]\n",
    "print(lst)"
   ]
  },
  {
   "cell_type": "markdown",
   "metadata": {},
   "source": [
    "## Write codes based on the questions\n",
    "---\n",
    "(DONE) **Q1)** Write a function called `remove_duplicates()` to remove all duplicate elements from a given list. This function accepts a list of numbers and return a cleaned list of numbers."
   ]
  },
  {
   "cell_type": "code",
   "execution_count": 40,
   "metadata": {
    "ExecuteTime": {
     "end_time": "2020-11-02T06:16:38.009718Z",
     "start_time": "2020-11-02T06:16:38.004720Z"
    }
   },
   "outputs": [
    {
     "data": {
      "text/plain": [
       "[11, 57, 92, 18, 95, 19, 85, 44, 55]"
      ]
     },
     "execution_count": 40,
     "metadata": {},
     "output_type": "execute_result"
    }
   ],
   "source": [
    "list_nums = [11,57,92,18,95,19,95,85,44,11,55,85,57,11,95]\n",
    "list_nums.count(11)\n",
    "\n",
    "def remove_deplicates(lst):\n",
    "    r = []\n",
    "    [r.append(x) for x in lst if x not in r]\n",
    "    return r\n",
    "\n",
    "\n",
    "remove_deplicates(list_nums)"
   ]
  },
  {
   "cell_type": "markdown",
   "metadata": {},
   "source": [
    "(DONE) **Q2)** Write a program that asks a user for positive integers until the termination number of `-1` is given.     \n",
    "Compute and show the count, maximum, minimum and average of the entered positive integers."
   ]
  },
  {
   "cell_type": "code",
   "execution_count": 7,
   "metadata": {
    "ExecuteTime": {
     "end_time": "2020-11-02T06:22:40.985734Z",
     "start_time": "2020-11-02T06:21:43.400773Z"
    }
   },
   "outputs": [
    {
     "name": "stdout",
     "output_type": "stream",
     "text": [
      "Enter a positive integer: 5\n",
      "Enter a positive integer: 6\n",
      "Enter a positive integer: 7\n",
      "Enter a positive integer: 8\n",
      "Enter a positive integer: -1\n",
      "\n",
      "Count is 4\n",
      "Sum is 26\n",
      "Max is 8\n",
      "Min is 5\n",
      "Average is 6.5\n",
      "Enter a positive integer: 7\n",
      "Enter a positive integer: 8\n",
      "Enter a positive integer: 9\n",
      "Enter a positive integer: 10\n",
      "Enter a positive integer: -1\n",
      "\n",
      "Count is 4\n",
      "Sum is 34\n",
      "Max is 10\n",
      "Min is 7\n",
      "Average is 8.5\n"
     ]
    },
    {
     "ename": "KeyboardInterrupt",
     "evalue": "Interrupted by user",
     "output_type": "error",
     "traceback": [
      "\u001b[1;31m---------------------------------------------------------------------------\u001b[0m",
      "\u001b[1;31mKeyboardInterrupt\u001b[0m                         Traceback (most recent call last)",
      "\u001b[1;32m<ipython-input-7-c719c961446f>\u001b[0m in \u001b[0;36m<module>\u001b[1;34m\u001b[0m\n\u001b[0;32m      1\u001b[0m \u001b[0mlst\u001b[0m \u001b[1;33m=\u001b[0m \u001b[1;33m[\u001b[0m\u001b[1;33m]\u001b[0m\u001b[1;33m\u001b[0m\u001b[1;33m\u001b[0m\u001b[0m\n\u001b[0;32m      2\u001b[0m \u001b[1;32mwhile\u001b[0m \u001b[1;32mTrue\u001b[0m\u001b[1;33m:\u001b[0m\u001b[1;33m\u001b[0m\u001b[1;33m\u001b[0m\u001b[0m\n\u001b[1;32m----> 3\u001b[1;33m     \u001b[0mnum\u001b[0m \u001b[1;33m=\u001b[0m \u001b[0mint\u001b[0m\u001b[1;33m(\u001b[0m\u001b[0minput\u001b[0m\u001b[1;33m(\u001b[0m\u001b[1;34m\"Enter a positive integer: \"\u001b[0m\u001b[1;33m)\u001b[0m\u001b[1;33m)\u001b[0m\u001b[1;33m\u001b[0m\u001b[1;33m\u001b[0m\u001b[0m\n\u001b[0m\u001b[0;32m      4\u001b[0m     \u001b[1;32mif\u001b[0m \u001b[1;32mnot\u001b[0m \u001b[1;33m(\u001b[0m\u001b[0mnum\u001b[0m \u001b[1;33m==\u001b[0m \u001b[1;33m-\u001b[0m\u001b[1;36m1\u001b[0m\u001b[1;33m)\u001b[0m\u001b[1;33m:\u001b[0m\u001b[1;33m\u001b[0m\u001b[1;33m\u001b[0m\u001b[0m\n\u001b[0;32m      5\u001b[0m         \u001b[0mlst\u001b[0m\u001b[1;33m.\u001b[0m\u001b[0mappend\u001b[0m\u001b[1;33m(\u001b[0m\u001b[0mnum\u001b[0m\u001b[1;33m)\u001b[0m\u001b[1;33m\u001b[0m\u001b[1;33m\u001b[0m\u001b[0m\n",
      "\u001b[1;32m~\\anaconda3\\lib\\site-packages\\ipykernel\\kernelbase.py\u001b[0m in \u001b[0;36mraw_input\u001b[1;34m(self, prompt)\u001b[0m\n\u001b[0;32m    858\u001b[0m                 \u001b[1;34m\"raw_input was called, but this frontend does not support input requests.\"\u001b[0m\u001b[1;33m\u001b[0m\u001b[1;33m\u001b[0m\u001b[0m\n\u001b[0;32m    859\u001b[0m             )\n\u001b[1;32m--> 860\u001b[1;33m         return self._input_request(str(prompt),\n\u001b[0m\u001b[0;32m    861\u001b[0m             \u001b[0mself\u001b[0m\u001b[1;33m.\u001b[0m\u001b[0m_parent_ident\u001b[0m\u001b[1;33m,\u001b[0m\u001b[1;33m\u001b[0m\u001b[1;33m\u001b[0m\u001b[0m\n\u001b[0;32m    862\u001b[0m             \u001b[0mself\u001b[0m\u001b[1;33m.\u001b[0m\u001b[0m_parent_header\u001b[0m\u001b[1;33m,\u001b[0m\u001b[1;33m\u001b[0m\u001b[1;33m\u001b[0m\u001b[0m\n",
      "\u001b[1;32m~\\anaconda3\\lib\\site-packages\\ipykernel\\kernelbase.py\u001b[0m in \u001b[0;36m_input_request\u001b[1;34m(self, prompt, ident, parent, password)\u001b[0m\n\u001b[0;32m    902\u001b[0m             \u001b[1;32mexcept\u001b[0m \u001b[0mKeyboardInterrupt\u001b[0m\u001b[1;33m:\u001b[0m\u001b[1;33m\u001b[0m\u001b[1;33m\u001b[0m\u001b[0m\n\u001b[0;32m    903\u001b[0m                 \u001b[1;31m# re-raise KeyboardInterrupt, to truncate traceback\u001b[0m\u001b[1;33m\u001b[0m\u001b[1;33m\u001b[0m\u001b[1;33m\u001b[0m\u001b[0m\n\u001b[1;32m--> 904\u001b[1;33m                 \u001b[1;32mraise\u001b[0m \u001b[0mKeyboardInterrupt\u001b[0m\u001b[1;33m(\u001b[0m\u001b[1;34m\"Interrupted by user\"\u001b[0m\u001b[1;33m)\u001b[0m \u001b[1;32mfrom\u001b[0m \u001b[1;32mNone\u001b[0m\u001b[1;33m\u001b[0m\u001b[1;33m\u001b[0m\u001b[0m\n\u001b[0m\u001b[0;32m    905\u001b[0m             \u001b[1;32mexcept\u001b[0m \u001b[0mException\u001b[0m \u001b[1;32mas\u001b[0m \u001b[0me\u001b[0m\u001b[1;33m:\u001b[0m\u001b[1;33m\u001b[0m\u001b[1;33m\u001b[0m\u001b[0m\n\u001b[0;32m    906\u001b[0m                 \u001b[0mself\u001b[0m\u001b[1;33m.\u001b[0m\u001b[0mlog\u001b[0m\u001b[1;33m.\u001b[0m\u001b[0mwarning\u001b[0m\u001b[1;33m(\u001b[0m\u001b[1;34m\"Invalid Message:\"\u001b[0m\u001b[1;33m,\u001b[0m \u001b[0mexc_info\u001b[0m\u001b[1;33m=\u001b[0m\u001b[1;32mTrue\u001b[0m\u001b[1;33m)\u001b[0m\u001b[1;33m\u001b[0m\u001b[1;33m\u001b[0m\u001b[0m\n",
      "\u001b[1;31mKeyboardInterrupt\u001b[0m: Interrupted by user"
     ]
    }
   ],
   "source": [
    "lst = []\n",
    "while True:\n",
    "    num = int(input(\"Enter a positive integer: \"))\n",
    "    if not (num == -1):\n",
    "        lst.append(num)\n",
    "    else:\n",
    "        print()\n",
    "        print(\"Count is\", len(lst))\n",
    "        print(\"Sum is\", sum(lst))\n",
    "        print(\"Max is\", max(lst))\n",
    "        print(\"Min is\", min(lst))\n",
    "        print(\"Average is\", 0.5*(max(lst)+min(lst)))\n",
    "        lst = []"
   ]
  },
  {
   "cell_type": "markdown",
   "metadata": {},
   "source": [
    "(DONE) #### **Q3)** Write a program that finds the words from a list of words that are longer than the user requested word length.    \n",
    "Implement the program using a normal `for` loop and using list comprehension.\n",
    "\n",
    "**Program Output Example**\n",
    "<pre>\n",
    "Enter a word length to search for:  9\n",
    "['beautiful', 'ecstasies']\n",
    "</pre>"
   ]
  },
  {
   "cell_type": "code",
   "execution_count": 32,
   "metadata": {
    "ExecuteTime": {
     "end_time": "2020-11-02T06:35:57.055747Z",
     "start_time": "2020-11-02T06:35:56.236935Z"
    }
   },
   "outputs": [
    {
     "name": "stdout",
     "output_type": "stream",
     "text": [
      "Enter a word length to search for: 3\n"
     ]
    },
    {
     "data": {
      "text/plain": [
       "['The',\n",
       " 'most',\n",
       " 'beautiful',\n",
       " 'rose',\n",
       " 'one',\n",
       " 'hardly',\n",
       " 'more',\n",
       " 'than',\n",
       " 'bud',\n",
       " 'wherein',\n",
       " 'the',\n",
       " 'pangs',\n",
       " 'and',\n",
       " 'ecstasies',\n",
       " 'desire',\n",
       " 'are',\n",
       " 'working',\n",
       " 'for',\n",
       " 'larger',\n",
       " 'and',\n",
       " 'finer',\n",
       " 'growth']"
      ]
     },
     "execution_count": 32,
     "metadata": {},
     "output_type": "execute_result"
    }
   ],
   "source": [
    "word_list = \"The most beautiful rose is one hardly more than a bud wherein the pangs and ecstasies of desire are working for a larger and finer growth\"\n",
    "\n",
    "num = int(input(\"Enter a word length to search for: \"))\n",
    "[word for word in word_list.split() if len(word)>=num]"
   ]
  },
  {
   "cell_type": "markdown",
   "metadata": {},
   "source": [
    "(DONE) **Q4)** Given the list of numbers, remove all negative numbers by equating them to `0` and leaving the positive numbers unchanged.    \n",
    "Implement the program using a normal `for` loop and using list comprehension."
   ]
  },
  {
   "cell_type": "code",
   "execution_count": 16,
   "metadata": {
    "ExecuteTime": {
     "end_time": "2020-11-02T06:29:36.958229Z",
     "start_time": "2020-11-02T06:29:36.952240Z"
    }
   },
   "outputs": [
    {
     "data": {
      "text/plain": [
       "[95, 0, 412, 8, 121, 0, 0, 0, 45.02, 60.47, 0, 0, 9.36, 0]"
      ]
     },
     "execution_count": 16,
     "metadata": {},
     "output_type": "execute_result"
    }
   ],
   "source": [
    "nums_lst = [95, -96, 412, 8, 121, -895, -50.36, -969.7, 45.02, 60.47, -96, -7.02, 9.36, 0]\n",
    "\n",
    "[x if x>0 else 0 for x in nums_lst]\n",
    "\n",
    "# You can put 'if' first in the list comprehension before the 'for'."
   ]
  },
  {
   "cell_type": "markdown",
   "metadata": {},
   "source": [
    "(DONE) **Q5)** Write a function called `first_second()` that accepts a list of numbers. The function is to extract the first and second largest numbers from the randomly generated list of numbers. **DO NOT** remove the duplicates. "
   ]
  },
  {
   "cell_type": "code",
   "execution_count": 46,
   "metadata": {
    "ExecuteTime": {
     "end_time": "2020-11-02T06:48:37.189356Z",
     "start_time": "2020-11-02T06:48:37.183373Z"
    }
   },
   "outputs": [
    {
     "name": "stdout",
     "output_type": "stream",
     "text": [
      "[193, 185, 3, 183, 4, 85, 33, 169, 20, 182, 154, 17, 148, 124, 156, 43, 57, 112, 40, 111, 95, 140, 17, 127, 157, 102, 155, 43, 132, 116, 106, 18, 131, 10, 190, 183, 82, 135, 185, 199, 195, 49, 139, 22, 168, 123, 133, 137, 160, 194, 82, 31, 103, 199, 166, 97, 47, 74, 103, 3, 9, 50, 171, 144, 26, 95, 3, 68, 157, 63, 89, 99, 189, 123, 154, 2, 142, 192, 166, 35, 7, 127, 128, 165, 68, 9, 150, 17, 97, 85, 41, 71, 72, 78, 131, 34, 101, 95, 3, 72, 100]\n"
     ]
    }
   ],
   "source": [
    "# to generate the list of random numbers\n",
    "import random \n",
    "\n",
    "list_of_nums = [random.randint(0,200) for _ in range(101)]\n",
    "print(list_of_nums)"
   ]
  },
  {
   "cell_type": "code",
   "execution_count": 47,
   "metadata": {
    "ExecuteTime": {
     "end_time": "2020-11-02T06:48:38.130854Z",
     "start_time": "2020-11-02T06:48:38.125852Z"
    }
   },
   "outputs": [
    {
     "data": {
      "text/plain": [
       "[199, 195]"
      ]
     },
     "execution_count": 47,
     "metadata": {},
     "output_type": "execute_result"
    }
   ],
   "source": [
    "def first_second(lst):\n",
    "    lst = sorted(lst, reverse = True)\n",
    "    for i in range(len(lst)):\n",
    "        if lst[0]!=lst[i+1]:\n",
    "            return [lst[0],lst[i+1]]\n",
    "\n",
    "first_second(list_of_nums)"
   ]
  },
  {
   "cell_type": "markdown",
   "metadata": {},
   "source": [
    "(DONE) **Q6)** Write a function called `square_grid()` that accepts 2 integer numbers (`start` & `end`) and returns a list of lists in a format of either a $ 2x2 $ or $ 3x3 $ grid. The purpose of this function is to divide as many whole numbers within the given range into a $ m x m $ square grid. If there are not enough numbers, return an empty list. If there are excess numbers, discard them.\n",
    "\n",
    "Write another function called `pretty_print_lists()` to print the contents returned from the function `square_grid()` in a nice squarish grid.\n",
    "\n",
    "The program is to run continuously, requesting the user to input 2 integer numbers. The program will terminate when the letter `q` (case-insensitive) is entered for the first user input. \n",
    "\n",
    "**Program Output Example**\n",
    "<pre>\n",
    "Enter start number: 8\n",
    "Enter end number: 20\n",
    "8 9 10 \n",
    "11 12 13 \n",
    "14 15 16 \n",
    "\n",
    "Enter start number: 45\n",
    "Enter end number: 50\n",
    "45 46 \n",
    "47 48 \n",
    "\n",
    "Enter start number: q\n",
    "Bye Bye\n",
    "</pre>"
   ]
  },
  {
   "cell_type": "code",
   "execution_count": 72,
   "metadata": {
    "ExecuteTime": {
     "end_time": "2020-11-02T07:14:36.314369Z",
     "start_time": "2020-11-02T07:14:33.939721Z"
    }
   },
   "outputs": [
    {
     "name": "stdout",
     "output_type": "stream",
     "text": [
      "Enter start number: 1\n",
      "Enter end number: 100\n",
      "[[1, 2, 3, 4, 5, 6, 7, 8, 9], [10, 11, 12, 13, 14, 15, 16, 17, 18], [19, 20, 21, 22, 23, 24, 25, 26, 27], [28, 29, 30, 31, 32, 33, 34, 35, 36], [37, 38, 39, 40, 41, 42, 43, 44, 45], [46, 47, 48, 49, 50, 51, 52, 53, 54], [55, 56, 57, 58, 59, 60, 61, 62, 63], [64, 65, 66, 67, 68, 69, 70, 71, 72], [73, 74, 75, 76, 77, 78, 79, 80, 81]]\n",
      "\n",
      "1 2 3 4 5 6 7 8 9 \n",
      "10 11 12 13 14 15 16 17 18 \n",
      "19 20 21 22 23 24 25 26 27 \n",
      "28 29 30 31 32 33 34 35 36 \n",
      "37 38 39 40 41 42 43 44 45 \n",
      "46 47 48 49 50 51 52 53 54 \n",
      "55 56 57 58 59 60 61 62 63 \n",
      "64 65 66 67 68 69 70 71 72 \n",
      "73 74 75 76 77 78 79 80 81 \n"
     ]
    }
   ],
   "source": [
    "num1 = int(input(\"Enter start number: \"))\n",
    "if num1 == 'q': print(\"Bye Bye\")\n",
    "num2 = int(input(\"Enter end number: \"))\n",
    "\n",
    "\n",
    "def square_grid(num1, num2):\n",
    "    result = []\n",
    "    num3 = int((num2-num1)**0.5)\n",
    "    if num3 ==1: return [num1]\n",
    "    for i in range(num3):\n",
    "        lst = []\n",
    "        for j in range(num3):\n",
    "              lst.append(num1 + (i*num3) + j)\n",
    "        result.append(lst)\n",
    "    return result\n",
    "\n",
    "print(square_grid(num1, num2))\n",
    "print()\n",
    "def pretty_print_lists(lst):\n",
    "    for i in lst:\n",
    "        for j in i:\n",
    "            print(j, end=\" \")\n",
    "        print()\n",
    "pretty_print_lists(square_grid(num1, num2))"
   ]
  },
  {
   "cell_type": "code",
   "execution_count": null,
   "metadata": {},
   "outputs": [],
   "source": []
  }
 ],
 "metadata": {
  "kernelspec": {
   "display_name": "Python 3",
   "language": "python",
   "name": "python3"
  },
  "language_info": {
   "codemirror_mode": {
    "name": "ipython",
    "version": 3
   },
   "file_extension": ".py",
   "mimetype": "text/x-python",
   "name": "python",
   "nbconvert_exporter": "python",
   "pygments_lexer": "ipython3",
   "version": "3.8.3"
  }
 },
 "nbformat": 4,
 "nbformat_minor": 4
}
