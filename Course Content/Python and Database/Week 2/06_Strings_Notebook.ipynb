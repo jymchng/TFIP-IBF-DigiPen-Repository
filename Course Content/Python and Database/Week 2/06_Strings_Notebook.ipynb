{
 "cells": [
  {
   "attachments": {
    "list_indexes.png": {
     "image/png": "[encoded data removed]"
    }
   },
   "cell_type": "markdown",
   "metadata": {},
   "source": [
    "# Recap\n",
    "---\n",
    "\n",
    "## List & Tuples\n",
    "\n",
    "**Properties in general:**\n",
    "\n",
    "* Both are able to store different datatypes.\n",
    "* Both uses indexes to access elements.\n",
    "* Lists uses the square brackets `[]` & Tuples uses the rounded brackets `()`.\n",
    "* Lists are variable length (meaning that the length can change) & Tuples are fixed length (meaning once created, length cannot be changed).\n",
    "* Lists are mutable & Tuples are immutable.\n",
    "* Lists has more functionalities compared to Tuples.\n",
    "\n",
    "\n",
    "**Indexing**\n",
    "\n",
    "| ![list_indexes.png](attachment:list_indexes.png) |\n",
    "|:---:|\n",
    "| **Figure 1:** Reading indexes of Iterable Objects. |\n",
    "\n",
    "**Slicing properties:**\n",
    "\n",
    "* uses the square brackets `[]`.\n",
    "* done using the colon(`:`) operator.\n",
    "* 3 parts: start, end and step.\n",
    "* depending on placement of the numeral, it determines the slice direction and splitting distance.\n",
    "\n",
    "## Exercise"
   ]
  },
  {
   "cell_type": "markdown",
   "metadata": {
    "jupyter": {
     "source_hidden": true
    }
   },
   "source": [
    "What are the output of the codes in the table, given the lists below:\n",
    "```python\n",
    "a = [5,6,9,1,8,61,91,33,7,0,56,74,30,36,15,14,4,3]  # length is 18\n",
    "b = ('boy', 'girl', 'dog', 'cat', 'horse', 'pig', 'chicken', 'goat', 'lamb', 'duck')\n",
    "```\n",
    "| No. | Code | Output |\n",
    "|:---:|:---|:---|\n",
    "| 1. | `print(a[-2])` | 4 |\n",
    "| 2. | `b[5] = 'elephant'` | Error: because b is a tuple!|\n",
    "| 3. | `a[-5:]` |[36,15,14,4,3] |\n",
    "| 4. | `b[6] + b[-3]` | 'chickengoat' |\n",
    "| 5. | `91 in a` | True |\n",
    "| 6. | `b[4] * 2` | 'horsehorse' |\n",
    "| 7. | `sorted(a[:5])` |[1,5,6,8,9]  |\n",
    "| 8. | `b[3] * a[-1]` | 'catcatcat' |\n",
    "| 9. | `[b[idx] for idx in range(2,10,3)]` |['dog','pig','lamb']  |\n",
    "| 10. | `del a[2::2]; print(a)` |[5,6,1,61,33,0,74,36,14,3]  |"
   ]
  },
  {
   "cell_type": "markdown",
   "metadata": {},
   "source": [
    "---\n",
    "# Strings\n",
    "\n",
    "They are the text that you see in a physical and digital media. It can range from human readable to machine readable forms and their main purpose is to convey information to the readers.\n",
    "\n",
    "**Problem Statement:** How do we construct and utilize Strings in Python?\n",
    "\n",
    "## Topics Covered\n",
    "\n",
    "* Strings Basics\n",
    "* Indexing & Slicing\n",
    "* Escape Characters\n",
    "* Special Operators\n",
    "* String Formatting\n",
    "* String Functions\n",
    "* String with Conditionals and Loops"
   ]
  },
  {
   "cell_type": "markdown",
   "metadata": {},
   "source": [
    "---\n",
    "### String Basics\n",
    "\n",
    "Strings are any number of characters that are enclosed within 1 or 3 double or single quotation marks and they are **immutable**. Python allows the opposing pair of quotation marks to be used within the string and treats it as literals.\n",
    "\n",
    "**Example 1: Strings in Python**"
   ]
  },
  {
   "cell_type": "code",
   "execution_count": null,
   "metadata": {},
   "outputs": [],
   "source": [
    "str_var_01 = \"a\"\n",
    "str_var_02 = 'a'\n",
    "str_var_03 = '''blue'''\n",
    "# different quotation marks are used here, the inner ones are treated as literals\n",
    "str_var_04 = \n",
    "\n",
    "print(str_var_04)\n",
    "\n",
    "\n",
    "multiline_str= '\\nThis is a ' + \\\n",
    "               'long string enclosed with ' + \\\n",
    "               'single quotation marks.'\n",
    "print(multiline_str)"
   ]
  },
  {
   "cell_type": "markdown",
   "metadata": {},
   "source": [
    "In addition, Python has several different types of strings each denoted differently:\n",
    "\n",
    "* the letter **f** preceeding a string means that it has formatting data in it.    \n",
    " *Example:* `f'There are {num} students in class today'`\n",
    "* the letter **r** preceeding a string means that it is a Raw String. This is used in Regular Expressions which we will study later.    \n",
    " *Example:* `r'[\\w.-]+@[a-z-]+(\\.[a-z]{2,3}){1,2}$'`\n",
    "* the letters **fr** preceeding a string means that it is a raw f-string.    \n",
    " *Example:* `fr'C:\\Users\\{user}\\Downloads'`\n",
    "* the letter **u** preceeding a string means that it is a Unicode string.    \n",
    " *Example:* `u'El Niño'`\n",
    "* the letter **b** preceeding a string means that it is a byte string.    \n",
    " *Example:* `b'r\\xc3\\xa9sum\\xc3\\xa9'`\n",
    " \n",
    "**Example 2: Different types of Strings in Python**"
   ]
  },
  {
   "cell_type": "code",
   "execution_count": null,
   "metadata": {
    "jupyter": {
     "source_hidden": true
    }
   },
   "outputs": [],
   "source": [
    "# string with formating\n",
    "num = 23\n",
    "str_var_01 = f'There are {num} students in class today'\n",
    "print(type(str_var_01))\n",
    "print(str_var_01)"
   ]
  },
  {
   "cell_type": "code",
   "execution_count": null,
   "metadata": {
    "jupyter": {
     "source_hidden": true
    }
   },
   "outputs": [],
   "source": [
    "# raw string\n",
    "str_var_01 = r'[\\w.-]+@[a-z-]+(\\.[a-z]{2,3}){1,2}$'\n",
    "print(type(str_var_01))\n",
    "print(str_var_01)"
   ]
  },
  {
   "cell_type": "code",
   "execution_count": null,
   "metadata": {
    "jupyter": {
     "source_hidden": true
    }
   },
   "outputs": [],
   "source": [
    "# raw formated string\n",
    "user = 'Tom'\n",
    "str_var_01 = fr'C:\\Users\\{user}\\Downloads'\n",
    "print(type(str_var_01))\n",
    "print(str_var_01)"
   ]
  },
  {
   "cell_type": "code",
   "execution_count": null,
   "metadata": {
    "jupyter": {
     "source_hidden": true
    }
   },
   "outputs": [],
   "source": [
    "# unicode string\n",
    "str_var_01 = u'El Niño'\n",
    "print(type(str_var_01))\n",
    "print(str_var_01)"
   ]
  },
  {
   "cell_type": "code",
   "execution_count": null,
   "metadata": {
    "jupyter": {
     "source_hidden": true
    }
   },
   "outputs": [],
   "source": [
    "# byte string\n",
    "str_var_01 = b'r\\xc3\\xa9sum\\xc3\\xa9'\n",
    "print(type(str_var_01))\n",
    "print(str_var_01.decode('utf-8'))"
   ]
  },
  {
   "attachments": {
    "utf.png": {
     "image/png": "[encoded data removed]"
    }
   },
   "cell_type": "markdown",
   "metadata": {},
   "source": [
    "On top of the different string types, we also need to know how Strings are being translated into sequences of bits for the computer to read and this is done using **Character Encoding**. There are 2 main types of character encoding: ASCII and Unicode.\n",
    "\n",
    "**ASCII**    \n",
    "ASCII is common one where it consist of the lower and upper case English letters, some punctuation, symbols, whitespace and some non-printable characters. It's most famous form is the [ASCII Table](http://www.asciitable.com/). However, the ASCII character encoding is too small accommodate all the world’s set of languages, dialects, symbols, and glyphs.\n",
    "\n",
    "**Unicode**\n",
    "Unicode is an standard where it consists of several different character encodings schemes such as UTF-8, UTF-16, UTF-32 and several others. The stardard itself acts a map of characters to code points (which are distinct positive integers) therefore it is able to contain virtually every character from every language including non-printable ones. The most common scheme is the `utf-8`. The different between the schemes are the memory used to store those characters.\n",
    "\n",
    "| ![utf.png](attachment:utf.png) |\n",
    "|:---:|\n",
    "| **Figure 2:** Differences between `utf-8`, `utf-16` and `utf-32` encoding schemes from [Javarevisited](https://javarevisited.blogspot.com/2015/02/difference-between-utf-8-utf-16-and-utf.html). |\n",
    "\n",
    "When working with unicode characters, we need to use the functions `encode()` or `decode()` in order to view it.\n",
    "\n",
    "**Example 3: Encoding and decoding unicode characters**"
   ]
  },
  {
   "cell_type": "code",
   "execution_count": null,
   "metadata": {
    "jupyter": {
     "source_hidden": true
    }
   },
   "outputs": [],
   "source": [
    "str_var_01 = u'El Niño'.encode('utf-8')\n",
    "print(\"Encode unicode characters for storage\")\n",
    "print(str_var_01)\n",
    "\n",
    "print()\n",
    "str_var_02 = b'El Ni\\xc3\\xb1o'.decode('utf-8')\n",
    "print(\"Decode unicode characters for reading\")\n",
    "print(str_var_02)"
   ]
  },
  {
   "cell_type": "markdown",
   "metadata": {},
   "source": [
    "The good thing is that Python 3 uses `utf-8` but care needs to be taken when converting between the different encoding schemes as the encoding codes differs between them.\n",
    "\n",
    "**Example 4: Difference between `utf-8` and `utf-16`**"
   ]
  },
  {
   "cell_type": "code",
   "execution_count": null,
   "metadata": {
    "jupyter": {
     "source_hidden": true
    }
   },
   "outputs": [],
   "source": [
    "letters = \"αβγδ\"\n",
    "rawdata = letters.encode(\"utf-8\")\n",
    "\n",
    "print('utf-8 encoding and decoding -------------')\n",
    "print(rawdata.decode(\"utf-8\"))\n",
    "\n",
    "print('\\nutf-8 encoding but utf-16 decoding ------')\n",
    "print(rawdata.decode(\"utf-16\"))"
   ]
  },
  {
   "attachments": {
    "strings.png": {
     "image/png": "[encoded data removed]"
    }
   },
   "cell_type": "markdown",
   "metadata": {},
   "source": [
    "---\n",
    "### Indexing & Slicing\n",
    "\n",
    "From the previous day and the recap, we should have an understanding of indexing and slicing for `list`. Guess what? This concept also works in strings! The operators are also the same!\n",
    "\n",
    "| ![strings.png](attachment:strings.png) |\n",
    "|:---:|\n",
    "| **Figure 3:**  Strings indexing from [webucator](https://www.webucator.com/how-to/how-index-strings-python.cfm). |\n",
    "\n",
    "And slicing works exactly the same way as it does in lists. Slicing a string returns a new string that is a substring of the original string. In essence, Python treats the `string` object like a `list` without brackets but bear in mind a `string` is not a `list`.\n",
    "\n",
    "**Recall**    \n",
    "There is a `list` function call `extend()` that extends the content of a current `list` with the content of another `list` like so"
   ]
  },
  {
   "cell_type": "code",
   "execution_count": null,
   "metadata": {},
   "outputs": [],
   "source": [
    "lst_01 = ['a', 'b', 'c']\n",
    "lst_02 = [5, 8, 9]\n",
    "\n",
    "lst_01.extend(lst_02)\n",
    "print(lst_01)"
   ]
  },
  {
   "cell_type": "markdown",
   "metadata": {},
   "source": [
    "What do you think would happen if instead of using 2nd `list`, we use a `string` object?"
   ]
  },
  {
   "cell_type": "code",
   "execution_count": null,
   "metadata": {},
   "outputs": [],
   "source": [
    "lst_02 = [5, 8, 9]\n"
   ]
  },
  {
   "cell_type": "markdown",
   "metadata": {},
   "source": [
    "### Exercise\n",
    "Given the following text string, what are the output?\n",
    "\n",
    "```python\n",
    "str_var = 'Peter Piper picked a pack of pickled peppers'\n",
    "          '01234567890123456789012345678901234567890123'\n",
    "          '          1         2         3         4   '\n",
    "```\n",
    "\n",
    "| Code | Output |\n",
    "|:---|:---|\n",
    "| `str_var[12:18]` | 'picked' |\n",
    "| `str_var[0:20:3]` | 'PePepk ', take every third letter |\n",
    "| `str_var[50]` |Error: index out of range  |\n",
    "| `str_var[::-1]` | string printed in reverse |\n",
    "| `str_var[6]` |'P'  |\n",
    "| `str_var[-7:]` | 'peppers' |\n",
    "| `str_var[-15:-8]` |'pickled'  |"
   ]
  },
  {
   "cell_type": "code",
   "execution_count": null,
   "metadata": {},
   "outputs": [],
   "source": [
    "str_var = 'Peter Piper picked a pack of pickled peppers'\n"
   ]
  },
  {
   "cell_type": "markdown",
   "metadata": {},
   "source": [
    "---\n",
    "### Escape Characters\n",
    "\n",
    "There are times where we need to display or use certain characters like when using backslashes (`\\`) for file paths or using the double quotation marks for displaying quoted text. The solution to this is to use an escape character which is denoted by the starting backslash character (`\\`). \n",
    "\n",
    "The table below shows some of the commonly used escape characters for Python 3.\n",
    "\n",
    "| Escape Sequence | Meaning |\n",
    "|:---:|:---|\n",
    "| `\\\\` | Backslash (`\\`) |\n",
    "| `\\'` | Single quote (`'`) |\n",
    "| `\\\"` | Double quote (`\"`) |\n",
    "| `\\b` | Backspace functionality |\n",
    "| `\\n` | ASCII Newline |\n",
    "| `\\t` | ASCII Horizontal Tab |\n",
    "| `\\r` | ASCII Carriage Return |\n",
    "\n",
    "**Example 5: Some escape characters usages**"
   ]
  },
  {
   "cell_type": "code",
   "execution_count": null,
   "metadata": {},
   "outputs": [],
   "source": []
  },
  {
   "cell_type": "markdown",
   "metadata": {},
   "source": [
    "---\n",
    "### Special Operators\n",
    "\n",
    "Remember the operators that we learnt in chapter 2 (PY-L02)? Some of those operators can be used on strings.\n",
    "\n",
    "| Operators | Description | Usage |\n",
    "|:---:|:---|:---|\n",
    "| `+` | Concatenate 2 strings. | `'Tom' + ' Jones'` |\n",
    "| `*` | Works like multiplication meaning that will multiply the string *n* number of times. | `'blah ' * 3` |\n",
    "| `[n]` | Square brackets for the **index** of character in a string. | `str_var[9]` |\n",
    "| `[m:n]` | Square brackets and colon for **slicing** of 1 or more characters from a string. | `str_var[9:13]` |\n",
    "| `in` | Membership, checks if a certain character/string is in a string. Returns a `True` or `False` | `'one' in 'Hello everyone'` |\n",
    "| `not in` | Opposite of `in`. Returns a `True` or `False` | `'world' not in 'Hello everyone'`|\n",
    "| `%` | Used for legacy which we will learn in the next section. | `%` |\n"
   ]
  },
  {
   "attachments": {
    "printing_plates.jpg": {
     "image/jpeg": "[encoded data removed]"
    },
    "printing_press.jpg": {
     "image/jpeg": "[encoded data removed]"
    }
   },
   "cell_type": "markdown",
   "metadata": {},
   "source": [
    "---\n",
    "### String formatting\n",
    "\n",
    "Think of string formatting as similar to working on those old newspaper printing press but much less hassle.\n",
    "\n",
    "| !![printing_press.jpg](attachment:printing_press.jpg) | ![printing_plates.jpg](attachment:printing_plates.jpg) |\n",
    "|:---:|:---:|\n",
    "| **Figure 4:** Printing press machine. | **Figure 5:** Printing plates. |\n",
    "\n",
    "In programming, string formatting uses placeholders to define the where to place substitutable data. This results in the messages (such as `input()` function prompts, error, warning, status messages, etc) displayed on screen for the users. String formatting is also an important part in saving of text to files.\n",
    "\n",
    "There are 3 forms of string formatting in Python 3.\n",
    "* using the `%` operator (legacy)\n",
    "* using the `str.format()` function\n",
    "* using `f-strings`\n",
    "\n",
    "<br>\n",
    "\n",
    "**String formatting using the `%` operator**     \n",
    "This is the legacy style of string formatting from the C language where the `%` operator is used. As per Python documentation, it is best **not to use** this form string formatting.\n",
    "> The formatting operations described here exhibit a variety of quirks that lead to a number of common errors (such as failing to display tuples and dictionaries correctly).\n",
    "\n",
    "Although this version of string formatting is discouraged, we do need to know the mapping of some legacy datatypes shown in the table below.\n",
    "\n",
    "| Conversion | Description | Usage |\n",
    "|:---:|:---|:---|\n",
    "| `d` or `i` | Signed integer decimal. | `%d` or `%i` |\n",
    "| `o` | Signed octal value. | `%o` |\n",
    "| `x` | Signed hexadecimal (lowercase). | `%x` |\n",
    "| `X` | Signed hexadecimal (uppercase). | `%X` |\n",
    "| `e` or `E` | Floating point exponential format (lowercase and uppercase). Default to 6 decimal places. | `%.2e` |\n",
    "| `f` or `F` | Floating point decimal format. Default to 6 decimal places. | `%.2f` |\n",
    "| `s` | String. | `%s` |\n",
    "\n",
    "**Example 6: Legacy string formatting**"
   ]
  },
  {
   "cell_type": "code",
   "execution_count": 2,
   "metadata": {
    "ExecuteTime": {
     "end_time": "2020-11-03T02:13:57.271459Z",
     "start_time": "2020-11-03T02:13:57.264477Z"
    }
   },
   "outputs": [
    {
     "name": "stdout",
     "output_type": "stream",
     "text": [
      "1.00e+04\n",
      "5.66\n"
     ]
    }
   ],
   "source": [
    "print('%.2e' %1e4)\n",
    "print('%.2f' %5.658594923)"
   ]
  },
  {
   "cell_type": "markdown",
   "metadata": {},
   "source": [
    "**String formatting using the `str.format()` function**     \n",
    "\n",
    "This is the 2nd way strings can be formatted. It uses the curly brackets `{}` with either a variable name or a number (index) as a placeholder then followed by `.format()` with it's arguments at the end of the string. This style is **backward compatible up tp Python 2.6**.\n",
    "\n",
    "The drawback of this method is that for strings with a lot of placeholders, arguments in the `.format()` portion can get long and cumbersome to keep track of.\n",
    "\n",
    "**Example 7: String formatting with `str.format()`**"
   ]
  },
  {
   "cell_type": "code",
   "execution_count": 9,
   "metadata": {
    "ExecuteTime": {
     "end_time": "2020-11-03T02:23:18.992830Z",
     "start_time": "2020-11-03T02:23:18.984853Z"
    },
    "jupyter": {
     "source_hidden": true
    }
   },
   "outputs": [
    {
     "name": "stdout",
     "output_type": "stream",
     "text": [
      "5,4\n",
      "name Tom, age 85\n",
      "name John, age 54\n",
      "name Tom\n"
     ]
    }
   ],
   "source": [
    "name = 'John'\n",
    "age = 54\n",
    "person = {'name':'Tom', 'age':85}\n",
    "\n",
    "# method 1: first come, first served replacement\n",
    "print(\"{},{}\".format(5,4))\n",
    "\n",
    "# method 2: replacement via index referencing\n",
    "# 'name' is index 0 and 'age' is index 1\n",
    "print('name {1}, age {0}'.format(85, 'Tom'))\n",
    "\n",
    "# method 3: replacement via variable names\n",
    "print('name {name}, age {age}'.format(name=name, age=age))\n",
    "\n",
    "# method 4: replacement via dictionary (2 ways)\n",
    "print('name {name}'.format(name=person['name']))"
   ]
  },
  {
   "cell_type": "markdown",
   "metadata": {},
   "source": [
    "**String formatting using `f-strings`**      \n",
    "\n",
    "This style was mentioned briefly at the start of the chapter where the letter `f` is placed at the start of a string. This style is also the preferred way of string formatting for **Python 3.6 onwards**. It uses a similar style compared to the previous `str.format()` function (it also uses the curly brackets `{}`) but it also extends the functionality by allowing expressions to be evaluated within its curly brackets.\n",
    "\n",
    "The general syntax is dependent on what is being displayed:\n",
    "\n",
    "1. `{<expression>}` - evaluates the expression before displaying the returned value. The expression can be a single variable, a function or equation.\n",
    "2. `{<expression>:010.4f}` - this has 2 parts, namely the evaluation of the expression and the style of formatting the result. The 2 parts are separated by the colon (`:`) operator. In this case, the style of the result is a 10 digit floating point number that is padded with leading zeroes and has 4 decimal places. The dot (`.`) of the floating point number is included in the 10 digit count.\n",
    "\n",
    "**Example 8: String formatting with `f-strings`**"
   ]
  },
  {
   "cell_type": "code",
   "execution_count": 16,
   "metadata": {
    "ExecuteTime": {
     "end_time": "2020-11-03T02:46:07.467107Z",
     "start_time": "2020-11-03T02:46:07.460123Z"
    },
    "jupyter": {
     "source_hidden": true
    }
   },
   "outputs": [
    {
     "name": "stdout",
     "output_type": "stream",
     "text": [
      "-----------------------------------\n",
      "Scientific notation: 1.000e+07\n",
      "-----------------------------------\n",
      "Zero padded number: 0005\n",
      "-----------------------------------\n",
      "4 Decimal places number: 00430.7837\n",
      "-----------------------------------\n",
      "This could be a very very very long string\n"
     ]
    }
   ],
   "source": [
    "# variables\n",
    "var_01 = 5\n",
    "var_02 = 10000000\n",
    "var_03 = 7\n",
    "dash = '-'\n",
    "var_05 = 86.156749214\n",
    "\n",
    "print(f'{dash*(var_01*var_03)}')   # for printing dividers\n",
    "print(f'Scientific notation: {var_02:.3e}')\n",
    "print(f'{dash*(var_01*var_03)}')   # for printing dividers\n",
    "\n",
    "print(f'Zero padded number: {var_01:04}')\n",
    "print(f'{dash*(var_01*var_03)}')   # for printing dividers\n",
    "\n",
    "print(f'4 Decimal places number: {var_05*var_01:010.4f}')\n",
    "print(f'{dash*(var_01*var_03)}')   # for printing dividers\n",
    "\n",
    "print(f'This could be a very very very ' + \\\n",
    "      f'long string')"
   ]
  },
  {
   "cell_type": "markdown",
   "metadata": {},
   "source": [
    "### Exercise\n",
    "\n",
    "Given the following variables below:\n",
    "\n",
    "```python\n",
    "int_var = 30\n",
    "str_var_01 = 'I scream, you scream, we all scream for ice cream'\n",
    "str_var_02 = 'Fuzzy Wuzzy was a bear. Fuzzy Wuzzy had no hair. Fuzzy Wuzzy wasn’t fuzzy, was he?'\n",
    "dash = '-'\n",
    "```\n",
    "\n",
    "Produce the following outout:\n",
    "\n",
    "<pre>\n",
    "------------------------------\n",
    "Fuzzy Wuzzy screams for ice cream\n",
    "Fuzzy Wuzzy had no hair cream\n",
    "Was there 00030 ice creams or 045.0 bears?\n",
    "------------------------------\n",
    "</pre>"
   ]
  },
  {
   "cell_type": "code",
   "execution_count": 41,
   "metadata": {
    "ExecuteTime": {
     "end_time": "2020-11-03T03:05:27.533052Z",
     "start_time": "2020-11-03T03:05:27.527084Z"
    }
   },
   "outputs": [
    {
     "name": "stdout",
     "output_type": "stream",
     "text": [
      "------------------------------\n",
      "Fuzzy Wuzzy screams for ice cream\n",
      "Fuzzy Wuzzy had no hair cream\n",
      "Fuzzy Wuzzyscreams for ice cream\n",
      "Fuzzy Wuzzy had no hair cream\n",
      "Was there 00030 ice creams or 045.0 bear\n"
     ]
    }
   ],
   "source": [
    "int_var = 30\n",
    "str_var_01 = 'I scream, you scream, we all scream for ice cream'\n",
    "str_var_02 = 'Fuzzy Wuzzy was a bear. Fuzzy Wuzzy had no hair. Fuzzy Wuzzy wasn’t fuzzy, was he?'\n",
    "dash = '-'\n",
    "\n",
    "print(f\"{dash*30}\")\n",
    "print(f\"{str_var_02[:11]+' '+str_var_01[29:35]+'s'+str_var_01[35:]}\")\n",
    "print(f\"{str_var_02[:11]}{str_var_02[35:47]}{str_var_01[43:]}\")\n",
    "print(f\"{str_var_02[:11]}{str_var_01[2:8]}s {str_var_01[-13:]}\")\n",
    "print(f'{str_var_02[24:47]} {str_var_01[-5:]}')\n",
    "print(f'Was there {int_var:05} {str_var_01[-9:]}s or {int_var*1.5:05.1f} {str_var_02[18:22]}')"
   ]
  },
  {
   "cell_type": "markdown",
   "metadata": {},
   "source": [
    "---\n",
    "### String Functions\n",
    "\n",
    "As we have learnt from the section on *Standard Datatypes* in Python chapter 2, `Strings` are objects in Python therefore they have their own attributes and behaviours. The Python [documentation](https://docs.python.org/3/library/stdtypes.html#text-sequence-type-str) has a long lists of functions available for strings but we will be looking some of the most commonly used.\n",
    "\n",
    "1. **`len()`** - this is a built-in function that not part of the string object but it is widely used to get the length of iterable objects including strings. Returns an `int` for the length of the string.\n",
    "\n",
    " **Example of `len()` usage**"
   ]
  },
  {
   "cell_type": "code",
   "execution_count": null,
   "metadata": {
    "jupyter": {
     "source_hidden": true
    }
   },
   "outputs": [],
   "source": [
    "str_var = 'hello foo bar'\n",
    "print(len(str_var))"
   ]
  },
  {
   "cell_type": "markdown",
   "metadata": {},
   "source": [
    "2. **`split()`** - this is used for spliting a string based on a given delimiter and the maximum number of splits. A delimiter is a sequence of one or more characters used for specifying the boundary between separate, independent regions in plain text. CSV (Comma Separated Values) files is the most common file type that uses delimiters to separate independent data. Returns a `list` of separated strings.\n",
    "\n",
    " **Example of `split()` usage**"
   ]
  },
  {
   "cell_type": "code",
   "execution_count": null,
   "metadata": {
    "jupyter": {
     "source_hidden": true
    }
   },
   "outputs": [],
   "source": [
    "sentence = \"The, quick, brown, fox, jumps, over, the, fence\"\n",
    "# delimiter is a whitespace character and comma\n",
    "print(sentence.split(\", \"))  "
   ]
  },
  {
   "cell_type": "markdown",
   "metadata": {},
   "source": [
    "3. **`join()`** - this function concatenates a `List` of strings with the given separator. This separator must also be of type `String`. Returns a `string`. **Note** that the `.join()` function is applied to separator and not the list of strings.\n",
    "\n",
    " **Example of `join()` usage**"
   ]
  },
  {
   "cell_type": "code",
   "execution_count": null,
   "metadata": {
    "jupyter": {
     "source_hidden": true
    }
   },
   "outputs": [],
   "source": [
    "str_list = ['The', 'quick', 'brown', 'fox', 'jumps', 'over', 'the', 'fence']\n",
    "# separator is a whitespace character\n",
    "print(\" \".join(str_list))"
   ]
  },
  {
   "cell_type": "markdown",
   "metadata": {},
   "source": [
    "4. **`replace()`** - this function replaces *n* number of occurrences of an old string with a new string. By default all occurrences are replaced unless a maximum count is defined. Returns a `string`. This function works exactly like the \"Find and Replace\" function in any Word Processing software.\n",
    "\n",
    " **Example of `replace()` usage**"
   ]
  },
  {
   "cell_type": "code",
   "execution_count": null,
   "metadata": {
    "jupyter": {
     "source_hidden": true
    }
   },
   "outputs": [],
   "source": [
    "sentence = \"The quick brown fox jumps over the fence\"\n",
    "\n",
    "# replace the colour of the fox\n",
    "print(sentence.replace(\"brown\", \"red\"))\n",
    "\n",
    "# replace the first 3 whitespace in the string with dashes\n",
    "print(sentence.replace(\" \", \"-\", 3))"
   ]
  },
  {
   "cell_type": "markdown",
   "metadata": {},
   "source": [
    "5. **`strip()`** or **`rstrip()`** or **`lstrip()`**- this family of functions strips the unwanted characters from both ends or from right the end or from the left end of a string, respectively. These functions are used mainly to remove characters used for \"padding\" a string. Returns a `string`.\n",
    "\n",
    " **Example of `strip()`, `rstrip()` and `lstrip()` usage**"
   ]
  },
  {
   "cell_type": "code",
   "execution_count": null,
   "metadata": {
    "jupyter": {
     "source_hidden": true
    }
   },
   "outputs": [],
   "source": [
    "str_val = '!!!!!!boo!!!!!!!'\n",
    "print(str_val.strip('!'))\n",
    "print(str_val.rstrip('!'))\n",
    "print(str_val.lstrip('!'))"
   ]
  },
  {
   "cell_type": "markdown",
   "metadata": {},
   "source": [
    "6. **`find()`** or **`index()`** - these 2 functions have the same functionalities in that they are used to find the starting index of a given character or substring within the whole search string or a defined part of the search string but their return result differs when the given character or substring is not found within the search string.\n",
    "\n",
    " `find()` will return a `-1` when the string is not found whereas `index()` will raise a `ValueError` exception.\n",
    "\n",
    " Each of the `find()` and `index()` functions have their related `rfind()` and `rindex()` functions. Note that there is **no function for searching in the left direction** as the normal `find()` and `index()` already starts from the left.\n",
    " \n",
    " **Important Note**: Only use these methods if you need to find the index of the substring not to search if substring is part of the text. Use the `in` operator for that purpose.\n",
    " \n",
    " **Example of `find()` and `index()` usage**"
   ]
  },
  {
   "cell_type": "code",
   "execution_count": null,
   "metadata": {
    "jupyter": {
     "source_hidden": true
    }
   },
   "outputs": [],
   "source": [
    "quote = \"Now cracks a noble heart. Good-night, sweet prince;\" + \\\n",
    "        \"And flights of angels sing thee to thy rest.\"\n",
    "\n",
    "print(quote.find(\"noble\", 0, 30))\n",
    "print(quote.rindex(\"angels\"))"
   ]
  },
  {
   "cell_type": "markdown",
   "metadata": {},
   "source": [
    "7. **`lower()`** and **`upper()`** - these functions are used to either change a string to fully lower case or upper case characters. These functions are especially useful for string comparisons between externally sourced string data and internally string data used for processing. \n",
    "\n",
    " **Example of `lower()` and `upper()` usage**"
   ]
  },
  {
   "cell_type": "code",
   "execution_count": null,
   "metadata": {
    "jupyter": {
     "source_hidden": true
    }
   },
   "outputs": [],
   "source": [
    "str_val = 'BanKing InDustrY'\n",
    "\n",
    "print(str_val.lower())\n",
    "print(str_val.upper())"
   ]
  },
  {
   "cell_type": "markdown",
   "metadata": {},
   "source": [
    "### Exercise\n",
    "\n",
    "Given the following variable below:\n",
    "\n",
    "```python\n",
    "sentence = \"The quick brown fox jumps over the fence\"\n",
    "```\n",
    "\n",
    "Produce the following output:\n",
    "<pre>\n",
    "The *-* slow *-* brown *-* FOX *-* climbs *-* under *-* the *-* fence\n",
    "</pre>"
   ]
  },
  {
   "cell_type": "code",
   "execution_count": 44,
   "metadata": {
    "ExecuteTime": {
     "end_time": "2020-11-03T03:28:22.998492Z",
     "start_time": "2020-11-03T03:28:22.993502Z"
    }
   },
   "outputs": [
    {
     "name": "stdout",
     "output_type": "stream",
     "text": [
      "The *-* quick *-* brown *-* FOX *-* jumps *-* over *-* the *-* fence\n"
     ]
    }
   ],
   "source": [
    "sentence = \"The quick brown fox jumps over the fence\"\n",
    "sentence.replace('quick','slow')\n",
    "sentence.replace('jumps over', 'climbs under')\n",
    "split_sen = sentence.split()\n",
    "split_sen[3] = split_sen[3].upper()\n",
    "print(' *-* '.join(split_sen))\n"
   ]
  },
  {
   "cell_type": "markdown",
   "metadata": {},
   "source": [
    "---\n",
    "### String with Conditionals and Loops\n",
    "\n",
    "Now that we have gain an understanding of strings and what can be done with them, we are now going to combine them with conditionals and looping statements.\n",
    "\n",
    "Strings are often used in `if` statements to validate input from the user, the terminal or from externally sourced data. The operators most often used are the comparison equality (`==`) and the membership `in` & `not in` operators.\n",
    "\n",
    "**Example 9: Strings with the `if` statements**"
   ]
  },
  {
   "cell_type": "code",
   "execution_count": 45,
   "metadata": {
    "ExecuteTime": {
     "end_time": "2020-11-03T03:30:46.552476Z",
     "start_time": "2020-11-03T03:30:42.311819Z"
    },
    "jupyter": {
     "source_hidden": true
    }
   },
   "outputs": [
    {
     "name": "stdout",
     "output_type": "stream",
     "text": [
      "List of words:\n",
      "actor, courage, revenue, platform, childhood, promotion, drama, effort, homework, patience, storage, discussion, pollution, session, requirement, lab, client, definition, organization, region, instance, confusion, exam, quantity, association, argument, opportunity, ability, virus, mood\n",
      "\n",
      "Enter a word from the list of words: happy\n",
      "The genie will not like you.\n"
     ]
    }
   ],
   "source": [
    "def get_user_input():\n",
    "    '''\n",
    "    Function to check for user input\n",
    "    '''\n",
    "    list_of_words = ['actor','courage','revenue','platform','childhood','promotion','drama','effort','homework',\n",
    "                'patience','storage','discussion','pollution','session','requirement','lab','client','definition',\n",
    "                'organization','region','instance','confusion','exam','quantity','association','argument','opportunity',\n",
    "                'ability','virus','mood']\n",
    "    \n",
    "    print(f'List of words:\\n{\", \".join(list_of_words)}\\n')\n",
    "    user_word = input('Enter a word from the list of words: ')\n",
    "    \n",
    "    if user_word.lower() in list_of_words:\n",
    "        print('Open Sesame')\n",
    "    else:\n",
    "        print(\"The genie will not like you.\")\n",
    "\n",
    "get_user_input()"
   ]
  },
  {
   "cell_type": "markdown",
   "metadata": {},
   "source": [
    "**Example 10: Strings with the looping statements**"
   ]
  },
  {
   "cell_type": "code",
   "execution_count": 46,
   "metadata": {
    "ExecuteTime": {
     "end_time": "2020-11-03T03:34:30.706893Z",
     "start_time": "2020-11-03T03:34:30.700907Z"
    },
    "jupyter": {
     "source_hidden": true
    }
   },
   "outputs": [
    {
     "name": "stdout",
     "output_type": "stream",
     "text": [
      "She sells seashells on the seashore.\n",
      "The shells she sells are seashells, I’m sure.\n",
      "And if she sells seashells on the seashore,\n",
      "Then I’m sure she sells seashore shells.\n",
      "\n",
      "The number of occurrences of the word \"sea\" is 6\n",
      "The number of occurrences of the word \"sells\" is 4\n"
     ]
    }
   ],
   "source": [
    "def count_str(substr, text, delim=' '):\n",
    "    '''\n",
    "    Function to count the number of occurrences of a particular substring\n",
    "    Input:\n",
    "        substr - substring to count\n",
    "        text - text from which the substring is to originate from\n",
    "        delim - delimiter used in the text\n",
    "    Return:\n",
    "        integer count of the substring\n",
    "    '''\n",
    "    cnt = 0\n",
    "    s_text = text.split(delim)\n",
    "    for word in s_text:\n",
    "        if substr in word: # Use 'in' and not '==' because sea is a substring\n",
    "            cnt+=1\n",
    "            \n",
    "    return cnt\n",
    "    \n",
    "\n",
    "text = '''She sells seashells on the seashore.\n",
    "The shells she sells are seashells, I’m sure.\n",
    "And if she sells seashells on the seashore,\n",
    "Then I’m sure she sells seashore shells.'''\n",
    "\n",
    "print(text)\n",
    "print()\n",
    "print(f'The number of occurrences of the word \"sea\" is {count_str(\"sea\", text)}')\n",
    "print(f'The number of occurrences of the word \"sells\" is {count_str(\"sells\", text)}')\n"
   ]
  },
  {
   "cell_type": "code",
   "execution_count": null,
   "metadata": {},
   "outputs": [],
   "source": []
  }
 ],
 "metadata": {
  "kernelspec": {
   "display_name": "Python 3",
   "language": "python",
   "name": "python3"
  },
  "language_info": {
   "codemirror_mode": {
    "name": "ipython",
    "version": 3
   },
   "file_extension": ".py",
   "mimetype": "text/x-python",
   "name": "python",
   "nbconvert_exporter": "python",
   "pygments_lexer": "ipython3",
   "version": "3.7.7"
  }
 },
 "nbformat": 4,
 "nbformat_minor": 4
}
