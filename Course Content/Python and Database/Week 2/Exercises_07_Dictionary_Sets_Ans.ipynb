{
 "cells": [
  {
   "cell_type": "markdown",
   "metadata": {},
   "source": [
    "# Python Dictionary & Sets Exercise"
   ]
  },
  {
   "cell_type": "markdown",
   "metadata": {},
   "source": [
    "## Complete the code cells\n",
    "---"
   ]
  },
  {
   "cell_type": "markdown",
   "metadata": {},
   "source": [
    "**Q1)** Given the dictionary (in the code cell below) do the following:\n",
    "* add a key to the `inventory` called `cheese`\n",
    "* set the value of `cheese` to be a list consisting of `parmesan`, `cheddar`, `blue cheese`, `goat cheeese`\n",
    "* sort the items in the `backpack` in ascending order\n",
    "* remove the `bread loaf` after the list have been sorted\n",
    "* the price of gold has increased therefore add 60 to the current value for `gold`"
   ]
  },
  {
   "cell_type": "code",
   "execution_count": null,
   "metadata": {},
   "outputs": [],
   "source": [
    "inventory = {\n",
    "    'gold' : 500,\n",
    "    'gems' : ['diamond', 'saphire', 'amethyst'],\n",
    "    'backpack' : ['xylophone','dagger', 'breadroll','bread loaf']\n",
    "}\n",
    "\n",
    "\n",
    "inventory['cheese'] = ['parmesan', 'cheddar', 'blue cheese', 'goat cheese']\n",
    "inventory['backpack'].sort()\n",
    "inventory['backpack'].remove('bread loaf')\n",
    "inventory['gold'] += 60\n",
    "\n",
    "print(inventory)"
   ]
  },
  {
   "cell_type": "markdown",
   "metadata": {},
   "source": [
    "**Q2)** Write a program to generate and print a dictionary that contains numbers (keys) between `1` to `n` where `n` is an integer value provided by the user. The values are of the form $ keys^{2} $. Your program must work on any size value entered by the user.\n",
    "\n",
    "**Program Output Example:**\n",
    "<pre>\n",
    "size = 3\n",
    "d = {1:1, 2:4, 3:9}\n",
    "</pre>"
   ]
  },
  {
   "cell_type": "code",
   "execution_count": null,
   "metadata": {},
   "outputs": [],
   "source": [
    "# Step 1: get the user's input for the max keys of the dictionary\n",
    "size = int(input('Enter a max size for the dictionary: '))\n",
    "\n",
    "# Step 2: create and populate your dictionary\n",
    "d = {}\n",
    "for i in range(1,size+1):\n",
    "    d[i] = i**2\n",
    "\n",
    "print(d)"
   ]
  },
  {
   "cell_type": "markdown",
   "metadata": {},
   "source": [
    "**Q3)** Create a dictionary called `fruits` with the data in the table below. This dictionary stores the type of fruit (keys) with it's number of stock remaining (values) for a store. Complete the program to check if the particular fruit (case insensitive) is in stock or not based on a user's input.\n",
    "\n",
    "|Type of fruit (keys) | Stock (values) |\n",
    "|---------------------|----------------|\n",
    "| Apples              |       50       |\n",
    "| Pears               |       80       |\n",
    "| Mangoes             |       5        |\n",
    "| Pineapples          |       10       |\n",
    "| Durian              |       40       |\n",
    "| Oranges             |       20       |"
   ]
  },
  {
   "cell_type": "code",
   "execution_count": null,
   "metadata": {},
   "outputs": [],
   "source": [
    "# Step 1: Create the Dictionary\n",
    "fruits = {'apples': 50, 'pears': 80, 'mangoes': 5, 'pineapples': 0, 'durian': 40, 'oranges': 20}\n",
    "\n",
    "# Step 2: Get user input\n",
    "user_input = input(\"Enter a name of a fruit: \")\n",
    "\n",
    "# Step 3: Check if the type of fruit has stock.\n",
    "if user_input.lower() in fruits:\n",
    "    \n",
    "    # Step 4: Print a nice message out\n",
    "    print(f\"{user_input} has {fruits.get(user_input.lower())} stock left.\")\n",
    "else:\n",
    "    print(f\"This store does not stock {user_input}.\")\n"
   ]
  },
  {
   "cell_type": "markdown",
   "metadata": {},
   "source": [
    "**Q4)** Write a program to combine the two given dictionaries into a new dictionary called `combine_dict`, adding the values for common keys. **Do not use any python libraries.**\n",
    "\n",
    "**Hint:** Using Sets is helpful."
   ]
  },
  {
   "cell_type": "code",
   "execution_count": null,
   "metadata": {},
   "outputs": [],
   "source": [
    "d1 = {'a': 150, 'b': 220, 'c':512}\n",
    "d2 = {'a': 300, 'b': 260, 'd':995}\n",
    "\n",
    "# Step 1: Find the intersecting keys\n",
    "keys_d1 = set(d1)\n",
    "keys_d2 = set(d2)\n",
    "intersect_keys = keys_d1.intersection(keys_d2)\n",
    "\n",
    "# Step 2: Combine the values into a new dictionary\n",
    "combine_dict = {}\n",
    "for key in intersect_keys:\n",
    "    combine_dict[key] = d1.pop(key)+d2.pop(key)\n",
    "\n",
    "combine_dict.update(d1)\n",
    "combine_dict.update(d2)\n",
    "print(combine_dict)"
   ]
  },
  {
   "cell_type": "markdown",
   "metadata": {},
   "source": [
    "**Q5)** Given a dictionary, remove the items with `None` values. Use dictionary comprehension to solve this."
   ]
  },
  {
   "cell_type": "code",
   "execution_count": null,
   "metadata": {},
   "outputs": [],
   "source": [
    "d = {'item0': None, 'item1': 346, 'item2': 204, 'item3': None, 'item4': 720, 'item5': 98, 'item6': 25, 'item7': 55, 'item8': None, 'item9': 253, 'item10': None}\n",
    "\n",
    "d1 = {key:value for (key, value) in d.items() if value is not None}\n",
    "print(d1)"
   ]
  },
  {
   "cell_type": "markdown",
   "metadata": {},
   "source": [
    "## Write codes based on the questions\n",
    "---"
   ]
  },
  {
   "cell_type": "markdown",
   "metadata": {},
   "source": [
    "**Q1)** Write a function called `largest_value_dict()` that accepts an integer and a randomly generated dictionary of values. The integer is used to specify the number of keys to return from searching the dictionary for the n largest values in it.\n",
    "\n",
    "Write another function called `gen_dict()` that returns a generated the dictionary. The keys of this dictionary are the english alphabets in lowercase and it's values are random number from the range of `1` to `99999`.\n",
    "\n",
    "**Hints:**   \n",
    "* use the `randint()` function to generate the dictionary values\n",
    "* in the `string` library, all english alphabets can be access via the constant `string.ascii_lowercase`\n",
    "\n",
    "**Program Output Example**\n",
    "<pre>\n",
    "Enter an integer for the largest number of values to find: 5\n",
    "Dictionary being used:\n",
    "{'a': 14593, 'b': 3279, 'c': 97197, 'd': 36049, 'e': 32099, 'f': 29257, 'g': 18290, 'h': 96531, 'i': 13435, 'j': 88697, 'k': 97081, 'l': 71483, 'm': 11396, 'n': 77398, 'o': 55303, 'p': 4166, 'q': 3906, 'r': 12281, 's': 28658, 't': 30496, 'u': 66238}\n",
    "\n",
    "['c', 'k', 'h', 'j', 'n']\n",
    "</pre>"
   ]
  },
  {
   "cell_type": "code",
   "execution_count": null,
   "metadata": {},
   "outputs": [],
   "source": [
    "import random\n",
    "import string\n",
    "\n",
    "def largest_value_dict(n, input_d):\n",
    "    '''\n",
    "    Function to find the largest n-number of values in a dictionary.\n",
    "    Input:\n",
    "        n - integer denoting the number of values to find\n",
    "        input_d - the dictionary\n",
    "    Return:\n",
    "        a list of the keys with the largest values.\n",
    "    '''\n",
    "    sorted_keys = sorted(input_d, key=input_d.get, reverse=True)\n",
    "    return sorted_keys[:n]\n",
    "\n",
    "def gen_dict():\n",
    "    '''\n",
    "    Function to generate a random dictionary of values\n",
    "    '''\n",
    "    size = random.randint(0,24)\n",
    "    gen_d = {}\n",
    "    for i in range(size+1):\n",
    "        gen_d[string.ascii_lowercase[i]] = random.randint(1,99999)\n",
    "    \n",
    "    return gen_d\n",
    "\n",
    "\n",
    "num_largest = int(input(\"Enter an integer for the largest number of values to find: \"))    \n",
    "\n",
    "print('Dictionary being used:')\n",
    "d = gen_dict()\n",
    "print(d)\n",
    "print()\n",
    "print(largest_value_dict(num_largest, d))"
   ]
  },
  {
   "cell_type": "markdown",
   "metadata": {},
   "source": [
    "**Q2)** Write a function called `combine_values()` that accepts a list of dictionaries and combines the values of with the same keys. The function returns a dictionary of the combined result. Order of the combined dictionary is not important.\n",
    "\n",
    "Modify your previously made `gen_dict()` function to be now called `gen_list_dict()` that generates a list of dictionaries based on following the requirments: \n",
    "* the number of dictionaries in the list is a random number between `10` and `25`\n",
    "* keys are `item` and `amount`\n",
    "* values are respective of the keys:\n",
    " * `item<x>` - where x is a randomly selected number from the range of `1` to `4`, inclusive of `1` and `4`.\n",
    " * `amount` - a random number from the range of `1` to `999`.\n",
    "\n",
    "**Program Output Example**\n",
    "<pre>\n",
    "List of dictionaries being used:\n",
    "[{'item': 'item1', 'amount': 26}, {'item': 'item3', 'amount': 251}, {'item': 'item2', 'amount': 143}, {'item': 'item1', 'amount': 693}, {'item': 'item1', 'amount': 605}, {'item': 'item4', 'amount': 33}, {'item': 'item1', 'amount': 96}, {'item': 'item2', 'amount': 239}, {'item': 'item1', 'amount': 575}, {'item': 'item2', 'amount': 734}, {'item': 'item4', 'amount': 226}, {'item': 'item4', 'amount': 604}, {'item': 'item3', 'amount': 829}, {'item': 'item1', 'amount': 778}, {'item': 'item2', 'amount': 715}, {'item': 'item4', 'amount': 349}, {'item': 'item3', 'amount': 160}, {'item': 'item2', 'amount': 981}, {'item': 'item3', 'amount': 105}, {'item': 'item1', 'amount': 390}, {'item': 'item1', 'amount': 368}]\n",
    "\n",
    "Combine result: {'item1': 3531, 'item3': 1345, 'item2': 2812, 'item4': 1212}\n",
    "</pre>"
   ]
  },
  {
   "cell_type": "code",
   "execution_count": null,
   "metadata": {},
   "outputs": [],
   "source": [
    "import random\n",
    "\n",
    "def combine_values(list_of_dicts):\n",
    "    '''\n",
    "    Function to combine the values with the same keys in a list of dictionaries\n",
    "    Input:\n",
    "        list_of_dicts - list of dictionaries to work on\n",
    "    Return:\n",
    "        combined dictionary of values\n",
    "    '''\n",
    "    combined_d = {}\n",
    "    for d in list_of_dicts:\n",
    "        if d['item'] not in combined_d:\n",
    "            combined_d[d['item']] = d['amount']\n",
    "        else:\n",
    "            combined_d[d['item']] += d['amount']\n",
    "            \n",
    "    return combined_d\n",
    "\n",
    "\n",
    "def gen_list_dict():\n",
    "    '''\n",
    "    Function to generate a list of randomly generated dictionaries\n",
    "    '''\n",
    "    size = random.randint(10,25)\n",
    "    gen_ld = []\n",
    "    for i in range(size+1):\n",
    "        num = random.randint(1,4)\n",
    "        d = {'item': f'item{num}', 'amount':random.randint(1,999)}\n",
    "        gen_ld.append(d)\n",
    "    \n",
    "    return gen_ld\n",
    "\n",
    "\n",
    "print('List of dictionaries being used:')\n",
    "ld = gen_list_dict()\n",
    "print(ld)   \n",
    "print()\n",
    "print(f'Combine result: {combine_values(ld)}')"
   ]
  },
  {
   "cell_type": "markdown",
   "metadata": {},
   "source": [
    "**Q3)** Create a dictionary called `bank_personal_loan` with the data in the table below.     \n",
    "Write a function `best_bank()` that accepts a user input (either string or integer) and returns either a bank name and monthly payment amount (in a dictionary) or `None` if the input is invalid.\n",
    "\n",
    "The a program (not the function) must fulfil these requirements:\n",
    "* Where a user is able to ask for **either** a loan name (case insensitive) or the monthly repayment amount. A **single** input value\n",
    "* An error message must be shown when **either** key or value is not available in the dictionary\n",
    "* The function must be able to return with the right values and the program prints an informative message based on the result\n",
    "\n",
    "|key (bank name) |value (Monthly Payment in SGD) |\n",
    "|:---|:---|\n",
    "| SCB | 310 |\n",
    "| Citi | 316 |\n",
    "| OCBC | 307 |\n",
    "| HSBC | 309 |\n",
    "| DBS/POSB | 311 |\n",
    "| UOB | 313 |\n",
    "| CIMB | 315 |\n",
    "| Maybank | 327 |\n",
    "| BOC | 332 |\n",
    "\n",
    "**Program Output Example**    \n",
    "Output 1\n",
    "<pre>\n",
    "Enter either a bank's name or monthly repayment amount: rimb\n",
    "Your input is invalid.\n",
    "</pre>\n",
    "Output 2\n",
    "<pre>\n",
    "Enter either a bank's name or monthly repayment amount: 327\n",
    "Bank: MAYBANK\n",
    "Monthly repayment amount: 327\n",
    "</pre>\n",
    "Output 3\n",
    "<pre>\n",
    "Enter either a bank's name or monthly repayment amount:  ocbc\n",
    "Bank: OCBC\n",
    "Monthly repayment amount: 307\n",
    "</pre>"
   ]
  },
  {
   "cell_type": "code",
   "execution_count": null,
   "metadata": {},
   "outputs": [],
   "source": [
    "def best_bank(user_input):\n",
    "    '''\n",
    "    Function to retrive the bank name and their loan monthly payment amount.\n",
    "    Input:\n",
    "        user_input - either a bank's name or a monthly repayment amount\n",
    "    Return:\n",
    "        success - a dictionary consisting of the bank names as key and monthly repayment amount as value\n",
    "        not found - None otherwise\n",
    "    '''\n",
    "    # Step 1: Create the dictionary\n",
    "    bank_personal_loan = {'SCB':310, 'CITI':316, 'OCBC':307, 'HSBC':309, 'DBS/POSB':311,\n",
    "                 'UOB':313, 'CIMB':315, 'MAYBANK':327, 'BOC':332}\n",
    "\n",
    "    # check if the input is a digit\n",
    "    if not user_input.isdecimal():\n",
    "        # Step 2: Check to see if the 'user_input' is in within the keys range\n",
    "        if user_input.upper() in bank_personal_loan:\n",
    "            return {user_input.upper():bank_personal_loan[user_input.upper()]}\n",
    "        else:\n",
    "            return None\n",
    "    else:\n",
    "        # Step 3: The 'user_input' is not within the key range\n",
    "        if user_input not in bank_personal_loan:\n",
    "            key_list = list(bank_personal_loan.keys())\n",
    "            value_list = list(bank_personal_loan.values())\n",
    "\n",
    "            user_input = int(user_input)\n",
    "            # Step 4: Check if the 'user_input' is in the values range\n",
    "            if user_input in value_list:\n",
    "                # Step 5: if the 'user_input' is within the values range, print a nice message\n",
    "                bank = key_list[value_list.index(user_input)]\n",
    "                return {bank:user_input}\n",
    "            else:\n",
    "                # Step 6: Print another message if the 'user_input' is not within any ranges\n",
    "                return None\n",
    "\n",
    "            \n",
    "            \n",
    "# Get input from the user\n",
    "user_input = input(\"Enter either a bank's name or monthly repayment amount: \")\n",
    "result = best_bank(user_input)\n",
    "if result is None:\n",
    "    print('Your input is invalid.')\n",
    "else:\n",
    "    print(f\"Bank: {list(result.keys())[0]}\")\n",
    "    print(f\"Monthly repayment amount: {list(result.values())[0]}\")"
   ]
  }
 ],
 "metadata": {
  "kernelspec": {
   "display_name": "Python 3",
   "language": "python",
   "name": "python3"
  },
  "language_info": {
   "codemirror_mode": {
    "name": "ipython",
    "version": 3
   },
   "file_extension": ".py",
   "mimetype": "text/x-python",
   "name": "python",
   "nbconvert_exporter": "python",
   "pygments_lexer": "ipython3",
   "version": "3.8.3"
  }
 },
 "nbformat": 4,
 "nbformat_minor": 4
}
