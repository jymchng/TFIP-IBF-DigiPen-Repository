{
 "cells": [
  {
   "cell_type": "markdown",
   "metadata": {},
   "source": [
    "# Python Strings Exercise"
   ]
  },
  {
   "cell_type": "markdown",
   "metadata": {},
   "source": [
    "## Write codes based on the questions\n",
    "\n",
    "**Note that all print statements from this point onwards will utilitize all 3 forms of string formating. Depending on the situation, different print formating will be used**\n",
    "\n",
    "---"
   ]
  },
  {
   "cell_type": "markdown",
   "metadata": {},
   "source": [
    "**Q1)** Using `f-strings` and the `print()` function, print the results of the following expressions in the specified format to screen.\n",
    "\n",
    "| Expressions | Format |\n",
    "|:---|:---|\n",
    "| $\\frac{1}{3}$ | 2 decimal places with scientific notation|\n",
    "| $50024$ | 15 digits width, starting with `$` and pad the number with leading 0s|\n",
    "| ------<br>Hello<br>------ | 6 dashes top and bottom with `Hello` sandwiched in-between the dashes<br><b>Do not</b> manually type in the dashes. |"
   ]
  },
  {
   "cell_type": "code",
   "execution_count": null,
   "metadata": {},
   "outputs": [],
   "source": [
    "print(f'{1/3:.2e}')\n",
    "print(f'${50024:015}')\n",
    "print(f'{\"-\"*6}\\nHello\\n{\"-\"*6}')"
   ]
  },
  {
   "cell_type": "markdown",
   "metadata": {},
   "source": [
    "**Q2)** Write a function called `phone_key_pad()` that accepts a string (**case insensitive**) and return a sequence of numbers of type string. This function works like the phone keypad where alphabets are mapped to digits: ABC(2), DEF(3), GHI(4), JKL(5), MNO(6), PQRS(7), TUV(8), WXYZ(9), whitespace(0).\n",
    "\n",
    "**Program Output Example**\n",
    "<pre>\n",
    "Enter a string of characters: testing john doe\n",
    "8378464056460363\n",
    "</pre"
   ]
  },
  {
   "cell_type": "code",
   "execution_count": null,
   "metadata": {},
   "outputs": [],
   "source": [
    "def phone_key_pad(input_str):\n",
    "    '''\n",
    "    Function to convert strings to digits in accordance to phone's keypad\n",
    "    Input:\n",
    "        input_str - user input string\n",
    "    Return:\n",
    "        digits of type string\n",
    "    '''\n",
    "    converted = ''\n",
    "    for letter in input_str.lower():\n",
    "        if letter == 'a' or letter == 'b' or letter == 'c':\n",
    "            converted += '2'\n",
    "        elif letter == 'd' or letter == 'e' or letter == 'f':\n",
    "            converted += '3'\n",
    "        elif letter == 'g' or letter == 'h' or letter == 'i':\n",
    "            converted += '4'\n",
    "        elif letter == 'j' or letter == 'k' or letter == 'l':\n",
    "            converted += '5'\n",
    "        elif letter == 'm' or letter == 'n' or letter == 'o':\n",
    "            converted += '6'\n",
    "        elif letter == 'p' or letter == 'q' or letter == 'r' or letter == 's':\n",
    "            converted += '7'\n",
    "        elif letter == 't' or letter == 'u' or letter == 'v':\n",
    "            converted += '8'\n",
    "        elif letter == 'w' or letter == 'x' or letter == 'y' or letter == 'z':\n",
    "            converted += '9'\n",
    "        elif letter == ' ':\n",
    "            converted += '0'\n",
    "    \n",
    "    return converted\n",
    "\n",
    "\n",
    "user_input = input('Enter a string of characters: ')\n",
    "print(phone_key_pad(user_input))"
   ]
  },
  {
   "cell_type": "markdown",
   "metadata": {},
   "source": [
    "**Q3)** Write a function called `extract_chars()` to return a new string made of the first 2 and the last 2 characters from a user given string. \n",
    "\n",
    "The program must check that the user entered string is more than 4 characters long. If it is less than 4 characters long, an error message must be shown and the user is prompted to enter the string again. **The program is to run continously unless `q` (case-insensitive) is entered.**\n",
    "\n",
    "**Program Output Example**\n",
    "<pre>\n",
    "Enter a string:  hello\n",
    "The new string is helo\n",
    "\n",
    "Enter a string:  world 7298\n",
    "The new string is wo98\n",
    "\n",
    "Enter a string:  78d\n",
    "String is less than 4. Enter a new string!\n",
    "\n",
    "Enter a string:  John Wick\n",
    "The new string is Jock\n",
    "\n",
    "Enter a string:  q\n",
    "</pre>"
   ]
  },
  {
   "cell_type": "code",
   "execution_count": null,
   "metadata": {},
   "outputs": [],
   "source": [
    "def extract_chars(in_str):\n",
    "    return in_str[:2] + in_str[-2:]\n",
    "\n",
    "\n",
    "while True:\n",
    "    user_input = input(\"Enter a string: \")\n",
    "    if user_input.lower() == 'q':\n",
    "        break\n",
    "    \n",
    "    if len(user_input) < 4:\n",
    "        print('String is less than 4. Enter a new string!\\n')\n",
    "        continue\n",
    "    new_str = extract_chars(user_input)\n",
    "    print(f'The new string is {new_str}\\n')"
   ]
  },
  {
   "cell_type": "markdown",
   "metadata": {},
   "source": [
    "**Q4)** Write `lambda` function called `check_palindrome` that checks if a given word is a palindrome. A palindrome is a word, phrase, or sequence that reads the same backwards as forwards. This function is to return a `True` if it is a palindrome or `False` if it is not a palindrome.\n",
    "\n",
    "The program is use this `lambda` function on a given list of strings, extract all palindromes from the list and place them in a new list called `pali`. Print `pali` to check your answer."
   ]
  },
  {
   "cell_type": "code",
   "execution_count": null,
   "metadata": {},
   "outputs": [],
   "source": [
    "list_str = ['madam', 'today', 'nurses', '11011', 'rotor', 'statistic', 'lunch', 'chicken', 'refer', 'racecar']\n",
    "\n",
    "check_palindrome = lambda x : x == x[::-1]\n",
    "\n",
    "pali = []\n",
    "for word in list_str:\n",
    "    if check_palindrome(word):\n",
    "        pali.append(word)\n",
    "\n",
    "pali"
   ]
  },
  {
   "cell_type": "markdown",
   "metadata": {},
   "source": [
    "**Q5)** Write a program to produce a wrapped text from the user's input of a wall of text. The user is to input the paragraph width aka the number of characters upon which the text is to be \"cut\" to the next line.   \n",
    "\n",
    "Requirements:\n",
    "* remove all leading & padding whitespaces from the start and end of the wall of text\n",
    "* not allowed to use any text wrapping libraries\n",
    "* assume that the user always enters a correct paragraph width (integer)\n",
    "* print your wrapped text out\n",
    "\n",
    "\n",
    "**Program Output Example**\n",
    "<pre>\n",
    "Enter some text:  One thing we can all count on in life is the fact that gummy bears are delicious. They're that perfect little snack that's just supposed to be good, all the time.\n",
    "Enter paragraph width:  30\n",
    "\n",
    "One thing we can all count on \n",
    "in life is the fact that gummy\n",
    " bears are delicious. They're \n",
    "that perfect little snack that\n",
    "'s just supposed to be good, a\n",
    "ll the time.\n",
    "</pre>"
   ]
  },
  {
   "cell_type": "code",
   "execution_count": null,
   "metadata": {},
   "outputs": [],
   "source": [
    "wall_of_text = (input(\"Enter some text: \")).strip()\n",
    "para_width = int(input(\"Enter paragraph width: \"))\n",
    "\n",
    "temp = []\n",
    "text_len = len(wall_of_text)\n",
    "loops_max = (text_len // para_width) + 1\n",
    "\n",
    "for cnt in range(0,loops_max):\n",
    "    if cnt == 0:\n",
    "        temp.append(wall_of_text[0 : para_width])\n",
    "    elif text_len > para_width*(cnt+1):\n",
    "        temp.append(wall_of_text[para_width*cnt : para_width*(cnt+1)])\n",
    "    else:\n",
    "        temp.append(wall_of_text[para_width*cnt : ])\n",
    "    \n",
    "print()\n",
    "print('\\n'.join(temp))"
   ]
  },
  {
   "cell_type": "markdown",
   "metadata": {},
   "source": [
    "**Q6)** Write a function called `count_vowels_digits()` that accepts a string and counts the number of vowels (a, e, i, o, u, A, E, I, O, U) and digits (0-9) contained in the string. The function returns 2 tuples consisting of the counts and the percentages (rounded to 2 decimal places) for the vowel and digit.\n",
    "\n",
    "**Program Output Example**\n",
    "<pre>\n",
    "Enter a string: testing abc 845john doe 1254\n",
    "\n",
    "Number of vowels: 6 (21.43%)\n",
    "Number of vowels: 7 (25.0%)\n",
    "</pre>"
   ]
  },
  {
   "cell_type": "code",
   "execution_count": null,
   "metadata": {},
   "outputs": [],
   "source": [
    "def count_vowels_digits(str_to_count):\n",
    "    '''\n",
    "    Function to calculate the number and percentages of vowels and digits in a string.\n",
    "    Input:\n",
    "        str_to_count - user input string\n",
    "    Return:\n",
    "        2 tuples consisting of the counts and the percentages \n",
    "        (rounded to 2 decimal places) for the vowel and digit\n",
    "    '''\n",
    "    vowels = ('a', 'e', 'i', 'o', 'u', 'A', 'E', 'I', 'O', 'U')\n",
    "    digits = ('0','1','2','3','4','5','6','7','8','9')\n",
    "    \n",
    "    cnt_vowel = 0\n",
    "    cnt_digits = 0\n",
    "    for letter in str_to_count:\n",
    "        if letter in vowels:\n",
    "            cnt_vowel += 1\n",
    "        elif letter in digits:\n",
    "            cnt_digits += 1\n",
    "    \n",
    "    percent_vowel = (cnt_vowel/len(str_to_count)) * 100\n",
    "    percent_digits = (cnt_digits/len(str_to_count)) * 100\n",
    "    \n",
    "    return (cnt_vowel,round(percent_vowel, 2)), (cnt_digits,round(percent_digits, 2))\n",
    "\n",
    "\n",
    "user_str = input(\"Enter a string: \")\n",
    "vowel_stats, digits_stats = count_vowels_digits(user_str)\n",
    "print()\n",
    "print(f\"Number of vowels: {vowel_stats[0]} ({vowel_stats[-1]}%)\")\n",
    "print(f\"Number of vowels: {digits_stats[0]} ({digits_stats[-1]}%)\")"
   ]
  },
  {
   "cell_type": "markdown",
   "metadata": {},
   "source": [
    "**Q7)** Write a function called `shortest_longest_words()` that accepts a text string and returns shortest and longest words in the text string. The function must be able to remove all punctuation from the words before searching for the shortest and longest words from the text.\n",
    "\n",
    "**Hint**\n",
    "* The `string` library has a constant called `punctuation` which can be accessed via `string.punctuation`. \n",
    "\n",
    "<br>\n",
    "\n",
    "**Program Output Example**\n",
    "<pre>\n",
    "Enter some text: what am I? I'm in search of an answer. I have a query. Have you guessed?\n",
    "\n",
    "Shortest word: I\n",
    "Longest word: guessed\n",
    "</pre>"
   ]
  },
  {
   "cell_type": "code",
   "execution_count": null,
   "metadata": {},
   "outputs": [],
   "source": [
    "import string\n",
    "\n",
    "def shortest_longest_words(text):\n",
    "    '''\n",
    "    Function find the shortest and longest word in the text string.\n",
    "    Input:\n",
    "        text - text string to search\n",
    "    Return:\n",
    "        shortest and longest words\n",
    "    '''\n",
    "    split_text = text.split()\n",
    "    all_words = []\n",
    "    # remove all punctuation from the text\n",
    "    for word in split_text:\n",
    "        if word.isalpha():\n",
    "            all_words.append(word)\n",
    "        else:\n",
    "            temp = ''\n",
    "            for letter in word:\n",
    "                if letter not in string.punctuation:\n",
    "                    temp += letter\n",
    "                else:\n",
    "                    pass\n",
    "            all_words.append(temp)\n",
    "    \n",
    "    # set the inital values\n",
    "    shortest = longest = all_words[0]\n",
    "    \n",
    "    # find the shortest and longest word\n",
    "    for idx in range(len(all_words)):\n",
    "        if(len(shortest) > len(all_words[idx])):\n",
    "            shortest = all_words[idx];\n",
    "        if(len(longest) < len(all_words[idx])):\n",
    "            longest = all_words[idx]; \n",
    "    \n",
    "    return shortest, longest\n",
    "        \n",
    "user_input = input(\"Enter some text: \")\n",
    "s_word, l_word = shortest_longest_words(user_input)\n",
    "print()\n",
    "print(\"Shortest word: \" + s_word);  \n",
    "print(\"Longest word: \" + l_word); "
   ]
  },
  {
   "cell_type": "markdown",
   "metadata": {},
   "source": [
    "**Q8)** Caesar's cipher is one of the simplest encryption techniques where each letter is shifted and replaced by another letter with some fixed position down the alphabet cyclically. Write a function called `caesar_cipher()` that accepts a string, a shifting integer for upper case letters and another shifting integer for lower case letters. The function should return the encrypted string.\n",
    "\n",
    "**Hints**\n",
    "1. `ord()` is a built-in function that converts letters into their ASCII number equivalent\n",
    "2. `chr()` is a built-in function that converts ASCII number into their letter equivalent\n",
    "\n",
    "\n",
    "**Program Output Example**\n",
    "<pre>\n",
    "Enter a string of characters: ZeBrA\n",
    "EgGtF\n",
    "</pre>"
   ]
  },
  {
   "cell_type": "code",
   "execution_count": null,
   "metadata": {},
   "outputs": [],
   "source": [
    "def caesar_cipher(input_str, upper_n=5, lower_n=2):\n",
    "    '''\n",
    "    Function encrypt a string using a caesar's cipher.\n",
    "    Input:\n",
    "        input_str - user input string\n",
    "        upper_n - integer for shifting upper case letters\n",
    "        lower_n - integer for shifting lower case letters\n",
    "    Return:\n",
    "        encryted string\n",
    "    '''\n",
    "    result = ''\n",
    "    for idx in range(len(input_str)):\n",
    "        letter = input_str[idx]\n",
    "        \n",
    "        # Encrypt uppercase characters in plain text\n",
    "        if (letter.isupper()):\n",
    "            result += chr((ord(letter) + upper_n-65) % 26 + 65)\n",
    "        # Encrypt lowercase characters in plain text\n",
    "        else:\n",
    "            result += chr((ord(letter) + lower_n - 97) % 26 + 97)\n",
    "            \n",
    "    return result \n",
    "\n",
    "user_input = input('Enter a string of characters: ')\n",
    "print(caesar_cipher(user_input))"
   ]
  }
 ],
 "metadata": {
  "kernelspec": {
   "display_name": "Python 3",
   "language": "python",
   "name": "python3"
  },
  "language_info": {
   "codemirror_mode": {
    "name": "ipython",
    "version": 3
   },
   "file_extension": ".py",
   "mimetype": "text/x-python",
   "name": "python",
   "nbconvert_exporter": "python",
   "pygments_lexer": "ipython3",
   "version": "3.8.3"
  }
 },
 "nbformat": 4,
 "nbformat_minor": 4
}
