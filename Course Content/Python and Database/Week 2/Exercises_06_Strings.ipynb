{
 "cells": [
  {
   "cell_type": "markdown",
   "metadata": {},
   "source": [
    "# Python Strings Exercise"
   ]
  },
  {
   "cell_type": "markdown",
   "metadata": {},
   "source": [
    "## Write codes based on the questions\n",
    "\n",
    "**Note that all print statements from this point onwards will utilitize all 3 forms of string formating. Depending on the situation, different print formating will be used**\n",
    "\n",
    "---"
   ]
  },
  {
   "cell_type": "markdown",
   "metadata": {},
   "source": [
    "## Question 1\n",
    "\n",
    "(DONE) **Q1)** Using `f-strings` and the `print()` function, print the results of the following expressions in the specified format to screen.\n",
    "\n",
    "| Expressions | Format |\n",
    "|:---|:---|\n",
    "| $\\frac{1}{3}$ | 2 decimal places with scientific notation|\n",
    "| $50024$ | 15 digits width, starting with `$` and pad the number with leading 0s|\n",
    "| ------<br>Hello<br>------ | 6 dashes top and bottom with `Hello` sandwiched in-between the dashes<br><b>Do not</b> manually type in the dashes. |"
   ]
  },
  {
   "cell_type": "code",
   "execution_count": null,
   "metadata": {
    "ExecuteTime": {
     "end_time": "2020-11-03T07:14:08.285901Z",
     "start_time": "2020-11-03T07:14:08.277923Z"
    }
   },
   "outputs": [],
   "source": [
    "print(f\"{1/3:.2e}\")\n",
    "print(f\"${50024:015}\")\n",
    "print(f\"{'-'*6}\")\n",
    "print(\"Hello\")\n",
    "print(f\"{'-'*6}\")"
   ]
  },
  {
   "cell_type": "markdown",
   "metadata": {},
   "source": [
    "## Question 2\n",
    "\n",
    "(DONE) **Q2)** Write a function called `phone_key_pad()` that accepts a string (**case insensitive**) and return a sequence of numbers of type string. This function works like the phone keypad where alphabets are mapped to digits: ABC(2), DEF(3), GHI(4), JKL(5), MNO(6), PQRS(7), TUV(8), WXYZ(9), whitespace(0).\n",
    "\n",
    "**Program Output Example**\n",
    "<pre>\n",
    "Enter a string of characters: testing john doe\n",
    "8378464056460363\n",
    "</pre"
   ]
  },
  {
   "cell_type": "code",
   "execution_count": null,
   "metadata": {
    "ExecuteTime": {
     "end_time": "2020-11-03T07:14:16.896865Z",
     "start_time": "2020-11-03T07:14:08.287896Z"
    }
   },
   "outputs": [],
   "source": [
    "import string\n",
    "\n",
    "stri = input(\"Enter a string of characters: \")\n",
    "\n",
    "def phone_key_pad(strie):\n",
    "    \n",
    "    dic = {\"abc\": 2, \"def\": 3, \"ghi\":4, \"jkl\":5, \"mno\":6,\"pqrs\":7, \"tuv\":8,\"wxyz\":9,' ':0}\n",
    "    r = []\n",
    "    for s in strie.lower():\n",
    "        for key in dic.keys():\n",
    "            if s in key:\n",
    "                r.append(str(dic[key]))\n",
    "    return \"\".join(r)\n",
    "\n",
    "phone_key_pad(stri)"
   ]
  },
  {
   "cell_type": "markdown",
   "metadata": {},
   "source": [
    "## Question 3\n",
    "\n",
    "(DONE) **Q3)** Write a function called `extract_chars()` to return a new string made of the first 2 and the last 2 characters from a user given string. \n",
    "\n",
    "The program must check that the user entered string is more than 4 characters long. If it is less than 4 characters long, an error message must be shown and the user is prompted to enter the string again. **The program is to run continously unless `q` (case-insensitive) is entered.**\n",
    "\n",
    "**Program Output Example**\n",
    "<pre>\n",
    "Enter a string:  hello\n",
    "The new string is helo\n",
    "\n",
    "Enter a string:  world 7298\n",
    "The new string is wo98\n",
    "\n",
    "Enter a string:  78d\n",
    "String is less than 4. Enter a new string!\n",
    "\n",
    "Enter a string:  John Wick\n",
    "The new string is Jock\n",
    "\n",
    "Enter a string:  q\n",
    "</pre>"
   ]
  },
  {
   "cell_type": "code",
   "execution_count": null,
   "metadata": {
    "ExecuteTime": {
     "end_time": "2020-11-03T07:14:37.223491Z",
     "start_time": "2020-11-03T07:14:16.899861Z"
    }
   },
   "outputs": [],
   "source": [
    "def extract_chars(string):\n",
    "    return string[:2] + string[-2:]\n",
    "while True:\n",
    "    string = input(\"Enter a string: \")\n",
    "    if string == 'q':\n",
    "        break\n",
    "    if len(string)<4 and string != 'q':\n",
    "        print(\"String is less than 4. Enter a new string!\")\n",
    "    print(extract_chars(string))\n",
    "        \n",
    "\n",
    "\n",
    "\n"
   ]
  },
  {
   "cell_type": "markdown",
   "metadata": {},
   "source": [
    "## Question 4\n",
    "(DONE) **Q4)** Write `lambda` function called `check_palindrome` that checks if a given word is a palindrome. A palindrome is a word, phrase, or sequence that reads the same backwards as forwards. This function is to return a `True` if it is a palindrome or `False` if it is not a palindrome.\n",
    "\n",
    "The program is use this `lambda` function on a given list of strings, extract all palindromes from the list and place them in a new list called `pali`. Print `pali` to check your answer."
   ]
  },
  {
   "cell_type": "code",
   "execution_count": null,
   "metadata": {
    "ExecuteTime": {
     "end_time": "2020-11-03T07:14:37.232469Z",
     "start_time": "2020-11-03T07:14:37.225486Z"
    }
   },
   "outputs": [],
   "source": [
    "list_str = ['madam', 'today', 'nurses', '11011', 'rotor', 'statistic', 'lunch', 'chicken', 'refer', 'racecar']\n",
    "\n",
    "def check_palindrome(string):\n",
    "    num = len(string)//2 +1\n",
    "    for i in range(num):\n",
    "        if string[i] != string[len(string)-i-1]:\n",
    "            return True\n",
    "    return False\n",
    "\n",
    "list_str = ['madam', 'today', 'nurses', '11011', 'rotor', 'statistic', 'lunch', 'chicken', 'refer', 'racecar']\n",
    "\n",
    "check_palidrome = lambda x : x == x[::-1]\n",
    "pali = [i for i in list_str if check_palidrome(i)]\n",
    "pali\n",
    "\n",
    "\n"
   ]
  },
  {
   "cell_type": "markdown",
   "metadata": {},
   "source": [
    "# IMPORTANT!\n",
    "## Question 5\n",
    "(DONE) **Q5)** Write a program to produce a wrapped text from the user's input of a wall of text. The user is to input the paragraph width aka the number of characters upon which the text is to be \"cut\" to the next line.   \n",
    "\n",
    "Requirements:\n",
    "* remove all leading & padding whitespaces from the start and end of the wall of text\n",
    "* not allowed to use any text wrapping libraries\n",
    "* assume that the user always enters a correct paragraph width (integer)\n",
    "* print your wrapped text out\n",
    "\n",
    "\n",
    "**Program Output Example**\n",
    "<pre>\n",
    "Enter some text:  One thing we can all count on in life is the fact that gummy bears are delicious. They're that perfect little snack that's just supposed to be good, all the time.\n",
    "Enter paragraph width:  30\n",
    "\n",
    "One thing we can all count on \n",
    "in life is the fact that gummy\n",
    " bears are delicious. They're \n",
    "that perfect little snack that\n",
    "'s just supposed to be good, a\n",
    "ll the time.\n",
    "</pre>"
   ]
  },
  {
   "cell_type": "code",
   "execution_count": null,
   "metadata": {
    "ExecuteTime": {
     "end_time": "2020-11-03T07:14:47.443180Z",
     "start_time": "2020-11-03T07:14:37.233467Z"
    }
   },
   "outputs": [],
   "source": [
    "text = input(\"Enter some text: \")\n",
    "num = int(input(\"Enter paragraph width: \"))\n",
    "\n",
    "text = text.strip()\n",
    "\n",
    "while len(text) >= num:\n",
    "    print(text[:num]) # Using string indexing, print out first num characters.\n",
    "    text=text[num:]\n",
    "\n",
    "    \n",
    "    "
   ]
  },
  {
   "cell_type": "markdown",
   "metadata": {},
   "source": [
    "## Question 6\n",
    "\n",
    "(DONE) **Q6)** Write a function called `count_vowels_digits()` that accepts a string and counts the number of vowels (a, e, i, o, u, A, E, I, O, U) and digits (0-9) contained in the string. The function returns 2 tuples consisting of the counts and the percentages (rounded to 2 decimal places) for the vowel and digit.\n",
    "\n",
    "**Program Output Example**\n",
    "<pre>\n",
    "Enter a string: testing abc 845john doe 1254\n",
    "\n",
    "Number of vowels: 6 (21.43%)\n",
    "Number of vowels: 7 (25.0%)\n",
    "</pre>"
   ]
  },
  {
   "cell_type": "code",
   "execution_count": null,
   "metadata": {
    "ExecuteTime": {
     "start_time": "2020-11-03T07:22:10.895Z"
    }
   },
   "outputs": [],
   "source": [
    "string = input(\"Enter a string: \")\n",
    "\n",
    "def count_vowels_digits(string):\n",
    "    cnt1 = 0\n",
    "    cnt2 = 0\n",
    "    for s in string:\n",
    "        if s in 'aeiouAEIOU':\n",
    "            cnt1+=1\n",
    "        if s.isdigit():\n",
    "            cnt2+=1\n",
    "    return (cnt1, 100*cnt1/len(string)), (cnt2, 100*cnt2/len(string))\n",
    "\n",
    "count_vowels_digits(string)\n",
    "print(f\"Number of vowels: {count_vowels_digits(string)[0][0]}, \\\n",
    "{count_vowels_digits(string)[0][1]:.2f}%\")\n",
    "print(f\"Number of digits: {count_vowels_digits(string)[1][0]}, \\\n",
    "{count_vowels_digits(string)[1][1]:.2f}%\")"
   ]
  },
  {
   "cell_type": "markdown",
   "metadata": {},
   "source": [
    "## QUESTION 7\n",
    "\n",
    "(DONE) **Q7)** Write a function called `shortest_longest_words()` that accepts a text string and returns shortest and longest words in the text string. The function must be able to remove all punctuation from the words before searching for the shortest and longest words from the text.\n",
    "\n",
    "**Hint**\n",
    "* The `string` library has a constant called `punctuation` which can be accessed via `string.punctuation`. \n",
    "\n",
    "<br>\n",
    "\n",
    "**Program Output Example**\n",
    "<pre>\n",
    "Enter some text: what am I? I'm in search of an answer. I have a query. Have you guessed?\n",
    "\n",
    "Shortest word: I\n",
    "Longest word: guessed\n",
    "</pre>"
   ]
  },
  {
   "cell_type": "code",
   "execution_count": null,
   "metadata": {
    "ExecuteTime": {
     "start_time": "2020-11-03T07:22:12.258Z"
    }
   },
   "outputs": [],
   "source": [
    "import string"
   ]
  },
  {
   "cell_type": "code",
   "execution_count": null,
   "metadata": {
    "ExecuteTime": {
     "start_time": "2020-11-03T07:22:12.849Z"
    }
   },
   "outputs": [],
   "source": [
    "text = input(\"Enter some text: \")\n",
    "\n",
    "def shortest_longest_words(text):\n",
    "    for t in text:\n",
    "        if (t in string.punctuation):\n",
    "            text = text.replace(t,\"\")\n",
    "            # Always reassign as text is string and is immutable.\n",
    "    text = text.split()\n",
    "    # Always reassign as text is string and is immutable.\n",
    "    return max(text, key=len), min(text, key=len)\n",
    "\n",
    "print(f\"Shortest word: {shortest_longest_words(text)[1]}\\\n",
    ". \\nLongest word: {shortest_longest_words(text)[0]}.\")"
   ]
  },
  {
   "cell_type": "markdown",
   "metadata": {},
   "source": [
    "# IMPORTANT\n",
    "### List Comprehension from Jonathan's Codes QUESTION 7\n",
    "\n",
    "Jonathan's Codes\n",
    "\n",
    "```\n",
    "import string\n",
    "\n",
    "s = input(\"enter text:\")\n",
    "s = [i for i in s if i not in string.punctuation]\n",
    "s = \"\".join(s).split()\n",
    "\n",
    "longestLen, shortestLen = -1, 999\n",
    "longestWord, shortestWord = \"\", \"\"\n",
    "\n",
    "for i in s:\n",
    "    if len(i) > longestLen:\n",
    "        longestWord = i\n",
    "        longestLen = len(i)\n",
    "    elif len(i) < shortestLen:\n",
    "        shortestWord = i\n",
    "        shortestLen = len(i)\n",
    "\n",
    "print(shortestWord)\n",
    "print(longestWord)\n",
    "```"
   ]
  },
  {
   "cell_type": "markdown",
   "metadata": {},
   "source": [
    "## QUESTION 8\n",
    "\n",
    "(DONE) **Q8)** Caesar's cipher is one of the simplest encryption techniques where each letter is shifted and replaced by another letter with some fixed position down the alphabet cyclically. Write a function called `caesar_cipher()` that accepts a string, a shifting integer for upper case letters and another shifting integer for lower case letters. The function should return the encrypted string.\n",
    "\n",
    "**Hints**\n",
    "1. `ord()` is a built-in function that converts letters into their ASCII number equivalent\n",
    "2. `chr()` is a built-in function that converts ASCII number into their letter equivalent\n",
    "\n",
    "\n",
    "**Program Output Example**\n",
    "<pre>\n",
    "Enter a string of characters: ZeBrA\n",
    "EgGtF\n",
    "</pre>"
   ]
  },
  {
   "cell_type": "code",
   "execution_count": null,
   "metadata": {
    "ExecuteTime": {
     "start_time": "2020-11-03T07:22:17.933Z"
    }
   },
   "outputs": [],
   "source": [
    "string  = input(\"Enter a string of characters: \")\n",
    "\n",
    "def caesar_cipher(string, int1=5, int2=2):\n",
    "    r = []\n",
    "    for s in string:\n",
    "        if s.isupper():\n",
    "            s=ord(s)+int1\n",
    "            if s>ord('Z'): s=(s-ord('Z')-1)+ord('A')\n",
    "            r.append(chr(s))\n",
    "            continue\n",
    "        if s.islower():\n",
    "            s=ord(s)+int2\n",
    "            if s>ord('z'): s=(s-ord('z')-1)+ord('a')\n",
    "            r.append(chr(s))       \n",
    "    \n",
    "    \n",
    "    return ''.join(r)\n",
    "\n",
    "print(caesar_cipher(string))"
   ]
  },
  {
   "cell_type": "markdown",
   "metadata": {},
   "source": [
    "# IMPORTANT\n",
    "### ACSII Manipulation from Jonathan's Codes QUESTION 8\n",
    "\n",
    "```\n",
    "s = input(\"enter string: \")\n",
    "\n",
    "r = \"\"\n",
    "for i in s:\n",
    "    if i == i.upper():\n",
    "        x = ord(i) + 5\n",
    "        x = x if x < 90 else 64 + x % 90\n",
    "        r = r + chr(x)\n",
    "    else:\n",
    "        r = r + chr(ord(i) + 2)\n",
    "r\n",
    "```"
   ]
  },
  {
   "cell_type": "code",
   "execution_count": null,
   "metadata": {},
   "outputs": [],
   "source": []
  }
 ],
 "metadata": {
  "kernelspec": {
   "display_name": "Python 3",
   "language": "python",
   "name": "python3"
  },
  "language_info": {
   "codemirror_mode": {
    "name": "ipython",
    "version": 3
   },
   "file_extension": ".py",
   "mimetype": "text/x-python",
   "name": "python",
   "nbconvert_exporter": "python",
   "pygments_lexer": "ipython3",
   "version": "3.8.3"
  }
 },
 "nbformat": 4,
 "nbformat_minor": 4
}
