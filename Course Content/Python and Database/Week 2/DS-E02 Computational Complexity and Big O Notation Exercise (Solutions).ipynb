{
 "cells": [
  {
   "cell_type": "markdown",
   "metadata": {},
   "source": [
    "# Fundamental Data Structures and Algorithms 02 - Computational Complexity and Big O Notation - Exercise (Solutions)\n",
    "---"
   ]
  },
  {
   "cell_type": "markdown",
   "metadata": {},
   "source": [
    "The following problems should help you get familiar with computational complexity and big O notations of algorithms."
   ]
  },
  {
   "cell_type": "markdown",
   "metadata": {},
   "source": [
    "### Question 1\n",
    "  \n",
    "Given some Python code, determine the number of times `Hello` is printed in terms of $n$.  \n",
    "\n",
    "**(a)**\n",
    "```python\n",
    "for i in range(3):\n",
    "    for j in range(n):\n",
    "        print(\"Hello\")\n",
    "```\n",
    "**(b)**\n",
    "```python\n",
    "i, j = 0, 0\n",
    "while i < n:\n",
    "    while j < i:\n",
    "        print(\"Hello\")\n",
    "        j = j + 1\n",
    "    i = i + 1\n",
    "```\n",
    "**(c)**\n",
    "```python\n",
    "i = 0\n",
    "while i < n:\n",
    "    for j in range(n):\n",
    "        print(\"Hello\")\n",
    "    i = i + 1\n",
    "```  \n",
    "**(d)**\n",
    "```python\n",
    "for i in range(n):\n",
    "    for j in range(i):\n",
    "        print(\"Hello\")\n",
    "```\n",
    "**(e)**\n",
    "```python\n",
    "for i in range(n):\n",
    "    for j in range(n-i-1):\n",
    "        print(\"Hello\")\n",
    "```\n",
    "**(f)**\n",
    "```python\n",
    "for i in range(n):\n",
    "    for j in range(i+1, n):\n",
    "        print(\"Hello\")\n",
    "```\n",
    "**(g)**\n",
    "```python\n",
    "for i in range(n,0,-1):\n",
    "    for j in range(n-i+1):\n",
    "        print(\"Hello\")\n",
    "```\n",
    "**(h)**\n",
    "```python\n",
    "for i in range(n):\n",
    "    i = i * 2\n",
    "    for j in range(i):\n",
    "        print(\"Hello\")\n",
    "```\n",
    "**(i)**\n",
    "```python\n",
    "for i in range(n):\n",
    "    for j in range(i):\n",
    "        for k in range(j):\n",
    "            print(\"Hello\")\n",
    "```  \n",
    "**(j)**\n",
    "```python\n",
    "for i in range(n,0,-1):\n",
    "    i = i // 2\n",
    "    for j in range(i):\n",
    "        print(\"Hello\")\n",
    "```  \n",
    "**(k)**\n",
    "```python\n",
    "for i_1 in range(n):\n",
    "    for i_2 in range(n-1):\n",
    "        for i_3 in range(n-2):\n",
    "            for i_4 in range(n-3):\n",
    "                # more 'for' loops in between...\n",
    "                for i_n in range(1):\n",
    "                    print(\"Hello\")\n",
    "```  \n",
    "**(l)**\n",
    "```python\n",
    "i = 1\n",
    "while i < n:\n",
    "    print(\"Hello\")\n",
    "    i = i * 2\n",
    "```  \n",
    "**(m)**\n",
    "```python\n",
    "i = 1\n",
    "while i < n:\n",
    "    for j in range(n)\n",
    "        print(\"Hello\")\n",
    "    i = i * 2\n",
    "```  \n",
    "Click on the `...` below to reveal answer"
   ]
  },
  {
   "cell_type": "markdown",
   "metadata": {},
   "source": [
    "**Answer:**  \n",
    "  \n",
    "**(a)** $3n$  \n",
    "  \n",
    "**(b)** $n-1$   \n",
    "  \n",
    "**(c)** $n^2$  \n",
    "  \n",
    "**(d)** $\\frac{n(n-1)}{2}$  \n",
    "  \n",
    "**(e)** $\\frac{n(n-1)}{2}$  \n",
    "  \n",
    "**(f)** $\\frac{n(n-1)}{2}$  \n",
    "  \n",
    "**(g)** $\\frac{n(n-1)}{2}$  \n",
    "  \n",
    "**(h)** $n(n-1)$  \n",
    "  \n",
    "**(i)** $\\frac{n(n-1)(n-2)}{2(3)}$   \n",
    "  \n",
    "**(j)** $\\big(\\frac{n}{2}\\big)^2$ if even, $\\bigg[\\big(\\frac{n-1}{2}\\big)^2+\\big(\\frac{n-1}{2}\\big)\\bigg]$ if odd\n",
    "  \n",
    "**(k)** $n!$  \n",
    "  \n",
    "**(l)** $\\log_2{n}$\n",
    "  \n",
    "**(m)** $n \\log_2{n}$"
   ]
  },
  {
   "cell_type": "markdown",
   "metadata": {},
   "source": [
    "---"
   ]
  },
  {
   "cell_type": "markdown",
   "metadata": {},
   "source": [
    "### Question 2  \n",
    "  \n",
    "Assume that each of the expressions below gives the execution time of an algorithm for solving a problem of size $n$. Select the dominant term(s) having the steepest increase in $n$ and specify the big O notation of each algorithm.\n",
    "  \n",
    "\n",
    "**(a)** $5+0.001n^3+0.025n$  \n",
    "  \n",
    "**(b)** $500n + 100n^{1.5} + 50n \\log_{10}{n}$  \n",
    "  \n",
    "**(c)** $0.3n + 5n^{1.5} + 2.5n^{1.75}$  \n",
    "  \n",
    "**(d)** $n^2\\log_2{n}+n(\\log_2{n})^2$  \n",
    "  \n",
    "**(e)** $n\\log_3{n}+n\\log_2{n}$  \n",
    "  \n",
    "**(f)** $3\\log_8{n}+\\log_2\\log_2\\log_2{n}$  \n",
    "  \n",
    "**(g)** $100n+0.01n^2$  \n",
    "  \n",
    "**(h)** $0.01n+100n^2$  \n",
    "  \n",
    "**(i)** $2n+n^{0.5}+0.5n^{1.25}$  \n",
    "  \n",
    "**(j)** $0.01n\\log_2{n}+n(\\log_2{n})^2$  \n",
    "  \n",
    "**(k)** $100n\\log_3{n}+n^3+100n$  \n",
    "  \n",
    "**(l)** $0.03\\log_4{n}+\\log_2\\log_2{n}$  \n",
    "  \n",
    "Click on the `...` below to reveal answer"
   ]
  },
  {
   "cell_type": "markdown",
   "metadata": {
    "jupyter": {
     "source_hidden": true
    }
   },
   "source": [
    "**Answers:**  \n",
    "\n",
    "|Dominant term(s)                  |Big O Notation   |\n",
    "|----------------------------------|-----------------|\n",
    "|**(a)** $0.001n^3$                |$O(n^3)$         |\n",
    "|**(b)** $100n^{1.5}$              |$O(n^{1.5})$     |\n",
    "|**(c)** $2.5n^{1.75}$             |$O(n^{1.75})$    |  \n",
    "|**(d)** $n^2\\log_2{n}$            |$O(n^2\\log{n})$  |\n",
    "|**(e)** $n\\log_2{n}$ , $n\\log_3{n}$|$O(n\\log{n})$    |\n",
    "|**(f)** $3\\log_8{n}$              |$O(\\log{n})$     |\n",
    "|**(g)** $0.01n^2$                 |$O(n^2)$         |\n",
    "|**(h)** $100n^2$                  |$O(n^2)$         |\n",
    "|**(i)** $0.5n^{1.25}$             |$O(n^{1.25})$    |\n",
    "|**(j)** $n(\\log_2{n})^2$          |$O(n(\\log{n})^2)$|\n",
    "|**(k)** $n^3$                     |$O(n^3)$         |\n",
    "|**(l)** $0.03\\log_4{n}$           |$O(\\log{n})$     |\n",
    "\n",
    "Note: As far as big O notation is concerned, the base of the logarithms does not make any real difference, because of this important property, called _Change of Base_. According to this property, changing the base of the logarithm, in terms of big O notation, only affects the complexity by a constant factor. So, in terms of big O notation, $\\log_8{n}$ is equivalent to $\\log_2{n}$."
   ]
  },
  {
   "cell_type": "markdown",
   "metadata": {},
   "source": [
    "---"
   ]
  },
  {
   "cell_type": "markdown",
   "metadata": {},
   "source": [
    "### Question 3\n",
    "\n",
    "**(a)** Algorithms A and B spend exactly $0.1n^2\\log_{10}{n}$ and $2.5n^2$ microseconds, respectively, for a same problem of size $n$. Choose the algorithm, which is better in terms of big O notation, and find out a problem size $n_0$ such that for any larger size $n>n_0$ the chosen algorithm outperforms the other. If your problem are of size $n\\le 10^9$, which algorithm will you recommend to use?  \n",
    "  \n",
    "**(b)** One of the two software packages, A or B, should be chosen to process very big databases, containing each up to $10^{12}$ records. Average processing time of the package A is $0.1n\\ \\log_2{n}$ microseconds, and the average processing time of the package B is $5 · n$ microseconds. Which algorithm has better performance in terms of big O notation? Work out exact conditions when these packages outperform each other.\n",
    "  \n",
    "Click on the `...` below to reveal answer"
   ]
  },
  {
   "cell_type": "markdown",
   "metadata": {
    "jupyter": {
     "source_hidden": true
    }
   },
   "source": [
    "**Answer**  \n",
    "  \n",
    "**(a)** In terms of big O notation, algorithm B is better. It outperforms algorithm A when $n_0 = 10^{25}$. If $n\\le 10^9$, the algorithm of choice is A.\n",
    "\n",
    "**(b)**  In terms of big O notation, software package B has a complexity $O(n)$ which is better A's complexity of $O(n\\ \\log{n})$. At $n \\ge 2^{50}\\approx 10^{15}$ software package B outperforms software package A. Thus for processing up to $10^{12}$ data items, the software package of choice is A."
   ]
  },
  {
   "cell_type": "markdown",
   "metadata": {},
   "source": [
    "---"
   ]
  },
  {
   "cell_type": "markdown",
   "metadata": {},
   "source": [
    "### Question 4\n",
    "  \n",
    "Assume that the array `a` contains $n$ values, that the function `randomValue` takes constant number c of computational steps to produce each output value, and that the method `goodSort` takes $n \\log{n}$ computational steps to sort the array. Determine the big O complexity for the following fragments of code taking into account only the above computational steps:\n",
    "\n",
    "```python\n",
    "for i in range(n):\n",
    "    for j in range(n):\n",
    "        a[j] = randomValue(i)\n",
    "    goodSort(a)\n",
    "```\n",
    "  \n",
    "Click on the `...` below to reveal answer"
   ]
  },
  {
   "cell_type": "markdown",
   "metadata": {
    "jupyter": {
     "source_hidden": true
    }
   },
   "source": [
    "**Answer**\n",
    "  \n",
    "The inner loop has linear complexity $O(n)$, but the next statement is the function call which is of higher complexity $n \\log{n}$. Because the outer loop is linear, the overall complexity of this piece of code is $n^2 \\log{n}$."
   ]
  },
  {
   "cell_type": "markdown",
   "metadata": {},
   "source": [
    "---"
   ]
  },
  {
   "cell_type": "markdown",
   "metadata": {},
   "source": [
    "### Question 5\n",
    "  \n",
    "As part of analyzing the computational complexities of the different algorithms, you are expected to categorize the algorithm depending on its worse-case computational complexity. One of the ways of doing this is to compare the rate of growth of the running time of each algorithm. We can simplify this by getting the big O notation of these algorithms. \n",
    "\n",
    "**(a)** Using Matplotlib, plot the following common big O notations, represented by $f(n)$, in a single graph. Use different colors for each plot and ensure that they are properly labelled. The domain for each equation is $0 < n \\le 10$. You may need to `import math` and use the `math.log2` function for the log equations and `math.factorial` for the factorial equations.\n",
    "\n",
    "   ​\ti.\t$f(n)=2$\n",
    "\n",
    "   ​\tii.\t$f(n) = n$\n",
    "\n",
    "   ​\tiii.\t$f(n)=n^2$\n",
    "\n",
    "   ​\tiv.\t$f(n)= \\log_2{n}$\n",
    "\n",
    "   ​\tv.\t$f(n) = n \\log_2{n}$\n",
    "\n",
    "   ​\tvi.\t$f(n) = 2^n$\n",
    "\n",
    "   ​\tvii.\t$f(n) = n!$\n",
    "\n",
    "   \n",
    "To ensure that each function can be seen clearly you can use the following:\n",
    "  \n",
    "```python\n",
    "import matplotlib.pyplot as plt\n",
    "\n",
    "plt.figure(figsize=(20,10))\n",
    "axes = matplotlib.pyplot.gca()\n",
    "axes.set_ylim([0,40])\n",
    "```\n",
    "  \n",
    "**(b)** Arrange the functions above according to their growth, from slowest growing (left most) to the fastest growing (right most)."
   ]
  },
  {
   "cell_type": "markdown",
   "metadata": {
    "jupyter": {
     "outputs_hidden": true
    }
   },
   "source": [
    "Double click <b>here</b> for the solution\n",
    "<!--\n",
    "\n",
    "import matplotlib.pyplot as plt\n",
    "import numpy as np  # optional; only log function (can also use import math)\n",
    "\n",
    "n = np.arange(1,11) # or [1,2,3,4,5,6,7,8,9,10]\n",
    "\n",
    "i = np.full(10,2)   # or [2,2,2,2,2,2,2,2,2,2]\n",
    "ii = n\n",
    "iii = (n)**2\n",
    "iv = np.log2(n)     # math.log2(n[x])\n",
    "v = n*np.log2(n)    # n[x] * math.log2(n[x])\n",
    "vi = np.power(i, n) # 2**n[x]\n",
    "vii = np.empty(10)\n",
    "for j in range(10):\n",
    "    vii[j]=np.math.factorial(j+1)  # math.factorial\n",
    "\n",
    "plt.figure(figsize=(20,10))\n",
    "axes = plt.gca()\n",
    "axes.set_ylim([0,40])\n",
    "\n",
    "plt.plot(n,i,label=\"$2$\")\n",
    "plt.plot(n,ii,label=\"$n$\")\n",
    "plt.plot(n,iii,label=\"$n^2$\")\n",
    "plt.plot(n,iv,label=\"$\\log_2 n$\")\n",
    "plt.plot(n,v,label=\"$n\\ \\log_2 n$\")\n",
    "plt.plot(n,vi,label=\"$2^n$\")\n",
    "plt.plot(n,vii,label=\"$n!$\")\n",
    "\n",
    "plt.legend(loc=\"upper left\", fontsize=\"16\")\n",
    "plt.xlabel(\"Input Size, n\", fontsize=\"20\")\n",
    "plt.ylabel(\"f(n)\", fontsize=\"20\")\n",
    "plt.title(\"Graph of f(n) against input size, n\", fontsize=\"20\")\n",
    "plt.show()\n",
    "\n",
    "-->"
   ]
  },
  {
   "cell_type": "code",
   "execution_count": 1,
   "metadata": {},
   "outputs": [
    {
     "name": "stdout",
     "output_type": "stream",
     "text": [
      "[2 2 2 2 2 2 2 2 2 2]\n"
     ]
    }
   ],
   "source": [
    "import numpy as np\n",
    "\n",
    "print(np.full(10,2))"
   ]
  },
  {
   "cell_type": "markdown",
   "metadata": {},
   "source": [
    "---"
   ]
  },
  {
   "cell_type": "markdown",
   "metadata": {},
   "source": [
    "### Question 6\n",
    "Rearrange these functions according to their growth, from slowest growing to fastest growing:\n",
    "- $4n$\n",
    "- $8n^2$\n",
    "- $6n^3$\n",
    "- $64$\n",
    "- $n \\log_2{n}$\n",
    "- $n \\log_6{n}$\n",
    "- $\\log_2{n}$\n",
    "- $\\log_8{n}$\n",
    "- $8^{2n}$\n",
    "\n",
    "Click on the `...` below to reveal answer"
   ]
  },
  {
   "cell_type": "markdown",
   "metadata": {
    "jupyter": {
     "source_hidden": true
    }
   },
   "source": [
    "**Answer**  \n",
    "We have several different types of functions here, so we start by thinking about the general properties of those function types and how their rate of growth compares. Here's a reminder of different function types shown here, in order of their growth:\n",
    "1. Constant functions\n",
    "2. Logarithmic functions\n",
    "3. Linear functions\n",
    "4. Linearithmic functions\n",
    "5. Polynomial functions\n",
    "6. Exponential functions\n",
    "  \n",
    "Which type is each of the presented options?\n",
    "1. Constant functions\n",
    "  - $64$\n",
    "2. Logarithmic functions\n",
    "  - $\\log_2{n}$, $\\log_8{n}$\n",
    "3. Linear functions\n",
    "  - $4n$\n",
    "4. Linearithmic functions\n",
    "  - $n \\log_2{n}$, $n \\log_6{n}$\n",
    "5. Polynomial functions\n",
    "  - $8n^2$, $6n^3$\n",
    "6. Exponential functions\n",
    "  - $8^{2n}$\n",
    "  \n",
    "We have several types where there are multiple functions - logarithmic functions, linearithmic functions, and polynomial functions, so we have to look more closely at each of them to compare their growth within the class.\n",
    "  \n",
    "Within the logarithmic functions, the lesser bases grow more quickly than the higher bases - so $\\log_2{n}$ will grow more quickly than $\\log_8{n}$. You can see that in the graph below:  \n",
    "![log_2 vs log_8](https://cdn.kastatic.org/ka-perseus-graphie/55850ad542e28fb99a2a0341bf87cd9e1fc0f65c.png)  \n",
    "  \n",
    "The linearithmic functions are those that multiply linear terms by a logarithm, of the form $n\\log_k{n}$. With the $n$ being the same in both, then the growth is dependent on the base of the logarithms. And as we just stated, the lesser bases grow more quickly than the higher bases - so $n \\log_2{n}$ will grow more quickly than $n \\log_6{n}$. You can see that in the graph below:  \n",
    "![log_2 vs log_8](https://cdn.kastatic.org/ka-perseus-graphie/034be7b46471c73c91b5604ac68b36aaf84fce24.png)  \n",
    "  \n",
    "Within the polynomial functions, $8n^2$ will grow more slowly than $6n^3$, since it has a lesser exponent. We don't even have to look at the constants in front, since the exponent is more significant.  \n",
    "  \n",
    "To conclude, the correct order of the functions would be:\n",
    "- $64$\n",
    "- $\\log_8{n}$\n",
    "- $\\log_2{n}$\n",
    "- $4n$\n",
    "- $n \\log_6{n}$\n",
    "- $n \\log_2{n}$\n",
    "- $8n^2$\n",
    "- $6n^3$\n",
    "- $8^{2n}$"
   ]
  }
 ],
 "metadata": {
  "kernelspec": {
   "display_name": "Python 3",
   "language": "python",
   "name": "python3"
  },
  "language_info": {
   "codemirror_mode": {
    "name": "ipython",
    "version": 3
   },
   "file_extension": ".py",
   "mimetype": "text/x-python",
   "name": "python",
   "nbconvert_exporter": "python",
   "pygments_lexer": "ipython3",
   "version": "3.8.6"
  }
 },
 "nbformat": 4,
 "nbformat_minor": 4
}
