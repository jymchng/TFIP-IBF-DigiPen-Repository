{
 "cells": [
  {
   "cell_type": "markdown",
   "metadata": {},
   "source": [
    "# Fundamental Data Structures and Algorithms 02 - Computational Complexity and Big O Notation"
   ]
  },
  {
   "cell_type": "markdown",
   "metadata": {},
   "source": [
    "## Unit 1: Foundations (continued)\n",
    "---"
   ]
  },
  {
   "cell_type": "markdown",
   "metadata": {},
   "source": [
    "*Class Discussion*\n",
    "> How to determine which data structure or which algorithm is considered 'good'?"
   ]
  },
  {
   "cell_type": "markdown",
   "metadata": {},
   "source": [
    "(double click <u><b style=\"color:blue;\">here</b></u>)\n",
    "<!--\n",
    "One of the natural methods of measuring the \"goodness\" is by using running time,\n",
    "but there are many variable factors that affects this measure. Examples:\n",
    "   - hardware (processor speed, memory, etc.)\n",
    "   - software environment (operating system, programming language, etc.)\n",
    "   - data types\n",
    "   - data size\n",
    "\n",
    "Therefore, we need some sort of standard:\n",
    "\n",
    "Firstly, we need to have some sort of metric (or standards of measurement) to quantify the performance of a data structure or an algorithm.\n",
    "\n",
    "Secondly, once we have determine the metric to use, we need to know what aspects of the algorithm or data structure that we need to measure.\n",
    "-->"
   ]
  },
  {
   "cell_type": "markdown",
   "metadata": {},
   "source": [
    "---"
   ]
  },
  {
   "cell_type": "markdown",
   "metadata": {},
   "source": [
    "### Computational Complexity\n",
    "\n",
    "*Computational Complexity:*  \n",
    "Computational complexity is a field from computer science which analyzes algorithms based on the amount resources required for running it. The amount of required resources varies based on the input size, so the complexity is generally expressed as a function of n, where n is the size of the input.\n",
    "1. Time complexity \n",
    "2. Space complexity\n",
    "<br>\n",
    "<br>\n",
    "**This chapter focuses mostly on <u>time complexity</u> :**  \n",
    "- assume hardware and software environments remain the same\n",
    "- three guiding principles:\n",
    " - worst case analysis (make no assumptions on the data)\n",
    " - ignore (or suppress) constant factors and lower order terms. At large inputs, higher order terms dominate.\n",
    " - focus on problems with large input sizes."
   ]
  },
  {
   "cell_type": "markdown",
   "metadata": {},
   "source": [
    "### Time Complexity\n",
    "\n",
    "In computer science, the time complexity is the computational complexity that describes the amount of time it takes to run an algorithm. Time complexity is commonly estimated by counting the number of elementary operations performed by the algorithm, supposing that each elementary operation takes a fixed amount of time to perform.\n",
    "\n",
    "When analyzing the time complexity of an algorithm we may find three cases: best-case, average-case and worst-case. Let’s understand what it means."
   ]
  },
  {
   "cell_type": "markdown",
   "metadata": {},
   "source": [
    "Suppose we have the following unsorted list [1, 5, 3, 9, 2, 4, 6, 7, 8] and we need to find the index of a value in this list using linear search.  \n",
    "\n",
    "**best-case:** this is the complexity of solving the problem for the best input. In our example, the best case would be to search for the value 1. Since this is the first value of the list, it would be found in the first iteration.  \n",
    "\n",
    "**average-case:** this is the average complexity of solving the problem. This complexity is defined with respect to the distribution of the values in the input data. Maybe this is not the best example but, based on our sample, we could say that the average-case would be when we’re searching for some value in the “middle” of the list, for example, the value 2.  \n",
    "\n",
    "**worst-case:** this is the complexity of solving the problem for the worst input of size n. In our example, the worst-case would be to search for the value 8, which is the last element from the list.\n",
    "\n",
    "**Usually, when describing the time complexity of an algorithm, we are talking about the worst-case.**  \n",
    "\n",
    "Ok, but how we describe the time complexity of an algorithm?\n",
    "We use a mathematical notation called Big-O."
   ]
  },
  {
   "cell_type": "markdown",
   "metadata": {},
   "source": [
    "---"
   ]
  },
  {
   "cell_type": "markdown",
   "metadata": {},
   "source": [
    "*Recall*\n",
    "> How important is the structure of the English dictionary?  \n",
    "> (Imagine a dictionary where words are arranged at random vs. one that is arranged by length)"
   ]
  },
  {
   "cell_type": "markdown",
   "metadata": {},
   "source": [
    "(double click <u><b style=\"color:blue;\">here</b></u>)\n",
    "\n",
    "<!--\n",
    "sorting often used as an intermediate step\n",
    " - therefore, considered as fundamental in computer science\n",
    "-->"
   ]
  },
  {
   "cell_type": "markdown",
   "metadata": {},
   "source": [
    "---"
   ]
  },
  {
   "cell_type": "markdown",
   "metadata": {},
   "source": [
    "### Experimental Analysis using Searching Algorithms\n",
    "\n",
    "Consider the following:\n",
    "> Given an array of $n$ consecutive elements, write a function that returns the numbers of steps to search for an element $x$ within that array."
   ]
  },
  {
   "cell_type": "markdown",
   "metadata": {},
   "source": [
    "(double click <u><b style=\"color:blue;\">here</b></u> for simple solution)\n",
    "\n",
    "<!--\n",
    "1. Starting from the beginning of the array, check if the element in the array matches with x\n",
    "2. If the element matches with , return the index of the element in the array + 1 (this gives the\n",
    "number of steps taken to reach the element)\n",
    "3. Otherwise, repeat steps 1 to 2 for the next element in the array\n",
    "4. If does not match with any of the elements in the array, return '-1'\n",
    "-->"
   ]
  },
  {
   "cell_type": "markdown",
   "metadata": {},
   "source": [
    "---"
   ]
  },
  {
   "cell_type": "markdown",
   "metadata": {},
   "source": [
    "*Example:*\n",
    "> Assume we have to find element '6' in an array consisting of the elements [1, 4, 7, 8, 9, 6, 3, 2].\n",
    "\n",
    "![search_algorithm](https://i.ibb.co/ch7HDXp/Slide2.png)\n",
    "\n",
    "- start from index 0, check if element matches with '6'\n",
    "- since does not match, repeat previous step\n",
    "- total of 6 steps required to reach element '6'"
   ]
  },
  {
   "cell_type": "markdown",
   "metadata": {},
   "source": [
    "*Exercise:*\n",
    "> Write the algorithm in Python."
   ]
  },
  {
   "cell_type": "code",
   "execution_count": null,
   "metadata": {},
   "outputs": [],
   "source": [
    "# Search Function 1\n",
    "def search(arr, x):\n",
    "    for i in range(len(arr)):\n",
    "        if arr[i] == x: \n",
    "            return i + 1\n",
    "    return -1"
   ]
  },
  {
   "cell_type": "code",
   "execution_count": null,
   "metadata": {},
   "outputs": [],
   "source": [
    "# driver to test\n",
    "arr = [1, 4, 7, 8, 9, 6, 3, 2]\n",
    "steps = search(arr,6)\n",
    "print(steps)\n",
    "steps = search(arr,7)\n",
    "print(steps)"
   ]
  },
  {
   "cell_type": "markdown",
   "metadata": {},
   "source": [
    "<br>"
   ]
  },
  {
   "cell_type": "markdown",
   "metadata": {},
   "source": [
    "*Class discussion*\n",
    "> What is the best-case scenario? How many steps is required?  \n",
    "> What is the worst-case scenario? How many steps is required?  \n",
    "> Which of the above scenarios are more useful?"
   ]
  },
  {
   "cell_type": "markdown",
   "metadata": {},
   "source": [
    "---"
   ]
  },
  {
   "cell_type": "markdown",
   "metadata": {},
   "source": [
    "**Average-Case Performance**\n",
    "\n",
    "*Example:*\n",
    "> Determine the average number of steps taken to reach a randomly selected element of array size $n = 10000$ after 1000 attempts. Repeat this for 10 observations."
   ]
  },
  {
   "cell_type": "markdown",
   "metadata": {},
   "source": [
    "For the first solution, let's incorporate the previous search function. Your average values across the 10 observations will be different as it depends on the systems you are using."
   ]
  },
  {
   "cell_type": "code",
   "execution_count": null,
   "metadata": {},
   "outputs": [],
   "source": [
    "import random\n",
    "\n",
    "n = 10000   # sample size\n",
    "obs = 10    # number of observations\n",
    "\n",
    "arr = range(n)\n",
    "\n",
    "for j in range(obs):\n",
    "    totalSteps = 0\n",
    "    attempts = 1000\n",
    "    for k in range(attempts):\n",
    "        totalSteps += search(arr, (random.sample(arr,1)[0] % n))\n",
    "    print(j + 1, \". Average = \", totalSteps/attempts, \"\\n\", sep=\"\")"
   ]
  },
  {
   "cell_type": "markdown",
   "metadata": {},
   "source": [
    "The average number of steps required to reach a randomly selected element will be about 5000 - roughly half of the input size."
   ]
  },
  {
   "cell_type": "markdown",
   "metadata": {},
   "source": [
    "---"
   ]
  },
  {
   "cell_type": "markdown",
   "metadata": {},
   "source": [
    "Now let's compare the average-case performance using an updated search function below called `search2`."
   ]
  },
  {
   "cell_type": "code",
   "execution_count": null,
   "metadata": {},
   "outputs": [],
   "source": [
    "# Search Function 2\n",
    "def search2(arr, x):\n",
    "    count = 0\n",
    "    left = 0\n",
    "    right = n - 1\n",
    "    while right >= left:\n",
    "        count += 1\n",
    "        middle = (left + right) // 2\t# ensure to use integer and not float\n",
    "        if x == arr[middle]:\n",
    "            return count\n",
    "        if x < arr[middle]:\n",
    "            right = middle - 1\n",
    "        else:\n",
    "            left = middle + 1\n",
    "    return count"
   ]
  },
  {
   "cell_type": "markdown",
   "metadata": {},
   "source": [
    "Let's repeat the same function by copying the cell and changing the funciton:"
   ]
  },
  {
   "cell_type": "code",
   "execution_count": null,
   "metadata": {},
   "outputs": [],
   "source": [
    "import random\n",
    "\n",
    "n = 10000\t# sample size\n",
    "obs = 10\t# number of observations\n",
    "\n",
    "arr = range(n)\n",
    "\n",
    "for j in range(obs):\n",
    "    totalSteps = 0\n",
    "    attempts = 1000\n",
    "    for k in range(attempts):\n",
    "        totalSteps += search2(arr, (random.sample(arr,1)[0] % n)) # different search function\n",
    "    print(j + 1, \". Average = \", totalSteps/attempts, \"\\n\", sep=\"\")"
   ]
  },
  {
   "cell_type": "markdown",
   "metadata": {},
   "source": [
    "The average number of steps required to reach a randomly selected element is only about 12 using the second search algorithm."
   ]
  },
  {
   "cell_type": "markdown",
   "metadata": {},
   "source": [
    "---"
   ]
  },
  {
   "cell_type": "markdown",
   "metadata": {},
   "source": [
    "*Class Discussion:*\n",
    "> How are the results different?  \n",
    "> How does the two search functions scale with different input sizes?"
   ]
  },
  {
   "cell_type": "markdown",
   "metadata": {},
   "source": [
    "(double click <u><b style=\"color:blue;\">here</b></u>)\n",
    "\n",
    "<!--\n",
    "\n",
    "* significantly different: 5000 vs 12 steps  \n",
    "* We shall repeat the search functions a couple more times but each time doubling the sample size.  \n",
    "* Recording the results in a table we will get something like the table below\n",
    "\n",
    "| Array Size, n                            | 10000 | 20000 | 40000 | 80000 | 160000 | 320000 |\n",
    "| ---------------------------------------- | ----- | ----- | ----- | ----- | ------ | ------ |\n",
    "| Average Steps (est.) - Search Function 1 | 5000  | 10000 | 20000 | 40000 | 80000  | 160000 |\n",
    "| Average Steps (est.) - Search Function 2 | 12    | 13    | 14    | 15    | 16     | 17     |\n",
    "\n",
    "\n",
    "Analysis:\n",
    "\n",
    "* first search function - the avg no. of steps doubles as the array size doubles. This function is also known as LINEAR SEARCH. Note that the computational time is directly proportional to the size of the problem.\n",
    "\n",
    "* second search function - as input size doubles, it only takes ONE additional step. This function is known as BINARY SEARCh. Such computational time varies LOGARITHMICLY. \n",
    "\n",
    "The examples demonstrate the quantitative analuses of algorithms.\n",
    "\n",
    "-->"
   ]
  },
  {
   "cell_type": "markdown",
   "metadata": {},
   "source": [
    "---"
   ]
  },
  {
   "cell_type": "markdown",
   "metadata": {},
   "source": [
    "### Challenges of Experimental Analysis\n",
    "\n",
    "- Experimental running times of two algorithms are difficult to directly compare unless the experiments are performed in the same hardware and software environments.\n",
    "\n",
    "- Experiments can be done only on a limited set of test inputs; hence, they leave out the running times of inputs not included in the experiment (and these inputs may be important).\n",
    "\n",
    "- An algorithm must be fully implemented in order to execute it to study its running time experimentally.\n",
    "\n",
    "<u>At early stages of design, when considering a choice of data structures or algorithms, it would be foolish to spend a significant amount of time implementing an approach that could easily be deemed inferior by a higher-level analysis.</u>\n",
    "\n",
    "Very often we are more interested in the *qualitative analysis* of algorithms. As such, a common way to estimate an algorithm's computational complexity is by using the **big O notation**\n"
   ]
  },
  {
   "cell_type": "markdown",
   "metadata": {},
   "source": [
    "---"
   ]
  },
  {
   "cell_type": "markdown",
   "metadata": {},
   "source": [
    "### Big O Notation\n",
    "\n",
    "- a mathematical notation describing the upper limiting behavior of a function when the argument tends towards infinity\n",
    "\n",
    "- aims to simplify the analysis of an algorithm's computational complexity by measuring its *rate of growth* or *order of the function* in terms of the problem size $n$"
   ]
  },
  {
   "cell_type": "markdown",
   "metadata": {},
   "source": [
    "**Principles of Big O Notation**\n",
    "- only consider the highest-order term of a formula\n",
    "- ignore the lower-order terms, since the lower-order terms are relatively insignificant for large values of $n$\n",
    "- also ignore the highest-order term's constant coefficient since constant factors are less significant than the order\n",
    "\n",
    "For a concrete example, let us revisit the search algorithms.  \n",
    "(Note that following examples presented are merely to support in explaining the different notations. The big O notation extends to all algorithms and therefore, are **not** only limited to these.)"
   ]
  },
  {
   "attachments": {
    "BigO.jpeg": {
     "image/jpeg": "[encoded data removed]"
    }
   },
   "cell_type": "markdown",
   "metadata": {},
   "source": [
    "![BigO.jpeg](attachment:BigO.jpeg)"
   ]
  },
  {
   "cell_type": "markdown",
   "metadata": {},
   "source": [
    "#### Table of common time complexities\n",
    "These are the most common time complexities expressed using the Big-O notation:"
   ]
  },
  {
   "cell_type": "code",
   "execution_count": null,
   "metadata": {},
   "outputs": [],
   "source": [
    "╔══════════════════╦═════════════════╗\n",
    "║       Name       ║ Time Complexity ║\n",
    "╠══════════════════╬═════════════════╣\n",
    "║ Constant Time    ║       O(1)      ║\n",
    "╠══════════════════╬═════════════════╣\n",
    "║ Logarithmic Time ║     O(log n)    ║\n",
    "╠══════════════════╬═════════════════╣\n",
    "║ Linear Time      ║       O(n)      ║\n",
    "╠══════════════════╬═════════════════╣\n",
    "║ Quasilinear Time ║    O(n log n)   ║\n",
    "╠══════════════════╬═════════════════╣\n",
    "║ Quadratic Time   ║      O(n^2)     ║\n",
    "╠══════════════════╬═════════════════╣\n",
    "║ Exponential Time ║      O(2^n)     ║\n",
    "╠══════════════════╬═════════════════╣\n",
    "║ Factorial Time   ║       O(n!)     ║\n",
    "╚══════════════════╩═════════════════╝"
   ]
  },
  {
   "cell_type": "markdown",
   "metadata": {},
   "source": [
    "---"
   ]
  },
  {
   "cell_type": "markdown",
   "metadata": {},
   "source": [
    "**Constant Notation: O(1)**"
   ]
  },
  {
   "cell_type": "code",
   "execution_count": null,
   "metadata": {},
   "outputs": [],
   "source": [
    "def getFirstElement(arr):\n",
    "    return arr[0]"
   ]
  },
  {
   "cell_type": "code",
   "execution_count": null,
   "metadata": {},
   "outputs": [],
   "source": [
    "arr1 = [1, 2, 3]\n",
    "print(getFirstElement(arr1))\n",
    "\n",
    "arr2 = [i for i in range(10000000)] # generating takes some time\n",
    "print(getFirstElement(arr2))        # but function getFirstElement will take constant time"
   ]
  },
  {
   "cell_type": "markdown",
   "metadata": {},
   "source": [
    "- `getFirstElement` function will retrieve the first element of a given array\n",
    "\n",
    " - <u>always be completed in constant time regardless of size of the array</u>\n",
    "<br>\n",
    "<br>\n",
    "\n",
    "- Therefore, considered to have a time computational complexity of $O(1)$\n",
    "<br>\n",
    "\n",
    "*Note:*  \n",
    "-  accessing to an element in a list/array is considered as O(1)\n",
    "\n",
    "- arrays/list are implemented as array-based sequences i.e. references to a list’s elements are stored in a <u>contiguous</u> block of memory\n",
    "\n",
    " - this means the $i^{th}$ element of the list can be found, not by iterating through the list one element at a time, but by validating the index and using it as an offset into the underlying array"
   ]
  },
  {
   "cell_type": "code",
   "execution_count": null,
   "metadata": {},
   "outputs": [],
   "source": [
    "# another example of constant notation\n",
    "my_list = [35, 65, 14, 43, 8, 5, 98]  # constant time\n",
    "print(my_list[3])                     # constant time when accessing element in a list"
   ]
  },
  {
   "cell_type": "markdown",
   "metadata": {},
   "source": [
    "  "
   ]
  },
  {
   "cell_type": "markdown",
   "metadata": {},
   "source": [
    "if-else statements are also typically constant time. However, it is important to note that not all if-else statements are equal even though both produces the same output."
   ]
  },
  {
   "cell_type": "code",
   "execution_count": null,
   "metadata": {},
   "outputs": [],
   "source": [
    "# function to print the grades depending on the marks\n",
    "def grade_1(marks):\n",
    "    if marks >= 90:\n",
    "        print('A')\n",
    "    if marks >= 80 and marks < 90:\n",
    "        print('B')\n",
    "    if marks >= 70 and marks < 80:\n",
    "        print('C')\n",
    "    if marks >= 60 and marks < 70:\n",
    "        print('D')\n",
    "    if marks >= 50 and marks < 60:\n",
    "        print('E')\n",
    "    if marks < 50:\n",
    "        print('F')\n",
    "    return\n",
    "\n",
    "grade_1(79)"
   ]
  },
  {
   "cell_type": "code",
   "execution_count": null,
   "metadata": {},
   "outputs": [],
   "source": [
    "# similar function as grade_1 but note how this performs better than the previous function\n",
    "def grade_2(marks):\n",
    "    if marks >= 90:\n",
    "        print('A')\n",
    "    elif marks >= 80:\n",
    "        print('B')\n",
    "    elif marks >= 70:\n",
    "        print('C')\n",
    "    elif marks >= 60:\n",
    "        print('D')\n",
    "    elif marks >= 50:\n",
    "        print('E')\n",
    "    else:\n",
    "        print('F')\n",
    "    return\n",
    "\n",
    "grade_2(79)"
   ]
  },
  {
   "cell_type": "markdown",
   "metadata": {},
   "source": [
    "---"
   ]
  },
  {
   "cell_type": "markdown",
   "metadata": {},
   "source": [
    "**Constant Notation: O(n)**"
   ]
  },
  {
   "cell_type": "code",
   "execution_count": null,
   "metadata": {},
   "outputs": [],
   "source": [
    "# given that the size of array is equals to n\n",
    "'''linear search returns the number of steps it takes to reach the element x'''\n",
    "def linearSearch(arr, x):\n",
    "    for i in range(len(arr)): \n",
    "        if arr[i] == x: \n",
    "            return i + 1  \n",
    "    return -1"
   ]
  },
  {
   "cell_type": "code",
   "execution_count": null,
   "metadata": {},
   "outputs": [],
   "source": [
    "arr = [10,20,30,40,50,60,70,80,90,100]\n",
    "x = 20\n",
    "print(\"number of steps to search for\", x, \":  \", linearSearch(arr,20))"
   ]
  },
  {
   "cell_type": "markdown",
   "metadata": {},
   "source": [
    "- To determine the big O notation of the linear search algorithm, consider worst-case performance\n",
    " - if the element is at the end of the list, it will take $n$ iterations\n",
    "<br>  \n",
    "<br>\n",
    "- even if the input size is doubled to $2n$ or only a fraction of the original size e.g. $0.1n$, the big O notation is still O(n)"
   ]
  },
  {
   "cell_type": "markdown",
   "metadata": {},
   "source": [
    "---"
   ]
  },
  {
   "cell_type": "markdown",
   "metadata": {},
   "source": [
    "**Logarithmic Notation: O(log n)**"
   ]
  },
  {
   "cell_type": "code",
   "execution_count": null,
   "metadata": {},
   "outputs": [],
   "source": [
    "# given that the size of array is equals to n\n",
    "def binarySearch(arr, x):\n",
    "    count = 0\n",
    "    left = 0\n",
    "    right = len(arr) - 1\n",
    "    while right >= left:\n",
    "        count+=1\n",
    "        middle = (left + right) // 2\n",
    "        if x == arr[middle]:\n",
    "            return count\n",
    "        if x < arr[middle]:\n",
    "            right = middle - 1\n",
    "        else:\n",
    "            left = middle + 1\n",
    "    return count"
   ]
  },
  {
   "cell_type": "code",
   "execution_count": null,
   "metadata": {},
   "outputs": [],
   "source": [
    "'''n = 5'''\n",
    "a = 1\n",
    "myList1 = [47,82,71,8,1]\n",
    "myList1=sorted(myList1)\n",
    "print(\"n: \", len(myList1))\n",
    "print(\"Number of steps required to search for\", a, \": \", binarySearch(myList1, a) )"
   ]
  },
  {
   "cell_type": "code",
   "execution_count": null,
   "metadata": {},
   "outputs": [],
   "source": [
    "'''n = 10'''\n",
    "b = 1\n",
    "myList2 = [46,7,89,2,59,47,82,71,8,1]\n",
    "myList2=sorted(myList2)\n",
    "print(\"n: \", len(myList2))\n",
    "print(\"Number of steps required to search for\", b, \": \", binarySearch(myList2, b) )"
   ]
  },
  {
   "cell_type": "code",
   "execution_count": null,
   "metadata": {},
   "outputs": [],
   "source": [
    "'''n = 20'''\n",
    "c = 1\n",
    "myList3 = [20,50,16,80,60,43,9,46,95,35,46,7,89,2,59,47,82,71,8,1]\n",
    "myList3=sorted(myList3)\n",
    "print(\"n: \", len(myList3))\n",
    "print(\"Number of steps required to search for\", c, \": \", binarySearch(myList3, c) )"
   ]
  },
  {
   "cell_type": "code",
   "execution_count": null,
   "metadata": {},
   "outputs": [],
   "source": [
    "'''n = 40'''\n",
    "d = 1\n",
    "myList4 = [12,4,58,42,73,96,70,97,86,5,23,78,64,3,25,57,62,34,78,6,20,50,16,80,60,43,9,46,95,35,46,7,89,2,59,47,82,71,8,1]\n",
    "myList4=sorted(myList4)\n",
    "print(\"n: \", len(myList4))\n",
    "print(\"Number of steps required to search for\", d, \": \", binarySearch(myList4, d) )"
   ]
  },
  {
   "cell_type": "markdown",
   "metadata": {},
   "source": [
    "- <u>it only takes one additional step to find an element despite the size of the problem, $n$, doubling (or trippling, etc) </u>\n",
    " - growth rate is what is known as *logarithmic* \n",
    "<br>\n",
    "<br>\n",
    "\n",
    "To provide a clearer picture, we use the values found previously in the binary search algorithm to plot a graph of the average number of steps against the array size, $n$."
   ]
  },
  {
   "cell_type": "code",
   "execution_count": null,
   "metadata": {},
   "outputs": [],
   "source": [
    "import matplotlib.pyplot as plt\n",
    "\n",
    "#n = [10000, 20000, 40000,80000,160000,320000]\n",
    "n=[5,10,20,40]\n",
    "#steps = [12,13,14,15,16,17]\n",
    "steps=[2,3,4,5]\n",
    "\n",
    "plt.plot(n, steps, 'b')\n",
    "plt.xlabel('Array size, n')\n",
    "plt.ylabel('Number of steps')\n",
    "plt.title('Logarithmic Complexity')\n",
    "plt.show()"
   ]
  },
  {
   "cell_type": "markdown",
   "metadata": {},
   "source": [
    "- a logarithmic algorithm is one whose rate of growth decreases as the problem size increases\n",
    "\n",
    "- also note, it's not uncommon to use $\\log{n}$ to imply $\\log_2{n}$ when specifying the run time of an algorithm (refer to DS-L02a for further details regarding logarithms)"
   ]
  },
  {
   "cell_type": "markdown",
   "metadata": {},
   "source": [
    "---"
   ]
  },
  {
   "cell_type": "markdown",
   "metadata": {},
   "source": [
    "**Polynomial Notation: *O(n&#x00B2;)*, *O(n&#x00B3;)*, etc.**"
   ]
  },
  {
   "cell_type": "code",
   "execution_count": null,
   "metadata": {},
   "outputs": [],
   "source": [
    "def searchSquareArray(arr, x, n): # where n is the size of the square array\n",
    "    for row in range(n):\n",
    "        for col in range(n):\n",
    "            if arr[row][col] == x: \n",
    "                return (row + 1), (col + 1)\n",
    "    return -1"
   ]
  },
  {
   "cell_type": "code",
   "execution_count": null,
   "metadata": {},
   "outputs": [],
   "source": [
    "sqrArr = [[8,4,9],[7,1,5],[3,2,6]]\n",
    "n = len(sqrArr)\n",
    "print(\"(row, col):\", searchSquareArray(sqrArr,1,n))"
   ]
  },
  {
   "cell_type": "markdown",
   "metadata": {},
   "source": [
    "- the function above represents a search algorithm for finding the index of an element in a square array, where $n$ is the size of the square array.\n",
    "\n",
    "- it returns the row and column of the element in the square array.\n",
    "\n",
    "- comprises of a nested `for` loop which iterates for $0$ to $n$ for each loop\n",
    "\n",
    "- worst case scenario (element is at end of the square array)\n",
    " - it will take $n^2$ steps to reach the element\n",
    "<br>\n",
    "<br>\n",
    "- above example is *quadratic*\n",
    "\n",
    "![search_square_array](https://i.ibb.co/ctstDDv/Slide4.png)"
   ]
  },
  {
   "cell_type": "markdown",
   "metadata": {},
   "source": [
    "---"
   ]
  },
  {
   "cell_type": "markdown",
   "metadata": {},
   "source": [
    "### Characterizing Functions in Simplest Terms\n",
    "\n",
    "- big O notation can be determined by simplifying terms\n",
    "\n",
    "*Example:*\n",
    "> Given that the growth rate of a particular algorithm is define as $C(n) = 50000 log (n)\\ +\\ 4n^2\\ + 0.7n\\ + 830$ where $n$ is the input size, what is the big O of the algorithm?"
   ]
  },
  {
   "cell_type": "markdown",
   "metadata": {},
   "source": [
    "(double click <u><b style=\"color:blue;\">here</b></u>)\n",
    "\n",
    "<!-- referring to principles of big O, answer is O(n^2) -->"
   ]
  },
  {
   "cell_type": "markdown",
   "metadata": {},
   "source": [
    "  "
   ]
  },
  {
   "cell_type": "markdown",
   "metadata": {},
   "source": [
    "**Important Notes**  \n",
    "It is important to note that when analyzing the time complexity of an algorithm with several operations we need to describe the algorithm based on the largest complexity among all operations.   \n",
    "For example:"
   ]
  },
  {
   "cell_type": "code",
   "execution_count": null,
   "metadata": {},
   "outputs": [],
   "source": [
    "def my_function(data):\n",
    "    first_element = data[0]\n",
    "    \n",
    "    for value in data:\n",
    "        print(value)\n",
    "    \n",
    "    for x in data:\n",
    "        for y in data:\n",
    "            print(x, y)"
   ]
  },
  {
   "cell_type": "markdown",
   "metadata": {},
   "source": [
    "Even that the operations in ‘my_function’ don’t make sense we can see that it has multiple time complexities: O(1) + O(n) + O(n²). So, when increasing the size of the input data, the bottleneck of this algorithm will be the operation that takes O(n²). Based on this, we can describe the time complexity of this algorithm as O(n²)."
   ]
  },
  {
   "cell_type": "markdown",
   "metadata": {},
   "source": [
    "---"
   ]
  },
  {
   "cell_type": "markdown",
   "metadata": {},
   "source": [
    "**Exercise**:\n",
    "> Determine the big O of the following growth rate function:  \n",
    "> $C(n) = 1 + 2 + 3 + \\cdots + (n-1) + n$"
   ]
  },
  {
   "cell_type": "markdown",
   "metadata": {},
   "source": [
    "### Big O Notation of Common Functions\n",
    "\n",
    "https://www.ics.uci.edu/~pattis/ICS-33/lectures/complexitypython.txt"
   ]
  },
  {
   "cell_type": "markdown",
   "metadata": {},
   "source": [
    "---"
   ]
  },
  {
   "cell_type": "markdown",
   "metadata": {},
   "source": [
    "### Additional Information\n",
    "\n",
    "- there are still many other notations, such as $O(n^2)$, $O(n!)$, $O(n \\log{n})$. You are encouraged to explore more about the other notations.\n",
    "\n",
    "- note of caution:\n",
    " - big O notations notations can be somewhat misleading if the constant factors they “hide” are very large\n",
    " - e.g.  while it is true that the function $10^{100}n$ is $O(n)$, if this is the running time of an algorithm being compared to one whose running time is $10n\\log n$, we should prefer the $O(n \\log{n})$ time algorithm, even though the linear-time algorithm is faster\n",
    " - $10^{100}$ is the number of atoms in the observarable universe - unlikely to reach that input size in a rule world problem"
   ]
  },
  {
   "cell_type": "markdown",
   "metadata": {},
   "source": [
    "*Class Discussion:*\n",
    "> What constitutes a 'fast' algorithm?"
   ]
  },
  {
   "cell_type": "markdown",
   "metadata": {},
   "source": [
    "(double click <u><b style=\"color:blue;\">here</b></u>)\n",
    "\n",
    "<!-- \n",
    "\n",
    "Generally speaking, any algorithm running in O(n log n) time (with a reasonable constant factor) should be considered efficient.\n",
    "\n",
    "Even an O(n^2) time function may be fast enough in some contexts, that is, when n is small.\n",
    "\n",
    "But an algorithm running in O(2^n) time should almost never be considered efficient.\n",
    "\n",
    "-->"
   ]
  },
  {
   "cell_type": "markdown",
   "metadata": {},
   "source": [
    "### Exercise:"
   ]
  },
  {
   "cell_type": "markdown",
   "metadata": {},
   "source": [
    "**Q. Which of the following best describes the useful criterion for comparing the efficiency of algorithms?**  \n",
    "A. Time  \n",
    "B. Memory  \n",
    "C. Both of the above  \n",
    "d. None of the above  "
   ]
  },
  {
   "cell_type": "markdown",
   "metadata": {},
   "source": [
    "**Q. How is time complexity measured?**    \n",
    "A. By counting the number of statements in an algorithm  \n",
    "B. By counting the number of primitive operations performed by the algorithm on a given input size  \n",
    "C. By counting the size of data input to the algorithm  \n",
    "D. None of the above"
   ]
  },
  {
   "cell_type": "markdown",
   "metadata": {},
   "source": [
    "**Q. Which of the following does NOT belong to the family of notations?**  \n",
    "1. Big (O)  \n",
    "2. Big (Ω)  \n",
    "3. Big (θ)  \n",
    "4. Big (⋈)  "
   ]
  },
  {
   "cell_type": "markdown",
   "metadata": {},
   "source": [
    "**Q. What will be the time complexity of following fragment of code?** "
   ]
  },
  {
   "cell_type": "code",
   "execution_count": null,
   "metadata": {},
   "outputs": [],
   "source": [
    "for i in range(n):  \n",
    "    i*=k  "
   ]
  },
  {
   "cell_type": "markdown",
   "metadata": {},
   "source": [
    "1. O(n)\n",
    "2. O(k)\n",
    "3. O(log k)\n",
    "4. O(log n)"
   ]
  },
  {
   "cell_type": "markdown",
   "metadata": {},
   "source": [
    "**Q. What is the running time complexity of the following code snippet?**  "
   ]
  },
  {
   "cell_type": "code",
   "execution_count": null,
   "metadata": {},
   "outputs": [],
   "source": [
    "for i in range(n):\n",
    "    for j in range(i):\n",
    "        val += 1"
   ]
  },
  {
   "cell_type": "markdown",
   "metadata": {},
   "source": [
    "A) n  \n",
    "B) n(n+1)  \n",
    "C) n(n-1)/2  \n",
    "D) n(n+1)/n  "
   ]
  },
  {
   "cell_type": "markdown",
   "metadata": {},
   "source": [
    "**Q. Algorithm A and B have a worst case running time of O(n) and O(log n), respectively. Therefore, algorithm B always run faster than algorithm A.**  \n",
    "A) True  \n",
    "B) False"
   ]
  }
 ],
 "metadata": {
  "kernelspec": {
   "display_name": "Python 3",
   "language": "python",
   "name": "python3"
  },
  "language_info": {
   "codemirror_mode": {
    "name": "ipython",
    "version": 3
   },
   "file_extension": ".py",
   "mimetype": "text/x-python",
   "name": "python",
   "nbconvert_exporter": "python",
   "pygments_lexer": "ipython3",
   "version": "3.8.3"
  }
 },
 "nbformat": 4,
 "nbformat_minor": 4
}
