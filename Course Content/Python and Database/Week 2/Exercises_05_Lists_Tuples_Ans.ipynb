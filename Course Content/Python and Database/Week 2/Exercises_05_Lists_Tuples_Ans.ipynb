{
 "cells": [
  {
   "cell_type": "markdown",
   "metadata": {},
   "source": [
    "# Python Lists & Tuples Exercise"
   ]
  },
  {
   "cell_type": "markdown",
   "metadata": {},
   "source": [
    "# Complete the code cells\n",
    "---\n",
    "**Q1**) Write a line of code that prints this output `('here', 100, 9)` using **negative indexing** from the given tuple. "
   ]
  },
  {
   "cell_type": "code",
   "execution_count": null,
   "metadata": {},
   "outputs": [],
   "source": [
    "tuple_var = (\"hello\", 5, 6, \"bar\", \"here\", 100, 9)\n",
    "\n",
    "prints(tuple_var[-3:])"
   ]
  },
  {
   "cell_type": "markdown",
   "metadata": {},
   "source": [
    "**Q2)** Write a line of code to put the number of elements in the `list_var` into `num_elem`. Then print the value in `num_elem`."
   ]
  },
  {
   "cell_type": "code",
   "execution_count": null,
   "metadata": {},
   "outputs": [],
   "source": [
    "list_var = [5, 8, 3, \"hello\", \"foo\", 8, \"bar\", 2, \"the\", [\"brown\", \"fox\"], 8]\n",
    "\n",
    "num_elem = len(list_var)\n",
    "print(num_elem)"
   ]
  },
  {
   "cell_type": "markdown",
   "metadata": {},
   "source": [
    "**Q3)** Write a line of code that produces this output from the given lists.    \n",
    "`[\"The\", \"brown\", \"fox\", \"is\", \"hiding\", \"behind\", \"the\", \"fence\"]`"
   ]
  },
  {
   "cell_type": "code",
   "execution_count": null,
   "metadata": {},
   "outputs": [],
   "source": [
    "list_var1 = [\"Hello\", \"python\", 5, 8, [\"The\", \"brown\", \"fox\", \"is\", \"hiding\"], 99]\n",
    "list_var2 = [\"behind\", \"the\", \"fence\"]\n",
    "\n",
    "print(list_var1[4] + list_var2)"
   ]
  },
  {
   "cell_type": "markdown",
   "metadata": {},
   "source": [
    "<b>Q4)</b> Given the list in the code cell below, use <b>index slicing</b> to get rid of the second <code>4</code> so that there is only 2 <code>4</code>s left in the list.\n",
    "Save the result in a variable called <code>new_lst</code>"
   ]
  },
  {
   "cell_type": "code",
   "execution_count": null,
   "metadata": {},
   "outputs": [],
   "source": [
    "lst = [5, 8, 9, 2.555, 4, 8, 0.25, 4, 7, 64, 10, 75.22, 96.15, 85, 4]\n",
    "\n",
    "new_lst = lst[0:7] + lst[8:]\n",
    "print(new_lst)"
   ]
  },
  {
   "cell_type": "markdown",
   "metadata": {},
   "source": [
    "**Q5)** Given the following lists, add the contents of the `sub_list` to the main list between the elements `5000` and `6000`.<br>\n",
    "**Hint:** The built-in `enumerate()` function may be useful.\n",
    "\n",
    "**Output Example**\n",
    "<pre>\n",
    "[10, 20, [300, 400, [5000, 7000, 8000, 6000], 500], 30, 40]\n",
    "</pre>"
   ]
  },
  {
   "cell_type": "code",
   "execution_count": null,
   "metadata": {},
   "outputs": [],
   "source": [
    "lst = [10, 20, [300, 400, [5000, 6000], 500], 30, 40]\n",
    "sub_list = [7000, 8000]\n",
    "\n",
    "for idx, item in enumerate(sub_list):\n",
    "    lst[2][2].insert(idx+1, item)\n",
    "\n",
    "print(lst)"
   ]
  },
  {
   "cell_type": "markdown",
   "metadata": {},
   "source": [
    "## Write codes based on the questions\n",
    "---\n",
    "**Q1)** Write a function called `remove_duplicates()` to remove all duplicate elements from a given list. This function accepts a list of numbers and return a cleaned list of numbers."
   ]
  },
  {
   "cell_type": "code",
   "execution_count": null,
   "metadata": {},
   "outputs": [],
   "source": [
    "def remove_duplicates(num_list):\n",
    "    '''\n",
    "    Function to remove duplicates from a list.\n",
    "    Input:\n",
    "        num_list - list of numbers\n",
    "    Return:\n",
    "        list of numbers without duplicates\n",
    "    '''\n",
    "    cleaned_list = []\n",
    "    for num in num_list:\n",
    "        if num not in cleaned_list:\n",
    "            cleaned_list.append(num)\n",
    "    \n",
    "    return cleaned_list\n",
    "\n",
    "list_nums = [11,57,92,18,95,19,95,85,44,11,55,85,57,11,95]\n",
    "print(remove_duplicates(list_nums))"
   ]
  },
  {
   "cell_type": "markdown",
   "metadata": {},
   "source": [
    "**Q2)** Write a program that asks a user for positive integers until the termination number of `-1` is given.     \n",
    "Compute and show the count, maximum, minimum and average of the entered positive integers."
   ]
  },
  {
   "cell_type": "code",
   "execution_count": null,
   "metadata": {},
   "outputs": [],
   "source": [
    "num_list = []\n",
    "while True:\n",
    "    num = int(input('Enter a positive number: '))\n",
    "    if num == -1:\n",
    "        break\n",
    "        \n",
    "    num_list.append(num)\n",
    "\n",
    "print(\"Number of integers entered:\",len(num_list))\n",
    "print(\"Maximum Value:\", max(num_list))\n",
    "print(\"Minimum Value:\", min(num_list))\n",
    "print(\"Average:\", sum(num_list)/len(num_list))"
   ]
  },
  {
   "cell_type": "markdown",
   "metadata": {},
   "source": [
    "**Q3)** Write a program that finds the words from a list of words that are longer than the user requested word length.    \n",
    "Implement the program using a normal `for` loop and using list comprehension.\n",
    "\n",
    "**Program Output Example**\n",
    "<pre>\n",
    "Enter a word length to search for:  8\n",
    "['beautiful', 'ecstasies']\n",
    "</pre>"
   ]
  },
  {
   "cell_type": "code",
   "execution_count": null,
   "metadata": {},
   "outputs": [],
   "source": [
    "word_list = \"The most beautiful rose is one hardly more than a bud wherein the pangs and ecstasies of desire are working for a larger and finer growth\".split()"
   ]
  },
  {
   "cell_type": "code",
   "execution_count": null,
   "metadata": {},
   "outputs": [],
   "source": [
    "word_len = int(input('Enter a word length to search for: '))\n",
    "\n",
    "# for loop\n",
    "found=[]\n",
    "for word in word_list:\n",
    "    if len(word) > word_len:\n",
    "        found.append(word)\n",
    "\n",
    "print(found)"
   ]
  },
  {
   "cell_type": "code",
   "execution_count": null,
   "metadata": {},
   "outputs": [],
   "source": [
    "word_len = int(input('Enter a word length to search for: '))\n",
    "\n",
    "# list comprehension\n",
    "found = [word for word in word_list if len(word) > word_len]\n",
    "\n",
    "print(found)"
   ]
  },
  {
   "cell_type": "markdown",
   "metadata": {},
   "source": [
    "**Q4)** Given the list of numbers, remove all negative numbers by equating them to `0` and leaving the positive numbers unchanged.    \n",
    "Implement the program using a normal `for` loop and using list comprehension."
   ]
  },
  {
   "cell_type": "code",
   "execution_count": null,
   "metadata": {},
   "outputs": [],
   "source": [
    "nums_lst = [95, -96, 412, 8, 121, -895, -50.36, -969.7, 45.02, 60.47, -96, -7.02, 9.36, 0]"
   ]
  },
  {
   "cell_type": "code",
   "execution_count": null,
   "metadata": {},
   "outputs": [],
   "source": [
    "new_nums_lst = []\n",
    "for num in nums_lst:\n",
    "    if num < 0:\n",
    "        new_nums_lst.append(0)\n",
    "    else:\n",
    "        new_nums_lst.append(num)\n",
    "\n",
    "print(new_nums_lst)"
   ]
  },
  {
   "cell_type": "code",
   "execution_count": null,
   "metadata": {},
   "outputs": [],
   "source": [
    "new_nums_lst = [num if num > 0 else 0 for num in nums_lst]\n",
    "\n",
    "print(new_nums_lst)"
   ]
  },
  {
   "cell_type": "markdown",
   "metadata": {},
   "source": [
    "**Q5)** Write a function called `first_second()` that accepts a list of numbers. The function is to extract the first and second largest numbers from the randomly generated list of numbers. **DO NOT** remove the duplicates. "
   ]
  },
  {
   "cell_type": "code",
   "execution_count": null,
   "metadata": {},
   "outputs": [],
   "source": [
    "# to generate the list of random numbers\n",
    "import random \n",
    "\n",
    "list_of_nums = [random.randint(0,200) for _ in range(101)]\n",
    "print(list_of_nums)"
   ]
  },
  {
   "cell_type": "code",
   "execution_count": null,
   "metadata": {},
   "outputs": [],
   "source": [
    "def first_second(in_list):\n",
    "    '''\n",
    "    Function to find the first and second largest number in a given list of numbers\n",
    "    Input:\n",
    "        in_list - list of numbers\n",
    "    Return:\n",
    "        first and second largest numbers from the given list\n",
    "    '''\n",
    "    temp = in_list.copy()\n",
    "    temp.sort(reverse=True)\n",
    "    \n",
    "    first = temp[0]\n",
    "    second = None\n",
    "    for i in temp:\n",
    "        if i != first:\n",
    "            second = i\n",
    "            return first, second\n",
    "        \n",
    "\n",
    "st, nd = first_second(list_of_nums)\n",
    "print(\"The first and second largest number is\", st, \"and\", nd, \"respectively\")"
   ]
  },
  {
   "cell_type": "markdown",
   "metadata": {},
   "source": [
    "**Q6)** Write a function called `square_grid()` that accepts 2 integer numbers (`start` & `end`) and returns a list of lists in a format of either a $ 2x2 $ or $ 3x3 $ grid. The purpose of this function is to divide as many whole numbers within the given range into a $ m x m $ square grid. If there are not enough numbers, return an empty list. If there are excess numbers, discard them.\n",
    "\n",
    "Write another function called `pretty_print_lists()` to print the contents returned from the function `square_grid()` in a nice squarish grid.\n",
    "\n",
    "The program is to run continuously, requesting the user to input 2 integer numbers. The program will terminate when the letter `q` (case-insensitive) is entered for the first user input. \n",
    "\n",
    "**Program Output Example**\n",
    "<pre>\n",
    "Enter start number: 8\n",
    "Enter end number: 20\n",
    "8 9 10 \n",
    "11 12 13 \n",
    "14 15 16 \n",
    "\n",
    "Enter start number: 45\n",
    "Enter end number: 50\n",
    "45 46 \n",
    "47 48 \n",
    "\n",
    "Enter start number: q\n",
    "Bye Bye\n",
    "</pre>"
   ]
  },
  {
   "cell_type": "code",
   "execution_count": null,
   "metadata": {},
   "outputs": [],
   "source": [
    "def pretty_print_lists(lst):\n",
    "    '''\n",
    "    Function to print content in the lists in a square grid\n",
    "    Input:\n",
    "        lst - list of lists to print\n",
    "    '''\n",
    "    for item in lst:\n",
    "        for content in item:\n",
    "            print(content, end=' ')\n",
    "        print()\n",
    "    print()"
   ]
  },
  {
   "cell_type": "code",
   "execution_count": null,
   "metadata": {},
   "outputs": [],
   "source": [
    "def square_grid(start, end):\n",
    "    '''\n",
    "    Function to put running numbers in a list of lists\n",
    "    Input:\n",
    "        start - starting number of the range\n",
    "        end - ending number of the range\n",
    "    Return:\n",
    "        a list of lists of running numbers from the range\n",
    "    '''\n",
    "    size = (end - start) + 1\n",
    "    \n",
    "    if size >= 4 and size >= 9:\n",
    "        rows = 3\n",
    "    elif size >= 4:\n",
    "        rows = 2\n",
    "    else:\n",
    "        rows = 0\n",
    "        \n",
    "    squ_grid = []\n",
    "    for _ in range(rows):\n",
    "        temp = []\n",
    "        for _ in range(rows):\n",
    "            temp.append(start)\n",
    "            start += 1\n",
    "        squ_grid.append(temp)\n",
    "    \n",
    "    return squ_grid"
   ]
  },
  {
   "cell_type": "code",
   "execution_count": null,
   "metadata": {},
   "outputs": [],
   "source": [
    "while True:\n",
    "    start = input(\"Enter start number: \")\n",
    "    if start.lower() == 'q':\n",
    "        print(\"Bye Bye\")\n",
    "        break\n",
    "    start = int(start)\n",
    "    end = int(input(\"Enter end number: \"))\n",
    "    pretty_print_lists(square_grid(start,end))"
   ]
  },
  {
   "cell_type": "code",
   "execution_count": null,
   "metadata": {},
   "outputs": [],
   "source": []
  }
 ],
 "metadata": {
  "kernelspec": {
   "display_name": "Python 3",
   "language": "python",
   "name": "python3"
  },
  "language_info": {
   "codemirror_mode": {
    "name": "ipython",
    "version": 3
   },
   "file_extension": ".py",
   "mimetype": "text/x-python",
   "name": "python",
   "nbconvert_exporter": "python",
   "pygments_lexer": "ipython3",
   "version": "3.8.3"
  }
 },
 "nbformat": 4,
 "nbformat_minor": 4
}
