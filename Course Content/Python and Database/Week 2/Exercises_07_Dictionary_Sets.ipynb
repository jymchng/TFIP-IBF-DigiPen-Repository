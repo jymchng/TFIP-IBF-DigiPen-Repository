{
 "cells": [
  {
   "cell_type": "markdown",
   "metadata": {},
   "source": [
    "# Python Dictionary & Sets Exercise"
   ]
  },
  {
   "cell_type": "markdown",
   "metadata": {},
   "source": [
    "## Complete the code cells\n",
    "---"
   ]
  },
  {
   "cell_type": "markdown",
   "metadata": {},
   "source": [
    "**Q1)** Given the dictionary (in the code cell below) do the following:\n",
    "* add a key to the `inventory` called `cheese`\n",
    "* set the value of `cheese` to be a list consisting of `parmesan`, `cheddar`, `blue cheese`, `goat cheeese`\n",
    "* sort the items in the `backpack` in ascending order\n",
    "* remove the `bread loaf` after the list have been sorted\n",
    "* the price of gold has increased therefore add 60 to the current value for `gold`"
   ]
  },
  {
   "cell_type": "code",
   "execution_count": null,
   "metadata": {},
   "outputs": [],
   "source": [
    "inventory = {\n",
    "    'gold' : 500,\n",
    "    'gems' : ['diamond', 'saphire', 'amethyst'],\n",
    "    'backpack' : ['xylophone','dagger', 'breadroll','bread loaf']\n",
    "}\n",
    "\n"
   ]
  },
  {
   "cell_type": "markdown",
   "metadata": {},
   "source": [
    "**Q2)** Write a program to generate and print a dictionary that contains numbers (keys) between `1` to `n` where `n` is an integer value provided by the user. The values are of the form $ keys^{2} $. Your program must work on any size value entered by the user.\n",
    "\n",
    "**Program Output Example:**\n",
    "<pre>\n",
    "size = 3\n",
    "d = {1:1, 2:4, 3:9}\n",
    "</pre>"
   ]
  },
  {
   "cell_type": "code",
   "execution_count": null,
   "metadata": {},
   "outputs": [],
   "source": []
  },
  {
   "cell_type": "markdown",
   "metadata": {},
   "source": [
    "**Q3)** Create a dictionary called `fruits` with the data in the table below. This dictionary stores the type of fruit (keys) with it's number of stock remaining (values) for a store. Complete the program to check if the particular fruit (case insensitive) is in stock or not based on a user's input.\n",
    "\n",
    "|Type of fruit (keys) | Stock (values) |\n",
    "|---------------------|----------------|\n",
    "| Apples              |       50       |\n",
    "| Pears               |       80       |\n",
    "| Mangoes             |       5        |\n",
    "| Pineapples          |       10       |\n",
    "| Durian              |       40       |\n",
    "| Oranges             |       20       |"
   ]
  },
  {
   "cell_type": "code",
   "execution_count": null,
   "metadata": {},
   "outputs": [],
   "source": []
  },
  {
   "cell_type": "markdown",
   "metadata": {},
   "source": [
    "**Q4)** Write a program to combine the two given dictionaries into a new dictionary called `combine_dict`, adding the values for common keys. **Do not use any python libraries.**\n",
    "\n",
    "**Hint:** Using Sets is helpful."
   ]
  },
  {
   "cell_type": "code",
   "execution_count": null,
   "metadata": {},
   "outputs": [],
   "source": [
    "d1 = {'a': 150, 'b': 220, 'c':512}\n",
    "d2 = {'a': 300, 'b': 260, 'd':995}\n"
   ]
  },
  {
   "cell_type": "markdown",
   "metadata": {},
   "source": [
    "**Q5)** Given a dictionary, remove the items with `None` values. Use dictionary comprehension to solve this."
   ]
  },
  {
   "cell_type": "code",
   "execution_count": null,
   "metadata": {},
   "outputs": [],
   "source": [
    "d = {'item0': None, 'item1': 346, 'item2': 204, 'item3': None, 'item4': 720, 'item5': 98, 'item6': 25, 'item7': 55, 'item8': None, 'item9': 253, 'item10': None}\n",
    "\n"
   ]
  },
  {
   "cell_type": "markdown",
   "metadata": {},
   "source": [
    "## Write codes based on the questions\n",
    "---"
   ]
  },
  {
   "cell_type": "markdown",
   "metadata": {},
   "source": [
    "**Q1)** Write a function called `largest_value_dict()` that accepts an integer and a randomly generated dictionary of values. The integer is used to specify the number of keys to return from searching the dictionary for the n largest values in it.\n",
    "\n",
    "Write another function called `gen_dict()` that returns a generated the dictionary. The keys of this dictionary are the english alphabets in lowercase and it's values are random number from the range of `1` to `99999`.\n",
    "\n",
    "**Hints:**   \n",
    "* use the `randint()` function to generate the dictionary values\n",
    "* in the `string` library, all english alphabets can be access via the constant `string.ascii_lowercase`\n",
    "\n",
    "**Program Output Example**\n",
    "<pre>\n",
    "Enter an integer for the largest number of values to find: 5\n",
    "Dictionary being used:\n",
    "{'a': 14593, 'b': 3279, 'c': 97197, 'd': 36049, 'e': 32099, 'f': 29257, 'g': 18290, 'h': 96531, 'i': 13435, 'j': 88697, 'k': 97081, 'l': 71483, 'm': 11396, 'n': 77398, 'o': 55303, 'p': 4166, 'q': 3906, 'r': 12281, 's': 28658, 't': 30496, 'u': 66238}\n",
    "\n",
    "['c', 'k', 'h', 'j', 'n']\n",
    "</pre>"
   ]
  },
  {
   "cell_type": "code",
   "execution_count": 7,
   "metadata": {
    "ExecuteTime": {
     "end_time": "2020-11-05T01:15:54.033405Z",
     "start_time": "2020-11-05T01:15:52.617192Z"
    }
   },
   "outputs": [
    {
     "name": "stdout",
     "output_type": "stream",
     "text": [
      "Enter an integer for the largest number of values to find:5\n"
     ]
    },
    {
     "ename": "TypeError",
     "evalue": "'function' object is not iterable",
     "output_type": "error",
     "traceback": [
      "\u001b[1;31m---------------------------------------------------------------------------\u001b[0m",
      "\u001b[1;31mTypeError\u001b[0m                                 Traceback (most recent call last)",
      "\u001b[1;32m<ipython-input-7-696927cc4234>\u001b[0m in \u001b[0;36m<module>\u001b[1;34m\u001b[0m\n\u001b[0;32m     10\u001b[0m \u001b[1;33m\u001b[0m\u001b[0m\n\u001b[0;32m     11\u001b[0m \u001b[0md\u001b[0m \u001b[1;33m=\u001b[0m \u001b[0mgen_dict\u001b[0m\u001b[1;33m\u001b[0m\u001b[1;33m\u001b[0m\u001b[0m\n\u001b[1;32m---> 12\u001b[1;33m \u001b[0msorted\u001b[0m\u001b[1;33m(\u001b[0m\u001b[0md\u001b[0m\u001b[1;33m,\u001b[0m \u001b[0mkey\u001b[0m\u001b[1;33m=\u001b[0m\u001b[1;32mlambda\u001b[0m \u001b[0mitem\u001b[0m\u001b[1;33m:\u001b[0m\u001b[0mitem\u001b[0m\u001b[1;33m[\u001b[0m\u001b[1;36m1\u001b[0m\u001b[1;33m]\u001b[0m\u001b[1;33m,\u001b[0m \u001b[0mreverse\u001b[0m \u001b[1;33m=\u001b[0m \u001b[1;32mTrue\u001b[0m\u001b[1;33m)\u001b[0m\u001b[1;33m[\u001b[0m\u001b[1;36m5\u001b[0m\u001b[1;33m]\u001b[0m\u001b[1;33m\u001b[0m\u001b[1;33m\u001b[0m\u001b[0m\n\u001b[0m",
      "\u001b[1;31mTypeError\u001b[0m: 'function' object is not iterable"
     ]
    }
   ],
   "source": [
    "import string, random\n",
    "\n",
    "num=int(input(\"Enter an integer for the largest number of values to find:\"))\n",
    "\n",
    "def gen_dict():\n",
    "    return {x:random.randint(1,99999) for x in string.ascii_lowercase}\n",
    "\n",
    "def largest_value_dict(num, d):\n",
    "    return sorted(d, key=lambda item:item[1], reverse = True)[5]\n",
    "\n",
    "d = gen_dict\n",
    "sorted(d, key=lambda item:item[1], reverse = True)[5]"
   ]
  },
  {
   "cell_type": "markdown",
   "metadata": {},
   "source": [
    "**Q2)** Write a function called `combine_values()` that accepts a list of dictionaries and combines the values of with the same keys. The function returns a dictionary of the combined result. Order of the combined dictionary is not important.\n",
    "\n",
    "Modify your previously made `gen_dict()` function to be now called `gen_list_dict()` that generates a list of dictionaries based on following the requirments: \n",
    "* the number of dictionaries in the list is a random number between `10` and `25`\n",
    "* keys are `item` and `amount`\n",
    "* values are respective of the keys:\n",
    " * `item<x>` - where x is a randomly selected number from the range of `1` to `4`, inclusive of `1` and `4`.\n",
    " * `amount` - a random number from the range of `1` to `999`.\n",
    "\n",
    "**Program Output Example**\n",
    "<pre>\n",
    "List of dictionaries being used:\n",
    "[{'item': 'item1', 'amount': 26}, {'item': 'item3', 'amount': 251}, {'item': 'item2', 'amount': 143}, {'item': 'item1', 'amount': 693}, {'item': 'item1', 'amount': 605}, {'item': 'item4', 'amount': 33}, {'item': 'item1', 'amount': 96}, {'item': 'item2', 'amount': 239}, {'item': 'item1', 'amount': 575}, {'item': 'item2', 'amount': 734}, {'item': 'item4', 'amount': 226}, {'item': 'item4', 'amount': 604}, {'item': 'item3', 'amount': 829}, {'item': 'item1', 'amount': 778}, {'item': 'item2', 'amount': 715}, {'item': 'item4', 'amount': 349}, {'item': 'item3', 'amount': 160}, {'item': 'item2', 'amount': 981}, {'item': 'item3', 'amount': 105}, {'item': 'item1', 'amount': 390}, {'item': 'item1', 'amount': 368}]\n",
    "\n",
    "Combine result: {'item1': 3531, 'item3': 1345, 'item2': 2812, 'item4': 1212}\n",
    "</pre>"
   ]
  },
  {
   "cell_type": "code",
   "execution_count": null,
   "metadata": {},
   "outputs": [],
   "source": []
  },
  {
   "cell_type": "markdown",
   "metadata": {},
   "source": [
    "**Q3)** Create a dictionary called `bank_personal_loan` with the data in the table below.     \n",
    "Write a function `best_bank()` that accepts a user input (either string or integer) and returns either a bank name and monthly payment amount (in a dictionary) or `None` if the input is invalid.\n",
    "\n",
    "The a program (not the function) must fulfil these requirements:\n",
    "* Where a user is able to ask for **either** a loan name (case insensitive) or the monthly repayment amount. A **single** input value\n",
    "* An error message must be shown when **either** key or value is not available in the dictionary\n",
    "* The function must be able to return with the right values and the program prints an informative message based on the result\n",
    "\n",
    "|key (bank name) |value (Monthly Payment in SGD) |\n",
    "|:---|:---|\n",
    "| SCB | 310 |\n",
    "| Citi | 316 |\n",
    "| OCBC | 307 |\n",
    "| HSBC | 309 |\n",
    "| DBS/POSB | 311 |\n",
    "| UOB | 313 |\n",
    "| CIMB | 315 |\n",
    "| Maybank | 327 |\n",
    "| BOC | 332 |\n",
    "\n",
    "**Program Output Example**    \n",
    "Output 1\n",
    "<pre>\n",
    "Enter either a bank's name or monthly repayment amount: rimb\n",
    "Your input is invalid.\n",
    "</pre>\n",
    "Output 2\n",
    "<pre>\n",
    "Enter either a bank's name or monthly repayment amount: 327\n",
    "Bank: MAYBANK\n",
    "Monthly repayment amount: 327\n",
    "</pre>\n",
    "Output 3\n",
    "<pre>\n",
    "Enter either a bank's name or monthly repayment amount:  ocbc\n",
    "Bank: OCBC\n",
    "Monthly repayment amount: 307\n",
    "</pre>"
   ]
  },
  {
   "cell_type": "code",
   "execution_count": null,
   "metadata": {},
   "outputs": [],
   "source": []
  }
 ],
 "metadata": {
  "kernelspec": {
   "display_name": "Python 3",
   "language": "python",
   "name": "python3"
  },
  "language_info": {
   "codemirror_mode": {
    "name": "ipython",
    "version": 3
   },
   "file_extension": ".py",
   "mimetype": "text/x-python",
   "name": "python",
   "nbconvert_exporter": "python",
   "pygments_lexer": "ipython3",
   "version": "3.8.3"
  }
 },
 "nbformat": 4,
 "nbformat_minor": 4
}
