{
 "cells": [
  {
   "cell_type": "markdown",
   "metadata": {},
   "source": [
    "**Q1)** Write a program to sort the characters of a string such that the it follows following format: <br>uppercase letters, lowercase letters then numbers. Punctuation is not required.\n",
    "\n",
    "**Hint:** use `isalpha()`<br>\n",
    "`isalpha()`: Returns True if all characters are only alphabet symbols(a to z,A to Z)  \n",
    "\n",
    "\n",
    "**Sample Program Output**\n",
    "<pre>\n",
    "<b>Input:</b> B4A1D3  \n",
    "<b>Output:</b> ABD134\n",
    "</pre>"
   ]
  },
  {
   "cell_type": "code",
   "execution_count": null,
   "metadata": {},
   "outputs": [],
   "source": []
  },
  {
   "cell_type": "markdown",
   "metadata": {},
   "source": [
    "---"
   ]
  },
  {
   "cell_type": "markdown",
   "metadata": {},
   "source": [
    "**Q2)** Write a function to count the number of strings from the given list of strings where the strings must have a length more than or equal to 2 and its first and last character must match."
   ]
  },
  {
   "cell_type": "code",
   "execution_count": null,
   "metadata": {},
   "outputs": [],
   "source": []
  },
  {
   "cell_type": "markdown",
   "metadata": {},
   "source": [
    "---"
   ]
  },
  {
   "cell_type": "markdown",
   "metadata": {},
   "source": [
    "**Q3)** Write a function that accepts a string, calculates the number of upper case letters and lower case letters and returns the values as a dictionary. The program (not the function) is to print the *expected output* defined below.\n",
    "\n",
    "**Sample program output**\n",
    "<pre>\n",
    "Original String : The quick Brown Fox\n",
    "No. of Upper case characters : 3\n",
    "No. of Lower case Characters : 13 \n",
    "</pre>\n",
    "\n",
    "**Hint:**   \n",
    "* `islower():` Returns True if all characters are lower case alphabet symbols\n",
    "* `isupper():` Returns True if all characters are upper case aplhabet symbols"
   ]
  },
  {
   "cell_type": "code",
   "execution_count": null,
   "metadata": {},
   "outputs": [],
   "source": []
  },
  {
   "cell_type": "markdown",
   "metadata": {},
   "source": [
    "---"
   ]
  },
  {
   "cell_type": "markdown",
   "metadata": {},
   "source": [
    "**Q4)** Write a function to check whether a sequence of numbers have a linear, quadratic or cubic related number pattern and return a string stating which pattern it is. If there is no related pattern, return `Not part of the sequence`.\n",
    "\n",
    "A linear sequence means that the common difference is the same each time.<br>\n",
    "A quadratic sequence means that the common difference is the same after the 2nd time.<br>\n",
    "A cubic sequence means that the common difference is the same after the 3rd time.\n",
    "\n",
    "**Sample program output**\n",
    "<pre>\n",
    "Linear Sequence: [0,2,4,6,8,10]\n",
    "Quadratic Sequence: [1,4,9,16,25]\n",
    "Cubic Sequence: [0,12,10,0,-12,-20]\n",
    "Not part of the sequence: [8,5,4,6,2,7]\n",
    "</pre>"
   ]
  },
  {
   "cell_type": "code",
   "execution_count": null,
   "metadata": {},
   "outputs": [],
   "source": []
  },
  {
   "cell_type": "markdown",
   "metadata": {},
   "source": [
    "---"
   ]
  },
  {
   "cell_type": "markdown",
   "metadata": {},
   "source": [
    "**Q5)** Using a single list comprehension and lambda functions apply the math functions\n",
    "$ f(x) = x+x $ and $ g(x) = x*x $ to a list of numbers.\n",
    "\n",
    "**Sample Program Output**\n",
    "<pre>\n",
    "Input: [4,5,6]\n",
    "Output: [8, 10, 12, 16, 25, 36]\n",
    "<pre>"
   ]
  },
  {
   "cell_type": "code",
   "execution_count": null,
   "metadata": {},
   "outputs": [],
   "source": []
  },
  {
   "cell_type": "markdown",
   "metadata": {},
   "source": [
    "---"
   ]
  },
  {
   "cell_type": "markdown",
   "metadata": {},
   "source": [
    "**Q6)** The following codes loops the contents of a 2D list in a the direction from left to right but there are errors. Correct the errors to produce the following output.\n",
    "\n",
    "**Sample Program Output**<br>\n",
    "**Note:** There are 8 output slices only 4 is shown.\n",
    "<pre>\n",
    " - - - * - - - -\n",
    " - - - - * - - -\n",
    " - - - - - * - -\n",
    " - * * * * * * -\n",
    " - * * * * * * -\n",
    " - - - - - * - -\n",
    " - - - - * - - -\n",
    " - - - * - - - -\n",
    " \n",
    " - - - - * - - -\n",
    " - - - - - * - -\n",
    " - - - - - - * -\n",
    " - - * * * * * *\n",
    " - - * * * * * *\n",
    " - - - - - - * -\n",
    " - - - - - * - -\n",
    " - - - - * - - -\n",
    " \n",
    " - - - - - * - -\n",
    " - - - - - - * -\n",
    " - - - - - - - *\n",
    " * - - * * * * *\n",
    " * - - * * * * *\n",
    " - - - - - - - *\n",
    " - - - - - - * -\n",
    " - - - - - * - -\n",
    " \n",
    " - - - - - - * -\n",
    " - - - - - - - *\n",
    " * - - - - - - -\n",
    " * * - - * * * *\n",
    " * * - - * * * *\n",
    " * - - - - - - -\n",
    " - - - - - - - *\n",
    " - - - - - - * -\n",
    " \n",
    " ...\n",
    "</pre>"
   ]
  },
  {
   "cell_type": "code",
   "execution_count": null,
   "metadata": {},
   "outputs": [],
   "source": [
    "\n",
    "b = (0,0,0)\n",
    "w = (255,255,255)\n",
    "\n",
    "rightArrow =  [b,b,b,w,b,b,b,b],\n",
    "              [b,b,b,b,w,b,b,b],\n",
    "              [b,b,b,b,b,w,b,b],\n",
    "              [b,w,w,w,w,w,w,b],\n",
    "              [b,w,w,w,w,w,w,b],\n",
    "              [b,b,b,b,b,w,b,b],\n",
    "              [b,b,b,b,w,b,b,b],\n",
    "              [b,b,b,w,b,b,b,b],\n",
    "\n",
    "def right(board):\n",
    "    '''\n",
    "    Function to move the contents in the matrix to the right\n",
    "    '''\n",
    "    # init 2d array\n",
    "    temp = [0 for x in range(8) for y in range(8)]\n",
    "    \n",
    "    # swapping the last column with the first column \n",
    "    for j in range(5):\n",
    "        temp[j] = board[j]\n",
    "    \n",
    "    # copying the rest of the contents back\n",
    "    for col in range(8):\n",
    "        for row in range(5):\n",
    "            temp[row+1][col] = board[row]\n",
    "\n",
    "    return\n",
    "\n",
    "\n",
    "def print_8x8(board):\n",
    "    '''\n",
    "    Function to print the matrix\n",
    "    '''\n",
    "    for row in board\n",
    "        for col in row:\n",
    "            if col == b:\n",
    "                print(' -', end=\"\")\n",
    "            else:\n",
    "                print(' *', end=\"\")\n",
    "        print()\n",
    "\n",
    "# each step of this for loop is a slice of animation for the arrow\n",
    "# use it to check that your arrow is moving in the right direction\n",
    "for i in range(0,8):\n",
    "    # print the arrow\n",
    "    print_8(rightArrow)\n",
    "    # compute the arrow's next step\n",
    "    arrow = right(rightArrow)\n",
    "    print()"
   ]
  },
  {
   "cell_type": "markdown",
   "metadata": {},
   "source": [
    "---"
   ]
  },
  {
   "cell_type": "markdown",
   "metadata": {},
   "source": [
    "**Q7)** *FICO® Score* is one of the most well-known types of credit score in the industry. *FICO® Scores* are used by many lenders, and credit scores range from 300 to 850.\n",
    "\n",
    "The *FICO® Score* ranges are listed in the table below:\n",
    "\n",
    "| Credit Score |   Rating    |\n",
    "|:------------:|:-----------:|\n",
    "|  300 - 579   |  Very Poor  |\n",
    "|  580 - 669   |     Fair    |\n",
    "|  670 - 739   |     Good    |\n",
    "|  740 - 799   |  Very Good  |\n",
    "|  800 - 850   | Exceptional |\n",
    "\n",
    "<br>\n",
    "\n",
    "**(a)** DigiBank had just adopted the *FICO® Score* to be used as part of its system. An intern was tasked to implement it.\n",
    "\n",
    "However, the intern's attachment with the bank had ended and a portion of his code was left untested.\n",
    "\n",
    "As the new addition to the bank, you are then tasked to test his code.\n",
    "\n",
    "You are expected to debug errors if any (hint: you not required to replace entire lines of code).\n",
    "\n",
    "The system stores all entries in a `dict` format.\n",
    "\n",
    "Currently, there are only 3 entries in the system:\n",
    "- Alex with a credit score of 800\n",
    "- Bob with a credit score of 640\n",
    "- Charlie with a credit score of 500\n",
    "\n",
    "The first cell below contains the function `fico` that requires testing and debugging.\n",
    "\n",
    "`fico` takes in the dictionary of entries as input. It then request user inputs for new entries, conducts basic checks on the user inputs, and updates the dictionary of entries with the new inputs.\n",
    "\n",
    "The second cell is the the main driver to test the `fico` function. Do not make any changes to this cell."
   ]
  },
  {
   "cell_type": "code",
   "execution_count": null,
   "metadata": {},
   "outputs": [],
   "source": [
    "'''untested code'''\n",
    "\n",
    "def fico(score_dict):\n",
    "    \n",
    "    # get name input\n",
    "    name = input('Enter entry's name (or enter 'q' to quit) :')\n",
    "    \n",
    "    # quit condition\n",
    "    if name = q:\n",
    "        print(\"Bye Bye!\")\n",
    "        return 0\n",
    "    \n",
    "    # get score input\n",
    "    score = input('Enter entry's credit score:')\n",
    "    \n",
    "    # check if score is valid\n",
    "    if score < 300 and score > 850 :\n",
    "        print(\"Invalid Credit Score\")\n",
    "        return 0\n",
    "    \n",
    "    # rating logic\n",
    "    if score >= 800:\n",
    "        print(name, \"has an Exceptional credit score\")\n",
    "    if score >= 740:\n",
    "        print(name, \"has a Very Good credit score\")\n",
    "    if score >= 670:\n",
    "        print(name, \"has a Good credit score\")\n",
    "    if score >= 580:\n",
    "        print(name, \"has a Fair credit score\")\n",
    "    if score >= 300:\n",
    "        print(name, \"has a Very Poor credit score\"\n",
    "    \n",
    "    # update the dictionary of entries\n",
    "    score_dict{name} = score\n",
    "    \n",
    "    return 1"
   ]
  },
  {
   "cell_type": "code",
   "execution_count": null,
   "metadata": {},
   "outputs": [],
   "source": [
    "'''main test driver (Do not change this cell)'''\n",
    "\n",
    "core_dict = {'Alex': 800, 'Bob':640, 'Charlie': 500}\n",
    "\n",
    "while True:\n",
    "    if not fico(score_dict):\n",
    "        break\n",
    "    print(\"\")\n",
    "\n",
    "print(score_dict)"
   ]
  },
  {
   "cell_type": "markdown",
   "metadata": {},
   "source": [
    "  "
   ]
  },
  {
   "cell_type": "markdown",
   "metadata": {},
   "source": [
    "**(b)** You are now tasked to create a function `ratingsByPercent`. It takes the dictionary of entries as input and prints the various rankings as a percentage.\n",
    "\n",
    "**Sample Program Output**\n",
    "\n",
    "<pre>\n",
    "<b>Input:</b>\n",
    "score_dict = {'Alex': 800, 'Bob':640, 'Charlie': 500}\n",
    "<br>\n",
    "<b>Output:</b>  \n",
    "Exceptional: 33.3%  \n",
    "Very Good: 0.0%  \n",
    "Good: 0.0%  \n",
    "Fair: 33.3%  \n",
    "Very Poor: 33.3%  \n",
    "</pre>"
   ]
  },
  {
   "cell_type": "code",
   "execution_count": null,
   "metadata": {},
   "outputs": [],
   "source": []
  },
  {
   "cell_type": "markdown",
   "metadata": {},
   "source": [
    "  "
   ]
  },
  {
   "cell_type": "markdown",
   "metadata": {},
   "source": [
    "**(c)** Write down the big O notation of your implementation of `ratingsByPercent`"
   ]
  },
  {
   "cell_type": "raw",
   "metadata": {},
   "source": []
  }
 ],
 "metadata": {
  "kernelspec": {
   "display_name": "Python 3",
   "language": "python",
   "name": "python3"
  },
  "language_info": {
   "codemirror_mode": {
    "name": "ipython",
    "version": 3
   },
   "file_extension": ".py",
   "mimetype": "text/x-python",
   "name": "python",
   "nbconvert_exporter": "python",
   "pygments_lexer": "ipython3",
   "version": "3.8.3"
  }
 },
 "nbformat": 4,
 "nbformat_minor": 4
}
