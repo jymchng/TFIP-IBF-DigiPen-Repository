{
 "cells": [
  {
   "cell_type": "markdown",
   "metadata": {},
   "source": [
    "# MariaDB Reference Material\n",
    "<hr>\n"
   ]
  },
  {
   "cell_type": "markdown",
   "metadata": {},
   "source": [
    "To test if a connection to the MariaDB can be established.<br>\n",
    "Change the <b><code>password</code></b> value to your chosen password"
   ]
  },
  {
   "cell_type": "code",
   "execution_count": 5,
   "metadata": {
    "ExecuteTime": {
     "end_time": "2020-11-27T02:49:49.448912Z",
     "start_time": "2020-11-27T02:49:49.441931Z"
    }
   },
   "outputs": [
    {
     "name": "stdout",
     "output_type": "stream",
     "text": [
      "Success\n"
     ]
    }
   ],
   "source": [
    "# imports mariadb library\n",
    "import mariadb\n",
    "\n",
    "try:\n",
    "    # Instantiate Connection\n",
    "    conn = mariadb.connect(\n",
    "        user=\"root\",\n",
    "        password=\"\",\n",
    "        host=\"localhost\",\n",
    "        port=3306)\n",
    "    print(\"Success\")\n",
    "except mariadb.Error as e:\n",
    "    print(f\"Error connecting to MariaDB Platform: {e}\")\n"
   ]
  },
  {
   "cell_type": "markdown",
   "metadata": {},
   "source": [
    "Once you finish working with the database make sure that you close this connection to avoid keeping unused connections open and thus wasting resources. You can close the connection with the close() method:"
   ]
  },
  {
   "cell_type": "code",
   "execution_count": 6,
   "metadata": {
    "ExecuteTime": {
     "end_time": "2020-11-27T02:49:50.548967Z",
     "start_time": "2020-11-27T02:49:50.545974Z"
    }
   },
   "outputs": [],
   "source": [
    "# Create a cursor object\n",
    "cur = conn.cursor()"
   ]
  },
  {
   "cell_type": "code",
   "execution_count": 7,
   "metadata": {
    "ExecuteTime": {
     "end_time": "2020-11-27T02:49:51.246113Z",
     "start_time": "2020-11-27T02:49:51.234133Z"
    }
   },
   "outputs": [
    {
     "ename": "ProgrammingError",
     "evalue": "Can't create database 'nation'; database exists",
     "output_type": "error",
     "traceback": [
      "\u001b[1;31m---------------------------------------------------------------------------\u001b[0m",
      "\u001b[1;31mProgrammingError\u001b[0m                          Traceback (most recent call last)",
      "\u001b[1;32m<ipython-input-7-159500650088>\u001b[0m in \u001b[0;36m<module>\u001b[1;34m\u001b[0m\n\u001b[0;32m      1\u001b[0m \u001b[1;31m# creating database\u001b[0m\u001b[1;33m\u001b[0m\u001b[1;33m\u001b[0m\u001b[1;33m\u001b[0m\u001b[0m\n\u001b[1;32m----> 2\u001b[1;33m \u001b[0mcur\u001b[0m\u001b[1;33m.\u001b[0m\u001b[0mexecute\u001b[0m\u001b[1;33m(\u001b[0m\u001b[1;34m\"CREATE DATABASE nation\"\u001b[0m\u001b[1;33m)\u001b[0m\u001b[1;33m\u001b[0m\u001b[1;33m\u001b[0m\u001b[0m\n\u001b[0m",
      "\u001b[1;31mProgrammingError\u001b[0m: Can't create database 'nation'; database exists"
     ]
    }
   ],
   "source": [
    "# creating database  \n",
    "cur.execute(\"CREATE DATABASE nation\")"
   ]
  },
  {
   "cell_type": "code",
   "execution_count": 8,
   "metadata": {
    "ExecuteTime": {
     "end_time": "2020-11-27T02:49:54.292944Z",
     "start_time": "2020-11-27T02:49:54.286960Z"
    }
   },
   "outputs": [],
   "source": [
    "cur.execute(\"SHOW DATABASES\") \n",
    "databaseList = cur.fetchall() "
   ]
  },
  {
   "cell_type": "code",
   "execution_count": 9,
   "metadata": {
    "ExecuteTime": {
     "end_time": "2020-11-27T02:49:55.659286Z",
     "start_time": "2020-11-27T02:49:55.654299Z"
    }
   },
   "outputs": [
    {
     "name": "stdout",
     "output_type": "stream",
     "text": [
      "('information_schema',)\n",
      "('mysql',)\n",
      "('nation',)\n",
      "('performance_schema',)\n",
      "('sales',)\n",
      "('test',)\n"
     ]
    }
   ],
   "source": [
    "for database in databaseList: \n",
    "    print(database) \n",
    "# Close Connection\n",
    "conn.close()"
   ]
  },
  {
   "cell_type": "code",
   "execution_count": null,
   "metadata": {},
   "outputs": [],
   "source": [
    "# Disable Auto-Commit\n",
    "#conn.autocommit = False"
   ]
  },
  {
   "cell_type": "markdown",
   "metadata": {},
   "source": [
    "<hr>\n",
    "We will be using the MariaDB <code>context manager</code> from this point onwards and the password was set to <b>root</b>. \n",
    "<br>\n",
    "Thus you may need to change it to your choosen password."
   ]
  },
  {
   "cell_type": "code",
   "execution_count": null,
   "metadata": {
    "ExecuteTime": {
     "end_time": "2020-11-27T02:00:10.649751Z",
     "start_time": "2020-11-27T02:00:10.642757Z"
    }
   },
   "outputs": [],
   "source": [
    "MariaDBCursor(password, database, user=\"\", host = \"localhost\", port=3306)"
   ]
  },
  {
   "cell_type": "code",
   "execution_count": 10,
   "metadata": {
    "ExecuteTime": {
     "end_time": "2020-11-27T02:50:04.185462Z",
     "start_time": "2020-11-27T02:50:04.182469Z"
    }
   },
   "outputs": [],
   "source": [
    "import mariadb_context as rdbms"
   ]
  },
  {
   "cell_type": "markdown",
   "metadata": {},
   "source": [
    "Attributes and methods of the `cursor`object"
   ]
  },
  {
   "cell_type": "code",
   "execution_count": 11,
   "metadata": {
    "ExecuteTime": {
     "end_time": "2020-11-27T02:50:05.052141Z",
     "start_time": "2020-11-27T02:50:05.047154Z"
    }
   },
   "outputs": [
    {
     "name": "stdout",
     "output_type": "stream",
     "text": [
      "['__class__', '__delattr__', '__dir__', '__doc__', '__enter__', '__eq__', '__exit__', '__format__', '__ge__', '__getattribute__', '__gt__', '__hash__', '__init__', '__init_subclass__', '__iter__', '__le__', '__lt__', '__ne__', '__new__', '__next__', '__reduce__', '__reduce_ex__', '__repr__', '__setattr__', '__sizeof__', '__str__', '__subclasshook__', 'arraysize', 'buffered', 'callproc', 'close', 'closed', 'connection', 'description', 'execute', 'executemany', 'fetchall', 'fetchmany', 'fetchone', 'fieldcount', 'lastrowid', 'next', 'nextset', 'rowcount', 'rownumber', 'scroll', 'setinputsizes', 'setoutputsize', 'sp_outparams', 'statement', 'warnings']\n"
     ]
    }
   ],
   "source": [
    "# to view the functions available in the cursor object\n",
    "with rdbms.MariaDBCursor(\"\", \"nation\") as rdbms_cursor:\n",
    "    print(dir(rdbms_cursor))"
   ]
  },
  {
   "cell_type": "markdown",
   "metadata": {},
   "source": [
    "## Create operations"
   ]
  },
  {
   "cell_type": "markdown",
   "metadata": {},
   "source": [
    "SQL statements to create the tables"
   ]
  },
  {
   "cell_type": "code",
   "execution_count": 12,
   "metadata": {
    "ExecuteTime": {
     "end_time": "2020-11-27T02:50:08.023188Z",
     "start_time": "2020-11-27T02:50:08.018202Z"
    }
   },
   "outputs": [],
   "source": [
    "# list of tables\n",
    "db_tables = []\n",
    "\n",
    "table_languages = \"\"\"\n",
    "    CREATE TABLE languages( language_id INT AUTO_INCREMENT, \n",
    "        language VARCHAR(50) NOT NULL,\n",
    "        PRIMARY KEY(language_id)\n",
    ");\"\"\"\n",
    "\n",
    "table_continents = \"\"\"\n",
    "    CREATE TABLE continents( continent_id INT AUTO_INCREMENT, \n",
    "        name VARCHAR(255) NOT NULL,\n",
    "        PRIMARY KEY(continent_id)\n",
    ");\"\"\"\n",
    "\n",
    "table_region = \"\"\"\n",
    "    CREATE TABLE regions( region_id INT AUTO_INCREMENT, name VARCHAR(100) NOT NULL,\n",
    "        continent_id INT NOT NULL,\n",
    "        PRIMARY KEY(region_id),\n",
    "        FOREIGN KEY(continent_id) \n",
    "            REFERENCES continents(continent_id) ON UPDATE CASCADE ON DELETE CASCADE\n",
    ");\"\"\"\n",
    "\n",
    "table_countries = \"\"\"\n",
    "    CREATE TABLE countries ( country_id INT AUTO_INCREMENT, \n",
    "        name VARCHAR(50) NOT NULL,\n",
    "        area DECIMAL(10,2) NOT NULL,\n",
    "        national_day DATE,\n",
    "        country_code2 CHAR(2) NOT NULL UNIQUE,\n",
    "        country_code3 CHAR(3) NOT NULL UNIQUE,\n",
    "        region_id INT NOT NULL,\n",
    "        FOREIGN KEY(region_id) \n",
    "            REFERENCES regions(region_id) ON UPDATE CASCADE ON DELETE CASCADE,\n",
    "        PRIMARY KEY(country_id)\n",
    ");\"\"\" ### ON UPDATE means the constraint is on the UPDATE keyword. Same for DELETE.\n",
    "# CASCADE means it will delete one in all tables.\n",
    "\n",
    "table_country_stats = \"\"\"\n",
    "    CREATE TABLE country_stats( country_id INT, year INT, population INT,\n",
    "        gdp DECIMAL(15,0),\n",
    "        PRIMARY KEY(country_id, year),\n",
    "        FOREIGN KEY(country_id)\n",
    "            REFERENCES countries(country_id) ON UPDATE CASCADE ON DELETE CASCADE\n",
    ");\"\"\"\n",
    "\n",
    "table_country_languages = \"\"\"\n",
    "    CREATE TABLE country_languages( country_id INT, language_id INT, \n",
    "        official BOOLEAN NOT NULL,\n",
    "        PRIMARY KEY(country_id, language_id),\n",
    "        FOREIGN KEY(country_id) \n",
    "            REFERENCES countries(country_id) ON UPDATE CASCADE ON DELETE CASCADE,\n",
    "        FOREIGN KEY(language_id)\n",
    "            REFERENCES languages(language_id) ON UPDATE CASCADE ON DELETE CASCADE\n",
    ");\"\"\"\n",
    "\n",
    "db_tables = [table_languages, table_continents, table_region, table_countries, table_country_stats,\n",
    "         table_country_languages]"
   ]
  },
  {
   "cell_type": "markdown",
   "metadata": {},
   "source": [
    "<b>Create</b> the tables using a loop"
   ]
  },
  {
   "cell_type": "code",
   "execution_count": null,
   "metadata": {
    "ExecuteTime": {
     "end_time": "2020-11-27T02:29:29.210257Z",
     "start_time": "2020-11-27T02:29:29.197291Z"
    }
   },
   "outputs": [],
   "source": [
    "with rdbms.MariaDBCursor(\"\",\"nation\") as rdbms_cursor:\n",
    "    for table in db_tables:\n",
    "        rdbms_cursor.execute(table)\n",
    "print(\"Create tables done.\")"
   ]
  },
  {
   "cell_type": "markdown",
   "metadata": {},
   "source": [
    "## Update/Insert operations"
   ]
  },
  {
   "cell_type": "markdown",
   "metadata": {},
   "source": [
    "Prepare the insert statements into a list"
   ]
  },
  {
   "cell_type": "code",
   "execution_count": null,
   "metadata": {},
   "outputs": [],
   "source": [
    "# list of insert statements\n",
    "insert_statements = []\n",
    "\n",
    "insert_lang = \"\"\"\n",
    "INSERT INTO languages(languages) VALUES\n",
    "(\"English\"),(\"Mandarin\"),(\"Malay\"),(\"Indonesian\"),(\"German\");\n",
    "\"\"\"\n",
    "\n",
    "insert_continents = \"\"\"\n",
    "INSERT INTO continents(name) VALUES (\"Europe\"),(\"Amercia\"),(\"Asia\"),(\"Oceania\"),(\"\")\n",
    "\"\"\"\n",
    "\n",
    "insert_regions = \n",
    "\n",
    "insert_countries = \n",
    "\n",
    "insert_country_stats = \n",
    "\n",
    "insert_country_languages = \n",
    "\n",
    "insert_statements = [insert_lang, insert_continents, insert_regions, insert_countries,\n",
    "                     insert_country_stats, insert_country_languages]"
   ]
  },
  {
   "cell_type": "markdown",
   "metadata": {},
   "source": [
    "<b>Insert</b> data into the tables"
   ]
  },
  {
   "cell_type": "code",
   "execution_count": null,
   "metadata": {},
   "outputs": [],
   "source": []
  },
  {
   "cell_type": "markdown",
   "metadata": {},
   "source": [
    "<b>Update</b> a record in the regions table"
   ]
  },
  {
   "cell_type": "code",
   "execution_count": 13,
   "metadata": {
    "ExecuteTime": {
     "end_time": "2020-11-27T02:50:14.525779Z",
     "start_time": "2020-11-27T02:50:14.519795Z"
    }
   },
   "outputs": [
    {
     "name": "stdout",
     "output_type": "stream",
     "text": [
      "Done updating.\n"
     ]
    }
   ],
   "source": [
    "with rdbms.MariaDBCursor(\"\", \"nation\") as rdbms_cursor:\n",
    "    rdbms_cursor.execute(\"UPDATE regions set name='Western Europe' where region_id = 1\")\n",
    "    \n",
    "print(\"Done updating.\")"
   ]
  },
  {
   "cell_type": "markdown",
   "metadata": {},
   "source": [
    "<b>Changing</b> a table's name"
   ]
  },
  {
   "cell_type": "code",
   "execution_count": 14,
   "metadata": {
    "ExecuteTime": {
     "end_time": "2020-11-27T02:50:16.337928Z",
     "start_time": "2020-11-27T02:50:16.327955Z"
    }
   },
   "outputs": [
    {
     "ename": "OperationalError",
     "evalue": "Unknown column 'national_day' in 'countries'",
     "output_type": "error",
     "traceback": [
      "\u001b[1;31m---------------------------------------------------------------------------\u001b[0m",
      "\u001b[1;31mOperationalError\u001b[0m                          Traceback (most recent call last)",
      "\u001b[1;32m<ipython-input-14-03e617713298>\u001b[0m in \u001b[0;36m<module>\u001b[1;34m\u001b[0m\n\u001b[0;32m      1\u001b[0m \u001b[1;32mwith\u001b[0m \u001b[0mrdbms\u001b[0m\u001b[1;33m.\u001b[0m\u001b[0mMariaDBCursor\u001b[0m\u001b[1;33m(\u001b[0m\u001b[1;34m\"\"\u001b[0m\u001b[1;33m,\u001b[0m\u001b[1;34m\"nation\"\u001b[0m\u001b[1;33m)\u001b[0m \u001b[1;32mas\u001b[0m \u001b[0mrdbms_cursor\u001b[0m\u001b[1;33m:\u001b[0m\u001b[1;33m\u001b[0m\u001b[1;33m\u001b[0m\u001b[0m\n\u001b[1;32m----> 2\u001b[1;33m     \u001b[0mrdbms_cursor\u001b[0m\u001b[1;33m.\u001b[0m\u001b[0mexecute\u001b[0m\u001b[1;33m(\u001b[0m\u001b[1;34m\"ALTER TABLE countries CHANGE COLUMN national_day independence_day DATE\"\u001b[0m\u001b[1;33m)\u001b[0m\u001b[1;33m\u001b[0m\u001b[1;33m\u001b[0m\u001b[0m\n\u001b[0m\u001b[0;32m      3\u001b[0m \u001b[1;33m\u001b[0m\u001b[0m\n\u001b[0;32m      4\u001b[0m \u001b[0mprint\u001b[0m\u001b[1;33m(\u001b[0m\u001b[1;34m\"Done changing.\"\u001b[0m\u001b[1;33m)\u001b[0m\u001b[1;33m\u001b[0m\u001b[1;33m\u001b[0m\u001b[0m\n",
      "\u001b[1;31mOperationalError\u001b[0m: Unknown column 'national_day' in 'countries'"
     ]
    }
   ],
   "source": [
    "with rdbms.MariaDBCursor(\"\",\"nation\") as rdbms_cursor:\n",
    "    rdbms_cursor.execute(\"ALTER TABLE countries CHANGE COLUMN national_day independence_day DATE\")\n",
    "    \n",
    "print(\"Done changing.\")"
   ]
  },
  {
   "cell_type": "code",
   "execution_count": 15,
   "metadata": {
    "ExecuteTime": {
     "end_time": "2020-11-27T02:50:30.652607Z",
     "start_time": "2020-11-27T02:50:30.640638Z"
    }
   },
   "outputs": [
    {
     "ename": "OperationalError",
     "evalue": "Unknown column 'national_day' in 'countries'",
     "output_type": "error",
     "traceback": [
      "\u001b[1;31m---------------------------------------------------------------------------\u001b[0m",
      "\u001b[1;31mOperationalError\u001b[0m                          Traceback (most recent call last)",
      "\u001b[1;32m<ipython-input-15-22e3f8f65189>\u001b[0m in \u001b[0;36m<module>\u001b[1;34m\u001b[0m\n\u001b[0;32m      1\u001b[0m \u001b[1;32mwith\u001b[0m \u001b[0mrdbms\u001b[0m\u001b[1;33m.\u001b[0m\u001b[0mMariaDBCursor\u001b[0m\u001b[1;33m(\u001b[0m\u001b[1;34m\"\"\u001b[0m\u001b[1;33m,\u001b[0m\u001b[1;34m\"nation\"\u001b[0m\u001b[1;33m)\u001b[0m \u001b[1;32mas\u001b[0m \u001b[0mrdbms_cursor\u001b[0m\u001b[1;33m:\u001b[0m\u001b[1;33m\u001b[0m\u001b[1;33m\u001b[0m\u001b[0m\n\u001b[1;32m----> 2\u001b[1;33m     \u001b[0mrdbms_cursor\u001b[0m\u001b[1;33m.\u001b[0m\u001b[0mexecute\u001b[0m\u001b[1;33m(\u001b[0m\u001b[1;34m\"ALTER TABLE countries CHANGE COLUMN national_day independence_day DATE\"\u001b[0m\u001b[1;33m)\u001b[0m\u001b[1;33m\u001b[0m\u001b[1;33m\u001b[0m\u001b[0m\n\u001b[0m",
      "\u001b[1;31mOperationalError\u001b[0m: Unknown column 'national_day' in 'countries'"
     ]
    }
   ],
   "source": [
    "with rdbms.MariaDBCursor(\"\",\"nation\") as rdbms_cursor:\n",
    "    rdbms_cursor.execute(\"ALTER TABLE countries CHANGE COLUMN national_day independence_day DATE\")"
   ]
  },
  {
   "cell_type": "markdown",
   "metadata": {},
   "source": [
    "## Read operations\n",
    "Select statements"
   ]
  },
  {
   "cell_type": "markdown",
   "metadata": {},
   "source": [
    "Select <b>all</b> from table <code>countries</code>"
   ]
  },
  {
   "cell_type": "code",
   "execution_count": 32,
   "metadata": {
    "ExecuteTime": {
     "end_time": "2020-11-27T03:08:12.168972Z",
     "start_time": "2020-11-27T03:08:12.153059Z"
    }
   },
   "outputs": [
    {
     "ename": "SystemError",
     "evalue": "<method 'fetchall' of 'mariadb.connection.cursor' objects> returned a result with an error set",
     "output_type": "error",
     "traceback": [
      "\u001b[1;31m---------------------------------------------------------------------------\u001b[0m",
      "\u001b[1;31mValueError\u001b[0m                                Traceback (most recent call last)",
      "\u001b[1;31mValueError\u001b[0m: day is out of range for month",
      "\nThe above exception was the direct cause of the following exception:\n",
      "\u001b[1;31mSystemError\u001b[0m                               Traceback (most recent call last)",
      "\u001b[1;31mSystemError\u001b[0m: <class 'decimal.Decimal'> returned a result with an error set",
      "\nThe above exception was the direct cause of the following exception:\n",
      "\u001b[1;31mSystemError\u001b[0m                               Traceback (most recent call last)",
      "\u001b[1;31mSystemError\u001b[0m: <class 'decimal.Decimal'> returned a result with an error set",
      "\nThe above exception was the direct cause of the following exception:\n",
      "\u001b[1;31mSystemError\u001b[0m                               Traceback (most recent call last)",
      "\u001b[1;31mSystemError\u001b[0m: <class 'decimal.Decimal'> returned a result with an error set",
      "\nThe above exception was the direct cause of the following exception:\n",
      "\u001b[1;31mSystemError\u001b[0m                               Traceback (most recent call last)",
      "\u001b[1;31mSystemError\u001b[0m: <class 'decimal.Decimal'> returned a result with an error set",
      "\nThe above exception was the direct cause of the following exception:\n",
      "\u001b[1;31mSystemError\u001b[0m                               Traceback (most recent call last)",
      "\u001b[1;31mSystemError\u001b[0m: <class 'decimal.Decimal'> returned a result with an error set",
      "\nThe above exception was the direct cause of the following exception:\n",
      "\u001b[1;31mSystemError\u001b[0m                               Traceback (most recent call last)",
      "\u001b[1;31mSystemError\u001b[0m: <class 'decimal.Decimal'> returned a result with an error set",
      "\nThe above exception was the direct cause of the following exception:\n",
      "\u001b[1;31mSystemError\u001b[0m                               Traceback (most recent call last)",
      "\u001b[1;31mSystemError\u001b[0m: <class 'decimal.Decimal'> returned a result with an error set",
      "\nThe above exception was the direct cause of the following exception:\n",
      "\u001b[1;31mSystemError\u001b[0m                               Traceback (most recent call last)",
      "\u001b[1;31mSystemError\u001b[0m: <class 'decimal.Decimal'> returned a result with an error set",
      "\nThe above exception was the direct cause of the following exception:\n",
      "\u001b[1;31mSystemError\u001b[0m                               Traceback (most recent call last)",
      "\u001b[1;31mSystemError\u001b[0m: <class 'decimal.Decimal'> returned a result with an error set",
      "\nThe above exception was the direct cause of the following exception:\n",
      "\u001b[1;31mSystemError\u001b[0m                               Traceback (most recent call last)",
      "\u001b[1;31mSystemError\u001b[0m: <class 'decimal.Decimal'> returned a result with an error set",
      "\nThe above exception was the direct cause of the following exception:\n",
      "\u001b[1;31mSystemError\u001b[0m                               Traceback (most recent call last)",
      "\u001b[1;31mSystemError\u001b[0m: <class 'decimal.Decimal'> returned a result with an error set",
      "\nThe above exception was the direct cause of the following exception:\n",
      "\u001b[1;31mSystemError\u001b[0m                               Traceback (most recent call last)",
      "\u001b[1;31mSystemError\u001b[0m: <class 'decimal.Decimal'> returned a result with an error set",
      "\nThe above exception was the direct cause of the following exception:\n",
      "\u001b[1;31mSystemError\u001b[0m                               Traceback (most recent call last)",
      "\u001b[1;31mSystemError\u001b[0m: <class 'decimal.Decimal'> returned a result with an error set",
      "\nThe above exception was the direct cause of the following exception:\n",
      "\u001b[1;31mSystemError\u001b[0m                               Traceback (most recent call last)",
      "\u001b[1;31mSystemError\u001b[0m: <class 'decimal.Decimal'> returned a result with an error set",
      "\nThe above exception was the direct cause of the following exception:\n",
      "\u001b[1;31mSystemError\u001b[0m                               Traceback (most recent call last)",
      "\u001b[1;31mSystemError\u001b[0m: <class 'decimal.Decimal'> returned a result with an error set",
      "\nThe above exception was the direct cause of the following exception:\n",
      "\u001b[1;31mSystemError\u001b[0m                               Traceback (most recent call last)",
      "\u001b[1;31mSystemError\u001b[0m: <class 'decimal.Decimal'> returned a result with an error set",
      "\nThe above exception was the direct cause of the following exception:\n",
      "\u001b[1;31mSystemError\u001b[0m                               Traceback (most recent call last)",
      "\u001b[1;31mSystemError\u001b[0m: <class 'decimal.Decimal'> returned a result with an error set",
      "\nThe above exception was the direct cause of the following exception:\n",
      "\u001b[1;31mSystemError\u001b[0m                               Traceback (most recent call last)",
      "\u001b[1;31mSystemError\u001b[0m: <class 'decimal.Decimal'> returned a result with an error set",
      "\nThe above exception was the direct cause of the following exception:\n",
      "\u001b[1;31mSystemError\u001b[0m                               Traceback (most recent call last)",
      "\u001b[1;31mSystemError\u001b[0m: <class 'decimal.Decimal'> returned a result with an error set",
      "\nThe above exception was the direct cause of the following exception:\n",
      "\u001b[1;31mSystemError\u001b[0m                               Traceback (most recent call last)",
      "\u001b[1;31mSystemError\u001b[0m: <class 'decimal.Decimal'> returned a result with an error set",
      "\nThe above exception was the direct cause of the following exception:\n",
      "\u001b[1;31mSystemError\u001b[0m                               Traceback (most recent call last)",
      "\u001b[1;31mSystemError\u001b[0m: <class 'decimal.Decimal'> returned a result with an error set",
      "\nThe above exception was the direct cause of the following exception:\n",
      "\u001b[1;31mSystemError\u001b[0m                               Traceback (most recent call last)",
      "\u001b[1;31mSystemError\u001b[0m: <class 'decimal.Decimal'> returned a result with an error set",
      "\nThe above exception was the direct cause of the following exception:\n",
      "\u001b[1;31mSystemError\u001b[0m                               Traceback (most recent call last)",
      "\u001b[1;31mSystemError\u001b[0m: <class 'decimal.Decimal'> returned a result with an error set",
      "\nThe above exception was the direct cause of the following exception:\n",
      "\u001b[1;31mSystemError\u001b[0m                               Traceback (most recent call last)",
      "\u001b[1;31mSystemError\u001b[0m: <class 'decimal.Decimal'> returned a result with an error set",
      "\nThe above exception was the direct cause of the following exception:\n",
      "\u001b[1;31mSystemError\u001b[0m                               Traceback (most recent call last)",
      "\u001b[1;31mSystemError\u001b[0m: <class 'decimal.Decimal'> returned a result with an error set",
      "\nThe above exception was the direct cause of the following exception:\n",
      "\u001b[1;31mSystemError\u001b[0m                               Traceback (most recent call last)",
      "\u001b[1;31mSystemError\u001b[0m: <class 'decimal.Decimal'> returned a result with an error set",
      "\nThe above exception was the direct cause of the following exception:\n",
      "\u001b[1;31mSystemError\u001b[0m                               Traceback (most recent call last)",
      "\u001b[1;31mSystemError\u001b[0m: <class 'decimal.Decimal'> returned a result with an error set",
      "\nThe above exception was the direct cause of the following exception:\n",
      "\u001b[1;31mSystemError\u001b[0m                               Traceback (most recent call last)",
      "\u001b[1;31mSystemError\u001b[0m: <class 'decimal.Decimal'> returned a result with an error set",
      "\nThe above exception was the direct cause of the following exception:\n",
      "\u001b[1;31mSystemError\u001b[0m                               Traceback (most recent call last)",
      "\u001b[1;31mSystemError\u001b[0m: <class 'decimal.Decimal'> returned a result with an error set",
      "\nThe above exception was the direct cause of the following exception:\n",
      "\u001b[1;31mSystemError\u001b[0m                               Traceback (most recent call last)",
      "\u001b[1;31mSystemError\u001b[0m: <class 'decimal.Decimal'> returned a result with an error set",
      "\nThe above exception was the direct cause of the following exception:\n",
      "\u001b[1;31mSystemError\u001b[0m                               Traceback (most recent call last)",
      "\u001b[1;31mSystemError\u001b[0m: <class 'decimal.Decimal'> returned a result with an error set",
      "\nThe above exception was the direct cause of the following exception:\n",
      "\u001b[1;31mSystemError\u001b[0m                               Traceback (most recent call last)",
      "\u001b[1;31mSystemError\u001b[0m: <class 'decimal.Decimal'> returned a result with an error set",
      "\nThe above exception was the direct cause of the following exception:\n",
      "\u001b[1;31mSystemError\u001b[0m                               Traceback (most recent call last)",
      "\u001b[1;31mSystemError\u001b[0m: <class 'decimal.Decimal'> returned a result with an error set",
      "\nThe above exception was the direct cause of the following exception:\n",
      "\u001b[1;31mSystemError\u001b[0m                               Traceback (most recent call last)",
      "\u001b[1;31mSystemError\u001b[0m: <class 'decimal.Decimal'> returned a result with an error set",
      "\nThe above exception was the direct cause of the following exception:\n",
      "\u001b[1;31mSystemError\u001b[0m                               Traceback (most recent call last)",
      "\u001b[1;31mSystemError\u001b[0m: <class 'decimal.Decimal'> returned a result with an error set",
      "\nThe above exception was the direct cause of the following exception:\n",
      "\u001b[1;31mSystemError\u001b[0m                               Traceback (most recent call last)",
      "\u001b[1;31mSystemError\u001b[0m: <class 'decimal.Decimal'> returned a result with an error set",
      "\nThe above exception was the direct cause of the following exception:\n",
      "\u001b[1;31mSystemError\u001b[0m                               Traceback (most recent call last)",
      "\u001b[1;31mSystemError\u001b[0m: <class 'decimal.Decimal'> returned a result with an error set",
      "\nThe above exception was the direct cause of the following exception:\n",
      "\u001b[1;31mSystemError\u001b[0m                               Traceback (most recent call last)",
      "\u001b[1;31mSystemError\u001b[0m: <class 'decimal.Decimal'> returned a result with an error set",
      "\nThe above exception was the direct cause of the following exception:\n",
      "\u001b[1;31mSystemError\u001b[0m                               Traceback (most recent call last)",
      "\u001b[1;31mSystemError\u001b[0m: <class 'decimal.Decimal'> returned a result with an error set",
      "\nThe above exception was the direct cause of the following exception:\n",
      "\u001b[1;31mSystemError\u001b[0m                               Traceback (most recent call last)",
      "\u001b[1;32m<ipython-input-32-ecab742055f0>\u001b[0m in \u001b[0;36m<module>\u001b[1;34m\u001b[0m\n\u001b[0;32m      4\u001b[0m     \u001b[0mrdbms_cursor\u001b[0m\u001b[1;33m.\u001b[0m\u001b[0mexecute\u001b[0m\u001b[1;33m(\u001b[0m\u001b[1;34m\"SELECT * FROM countries;\"\u001b[0m\u001b[1;33m)\u001b[0m\u001b[1;33m\u001b[0m\u001b[1;33m\u001b[0m\u001b[0m\n\u001b[0;32m      5\u001b[0m \u001b[1;33m\u001b[0m\u001b[0m\n\u001b[1;32m----> 6\u001b[1;33m     \u001b[0mrows\u001b[0m \u001b[1;33m=\u001b[0m \u001b[0mrdbms_cursor\u001b[0m\u001b[1;33m.\u001b[0m\u001b[0mfetchall\u001b[0m\u001b[1;33m(\u001b[0m\u001b[1;33m)\u001b[0m\u001b[1;33m\u001b[0m\u001b[1;33m\u001b[0m\u001b[0m\n\u001b[0m\u001b[0;32m      7\u001b[0m \u001b[1;33m\u001b[0m\u001b[0m\n\u001b[0;32m      8\u001b[0m     \u001b[1;32mwhile\u001b[0m \u001b[1;32mTrue\u001b[0m\u001b[1;33m:\u001b[0m\u001b[1;33m\u001b[0m\u001b[1;33m\u001b[0m\u001b[0m\n",
      "\u001b[1;31mSystemError\u001b[0m: <method 'fetchall' of 'mariadb.connection.cursor' objects> returned a result with an error set"
     ]
    }
   ],
   "source": [
    "from decimal import Decimal\n",
    "\n",
    "with rdbms.MariaDBCursor(\"\",\"nation\") as rdbms_cursor:\n",
    "    rdbms_cursor.execute(\"SELECT * FROM countries;\")\n",
    "    \n",
    "    rows = rdbms_cursor.fetchall()\n",
    "    \n",
    "    while True:\n",
    "        try:\n",
    "            for row in rows:\n",
    "                print(row)\n",
    "        except:\n",
    "            continue"
   ]
  },
  {
   "cell_type": "markdown",
   "metadata": {},
   "source": [
    "Select <code>name</code> and <code>area</code> columns from the table <code>countries</code> and showing only the <b>first 3 records in ascending order</b> by <code>area</code>."
   ]
  },
  {
   "cell_type": "code",
   "execution_count": null,
   "metadata": {},
   "outputs": [],
   "source": []
  },
  {
   "cell_type": "markdown",
   "metadata": {},
   "source": [
    "Selecting only the countries with with land masses <b>larger than 3 million square kilometers</b> and ordered by area in <b>descending</b> order"
   ]
  },
  {
   "cell_type": "code",
   "execution_count": null,
   "metadata": {},
   "outputs": [],
   "source": []
  },
  {
   "cell_type": "markdown",
   "metadata": {},
   "source": [
    "Selecting the <b>names of countries</b> within the African and European regions and ordered by name in ascending order. That means the countries have a `region id` of `1,2,9 to 13`."
   ]
  },
  {
   "cell_type": "code",
   "execution_count": 39,
   "metadata": {
    "ExecuteTime": {
     "end_time": "2020-11-27T03:16:16.074810Z",
     "start_time": "2020-11-27T03:16:16.067829Z"
    }
   },
   "outputs": [
    {
     "name": "stdout",
     "output_type": "stream",
     "text": [
      "[('Afghanistan',), ('Anguilla',), ('Antigua and Barbuda',), ('Aruba',), ('Australia',), ('Austria',), ('Bahamas',), ('Bangladesh',), ('Barbados',), ('Belarus',), ('Belgium',), ('Benin',), ('Bhutan',), ('British Indian Ocean Territory',), ('Bulgaria',), ('Burkina Faso',), ('Burundi',), ('Cape Verde',), ('Cayman Islands',), ('Christmas Island',), ('Cocos (Keeling) Islands',), ('Comoros',), ('Côte d’Ivoire',), ('Cuba',), ('Czech Republic',), ('Djibouti',), ('Dominica',), ('Dominican Republic',), ('Eritrea',), ('Ethiopia',), ('France',), ('Gambia',), ('Germany',), ('Ghana',), ('Grenada',), ('Guadeloupe',), ('Guinea',), ('Guinea-Bissau',), ('Haiti',), ('Hungary',), ('India',), ('Iran',), ('Jamaica',), ('Kazakstan',), ('Kenya',), ('Kyrgyzstan',), ('Liberia',), ('Liechtenstein',), ('Luxembourg',), ('Madagascar',), ('Malawi',), ('Maldives',), ('Mali',), ('Martinique',), ('Mauritania',), ('Mauritius',), ('Mayotte',), ('Moldova',), ('Monaco',), ('Montserrat',), ('Mozambique',), ('Nepal',), ('Netherlands',), ('Netherlands Antilles',), ('New Zealand',), ('Niger',), ('Nigeria',), ('Norfolk Island',), ('Pakistan',), ('Poland',), ('Puerto Rico',), ('Réunion',), ('Romania',), ('Russian Federation',), ('Rwanda',), ('Saint Helena',), ('Saint Kitts and Nevis',), ('Saint Lucia',), ('Saint Vincent and the Grenadines',), ('Senegal',), ('Seychelles',), ('Sierra Leone',), ('Slovakia',), ('Somalia',), ('Sri Lanka',), ('Switzerland',), ('Tajikistan',), ('Tanzania',), ('Togo',), ('Trinidad and Tobago',), ('Turkmenistan',), ('Turks and Caicos Islands',), ('Uganda',), ('Ukraine',), ('Uzbekistan',), ('Virgin Islands, British',), ('Virgin Islands, U.S.',), ('Zambia',), ('Zimbabwe',)]\n"
     ]
    }
   ],
   "source": [
    "with rdbms.MariaDBCursor(\"\",\"nation\") as rdbms_cursor:\n",
    "    rdbms_cursor.execute(\"SELECT name FROM countries WHERE region_id in \"+\\\n",
    "                        \"(1,2) or region_id BETWEEN 9 AND 13 ORDER BY name;\")\n",
    "    \n",
    "    row = rdbms_cursor.fetchall()\n",
    "    while row is not None:\n",
    "        print(row)\n",
    "        row = rdbms_cursor.fetchone()"
   ]
  },
  {
   "cell_type": "markdown",
   "metadata": {},
   "source": [
    "Selecting the country names and region names from the tables **`countries` and `regions`** where their `region_id` matches and ordered by country names."
   ]
  },
  {
   "cell_type": "code",
   "execution_count": 37,
   "metadata": {
    "ExecuteTime": {
     "end_time": "2020-11-27T03:13:44.490610Z",
     "start_time": "2020-11-27T03:13:44.474653Z"
    }
   },
   "outputs": [
    {
     "name": "stdout",
     "output_type": "stream",
     "text": [
      "('Afghanistan', 'Southern and Central Asia')\n",
      "('Albania', 'Southern Europe')\n",
      "('Algeria', 'Northern Africa')\n"
     ]
    }
   ],
   "source": [
    "with rdbms.MariaDBCursor(\"\", \"nation\") as rdbms_cursor:\n",
    "    rdbms_cursor.execute(\"SELECT c.name, r.name FROM countries c INNER JOIN \" + \\\n",
    "                         \"regions r ON r.region_id = c.region_id ORDER BY c.name;\")\n",
    "    \n",
    "    # fetch the first 3 records of the returned query\n",
    "    # change it to fetchall() to see the full list\n",
    "    rows = rdbms_cursor.fetchmany(3)\n",
    "    \n",
    "    # print out the rows retrieved\n",
    "    for row in rows:\n",
    "        print(row)"
   ]
  },
  {
   "cell_type": "markdown",
   "metadata": {},
   "source": [
    "Selecting the **only** the countries that speaks `English` from the tables **`countries`, `country_languages` and `languages`** where their `country_id` and `language_id` matches and ordered by country names."
   ]
  },
  {
   "cell_type": "code",
   "execution_count": 38,
   "metadata": {
    "ExecuteTime": {
     "end_time": "2020-11-27T03:15:47.373647Z",
     "start_time": "2020-11-27T03:15:47.359685Z"
    }
   },
   "outputs": [
    {
     "name": "stdout",
     "output_type": "stream",
     "text": [
      "('American Samoa', 'English')\n",
      "('Anguilla', 'English')\n",
      "('Antigua and Barbuda', 'English')\n",
      "('Aruba', 'English')\n",
      "('Australia', 'English')\n",
      "('Bahrain', 'English')\n",
      "('Barbados', 'English')\n",
      "('Belize', 'English')\n",
      "('Bermuda', 'English')\n",
      "('Brunei', 'English')\n",
      "('Canada', 'English')\n",
      "('Cayman Islands', 'English')\n",
      "('Christmas Island', 'English')\n",
      "('Cocos (Keeling) Islands', 'English')\n",
      "('Cook Islands', 'English')\n",
      "('Denmark', 'English')\n",
      "('Falkland Islands', 'English')\n",
      "('Gibraltar', 'English')\n",
      "('Guam', 'English')\n",
      "('Hong Kong', 'English')\n",
      "('Iceland', 'English')\n",
      "('Ireland', 'English')\n",
      "('Japan', 'English')\n",
      "('Kuwait', 'English')\n",
      "('Lesotho', 'English')\n",
      "('Macao', 'English')\n",
      "('Malaysia', 'English')\n",
      "('Maldives', 'English')\n",
      "('Malta', 'English')\n",
      "('Marshall Islands', 'English')\n",
      "('Monaco', 'English')\n",
      "('Montserrat', 'English')\n",
      "('Nauru', 'English')\n",
      "('Netherlands Antilles', 'English')\n",
      "('New Zealand', 'English')\n",
      "('Niue', 'English')\n",
      "('Norfolk Island', 'English')\n",
      "('Northern Mariana Islands', 'English')\n",
      "('Norway', 'English')\n",
      "('Palau', 'English')\n",
      "('Puerto Rico', 'English')\n",
      "('Saint Helena', 'English')\n",
      "('Saint Kitts and Nevis', 'English')\n",
      "('Saint Lucia', 'English')\n",
      "('Saint Vincent and the Grenadines', 'English')\n",
      "('Samoa', 'English')\n",
      "('Seychelles', 'English')\n",
      "('South Africa', 'English')\n",
      "('Tokelau', 'English')\n",
      "('Tonga', 'English')\n",
      "('Trinidad and Tobago', 'English')\n",
      "('Turks and Caicos Islands', 'English')\n",
      "('Tuvalu', 'English')\n",
      "('United Kingdom', 'English')\n",
      "('United States', 'English')\n",
      "('United States Minor Outlying Islands', 'English')\n",
      "('Vanuatu', 'English')\n",
      "('Virgin Islands, British', 'English')\n",
      "('Virgin Islands, U.S.', 'English')\n",
      "('Zimbabwe', 'English')\n"
     ]
    }
   ],
   "source": [
    "with rdbms.MariaDBCursor(\"\",\"nation\") as rdbms_cursor:\n",
    "    rdbms_cursor.execute(\"SELECT c.name, l.language FROM countries c \" +\\\n",
    "                        \"INNER JOIN country_languages USING (country_id) \" +\\\n",
    "                        \"INNER JOIN languages l USING (language_id) \" +\\\n",
    "                        \"WHERE l.language = 'English' ORDER BY c.name;\")\n",
    "    \n",
    "    rows = rdbms_cursor.fetchall()\n",
    "    \n",
    "    for row in rows:\n",
    "        print(row)"
   ]
  },
  {
   "cell_type": "markdown",
   "metadata": {},
   "source": [
    "Mixing an aggregate function (`sum`) to show the total landmass areas of the countries within the regions."
   ]
  },
  {
   "cell_type": "code",
   "execution_count": 41,
   "metadata": {
    "ExecuteTime": {
     "end_time": "2020-11-27T03:16:40.160373Z",
     "start_time": "2020-11-27T03:16:40.147367Z"
    }
   },
   "outputs": [
    {
     "name": "stdout",
     "output_type": "stream",
     "text": [
      "('Micronesia/Caribbean', Decimal('16.00'))\n",
      "('Micronesia', Decimal('3102.00'))\n",
      "('Polynesia', Decimal('8463.00'))\n",
      "('Baltic Countries', Decimal('175117.00'))\n",
      "('Caribbean', Decimal('234423.00'))\n",
      "('British Islands', Decimal('313173.00'))\n",
      "('Melanesia', Decimal('540774.00'))\n",
      "('Western Europe', Decimal('1108456.50'))\n",
      "('Southern Europe', Decimal('1316392.40'))\n",
      "('Nordic Countries', Decimal('1321901.00'))\n",
      "('Central America', Decimal('2479532.00'))\n",
      "('Southern Africa', Decimal('2674778.00'))\n",
      "('Southeast Asia', Decimal('4494801.00'))\n",
      "('Middle East', Decimal('4820592.00'))\n",
      "('Western Africa', Decimal('6138338.00'))\n",
      "('Eastern Africa', Decimal('6299891.00'))\n",
      "('Central Africa', Decimal('6612667.00'))\n",
      "('Australia and New Zealand', Decimal('8011939.00'))\n",
      "('Northern Africa', Decimal('8524703.00'))\n",
      "('Southern and Central Asia', Decimal('10791130.00'))\n",
      "('Eastern Asia', Decimal('11774482.00'))\n",
      "('Antarctica', Decimal('13132101.00'))\n",
      "('South America', Decimal('17864926.00'))\n",
      "('Eastern Europe', Decimal('18814094.00'))\n",
      "('North America', Decimal('21500515.00'))\n"
     ]
    }
   ],
   "source": [
    "with rdbms.MariaDBCursor(\"\", \"nation\") as rdbms_cursor:\n",
    "    rdbms_cursor.execute(\"SELECT r.name, sum(area) sum_land FROM countries \" + \\\n",
    "                         \"INNER JOIN regions r USING (region_id) GROUP BY r.name \" + \\\n",
    "                         \"ORDER BY sum_land;\"\n",
    "                        )\n",
    "    \n",
    "    rows = rdbms_cursor.fetchall()\n",
    "    \n",
    "    # print out the rows retrieved\n",
    "    for row in rows:\n",
    "        print(row)"
   ]
  },
  {
   "cell_type": "markdown",
   "metadata": {},
   "source": [
    "## Delete operations\n",
    "<br>\n",
    "Delete a single record"
   ]
  },
  {
   "cell_type": "code",
   "execution_count": 43,
   "metadata": {
    "ExecuteTime": {
     "end_time": "2020-11-27T03:19:02.571202Z",
     "start_time": "2020-11-27T03:19:02.555205Z"
    }
   },
   "outputs": [
    {
     "ename": "IntegrityError",
     "evalue": "Cannot delete or update a parent row: a foreign key constraint fails (`nation`.`country_languages`, CONSTRAINT `country_languages_ibfk_1` FOREIGN KEY (`country_id`) REFERENCES `countries` (`country_id`))",
     "output_type": "error",
     "traceback": [
      "\u001b[1;31m---------------------------------------------------------------------------\u001b[0m",
      "\u001b[1;31mIntegrityError\u001b[0m                            Traceback (most recent call last)",
      "\u001b[1;32m<ipython-input-43-6dd4bf1489d8>\u001b[0m in \u001b[0;36m<module>\u001b[1;34m\u001b[0m\n\u001b[0;32m      1\u001b[0m \u001b[1;32mwith\u001b[0m \u001b[0mrdbms\u001b[0m\u001b[1;33m.\u001b[0m\u001b[0mMariaDBCursor\u001b[0m\u001b[1;33m(\u001b[0m\u001b[1;34m\"\"\u001b[0m\u001b[1;33m,\u001b[0m \u001b[1;34m\"nation\"\u001b[0m\u001b[1;33m)\u001b[0m \u001b[1;32mas\u001b[0m \u001b[0mrdbms_cursor\u001b[0m\u001b[1;33m:\u001b[0m\u001b[1;33m\u001b[0m\u001b[1;33m\u001b[0m\u001b[0m\n\u001b[1;32m----> 2\u001b[1;33m     \u001b[0mrdbms_cursor\u001b[0m\u001b[1;33m.\u001b[0m\u001b[0mexecute\u001b[0m\u001b[1;33m(\u001b[0m\u001b[1;34m\"DELETE FROM countries WHERE name='South Africa';\"\u001b[0m\u001b[1;33m)\u001b[0m\u001b[1;33m\u001b[0m\u001b[1;33m\u001b[0m\u001b[0m\n\u001b[0m\u001b[0;32m      3\u001b[0m \u001b[1;33m\u001b[0m\u001b[0m\n\u001b[0;32m      4\u001b[0m     \u001b[0mprint\u001b[0m\u001b[1;33m(\u001b[0m\u001b[1;34mf\"{rdbms_cursor.rowcount} records(s) deleted\"\u001b[0m \u001b[1;33m)\u001b[0m\u001b[1;33m\u001b[0m\u001b[1;33m\u001b[0m\u001b[0m\n\u001b[0;32m      5\u001b[0m \u001b[1;33m\u001b[0m\u001b[0m\n",
      "\u001b[1;31mIntegrityError\u001b[0m: Cannot delete or update a parent row: a foreign key constraint fails (`nation`.`country_languages`, CONSTRAINT `country_languages_ibfk_1` FOREIGN KEY (`country_id`) REFERENCES `countries` (`country_id`))"
     ]
    }
   ],
   "source": [
    "with rdbms.MariaDBCursor(\"\", \"nation\") as rdbms_cursor:\n",
    "    rdbms_cursor.execute(\"DELETE FROM countries WHERE name='South Africa';\")\n",
    "    \n",
    "    print(f\"{rdbms_cursor.rowcount} records(s) deleted\" )\n",
    "    \n",
    "    # showing the results of the other tables after a record is deleted\n",
    "    rdbms_cursor.execute(\"SELECT * FROM country_languages;\")\n",
    "    rows = rdbms_cursor.fetchall()\n",
    "    print(\"Table: country_languages\")\n",
    "    # print out the rows retrieved\n",
    "    for row in rows:\n",
    "        print(row)\n",
    "    \n",
    "    rdbms_cursor.execute(\"SELECT * FROM country_stats;\")\n",
    "    rows = rdbms_cursor.fetchall()\n",
    "    print(\"\\n\\nTable: country_stats\")\n",
    "    # print out the rows retrieved\n",
    "    for row in rows:\n",
    "        print(row)"
   ]
  },
  {
   "cell_type": "markdown",
   "metadata": {},
   "source": [
    "How to find the foreign key constraint name of all the tables in the database "
   ]
  },
  {
   "cell_type": "code",
   "execution_count": 45,
   "metadata": {
    "ExecuteTime": {
     "end_time": "2020-11-27T03:19:52.401833Z",
     "start_time": "2020-11-27T03:19:52.132554Z"
    }
   },
   "outputs": [
    {
     "name": "stdout",
     "output_type": "stream",
     "text": [
      "('countries_ibfk_1', 1, 'nation', 'countries', 'region_id', 'nation', 'regions', 'region_id')\n",
      "('country_languages_ibfk_1', 1, 'nation', 'country_languages', 'country_id', 'nation', 'countries', 'country_id')\n",
      "('country_languages_ibfk_2', 1, 'nation', 'country_languages', 'language_id', 'nation', 'languages', 'language_id')\n",
      "('country_stats_ibfk_1', 1, 'nation', 'country_stats', 'country_id', 'nation', 'countries', 'country_id')\n",
      "('regions_ibfk_1', 1, 'nation', 'regions', 'continent_id', 'nation', 'continents', 'continent_id')\n",
      "('customer_ibfk_1', 1, 'sales', 'customer', 'salesman_id', 'sales', 'salesman', 'salesman_id')\n"
     ]
    }
   ],
   "source": [
    "find_foreign_key = \"\"\"\n",
    "SELECT\n",
    "    fk.constraint_name, \n",
    "    c.ordinal_position,\n",
    "    c.table_schema,\n",
    "    c.table_name,\n",
    "    c.column_name,\n",
    "    c.referenced_table_schema,\n",
    "    c.referenced_table_name,\n",
    "    c.referenced_column_name\n",
    "  FROM information_schema.table_constraints fk\n",
    "  JOIN information_schema.key_column_usage c \n",
    "    ON c.constraint_name = fk.constraint_name\n",
    "  WHERE fk.constraint_type = 'FOREIGN KEY';\n",
    "\"\"\"\n",
    "\n",
    "with rdbms.MariaDBCursor(\"\", \"nation\") as rdbms_cursor:\n",
    "    rdbms_cursor.execute(find_foreign_key)\n",
    "    \n",
    "    rows = rdbms_cursor.fetchall()\n",
    "    \n",
    "    # Note that we only want the foreign key constraint name\n",
    "    # and that is the first value in the tuple\n",
    "    for row in rows:\n",
    "        print(row)"
   ]
  },
  {
   "cell_type": "markdown",
   "metadata": {},
   "source": [
    "Delete all rows from the tables `languages`"
   ]
  },
  {
   "cell_type": "code",
   "execution_count": 46,
   "metadata": {
    "ExecuteTime": {
     "end_time": "2020-11-27T03:22:26.656218Z",
     "start_time": "2020-11-27T03:22:26.624303Z"
    }
   },
   "outputs": [
    {
     "name": "stdout",
     "output_type": "stream",
     "text": [
      "0 records(s) deleted\n",
      "Table: languages\n",
      "Table has no records\n"
     ]
    }
   ],
   "source": [
    "with rdbms.MariaDBCursor(\"\", \"nation\") as rdbms_cursor:\n",
    "    rdbms_cursor.execute(\"ALTER TABLE country_languages DROP \" + \\\n",
    "                         \"FOREIGN KEY country_languages_ibfk_2;\")\n",
    "    rdbms_cursor.execute(\"TRUNCATE TABLE languages;\")\n",
    "    \n",
    "    print(f\"{rdbms_cursor.rowcount} records(s) deleted\" )\n",
    "    \n",
    "    # showing the results of the other tables after a record is deleted\n",
    "    rdbms_cursor.execute(\"SELECT * FROM languages;\")\n",
    "    rows = rdbms_cursor.fetchall()\n",
    "    \n",
    "    print(\"Table: languages\")\n",
    "    if rows:\n",
    "        for row in rows:\n",
    "            print(row)\n",
    "    else:\n",
    "        print(\"Table has no records\")\n",
    "    "
   ]
  },
  {
   "cell_type": "markdown",
   "metadata": {},
   "source": [
    "Delete the table `languages`"
   ]
  },
  {
   "cell_type": "code",
   "execution_count": 50,
   "metadata": {
    "ExecuteTime": {
     "end_time": "2020-11-27T03:23:21.819666Z",
     "start_time": "2020-11-27T03:23:21.809692Z"
    }
   },
   "outputs": [
    {
     "ename": "OperationalError",
     "evalue": "Unknown table 'nation.languages'",
     "output_type": "error",
     "traceback": [
      "\u001b[1;31m---------------------------------------------------------------------------\u001b[0m",
      "\u001b[1;31mOperationalError\u001b[0m                          Traceback (most recent call last)",
      "\u001b[1;32m<ipython-input-50-7ad21f937be6>\u001b[0m in \u001b[0;36m<module>\u001b[1;34m\u001b[0m\n\u001b[0;32m      1\u001b[0m \u001b[1;32mwith\u001b[0m \u001b[0mrdbms\u001b[0m\u001b[1;33m.\u001b[0m\u001b[0mMariaDBCursor\u001b[0m\u001b[1;33m(\u001b[0m\u001b[1;34m\"\"\u001b[0m\u001b[1;33m,\u001b[0m \u001b[1;34m\"nation\"\u001b[0m\u001b[1;33m)\u001b[0m \u001b[1;32mas\u001b[0m \u001b[0mrdbms_cursor\u001b[0m\u001b[1;33m:\u001b[0m\u001b[1;33m\u001b[0m\u001b[1;33m\u001b[0m\u001b[0m\n\u001b[1;32m----> 2\u001b[1;33m     \u001b[0mrdbms_cursor\u001b[0m\u001b[1;33m.\u001b[0m\u001b[0mexecute\u001b[0m\u001b[1;33m(\u001b[0m\u001b[1;34m\"DROP TABLE languages;\"\u001b[0m\u001b[1;33m)\u001b[0m\u001b[1;33m\u001b[0m\u001b[1;33m\u001b[0m\u001b[0m\n\u001b[0m\u001b[0;32m      3\u001b[0m \u001b[1;33m\u001b[0m\u001b[0m\n\u001b[0;32m      4\u001b[0m     \u001b[1;31m# showing the results of the other tables after a record is deleted\u001b[0m\u001b[1;33m\u001b[0m\u001b[1;33m\u001b[0m\u001b[1;33m\u001b[0m\u001b[0m\n\u001b[0;32m      5\u001b[0m     \u001b[0mrdbms_cursor\u001b[0m\u001b[1;33m.\u001b[0m\u001b[0mexecute\u001b[0m\u001b[1;33m(\u001b[0m\u001b[1;34m\"SHOW tables;\"\u001b[0m\u001b[1;33m)\u001b[0m\u001b[1;33m\u001b[0m\u001b[1;33m\u001b[0m\u001b[0m\n",
      "\u001b[1;31mOperationalError\u001b[0m: Unknown table 'nation.languages'"
     ]
    }
   ],
   "source": [
    "with rdbms.MariaDBCursor(\"\", \"nation\") as rdbms_cursor:\n",
    "    rdbms_cursor.execute(\"DROP TABLE languages;\")\n",
    "    \n",
    "    # showing the results of the other tables after a record is deleted\n",
    "    rdbms_cursor.execute(\"SHOW tables;\")\n",
    "    rows = rdbms_cursor.fetchall()\n",
    "    \n",
    "    print(\"All the tables in the database\")\n",
    "    for row in rows:\n",
    "        print(row)"
   ]
  },
  {
   "cell_type": "code",
   "execution_count": null,
   "metadata": {},
   "outputs": [],
   "source": []
  }
 ],
 "metadata": {
  "kernelspec": {
   "display_name": "Python 3",
   "language": "python",
   "name": "python3"
  },
  "language_info": {
   "codemirror_mode": {
    "name": "ipython",
    "version": 3
   },
   "file_extension": ".py",
   "mimetype": "text/x-python",
   "name": "python",
   "nbconvert_exporter": "python",
   "pygments_lexer": "ipython3",
   "version": "3.7.7"
  }
 },
 "nbformat": 4,
 "nbformat_minor": 4
}
