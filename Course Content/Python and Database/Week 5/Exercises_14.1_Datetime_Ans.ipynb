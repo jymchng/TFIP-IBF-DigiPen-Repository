{
 "cells": [
  {
   "cell_type": "markdown",
   "metadata": {},
   "source": [
    "# Python Datetime library Exercise\n",
    "\n",
    "## Write Codes based on the questions\n",
    "---\n",
    "\n",
    "**Qn 1)** Write a Python script to display the various Date Time formats\n",
    " * Current date and time\n",
    " * Current year\n",
    " * Month of year\n",
    " * Week number of the year\n",
    " * Weekday of the week\n",
    " * Day of year\n",
    " * Day of the month\n",
    " * Day of week"
   ]
  },
  {
   "cell_type": "code",
   "execution_count": null,
   "metadata": {},
   "outputs": [],
   "source": [
    "import datetime\n",
    "\n",
    "print(\"Current date and time: \" , datetime.datetime.now())\n",
    "print(\"Current year: \", datetime.date.today().strftime(\"%Y\"))\n",
    "print(\"Month of year: \", datetime.date.today().strftime(\"%B\"))\n",
    "print(\"Week number of the year: \", datetime.date.today().strftime(\"%W\"))\n",
    "print(\"Weekday of the week: \", datetime.date.today().strftime(\"%w\"))\n",
    "print(\"Day of year: \", datetime.date.today().strftime(\"%j\"))\n",
    "print(\"Day of the month : \", datetime.date.today().strftime(\"%d\"))\n",
    "print(\"Day of week: \", datetime.date.today().strftime(\"%A\"))"
   ]
  },
  {
   "cell_type": "markdown",
   "metadata": {},
   "source": [
    "**Qn 2)** Write a function that takes in a specified year and month (all integers) and returns a list of strings of all the Sundays associated with that year and month. Formatting is not important."
   ]
  },
  {
   "cell_type": "code",
   "execution_count": null,
   "metadata": {},
   "outputs": [],
   "source": [
    "from datetime import date, timedelta\n",
    "\n",
    "def all_sundays(year, month):\n",
    "    sundays = []\n",
    "    # January 1st of the given year\n",
    "    dt = date(year, month, 1)\n",
    "    # First Sunday of the given year       \n",
    "    dt += timedelta(days = 6 - dt.weekday())  \n",
    "    while dt.year == year and dt.month == month:\n",
    "        sundays.append(dt.isoformat())\n",
    "        dt += timedelta(days = 7)\n",
    "    \n",
    "    return sundays\n",
    "          \n",
    "for s in all_sundays(2020, 11):\n",
    "    print(s)"
   ]
  },
  {
   "cell_type": "markdown",
   "metadata": {},
   "source": [
    "**Qn 3)** Write a function that create 12 fixed dates from a given specific date over a given period. The difference between each date is 20 days. You are to get the specific date from user input in the format DD-MM-YYYY and the returned date is to use the format MM-DD-YYYY."
   ]
  },
  {
   "cell_type": "code",
   "execution_count": null,
   "metadata": {},
   "outputs": [],
   "source": [
    "import datetime\n",
    "\n",
    "def every_20_days(date):\n",
    "    next_twelve = []\n",
    "    for _ in range(12):\n",
    "        date = date + datetime.timedelta(days=20)\n",
    "        next_twelve.append(date.strftime('%m-%d-%Y'))\n",
    "    \n",
    "    return next_twelve\n",
    "\n",
    "user_date = input('Enter a date in the format DD-MM-YYYY: ')\n",
    "\n",
    "dt = datetime.datetime.strptime(user_date, '%d-%m-%Y')\n",
    "days = every_20_days(dt.date())\n",
    "\n",
    "for d in days:\n",
    "    print(d)"
   ]
  },
  {
   "cell_type": "markdown",
   "metadata": {},
   "source": [
    "**Qn 4)** Write a function that accepts a date and a number for year (either a positive or negative integer). The function is to add the year/s to a given date then return the new date. Input and output date format is up to you."
   ]
  },
  {
   "cell_type": "code",
   "execution_count": null,
   "metadata": {},
   "outputs": [],
   "source": [
    "import datetime\n",
    "from datetime import date\n",
    "\n",
    "def add_years(d, years):\n",
    "    try:\n",
    "        # Return same day of the current year        \n",
    "        return d.replace(year = d.year + years)\n",
    "    except ValueError:\n",
    "        # If not same day, it will return other, i.e.  February 29 to March 1 etc.        \n",
    "        return d + (date(d.year + years, 1, 1) - date(d.year, 1, 1))\n",
    "\n",
    "print(add_years(datetime.date(2015,1,1), -1))\n",
    "print(add_years(datetime.date(2015,1,1), 0))\n",
    "print(add_years(datetime.date(2015,1,1), 2))\n",
    "print(add_years(datetime.date(2000,2,29),1))"
   ]
  },
  {
   "cell_type": "markdown",
   "metadata": {},
   "source": [
    "**Qn 5)** Write a function that accept 2 dates and return the difference between the 2 dates in as a 2-tuple of days and total seconds. The dates are to be entered via user input in the format DD-MM-YYYY."
   ]
  },
  {
   "cell_type": "code",
   "execution_count": null,
   "metadata": {},
   "outputs": [],
   "source": [
    "from datetime import datetime, timedelta\n",
    "\n",
    "def diff_date(d1, d2):\n",
    "    if d2 > d1:\n",
    "        diff = d2 - d1\n",
    "    else:\n",
    "        diff = d1 - d2\n",
    "    \n",
    "    return (diff.days, diff.total_seconds())\n",
    "\n",
    "date1 = input(\"Enter first date: \")\n",
    "date2 = input(\"Enter second date: \")\n",
    "\n",
    "try:\n",
    "    date1 = datetime.strptime(date1, '%d-%m-%Y')\n",
    "    date2 = datetime.strptime(date2, '%d-%m-%Y')\n",
    "    \n",
    "    print(diff_date(date1.date(), date2.date()))\n",
    "except ValueError:\n",
    "    print(\"Entered wrong dates\")"
   ]
  },
  {
   "cell_type": "markdown",
   "metadata": {},
   "source": [
    "**Qn 6)** Using a single list comprehension, fill in all the missing dates between 2 user input dates. The output date format is DD-MMM-YYYY and the input date format is DD-MM-YYYY.<br>\n",
    "**Hint**: You may want to use the function from Qn 5.\n",
    "\n",
    "**Sample Program Output**\n",
    "<pre>\n",
    "Enter first date:  20-05-2020\n",
    "Enter second date:  15-05-2020\n",
    "['15-May-2020', '16-May-2020', '17-May-2020', '18-May-2020', '19-May-2020', '20-May-2020']\n",
    "</pre>"
   ]
  },
  {
   "cell_type": "code",
   "execution_count": null,
   "metadata": {},
   "outputs": [],
   "source": [
    "from datetime import datetime, timedelta\n",
    "\n",
    "date1 = input(\"Enter first date: \")\n",
    "date2 = input(\"Enter second date: \")\n",
    "\n",
    "try:\n",
    "    date1 = datetime.strptime(date1, '%d-%m-%Y')\n",
    "    date2 = datetime.strptime(date2, '%d-%m-%Y')\n",
    "    \n",
    "    diff = diff_date(date1.date(), date2.date())\n",
    "    \n",
    "    start = min(date1, date2)\n",
    "    \n",
    "    dates_btw_d1d2 = [(start + timedelta(i)).strftime('%d-%b-%Y') for i in range(diff[0] + 1)]\n",
    "    print(dates_btw_d1d2)\n",
    "except ValueError:\n",
    "    print(\"Entered wrong dates\")"
   ]
  }
 ],
 "metadata": {
  "kernelspec": {
   "display_name": "Python 3",
   "language": "python",
   "name": "python3"
  },
  "language_info": {
   "codemirror_mode": {
    "name": "ipython",
    "version": 3
   },
   "file_extension": ".py",
   "mimetype": "text/x-python",
   "name": "python",
   "nbconvert_exporter": "python",
   "pygments_lexer": "ipython3",
   "version": "3.8.3"
  }
 },
 "nbformat": 4,
 "nbformat_minor": 4
}
