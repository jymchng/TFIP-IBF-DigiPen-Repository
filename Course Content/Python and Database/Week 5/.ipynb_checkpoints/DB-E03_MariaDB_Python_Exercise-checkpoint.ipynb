{
 "cells": [
  {
   "cell_type": "markdown",
   "metadata": {},
   "source": [
    "# MariaDB with Python Exercises\n",
    "\n",
    "Make sure that you finished the Basic SQL Exercises before starting this exercise because you will be converting what you have already done from manual inputs to using Python and MariaDB's Python connector to interface directly with MariaDBMS. You are still encouraged to use MySQL Client to help check your work.\n",
    "\n",
    "---"
   ]
  },
  {
   "cell_type": "markdown",
   "metadata": {},
   "source": [
    "**Q1)** Write SQL statements to answer the questions using the following table.\n",
    "\n",
    "Table name: salesman\n",
    "\n",
    "| salesman_id |    name    |   city   | commission |\n",
    "|------------:|:-----------|:---------|-----------:|\n",
    "|        5001 | James Hoog | New York |       0.15 |\n",
    "|        5002 | Nail Knite | Paris    |       0.13 |\n",
    "|        5005 | Pit Alex   | London   |       0.11 |\n",
    "|        5006 | Mc Lyon    | Paris    |       0.14 |\n",
    "|        5007 | Paul Adam  | Rome     |       0.13 |\n",
    "|        5003 | Lauson Hen | San Jose |       0.12 |\n",
    "        \n",
    "1. Return all the salesman data for salesman that either comes from the city Paris or London.\n",
    "2. Find the average commission for salesmen from Paris.\n",
    "3. Find the salesman ids of those salesmen with names starting with the letter \"P\"."
   ]
  },
  {
   "cell_type": "code",
   "execution_count": 2,
   "metadata": {
    "ExecuteTime": {
     "end_time": "2020-11-27T05:31:56.540094Z",
     "start_time": "2020-11-27T05:31:56.532115Z"
    }
   },
   "outputs": [
    {
     "name": "stdout",
     "output_type": "stream",
     "text": [
      "Success\n"
     ]
    }
   ],
   "source": [
    "# imports mariadb library\n",
    "import mariadb\n",
    "\n",
    "try:\n",
    "    # Instantiate Connection\n",
    "    conn = mariadb.connect(\n",
    "        user=\"root\",\n",
    "        password=\"\",\n",
    "        host=\"localhost\",\n",
    "        port=3306)\n",
    "    print(\"Success\")\n",
    "except mariadb.Error as e:\n",
    "    print(f\"Error connecting to MariaDB Platform: {e}\")"
   ]
  },
  {
   "cell_type": "code",
   "execution_count": 3,
   "metadata": {
    "ExecuteTime": {
     "end_time": "2020-11-27T05:32:12.022646Z",
     "start_time": "2020-11-27T05:32:12.019654Z"
    }
   },
   "outputs": [],
   "source": [
    "cur = conn.cursor() "
   ]
  },
  {
   "cell_type": "code",
   "execution_count": 4,
   "metadata": {
    "ExecuteTime": {
     "end_time": "2020-11-27T05:32:34.678994Z",
     "start_time": "2020-11-27T05:32:34.615164Z"
    }
   },
   "outputs": [
    {
     "ename": "ProgrammingError",
     "evalue": "Can't create database 'sales'; database exists",
     "output_type": "error",
     "traceback": [
      "\u001b[1;31m---------------------------------------------------------------------------\u001b[0m",
      "\u001b[1;31mProgrammingError\u001b[0m                          Traceback (most recent call last)",
      "\u001b[1;32m<ipython-input-4-329dee51b666>\u001b[0m in \u001b[0;36m<module>\u001b[1;34m\u001b[0m\n\u001b[0;32m      1\u001b[0m \u001b[1;31m# creating database\u001b[0m\u001b[1;33m\u001b[0m\u001b[1;33m\u001b[0m\u001b[1;33m\u001b[0m\u001b[0m\n\u001b[1;32m----> 2\u001b[1;33m \u001b[0mcur\u001b[0m\u001b[1;33m.\u001b[0m\u001b[0mexecute\u001b[0m\u001b[1;33m(\u001b[0m\u001b[1;34m\"CREATE DATABASE sales\"\u001b[0m\u001b[1;33m)\u001b[0m\u001b[1;33m\u001b[0m\u001b[1;33m\u001b[0m\u001b[0m\n\u001b[0m",
      "\u001b[1;31mProgrammingError\u001b[0m: Can't create database 'sales'; database exists"
     ]
    }
   ],
   "source": [
    "# creating database  \n",
    "cur.execute(\"CREATE DATABASE sales\")"
   ]
  },
  {
   "cell_type": "code",
   "execution_count": 6,
   "metadata": {
    "ExecuteTime": {
     "end_time": "2020-11-27T05:35:33.015641Z",
     "start_time": "2020-11-27T05:35:32.980699Z"
    }
   },
   "outputs": [],
   "source": [
    "import mariadb_context as rdbms"
   ]
  },
  {
   "cell_type": "code",
   "execution_count": 9,
   "metadata": {
    "ExecuteTime": {
     "end_time": "2020-11-27T05:39:34.313685Z",
     "start_time": "2020-11-27T05:39:34.307701Z"
    }
   },
   "outputs": [
    {
     "name": "stdout",
     "output_type": "stream",
     "text": [
      "('5002', 'Nail Knite', 'Paris', Decimal('0.13'))\n",
      "('5005', 'Pit Alex', 'London', Decimal('0.11'))\n",
      "('5006', 'Mc Lyon', 'Paris', Decimal('0.14'))\n"
     ]
    }
   ],
   "source": [
    "with rdbms.MariaDBCursor(\"\", \"sales\") as rdbms_cursor:\n",
    "    rdbms_cursor.execute(\"SELECT * FROM salesman WHERE city='London' OR city ='Paris';\")\n",
    "    \n",
    "    rows = rdbms_cursor.fetchall()\n",
    "    \n",
    "    for row in rows:\n",
    "        print(row)"
   ]
  },
  {
   "cell_type": "code",
   "execution_count": 10,
   "metadata": {
    "ExecuteTime": {
     "end_time": "2020-11-27T05:43:33.460475Z",
     "start_time": "2020-11-27T05:43:33.445515Z"
    }
   },
   "outputs": [
    {
     "name": "stdout",
     "output_type": "stream",
     "text": [
      "(Decimal('0.135000'),)\n"
     ]
    }
   ],
   "source": [
    "with rdbms.MariaDBCursor(\"\", \"sales\") as rdbms_cursor:\n",
    "    rdbms_cursor.execute(\"SELECT AVG(commission) FROM salesman WHERE city ='Paris';\")\n",
    "    \n",
    "    rows = rdbms_cursor.fetchall()\n",
    "    \n",
    "    for row in rows:\n",
    "        print(row)"
   ]
  },
  {
   "cell_type": "code",
   "execution_count": 24,
   "metadata": {
    "ExecuteTime": {
     "end_time": "2020-11-27T05:48:06.209393Z",
     "start_time": "2020-11-27T05:48:06.201447Z"
    }
   },
   "outputs": [
    {
     "name": "stdout",
     "output_type": "stream",
     "text": [
      "('5005', 'Pit Alex')\n",
      "('5007', 'Paul Adam')\n"
     ]
    }
   ],
   "source": [
    "with rdbms.MariaDBCursor(\"\", \"sales\") as rdbms_cursor:\n",
    "    rdbms_cursor.execute('SELECT salesman_id, name FROM salesman WHERE name LIKE \"P%\";')    \n",
    "    rows = rdbms_cursor.fetchall()\n",
    "    \n",
    "    for row in rows:\n",
    "        print(row)"
   ]
  },
  {
   "cell_type": "markdown",
   "metadata": {},
   "source": [
    "---\n",
    "**Q2)** Write SQL statements to answer the questions using the following table. \n",
    "\n",
    "Table name: salesman\n",
    "\n",
    "| salesman_id |    name    |   city   | commission | \n",
    "|------------:|:-----------|:---------|-----------:|\n",
    "|        5001 | James Hoog | New York |       0.15 |\n",
    "|        5002 | Nail Knite | Paris    |       0.13 |\n",
    "|        5005 | Pit Alex   | London   |       0.11 |\n",
    "|        5006 | Mc Lyon    | Paris    |       0.14 |\n",
    "|        5007 | Paul Adam  | Rome     |       0.13 |\n",
    "|        5003 | Lauson Hen | San Jose |       0.12 |\n",
    "        \n",
    "Table name: customer\n",
    "\n",
    "| cust_id     |   cust_name    |    city    | grade | salesman_id |\n",
    "|------------:|:---------------|:-----------|------:|------------:|\n",
    "|        3002 | Nick Rimando   | New York   |   100 |        5001 |\n",
    "|        3007 | Brad Davis     | New York   |   200 |        5001 |\n",
    "|        3005 | Graham Zusi    | California |   200 |        5002 |\n",
    "|        3008 | Julian Green   | London     |   300 |        5002 |\n",
    "|        3004 | Fabian Johnson | Paris      |   300 |        5006 |\n",
    "|        3009 | Geoff Cameron  | Berlin     |   100 |        5003 |\n",
    "|        3003 | Jozy Altidor   | Moscow     |   200 |        5007 |\n",
    "|        3001 | Brad Guzan     | London     |   250 |        5005 |\n",
    "        \n",
    "1. Return both the customer's and salesmen's name and id who lives in the same city.\n",
    "2. Return the salesman's name and id where customers have graded them over 250.\n",
    "3. Customer Brad Davis have moved from New York to Hong Kong, update the customer's data to reflect this change.\n",
    "4. Using the following data, insert the following customer records:\n",
    " <pre>\n",
    " {'new_customers':\n",
    "     ({'cust_id': 3006, 'cust_name': 'Joe Black', 'city': 'California', 'grade': 200, 'attendant_salesman':'Pit Alex'},\n",
    "      {'cust_id': 3010, 'cust_name': 'Blue Lightning', 'city': 'Hamburg', 'grade': 300, 'attendant_salesman':'Paul Adam'},\n",
    "      {'cust_id': 3011, 'cust_name': 'Lyra Slivertongue', 'city': 'Oxford', 'grade': 300, 'attendant_salesman':'Nail Knite'}\n",
    "     )}\n",
    " </pre>\n",
    " you are to use the dictionary data as it is."
   ]
  },
  {
   "cell_type": "code",
   "execution_count": 25,
   "metadata": {
    "ExecuteTime": {
     "end_time": "2020-11-27T05:49:00.086162Z",
     "start_time": "2020-11-27T05:49:00.078184Z"
    }
   },
   "outputs": [
    {
     "name": "stdout",
     "output_type": "stream",
     "text": [
      "('Brad Guzan', 'Pit Alex')\n",
      "('Nick Rimando', 'James Hoog')\n",
      "('Fabian Johnson', 'Nail Knite')\n",
      "('Fabian Johnson', 'Mc Lyon')\n",
      "('Julian Green', 'Pit Alex')\n"
     ]
    }
   ],
   "source": [
    "with rdbms.MariaDBCursor(\"\", \"sales\") as rdbms_cursor:\n",
    "    rdbms_cursor.execute('SELECT cust_name, name FROM customer, salesman WHERE customer.city = salesman.city;')    \n",
    "    rows = rdbms_cursor.fetchall()\n",
    "    \n",
    "    for row in rows:\n",
    "        print(row)"
   ]
  },
  {
   "cell_type": "code",
   "execution_count": 26,
   "metadata": {
    "ExecuteTime": {
     "end_time": "2020-11-27T05:49:27.771087Z",
     "start_time": "2020-11-27T05:49:27.758083Z"
    }
   },
   "outputs": [
    {
     "name": "stdout",
     "output_type": "stream",
     "text": [
      "('Mc Lyon', '5006')\n",
      "('Nail Knite', '5002')\n"
     ]
    }
   ],
   "source": [
    "with rdbms.MariaDBCursor(\"\", \"sales\") as rdbms_cursor:\n",
    "    rdbms_cursor.execute('SELECT salesman.name, salesman.salesman_id FROM salesman, customer WHERE customer.grade > 250 AND salesman.salesman_id = customer.salesman_id;')    \n",
    "    rows = rdbms_cursor.fetchall()\n",
    "    \n",
    "    for row in rows:\n",
    "        print(row)"
   ]
  },
  {
   "cell_type": "code",
   "execution_count": 28,
   "metadata": {
    "ExecuteTime": {
     "end_time": "2020-11-27T05:50:46.084489Z",
     "start_time": "2020-11-27T05:50:46.076509Z"
    }
   },
   "outputs": [
    {
     "name": "stdout",
     "output_type": "stream",
     "text": [
      "('3001', 'Brad Guzan', 'London', 200, '5005')\n",
      "('3002', 'Nick Rimando', 'New York', 100, '5001')\n",
      "('3003', 'Jozy Altidor', 'Moscow', 200, '5007')\n",
      "('3004', 'Fabian Johnson', 'Paris', 300, '5006')\n",
      "('3005', 'Graham Zusi', 'California', 200, '5002')\n",
      "('3007', 'Brad Davis', 'Hong Kong', 200, '5001')\n",
      "('3008', 'Julian Green', 'London', 300, '5002')\n",
      "('3009', 'Geoff Cameron', 'Berlin', 100, '5003')\n"
     ]
    }
   ],
   "source": [
    "with rdbms.MariaDBCursor(\"\", \"sales\") as rdbms_cursor:\n",
    "    rdbms_cursor.execute('UPDATE customer AS c SET city=\"Hong Kong\" WHERE c.cust_name = \"Brad Davis\";')    \n",
    "    \n",
    "    rdbms_cursor.execute('SELECT * FROM customer')\n",
    "    \n",
    "    rows = rdbms_cursor.fetchall()\n",
    "    \n",
    "    for row in rows:\n",
    "        print(row)"
   ]
  },
  {
   "cell_type": "code",
   "execution_count": 60,
   "metadata": {
    "ExecuteTime": {
     "end_time": "2020-11-27T06:59:22.776348Z",
     "start_time": "2020-11-27T06:59:22.764381Z"
    }
   },
   "outputs": [
    {
     "ename": "IntegrityError",
     "evalue": "Duplicate entry '3006' for key 'PRIMARY'",
     "output_type": "error",
     "traceback": [
      "\u001b[1;31m---------------------------------------------------------------------------\u001b[0m",
      "\u001b[1;31mIntegrityError\u001b[0m                            Traceback (most recent call last)",
      "\u001b[1;32m<ipython-input-60-fcaf07c25eed>\u001b[0m in \u001b[0;36m<module>\u001b[1;34m\u001b[0m\n\u001b[0;32m     24\u001b[0m             \u001b[1;34m'{di[\"city\"]}'\u001b[0m\u001b[1;33m,\u001b[0m\u001b[1;33m\u001b[0m\u001b[1;33m\u001b[0m\u001b[0m\n\u001b[0;32m     25\u001b[0m             \u001b[1;33m{\u001b[0m\u001b[0mdi\u001b[0m\u001b[1;33m[\u001b[0m\u001b[1;34m\"grade\"\u001b[0m\u001b[1;33m]\u001b[0m\u001b[1;33m}\u001b[0m\u001b[1;33m,\u001b[0m\u001b[1;33m\u001b[0m\u001b[1;33m\u001b[0m\u001b[0m\n\u001b[1;32m---> 26\u001b[1;33m             (SELECT salesman_id FROM salesman WHERE name='{di['attendant_salesman']}'));\"\"\")\n\u001b[0m\u001b[0;32m     27\u001b[0m \u001b[1;33m\u001b[0m\u001b[0m\n\u001b[0;32m     28\u001b[0m \u001b[1;31m# LESSON LEARNT: Must use ?,?,?,? and use the params tuple parameter to replace the ? with the parameter respectively.\u001b[0m\u001b[1;33m\u001b[0m\u001b[1;33m\u001b[0m\u001b[1;33m\u001b[0m\u001b[0m\n",
      "\u001b[1;31mIntegrityError\u001b[0m: Duplicate entry '3006' for key 'PRIMARY'"
     ]
    }
   ],
   "source": [
    "d = {'new_customers':\n",
    "  ({'cust_id': 3006, 'cust_name': 'Joe Black', 'city': 'California', 'grade': 200, 'attendant_salesman':'Pit Alex'},\n",
    "   {'cust_id': 3010, 'cust_name': 'Blue Lightning', 'city': 'Hamburg', 'grade': 300, 'attendant_salesman':'Paul Adam'},\n",
    "   {'cust_id': 3011, 'cust_name': 'Lyra Slivertongue', 'city': 'Oxford', 'grade': 300, 'attendant_salesman':'Nail Knite'}\n",
    "  )}\n",
    "\n",
    "# with rdbms.MariaDBCursor(\"\", \"sales\") as rdbms_cursor:\n",
    "#     for di in d['new_customers']:\n",
    "#         rdbms_cursor.execute(f'(SELECT salesman_id FROM salesman WHERE name = {di[\"attendant_name\"]});')\n",
    "\n",
    "with rdbms.MariaDBCursor(\"\", \"sales\") as rdbms_cursor:\n",
    "    for di in d['new_customers']:\n",
    "#         rdbms_cursor.execute(f\"\"\"SELECT salesman_id FROM salesman WHERE name = \"{di[\"attendant_salesman\"]}\";\"\"\")\n",
    "#         salesman_id = rdbms_cursor.fetchone()\n",
    "#         print(salesman_id)\n",
    "#         rdbms_cursor.execute(f\"\"\"INSERT INTO customer VALUES (?,?,?,?,(SELECT salesman_id FROM salesman WHERE name=?));\"\"\", (di[\"cust_id\"],\n",
    "#                                                                              di[\"cust_name\"],\n",
    "#                                                                              di[\"city\"],\n",
    "#                                                                              di[\"grade\"],\n",
    "#                                                                              di['attendant_salesman']))\n",
    "    \n",
    "        rdbms_cursor.execute(f\"\"\"INSERT INTO customer VALUES ({di[\"cust_id\"]},\n",
    "            '{di[\"cust_name\"]}',\n",
    "            '{di[\"city\"]}',\n",
    "            {di[\"grade\"]},\n",
    "            (SELECT salesman_id FROM salesman WHERE name='{di['attendant_salesman']}'));\"\"\")\n",
    "\n",
    "# LESSON LEARNT: Must use ?,?,?,? and use the params tuple parameter to replace the ? with the parameter respectively.\n",
    "# LESSON LEARNT: For the parameters that are returning string, MUST ENCLOSE IT WITH SINGLE QUOTES.\n",
    "# LESSON LEARNT: YOU CAN COMPOUND SQL STATEMENT IN ANOTHER SQL STATEMENT USING PARENTHESIS!!!"
   ]
  },
  {
   "cell_type": "code",
   "execution_count": 51,
   "metadata": {
    "ExecuteTime": {
     "end_time": "2020-11-27T06:51:13.551119Z",
     "start_time": "2020-11-27T06:51:13.530169Z"
    }
   },
   "outputs": [
    {
     "ename": "IntegrityError",
     "evalue": "Duplicate entry '3006' for key 'PRIMARY'",
     "output_type": "error",
     "traceback": [
      "\u001b[1;31m---------------------------------------------------------------------------\u001b[0m",
      "\u001b[1;31mIntegrityError\u001b[0m                            Traceback (most recent call last)",
      "\u001b[1;32m<ipython-input-51-0b276824b531>\u001b[0m in \u001b[0;36m<module>\u001b[1;34m\u001b[0m\n\u001b[0;32m     16\u001b[0m                         \u001b[0md\u001b[0m\u001b[1;33m[\u001b[0m\u001b[1;34m'city'\u001b[0m\u001b[1;33m]\u001b[0m\u001b[1;33m,\u001b[0m\u001b[1;33m\u001b[0m\u001b[1;33m\u001b[0m\u001b[0m\n\u001b[0;32m     17\u001b[0m                         \u001b[0md\u001b[0m\u001b[1;33m[\u001b[0m\u001b[1;34m'grade'\u001b[0m\u001b[1;33m]\u001b[0m\u001b[1;33m,\u001b[0m\u001b[1;33m\u001b[0m\u001b[1;33m\u001b[0m\u001b[0m\n\u001b[1;32m---> 18\u001b[1;33m                         \u001b[0md\u001b[0m\u001b[1;33m[\u001b[0m\u001b[1;34m'attendant_salesman'\u001b[0m\u001b[1;33m]\u001b[0m\u001b[1;33m\u001b[0m\u001b[1;33m\u001b[0m\u001b[0m\n\u001b[0m\u001b[0;32m     19\u001b[0m                        )\n\u001b[0;32m     20\u001b[0m                       )\n",
      "\u001b[1;31mIntegrityError\u001b[0m: Duplicate entry '3006' for key 'PRIMARY'"
     ]
    }
   ],
   "source": [
    "# Chee Wai's Answers\n",
    "\n",
    "dict = {'new_customers':\n",
    "  ({'cust_id': 3006, 'cust_name': 'Joe Black', 'city': 'California', 'grade': 200, 'attendant_salesman':'Pit Alex'},\n",
    "   {'cust_id': 3010, 'cust_name': 'Blue Lightning', 'city': 'Hamburg', 'grade': 300, 'attendant_salesman':'Paul Adam'},\n",
    "   {'cust_id': 3011, 'cust_name': 'Lyra Slivertongue', 'city': 'Oxford', 'grade': 300, 'attendant_salesman':'Nail Knite'}\n",
    "  )}\n",
    "\n",
    "# with rdbms.MariaDBCursor(\"\", \"sales\") as rdbms_cursor:\n",
    "#     for di in d['new_customers']:\n",
    "#         rdbms_cursor.execute(f'(SELECT salesman_id FROM salesman WHERE name = {di[\"attendant_name\"]});')\n",
    "\n",
    "with rdbms.MariaDBCursor(\"\", \"sales\") as rc:\n",
    "    for d in dict['new_customers']:\n",
    "            rc.execute(\"insert into customer values (?,?,?,?, (select salesman_id from salesman where name=?))\", \n",
    "                       (d['cust_id'],\n",
    "                        d['cust_name'],\n",
    "                        d['city'],\n",
    "                        d['grade'],\n",
    "                        d['attendant_salesman']\n",
    "                       )\n",
    "                      ) \n",
    "    "
   ]
  },
  {
   "cell_type": "markdown",
   "metadata": {},
   "source": [
    "---\n",
    "**Q3)** Given the following database schema (from lecture notes) below, answer the following questions\n",
    "\n",
    "**Student**(sID CHAR(8), sName CHAR(50), gender CHAR(1), age INT, dID CHAR(2), grade CHAR(2))    \n",
    "**Dept**(dID CHAR(2), dName CHAR(20), dean CHAR(50))   \n",
    "**Course**(cID CHAR(3), cName CHAR(50), hours INT, credit INT, iID CHAR(3))   \n",
    "**Instructor**(iID CHAR(3), iName CHAR(50), dID CHAR(2), workload FLOAT)   \n",
    "**RC**(sID CHAR(8), cID CHAR(3), score FLOAT)    \n",
    "\n",
    "1. Find the names of the students who are taking the courses taught by \"Lim\".\n",
    "2. Using the function aggregate function `MAX()`, find the oldest female student in the CS department.\n",
    "3. Using the not equal to operator (`<>`) and the `ORDER BY` clause, find all the students who are not from the CS department and group them by department.\n",
    "4. Using the `GROUP BY` clause, return the avg age of the students for each department."
   ]
  },
  {
   "cell_type": "code",
   "execution_count": null,
   "metadata": {},
   "outputs": [],
   "source": []
  },
  {
   "cell_type": "code",
   "execution_count": null,
   "metadata": {},
   "outputs": [],
   "source": []
  },
  {
   "cell_type": "code",
   "execution_count": null,
   "metadata": {},
   "outputs": [],
   "source": []
  }
 ],
 "metadata": {
  "kernelspec": {
   "display_name": "Python 3",
   "language": "python",
   "name": "python3"
  },
  "language_info": {
   "codemirror_mode": {
    "name": "ipython",
    "version": 3
   },
   "file_extension": ".py",
   "mimetype": "text/x-python",
   "name": "python",
   "nbconvert_exporter": "python",
   "pygments_lexer": "ipython3",
   "version": "3.7.7"
  }
 },
 "nbformat": 4,
 "nbformat_minor": 4
}
