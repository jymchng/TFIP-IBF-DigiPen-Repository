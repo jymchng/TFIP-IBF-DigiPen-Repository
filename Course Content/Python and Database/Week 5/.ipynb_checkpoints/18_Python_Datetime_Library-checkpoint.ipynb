{
 "cells": [
  {
   "cell_type": "markdown",
   "metadata": {},
   "source": [
    "# Python Datetime Library"
   ]
  },
  {
   "cell_type": "markdown",
   "metadata": {},
   "source": [
    "### Topics\n",
    "- How computers count Time and Represent Date\n",
    "- Python's Datetime Module\n",
    "    - Converting datetime to and from strings\n",
    "    - Converting datetime to and from Epoch time\n",
    "    - Using timedelta object"
   ]
  },
  {
   "cell_type": "markdown",
   "metadata": {},
   "source": [
    "When working with data, there will be times where either date or time or both will be included with the data. These type of data are called *Time series* data. Dealing with time series data, requires the knowledge of how to handle data and time in a programming language. The complexities of data and time are time zones, daylight savings time and date formatting between different countries. In this chapter, we will be looking at Python's datetime module to help us navigate these complexities."
   ]
  },
  {
   "cell_type": "markdown",
   "metadata": {},
   "source": [
    "## How Computers Count Time and Represent Date\n",
    "\n",
    "Almost all computer time is originated from something called the **Unix epoch**. This was an arbitrary date that the early Unix engineers chosen to set a uniform date for the start of time. This epoch time starts on the midnight of January 1, 1970, at 00:00:00 UTC where UTC stands for Coordinated Universal Time. In addition, the epoch time does not account for leap seconds nor daylight savings time therefore each day is exactly 24-hours. Epoch time is also represented as a single signed number that increments every second, this makes it easier for computers to store and manipulate than conventional date systems. Interpreters are then used to convert it to a human readable format."
   ]
  },
  {
   "cell_type": "code",
   "execution_count": null,
   "metadata": {},
   "outputs": [],
   "source": [
    "import time\n",
    "time.time()"
   ]
  },
  {
   "cell_type": "markdown",
   "metadata": {},
   "source": [
    "The result is the number of seconds (excluding leap seconds) since the epoch. As Unix time  is nearly impossible for humans to read, it is typically converted to UTC then to the local time using time zone offsets data from the Internet Assigned Numbers Authority (IANA). These offsets can also be seen when we change our computer time zone in the Date & Time settings on your computer. Refer to figure 1 below."
   ]
  },
  {
   "attachments": {
    "dt_01.PNG": {
     "image/png": "[encoded data removed]"
    }
   },
   "cell_type": "markdown",
   "metadata": {},
   "source": [
    "![dt_01.PNG](attachment:dt_01.PNG)\n",
    "                Figure 1: Changing time zone settings in Windows.\n"
   ]
  },
  {
   "cell_type": "markdown",
   "metadata": {},
   "source": [
    "Dates representation between countries also differs. For example, Singapore uses the format day-month-year whereas some countries in Europe uses month-day-year therefore the date January 24, 2020 can either be written as 24-01-2020 or 01-24-2020. To avoid confusion, the International Organization for Standardization (ISO) developed ISO 8601 which is a standard that defines how dates and time should be written. The format is "
   ]
  },
  {
   "cell_type": "markdown",
   "metadata": {},
   "source": [
    "YYYY-MM-DD HH:MM:SS"
   ]
  },
  {
   "cell_type": "markdown",
   "metadata": {},
   "source": [
    "where\n",
    "\n",
    "* `YYYY` - is the 4 digit year.\n",
    "* `MM` and `DD` - is the 2 digit month and day respectively, prefixed with a leading `0` where necessary.\n",
    "* `HH`, `MM` and `SS` - is the 2 digit hours, minutes and seconds respectively, prefixed with a leading `0` where necessary."
   ]
  },
  {
   "cell_type": "markdown",
   "metadata": {},
   "source": [
    "Storing or representing date and/or time in programs or databases are highly dependent on organizational rules set out by the departments producing software. "
   ]
  },
  {
   "cell_type": "markdown",
   "metadata": {},
   "source": [
    "## Python's `datetime` module\n",
    "\n",
    "From the above section, we can see that working with date and time can be a complicated affair. However, Python has provided us with several libraries that works with dates and times:\n",
    "\n",
    "* `calendar` - for outputting Gregorian type calendars and general functions related to calendars.\n",
    "* `datetime` - module that consists of classes for manipulating dates and times.\n",
    "* `time` - module that consists of time related functions.\n",
    "\n",
    "We will be focusing on the `datetime` module as that module is used most often when dealing with time series data. To use objects from the `datetime` [module](https://docs.python.org/3/library/datetime.html), we need to import the `datetime` module like so `import datetime`. However, within the `datetime` module, there are 6 different objects/classes and 3 of the most commonly used are\n",
    "\n",
    "* `date` object - this object represents a date (consisting of year, month and day) in the current Gregorian calendar.\n",
    "* `time` object - this object represents the local time of day inclusive of time zone adjustment but independent of any particular day.\n",
    "* `datetime` object - is an object that contains all information from both the `date` and `time` objects.\n",
    "\n",
    "More often than not, a program will need to store the current timestamp of either the start of a particular process or after the completion of a particular process to an external data medium. To get the current date and time object, we use the `now()` function."
   ]
  },
  {
   "cell_type": "code",
   "execution_count": null,
   "metadata": {},
   "outputs": [],
   "source": [
    "#Get Current Date and Time\n",
    "import datetime\n",
    "datetime.datetime.now()"
   ]
  },
  {
   "cell_type": "code",
   "execution_count": 1,
   "metadata": {
    "ExecuteTime": {
     "end_time": "2020-11-25T01:08:47.361096Z",
     "start_time": "2020-11-25T01:08:47.349129Z"
    }
   },
   "outputs": [
    {
     "data": {
      "text/plain": [
       "datetime.datetime(2020, 11, 25, 9, 8, 47, 350126)"
      ]
     },
     "execution_count": 1,
     "metadata": {},
     "output_type": "execute_result"
    }
   ],
   "source": [
    "from datetime import datetime\n",
    "datetime.now()"
   ]
  },
  {
   "cell_type": "code",
   "execution_count": 2,
   "metadata": {
    "ExecuteTime": {
     "end_time": "2020-11-25T01:09:15.726161Z",
     "start_time": "2020-11-25T01:09:15.720180Z"
    }
   },
   "outputs": [
    {
     "data": {
      "text/plain": [
       "datetime.datetime(2020, 11, 25, 9, 9, 15, 721176)"
      ]
     },
     "execution_count": 2,
     "metadata": {},
     "output_type": "execute_result"
    }
   ],
   "source": [
    "#Get Current Date and Time\n",
    "import datetime\n",
    "datetime.datetime.today()"
   ]
  },
  {
   "cell_type": "markdown",
   "metadata": {},
   "source": [
    "This function, will return a `datetime` object from which we can convert to a string or get specific information from it such as the year, month, day, time in epoch seconds, etc. The most common use of this module is to convert strings of timestamps into `datetime` objects upon which processes like graphing time series data or analyzing how long ago an event has happened."
   ]
  },
  {
   "cell_type": "markdown",
   "metadata": {},
   "source": [
    "### Converting `datetime` to and from strings\n",
    "\n",
    "`datetime` has 2 functions that used convert itself to a string and convert a string to a `datetime` object. Those 2 functions are `strftime()` and `strptime()`.\n",
    "\n",
    "* `strftime()` - converts the object to a string according to a given format. This function is available to the `date`, `time` and `datetime` objects.\n",
    "* `strptime()` - converts a string into a `datetime` object with the given format.\n",
    "\n",
    "The format that both `strftime()` and `strptime()` is referring to is a list of codes found [here](https://docs.python.org/3/library/datetime.html#strftime-and-strptime-behavior). The table below lists some of the more commonly used codes."
   ]
  },
  {
   "cell_type": "markdown",
   "metadata": {},
   "source": [
    "<style>\n",
    "    tr:nth-child(even) { background-color:#f2f2f2; }\n",
    "    table: width=\"100%\"\n",
    "</style>\n",
    "<table align=\"center\" border=1>\n",
    "    <colgroup>\n",
    "       <col span=\"1\" style=\"width: 10%;\">\n",
    "       <col span=\"1\" style=\"width: 60%;\">\n",
    "       <col span=\"1\" style=\"width: 30%;\">\n",
    "    </colgroup>\n",
    "    <tr>\n",
    "        <th align=\"center\">Code</th>\n",
    "        <th align=\"center\">Description</th>\n",
    "        <th align=\"center\">Example</th>\n",
    "    </tr>\n",
    "    <tr>\n",
    "        <td><code>%a</code></td>\n",
    "        <td>Weekday as locale's abbreviated name</td>\n",
    "        <td>Sun, Mon, ..., Sat</td>\n",
    "    </tr>\n",
    "    <tr>\n",
    "        <td><code>%A</code></td>\n",
    "        <td>Weekday as locale's full name</td>\n",
    "        <td>Sunday, Monday, ..., Saturday</td>\n",
    "    </tr>\n",
    "    <tr>\n",
    "        <td><code>%d</code></td>\n",
    "        <td>Day of the month as a zero padded number</td>\n",
    "        <td>01, 02, ..., 31</td>\n",
    "    </tr>\n",
    "    <tr>\n",
    "        <td><code>%b</code></td>\n",
    "        <td>Month as locale's abbreviated name</td>\n",
    "        <td>Jan, Feb, ..., Dec</td>\n",
    "    </tr>\n",
    "    <tr>\n",
    "        <td><code>%B</code></td>\n",
    "        <td>Month as locale's full name</td>\n",
    "        <td>January, February, ..., December</td>\n",
    "    </tr>\n",
    "    <tr>\n",
    "        <td><code>%m</code></td>\n",
    "        <td>Month as zero padded number</td>\n",
    "        <td>01, 02, ..., 12</td>\n",
    "    </tr>\n",
    "    <tr>\n",
    "        <td><code>%y</code></td>\n",
    "        <td>Year without century as a zero padded number</td>\n",
    "        <td>00, 01, ..., 99</td>\n",
    "    </tr>\n",
    "    <tr>\n",
    "        <td><code>%Y</code></td>\n",
    "        <td>Year with century as a number</td>\n",
    "        <td>0001, 0002, ..., 9999</td>\n",
    "    </tr>\n",
    "    <tr>\n",
    "        <td><code>%H</code></td>\n",
    "        <td>Hour (24-hour clock) as a zero padded number</td>\n",
    "        <td>00, 01, ..., 23</td>\n",
    "    </tr>\n",
    "    <tr>\n",
    "        <td><code>%I</code></td>\n",
    "        <td>Hour (12-hour clock) as a zero padded number</td>\n",
    "        <td>01, 02, ..., 12</td>\n",
    "    </tr>\n",
    "    <tr>\n",
    "        <td><code>%p</code></td>\n",
    "        <td>Locale’s equivalent of either AM or PM</td>\n",
    "        <td>AM, PM</td>\n",
    "    </tr>\n",
    "    <tr>\n",
    "        <td><code>%M</code></td>\n",
    "        <td>Minute as a zero padded number</td>\n",
    "        <td>00, 01, ..., 59</td>\n",
    "    </tr>\n",
    "    <tr>\n",
    "        <td><code>%S</code></td>\n",
    "        <td>Second as a zero padded number</td>\n",
    "        <td>00, 01, ..., 59</td>\n",
    "    </tr>\n",
    "</table>"
   ]
  },
  {
   "cell_type": "markdown",
   "metadata": {},
   "source": [
    "The way to use this formatting codes are as follows\n",
    "\n",
    "* converting a `datetime` object to string"
   ]
  },
  {
   "cell_type": "code",
   "execution_count": null,
   "metadata": {},
   "outputs": [],
   "source": [
    "import datetime\n",
    "dt_now = datetime.datetime.now()\n",
    "dt_now.strftime('%d-%b-%Y %I:%M %p')\n",
    "# '24-Aug-2020 04:30 PM'"
   ]
  },
  {
   "cell_type": "code",
   "execution_count": null,
   "metadata": {},
   "outputs": [],
   "source": [
    "dt_now = datetime.datetime.now()\n",
    "s1 = dt_now.strftime(\"%H:%M:%S\")\n",
    "print(\"time:\", s1)\n",
    "\n",
    "s2 = dt_now.strftime(\"%m/%d/%Y, %H:%M:%S\")\n",
    "# mm/dd/YY H:M:S format\n",
    "print(\"s1:\", s2)\n",
    "\n",
    "s3 = dt_now.strftime(\"%d/%m/%Y, %H:%M:%S\")\n",
    "# dd/mm/YY H:M:S format\n",
    "print(\"s3:\", s3)"
   ]
  },
  {
   "cell_type": "markdown",
   "metadata": {},
   "source": [
    "* converting a string to a `datetime` object"
   ]
  },
  {
   "cell_type": "code",
   "execution_count": 3,
   "metadata": {
    "ExecuteTime": {
     "end_time": "2020-11-25T01:13:14.630356Z",
     "start_time": "2020-11-25T01:13:14.624383Z"
    }
   },
   "outputs": [
    {
     "data": {
      "text/plain": [
       "datetime.datetime(2020, 8, 24, 14, 25, 53)"
      ]
     },
     "execution_count": 3,
     "metadata": {},
     "output_type": "execute_result"
    }
   ],
   "source": [
    "import datetime\n",
    "str_timestamp = '24/08/2020 14:25:53'\n",
    "datetime.datetime.strptime(str_timestamp, '%d/%m/%Y %H:%M:%S')\n",
    "\n",
    "# datetime.datetime(2020, 8, 24, 14, 25, 53)"
   ]
  },
  {
   "cell_type": "code",
   "execution_count": 4,
   "metadata": {
    "ExecuteTime": {
     "end_time": "2020-11-25T01:13:21.203119Z",
     "start_time": "2020-11-25T01:13:21.191151Z"
    }
   },
   "outputs": [
    {
     "name": "stdout",
     "output_type": "stream",
     "text": [
      "date_string = 21 June, 2018\n",
      "date_object = 2018-06-21 00:00:00\n"
     ]
    }
   ],
   "source": [
    "from datetime import datetime\n",
    "\n",
    "dt_str = \"21 June, 2018\"\n",
    "print(\"date_string =\", dt_str)\n",
    "\n",
    "dt_str = datetime.strptime(dt_str, \"%d %B, %Y\")\n",
    "print(\"date_object =\", dt_str)"
   ]
  },
  {
   "cell_type": "markdown",
   "metadata": {},
   "source": [
    "### Converting `datetime` to and from Epoch time\n",
    "\n",
    "we have learnt what is Epoch time. Epoch time provides a convenient way to store time in a platform independent format since it can be stored as either a signed integer or converted to a `String` object. \n",
    "\n",
    "To obtain the epoch time from a `datetime` object, use the function `timestamp()`. "
   ]
  },
  {
   "cell_type": "code",
   "execution_count": null,
   "metadata": {},
   "outputs": [],
   "source": [
    "import datetime\n",
    "dt_now = datetime.datetime.now()\n",
    "print(dt_now)\n",
    "epoch = dt_now.timestamp()\n",
    "print(epoch)"
   ]
  },
  {
   "cell_type": "markdown",
   "metadata": {},
   "source": [
    "The result `epoch` is of type `float` and thus can be converted into a `String` object for storage in external media. To convert epoch time to `datetime`object, use the function `fromtimestamp()` which accepts either a `float` or `integer` number as the epoch time."
   ]
  },
  {
   "cell_type": "code",
   "execution_count": null,
   "metadata": {},
   "outputs": [],
   "source": [
    "import datetime\n",
    "epoch = '1598268755.899453'\n",
    "dt = datetime.datetime.fromtimestamp(float(epoch))\n",
    "print(dt)"
   ]
  },
  {
   "cell_type": "code",
   "execution_count": null,
   "metadata": {},
   "outputs": [],
   "source": [
    "from datetime import datetime\n",
    "import time\n",
    "\n",
    "dt = datetime.fromtimestamp(time.time())\n",
    "print(dt)"
   ]
  },
  {
   "cell_type": "markdown",
   "metadata": {},
   "source": [
    "Note that depending on different operating systems implementation or storage of epoch time, epoch time can either be of type `integer`, `float` or `String` thus you will need to use the respective datatype parser to convert epoch time to a `datetime` object. "
   ]
  },
  {
   "cell_type": "markdown",
   "metadata": {},
   "source": [
    "### Using `timedelta` objects\n",
    "\n",
    "Let's say that you would like to find out how long ago a certain event has happened from today's date. We would naturally count back the days from today to obtain the answer but how would a computer do that? With the `datetime` objects, we are able to perform several arithmetic operations such as add, subtract, multiply, divide, modulus and absolute. \n",
    "\n",
    "For example subtracting 2 `datetime` objects will result in a `timedelta` object that contains the difference in time in seconds and microseconds."
   ]
  },
  {
   "cell_type": "code",
   "execution_count": null,
   "metadata": {},
   "outputs": [],
   "source": [
    "import datetime\n",
    "str_timestamp = '1598268755.899453'\n",
    "d = datetime.datetime.fromtimestamp(float(str_timestamp))\n",
    "elapsed = datetime.datetime.now() - d\n",
    "print(elapsed)\n",
    "print(type(elapsed))\n",
    "# datetime.timedelta(seconds=1812, microseconds=775407)"
   ]
  },
  {
   "cell_type": "code",
   "execution_count": null,
   "metadata": {},
   "outputs": [],
   "source": [
    "#Difference between two dates and times\n",
    "\n",
    "from datetime import datetime, date\n",
    "\n",
    "t1 = date(year = 2020, month = 10, day = 27)\n",
    "t2 = date(year = 2017, month = 12, day = 23)\n",
    "t3 = t1 - t2\n",
    "print(\"t3 =\", t3)\n",
    "\n",
    "t4 = datetime(year = 2012, month = 5, day = 12, hour = 7, minute = 9, second = 33)\n",
    "t5 = datetime(year = 2017, month = 4, day = 10, hour = 5, minute = 55, second = 13)\n",
    "t6 = t4 - t5\n",
    "print(\"t6 =\", t6)\n",
    "\n",
    "print(\"type of t3 =\", type(t3)) \n",
    "print(\"type of t6 =\", type(t6))  "
   ]
  },
  {
   "cell_type": "code",
   "execution_count": null,
   "metadata": {},
   "outputs": [],
   "source": [
    "#Difference between two timedelta objects\n",
    "from datetime import timedelta\n",
    "\n",
    "t1 = timedelta(weeks = 4, days = 4, hours = 3, seconds = 44)\n",
    "t2 = timedelta(days = 8, hours = 11, minutes = 5, seconds = 54)\n",
    "t3 = t1 - t2\n",
    "\n",
    "print(\"t3 =\", t3)"
   ]
  },
  {
   "cell_type": "code",
   "execution_count": null,
   "metadata": {},
   "outputs": [],
   "source": [
    "#Time duration in seconds\n",
    "from datetime import timedelta\n",
    "\n",
    "t = timedelta(days = 4, hours = 3, seconds = 34, microseconds = 233423)\n",
    "print(\"total seconds =\", t.total_seconds())"
   ]
  },
  {
   "cell_type": "code",
   "execution_count": 7,
   "metadata": {
    "ExecuteTime": {
     "end_time": "2020-11-25T02:06:59.680789Z",
     "start_time": "2020-11-25T02:06:59.667824Z"
    }
   },
   "outputs": [
    {
     "name": "stdout",
     "output_type": "stream",
     "text": [
      "UTC Time:  UTC\n",
      "IST Time 2020-11-25 07:36:59.671814+05:30\n",
      "NY Time 2020-11-24 21:06:59.671814-05:00\n"
     ]
    },
    {
     "data": {
      "text/plain": [
       "'2020-11-24 210659 EST -0500'"
      ]
     },
     "execution_count": 7,
     "metadata": {},
     "output_type": "execute_result"
    }
   ],
   "source": [
    "from datetime import datetime\n",
    "import pytz\n",
    "\n",
    "UTC = pytz.utc\n",
    "print(\"UTC Time: \", UTC)\n",
    "\n",
    "IST  = pytz.timezone(\"Asia/Kolkata\")\n",
    "print(\"IST Time\", datetime.now(IST))\n",
    "\n",
    "NY = pytz.timezone(\"America/New_York\")\n",
    "print(\"NY Time\", datetime.now(NY))\n",
    "\n",
    "datetime.now(NY).strftime(\"%Y-%m-%d %H%M%S %Z %z\")"
   ]
  },
  {
   "cell_type": "markdown",
   "metadata": {},
   "source": [
    "The result can then be used for operations like time elapsed comparison. The `timedelta` object has 3 accessible instance attributes: `days`, `seconds`, `microseconds`. However, it is best to use its `total_seconds()` function to obtain the time difference in seconds so as to perform accurate comparisons. \n",
    "\n",
    "`timedelta` objects are also commonly used with epoch time as it reduces time computation  to that of a regular `float` or `integer` operation. However, the standard math equations would have to be used in order to convert a `timedelta` object into years, months, days, hours, minutes or seconds.\n",
    "\n"
   ]
  }
 ],
 "metadata": {
  "kernelspec": {
   "display_name": "Python 3",
   "language": "python",
   "name": "python3"
  },
  "language_info": {
   "codemirror_mode": {
    "name": "ipython",
    "version": 3
   },
   "file_extension": ".py",
   "mimetype": "text/x-python",
   "name": "python",
   "nbconvert_exporter": "python",
   "pygments_lexer": "ipython3",
   "version": "3.7.7"
  }
 },
 "nbformat": 4,
 "nbformat_minor": 4
}
