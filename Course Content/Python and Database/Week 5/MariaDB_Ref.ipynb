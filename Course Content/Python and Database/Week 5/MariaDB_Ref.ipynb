{
 "cells": [
  {
   "cell_type": "markdown",
   "metadata": {},
   "source": [
    "# MariaDB Reference Material\n",
    "<hr>\n",
    "This reference material is created to complement the RDBMS material taught during the lecture"
   ]
  },
  {
   "cell_type": "markdown",
   "metadata": {},
   "source": [
    "To test if a connection to the MariaDB can be established.<br>\n",
    "Change the <b><code>password</code></b> value to your chosen password"
   ]
  },
  {
   "cell_type": "code",
   "execution_count": 3,
   "metadata": {
    "ExecuteTime": {
     "end_time": "2020-11-27T03:36:10.787757Z",
     "start_time": "2020-11-27T03:36:10.780777Z"
    }
   },
   "outputs": [
    {
     "name": "stdout",
     "output_type": "stream",
     "text": [
      "success\n"
     ]
    }
   ],
   "source": [
    "# imports mariadb library\n",
    "import mariadb\n",
    "\n",
    "try:\n",
    "    # Instantiate Connection\n",
    "    conn = mariadb.connect(\n",
    "        user=\"root\",\n",
    "        password=\"\",\n",
    "        host=\"localhost\",\n",
    "        port=3306)\n",
    "    print(\"success\")\n",
    "except mariadb.Error as e:\n",
    "    print(f\"Error connecting to MariaDB Platform: {e}\")\n"
   ]
  },
  {
   "cell_type": "markdown",
   "metadata": {},
   "source": [
    "Once you finish working with the database make sure that you close this connection to avoid keeping unused connections open and thus wasting resources. You can close the connection with the close() method:"
   ]
  },
  {
   "cell_type": "code",
   "execution_count": 62,
   "metadata": {
    "ExecuteTime": {
     "end_time": "2020-11-27T03:51:42.553641Z",
     "start_time": "2020-11-27T03:51:42.547658Z"
    }
   },
   "outputs": [],
   "source": [
    "# Create a cursor object\n",
    "conn = mariadb.connect(\n",
    "    user=\"root\",\n",
    "    password=\"\",\n",
    "    host=\"localhost\",\n",
    "    port=3306)\n",
    "cur  = conn.cursor() "
   ]
  },
  {
   "cell_type": "code",
   "execution_count": 63,
   "metadata": {
    "ExecuteTime": {
     "end_time": "2020-11-27T03:51:43.241801Z",
     "start_time": "2020-11-27T03:51:43.189939Z"
    }
   },
   "outputs": [],
   "source": [
    "cur.execute(\"DROP DATABASE nation_new\")"
   ]
  },
  {
   "cell_type": "code",
   "execution_count": 64,
   "metadata": {
    "ExecuteTime": {
     "end_time": "2020-11-27T03:51:43.795318Z",
     "start_time": "2020-11-27T03:51:43.790332Z"
    }
   },
   "outputs": [],
   "source": [
    "# creating database  \n",
    "cur.execute(\"CREATE DATABASE nation_new\")"
   ]
  },
  {
   "cell_type": "code",
   "execution_count": 65,
   "metadata": {
    "ExecuteTime": {
     "end_time": "2020-11-27T03:51:44.258078Z",
     "start_time": "2020-11-27T03:51:44.254090Z"
    }
   },
   "outputs": [],
   "source": [
    "cur.execute(\"SHOW DATABASES\") \n",
    "databaseList = cur.fetchall() "
   ]
  },
  {
   "cell_type": "code",
   "execution_count": 66,
   "metadata": {
    "ExecuteTime": {
     "end_time": "2020-11-27T03:51:44.912327Z",
     "start_time": "2020-11-27T03:51:44.907341Z"
    }
   },
   "outputs": [
    {
     "name": "stdout",
     "output_type": "stream",
     "text": [
      "('information_schema',)\n",
      "('mysql',)\n",
      "('nation',)\n",
      "('nation_new',)\n",
      "('performance_schema',)\n",
      "('sales',)\n"
     ]
    }
   ],
   "source": [
    "for database in databaseList: \n",
    "  print(database) \n",
    "# Close Connection\n",
    "conn.close()"
   ]
  },
  {
   "cell_type": "code",
   "execution_count": 67,
   "metadata": {
    "ExecuteTime": {
     "end_time": "2020-11-27T03:51:45.795969Z",
     "start_time": "2020-11-27T03:51:45.792969Z"
    }
   },
   "outputs": [],
   "source": [
    "# Disable Auto-Commit\n",
    "#conn.autocommit = False"
   ]
  },
  {
   "cell_type": "code",
   "execution_count": 68,
   "metadata": {
    "ExecuteTime": {
     "end_time": "2020-11-27T03:51:46.400369Z",
     "start_time": "2020-11-27T03:51:46.397353Z"
    }
   },
   "outputs": [],
   "source": [
    "#cur.execute(\"DROP DATABASE IF EXISTS nation_new\")"
   ]
  },
  {
   "cell_type": "code",
   "execution_count": 69,
   "metadata": {
    "ExecuteTime": {
     "end_time": "2020-11-27T03:51:46.843156Z",
     "start_time": "2020-11-27T03:51:46.840165Z"
    }
   },
   "outputs": [],
   "source": [
    "#cur.execute(\"DROP TABLE IF EXISTS PRODUCT\")  \n",
    "#query = \"\"\"CREATE TABLE PRODUCT (  \n",
    "#         PRODUCT_ID  CHAR(20) NOT NULL,  \n",
    "#         price  int(10),  x`\n",
    "#         PRODUCT_TYPE VARCHAR(64) ) \"\"\"\n",
    "  \n",
    "# To execute the SQL query \n",
    "#cur.execute(query)    "
   ]
  },
  {
   "cell_type": "markdown",
   "metadata": {},
   "source": [
    "<hr>\n",
    "We will be using the MariaDB <code>context manager</code> from this point onwards and the password was set to <b></b>. \n",
    "<br>\n",
    "Thus you may need to change it to your choosen password."
   ]
  },
  {
   "cell_type": "code",
   "execution_count": 70,
   "metadata": {
    "ExecuteTime": {
     "end_time": "2020-11-27T03:51:47.820585Z",
     "start_time": "2020-11-27T03:51:47.817550Z"
    }
   },
   "outputs": [],
   "source": [
    "import mariadb_context as rdbms"
   ]
  },
  {
   "cell_type": "markdown",
   "metadata": {},
   "source": [
    "Attributes and methods of the `cursor`object"
   ]
  },
  {
   "cell_type": "code",
   "execution_count": 71,
   "metadata": {
    "ExecuteTime": {
     "end_time": "2020-11-27T03:51:48.823854Z",
     "start_time": "2020-11-27T03:51:48.818868Z"
    }
   },
   "outputs": [
    {
     "name": "stdout",
     "output_type": "stream",
     "text": [
      "['__class__', '__delattr__', '__dir__', '__doc__', '__enter__', '__eq__', '__exit__', '__format__', '__ge__', '__getattribute__', '__gt__', '__hash__', '__init__', '__init_subclass__', '__iter__', '__le__', '__lt__', '__ne__', '__new__', '__next__', '__reduce__', '__reduce_ex__', '__repr__', '__setattr__', '__sizeof__', '__str__', '__subclasshook__', 'arraysize', 'buffered', 'callproc', 'close', 'closed', 'connection', 'description', 'execute', 'executemany', 'fetchall', 'fetchmany', 'fetchone', 'fieldcount', 'lastrowid', 'next', 'nextset', 'rowcount', 'rownumber', 'scroll', 'setinputsizes', 'setoutputsize', 'sp_outparams', 'statement', 'warnings']\n"
     ]
    }
   ],
   "source": [
    "# to view the functions available in the cursor object\n",
    "with rdbms.MariaDBCursor(\"\", \"nation_new\") as rdbms_cursor:\n",
    "    print(dir(rdbms_cursor))"
   ]
  },
  {
   "cell_type": "markdown",
   "metadata": {},
   "source": [
    "## Create operations"
   ]
  },
  {
   "cell_type": "markdown",
   "metadata": {},
   "source": [
    "SQL statements to create the tables"
   ]
  },
  {
   "cell_type": "code",
   "execution_count": 72,
   "metadata": {
    "ExecuteTime": {
     "end_time": "2020-11-27T03:51:50.481418Z",
     "start_time": "2020-11-27T03:51:50.476433Z"
    }
   },
   "outputs": [],
   "source": [
    "# list of tables\n",
    "db_tables = []\n",
    "\n",
    "table_languages = \"\"\"\n",
    "    CREATE TABLE languages( language_id INT AUTO_INCREMENT, \n",
    "        language VARCHAR(50) NOT NULL,\n",
    "        PRIMARY KEY(language_id)\n",
    ");\"\"\"\n",
    "\n",
    "table_continents = \"\"\"\n",
    "    CREATE TABLE continents( continent_id INT AUTO_INCREMENT, \n",
    "        name VARCHAR(255) NOT NULL,\n",
    "        PRIMARY KEY(continent_id)\n",
    ");\"\"\"\n",
    "\n",
    "table_region = \"\"\"\n",
    "    CREATE TABLE regions( region_id INT AUTO_INCREMENT, name VARCHAR(100) NOT NULL,\n",
    "        continent_id INT NOT NULL,\n",
    "        PRIMARY KEY(region_id),\n",
    "        FOREIGN KEY(continent_id) \n",
    "            REFERENCES continents(continent_id) ON UPDATE CASCADE ON DELETE CASCADE\n",
    ");\"\"\"\n",
    "\n",
    "table_countries = \"\"\"\n",
    "    CREATE TABLE countries ( country_id INT AUTO_INCREMENT, \n",
    "        name VARCHAR(50) NOT NULL,\n",
    "        area DECIMAL(10,2) NOT NULL,\n",
    "        national_day DATE,\n",
    "        country_code2 CHAR(2) NOT NULL UNIQUE,\n",
    "        country_code3 CHAR(3) NOT NULL UNIQUE,\n",
    "        region_id INT NOT NULL,\n",
    "        FOREIGN KEY(region_id) \n",
    "            REFERENCES regions(region_id) ON UPDATE CASCADE ON DELETE CASCADE,\n",
    "        PRIMARY KEY(country_id)\n",
    ");\"\"\"\n",
    "\n",
    "table_country_stats = \"\"\"\n",
    "    CREATE TABLE country_stats( country_id INT, year INT, population INT,\n",
    "        gdp DECIMAL(15,0),\n",
    "        PRIMARY KEY(country_id, year),\n",
    "        FOREIGN KEY(country_id)\n",
    "            REFERENCES countries(country_id) ON UPDATE CASCADE ON DELETE CASCADE\n",
    ");\"\"\"\n",
    "\n",
    "table_country_languages = \"\"\"\n",
    "    CREATE TABLE country_languages( country_id INT, language_id INT, \n",
    "        official BOOLEAN NOT NULL,\n",
    "        PRIMARY KEY(country_id, language_id),\n",
    "        FOREIGN KEY(country_id) \n",
    "            REFERENCES countries(country_id) ON UPDATE CASCADE ON DELETE CASCADE,\n",
    "        FOREIGN KEY(language_id)\n",
    "            REFERENCES languages(language_id) ON UPDATE CASCADE ON DELETE CASCADE\n",
    ");\"\"\"\n",
    "\n",
    "db_tables = [table_languages, table_continents, table_region, table_countries, table_country_stats,\n",
    "         table_country_languages]"
   ]
  },
  {
   "cell_type": "markdown",
   "metadata": {},
   "source": [
    "<b>Create</b> the tables using a loop"
   ]
  },
  {
   "cell_type": "code",
   "execution_count": 73,
   "metadata": {
    "ExecuteTime": {
     "end_time": "2020-11-27T03:51:51.541611Z",
     "start_time": "2020-11-27T03:51:51.479790Z"
    }
   },
   "outputs": [
    {
     "name": "stdout",
     "output_type": "stream",
     "text": [
      "Create tables done\n"
     ]
    }
   ],
   "source": [
    "with rdbms.MariaDBCursor(\"\", \"nation_new\") as rdbms_cursor:\n",
    "    for table in db_tables:\n",
    "        rdbms_cursor.execute(table)\n",
    "print(\"Create tables done\")"
   ]
  },
  {
   "cell_type": "markdown",
   "metadata": {},
   "source": [
    "## Update/Insert operations"
   ]
  },
  {
   "cell_type": "markdown",
   "metadata": {},
   "source": [
    "Prepare the insert statements into a list"
   ]
  },
  {
   "cell_type": "code",
   "execution_count": 74,
   "metadata": {
    "ExecuteTime": {
     "end_time": "2020-11-27T03:51:53.033587Z",
     "start_time": "2020-11-27T03:51:53.028600Z"
    }
   },
   "outputs": [],
   "source": [
    "# list of insert statements\n",
    "insert_statements = []\n",
    "\n",
    "insert_lang = \"\"\"\n",
    "    INSERT INTO languages(language) VALUES \n",
    "        (\"English\"), (\"Mandarin\"), (\"Malay\"), (\"Indonesian\"), (\"German\");\n",
    "\"\"\"\n",
    "\n",
    "insert_continents = \"\"\"\n",
    "    INSERT INTO continents(name) VALUES (\"Europe\"), (\"Americas\"), (\"Asia\"), \n",
    "        (\"Oceania\"), (\"Africa\");\n",
    "\"\"\"\n",
    "\n",
    "insert_regions = \"\"\"\n",
    "    INSERT INTO regions(name, continent_id) VALUES (\"Eastern Europe\", 1), (\"Central Europe\", 1), \n",
    "        (\"North America\", 2), (\"South America\", 2), (\"South East Asia\", 3), (\"East Asia\", 3), \n",
    "        (\"Central Asia\", 3), (\"Australasia\", 4), (\"North Africa\", 5), (\"South Africa\", 5), \n",
    "        (\"East Africa\", 5), (\"West Africa\", 5), (\"Central Africa\", 5);\n",
    "\"\"\"\n",
    "\n",
    "insert_countries = \"\"\"\n",
    "    INSERT INTO countries(name, area, national_day, country_code2, country_code3, region_id) VALUES\n",
    "        (\"Singapore\", 709.2, \"1965-09-09\", \"SG\", \"SGP\", 5), \n",
    "        (\"Malaysia\", 330803, \"1957-09-30\", \"MY\", \"MYS\", 5), \n",
    "        (\"Indonesia\", 1904569, \"1945-09-17\", \"ID\", \"IDN\", 5), \n",
    "        (\"United States of America\", 3796742, \"1776-07-04\", \"US\", \"USA\", 3), \n",
    "        (\"Australia\", 7692024 , \"1901-01-26\", \"AU\", \"AUS\", 8), \n",
    "        (\"Germany\", 357022 , \"1990-10-03\", \"DE\", \"DEU\", 2), \n",
    "        (\"China\", 9596961 , \"1949-10-01\", \"CN\", \"CHN\", 6), \n",
    "        (\"Canada\", 9984670 , \"1867-07-01\", \"CA\", \"CAN\", 3), \n",
    "        (\"Switzerland\", 41285 , \"1891-08-01\", \"CH\", \"CHE\", 2), \n",
    "        (\"Nigeria\", 923769  , \"1960-10-01\", \"NG\", \"NGA\", 12), \n",
    "        (\"South Africa\", 1221037 , \"1994-04-27\", \"ZA\", \"ZAF\", 10);\n",
    "\"\"\"\n",
    "\n",
    "insert_country_stats = \"\"\"\n",
    "    INSERT INTO country_stats(country_id, year, population, gdp) VALUES\n",
    "        (1, 2019, 5, 586),\n",
    "        (2, 2020, 32, 1148),\n",
    "        (3, 2019, 267, 3740),\n",
    "        (4, 2019, 328, 22321),\n",
    "        (5, 2020, 25, 1423),\n",
    "        (6, 2019, 83, 4444),\n",
    "        (7, 2019, 1400, 29471),\n",
    "        (8, 2020, 38, 1971),\n",
    "        (9, 2019, 8, 548),\n",
    "        (10, 2020, 204, 1275),\n",
    "        (11, 2019, 58, 813);\n",
    "\"\"\"\n",
    "\n",
    "insert_country_languages = \"\"\"\n",
    "    INSERT INTO country_languages(country_id, language_id, official) VALUES\n",
    "        (1, 1, TRUE),\n",
    "        (1, 2, FALSE),\n",
    "        (1, 3, FALSE),\n",
    "        (2, 3, TRUE),\n",
    "        (2, 1, FALSE),\n",
    "        (3, 4, TRUE),\n",
    "        (4, 1, TRUE),\n",
    "        (5, 1, TRUE),\n",
    "        (6, 5, TRUE),\n",
    "        (7, 2, TRUE),\n",
    "        (8, 1, TRUE),\n",
    "        (9, 5, TRUE),\n",
    "        (10, 1, TRUE),\n",
    "        (11, 1, TRUE);\n",
    "\"\"\"\n",
    "\n",
    "insert_statements = [insert_lang, insert_continents, insert_regions, insert_countries,\n",
    "                     insert_country_stats, insert_country_languages]"
   ]
  },
  {
   "cell_type": "markdown",
   "metadata": {},
   "source": [
    "<b>Insert</b> data into the tables"
   ]
  },
  {
   "cell_type": "code",
   "execution_count": 75,
   "metadata": {
    "ExecuteTime": {
     "end_time": "2020-11-27T03:51:54.304183Z",
     "start_time": "2020-11-27T03:51:54.277258Z"
    }
   },
   "outputs": [
    {
     "name": "stdout",
     "output_type": "stream",
     "text": [
      "Done inserting the records.\n"
     ]
    }
   ],
   "source": [
    "with rdbms.MariaDBCursor(\"\", \"nation_new\") as rdbms_cursor:\n",
    "    for insert_statement in insert_statements:\n",
    "        rdbms_cursor.execute(insert_statement)\n",
    "\n",
    "print(\"Done inserting the records.\")"
   ]
  },
  {
   "cell_type": "markdown",
   "metadata": {},
   "source": [
    "<b>Update</b> a record in the regions table"
   ]
  },
  {
   "cell_type": "code",
   "execution_count": 76,
   "metadata": {
    "ExecuteTime": {
     "end_time": "2020-11-27T03:51:55.834088Z",
     "start_time": "2020-11-27T03:51:55.822120Z"
    }
   },
   "outputs": [
    {
     "name": "stdout",
     "output_type": "stream",
     "text": [
      "Done updating\n"
     ]
    }
   ],
   "source": [
    "with rdbms.MariaDBCursor(\"\", \"nation_new\") as rdbms_cursor:\n",
    "    rdbms_cursor.execute(\"UPDATE regions set name='Western Europe' WHERE region_id=1;\")\n",
    "\n",
    "print(\"Done updating\")"
   ]
  },
  {
   "cell_type": "markdown",
   "metadata": {},
   "source": [
    "<b>Changing</b> a table's name"
   ]
  },
  {
   "cell_type": "code",
   "execution_count": 77,
   "metadata": {
    "ExecuteTime": {
     "end_time": "2020-11-27T03:51:57.310179Z",
     "start_time": "2020-11-27T03:51:57.298171Z"
    }
   },
   "outputs": [
    {
     "name": "stdout",
     "output_type": "stream",
     "text": [
      "Done altering\n"
     ]
    }
   ],
   "source": [
    "with rdbms.MariaDBCursor(\"\", \"nation_new\") as rdbms_cursor:\n",
    "    rdbms_cursor.execute(\"ALTER TABLE countries CHANGE COLUMN national_day independence_day DATE;\")\n",
    "\n",
    "print(\"Done altering\")"
   ]
  },
  {
   "cell_type": "markdown",
   "metadata": {},
   "source": [
    "## Read operations\n",
    "Select statements"
   ]
  },
  {
   "cell_type": "markdown",
   "metadata": {},
   "source": [
    "Select <b>all</b> from table <code>countries</code>"
   ]
  },
  {
   "cell_type": "code",
   "execution_count": 78,
   "metadata": {
    "ExecuteTime": {
     "end_time": "2020-11-27T03:51:59.228002Z",
     "start_time": "2020-11-27T03:51:59.219028Z"
    }
   },
   "outputs": [
    {
     "name": "stdout",
     "output_type": "stream",
     "text": [
      "(1, 'Singapore', Decimal('709.20'), datetime.date(1965, 9, 9), 'SG', 'SGP', 5)\n",
      "(2, 'Malaysia', Decimal('330803.00'), datetime.date(1957, 9, 30), 'MY', 'MYS', 5)\n",
      "(3, 'Indonesia', Decimal('1904569.00'), datetime.date(1945, 9, 17), 'ID', 'IDN', 5)\n",
      "(4, 'United States of America', Decimal('3796742.00'), datetime.date(1776, 7, 4), 'US', 'USA', 3)\n",
      "(5, 'Australia', Decimal('7692024.00'), datetime.date(1901, 1, 26), 'AU', 'AUS', 8)\n",
      "(6, 'Germany', Decimal('357022.00'), datetime.date(1990, 10, 3), 'DE', 'DEU', 2)\n",
      "(7, 'China', Decimal('9596961.00'), datetime.date(1949, 10, 1), 'CN', 'CHN', 6)\n",
      "(8, 'Canada', Decimal('9984670.00'), datetime.date(1867, 7, 1), 'CA', 'CAN', 3)\n",
      "(9, 'Switzerland', Decimal('41285.00'), datetime.date(1891, 8, 1), 'CH', 'CHE', 2)\n",
      "(10, 'Nigeria', Decimal('923769.00'), datetime.date(1960, 10, 1), 'NG', 'NGA', 12)\n",
      "(11, 'South Africa', Decimal('1221037.00'), datetime.date(1994, 4, 27), 'ZA', 'ZAF', 10)\n"
     ]
    }
   ],
   "source": [
    "with rdbms.MariaDBCursor(\"\", \"nation_new\") as rdbms_cursor:\n",
    "    rdbms_cursor.execute(\"SELECT * FROM countries;\")\n",
    "    \n",
    "    rows = rdbms_cursor.fetchall()\n",
    "    \n",
    "    # print out the rows retrieved\n",
    "    for row in rows:\n",
    "        print(row)"
   ]
  },
  {
   "cell_type": "markdown",
   "metadata": {},
   "source": [
    "Select <code>name</code> and <code>area</code> columns from the table <code>countries</code> and showing only the <b>first 3 records in ascending order</b> by <code>area</code>."
   ]
  },
  {
   "cell_type": "code",
   "execution_count": 79,
   "metadata": {
    "ExecuteTime": {
     "end_time": "2020-11-27T03:52:01.837018Z",
     "start_time": "2020-11-27T03:52:01.829039Z"
    }
   },
   "outputs": [
    {
     "name": "stdout",
     "output_type": "stream",
     "text": [
      "('Singapore', Decimal('709.20'))\n",
      "('Switzerland', Decimal('41285.00'))\n",
      "('Malaysia', Decimal('330803.00'))\n"
     ]
    }
   ],
   "source": [
    "with rdbms.MariaDBCursor(\"\", \"nation_new\") as rdbms_cursor:\n",
    "    rdbms_cursor.execute(\"SELECT name, area FROM countries ORDER BY area LIMIT 3;\")\n",
    "    \n",
    "    rows = rdbms_cursor.fetchall()\n",
    "    \n",
    "    # print out the rows retrieved\n",
    "    for row in rows:\n",
    "        print(row)"
   ]
  },
  {
   "cell_type": "markdown",
   "metadata": {},
   "source": [
    "Selecting only the countries with with land masses <b>larger than 3 million square kilometers</b> and ordered by area in <b>descending</b> order"
   ]
  },
  {
   "cell_type": "code",
   "execution_count": 80,
   "metadata": {
    "ExecuteTime": {
     "end_time": "2020-11-27T03:52:02.800439Z",
     "start_time": "2020-11-27T03:52:02.794457Z"
    }
   },
   "outputs": [
    {
     "name": "stdout",
     "output_type": "stream",
     "text": [
      "(8, 'Canada', Decimal('9984670.00'), datetime.date(1867, 7, 1), 'CA', 'CAN', 3)\n",
      "(7, 'China', Decimal('9596961.00'), datetime.date(1949, 10, 1), 'CN', 'CHN', 6)\n",
      "(5, 'Australia', Decimal('7692024.00'), datetime.date(1901, 1, 26), 'AU', 'AUS', 8)\n",
      "(4, 'United States of America', Decimal('3796742.00'), datetime.date(1776, 7, 4), 'US', 'USA', 3)\n"
     ]
    }
   ],
   "source": [
    "with rdbms.MariaDBCursor(\"\", \"nation_new\") as rdbms_cursor:\n",
    "    rdbms_cursor.execute(\"SELECT * FROM countries WHERE area > 3000000 ORDER BY area DESC;\")\n",
    "    \n",
    "    rows = rdbms_cursor.fetchall()\n",
    "    \n",
    "    # print out the rows retrieved\n",
    "    for row in rows:\n",
    "        print(row)"
   ]
  },
  {
   "cell_type": "markdown",
   "metadata": {},
   "source": [
    "Selecting the <b>names of countries</b> within the African and European regions and ordered by name in ascending order. That means the countries have a `region id` of `1,2,9 to 13`."
   ]
  },
  {
   "cell_type": "code",
   "execution_count": 81,
   "metadata": {
    "ExecuteTime": {
     "end_time": "2020-11-27T03:52:03.722971Z",
     "start_time": "2020-11-27T03:52:03.715990Z"
    }
   },
   "outputs": [
    {
     "name": "stdout",
     "output_type": "stream",
     "text": [
      "('Germany',)\n",
      "('Nigeria',)\n",
      "('South Africa',)\n",
      "('Switzerland',)\n"
     ]
    }
   ],
   "source": [
    "with rdbms.MariaDBCursor(\"\", \"nation_new\") as rdbms_cursor:\n",
    "    rdbms_cursor.execute(\"SELECT name FROM countries WHERE region_id in \" + \\\n",
    "                         \"(1,2) or region_id between 9 and 13 ORDER BY name;\")\n",
    "    \n",
    "    # using fetching 1 record at a time\n",
    "    row = rdbms_cursor.fetchone()\n",
    "    while row is not None:\n",
    "        print(row)\n",
    "        row = rdbms_cursor.fetchone()"
   ]
  },
  {
   "cell_type": "markdown",
   "metadata": {},
   "source": [
    "Selecting the country names and region names from the tables **`countries` and `regions`** where their `region_id` matches and ordered by country names."
   ]
  },
  {
   "cell_type": "code",
   "execution_count": 82,
   "metadata": {
    "ExecuteTime": {
     "end_time": "2020-11-27T03:52:04.591644Z",
     "start_time": "2020-11-27T03:52:04.585660Z"
    }
   },
   "outputs": [
    {
     "name": "stdout",
     "output_type": "stream",
     "text": [
      "('Australia', 'Australasia')\n",
      "('Canada', 'North America')\n",
      "('China', 'East Asia')\n"
     ]
    }
   ],
   "source": [
    "with rdbms.MariaDBCursor(\"\", \"nation_new\") as rdbms_cursor:\n",
    "    rdbms_cursor.execute(\"SELECT c.name, r.name FROM countries c INNER JOIN \" + \\\n",
    "                         \"regions r ON r.region_id = c.region_id ORDER BY c.name;\")\n",
    "    \n",
    "    # fetch the first 3 records of the returned query\n",
    "    # change it to fetchall() to see the full list\n",
    "    rows = rdbms_cursor.fetchmany(3)\n",
    "    \n",
    "    # print out the rows retrieved\n",
    "    for row in rows:\n",
    "        print(row)"
   ]
  },
  {
   "cell_type": "markdown",
   "metadata": {},
   "source": [
    "Selecting the **only** the countries that speaks `English` from the tables **`countries`, `country_languages` and `languages`** where their `country_id` and `language_id` matches and ordered by country names."
   ]
  },
  {
   "cell_type": "code",
   "execution_count": 83,
   "metadata": {
    "ExecuteTime": {
     "end_time": "2020-11-27T03:52:05.484254Z",
     "start_time": "2020-11-27T03:52:05.476278Z"
    }
   },
   "outputs": [
    {
     "name": "stdout",
     "output_type": "stream",
     "text": [
      "('Australia', 'English')\n",
      "('Canada', 'English')\n",
      "('Malaysia', 'English')\n",
      "('Nigeria', 'English')\n",
      "('Singapore', 'English')\n",
      "('South Africa', 'English')\n",
      "('United States of America', 'English')\n"
     ]
    }
   ],
   "source": [
    "with rdbms.MariaDBCursor(\"\", \"nation_new\") as rdbms_cursor:\n",
    "    rdbms_cursor.execute(\"SELECT c.name, l.language FROM countries c \" + \\\n",
    "                         \"INNER JOIN country_languages USING (country_id) \" + \\\n",
    "                         \"INNER JOIN languages l USING (language_id) \" +\\\n",
    "                         \"WHERE l.language = 'English' ORDER BY c.name;\"\n",
    "                        )\n",
    "    \n",
    "    rows = rdbms_cursor.fetchall()\n",
    "    \n",
    "    # print out the rows retrieved\n",
    "    for row in rows:\n",
    "        print(row)"
   ]
  },
  {
   "cell_type": "markdown",
   "metadata": {},
   "source": [
    "Mixing an aggregate function (`sum`) to show the total landmass areas of the countries within the regions."
   ]
  },
  {
   "cell_type": "code",
   "execution_count": 84,
   "metadata": {
    "ExecuteTime": {
     "end_time": "2020-11-27T03:52:06.451666Z",
     "start_time": "2020-11-27T03:52:06.443718Z"
    }
   },
   "outputs": [
    {
     "name": "stdout",
     "output_type": "stream",
     "text": [
      "('Central Europe', Decimal('398307.00'))\n",
      "('West Africa', Decimal('923769.00'))\n",
      "('South Africa', Decimal('1221037.00'))\n",
      "('South East Asia', Decimal('2236081.20'))\n",
      "('Australasia', Decimal('7692024.00'))\n",
      "('East Asia', Decimal('9596961.00'))\n",
      "('North America', Decimal('13781412.00'))\n"
     ]
    }
   ],
   "source": [
    "with rdbms.MariaDBCursor(\"\", \"nation_new\") as rdbms_cursor:\n",
    "    rdbms_cursor.execute(\"SELECT r.name, sum(area) sum_land FROM countries \" + \\\n",
    "                         \"INNER JOIN regions r USING (region_id) GROUP BY r.name \" + \\\n",
    "                         \"ORDER BY sum_land;\"\n",
    "                        )\n",
    "    \n",
    "    rows = rdbms_cursor.fetchall()\n",
    "    \n",
    "    # print out the rows retrieved\n",
    "    for row in rows:\n",
    "        print(row)"
   ]
  },
  {
   "cell_type": "markdown",
   "metadata": {},
   "source": [
    "## Delete operations\n",
    "<br>\n",
    "Delete a single record"
   ]
  },
  {
   "cell_type": "code",
   "execution_count": 85,
   "metadata": {
    "ExecuteTime": {
     "end_time": "2020-11-27T03:52:07.359236Z",
     "start_time": "2020-11-27T03:52:07.347269Z"
    }
   },
   "outputs": [
    {
     "name": "stdout",
     "output_type": "stream",
     "text": [
      "1 records(s) deleted\n",
      "Table: country_languages\n",
      "(1, 1, 1)\n",
      "(1, 2, 0)\n",
      "(1, 3, 0)\n",
      "(2, 1, 0)\n",
      "(2, 3, 1)\n",
      "(3, 4, 1)\n",
      "(4, 1, 1)\n",
      "(5, 1, 1)\n",
      "(6, 5, 1)\n",
      "(7, 2, 1)\n",
      "(8, 1, 1)\n",
      "(9, 5, 1)\n",
      "(10, 1, 1)\n",
      "\n",
      "\n",
      "Table: country_stats\n",
      "(1, 2019, 5, Decimal('586'))\n",
      "(2, 2020, 32, Decimal('1148'))\n",
      "(3, 2019, 267, Decimal('3740'))\n",
      "(4, 2019, 328, Decimal('22321'))\n",
      "(5, 2020, 25, Decimal('1423'))\n",
      "(6, 2019, 83, Decimal('4444'))\n",
      "(7, 2019, 1400, Decimal('29471'))\n",
      "(8, 2020, 38, Decimal('1971'))\n",
      "(9, 2019, 8, Decimal('548'))\n",
      "(10, 2020, 204, Decimal('1275'))\n"
     ]
    }
   ],
   "source": [
    "with rdbms.MariaDBCursor(\"\", \"nation_new\") as rdbms_cursor:\n",
    "    rdbms_cursor.execute(\"DELETE FROM countries WHERE name='South Africa';\")\n",
    "    \n",
    "    print(f\"{rdbms_cursor.rowcount} records(s) deleted\" )\n",
    "    \n",
    "    # showing the results of the other tables after a record is deleted\n",
    "    rdbms_cursor.execute(\"SELECT * FROM country_languages;\")\n",
    "    rows = rdbms_cursor.fetchall()\n",
    "    print(\"Table: country_languages\")\n",
    "    # print out the rows retrieved\n",
    "    for row in rows:\n",
    "        print(row)\n",
    "    \n",
    "    rdbms_cursor.execute(\"SELECT * FROM country_stats;\")\n",
    "    rows = rdbms_cursor.fetchall()\n",
    "    print(\"\\n\\nTable: country_stats\")\n",
    "    # print out the rows retrieved\n",
    "    for row in rows:\n",
    "        print(row)"
   ]
  },
  {
   "cell_type": "markdown",
   "metadata": {},
   "source": [
    "How to find the foreign key constraint name of all the tables in the database. For more details [click](https://dev.mysql.com/doc/refman/8.0/en/information-schema-key-column-usage-table.html)"
   ]
  },
  {
   "cell_type": "code",
   "execution_count": 86,
   "metadata": {
    "ExecuteTime": {
     "end_time": "2020-11-27T03:52:08.407430Z",
     "start_time": "2020-11-27T03:52:08.251847Z"
    }
   },
   "outputs": [
    {
     "name": "stdout",
     "output_type": "stream",
     "text": [
      "('countries_ibfk_1', 1, 'nation', 'countries', 'region_id', 'nation', 'regions', 'region_id')\n",
      "('countries_ibfk_1', 1, 'nation', 'countries', 'region_id', 'nation', 'regions', 'region_id')\n",
      "('country_languages_ibfk_1', 1, 'nation', 'country_languages', 'country_id', 'nation', 'countries', 'country_id')\n",
      "('country_languages_ibfk_1', 1, 'nation', 'country_languages', 'country_id', 'nation', 'countries', 'country_id')\n",
      "('country_stats_ibfk_1', 1, 'nation', 'country_stats', 'country_id', 'nation', 'countries', 'country_id')\n",
      "('country_stats_ibfk_1', 1, 'nation', 'country_stats', 'country_id', 'nation', 'countries', 'country_id')\n",
      "('regions_ibfk_1', 1, 'nation', 'regions', 'continent_id', 'nation', 'continents', 'continent_id')\n",
      "('regions_ibfk_1', 1, 'nation', 'regions', 'continent_id', 'nation', 'continents', 'continent_id')\n",
      "('countries_ibfk_1', 1, 'nation_new', 'countries', 'region_id', 'nation_new', 'regions', 'region_id')\n",
      "('countries_ibfk_1', 1, 'nation_new', 'countries', 'region_id', 'nation_new', 'regions', 'region_id')\n",
      "('country_languages_ibfk_1', 1, 'nation_new', 'country_languages', 'country_id', 'nation_new', 'countries', 'country_id')\n",
      "('country_languages_ibfk_1', 1, 'nation_new', 'country_languages', 'country_id', 'nation_new', 'countries', 'country_id')\n",
      "('country_languages_ibfk_2', 1, 'nation_new', 'country_languages', 'language_id', 'nation_new', 'languages', 'language_id')\n",
      "('country_stats_ibfk_1', 1, 'nation_new', 'country_stats', 'country_id', 'nation_new', 'countries', 'country_id')\n",
      "('country_stats_ibfk_1', 1, 'nation_new', 'country_stats', 'country_id', 'nation_new', 'countries', 'country_id')\n",
      "('regions_ibfk_1', 1, 'nation_new', 'regions', 'continent_id', 'nation_new', 'continents', 'continent_id')\n",
      "('regions_ibfk_1', 1, 'nation_new', 'regions', 'continent_id', 'nation_new', 'continents', 'continent_id')\n",
      "('customer_ibfk_1', 1, 'sales', 'customer', 'salesman_id', 'sales', 'salesman', 'salesman_id')\n"
     ]
    }
   ],
   "source": [
    "find_foreign_key = \"\"\"\n",
    "SELECT\n",
    "    fk.constraint_name, \n",
    "    c.ordinal_position,\n",
    "    c.table_schema,\n",
    "    c.table_name,\n",
    "    c.column_name,\n",
    "    c.referenced_table_schema,\n",
    "    c.referenced_table_name,\n",
    "    c.referenced_column_name\n",
    "  FROM information_schema.table_constraints fk\n",
    "  JOIN information_schema.key_column_usage c \n",
    "    ON c.constraint_name = fk.constraint_name\n",
    "  WHERE fk.constraint_type = 'FOREIGN KEY';\n",
    "\"\"\"\n",
    "\n",
    "with rdbms.MariaDBCursor(\"\", \"nation_new\") as rdbms_cursor:\n",
    "    rdbms_cursor.execute(find_foreign_key)\n",
    "    \n",
    "    rows = rdbms_cursor.fetchall()\n",
    "    \n",
    "    # Note that we only want the foreign key constraint name\n",
    "    # and that is the first value in the tuple\n",
    "    for row in rows:\n",
    "        print(row)"
   ]
  },
  {
   "cell_type": "markdown",
   "metadata": {},
   "source": [
    "Delete all rows from the tables `languages`"
   ]
  },
  {
   "cell_type": "code",
   "execution_count": 87,
   "metadata": {
    "ExecuteTime": {
     "end_time": "2020-11-27T03:52:09.283119Z",
     "start_time": "2020-11-27T03:52:09.255159Z"
    }
   },
   "outputs": [
    {
     "name": "stdout",
     "output_type": "stream",
     "text": [
      "0 records(s) deleted\n",
      "Table: languages\n",
      "Table has no records\n"
     ]
    }
   ],
   "source": [
    "with rdbms.MariaDBCursor(\"\", \"nation_new\") as rdbms_cursor:\n",
    "    rdbms_cursor.execute(\"ALTER TABLE country_languages DROP \" + \\\n",
    "                         \"FOREIGN KEY country_languages_ibfk_2;\")\n",
    "    rdbms_cursor.execute(\"TRUNCATE TABLE languages;\")\n",
    "    \n",
    "    print(f\"{rdbms_cursor.rowcount} records(s) deleted\" )\n",
    "    \n",
    "    # showing the results of the other tables after a record is deleted\n",
    "    rdbms_cursor.execute(\"SELECT * FROM languages;\")\n",
    "    rows = rdbms_cursor.fetchall()\n",
    "    \n",
    "    print(\"Table: languages\")\n",
    "    if rows:\n",
    "        for row in rows:\n",
    "            print(row)\n",
    "    else:\n",
    "        print(\"Table has no records\")\n",
    "    "
   ]
  },
  {
   "cell_type": "markdown",
   "metadata": {},
   "source": [
    "Delete the table `languages`"
   ]
  },
  {
   "cell_type": "code",
   "execution_count": 88,
   "metadata": {
    "ExecuteTime": {
     "end_time": "2020-11-27T03:52:10.358208Z",
     "start_time": "2020-11-27T03:52:10.342251Z"
    }
   },
   "outputs": [
    {
     "name": "stdout",
     "output_type": "stream",
     "text": [
      "All the tables in the database\n",
      "('continents',)\n",
      "('countries',)\n",
      "('country_languages',)\n",
      "('country_stats',)\n",
      "('regions',)\n"
     ]
    }
   ],
   "source": [
    "with rdbms.MariaDBCursor(\"\", \"nation_new\") as rdbms_cursor:\n",
    "    rdbms_cursor.execute(\"DROP TABLE languages;\")\n",
    "    \n",
    "    # showing the results of the other tables after a record is deleted\n",
    "    rdbms_cursor.execute(\"SHOW tables;\")\n",
    "    rows = rdbms_cursor.fetchall()\n",
    "    \n",
    "    print(\"All the tables in the database\")\n",
    "    for row in rows:\n",
    "        print(row)"
   ]
  },
  {
   "cell_type": "code",
   "execution_count": null,
   "metadata": {},
   "outputs": [],
   "source": []
  },
  {
   "cell_type": "code",
   "execution_count": null,
   "metadata": {},
   "outputs": [],
   "source": []
  }
 ],
 "metadata": {
  "kernelspec": {
   "display_name": "Python 3",
   "language": "python",
   "name": "python3"
  },
  "language_info": {
   "codemirror_mode": {
    "name": "ipython",
    "version": 3
   },
   "file_extension": ".py",
   "mimetype": "text/x-python",
   "name": "python",
   "nbconvert_exporter": "python",
   "pygments_lexer": "ipython3",
   "version": "3.7.7"
  }
 },
 "nbformat": 4,
 "nbformat_minor": 4
}
