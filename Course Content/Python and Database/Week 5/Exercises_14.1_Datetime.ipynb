{
 "cells": [
  {
   "cell_type": "markdown",
   "metadata": {},
   "source": [
    "# Python Datetime library Exercise\n",
    "\n",
    "## Write Codes based on the questions\n",
    "---\n",
    "\n",
    "**Qn 1)** Write a Python script to display the various Date Time formats\n",
    " * Current date and time\n",
    " * Current year\n",
    " * Month of year\n",
    " * Week number of the year\n",
    " * Weekday of the week\n",
    " * Day of year\n",
    " * Day of the month\n",
    " * Day of week"
   ]
  },
  {
   "cell_type": "code",
   "execution_count": 1,
   "metadata": {
    "ExecuteTime": {
     "end_time": "2020-11-25T06:36:18.485440Z",
     "start_time": "2020-11-25T06:36:18.478458Z"
    }
   },
   "outputs": [
    {
     "name": "stdout",
     "output_type": "stream",
     "text": [
      "25/11/2020 14:36:18\n",
      "2020\n",
      "November\n"
     ]
    }
   ],
   "source": [
    "from datetime import datetime\n",
    "\n",
    "now = datetime.now()\n",
    "\n",
    "print(now.strftime(\"%d/%m/%Y %H:%M:%S\")) # Current date and time\n",
    "print(now.strftime(\"%Y\")) # Current year\n",
    "print(now.strftime(\"%B\")) # Month of year\n",
    "\n"
   ]
  },
  {
   "cell_type": "markdown",
   "metadata": {},
   "source": [
    "**Qn 2)** Write a function that takes in a specified year and month (all integers) and returns a list of strings of all the Sundays associated with that year and month. Formatting is not important."
   ]
  },
  {
   "cell_type": "code",
   "execution_count": 2,
   "metadata": {
    "ExecuteTime": {
     "end_time": "2020-11-25T06:36:18.500401Z",
     "start_time": "2020-11-25T06:36:18.488434Z"
    }
   },
   "outputs": [
    {
     "name": "stdout",
     "output_type": "stream",
     "text": [
      "['01/11/2020', '08/11/2020', '15/11/2020', '22/11/2020', '29/11/2020']\n",
      "['06/10/2019', '13/10/2019', '20/10/2019', '27/10/2019']\n"
     ]
    }
   ],
   "source": [
    "def allSundays(year, month):\n",
    "    from datetime import datetime, date\n",
    "    \n",
    "    lst = []\n",
    "    \n",
    "    specifiedYearMonth = date(year = year, month = month, day = 1)\n",
    "    \n",
    "    for i in range(1,32):\n",
    "        try:\n",
    "            if date(year = year, month = month, day = i).strftime(\"%A\") in 'Sunday':\n",
    "                lst.append(date(year = year, month = month, day = i).strftime(\"%d/%m/%Y\"))\n",
    "            else:\n",
    "                continue\n",
    "            \n",
    "        except ValueError:\n",
    "            continue\n",
    "\n",
    "    return lst\n",
    "\n",
    "print(allSundays(2020,11))\n",
    "print(allSundays(2019,10))"
   ]
  },
  {
   "cell_type": "markdown",
   "metadata": {},
   "source": [
    "**Qn 3)** Write a function that create 12 fixed dates from a given specific date over a given period. The difference between each date is 20 days. You are to get the specific date from user input in the format DD-MM-YYYY and the returned date is to use the format MM-DD-YYYY."
   ]
  },
  {
   "cell_type": "code",
   "execution_count": 3,
   "metadata": {
    "ExecuteTime": {
     "end_time": "2020-11-25T06:36:18.524336Z",
     "start_time": "2020-11-25T06:36:18.503394Z"
    }
   },
   "outputs": [
    {
     "data": {
      "text/plain": [
       "['11-01-2020',\n",
       " '11-21-2020',\n",
       " '12-11-2020',\n",
       " '12-31-2020',\n",
       " '01-20-2021',\n",
       " '02-09-2021',\n",
       " '03-01-2021',\n",
       " '03-21-2021',\n",
       " '04-10-2021',\n",
       " '04-30-2021',\n",
       " '05-20-2021',\n",
       " '06-09-2021']"
      ]
     },
     "execution_count": 3,
     "metadata": {},
     "output_type": "execute_result"
    }
   ],
   "source": [
    "def twelveFixedDates(stri):\n",
    "    from datetime import datetime, date, timedelta\n",
    "    date1 = datetime.strptime(stri, \"%d-%m-%Y\")\n",
    "    lst = []\n",
    "    \n",
    "    for i in range(0,12,1):\n",
    "        \n",
    "        lst.append(date1.strftime(\"%m-%d-%Y\"))\n",
    "        date1 = date1 + timedelta(days = 20) # Use timedelta\n",
    "        \n",
    "    return lst\n",
    "\n",
    "twelveFixedDates('01-11-2020')\n",
    "        "
   ]
  },
  {
   "cell_type": "markdown",
   "metadata": {},
   "source": [
    "**Qn 4)** Write a function that accepts a date and a number for year (either a positive or negative integer). The function is to add the year/s to a given date then return the new date. Input and output date format is up to you."
   ]
  },
  {
   "cell_type": "code",
   "execution_count": 4,
   "metadata": {
    "ExecuteTime": {
     "end_time": "2020-11-25T06:36:18.534324Z",
     "start_time": "2020-11-25T06:36:18.525332Z"
    }
   },
   "outputs": [
    {
     "data": {
      "text/plain": [
       "'01-11-2023'"
      ]
     },
     "execution_count": 4,
     "metadata": {},
     "output_type": "execute_result"
    }
   ],
   "source": [
    "def addYearToDate(stri, year):\n",
    "    from datetime import datetime, timedelta\n",
    "    return (datetime.strptime(stri, \"%d-%m-%Y\")+timedelta(days = int(year*365.25))).strftime(\"%d-%m-%Y\")\n",
    "\n",
    "addYearToDate(\"01-11-2020\",3)"
   ]
  },
  {
   "cell_type": "markdown",
   "metadata": {},
   "source": [
    "**Qn 5)** Write a function that accept 2 dates and return the difference between the 2 dates in as a 2-tuple of days and total seconds. The dates are to be entered via user input in the format DD-MM-YYYY."
   ]
  },
  {
   "cell_type": "code",
   "execution_count": 5,
   "metadata": {
    "ExecuteTime": {
     "end_time": "2020-11-25T06:36:18.543284Z",
     "start_time": "2020-11-25T06:36:18.535306Z"
    }
   },
   "outputs": [
    {
     "data": {
      "text/plain": [
       "(25.0, 2160000.0)"
      ]
     },
     "execution_count": 5,
     "metadata": {},
     "output_type": "execute_result"
    }
   ],
   "source": [
    "def twoDatesDifference(date1, date2):\n",
    "    from datetime import datetime, timedelta\n",
    "    \n",
    "    date1, date2 = datetime.strptime(date1,\"%d-%m-%Y\"), datetime.strptime(date2,\"%d-%m-%Y\")\n",
    "    \n",
    "    date1, date2 = max(date1,date2), min(date1,date2)\n",
    "    \n",
    "    return (date1-date2).total_seconds()//(3600*24), (date1-date2).total_seconds()\n",
    "\n",
    "twoDatesDifference(\"25-09-2020\", \"20-10-2020\")"
   ]
  },
  {
   "cell_type": "markdown",
   "metadata": {},
   "source": [
    "**Qn 6)** Using a single list comprehension, fill in all the missing dates between 2 user input dates. The output date format is DD-MMM-YYYY and the input date format is DD-MM-YYYY.<br>\n",
    "**Hint**: You may want to use the function from Qn 5.\n",
    "\n",
    "**Sample Program Output**\n",
    "<pre>\n",
    "Enter first date:  20-05-2020\n",
    "Enter second date:  15-05-2020\n",
    "['15-May-2020', '16-May-2020', '17-May-2020', '18-May-2020', '19-May-2020', '20-May-2020']\n",
    "</pre>"
   ]
  },
  {
   "cell_type": "code",
   "execution_count": 6,
   "metadata": {
    "ExecuteTime": {
     "end_time": "2020-11-25T06:36:34.637226Z",
     "start_time": "2020-11-25T06:36:18.545281Z"
    }
   },
   "outputs": [
    {
     "name": "stdout",
     "output_type": "stream",
     "text": [
      "Enter first date: 20-05-2020\n",
      "Enter second date: 29-05-2020\n"
     ]
    },
    {
     "data": {
      "text/plain": [
       "['20-May-2020',\n",
       " '21-May-2020',\n",
       " '22-May-2020',\n",
       " '23-May-2020',\n",
       " '24-May-2020',\n",
       " '25-May-2020',\n",
       " '26-May-2020',\n",
       " '27-May-2020',\n",
       " '28-May-2020',\n",
       " '29-May-2020']"
      ]
     },
     "execution_count": 6,
     "metadata": {},
     "output_type": "execute_result"
    }
   ],
   "source": [
    "from datetime import datetime, timedelta\n",
    "\n",
    "date1, date2 = input(\"Enter first date: \"), input(\"Enter second date: \")\n",
    "\n",
    "daysDifference, total_seconds = twoDatesDifference(date1,date2)\n",
    "\n",
    "\n",
    "date1 = datetime.strptime(date1, \"%d-%m-%Y\")\n",
    "date2 = datetime.strptime(date2, \"%d-%m-%Y\")\n",
    "\n",
    "date1, date2 = max(date1,date2), min(date1,date2)\n",
    "\n",
    "\n",
    "[s.strftime(\"%d-%b-%Y\") for s in [date2+timedelta(days=i) for i in range(int(daysDifference)+1)]]"
   ]
  },
  {
   "cell_type": "code",
   "execution_count": null,
   "metadata": {},
   "outputs": [],
   "source": []
  }
 ],
 "metadata": {
  "kernelspec": {
   "display_name": "Python 3",
   "language": "python",
   "name": "python3"
  },
  "language_info": {
   "codemirror_mode": {
    "name": "ipython",
    "version": 3
   },
   "file_extension": ".py",
   "mimetype": "text/x-python",
   "name": "python",
   "nbconvert_exporter": "python",
   "pygments_lexer": "ipython3",
   "version": "3.7.7"
  }
 },
 "nbformat": 4,
 "nbformat_minor": 4
}
