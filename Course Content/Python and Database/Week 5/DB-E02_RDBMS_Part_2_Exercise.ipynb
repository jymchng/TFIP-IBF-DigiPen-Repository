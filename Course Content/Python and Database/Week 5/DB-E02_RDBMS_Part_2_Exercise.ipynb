{
 "cells": [
  {
   "cell_type": "markdown",
   "metadata": {},
   "source": [
    "# Basic SQL exercises"
   ]
  },
  {
   "cell_type": "markdown",
   "metadata": {},
   "source": [
    "**Q1)** Write SQL statements to answer the questions using the following table.\n",
    "\n",
    "Table name: salesman\n",
    "\n",
    " salesman_id |    name    |   city   | commission \n",
    "-------------|------------|----------|------------\n",
    "        5001 | James Hoog | New York |       0.15\n",
    "        5002 | Nail Knite | Paris    |       0.13\n",
    "        5005 | Pit Alex   | London   |       0.11\n",
    "        5006 | Mc Lyon    | Paris    |       0.14\n",
    "        5007 | Paul Adam  | Rome     |       0.13\n",
    "        5003 | Lauson Hen | San Jose |       0.12\n",
    "        \n",
    "1. Return all the salesman data for salesman that either comes from the city Paris or London.\n",
    "2. Find the average commission for salesmen from Paris.\n",
    "3. Find the salesman ids of those salesmen with names starting with the letter \"P\"."
   ]
  },
  {
   "cell_type": "markdown",
   "metadata": {},
   "source": [
    "CREATE TABLE salesman(salesman_id INT, name CHAR(15), city CHAR(10), commission FLOAT, PRIMARY KEY(salesman_id));\n",
    "\n",
    "INSERT INTO salesman VALUES (5001, 'James Hoog', 'New York', 0.15);<br>\n",
    "INSERT INTO salesman VALUES (5002, 'Nail Knite', 'Paris', 0.13);<br>\n",
    "INSERT INTO salesman VALUES (5005, 'Pit Alex', 'London', 0.11);<br>\n",
    "INSERT INTO salesman VALUES (5006, 'Mc Lyon', 'Paris', 0.14);<br>\n",
    "INSERT INTO salesman VALUES (5007, 'Paul Adam', 'Rome', 0.13);<br>\n",
    "INSERT INTO salesman VALUES (5003, 'Lauson Hen', 'San Jose', 0.12);"
   ]
  },
  {
   "cell_type": "markdown",
   "metadata": {},
   "source": [
    "SELECT * FROM salesman WHERE city='Paris' OR city='London'"
   ]
  },
  {
   "cell_type": "markdown",
   "metadata": {},
   "source": [
    "SELECT AVG(commission) FROM salesman WHERE city='Paris'"
   ]
  },
  {
   "cell_type": "markdown",
   "metadata": {},
   "source": [
    "SELECT salesman_id FROM salesman WHERE name LIKE \"P%\""
   ]
  },
  {
   "cell_type": "markdown",
   "metadata": {},
   "source": [
    "---\n",
    "**Q2)** Write SQL statements to answer the questions using the following table. \n",
    "\n",
    "Table name: salesman\n",
    "\n",
    " salesman_id |    name    |   city   | commission \n",
    "-------------|------------|----------|------------\n",
    "        5001 | James Hoog | New York |       0.15\n",
    "        5002 | Nail Knite | Paris    |       0.13\n",
    "        5005 | Pit Alex   | London   |       0.11\n",
    "        5006 | Mc Lyon    | Paris    |       0.14\n",
    "        5007 | Paul Adam  | Rome     |       0.13\n",
    "        5003 | Lauson Hen | San Jose |       0.12\n",
    "        \n",
    "Table name: customer\n",
    "\n",
    " cust_id     |   cust_name    |    city    | grade | salesman_id \n",
    "-------------|----------------|------------|-------|-------------\n",
    "        3002 | Nick Rimando   | New York   |   100 |        5001\n",
    "        3007 | Brad Davis     | New York   |   200 |        5001\n",
    "        3005 | Graham Zusi    | California |   200 |        5002\n",
    "        3008 | Julian Green   | London     |   300 |        5002\n",
    "        3004 | Fabian Johnson | Paris      |   300 |        5006\n",
    "        3009 | Geoff Cameron  | Berlin     |   100 |        5003\n",
    "        3003 | Jozy Altidor   | Moscow     |   200 |        5007\n",
    "        3001 | Brad Guzan     | London     |   250 |        5005\n",
    "        \n",
    "1. Return both the customer's and salesmen's name and id who lives in the same city.\n",
    "2. Return the salesman's name and id where customers have graded them over 250.\n",
    "3. Customer Brad Davis have moved from New York to Hong Kong, update the customer's data to reflect this change."
   ]
  },
  {
   "cell_type": "code",
   "execution_count": null,
   "metadata": {},
   "outputs": [],
   "source": [
    "CREATE TABLE customer(cust_id CHAR(4) NOT NULL, cust_name CHAR(50) NOT NULL,\n",
    "                     city CHAR(50) NOT NULL, grade INT, salesman_id CHAR(4),\n",
    "                     PRIMARY KEY(cust_id),\n",
    "                     FOREIGN KEY(salesman_id) REFERENCES salesman(salesman_id));\n",
    "                     \n",
    "INSERT INTO customer VALUES (3002,'Nick Rimando','New York',100,5001);\n",
    "INSERT INTO customer VALUES (3007,'Brad Davis','New York',200,5001);\n",
    "INSERT INTO customer VALUES (3005,'Graham Zusi','California',200,5002);\n",
    "INSERT INTO customer VALUES (3008,'Julian Green','London',300,5002);\n",
    "INSERT INTO customer VALUES (3004,'Fabian Johnson','Paris',300,5006);\n",
    "INSERT INTO customer VALUES (3009,'Geoff Cameron','Berlin',100,5003);\n",
    "INSERT INTO customer VALUES (3003,'Jozy Altidor','Moscow',200,5007);\n",
    "INSERT INTO customer VALUES (3001,'Brad Guzan','London',200,5005);"
   ]
  },
  {
   "cell_type": "code",
   "execution_count": null,
   "metadata": {},
   "outputs": [],
   "source": [
    "SELECT cust_name, name FROM customer, salesman WHERE customer.city = salesman.city;"
   ]
  },
  {
   "cell_type": "markdown",
   "metadata": {},
   "source": [
    "SELECT salesman.name, salesman.salesman_id FROM salesman, customer WHERE customer.grade > 250 AND salesman.salesman_id = customer.salesman_id;\n",
    "\n",
    "SELECT s.name, s.salesman_id FROM salesman AS s, customer AS c WHERE c.grade>250 AND s.salesman_id = c.salesman_id;"
   ]
  },
  {
   "cell_type": "code",
   "execution_count": null,
   "metadata": {},
   "outputs": [],
   "source": [
    "UPDATE customer AS c SET city='Hong Kong' WHERE c.cust_name = 'Brad Davis';"
   ]
  },
  {
   "cell_type": "markdown",
   "metadata": {},
   "source": [
    "---\n",
    "**Qn 3)** Write a statement to create a table R consisting of 5 attributes a, b, c, d and e. The datatype of all the attributes are Integers. In addition, a and b are primary keys and d cannot be null."
   ]
  },
  {
   "cell_type": "code",
   "execution_count": null,
   "metadata": {},
   "outputs": [],
   "source": [
    "CREATE TABLE R (a INT, b INT, c INT, d INT NOT NULL, e INT, PRIMARY KEY(a,b));"
   ]
  },
  {
   "cell_type": "markdown",
   "metadata": {},
   "source": [
    "---\n",
    "**Q4)** Given the following database schema (from lecture notes) below, answer the following questions\n",
    "\n",
    "**Student**(sID CHAR(8), sName CHAR(50), gender CHAR(1), age INT, dID CHAR(2), grade CHAR(2))    \n",
    "**Dept**(dID CHAR(2), dName CHAR(20), dean CHAR(50))   \n",
    "**Course**(cID CHAR(3), cName CHAR(50), hours INT, credit INT, iID CHAR(3))   \n",
    "**Instructor**(iID CHAR(3), iName CHAR(50), dID CHAR(2), workload FLOAT)   \n",
    "**RC**(sID CHAR(8), cID CHAR(3), score FLOAT)    \n",
    "\n",
    "1. Find the names of the students who are taking the courses taught by \"Lim\".\n",
    "2. Using the function aggregate function MAX(), find the oldest female student in the CS department."
   ]
  },
  {
   "cell_type": "markdown",
   "metadata": {},
   "source": [
    "##### QUESTION 4 PART 1\n",
    "```sql\n",
    "SELECT s.sName FROM Student AS s, Course AS c, Instructor AS i, Dept AS d WHERE i.iName LIKE \"%Lim\" AND i.iID = c.iID AND i.dID = d.dID AND d.dID = s.dID;\n",
    "```"
   ]
  },
  {
   "cell_type": "markdown",
   "metadata": {},
   "source": [
    "##### QUESTION 4 PART 2\n",
    "```sql\n",
    "SELECT s.sID FROM Student AS s, Dept AS d WHERE s.age = MAX(s.age) AND d.dID = 'CS' AND d.dID = s.dID;\n",
    "\n",
    "Anthony Answer:\n",
    "SELECT sName FROM Student WHERE dID='CS' AND age=(SELECT MAX(age) FROM Student);\n",
    "```"
   ]
  },
  {
   "cell_type": "markdown",
   "metadata": {},
   "source": [
    "#### Question 4 continues...\n",
    "3. Using the not equal to operator (`<>`) (https://www.sqlshack.com/sql-not-equal-operator/) and the ORDER BY clause, find all the students who are not from the CS department and group them by department.\n",
    "4. Using the GROUP BY clause, return the avg age of the students for each department."
   ]
  },
  {
   "cell_type": "markdown",
   "metadata": {},
   "source": [
    "### ORDER BY Syntax\n",
    "```sql\n",
    "SELECT column1, column2, ...\n",
    "FROM table_name\n",
    "ORDER BY column1, column2, ... ASC|DESC;\n",
    "```"
   ]
  },
  {
   "cell_type": "markdown",
   "metadata": {},
   "source": [
    "### GROUP BY Syntax\n",
    "```sql\n",
    "SELECT column_name(s)\n",
    "FROM table_name\n",
    "WHERE condition\n",
    "GROUP BY column_name(s)\n",
    "ORDER BY column_name(s);\n",
    "```"
   ]
  },
  {
   "cell_type": "markdown",
   "metadata": {},
   "source": [
    "##### QUESTION 4 PART 3\n",
    "```sql\n",
    "SELECT s.sID FROM Student AS s, Dept AS d WHERE c.cName <> 'CS' GROUP BY s.sID ORDER BY s.sID ASC;\n",
    "```"
   ]
  },
  {
   "cell_type": "markdown",
   "metadata": {},
   "source": [
    "##### QUESTION 4 PART 4\n",
    "```sql\n",
    "SELECT AVG(s.age) FROM Student AS s, Dept AS d WHERE d.dID = s.dID GROUP BY d.dID;\n",
    "```"
   ]
  },
  {
   "cell_type": "code",
   "execution_count": null,
   "metadata": {},
   "outputs": [],
   "source": []
  }
 ],
 "metadata": {
  "kernelspec": {
   "display_name": "Python 3",
   "language": "python",
   "name": "python3"
  },
  "language_info": {
   "codemirror_mode": {
    "name": "ipython",
    "version": 3
   },
   "file_extension": ".py",
   "mimetype": "text/x-python",
   "name": "python",
   "nbconvert_exporter": "python",
   "pygments_lexer": "ipython3",
   "version": "3.7.7"
  }
 },
 "nbformat": 4,
 "nbformat_minor": 4
}
