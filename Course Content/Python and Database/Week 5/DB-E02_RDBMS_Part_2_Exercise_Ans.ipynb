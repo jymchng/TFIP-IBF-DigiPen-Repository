{
 "cells": [
  {
   "cell_type": "markdown",
   "metadata": {},
   "source": [
    "# Basic SQL exercises"
   ]
  },
  {
   "cell_type": "markdown",
   "metadata": {},
   "source": [
    "**Q1)** Write SQL statements to answer the questions using the following table.\n",
    "\n",
    "Table name: salesman\n",
    "\n",
    "| salesman_id |    name    |   city   | commission |\n",
    "|------------:|:-----------|:---------|-----------:|\n",
    "|        5001 | James Hoog | New York |       0.15 |\n",
    "|        5002 | Nail Knite | Paris    |       0.13 |\n",
    "|        5005 | Pit Alex   | London   |       0.11 |\n",
    "|        5006 | Mc Lyon    | Paris    |       0.14 |\n",
    "|        5007 | Paul Adam  | Rome     |       0.13 |\n",
    "|        5003 | Lauson Hen | San Jose |       0.12 |\n",
    "        \n",
    "1. Return all the salesman data for salesman that either comes from the city Paris or London.\n",
    "2. Find the average commission for salesmen from Paris.\n",
    "3. Find the salesman ids of those salesmen with names starting with the letter \"P\"."
   ]
  },
  {
   "cell_type": "markdown",
   "metadata": {},
   "source": [
    "**Answers**\n",
    "\n",
    "**Qn 1:** SELECT * FROM salesman WHERE city = \"Paris\" OR city = \"London\";\n",
    "\n",
    "**Qn 2:** SELECT AVG(commission) FROM salesman WHERE city = \"Paris\";\n",
    "*or* SELECT AVG(commission) avg_comm FROM salesman WHERE city = \"Paris\";\n",
    "\n",
    "**Qn 3:** SELECT salesman_id FROM salesman WHERE name LIKE \"P%\";"
   ]
  },
  {
   "cell_type": "markdown",
   "metadata": {},
   "source": [
    "---\n",
    "**Q2)** Write SQL statements to answer the questions using the following table. \n",
    "\n",
    "Table name: salesman\n",
    "\n",
    "| salesman_id |    name    |   city   | commission | \n",
    "|------------:|:-----------|:---------|-----------:|\n",
    "|        5001 | James Hoog | New York |       0.15 |\n",
    "|        5002 | Nail Knite | Paris    |       0.13 |\n",
    "|        5005 | Pit Alex   | London   |       0.11 |\n",
    "|        5006 | Mc Lyon    | Paris    |       0.14 |\n",
    "|        5007 | Paul Adam  | Rome     |       0.13 |\n",
    "|        5003 | Lauson Hen | San Jose |       0.12 |\n",
    "        \n",
    "Table name: customer\n",
    "\n",
    "| cust_id     |   cust_name    |    city    | grade | salesman_id |\n",
    "|------------:|:---------------|:-----------|------:|------------:|\n",
    "|        3002 | Nick Rimando   | New York   |   100 |        5001 |\n",
    "|        3007 | Brad Davis     | New York   |   200 |        5001 |\n",
    "|        3005 | Graham Zusi    | California |   200 |        5002 |\n",
    "|        3008 | Julian Green   | London     |   300 |        5002 |\n",
    "|        3004 | Fabian Johnson | Paris      |   300 |        5006 |\n",
    "|        3009 | Geoff Cameron  | Berlin     |   100 |        5003 |\n",
    "|        3003 | Jozy Altidor   | Moscow     |   200 |        5007 |\n",
    "|        3001 | Brad Guzan     | London     |   250 |        5005 |\n",
    "        \n",
    "1. Return both the customer's and salesmen's name and id who lives in the same city.\n",
    "2. Return the salesman's name and id where customers have graded them over 250.\n",
    "3. Customer Brad Davis have moved from New York to Hong Kong, update the customer's data to reflect this change."
   ]
  },
  {
   "cell_type": "markdown",
   "metadata": {},
   "source": [
    "**Answers**\n",
    "\n",
    "**Qn 1:** SELECT c.cust_name, c.cust_id, s.name, s.salesman_id FROM customer c, salesman s WHERE s.city = c.city;\n",
    "\n",
    "**Qn 2:** SELECT s.salesman_id, s.name FROM customer c, salesman s WHERE s.salesman_id = c.salesman_id AND c.grade > 250;\n",
    "\n",
    "**Qn 3:** UPDATE customer SET city = \"Hong Kong\" WHERE cust_name = \"Brad Davis\";"
   ]
  },
  {
   "cell_type": "markdown",
   "metadata": {},
   "source": [
    "---\n",
    "**Qn 3)** Write a statement to create a table R consisting of 5 attributes a, b, c, d and e. The datatype of all the attributes are Integers. In addition, a and b are primary keys and d cannot be null."
   ]
  },
  {
   "cell_type": "markdown",
   "metadata": {},
   "source": [
    "**Answers**\n",
    "\n",
    "CREATE TABLE R(a INT, b INT, c INT, d INT NOT NULL, e INT, PRIMARY KEY(a,b));"
   ]
  },
  {
   "cell_type": "markdown",
   "metadata": {},
   "source": [
    "---\n",
    "**Q4)** Given the following database schema (from lecture notes) below, answer the following questions\n",
    "\n",
    "**Student**(sID CHAR(8), sName CHAR(50), gender CHAR(1), age INT, dID CHAR(2), grade CHAR(2))    \n",
    "**Dept**(dID CHAR(2), dName CHAR(20), dean CHAR(50))   \n",
    "**Course**(cID CHAR(3), cName CHAR(50), hours INT, credit INT, iID CHAR(3))   \n",
    "**Instructor**(iID CHAR(3), iName CHAR(50), dID CHAR(2), workload FLOAT)   \n",
    "**RC**(sID CHAR(8), cID CHAR(3), score FLOAT)    \n",
    "\n",
    "1. Find the names of the students who are taking the courses taught by \"Lim\".\n",
    "2. Using the function aggregate function MAX(), find the oldest female student in the CS department.\n",
    "3. Using the not equal to operator (`<>`) and the ORDER BY clause, find all the students who are not from the CS department and group them by department.\n",
    "4. Using the GROUP BY clause, return the avg age of the students for each department."
   ]
  },
  {
   "cell_type": "markdown",
   "metadata": {},
   "source": [
    "**Answers**\n",
    "\n",
    "**Qn 1:** SELECT s.sName FROM Student s, RC rc, Course c, Instructor i WHERE s.sID = rc.sID and rc.cID = c.cID and i.iID = c.iID and i.iName LIKE \"Lim\";\n",
    "\n",
    "**Qn 2:** SELECT MAX(s.age) max_female_student FROM Student s WHERE s.dID = \"CS\" and s.gender = \"F\";\n",
    "\n",
    "**Qn 3:** SELECT * FROM Student s WHERE s.dID <> \"CS\" ORDER BY s.dID;\n",
    "\n",
    "**Qn 4:** SELECT dID, AVG(age) FROM Student GROUP BY dID;"
   ]
  }
 ],
 "metadata": {
  "kernelspec": {
   "display_name": "Python 3",
   "language": "python",
   "name": "python3"
  },
  "language_info": {
   "codemirror_mode": {
    "name": "ipython",
    "version": 3
   },
   "file_extension": ".py",
   "mimetype": "text/x-python",
   "name": "python",
   "nbconvert_exporter": "python",
   "pygments_lexer": "ipython3",
   "version": "3.7.7"
  }
 },
 "nbformat": 4,
 "nbformat_minor": 4
}
