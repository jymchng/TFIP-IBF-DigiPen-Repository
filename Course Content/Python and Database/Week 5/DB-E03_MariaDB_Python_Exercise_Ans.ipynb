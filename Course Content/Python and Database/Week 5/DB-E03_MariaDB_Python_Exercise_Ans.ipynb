{
 "cells": [
  {
   "cell_type": "markdown",
   "metadata": {},
   "source": [
    "# MariaDB with Python Exercises\n",
    "\n",
    "Make sure that you finished the Basic SQL Exercises before starting this exercise because you will be converting what you have already done from manual inputs to using Python and MariaDB's Python connector to interface directly with MariaDBMS. You are still encouraged to use MySQL Client to help check your work.\n",
    "\n",
    "---"
   ]
  },
  {
   "cell_type": "markdown",
   "metadata": {},
   "source": [
    "**Q1)** Write SQL statements to answer the questions using the following table.\n",
    "\n",
    "Table name: salesman\n",
    "\n",
    "| salesman_id |    name    |   city   | commission |\n",
    "|------------:|:-----------|:---------|-----------:|\n",
    "|        5001 | James Hoog | New York |       0.15 |\n",
    "|        5002 | Nail Knite | Paris    |       0.13 |\n",
    "|        5005 | Pit Alex   | London   |       0.11 |\n",
    "|        5006 | Mc Lyon    | Paris    |       0.14 |\n",
    "|        5007 | Paul Adam  | Rome     |       0.13 |\n",
    "|        5003 | Lauson Hen | San Jose |       0.12 |\n",
    "        \n",
    "1. Return all the salesman data for salesman that either comes from the city Paris or London.\n",
    "2. Find the average commission for salesmen from Paris.\n",
    "3. Find the salesman ids of those salesmen with names starting with the letter \"P\"."
   ]
  },
  {
   "cell_type": "markdown",
   "metadata": {},
   "source": [
    "**Answers**\n",
    "\n",
    "**Qn 1:** SELECT * FROM salesman WHERE city = \"Paris\" OR city = \"London\";\n",
    "\n",
    "**Qn 2:** SELECT AVG(commission) FROM salesman WHERE city = \"Paris\";\n",
    "*or* SELECT AVG(commission) avg_comm FROM salesman WHERE city = \"Paris\";\n",
    "\n",
    "**Qn 3:** SELECT salesman_id FROM salesman WHERE name LIKE \"P%\";"
   ]
  },
  {
   "cell_type": "markdown",
   "metadata": {},
   "source": [
    "---\n",
    "**Q2)** Write SQL statements to answer the questions using the following table. \n",
    "\n",
    "Table name: salesman\n",
    "\n",
    "| salesman_id |    name    |   city   | commission | \n",
    "|------------:|:-----------|:---------|-----------:|\n",
    "|        5001 | James Hoog | New York |       0.15 |\n",
    "|        5002 | Nail Knite | Paris    |       0.13 |\n",
    "|        5005 | Pit Alex   | London   |       0.11 |\n",
    "|        5006 | Mc Lyon    | Paris    |       0.14 |\n",
    "|        5007 | Paul Adam  | Rome     |       0.13 |\n",
    "|        5003 | Lauson Hen | San Jose |       0.12 |\n",
    "        \n",
    "Table name: customer\n",
    "\n",
    "| cust_id     |   cust_name    |    city    | grade | salesman_id |\n",
    "|------------:|:---------------|:-----------|------:|------------:|\n",
    "|        3002 | Nick Rimando   | New York   |   100 |        5001 |\n",
    "|        3007 | Brad Davis     | New York   |   200 |        5001 |\n",
    "|        3005 | Graham Zusi    | California |   200 |        5002 |\n",
    "|        3008 | Julian Green   | London     |   300 |        5002 |\n",
    "|        3004 | Fabian Johnson | Paris      |   300 |        5006 |\n",
    "|        3009 | Geoff Cameron  | Berlin     |   100 |        5003 |\n",
    "|        3003 | Jozy Altidor   | Moscow     |   200 |        5007 |\n",
    "|        3001 | Brad Guzan     | London     |   250 |        5005 |\n",
    "        \n",
    "1. Return both the customer's and salesmen's name and id who lives in the same city.\n",
    "2. Return the salesman's name and id where customers have graded them over 250.\n",
    "3. Customer Brad Davis have moved from New York to Hong Kong, update the customer's data to reflect this change.\n",
    "4. Using the following data, insert the following customer records:\n",
    " <pre>\n",
    " {'new_customers':\n",
    "     ({'cust_id': 3006, 'cust_name': 'Joe Black', 'city': 'California', 'grade': 200, 'attendant_salesman':'Pit Alex'},\n",
    "      {'cust_id': 3010, 'cust_name': 'Blue Lightning', 'city': 'Hamburg', 'grade': 300, 'attendant_salesman':'Paul Adam'},\n",
    "      {'cust_id': 3011, 'cust_name': 'Lyra Slivertongue', 'city': 'Oxford', 'grade': 300, 'attendant_salesman':'Nail Knite'}\n",
    "     )}\n",
    " </pre>\n",
    " you are to use the dictionary data as it is."
   ]
  },
  {
   "cell_type": "markdown",
   "metadata": {},
   "source": [
    "**Answers**\n",
    "\n",
    "**Qn 1:** SELECT c.cust_name, c.cust_id, s.name, s.salesman_id FROM customer c, salesman s WHERE s.city = c.city;\n",
    "\n",
    "**Qn 2:** SELECT s.salesman_id, s.name FROM customer c, salesman s WHERE s.salesman_id = c.salesman_id AND c.grade > 250;\n",
    "\n",
    "**Qn 3:** UPDATE customer SET city = \"Hong Kong\" WHERE cust_name = \"Brad Davis\";\n",
    "\n",
    "**Qn 4:** INSERT INTO customer SELECT 3006, 'Joe Black', 'California', 200, s.salesman_id FROM salesman AS s WHERE s.name = 'Pit Alex';"
   ]
  },
  {
   "cell_type": "code",
   "execution_count": null,
   "metadata": {},
   "outputs": [],
   "source": [
    "from mariadb_context import MariaDBCursor\n",
    "\n",
    "data = {'new_customers':\n",
    "  ({'cust_id': 3006, 'cust_name': 'Joe Black', 'city': 'California', 'grade': 200, 'attendant_salesman':'Pit Alex'},\n",
    "   {'cust_id': 3010, 'cust_name': 'Blue Lightning', 'city': 'Hamburg', 'grade': 300, 'attendant_salesman':'Paul Adam'},\n",
    "   {'cust_id': 3011, 'cust_name': 'Lyra Slivertongue', 'city': 'Oxford', 'grade': 300, 'attendant_salesman':'Nail Knite'}\n",
    "  )}\n",
    "\n",
    "insert_sql = []\n",
    "for cust in data['new_customers']:\n",
    "    # method 1\n",
    "    sql = f'INSERT INTO customer SELECT {cust[\"cust_id\"]}, \\'{cust[\"cust_name\"]}\\', \\'{cust[\"city\"]}\\', {cust[\"grade\"]}, s.salesman_id ' + \\\n",
    "          f'FROM salesman AS s WHERE s.name = \\'{cust[\"attendant_salesman\"]}\\';'\n",
    "    \n",
    "    # method 2\n",
    "#     sql = 'INSERT INTO customer SELECT {cust_id}, \\'{cust_name}\\', \\'{city}\\', {grade}, s.salesman_id '.format(**cust) + \\\n",
    "#           'FROM salesman AS s WHERE s.name = \\'{attendant_salesman}\\';'.format(**cust)\n",
    "    \n",
    "    insert_sql.append(sql)\n",
    "insert_sql\n",
    "\n",
    "\n",
    "with MariaDBCursor(<your mariaDB password>, <table name>) as rdbms:\n",
    "    for sql in insert_sql:\n",
    "        rdbms.execute(sql)"
   ]
  },
  {
   "cell_type": "markdown",
   "metadata": {},
   "source": [
    "---\n",
    "**Q3)** Given the following database schema (from lecture notes) below, answer the following questions\n",
    "\n",
    "**Student**(sID CHAR(8), sName CHAR(50), gender CHAR(1), age INT, dID CHAR(2), grade CHAR(2))    \n",
    "**Dept**(dID CHAR(2), dName CHAR(20), dean CHAR(50))   \n",
    "**Course**(cID CHAR(3), cName CHAR(50), hours INT, credit INT, iID CHAR(3))   \n",
    "**Instructor**(iID CHAR(3), iName CHAR(50), dID CHAR(2), workload FLOAT)   \n",
    "**RC**(sID CHAR(8), cID CHAR(3), score FLOAT)    \n",
    "\n",
    "1. Find the names of the students who are taking the courses taught by \"Lim\".\n",
    "2. Using the function aggregate function `MAX()`, find the oldest female student in the CS department.\n",
    "3. Using the not equal to operator (`<>`) and the `ORDER BY` clause, find all the students who are not from the CS department and group them by department.\n",
    "4. Using the `GROUP BY` clause, return the avg age of the students for each department."
   ]
  },
  {
   "cell_type": "markdown",
   "metadata": {},
   "source": [
    "**Answers**\n",
    "\n",
    "**Qn 1:** SELECT s.sName FROM Student s, RC rc, Course c, Instructor i WHERE s.sID = rc.sID and rc.cID = c.cID and i.iID = c.iID and i.iName LIKE \"Lim\";\n",
    "\n",
    "**Qn 2:** SELECT MAX(s.age) max_female_student FROM Student s WHERE s.dID = \"CS\" and s.gender = \"F\";\n",
    "\n",
    "**Qn 3:** SELECT * FROM Student s WHERE s.dID <> \"CS\" ORDER BY s.dID;\n",
    "\n",
    "**Qn 4:** SELECT dID, AVG(age) FROM Student GROUP BY dID;"
   ]
  }
 ],
 "metadata": {
  "kernelspec": {
   "display_name": "Python 3",
   "language": "python",
   "name": "python3"
  },
  "language_info": {
   "codemirror_mode": {
    "name": "ipython",
    "version": 3
   },
   "file_extension": ".py",
   "mimetype": "text/x-python",
   "name": "python",
   "nbconvert_exporter": "python",
   "pygments_lexer": "ipython3",
   "version": "3.7.7"
  }
 },
 "nbformat": 4,
 "nbformat_minor": 4
}
