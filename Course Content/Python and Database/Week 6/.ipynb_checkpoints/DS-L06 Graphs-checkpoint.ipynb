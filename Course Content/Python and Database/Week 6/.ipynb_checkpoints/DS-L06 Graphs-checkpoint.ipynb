{
 "cells": [
  {
   "cell_type": "markdown",
   "metadata": {},
   "source": [
    "# Fundamental Data Structures and Algorithms 06 - Graphs"
   ]
  },
  {
   "cell_type": "markdown",
   "metadata": {},
   "source": [
    "## Unit 3: Basic Data Structures (continued)\n",
    "---"
   ]
  },
  {
   "cell_type": "markdown",
   "metadata": {},
   "source": [
    "### Objective\n",
    "\n",
    "- Introduce the graph data structure and terminologies\n",
    "- Graph Representation\n",
    " - Adjacency List\n",
    " - Adjacency Matrix\n",
    "- Graph Traversal\n",
    " - Breadth-First Search\n",
    " - Depth-First Search\n",
    "- Directed Acyclic Graphs\n",
    " - Topological Sorting\n",
    "- Minimum Spanning Tree\n",
    " - Prim's Algorithm\n",
    " - Kruskal's Algorithm\n",
    "---"
   ]
  },
  {
   "cell_type": "markdown",
   "metadata": {},
   "source": [
    "### Recap\n",
    "> What is a *tree*?"
   ]
  },
  {
   "cell_type": "markdown",
   "metadata": {},
   "source": [
    "![Tree_structures_and_terminologies](https://i.ibb.co/6ZrNLN6/Slide16.png)"
   ]
  },
  {
   "cell_type": "markdown",
   "metadata": {},
   "source": [
    "---"
   ]
  },
  {
   "cell_type": "markdown",
   "metadata": {},
   "source": [
    "## Graph\n",
    "\n",
    "- a way of representing relationships between pairs of objects\n",
    "- it is a set of objects, called *vertices*, together with a collection of pairwise connections between them, called *edges*\n",
    "- applications in maps, transportation, computer networks, electrical engineering\n",
    "\n",
    "Note: this notion of 'graphs' should not be confused with bar chars and function plots"
   ]
  },
  {
   "cell_type": "markdown",
   "metadata": {},
   "source": [
    "---"
   ]
  },
  {
   "cell_type": "markdown",
   "metadata": {},
   "source": [
    "## Basic Graph Terminologies I\n",
    "\n",
    "- a ***graph*** $G$ is simply a set $V$ of ***vertices*** and a collection of $E$ pairs of vertices from $V$, called ***edges***\n",
    "\n",
    "- Edges in a graph are either ***directed*** or ***undirected***\n",
    " - An edge $(u,v)$ is said to be ***directed*** from $u$ to $v$ if the pair $(u,v)$ is ordered, with $u$ preceding $v$. $(u,v) \\ne (v,u)$.\n",
    " - An edge $(u,v)$ is said to be ***undirected*** if the pair $(u,v)$ is not ordered. $(u,v) = (v,u)$. \n",
    "<br>\n",
    "<br>\n",
    "- Graphs are typically visualized by drawing vertices as ovals or rectangles, and the edges as segments or curves connecting pairs of vertices. The following are some examples of directed and undirected graphs:\n",
    "    - visualize collaborations among the researchers by constructing a graph\n",
    "        - vertices are associated with the researchers\n",
    "        - edges connect pairs of vertices associated with researchers who have coauthored a paper or book. \n",
    "        - Such edges are undirected because coauthorship is a ***symmetric*** relation; that is, if *A* has coauthored something with *B*, then *B* necessarily has coauthored something with *A*.\n",
    "    - associate with an object-oriented program a graph\n",
    "        - vertices represent the classes defined in the program\n",
    "        - edges indicate inheritance between classes i.e. there is an edge from a vertex $v$ to a vertex $u$ if the class for $v$ inherits from the class for $u$\n",
    "        - Such edges are directed because the inheritance relation only goes in one direction (that is, it is ***asymmetric***).\n",
    "<br>\n",
    "<br>\n",
    "- If all the edges in a graph are undirected, graph is an ***undirected graph***.\n",
    "\n",
    "- A ***directed graph***, also called a ***digraph***, is a graph whose edges are all directed. \n",
    "\n",
    "- A graph that has both directed and undirected edges is often called a ***mixed graph***.\n",
    "\n",
    "- An undirected or mixed graph can be converted into a directed graph by replacing every undirected edge (u,v) by the pair of directed edges (u,v) and (v,u)\n",
    "\n",
    "- It is often useful, however, to keep undirected and mixed graphs represented as they are, for such graphs have several applications, as in the following examples:\n",
    "    - A city map can be modeled as a mixed graph\n",
    "        - vertices are intersections or dead ends\n",
    "        - edges are stretches of streets without intersections\n",
    "        - this graph has both undirected edges, which correspond to stretches of two-way streets, and directed edges, which correspond to stretches of one-way streets.\n",
    "    - electrical wiring and plumbing networks of a building can be modeled as graphs\n",
    "        - each connector, fixture, or outlet is viewed as a vertex\n",
    "        - each uninterrupted  stretch of wire or pipe is viewed as an edge\n",
    "        - such graphs are actually components of much larger graphs, namely the local power and water distribution networks\n",
    "        - depending on the specific aspects of these graphs that we are interested in, we may consider their edges as undirected or directed, for, in principle, water can flow in a pipe and current can flow in a wire in either direction.\n",
    "<br>\n",
    "<br>\n",
    "- The two vertices joined by an edge are called the ***end vertices*** (or ***endpoints***) of the edge\n",
    "\n",
    "- If an edge is directed, its first endpoint is its ***origin*** and the other is the ***destination*** of the edge\n",
    "\n",
    "- Two vertices $u$ and $v$ are said to be ***adjacent*** if there is an edge whose end vertices are $u$ and $v$. \n",
    "\n",
    "- An edge is said to be ***incident*** to a vertex if the vertex is one of the edge’s endpoints. \n",
    "\n",
    "- The ***outgoing edges*** of a vertex are the directed edges whose origin is that vertex.\n",
    "\n",
    "- The ***incoming edges*** of a vertex are the directed edges whose destination is that vertex.\n",
    "\n",
    "- The ***degree*** of a vertex $v$, denoted $deg(v)$, is the number of incident edges of $v$.\n",
    "\n",
    "- The ***in-degree*** and ***out-degree*** of a vertex $v$ are the number of the incoming and outgoing edges of $v$, and are denoted $indeg(v)$ and $outdeg(v)$, respectively."
   ]
  },
  {
   "cell_type": "markdown",
   "metadata": {},
   "source": [
    "---"
   ]
  },
  {
   "cell_type": "markdown",
   "metadata": {},
   "source": [
    "**Example: Flight network**\n",
    "\n",
    "![Flight_Network](https://i.ibb.co/m5GCSL5/Slide35.png)\n",
    "\n",
    "Keys:  \n",
    "- ORD - O'Hare International Airport  \n",
    "- SFO - San Francisco International Airport  \n",
    "- DFW - Dallas/Fort Worth International Airport  \n",
    "- LAX - Los Angeles International Airport  \n",
    "- JFK - John F. Kennedy International Airport\n",
    "- MIA - Miami International Airport\n",
    "- BOS - Boston Logan International Airport\n",
    "\n",
    "We can study air transportation by constructing a graph $G$ (above), called a flight network"
   ]
  },
  {
   "cell_type": "markdown",
   "metadata": {},
   "source": [
    "  "
   ]
  },
  {
   "cell_type": "markdown",
   "metadata": {},
   "source": [
    "What do the vertices represent?"
   ]
  },
  {
   "cell_type": "raw",
   "metadata": {},
   "source": [
    "Answer: vertices are associated with airports."
   ]
  },
  {
   "cell_type": "markdown",
   "metadata": {},
   "source": [
    "  "
   ]
  },
  {
   "cell_type": "markdown",
   "metadata": {},
   "source": [
    "What do the edges represent?"
   ]
  },
  {
   "cell_type": "raw",
   "metadata": {},
   "source": [
    "Answer: edges are associated with flights."
   ]
  },
  {
   "cell_type": "markdown",
   "metadata": {},
   "source": [
    "  "
   ]
  },
  {
   "cell_type": "markdown",
   "metadata": {},
   "source": [
    "Is the graph directed or undirected? Why?"
   ]
  },
  {
   "cell_type": "raw",
   "metadata": {},
   "source": [
    "Answer: the edges are directed because a given flight has a specific travel direction"
   ]
  },
  {
   "cell_type": "markdown",
   "metadata": {},
   "source": [
    "  "
   ]
  },
  {
   "cell_type": "markdown",
   "metadata": {},
   "source": [
    "What do the endpoints of an edge $e$ in graph $G$ represent?"
   ]
  },
  {
   "cell_type": "raw",
   "metadata": {},
   "source": [
    "Answer: The endpoints of an edge e in G correspond respectively to the origin and destination of the flight corresponding to e."
   ]
  },
  {
   "cell_type": "markdown",
   "metadata": {},
   "source": [
    "  "
   ]
  },
  {
   "cell_type": "markdown",
   "metadata": {},
   "source": [
    "What does it mean when 2 airports are said to be adjacent to one another?"
   ]
  },
  {
   "cell_type": "raw",
   "metadata": {},
   "source": [
    "Answer: Two airports are adjacent if there is a flight that flies between them"
   ]
  },
  {
   "cell_type": "markdown",
   "metadata": {},
   "source": [
    "  "
   ]
  },
  {
   "cell_type": "markdown",
   "metadata": {},
   "source": [
    "What does it mean when a flight is incident to a airport?"
   ]
  },
  {
   "cell_type": "markdown",
   "metadata": {},
   "source": [
    "Answer: A flight (represented by an edge, e) is incident to an airport (represented by a vertex, v) if the flight (e) flies to or from the airport (v)"
   ]
  },
  {
   "cell_type": "markdown",
   "metadata": {},
   "source": [
    "  "
   ]
  },
  {
   "cell_type": "markdown",
   "metadata": {},
   "source": [
    "What do the outgoing edges of a vertex represent?"
   ]
  },
  {
   "cell_type": "raw",
   "metadata": {},
   "source": [
    "Answer: he outgoing edges of a vertex v correspond to the outbound flights from v’s airport"
   ]
  },
  {
   "cell_type": "markdown",
   "metadata": {},
   "source": [
    "  "
   ]
  },
  {
   "cell_type": "markdown",
   "metadata": {},
   "source": [
    "What do the incoming edges of a vertex represent?"
   ]
  },
  {
   "cell_type": "raw",
   "metadata": {},
   "source": [
    "Answer: the incoming edges of a vertex v correspond to the inbound flights to v’s airport. "
   ]
  },
  {
   "cell_type": "markdown",
   "metadata": {},
   "source": [
    "  "
   ]
  },
  {
   "cell_type": "markdown",
   "metadata": {},
   "source": [
    "What do the in-degree of a vertex represent?"
   ]
  },
  {
   "cell_type": "raw",
   "metadata": {},
   "source": [
    "Answer: the in-degree of a vertex corresponds to the number of inbound flights to airport"
   ]
  },
  {
   "cell_type": "markdown",
   "metadata": {},
   "source": [
    "  "
   ]
  },
  {
   "cell_type": "markdown",
   "metadata": {},
   "source": [
    "What do the out-degree of a vertex represent?"
   ]
  },
  {
   "cell_type": "raw",
   "metadata": {},
   "source": [
    "Answer: the out-degree of a vertex corresponds to the number of outbound flights from the airport."
   ]
  },
  {
   "cell_type": "markdown",
   "metadata": {},
   "source": [
    "  "
   ]
  },
  {
   "cell_type": "markdown",
   "metadata": {},
   "source": [
    "---"
   ]
  },
  {
   "cell_type": "markdown",
   "metadata": {},
   "source": [
    "## Basic Graph Terminologies II\n",
    "\n",
    "- the definition of a graph refers to the group of edges as a ***collection***. This allows for\n",
    "    - two undirected edges to have the same end vertices, and\n",
    "    - two directed edges to have the same origin and the same destination.\n",
    "    - Such edges are called ***parallel edges*** or ***multiple edges***\n",
    "    - A flight network can contain parallel edges, such that multiple edges between the same pair of vertices could indicate different flights operating on the same route at different times of the day.\n",
    "\n",
    "- another special type of edge is one that connects a vertex to itself.\n",
    "    - an edge (undirected or directed) is a self-loop if its two endpoints coincide\n",
    "    - A ***self-loop*** may occur in a graph associated with a city map, where it would correspond to a “circle” (a curving street that returns to its starting point).\n",
    "    \n",
    "- graphs that do not have parallel edges or self-loops are said to be ***simple***.\n",
    "    - edges of a simple graph are a ***set*** of vertex pairs (and not just a collection).\n",
    "    - Throughout this chapter, we assume that a graph is simple unless otherwise specified.\n",
    "    - If a graph is simple, we may omit the edges when describing path $P$ or cycle $C$, as these are well defined, in which case $P$ is a list of adjacent vertices and $C$ is a cycle of adjacent vertices.\n",
    "    \n",
    "    \n",
    "- a ***path*** is a sequence of alternating vertices and edges that starts at a vertex and ends at a vertex such that each edge is incident to its predecessor and successor vertex.\n",
    "\n",
    "- a ***cycle*** is a path that starts and ends at the same vertex, and that includes at least one edge\n",
    "\n",
    "- a path is ***simple*** if each vertex in the path is distinct, and we say that a cycle is ***simple*** if each vertex in the cycle is distinct, except for the first and last one\n",
    "\n",
    "- a ***directed path*** is a path such that all edges are directed and are traversed along their direction. A ***directed cycle*** is similarly defined."
   ]
  },
  {
   "cell_type": "markdown",
   "metadata": {},
   "source": [
    "---"
   ]
  },
  {
   "cell_type": "markdown",
   "metadata": {},
   "source": [
    "**Example 2: Flight network (cont'd)**\n",
    "\n",
    "![Flight_Network](https://i.ibb.co/m5GCSL5/Slide35.png)\n",
    "\n",
    "Keys:  \n",
    "- ORD - O'Hare International Airport  \n",
    "- SFO - San Francisco International Airport  \n",
    "- DFW - Dallas/Fort Worth International Airport  \n",
    "- LAX - Los Angeles International Airport  \n",
    "- JFK - John F. Kennedy International Airport\n",
    "- MIA - Miami International Airport\n",
    "- BOS - Boston Logan International Airport"
   ]
  },
  {
   "cell_type": "markdown",
   "metadata": {},
   "source": [
    "  "
   ]
  },
  {
   "cell_type": "markdown",
   "metadata": {},
   "source": [
    "Name an example of a directed simple path."
   ]
  },
  {
   "cell_type": "raw",
   "metadata": {},
   "source": [
    "Answer: (BOS)  --NW35-->  (JFK) --AA1387-->  (DFW)"
   ]
  },
  {
   "cell_type": "markdown",
   "metadata": {},
   "source": [
    "  "
   ]
  },
  {
   "cell_type": "markdown",
   "metadata": {},
   "source": [
    "Name an example of a directed simple cycle."
   ]
  },
  {
   "cell_type": "raw",
   "metadata": {},
   "source": [
    "Answer: (LAX) --UA120--> (ORD) --UA877--> (DFW) --AA49--> (LAX)"
   ]
  },
  {
   "cell_type": "markdown",
   "metadata": {},
   "source": [
    "  "
   ]
  },
  {
   "cell_type": "markdown",
   "metadata": {},
   "source": [
    "Name an example of a directed graph with a cycle consisting of two edges with opposite direction between the same pair of vertices."
   ]
  },
  {
   "cell_type": "raw",
   "metadata": {},
   "source": [
    "Answer: (ORD) --UA877--> (DFW) --DL335--> (ORD)"
   ]
  },
  {
   "cell_type": "markdown",
   "metadata": {},
   "source": [
    "  "
   ]
  },
  {
   "cell_type": "markdown",
   "metadata": {},
   "source": [
    "Is the graph an acyclic graph? Why?"
   ]
  },
  {
   "cell_type": "raw",
   "metadata": {},
   "source": [
    "Answer: No. It is only acyclic if we remove the edge DL335 from the graph. "
   ]
  },
  {
   "cell_type": "markdown",
   "metadata": {},
   "source": [
    "---"
   ]
  },
  {
   "cell_type": "markdown",
   "metadata": {},
   "source": [
    "## Basic Graph Terminologies III\n",
    "\n",
    "- given vertices $u$ and $v$ of a (directed) graph $G$\n",
    "    - we say that $u$ reaches $v$, and\n",
    "    - $v$ is reachable from $u$, if $G$ has a (directed) path from $u$ to $v$. \n",
    "<br>\n",
    "<br>\n",
    "- In an undirected graph, the notion of reachability is symmetric\n",
    "    - $u$ reaches $v$ if an only if $v$ reaches $u$.\n",
    "<br>\n",
    "<br>\n",
    "- However, in a directed graph, it is possible that $u$ reaches $v$ but $v$ does not reach $u$,\n",
    "    - because a directed path must be traversed according to the respective directions of the edges.\n",
    "    \n",
    "- A graph is ***connected*** if, for any two vertices, there is a path between them.\n",
    "\n",
    "- A directed graph $G$ is ***strongly connected*** if for any two vertices $u$ and $v$ of $G$, $u$ reaches $v$ and $v$ reaches $u$."
   ]
  },
  {
   "cell_type": "markdown",
   "metadata": {},
   "source": [
    "|   ![Reachability 1](https://i.ibb.co/CvYz9TT/Slide36.png)    |\n",
    "| :----------------------------------------------------------: |\n",
    "|   ![Reachability 2](https://i.ibb.co/mhxWj46/Slide37.png)   |"
   ]
  },
  {
   "cell_type": "markdown",
   "metadata": {},
   "source": [
    "---"
   ]
  },
  {
   "cell_type": "markdown",
   "metadata": {},
   "source": [
    "## Basic Graph Terminologies IV\n",
    "\n",
    "- a ***subgraph*** of a graph G is a graph H whose vertices and edges are subsets of the vertices and edges of G, respectively\n",
    "\n",
    "- a ***spanning subgraph*** of G is a subgraph of G that contains all the vertices of the graph G.\n",
    "\n",
    "- If a graph G is not connected, its maximal connected subgraphs are called the connected components of G.\n",
    "\n",
    "- A ***forest*** is a graph without cycles.\n",
    "\n",
    "- A ***tree*** is a connected forest, that is, a connected graph without cycles.\n",
    "\n",
    "- A ***spanning tree*** of a graph is a spanning subgraph that is a tree. (Note that this definition of a tree is somewhat different from the one given in Trees, as there is not necessarily a designated root.)"
   ]
  },
  {
   "cell_type": "markdown",
   "metadata": {},
   "source": [
    "---"
   ]
  },
  {
   "attachments": {
    "b367ffc0-b3c1-492c-93aa-aaa270d90329.png": {
     "image/png": "[encoded data removed]"
    }
   },
   "cell_type": "markdown",
   "metadata": {},
   "source": [
    "## Basic Graph Terminologies V\n",
    "\n",
    "- In many applications, each edge of a graph has an associated numerical value, called a **weight**.\n",
    "\n",
    "- it is also often referred to as the **cost** of the edge\n",
    "\n",
    "- the edge weights are often non-negative integers\n",
    "\n",
    "- weighted graphs may either be directed or undirected\n",
    "\n",
    "- e.g. the weight may be a measure of the length of a route, the capacity of a line, the energy required to move between locations along a route, etc.\n",
    "\n",
    "![image.png](attachment:b367ffc0-b3c1-492c-93aa-aaa270d90329.png)"
   ]
  },
  {
   "cell_type": "markdown",
   "metadata": {},
   "source": [
    "---"
   ]
  },
  {
   "cell_type": "markdown",
   "metadata": {},
   "source": [
    "## Graph Representation\n",
    "\n",
    "Graphs can be represented in two main forms:\n",
    "- ***adjacency list***\n",
    "- ***adjacency matrix***.\n",
    "\n",
    "We shall be working with the following figure to develop both types of representation for the following graph:\n",
    "\n",
    "![Graph representation](https://i.ibb.co/T2SKvzf/Slide38.png)"
   ]
  },
  {
   "cell_type": "markdown",
   "metadata": {},
   "source": [
    "**Adjacency List**\n",
    "\n",
    "- A simple list may be used to present a graph.\n",
    "    - the indices of the list will represent the nodes or vertices in the graph\n",
    "    - at each index, the adjacent nodes to that vertex can be stored.  \n",
    "\n",
    "| Index | Vertex | Adjacent Vertices |\n",
    "| ----- | ------ | ----------------- |\n",
    "| 0     | A      | B,C               |\n",
    "| 1     | B      | E, A              |\n",
    "| 2     | C      | A, B, E, F        |\n",
    "| 3     | E      | B, C              |\n",
    "| 4     | F      | C                 |\n",
    "\n",
    "As shown in the table above, index 0 represents vertex A, with its adjacent vertices being B and C.\n",
    "\n",
    "- Using a list for the representation is quite restrictive because we lack the ability to directly use the vertex labels. \n",
    "\n",
    "- <u>A dictionary is therefore more suited</u>\n",
    "\n",
    "- To represent the graph in the diagram above, we can use the following statements:"
   ]
  },
  {
   "cell_type": "code",
   "execution_count": null,
   "metadata": {},
   "outputs": [],
   "source": [
    "graph = dict()\n",
    "graph['A'] = ['B', 'C']\n",
    "graph['B'] = ['E','A']\n",
    "graph['C'] = ['A', 'B', 'E','F']\n",
    "graph['E'] = ['B', 'C']\n",
    "graph['F'] = ['C']\n",
    "\n",
    "graph"
   ]
  },
  {
   "cell_type": "markdown",
   "metadata": {},
   "source": [
    "- can easily establish that vertex A has the adjacent vertices B and C\n",
    "\n",
    "- Vertex F has only vertex C as its neighbor "
   ]
  },
  {
   "cell_type": "markdown",
   "metadata": {},
   "source": [
    "- The performance of Adjacency List can be summarised below\n",
    "\n",
    "| Operation          | Time Complexity           |\n",
    "|:-------------------|:--------------------------|\n",
    "| vertex_count()     | O($1$)                    |\n",
    "| edge_count()       | O($1$)                    |\n",
    "| vertices()         | O($n$)                    |\n",
    "| edges()            | O($m$)                    |\n",
    "| get_edge(u,v)      | O($min(deg(u)$,$deg(v))$) |\n",
    "| degree(v)          | O($1$)                    |\n",
    "| incident_edges(v)  | O($deg(v)$)               |\n",
    "| insert_vertex(x)   | O($1$)                    |\n",
    "| insert_edge(u,v,x) | O($1$)                    |\n",
    "| remove_edge(e)     | O($1$)                    |\n",
    "| remove_vertex(v)   | O($deg(v)$)               |\n",
    "\n",
    "- Space used is O($n+m$) where $n$ is the number of vertices and $m$ is the number of edges"
   ]
  },
  {
   "cell_type": "markdown",
   "metadata": {},
   "source": [
    "  "
   ]
  },
  {
   "cell_type": "markdown",
   "metadata": {},
   "source": [
    "**Adjacency Matrix**\n",
    "\n",
    "- an adjacency matrix is a 2D-array\n",
    "\n",
    "- the idea is to represent the cells with a 1 or 0 depending on whether two vertices are connected by an edge.\n",
    "\n",
    "- Given an adjacency list, it should be possible to create an adjacency matrix. \n",
    "\n",
    "A sorted list of keys of graph is required:"
   ]
  },
  {
   "cell_type": "code",
   "execution_count": null,
   "metadata": {},
   "outputs": [],
   "source": [
    "matrix_elements = sorted(graph.keys())\n",
    "cols = rows = len(matrix_elements)"
   ]
  },
  {
   "cell_type": "markdown",
   "metadata": {},
   "source": [
    "The length of the keys is used to provide the dimensions of the matrix which are stored in cols and rows. These values in cols and rows are equal:"
   ]
  },
  {
   "cell_type": "code",
   "execution_count": null,
   "metadata": {},
   "outputs": [],
   "source": [
    "adjacency_matrix = [[0 for x in range(rows)] for y in range(cols)]\n",
    "edges_list = []"
   ]
  },
  {
   "cell_type": "markdown",
   "metadata": {},
   "source": [
    "We then set up a cols by rows array, filling it with zeros. \n",
    "\n",
    "The `edges_list` variable will store the tuples that form the edges of in the graph. For example, an edge between node A and B will be stored as (A, B).\n",
    "\n",
    "The multidimensional array is filled using a nested for loop:"
   ]
  },
  {
   "cell_type": "code",
   "execution_count": null,
   "metadata": {},
   "outputs": [],
   "source": [
    "for key in matrix_elements:\n",
    "    for neighbor in graph[key]:\n",
    "        edges_list.append((key,neighbor))"
   ]
  },
  {
   "cell_type": "markdown",
   "metadata": {},
   "source": [
    "The neighbors of a vertex are obtained by `graph[key]`.\n",
    "\n",
    "The key in combination with the `neighbor` is then used to create the tuple stored in `edges_list`."
   ]
  },
  {
   "cell_type": "code",
   "execution_count": null,
   "metadata": {},
   "outputs": [],
   "source": [
    "edges_list"
   ]
  },
  {
   "cell_type": "markdown",
   "metadata": {},
   "source": [
    "What needs to be done now is to fill the our multidimensional array by using 1 to mark the presence of an edge with the line:"
   ]
  },
  {
   "cell_type": "code",
   "execution_count": null,
   "metadata": {},
   "outputs": [],
   "source": [
    "for edge in edges_list:\n",
    "    index_of_first_vertex = matrix_elements.index(edge[0])\n",
    "    index_of_second_vertex = matrix_elements.index(edge[1])\n",
    "    adjacency_matrix[index_of_first_vertex][index_of_second_vertex] = 1"
   ]
  },
  {
   "cell_type": "markdown",
   "metadata": {},
   "source": [
    "The `matrix_elements` array has its `rows` and `cols` starting from A through to E with the indices 0 through to 5.\n",
    "\n",
    "The `for` loop iterates through our list of tuples and uses the index method to get the corresponding index where an edge is to be stored."
   ]
  },
  {
   "cell_type": "code",
   "execution_count": null,
   "metadata": {},
   "outputs": [],
   "source": [
    "adjacency_matrix"
   ]
  },
  {
   "cell_type": "markdown",
   "metadata": {},
   "source": [
    "At column 1 and row 1, the 0 there represents the absence of an edge between A and A. \n",
    "\n",
    "On column 2 and row 3, there is an edge between C and B.\n",
    "\n",
    "We have seen how the the adjacency list and adjacency matrix of an undirected and unweighted graph can be implemented. \n",
    "\n",
    "<u>However, it is important to note that both methods of representing graphs can also be applied to directed and/or weighted graphs. We will be exploring these graphs in the exercises.</u>"
   ]
  },
  {
   "cell_type": "markdown",
   "metadata": {},
   "source": [
    "- The most significant advantage of an adjacency matrix is that any edge (u,v) can be accessed in worst-case O($1$) time\n",
    "\n",
    "- However, several operation are less efficient with an adjacency matrix. \n",
    "    - to find the edges incident to vertex v, we must presumably examine all n entries in the row associated with v i.e. O($n$) as compared to adjacency listthat  can locate those edges in optimal O($deg(v)$) time.\n",
    "    - Adding or removing vertices from a graph is problematic, as the matrix must be resized.\n",
    "<br>\n",
    "<br>\n",
    "- Furthermore, the O($n^2$) space usage of an adjacency matrix is typically far worse than the O($n+m$) space required of the other representations.\n",
    "    - Although, in the worst case, the number of edges in a dense graph will be proportional to $n^2$, most real-world graphs are sparse. In such cases, use of an adjacency matrix is inefficient.\n",
    "    - However, if a graph is dense, the constants of proportionality of an adjacency matrix can be smaller than that of an adjacency list or map.\n",
    "    - In fact, if edges do not have auxiliary data, a Boolean adjacency matrix can use one bit per edge slot, such that A[i, j] = True if and only if associated (u,v) is an edge."
   ]
  },
  {
   "cell_type": "markdown",
   "metadata": {},
   "source": [
    "---"
   ]
  },
  {
   "cell_type": "markdown",
   "metadata": {},
   "source": [
    "## Graph Traversal\n",
    "\n",
    "- graphs do not necessarily have an ordered structure\n",
    "\n",
    "- Traversal normally involves keeping track of which nodes or vertices have already been visited and which ones have not.\n",
    "\n",
    "- A common strategy is to follow a path until a dead end is reached, then walking back up until there is a point where there is an alternative path\n",
    "\n",
    "- We can also iteratively move from one node to another in order to traverse the full graph or part of it.\n",
    "\n",
    "- Two main types of traversal:\n",
    "    - breadth first search\n",
    "    - depth-first search"
   ]
  },
  {
   "cell_type": "markdown",
   "metadata": {},
   "source": [
    "---"
   ]
  },
  {
   "cell_type": "markdown",
   "metadata": {},
   "source": [
    "**Breadth-First Search (BFS)**\n",
    "\n",
    "> The breadth-first search algorithm starts at a node, chooses that node or vertex as its root node, and visits the neighboring nodes, after which it explores neighbors on the next level of the graph."
   ]
  },
  {
   "cell_type": "markdown",
   "metadata": {},
   "source": [
    "Consider the following example of undirected graph:\n",
    "\n",
    "![Graph traversal](https://i.ibb.co/r4G4npG/Slide39.png)"
   ]
  },
  {
   "cell_type": "markdown",
   "metadata": {},
   "source": [
    "Construct the adjacency list for the graph above:"
   ]
  },
  {
   "cell_type": "code",
   "execution_count": null,
   "metadata": {},
   "outputs": [],
   "source": [
    "graph = dict()\n",
    "graph['A'] = ['B', 'G', 'D']\n",
    "graph['B'] = ['A', 'F', 'E']\n",
    "graph['C'] = ['F', 'H']\n",
    "graph['D'] = ['F', 'A']\n",
    "graph['E'] = ['B', 'G']\n",
    "graph['F'] = ['B', 'D', 'C']\n",
    "graph['G'] = ['A', 'E']\n",
    "graph['H'] = ['C']\n",
    "\n",
    "graph"
   ]
  },
  {
   "cell_type": "markdown",
   "metadata": {},
   "source": [
    "**BFS Algorithm**"
   ]
  },
  {
   "cell_type": "code",
   "execution_count": null,
   "metadata": {},
   "outputs": [],
   "source": [
    "from collections import deque\n",
    "\n",
    "def breadth_first_search(graph, root):\n",
    "    visited_vertices = []\n",
    "    graph_queue = deque([root])\n",
    "    visited_vertices.append(root)\n",
    "    node = root\n",
    "    \n",
    "    while len(graph_queue) > 0:\n",
    "        node = graph_queue.popleft()\n",
    "        adj_nodes = graph[node]\n",
    "        remaining_elements = set(adj_nodes).difference(set(visited_vertices))\n",
    "        if len(remaining_elements) > 0:\n",
    "            for elem in sorted(remaining_elements):\n",
    "                visited_vertices.append(elem)\n",
    "                graph_queue.append(elem)\n",
    "    \n",
    "    return visited_vertices\n",
    "\n",
    "breadth_first_search(graph, 'A')"
   ]
  },
  {
   "cell_type": "markdown",
   "metadata": {},
   "source": [
    "  "
   ]
  },
  {
   "cell_type": "markdown",
   "metadata": {},
   "source": [
    "**BFS Algorithm Explanation**\n",
    "\n",
    "- we will employ the use of a queue\n",
    "\n",
    "- the algorithm creates a list to store the nodes that have been visited as the traversal process proceeds\n",
    "\n",
    "- starting from node A\n",
    "\n",
    "- Node A is queued and added to the list of visited nodes\n",
    "\n",
    "- Then we use a `while` loop to effect traversal of the graph. \n",
    "\n",
    "- In the `while` loop, node A is dequeued.\n",
    "\n",
    "- Its unvisited adjacent nodes B, G, and D are sorted in alphabetical order and queued up.\n",
    "\n",
    "- The queue will now contain the nodes B, D, and G.\n",
    "\n",
    "- These nodes are also added to the list of visited nodes.\n",
    "\n",
    "- At this point, we start another iteration of the `while` loop because the queue is not empty, which also means we are not really done with the traversal.\n",
    "\n",
    "- Node B is dequeued.\n",
    "\n",
    "- Out of its adjacent nodes A, F, and E, node A has already been visited. Therefore, we only enqueue the nodes E and F in alphabetical order.\n",
    "\n",
    "- Nodes E and F are then added to the list of visited nodes. \n",
    "\n",
    "- Our queue now holds the following nodes at this point: D, G, E, and F. \n",
    "- The list of visited nodes contains A, B, D, G, E, F.\n",
    "\n",
    "- Node D is dequeued but all of its adjacent nodes have been visited so we simply dequeue it.\n",
    "\n",
    "- The next node at the front of the queue is G. We dequeue node G but we also find out that all its adjacent nodes have been visited because they are in the list of visited nodes. \n",
    "\n",
    "- Node G is also dequeued.\n",
    "\n",
    "- We dequeue node E too because all of its nodes have been visited. The only node in the queue now is node F.\n",
    "\n",
    "- Node F is dequeued and we realize that out of its adjacent nodes B, D, and C, only node C has not been visited.\n",
    "\n",
    "- We then enqueue node C and add it to the list of visited nodes. \n",
    "\n",
    "- Node C is dequeued.\n",
    "\n",
    "- Node C has the adjacent nodes F and H but F has already been visited, leaving node H. \n",
    "\n",
    "- Node H is enqueued and added to the list of visited nodes.\n",
    "\n",
    "- Finally, the last iteration of the `while` loop will lead to node H being dequeued. Its only adjacent node C has already been visited. \n",
    "\n",
    "- Once the queue is completely empty, the loop breaks\n",
    "\n",
    "- When we want to find out whether a set of nodes are in the list of visited nodes, we use the statement `remaining_elements = set(adj_nodes).difference(set(visited_vertices))`. This uses the set object's difference method to find the nodes that are in `adj_nodes` but not in `visited_vertices`.\n",
    "\n",
    "- In the worst-case scenario, each vertex or node and edge will be traversed, thus the time complexity of the algorithm is $O(|V| + |E|)$, where $|V|$ is the number of vertices or nodes while $|E|$ is the number of edges in the graph."
   ]
  },
  {
   "cell_type": "markdown",
   "metadata": {},
   "source": [
    "---"
   ]
  },
  {
   "cell_type": "markdown",
   "metadata": {},
   "source": [
    "**Depth-First Search (DFS)**\n",
    "\n",
    "> This algorithm traverses the depth of any particular path in the graph before traversing its breadth. As such, child nodes are visited first before sibling nodes. It works on finite graphs and requires the use of a stack to maintain the state of the algorithm:"
   ]
  },
  {
   "cell_type": "markdown",
   "metadata": {},
   "source": [
    "Consider the following undirected graph:\n",
    "\n",
    "![Graph traversal](https://i.ibb.co/5RsPZ3T/Slide40.png)"
   ]
  },
  {
   "cell_type": "markdown",
   "metadata": {},
   "source": [
    "The adjacency list of such a graph is given as follows:"
   ]
  },
  {
   "cell_type": "markdown",
   "metadata": {},
   "source": [
    "  "
   ]
  },
  {
   "cell_type": "markdown",
   "metadata": {},
   "source": [
    "**DFS Algorithm**"
   ]
  },
  {
   "cell_type": "code",
   "execution_count": 1,
   "metadata": {
    "ExecuteTime": {
     "end_time": "2020-12-02T05:03:31.592186Z",
     "start_time": "2020-12-02T05:03:31.582171Z"
    }
   },
   "outputs": [
    {
     "data": {
      "text/plain": [
       "{'A': ['B', 'S'],\n",
       " 'B': ['A'],\n",
       " 'S': ['A', 'G', 'C'],\n",
       " 'D': ['C'],\n",
       " 'G': ['S', 'F', 'H'],\n",
       " 'H': ['G'],\n",
       " 'E': ['C'],\n",
       " 'F': ['C', 'G'],\n",
       " 'C': ['D', 'S', 'E', 'F']}"
      ]
     },
     "execution_count": 1,
     "metadata": {},
     "output_type": "execute_result"
    }
   ],
   "source": [
    "graph = dict()\n",
    "graph['A'] = ['B', 'S']\n",
    "graph['B'] = ['A']\n",
    "graph['S'] = ['A','G','C']\n",
    "graph['D'] = ['C']\n",
    "graph['G'] = ['S','F','H']\n",
    "graph['H'] = ['G']\n",
    "graph['E'] = ['C']\n",
    "graph['F'] = ['C','G']\n",
    "graph['C'] = ['D','S','E','F']\n",
    "\n",
    "graph"
   ]
  },
  {
   "cell_type": "code",
   "execution_count": null,
   "metadata": {
    "ExecuteTime": {
     "end_time": "2020-12-02T04:07:10.716374Z",
     "start_time": "2020-12-02T04:07:10.694342Z"
    }
   },
   "outputs": [],
   "source": [
    "def depth_first_search(graph, root):\n",
    "    visited_vertices = []\n",
    "    graph_stack = []\n",
    "    graph_stack.append(root)\n",
    "    node = root\n",
    "    while len(graph_stack) > 0:\n",
    "        if node not in visited_vertices:\n",
    "            visited_vertices.append(node)\n",
    "        \n",
    "        adj_nodes = graph[node]\n",
    "\n",
    "        # *\n",
    "        if set(adj_nodes).issubset(set(visited_vertices)):\n",
    "            graph_stack.pop()\n",
    "            if len(graph_stack) > 0:\n",
    "                node = graph_stack[-1]\n",
    "            continue\n",
    "        else:\n",
    "            remaining_elements = set(adj_nodes).difference(set(visited_vertices))\n",
    "        \n",
    "        # **\n",
    "        first_adj_node = sorted(remaining_elements)[0]\n",
    "        graph_stack.append(first_adj_node)\n",
    "        node = first_adj_node\n",
    "    return visited_vertices    \n",
    "\n",
    "depth_first_search(graph, 'A')"
   ]
  },
  {
   "cell_type": "code",
   "execution_count": 7,
   "metadata": {
    "ExecuteTime": {
     "end_time": "2020-12-02T05:18:45.474642Z",
     "start_time": "2020-12-02T05:18:45.459681Z"
    }
   },
   "outputs": [
    {
     "name": "stdout",
     "output_type": "stream",
     "text": [
      "----------\n",
      "Node:  A\n",
      "Graph[Node]:  ['B', 'S']\n",
      "Frontier ['B', 'S']\n",
      "Visited ['A']\n",
      "----------\n",
      "Node:  S\n",
      "Graph[Node]:  ['A', 'G', 'C']\n",
      "Frontier ['B', 'G', 'C']\n",
      "Visited ['A', 'S']\n",
      "----------\n",
      "Node:  C\n",
      "Graph[Node]:  ['D', 'S', 'E', 'F']\n",
      "Frontier ['B', 'G', 'D', 'E', 'F']\n",
      "Visited ['A', 'S', 'C']\n",
      "----------\n",
      "Node:  F\n",
      "Graph[Node]:  ['C', 'G']\n",
      "Frontier ['B', 'G', 'D', 'E']\n",
      "Visited ['A', 'S', 'C', 'F']\n",
      "----------\n",
      "Node:  E\n",
      "Graph[Node]:  ['C']\n",
      "Frontier ['B', 'G', 'D']\n",
      "Visited ['A', 'S', 'C', 'F', 'E']\n",
      "----------\n",
      "Node:  D\n",
      "Graph[Node]:  ['C']\n",
      "Frontier ['B', 'G']\n",
      "Visited ['A', 'S', 'C', 'F', 'E', 'D']\n",
      "----------\n",
      "Node:  G\n",
      "Graph[Node]:  ['S', 'F', 'H']\n",
      "Frontier ['B', 'H']\n",
      "Visited ['A', 'S', 'C', 'F', 'E', 'D', 'G']\n",
      "----------\n",
      "Node:  H\n",
      "Graph[Node]:  ['G']\n",
      "Frontier ['B']\n",
      "Visited ['A', 'S', 'C', 'F', 'E', 'D', 'G', 'H']\n",
      "----------\n",
      "Node:  B\n",
      "Graph[Node]:  ['A']\n",
      "Frontier []\n",
      "Visited ['A', 'S', 'C', 'F', 'E', 'D', 'G', 'H', 'B']\n",
      "----------\n"
     ]
    },
    {
     "data": {
      "text/plain": [
       "['A', 'S', 'C', 'F', 'E', 'D', 'G', 'H', 'B']"
      ]
     },
     "execution_count": 7,
     "metadata": {},
     "output_type": "execute_result"
    }
   ],
   "source": [
    "def depth_first_search(graph, root):\n",
    "    import copy\n",
    "    graph = copy.deepcopy(graph)\n",
    "    visited_vertices = []\n",
    "    frontier = []\n",
    "    \n",
    "    frontier.append(root)    \n",
    "    print(\"-\"*10)\n",
    "    while len(frontier)>0:\n",
    "        \n",
    "        node = frontier.pop()\n",
    "        print(\"Node: \", node)\n",
    "        print(\"Graph[Node]: \", graph[node])\n",
    "        visited_vertices.append(node)\n",
    "        \n",
    "        for neiNode in graph[node]:\n",
    "            if neiNode not in visited_vertices and neiNode not in frontier: # Important to check if it is not in frontier\n",
    "                # you don't want to duplicate nodes in the frontier.\n",
    "                frontier.append(neiNode)\n",
    "            else:\n",
    "                continue\n",
    "        print(\"Frontier\", frontier)\n",
    "        print(\"Visited\", visited_vertices)\n",
    "        print(\"-\"*10)\n",
    "    \n",
    "    return visited_vertices\n",
    "\n",
    "depth_first_search(graph, 'A')"
   ]
  },
  {
   "cell_type": "code",
   "execution_count": null,
   "metadata": {},
   "outputs": [],
   "source": []
  },
  {
   "cell_type": "markdown",
   "metadata": {},
   "source": [
    "![Graph traversal](https://i.ibb.co/5RsPZ3T/Slide40.png)"
   ]
  },
  {
   "cell_type": "markdown",
   "metadata": {},
   "source": [
    "- The algorithm begins by creating a list to store the visited nodes.\n",
    "\n",
    "- The `graph_stack` variable is used to aid the traversal process.\n",
    "\n",
    "- The starting node, called `root`, is passed with the graph's adjacency matrix, graph. `root` is pushed onto the stack. \n",
    "\n",
    "- `node = root` holds the first node in the stack.\n",
    "\n",
    "- The body of the `while` loop will be executed provided the stack is not empty.\n",
    "\n",
    "- If `node` is not in the list of visited nodes, we add it.\n",
    "\n",
    "- All adjacent nodes to `node` are collected by `adj_nodes = graph[node]`.\n",
    "\n",
    "- If all the adjacent nodes have been visited, we pop that node from the stack and set node to `graph_stack[-1]`. `graph_stack[-1]` is the top node on the stack. \n",
    "\n",
    "- The `continue` statement jumps back to the beginning of the `while` loop's test condition.\n",
    "\n",
    "- If, on the other hand, not all the adjacent nodes have been visited, the nodes that are yet to be visited are obtained by finding the difference between the `adj_nodes` and `visited_vertices` with the statement `remaining_elements = set(adj_nodes).difference(set(visited_vertices))`.\n",
    "\n",
    "- The first item within `sorted(remaining_elements)` is assigned to `first_adj_node`, and pushed onto the stack. We then point the top of the stack to this node.\n",
    "\n",
    "- When the `while` loop exists, we will return the `visited_vertices`.\n",
    "\n",
    "- Node A is chosen as our beginning node.\n",
    "\n",
    "- Node A is pushed onto the stack and added to the `visited_vertices` list, marking it as having been visited.\n",
    "\n",
    "- Our stack now has A as its only element. We examine node A's adjacent nodes B and S.\n",
    "\n",
    "- To test whether all the adjacent nodes of A have been visited, we use the  following `if` statements:"
   ]
  },
  {
   "cell_type": "markdown",
   "metadata": {},
   "source": [
    "```python\n",
    "# *\n",
    "if set(adj_nodes).issubset(set(visited_vertices)):\n",
    "    graph_stack.pop()\n",
    "if len(graph_stack) > 0:\n",
    "    node = graph_stack[-1]\n",
    "continue\n",
    "```"
   ]
  },
  {
   "cell_type": "markdown",
   "metadata": {},
   "source": [
    "- If all the nodes have been visited, we pop the top of the stack.\n",
    "\n",
    "- If the stack `graph_stack` is not empty, we assign the node on top of the stack to `node` and start the beginning of another execution of the body of the `while` loop.\n",
    "\n",
    "- The statement `set(adj_nodes).issubset(set(visited_vertices))` will evaluate to `True` if all the nodes in `adj_nodes` are a subset of `visited_vertices`.\n",
    "\n",
    "- If the `if` statement fails, it means that some nodes remain to be visited. We obtain that list of nodes with `remaining_elements = set(adj_nodes).difference(set(visited_vertices))`.\n",
    "\n",
    "- From the diagram, nodes B and S will be stored in `remaining_elements`.\n",
    "\n",
    "- We will access the list in alphabetical order:"
   ]
  },
  {
   "cell_type": "markdown",
   "metadata": {},
   "source": [
    "```python\n",
    "# **\n",
    "first_adj_node = sorted(remaining_elements)[0]\n",
    "graph_stack.append(first_adj_node)\n",
    "node = first_adj_node\n",
    "```"
   ]
  },
  {
   "cell_type": "markdown",
   "metadata": {},
   "source": [
    "- We sort `remaining_elements` and return the first node to `first_adj_node`. This will return B.\n",
    "\n",
    "- We push node B onto the stack by appending it to the `graph_stack`.\n",
    "\n",
    "- We prepare node B for access by assigning it to `node`.\n",
    "\n",
    "- On the next iteration of the `while` loop, we add node B to the list of visited nodes. \n",
    "\n",
    "- We discover that the only adjacent node to B, which is A, has already been visited.\n",
    "\n",
    "- Because all the adjacent nodes of B have been visited, we pop it off the stack, leaving node A as the only element on the stack. \n",
    "\n",
    "- We return to node A and examine whether all of its adjacent nodes have been visited.\n",
    "\n",
    "- The node A now has S as the only unvisited node.\n",
    "\n",
    "- We push S to the stack and begin the whole process again.\n",
    "\n",
    "- Depth-first searches find application in solving maze problems, finding connected components, and finding the bridges of a graph, among others."
   ]
  },
  {
   "cell_type": "markdown",
   "metadata": {},
   "source": [
    "---"
   ]
  },
  {
   "cell_type": "markdown",
   "metadata": {},
   "source": [
    "## Directed Acyclic Graph (DAG)\n",
    "\n",
    "- Directed graphs without directed cycles are often referred to as a ***directed acyclic graphs***, or ***DAGs***, for short.\n",
    "\n",
    "- One such application of a DAG includes the scheduling constraints between the tasks of a project\n",
    "    - In order to manage a large project, it is convenient to break it up into a collection of smaller tasks.\n",
    "    - The tasks, however, are rarely independent, because scheduling constraints exist between them.\n",
    "    - For example, in a house building project, the task of ordering nails obviously precedes the task of nailing shingles to the roof deck.\n",
    "    - Clearly, scheduling constraints cannot have circularities, because they would make the project impossible.\n",
    "    - The scheduling constraints impose restrictions on the order in which the tasks can be executed.\n",
    "    - Namely, if a constraint says that task $a$ must be completed before task $b$ is started, then $a$ must precede $b$ in the order of execution of the tasks. \n",
    "    - Thus, if we model a feasible set of tasks as vertices of a directed graph, and we place a directed edge from $u$ to $v$ whenever the task for $u$ must be executed before the task for $v$, then we define a *directed acyclic graph*."
   ]
  },
  {
   "cell_type": "markdown",
   "metadata": {},
   "source": [
    "Consider the following DAG:\n",
    "\n",
    "![DAG](https://i.ibb.co/S7t7mrn/Slide41.png)"
   ]
  },
  {
   "cell_type": "markdown",
   "metadata": {},
   "source": [
    "- While we can use adjacency list or matrix to represent the DAG above, we shall use a Python package called NetworkX instead.\n",
    "\n",
    "- NetworkX provides a standard programming interface and graph implementation that is suitable for many applications including designing, generating and drawing network models. You may need to install it (refer [here](https://networkx.github.io/documentation/stable/))."
   ]
  },
  {
   "cell_type": "code",
   "execution_count": null,
   "metadata": {},
   "outputs": [],
   "source": [
    "import networkx as nx\n",
    "\n",
    "graph = nx.DiGraph()\t# DiGraph is short for \"directed graph\"\n",
    "graph.add_edges_from([(\"root\", \"a\"), (\"a\", \"b\"), (\"a\", \"e\"), (\"b\", \"c\"), (\"b\", \"d\"), (\"d\", \"e\")])"
   ]
  },
  {
   "cell_type": "markdown",
   "metadata": {},
   "source": [
    "- The directed graph is modeled as a list of tuples that connect the nodes.\n",
    "\n",
    "- Remember that these connections are referred to as “edges” in graph nomenclature.\n",
    "\n",
    "- Take another look at the graph image and observe how all the arguments to `add_edges_from` match up with the arrows in the graph.\n",
    "\n",
    "- NetworkX is 'smart' enough to infer the nodes from a collection of edges. \n",
    "\n",
    "- Calling `graph.nodes()` will output:"
   ]
  },
  {
   "cell_type": "code",
   "execution_count": null,
   "metadata": {},
   "outputs": [],
   "source": [
    "graph.nodes()"
   ]
  },
  {
   "cell_type": "markdown",
   "metadata": {},
   "source": [
    "**Topological Sorting**\n",
    "\n",
    "- ***Topological sorting (or topological ordering)*** is a form of sorting of a DAG such that for every directed edge from node $u$ to node $v$, $u$ comes before $v$ in the order.\n",
    "\n",
    "- For a directed graph to have a topological ordering, it must be acyclic.\n",
    "\n",
    "- We can verify by using `nx.is_directed_acyclic_graph(graph)`:"
   ]
  },
  {
   "cell_type": "code",
   "execution_count": null,
   "metadata": {},
   "outputs": [],
   "source": [
    "nx.is_directed_acyclic_graph(graph)"
   ]
  },
  {
   "cell_type": "markdown",
   "metadata": {},
   "source": [
    "- Our graph has nodes (A, B, C, etc.) and directed edges (AB, BC, BD, DE, etc.).\n",
    "\n",
    "- Here’s a couple of requirements that our topological sort need to satisfy:\n",
    "    - for AB, A needs to come before B in the ordering\n",
    "    - for BC, B needs to come before C\n",
    "    - for BD, B needs to come before D\n",
    "    - for DE, D needs to come before E\n",
    "\n",
    "- However, this also means that a DAG may have more than one topological ordering.\n",
    "\n",
    "- Fortunately, NetworkX provides a `topological_sort()` method which ensures exactly this:\n",
    "    - It presents an iterable, that guarantees that when you arrive at a node, you have already visited all the nodes it on which it depends.\n",
    "<br>\n",
    "<br>\n",
    "- Let’s run the method `list(nx.topological_sort(graph))` and see if all our requirements are met."
   ]
  },
  {
   "cell_type": "code",
   "execution_count": null,
   "metadata": {},
   "outputs": [],
   "source": [
    "list(nx.topological_sort(graph))"
   ]
  },
  {
   "cell_type": "markdown",
   "metadata": {},
   "source": [
    "---"
   ]
  },
  {
   "cell_type": "markdown",
   "metadata": {},
   "source": [
    "## Minimum Spanning Tree (MST)\n",
    "\n",
    "Suppose you have been given a weighted undirected graph such as the following:\n",
    "\n",
    "![Weighted Spanning Tree](https://i.ibb.co/qDFx0kt/Slide42.png)"
   ]
  },
  {
   "cell_type": "markdown",
   "metadata": {},
   "source": [
    "We could think of the vertices as representing houses, and the weights as the distances between them. Now imagine that you are tasked with supplying all these houses with some commodity such as water, gas, or electricity. For obvious reasons, you will want to keep the amount of digging and laying of pipes or cable to1 a minimum. So, what is the best pipe or cable layout that you can find, i.e. what layout has the shortest overall length?\n",
    "\n",
    "Obviously, we will have to choose some of the edges to dig along, but not all of them. For example, if we have already chosen the edge between $A$ and $D$, and the one between $B$ and $D$, then there is no reason to also have the one between A and B. More generally, it is clear that we want to avoid circles. Also, assuming that we have only one feeding-in point (it is of no importance which of the vertices that is), we need the whole layout to be connected. We have seen already that a connected graph without circles is a tree.\n",
    "\n",
    "Hence, what we are looking for is a ***minimum spanning tree*** of the graph.\n",
    "\n",
    "> A *spanning tree* of a graph is a subgraph that is a tree which connects all the vertices together, so it 'spans' the original graph but using fewer edges. Here, minimum refers to the sum of all the weights of the edges contained in that tree, so <u>a minimum spanning tree has total weight less than or equal to the total weight of every other spanning tree</u>.\n",
    "\n",
    "As we shall see, there will not necessarily be a unique minimum spanning tree for a given graph.\n",
    "\n",
    "In order to come up with some ideas which will allow us to develop an algorithm for the minimal spanning tree problem, we shall need to make some observations about minimum spanning trees. "
   ]
  },
  {
   "cell_type": "markdown",
   "metadata": {},
   "source": [
    "Let us assume, for the time being, that all the weights in the above graph were equal, to give us some idea of what kind of shape a minimum spanning tree might have under those circumstances. Here are some examples:\n",
    "\n",
    "![MST shapes](https://i.ibb.co/4MHwhZV/Slide43.png)"
   ]
  },
  {
   "cell_type": "markdown",
   "metadata": {},
   "source": [
    "- notice that their general shape is such that if we add any of the remaining edges, we would create a circle.\n",
    "\n",
    "- Then we can see that going from one spanning tree to another can be achieved by removing an edge and replacing it by another (to the vertex which would otherwise be unconnected) such that no circle is created."
   ]
  },
  {
   "cell_type": "markdown",
   "metadata": {},
   "source": [
    "---  "
   ]
  },
  {
   "cell_type": "markdown",
   "metadata": {},
   "source": [
    "## Prim's Algorithm\n",
    "\n",
    "Suppose that we already have a spanning tree connecting some set of vertices $S$. Then we can consider all the edges which connect a vertex in $S$ to one outside of $S$, and add to $S$ one of those that has minimum weight. This cannot possibly create a circle, since it must add a vertex not yet in $S$. This process can be repeated, starting with any vertex to be the sole element of S, which is a trivial minimum spanning tree containing no edges. This approach is known as ***Prim's algorithm***.\n",
    "\n",
    "- can use either an array or a list to keep track of the set of vertices $S$ reached so far.\n",
    "\n",
    "- can maintain another array or list `closest` which, for each vertex $i$ not yet in $S$, keeps track of the vertex in $S$ closest to $i$.\n",
    "\n",
    "- That is, the vertex in $S$ which has an edge to $i$ with minimal weight.\n",
    "\n",
    "- If `closest` also keeps track of the weights of those edges, we could save time, because we would then only have to check the weights mentioned in that array or list."
   ]
  },
  {
   "cell_type": "markdown",
   "metadata": {},
   "source": [
    "For the above graph, starting with $S = {A}$, the tree is built up as follows:\n",
    "\n",
    "![Prim's](https://i.ibb.co/X5Tt93n/Slide44.png)"
   ]
  },
  {
   "cell_type": "markdown",
   "metadata": {},
   "source": [
    "Note: It is slightly more challenging to produce a convincing argument that this algorithm really works. It is clear that Prim's algorithm must result in a spanning tree, because it generates a tree that spans all the vertices, but it is not obvious that it is minimum. There are several possible proofs that it is, but none are straightforward. The simplest works by showing that the set of all possible minimal spanning trees $X_i$ must include the output of Prim's algorithm."
   ]
  },
  {
   "cell_type": "markdown",
   "metadata": {},
   "source": [
    "Let $Y$ be the output of Prim's algorithm, and $X_1$ be any minimum spanning tree. The following illustrates such a situation:\n",
    "\n",
    "![Prim's](https://i.ibb.co/JkfyTjT/Slide45.png)"
   ]
  },
  {
   "cell_type": "markdown",
   "metadata": {},
   "source": [
    "- We don't actually need to know what $X_1$ is $-$ we just need to know the properties it must satisfy, and then systematically work through all the possibilities, showing that $Y$ is a minimal spanning tree in each case.\n",
    "\n",
    "- Clearly, if $X_1 = Y$ , then Prim's algorithm has generated a minimum spanning tree.\n",
    "\n",
    "- Otherwise, let $e$ be the first edge added to $Y$ that is not in $X_1$.\n",
    "\n",
    "- Then, since $X_1$ is a spanning tree, it must include a path connecting the two endpoints of $e$, and because circles are not allowed, there must be an edge in $X_1$ that is not in $Y$ , which we can call $f$.\n",
    "\n",
    "- Since Prim's algorithm added $e$ rather than $f$, we know $weight(e) \\le weight(f)$.\n",
    "\n",
    "- Then create tree $X_2$ that is $X_1$ with $f$ replaced by $e$.\n",
    "\n",
    "- Clearly $X_2$ is connected, has the same number of edges as $X_1$, spans all the vertices, and has total weight no greater than $X_1$, so it must also be a minimum spanning tree.\n",
    "\n",
    "- Now we can repeat this process until we have replaced all the edges in $X_1$ that are not in $Y$, and we end up with the minimum spanning tree $X_n = Y$, which completes the proof that $Y$ is a minimum spanning tree.\n",
    "\n",
    "- The time complexity of the standard Prim's algorithm is O($n^2$) because at each step we need to choose a vertex to add to $S$, and then update the `closest` array.\n",
    "\n",
    "- We should also consider whether it really is necessary to process every vertex at each stage, because it could be sufficient to only check actually existing edges. We therefore now consider an alternative edge-based strategy."
   ]
  },
  {
   "cell_type": "markdown",
   "metadata": {},
   "source": [
    "---"
   ]
  },
  {
   "cell_type": "markdown",
   "metadata": {},
   "source": [
    "## Kruskal's Algorithm\n",
    "\n",
    "This algorithm does not consider the vertices directly at all, but builds a minimal spanning tree by considering and adding edges as follows: Assume that we already have a collection of edges $T$. Then, from all the edges not yet in $T$, choose one with minimal weight such that its addition to $T$ does not produce a circle, and add that to $T$. If we start with $T$ being the empty set, and continue until no more edges can be added, a minimal spanning tree will be produced. This approach is known as ***Kruskal's algorithm***."
   ]
  },
  {
   "cell_type": "markdown",
   "metadata": {},
   "source": [
    "For the same graph as used for Prim's algorithm (Fig 3.26), this algorithm proceeds as follows:\n",
    "\n",
    "![Kruskal's](https://i.ibb.co/34xbqdy/Slide46.png)"
   ]
  },
  {
   "cell_type": "markdown",
   "metadata": {},
   "source": [
    "- The general idea of the most efficient approaches is to start by sorting the edges according to their weights, and then simply go through that list of edges in order of increasing weight, and either add them to $T$, or reject them if they would produce a circle.\n",
    "\n",
    "- There are implementations of that which can be achieved with overall time complexity O($e\\log{e}$), which is dominated by the O($e\\log{e}$) complexity of sorting the $e$ edges in the first place.\n",
    "\n",
    "<u>This means that the choice between Prim's algorithm and Kruskal's algorithm depends on the connectivity of the particular graph under consideration. If the graph is sparse, i.e. the number of edges is not much more than the number of vertices, then Kruskal's algorithm will have O($n\\log{n}$) complexity but will be faster than the standard O($n^2$) Prim's algorithm. However, if the graph is highly connected, i.e. the number of edges is near the square of the number of vertices, it will have complexity O($n^2\\log{n}$) and be slower than Prim's.</u>"
   ]
  },
  {
   "cell_type": "markdown",
   "metadata": {},
   "source": [
    "---"
   ]
  }
 ],
 "metadata": {
  "kernelspec": {
   "display_name": "Python 3",
   "language": "python",
   "name": "python3"
  },
  "language_info": {
   "codemirror_mode": {
    "name": "ipython",
    "version": 3
   },
   "file_extension": ".py",
   "mimetype": "text/x-python",
   "name": "python",
   "nbconvert_exporter": "python",
   "pygments_lexer": "ipython3",
   "version": "3.7.7"
  }
 },
 "nbformat": 4,
 "nbformat_minor": 4
}
