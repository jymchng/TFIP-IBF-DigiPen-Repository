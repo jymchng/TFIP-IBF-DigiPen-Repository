{
 "cells": [
  {
   "cell_type": "markdown",
   "metadata": {},
   "source": [
    "# MongoDB Reference Material\n",
    "<hr>\n",
    "This reference material is created to complement the MongoDB material taught during the lecture"
   ]
  },
  {
   "cell_type": "markdown",
   "metadata": {},
   "source": [
    "To test if a connection to MongoDB can be established."
   ]
  },
  {
   "cell_type": "code",
   "execution_count": null,
   "metadata": {
    "ExecuteTime": {
     "end_time": "2020-12-04T01:18:56.650072Z",
     "start_time": "2020-12-04T01:18:56.144426Z"
    }
   },
   "outputs": [],
   "source": [
    "import pymongo\n",
    "\n",
    "try:\n",
    "    # establish a mongoDB connection\n",
    "    myclient = pymongo.MongoClient(\"localhost\", 27017)\n",
    "    connected = True\n",
    "    \n",
    "    # get any existing databases\n",
    "    dblist = myclient.list_database_names()\n",
    "    print(\"Existing Databases:\")\n",
    "    for db in dblist:\n",
    "        print(db)\n",
    "except pymongo.errors as e:\n",
    "    print(f\"Error connecting to MariaDB Platform: {e}\")\n",
    "    connected = False\n",
    "\n",
    "finally:\n",
    "    if connected:\n",
    "        myclient.close()"
   ]
  },
  {
   "cell_type": "markdown",
   "metadata": {},
   "source": [
    "<hr>\n",
    "We will be using the MongoDB <code>context manager</code> from this point onwards.\n",
    "<br>\n",
    "Pass a different <code>host</code> and <code>port</code> values where needed."
   ]
  },
  {
   "cell_type": "code",
   "execution_count": null,
   "metadata": {
    "ExecuteTime": {
     "end_time": "2020-12-04T01:19:01.804274Z",
     "start_time": "2020-12-04T01:19:01.410331Z"
    }
   },
   "outputs": [],
   "source": [
    "import mongodb_context as mongo"
   ]
  },
  {
   "cell_type": "markdown",
   "metadata": {},
   "source": [
    "Attributes and methods of the `mongo client`object"
   ]
  },
  {
   "cell_type": "code",
   "execution_count": null,
   "metadata": {
    "ExecuteTime": {
     "end_time": "2020-12-04T01:19:02.793627Z",
     "start_time": "2020-12-04T01:19:02.780661Z"
    }
   },
   "outputs": [],
   "source": [
    "# to view the functions available in the mongo client object\n",
    "with mongo.MongoDBClient() as mClient:\n",
    "    print(dir(mClient))"
   ]
  },
  {
   "cell_type": "markdown",
   "metadata": {},
   "source": [
    "## Creation of a database"
   ]
  },
  {
   "cell_type": "markdown",
   "metadata": {},
   "source": [
    "Create a database called `mydatabase`, a collection called `student` and insert some data"
   ]
  },
  {
   "cell_type": "code",
   "execution_count": null,
   "metadata": {
    "ExecuteTime": {
     "end_time": "2020-12-04T01:20:25.653856Z",
     "start_time": "2020-12-04T01:20:25.644880Z"
    }
   },
   "outputs": [],
   "source": [
    "student_list = [\n",
    "    {\"name\": \"Amy\", \"MatrNum\": \"0000154\", \"course\": \"BSc Mechanical Engineering\"},\n",
    "    {\"name\": \"Jon\", \"MatrNum\": \"0000158\", \"course\": \"BSc Electronics Engineering\"},\n",
    "    {\"name\": \"Michael\", \"MatrNum\": \"0000482\", \"course\": \"BSc Mechanical Engineering\"},\n",
    "    {\"name\": \"Sandra\", \"MatrNum\": \"0000962\", \"course\": \"BSc Mechanical Engineering\"},\n",
    "    {\"name\": \"Ben\", \"MatrNum\": \"0001058\", \"course\": \"BSc Systems Engineering\"},\n",
    "    {\"name\": \"Tom\", \"MatrNum\": \"0000845\", \"course\": \"BSc Mechanical Engineering\"},\n",
    "    {\"name\": \"Harry\", \"MatrNum\": \"0005436\", \"course\": \"BSc Life Sciences\"},\n",
    "    {\"name\": \"Archie\", \"MatrNum\": \"0000968\", \"course\": \"BSc Mechanical Engineering\"},\n",
    "    {\"name\": \"Philip\", \"MatrNum\": \"0000824\", \"course\": \"BSc Nursing\"},\n",
    "    {\"name\": \"Stacy\", \"MatrNum\": \"0000156\", \"course\": \"BSc Early Childhood Education\"},\n",
    "    {\"name\": \"Betty\", \"MatrNum\": \"0000578\", \"course\": \"BSc Mechanical Engineering\"},\n",
    "    {\"name\": \"Richard\", \"MatrNum\": \"0002548\", \"course\": \"BSc Veterinary Science\"}\n",
    "]\n",
    "\n",
    "faculty_list = [\n",
    "    {\"faculty\": \"Engineering\"},\n",
    "    {\"faculty\": \"Life Sciences\"},\n",
    "    {\"faculty\": \"Veterinary Medicine\"}\n",
    "]"
   ]
  },
  {
   "cell_type": "code",
   "execution_count": null,
   "metadata": {
    "ExecuteTime": {
     "end_time": "2020-12-04T01:20:35.847611Z",
     "start_time": "2020-12-04T01:20:35.749838Z"
    }
   },
   "outputs": [],
   "source": [
    "with mongo.MongoDBClient() as mClient:\n",
    "    # create a database\n",
    "    db = mClient[\"mydatabase\"] # mClient.mydatabase\n",
    "    # create a collection in the database\n",
    "    db_col_student = db[\"student\"]\n",
    "    db_col_faculty = db[\"faculty\"]\n",
    "    \n",
    "    # insert the records in to the collection\n",
    "    db_col_student.insert_many(student_list)\n",
    "    db_col_faculty.insert_many(faculty_list)\n",
    "    \n",
    "    print(\"Insert done\")"
   ]
  },
  {
   "cell_type": "markdown",
   "metadata": {},
   "source": [
    "## Read data from the Collection"
   ]
  },
  {
   "cell_type": "markdown",
   "metadata": {},
   "source": [
    "Difference between `find_one` and `find` functions"
   ]
  },
  {
   "cell_type": "code",
   "execution_count": null,
   "metadata": {},
   "outputs": [],
   "source": [
    "with mongo.MongoDBClient() as mClient:\n",
    "    # accessing a database collection\n",
    "    db_col_student = mClient.mydatabase.student\n",
    "    \n",
    "    print(\"First document of the Student Collection:\\n\", db_col_student.find_one())\n",
    "    print(\"\\nvs\\n\")\n",
    "    print(\"All documents of Student Collection:\\n\")\n",
    "    for i in db_col_student.find():\n",
    "        print(i)"
   ]
  },
  {
   "cell_type": "markdown",
   "metadata": {},
   "source": [
    "Returning only only the documents with 'BSc Mechanical Engineering' in the `course` field and do not show the `_id` key, value field."
   ]
  },
  {
   "cell_type": "code",
   "execution_count": null,
   "metadata": {
    "ExecuteTime": {
     "end_time": "2020-12-04T01:35:28.551518Z",
     "start_time": "2020-12-04T01:35:28.537515Z"
    }
   },
   "outputs": [],
   "source": [
    "with mongo.MongoDBClient() as mClient:\n",
    "    # accessing a database collection\n",
    "    db_col_student = mClient.mydatabase.student\n",
    "    \n",
    "    # 1st dict is to find documents the particular field value\n",
    "    # 2nd dict teels which fields should be returned in the result\n",
    "        # by default all fields are returned (1), a 0 means that field will \n",
    "        # not be returned\n",
    "    docs = db_col_student.find({\"course\": \"BSc Mechanical Engineering\"},\n",
    "                               # {\"_id\": 0, \"course\":1} shows only the course.\n",
    "                               {\"_id\": 0}, # id if removed then it will show the id.\n",
    "                               sort=[(\"name\",1)]) # _id:0 means don't show 'id', '1' is ascending order in sort()\n",
    "    # .find() returns a cursor, so you can .sort() on docs.\n",
    "    \n",
    "    for i in docs:\n",
    "        print(i)"
   ]
  },
  {
   "cell_type": "markdown",
   "metadata": {},
   "source": [
    "Another way the `sort` function can be called is using the `cursor` object returned by the `find` function."
   ]
  },
  {
   "cell_type": "code",
   "execution_count": null,
   "metadata": {},
   "outputs": [],
   "source": [
    "with mongo.MongoDBClient() as mClient:\n",
    "    # accessing a database collection\n",
    "    db_col_student = mClient.mydatabase.student\n",
    "    \n",
    "    docs = db_col_student.find({\"course\": \"BSc Mechanical Engineering\"},\n",
    "                               {\"_id\": 0}).sort(\"name\", 1)\n",
    "    # .sort(\"name\", -1) returns in descending order.\n",
    "    for i in docs:\n",
    "        print(i)"
   ]
  },
  {
   "cell_type": "markdown",
   "metadata": {},
   "source": [
    "Count the number of returned documents"
   ]
  },
  {
   "cell_type": "code",
   "execution_count": null,
   "metadata": {
    "ExecuteTime": {
     "end_time": "2020-12-04T01:36:58.682596Z",
     "start_time": "2020-12-04T01:36:58.649684Z"
    }
   },
   "outputs": [],
   "source": [
    "with mongo.MongoDBClient() as mClient:\n",
    "    # accessing a database collection\n",
    "    db_col_student = mClient.mydatabase.student\n",
    "    \n",
    "    print(db_col_student.count_documents({\"course\": \"BSc Mechanical Engineering\"}))"
   ]
  },
  {
   "cell_type": "markdown",
   "metadata": {},
   "source": [
    "## Update data in the Collection\n",
    "<br>\n",
    "Update a single document"
   ]
  },
  {
   "cell_type": "code",
   "execution_count": null,
   "metadata": {
    "ExecuteTime": {
     "end_time": "2020-12-04T01:37:22.009148Z",
     "start_time": "2020-12-04T01:37:21.982221Z"
    }
   },
   "outputs": [],
   "source": [
    "with mongo.MongoDBClient() as mClient:\n",
    "    # accessing a database collection\n",
    "    db_col_student = mClient.mydatabase.student\n",
    "    \n",
    "    print(\"Before update:\")\n",
    "    doc = db_col_student.find_one({\"name\": \"Archie\"}, {\"_id\": 0})\n",
    "    print(doc)\n",
    "    \n",
    "    # update the student's course to 'Life Sciences'\n",
    "    query = { \"name\": \"Archie\" }\n",
    "    new_values = { \"$set\": { \"course\": \"BSc Life Sciences\" } }\n",
    "\n",
    "    db_col_student.update_one(query, new_values) # update only 1 record\n",
    "    \n",
    "    print(\"\\nAfter update:\")\n",
    "    doc = db_col_student.find_one({\"name\": \"Archie\"}, {\"_id\": 0})\n",
    "    print(doc)"
   ]
  },
  {
   "cell_type": "markdown",
   "metadata": {},
   "source": [
    "Updating multiple documents"
   ]
  },
  {
   "cell_type": "code",
   "execution_count": null,
   "metadata": {
    "ExecuteTime": {
     "end_time": "2020-12-04T01:37:28.847842Z",
     "start_time": "2020-12-04T01:37:28.825900Z"
    }
   },
   "outputs": [],
   "source": [
    "with mongo.MongoDBClient() as mClient:\n",
    "    # accessing a database collection\n",
    "    db_col_student = mClient.mydatabase.student\n",
    "    \n",
    "    print(\"Before update:\")\n",
    "    docs = db_col_student.find({\"name\": { \"$regex\": \"^S\" }}, {\"_id\": 0})\n",
    "    for i in docs:\n",
    "        print(i)\n",
    "    \n",
    "    # update the course of students with the names starting with a\n",
    "    # capital 'S' to 'BSc Veterinary Science'\n",
    "    query = { \"name\": { \"$regex\": \"^S\" } }\n",
    "    new_values = { \"$set\": { \"course\": \"BSc Veterinary Science\" } }\n",
    "    # $set\n",
    "\n",
    "    db_col_student.update_many(query, new_values)\n",
    "    \n",
    "    print(\"\\nAfter update:\")\n",
    "    docs = db_col_student.find({\"name\": { \"$regex\": \"^S\" }}, {\"_id\": 0})\n",
    "    for i in docs:\n",
    "        print(i)"
   ]
  },
  {
   "cell_type": "markdown",
   "metadata": {},
   "source": [
    "## Delete data from a Collection\n",
    "<br>\n",
    "Delete a single document"
   ]
  },
  {
   "cell_type": "code",
   "execution_count": null,
   "metadata": {
    "ExecuteTime": {
     "end_time": "2020-12-04T01:40:40.090968Z",
     "start_time": "2020-12-04T01:40:40.072992Z"
    }
   },
   "outputs": [],
   "source": [
    "with mongo.MongoDBClient() as mClient:\n",
    "    # accessing a database collection\n",
    "    db_col_student = mClient.mydatabase.student # point to the student collection\n",
    "    \n",
    "    print(\"Before delete:\")\n",
    "    docs = db_col_student.find({}, {\"_id\": 0}) # get all the students, but not showing the id\n",
    "    for i in docs:\n",
    "        print(i)\n",
    "    \n",
    "    result = db_col_student.delete_one({\"name\": \"Jon\"}) #delete_many to delete many.\n",
    "    \n",
    "    print(f\"\\n\\n{result.deleted_count} document deleted\\n\")\n",
    "    print(\"After delete:\")\n",
    "    docs = db_col_student.find({}, {\"_id\": 0})\n",
    "    for i in docs:\n",
    "        print(i)"
   ]
  },
  {
   "cell_type": "markdown",
   "metadata": {},
   "source": [
    "Delete multiple documents"
   ]
  },
  {
   "cell_type": "code",
   "execution_count": null,
   "metadata": {},
   "outputs": [],
   "source": [
    "with mongo.MongoDBClient() as mClient:\n",
    "    # accessing a database collection\n",
    "    db_col_student = mClient.mydatabase.student\n",
    "    \n",
    "    print(\"Before delete:\")\n",
    "    docs = db_col_student.find({}, {\"_id\": 0})\n",
    "    for i in docs:\n",
    "        print(i)\n",
    "    \n",
    "    result = db_col_student.delete_many({\"course\": \"BSc Veterinary Science\"})\n",
    "    \n",
    "    print(f\"\\n\\n{result.deleted_count} documents deleted\\n\")\n",
    "    print(\"After delete:\")\n",
    "    docs = db_col_student.find({}, {\"_id\": 0})\n",
    "    for i in docs:\n",
    "        print(i)"
   ]
  },
  {
   "cell_type": "markdown",
   "metadata": {},
   "source": [
    "Delete a collection"
   ]
  },
  {
   "cell_type": "code",
   "execution_count": null,
   "metadata": {},
   "outputs": [],
   "source": [
    "with mongo.MongoDBClient() as mClient:\n",
    "    # get the existing collection\n",
    "    col_list = mClient.mydatabase.list_collection_names()\n",
    "    print(\"Existing collections:\")\n",
    "    for coll in col_list:\n",
    "        print(coll)\n",
    "    \n",
    "    mClient.mydatabase.drop_collection(\"student\") # using drop_collection then pass the string as the name of the collection\n",
    "    # to drop the collection.\n",
    "    \n",
    "    col_list = mClient.mydatabase.list_collection_names()\n",
    "    print(\"\\n\\nAfter dropping the collection:\")\n",
    "    for coll in col_list:\n",
    "        print(coll)"
   ]
  },
  {
   "cell_type": "markdown",
   "metadata": {},
   "source": [
    "Delete a database"
   ]
  },
  {
   "cell_type": "code",
   "execution_count": null,
   "metadata": {},
   "outputs": [],
   "source": [
    "with mongo.MongoDBClient() as mClient:\n",
    "    # get any existing databases\n",
    "    dblist = mClient.list_database_names()\n",
    "    print(\"Existing databases:\")\n",
    "    for db in dblist:\n",
    "        print(db)\n",
    "        \n",
    "    mClient.drop_database(\"mydatabase\")\n",
    "    \n",
    "    dblist = mClient.list_database_names()\n",
    "    print(\"\\n\\nAfter dropping the database:\")\n",
    "    for db in dblist:\n",
    "        print(db)"
   ]
  },
  {
   "cell_type": "markdown",
   "metadata": {},
   "source": [
    "# Creation of database using AWS"
   ]
  },
  {
   "cell_type": "code",
   "execution_count": null,
   "metadata": {},
   "outputs": [],
   "source": []
  },
  {
   "cell_type": "code",
   "execution_count": 1,
   "metadata": {
    "ExecuteTime": {
     "end_time": "2020-12-04T02:04:12.665965Z",
     "start_time": "2020-12-04T02:04:12.236160Z"
    }
   },
   "outputs": [],
   "source": [
    "from pymongo import MongoClient\n",
    "import pymongo\n",
    "import urllib"
   ]
  },
  {
   "cell_type": "code",
   "execution_count": 19,
   "metadata": {
    "ExecuteTime": {
     "end_time": "2020-12-04T02:13:58.989235Z",
     "start_time": "2020-12-04T02:13:58.915422Z"
    }
   },
   "outputs": [],
   "source": [
    "client = pymongo.MongoClient(\"mongodb+srv://HiLol:\"+ urllib.parse.quote(\"HiLol\")+\"@cluster0.qs8xg.mongodb.net/sample_airbnb?retryWrites=true&w=majority\")\n",
    "db = client.sample_analytics\n"
   ]
  },
  {
   "cell_type": "code",
   "execution_count": 29,
   "metadata": {
    "ExecuteTime": {
     "end_time": "2020-12-04T02:17:36.343355Z",
     "start_time": "2020-12-04T02:17:36.299473Z"
    }
   },
   "outputs": [
    {
     "name": "stdout",
     "output_type": "stream",
     "text": [
      "Test database was not created.\n"
     ]
    }
   ],
   "source": [
    "if \"test\" in client.list_database_names():\n",
    "    print(\"You successfully created test database.\")\n",
    "    \n",
    "else:\n",
    "    print(\"Test database was not created.\")"
   ]
  },
  {
   "cell_type": "code",
   "execution_count": 33,
   "metadata": {
    "ExecuteTime": {
     "end_time": "2020-12-04T02:19:00.916024Z",
     "start_time": "2020-12-04T02:19:00.889098Z"
    }
   },
   "outputs": [
    {
     "name": "stdout",
     "output_type": "stream",
     "text": [
      "['sample_airbnb', 'sample_analytics', 'sample_geospatial', 'sample_mflix', 'sample_restaurants', 'sample_supplies', 'sample_training', 'sample_weatherdata', 'admin', 'local']\n",
      "['accounts', 'transactions', 'customers']\n"
     ]
    }
   ],
   "source": [
    "db = client.sample_analytics\n",
    "\n",
    "collection = db.col\n",
    "print(client.list_database_names())\n",
    "print(db.list_collection_names())"
   ]
  },
  {
   "cell_type": "code",
   "execution_count": 40,
   "metadata": {
    "ExecuteTime": {
     "end_time": "2020-12-04T02:43:12.309101Z",
     "start_time": "2020-12-04T02:43:12.296179Z"
    }
   },
   "outputs": [
    {
     "data": {
      "text/plain": [
       "500"
      ]
     },
     "execution_count": 40,
     "metadata": {},
     "output_type": "execute_result"
    }
   ],
   "source": [
    "accounts = db.accounts.find({}, {'_id': 0})\n",
    "\n",
    "coll = db.customers\n",
    "coll.count_documents({})\n"
   ]
  },
  {
   "cell_type": "code",
   "execution_count": 41,
   "metadata": {
    "ExecuteTime": {
     "end_time": "2020-12-04T02:44:22.412429Z",
     "start_time": "2020-12-04T02:44:22.372537Z"
    }
   },
   "outputs": [
    {
     "data": {
      "text/plain": [
       "{'_id': ObjectId('5ca4bbcea2dd94ee58162a68'),\n",
       " 'username': 'fmiller',\n",
       " 'name': 'Elizabeth Ray',\n",
       " 'address': '9286 Bethany Glens\\nVasqueztown, CO 22939',\n",
       " 'birthdate': datetime.datetime(1977, 3, 2, 2, 20, 31),\n",
       " 'email': 'arroyocolton@gmail.com',\n",
       " 'active': True,\n",
       " 'accounts': [371138, 324287, 276528, 332179, 422649, 387979],\n",
       " 'tier_and_details': {'0df078f33aa74a2e9696e0520c1a828a': {'tier': 'Bronze',\n",
       "   'id': '0df078f33aa74a2e9696e0520c1a828a',\n",
       "   'active': True,\n",
       "   'benefits': ['sports tickets']},\n",
       "  '699456451cc24f028d2aa99d7534c219': {'tier': 'Bronze',\n",
       "   'benefits': ['24 hour dedicated line', 'concierge services'],\n",
       "   'active': True,\n",
       "   'id': '699456451cc24f028d2aa99d7534c219'}}}"
      ]
     },
     "execution_count": 41,
     "metadata": {},
     "output_type": "execute_result"
    }
   ],
   "source": [
    "coll.find_one()"
   ]
  },
  {
   "cell_type": "code",
   "execution_count": 42,
   "metadata": {
    "ExecuteTime": {
     "end_time": "2020-12-04T02:45:08.544969Z",
     "start_time": "2020-12-04T02:45:08.531964Z"
    }
   },
   "outputs": [
    {
     "data": {
      "text/plain": [
       "dict_keys(['_id', 'username', 'name', 'address', 'birthdate', 'email', 'active', 'accounts', 'tier_and_details'])"
      ]
     },
     "execution_count": 42,
     "metadata": {},
     "output_type": "execute_result"
    }
   ],
   "source": [
    "first_doc = coll.find_one()\n",
    "first_doc.keys()"
   ]
  },
  {
   "cell_type": "code",
   "execution_count": 44,
   "metadata": {
    "ExecuteTime": {
     "end_time": "2020-12-04T02:48:03.382313Z",
     "start_time": "2020-12-04T02:48:03.377328Z"
    }
   },
   "outputs": [
    {
     "data": {
      "text/plain": [
       "<pymongo.cursor.Cursor at 0x16f49e93d08>"
      ]
     },
     "execution_count": 44,
     "metadata": {},
     "output_type": "execute_result"
    }
   ],
   "source": [
    "coll.find().sort(\"_id\", pymongo.DESCENDING)\n",
    "\n",
    "coll.find().sort(\"_id\", -1)"
   ]
  },
  {
   "cell_type": "code",
   "execution_count": null,
   "metadata": {},
   "outputs": [],
   "source": [
    "from pymong import MongoClient\n",
    "from random import randint\n",
    "\n",
    "# Step 1: Connect to MongoDB - Note: Change connection string as needed.\n",
    "\n",
    "client = MongClient(port = 27017)\n",
    "db = client.business\n",
    "\n",
    "# Step 2: Create sample data\n",
    "\n",
    "names = [\"Kitchen\", \"Animal\", \"State\", \"Tastey\", \"Big\", \"City\", \"Fish\", \"Pizza\", \"Goat\", \"Salty\", 'Sandwich', 'Lazy', 'Fun']\n",
    "company_type = ['LLC', \"Inc\", \"Company\", \"Corporation\"]\n",
    "company_cuisine = ['Pizza', 'Bar Food', 'Fast Food', 'Italian', 'Mexican', 'American', 'Sushi Bar', 'Vegetarian']\n",
    "\n",
    "for x in range(1, 501):\n",
    "    business = {\n",
    "        #'_id': x,\n",
    "        'name': names[randint(0,(len(names)-1))] + '' + names[randint(0, (len(names)-1))],\n",
    "        'rating': randint(1,5),\n",
    "        'cuisine': company_cuisine[randint(0,(len(company_cuisine)-1))]\n",
    "    }\n",
    "    \n",
    "    # Step 3: Insert business object directly into Mongo DB via insert_one\n",
    "    result = db.reviews.insert_one(business)\n",
    "    \n",
    "    # Step 4: Print to the console the ObjectID of the new document\n",
    "    print('Create {0} of 500 as {1}'.format(x,result.inserted)id)\n",
    "    \n",
    "# Step 5: Tell us that you are done.\n",
    "\n",
    "print(\"Finished creating 500 business reviews.\")"
   ]
  }
 ],
 "metadata": {
  "kernelspec": {
   "display_name": "Python 3",
   "language": "python",
   "name": "python3"
  },
  "language_info": {
   "codemirror_mode": {
    "name": "ipython",
    "version": 3
   },
   "file_extension": ".py",
   "mimetype": "text/x-python",
   "name": "python",
   "nbconvert_exporter": "python",
   "pygments_lexer": "ipython3",
   "version": "3.7.7"
  }
 },
 "nbformat": 4,
 "nbformat_minor": 4
}
