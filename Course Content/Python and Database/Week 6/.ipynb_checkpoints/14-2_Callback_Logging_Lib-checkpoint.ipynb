{
 "cells": [
  {
   "cell_type": "markdown",
   "metadata": {},
   "source": [
    "# Callbacks & Logging Library\n",
    "\n",
    "## Topics\n",
    "* Callbacks in Python\n",
    "* Python Logging Library\n",
    " * Basic Configurations with `root` logger\n",
    " * Formatting Log Messages\n",
    " * Logging Variable Data & Stack Traces\n",
    " * Logging with Custom Loggers\n",
    "\n",
    "---"
   ]
  },
  {
   "cell_type": "markdown",
   "metadata": {},
   "source": [
    "## Callbacks in Python\n",
    "\n",
    "A callback is a function that is passed as an argument to another function which will then execute it at some point in time. There are 2 types of callbacks namely *Synchronous* and *Asynchronous*.\n",
    "\n",
    "* **Synchronous** callbacks are \"blocking\" callbacks meaning that the callback function is executed before the caller function is returned. These callbacks can be used almost anywhere such as codes for transactions to databases.\n",
    "* **Asynchronous** callbacks are \"deferred\" callbacks meaning that the callback function is executed after a function/event has occurred. These callbacks are mainly used in event handling such as in Graphical User Interface programming where a mouse click is registered as 2 events (mouse pressed and mouse released).\n",
    "\n",
    "Imagine that you need to read a huge file or you need to calculate a value based on some previous values plus some external information that becomes available during processing. What can we do? \n",
    "\n",
    "Let's use the Fibanacci sequence as an example and pose the question: What is the first number in the Fibonacci series that can be divided by 15 (that is not 0)?"
   ]
  },
  {
   "cell_type": "code",
   "execution_count": 1,
   "metadata": {
    "ExecuteTime": {
     "end_time": "2020-12-01T01:03:12.811675Z",
     "start_time": "2020-12-01T01:03:12.804694Z"
    }
   },
   "outputs": [],
   "source": [
    "def fibonacci1(n):\n",
    "    count = 0\n",
    "    n1, n2 = 0, 1\n",
    "    while count < n:\n",
    "        # calculation\n",
    "        nth = n1 + n2\n",
    "        print(n1, end=' ')\n",
    "        # update values\n",
    "        n1 = n2\n",
    "        n2 = nth\n",
    "        count += 1"
   ]
  },
  {
   "cell_type": "code",
   "execution_count": 2,
   "metadata": {
    "ExecuteTime": {
     "end_time": "2020-12-01T01:03:13.587598Z",
     "start_time": "2020-12-01T01:03:13.574633Z"
    }
   },
   "outputs": [
    {
     "name": "stdout",
     "output_type": "stream",
     "text": [
      "0 1 1 2 3 5 8 13 21 34 55 89 144 233 377 610 987 1597 2584 4181 6765 10946 17711 28657 46368 "
     ]
    }
   ],
   "source": [
    "fibonacci1(25)"
   ]
  },
  {
   "cell_type": "markdown",
   "metadata": {},
   "source": [
    "Second implementation of the Fibanacci sequence has the added `if` statement to implement the question."
   ]
  },
  {
   "cell_type": "code",
   "execution_count": 3,
   "metadata": {
    "ExecuteTime": {
     "end_time": "2020-12-01T01:03:18.983154Z",
     "start_time": "2020-12-01T01:03:18.978168Z"
    }
   },
   "outputs": [],
   "source": [
    "def fibonacci2(n):\n",
    "    count = 0\n",
    "    n1, n2 = 0, 1\n",
    "    while count < n:\n",
    "        # calculation\n",
    "        nth = n1 + n2\n",
    "        \n",
    "        # answering the question\n",
    "        if n1 % 15 == 0 and n1 != 0:\n",
    "            print(n1, end=' ')\n",
    "            return\n",
    "        # update values\n",
    "        n1 = n2\n",
    "        n2 = nth\n",
    "        count += 1"
   ]
  },
  {
   "cell_type": "code",
   "execution_count": 4,
   "metadata": {
    "ExecuteTime": {
     "end_time": "2020-12-01T01:03:19.883743Z",
     "start_time": "2020-12-01T01:03:19.878756Z"
    }
   },
   "outputs": [
    {
     "name": "stdout",
     "output_type": "stream",
     "text": [
      "6765 "
     ]
    }
   ],
   "source": [
    "fibonacci2(25)"
   ]
  },
  {
   "cell_type": "markdown",
   "metadata": {},
   "source": [
    "But what happens if we want to change the divisor to a different number but **not change** the function definition? One way is that we can make mulitple copies of this function but that is not very efficient is it? \n",
    "\n",
    "Let's implement a callback function called `check_15` where it accepts a number from the Fibanacci sequence and tests the condition then returning a 2-tuple consisting of a `Boolean` and some value (depending on the condition)."
   ]
  },
  {
   "cell_type": "code",
   "execution_count": 5,
   "metadata": {
    "ExecuteTime": {
     "end_time": "2020-12-01T01:03:22.850799Z",
     "start_time": "2020-12-01T01:03:22.840833Z"
    }
   },
   "outputs": [],
   "source": [
    "# callback\n",
    "def check_15(num):\n",
    "    if num % 15 == 0 and num != 0:\n",
    "        return (True, num)\n",
    "\n",
    "    return (False, None)"
   ]
  },
  {
   "cell_type": "code",
   "execution_count": 6,
   "metadata": {
    "ExecuteTime": {
     "end_time": "2020-12-01T01:03:26.316524Z",
     "start_time": "2020-12-01T01:03:26.311535Z"
    }
   },
   "outputs": [],
   "source": [
    "def fibonacci3(callback_func):\n",
    "    n1, n2 = 0, 1\n",
    "    while (True):\n",
    "        # calculation\n",
    "        nth = n1 + n2\n",
    "\n",
    "        r = callback_func(n1)\n",
    "        if (r[0]):\n",
    "            return(r[1])\n",
    "        \n",
    "        # update values\n",
    "        n1 = n2\n",
    "        n2 = nth"
   ]
  },
  {
   "cell_type": "code",
   "execution_count": 7,
   "metadata": {
    "ExecuteTime": {
     "end_time": "2020-12-01T01:03:27.787584Z",
     "start_time": "2020-12-01T01:03:27.776613Z"
    }
   },
   "outputs": [
    {
     "data": {
      "text/plain": [
       "6765"
      ]
     },
     "execution_count": 7,
     "metadata": {},
     "output_type": "execute_result"
    }
   ],
   "source": [
    "fibonacci3(check_15)"
   ]
  },
  {
   "cell_type": "markdown",
   "metadata": {},
   "source": [
    "This solution frees up the Fibanacci function from having the caller guess the number of runs needed to answer the question and several copy & paste attempts, to expanding the usability of the Fibanacci function to be able to answer other types of questions.\n",
    "\n",
    "Callbacks looks very similar to `lambda` functions in the aspect of higher order functions but they are not the same. Remember the following code:"
   ]
  },
  {
   "cell_type": "code",
   "execution_count": 8,
   "metadata": {
    "ExecuteTime": {
     "end_time": "2020-12-01T01:03:38.151841Z",
     "start_time": "2020-12-01T01:03:38.144857Z"
    }
   },
   "outputs": [
    {
     "data": {
      "text/plain": [
       "6"
      ]
     },
     "execution_count": 8,
     "metadata": {},
     "output_type": "execute_result"
    }
   ],
   "source": [
    "# a lambda function that has a function as an argument\n",
    "high_ord_func = lambda x, func: x + func(x)\n",
    "high_ord_func(2, lambda x: x * x)"
   ]
  },
  {
   "cell_type": "code",
   "execution_count": 9,
   "metadata": {
    "ExecuteTime": {
     "end_time": "2020-12-01T01:03:40.161460Z",
     "start_time": "2020-12-01T01:03:40.155474Z"
    }
   },
   "outputs": [
    {
     "data": {
      "text/plain": [
       "6"
      ]
     },
     "execution_count": 9,
     "metadata": {},
     "output_type": "execute_result"
    }
   ],
   "source": [
    "# if the 'high_ord_func' were to be made into a normal function\n",
    "def high_ord_func_norm(x, func):\n",
    "    return x + func(x)\n",
    "\n",
    "def multiply(x):\n",
    "    return x*x\n",
    "\n",
    "high_ord_func_norm(2, multiply)"
   ]
  },
  {
   "attachments": {
    "c83f7c5a-0641-4fab-8c98-436770d93cd3.png": {
     "image/png": "[encoded data removed]"
    }
   },
   "cell_type": "markdown",
   "metadata": {},
   "source": [
    "Differences between `lambda` and callback functions are as follows:\n",
    "\n",
    "| `lambda` functions | Callback functions |\n",
    "|:---|:---|\n",
    "| **Anonymous** functions | Can be both **named** and **anonymous** |\n",
    "| **Single** expression | Multiple expression, like a normal function |\n",
    "| **All** `lambda` functions are callback functions | Not all callback functions can be `lambda` functions |\n",
    "\n",
    "---\n",
    "\n",
    "## Python Logging Library\n",
    "\n",
    "In physical terms, logging is a systematic recording of events, observations or measurements that had happened over a period of time. In programming, the concept of logging is no different but the implementation is vastly different. Logging in Python is done using the `logging` library. This library provides a way for applications to configure different log handlers and a way of routing the log messages to these handlers. \n",
    "\n",
    "![logging_proc.png](attachment:c83f7c5a-0641-4fab-8c98-436770d93cd3.png)\n",
    "\n",
    "Internally, the log message is turned into a `LogRecord` object and routed to a `Handler` object registered for the logger. The handler will then use a `Formatter` to turn the `LogRecord` into a string and emit that string.\n",
    "\n",
    "> Note that logging is typically required when developing medium to large applications using an IDE. Since we will be showing the basic customization using the `root` logger, it is advisable to use Notepad++ or your favourite IDE and Python scripts to run the codes in this section. As `root` loggers can only be **changed once per active Python Interpreter**, you would need to constantly restart and/or clear the output of the kernel to see the accurate results of the logging codes as Jupyter Lab always has an active Python Interpreter running in the kernel.\n",
    "\n",
    "Some basic terminalogy:\n",
    "* **`root` logger** - this is the logging object that is provided to the program after importing the `logging` library.\n",
    "* **logging levels (severity events)**\n",
    " * **`CRITICAL`**\n",
    " * **`ERROR`**\n",
    " * **`WARNING`**\n",
    " * **`INFO`**\n",
    " * **`DEBUG`**\n",
    " * **`NOTSET`**\n",
    " \n",
    "These levels tell the library which events from that level upwards that you want the logger to handle. For example, if you set the log level to `INFO`, the logger will handle all messages from `INFO`, `WARNING`, `ERROR` and `CRITICAL`. \n",
    "\n",
    "Generally, we would set up a configuration file for the logging output but let's first take a look at how each logging level will appear when executed."
   ]
  },
  {
   "cell_type": "code",
   "execution_count": null,
   "metadata": {},
   "outputs": [],
   "source": [
    "import logging\n",
    "\n",
    "logging.debug('This is a debug message')\n",
    "logging.info('This is an info message')\n",
    "logging.warning('This is a warning message')\n",
    "logging.error('This is an error message')\n",
    "logging.critical('This is a critical message')"
   ]
  },
  {
   "cell_type": "markdown",
   "metadata": {},
   "source": [
    "The reason why the `debug` and `info` messages are not shown is because the `root` logger has a default logging level of *WARNING*. In other words, it will only show the `WARNING`, `ERROR` and `CRITICAL` severity messages only. If we want to show the `DEBUG` and `INFO` messages, the logging level needs to be changed.\n",
    "\n",
    "### Basic Configurations With The `root` Logger\n",
    "\n",
    "<pre>\n",
    "WARNING:root:This is a warning message\n",
    "</pre>\n",
    "Using the previous output as an example, we can see that there is a certain formatting template applied to the output of the log messages but before we go into log messages formatting, notice the word `root` in the output. This `root` refers to the default `root` logger that is provided to us when the `logging` library was imported. \n",
    "\n",
    "We can change the basic configuration of this `root` logger via the `basicConfig()` function. This function has several keyword arguments but some of the commonly used ones are listed below:\n",
    "* **`level`** - sets the logging level of the logger. This determines the severity events that gets outputted.\n",
    "* **`filename`** - specifies the filename upon which the log is to be written to. By default, it is a `StreamHandler` that outputs the log messages to console/terminal window if the script were to be executed via console/terminal.\n",
    "* **`filemode`** - same as the file modes for writing to files but for logging, the default mode is `a` which means to append. This argument works in conjunction with the `filename` argument or a `FileHandler` that has a filename and file path defined.\n",
    "* **`format`** - specifies the format (or looks) of the log message.\n",
    "\n",
    "Let's try changing the `root` logger's log `level` and see the difference in output. "
   ]
  },
  {
   "cell_type": "code",
   "execution_count": null,
   "metadata": {},
   "outputs": [],
   "source": [
    "import logging\n",
    "\n",
    "logging.basicConfig(level=logging.DEBUG)\n",
    "\n",
    "logging.debug('This is a debug message')\n",
    "logging.info('This is an info message')\n",
    "logging.warning('This is a warning message')\n",
    "logging.error('This is an error message')\n",
    "logging.critical('This is a critical message')"
   ]
  },
  {
   "cell_type": "markdown",
   "metadata": {},
   "source": [
    "We can also use the `root` logger to write the log messages to file."
   ]
  },
  {
   "cell_type": "code",
   "execution_count": null,
   "metadata": {},
   "outputs": [],
   "source": [
    "import logging\n",
    "\n",
    "logging.basicConfig(filename='app.log', filemode='w', format='%(name)s - %(levelname)s - %(message)s')\n",
    "logging.warning('This will get logged to a file')"
   ]
  },
  {
   "cell_type": "markdown",
   "metadata": {},
   "source": [
    "The above code will generate a file called `app.log` in the folder where the code was executed and in it will contain a single line with defined by `logging.warning()`. Regardless of the number of times this script is executed, there will only be that one single warning message as the file's write mode is set to `w` which means that it will overwrite all other log messages in the file before it."
   ]
  },
  {
   "cell_type": "markdown",
   "metadata": {},
   "source": [
    "### Formatting Log Messages\n",
    "\n",
    "As mentioned earlier, a log message is turned into `LogRecord` object internally. This `LogRecord` has a number of attributes that we can use to merge data from the record into a format string. The table below lists some of the more commonly used attributes. The full list can be found [here](https://docs.python.org/3/library/logging.html#logrecord-attributes).\n",
    "\n",
    "<style>\n",
    "    tr:nth-child(even) { background-color:#f2f2f2; }\n",
    "    table: width=\"100%\"\n",
    "</style>\n",
    "<table align=\"center\" border=1>\n",
    "    <colgroup>\n",
    "       <col span=\"1\" style=\"width: 20%;\">\n",
    "       <col span=\"1\" style=\"width: 22%;\">\n",
    "       <col span=\"1\" style=\"width: 58%;\">\n",
    "    </colgroup>\n",
    "    <tr>\n",
    "        <th align=\"center\">Attribute Name</th>\n",
    "        <th align=\"center\">Format</th>\n",
    "        <th align=\"center\">Description</th>\n",
    "    </tr>\n",
    "    <tr>\n",
    "        <td>asctime</td>\n",
    "        <td><code>%(asctime)s</code></td>\n",
    "        <td>Human-readable timestamp when the LogRecord was created.</td>\n",
    "    </tr>\n",
    "    <tr>\n",
    "        <td>filename</td>\n",
    "        <td><code>%(filename)s</code></td>\n",
    "        <td>Filename portion of pathname.</td>\n",
    "    </tr>\n",
    "    <tr>\n",
    "        <td>funcName</td>\n",
    "        <td><code>%(funcName)s</code></td>\n",
    "        <td>Function name containing the logging function call.</td>\n",
    "    </tr>\n",
    "    <tr>\n",
    "        <td>levelname</td>\n",
    "        <td><code>%(levelname)s</code></td>\n",
    "        <td>Name of the severity level for the message.</td>\n",
    "    </tr>\n",
    "    <tr>\n",
    "        <td>lineno</td>\n",
    "        <td><code>%(lineno)d</code></td>\n",
    "        <td>Source line number where the logging call was issued (if available).</td>\n",
    "    </tr>\n",
    "    <tr>\n",
    "        <td>message</td>\n",
    "        <td><code>%(message)s</code></td>\n",
    "        <td>The logged message.</td>\n",
    "    </tr>\n",
    "    <tr>\n",
    "        <td>module</td>\n",
    "        <td><code>%(module)s</code></td>\n",
    "        <td>Module name (filename without the extension).</td>\n",
    "    </tr>\n",
    "    <tr>\n",
    "        <td>name</td>\n",
    "        <td><code>%(name)s</code></td>\n",
    "        <td>Logger name.</td>\n",
    "    </tr>\n",
    "</table>\n",
    "\n",
    "A **note** on the `asctime` attribute can be further edited using the `datefmt` argument for the `basicConfig()` function. The date and time format string for the `datefmt` argument follows the same formatting codes and rules as is in the `datetime` module.\n",
    "\n",
    "A common log message formatting string is shown below. Depending on the number of loggers the application has, the `%(name)s` is optional.\n",
    "\n",
    "```python\n",
    "# example 1\n",
    "format='%(asctime)s - %(name)s - %(levelname)s - %(funcName)s:%(lineno)d - %(message)s'\n",
    "\n",
    "# example 2\n",
    "logging.Formatter('%(asctime)s - %(name)s - %(levelname)s - %(message)s', datefmt='%d-%b-%Y %H:%M:%S')\n",
    "```"
   ]
  },
  {
   "cell_type": "markdown",
   "metadata": {},
   "source": [
    "### Logging Variable Data and Stack Traces\n",
    "\n",
    "Sometimes we may want to know what is the variable data at a certain point during the application's runtime. Previously, we may use multiple `print()` functions to print out the data but when the application is to be deployed, removing those `print()` functions is going to take some time thus we can use logging to help with that.\n",
    "\n",
    "As we have seen that the different logging levels shows different types of severity events, we can change the format the messages via string formatting to make the messages more informative. This is different from formatting the appearances of the log message as this time, we are incorporating the runtime data into the message. The messages can then be formatted using the standard String formatting syntax and principles as defined in the chapter on *Strings*.\n",
    "\n",
    "**Example: Logging a variable**"
   ]
  },
  {
   "cell_type": "code",
   "execution_count": null,
   "metadata": {},
   "outputs": [],
   "source": [
    "import logging\n",
    "\n",
    "name = 'John'\n",
    "logging.error(f'{name} raised an error')"
   ]
  },
  {
   "cell_type": "markdown",
   "metadata": {},
   "source": [
    "Logging stack trace is also another helpful method used to log exception errors. As we may not know which exception has been triggered or we may not want the application to abruptly end despite an exception having occurred thus we can use the logger to show it.\n",
    "\n",
    "**Example: Logging stack traces**"
   ]
  },
  {
   "cell_type": "code",
   "execution_count": null,
   "metadata": {},
   "outputs": [],
   "source": [
    "import logging\n",
    "\n",
    "num_pair_list = [(4,8),(0,6),(9,7)]\n",
    "for idx, num_pair in enumerate(num_pair_list):\n",
    "    try: \n",
    "        a,b = num_pair\n",
    "        # exceptions will occur in line 8\n",
    "        print(f'pair {idx} result: {b/a:.2f}')\n",
    "    except Exception:\n",
    "        logging.exception(f'Exception occurred, values are {a},{b}')\n",
    "        pass"
   ]
  },
  {
   "attachments": {
    "5b8ea01e-74ce-4ee6-84f6-8dccd06fce13.png": {
     "image/png": "[encoded data removed]"
    }
   },
   "cell_type": "markdown",
   "metadata": {},
   "source": [
    "The above example allows the program to continue running regardless of exceptions being triggered. However, we are still able to see which exceptions were triggered from the outputted log messages.\n",
    "\n",
    "**Note** that the `logging.exception()` function is a shortcut for logging exception messages only. It is equivalent to `logging.error(<message>, exc_info=True)` however, if you would like to use the other log message functions (`debug()`, `info()`, etc), you will also need to add the `exc_info` parameter as `True` to those functions.\n",
    "\n",
    "### Logging with Custom Loggers\n",
    "As the applications you develop get bigger and more complex, the `root` logger is no longer appropriate for use therefore it is encouraged that you create your own loggers. There are many [ways](https://docs.python.org/3/library/logging.config.html) to create custom loggers. Some of these ways are by using a config file (`.ini` or YAML file) or config dictionary, rotating loggers, etc. Regardless of the different types of custom loggers, all of them share the same key aspects:\n",
    "\n",
    "* The custom logger has to be an object of the `Logger` class which will automatically create the `LogRecord` object for the log messages.\n",
    "* It must have a `Handler` which will oversee where the `LogRecord` objects are output to such as to console or to file. The full list of logging `Handler`s can be found [here](https://docs.python.org/3/library/logging.handlers.html).\n",
    "* It must have a `Formatter` where you specify the output format string of your log messages.\n",
    "\n",
    "From the Python documentation, the logging flow is illustrated as\n",
    "\n",
    "![logging_flow.png](attachment:5b8ea01e-74ce-4ee6-84f6-8dccd06fce13.png)\n",
    "\n",
    "<br>\n",
    "\n",
    "**Example: An in-code custom logger created using a Python script file**"
   ]
  },
  {
   "cell_type": "code",
   "execution_count": null,
   "metadata": {},
   "outputs": [],
   "source": [
    "# logger_example.py\n",
    "import logging\n",
    "\n",
    "# custom loggers\n",
    "file_logger = logging.getLogger(\"file_logger\")\n",
    "console_logger = logging.getLogger(\"console_logger\")\n",
    "\n",
    "# custom handlers\n",
    "console_handler = logging.StreamHandler()\n",
    "console_handler.setLevel(logging.WARNING)\n",
    "\n",
    "file_handler = logging.FileHandler('app.log', mode='w')\n",
    "file_handler.setLevel(logging.ERROR)\n",
    "\n",
    "# custom formatters and adding them to the handlers\n",
    "console_format = logging.Formatter('%(name)s - %(levelname)s - %(message)s')\n",
    "file_format = logging.Formatter('%(asctime)s - %(name)s - %(levelname)s - %(message)s',\n",
    "                                datefmt='%d-%b-%Y %H:%M:%S')\n",
    "\n",
    "console_handler.setFormatter(console_format)\n",
    "file_handler.setFormatter(file_format)\n",
    "\n",
    "# adding the handlers to the logger\n",
    "console_logger.addHandler(console_handler)\n",
    "file_logger.addHandler(file_handler)"
   ]
  },
  {
   "cell_type": "markdown",
   "metadata": {},
   "source": [
    "The breakdown is as follows:\n",
    "\n",
    "1. There are 2 custom loggers: `console_logger` and `file_logger` (line 5 and 6). \n",
    "2. `console_logger` output logs to the console/terminal using the `StreamHandler()` (line 9) and it will output the log messages with log levels `WARNING` and above (line10).\n",
    "3. `file_logger` output logs to a file using a `FileHandler()` with *write* mode (line 12) and it will output the log messages with log levels `ERROR` and above (line13).\n",
    "4. Each logger has their own formatter defined in lines 16 to 18 and they are passed to their respective handlers in lines 20 and 21. Note that it is perfectly fine for `Handler`s to use a common formatter.\n",
    "5. Once the `Handler`s have been settled, it is then added to their respective loggers in line 24 and 25.\n",
    "\n",
    "Once the custom loggers have been setup, they are now ready or use in whichever script file that requires the logging services. All the scripts need to do is to import the required logger and use it to log their messages."
   ]
  },
  {
   "cell_type": "markdown",
   "metadata": {},
   "source": [
    "## Summary\n",
    "* Callback functions, how to use them and their differences from `lambda` functions\n",
    "* Basic logging library using `root` logger\n",
    "* Ways to format a log message\n",
    "* How logging can be used to log variables and stack traces\n",
    "* How custom loggers are created and used"
   ]
  }
 ],
 "metadata": {
  "kernelspec": {
   "display_name": "Python 3",
   "language": "python",
   "name": "python3"
  },
  "language_info": {
   "codemirror_mode": {
    "name": "ipython",
    "version": 3
   },
   "file_extension": ".py",
   "mimetype": "text/x-python",
   "name": "python",
   "nbconvert_exporter": "python",
   "pygments_lexer": "ipython3",
   "version": "3.7.7"
  }
 },
 "nbformat": 4,
 "nbformat_minor": 4
}
