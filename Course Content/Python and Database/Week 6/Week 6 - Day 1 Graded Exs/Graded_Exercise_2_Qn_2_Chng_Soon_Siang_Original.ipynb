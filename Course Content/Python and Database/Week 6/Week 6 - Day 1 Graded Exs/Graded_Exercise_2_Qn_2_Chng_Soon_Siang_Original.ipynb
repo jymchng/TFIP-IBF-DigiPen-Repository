{
 "cells": [
  {
   "cell_type": "markdown",
   "metadata": {},
   "source": [
    "# Graded Exercise 2\n",
    "\n",
    "## Question 2 - Developing part of a special Calculator.\n",
    "#### Total Marks: 100 marks **without** regex, 130 marks **with** regex implementation"
   ]
  },
  {
   "cell_type": "markdown",
   "metadata": {},
   "source": [
    "**Important: Remember to use docstrings to document your class and functions. Comment important parts of your code as well.**\n",
    "\n",
    "This calculator is able to do **element-wise** operations (**only `+` and `/`**) with 3 types of values:\n",
    "* 2 lists of numbers **hint:** use `zip()` function\n",
    "* a list of numbers with a single floating point number\n",
    "* 2 floating point numbers\n",
    "\n",
    "**Allowable libraries: `re`, only if attempting the regular expression portion.**\n",
    "\n",
    "**ALL operators and operands are to be entered via user input. Your program is to check for invalid inputs regarding the operators. For the operands, invalid inputs are to be filtered out via the respective validation or conversion functions.**\n",
    "\n",
    "<br>\n",
    "\n",
    "**This task is broken down into several parts as follows:**\n",
    "\n",
    "**Part 1 (74 marks + 24 marks for `extract_input`):**<br>\n",
    "Write a class called **`Calculator`** with the following:\n",
    "* a constructor with that **has no inputs but set an instance variable `result` to `None`**.\n",
    "* 2 functions called **`add` and `divide`** that accepts **2 values** and return either a **list of numbers or a single floating point number through the instance variable**. The input values can either be a **list of numbers or a single floating point number**.\n",
    " - each of these functions are **to check** which types of input has been given (either list or float) and **perform the respective element-wise operation**.\n",
    " - if an operation is **invalid**, due to reasons such as division by 0, the function **cannot fail** but it is to result in a `N.A` string value then **continue with the other numbers**.\n",
    "* a function called **`extract_input`** that takes in a single string of numbers and returns a cleaned string of numbers or `None`. This function is to validate the string via **regular expressions**.\n",
    "* a function called **`convert_str_to_numerical`** that **takes a single string input and returns a list of floats or `None`**. This function is to convert the comma separated string of numbers or string numeral to either a list of floats or a float or `None` if it cannot be converted.\n",
    "\n",
    "<br>\n",
    "\n",
    "**Part 2 (26 marks + 6 marks for `extract_input`):**<br>\n",
    "Write **a program (not a function)** to test your class.\n",
    "* the program is to **run continuously until a letter `q` (case insensitive)** is entered in the **operator entry** question (aka next bullet point).\n",
    "* the program is to ask the user to input an operator. This **operator is either a `+` or `/` or `q` (case insensitive)**. `q` means the **program exits**.\n",
    " - if the operator input is wrong, an error message is to be shown to the user. **This check is to be done by the program NOT the `Calculator` class**.\n",
    "* **after** the entering a valid operator, it is to ask for **2 sets of numerical inputs**.\n",
    " - **comma separated inputs** are to be converted to **a list of floats**.\n",
    " - **single numerical values** are to be converted to **floats**.\n",
    "* **the program is to call** the respective `Calculator` functions to clean the numerical inputs **before** performing the operations."
   ]
  },
  {
   "cell_type": "markdown",
   "metadata": {},
   "source": [
    "## Super Important\n",
    "\n",
    "Complete the **`convert_str_to_numerical`** function before attempting the **`extract_input`** function. As those 2 functions are **to be used together if implemented**.<br>\n",
    "To help you with your conversion function and to formulate your regular expression, use the following table of outputs to help you.<br>**NO lookahead or lookbehind function is required for the regular expression.**\n",
    "\n",
    "| Inputs | Only `convert_str_to_numerical` Output | `extract_input` with `convert_str_to_numerical` Output |\n",
    "|:---|:---|:---|\n",
    "| `0` | `0.0` | `0.0` |\n",
    "| `1254` | `1254.0` | `1254.0` |\n",
    "| `5,8,2,6,0.36+-` | `[5.0, 8.0, 2.0, 6.0]` | `[5.0, 8.0, 2.0, 6.0, 0.36]` |\n",
    "| `1,69,3.6,1..25` | `[1.0, 69.0, 3.6]` | `[1.0, 69.0, 3.6]` | \n",
    "| `0.62,522,` | `[0.62, 522.0]` | `[0.62, 522.0]` |\n",
    "| `5,+59,2.6+` | `[5.0, 59.0]` | `[5.0, 59.0, 2.6]` |\n",
    "| `-8, 9, 1` | `[-8.0, 9.0, 1.0]` | `[-8.0, 9.0, 1.0]` |\n",
    "| `5.2, +5, 8m, 581.8, 854` | `[5.2, 5.0, 581.8, 854.0]` | `[5.2, 5.0, 581.8, 854.0]` |\n",
    "| `7f,f8.6,5` | `[5.0]` | `[8.6, 5.0]` |\n",
    "| `sdf,g,$%^%$^,hgfh,dfgd` | `None` | `None`|\n",
    "| `dsfd, 445d, gd54, 44, ^^&33, #$5$#` | `[44.0]` | `[54.0, 44.0, 33.0, 5.0]` |"
   ]
  },
  {
   "cell_type": "markdown",
   "metadata": {},
   "source": [
    "## Output for program WITHOUT `extract_input` function"
   ]
  },
  {
   "cell_type": "markdown",
   "metadata": {
    "jupyter": {
     "source_hidden": true
    }
   },
   "source": [
    "<pre>\n",
    "Enter operation to perform:  f\n",
    "Please enter a correct operator.\n",
    "\n",
    "Enter operation to perform:  +\n",
    "Enter 1st value:  9.6\n",
    "Enter 2nd value:  3.5\n",
    "Results of 9.6 + 3.5 = 13.1\n",
    "\n",
    "Enter operation to perform:  +\n",
    "Enter 1st value:  r,8,9,5,6.3\n",
    "Enter 2nd value:  5\n",
    "Results of [8.0, 9.0, 5.0, 6.3] + 5.0 = [13.0, 14.0, 10.0, 11.3]\n",
    "\n",
    "Enter operation to perform:  +\n",
    "Enter 1st value:  1,2,3f,4,5\n",
    "Enter 2nd value:  9,8,7,4\n",
    "Results of [1.0, 2.0, 4.0, 5.0] + [9.0, 8.0, 7.0, 4.0] = [10.0, 10.0, 11.0, 9.0]\n",
    "\n",
    "Enter operation to perform:  +\n",
    "Enter 1st value:  9,6,8\n",
    "Enter 2nd value:  1,5\n",
    "Results of [9.0, 6.0, 8.0] + [1.0, 5.0] = [10.0, 11.0]\n",
    "\n",
    "Enter operation to perform:  +\n",
    "Enter 1st value:  a,a,f,f,s\n",
    "Enter 2nd value:  5\n",
    "Operation cannot be performed because of invalid operands.\n",
    "\n",
    "Enter operation to perform:  /\n",
    "Enter 1st value:  0,8,5\n",
    "Enter 2nd value:  2,0,9\n",
    "Results of [0.0, 8.0, 5.0] / [2.0, 0.0, 9.0] = ['N.A', 0.0, 1.8]\n",
    "\n",
    "Enter operation to perform:  /\n",
    "Enter 1st value:  0\n",
    "Enter 2nd value:  8\n",
    "Results of 0.0 / 8.0 = N.A\n",
    "\n",
    "Enter operation to perform:  /\n",
    "Enter 1st value:  9\n",
    "Enter 2nd value:  0\n",
    "Results of 9.0 / 0.0 = 0.0\n",
    "\n",
    "Enter operation to perform:  /\n",
    "Enter 1st value:  8h,9,6.3,4n,5\n",
    "Enter 2nd value:  5\n",
    "Results of [9.0, 6.3, 5.0] / 5.0 = [1.8, 1.26, 1.0]\n",
    "\n",
    "Enter operation to perform:  Q\n",
    "Bye Bye\n",
    "</pre>"
   ]
  },
  {
   "cell_type": "markdown",
   "metadata": {},
   "source": [
    "## Output for program WITH `extract_input` and `convert_str_to_numerical` function"
   ]
  },
  {
   "cell_type": "markdown",
   "metadata": {
    "jupyter": {
     "source_hidden": true
    }
   },
   "source": [
    "<pre>\n",
    "Enter operation to perform:  f\n",
    "Please enter a correct operator.\n",
    "\n",
    "Enter operation to perform:  +\n",
    "Enter 1st value:  9.6\n",
    "Enter 2nd value:  3.5\n",
    "Results of 9.6 + 3.5 = 13.1\n",
    "\n",
    "Enter operation to perform:  +\n",
    "Enter 1st value:  r, 8, d9, 5^&amp;, 6.3\n",
    "Enter 2nd value:  5\n",
    "Results of [8.0, 9.0, 5.0, 6.3] + 5.0 = [13.0, 14.0, 10.0, 11.3]\n",
    "\n",
    "Enter operation to perform:  +\n",
    "Enter 1st value:  a,a,f,f,s\n",
    "Enter 2nd value:  5\n",
    "Operation cannot be performed because of invalid operands.\n",
    "\n",
    "Enter operation to perform:  +\n",
    "Enter 1st value:  5,8,2,6,0.36+-\n",
    "Enter 2nd value:  dsfd, 445d, gd54, 44, ^^&amp;33, #$5$#\n",
    "Results of [5.0, 8.0, 2.0, 6.0, 0.36] + [54.0, 44.0, 33.0, 5.0] = [59.0, 52.0, 35.0, 11.0]\n",
    "\n",
    "Enter operation to perform:  +\n",
    "Enter 1st value:  9,6,8\n",
    "Enter 2nd value:  1,5\n",
    "Results of [9.0, 6.0, 8.0] + [1.0, 5.0] = [10.0, 11.0]\n",
    "\n",
    "Enter operation to perform:  /\n",
    "Enter 1st value:  0\n",
    "Enter 2nd value:  8\n",
    "Results of 0.0 / 8.0 = N.A\n",
    "\n",
    "Enter operation to perform:  /\n",
    "Enter 1st value:  9,6,14\n",
    "Enter 2nd value:  5,8\n",
    "Results of [9.0, 6.0, 14.0] / [5.0, 8.0] = [0.56, 1.33]\n",
    "\n",
    "Enter operation to perform:  /\n",
    "Enter 1st value:  8h,9,6.3,4n,5\n",
    "Enter 2nd value:  5\n",
    "Results of [9.0, 6.3, 5.0] / 5.0 = [1.8, 1.26, 1.0]\n",
    "\n",
    "Enter operation to perform:  /\n",
    "Enter 1st value:  dsfd, 445d, gd54, 44, ^^&amp;33, #$5$#\n",
    "Enter 2nd value:  1,69,3.6,1..25\n",
    "Results of [54.0, 44.0, 33.0, 5.0] / [1.0, 69.0, 3.6] = [0.02, 1.57, 0.11]\n",
    "\n",
    "Enter operation to perform:  Q\n",
    "Bye Bye\n",
    "</pre>"
   ]
  },
  {
   "cell_type": "code",
   "execution_count": 1,
   "metadata": {
    "ExecuteTime": {
     "end_time": "2020-11-30T07:55:29.635704Z",
     "start_time": "2020-11-30T07:55:29.613764Z"
    }
   },
   "outputs": [],
   "source": [
    "import regex as re"
   ]
  },
  {
   "cell_type": "markdown",
   "metadata": {},
   "source": [
    "**Part 1 (74 marks + 24 marks for `extract_input`):**<br>\n",
    "Write a class called **`Calculator`** with the following:\n",
    "* a constructor with that **has no inputs but set an instance variable `result` to `None`**.\n",
    "* 2 functions called **`add` and `divide`** that accepts **2 values** and return either a **list of numbers or a single floating point number through the instance variable**. The input values can either be a **list of numbers or a single floating point number**.\n",
    " - each of these functions are **to check** which types of input has been given (either list or float) and **perform the respective element-wise operation**.\n",
    " - if an operation is **invalid**, due to reasons such as division by 0, the function **cannot fail** but it is to result in a `N.A` string value then **continue with the other numbers**.\n",
    "* a function called **`extract_input`** that takes in a single string of numbers and returns a cleaned string of numbers or `None`. This function is to validate the string via **regular expressions**.\n",
    "* a function called **`convert_str_to_numerical`** that **takes a single string input and returns a list of floats or `None`**. This function is to convert the comma separated string of numbers or string numeral to either a list of floats or a float or `None` if it cannot be converted."
   ]
  },
  {
   "cell_type": "code",
   "execution_count": 34,
   "metadata": {
    "ExecuteTime": {
     "end_time": "2020-11-30T08:27:31.459993Z",
     "start_time": "2020-11-30T08:27:31.430048Z"
    }
   },
   "outputs": [],
   "source": [
    "class Calculator:\n",
    "    \n",
    "    def __init__(self):\n",
    "        result = None\n",
    "        \n",
    "    def add(self, a, b):\n",
    "        \n",
    "        if isinstance(a,list) and isinstance(b,list):\n",
    "            lst = []\n",
    "            minlst = a if len(a)<=len(b) else b\n",
    "            maxlst = b if minlst == a else a\n",
    "            \n",
    "            for i in range(len(minlst)):\n",
    "                if isinstance(minlst[i],(float,int)) and isinstance(maxlst[i],(float,int)):\n",
    "                    lst.append(minlst[i]+maxlst[i])\n",
    "                else:\n",
    "                    continue\n",
    "            return lst\n",
    "        \n",
    "        elif ((isinstance(a,list) and isinstance(b,(float,int))) or (isinstance(b,list) and isinstance(a,(float,int)))):\n",
    "            \n",
    "            floatnum = a if isinstance(a,(float,int)) else b\n",
    "            floatlst = a if isinstance(a,list) else b\n",
    "            lst = []\n",
    "            for i in range(len(floatlst)):\n",
    "                if isinstance(floatlst[i],(float,int)):\n",
    "                    lst.append(floatnum+floatlst[i])\n",
    "                else:\n",
    "                    continue\n",
    "            return lst\n",
    "        \n",
    "        elif isinstance(a,(float,int)) and isinstance(b,(float,int)):\n",
    "            return a+b\n",
    "        \n",
    "    def divide(self, a, b):\n",
    "        \n",
    "        if isinstance(a,list) and isinstance(b,list):\n",
    "            lst = []\n",
    "            \n",
    "            for i in range(len(a)):\n",
    "                if i>=len(a) or i>=len(b):\n",
    "                    break\n",
    "                if isinstance(a[i],(float,int)) and isinstance(b[i],(float,int)) and (b[i]-0)>1e-5:\n",
    "                    try:\n",
    "                        lst.append(a[i]/b[i])\n",
    "                    except (IndexError, ValueError):\n",
    "                        break\n",
    "                else:\n",
    "                    lst.append('N.A')\n",
    "            return lst\n",
    "        \n",
    "        elif ((isinstance(a,list) and isinstance(b,(float,int))) or (isinstance(b,list) and isinstance(a,(float,int)))):\n",
    "            \n",
    "            floatnum = a if isinstance(a,(float,int)) else b\n",
    "            floatlst = a if isinstance(a,list) else b\n",
    "            lst = []\n",
    "            for i in range(len(floatlst)):\n",
    "                if isinstance(floatlst[i],(float,int)):\n",
    "                    lst.append(floatlst[i]/floatnum) if (floatnum-0)>1e-5 else lst.append('N.A')\n",
    "                else:\n",
    "                    continue\n",
    "            return lst\n",
    "        \n",
    "        elif isinstance(a,(float,int)) and isinstance(b,(float,int)):\n",
    "            return a/b if (b-0)>1e-5 else 'N.A'\n",
    "        \n",
    "    def extract_input(self,stri):\n",
    "        # strinum = re.findall(r'\\d+[.]\\d+||[.]\\d+||\\d+\\d+[.]\\d+||\\d', stri)\n",
    "        strinum = re.findall(r'\\d+[.]\\d+||[.]\\d+||\\d+\\d+[.]\\d+||\\d||^\\d*', stri)\n",
    "        strinum[:] = [x for x in strinum if x]\n",
    "        # print(\"\".join(strinum)==\"\")\n",
    "        return \"\".join(strinum) if \"\".join(strinum)  else None\n",
    "    \n",
    "    def convert_str_to_numerical(self,stri):\n",
    "        \n",
    "        strilist = stri.split(\",\")\n",
    "        # print(strilist)\n",
    "        lst = []\n",
    "        for strii in strilist:\n",
    "            if self.extract_input(strii) != None:\n",
    "                lst.append(float(self.extract_input(strii)))\n",
    "            else:\n",
    "                continue\n",
    "        return lst if lst else None"
   ]
  },
  {
   "cell_type": "code",
   "execution_count": 35,
   "metadata": {
    "ExecuteTime": {
     "end_time": "2020-11-30T08:27:32.198990Z",
     "start_time": "2020-11-30T08:27:32.169069Z"
    }
   },
   "outputs": [
    {
     "name": "stdout",
     "output_type": "stream",
     "text": [
      "1 [2, 4, 6]\n",
      "1.5 [11, 11, 11]\n",
      "1.6 [6, 6, 6, 6, 6]\n",
      "2 [2, 4]\n",
      "3 [5, 6, 7]\n",
      "4 [5, 6]\n",
      "5 [5.2, 6.2, 7.2, 8.2]\n",
      "6 5.2\n",
      "----------\n",
      "1 [1.0, 1.0, 1.0]\n",
      "2 [1.0, 1.0, 'N.A']\n",
      "3 [0.25, 0.5, 0.75]\n",
      "4 ['N.A', 'N.A', 'N.A']\n",
      "5 [0.25, 0.5]\n",
      "6 [0.23809523809523808, 0.47619047619047616, 0.7142857142857143, 0.9523809523809523]\n",
      "7 ['N.A', 'N.A', 'N.A', 'N.A']\n",
      "8 0.625\n",
      "9 0.0\n",
      "10 N.A\n",
      "11 [1.0, 1.0, 'N.A', 0.75, 0.8]\n",
      "12 [0.0, 1.0, 'N.A']\n",
      "----------\n",
      "13 48.93\n",
      "14 48932.932\n",
      "15 None\n",
      "16 4.8932932\n",
      "----------\n",
      "17 [39.39439, 43.0, 943.493, 94.321, 43.0]\n",
      "18 39.39439\n",
      "19 43\n",
      "20 943.493\n",
      "21 94.321\n",
      "22 None\n",
      "23 [4334.344543]\n"
     ]
    }
   ],
   "source": [
    "calc = Calculator()\n",
    "        \n",
    "print(\"1\", calc.add([1,2,3],[1,2,3,4]))\n",
    "print(\"1.5\", calc.add([10,9,8],[1,2,3,4]))\n",
    "print(\"1.6\", calc.add([5,4,3,2,1],[1,2,3,4,5]))\n",
    "print(\"2\",calc.add([1,2,3],[1,2,'th',4]))\n",
    "print(\"3\",calc.add([1,2,3],4))\n",
    "print(\"4\",calc.add([1,2,'th'],4))\n",
    "print(\"5\",calc.add(4.2,[1,2,3,4]))\n",
    "print(\"6\",calc.add(2,3.2))\n",
    "print(\"-\"*10)\n",
    "print(\"1\",calc.divide([1,2,3],[1,2,3,4]))\n",
    "print(\"2\",calc.divide([1,2,3],[1,2,'th',4]))\n",
    "print(\"3\",calc.divide([1,2,3],4))\n",
    "print(\"4\",calc.divide([1,2,3],0.0))\n",
    "print(\"5\",calc.divide([1,2,'th'],4))\n",
    "print(\"6\",calc.divide(4.2,[1,2,3,4]))\n",
    "print(\"7\",calc.divide(0.0,[1,2,3,4]))\n",
    "print(\"8\",calc.divide(2,3.2))\n",
    "print(\"9\",calc.divide(0.0,3.2))\n",
    "print(\"10\",calc.divide(3.2,0.0))\n",
    "print(\"11\",calc.divide([1,2,3,3,4,5,6,7],[1,2,0.0,4,5]))\n",
    "print(\"12\",calc.divide([0.0,2,3],[1,2,'th',4]))\n",
    "print(\"-\"*10)\n",
    "print(\"13\",calc.extract_input(\"48.93jdi..sjdi\"))\n",
    "print(\"14\",calc.extract_input(\"+48+9+32.932\"))\n",
    "print(\"15\",calc.extract_input(\"ds+++jdis\"))\n",
    "print(\"16\",calc.extract_input(\"4.893jdisjdi2932)#*)JISJDjjs\"))\n",
    "print(\"-\"*10)\n",
    "lenlist = \"39eijdsjdo.39439,43okoewe,943.493zz,94.321,4rr3\"\n",
    "lenlist2 = \"sjidsjd,sdjisdjiw,dsijdsi\"\n",
    "print(\"17\",calc.convert_str_to_numerical(lenlist))\n",
    "print(\"18\",calc.extract_input(\"39eijdsjdo.39439\"))\n",
    "print(\"19\",calc.extract_input(\"43okoewe\"))\n",
    "print(\"20\",calc.extract_input(\"943.493zz\"))\n",
    "print(\"21\",calc.extract_input(\"94.321\"))\n",
    "print(\"22\",calc.convert_str_to_numerical(lenlist2))\n",
    "print(\"23\",calc.convert_str_to_numerical(\"43+++==3hrg4.34454fege3\"))"
   ]
  },
  {
   "cell_type": "code",
   "execution_count": null,
   "metadata": {
    "ExecuteTime": {
     "end_time": "2020-11-30T08:16:28.947417Z",
     "start_time": "2020-11-30T08:16:27.580Z"
    }
   },
   "outputs": [],
   "source": [
    "re.findall(r'\\d+', \"jdisdjis\")"
   ]
  },
  {
   "cell_type": "markdown",
   "metadata": {},
   "source": [
    "**Part 2 (26 marks + 6 marks for `extract_input`):**<br>\n",
    "Write **a program (not a function)** to test your class.\n",
    "* the program is to **run continuously until a letter `q` (case insensitive)** is entered in the **operator entry** question (aka next bullet point).\n",
    "* the program is to ask the user to input an operator. This **operator is either a `+` or `/` or `q` (case insensitive)**. `q` means the **program exits**.\n",
    " - if the operator input is wrong, an error message is to be shown to the user. **This check is to be done by the program NOT the `Calculator` class**.\n",
    "* **after** the entering a valid operator, it is to ask for **2 sets of numerical inputs**.\n",
    " - **comma separated inputs** are to be converted to **a list of floats**.\n",
    " - **single numerical values** are to be converted to **floats**.\n",
    "* **the program is to call** the respective `Calculator` functions to clean the numerical inputs **before** performing the operations."
   ]
  },
  {
   "cell_type": "code",
   "execution_count": 33,
   "metadata": {
    "ExecuteTime": {
     "end_time": "2020-11-30T08:18:49.199925Z",
     "start_time": "2020-11-30T08:18:12.966049Z"
    }
   },
   "outputs": [
    {
     "name": "stdout",
     "output_type": "stream",
     "text": [
      "Enter operation to perform: /\n",
      "Enter 1st value: dsfd, 445d, gd54, 44, ^^&33, #$5$#\n",
      "Enter 2nd value: 1,69,3.6,1..25\n",
      "Results of [445.0, 54.0, 44.0, 33.0, 5.0] / [1.0, 69.0, 3.6, 1.25] = [445.0, 0.782608695652174, 12.222222222222221, 26.4]\n"
     ]
    },
    {
     "ename": "KeyboardInterrupt",
     "evalue": "Interrupted by user",
     "output_type": "error",
     "traceback": [
      "\u001b[1;31m---------------------------------------------------------------------------\u001b[0m",
      "\u001b[1;31mKeyboardInterrupt\u001b[0m                         Traceback (most recent call last)",
      "\u001b[1;32m<ipython-input-33-a11965e1d401>\u001b[0m in \u001b[0;36m<module>\u001b[1;34m\u001b[0m\n\u001b[0;32m      1\u001b[0m \u001b[1;32mwhile\u001b[0m \u001b[1;32mTrue\u001b[0m\u001b[1;33m:\u001b[0m\u001b[1;33m\u001b[0m\u001b[1;33m\u001b[0m\u001b[0m\n\u001b[0;32m      2\u001b[0m \u001b[1;33m\u001b[0m\u001b[0m\n\u001b[1;32m----> 3\u001b[1;33m     \u001b[0moperator\u001b[0m \u001b[1;33m=\u001b[0m \u001b[0minput\u001b[0m\u001b[1;33m(\u001b[0m\u001b[1;34m\"Enter operation to perform: \"\u001b[0m\u001b[1;33m)\u001b[0m\u001b[1;33m\u001b[0m\u001b[1;33m\u001b[0m\u001b[0m\n\u001b[0m\u001b[0;32m      4\u001b[0m \u001b[1;33m\u001b[0m\u001b[0m\n\u001b[0;32m      5\u001b[0m     \u001b[1;32mif\u001b[0m \u001b[0moperator\u001b[0m\u001b[1;33m.\u001b[0m\u001b[0mlower\u001b[0m\u001b[1;33m(\u001b[0m\u001b[1;33m)\u001b[0m \u001b[1;33m==\u001b[0m \u001b[1;34m'q'\u001b[0m\u001b[1;33m:\u001b[0m\u001b[1;33m\u001b[0m\u001b[1;33m\u001b[0m\u001b[0m\n",
      "\u001b[1;32m~\\anaconda3\\lib\\site-packages\\ipykernel\\kernelbase.py\u001b[0m in \u001b[0;36mraw_input\u001b[1;34m(self, prompt)\u001b[0m\n\u001b[0;32m    861\u001b[0m             \u001b[0mself\u001b[0m\u001b[1;33m.\u001b[0m\u001b[0m_parent_ident\u001b[0m\u001b[1;33m,\u001b[0m\u001b[1;33m\u001b[0m\u001b[1;33m\u001b[0m\u001b[0m\n\u001b[0;32m    862\u001b[0m             \u001b[0mself\u001b[0m\u001b[1;33m.\u001b[0m\u001b[0m_parent_header\u001b[0m\u001b[1;33m,\u001b[0m\u001b[1;33m\u001b[0m\u001b[1;33m\u001b[0m\u001b[0m\n\u001b[1;32m--> 863\u001b[1;33m             \u001b[0mpassword\u001b[0m\u001b[1;33m=\u001b[0m\u001b[1;32mFalse\u001b[0m\u001b[1;33m,\u001b[0m\u001b[1;33m\u001b[0m\u001b[1;33m\u001b[0m\u001b[0m\n\u001b[0m\u001b[0;32m    864\u001b[0m         )\n\u001b[0;32m    865\u001b[0m \u001b[1;33m\u001b[0m\u001b[0m\n",
      "\u001b[1;32m~\\anaconda3\\lib\\site-packages\\ipykernel\\kernelbase.py\u001b[0m in \u001b[0;36m_input_request\u001b[1;34m(self, prompt, ident, parent, password)\u001b[0m\n\u001b[0;32m    902\u001b[0m             \u001b[1;32mexcept\u001b[0m \u001b[0mKeyboardInterrupt\u001b[0m\u001b[1;33m:\u001b[0m\u001b[1;33m\u001b[0m\u001b[1;33m\u001b[0m\u001b[0m\n\u001b[0;32m    903\u001b[0m                 \u001b[1;31m# re-raise KeyboardInterrupt, to truncate traceback\u001b[0m\u001b[1;33m\u001b[0m\u001b[1;33m\u001b[0m\u001b[1;33m\u001b[0m\u001b[0m\n\u001b[1;32m--> 904\u001b[1;33m                 \u001b[1;32mraise\u001b[0m \u001b[0mKeyboardInterrupt\u001b[0m\u001b[1;33m(\u001b[0m\u001b[1;34m\"Interrupted by user\"\u001b[0m\u001b[1;33m)\u001b[0m \u001b[1;32mfrom\u001b[0m \u001b[1;32mNone\u001b[0m\u001b[1;33m\u001b[0m\u001b[1;33m\u001b[0m\u001b[0m\n\u001b[0m\u001b[0;32m    905\u001b[0m             \u001b[1;32mexcept\u001b[0m \u001b[0mException\u001b[0m \u001b[1;32mas\u001b[0m \u001b[0me\u001b[0m\u001b[1;33m:\u001b[0m\u001b[1;33m\u001b[0m\u001b[1;33m\u001b[0m\u001b[0m\n\u001b[0;32m    906\u001b[0m                 \u001b[0mself\u001b[0m\u001b[1;33m.\u001b[0m\u001b[0mlog\u001b[0m\u001b[1;33m.\u001b[0m\u001b[0mwarning\u001b[0m\u001b[1;33m(\u001b[0m\u001b[1;34m\"Invalid Message:\"\u001b[0m\u001b[1;33m,\u001b[0m \u001b[0mexc_info\u001b[0m\u001b[1;33m=\u001b[0m\u001b[1;32mTrue\u001b[0m\u001b[1;33m)\u001b[0m\u001b[1;33m\u001b[0m\u001b[1;33m\u001b[0m\u001b[0m\n",
      "\u001b[1;31mKeyboardInterrupt\u001b[0m: Interrupted by user"
     ]
    }
   ],
   "source": [
    "while True:\n",
    "    \n",
    "    operator = input(\"Enter operation to perform: \")\n",
    "    \n",
    "    if operator.lower() == 'q':\n",
    "            print(\"Bye bye.\")\n",
    "            break\n",
    "    \n",
    "    elif operator not in ['+','/']:\n",
    "        print(\"Please enter a valid operator.\")\n",
    "        continue\n",
    "        \n",
    "    else:\n",
    "        \n",
    "            \n",
    "        firstvalue = input(\"Enter 1st value: \")\n",
    "        secondvalue = input(\"Enter 2nd value: \")\n",
    "\n",
    "        calc = Calculator()\n",
    "\n",
    "        if calc.convert_str_to_numerical(firstvalue) == None or calc.convert_str_to_numerical(secondvalue) == None:\n",
    "            print(\"Operation cannot be performed because of invalid operands.\")\n",
    "            continue  \n",
    "\n",
    "        firstvalue = calc.convert_str_to_numerical(firstvalue)\n",
    "        secondvalue = calc.convert_str_to_numerical(secondvalue)\n",
    "\n",
    "        floatnum1 = float(firstvalue[0]) if len(firstvalue) == 1 else firstvalue\n",
    "        floatnum2 = float(secondvalue[0]) if len(secondvalue) == 1 else secondvalue\n",
    "\n",
    "    #     if floatnum1 == None and floatnum2 == None: # Two lists\n",
    "    #         if operator == '+':\n",
    "    #             result = calc.add(firstvalue,secondvalue)\n",
    "    #             print(f\"Results of {firstvalue} + {secondvalue} = {result}\")\n",
    "    #         elif operator == '/':\n",
    "    #             result = calc.divide(floatnum1,floatnum2)\n",
    "    #             print(f\"Results of {firstvalue} / {secondvalue} = {result}\")\n",
    "\n",
    "        #else: # First value is float, secondvalue is list and vice versa.\n",
    "        if operator == '+':\n",
    "            result = calc.add(floatnum1,floatnum2)\n",
    "            print(f\"Results of {floatnum1} + {floatnum2} = {result}\")\n",
    "        elif operator == '/':\n",
    "            result = calc.divide(floatnum1,floatnum2)\n",
    "            print(f\"Results of {floatnum1} / {floatnum2} = {result}\")\n"
   ]
  },
  {
   "cell_type": "code",
   "execution_count": null,
   "metadata": {},
   "outputs": [],
   "source": [
    "Enter operation to perform:  /\n",
    "Enter 1st value:  8h,9,6.3,4n,5\n",
    "Enter 2nd value:  5\n",
    "Results of [9.0, 6.3, 5.0] / 5.0 = [1.8, 1.26, 1.0]\n",
    "\n",
    "Enter operation to perform:  /\n",
    "Enter 1st value:  dsfd, 445d, gd54, 44, ^^&33, #$5$#\n",
    "Enter 2nd value:  1,69,3.6,1..25\n",
    "Results of [54.0, 44.0, 33.0, 5.0] / [1.0, 69.0, 3.6] = [0.02, 1.57, 0.11]"
   ]
  }
 ],
 "metadata": {
  "kernelspec": {
   "display_name": "Python 3",
   "language": "python",
   "name": "python3"
  },
  "language_info": {
   "codemirror_mode": {
    "name": "ipython",
    "version": 3
   },
   "file_extension": ".py",
   "mimetype": "text/x-python",
   "name": "python",
   "nbconvert_exporter": "python",
   "pygments_lexer": "ipython3",
   "version": "3.7.7"
  }
 },
 "nbformat": 4,
 "nbformat_minor": 4
}
