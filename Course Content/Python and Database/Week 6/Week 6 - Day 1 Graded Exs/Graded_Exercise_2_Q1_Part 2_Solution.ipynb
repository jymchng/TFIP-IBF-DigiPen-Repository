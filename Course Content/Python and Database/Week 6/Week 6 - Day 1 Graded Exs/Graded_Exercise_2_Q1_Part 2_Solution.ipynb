{
 "cells": [
  {
   "cell_type": "markdown",
   "metadata": {},
   "source": [
    "# Part 2 (Marks 60)"
   ]
  },
  {
   "cell_type": "markdown",
   "metadata": {},
   "source": [
    "The following questions needs to be answered for the dataset in the below link:\n",
    " \n",
    "https://grouplens.org/datasets/movielens/100k/\n",
    "\n",
    "Each of the questions carry **10 marks**.  \n",
    "Please submit pdf file along with ipynb file. You need to show the basis of your calculation or inference. \n",
    "\n",
    "\n"
   ]
  },
  {
   "cell_type": "code",
   "execution_count": null,
   "metadata": {},
   "outputs": [],
   "source": [
    "#Import libraries\n",
    "import pandas as pd\n",
    "import matplotlib.pyplot as plt"
   ]
  },
  {
   "cell_type": "code",
   "execution_count": null,
   "metadata": {},
   "outputs": [],
   "source": [
    "#Load the dataset\n",
    "import pandas as pd\n",
    "u_cols = ['user', 'age', 'sex', 'occupation', 'zip_code']\n",
    "users = pd.read_csv('Datasets//ml-100k//u.user', sep='|', names=u_cols, encoding='latin-1')\n",
    "\n",
    "r_cols = ['user', 'movie', 'rating', 'unix_timestamp']\n",
    "ratings = pd.read_csv('Datasets//ml-100k//u.data', sep='\\t', names=r_cols, encoding='latin-1')\n",
    "\n",
    "# the movies file contains columns indicating the movie's genres\n",
    "m_cols = ['movie', 'title', 'release_date', 'video_release_date', 'imdb_url','unknown', 'Action','Adventure', 'Animation', 'Children','Comedy','Crime','Documentary','Drama','Fantasy','FilmNoir','Horror','Musical','Mystery','Romance','Sci-Fi','Thriller','War','Western']\n",
    "\n",
    "movies = pd.read_csv('Datasets//ml-100k//u.item', sep='|', names=m_cols, encoding='latin-1')\n",
    "\n",
    "occupation=pd.read_csv(\"Datasets//ml-100k//u.occupation\")\n",
    "\n",
    "genres1=['Action','Adventure', 'Animation', 'Children','Comedy','Crime','Documentary','Drama','Fantasy','FilmNoir','Horror','Musical','Mystery','Romance','Sci-Fi','Thriller','War','Western']"
   ]
  },
  {
   "cell_type": "code",
   "execution_count": null,
   "metadata": {},
   "outputs": [],
   "source": [
    "# Merging the data based on common coloumns\n",
    "movielens = pd.merge(pd.merge(ratings,users),movies)\n",
    "movielens.head(2)"
   ]
  },
  {
   "cell_type": "markdown",
   "metadata": {},
   "source": [
    "## 1. Among Male doctors in the age group 23- 30"
   ]
  },
  {
   "cell_type": "markdown",
   "metadata": {},
   "source": [
    "### a.  Which genre of the movies they have rated 5 and count the no. of ratings for each genere?"
   ]
  },
  {
   "cell_type": "code",
   "execution_count": null,
   "metadata": {},
   "outputs": [],
   "source": [
    "a=movielens[(movielens.age > 22) & (movielens.age <31) & (movielens.sex == 'M') & (movielens.occupation == 'doctor') & (movielens.rating == 5)]\n",
    "dfa = pd.DataFrame(a, columns=genres1)\n",
    "dfa.head()"
   ]
  },
  {
   "cell_type": "code",
   "execution_count": null,
   "metadata": {},
   "outputs": [],
   "source": [
    "a=movielens[(movielens.age > 22) & (movielens.age <31) & (movielens.sex == 'M') & (movielens.occupation == 'doctor') & (movielens.rating == 5)]\n",
    "dfa = pd.DataFrame(a, columns=genres1)\n",
    "dfa.apply(pd.value_counts).fillna(0)[1:]"
   ]
  },
  {
   "cell_type": "markdown",
   "metadata": {},
   "source": [
    "### b.  What genre of the movies they have rated above 3?"
   ]
  },
  {
   "cell_type": "code",
   "execution_count": null,
   "metadata": {},
   "outputs": [],
   "source": [
    "b=movielens[(movielens.age > 22) & (movielens.age <31) & (movielens.sex == 'M') & (movielens.occupation == 'doctor') & (movielens.rating >3)]\n",
    "dfb = pd.DataFrame(b, columns=genres1)\n",
    " \n",
    "dfb.apply(pd.value_counts).fillna(0)[1:].T"
   ]
  },
  {
   "cell_type": "markdown",
   "metadata": {},
   "source": [
    "### c.  What genre of the movies they have rated below 4?"
   ]
  },
  {
   "cell_type": "code",
   "execution_count": null,
   "metadata": {},
   "outputs": [],
   "source": [
    "c=movielens[(movielens.age > 22) & (movielens.age <31) & (movielens.sex == 'M') & (movielens.occupation == 'doctor') & (movielens.rating <4)]\n",
    "dfb = pd.DataFrame(c, columns=genres1)\n",
    "dfb.apply(pd.value_counts).fillna(0)[1:].T"
   ]
  },
  {
   "cell_type": "markdown",
   "metadata": {},
   "source": [
    "### d.  Write your inferences based on above "
   ]
  },
  {
   "cell_type": "markdown",
   "metadata": {},
   "source": [
    "- Male doctors aged between 23 and 30 have given five star ratings for Drama,Romance and Comedy movies\n",
    "- They prefer to watch Action movies along with the above mentioned genres"
   ]
  },
  {
   "cell_type": "markdown",
   "metadata": {},
   "source": [
    "## 2.\tAmong Female healthcare professionals in the age group 23- 30"
   ]
  },
  {
   "cell_type": "markdown",
   "metadata": {},
   "source": [
    "### a.  What genre of the movies they have rated 5?"
   ]
  },
  {
   "cell_type": "code",
   "execution_count": null,
   "metadata": {},
   "outputs": [],
   "source": [
    "a1=movielens[(movielens.age > 22) & (movielens.age <31) & (movielens.sex == 'F') & (movielens.occupation == 'healthcare') & (movielens.rating ==5)\n",
    "        ]\n",
    "dfa1 = pd.DataFrame(a1, columns=genres1)\n",
    " \n",
    "dfa1.apply(pd.value_counts).fillna(0)[1:]"
   ]
  },
  {
   "cell_type": "markdown",
   "metadata": {},
   "source": [
    "### b.  What genre of the movies they have rated above 3?\n"
   ]
  },
  {
   "cell_type": "code",
   "execution_count": null,
   "metadata": {},
   "outputs": [],
   "source": [
    "b1=movielens[(movielens.age > 22) & (movielens.age <31) & (movielens.sex == 'F') & (movielens.occupation == 'healthcare') & (movielens.rating >3)\n",
    "        ]\n",
    "dfb1 = pd.DataFrame(b1, columns=genres1)\n",
    " \n",
    "dfb1.apply(pd.value_counts).fillna(0)[1:]"
   ]
  },
  {
   "cell_type": "markdown",
   "metadata": {},
   "source": [
    "### c.  What genre of the movies they have rated below 4?"
   ]
  },
  {
   "cell_type": "code",
   "execution_count": null,
   "metadata": {},
   "outputs": [],
   "source": [
    "c1=movielens[(movielens.age > 22) & (movielens.age <31) & (movielens.sex == 'F') & (movielens.occupation == 'healthcare') & (movielens.rating <4)\n",
    "        ]\n",
    "dfc1 = pd.DataFrame(c1, columns=genres1)\n",
    " \n",
    "dfc1.apply(pd.value_counts).fillna(0)[1:]"
   ]
  },
  {
   "cell_type": "markdown",
   "metadata": {},
   "source": [
    "### d.  Write your inferences based on above "
   ]
  },
  {
   "cell_type": "markdown",
   "metadata": {},
   "source": [
    "**Infrences** \n",
    "\n",
    "- They have given most number of 5 star ratings for Drama, romance and thriller\n",
    "- Compared to male doctors in the age group 23-30,they have given only few 5 star ratings to films\n",
    "- Most watched films also belong to Drama,comedy,Romance and Action\n",
    "- So we can infer that they prefer masala movies"
   ]
  },
  {
   "cell_type": "markdown",
   "metadata": {},
   "source": [
    "## 3.\tAmong Male doctors in the age group 35 – 50"
   ]
  },
  {
   "cell_type": "markdown",
   "metadata": {},
   "source": [
    "### a.  What genre of the movies they have rated 5?"
   ]
  },
  {
   "cell_type": "code",
   "execution_count": null,
   "metadata": {},
   "outputs": [],
   "source": [
    "a3=movielens[(movielens.age > 34) & (movielens.age <51) & (movielens.sex == 'M') & (movielens.occupation == 'doctor') & (movielens.rating ==5)\n",
    "        ]\n",
    "dfa3 = pd.DataFrame(a3, columns=genres1)\n",
    " \n",
    "dfa3.apply(pd.value_counts).fillna(0)[1:]"
   ]
  },
  {
   "cell_type": "markdown",
   "metadata": {},
   "source": [
    "### b.  What genre of the movies they have rated above 3?"
   ]
  },
  {
   "cell_type": "code",
   "execution_count": null,
   "metadata": {},
   "outputs": [],
   "source": [
    "b3=movielens[(movielens.age > 34) & (movielens.age <51) & (movielens.sex == 'M') & (movielens.occupation == 'doctor') & (movielens.rating >3)\n",
    "        ]\n",
    "dfb3 = pd.DataFrame(b3, columns=genres1)\n",
    " \n",
    "dfb3.apply(pd.value_counts).fillna(0)[1:]"
   ]
  },
  {
   "cell_type": "markdown",
   "metadata": {},
   "source": [
    "### c.  What genre of the movies they have rated below 4?"
   ]
  },
  {
   "cell_type": "code",
   "execution_count": null,
   "metadata": {},
   "outputs": [],
   "source": [
    "c3=movielens[(movielens.age > 34) & (movielens.age <51) & (movielens.sex == 'M') & (movielens.occupation == 'doctor') & (movielens.rating <4)\n",
    "        ]\n",
    "dfc3 = pd.DataFrame(c3, columns=genres1)\n",
    " \n",
    "dfc3.apply(pd.value_counts).fillna(0)[1:]"
   ]
  },
  {
   "cell_type": "markdown",
   "metadata": {},
   "source": [
    "### d.  Write your inferences based on above   "
   ]
  },
  {
   "cell_type": "markdown",
   "metadata": {},
   "source": [
    "#### Inference\n",
    "- Male Doctors in the age group 35- 50 have rated Drama movies,Action,Thriller movies better compared to other\n",
    "- Among the 4 groups,group 2 and 3 seem to have rated lesser number of movies"
   ]
  },
  {
   "cell_type": "markdown",
   "metadata": {},
   "source": [
    "### a.  What genre of the movies they have rated 5?"
   ]
  },
  {
   "cell_type": "code",
   "execution_count": null,
   "metadata": {},
   "outputs": [],
   "source": [
    "a4=movielens[(movielens.age > 34) & (movielens.age <51) & (movielens.sex == 'F') & (movielens.occupation == 'healthcare') & (movielens.rating ==5)\n",
    "        ]\n",
    "dfa4 = pd.DataFrame(a4, columns=genres1)\n",
    " \n",
    "dfa4.apply(pd.value_counts).fillna(0)[1:]"
   ]
  },
  {
   "cell_type": "markdown",
   "metadata": {},
   "source": [
    "### b.  What genre of the movies they have rated above 3?"
   ]
  },
  {
   "cell_type": "code",
   "execution_count": null,
   "metadata": {},
   "outputs": [],
   "source": [
    "b4=movielens[(movielens.age > 34) & (movielens.age <51) & (movielens.sex == 'F') & (movielens.occupation == 'healthcare') & (movielens.rating >3)\n",
    "        ]\n",
    "dfb4 = pd.DataFrame(b4, columns=genres1)\n",
    " \n",
    "dfb4.apply(pd.value_counts).fillna(0)[1:]"
   ]
  },
  {
   "cell_type": "markdown",
   "metadata": {},
   "source": [
    "### c.  What genre of the movies they have rated below 4?"
   ]
  },
  {
   "cell_type": "code",
   "execution_count": null,
   "metadata": {},
   "outputs": [],
   "source": [
    "c4=movielens[(movielens.age > 34) & (movielens.age <51) & (movielens.sex == 'F') & (movielens.occupation == 'healthcare') & (movielens.rating <4)\n",
    "        ]\n",
    "dfc4 = pd.DataFrame(c4, columns=genres1)\n",
    " \n",
    "dfc4.apply(pd.value_counts).fillna(0)[1:]"
   ]
  },
  {
   "cell_type": "markdown",
   "metadata": {},
   "source": [
    "### d.  Write your inferences based on above "
   ]
  },
  {
   "cell_type": "markdown",
   "metadata": {},
   "source": [
    "#### Inference\n",
    "- This group has watched more number of film-noir genre compared to the above 3 groups. They have watched many thriller and comedy movies compared to other 3 groups. We can classify this group as a movie-buff. They have watched many drama films. They seem to like movies irrespective of their genres. They have watched Sci-Fi films and has given that good ratings also."
   ]
  },
  {
   "cell_type": "markdown",
   "metadata": {},
   "source": [
    "## 5. For each of the following graphs, write your inferences: "
   ]
  },
  {
   "cell_type": "markdown",
   "metadata": {},
   "source": [
    "### 1.\tAge-wise Vs Gender distribution of the users who rated for the movies "
   ]
  },
  {
   "cell_type": "code",
   "execution_count": null,
   "metadata": {},
   "outputs": [],
   "source": [
    "age = pd.cut(movielens['age'], [6.999,23.0,27.0,33.0,44.0,73.0])"
   ]
  },
  {
   "cell_type": "code",
   "execution_count": null,
   "metadata": {},
   "outputs": [],
   "source": [
    "import matplotlib.pyplot as plt\n",
    "import matplotlib.font_manager as fm\n",
    "fontsize2use = 10\n",
    "\n",
    "\n",
    "pivoted = movielens.pivot_table(index=pd.cut(movielens['age'], [6.999,23.0,27.0,33.0,44.0,73.0]),\n",
    "                           columns=['sex'],\n",
    "                           aggfunc={'user':'count'}\n",
    "                           )\n",
    "pivoted"
   ]
  },
  {
   "cell_type": "code",
   "execution_count": null,
   "metadata": {},
   "outputs": [],
   "source": [
    "pivoted.plot.bar(stacked=False,figsize=(10,10))\n",
    "plt.legend(title='gender')\n",
    "plt.xlabel('AGE GROUPS')\n",
    "plt.ylabel('COUNT')\n",
    "plt.title(' Age-Gender-Wise Distribution of Users who rated for movies')"
   ]
  },
  {
   "cell_type": "markdown",
   "metadata": {},
   "source": [
    "### Inference for above graph\n",
    "\n",
    "- The number of movies rated age-group wise for both male and female doesnt vary much\n",
    "- Males in all age groups have rated more movies than their female counterparts\n",
    "- Males under 23 have rated most number of movies"
   ]
  },
  {
   "cell_type": "markdown",
   "metadata": {},
   "source": [
    "### 2. Occupation-wise Vs Gender distribution of the users who rated for the movies  "
   ]
  },
  {
   "cell_type": "code",
   "execution_count": null,
   "metadata": {},
   "outputs": [],
   "source": [
    "ct=pd.crosstab(movielens.sex, movielens.occupation).T\n",
    "ct"
   ]
  },
  {
   "cell_type": "code",
   "execution_count": null,
   "metadata": {},
   "outputs": [],
   "source": [
    "import seaborn as sns\n",
    "%matplotlib inline\n",
    "import matplotlib.pyplot as plt \n",
    "\n",
    "\n",
    "ct.plot.bar(stacked=False,figsize=(10,10))\n",
    "plt.legend(title='gender')\n",
    "plt.title('Movies Seen- Occupation v/s Gender')"
   ]
  },
  {
   "cell_type": "markdown",
   "metadata": {},
   "source": [
    "### Inference For Above Graph\n",
    "- Male Students have watched the most number of movies.\n",
    "- Only Healthcare,Librarian,homemaker females have rated more number of movies than their respective male   counterparts\n",
    "- Female Doctors have not rated/watched any movies\n",
    "- In general Males tend to watch more movies than females"
   ]
  }
 ],
 "metadata": {
  "kernelspec": {
   "display_name": "Python 3",
   "language": "python",
   "name": "python3"
  },
  "language_info": {
   "codemirror_mode": {
    "name": "ipython",
    "version": 3
   },
   "file_extension": ".py",
   "mimetype": "text/x-python",
   "name": "python",
   "nbconvert_exporter": "python",
   "pygments_lexer": "ipython3",
   "version": "3.8.3"
  }
 },
 "nbformat": 4,
 "nbformat_minor": 4
}
