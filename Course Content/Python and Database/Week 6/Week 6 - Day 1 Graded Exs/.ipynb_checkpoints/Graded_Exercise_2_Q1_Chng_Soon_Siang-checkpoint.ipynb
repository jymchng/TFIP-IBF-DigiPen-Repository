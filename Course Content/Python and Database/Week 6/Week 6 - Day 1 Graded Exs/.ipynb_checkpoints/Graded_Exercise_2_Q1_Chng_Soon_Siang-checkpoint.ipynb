{
 "cells": [
  {
   "cell_type": "markdown",
   "metadata": {},
   "source": [
    "# Combined Exercise 2\n",
    "\n",
    "### Total Marks: 100 marks (Part 1: `40 Marks` and Part 2: `60 Marks`)\n"
   ]
  },
  {
   "cell_type": "markdown",
   "metadata": {},
   "source": [
    "**Allowed libraries to Use**:\n",
    "\n",
    "- Pandas\n",
    "- NumPy\n",
    "- Matplotlib (For visualization should use only Matplotlib)\n",
    "and Graph should include x-axis label, y-axis label and Title \n",
    "\n",
    "\n",
    "**Note:** \n",
    "1. Please submit pdf file along with ipynb file. You need to show the basis of your calculation or inference. "
   ]
  },
  {
   "cell_type": "markdown",
   "metadata": {},
   "source": [
    "# Part 1 (40 Marks)\n",
    "\n",
    "The following questions needs to be answered for the dataset in the below link\n",
    "\n",
    "http://files.grouplens.org/datasets/movielens/ml-1m.zip\n",
    "\n",
    "This dataset mainly contains three `.dat` files and data available in this file is in a tabular format and delimited with a **::** as a separator. \n",
    "\n",
    "For more details please go through the **\"README\"** file which is available in the dataset.\n",
    "\n",
    "**Note:** Load the dataset into `CSV file` by using pandas libray into three different dataframe stated (users, ratings and movies)\n",
    "\n",
    "\n",
    "## Questions:\n",
    "\n",
    "**1. Find out the total number of movies, total number of ratings and total number of users_who_rated for movies (9 marks)**\n",
    "\n",
    "**2. Visualize the distribution of overall rating by users (3 marks)**\n",
    "\n",
    "**3. Visualize the users rating distribution (3 marks)**\n",
    "\n",
    "**4. Genre distribution as a pie chart (10 marks)**  \n",
    "ALthough there can be mutiple genre assigned to one movie. We'll assume that first Genre is the primary. Pie chart can be created based on that first Genre\n",
    "\n",
    "**5. List out top 15 ranked movies (consider only those movies which are rated by atleast 100 users) (15 marks)**\n",
    "\n",
    "\n",
    "\n"
   ]
  },
  {
   "cell_type": "markdown",
   "metadata": {},
   "source": [
    "## PART 1 Question 1 Answer"
   ]
  },
  {
   "cell_type": "code",
   "execution_count": 1,
   "metadata": {
    "ExecuteTime": {
     "end_time": "2020-12-04T06:36:45.693594Z",
     "start_time": "2020-12-04T06:36:44.687289Z"
    }
   },
   "outputs": [],
   "source": [
    "import pandas as pd"
   ]
  },
  {
   "cell_type": "code",
   "execution_count": 135,
   "metadata": {
    "ExecuteTime": {
     "end_time": "2020-12-04T07:34:53.145502Z",
     "start_time": "2020-12-04T07:34:39.908937Z"
    }
   },
   "outputs": [
    {
     "name": "stderr",
     "output_type": "stream",
     "text": [
      "C:\\Users\\jymch\\anaconda3\\lib\\site-packages\\ipykernel_launcher.py:1: ParserWarning: Falling back to the 'python' engine because the 'c' engine does not support regex separators (separators > 1 char and different from '\\s+' are interpreted as regex); you can avoid this warning by specifying engine='python'.\n",
      "  \"\"\"Entry point for launching an IPython kernel.\n",
      "C:\\Users\\jymch\\anaconda3\\lib\\site-packages\\ipykernel_launcher.py:2: ParserWarning: Falling back to the 'python' engine because the 'c' engine does not support regex separators (separators > 1 char and different from '\\s+' are interpreted as regex); you can avoid this warning by specifying engine='python'.\n",
      "  \n",
      "C:\\Users\\jymch\\anaconda3\\lib\\site-packages\\ipykernel_launcher.py:3: ParserWarning: Falling back to the 'python' engine because the 'c' engine does not support regex separators (separators > 1 char and different from '\\s+' are interpreted as regex); you can avoid this warning by specifying engine='python'.\n",
      "  This is separate from the ipykernel package so we can avoid doing imports until\n"
     ]
    }
   ],
   "source": [
    "movies = pd.read_csv('movies.dat', sep=\"::\", names = ['MovieID','Title','Genres'])\n",
    "ratings = pd.read_csv('ratings.dat', sep=\"::\", names = ['UserID','MovieID','Rating','Timestamp'])\n",
    "users = pd.read_csv('ratings.dat', sep=\"::\", names = ['UserID','Gender','Age','Occupation','Zip-code'])"
   ]
  },
  {
   "cell_type": "code",
   "execution_count": 38,
   "metadata": {
    "ExecuteTime": {
     "end_time": "2020-12-04T06:47:52.560513Z",
     "start_time": "2020-12-04T06:47:52.191502Z"
    }
   },
   "outputs": [
    {
     "name": "stdout",
     "output_type": "stream",
     "text": [
      "MovieID    0\n",
      "Title      0\n",
      "Genres     0\n",
      "dtype: int64\n",
      "--\n",
      "MovieID    3883\n",
      "Title      3883\n",
      "Genres      301\n",
      "dtype: int64\n",
      "--\n",
      "UserID       0\n",
      "MovieID      0\n",
      "Rating       0\n",
      "Timestamp    0\n",
      "dtype: int64\n",
      "--\n",
      "UserID         6040\n",
      "MovieID        3706\n",
      "Rating            5\n",
      "Timestamp    458455\n",
      "dtype: int64\n",
      "--\n",
      "UserID              0\n",
      "Gender              0\n",
      "Age                 0\n",
      "Occupation          0\n",
      "Zip-code      1000209\n",
      "dtype: int64\n",
      "--\n",
      "UserID          6040\n",
      "Gender          3706\n",
      "Age                5\n",
      "Occupation    458455\n",
      "Zip-code           0\n",
      "dtype: int64\n",
      "--\n",
      "1000209 1000209 3883\n"
     ]
    }
   ],
   "source": [
    "print(movies.isnull().sum())\n",
    "print(\"--\")\n",
    "print(movies.nunique())\n",
    "print(\"--\")\n",
    "print(ratings.isnull().sum())\n",
    "print(\"--\")\n",
    "print(ratings.nunique())\n",
    "print(\"--\")\n",
    "print(users.isnull().sum())\n",
    "print(\"--\")\n",
    "print(users.nunique())\n",
    "print(\"--\")\n",
    "print(len(ratings), len(users),len(movies))"
   ]
  },
  {
   "cell_type": "code",
   "execution_count": 39,
   "metadata": {
    "ExecuteTime": {
     "end_time": "2020-12-04T06:47:53.714423Z",
     "start_time": "2020-12-04T06:47:53.380318Z"
    }
   },
   "outputs": [
    {
     "name": "stdout",
     "output_type": "stream",
     "text": [
      "UserID          6040\n",
      "Gender          3706\n",
      "Age                5\n",
      "Occupation    458455\n",
      "Zip-code           0\n",
      "dtype: int64\n",
      "MovieID    3883\n",
      "Title      3883\n",
      "Genres      301\n",
      "dtype: int64\n",
      "UserID         6040\n",
      "MovieID        3706\n",
      "Rating            5\n",
      "Timestamp    458455\n",
      "dtype: int64\n"
     ]
    }
   ],
   "source": [
    "print(users.nunique())\n",
    "print(movies.nunique())\n",
    "print(ratings.nunique())"
   ]
  },
  {
   "cell_type": "markdown",
   "metadata": {},
   "source": [
    "### Since there is no NaN or any cell with null values and the length of these dataframes are shown using len(dataframe) code, the total number of movies is 3883,  total number of ratings is 1000209 and the total number of users_who_rated for movies  is 6040."
   ]
  },
  {
   "cell_type": "markdown",
   "metadata": {},
   "source": [
    "## PART 1 Question 2 Answer"
   ]
  },
  {
   "cell_type": "code",
   "execution_count": 40,
   "metadata": {
    "ExecuteTime": {
     "end_time": "2020-12-04T06:47:55.541533Z",
     "start_time": "2020-12-04T06:47:55.537544Z"
    }
   },
   "outputs": [],
   "source": [
    "import matplotlib.pyplot as plt"
   ]
  },
  {
   "cell_type": "code",
   "execution_count": 41,
   "metadata": {
    "ExecuteTime": {
     "end_time": "2020-12-04T06:47:57.952079Z",
     "start_time": "2020-12-04T06:47:56.556814Z"
    }
   },
   "outputs": [
    {
     "data": {
      "text/plain": [
       "Text(0, 0.5, 'Frequency of Ratings')"
      ]
     },
     "execution_count": 41,
     "metadata": {},
     "output_type": "execute_result"
    },
    {
     "data": {
      "image/png": "[encoded data removed]",
      "text/plain": [
       "<Figure size 432x288 with 1 Axes>"
      ]
     },
     "metadata": {
      "needs_background": "light"
     },
     "output_type": "display_data"
    }
   ],
   "source": [
    "#usersrating = ratings.groupby(['UserID']).count()\n",
    "plt.hist(ratings['UserID'],bins=1000)\n",
    "plt.title(\"Frequency of Ratings against UserID\")\n",
    "plt.xlabel(\"UserID\")\n",
    "plt.ylabel(\"Frequency of Ratings\")"
   ]
  },
  {
   "cell_type": "markdown",
   "metadata": {},
   "source": [
    "## PART 1 Question 3 Answer - Each user rated how many movies?"
   ]
  },
  {
   "cell_type": "code",
   "execution_count": 42,
   "metadata": {
    "ExecuteTime": {
     "end_time": "2020-12-04T06:47:59.168821Z",
     "start_time": "2020-12-04T06:47:58.900539Z"
    }
   },
   "outputs": [
    {
     "data": {
      "text/plain": [
       "Text(0.5, 1.0, 'Histogram of Movies')"
      ]
     },
     "execution_count": 42,
     "metadata": {},
     "output_type": "execute_result"
    },
    {
     "data": {
      "image/png": "[encoded data removed]",
      "text/plain": [
       "<Figure size 432x288 with 1 Axes>"
      ]
     },
     "metadata": {
      "needs_background": "light"
     },
     "output_type": "display_data"
    }
   ],
   "source": [
    "plt.hist(ratings['Rating'].astype(int),bins=100)\n",
    "plt.xlabel(\"Ratings\")\n",
    "plt.ylabel(\"Frequency\")\n",
    "plt.title(\"Histogram of Movies\")"
   ]
  },
  {
   "cell_type": "markdown",
   "metadata": {},
   "source": [
    "## PART 1 Question 4 Answer"
   ]
  },
  {
   "cell_type": "code",
   "execution_count": 43,
   "metadata": {
    "ExecuteTime": {
     "end_time": "2020-12-04T06:48:01.481632Z",
     "start_time": "2020-12-04T06:48:01.450713Z"
    }
   },
   "outputs": [],
   "source": [
    "movies['Genres'].str.split(\"|\",expand=True)\n",
    "movies[['Genres','2','3','4','5','6']] = movies.Genres.str.split(\"|\",expand=True)"
   ]
  },
  {
   "cell_type": "code",
   "execution_count": 44,
   "metadata": {
    "ExecuteTime": {
     "end_time": "2020-12-04T06:48:02.366263Z",
     "start_time": "2020-12-04T06:48:02.230625Z"
    }
   },
   "outputs": [
    {
     "name": "stdout",
     "output_type": "stream",
     "text": [
      "Genres\n",
      "Action          503\n",
      "Adventure       155\n",
      "Animation        90\n",
      "Children's       89\n",
      "Comedy         1024\n",
      "Crime           131\n",
      "Documentary     123\n",
      "Drama          1176\n",
      "Fantasy           2\n",
      "Film-Noir        25\n",
      "Horror          262\n",
      "Musical          25\n",
      "Mystery          36\n",
      "Romance          50\n",
      "Sci-Fi           46\n",
      "Thriller        101\n",
      "War              12\n",
      "Western          33\n",
      "Name: MovieID, dtype: int64\n"
     ]
    },
    {
     "data": {
      "image/png": "[encoded data removed]",
      "text/plain": [
       "<Figure size 864x864 with 1 Axes>"
      ]
     },
     "metadata": {},
     "output_type": "display_data"
    }
   ],
   "source": [
    "moviesGGB = movies.groupby(['Genres']).MovieID.count()\n",
    "\n",
    "print(moviesGGB)\n",
    "\n",
    "#plt.pie(movies.groupby(['Genres']).count())\n",
    "fig = plt.figure(figsize =(12,12))\n",
    "plt.pie(moviesGGB, labels = moviesGGB.index)\n",
    "plt.tight_layout()"
   ]
  },
  {
   "cell_type": "markdown",
   "metadata": {},
   "source": [
    "## PART 1 Question 5 Answer"
   ]
  },
  {
   "cell_type": "code",
   "execution_count": 134,
   "metadata": {
    "ExecuteTime": {
     "end_time": "2020-12-04T07:34:26.001169Z",
     "start_time": "2020-12-04T07:34:25.585326Z"
    }
   },
   "outputs": [
    {
     "data": {
      "text/plain": [
       "MovieID\n",
       "1       8613.0\n",
       "2       2244.0\n",
       "3       1442.0\n",
       "4        464.0\n",
       "5        890.0\n",
       "         ...  \n",
       "3948    3134.0\n",
       "3949    1251.0\n",
       "3950     198.0\n",
       "3951     156.0\n",
       "3952    1467.0\n",
       "Name: Rating, Length: 3883, dtype: float64"
      ]
     },
     "execution_count": 134,
     "metadata": {},
     "output_type": "execute_result"
    }
   ],
   "source": [
    "movies['MovieID'].astype(int)\n",
    "ratings['UserID']=ratings['UserID'].astype(int)\n",
    "\n",
    "moviesM = movies.merge(ratings, how = 'outer')\n",
    "moviesM.groupby(['MovieID']).sum()['Rating']\n",
    "\n",
    "# movies['Average Rating'] = moviesM.groupby(['MovieID']).sum()['Rating']/moviesM.groupby(['MovieID']).nunique()['UserID']"
   ]
  },
  {
   "cell_type": "code",
   "execution_count": 37,
   "metadata": {
    "ExecuteTime": {
     "end_time": "2020-12-04T06:47:16.868064Z",
     "start_time": "2020-12-04T06:47:15.265355Z"
    }
   },
   "outputs": [
    {
     "name": "stderr",
     "output_type": "stream",
     "text": [
      "C:\\Users\\jymch\\anaconda3\\lib\\site-packages\\ipykernel_launcher.py:3: UserWarning: Boolean Series key will be reindexed to match DataFrame index.\n",
      "  This is separate from the ipykernel package so we can avoid doing imports until\n"
     ]
    },
    {
     "ename": "IndexingError",
     "evalue": "Unalignable boolean Series provided as indexer (index of the boolean Series and of the indexed object do not match).",
     "output_type": "error",
     "traceback": [
      "\u001b[1;31m---------------------------------------------------------------------------\u001b[0m",
      "\u001b[1;31mIndexingError\u001b[0m                             Traceback (most recent call last)",
      "\u001b[1;32m<ipython-input-37-7129b131bc1e>\u001b[0m in \u001b[0;36m<module>\u001b[1;34m\u001b[0m\n\u001b[0;32m      1\u001b[0m \u001b[1;31m# movies[['Title','Average Rating']].nlargest(15,['Average Rating'])\u001b[0m\u001b[1;33m\u001b[0m\u001b[1;33m\u001b[0m\u001b[1;33m\u001b[0m\u001b[0m\n\u001b[0;32m      2\u001b[0m \u001b[1;33m\u001b[0m\u001b[0m\n\u001b[1;32m----> 3\u001b[1;33m \u001b[0mmoviesM\u001b[0m\u001b[1;33m[\u001b[0m\u001b[0mmoviesM\u001b[0m\u001b[1;33m.\u001b[0m\u001b[0mgroupby\u001b[0m\u001b[1;33m(\u001b[0m\u001b[1;33m[\u001b[0m\u001b[1;34m'MovieID'\u001b[0m\u001b[1;33m]\u001b[0m\u001b[1;33m)\u001b[0m\u001b[1;33m.\u001b[0m\u001b[0mnunique\u001b[0m\u001b[1;33m(\u001b[0m\u001b[1;33m)\u001b[0m\u001b[1;33m[\u001b[0m\u001b[1;34m'UserID'\u001b[0m\u001b[1;33m]\u001b[0m\u001b[1;33m>=\u001b[0m\u001b[1;36m100\u001b[0m\u001b[1;33m]\u001b[0m\u001b[1;33m\u001b[0m\u001b[1;33m\u001b[0m\u001b[0m\n\u001b[0m",
      "\u001b[1;32m~\\anaconda3\\lib\\site-packages\\pandas\\core\\frame.py\u001b[0m in \u001b[0;36m__getitem__\u001b[1;34m(self, key)\u001b[0m\n\u001b[0;32m   2789\u001b[0m         \u001b[1;31m# Do we have a (boolean) 1d indexer?\u001b[0m\u001b[1;33m\u001b[0m\u001b[1;33m\u001b[0m\u001b[1;33m\u001b[0m\u001b[0m\n\u001b[0;32m   2790\u001b[0m         \u001b[1;32mif\u001b[0m \u001b[0mcom\u001b[0m\u001b[1;33m.\u001b[0m\u001b[0mis_bool_indexer\u001b[0m\u001b[1;33m(\u001b[0m\u001b[0mkey\u001b[0m\u001b[1;33m)\u001b[0m\u001b[1;33m:\u001b[0m\u001b[1;33m\u001b[0m\u001b[1;33m\u001b[0m\u001b[0m\n\u001b[1;32m-> 2791\u001b[1;33m             \u001b[1;32mreturn\u001b[0m \u001b[0mself\u001b[0m\u001b[1;33m.\u001b[0m\u001b[0m_getitem_bool_array\u001b[0m\u001b[1;33m(\u001b[0m\u001b[0mkey\u001b[0m\u001b[1;33m)\u001b[0m\u001b[1;33m\u001b[0m\u001b[1;33m\u001b[0m\u001b[0m\n\u001b[0m\u001b[0;32m   2792\u001b[0m \u001b[1;33m\u001b[0m\u001b[0m\n\u001b[0;32m   2793\u001b[0m         \u001b[1;31m# We are left with two options: a single key, and a collection of keys,\u001b[0m\u001b[1;33m\u001b[0m\u001b[1;33m\u001b[0m\u001b[1;33m\u001b[0m\u001b[0m\n",
      "\u001b[1;32m~\\anaconda3\\lib\\site-packages\\pandas\\core\\frame.py\u001b[0m in \u001b[0;36m_getitem_bool_array\u001b[1;34m(self, key)\u001b[0m\n\u001b[0;32m   2841\u001b[0m         \u001b[1;31m# check_bool_indexer will throw exception if Series key cannot\u001b[0m\u001b[1;33m\u001b[0m\u001b[1;33m\u001b[0m\u001b[1;33m\u001b[0m\u001b[0m\n\u001b[0;32m   2842\u001b[0m         \u001b[1;31m# be reindexed to match DataFrame rows\u001b[0m\u001b[1;33m\u001b[0m\u001b[1;33m\u001b[0m\u001b[1;33m\u001b[0m\u001b[0m\n\u001b[1;32m-> 2843\u001b[1;33m         \u001b[0mkey\u001b[0m \u001b[1;33m=\u001b[0m \u001b[0mcheck_bool_indexer\u001b[0m\u001b[1;33m(\u001b[0m\u001b[0mself\u001b[0m\u001b[1;33m.\u001b[0m\u001b[0mindex\u001b[0m\u001b[1;33m,\u001b[0m \u001b[0mkey\u001b[0m\u001b[1;33m)\u001b[0m\u001b[1;33m\u001b[0m\u001b[1;33m\u001b[0m\u001b[0m\n\u001b[0m\u001b[0;32m   2844\u001b[0m         \u001b[0mindexer\u001b[0m \u001b[1;33m=\u001b[0m \u001b[0mkey\u001b[0m\u001b[1;33m.\u001b[0m\u001b[0mnonzero\u001b[0m\u001b[1;33m(\u001b[0m\u001b[1;33m)\u001b[0m\u001b[1;33m[\u001b[0m\u001b[1;36m0\u001b[0m\u001b[1;33m]\u001b[0m\u001b[1;33m\u001b[0m\u001b[1;33m\u001b[0m\u001b[0m\n\u001b[0;32m   2845\u001b[0m         \u001b[1;32mreturn\u001b[0m \u001b[0mself\u001b[0m\u001b[1;33m.\u001b[0m\u001b[0m_take_with_is_copy\u001b[0m\u001b[1;33m(\u001b[0m\u001b[0mindexer\u001b[0m\u001b[1;33m,\u001b[0m \u001b[0maxis\u001b[0m\u001b[1;33m=\u001b[0m\u001b[1;36m0\u001b[0m\u001b[1;33m)\u001b[0m\u001b[1;33m\u001b[0m\u001b[1;33m\u001b[0m\u001b[0m\n",
      "\u001b[1;32m~\\anaconda3\\lib\\site-packages\\pandas\\core\\indexing.py\u001b[0m in \u001b[0;36mcheck_bool_indexer\u001b[1;34m(index, key)\u001b[0m\n\u001b[0;32m   2316\u001b[0m         \u001b[1;32mif\u001b[0m \u001b[0mmask\u001b[0m\u001b[1;33m.\u001b[0m\u001b[0many\u001b[0m\u001b[1;33m(\u001b[0m\u001b[1;33m)\u001b[0m\u001b[1;33m:\u001b[0m\u001b[1;33m\u001b[0m\u001b[1;33m\u001b[0m\u001b[0m\n\u001b[0;32m   2317\u001b[0m             raise IndexingError(\n\u001b[1;32m-> 2318\u001b[1;33m                 \u001b[1;34m\"Unalignable boolean Series provided as \"\u001b[0m\u001b[1;33m\u001b[0m\u001b[1;33m\u001b[0m\u001b[0m\n\u001b[0m\u001b[0;32m   2319\u001b[0m                 \u001b[1;34m\"indexer (index of the boolean Series and of \"\u001b[0m\u001b[1;33m\u001b[0m\u001b[1;33m\u001b[0m\u001b[0m\n\u001b[0;32m   2320\u001b[0m                 \u001b[1;34m\"the indexed object do not match).\"\u001b[0m\u001b[1;33m\u001b[0m\u001b[1;33m\u001b[0m\u001b[0m\n",
      "\u001b[1;31mIndexingError\u001b[0m: Unalignable boolean Series provided as indexer (index of the boolean Series and of the indexed object do not match)."
     ]
    }
   ],
   "source": [
    "# movies[['Title','Average Rating']].nlargest(15,['Average Rating'])\n",
    "\n",
    "moviesM[moviesM.groupby(['MovieID']).nunique()['UserID']>=100]"
   ]
  },
  {
   "cell_type": "code",
   "execution_count": 153,
   "metadata": {
    "ExecuteTime": {
     "end_time": "2020-12-04T07:50:49.186298Z",
     "start_time": "2020-12-04T07:50:49.053653Z"
    }
   },
   "outputs": [
    {
     "name": "stdout",
     "output_type": "stream",
     "text": [
      "           Rating\n",
      "MovieID          \n",
      "1        4.146846\n",
      "2        3.201141\n",
      "3        3.016736\n",
      "4        2.729412\n",
      "5        3.006757\n",
      "...           ...\n",
      "3948     3.635731\n",
      "3949     4.115132\n",
      "3950     3.666667\n",
      "3951     3.900000\n",
      "3952     3.780928\n",
      "\n",
      "[3706 rows x 1 columns]\n",
      "         Count\n",
      "MovieID       \n",
      "1         2077\n",
      "2          701\n",
      "3          478\n",
      "4          170\n",
      "5          296\n",
      "...        ...\n",
      "3948       862\n",
      "3949       304\n",
      "3950        54\n",
      "3951        40\n",
      "3952       388\n",
      "\n",
      "[3706 rows x 1 columns]\n",
      "           Rating  Count\n",
      "MovieID                 \n",
      "1        4.146846   2077\n",
      "2        3.201141    701\n",
      "3        3.016736    478\n",
      "4        2.729412    170\n",
      "5        3.006757    296\n",
      "...           ...    ...\n",
      "3948     3.635731    862\n",
      "3949     4.115132    304\n",
      "3950     3.666667     54\n",
      "3951     3.900000     40\n",
      "3952     3.780928    388\n",
      "\n",
      "[3706 rows x 2 columns]\n"
     ]
    },
    {
     "data": {
      "text/html": [
       "<div>\n",
       "<style scoped>\n",
       "    .dataframe tbody tr th:only-of-type {\n",
       "        vertical-align: middle;\n",
       "    }\n",
       "\n",
       "    .dataframe tbody tr th {\n",
       "        vertical-align: top;\n",
       "    }\n",
       "\n",
       "    .dataframe thead th {\n",
       "        text-align: right;\n",
       "    }\n",
       "</style>\n",
       "<table border=\"1\" class=\"dataframe\">\n",
       "  <thead>\n",
       "    <tr style=\"text-align: right;\">\n",
       "      <th></th>\n",
       "      <th>Title</th>\n",
       "      <th>Genres</th>\n",
       "      <th>Rating</th>\n",
       "      <th>Count</th>\n",
       "    </tr>\n",
       "    <tr>\n",
       "      <th>MovieID</th>\n",
       "      <th></th>\n",
       "      <th></th>\n",
       "      <th></th>\n",
       "      <th></th>\n",
       "    </tr>\n",
       "  </thead>\n",
       "  <tbody>\n",
       "    <tr>\n",
       "      <th>318</th>\n",
       "      <td>Shawshank Redemption, The (1994)</td>\n",
       "      <td>Drama</td>\n",
       "      <td>4.554558</td>\n",
       "      <td>2227.0</td>\n",
       "    </tr>\n",
       "    <tr>\n",
       "      <th>858</th>\n",
       "      <td>Godfather, The (1972)</td>\n",
       "      <td>Action|Crime|Drama</td>\n",
       "      <td>4.524966</td>\n",
       "      <td>2223.0</td>\n",
       "    </tr>\n",
       "    <tr>\n",
       "      <th>50</th>\n",
       "      <td>Usual Suspects, The (1995)</td>\n",
       "      <td>Crime|Thriller</td>\n",
       "      <td>4.517106</td>\n",
       "      <td>1783.0</td>\n",
       "    </tr>\n",
       "    <tr>\n",
       "      <th>527</th>\n",
       "      <td>Schindler's List (1993)</td>\n",
       "      <td>Drama|War</td>\n",
       "      <td>4.510417</td>\n",
       "      <td>2304.0</td>\n",
       "    </tr>\n",
       "    <tr>\n",
       "      <th>1198</th>\n",
       "      <td>Raiders of the Lost Ark (1981)</td>\n",
       "      <td>Action|Adventure</td>\n",
       "      <td>4.477725</td>\n",
       "      <td>2514.0</td>\n",
       "    </tr>\n",
       "    <tr>\n",
       "      <th>904</th>\n",
       "      <td>Rear Window (1954)</td>\n",
       "      <td>Mystery|Thriller</td>\n",
       "      <td>4.476190</td>\n",
       "      <td>1050.0</td>\n",
       "    </tr>\n",
       "    <tr>\n",
       "      <th>260</th>\n",
       "      <td>Star Wars: Episode IV - A New Hope (1977)</td>\n",
       "      <td>Action|Adventure|Fantasy|Sci-Fi</td>\n",
       "      <td>4.453694</td>\n",
       "      <td>2991.0</td>\n",
       "    </tr>\n",
       "    <tr>\n",
       "      <th>750</th>\n",
       "      <td>Dr. Strangelove or: How I Learned to Stop Worr...</td>\n",
       "      <td>Sci-Fi|War</td>\n",
       "      <td>4.449890</td>\n",
       "      <td>1367.0</td>\n",
       "    </tr>\n",
       "    <tr>\n",
       "      <th>912</th>\n",
       "      <td>Casablanca (1942)</td>\n",
       "      <td>Drama|Romance|War</td>\n",
       "      <td>4.412822</td>\n",
       "      <td>1669.0</td>\n",
       "    </tr>\n",
       "    <tr>\n",
       "      <th>2762</th>\n",
       "      <td>Sixth Sense, The (1999)</td>\n",
       "      <td>Thriller</td>\n",
       "      <td>4.406263</td>\n",
       "      <td>2459.0</td>\n",
       "    </tr>\n",
       "    <tr>\n",
       "      <th>913</th>\n",
       "      <td>Maltese Falcon, The (1941)</td>\n",
       "      <td>Film-Noir|Mystery</td>\n",
       "      <td>4.395973</td>\n",
       "      <td>1043.0</td>\n",
       "    </tr>\n",
       "    <tr>\n",
       "      <th>1193</th>\n",
       "      <td>One Flew Over the Cuckoo's Nest (1975)</td>\n",
       "      <td>Drama</td>\n",
       "      <td>4.390725</td>\n",
       "      <td>1725.0</td>\n",
       "    </tr>\n",
       "    <tr>\n",
       "      <th>923</th>\n",
       "      <td>Citizen Kane (1941)</td>\n",
       "      <td>Drama</td>\n",
       "      <td>4.388889</td>\n",
       "      <td>1116.0</td>\n",
       "    </tr>\n",
       "    <tr>\n",
       "      <th>908</th>\n",
       "      <td>North by Northwest (1959)</td>\n",
       "      <td>Drama|Thriller</td>\n",
       "      <td>4.384030</td>\n",
       "      <td>1315.0</td>\n",
       "    </tr>\n",
       "    <tr>\n",
       "      <th>1221</th>\n",
       "      <td>Godfather: Part II, The (1974)</td>\n",
       "      <td>Action|Crime|Drama</td>\n",
       "      <td>4.357565</td>\n",
       "      <td>1692.0</td>\n",
       "    </tr>\n",
       "  </tbody>\n",
       "</table>\n",
       "</div>"
      ],
      "text/plain": [
       "                                                     Title  \\\n",
       "MovieID                                                      \n",
       "318                       Shawshank Redemption, The (1994)   \n",
       "858                                  Godfather, The (1972)   \n",
       "50                              Usual Suspects, The (1995)   \n",
       "527                                Schindler's List (1993)   \n",
       "1198                        Raiders of the Lost Ark (1981)   \n",
       "904                                     Rear Window (1954)   \n",
       "260              Star Wars: Episode IV - A New Hope (1977)   \n",
       "750      Dr. Strangelove or: How I Learned to Stop Worr...   \n",
       "912                                      Casablanca (1942)   \n",
       "2762                               Sixth Sense, The (1999)   \n",
       "913                             Maltese Falcon, The (1941)   \n",
       "1193                One Flew Over the Cuckoo's Nest (1975)   \n",
       "923                                    Citizen Kane (1941)   \n",
       "908                              North by Northwest (1959)   \n",
       "1221                        Godfather: Part II, The (1974)   \n",
       "\n",
       "                                  Genres    Rating   Count  \n",
       "MovieID                                                     \n",
       "318                                Drama  4.554558  2227.0  \n",
       "858                   Action|Crime|Drama  4.524966  2223.0  \n",
       "50                        Crime|Thriller  4.517106  1783.0  \n",
       "527                            Drama|War  4.510417  2304.0  \n",
       "1198                    Action|Adventure  4.477725  2514.0  \n",
       "904                     Mystery|Thriller  4.476190  1050.0  \n",
       "260      Action|Adventure|Fantasy|Sci-Fi  4.453694  2991.0  \n",
       "750                           Sci-Fi|War  4.449890  1367.0  \n",
       "912                    Drama|Romance|War  4.412822  1669.0  \n",
       "2762                            Thriller  4.406263  2459.0  \n",
       "913                    Film-Noir|Mystery  4.395973  1043.0  \n",
       "1193                               Drama  4.390725  1725.0  \n",
       "923                                Drama  4.388889  1116.0  \n",
       "908                       Drama|Thriller  4.384030  1315.0  \n",
       "1221                  Action|Crime|Drama  4.357565  1692.0  "
      ]
     },
     "execution_count": 153,
     "metadata": {},
     "output_type": "execute_result"
    }
   ],
   "source": [
    "movies['MovieID'].astype(int)\n",
    "movies_ratings_count = pd.DataFrame(ratings.groupby(['MovieID'])['UserID'].count())\n",
    "movies_ratings_count.columns = ['Count']\n",
    "\n",
    "movies_average_ratings = pd.DataFrame(ratings.groupby('MovieID')['Rating'].mean())\n",
    "print(movies_average_ratings)\n",
    "print(movies_ratings_count)\n",
    "print(movies_average_ratings.join(movies_ratings_count))\n",
    "df = movies.set_index('MovieID').join(movies_average_ratings.join(movies_ratings_count))\n",
    "\n",
    "df[df['Count'] > 1000].nlargest(15,'Rating')"
   ]
  },
  {
   "cell_type": "code",
   "execution_count": 75,
   "metadata": {
    "ExecuteTime": {
     "end_time": "2020-12-04T07:04:47.416364Z",
     "start_time": "2020-12-04T07:04:47.357523Z"
    }
   },
   "outputs": [
    {
     "name": "stdout",
     "output_type": "stream",
     "text": [
      "         UserID\n",
      "MovieID        \n",
      "1          2077\n",
      "2           701\n",
      "3           478\n",
      "4           170\n",
      "5           296\n",
      "...         ...\n",
      "3948        862\n",
      "3949        304\n",
      "3950         54\n",
      "3951         40\n",
      "3952        388\n",
      "\n",
      "[3706 rows x 1 columns]\n"
     ]
    }
   ],
   "source": [
    "dfr1=pd.DataFrame(ratings.groupby('MovieID')['UserID'].count())\n",
    "print(dfr1)\n",
    "dfr1.columns=['count']\n",
    "dfr1=dfr1[dfr1['count']>100]"
   ]
  },
  {
   "cell_type": "markdown",
   "metadata": {},
   "source": [
    "# Part 2 (60 Marks)\n",
    "\n",
    "The following questions needs to be answered for the dataset in the below link:\n",
    " \n",
    "https://grouplens.org/datasets/movielens/100k/\n",
    "\n",
    "This dataset contains multiple files and data in this file is a tab separated. But you have to use only three files as listed below\n",
    "1. u.data (The full u data set, 100000 ratings by 943 users on 1682 items. Each user has rated at least 20 movies)\n",
    "2. u.item (Information about the items (movies))\n",
    "3. u.user (Demographic information about the users)\n",
    "\n",
    "For more information of the dataset pleasse go through the **README** file.\n",
    "\n",
    "\n",
    "**Instructions:**\n",
    "1. Load the dataset into `CSV file` by using pandas libray as a three different dataframe stated (users, ratings and movies)\n",
    "2. Merge all these three dataframe into single dataframe as a `movielens` for furthur prosessing\n",
    "\n",
    "\n",
    "\n",
    "\n",
    "## Questions:\n",
    "\n",
    "**Each of the questions carry 10 marks.**  \n",
    "\n",
    "\n",
    "**1.\tAmong Male doctors in the age group 23- 30 (10 Marks)**   \n",
    "- a.  What genre of the movies they have rated 5  and count the no. of ratings for each genere?  \n",
    "- b.  What genre of the movies they have rated above 3  and count the no. of ratings for each genere?  \n",
    "- c.  What genre of the movies they have rated below 4  and count the no. of ratings for each genere?  \n",
    "- d.  Write your inferences based on above \n",
    "\n",
    "\n",
    "**2.\tAmong Female healthcare professionals in the age group 23- 30 (10 Marks)**  \n",
    "- a.  What genre of the movies they have rated 5  and count the no. of ratings for each genere?  \n",
    "- b.  What genre of the movies they have rated above 3  and count the no. of ratings for each genere?   \n",
    "- c.  What genre of the movies they have rated below 4  and count the no. of ratings for each genere?   \n",
    "- d.  Write your inferences based on above    \n",
    "\n",
    "\n",
    "**3.\tAmong Male doctors in the age group 35 – 50 (10 Marks)**   \n",
    "- a.  What genre of the movies they have rated 5  and count the no. of ratings for each genere?  \n",
    "- b.  What genre of the movies they have rated above 3  and count the no. of ratings for each genere?  \n",
    "- c.  What genre of the movies they have rated below 4  and count the no. of ratings for each genere?  \n",
    "- d.  Write your inferences based on above     \n",
    "    \n",
    "\n",
    "**4. Among Female healthcare professionals in the age group 35 - 50 (10 Marks)**  \n",
    "- a.  What genre of the movies they have rated 5  and count the no. of ratings for each genere?  \n",
    "- b.  What genre of the movies they have rated above 3  and count the no. of ratings for each genere?  \n",
    "- c.  What genre of the movies they have rated below 4  and count the no. of ratings for each genere?  \n",
    "- d.  Write your inferences based on above  "
   ]
  },
  {
   "cell_type": "code",
   "execution_count": 31,
   "metadata": {
    "ExecuteTime": {
     "end_time": "2020-12-04T06:45:40.541959Z",
     "start_time": "2020-12-04T06:45:40.465141Z"
    }
   },
   "outputs": [],
   "source": [
    "import pandas\n",
    "\n",
    "u_cols = ['user','age','sex','occupation','zip_code']\n",
    "users = pd.read_csv('u.user', sep='|', names=u_cols,encoding='latin-1')\n",
    "\n",
    "r_cols = ['user','movie','rating','unix_timestamp']\n",
    "ratings = pd.read_csv('u.data', sep='\\t',names=r_cols,encoding = 'latin-1')\n",
    "\n",
    "m_cols = ['movie','title','release_date','video_release_date','imdb_url','unknown','Action','Animation',\"Children's\", 'Comedy','Crime','Documentary','Drama','Fantasy','Film-Noir','Horror','Musical','Mystery','Romance','Sci-Fi','Thriller','War','Western']\n",
    "movies = pd.read_csv('u.item',sep='|',names=m_cols,encoding='latin-1')\n",
    "\n",
    "occupation = pd.read_csv(\"u.occupation\")\n",
    "genres1 = ['Action','Animation',\"Children's\", 'Comedy','Crime','Documentary','Drama','Fantasy','Film-Noir','Horror','Musical','Mystery','Romance','Sci-Fi','Thriller','War','Western']"
   ]
  },
  {
   "cell_type": "markdown",
   "metadata": {},
   "source": [
    "# Part 2 Question 1a"
   ]
  },
  {
   "cell_type": "code",
   "execution_count": 32,
   "metadata": {
    "ExecuteTime": {
     "end_time": "2020-12-04T06:45:46.235692Z",
     "start_time": "2020-12-04T06:45:46.202779Z"
    }
   },
   "outputs": [
    {
     "name": "stdout",
     "output_type": "stream",
     "text": [
      "     user  age sex occupation zip_code\n",
      "250   251   28   M     doctor    85032\n",
      "298   299   29   M     doctor    63108\n"
     ]
    },
    {
     "data": {
      "text/html": [
       "<div>\n",
       "<style scoped>\n",
       "    .dataframe tbody tr th:only-of-type {\n",
       "        vertical-align: middle;\n",
       "    }\n",
       "\n",
       "    .dataframe tbody tr th {\n",
       "        vertical-align: top;\n",
       "    }\n",
       "\n",
       "    .dataframe thead th {\n",
       "        text-align: right;\n",
       "    }\n",
       "</style>\n",
       "<table border=\"1\" class=\"dataframe\">\n",
       "  <thead>\n",
       "    <tr style=\"text-align: right;\">\n",
       "      <th></th>\n",
       "      <th>Action</th>\n",
       "      <th>Animation</th>\n",
       "      <th>Children's</th>\n",
       "      <th>Comedy</th>\n",
       "      <th>Crime</th>\n",
       "      <th>Documentary</th>\n",
       "      <th>Drama</th>\n",
       "      <th>Fantasy</th>\n",
       "      <th>Film-Noir</th>\n",
       "      <th>Horror</th>\n",
       "      <th>Musical</th>\n",
       "      <th>Mystery</th>\n",
       "      <th>Romance</th>\n",
       "      <th>Sci-Fi</th>\n",
       "      <th>Thriller</th>\n",
       "      <th>War</th>\n",
       "      <th>Western</th>\n",
       "    </tr>\n",
       "  </thead>\n",
       "  <tbody>\n",
       "    <tr>\n",
       "      <th>Total</th>\n",
       "      <td>6</td>\n",
       "      <td>0</td>\n",
       "      <td>2</td>\n",
       "      <td>15</td>\n",
       "      <td>3</td>\n",
       "      <td>0</td>\n",
       "      <td>24</td>\n",
       "      <td>0</td>\n",
       "      <td>1</td>\n",
       "      <td>2</td>\n",
       "      <td>2</td>\n",
       "      <td>0</td>\n",
       "      <td>14</td>\n",
       "      <td>7</td>\n",
       "      <td>8</td>\n",
       "      <td>8</td>\n",
       "      <td>1</td>\n",
       "    </tr>\n",
       "  </tbody>\n",
       "</table>\n",
       "</div>"
      ],
      "text/plain": [
       "       Action  Animation  Children's  Comedy  Crime  Documentary  Drama  \\\n",
       "Total       6          0           2      15      3            0     24   \n",
       "\n",
       "       Fantasy  Film-Noir  Horror  Musical  Mystery  Romance  Sci-Fi  \\\n",
       "Total        0          1       2        2        0       14       7   \n",
       "\n",
       "       Thriller  War  Western  \n",
       "Total         8    8        1  "
      ]
     },
     "execution_count": 32,
     "metadata": {},
     "output_type": "execute_result"
    }
   ],
   "source": [
    "# Question 1a\n",
    "usersdoc = users[users['occupation'].isin(['doctor'])]\n",
    "usersdoc = usersdoc[23<usersdoc['age']]\n",
    "usersdoc = usersdoc[usersdoc['age']<30]\n",
    "usersdoc = usersdoc[usersdoc['sex']=='M']\n",
    "\n",
    "print(usersdoc)\n",
    "\n",
    "rateusers = ratings.loc[ratings['user'].isin(usersdoc['user'])]\n",
    "rate5docs = rateusers[rateusers['rating']==5]\n",
    "movGenres = movies[movies.index.isin(rate5docs['movie'])][genres1]\n",
    "movGenres.loc['Total']= movGenres.sum()\n",
    "movGenres.iloc[[-1],::]"
   ]
  },
  {
   "cell_type": "code",
   "execution_count": 33,
   "metadata": {
    "ExecuteTime": {
     "end_time": "2020-12-04T06:45:46.968762Z",
     "start_time": "2020-12-04T06:45:46.954780Z"
    }
   },
   "outputs": [
    {
     "data": {
      "text/html": [
       "<div>\n",
       "<style scoped>\n",
       "    .dataframe tbody tr th:only-of-type {\n",
       "        vertical-align: middle;\n",
       "    }\n",
       "\n",
       "    .dataframe tbody tr th {\n",
       "        vertical-align: top;\n",
       "    }\n",
       "\n",
       "    .dataframe thead th {\n",
       "        text-align: right;\n",
       "    }\n",
       "</style>\n",
       "<table border=\"1\" class=\"dataframe\">\n",
       "  <thead>\n",
       "    <tr style=\"text-align: right;\">\n",
       "      <th></th>\n",
       "      <th>user</th>\n",
       "      <th>age</th>\n",
       "      <th>sex</th>\n",
       "      <th>occupation</th>\n",
       "      <th>zip_code</th>\n",
       "    </tr>\n",
       "  </thead>\n",
       "  <tbody>\n",
       "    <tr>\n",
       "      <th>250</th>\n",
       "      <td>251</td>\n",
       "      <td>28</td>\n",
       "      <td>M</td>\n",
       "      <td>doctor</td>\n",
       "      <td>85032</td>\n",
       "    </tr>\n",
       "    <tr>\n",
       "      <th>298</th>\n",
       "      <td>299</td>\n",
       "      <td>29</td>\n",
       "      <td>M</td>\n",
       "      <td>doctor</td>\n",
       "      <td>63108</td>\n",
       "    </tr>\n",
       "  </tbody>\n",
       "</table>\n",
       "</div>"
      ],
      "text/plain": [
       "     user  age sex occupation zip_code\n",
       "250   251   28   M     doctor    85032\n",
       "298   299   29   M     doctor    63108"
      ]
     },
     "execution_count": 33,
     "metadata": {},
     "output_type": "execute_result"
    }
   ],
   "source": [
    "usersdoc = users[(users.occupation == 'doctor') & (users.age < 31) & (users.age > 22) & (users.sex == 'M')]\n",
    "usersdoc"
   ]
  },
  {
   "cell_type": "markdown",
   "metadata": {},
   "source": [
    "# Part 2 Question 1b"
   ]
  },
  {
   "cell_type": "code",
   "execution_count": 216,
   "metadata": {
    "ExecuteTime": {
     "end_time": "2020-11-30T03:50:48.703768Z",
     "start_time": "2020-11-30T03:50:48.666867Z"
    }
   },
   "outputs": [
    {
     "data": {
      "text/html": [
       "<div>\n",
       "<style scoped>\n",
       "    .dataframe tbody tr th:only-of-type {\n",
       "        vertical-align: middle;\n",
       "    }\n",
       "\n",
       "    .dataframe tbody tr th {\n",
       "        vertical-align: top;\n",
       "    }\n",
       "\n",
       "    .dataframe thead th {\n",
       "        text-align: right;\n",
       "    }\n",
       "</style>\n",
       "<table border=\"1\" class=\"dataframe\">\n",
       "  <thead>\n",
       "    <tr style=\"text-align: right;\">\n",
       "      <th></th>\n",
       "      <th>Action</th>\n",
       "      <th>Animation</th>\n",
       "      <th>Children's</th>\n",
       "      <th>Comedy</th>\n",
       "      <th>Crime</th>\n",
       "      <th>Documentary</th>\n",
       "      <th>Drama</th>\n",
       "      <th>Fantasy</th>\n",
       "      <th>Film-Noir</th>\n",
       "      <th>Horror</th>\n",
       "      <th>Musical</th>\n",
       "      <th>Mystery</th>\n",
       "      <th>Romance</th>\n",
       "      <th>Sci-Fi</th>\n",
       "      <th>Thriller</th>\n",
       "      <th>War</th>\n",
       "      <th>Western</th>\n",
       "    </tr>\n",
       "  </thead>\n",
       "  <tbody>\n",
       "    <tr>\n",
       "      <th>Total</th>\n",
       "      <td>14</td>\n",
       "      <td>6</td>\n",
       "      <td>6</td>\n",
       "      <td>61</td>\n",
       "      <td>10</td>\n",
       "      <td>6</td>\n",
       "      <td>88</td>\n",
       "      <td>0</td>\n",
       "      <td>5</td>\n",
       "      <td>6</td>\n",
       "      <td>7</td>\n",
       "      <td>9</td>\n",
       "      <td>45</td>\n",
       "      <td>20</td>\n",
       "      <td>34</td>\n",
       "      <td>20</td>\n",
       "      <td>2</td>\n",
       "    </tr>\n",
       "  </tbody>\n",
       "</table>\n",
       "</div>"
      ],
      "text/plain": [
       "       Action  Animation  Children's  Comedy  Crime  Documentary  Drama  \\\n",
       "Total      14          6           6      61     10            6     88   \n",
       "\n",
       "       Fantasy  Film-Noir  Horror  Musical  Mystery  Romance  Sci-Fi  \\\n",
       "Total        0          5       6        7        9       45      20   \n",
       "\n",
       "       Thriller  War  Western  \n",
       "Total        34   20        2  "
      ]
     },
     "execution_count": 216,
     "metadata": {},
     "output_type": "execute_result"
    }
   ],
   "source": [
    "# Question 1b\n",
    "usersdoc = users[users['occupation'].isin(['doctor'])]\n",
    "usersdoc = usersdoc[23<usersdoc['age']]\n",
    "usersdoc = usersdoc[usersdoc['age']<30]\n",
    "usersdoc = usersdoc[usersdoc['sex']=='M']\n",
    "\n",
    "rateusers = ratings.loc[ratings['user'].isin(usersdoc['user'])]\n",
    "rate5docs = rateusers[rateusers['rating']>3]\n",
    "movGenres = movies[movies.index.isin(rate5docs['movie'])][genres1]\n",
    "movGenres.loc['Total']= movGenres.sum()\n",
    "movGenres.iloc[[-1],::]"
   ]
  },
  {
   "cell_type": "markdown",
   "metadata": {},
   "source": [
    "# Part 2 Question 1c"
   ]
  },
  {
   "cell_type": "code",
   "execution_count": 217,
   "metadata": {
    "ExecuteTime": {
     "end_time": "2020-11-30T03:50:50.229682Z",
     "start_time": "2020-11-30T03:50:50.204749Z"
    }
   },
   "outputs": [
    {
     "data": {
      "text/html": [
       "<div>\n",
       "<style scoped>\n",
       "    .dataframe tbody tr th:only-of-type {\n",
       "        vertical-align: middle;\n",
       "    }\n",
       "\n",
       "    .dataframe tbody tr th {\n",
       "        vertical-align: top;\n",
       "    }\n",
       "\n",
       "    .dataframe thead th {\n",
       "        text-align: right;\n",
       "    }\n",
       "</style>\n",
       "<table border=\"1\" class=\"dataframe\">\n",
       "  <thead>\n",
       "    <tr style=\"text-align: right;\">\n",
       "      <th></th>\n",
       "      <th>Action</th>\n",
       "      <th>Animation</th>\n",
       "      <th>Children's</th>\n",
       "      <th>Comedy</th>\n",
       "      <th>Crime</th>\n",
       "      <th>Documentary</th>\n",
       "      <th>Drama</th>\n",
       "      <th>Fantasy</th>\n",
       "      <th>Film-Noir</th>\n",
       "      <th>Horror</th>\n",
       "      <th>Musical</th>\n",
       "      <th>Mystery</th>\n",
       "      <th>Romance</th>\n",
       "      <th>Sci-Fi</th>\n",
       "      <th>Thriller</th>\n",
       "      <th>War</th>\n",
       "      <th>Western</th>\n",
       "    </tr>\n",
       "  </thead>\n",
       "  <tbody>\n",
       "    <tr>\n",
       "      <th>Total</th>\n",
       "      <td>18</td>\n",
       "      <td>12</td>\n",
       "      <td>13</td>\n",
       "      <td>59</td>\n",
       "      <td>10</td>\n",
       "      <td>5</td>\n",
       "      <td>56</td>\n",
       "      <td>5</td>\n",
       "      <td>0</td>\n",
       "      <td>6</td>\n",
       "      <td>14</td>\n",
       "      <td>3</td>\n",
       "      <td>39</td>\n",
       "      <td>20</td>\n",
       "      <td>24</td>\n",
       "      <td>6</td>\n",
       "      <td>2</td>\n",
       "    </tr>\n",
       "  </tbody>\n",
       "</table>\n",
       "</div>"
      ],
      "text/plain": [
       "       Action  Animation  Children's  Comedy  Crime  Documentary  Drama  \\\n",
       "Total      18         12          13      59     10            5     56   \n",
       "\n",
       "       Fantasy  Film-Noir  Horror  Musical  Mystery  Romance  Sci-Fi  \\\n",
       "Total        5          0       6       14        3       39      20   \n",
       "\n",
       "       Thriller  War  Western  \n",
       "Total        24    6        2  "
      ]
     },
     "execution_count": 217,
     "metadata": {},
     "output_type": "execute_result"
    }
   ],
   "source": [
    "# Question 1c\n",
    "usersdoc = users[users['occupation'].isin(['doctor'])]\n",
    "usersdoc = usersdoc[23<usersdoc['age']]\n",
    "usersdoc = usersdoc[usersdoc['age']<30]\n",
    "usersdoc = usersdoc[usersdoc['sex']=='M']\n",
    "\n",
    "rateusers = ratings.loc[ratings['user'].isin(usersdoc['user'])]\n",
    "rate5docs = rateusers[rateusers['rating']<4]\n",
    "movGenres = movies[movies.index.isin(rate5docs['movie'])][genres1]\n",
    "movGenres.loc['Total']= movGenres.sum()\n",
    "movGenres.iloc[[-1],::]"
   ]
  },
  {
   "cell_type": "markdown",
   "metadata": {},
   "source": [
    "# Part 2 Question 1d\n",
    "\n",
    "Young male doctors like to watch drama, followed by comedy."
   ]
  },
  {
   "cell_type": "markdown",
   "metadata": {},
   "source": [
    "# Part 2 Question 2a"
   ]
  },
  {
   "cell_type": "code",
   "execution_count": 218,
   "metadata": {
    "ExecuteTime": {
     "end_time": "2020-11-30T03:50:53.358307Z",
     "start_time": "2020-11-30T03:50:53.328390Z"
    }
   },
   "outputs": [
    {
     "data": {
      "text/html": [
       "<div>\n",
       "<style scoped>\n",
       "    .dataframe tbody tr th:only-of-type {\n",
       "        vertical-align: middle;\n",
       "    }\n",
       "\n",
       "    .dataframe tbody tr th {\n",
       "        vertical-align: top;\n",
       "    }\n",
       "\n",
       "    .dataframe thead th {\n",
       "        text-align: right;\n",
       "    }\n",
       "</style>\n",
       "<table border=\"1\" class=\"dataframe\">\n",
       "  <thead>\n",
       "    <tr style=\"text-align: right;\">\n",
       "      <th></th>\n",
       "      <th>Action</th>\n",
       "      <th>Animation</th>\n",
       "      <th>Children's</th>\n",
       "      <th>Comedy</th>\n",
       "      <th>Crime</th>\n",
       "      <th>Documentary</th>\n",
       "      <th>Drama</th>\n",
       "      <th>Fantasy</th>\n",
       "      <th>Film-Noir</th>\n",
       "      <th>Horror</th>\n",
       "      <th>Musical</th>\n",
       "      <th>Mystery</th>\n",
       "      <th>Romance</th>\n",
       "      <th>Sci-Fi</th>\n",
       "      <th>Thriller</th>\n",
       "      <th>War</th>\n",
       "      <th>Western</th>\n",
       "    </tr>\n",
       "  </thead>\n",
       "  <tbody>\n",
       "    <tr>\n",
       "      <th>Total</th>\n",
       "      <td>2</td>\n",
       "      <td>0</td>\n",
       "      <td>0</td>\n",
       "      <td>5</td>\n",
       "      <td>2</td>\n",
       "      <td>0</td>\n",
       "      <td>7</td>\n",
       "      <td>0</td>\n",
       "      <td>0</td>\n",
       "      <td>0</td>\n",
       "      <td>0</td>\n",
       "      <td>1</td>\n",
       "      <td>6</td>\n",
       "      <td>2</td>\n",
       "      <td>7</td>\n",
       "      <td>2</td>\n",
       "      <td>0</td>\n",
       "    </tr>\n",
       "  </tbody>\n",
       "</table>\n",
       "</div>"
      ],
      "text/plain": [
       "       Action  Animation  Children's  Comedy  Crime  Documentary  Drama  \\\n",
       "Total       2          0           0       5      2            0      7   \n",
       "\n",
       "       Fantasy  Film-Noir  Horror  Musical  Mystery  Romance  Sci-Fi  \\\n",
       "Total        0          0       0        0        1        6       2   \n",
       "\n",
       "       Thriller  War  Western  \n",
       "Total         7    2        0  "
      ]
     },
     "execution_count": 218,
     "metadata": {},
     "output_type": "execute_result"
    }
   ],
   "source": [
    "# Question 2a\n",
    "\n",
    "usersdoc = users[users['occupation'].isin(['healthcare'])]\n",
    "usersdoc = usersdoc[23<usersdoc['age']]\n",
    "usersdoc = usersdoc[usersdoc['age']<30]\n",
    "usersdoc = usersdoc[usersdoc['sex']=='F']\n",
    "\n",
    "rateusers = ratings.loc[ratings['user'].isin(usersdoc['user'])]\n",
    "rate5docs = rateusers[rateusers['rating']==5]\n",
    "movGenres = movies[movies.index.isin(rate5docs['movie'])][genres1]\n",
    "movGenres.loc['Total']= movGenres.sum()\n",
    "movGenres.iloc[[-1],::]"
   ]
  },
  {
   "cell_type": "markdown",
   "metadata": {},
   "source": [
    "# Part 2 Question 2b"
   ]
  },
  {
   "cell_type": "code",
   "execution_count": 202,
   "metadata": {
    "ExecuteTime": {
     "end_time": "2020-11-30T03:30:49.191662Z",
     "start_time": "2020-11-30T03:30:49.164732Z"
    }
   },
   "outputs": [
    {
     "data": {
      "text/html": [
       "<div>\n",
       "<style scoped>\n",
       "    .dataframe tbody tr th:only-of-type {\n",
       "        vertical-align: middle;\n",
       "    }\n",
       "\n",
       "    .dataframe tbody tr th {\n",
       "        vertical-align: top;\n",
       "    }\n",
       "\n",
       "    .dataframe thead th {\n",
       "        text-align: right;\n",
       "    }\n",
       "</style>\n",
       "<table border=\"1\" class=\"dataframe\">\n",
       "  <thead>\n",
       "    <tr style=\"text-align: right;\">\n",
       "      <th></th>\n",
       "      <th>Action</th>\n",
       "      <th>Animation</th>\n",
       "      <th>Children's</th>\n",
       "      <th>Comedy</th>\n",
       "      <th>Crime</th>\n",
       "      <th>Documentary</th>\n",
       "      <th>Drama</th>\n",
       "      <th>Fantasy</th>\n",
       "      <th>Film-Noir</th>\n",
       "      <th>Horror</th>\n",
       "      <th>Musical</th>\n",
       "      <th>Mystery</th>\n",
       "      <th>Romance</th>\n",
       "      <th>Sci-Fi</th>\n",
       "      <th>Thriller</th>\n",
       "      <th>War</th>\n",
       "      <th>Western</th>\n",
       "    </tr>\n",
       "  </thead>\n",
       "  <tbody>\n",
       "    <tr>\n",
       "      <th>Total</th>\n",
       "      <td>13</td>\n",
       "      <td>4</td>\n",
       "      <td>6</td>\n",
       "      <td>37</td>\n",
       "      <td>11</td>\n",
       "      <td>1</td>\n",
       "      <td>49</td>\n",
       "      <td>3</td>\n",
       "      <td>0</td>\n",
       "      <td>3</td>\n",
       "      <td>2</td>\n",
       "      <td>5</td>\n",
       "      <td>23</td>\n",
       "      <td>13</td>\n",
       "      <td>33</td>\n",
       "      <td>13</td>\n",
       "      <td>0</td>\n",
       "    </tr>\n",
       "  </tbody>\n",
       "</table>\n",
       "</div>"
      ],
      "text/plain": [
       "       Action  Animation  Children's  Comedy  Crime  Documentary  Drama  \\\n",
       "Total      13          4           6      37     11            1     49   \n",
       "\n",
       "       Fantasy  Film-Noir  Horror  Musical  Mystery  Romance  Sci-Fi  \\\n",
       "Total        3          0       3        2        5       23      13   \n",
       "\n",
       "       Thriller  War  Western  \n",
       "Total        33   13        0  "
      ]
     },
     "execution_count": 202,
     "metadata": {},
     "output_type": "execute_result"
    }
   ],
   "source": [
    "# Question 2b\n",
    "\n",
    "usersdoc = users[users['occupation'].isin(['healthcare'])]\n",
    "usersdoc = usersdoc[23<usersdoc['age']]\n",
    "usersdoc = usersdoc[usersdoc['age']<30]\n",
    "usersdoc = usersdoc[usersdoc['sex']=='F']\n",
    "\n",
    "rateusers = ratings.loc[ratings['user'].isin(usersdoc['user'])]\n",
    "rate5docs = rateusers[rateusers['rating']>3]\n",
    "movGenres = movies[movies.index.isin(rate5docs['movie'])][genres1]\n",
    "movGenres.loc['Total']= movGenres.sum()\n",
    "movGenres.iloc[[-1],::]"
   ]
  },
  {
   "cell_type": "markdown",
   "metadata": {},
   "source": [
    "# Part 2 Question 2c"
   ]
  },
  {
   "cell_type": "code",
   "execution_count": 203,
   "metadata": {
    "ExecuteTime": {
     "end_time": "2020-11-30T03:31:07.374983Z",
     "start_time": "2020-11-30T03:31:07.343068Z"
    }
   },
   "outputs": [
    {
     "data": {
      "text/html": [
       "<div>\n",
       "<style scoped>\n",
       "    .dataframe tbody tr th:only-of-type {\n",
       "        vertical-align: middle;\n",
       "    }\n",
       "\n",
       "    .dataframe tbody tr th {\n",
       "        vertical-align: top;\n",
       "    }\n",
       "\n",
       "    .dataframe thead th {\n",
       "        text-align: right;\n",
       "    }\n",
       "</style>\n",
       "<table border=\"1\" class=\"dataframe\">\n",
       "  <thead>\n",
       "    <tr style=\"text-align: right;\">\n",
       "      <th></th>\n",
       "      <th>Action</th>\n",
       "      <th>Animation</th>\n",
       "      <th>Children's</th>\n",
       "      <th>Comedy</th>\n",
       "      <th>Crime</th>\n",
       "      <th>Documentary</th>\n",
       "      <th>Drama</th>\n",
       "      <th>Fantasy</th>\n",
       "      <th>Film-Noir</th>\n",
       "      <th>Horror</th>\n",
       "      <th>Musical</th>\n",
       "      <th>Mystery</th>\n",
       "      <th>Romance</th>\n",
       "      <th>Sci-Fi</th>\n",
       "      <th>Thriller</th>\n",
       "      <th>War</th>\n",
       "      <th>Western</th>\n",
       "    </tr>\n",
       "  </thead>\n",
       "  <tbody>\n",
       "    <tr>\n",
       "      <th>Total</th>\n",
       "      <td>11</td>\n",
       "      <td>2</td>\n",
       "      <td>5</td>\n",
       "      <td>27</td>\n",
       "      <td>6</td>\n",
       "      <td>0</td>\n",
       "      <td>45</td>\n",
       "      <td>2</td>\n",
       "      <td>0</td>\n",
       "      <td>1</td>\n",
       "      <td>3</td>\n",
       "      <td>3</td>\n",
       "      <td>16</td>\n",
       "      <td>9</td>\n",
       "      <td>19</td>\n",
       "      <td>9</td>\n",
       "      <td>0</td>\n",
       "    </tr>\n",
       "  </tbody>\n",
       "</table>\n",
       "</div>"
      ],
      "text/plain": [
       "       Action  Animation  Children's  Comedy  Crime  Documentary  Drama  \\\n",
       "Total      11          2           5      27      6            0     45   \n",
       "\n",
       "       Fantasy  Film-Noir  Horror  Musical  Mystery  Romance  Sci-Fi  \\\n",
       "Total        2          0       1        3        3       16       9   \n",
       "\n",
       "       Thriller  War  Western  \n",
       "Total        19    9        0  "
      ]
     },
     "execution_count": 203,
     "metadata": {},
     "output_type": "execute_result"
    }
   ],
   "source": [
    "# Question 2c\n",
    "\n",
    "usersdoc = users[users['occupation'].isin(['healthcare'])]\n",
    "usersdoc = usersdoc[23<usersdoc['age']]\n",
    "usersdoc = usersdoc[usersdoc['age']<30]\n",
    "usersdoc = usersdoc[usersdoc['sex']=='F']\n",
    "\n",
    "rateusers = ratings.loc[ratings['user'].isin(usersdoc['user'])]\n",
    "rate5docs = rateusers[rateusers['rating']<4]\n",
    "movGenres = movies[movies.index.isin(rate5docs['movie'])][genres1]\n",
    "movGenres.loc['Total']= movGenres.sum()\n",
    "movGenres.iloc[[-1],::]"
   ]
  },
  {
   "cell_type": "markdown",
   "metadata": {},
   "source": [
    "# Part 2 Question 2d\n",
    "\n",
    "Young female healthcare workers like to watch drama, followed by some comedy."
   ]
  },
  {
   "cell_type": "markdown",
   "metadata": {},
   "source": [
    "# Part 3 Question 3a"
   ]
  },
  {
   "cell_type": "code",
   "execution_count": 204,
   "metadata": {
    "ExecuteTime": {
     "end_time": "2020-11-30T03:31:20.579635Z",
     "start_time": "2020-11-30T03:31:20.545724Z"
    }
   },
   "outputs": [
    {
     "data": {
      "text/html": [
       "<div>\n",
       "<style scoped>\n",
       "    .dataframe tbody tr th:only-of-type {\n",
       "        vertical-align: middle;\n",
       "    }\n",
       "\n",
       "    .dataframe tbody tr th {\n",
       "        vertical-align: top;\n",
       "    }\n",
       "\n",
       "    .dataframe thead th {\n",
       "        text-align: right;\n",
       "    }\n",
       "</style>\n",
       "<table border=\"1\" class=\"dataframe\">\n",
       "  <thead>\n",
       "    <tr style=\"text-align: right;\">\n",
       "      <th></th>\n",
       "      <th>Action</th>\n",
       "      <th>Animation</th>\n",
       "      <th>Children's</th>\n",
       "      <th>Comedy</th>\n",
       "      <th>Crime</th>\n",
       "      <th>Documentary</th>\n",
       "      <th>Drama</th>\n",
       "      <th>Fantasy</th>\n",
       "      <th>Film-Noir</th>\n",
       "      <th>Horror</th>\n",
       "      <th>Musical</th>\n",
       "      <th>Mystery</th>\n",
       "      <th>Romance</th>\n",
       "      <th>Sci-Fi</th>\n",
       "      <th>Thriller</th>\n",
       "      <th>War</th>\n",
       "      <th>Western</th>\n",
       "    </tr>\n",
       "  </thead>\n",
       "  <tbody>\n",
       "    <tr>\n",
       "      <th>Total</th>\n",
       "      <td>2</td>\n",
       "      <td>0</td>\n",
       "      <td>0</td>\n",
       "      <td>10</td>\n",
       "      <td>7</td>\n",
       "      <td>1</td>\n",
       "      <td>16</td>\n",
       "      <td>0</td>\n",
       "      <td>1</td>\n",
       "      <td>1</td>\n",
       "      <td>0</td>\n",
       "      <td>3</td>\n",
       "      <td>6</td>\n",
       "      <td>2</td>\n",
       "      <td>10</td>\n",
       "      <td>4</td>\n",
       "      <td>1</td>\n",
       "    </tr>\n",
       "  </tbody>\n",
       "</table>\n",
       "</div>"
      ],
      "text/plain": [
       "       Action  Animation  Children's  Comedy  Crime  Documentary  Drama  \\\n",
       "Total       2          0           0      10      7            1     16   \n",
       "\n",
       "       Fantasy  Film-Noir  Horror  Musical  Mystery  Romance  Sci-Fi  \\\n",
       "Total        0          1       1        0        3        6       2   \n",
       "\n",
       "       Thriller  War  Western  \n",
       "Total        10    4        1  "
      ]
     },
     "execution_count": 204,
     "metadata": {},
     "output_type": "execute_result"
    }
   ],
   "source": [
    "# Question 3a\n",
    "usersdoc = users[users['occupation'].isin(['doctor'])]\n",
    "usersdoc = usersdoc[35<usersdoc['age']]\n",
    "usersdoc = usersdoc[usersdoc['age']<50]\n",
    "usersdoc = usersdoc[usersdoc['sex']=='M']\n",
    "\n",
    "rateusers = ratings.loc[ratings['user'].isin(usersdoc['user'])]\n",
    "rate5docs = rateusers[rateusers['rating']==5]\n",
    "movGenres = movies[movies.index.isin(rate5docs['movie'])][genres1]\n",
    "movGenres.loc['Total']= movGenres.sum()\n",
    "movGenres.iloc[[-1],::]"
   ]
  },
  {
   "cell_type": "markdown",
   "metadata": {},
   "source": [
    "# Part 2 Question 3b"
   ]
  },
  {
   "cell_type": "code",
   "execution_count": 219,
   "metadata": {
    "ExecuteTime": {
     "end_time": "2020-11-30T03:51:57.113648Z",
     "start_time": "2020-11-30T03:51:57.088698Z"
    }
   },
   "outputs": [
    {
     "data": {
      "text/html": [
       "<div>\n",
       "<style scoped>\n",
       "    .dataframe tbody tr th:only-of-type {\n",
       "        vertical-align: middle;\n",
       "    }\n",
       "\n",
       "    .dataframe tbody tr th {\n",
       "        vertical-align: top;\n",
       "    }\n",
       "\n",
       "    .dataframe thead th {\n",
       "        text-align: right;\n",
       "    }\n",
       "</style>\n",
       "<table border=\"1\" class=\"dataframe\">\n",
       "  <thead>\n",
       "    <tr style=\"text-align: right;\">\n",
       "      <th></th>\n",
       "      <th>Action</th>\n",
       "      <th>Animation</th>\n",
       "      <th>Children's</th>\n",
       "      <th>Comedy</th>\n",
       "      <th>Crime</th>\n",
       "      <th>Documentary</th>\n",
       "      <th>Drama</th>\n",
       "      <th>Fantasy</th>\n",
       "      <th>Film-Noir</th>\n",
       "      <th>Horror</th>\n",
       "      <th>Musical</th>\n",
       "      <th>Mystery</th>\n",
       "      <th>Romance</th>\n",
       "      <th>Sci-Fi</th>\n",
       "      <th>Thriller</th>\n",
       "      <th>War</th>\n",
       "      <th>Western</th>\n",
       "    </tr>\n",
       "  </thead>\n",
       "  <tbody>\n",
       "    <tr>\n",
       "      <th>Total</th>\n",
       "      <td>12</td>\n",
       "      <td>1</td>\n",
       "      <td>2</td>\n",
       "      <td>22</td>\n",
       "      <td>10</td>\n",
       "      <td>1</td>\n",
       "      <td>45</td>\n",
       "      <td>0</td>\n",
       "      <td>2</td>\n",
       "      <td>2</td>\n",
       "      <td>2</td>\n",
       "      <td>9</td>\n",
       "      <td>22</td>\n",
       "      <td>7</td>\n",
       "      <td>28</td>\n",
       "      <td>11</td>\n",
       "      <td>1</td>\n",
       "    </tr>\n",
       "  </tbody>\n",
       "</table>\n",
       "</div>"
      ],
      "text/plain": [
       "       Action  Animation  Children's  Comedy  Crime  Documentary  Drama  \\\n",
       "Total      12          1           2      22     10            1     45   \n",
       "\n",
       "       Fantasy  Film-Noir  Horror  Musical  Mystery  Romance  Sci-Fi  \\\n",
       "Total        0          2       2        2        9       22       7   \n",
       "\n",
       "       Thriller  War  Western  \n",
       "Total        28   11        1  "
      ]
     },
     "execution_count": 219,
     "metadata": {},
     "output_type": "execute_result"
    }
   ],
   "source": [
    "# Question 3b\n",
    "\n",
    "usersdoc = users[users['occupation'].isin(['doctor'])]\n",
    "usersdoc = usersdoc[35<usersdoc['age']]\n",
    "usersdoc = usersdoc[usersdoc['age']<50]\n",
    "usersdoc = usersdoc[usersdoc['sex']=='M']\n",
    "\n",
    "rateusers = ratings.loc[ratings['user'].isin(usersdoc['user'])]\n",
    "rate5docs = rateusers[rateusers['rating']>3]\n",
    "movGenres = movies[movies.index.isin(rate5docs['movie'])][genres1]\n",
    "movGenres.loc['Total']= movGenres.sum()\n",
    "movGenres.iloc[[-1],::]"
   ]
  },
  {
   "cell_type": "code",
   "execution_count": 206,
   "metadata": {
    "ExecuteTime": {
     "end_time": "2020-11-30T03:31:48.430076Z",
     "start_time": "2020-11-30T03:31:48.393176Z"
    }
   },
   "outputs": [
    {
     "data": {
      "text/html": [
       "<div>\n",
       "<style scoped>\n",
       "    .dataframe tbody tr th:only-of-type {\n",
       "        vertical-align: middle;\n",
       "    }\n",
       "\n",
       "    .dataframe tbody tr th {\n",
       "        vertical-align: top;\n",
       "    }\n",
       "\n",
       "    .dataframe thead th {\n",
       "        text-align: right;\n",
       "    }\n",
       "</style>\n",
       "<table border=\"1\" class=\"dataframe\">\n",
       "  <thead>\n",
       "    <tr style=\"text-align: right;\">\n",
       "      <th></th>\n",
       "      <th>Action</th>\n",
       "      <th>Animation</th>\n",
       "      <th>Children's</th>\n",
       "      <th>Comedy</th>\n",
       "      <th>Crime</th>\n",
       "      <th>Documentary</th>\n",
       "      <th>Drama</th>\n",
       "      <th>Fantasy</th>\n",
       "      <th>Film-Noir</th>\n",
       "      <th>Horror</th>\n",
       "      <th>Musical</th>\n",
       "      <th>Mystery</th>\n",
       "      <th>Romance</th>\n",
       "      <th>Sci-Fi</th>\n",
       "      <th>Thriller</th>\n",
       "      <th>War</th>\n",
       "      <th>Western</th>\n",
       "    </tr>\n",
       "  </thead>\n",
       "  <tbody>\n",
       "    <tr>\n",
       "      <th>Total</th>\n",
       "      <td>2</td>\n",
       "      <td>1</td>\n",
       "      <td>2</td>\n",
       "      <td>8</td>\n",
       "      <td>2</td>\n",
       "      <td>0</td>\n",
       "      <td>7</td>\n",
       "      <td>1</td>\n",
       "      <td>0</td>\n",
       "      <td>2</td>\n",
       "      <td>0</td>\n",
       "      <td>0</td>\n",
       "      <td>4</td>\n",
       "      <td>3</td>\n",
       "      <td>6</td>\n",
       "      <td>0</td>\n",
       "      <td>0</td>\n",
       "    </tr>\n",
       "  </tbody>\n",
       "</table>\n",
       "</div>"
      ],
      "text/plain": [
       "       Action  Animation  Children's  Comedy  Crime  Documentary  Drama  \\\n",
       "Total       2          1           2       8      2            0      7   \n",
       "\n",
       "       Fantasy  Film-Noir  Horror  Musical  Mystery  Romance  Sci-Fi  \\\n",
       "Total        1          0       2        0        0        4       3   \n",
       "\n",
       "       Thriller  War  Western  \n",
       "Total         6    0        0  "
      ]
     },
     "execution_count": 206,
     "metadata": {},
     "output_type": "execute_result"
    }
   ],
   "source": [
    "# Question 3c\n",
    "\n",
    "usersdoc = users[users['occupation'].isin(['doctor'])]\n",
    "usersdoc = usersdoc[35<usersdoc['age']]\n",
    "usersdoc = usersdoc[usersdoc['age']<50]\n",
    "usersdoc = usersdoc[usersdoc['sex']=='M']\n",
    "\n",
    "rateusers = ratings.loc[ratings['user'].isin(usersdoc['user'])]\n",
    "rate5docs = rateusers[rateusers['rating']<4]\n",
    "movGenres = movies[movies.index.isin(rate5docs['movie'])][genres1]\n",
    "movGenres.loc['Total']= movGenres.sum()\n",
    "movGenres.iloc[[-1],::]"
   ]
  },
  {
   "cell_type": "markdown",
   "metadata": {},
   "source": [
    "# Question 3d\n",
    "\n",
    "Older male doctors like to watch drama too and some thriller. They don't like to watch comedies as much as young male doctors do."
   ]
  },
  {
   "cell_type": "markdown",
   "metadata": {},
   "source": [
    "# Part 2 Question 4a"
   ]
  },
  {
   "cell_type": "code",
   "execution_count": 207,
   "metadata": {
    "ExecuteTime": {
     "end_time": "2020-11-30T03:34:49.998048Z",
     "start_time": "2020-11-30T03:34:49.968129Z"
    }
   },
   "outputs": [
    {
     "data": {
      "text/html": [
       "<div>\n",
       "<style scoped>\n",
       "    .dataframe tbody tr th:only-of-type {\n",
       "        vertical-align: middle;\n",
       "    }\n",
       "\n",
       "    .dataframe tbody tr th {\n",
       "        vertical-align: top;\n",
       "    }\n",
       "\n",
       "    .dataframe thead th {\n",
       "        text-align: right;\n",
       "    }\n",
       "</style>\n",
       "<table border=\"1\" class=\"dataframe\">\n",
       "  <thead>\n",
       "    <tr style=\"text-align: right;\">\n",
       "      <th></th>\n",
       "      <th>Action</th>\n",
       "      <th>Animation</th>\n",
       "      <th>Children's</th>\n",
       "      <th>Comedy</th>\n",
       "      <th>Crime</th>\n",
       "      <th>Documentary</th>\n",
       "      <th>Drama</th>\n",
       "      <th>Fantasy</th>\n",
       "      <th>Film-Noir</th>\n",
       "      <th>Horror</th>\n",
       "      <th>Musical</th>\n",
       "      <th>Mystery</th>\n",
       "      <th>Romance</th>\n",
       "      <th>Sci-Fi</th>\n",
       "      <th>Thriller</th>\n",
       "      <th>War</th>\n",
       "      <th>Western</th>\n",
       "    </tr>\n",
       "  </thead>\n",
       "  <tbody>\n",
       "    <tr>\n",
       "      <th>Total</th>\n",
       "      <td>13</td>\n",
       "      <td>6</td>\n",
       "      <td>10</td>\n",
       "      <td>16</td>\n",
       "      <td>6</td>\n",
       "      <td>1</td>\n",
       "      <td>40</td>\n",
       "      <td>1</td>\n",
       "      <td>1</td>\n",
       "      <td>1</td>\n",
       "      <td>10</td>\n",
       "      <td>3</td>\n",
       "      <td>19</td>\n",
       "      <td>8</td>\n",
       "      <td>12</td>\n",
       "      <td>14</td>\n",
       "      <td>4</td>\n",
       "    </tr>\n",
       "  </tbody>\n",
       "</table>\n",
       "</div>"
      ],
      "text/plain": [
       "       Action  Animation  Children's  Comedy  Crime  Documentary  Drama  \\\n",
       "Total      13          6          10      16      6            1     40   \n",
       "\n",
       "       Fantasy  Film-Noir  Horror  Musical  Mystery  Romance  Sci-Fi  \\\n",
       "Total        1          1       1       10        3       19       8   \n",
       "\n",
       "       Thriller  War  Western  \n",
       "Total        12   14        4  "
      ]
     },
     "execution_count": 207,
     "metadata": {},
     "output_type": "execute_result"
    }
   ],
   "source": [
    "# Question 4a\n",
    "\n",
    "usersdoc = users[users['occupation'].isin(['healthcare'])]\n",
    "usersdoc = usersdoc[35<usersdoc['age']]\n",
    "usersdoc = usersdoc[usersdoc['age']<50]\n",
    "usersdoc = usersdoc[usersdoc['sex']=='F']\n",
    "\n",
    "rateusers = ratings.loc[ratings['user'].isin(usersdoc['user'])]\n",
    "rate5docs = rateusers[rateusers['rating']==5]\n",
    "movGenres = movies[movies.index.isin(rate5docs['movie'])][genres1]\n",
    "movGenres.loc['Total']= movGenres.sum()\n",
    "movGenres.iloc[[-1],::]"
   ]
  },
  {
   "cell_type": "markdown",
   "metadata": {},
   "source": [
    "# Part 2 Question 4b"
   ]
  },
  {
   "cell_type": "code",
   "execution_count": 208,
   "metadata": {
    "ExecuteTime": {
     "end_time": "2020-11-30T03:35:06.670471Z",
     "start_time": "2020-11-30T03:35:06.642540Z"
    }
   },
   "outputs": [
    {
     "data": {
      "text/html": [
       "<div>\n",
       "<style scoped>\n",
       "    .dataframe tbody tr th:only-of-type {\n",
       "        vertical-align: middle;\n",
       "    }\n",
       "\n",
       "    .dataframe tbody tr th {\n",
       "        vertical-align: top;\n",
       "    }\n",
       "\n",
       "    .dataframe thead th {\n",
       "        text-align: right;\n",
       "    }\n",
       "</style>\n",
       "<table border=\"1\" class=\"dataframe\">\n",
       "  <thead>\n",
       "    <tr style=\"text-align: right;\">\n",
       "      <th></th>\n",
       "      <th>Action</th>\n",
       "      <th>Animation</th>\n",
       "      <th>Children's</th>\n",
       "      <th>Comedy</th>\n",
       "      <th>Crime</th>\n",
       "      <th>Documentary</th>\n",
       "      <th>Drama</th>\n",
       "      <th>Fantasy</th>\n",
       "      <th>Film-Noir</th>\n",
       "      <th>Horror</th>\n",
       "      <th>Musical</th>\n",
       "      <th>Mystery</th>\n",
       "      <th>Romance</th>\n",
       "      <th>Sci-Fi</th>\n",
       "      <th>Thriller</th>\n",
       "      <th>War</th>\n",
       "      <th>Western</th>\n",
       "    </tr>\n",
       "  </thead>\n",
       "  <tbody>\n",
       "    <tr>\n",
       "      <th>Total</th>\n",
       "      <td>54</td>\n",
       "      <td>17</td>\n",
       "      <td>29</td>\n",
       "      <td>63</td>\n",
       "      <td>19</td>\n",
       "      <td>5</td>\n",
       "      <td>129</td>\n",
       "      <td>3</td>\n",
       "      <td>7</td>\n",
       "      <td>3</td>\n",
       "      <td>23</td>\n",
       "      <td>15</td>\n",
       "      <td>63</td>\n",
       "      <td>32</td>\n",
       "      <td>56</td>\n",
       "      <td>24</td>\n",
       "      <td>7</td>\n",
       "    </tr>\n",
       "  </tbody>\n",
       "</table>\n",
       "</div>"
      ],
      "text/plain": [
       "       Action  Animation  Children's  Comedy  Crime  Documentary  Drama  \\\n",
       "Total      54         17          29      63     19            5    129   \n",
       "\n",
       "       Fantasy  Film-Noir  Horror  Musical  Mystery  Romance  Sci-Fi  \\\n",
       "Total        3          7       3       23       15       63      32   \n",
       "\n",
       "       Thriller  War  Western  \n",
       "Total        56   24        7  "
      ]
     },
     "execution_count": 208,
     "metadata": {},
     "output_type": "execute_result"
    }
   ],
   "source": [
    "# Question 4b\n",
    "\n",
    "usersdoc = users[users['occupation'].isin(['healthcare'])]\n",
    "usersdoc = usersdoc[35<usersdoc['age']]\n",
    "usersdoc = usersdoc[usersdoc['age']<50]\n",
    "usersdoc = usersdoc[usersdoc['sex']=='F']\n",
    "\n",
    "rateusers = ratings.loc[ratings['user'].isin(usersdoc['user'])]\n",
    "rate5docs = rateusers[rateusers['rating']>3]\n",
    "movGenres = movies[movies.index.isin(rate5docs['movie'])][genres1]\n",
    "movGenres.loc['Total']= movGenres.sum()\n",
    "movGenres.iloc[[-1],::]"
   ]
  },
  {
   "cell_type": "markdown",
   "metadata": {},
   "source": [
    "# Part 2 Question 4c"
   ]
  },
  {
   "cell_type": "code",
   "execution_count": 209,
   "metadata": {
    "ExecuteTime": {
     "end_time": "2020-11-30T03:35:20.193263Z",
     "start_time": "2020-11-30T03:35:20.170371Z"
    }
   },
   "outputs": [
    {
     "data": {
      "text/html": [
       "<div>\n",
       "<style scoped>\n",
       "    .dataframe tbody tr th:only-of-type {\n",
       "        vertical-align: middle;\n",
       "    }\n",
       "\n",
       "    .dataframe tbody tr th {\n",
       "        vertical-align: top;\n",
       "    }\n",
       "\n",
       "    .dataframe thead th {\n",
       "        text-align: right;\n",
       "    }\n",
       "</style>\n",
       "<table border=\"1\" class=\"dataframe\">\n",
       "  <thead>\n",
       "    <tr style=\"text-align: right;\">\n",
       "      <th></th>\n",
       "      <th>Action</th>\n",
       "      <th>Animation</th>\n",
       "      <th>Children's</th>\n",
       "      <th>Comedy</th>\n",
       "      <th>Crime</th>\n",
       "      <th>Documentary</th>\n",
       "      <th>Drama</th>\n",
       "      <th>Fantasy</th>\n",
       "      <th>Film-Noir</th>\n",
       "      <th>Horror</th>\n",
       "      <th>Musical</th>\n",
       "      <th>Mystery</th>\n",
       "      <th>Romance</th>\n",
       "      <th>Sci-Fi</th>\n",
       "      <th>Thriller</th>\n",
       "      <th>War</th>\n",
       "      <th>Western</th>\n",
       "    </tr>\n",
       "  </thead>\n",
       "  <tbody>\n",
       "    <tr>\n",
       "      <th>Total</th>\n",
       "      <td>50</td>\n",
       "      <td>19</td>\n",
       "      <td>46</td>\n",
       "      <td>84</td>\n",
       "      <td>16</td>\n",
       "      <td>2</td>\n",
       "      <td>101</td>\n",
       "      <td>7</td>\n",
       "      <td>3</td>\n",
       "      <td>5</td>\n",
       "      <td>24</td>\n",
       "      <td>15</td>\n",
       "      <td>47</td>\n",
       "      <td>31</td>\n",
       "      <td>54</td>\n",
       "      <td>26</td>\n",
       "      <td>5</td>\n",
       "    </tr>\n",
       "  </tbody>\n",
       "</table>\n",
       "</div>"
      ],
      "text/plain": [
       "       Action  Animation  Children's  Comedy  Crime  Documentary  Drama  \\\n",
       "Total      50         19          46      84     16            2    101   \n",
       "\n",
       "       Fantasy  Film-Noir  Horror  Musical  Mystery  Romance  Sci-Fi  \\\n",
       "Total        7          3       5       24       15       47      31   \n",
       "\n",
       "       Thriller  War  Western  \n",
       "Total        54   26        5  "
      ]
     },
     "execution_count": 209,
     "metadata": {},
     "output_type": "execute_result"
    }
   ],
   "source": [
    "# Question 4c\n",
    "\n",
    "usersdoc = users[users['occupation'].isin(['healthcare'])]\n",
    "usersdoc = usersdoc[35<usersdoc['age']]\n",
    "usersdoc = usersdoc[usersdoc['age']<50]\n",
    "usersdoc = usersdoc[usersdoc['sex']=='F']\n",
    "\n",
    "rateusers = ratings.loc[ratings['user'].isin(usersdoc['user'])]\n",
    "rate5docs = rateusers[rateusers['rating']<4]\n",
    "movGenres = movies[movies.index.isin(rate5docs['movie'])][genres1]\n",
    "movGenres.loc['Total']= movGenres.sum()\n",
    "movGenres.iloc[[-1],::]"
   ]
  },
  {
   "cell_type": "markdown",
   "metadata": {},
   "source": [
    "# Question 4d\n",
    "\n",
    "Older female healthcare workers tend to watch drama, followed by romance and thriller. Similar to their younger counterpart, older healthcare workers like watch drama but they don't watch as much comedies as their younger counterpart."
   ]
  },
  {
   "attachments": {
    "Age%20Vs%20Gender.png": {
     "image/png": "[encoded data removed]"
    }
   },
   "cell_type": "markdown",
   "metadata": {},
   "source": [
    "**5. For each of the following graphs, write your inferences:(20 Marks)**\n",
    " 1.\tAge-wise Vs Gender distribution of the users who rated for the movies (10 Marks)\n",
    "\n",
    "![Age%20Vs%20Gender.png](attachment:Age%20Vs%20Gender.png)\n",
    "\n",
    "\n",
    "##### Cross tab with count \n",
    "\n",
    "|age, gender   |            F|      M |\n",
    "|--------------|:-----------:|-------:|\n",
    "|(6.999, 23.0]|6235|15760\n",
    "|(23.0, 27.0]    |3808   |14687| \n",
    "|(27.0, 33.0]    |5276   |14977| \n",
    "|(33.0, 44.0]    |6340   |14503| \n",
    "|(44.0, 73.0]    |4081   |14333|\n",
    "\n",
    "\n",
    "\n",
    "##### Cross tab with row % \n",
    "|age, gender   |            F|      M |\n",
    "|--------------|:-----------:|-------:|\n",
    "|(6.999, 23.0] |28.35       |71.65 \n",
    "|(23.0, 27.0]  |20.59       |79.41 \n",
    "|(27.0, 33.0]  |26.05       |73.95 \n",
    "|(33.0, 44.0]  |30.42       |69.58 \n",
    "|(44.0, 73.0]  |22.16       |77.84\n"
   ]
  },
  {
   "cell_type": "markdown",
   "metadata": {},
   "source": [
    "**ANSWER:**\n",
    "\n",
    "Male movie-goers tend to rate movies than female movie-goers, the ratio is approximately 3:1 where males are 3 times more likely to rate a movie than females."
   ]
  },
  {
   "attachments": {
    "Occupation-wise%20Vs%20Gender.png": {
     "image/png": "[encoded data removed]"
    }
   },
   "cell_type": "markdown",
   "metadata": {},
   "source": [
    "2. Occupation-wise Vs Gender distribution of the users who rated for the movies (10 Marks)\n",
    "\n",
    "![Occupation-wise%20Vs%20Gender.png](attachment:Occupation-wise%20Vs%20Gender.png)\n",
    "##### Cross tab with count\n",
    "\n",
    "|Occupation|Gender Female|Gender Male|\n",
    "|----------|:-----------:|----------:|  \n",
    "|administrator|2654|4825|\n",
    "|artist|971|1337\n",
    "|doctor \t |0 \t |540\n",
    "|educator \t |2537 \t |6905\n",
    "|engineer \t |145 \t |8030\n",
    "|entertainment \t |225 \t |1870\n",
    "|executive \t |221 \t |3182\n",
    "|healthcare \t |2307 \t |497\n",
    "|homemaker \t |269 \t |30\n",
    "|lawyer \t |69 \t |1276\n",
    "librarian \t |2860 \t |2413\n",
    "|marketing \t |442 \t |1508\n",
    "|none \t |365 \t |536\n",
    "|other \t |3665 \t |6998\n",
    "|programmer \t |419 \t |7382\n",
    "|retired \t |71 \t |1538\n",
    "|salesman \t |339 \t |517\n",
    "|scientist \t |139 \t |1919\n",
    "|student \t |5696 \t |16261\n",
    "|technician \t |108 \t |3398\n",
    "|writer \t |2238 \t |3298\n",
    "\n",
    "##### Cross tab with row % \n",
    "\n",
    "|Occupation|Gender F%| Gender M%|\n",
    "|----------|:-------:|---------:|\n",
    "|administrator \t |35.49 \t |64.51|\n",
    "|artist \t |42.07 \t |57.93|\n",
    "|doctor \t |0.00 \t |100.00|\n",
    "|educator \t |26.87 \t |73.13|\n",
    "|engineer \t |1.77 \t |98.23|\n",
    "|entertainment \t |10.74 \t |89.26|\n",
    "|executive \t |6.49 \t |93.51|\n",
    "|healthcare \t |82.28 \t |17.72|\n",
    "|homemaker \t |89.97 \t |10.03|\n",
    "|lawyer \t |5.13 \t |94.87|\n",
    "|librarian \t |54.24 \t |45.76|\n",
    "|marketing \t |22.67 \t |77.33|\n",
    "|none \t |40.51 \t |59.49|\n",
    "|other \t |34.37 \t |65.63|\n",
    "|programmer \t |5.37 \t |94.63|\n",
    "|retired \t |4.41 \t |95.59|\n",
    "|salesman \t |39.60 \t |60.40|\n",
    "|scientist \t |6.75 \t |93.25|\n",
    "|student \t |25.94 \t |74.06|\n",
    "|technician \t |3.08 \t |96.92|\n",
    "|writer \t |40.43 \t |59.57|\n"
   ]
  },
  {
   "cell_type": "markdown",
   "metadata": {},
   "source": [
    "**ANSWER:**\n",
    "\n",
    "Conclusions are difficult to be drawn from this data (i.e. statements like, 'what is the probability of someone belonging to a particular occupation and of a particular gender leaving a movie rating?').\n",
    "\n",
    "Data pertaining to the occupations like lawyer, doctor and scientist is to be taken lightly as the base rate of a random person drawn from the larger population having these occupations is low (i.e. there are not many people who are lawyer or doctor or scientist a priori), consequently, the samples taken within the dataset belonging to these occupations may not be representative of the people belonging to these occupations in the population. In order to more accurately draw conclusions from this dataset (e.g. such as the claim 'female lawyers are less probable to rate a movie') or verify hypotheses gathered from this data, one would need to use the Bayes rule, taking into consideration, the prior distribution for each of these occupations.\n",
    "\n",
    "Similarly, comparisons between different genders in some occupations like engineer, programmer and the like have to be done using the Bayes rule, taking into account the prior distribution of genders in these occupation. In the absence of these prior distributions, it will be difficult to draw conclusions on how genders-occupation pair influences the likelihood of someone belonging to a particular gender-occupation pair leaving a rating for a movie.\n",
    "\n",
    "However, at first glance, it does seem likely (i.e. high likelihood) that for some occupations, males are predominantly more likely to leave a rating than females. Yet, as explained above, to conclude rigorously, one will need more information on the prior distribution for each occupation and for each gender."
   ]
  },
  {
   "cell_type": "code",
   "execution_count": null,
   "metadata": {},
   "outputs": [],
   "source": []
  }
 ],
 "metadata": {
  "kernelspec": {
   "display_name": "Python 3",
   "language": "python",
   "name": "python3"
  },
  "language_info": {
   "codemirror_mode": {
    "name": "ipython",
    "version": 3
   },
   "file_extension": ".py",
   "mimetype": "text/x-python",
   "name": "python",
   "nbconvert_exporter": "python",
   "pygments_lexer": "ipython3",
   "version": "3.7.7"
  }
 },
 "nbformat": 4,
 "nbformat_minor": 4
}
