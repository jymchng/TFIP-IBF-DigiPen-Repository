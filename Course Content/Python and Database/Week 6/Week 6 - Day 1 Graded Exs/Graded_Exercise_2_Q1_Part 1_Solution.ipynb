{
 "cells": [
  {
   "cell_type": "markdown",
   "metadata": {},
   "source": [
    "# Part 1 (40 Marks)"
   ]
  },
  {
   "cell_type": "markdown",
   "metadata": {},
   "source": [
    "## PROBLEM STATEMENT\n",
    "The following questions need to be answered for the dataset in the below link\n",
    "\n",
    "http://files.grouplens.org/datasets/movielens/ml-1m.zip\n",
    "\n",
    "1. Find out the total number of movies, total number of ratings and total number of users_who_rated for movies (9 marks)\n",
    "\n",
    "2. Visualize the distribution of overall rating by users (3 marks)\n",
    "\n",
    "3. Visualize the users rating distribution (3 marks)\n",
    "\n",
    "4. Genre distribution as a pie chart (10 marks)\n",
    "\n",
    "5. Top ranked movies consider only those movies which have received at-least 100 ratings (15 marks)"
   ]
  },
  {
   "cell_type": "code",
   "execution_count": 2,
   "metadata": {},
   "outputs": [],
   "source": [
    "import pandas as pd\n",
    "import matplotlib.pyplot as plt"
   ]
  },
  {
   "cell_type": "code",
   "execution_count": 3,
   "metadata": {},
   "outputs": [],
   "source": [
    "#Reading Rating file\n",
    "col_names = ['UserID', 'MovieID', 'Rating', 'Timestamp']\n",
    "ratings = pd.read_csv(\"Datasets//ml-1m//ratings.dat\", sep=\"::\", names=col_names, header=None, engine='python')"
   ]
  },
  {
   "cell_type": "code",
   "execution_count": null,
   "metadata": {},
   "outputs": [],
   "source": [
    "ratings.head()"
   ]
  },
  {
   "cell_type": "code",
   "execution_count": 4,
   "metadata": {},
   "outputs": [],
   "source": [
    "#Reading users file\n",
    "col_names = ['UserID', 'Gender','Age', 'Occupation', 'Zip-code']\n",
    "users = pd.read_csv(\"Datasets//ml-1m//users.dat\", sep=\"::\", names=col_names, header=None, engine='python')"
   ]
  },
  {
   "cell_type": "code",
   "execution_count": null,
   "metadata": {},
   "outputs": [],
   "source": [
    "users.head()"
   ]
  },
  {
   "cell_type": "code",
   "execution_count": 5,
   "metadata": {},
   "outputs": [],
   "source": [
    "#reading movies file\n",
    "col_names = ['MovieID', 'Title', 'Genres']\n",
    "movies = pd.read_csv(\"Datasets//ml-1m//movies.dat\", names = col_names, header=None, sep=\"::\", engine='python')"
   ]
  },
  {
   "cell_type": "code",
   "execution_count": null,
   "metadata": {},
   "outputs": [],
   "source": [
    "movies.head()"
   ]
  },
  {
   "cell_type": "markdown",
   "metadata": {},
   "source": [
    "**Q1: Find out the total number of movies, total number of ratings and total number of users_who_rated for movies**"
   ]
  },
  {
   "cell_type": "code",
   "execution_count": null,
   "metadata": {},
   "outputs": [],
   "source": [
    "print(\"Number of movies rated = \" ,movies['MovieID'].nunique())\n",
    "print(\"Number of ratings = \", len(ratings.index))\n",
    "print(\"Number of users rated = \", ratings['UserID'].nunique())"
   ]
  },
  {
   "cell_type": "markdown",
   "metadata": {},
   "source": [
    "**Q2: Visualize the distribution of overall rating by users.**"
   ]
  },
  {
   "cell_type": "code",
   "execution_count": null,
   "metadata": {},
   "outputs": [],
   "source": [
    "ratings['UserID'].value_counts()"
   ]
  },
  {
   "cell_type": "code",
   "execution_count": null,
   "metadata": {},
   "outputs": [],
   "source": [
    "plt.figure(figsize=(35,10))\n",
    "plt.hist(ratings['UserID'], bins=1000)\n",
    "plt.show()"
   ]
  },
  {
   "cell_type": "markdown",
   "metadata": {},
   "source": [
    "**Q3: Visualize the users rating distribution**"
   ]
  },
  {
   "cell_type": "code",
   "execution_count": null,
   "metadata": {},
   "outputs": [],
   "source": [
    "ratings['Rating'].value_counts()"
   ]
  },
  {
   "cell_type": "code",
   "execution_count": null,
   "metadata": {},
   "outputs": [],
   "source": [
    "plt.hist(ratings['Rating'])\n",
    "plt.title('Rating distribution as a histogram')\n",
    "plt.ylabel('Number of ratings')\n",
    "plt.xlabel('Rating')\n",
    "plt.show()"
   ]
  },
  {
   "cell_type": "markdown",
   "metadata": {},
   "source": [
    "**Q4: Show Genre distribution as a pie chart**  \n",
    "ALthough there can be mutiple genre assigned to one movie. We'll assume that first Genre is the primary. Pie chart can be created based on that first Genre"
   ]
  },
  {
   "cell_type": "code",
   "execution_count": null,
   "metadata": {},
   "outputs": [],
   "source": [
    "df_genre = movies['Genres'].str.split('|', expand  = True)\n",
    "df_genre.columns = [\"Genre1\", \"Genre2\", \"Genre3\", \"Genre4\", \"Genre5\", \"Genre6\"]"
   ]
  },
  {
   "cell_type": "code",
   "execution_count": null,
   "metadata": {},
   "outputs": [],
   "source": [
    "df = pd.DataFrame(df_genre['Genre1'].value_counts()).reset_index()\n",
    "df.columns = ['Genre', 'Count']\n",
    "\n",
    "plt.pie(df['Count'], labels=df['Genre'])\n",
    "\n",
    "# View the plot\n",
    "plt.tight_layout()\n",
    "plt.show()"
   ]
  },
  {
   "cell_type": "markdown",
   "metadata": {},
   "source": [
    "**Q5: List out top 15 ranked movies (consider only those movies which are rated by atleast 100 users)**"
   ]
  },
  {
   "cell_type": "code",
   "execution_count": 11,
   "metadata": {},
   "outputs": [
    {
     "data": {
      "text/html": [
       "<div>\n",
       "<style scoped>\n",
       "    .dataframe tbody tr th:only-of-type {\n",
       "        vertical-align: middle;\n",
       "    }\n",
       "\n",
       "    .dataframe tbody tr th {\n",
       "        vertical-align: top;\n",
       "    }\n",
       "\n",
       "    .dataframe thead th {\n",
       "        text-align: right;\n",
       "    }\n",
       "</style>\n",
       "<table border=\"1\" class=\"dataframe\">\n",
       "  <thead>\n",
       "    <tr style=\"text-align: right;\">\n",
       "      <th></th>\n",
       "      <th>MovieID</th>\n",
       "      <th>Count</th>\n",
       "      <th>Rating</th>\n",
       "      <th>Avg_rating</th>\n",
       "      <th>Title</th>\n",
       "    </tr>\n",
       "  </thead>\n",
       "  <tbody>\n",
       "    <tr>\n",
       "      <th>0</th>\n",
       "      <td>2019</td>\n",
       "      <td>628</td>\n",
       "      <td>2864</td>\n",
       "      <td>4.560510</td>\n",
       "      <td>Seven Samurai (The Magnificent Seven) (Shichin...</td>\n",
       "    </tr>\n",
       "    <tr>\n",
       "      <th>1</th>\n",
       "      <td>318</td>\n",
       "      <td>2227</td>\n",
       "      <td>10143</td>\n",
       "      <td>4.554558</td>\n",
       "      <td>Shawshank Redemption, The (1994)</td>\n",
       "    </tr>\n",
       "    <tr>\n",
       "      <th>2</th>\n",
       "      <td>858</td>\n",
       "      <td>2223</td>\n",
       "      <td>10059</td>\n",
       "      <td>4.524966</td>\n",
       "      <td>Godfather, The (1972)</td>\n",
       "    </tr>\n",
       "    <tr>\n",
       "      <th>3</th>\n",
       "      <td>745</td>\n",
       "      <td>657</td>\n",
       "      <td>2970</td>\n",
       "      <td>4.520548</td>\n",
       "      <td>Close Shave, A (1995)</td>\n",
       "    </tr>\n",
       "    <tr>\n",
       "      <th>4</th>\n",
       "      <td>50</td>\n",
       "      <td>1783</td>\n",
       "      <td>8054</td>\n",
       "      <td>4.517106</td>\n",
       "      <td>Usual Suspects, The (1995)</td>\n",
       "    </tr>\n",
       "    <tr>\n",
       "      <th>5</th>\n",
       "      <td>527</td>\n",
       "      <td>2304</td>\n",
       "      <td>10392</td>\n",
       "      <td>4.510417</td>\n",
       "      <td>Schindler's List (1993)</td>\n",
       "    </tr>\n",
       "    <tr>\n",
       "      <th>6</th>\n",
       "      <td>1148</td>\n",
       "      <td>882</td>\n",
       "      <td>3976</td>\n",
       "      <td>4.507937</td>\n",
       "      <td>Wrong Trousers, The (1993)</td>\n",
       "    </tr>\n",
       "    <tr>\n",
       "      <th>7</th>\n",
       "      <td>922</td>\n",
       "      <td>470</td>\n",
       "      <td>2111</td>\n",
       "      <td>4.491489</td>\n",
       "      <td>Sunset Blvd. (a.k.a. Sunset Boulevard) (1950)</td>\n",
       "    </tr>\n",
       "    <tr>\n",
       "      <th>8</th>\n",
       "      <td>1198</td>\n",
       "      <td>2514</td>\n",
       "      <td>11257</td>\n",
       "      <td>4.477725</td>\n",
       "      <td>Raiders of the Lost Ark (1981)</td>\n",
       "    </tr>\n",
       "    <tr>\n",
       "      <th>9</th>\n",
       "      <td>904</td>\n",
       "      <td>1050</td>\n",
       "      <td>4700</td>\n",
       "      <td>4.476190</td>\n",
       "      <td>Rear Window (1954)</td>\n",
       "    </tr>\n",
       "    <tr>\n",
       "      <th>10</th>\n",
       "      <td>1178</td>\n",
       "      <td>230</td>\n",
       "      <td>1029</td>\n",
       "      <td>4.473913</td>\n",
       "      <td>Paths of Glory (1957)</td>\n",
       "    </tr>\n",
       "    <tr>\n",
       "      <th>11</th>\n",
       "      <td>260</td>\n",
       "      <td>2991</td>\n",
       "      <td>13321</td>\n",
       "      <td>4.453694</td>\n",
       "      <td>Star Wars: Episode IV - A New Hope (1977)</td>\n",
       "    </tr>\n",
       "    <tr>\n",
       "      <th>12</th>\n",
       "      <td>1212</td>\n",
       "      <td>480</td>\n",
       "      <td>2137</td>\n",
       "      <td>4.452083</td>\n",
       "      <td>Third Man, The (1949)</td>\n",
       "    </tr>\n",
       "    <tr>\n",
       "      <th>13</th>\n",
       "      <td>750</td>\n",
       "      <td>1367</td>\n",
       "      <td>6083</td>\n",
       "      <td>4.449890</td>\n",
       "      <td>Dr. Strangelove or: How I Learned to Stop Worr...</td>\n",
       "    </tr>\n",
       "    <tr>\n",
       "      <th>14</th>\n",
       "      <td>720</td>\n",
       "      <td>438</td>\n",
       "      <td>1939</td>\n",
       "      <td>4.426941</td>\n",
       "      <td>Wallace &amp; Gromit: The Best of Aardman Animatio...</td>\n",
       "    </tr>\n",
       "  </tbody>\n",
       "</table>\n",
       "</div>"
      ],
      "text/plain": [
       "    MovieID  Count  Rating  Avg_rating  \\\n",
       "0      2019    628    2864    4.560510   \n",
       "1       318   2227   10143    4.554558   \n",
       "2       858   2223   10059    4.524966   \n",
       "3       745    657    2970    4.520548   \n",
       "4        50   1783    8054    4.517106   \n",
       "5       527   2304   10392    4.510417   \n",
       "6      1148    882    3976    4.507937   \n",
       "7       922    470    2111    4.491489   \n",
       "8      1198   2514   11257    4.477725   \n",
       "9       904   1050    4700    4.476190   \n",
       "10     1178    230    1029    4.473913   \n",
       "11      260   2991   13321    4.453694   \n",
       "12     1212    480    2137    4.452083   \n",
       "13      750   1367    6083    4.449890   \n",
       "14      720    438    1939    4.426941   \n",
       "\n",
       "                                                Title  \n",
       "0   Seven Samurai (The Magnificent Seven) (Shichin...  \n",
       "1                    Shawshank Redemption, The (1994)  \n",
       "2                               Godfather, The (1972)  \n",
       "3                               Close Shave, A (1995)  \n",
       "4                          Usual Suspects, The (1995)  \n",
       "5                             Schindler's List (1993)  \n",
       "6                          Wrong Trousers, The (1993)  \n",
       "7       Sunset Blvd. (a.k.a. Sunset Boulevard) (1950)  \n",
       "8                      Raiders of the Lost Ark (1981)  \n",
       "9                                  Rear Window (1954)  \n",
       "10                              Paths of Glory (1957)  \n",
       "11          Star Wars: Episode IV - A New Hope (1977)  \n",
       "12                              Third Man, The (1949)  \n",
       "13  Dr. Strangelove or: How I Learned to Stop Worr...  \n",
       "14  Wallace & Gromit: The Best of Aardman Animatio...  "
      ]
     },
     "execution_count": 11,
     "metadata": {},
     "output_type": "execute_result"
    }
   ],
   "source": [
    "#Store the number of users who rated for a movie \n",
    "df1 = pd.DataFrame(ratings.groupby('MovieID')['UserID'].count())\n",
    "df1.columns = ['Count']\n",
    "#Store total sum of rating for a movie\n",
    "df2 = pd.DataFrame(ratings.groupby('MovieID')['Rating'].sum())\n",
    "\n",
    "#get the index of movies which have received at-least 100 ratings\n",
    "index_movies = df1['Count'] >= 100\n",
    "\n",
    "#join the two dataframe to create one dataframe. This will ease our calculation\n",
    "df3 = df1[index_movies].join(df2[index_movies])\n",
    "\n",
    "#calculate Average rating for each movie\n",
    "df3['Avg_rating'] = df3['Rating']/df3['Count']\n",
    "\n",
    "# Sort average rating in descending order and join with movies to get Title\n",
    "df3.sort_values('Avg_rating', ascending=False).join(movies[['MovieID', 'Title']].set_index('MovieID')).reset_index().head(15)"
   ]
  },
  {
   "cell_type": "code",
   "execution_count": 12,
   "metadata": {},
   "outputs": [
    {
     "data": {
      "text/plain": [
       "<function matplotlib.pyplot.show(*args, **kw)>"
      ]
     },
     "execution_count": 12,
     "metadata": {},
     "output_type": "execute_result"
    },
    {
     "data": {
      "image/png": "[encoded data removed]",
      "text/plain": [
       "<Figure size 720x648 with 1 Axes>"
      ]
     },
     "metadata": {
      "needs_background": "light"
     },
     "output_type": "display_data"
    }
   ],
   "source": [
    "ratings.groupby('MovieID')['Rating'].count().sort_values(ascending = False)[:15].plot(kind ='barh', color = 'g', x = 'Rating', y = 'Number of Users', title = 'User Rating', figsize = (10,9))\n",
    "plt.xlabel('Rating')\n",
    "plt.ylabel('Top 15 MovieID')\n",
    "plt.title('Visualization of Top 15 Movies')\n",
    "plt.show"
   ]
  }
 ],
 "metadata": {
  "kernelspec": {
   "display_name": "Python 3",
   "language": "python",
   "name": "python3"
  },
  "language_info": {
   "codemirror_mode": {
    "name": "ipython",
    "version": 3
   },
   "file_extension": ".py",
   "mimetype": "text/x-python",
   "name": "python",
   "nbconvert_exporter": "python",
   "pygments_lexer": "ipython3",
   "version": "3.8.3"
  }
 },
 "nbformat": 4,
 "nbformat_minor": 4
}
