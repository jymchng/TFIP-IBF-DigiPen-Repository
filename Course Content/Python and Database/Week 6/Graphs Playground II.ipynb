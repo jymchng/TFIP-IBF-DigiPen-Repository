{
 "cells": [
  {
   "cell_type": "markdown",
   "metadata": {},
   "source": [
    "## Graph Playground II\n",
    "\n",
    "Attempting to try out how to do recursive DFS, iterative DFS, DFS - in/post/pre-order, recursive/iterative BFS, backtracking - recursive/iterative, bounded backtrack, pruning and greedy algorithms.\n",
    "\n",
    "![BFS_DFS_2](.\\images\\BFS_DFS_2.svg)\n",
    "<center><b>Graph B</b></center>"
   ]
  },
  {
   "cell_type": "code",
   "execution_count": 3,
   "metadata": {
    "ExecuteTime": {
     "end_time": "2021-01-19T01:50:14.774362Z",
     "start_time": "2021-01-19T01:50:14.769377Z"
    }
   },
   "outputs": [],
   "source": [
    "graphB = {\n",
    "    \"A\": [\"E\",\"S\",\"D\"],\n",
    "    \"B\": [\"E\",\"G\"],\n",
    "    \"C\": [\"S\",\"E\"],\n",
    "    \"D\": [\"A\",\"F\"],\n",
    "    \"E\": [\"A\",\"C\",\"B\"],\n",
    "    \"F\": ['S',\"D\"],\n",
    "    \"G\": ['B'],\n",
    "    \"S\": ['C','F','A']\n",
    "}"
   ]
  },
  {
   "cell_type": "markdown",
   "metadata": {},
   "source": [
    "## Recursive DFS"
   ]
  },
  {
   "cell_type": "code",
   "execution_count": 38,
   "metadata": {
    "ExecuteTime": {
     "end_time": "2021-01-19T02:06:05.284213Z",
     "start_time": "2021-01-19T02:06:05.277229Z"
    }
   },
   "outputs": [],
   "source": [
    "def recDFS(graph, node):\n",
    "    \n",
    "    if not graph:\n",
    "        return None\n",
    "    \n",
    "    if not node:\n",
    "        return None\n",
    "    \n",
    "    # The state of the \"parser\" in the graph is determined by 3 parameters,\n",
    "    # 1) what is the graph - therefore, pass graph param.\n",
    "    # 2) what is the current node - therefore, pass node param.\n",
    "    # 3) what is the path thus far - therefore, pass path param into sub-function DFS.\n",
    "    import copy\n",
    "    \n",
    "    graph = copy.deepcopy(graph)\n",
    "    print(graph)\n",
    "    \n",
    "    visited = set()\n",
    "    visited.add(node)\n",
    "    print(visited)\n",
    "    \n",
    "    def DFS(graph, node, path):\n",
    "        print(\"DFS Visited\", visited)\n",
    "        \n",
    "        # This block should do the book-keeping\n",
    "        if node not in visited: # If node has not been visited: add it to the path and visit it.\n",
    "            path.append(node) # Add to path.\n",
    "            visited.add(node) # Add to visited.\n",
    "            \n",
    "        for neiNode in graph[node]: # This for-loop should do the exploration.\n",
    "            print(\"neiNode\", neiNode)\n",
    "            if neiNode not in visited: # If the neighbor has not been visited, visit it, i.e. call DFS on it.\n",
    "                # Should NOT add the neiNode to the visited set before calling DFS on it.\n",
    "                # This is handled in the above.\n",
    "                DFS(graph, neiNode, path)\n",
    "                \n",
    "    \n",
    "    path = [node] # Add the source node in the path.\n",
    "    DFS(graph, node, path) # Call DFS on the source node with graph and the path (with source node inside) as params.\n",
    "    \n",
    "    return path    "
   ]
  },
  {
   "cell_type": "code",
   "execution_count": 39,
   "metadata": {
    "ExecuteTime": {
     "end_time": "2021-01-19T02:06:05.865704Z",
     "start_time": "2021-01-19T02:06:05.857749Z"
    }
   },
   "outputs": [
    {
     "name": "stdout",
     "output_type": "stream",
     "text": [
      "{'A': ['E', 'S', 'D'], 'B': ['E', 'G'], 'C': ['S', 'E'], 'D': ['A', 'F'], 'E': ['A', 'C', 'B'], 'F': ['S', 'D'], 'G': ['B'], 'S': ['C', 'F', 'A']}\n",
      "{'E'}\n",
      "DFS Visited {'E'}\n",
      "neiNode A\n",
      "DFS Visited {'E'}\n",
      "neiNode E\n",
      "neiNode S\n",
      "DFS Visited {'E', 'A'}\n",
      "neiNode C\n",
      "DFS Visited {'E', 'A', 'S'}\n",
      "neiNode S\n",
      "neiNode E\n",
      "neiNode F\n",
      "DFS Visited {'C', 'E', 'A', 'S'}\n",
      "neiNode S\n",
      "neiNode D\n",
      "DFS Visited {'C', 'E', 'A', 'F', 'S'}\n",
      "neiNode A\n",
      "neiNode F\n",
      "neiNode A\n",
      "neiNode D\n",
      "neiNode C\n",
      "neiNode B\n",
      "DFS Visited {'C', 'E', 'D', 'A', 'F', 'S'}\n",
      "neiNode E\n",
      "neiNode G\n",
      "DFS Visited {'B', 'C', 'E', 'D', 'A', 'F', 'S'}\n",
      "neiNode B\n"
     ]
    },
    {
     "data": {
      "text/plain": [
       "['E', 'A', 'S', 'C', 'F', 'D', 'B', 'G']"
      ]
     },
     "execution_count": 39,
     "metadata": {},
     "output_type": "execute_result"
    }
   ],
   "source": [
    "recDFS(graphB, \"E\")"
   ]
  },
  {
   "cell_type": "code",
   "execution_count": null,
   "metadata": {},
   "outputs": [],
   "source": []
  }
 ],
 "metadata": {
  "kernelspec": {
   "display_name": "Python 3",
   "language": "python",
   "name": "python3"
  },
  "language_info": {
   "codemirror_mode": {
    "name": "ipython",
    "version": 3
   },
   "file_extension": ".py",
   "mimetype": "text/x-python",
   "name": "python",
   "nbconvert_exporter": "python",
   "pygments_lexer": "ipython3",
   "version": "3.7.7"
  }
 },
 "nbformat": 4,
 "nbformat_minor": 4
}
