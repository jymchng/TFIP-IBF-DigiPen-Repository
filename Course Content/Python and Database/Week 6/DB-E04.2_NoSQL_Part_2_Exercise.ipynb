{
 "cells": [
  {
   "cell_type": "markdown",
   "metadata": {},
   "source": [
    "# Basic MongoDB Exercises"
   ]
  },
  {
   "cell_type": "markdown",
   "metadata": {},
   "source": [
    "The following shows the structure of a MongoDB collection called `restaurants` with a sample of one record.\n",
    "\n",
    "```\n",
    "{\n",
    "  \"address\": {\n",
    "     \"building\": \"1007\",\n",
    "     \"coord\": [ -73.856077, 40.848447 ],\n",
    "     \"street\": \"Morris Park Ave\",\n",
    "     \"zipcode\": \"10462\"\n",
    "  },\n",
    "  \"borough\": \"Bronx\",\n",
    "  \"cuisine\": \"Bakery\",\n",
    "  \"grades\": [\n",
    "     { \"date\": { \"$date\": 1393804800000 }, \"grade\": \"A\", \"score\": 2 },\n",
    "     { \"date\": { \"$date\": 1378857600000 }, \"grade\": \"A\", \"score\": 6 },\n",
    "     { \"date\": { \"$date\": 1358985600000 }, \"grade\": \"A\", \"score\": 10 },\n",
    "     { \"date\": { \"$date\": 1322006400000 }, \"grade\": \"A\", \"score\": 9 },\n",
    "     { \"date\": { \"$date\": 1299715200000 }, \"grade\": \"B\", \"score\": 14 }\n",
    "  ],\n",
    "  \"name\": \"Morris Park Bake Shop\",\n",
    "  \"restaurant_id\": \"30075445\"\n",
    "}\n",
    "```\n",
    "\n",
    "The full collection records are in the file called `restaurants.json`. If you would like to import the collection into MongoDB, use the following command in the command prompt window.\n",
    "\n",
    "`mongoimport --db <database name> --collection <collection name> --file <full json file path & name>`\n",
    "\n",
    "<br>\n",
    "\n",
    "Using the given information, answer the following questions:\n",
    "\n",
    "1. Write a query to display all documents of the `restaurants` collection.\n",
    "2. Write a query to only display the fields `restaurant_id`, `name`, `borough` and `cuisine` for all doucments of the collection.\n",
    "3. Write a query to only display the fields `restaurant_id`, `borough` and `zipcode` for all doucments of the collection.\n",
    "4. Write a query to display the first 10 restaurants in the `borough` *Staten Island*.\n",
    "5. Write a query to display the next 5 restaurants after skipping the first 5 which are in the `borough` *Queens*.\n",
    "6. Write a query to find all restaurants with a `scores` more than 90.\n",
    "7. Write a query to update the `cuisine` *American * (it has a trailing whitespace) to *American* (without the trailing whitespace.\n",
    "8. Write a query to find all restaurants who prepares *American* `cuisine` with a grade score between 70 to 80.\n",
    "9. Write a query to find all restaurants who do not prepare any `cuisine` of *Chinese* with a `grade` of *A* and belongs to the `borough` *Queens*. Display the documents according to `cuisine` in descending order.\n",
    "10. Write a query to find all restaurants in *Queens* that prepares either *Italian* or *Delicatessen* `cuisine`.\n",
    "11. Write a query to find all restaurants where the 2rd element of the `grades` array contains the `grade` *A* and `score` more than or equal to 9 on the ISODate \"2014-08-11T00:00:00Z\". Display only the restaurant's name and address without the geographical coordinates.\n",
    "12. Write a query to arrange the names of the `cuisine` in ascending order and `name` in descending order. Display only the `cuisine`, `name` and `borough` of the restaurant."
   ]
  },
  {
   "cell_type": "code",
   "execution_count": null,
   "metadata": {},
   "outputs": [],
   "source": []
  }
 ],
 "metadata": {
  "kernelspec": {
   "display_name": "Python 3",
   "language": "python",
   "name": "python3"
  },
  "language_info": {
   "codemirror_mode": {
    "name": "ipython",
    "version": 3
   },
   "file_extension": ".py",
   "mimetype": "text/x-python",
   "name": "python",
   "nbconvert_exporter": "python",
   "pygments_lexer": "ipython3",
   "version": "3.8.3"
  }
 },
 "nbformat": 4,
 "nbformat_minor": 4
}
