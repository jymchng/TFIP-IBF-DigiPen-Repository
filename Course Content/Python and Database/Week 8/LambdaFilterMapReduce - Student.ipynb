{
 "cells": [
  {
   "cell_type": "markdown",
   "metadata": {},
   "source": [
    "### Anonymous Functions:\n",
    "Sometimes we can declare a function without any name,such type of nameless functions\n",
    "are called anonymous functions or lambda functions.\n",
    "The main purpose of anonymous function is just for instant use(i.e for one time usage)\n",
    "\n",
    "### Normal Function:\n",
    "We can define by using def keyword.  \n"
   ]
  },
  {
   "cell_type": "code",
   "execution_count": null,
   "metadata": {},
   "outputs": [],
   "source": [
    "def squareIt(n):\n",
    "    return n*n"
   ]
  },
  {
   "cell_type": "markdown",
   "metadata": {},
   "source": [
    "### lambda Function:\n",
    "We can define by using lambda keyword\n",
    "\n",
    "lambda argument(s): expression"
   ]
  },
  {
   "cell_type": "code",
   "execution_count": null,
   "metadata": {},
   "outputs": [],
   "source": [
    "lambda n:n*n"
   ]
  },
  {
   "cell_type": "code",
   "execution_count": null,
   "metadata": {},
   "outputs": [],
   "source": [
    "#Q. Write a program to create a lambda function to find square of given number?\n",
    "s=lambda n:n*n\n",
    "print(\"The Square of 4 is :\",s(4))\n",
    "print(\"The Square of 5 is :\",s(5))"
   ]
  },
  {
   "cell_type": "code",
   "execution_count": null,
   "metadata": {},
   "outputs": [],
   "source": [
    "#Q. Lambda function to find sum of 2 given numbers\n",
    "\n",
    "s=\n",
    "print(\"The Sum of 10,20 is:\",s(10,20))"
   ]
  },
  {
   "cell_type": "code",
   "execution_count": null,
   "metadata": {},
   "outputs": [],
   "source": [
    "#Q. Lambda Function to find biggest of given values.\n",
    "s=\n",
    "print(\"The Biggest of 10,20 is:\",s(10,20))\n",
    "print(\"The Biggest of 100,200 is:\",s(100,200))"
   ]
  },
  {
   "cell_type": "code",
   "execution_count": null,
   "metadata": {},
   "outputs": [],
   "source": [
    "(lambda a, b: a + b)(3, 4)"
   ]
  },
  {
   "cell_type": "markdown",
   "metadata": {},
   "source": [
    "**Note:**  \n",
    "Lambda Function internally returns expression value and we are not required to write\n",
    "return statement explicitly.  \n",
    "\n",
    "`Note:` Sometimes we can pass function as argument to another function. In such cases\n",
    "lambda functions are best choice.  \n",
    "\n",
    "We can use lambda functions very commonly with filter(),map() and reduce() functions, because\n",
    "these functions expect function as argument."
   ]
  },
  {
   "cell_type": "markdown",
   "metadata": {},
   "source": [
    "**Q. Write a Python program to sort a list of tuples using Lambda.**"
   ]
  },
  {
   "cell_type": "code",
   "execution_count": null,
   "metadata": {},
   "outputs": [],
   "source": [
    "subject_marks = [('English', 88), ('Science', 90), ('Maths', 97), ('Social sciences', 82)]\n",
    "print(\"Original list of tuples:\")\n",
    "print(subject_marks)\n",
    "subject_marks.sort(key = lambda x: x[1])\n",
    "print(\"\\nSorting the List of Tuples:\")\n",
    "print(subject_marks)"
   ]
  },
  {
   "cell_type": "markdown",
   "metadata": {},
   "source": [
    "**Q. Write a Python program to sort the given list: First sort by Alphabet and then sort by Length.**"
   ]
  },
  {
   "cell_type": "code",
   "execution_count": 9,
   "metadata": {
    "ExecuteTime": {
     "end_time": "2020-12-16T01:28:49.004168Z",
     "start_time": "2020-12-16T01:28:48.998183Z"
    }
   },
   "outputs": [
    {
     "data": {
      "text/plain": [
       "['aaa', 'sss', 'aa', 'bb', 'zz', 'a', 'z', '']"
      ]
     },
     "execution_count": 9,
     "metadata": {},
     "output_type": "execute_result"
    }
   ],
   "source": [
    "lst = ['a','aa','sss','z','bb','aaa','zz','']\n",
    "lst.sort()\n",
    "sorted(lst, key = len, reverse = True)"
   ]
  },
  {
   "cell_type": "code",
   "execution_count": 11,
   "metadata": {
    "ExecuteTime": {
     "end_time": "2020-12-16T01:29:44.943875Z",
     "start_time": "2020-12-16T01:29:44.937891Z"
    }
   },
   "outputs": [
    {
     "data": {
      "text/plain": [
       "['aaa', 'bbb', 'ccc', 'dddd', 'dddl', 'yyyyy']"
      ]
     },
     "execution_count": 11,
     "metadata": {},
     "output_type": "execute_result"
    }
   ],
   "source": [
    "#2nd way\n",
    "lst = ['aaa', 'bbb', 'ccc', 'dddd', 'dddl', 'yyyyy']\n",
    "\n",
    "lst.sort(key = lambda item:(-len(item), item)) # Note the - in front of the len. Descending in length but ascending in\n",
    "# alphabetical order => length should be put with a minus sign.\n",
    "\n",
    "lst"
   ]
  },
  {
   "cell_type": "markdown",
   "metadata": {},
   "source": [
    "### filter() function:  \n",
    "We can use filter() function to filter values from the given sequence based on some condition.  \n",
    "\n",
    "filter(function,sequence)"
   ]
  },
  {
   "cell_type": "markdown",
   "metadata": {},
   "source": [
    "**Q. Write a Python program to filter a list of integers using Lambda.**"
   ]
  },
  {
   "cell_type": "code",
   "execution_count": null,
   "metadata": {},
   "outputs": [],
   "source": [
    "#Without lambda\n",
    "def isEven(x):\n",
    "    if x%2==0:\n",
    "        return True\n",
    "    else:\n",
    "        return False\n",
    "\n",
    "l=[0,5,10,15,20,25,30]\n",
    "l1=list(filter(isEven,l))\n",
    "print(l1) #[0,10,20,30]"
   ]
  },
  {
   "cell_type": "code",
   "execution_count": null,
   "metadata": {},
   "outputs": [],
   "source": [
    "#With lambda\n",
    "nums = [1, 2, 3, 4, 5, 6, 7, 8, 9, 10]\n",
    "print(\"Original list of integers:\")\n",
    "print(nums)\n",
    "\n",
    "print(\"\\nEven numbers from the said list:\")\n",
    "even_nums = list(filter(lambda x: x%2 == 0, nums))\n",
    "print(even_nums)\n",
    "\n",
    "print(\"\\nOdd numbers from the said list:\")\n",
    "odd_nums = list(filter(lambda x: x%2 != 0, nums))\n",
    "print(odd_nums)"
   ]
  },
  {
   "cell_type": "markdown",
   "metadata": {},
   "source": [
    "**Q.Using filter() function filter the list so that only negative numbers are left.**"
   ]
  },
  {
   "cell_type": "code",
   "execution_count": 13,
   "metadata": {
    "ExecuteTime": {
     "end_time": "2020-12-16T01:34:55.626773Z",
     "start_time": "2020-12-16T01:34:55.621785Z"
    }
   },
   "outputs": [
    {
     "data": {
      "text/plain": [
       "[-1, -0.5, -0.2, -100]"
      ]
     },
     "execution_count": 13,
     "metadata": {},
     "output_type": "execute_result"
    }
   ],
   "source": [
    "lst1=[12, -1, 9, 8, -0.5, -0.2, -100]\n",
    "#Type your answer here.\n",
    "\n",
    "list(filter(lambda x: x<0, lst1))"
   ]
  },
  {
   "cell_type": "markdown",
   "metadata": {},
   "source": [
    "**Q. Using filter function, filter the even numbers so that only odd numbers are passed to the new list.**"
   ]
  },
  {
   "cell_type": "code",
   "execution_count": 14,
   "metadata": {
    "ExecuteTime": {
     "end_time": "2020-12-16T01:35:15.320176Z",
     "start_time": "2020-12-16T01:35:15.314192Z"
    }
   },
   "outputs": [
    {
     "data": {
      "text/plain": [
       "[19, 13, 11, 1]"
      ]
     },
     "execution_count": 14,
     "metadata": {},
     "output_type": "execute_result"
    }
   ],
   "source": [
    "lst1=[22, 100, 19, 13, 11, 1, 4, 66]\n",
    "#Type your answer here.\n",
    "\n",
    "list(filter(lambda x: x%2!=0, lst1))"
   ]
  },
  {
   "cell_type": "markdown",
   "metadata": {},
   "source": [
    "**Q.Using filter() and list() functions and .lower() method filter all the vowels in a given string.**\n",
    "\n"
   ]
  },
  {
   "cell_type": "code",
   "execution_count": 19,
   "metadata": {
    "ExecuteTime": {
     "end_time": "2020-12-16T01:44:52.285352Z",
     "start_time": "2020-12-16T01:44:52.279361Z"
    }
   },
   "outputs": [
    {
     "name": "stdout",
     "output_type": "stream",
     "text": [
      "['i', 'e', 'O', 'i', 'i', 'i', 'a', 'e', 'a', 'e', 'i', 'e', 'i', 'i', 'i', 'a']\n"
     ]
    }
   ],
   "source": [
    "str1=\"Winter Olympics in 2022 will take place in Beijing China\"\n",
    "#Type your answer here.\n",
    "\n",
    "str2 = list(filter(lambda x:x.lower() in \"aeiou\", str1))\n",
    "\n",
    "print(str2)"
   ]
  },
  {
   "cell_type": "markdown",
   "metadata": {},
   "source": [
    "**Q. Using filter() and list() functions filter all the positive integers in the string.**"
   ]
  },
  {
   "cell_type": "code",
   "execution_count": 24,
   "metadata": {
    "ExecuteTime": {
     "end_time": "2020-12-16T01:49:22.622469Z",
     "start_time": "2020-12-16T01:49:22.617482Z"
    }
   },
   "outputs": [
    {
     "name": "stdout",
     "output_type": "stream",
     "text": [
      "2022\n"
     ]
    }
   ],
   "source": [
    "str1=\"Winter Olympics in 2022 will take place in Beijing China\"\n",
    "#Type your answer here.\n",
    "\n",
    "str2 = list(filter(lambda a: a.isdigit(), str1))\n",
    "str2 = list(filter(lambda x: x in '0123456789', str1))\n",
    "\n",
    "print(\"\".join(str2))\n"
   ]
  },
  {
   "cell_type": "markdown",
   "metadata": {},
   "source": [
    "### map() function:  \n",
    "For every element present in the given sequence,apply some functionality and generate new element with the required modification. For this requirement we should go for\n",
    "map() function.    \n",
    "\n",
    "Eg: For every element present in the list perform double and generate new list of doubles.\n",
    "\n",
    "Syntax:  \n",
    "map(function,sequence)"
   ]
  },
  {
   "cell_type": "code",
   "execution_count": 25,
   "metadata": {
    "ExecuteTime": {
     "end_time": "2020-12-16T01:57:56.865223Z",
     "start_time": "2020-12-16T01:57:56.859258Z"
    }
   },
   "outputs": [
    {
     "name": "stdout",
     "output_type": "stream",
     "text": [
      "[2, 4, 6, 8, 10]\n"
     ]
    }
   ],
   "source": [
    "#Without lambda\n",
    "l=[1,2,3,4,5]\n",
    "\n",
    "def doubleIt(x):\n",
    "    return 2*x\n",
    "\n",
    "l1=list(map(doubleIt,l))\n",
    "\n",
    "print(l1) #[2, 4, 6, 8, 10]"
   ]
  },
  {
   "cell_type": "code",
   "execution_count": null,
   "metadata": {},
   "outputs": [],
   "source": [
    "#with lambda\n",
    "l=[1,2,3,4,5]\n",
    "l1=list(map(lambda x:2*x,l))\n",
    "print(l1) #[2, 4, 6, 8, 10]"
   ]
  },
  {
   "cell_type": "markdown",
   "metadata": {},
   "source": [
    "**Q. This time swap the map() and filter() functions so that map() function is inside filter() function. Convert a number to positive if it's negative in the list. Only pass those that are \n",
    "converted from negative to positive to the new list.**"
   ]
  },
  {
   "cell_type": "code",
   "execution_count": 29,
   "metadata": {
    "ExecuteTime": {
     "end_time": "2020-12-16T02:05:40.334182Z",
     "start_time": "2020-12-16T02:05:40.324209Z"
    }
   },
   "outputs": [
    {
     "name": "stdout",
     "output_type": "stream",
     "text": [
      "[1000, 600, 90000, 17500]\n"
     ]
    }
   ],
   "source": [
    "lst1=[-1000, 500, -600, 700, 5000, -90000, -17500]\n",
    "#Type your answer here.\n",
    "\n",
    "lst2 = list(map(lambda x:-x, filter(lambda x:x<0,lst1))) # filter returns another sequence.\n",
    "lst2 = list(filter(lambda x: True if x>0 else False, map(lambda x:x*-1, lst1)))\n",
    "\n",
    "print(lst2)\n"
   ]
  },
  {
   "cell_type": "markdown",
   "metadata": {},
   "source": [
    "**Q.Write a map function that adds plus 5 to each item in the list.**"
   ]
  },
  {
   "cell_type": "code",
   "execution_count": 30,
   "metadata": {
    "ExecuteTime": {
     "end_time": "2020-12-16T02:06:18.276801Z",
     "start_time": "2020-12-16T02:06:18.271874Z"
    }
   },
   "outputs": [
    {
     "name": "stdout",
     "output_type": "stream",
     "text": [
      "[15, 25, 35, 45, 55, 65]\n"
     ]
    }
   ],
   "source": [
    "lst1 = [10, 20, 30, 40, 50, 60]\n",
    "\n",
    "lst2 = list(map(lambda x:x+5, lst1))\n",
    "\n",
    "print(lst2)"
   ]
  },
  {
   "cell_type": "markdown",
   "metadata": {},
   "source": [
    "**Q.Write a map function that adds \"Hello, \" in front of each item in the list.**"
   ]
  },
  {
   "cell_type": "code",
   "execution_count": 32,
   "metadata": {
    "ExecuteTime": {
     "end_time": "2020-12-16T02:07:22.292632Z",
     "start_time": "2020-12-16T02:07:22.288643Z"
    }
   },
   "outputs": [
    {
     "name": "stdout",
     "output_type": "stream",
     "text": [
      "['Hello, Jane', 'Hello, Lee', 'Hello, Will', 'Hello, Brie']\n"
     ]
    }
   ],
   "source": [
    "lst1=[\"Jane\", \"Lee\", \"Will\", \"Brie\"]\n",
    "#Type your answer here.\n",
    "\n",
    "lst2 = list(map(lambda x: \"Hello, \"+x, lst1))\n",
    "\n",
    "print(lst2)"
   ]
  },
  {
   "cell_type": "markdown",
   "metadata": {},
   "source": [
    "**Q. Using map() function and len() function create a list that's consisted of lengths of each element\n",
    "in the first list.**"
   ]
  },
  {
   "cell_type": "code",
   "execution_count": 34,
   "metadata": {
    "ExecuteTime": {
     "end_time": "2020-12-16T02:09:06.769528Z",
     "start_time": "2020-12-16T02:09:06.764542Z"
    }
   },
   "outputs": [
    {
     "name": "stdout",
     "output_type": "stream",
     "text": [
      "[6, 9, 6, 9, 6]\n"
     ]
    }
   ],
   "source": [
    "lst1=[\"Alpine\", \"Avalanche\", \"Powder\", \"Snowflake\", \"Summit\"]\n",
    "#Type your answer here.\n",
    "\n",
    "lst2 = list(map(lambda x:len(x), lst1))\n",
    "lst2 = list(map(len, lst1)) # Can use the len, inbuilt function.\n",
    "\n",
    "print(lst2)\n"
   ]
  },
  {
   "cell_type": "markdown",
   "metadata": {},
   "source": [
    "**Q. Using map() function and lambda add each elements of two lists together. Use a lambda with two arguments.**"
   ]
  },
  {
   "cell_type": "code",
   "execution_count": 37,
   "metadata": {
    "ExecuteTime": {
     "end_time": "2020-12-16T02:10:32.410973Z",
     "start_time": "2020-12-16T02:10:32.402994Z"
    }
   },
   "outputs": [
    {
     "ename": "NameError",
     "evalue": "name 'x' is not defined",
     "output_type": "error",
     "traceback": [
      "\u001b[1;31m---------------------------------------------------------------------------\u001b[0m",
      "\u001b[1;31mNameError\u001b[0m                                 Traceback (most recent call last)",
      "\u001b[1;32m<ipython-input-37-e30cc7979c06>\u001b[0m in \u001b[0;36m<module>\u001b[1;34m\u001b[0m\n\u001b[0;32m      5\u001b[0m \u001b[1;33m\u001b[0m\u001b[0m\n\u001b[0;32m      6\u001b[0m \u001b[0mlst3\u001b[0m \u001b[1;33m=\u001b[0m \u001b[0mlist\u001b[0m\u001b[1;33m(\u001b[0m\u001b[0mmap\u001b[0m\u001b[1;33m(\u001b[0m\u001b[1;32mlambda\u001b[0m \u001b[0mx\u001b[0m\u001b[1;33m,\u001b[0m \u001b[0my\u001b[0m\u001b[1;33m:\u001b[0m \u001b[0mx\u001b[0m\u001b[1;33m+\u001b[0m\u001b[0my\u001b[0m\u001b[1;33m,\u001b[0m \u001b[0mlst1\u001b[0m\u001b[1;33m,\u001b[0m\u001b[0mlst2\u001b[0m\u001b[1;33m)\u001b[0m\u001b[1;33m)\u001b[0m\u001b[1;33m\u001b[0m\u001b[1;33m\u001b[0m\u001b[0m\n\u001b[1;32m----> 7\u001b[1;33m \u001b[0mlst3\u001b[0m \u001b[1;33m=\u001b[0m \u001b[0mlist\u001b[0m\u001b[1;33m(\u001b[0m\u001b[0mmap\u001b[0m\u001b[1;33m(\u001b[0m\u001b[0mx\u001b[0m\u001b[1;33m+\u001b[0m\u001b[0my\u001b[0m\u001b[1;33m,\u001b[0m \u001b[0mlst1\u001b[0m\u001b[1;33m,\u001b[0m\u001b[0mlst2\u001b[0m\u001b[1;33m)\u001b[0m\u001b[1;33m)\u001b[0m\u001b[1;33m\u001b[0m\u001b[1;33m\u001b[0m\u001b[0m\n\u001b[0m\u001b[0;32m      8\u001b[0m \u001b[1;33m\u001b[0m\u001b[0m\n\u001b[0;32m      9\u001b[0m \u001b[0mprint\u001b[0m\u001b[1;33m(\u001b[0m\u001b[0mlst3\u001b[0m\u001b[1;33m)\u001b[0m\u001b[1;33m\u001b[0m\u001b[1;33m\u001b[0m\u001b[0m\n",
      "\u001b[1;31mNameError\u001b[0m: name 'x' is not defined"
     ]
    }
   ],
   "source": [
    "lst1=[100, 200, 300, 400, 500]\n",
    "lst2=[1,10,100,1000,10000]\n",
    "\n",
    "#Type your answer here.\n",
    "\n",
    "lst3 = list(map(lambda x, y: x+y, lst1,lst2))\n",
    "\n",
    "print(lst3)\n"
   ]
  },
  {
   "cell_type": "markdown",
   "metadata": {},
   "source": [
    "**Q. Using map() function and lambda and count() function create a list consisted of the number of occurence of letter: a.**"
   ]
  },
  {
   "cell_type": "code",
   "execution_count": 46,
   "metadata": {
    "ExecuteTime": {
     "end_time": "2020-12-16T02:13:27.375674Z",
     "start_time": "2020-12-16T02:13:27.367695Z"
    }
   },
   "outputs": [
    {
     "name": "stdout",
     "output_type": "stream",
     "text": [
      "Alaska\n",
      "Alaska\n",
      "Alabama\n",
      "Alabama\n",
      "Arizona\n",
      "Arizona\n",
      "Arkansas\n",
      "Arkansas\n",
      "Colorado\n",
      "Colorado\n",
      "Montana\n",
      "Montana\n",
      "Nevada\n",
      "Nevada\n",
      "['Alaska', 'Alabama', 'Arizona', 'Arkansas', 'Colorado', 'Montana', 'Nevada']\n",
      "[3, 4, 2, 3, 1, 2, 2]\n"
     ]
    }
   ],
   "source": [
    "lst1=[\"Alaska\", \"Alabama\", \"Arizona\", \"Arkansas\", \"Colorado\", \"Montana\", \"Nevada\"]\n",
    "#Type your answer here.\n",
    "\n",
    "for lst in lst1:\n",
    "    print(lst)\n",
    "    lst.lower()\n",
    "    print(lst)\n",
    "    \n",
    "print(lst1)\n",
    "\n",
    "lst2 = list(map(lambda x:x.lower().count('a'), lst1))\n",
    "\n",
    "print(lst2)"
   ]
  },
  {
   "cell_type": "code",
   "execution_count": 43,
   "metadata": {
    "ExecuteTime": {
     "end_time": "2020-12-16T02:12:34.911797Z",
     "start_time": "2020-12-16T02:12:31.926552Z"
    }
   },
   "outputs": [
    {
     "name": "stdout",
     "output_type": "stream",
     "text": [
      "0    1\n",
      "1    0\n",
      "2    1\n",
      "3    0\n",
      "4    0\n",
      "dtype: int64\n"
     ]
    }
   ],
   "source": [
    "import pandas as pd\n",
    "lst1=pd.Series([\"Yes\", \"No\", \"Yes\", \"No\", \"No\"])\n",
    "\n",
    "#lst2 = list(map(len, lst1))\n",
    "lst2 = lst1.map({'Yes': 1, 'No': 0})\n",
    "# label encorder\n",
    "# one hot encoding\n",
    "# get_dummies\n",
    "\n",
    "print(lst2)"
   ]
  },
  {
   "cell_type": "markdown",
   "metadata": {},
   "source": [
    "**Q. Using map() and filter() functions add 2000 to the values below 8000.**"
   ]
  },
  {
   "cell_type": "code",
   "execution_count": 47,
   "metadata": {
    "ExecuteTime": {
     "end_time": "2020-12-16T02:19:37.743993Z",
     "start_time": "2020-12-16T02:19:37.738010Z"
    }
   },
   "outputs": [
    {
     "name": "stdout",
     "output_type": "stream",
     "text": [
      "[3000, 2500, 2600, 2700, 7000]\n"
     ]
    }
   ],
   "source": [
    "lst1=[1000, 500, 600, 700, 5000, 90000, 17500]\n",
    "#Type your answer here.\n",
    "\n",
    "lst2 = list(map(lambda x:x+2000, filter(lambda x:x<8000, lst1)))\n",
    "\n",
    "print(lst2)"
   ]
  },
  {
   "cell_type": "markdown",
   "metadata": {},
   "source": [
    "**Q. Write a python program to arbitrarily get all the numbers divisible by 3 between 1 and 20 and cube them**"
   ]
  },
  {
   "cell_type": "code",
   "execution_count": 49,
   "metadata": {
    "ExecuteTime": {
     "end_time": "2020-12-16T02:22:27.441142Z",
     "start_time": "2020-12-16T02:22:27.436157Z"
    }
   },
   "outputs": [
    {
     "name": "stdout",
     "output_type": "stream",
     "text": [
      "[27, 216, 729, 1728, 3375, 5832]\n"
     ]
    }
   ],
   "source": [
    "arbitrary_numbers = map(lambda x: x**3, filter(lambda x:x%3==0, range(1,21))) # No need to convert range to list as range is\n",
    "# iterable!!!\n",
    "\n",
    "print(list(arbitrary_numbers))"
   ]
  },
  {
   "cell_type": "markdown",
   "metadata": {},
   "source": [
    "**Q. Using map() function and lambda and count() function create a list consisted of the number of occurence of both letters: A and a.**"
   ]
  },
  {
   "cell_type": "code",
   "execution_count": null,
   "metadata": {},
   "outputs": [],
   "source": [
    "lst1=[\"Alaska\", \"Alabama\", \"Arizona\", \"Arkansas\", \"Colorado\", \"Montana\", \"Nevada\"]\n",
    "#Type your answer here.\n",
    "\n",
    "\n",
    "print(lst2)"
   ]
  },
  {
   "cell_type": "markdown",
   "metadata": {},
   "source": [
    "**Q. Write a Python program to convert all the characters in uppercase and lowercase and eliminate duplicate letters from a given sequence. Use map() function.**"
   ]
  },
  {
   "cell_type": "code",
   "execution_count": 54,
   "metadata": {
    "ExecuteTime": {
     "end_time": "2020-12-16T02:26:06.144165Z",
     "start_time": "2020-12-16T02:26:06.138180Z"
    }
   },
   "outputs": [
    {
     "name": "stdout",
     "output_type": "stream",
     "text": [
      "Original Characters:\n",
      " {'f', 'b', 'U', 'E', 'a', 'o', 'i'}\n",
      "\n",
      "After converting above characters in upper and lower cases\n",
      "and eliminating duplicate letters:\n",
      "[('F', 'f'), ('B', 'b'), ('U', 'u'), ('E', 'e'), ('A', 'a'), ('O', 'o'), ('I', 'i')]\n"
     ]
    }
   ],
   "source": [
    "def change_cases(s):\n",
    "    #write your logic here\n",
    "    \n",
    "    return str(s).upper(), str(s).lower()\n",
    "\n",
    "chrars = {'a', 'b', 'E', 'f', 'a', 'i', 'o', 'U', 'a'}\n",
    "print(\"Original Characters:\\n\",chrars)\n",
    " \n",
    "result = map(change_cases, chrars)\n",
    "\n",
    "print(\"\\nAfter converting above characters in upper and lower cases\\nand eliminating duplicate letters:\")\n",
    "print(list(result))"
   ]
  },
  {
   "cell_type": "markdown",
   "metadata": {},
   "source": [
    "### reduce() function:  \n",
    "\n",
    "reduce() function reduces sequence of elements into a single element by applying the specified function.  \n",
    "\n",
    "reduce(function,sequence)\n",
    "\n",
    "reduce() function present in functools module and hence we should write import statement."
   ]
  },
  {
   "cell_type": "code",
   "execution_count": 55,
   "metadata": {
    "ExecuteTime": {
     "end_time": "2020-12-16T02:26:46.921589Z",
     "start_time": "2020-12-16T02:26:46.916627Z"
    }
   },
   "outputs": [
    {
     "name": "stdout",
     "output_type": "stream",
     "text": [
      "150\n"
     ]
    }
   ],
   "source": [
    "from functools import *\n",
    "l=[10,20,30,40,50]\n",
    "result=reduce(lambda x,y:x+y,l)\n",
    "print(result) # 150"
   ]
  },
  {
   "cell_type": "code",
   "execution_count": 56,
   "metadata": {
    "ExecuteTime": {
     "end_time": "2020-12-16T02:26:56.204323Z",
     "start_time": "2020-12-16T02:26:56.199337Z"
    }
   },
   "outputs": [
    {
     "name": "stdout",
     "output_type": "stream",
     "text": [
      "12000000\n"
     ]
    }
   ],
   "source": [
    "result=reduce(lambda x,y:x*y,l)\n",
    "print(result) #12000000"
   ]
  },
  {
   "cell_type": "code",
   "execution_count": 57,
   "metadata": {
    "ExecuteTime": {
     "end_time": "2020-12-16T02:26:56.795412Z",
     "start_time": "2020-12-16T02:26:56.791441Z"
    }
   },
   "outputs": [
    {
     "name": "stdout",
     "output_type": "stream",
     "text": [
      "5050\n"
     ]
    }
   ],
   "source": [
    "from functools import *\n",
    "result=reduce(lambda x,y:x+y,range(1,101))\n",
    "print(result)"
   ]
  },
  {
   "cell_type": "code",
   "execution_count": null,
   "metadata": {},
   "outputs": [],
   "source": []
  }
 ],
 "metadata": {
  "kernelspec": {
   "display_name": "Python 3",
   "language": "python",
   "name": "python3"
  },
  "language_info": {
   "codemirror_mode": {
    "name": "ipython",
    "version": 3
   },
   "file_extension": ".py",
   "mimetype": "text/x-python",
   "name": "python",
   "nbconvert_exporter": "python",
   "pygments_lexer": "ipython3",
   "version": "3.7.7"
  }
 },
 "nbformat": 4,
 "nbformat_minor": 4
}
