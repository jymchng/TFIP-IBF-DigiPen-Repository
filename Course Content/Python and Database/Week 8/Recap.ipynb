{
 "cells": [
  {
   "cell_type": "markdown",
   "metadata": {},
   "source": [
    "# Racap\n",
    "\n",
    "## Topics\n",
    "* Dictionary \n",
    "* Functions (no `lambdas`)\n",
    "* List Comprehension\n",
    "* Files Reading & Writing\n",
    "* Exceptions *(creeeps in everywhere)*\n",
    "* Classes & Objects *(creeeps in everywhere)*\n",
    "* OOP *(creeeps in everywhere)*\n",
    "---"
   ]
  },
  {
   "cell_type": "markdown",
   "metadata": {},
   "source": [
    "## Dictionary\n",
    "\n",
    "**What do we know about it's properties?**\n",
    "* it has something like a `key` and a `value` but how are they related? The `key` acts like an index or an identifier to a `value`.\n",
    " * we **have** to use immutable (cannot change once created) datatypes (aka `string`, `integer`, `frozenset`, `float`, etc) to define the `key`s.\n",
    " * `key`s must be unique!\n",
    " * the `value`s part can be **any datatype**.\n",
    "* because the `value` can be of any datatype, we can do things like nested dictionaries or nested, nested horrible datatypes!\n",
    "* because the `key`s acts like an *index*, we can use the square brackets (`[]`) to directly access the `value` for the given `key`\n",
    "* it is dynamic, aka it can grow and shrink whenever.\n",
    "* in **Python 3.7 onwards**, Dictionary order is guaranteed to be insertion order.\n",
    "* **it's always False when empty**\n",
    "\n",
    "General Syntax\n",
    "```python\n",
    "d = {'key_1': 'value_1', ..., 'key_n': 'value_n'}\n",
    "```\n",
    "\n",
    "**Interesting note:** Python dictionaries and the JSON data format are like a happily married couple! They work together extremely well!\n",
    "\n",
    "**What do we know about creating an manipulating it?**\n",
    "* direct ways to create an empty dictionary are: `dict()`, `{}`\n",
    "* indirect ways are"
   ]
  },
  {
   "cell_type": "code",
   "execution_count": null,
   "metadata": {},
   "outputs": [],
   "source": [
    "# method 1\n",
    "d={'Name': 'John', 'MatrNo': '002558', 'Profession': 'Student'}\n",
    "d"
   ]
  },
  {
   "cell_type": "code",
   "execution_count": null,
   "metadata": {},
   "outputs": [],
   "source": [
    "# method 2 - using the dict() function\n",
    "d=dict(Name = 'John', \n",
    "       MatrNo = '002558', \n",
    "       Profession = 'Student')\n",
    "d"
   ]
  },
  {
   "cell_type": "code",
   "execution_count": null,
   "metadata": {},
   "outputs": [],
   "source": [
    "# method 3 - most widely used\n",
    "state = {}\n",
    "state['mWakefulness'] = 'Awake'\n",
    "state['mHoldingWakeLockSuspendBlocker'] = 'true'\n",
    "\n",
    "state"
   ]
  },
  {
   "cell_type": "code",
   "execution_count": null,
   "metadata": {},
   "outputs": [],
   "source": [
    "# method 4a - combining lists \n",
    "value_lst = ['blue', 'red', 'black', 'white', 'purple']\n",
    "e = {}\n",
    "for key, value in enumerate(value_lst):\n",
    "    e[key] = value\n",
    "e"
   ]
  },
  {
   "cell_type": "code",
   "execution_count": null,
   "metadata": {},
   "outputs": [],
   "source": [
    "# method 4b - combining lists \n",
    "value_lst = ['blue', 'red', 'black', 'white', 'purple']\n",
    "e = {}\n",
    "for idx in range(len(value_lst)):\n",
    "    e[idx] = value_lst[idx]\n",
    "e"
   ]
  },
  {
   "cell_type": "code",
   "execution_count": null,
   "metadata": {},
   "outputs": [],
   "source": [
    "# method 4c - combining lists and tuples\n",
    "key_lst = ['a', 'b', 'c', 'd', 'e']\n",
    "value_lst = ['blue', 'red', 'black', 'white', 'purple']\n",
    "e = {}\n",
    "for tu in zip(key_lst, value_lst):\n",
    "    e[tu[0]] = tu[1]\n",
    "e"
   ]
  },
  {
   "cell_type": "markdown",
   "metadata": {},
   "source": [
    "### Dictionary Functions\n",
    "* Generally we don't really want to access a dictionary value manaually, aka `d[1]` because it is error prone. What happens if the `key` is not there?\n",
    "* We like to use the dictionary functions and operators to check first then extract the values. Which are the \"more\" heavily used functions and operators?\n",
    " * **`in` operator** - checks if the `key` is in the dictionary. If yes, returns `True`. If no, returns `False`.\n",
    " * **`len()`** - always good to find out the length of the dictionary so that it can help us decided which is the best method we can use to work with that particular dictionary\n",
    " * **`list()`** - on a dictionary, this returns all the dictionary `keys` in a `list` format\n",
    " * **`get()`** - gets the value based on the given key, can set a default value to return should the key be not found.\n",
    " * **`keys()` & `values()`** - returns either the key or value. **Note** that the returned tuples cannot be used directly, need to convert them to like a `list` to use them\n",
    " * **`items()`** - returns the key & value as pairs. **Note** that the returned tuples cannot be used directly, need to convert them to like a `list` to use them\n",
    " * **`update()`** - sort of like merging 2 dictionaries but any duplicated keys, the 2nd dictionary `key` will always win.\n",
    " * **`clear()`** - removes all dictionary keys & values"
   ]
  },
  {
   "cell_type": "code",
   "execution_count": null,
   "metadata": {},
   "outputs": [],
   "source": [
    "# converting the returned values from items() into a list because we can't use them directly\n",
    "# this applies for keys() and values() functions\n",
    "list(e.items())"
   ]
  },
  {
   "cell_type": "markdown",
   "metadata": {},
   "source": [
    "---\n",
    "## Functions\n",
    "\n",
    "**What do we know about function properties?**\n",
    "* it begans with a `def` keyword.\n",
    "* it is used to perform a single repeatable task.\n",
    "* it has a name.\n",
    "* it can accept inputs and return some output after completing its task.\n",
    "* docstring is what the industry use to document what the function does.\n",
    "\n",
    "**What does a function look like?**\n",
    "```python\n",
    "def function_name( parameters ):\n",
    "    \"function_docstring or documentation\"\n",
    "    # task for the function to do\n",
    "    return [expression] # outputs\n",
    "```\n",
    "\n",
    "**Ways of passing input to a function**\n",
    "* **Positional Arguments** - characterized by the 1 to 1 mapping of input arguments to input parameters. Order for both input arguments and input parameters for function caller and function definition (respectively) is very important.\n",
    "\n",
    "* **Keyword Arguments** - characterized by ability of the input arguments to pass values to the function in a `keyword`=`value` format. Order of the input arguments for the function caller is not unimportant.\n",
    "\n",
    "* **Default Parameters** - characterized by the input parameters of the function definition having the `keyword`=`value` format. Not only is order of the input arguments unimportant for the function caller, the function caller does not even need to supply all the input arguments to call the function. \n",
    "\n",
    "In the industry, a mixed of all 3 ways of passing input to a function is used.\n",
    "\n",
    "#### A word of caution \n",
    "**NEVER EVER** use mutable objects for default values when setting up default parameters for input parameters because the mutable object created in the function definition will never be \"replaced\" with a new object.\n",
    "\n",
    "**Example of why (Class version)**"
   ]
  },
  {
   "cell_type": "code",
   "execution_count": null,
   "metadata": {},
   "outputs": [],
   "source": [
    "class A:\n",
    "    def __init__(self, name, var=list()):\n",
    "        self.inst_name = name\n",
    "        self.var1 = var\n",
    "        print(f'{self.inst_name} in __init__: {self.var1}')\n",
    "    \n",
    "    def add_to(self,var2):\n",
    "        self.var1.append(var2)\n",
    "        print(f'{self.inst_name} in add_to: {self.var1}')\n",
    "    \n",
    "n = A('n')\n",
    "n.add_to([5])\n",
    "print()\n",
    "b = A('b')\n",
    "b.add_to([1,2])"
   ]
  },
  {
   "cell_type": "markdown",
   "metadata": {},
   "source": [
    "**Example of why (Function version)**"
   ]
  },
  {
   "cell_type": "code",
   "execution_count": null,
   "metadata": {},
   "outputs": [],
   "source": [
    "def functionA(lst_var=[]):\n",
    "    var = lst_var\n",
    "    var.append(5)\n",
    "    return var\n",
    "\n",
    "print(functionA())\n",
    "print(functionA())"
   ]
  },
  {
   "cell_type": "markdown",
   "metadata": {},
   "source": [
    "**`NoneType` and how it is used** <br>\n",
    "Generally used as default values with functions with default parameters in their input parameter list and/or as a default return value of all Python functions.\n",
    "\n",
    "The solution to the above problem is to use `None`."
   ]
  },
  {
   "cell_type": "code",
   "execution_count": null,
   "metadata": {},
   "outputs": [],
   "source": [
    "class A:\n",
    "    def __init__(self, name, var=None):\n",
    "        self.inst_name = name\n",
    "        self.var1 = []\n",
    "        print(f'{self.inst_name} in __init__: {self.var1}')\n",
    "    \n",
    "    def add_to(self,var2):\n",
    "        self.var1.append(var2)\n",
    "        print(f'{self.inst_name} in add_to: {self.var1}')\n",
    "    \n",
    "n = A('n')\n",
    "n.add_to([5])\n",
    "print()\n",
    "b = A('b')\n",
    "b.add_to([1,2])"
   ]
  },
  {
   "cell_type": "markdown",
   "metadata": {},
   "source": [
    "When do we generally encounter such functions with a lot of `NoneType` objects being used in its default values? One example is where a function is used for setting up \"an environment\" before a call to another function to do the task.\n",
    "\n",
    "**Example: A background job scheduler**"
   ]
  },
  {
   "cell_type": "code",
   "execution_count": null,
   "metadata": {},
   "outputs": [],
   "source": [
    "'''\n",
    "These set of functions belong to a class that sets up a scheduler to constantly get data\n",
    "from a sensor every x amount of time\n",
    "'''\n",
    "def setupScheduler(self, ioPorts, scheJobID=None, now=False):\n",
    "    '''\n",
    "    ioPorts - list of indexes of the currently in use sensor ports\n",
    "    now - whether or not to pause the job after creating it\n",
    "    '''\n",
    "    if scheJobID is None:\n",
    "        scheJobID = self.get_next_job_id()\n",
    "        \n",
    "    if constants.sche.get_job(scheJobID) is None:\n",
    "        # self.getSensorData() is a callback\n",
    "        constants.sche.add_job(id=\"sensorTask\", func=getSensorData, args=ioPorts,\n",
    "                            trigger='interval', seconds=0.3)\n",
    "        if not now:\n",
    "            constants.sche.pause_job(scheJobID)\n",
    "    \n",
    "    return scheJobID\n",
    "\n",
    "def resumeTask(self, scheJobID):\n",
    "    constants.sche.resume_job(scheJobID)\n",
    "\n",
    "def removeTask(self, scheJobID):\n",
    "    constants.sche.remove_job(scheJobID)"
   ]
  },
  {
   "cell_type": "markdown",
   "metadata": {},
   "source": [
    "**Return values**\n",
    "\n",
    "Python allows functions to return a single value or multiple values. Multiple values are always separated via a comma (`,`). But **there's a catch**, when assigning return values from a function that returns multiple values, it will always **return in a tuple format**.\n",
    "\n",
    "**Example: Function returning multiple values**"
   ]
  },
  {
   "cell_type": "code",
   "execution_count": null,
   "metadata": {},
   "outputs": [],
   "source": [
    "def return_multiple():\n",
    "    return 1,3,4\n",
    "\n",
    "print(return_multiple())"
   ]
  },
  {
   "cell_type": "markdown",
   "metadata": {},
   "source": [
    "Before learning about `tuple`, we can use a technique called \"Unpacking\" to unpack the return values into individual variables for use.\n",
    "\n",
    "**Example: Unpacking returned values**"
   ]
  },
  {
   "cell_type": "code",
   "execution_count": null,
   "metadata": {},
   "outputs": [],
   "source": [
    "def return_multiple():\n",
    "    return 1,3,4\n",
    "\n",
    "var1, var2, var3 = return_multiple()\n",
    "\n",
    "print(f'{var1}, {var2}, {var3}')"
   ]
  },
  {
   "cell_type": "markdown",
   "metadata": {},
   "source": [
    "#### Special Question\n",
    "**Soon Siang's question:** \"when should we initialize an instance object attributes by having default values in the definition of the constructor or by setting the attributes to some values in the constructor itself\"\n",
    "\n",
    "**Answer:** During \"setting up of environment\". Consider this example, we would like to setup a compiling routine to build an arduino file (`.c` or `.cpp` file) from python using the Arduino's external complier. The compiler is available with the Arduino IDE package."
   ]
  },
  {
   "cell_type": "code",
   "execution_count": null,
   "metadata": {},
   "outputs": [],
   "source": [
    "'''\n",
    "This is part of a build_arduino.py file from Ben Sasson that is used to build the Arduino source file (.c or .cpp files) from python using\n",
    "the Arduino's external complier\n",
    "'''\n",
    "def compile_source(source, avr_path='', target_dir=None, arch=ARCH, clock=CPU_CLOCK, include_dirs=[], verbose=False, simulate=False):\n",
    "    \"\"\"\n",
    "    compile a single source file, using compiler selected based on file extension and translating arguments\n",
    "    to valid compiler flags.\n",
    "    \n",
    "    Inputs:\n",
    "    source - source file path\n",
    "    avr_path - avr directory path, where all the compliers are located\n",
    "    target_dir - where the object files located after building\n",
    "    arch - Arduino architecture\n",
    "    clock - CPU clock speed\n",
    "    include_dirs - any other directories where other files are located \n",
    "    verbose - verbose messages during build\n",
    "    simulate - a check used to print the command to screen instead of executing the commnad\n",
    "    \n",
    "    Return:\n",
    "    where the object files located after building\n",
    "    \"\"\"\n",
    "\n",
    "    filename, ext = os.path.splitext(source)\n",
    "    compiler = COMPILERS.get(ext, None)\n",
    "    if compiler is None:\n",
    "        print(source, 'has no known compiler')\n",
    "        return\n",
    "\n",
    "    if target_dir is None:\n",
    "        target_dir = os.path.dirname(source)\n",
    "\n",
    "    target = os.path.join(target_dir, os.path.basename(source) + '.o')\n",
    "    env = dict(source=source, target=target, arch=arch, clock=clock, env_version=ENV_VERSION, compiler=compiler, avr_path=avr_path)\n",
    "\n",
    "    # create include list, don't use set() because order matters\n",
    "    dirs = [os.path.dirname(source)]\n",
    "    for d in include_dirs:\n",
    "        if d not in dirs:\n",
    "            dirs.append(d)\n",
    "\n",
    "    env['include_dirs'] = ' '.join('-I%s' % d for d in dirs)\n",
    "    if verbose:\n",
    "        env['verbose'] = '-v'\n",
    "    else:\n",
    "        env['verbose'] = ''\n",
    "    cmdline = '%(avr_path)s%(compiler)s -c %(verbose)s -g -Os -w -ffunction-sections -fdata-sections -mmcu=%(arch)s -DF_CPU=%(clock)dL -DARDUINO=%(env_version)d %(include_dirs)s %(source)s -o%(target)s' % env\n",
    "    _exec(cmdline, simulate=simulate)\n",
    "    return target"
   ]
  },
  {
   "cell_type": "markdown",
   "metadata": {},
   "source": [
    "---\n",
    "## List Comprehension\n",
    "\n",
    "**Why do we use it? (from Python Documentation)**\n",
    "* provide a concise way to create lists\n",
    "* make new lists where each element is the result of some operations applied to each member of another sequence or iterable\n",
    "* to create a subsequence of those elements that satisfy a certain condition\n",
    "\n",
    "Let's start with a recap of how lists can be created?"
   ]
  },
  {
   "cell_type": "code",
   "execution_count": null,
   "metadata": {},
   "outputs": [],
   "source": [
    "lst = []\n",
    "\n",
    "for x in range(10):\n",
    "    lst.append(x**2) # <- bump x up to x^2 \n",
    "\n",
    "print(lst)"
   ]
  },
  {
   "cell_type": "markdown",
   "metadata": {},
   "source": [
    "What are the other ways (that we know) that we can use to create this list?\n",
    "\n",
    "**Example: Using Map with `lambda`**"
   ]
  },
  {
   "cell_type": "code",
   "execution_count": null,
   "metadata": {},
   "outputs": [],
   "source": [
    "list(map(lambda x: x**2, range(10)))"
   ]
  },
  {
   "cell_type": "markdown",
   "metadata": {},
   "source": [
    "**Example: Using list comprehension**"
   ]
  },
  {
   "cell_type": "code",
   "execution_count": null,
   "metadata": {},
   "outputs": [],
   "source": [
    "[x**2 for x in range(10)]"
   ]
  },
  {
   "attachments": {
    "5345263f-1678-4a5a-88f4-6a1fff9f2605.png": {
     "image/png": "[encoded data removed]"
    }
   },
   "cell_type": "markdown",
   "metadata": {},
   "source": [
    "Let's break up the syntax of a basic list comprehension\n",
    "\n",
    "![list_comp_01.png](attachment:5345263f-1678-4a5a-88f4-6a1fff9f2605.png)\n",
    "\n",
    "**What can we decipher from the figure?**\n",
    "1. list comprehension always consist of an outer square brackets (`[]`)\n",
    "2. it has a `for` clause (aka the `for` loop)\n",
    "3. it has an expression before the `for` clause. **Note** that the left most expression (in the absence of the `if` statement) is the expression that is applied to each element \"given\" from the `for` clause\n",
    "\n",
    "**What happens when we want to use more than 1 `for` clause?**\n",
    "\n",
    "For example in the list comprehension below, we are getting all combinations of the elements from 2 lists and placing the output in a 2-tuple. <br>\n",
    "**Note** that the curve brackets are mandatory otherwise a `SyntaxError` will occur."
   ]
  },
  {
   "cell_type": "code",
   "execution_count": null,
   "metadata": {},
   "outputs": [],
   "source": [
    "[ (x,y) for x in [1,2,3] for y in [3,1,4] ]"
   ]
  },
  {
   "attachments": {
    "8b89174a-215a-43b4-b1d4-81fd2174e467.png": {
     "image/png": "[encoded data removed]"
    }
   },
   "cell_type": "markdown",
   "metadata": {},
   "source": [
    "Breaking up the syntax: <br>\n",
    "![list_comp_02.png](attachment:8b89174a-215a-43b4-b1d4-81fd2174e467.png)\n",
    "\n",
    "If we were to convert it to our normal python syntax, it would look like:\n",
    "```python\n",
    "comp = []\n",
    "for x in [1,2,3]:\n",
    "    for y in [3,1,4]:\n",
    "        comp.append((x,y))\n",
    "```\n",
    "\n",
    "Let's say that instead of just blindly combining the elements, we only want **the combination of elements where they don't match** (aka no `(1,1)` & `(3,3)`). Because we added this condition, we now have to include the `if` statement into the list comprehension. \n",
    "\n",
    "There are 2 forms of `if` statements that we can use:\n",
    "* **without the `False` part**<br>\n",
    " `[true_expression for m in iterable if condition]`\n",
    " \n",
    "* **with the `False` part**<br>\n",
    " `[true_expression if condition else false_expression for m in iterable]`\n",
    "\n",
    "**Back to our condition:** *only want to combine elements when they don't match* <br>\n",
    "Since there is no `False` part required since we are \"throwing away\" what is not needed, we can use the list comprehension without the `False` part syntax."
   ]
  },
  {
   "cell_type": "code",
   "execution_count": null,
   "metadata": {},
   "outputs": [],
   "source": [
    "[ (x, y) for x in [1,2,3] for y in [3,1,4] if x != y ]"
   ]
  },
  {
   "attachments": {
    "c785cd19-c592-43e7-850c-480dc99aaf50.png": {
     "image/png": "[encoded data removed]"
    }
   },
   "cell_type": "markdown",
   "metadata": {},
   "source": [
    "Breaking up the syntax:\n",
    "\n",
    "![list_comp_03.png](attachment:c785cd19-c592-43e7-850c-480dc99aaf50.png)\n",
    "\n",
    "If we were to convert it to our normal python syntax, it would look like:\n",
    "```python\n",
    "comp = []\n",
    "for x in [1,2,3]:\n",
    "    for y in [3,1,4]:\n",
    "        if x != y:\n",
    "            comp.append((x,y))\n",
    "```\n",
    "\n",
    "Let's add **another condition** to our previous question: *for the matched elements multiply the elements by 5*"
   ]
  },
  {
   "cell_type": "code",
   "execution_count": null,
   "metadata": {},
   "outputs": [],
   "source": [
    "# original\n",
    "[ (x, y) for x in [1,2,3] for y in [3,1,4] ]"
   ]
  },
  {
   "cell_type": "code",
   "execution_count": null,
   "metadata": {},
   "outputs": [],
   "source": [
    "# Condition: for the matched elements multiply the elements by 5\n",
    "[ (x, y) if x != y else (x*5,y*5) for x in [1,2,3] for y in [3,1,4] ]"
   ]
  },
  {
   "attachments": {
    "bf5a0d67-a369-47ac-8d22-0708d990740a.png": {
     "image/png": "[encoded data removed]"
    }
   },
   "cell_type": "markdown",
   "metadata": {},
   "source": [
    "Breaking up the syntax:\n",
    "\n",
    "![list_comp_04.png](attachment:bf5a0d67-a369-47ac-8d22-0708d990740a.png)\n",
    "\n",
    "If we were to convert it to our normal python syntax, it would look like:\n",
    "```python\n",
    "comp = []\n",
    "for x in [1,2,3]:\n",
    "    for y in [3,1,4]:\n",
    "        if x != y:\n",
    "            comp.append((x,y))\n",
    "        else:\n",
    "            comp.append((x*5,y*5))\n",
    "```\n",
    "\n",
    "On top of the `for` and `if` statements, list comprehension can also contain complex expressions and nested functions."
   ]
  },
  {
   "cell_type": "code",
   "execution_count": null,
   "metadata": {},
   "outputs": [],
   "source": [
    "original_prices = [80.25, 11.45, 104.22, 86.78, 45.92, 51.16]\n",
    "[str(round((i-i*0.1),2)) if i > 50 else str(round((i-i*0.05), 2)) for i in original_prices]"
   ]
  },
  {
   "cell_type": "markdown",
   "metadata": {},
   "source": [
    "### Nested List Comprehension\n",
    "It is 100% possible to nest more than 1 list comprehension in another list comprehension.\n",
    "\n",
    "For example, we would like to create a matrix that looks like:\n",
    "```python\n",
    "matrix = [\n",
    "    [0, 1, 2, 3],\n",
    "    [1, 2, 3, 4],\n",
    "    [2, 3, 4, 5]\n",
    "]\n",
    "```\n",
    "\n",
    "We can tell that the relationship between the rows and columns is: <br>\n",
    "**for every row, we add the column value to it**\n",
    "\n",
    "Therefore if we were to put it into a normal nested `for` loop it would look like"
   ]
  },
  {
   "cell_type": "code",
   "execution_count": 1,
   "metadata": {
    "ExecuteTime": {
     "end_time": "2020-12-17T01:22:18.498968Z",
     "start_time": "2020-12-17T01:22:18.490988Z"
    }
   },
   "outputs": [
    {
     "name": "stdout",
     "output_type": "stream",
     "text": [
      "[[0, 1, 2, 3],\n",
      " [1, 2, 3, 4],\n",
      " [2, 3, 4, 5]]\n"
     ]
    }
   ],
   "source": [
    "import pprint\n",
    "\n",
    "outer = []\n",
    "for row in range(3):\n",
    "    inner = []\n",
    "    for col in range(4):\n",
    "        inner.append(row+col)\n",
    "    outer.append(inner)\n",
    "\n",
    "pprint.pprint(outer, width=15)"
   ]
  },
  {
   "cell_type": "markdown",
   "metadata": {},
   "source": [
    "Let's try using nested list comprehensions to produce the same result"
   ]
  },
  {
   "cell_type": "code",
   "execution_count": 2,
   "metadata": {
    "ExecuteTime": {
     "end_time": "2020-12-17T01:22:19.887255Z",
     "start_time": "2020-12-17T01:22:19.883266Z"
    }
   },
   "outputs": [
    {
     "name": "stdout",
     "output_type": "stream",
     "text": [
      "[[0, 1, 2, 3],\n",
      " [1, 2, 3, 4],\n",
      " [2, 3, 4, 5]]\n"
     ]
    }
   ],
   "source": [
    "pprint.pprint([ [ col+row for col in range(4) ] for row in range(3) ], width=15)"
   ]
  },
  {
   "cell_type": "markdown",
   "metadata": {},
   "source": [
    "### Pros & Cons\n",
    "**Advantageous of List Comprehensions**\n",
    "* it is pythonic (if you are working with veteran python coders)\n",
    "* can be used in many situations:\n",
    " * list creation \n",
    " * mapping & filtering \n",
    "* when written properly, it is more declarative than loops. In the sense that, focus on *what you* want to go in the list and let Python take care of *how* the list construction takes place.\n",
    "\n",
    "**Disadvantageous of List Comprehensions**\n",
    "* difficult to read \n",
    " * when using nested list comprehensions of different datatypes \n",
    " * when simple logic is made complicated\n",
    "* in some situations, it will use up more memory compareed to generators or the `map()` function. Especially true when there is a need to work with huge datasets like a sequence of several million numbers.\n",
    "\n",
    "**Example: `dict` and `list` comprehension combined**"
   ]
  },
  {
   "cell_type": "code",
   "execution_count": null,
   "metadata": {},
   "outputs": [],
   "source": [
    "from random import randint\n",
    "import pprint\n",
    "\n",
    "cities = ['Serangoon', 'Woodlands', 'Jurong', 'Bishan', 'Dover']\n",
    "temps = {city: [randint(26, 32) for _ in range(7)] for city in cities}\n",
    "\n",
    "pprint.pprint(temps)"
   ]
  },
  {
   "cell_type": "markdown",
   "metadata": {},
   "source": [
    "**Example: Transposing a matrix**"
   ]
  },
  {
   "cell_type": "code",
   "execution_count": null,
   "metadata": {},
   "outputs": [],
   "source": [
    "matrix = [\n",
    "    [0, 1, 2, 3],\n",
    "    [1, 2, 3, 4],\n",
    "    [2, 3, 4, 5]\n",
    "]"
   ]
  },
  {
   "cell_type": "code",
   "execution_count": null,
   "metadata": {},
   "outputs": [],
   "source": [
    "# list comprehension way\n",
    "transposed = [ [row[col] for row in matrix] for col in range(4) ]\n",
    "pprint.pprint(transposed, width = 15)"
   ]
  },
  {
   "cell_type": "code",
   "execution_count": null,
   "metadata": {},
   "outputs": [],
   "source": [
    "# normal way\n",
    "transposed = []\n",
    "for col in range(4):\n",
    "    # the following 3 lines implement the nested list comp\n",
    "    transposed_row = []\n",
    "    for row in matrix:\n",
    "        transposed_row.append(row[col])\n",
    "    transposed.append(transposed_row)\n",
    "\n",
    "pprint.pprint(transposed, width = 15)"
   ]
  },
  {
   "cell_type": "markdown",
   "metadata": {},
   "source": [
    "---\n",
    "## File Reading & Writing\n",
    "\n",
    "Before we can even read or write a file we first have to find it! That's where file paths comes in.\n",
    "\n",
    "**2 types of Paths:**\n",
    "* **Absolute Path** - this refers to the **complete path details** to the location of the file or folder. <br>\n",
    " eg: `C:/Program Files (x86)/Mozilla Firefox/firefox.exe`\n",
    "* **Relative Path** - this refers to the a specific location of the file or folder **relative to** the current working directory. <br>\n",
    " eg: `../Start Menu/Programs/Google Chrome.lnk`\n",
    " \n",
    "**2 Path building libraries:**\n",
    "* **`os.path`** - available in Python 2 and 3\n",
    "* **`pathlib`** - available from Python 3.4 onwards. Use this if your program has no access to operating system operations.\n",
    "\n",
    "**How are file paths determined from where your current script is running from (using the `pathlib` library)?**\n",
    "1. getting the current working directory.\n",
    "2. if you need go **up 1 level** from the current working directory, use `parent` attribute.\n",
    "3. if you need to go **into a folder** from either the current working directory or another directory, join the folder name to the current path."
   ]
  },
  {
   "cell_type": "code",
   "execution_count": null,
   "metadata": {},
   "outputs": [],
   "source": [
    "from pathlib import Path\n",
    "\n",
    "# getting current working directory\n",
    "curr_work_dir = Path().cwd()\n",
    "print(f'Current working directory: {curr_work_dir}\\n')\n",
    "\n",
    "# moving 1 directory up from current working directory\n",
    "one_up = curr_work_dir.parent\n",
    "print(f'Up 1 level from current working directory: {one_up}\\n')\n",
    "\n",
    "# entering a directory from the previous level\n",
    "change_dir = one_up.joinpath('Handouts')\n",
    "print(f'Entering a folder from the previous directory: {change_dir}\\n')"
   ]
  },
  {
   "cell_type": "markdown",
   "metadata": {},
   "source": [
    "Now that you have the path settled, we need to check if the path is a currently existing location before we can do the either of the following tasks:\n",
    "* query for all the files and folders in that directory\n",
    "* access (read or write) a particular file\n",
    "* enter another directory within this directory"
   ]
  },
  {
   "cell_type": "code",
   "execution_count": null,
   "metadata": {},
   "outputs": [],
   "source": [
    "# listing all files and folders in the directory\n",
    "if change_dir.exists():\n",
    "    for item in change_dir.iterdir():\n",
    "        print(item)"
   ]
  },
  {
   "cell_type": "markdown",
   "metadata": {},
   "source": [
    "Let's say that we have found the file that we want to access. We have 2 options: read the file or write to the file.<br>\n",
    "Both of these reading from and writing to a file requires us to provide a certain file access mode.\n",
    "\n",
    "| Character | Meaning |\n",
    "|:---|:---|\n",
    "| `r` | Open for reading. **(default)** |\n",
    "| `w` | Open for writing, overwriting all previous data in the file. Creates the file, if the file does not exists. |\n",
    "| `a` | Open for writing and appending data to the end of the file (if the file already exists). |\n",
    "| `x` | Open for exclusive creation meaning that if a file exists, a `FileExistsError` will be raised. Python 3.3 and above. |\n",
    "| `b` | Binary mode. |\n",
    "| `t` | Text mode. **(default)** Basically the file data is either in ASCII or UNICODE characters. |\n",
    "| `+` | Open for updating (reading and writing). |\n",
    "\n",
    "Once we have selected a mode, we either use the 3 step process or the context manager (2 steps) provided by Python to access the file. Every file have 2 invisible properties in it: the `EOF` (End of File) and the `newline` character with differs between operating systems.\n",
    "\n",
    "**Read file methods**\n",
    "* **`read()`** - this function reads and returns all the data from a file onto memory.\n",
    "* **`readline()`** - this function reads and returns 1 line at a time from a file.\n",
    "* **`readlines()`** - this function reads and returns all the data from a file in the format of list of lines. Each line is denoted by the terminating `newline` character at the end of each line.\n",
    "\n",
    "**Write file methods**\n",
    "* **`write()`** - this function writes the data contained within a single string variable to the file.\n",
    "* **`writelines()`** - this function writes a list of strings to the file.\n",
    "\n",
    "The most dangerous aspects of file reading and writing is file/data corruption and that can happen when the file lock (placed on the file by the operating system when it opened the file) is not released when errors happen during file access. \n",
    "\n",
    "Previously, Python doesn't flush the buffer (ie write data to the file) until the file is **explicitly closed**. But it does that automatically now when the reference object of a file is reassigned to another file. However, it is always good practice to **always close** a resource after you are done using it.\n",
    "\n",
    "Regardless of which method you use to access a file, the process has to be nested within a `try...except` block.\n",
    "\n",
    "**Example: 3 step process of file access (reading)**"
   ]
  },
  {
   "cell_type": "code",
   "execution_count": null,
   "metadata": {},
   "outputs": [],
   "source": [
    "import traceback\n",
    "\n",
    "try:\n",
    "    fo = open(change_dir.joinpath('foo.txt'), 'r')\n",
    "    data = fo.read()\n",
    "    print(data)\n",
    "except Exception:\n",
    "    traceback.print_exc()\n",
    "finally:\n",
    "    fo.close()"
   ]
  },
  {
   "cell_type": "markdown",
   "metadata": {},
   "source": [
    "**Example: 3 step process of file access (writing)**"
   ]
  },
  {
   "cell_type": "code",
   "execution_count": null,
   "metadata": {},
   "outputs": [],
   "source": [
    "import traceback\n",
    "\n",
    "lst = ['abc', 458, 'efg', 555]\n",
    "try:\n",
    "    fo = open(change_dir.joinpath('foo.txt'), 'w')\n",
    "    # This line is where MOST errors happens because the data has not be converted to a string\n",
    "    # without the 'try...except' block this will cause the most problems\n",
    "    for item in lst:\n",
    "        fo.write(str(item)+'\\n') \n",
    "except FileNotFoundError:\n",
    "    traceback.print_exc()\n",
    "finally:\n",
    "    fo.close()"
   ]
  },
  {
   "cell_type": "markdown",
   "metadata": {},
   "source": [
    "**Example: Context manager for file access (reading)**"
   ]
  },
  {
   "cell_type": "code",
   "execution_count": null,
   "metadata": {},
   "outputs": [],
   "source": [
    "import traceback\n",
    "\n",
    "with open(change_dir.joinpath('foo.txt'), 'r') as fo:\n",
    "    try:\n",
    "        data = fo.read()\n",
    "        print(data)\n",
    "    except Exception:\n",
    "        traceback.print_exc()"
   ]
  },
  {
   "cell_type": "markdown",
   "metadata": {},
   "source": [
    "**Example: Context manager for file access (writing)**"
   ]
  },
  {
   "cell_type": "code",
   "execution_count": null,
   "metadata": {},
   "outputs": [],
   "source": [
    "sentance = \"This is line number {}\\n\"\n",
    "\n",
    "with open(change_dir.joinpath('foo.txt'), 'w') as fo:\n",
    "    try:\n",
    "        # This line is where MOST errors happens because the data has not be converted to a string\n",
    "        # without the 'try...except' block this will cause the most problems\n",
    "        for i in range(6):\n",
    "            fo.write(str(sentance).format(i+1)) \n",
    "    except Exception:\n",
    "        traceback.print_exc()"
   ]
  },
  {
   "attachments": {
    "b2d9e1db-f8a1-4b3b-a028-de0d05b023b6.png": {
     "image/png": "[encoded data removed]"
    }
   },
   "cell_type": "markdown",
   "metadata": {},
   "source": [
    "The safest method is via the context manager because it saves us the step of remembering to close the file even in the event of an exception occurring.\n",
    "\n",
    "---\n",
    "## Exceptions\n",
    "\n",
    "The *art* of preventing a progam from catastrophic failures because of certain situations. We know that Python has a host of built-in exceptions and we have learnt how to create our own exceptions using OOP but what is the most important thing to take away from this chapter? **It is Exception Handling!!**\n",
    "\n",
    "Assertions are mostly used for sanity checks during development and removed before production unless the system being built is an automated testing system then for that, you will need to leave assertions everywhere.\n",
    "\n",
    "Exception handling can be seen as 2 parts:\n",
    "* catching it then processing it\n",
    "* raising it\n",
    "\n",
    "### Catching it then processing it\n",
    "This involves the `try...except` block of statements.\n",
    "\n",
    "![try_except_else_finally_s.png](attachment:b2d9e1db-f8a1-4b3b-a028-de0d05b023b6.png)\n",
    "\n",
    "Some developers don't use the `else` part of the `try...except` block of statements because there isn't such a clause in the other older programming languages (aka C/C++, Java, etc). \n",
    "\n",
    "**Example: With `else` part**"
   ]
  },
  {
   "cell_type": "code",
   "execution_count": null,
   "metadata": {},
   "outputs": [],
   "source": [
    "while True:\n",
    "    try:\n",
    "        result = 0\n",
    "        x = input(\"Enter First Number or q to quit: \")\n",
    "        \n",
    "        # check for quiting condition\n",
    "        if x.lower() == 'q':\n",
    "            break\n",
    "        \n",
    "        y = input(\"Enter Second Number: \")\n",
    "        \n",
    "        result = float(x)/float(y)\n",
    "    except ValueError:\n",
    "        print('Can\\'t convert to float')\n",
    "    except ZeroDivisionError:\n",
    "        print(\"Can't divide by 0\")\n",
    "    else:\n",
    "        print(f'Result of the division: {result}\\n')"
   ]
  },
  {
   "cell_type": "markdown",
   "metadata": {},
   "source": [
    "**Example: Without `else` part**"
   ]
  },
  {
   "cell_type": "code",
   "execution_count": null,
   "metadata": {},
   "outputs": [],
   "source": [
    "while True:\n",
    "    try:\n",
    "        result = 0\n",
    "        x = input(\"Enter First Number or q to quit: \")\n",
    "        \n",
    "        # check for quiting condition\n",
    "        if x.lower() == 'q':\n",
    "            break\n",
    "        \n",
    "        y = input(\"Enter Second Number: \")\n",
    "        \n",
    "        result = float(x)/float(y)\n",
    "    except ValueError:\n",
    "        print('Can\\'t convert to float')\n",
    "    except ZeroDivisionError:\n",
    "        print(\"Can't divide by 0\")\n",
    "    \n",
    "    print(f'Result of the division: {result}\\n')"
   ]
  },
  {
   "cell_type": "markdown",
   "metadata": {},
   "source": [
    "The `finally` clause is mainly used to excute code that we know **HAVE** to happen regardless of whether or not an exception is happened or not. This is mainly seen in codes use for **connecting** your program to an external resource such as a file, a server or a database. Because the connection needs to be closed to prevent file/data corruption or future connection failures when the previous connection isn't closed.\n",
    "\n",
    "**Example: Subscribing to an internal/public Mqtt server**"
   ]
  },
  {
   "cell_type": "code",
   "execution_count": null,
   "metadata": {},
   "outputs": [],
   "source": [
    "'''\n",
    "This function is part of a class that does testing of an internal MQTT server.\n",
    "'''\n",
    "def subscribe(self, topic, QoS):\n",
    "    # create function for callback\n",
    "    def on_subscribe(client, userdata, mid, granted_qos):  \n",
    "        print(\"in on subscribe callback result \" + str(mid))\n",
    "        if len(client.topic_ack) == 0:\n",
    "            # print(\"All subs acknowledged\")\n",
    "            return\n",
    "        for index, t in enumerate(client.topic_ack):\n",
    "            if t[1] == mid:\n",
    "                client.topic_ack.pop(index)  # remove it\n",
    "                # print(\"removed from list\")\n",
    "\n",
    "    self.client.on_subscribe = on_subscribe\n",
    "    mqtt.Client.topic_ack = []\n",
    "    mqtt.Client.running_loop = True\n",
    "\n",
    "    try:\n",
    "        self.client.connect(self.broker02, self.port02)  # connect to broker\n",
    "        self.client.loop_start()  # start the loop\n",
    "        \n",
    "        # this part is where the task begins --------------------------------------\n",
    "        result = self.subscribe_topics(self.client, topic, QoS)\n",
    "        time.sleep(0.5)\n",
    "\n",
    "        if not self.check_topics(self.client):\n",
    "            print(\"missing subscribe acknowledgements\")\n",
    "        # MQTT_ERR_SUCCESS, number 4 is a MQTT_ERR_NO_CONN\n",
    "        assert result[0] == 0\n",
    "        # -------------------------------------------------------------------------\n",
    "\n",
    "    except Exception as e:\n",
    "        print(\"\\nerror on subscribing \" + str(e))\n",
    "\n",
    "    finally:\n",
    "        # if we did not close the connection, it can stay up for however long the \n",
    "        # admistrator set the \"stay connected\" value as Mqtt uses a TCP connection\n",
    "        # also depends on how the client sets up its connection settings\n",
    "        self.client.loop_stop()  # stop the loop\n",
    "        self.client.disconnect()"
   ]
  },
  {
   "cell_type": "markdown",
   "metadata": {},
   "source": [
    "### Raising Exceptions\n",
    "\n",
    "Used when we want to force an \"error\" to happen because certain type of events has happened. \n",
    "\n",
    "Example could be that the program is waiting for an acknowledgement from the server. You can store the start time of when the connection has been established then check with the current time to find out how much time has elasped. After an x amount of time, force an exception to alert the program that something has gone wrong and further actions needs to be taken.\n",
    "\n",
    "**Example: Breaking a connection with the Mqtt server after 10 secs of no acknowledgement**"
   ]
  },
  {
   "cell_type": "code",
   "execution_count": null,
   "metadata": {},
   "outputs": [],
   "source": [
    "'''\n",
    "This function is part of a class that does testing of an internal MQTT server.\n",
    "'''\n",
    "def connect_disconnect(self, broker, port, expected):\n",
    "    \"\"\"\n",
    "    Connects to a broker using the given port then disconnecting after some time.\n",
    "    :param broker: The broker's location\n",
    "    :param port: The broker's port to connect to\n",
    "    :param expected: The expected result of the test case\n",
    "    :return: return_code - 0 (success), 1 (failure)\n",
    "    \"\"\"\n",
    "    def on_connect(client, userdata, flags, rc):\n",
    "        # print('connection result:' + str(rc))\n",
    "        mqtt.Client.connected_flag = True\n",
    "\n",
    "    mqtt.Client.connected_flag = False\n",
    "    self.client.on_connect = on_connect  # bind call back function\n",
    "\n",
    "    try:\n",
    "        self.start_time = time.time()\n",
    "        elapsed_time = 0\n",
    "        self.client.connect(broker, port)  # connect to broker\n",
    "        self.client.loop_start()\n",
    "        # A time out to make sure that it does wait for more than 10 seconds\n",
    "        while elapsed_time < 10:\n",
    "            if not self.client.connected_flag:  # wait in loop\n",
    "                if elapsed_time > 10:\n",
    "                    raise Exception(\"Time out! more than 10 seconds has passed\")\n",
    "                # need to wait for the broker to return the acknowledgement\n",
    "                # which is triggered by the callback\n",
    "                time.sleep(0.5)\n",
    "\n",
    "                elapsed_time = time.time() - self.start_time\n",
    "            else:\n",
    "                break\n",
    "\n",
    "        self.return_code = 0\n",
    "    except Exception as e:\n",
    "        self.logger.exception('error on connection: ' + type(e).__name__ + \" \" + str(e), exc_info=False)\n",
    "        self.error_msg = \"%s: %s\" % (type(e).__name__, str(e))\n",
    "        if expected == \"fail\":\n",
    "            self.return_code = 0\n",
    "        else:\n",
    "            self.return_code = 1\n",
    "    finally:\n",
    "        self.client.loop_stop()\n",
    "        self.client.disconnect()\n",
    "\n",
    "    return self.return_code"
   ]
  },
  {
   "cell_type": "markdown",
   "metadata": {},
   "source": [
    "### Exception propagation\n",
    "\n",
    "Raising exceptions and exception propagation goes hand in hand because it is not always necessary to process an exception when it happens.\n",
    "\n",
    "**Example: Processing an exception as it happens**"
   ]
  },
  {
   "cell_type": "code",
   "execution_count": 3,
   "metadata": {
    "ExecuteTime": {
     "end_time": "2020-12-17T02:49:01.820880Z",
     "start_time": "2020-12-17T02:49:01.807908Z"
    }
   },
   "outputs": [
    {
     "name": "stdout",
     "output_type": "stream",
     "text": [
      "Second number cannot be zero\n",
      "ValueError('Second number cannot be zero')\n"
     ]
    }
   ],
   "source": [
    "def divide(val1, val2):\n",
    "    try:\n",
    "        if val2 == 0:\n",
    "            raise ValueError(\"Second number cannot be zero\")\n",
    "            \n",
    "        return val1/val2\n",
    "    \n",
    "    # processing the exception immediately after it happens\n",
    "    except ValueError as e:\n",
    "        print(e)\n",
    "        print(repr(e))\n",
    "\n",
    "divide(5,0)"
   ]
  },
  {
   "cell_type": "markdown",
   "metadata": {},
   "source": [
    "We can always separate the processing from the function that raises the error because we may not want any program flow continuation from where the error has been raised. This can be thought of like passing on the problem to someone who has a higher authority because the person may not have the authorization levels to sort it out.\n",
    "\n",
    "**Example: Processing an exception in the caller function**"
   ]
  },
  {
   "cell_type": "code",
   "execution_count": 4,
   "metadata": {
    "ExecuteTime": {
     "end_time": "2020-12-17T02:49:25.080358Z",
     "start_time": "2020-12-17T02:49:22.343278Z"
    }
   },
   "outputs": [
    {
     "name": "stdout",
     "output_type": "stream",
     "text": [
      "Enter first number: 1\n",
      "Enter second number: 0\n",
      "ValueError('Second number cannot be zero')\n"
     ]
    }
   ],
   "source": [
    "def divide(val1, val2):\n",
    "    if val2 == 0:\n",
    "        raise ValueError(\"Second number cannot be zero\")\n",
    "\n",
    "    return val1/val2\n",
    "\n",
    "\n",
    "def run_cal():\n",
    "    # some routines to get user input or data from some where else\n",
    "    a = float(input('Enter first number: '))\n",
    "    b = float(input('Enter second number: '))\n",
    "    try:\n",
    "        print(divide(a,b))\n",
    "    except ValueError as e:\n",
    "        print(repr(e))\n",
    "\n",
    "run_cal()"
   ]
  },
  {
   "cell_type": "markdown",
   "metadata": {},
   "source": [
    "---\n",
    "## Classes & Objects\n",
    "\n",
    "Scope is a very important concept with Classes because it determines the visbility of the variables when the program is working with it. When applied to classes, we always prefer \"local\" variables to global variables because global variables can contribute to data breaches while the program is running.\n",
    "\n",
    "**What are the properties of Classes?**\n",
    "* they are used to group a bunch of related functions together.\n",
    "* they have a constructor defined by the `__init__()` function.\n",
    "* they have a set of attributes upon which the functions work on with/without other external inputs.\n",
    "* they are a template used to create objects of themselves.\n",
    "\n",
    "**How is scope related to Classes?**<br>\n",
    "The set of attributes (instance or class/static or local variables) determines how an object can be created differently despite being created from the same class.\n",
    "\n",
    "**How is objects related to Classes?**<br>\n",
    "From the book \"Object-Oriented Analysis and Design\" by G. Booch:\n",
    ">  An object is an entity that has state, behaviour, and identity. The structure and behavior of similar objects are defined in their common class. The terms instance and object are interchangeable.\n",
    "\n",
    "> The state of an object encompasses all of the (usually static) properties of the object plus the current (usually dynamic) values of each of these properties\n",
    "\n",
    "From the quotes, an object state & identity refers to the instance/static variables defined in the class then given different data to produce different objects and the behaviour is defined by the instance/class methods of the class. That is why instance variables and methods require the `self` keyword because they \"belong\" to the individual object.\n",
    "\n",
    "The confusing concepts is when things like class methods and static methods appear. \n",
    "* Class methods are generally used to create a instances of a class via external data or predefined constant data. It cannot modify object instance state but it can modify class variables via the `cls` argument.\n",
    "\n",
    "* Static methods are independent, stateless methods that help a class carry out some utility function. It cannot modify object state (instance variables) nor class state (class variables). That means that the input and output of static functions are totally unrelated to the class its in.\n",
    "\n",
    "**Example: Making Pizza**"
   ]
  },
  {
   "cell_type": "code",
   "execution_count": null,
   "metadata": {},
   "outputs": [],
   "source": [
    "import math\n",
    "\n",
    "class Pizza:\n",
    "    def __init__(self, radius, ingredients):\n",
    "        self.radius = radius\n",
    "        self.ingredients = ingredients\n",
    "\n",
    "    def __str__(self):\n",
    "        return f'Pizza({self.radius}, ' + \\\n",
    "                f'{self.ingredients})'\n",
    "\n",
    "    @classmethod\n",
    "    def margherita(cls):\n",
    "        return cls(4, ['mozzarella', 'tomatoes'])\n",
    "\n",
    "    @classmethod\n",
    "    def prosciutto(cls):\n",
    "        return cls(6, ['mozzarella', 'tomatoes', 'ham'])\n",
    "    \n",
    "    def area(self):\n",
    "        # using 'self' or classname to call static within a class is ok\n",
    "        # because the method is accessible to the instance internally \n",
    "        # but it differs when called from outside the class.\n",
    "        return self.circle_area(self.radius)\n",
    "\n",
    "    @staticmethod\n",
    "    def circle_area(r):\n",
    "        return r ** 2 * math.pi"
   ]
  },
  {
   "cell_type": "code",
   "execution_count": null,
   "metadata": {},
   "outputs": [],
   "source": [
    "p1 = Pizza.margherita()\n",
    "print(f\"An order of margherita {p1} has an area of {round(p1.area(), 2)} units squared\")\n",
    "\n",
    "print(f'\\nThe area of a 6 units radius circle is {round(Pizza.circle_area(6),2)}')"
   ]
  },
  {
   "cell_type": "markdown",
   "metadata": {},
   "source": [
    "---\n",
    "## OOP\n",
    "\n",
    "Ties together everything that we have learnt to implement real-world entities like inheritance, abstraction (information hiding), polymorphism, encapsulation in programming. The main aim of OOP is to bind together the data and the functions that operate on them so that no other part of the code can access this data except that function.\n",
    "\n",
    "4 Main Concepts:\n",
    "* **Encapsulation** - containing information in an object, exposing only selected information\n",
    "* **Inheritance** - child classes inherit some variables and behaviours from parent class\n",
    "* **Abstraction** - only exposing high level public methods for accessing an object\n",
    "* **Polymorphism** - many methods can do the same task\n",
    "\n",
    "### Encapsulation\n",
    "Encapsulation means containing all important information inside an object, and only exposing selected information to the outside world. Attributes and behaviors are defined by code inside the class template.\n",
    "\n",
    "Encapsulation requires defining some fields and/or methods as private and some as public.\n",
    "* **Private** - methods and attributes, accessible from other methods of the same class. Private attributes requires the implementation of public accessor methods.\n",
    "* **Public** - methods and attributes, accessible also from outside the class.\n",
    "\n",
    "**Example: Encapsulation**"
   ]
  },
  {
   "cell_type": "code",
   "execution_count": null,
   "metadata": {},
   "outputs": [],
   "source": [
    "class Employee:\n",
    " \n",
    "    def __init__(self, name, emp_id):\n",
    "        self.__name = name  # <- private variable\n",
    "        self.emp_id = emp_id  # <- public variable\n",
    "    \n",
    "    # Accessor methods\n",
    "    def get_name(self):\n",
    "        return self.__name\n",
    "    \n",
    "    def set_name(self, name):\n",
    "        self.__name = name"
   ]
  },
  {
   "cell_type": "markdown",
   "metadata": {},
   "source": [
    "Encapsulation **adds security**. Attributes and methods can be set to private, so they can’t be accessed outside the class. To get information about data in an object, public methods & properties are used to access or update data. This in turns protection against common mistakes that can happen accidentally during development.\n",
    "\n",
    "### Inheritance\n",
    "\n",
    "Inheritance allows classes to inherit features of other classes. Put another way, parent classes extend attributes and behaviors to child classes. **Inheritance supports reusability.** For example, with inheritance, programs can create a generic parent class and then create more specific child classes as needed.\n",
    "\n",
    "**Example: Inheritance**"
   ]
  },
  {
   "cell_type": "code",
   "execution_count": null,
   "metadata": {},
   "outputs": [],
   "source": [
    "# base class\n",
    "class Person():\n",
    "    def __init__(self, name, address, salary, age):\n",
    "        self.name = name\n",
    "        self.address = address\n",
    "        self.__salary = salary\n",
    "        self.age = age\n",
    "    \n",
    "    def calculate_CPF(self, rate):\n",
    "        return round((self.__salary * 12) * rate, 2)\n",
    "    \n",
    "    def get_salary(self):\n",
    "        return self.__salary\n",
    "    \n",
    "    def print_info(self):\n",
    "        print(f\"Name: {self.name}\")\n",
    "        print(f\"Age: {self.age}\")\n",
    "        print(f\"Address: {self.address}\")\n",
    "        print(f\"Salary per mth: {self.__salary}\")\n",
    "\n",
    "# child class\n",
    "class Employee(Person):\n",
    "    employee_cnt = 0\n",
    "    def __init__(self, name, address, salary, age, company):\n",
    "        # calling Parent method\n",
    "        super().__init__(name, address, salary, age)\n",
    "        self.company = company\n",
    "        Employee.employee_cnt += 1\n",
    "    \n",
    "    def __get_CPF_rate(self):\n",
    "        if self.age <= 55:\n",
    "            return 0.37\n",
    "        elif self.age > 55 and self.age <= 60:\n",
    "            return 0.23\n",
    "        elif self.age > 60 and self.age <= 65:\n",
    "            return 0.165\n",
    "        else:\n",
    "            return 0.125\n",
    "    \n",
    "    def calculate_employee_CPF(self):\n",
    "        return self.calculate_CPF(self.__get_CPF_rate())"
   ]
  },
  {
   "cell_type": "markdown",
   "metadata": {},
   "source": [
    "Just using the 2 classes above, we can create multiple `Employee` or `Person` objects. The table below shows the methods inherited from the parent class.\n",
    "\n",
    "| Object | Instantiated from Class | Parent Class | Available Methods |\n",
    "|:---|:---:|:---:|:---:|\n",
    "| John | Employee | Person | `calculate_CPF(), get_salary(), print_info(), calculate_employee_CPF(), __get_CPF_rate()` |\n",
    "| Mary | Employee | Person | `calculate_CPF(), get_salary(), print_info(), calculate_employee_CPF(), __get_CPF_rate()` |\n",
    "| Sally | Person | N.A. | `calculate_CPF(), get_salary(), print_info()` |\n",
    "\n",
    "#### The `super()` function\n",
    "With inheritance, we will always come across the `super()` method. This method allows the child class to access its **immediate parent's method** (basically 1 level up). Generally, the `super()` function is used to access the constructor of the immediate parent. Through the `super()` function, the child class is able to access the parent's private, protected and public methods but it's most often used to access the **private methods** because the protected and public methods have already been inherited and thus can be accessed using the `self` keyword. \n",
    "\n",
    "For **single type inheritance**, using the `super()` method or the `self` keyword to invoke parent methods produces the same results **BUT** for **multiple inheritance** it will produce different results (don't have to worry because it is out of the course scope).\n",
    "\n",
    "### Abstraction\n",
    "Abstraction means that the user interacts with only selected attributes and methods of an object. Abstraction uses simplified, high level tools, to access a complex object.\n",
    "\n",
    "* Using simple things to represent complexity\n",
    "* Hide complex details from user\n",
    "\n",
    "**What are the properties of abstract classes?**\n",
    "* must inherit the `ABC` class from the `abc` library\n",
    "* abstract methods have no implementation and uses the `@abstractmethod` decorator\n",
    "* cannot be instantiated\n",
    "* abstract classes can be broken down into 2 main types:\n",
    "   * **Abstract class** - can have a mix of implemented and empty methods. The child class has to implement the abstract methods.\n",
    "   * **Interface class** - no implementation for all methods in this class."
   ]
  },
  {
   "cell_type": "markdown",
   "metadata": {},
   "source": [
    "## Polymorphism\n",
    "Polymorphism means designing objects to share behaviors. Using inheritance, objects can override shared parent behaviors, with specific child behaviors. Polymorphism allows the same method to execute different behaviors in two ways: \n",
    "* **method overloading** - not supported in python. Use **default parameters** in the function definition to achieve similar results.\n",
    "* **method overriding** - the child class provides a different implementation of a function having the **same name and same number of arguments** as that of its parent class.\n",
    "\n",
    "Operator overloading is also heavily used to extend the operational meaning of predefined operators. This allows us to create custom classes with similar usability features compared built-in datatypes.\n",
    "\n",
    "Duck Typing where the object's methods and properties are used to determine suitability rather than the actual type of the object."
   ]
  }
 ],
 "metadata": {
  "kernelspec": {
   "display_name": "Python 3",
   "language": "python",
   "name": "python3"
  },
  "language_info": {
   "codemirror_mode": {
    "name": "ipython",
    "version": 3
   },
   "file_extension": ".py",
   "mimetype": "text/x-python",
   "name": "python",
   "nbconvert_exporter": "python",
   "pygments_lexer": "ipython3",
   "version": "3.7.7"
  }
 },
 "nbformat": 4,
 "nbformat_minor": 4
}
