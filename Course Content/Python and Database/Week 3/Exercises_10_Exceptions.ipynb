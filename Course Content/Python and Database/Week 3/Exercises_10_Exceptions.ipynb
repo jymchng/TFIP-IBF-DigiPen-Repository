{
 "cells": [
  {
   "cell_type": "markdown",
   "metadata": {},
   "source": [
    "# Exceptions Exercises\n",
    "\n",
    "## Write codes based on the questions\n",
    "---"
   ]
  },
  {
   "cell_type": "markdown",
   "metadata": {},
   "source": [
    "**Q1)** The following code is buggy because it terminates whenever the dictionary has no `Likes` element. Use the exact exception to prevent the abrupt program termination."
   ]
  },
  {
   "cell_type": "code",
   "execution_count": 2,
   "metadata": {
    "ExecuteTime": {
     "end_time": "2020-11-15T14:55:34.489989Z",
     "start_time": "2020-11-15T14:55:29.616038Z"
    }
   },
   "outputs": [
    {
     "name": "stdout",
     "output_type": "stream",
     "text": [
      "A KeyError is raised due to missing key in the dictionary.\n",
      "Update the value for this: 30\n",
      "Value updated!\n"
     ]
    },
    {
     "data": {
      "text/plain": [
       "[{'Photos': 3, 'Likes': 21, 'Comments': 2},\n",
       " {'Likes': 13, 'Comments': 2, 'Shares': 1},\n",
       " {'Photos': 5, 'Likes': 33, 'Comments': 8, 'Shares': 3},\n",
       " {'Comments': 4, 'Shares': 2, 'Likes': 30},\n",
       " {'Photos': 8, 'Comments': 1, 'Shares': 1},\n",
       " {'Photos': 3, 'Likes': 19, 'Comments': 3}]"
      ]
     },
     "execution_count": 2,
     "metadata": {},
     "output_type": "execute_result"
    }
   ],
   "source": [
    "blog_posts = [{'Photos': 3, 'Likes': 21, 'Comments': 2}, \n",
    "              {'Likes': 13, 'Comments': 2, 'Shares': 1}, \n",
    "              {'Photos': 5, 'Likes': 33, 'Comments': 8, 'Shares': 3}, \n",
    "              {'Comments': 4, 'Shares': 2}, \n",
    "              {'Photos': 8, 'Comments': 1, 'Shares': 1}, \n",
    "              {'Photos': 3, 'Likes': 19, 'Comments': 3}]\n",
    "\n",
    "total_likes = 0\n",
    "try:\n",
    "    for post in blog_posts:\n",
    "        total_likes = total_likes + post['Likes']\n",
    "except KeyError:\n",
    "    print(\"A KeyError is raised due to missing key in the dictionary.\")\n",
    "    value = int(input(\"Update the value for this: \"))\n",
    "    post['Likes']=value\n",
    "    print(\"Value updated!\")\n",
    "    pass\n",
    "\n",
    "blog_posts"
   ]
  },
  {
   "cell_type": "markdown",
   "metadata": {},
   "source": [
    "**Q2)** The following code is buggy because it terminates whenever the list comprehension hits a string object. Use the exact exception to prevent the abrupt program termination."
   ]
  },
  {
   "cell_type": "code",
   "execution_count": 3,
   "metadata": {
    "ExecuteTime": {
     "end_time": "2020-11-15T14:56:11.786206Z",
     "start_time": "2020-11-15T14:56:11.781157Z"
    }
   },
   "outputs": [
    {
     "name": "stdout",
     "output_type": "stream",
     "text": [
      "There is an error! Error message is =>  invalid literal for int() with base 10: 'abc'\n",
      "There is an error! Error message is =>  invalid literal for int() with base 10: 'cats'\n",
      "[100, 121, 49, None, None, 9, 25]\n"
     ]
    }
   ],
   "source": [
    "lst = ['10', '11', 7, 'abc', 'cats', 3, '5'] \n",
    "  \n",
    "def util_func(a):\n",
    "    try:\n",
    "        return int(a)*int(a)\n",
    "    except (TypeError, ValueError) as msg: # If want to catch several errors, need to put them in a bracket.\n",
    "        print(f\"There is an error! Error message is => \", msg)\n",
    "    return None\n",
    "\n",
    "# list comprehension \n",
    "new_lst = [util_func(x) for x in lst] \n",
    "  \n",
    "print(new_lst)"
   ]
  },
  {
   "cell_type": "markdown",
   "metadata": {},
   "source": [
    "**Q3)** The following code is in need of quite a few exception statements to make it more robust.\n",
    "\n",
    "Study the code and using the `traceback` messages, implement the checks for the exact exceptions."
   ]
  },
  {
   "cell_type": "code",
   "execution_count": null,
   "metadata": {},
   "outputs": [],
   "source": [
    "def example1():\n",
    "    for i in range( 3 ):\n",
    "        x = int( input( \"enter a number: \" ) )\n",
    "        y = int( input( \"enter another number: \" ) )\n",
    "        print( x, '/', y, '=', x/y )\n",
    "\n",
    "def example2( L ):\n",
    "    print( \"\\n\\nExample 2\" )\n",
    "    sum = 0\n",
    "    sumOfPairs = []\n",
    "    for i in range( len( L ) ):\n",
    "        sumOfPairs.append( L[i]+L[i+1] )\n",
    "\n",
    "    print( \"sumOfPairs = \", sumOfPairs )\n",
    "\n",
    "\n",
    "def printUpperFile( fileName ):\n",
    "    file = open( fileName, \"r\" )\n",
    "    for line in file:\n",
    "        print( line.upper() )\n",
    "    file.close()\n",
    "    \n",
    "def main():\n",
    "    example1()\n",
    "    L = [ 10, 3, 5, 6, 9, 3 ]\n",
    "    example2( L )\n",
    "    example2( [ 10, 3, 5, 6, \"NA\", 3 ] )\n",
    "    example3( [ 10, 3, 5, 6 ] )\n",
    "\n",
    "    printUpperFile( \"doesNotExistYest.txt\" )\n",
    "    printUpperFile( \"./Dessssktop/misspelled.txt\" )\n",
    "\n",
    "main()"
   ]
  },
  {
   "cell_type": "markdown",
   "metadata": {},
   "source": [
    "**Q4)** You are to write part of an interactive calculator where by users are able to enter a formula string in the format `<number> <operator> <number>` each part separated by a whitespace character. The function `calculate()`, in the calculator program is responsible for executing this formula but it can only execute 4 operations:\n",
    "* add - which uses the symbol `+`\n",
    "* subtract - which uses the symbol `-`\n",
    "* divide - which uses the symbol `/`\n",
    "* multiply - which uses the symbol `*`\n",
    "\n",
    "all other formulas will result in a `FormulaError` (a custom exception).\n",
    "\n",
    "The user input must also be checked that it follows the formula string format (stated earlier). Study the code and  implement the checks for the exact exceptions."
   ]
  },
  {
   "cell_type": "code",
   "execution_count": null,
   "metadata": {},
   "outputs": [],
   "source": [
    "def check_input(user_input):\n",
    "\n",
    "    input_list = user_input.split()\n",
    "    n1, op, n2 = input_list\n",
    "    \n",
    "    n1 = float(n1)\n",
    "    n2 = float(n2)\n",
    "\n",
    "    return n1, op, n2\n",
    "\n",
    "\n",
    "def calculate(n1, op, n2):\n",
    "\n",
    "    if op == '+':\n",
    "        return n1 + n2\n",
    "    if op == '-':\n",
    "        return n1 - n2\n",
    "    if op == '*':\n",
    "        return n1 * n2\n",
    "    if op == '/':\n",
    "        return n1 / n2\n",
    "\n",
    "\n",
    "while True:\n",
    "    user_input = input('Enter a formula: ')\n",
    "    if user_input == 'q':\n",
    "        break\n",
    "    n1, op, n2 = check_input(user_input)\n",
    "    result = calculate(n1, op, n2)\n",
    "    print(result)"
   ]
  }
 ],
 "metadata": {
  "kernelspec": {
   "display_name": "Python 3",
   "language": "python",
   "name": "python3"
  },
  "language_info": {
   "codemirror_mode": {
    "name": "ipython",
    "version": 3
   },
   "file_extension": ".py",
   "mimetype": "text/x-python",
   "name": "python",
   "nbconvert_exporter": "python",
   "pygments_lexer": "ipython3",
   "version": "3.7.7"
  }
 },
 "nbformat": 4,
 "nbformat_minor": 4
}
