{
 "cells": [
  {
   "cell_type": "markdown",
   "metadata": {},
   "source": [
    "# Recap"
   ]
  },
  {
   "cell_type": "markdown",
   "metadata": {},
   "source": [
    "## Exceptions & Functional Programming\n",
    "\n",
    "### Exceptions\n",
    "* **Built-in Exceptions** - This uses the exceptions library provided by Python.  \n",
    "* **Assertions** - This uses the `assert` statement to rise an Assertion Error.  "
   ]
  },
  {
   "cell_type": "code",
   "execution_count": null,
   "metadata": {},
   "outputs": [],
   "source": [
    "#Examples for Built-in Exceptions\n",
    "print(0/0)\n",
    "print(4/c)"
   ]
  },
  {
   "cell_type": "code",
   "execution_count": null,
   "metadata": {},
   "outputs": [],
   "source": [
    "#Example for Assertion\n",
    "def divide(num1, num2):\n",
    "    \"\"\"\n",
    "    Divides 2 floating point numbers\n",
    "    Inputs: \n",
    "            num1 - floating point number\n",
    "            num2 - floating point number\n",
    "    Returns:\n",
    "            a floating point number\n",
    "    \"\"\"\n",
    "    assert (num2 != 0), \"The second number cannot be zero!\"\n",
    "    return num1/num2\n",
    "\n",
    "print(divide(5,2))\n",
    "print(divide(2,0))"
   ]
  },
  {
   "cell_type": "markdown",
   "metadata": {},
   "source": [
    "### Exception Handling "
   ]
  },
  {
   "cell_type": "code",
   "execution_count": null,
   "metadata": {},
   "outputs": [],
   "source": [
    "try:  \n",
    "    #suspicious codes  \n",
    "except ExceptionI:  \n",
    "    #If there is ExceptionI, then execute this block. \n",
    "except ExceptionII:  \n",
    "    #If there is ExceptionII, then execute this block.  \n",
    "else:  \n",
    "    #If there is no exception then execute this block. \n",
    "finally:\n",
    "    #it will be executed always whether exception raised or not raised and whether exception handled or not handled."
   ]
  },
  {
   "cell_type": "code",
   "execution_count": null,
   "metadata": {},
   "outputs": [],
   "source": [
    "#Example\n",
    "try:\n",
    "    x=int(input(\"Enter First Number: \"))\n",
    "    y=int(input(\"Enter Second Number: \"))\n",
    "    print(x/y)\n",
    "except ZeroDivisionError :\n",
    "    print(\"Can't Divide with Zero\")\n",
    "except ValueError:\n",
    "    print(\"please provide int value only\")\n",
    "else:\n",
    "    print(\"No exception occur\")\n",
    "finally:\n",
    "    print(\"Execution Completed\")"
   ]
  },
  {
   "cell_type": "markdown",
   "metadata": {},
   "source": [
    "### Raising an Exception"
   ]
  },
  {
   "cell_type": "code",
   "execution_count": null,
   "metadata": {},
   "outputs": [],
   "source": [
    "instDict = {'Winds': ['Clarinet', 'Flute', 'Oboe']}\n",
    "instDict['Brass'] = ['Trombone', 'Trumpet', 'Tuba']\n",
    "instDict['Strings'] = ['Violin', 'Cello', 'Bass']\n",
    "try:\n",
    "    print (instDict['Brass'])\n",
    "    \n",
    "    if 'Percussion' not in instDict:\n",
    "        raise KeyError('No such keys')\n",
    "        \n",
    "except Exception as err:\n",
    "    print(err)"
   ]
  },
  {
   "cell_type": "markdown",
   "metadata": {},
   "source": [
    "# Scope"
   ]
  },
  {
   "cell_type": "markdown",
   "metadata": {},
   "source": [
    "Before we start on the paradigms and principles of OOP, we need to learn the concept of scope. Think of scope as a set of rules that defines the accessibility of the variables and methods within a program or a library or a package. The determination of the scope of a variable or method is determined by the placement of the variable or method within your code. "
   ]
  },
  {
   "cell_type": "markdown",
   "metadata": {},
   "source": [
    "<figure style=\"text-align: center\">\n",
    "<img src=\"../images/scope.png\" class=\"center\">\n",
    "<figcaption style=\"font-size:90%; font-weight: 550;\">\n",
    "Figure 1: Python's 4 layers of scope.\n",
    "</figcaption>\n",
    "</figure>"
   ]
  },
  {
   "cell_type": "markdown",
   "metadata": {},
   "source": [
    "**Local scope** can be thought of the code block or function that you defined with it's own set of variables. These variables are only visible within the code block or function. This holds true each time a function is called recursively as well. "
   ]
  },
  {
   "cell_type": "code",
   "execution_count": null,
   "metadata": {},
   "outputs": [],
   "source": [
    "# function\n",
    "def update_amount(amt)\n",
    "    local_to_func = amt * 5  # accessible everywhere within the function\n",
    "\n",
    "    if <some expression>:\n",
    "        local_to_if = \"abc\"  # not accessible outside the if\n",
    "    print(local_to_if)  # this line will cause an error"
   ]
  },
  {
   "cell_type": "markdown",
   "metadata": {},
   "source": [
    "**Enclosing scope** is special in the sense that it is only applicable for nested functions. As we did not learn about nested functions, we will not be covering this scope layer."
   ]
  },
  {
   "cell_type": "markdown",
   "metadata": {},
   "source": [
    "**Global scope** is the top most scope layer of a Python script, program or module. Any variables or methods defined in this scope layer is visible through out the program or module. To use global variables within functions, we need to use the `global` keyword to tell Python that the variable is referenced from outside the function."
   ]
  },
  {
   "cell_type": "code",
   "execution_count": null,
   "metadata": {},
   "outputs": [],
   "source": [
    "global_var = 500\n",
    "# function\n",
    "def update_amount(amt)\n",
    "\tglobal global_var\n",
    "\ttemp = amt * global_var  # accessible everywhere within the function"
   ]
  },
  {
   "cell_type": "markdown",
   "metadata": {},
   "source": [
    "**Built-in scope** is also another special Python scope that is used to define the scope of built-in modules or imported libraries of Python. The variables names and method names are accessible everywhere within your scripts once loaded. For instance, the built-in `print()` function that can be used without importing any libraries or being able to use the plotting functions of `matplotlib` in our scripts after importing the library."
   ]
  },
  {
   "cell_type": "markdown",
   "metadata": {},
   "source": [
    "# Classes & Objects"
   ]
  },
  {
   "cell_type": "markdown",
   "metadata": {},
   "source": [
    "**What is Class?**   \n",
    "- In Python every thing is an object. To create objects we required some Model or Plan or Blue print, which is nothing but class.  \n",
    "- We can write a class to represent properties (attributes) and actions (behaviour) of object.  \n",
    "- Properties can be represented by variables  \n",
    "- Actions can be represented by Methods.  \n",
    "- Hence class contains both variables and methods.  "
   ]
  },
  {
   "cell_type": "markdown",
   "metadata": {},
   "source": [
    "**How to Define a class?**"
   ]
  },
  {
   "cell_type": "markdown",
   "metadata": {},
   "source": [
    "We can define a class by using class keyword."
   ]
  },
  {
   "cell_type": "code",
   "execution_count": null,
   "metadata": {},
   "outputs": [],
   "source": [
    "#Syntax:\n",
    "class className:\n",
    "    ''' documenttation string '''\n",
    "# variables : instance variables,static variables and local variables\n",
    "# methods   : instance methods,static methods and class methods"
   ]
  },
  {
   "cell_type": "markdown",
   "metadata": {},
   "source": [
    "Documentation string represents description of the class. Within the class doc string is always\n",
    "optional. We can get doc string by using the following 2 ways.\n",
    "1. print(classname.__doc__)\n",
    "2. help(classname)"
   ]
  },
  {
   "cell_type": "code",
   "execution_count": null,
   "metadata": {},
   "outputs": [],
   "source": [
    "#Example:\n",
    "class Student:\n",
    "    '''This is student class with required data'''\n",
    "    \n",
    "print(Student.__doc__)\n",
    "help(Student)"
   ]
  },
  {
   "cell_type": "markdown",
   "metadata": {},
   "source": [
    "Within the Python class we can represent data by using variables. There are 3 types of variables are allowed.  \n",
    "1. Instance Variables (Object Level Variables)  \n",
    "2. Static Variables (Class Level Variables)  \n",
    "3. Local variables (Method Level Variables)  \n",
    "\n",
    "Within the Python class, we can represent operations by using methods. The following are various\n",
    "types of allowed methods\n",
    "1. Instance Methods\n",
    "2. Class Methods\n",
    "3. Static Methods"
   ]
  },
  {
   "cell_type": "code",
   "execution_count": null,
   "metadata": {},
   "outputs": [],
   "source": [
    "#Example for class:\n",
    "class Student:\n",
    "    '''''Developed Student class for python demo'''\n",
    "    def __init__(self): # Constructor\n",
    "        self.name='durga' # Instance variable\n",
    "        self.age=40 # Instance variable\n",
    "        self.marks=80 # Instance variable\n",
    "        \n",
    "    def talk(self):\n",
    "        print(\"Hello I am :\",self.name)\n",
    "        print(\"My Age is:\",self.age)\n",
    "        print(\"My Marks are:\",self.marks)"
   ]
  },
  {
   "cell_type": "markdown",
   "metadata": {},
   "source": [
    "#### Notes from HTTLACS\n",
    "\n",
    "```python\n",
    "class Point:\n",
    "    pass\n",
    "```\n",
    "\n",
    "1. By creating the Point class, we created a new type, also called Point. \n",
    "2. The members of this type are called **instances** of the type or objects.\n",
    "3. Creating a new instance is called **instantiation**. To instantiate a Point object, we call a function named Point:\n",
    "` blank = Point()`\n",
    "4. The variable `blank` is assigned a reference to a new Point object.\n",
    "5. A function like Point that creates new objects is called a **constructor**."
   ]
  },
  {
   "cell_type": "markdown",
   "metadata": {},
   "source": [
    "### What is Object:\n",
    "Pysical existence of a class is nothing but object. We can create any number of objects for a class.\n",
    "\n",
    "**Syntax to create object:**  \n",
    "referencevariable = classname()\n",
    "\n",
    "**Example:** s = Student()"
   ]
  },
  {
   "cell_type": "markdown",
   "metadata": {},
   "source": [
    "### What is Reference Variable:"
   ]
  },
  {
   "cell_type": "markdown",
   "metadata": {},
   "source": [
    "The variable which can be used to refer object is called reference variable.\n",
    "By using reference variable, we can access properties and methods of object."
   ]
  },
  {
   "cell_type": "markdown",
   "metadata": {},
   "source": [
    "#### Program: Write a Python program to create a Student class and Creates an object to it. Call the method talk() to display student details"
   ]
  },
  {
   "cell_type": "code",
   "execution_count": 3,
   "metadata": {
    "ExecuteTime": {
     "end_time": "2020-11-11T01:32:51.809831Z",
     "start_time": "2020-11-11T01:32:51.802849Z"
    }
   },
   "outputs": [
    {
     "name": "stdout",
     "output_type": "stream",
     "text": [
      "Hello My Name is: John\n",
      "My Rollno is: 101\n",
      "My Marks are: 80\n"
     ]
    }
   ],
   "source": [
    "class Student:\n",
    "    def __init__(self,name,rollno,marks):\n",
    "        self.name=name\n",
    "        self.rollno=rollno\n",
    "        self.marks=marks\n",
    "\n",
    "    def talk(self): # Instance method\n",
    "        print(\"Hello My Name is:\",self.name)\n",
    "        print(\"My Rollno is:\",self.rollno)\n",
    "        print(\"My Marks are:\",self.marks)\n",
    "        \n",
    "s1=Student(\"John\",101,80) # s1 is the reference variable, s1 = ClassName => name of the Class.\n",
    "s1.talk() # reference variable calling the method of the class."
   ]
  },
  {
   "cell_type": "markdown",
   "metadata": {},
   "source": [
    "### Self variable:\n",
    "self is the default variable which is always pointing to current object (like this keyword in java)\n",
    "By using self we can access instance variables and instance methods of object.\n",
    "\n",
    "**Note:**\n",
    "1. self should be first parameter inside constructor  \n",
    "def __init__(self):  \n",
    "\n",
    "2. self should be first parameter inside instance methods  \n",
    "def talk(self):"
   ]
  },
  {
   "cell_type": "markdown",
   "metadata": {},
   "source": [
    "### Constructor Concept: <br>\n",
    "☕ Constructor is a special method in python.  \n",
    "☕ The name of the constructor should be __init__(self)  \n",
    "☕ Constructor will be executed automatically at the time of object creation.  \n",
    "☕ The main purpose of constructor is to declare and initialize instance variables.  \n",
    "☕ Per object constructor will be executed only once.  \n",
    "☕ Constructor can take at least one argument(at least self)  \n",
    "☕ Constructor is optional and if we are not providing any constructor then python will provide\n",
    "default constructor.  "
   ]
  },
  {
   "cell_type": "code",
   "execution_count": 1,
   "metadata": {
    "ExecuteTime": {
     "end_time": "2020-11-11T01:31:37.732989Z",
     "start_time": "2020-11-11T01:31:37.723017Z"
    }
   },
   "outputs": [],
   "source": [
    "#Example:\n",
    "def __init__(self,name,rollno,marks):\n",
    "    self.name=name\n",
    "    self.rollno=rollno\n",
    "    self.marks=marks"
   ]
  },
  {
   "cell_type": "markdown",
   "metadata": {},
   "source": [
    "**Program to demonistrate constructor will execute only once per object:**"
   ]
  },
  {
   "cell_type": "code",
   "execution_count": 4,
   "metadata": {
    "ExecuteTime": {
     "end_time": "2020-11-11T01:36:30.237284Z",
     "start_time": "2020-11-11T01:36:30.233294Z"
    }
   },
   "outputs": [],
   "source": [
    "class Test:\n",
    "    def __init__(self):\n",
    "        print(\"Constructor exeuction...\")\n",
    "        \n",
    "    def m1(self):\n",
    "        print(\"Method execution...\")"
   ]
  },
  {
   "cell_type": "code",
   "execution_count": 5,
   "metadata": {
    "ExecuteTime": {
     "end_time": "2020-11-11T01:36:31.292501Z",
     "start_time": "2020-11-11T01:36:31.288472Z"
    }
   },
   "outputs": [
    {
     "name": "stdout",
     "output_type": "stream",
     "text": [
      "Constructor exeuction...\n",
      "Constructor exeuction...\n",
      "Constructor exeuction...\n",
      "Method execution...\n"
     ]
    }
   ],
   "source": [
    "t1=Test() # Constructor __init__() is called automatically.\n",
    "t2=Test()\n",
    "t3=Test()\n",
    "t1.m1()"
   ]
  },
  {
   "cell_type": "markdown",
   "metadata": {},
   "source": [
    "**Program: Write a Python program to create a Student class and Creates an object to it. Call the method display() to print the student details**"
   ]
  },
  {
   "cell_type": "code",
   "execution_count": 9,
   "metadata": {
    "ExecuteTime": {
     "end_time": "2020-11-11T01:40:35.742573Z",
     "start_time": "2020-11-11T01:40:35.731578Z"
    }
   },
   "outputs": [
    {
     "name": "stdout",
     "output_type": "stream",
     "text": [
      "Student name is:  John\n",
      "Student rollno is:  101\n",
      "Student marks is:  80\n"
     ]
    },
    {
     "ename": "TypeError",
     "evalue": "__init__() missing 3 required positional arguments: 'x', 'y', and 'z'",
     "output_type": "error",
     "traceback": [
      "\u001b[1;31m---------------------------------------------------------------------------\u001b[0m",
      "\u001b[1;31mTypeError\u001b[0m                                 Traceback (most recent call last)",
      "\u001b[1;32m<ipython-input-9-8434e714637c>\u001b[0m in \u001b[0;36m<module>\u001b[1;34m\u001b[0m\n\u001b[0;32m     19\u001b[0m \u001b[0ms1\u001b[0m\u001b[1;33m.\u001b[0m\u001b[0mdisplay\u001b[0m\u001b[1;33m(\u001b[0m\u001b[1;33m)\u001b[0m \u001b[1;31m# Call method display() of Student class wrt reference variable s1.\u001b[0m\u001b[1;33m\u001b[0m\u001b[1;33m\u001b[0m\u001b[0m\n\u001b[0;32m     20\u001b[0m \u001b[1;33m\u001b[0m\u001b[0m\n\u001b[1;32m---> 21\u001b[1;33m \u001b[0ms3\u001b[0m \u001b[1;33m=\u001b[0m \u001b[0mStudent\u001b[0m\u001b[1;33m(\u001b[0m\u001b[1;33m)\u001b[0m \u001b[1;31m# Calling of class immediately invokes the __init__() constructor method and it requires 3 positional\u001b[0m\u001b[1;33m\u001b[0m\u001b[1;33m\u001b[0m\u001b[0m\n\u001b[0m\u001b[0;32m     22\u001b[0m \u001b[1;31m# variables which are not provided => running into an error.\u001b[0m\u001b[1;33m\u001b[0m\u001b[1;33m\u001b[0m\u001b[1;33m\u001b[0m\u001b[0m\n",
      "\u001b[1;31mTypeError\u001b[0m: __init__() missing 3 required positional arguments: 'x', 'y', and 'z'"
     ]
    }
   ],
   "source": [
    "#Program:\n",
    "class Student:\n",
    "    ''''' This is student class with required data'''\n",
    "    def __init__(self,x,y,z):\n",
    "        self.name=x\n",
    "        self.rollno=y\n",
    "        self.marks=z\n",
    "        \n",
    "    def display(self):\n",
    "        print(\"Student name is: \", self.name)\n",
    "        print(\"Student rollno is: \", self.rollno)\n",
    "        print(\"Student marks is: \", self.marks)\n",
    "        \n",
    "        \n",
    "s1=Student(\"John\",101,80)\n",
    "\n",
    "s2=Student(\"Jero\",102,100)\n",
    "\n",
    "s1.display() # Call method display() of Student class wrt reference variable s1.\n",
    "\n",
    "s3 = Student() # Calling of class immediately invokes the __init__() constructor method and it requires 3 positional\n",
    "# variables which are not provided => running into an error."
   ]
  },
  {
   "cell_type": "markdown",
   "metadata": {},
   "source": [
    "### Differences between Methods and Constructors:\n"
   ]
  },
  {
   "attachments": {
    "Method_Vs_Constructor.JPG": {
     "image/jpeg": "[encoded data removed]"
    }
   },
   "cell_type": "markdown",
   "metadata": {},
   "source": [
    "![Method_Vs_Constructor.JPG](attachment:Method_Vs_Constructor.JPG)"
   ]
  },
  {
   "cell_type": "markdown",
   "metadata": {},
   "source": [
    "### Types of Variables:  \n",
    "Inside Python class 3 types of variables are allowed.  \n",
    "1. Instance Variables (Object Level Variables)  \n",
    "2. Static Variables (Class Level Variables)  \n",
    "3. Local variables (Method Level Variables)"
   ]
  },
  {
   "cell_type": "markdown",
   "metadata": {},
   "source": [
    "#### 1. Instance Variables:\n",
    "If the value of a variable is varied from object to object, then such type of variables are called\n",
    "instance variables.\n",
    "\n",
    "```python\n",
    "class Student:\n",
    "    '''''Developed Student class for python demo'''\n",
    "    def __init__(self): # Constructor\n",
    "        self.name='durga' # Instance variable\n",
    "        self.age=40 # Instance variable\n",
    "        self.marks=80 # Instance variable\n",
    "```\n",
    "\n",
    "For every object a separate copy of instance variables will be created. Where we can declare Instance variables:  \n",
    "\n",
    "1. Inside Constructor by using self variable \n",
    "```python\n",
    "class Student:\n",
    "    '''''Developed Student class for python demo'''\n",
    "    def __init__(self): # Constructor\n",
    "        self.name='durga' # Instance variable\n",
    "```\n",
    "2. Inside Instance Method by using self variable \n",
    "```python\n",
    "def talk(self, a): # Instance method\n",
    "        print(\"Hello My Name is:\",self.name) # self.name is the instance variable referenced by the instance method.\n",
    "        self.a = a # Declaration of a new instance variable inside the instance method.\n",
    "```\n",
    "3. Outside of the class by using object reference variable"
   ]
  },
  {
   "cell_type": "markdown",
   "metadata": {},
   "source": [
    "**1. Inside Constructor by using self variable:**  \n",
    "We can declare instance variables inside a constructor by using self keyword. Once we creates\n",
    "object, automatically these variables will be added to the object."
   ]
  },
  {
   "cell_type": "code",
   "execution_count": 10,
   "metadata": {
    "ExecuteTime": {
     "end_time": "2020-11-11T01:49:44.820771Z",
     "start_time": "2020-11-11T01:49:44.816783Z"
    }
   },
   "outputs": [],
   "source": [
    "#Example:\n",
    "class Employee:\n",
    "    def __init__(self):\n",
    "        self.a=10\n",
    "        self.b=20"
   ]
  },
  {
   "cell_type": "code",
   "execution_count": 11,
   "metadata": {
    "ExecuteTime": {
     "end_time": "2020-11-11T01:49:48.731311Z",
     "start_time": "2020-11-11T01:49:48.727320Z"
    }
   },
   "outputs": [
    {
     "name": "stdout",
     "output_type": "stream",
     "text": [
      "{'a': 10, 'b': 20}\n"
     ]
    }
   ],
   "source": [
    "e=Employee()\n",
    "print(e.__dict__)"
   ]
  },
  {
   "cell_type": "markdown",
   "metadata": {},
   "source": [
    "**2. Inside Instance Method by using self variable:**  \n",
    "We can also declare instance variables inside instance method by using self variable. If any\n",
    "instance variable declared inside instance method, that instance variable will be added once we\n",
    "call that method."
   ]
  },
  {
   "cell_type": "code",
   "execution_count": 12,
   "metadata": {
    "ExecuteTime": {
     "end_time": "2020-11-11T01:50:28.097005Z",
     "start_time": "2020-11-11T01:50:28.091023Z"
    }
   },
   "outputs": [
    {
     "name": "stdout",
     "output_type": "stream",
     "text": [
      "{'a': 10, 'b': 20, 'c': 30}\n"
     ]
    }
   ],
   "source": [
    "#Example:\n",
    "class Test:\n",
    "    def __init__(self):\n",
    "        self.a=10\n",
    "        self.b=20\n",
    "\n",
    "    def m1(self):\n",
    "        self.c=30            \n",
    "\n",
    "t=Test()\n",
    "t.m1()\n",
    "print(t.__dict__) # Total 3 instance variables are created, one created in method m1() and two are created in Constructor."
   ]
  },
  {
   "cell_type": "markdown",
   "metadata": {},
   "source": [
    "**3. Outside of the class by using object reference variable:**  \n",
    "We can also add instance variables outside of a class to a particular object."
   ]
  },
  {
   "cell_type": "code",
   "execution_count": 13,
   "metadata": {
    "ExecuteTime": {
     "end_time": "2020-11-11T01:51:03.644965Z",
     "start_time": "2020-11-11T01:51:03.637984Z"
    }
   },
   "outputs": [
    {
     "name": "stdout",
     "output_type": "stream",
     "text": [
      "{'a': 10, 'b': 20, 'c': 30, 'd': 40}\n"
     ]
    }
   ],
   "source": [
    "class Test:\n",
    "    def __init__(self):\n",
    "        self.a=10\n",
    "        self.b=20\n",
    "\n",
    "    def m1(self):\n",
    "        self.c=30\n",
    "\n",
    "t=Test()\n",
    "t.m1()\n",
    "t.d=40         # Instance variables outside of a class\n",
    "print(t.__dict__) # 4 instance variables are created, 2 in Constructor, 1 in m1() method and 1 outside the class definition."
   ]
  },
  {
   "cell_type": "markdown",
   "metadata": {},
   "source": [
    "#### How to access Instance variables:\n",
    "We can access instance variables with in the class by using self variable and outside of the class by using object reference."
   ]
  },
  {
   "cell_type": "code",
   "execution_count": null,
   "metadata": {},
   "outputs": [],
   "source": [
    "class Test:\n",
    "    def __init__(self):\n",
    "        self.a=10\n",
    "        self.b=20\n",
    "\n",
    "    def display(self):\n",
    "        print(self.a)\n",
    "        print(self.b)\n",
    "\n",
    "t=Test()\n",
    "t.display()\n",
    "print(t.a,t.b) # Object reference using '.', e.g. t.a to access instance variable 'a' of class 't'."
   ]
  },
  {
   "cell_type": "markdown",
   "metadata": {},
   "source": [
    "#### How to delete instance variable from the object:  \n",
    "1. Within a class we can delete instance variable as follows  \n",
    "`del self.variableName`  \n",
    "\n",
    "2. From outside of class we can delete instance variables as follows  \n",
    "`del objectreference.variableName`  "
   ]
  },
  {
   "cell_type": "code",
   "execution_count": 14,
   "metadata": {
    "ExecuteTime": {
     "end_time": "2020-11-11T01:54:53.739912Z",
     "start_time": "2020-11-11T01:54:53.731934Z"
    }
   },
   "outputs": [
    {
     "name": "stdout",
     "output_type": "stream",
     "text": [
      "{'a': 10, 'b': 20, 'c': 30, 'd': 40}\n",
      "{'a': 10, 'b': 20, 'c': 30}\n",
      "{'a': 10, 'b': 20}\n"
     ]
    }
   ],
   "source": [
    "#Example:\n",
    "class Test:\n",
    "    def __init__(self):\n",
    "        self.a=10\n",
    "        self.b=20\n",
    "        self.c=30\n",
    "        self.d=40\n",
    "\n",
    "    def m1(self):\n",
    "        del self.d # Deleting instance variable 'd' using Del.\n",
    "\n",
    "t=Test()\n",
    "print(t.__dict__)\n",
    "t.m1()\n",
    "print(t.__dict__)\n",
    "del t.c # Deleting instance variable outside of Class definition using del and by referencing to the object's instance\n",
    "# variable using '.'.\n",
    "print(t.__dict__)"
   ]
  },
  {
   "cell_type": "markdown",
   "metadata": {},
   "source": [
    "**Note:** The instance variables which are deleted from one object,will not be deleted from other\n",
    "objects."
   ]
  },
  {
   "cell_type": "code",
   "execution_count": 15,
   "metadata": {
    "ExecuteTime": {
     "end_time": "2020-11-11T01:56:08.379247Z",
     "start_time": "2020-11-11T01:56:08.373265Z"
    }
   },
   "outputs": [
    {
     "name": "stdout",
     "output_type": "stream",
     "text": [
      "{'b': 20, 'c': 30, 'd': 40}\n",
      "{'a': 10, 'b': 20, 'c': 30, 'd': 40}\n"
     ]
    }
   ],
   "source": [
    "class Test:\n",
    "    def __init__(self):\n",
    "        self.a=10\n",
    "        self.b=20\n",
    "        self.c=30\n",
    "        self.d=40\n",
    "\n",
    "\n",
    "t1=Test()\n",
    "t2=Test()\n",
    "del t1.a # Deleting instance variable 'a' from t1 DOES NOT delete it from t2.\n",
    "print(t1.__dict__) # Instance variable 'a' is gone.\n",
    "print(t2.__dict__) # Instance variable 'a' REMAINS."
   ]
  },
  {
   "cell_type": "markdown",
   "metadata": {},
   "source": [
    "**If we change the values of instance variables of one object then those changes won't be reflected to the remaining objects, because for every object we are separate copy of instance variables are available.**"
   ]
  },
  {
   "cell_type": "code",
   "execution_count": 16,
   "metadata": {
    "ExecuteTime": {
     "end_time": "2020-11-11T01:57:15.214462Z",
     "start_time": "2020-11-11T01:57:15.207480Z"
    }
   },
   "outputs": [
    {
     "name": "stdout",
     "output_type": "stream",
     "text": [
      "t1: 888 999\n",
      "t2: 10 20\n"
     ]
    }
   ],
   "source": [
    "#Example:\n",
    "class Test:\n",
    "    def __init__(self):\n",
    "        self.a=10\n",
    "        self.b=20\n",
    "\n",
    "t1=Test()\n",
    "t1.a=888 # Instance variable 'a' of t1 is changed to 888 BUT that of t2 is NOT CHANGED.\n",
    "t1.b=999 # Instance variable 'b' of t1 is changed to 888 BUT that of t2 is NOT CHANGED.\n",
    "t2=Test()\n",
    "print('t1:',t1.a,t1.b) # Instance variables 'a' and 'b' of t1 are changed.\n",
    "print('t2:',t2.a,t2.b) # Instance variables 'a' and 'b' of t2 are NOT changed."
   ]
  },
  {
   "cell_type": "markdown",
   "metadata": {},
   "source": [
    "#### 2. Static variables:  \n",
    "\n",
    "If the value of a variable is not varied from object to object, such type of variables we have to\n",
    "declare with in the class directly but outside of methods. Such type of variables are called Static variables.  \n",
    "\n",
    "For total class only one copy of static variable will be created and shared by all objects of that class.  \n",
    "\n",
    "We can access static variables either by class name or by object reference. But recommended to\n",
    "use class name."
   ]
  },
  {
   "cell_type": "markdown",
   "metadata": {},
   "source": [
    "#### Instance Variable vs Static Variable:  \n",
    "\n",
    "**Note:**  \n",
    "In the case of instance variables for every object a seperate copy will be created,but in the case of static variables for total class only one copy will be created and shared by every object of that class.\n",
    "\n",
    "```python\n",
    "<CLASS NAME><.><STATIC VARIABLE> = <VALUE TO BE CHANGED TO>\n",
    "```\n",
    "e.g.\n",
    "```python\n",
    "Test.x = 888\n",
    "```"
   ]
  },
  {
   "cell_type": "code",
   "execution_count": 17,
   "metadata": {
    "ExecuteTime": {
     "end_time": "2020-11-11T02:01:32.822214Z",
     "start_time": "2020-11-11T02:01:32.815175Z"
    }
   },
   "outputs": [
    {
     "name": "stdout",
     "output_type": "stream",
     "text": [
      "t1: 10 20\n",
      "t2: 10 20\n",
      "t1: 888 999\n",
      "t2: 888 20\n"
     ]
    }
   ],
   "source": [
    "class Test:\n",
    "    x=10 # THIS (VARIABLE 'X') IS THE STATIC VARIABLE.\n",
    "    def __init__(self):\n",
    "        self.y=20 # INSTANCE VARIABLE\n",
    "\n",
    "t1=Test() # t1 is an object Test\n",
    "t2=Test() # t2 is an object Test\n",
    "print('t1:',t1.x,t1.y)\n",
    "print('t2:',t2.x,t2.y)\n",
    "Test.x=888 # Changing the STATIC variable of Class Test! Use the CLASS NAME to change the STATIC VARIABLE.\n",
    "# e.g. Test.x = 888 <CLASS NAME><.><STATIC VARIABLE> = <VALUE TO BE CHANGED TO>\n",
    "t1.y=999\n",
    "print('t1:',t1.x,t1.y)\n",
    "print('t2:',t2.x,t2.y)"
   ]
  },
  {
   "cell_type": "markdown",
   "metadata": {},
   "source": [
    "#### Various places to declare static variables:  \n",
    "1. In general we can declare within the class directly but from outside of any method, without using <'CLASS NAME'> or any\n",
    "object reference.\n",
    "    \n",
    "```python\n",
    "class Test(self):\n",
    "    self.a = 10\n",
    "    \n",
    "    def m1(self):\n",
    "        pass\n",
    "```\n",
    "**USING CLASS NAME**\n",
    "2. Inside constructor (__init( )) by using class name\n",
    "3. Inside instance method by using class name\n",
    "4. Inside classmethod by using either class name or cls variable\n",
    "5. Inside static method by using class name"
   ]
  },
  {
   "cell_type": "code",
   "execution_count": 18,
   "metadata": {
    "ExecuteTime": {
     "end_time": "2020-11-11T02:06:18.169959Z",
     "start_time": "2020-11-11T02:06:18.161987Z"
    }
   },
   "outputs": [
    {
     "name": "stdout",
     "output_type": "stream",
     "text": [
      "{'__module__': '__main__', 'a': 10, '__init__': <function Test.__init__ at 0x00000193BBEBA5E8>, 'm1': <function Test.m1 at 0x00000193BBEBA0D8>, 'm2': <classmethod object at 0x00000193BCD90348>, 'm3': <staticmethod object at 0x00000193BCD90888>, '__dict__': <attribute '__dict__' of 'Test' objects>, '__weakref__': <attribute '__weakref__' of 'Test' objects>, '__doc__': None} \n",
      "\n",
      "{'__module__': '__main__', 'a': 10, '__init__': <function Test.__init__ at 0x00000193BBEBA5E8>, 'm1': <function Test.m1 at 0x00000193BBEBA0D8>, 'm2': <classmethod object at 0x00000193BCD90348>, 'm3': <staticmethod object at 0x00000193BCD90888>, '__dict__': <attribute '__dict__' of 'Test' objects>, '__weakref__': <attribute '__weakref__' of 'Test' objects>, '__doc__': None, 'b': 20} \n",
      "\n",
      "{'__module__': '__main__', 'a': 10, '__init__': <function Test.__init__ at 0x00000193BBEBA5E8>, 'm1': <function Test.m1 at 0x00000193BBEBA0D8>, 'm2': <classmethod object at 0x00000193BCD90348>, 'm3': <staticmethod object at 0x00000193BCD90888>, '__dict__': <attribute '__dict__' of 'Test' objects>, '__weakref__': <attribute '__weakref__' of 'Test' objects>, '__doc__': None, 'b': 20, 'c': 30} \n",
      "\n",
      "{'__module__': '__main__', 'a': 10, '__init__': <function Test.__init__ at 0x00000193BBEBA5E8>, 'm1': <function Test.m1 at 0x00000193BBEBA0D8>, 'm2': <classmethod object at 0x00000193BCD90348>, 'm3': <staticmethod object at 0x00000193BCD90888>, '__dict__': <attribute '__dict__' of 'Test' objects>, '__weakref__': <attribute '__weakref__' of 'Test' objects>, '__doc__': None, 'b': 20, 'c': 30, 'd1': 40, 'd2': 400} \n",
      "\n",
      "{'__module__': '__main__', 'a': 10, '__init__': <function Test.__init__ at 0x00000193BBEBA5E8>, 'm1': <function Test.m1 at 0x00000193BBEBA0D8>, 'm2': <classmethod object at 0x00000193BCD90348>, 'm3': <staticmethod object at 0x00000193BCD90888>, '__dict__': <attribute '__dict__' of 'Test' objects>, '__weakref__': <attribute '__weakref__' of 'Test' objects>, '__doc__': None, 'b': 20, 'c': 30, 'd1': 40, 'd2': 400, 'e': 50} \n",
      "\n",
      "{'__module__': '__main__', 'a': 10, '__init__': <function Test.__init__ at 0x00000193BBEBA5E8>, 'm1': <function Test.m1 at 0x00000193BBEBA0D8>, 'm2': <classmethod object at 0x00000193BCD90348>, 'm3': <staticmethod object at 0x00000193BCD90888>, '__dict__': <attribute '__dict__' of 'Test' objects>, '__weakref__': <attribute '__weakref__' of 'Test' objects>, '__doc__': None, 'b': 20, 'c': 30, 'd1': 40, 'd2': 400, 'e': 50, 'f': 60} \n",
      "\n"
     ]
    }
   ],
   "source": [
    "class Test:\n",
    "    a=10\n",
    "    def __init__(self):\n",
    "        Test.b=20\n",
    "\n",
    "    def m1(self):\n",
    "        Test.c=30\n",
    "        \n",
    "    @classmethod # USING DECORATOR TO DECLARE STATIC VARIABLE FOR >>> CLASS METHOD <<<.\n",
    "    def m2(cls): # USING EITHER CLASS NAME OR CLS VARIABLE.\n",
    "        cls.d1=40 # USING CLS VARIABLE TO DECLARE STATIC VARIABLE\n",
    "        Test.d2=400 # USING CLASS NAME TO DECLARE STATIC VARIABLE\n",
    "        \n",
    "    @staticmethod # USING DECORATOR TO DECLARE STATIC VARIABLE >>> STATIC METHOD <<<.\n",
    "    def m3():\n",
    "        Test.e=50 # USING CLASS NAME TO DECLARE STATIC VARIABLE\n",
    "        \n",
    "print(Test.__dict__,\"\\n\")\n",
    "t=Test()\n",
    "print(Test.__dict__,\"\\n\")\n",
    "t.m1()\n",
    "print(Test.__dict__,\"\\n\")\n",
    "Test.m2()\n",
    "print(Test.__dict__,\"\\n\")\n",
    "Test.m3()\n",
    "print(Test.__dict__,\"\\n\")\n",
    "Test.f=60\n",
    "print(Test.__dict__,\"\\n\")"
   ]
  },
  {
   "cell_type": "markdown",
   "metadata": {},
   "source": [
    "#### How to access static variables:\n",
    "1. inside constructor: by using either self or classname\n",
    "2. inside instance method: by using either self or classname\n",
    "3. inside class method: by using either cls variable or classname\n",
    "4. inside static method: by using classname\n",
    "5. From outside of class: by using either object reference or classnmae"
   ]
  },
  {
   "cell_type": "code",
   "execution_count": 20,
   "metadata": {
    "ExecuteTime": {
     "end_time": "2020-11-11T02:19:22.646662Z",
     "start_time": "2020-11-11T02:19:22.638658Z"
    }
   },
   "outputs": [
    {
     "name": "stdout",
     "output_type": "stream",
     "text": [
      "10\n",
      "10\n",
      "Test.a is  10\n",
      "t.a is  10\n",
      "10\n",
      "10\n",
      "10\n",
      "10\n",
      "10\n"
     ]
    }
   ],
   "source": [
    "class Test:\n",
    "    a=10\n",
    "    def __init__(self):\n",
    "        print(self.a)\n",
    "        print(Test.a)\n",
    "\n",
    "    def m1(self):\n",
    "        print(self.a)\n",
    "        print(Test.a)\n",
    "        \n",
    "    @classmethod\n",
    "    def m2(cls):\n",
    "        print(cls.a)\n",
    "        print(Test.a)\n",
    "        \n",
    "    @staticmethod\n",
    "    def m3():\n",
    "        print(Test.a)\n",
    "\n",
    "t=Test()\n",
    "print(\"Test.a is \",Test.a)\n",
    "print(\"t.a is \",t.a)\n",
    "t.m1()\n",
    "t.m2()\n",
    "t.m3()"
   ]
  },
  {
   "cell_type": "markdown",
   "metadata": {},
   "source": [
    "#### Where we can modify the value of static variable:  \n",
    "Anywhere either with in the class or outside of class we can modify by using classname. But inside class method, by using cls variable or using classname."
   ]
  },
  {
   "cell_type": "code",
   "execution_count": null,
   "metadata": {},
   "outputs": [],
   "source": [
    "#Example:\n",
    "class Test:\n",
    "    a=777\n",
    "    @classmethod\n",
    "    def m1(cls):\n",
    "        Test.a=888\n",
    "        cls.a=88\n",
    "    @staticmethod\n",
    "    def m2():\n",
    "        Test.a=999\n",
    "print(Test.a)\n",
    "Test.m1()\n",
    "print(Test.a)\n",
    "Test.m2()\n",
    "print(Test.a)"
   ]
  },
  {
   "cell_type": "markdown",
   "metadata": {},
   "source": [
    "#### If we change the value of static variable by using either self or object reference variable:\n",
    "\n",
    "# If we change the value of static variable by using either self or object reference variable, then the value of static variable won't be changed, just a new instance variable with that name will be added to that particular object."
   ]
  },
  {
   "cell_type": "code",
   "execution_count": 21,
   "metadata": {
    "ExecuteTime": {
     "end_time": "2020-11-11T02:35:56.009529Z",
     "start_time": "2020-11-11T02:35:56.003522Z"
    }
   },
   "outputs": [
    {
     "name": "stdout",
     "output_type": "stream",
     "text": [
      "10\n",
      "888\n"
     ]
    }
   ],
   "source": [
    "#Example 1:\n",
    "class Test:\n",
    "    a=10 # STATIC VARIABLE IS 10.\n",
    "    def m1(self):\n",
    "        self.a=888 # CREATION OF AN INSTANCE VARIABLE 'a' TAKING VALUE 888, IT DOES NOT CHANGE THE STATIC VARIABLE 'a'\n",
    "        # WHOSE VALUE IS 10.\n",
    "t1=Test()\n",
    "t1.m1()\n",
    "print(Test.a)\n",
    "print(t1.a) # INSTANCE VARIABLE 'a' is referred to FIRST before the static variable."
   ]
  },
  {
   "cell_type": "code",
   "execution_count": 22,
   "metadata": {
    "ExecuteTime": {
     "end_time": "2020-11-11T02:36:29.546790Z",
     "start_time": "2020-11-11T02:36:29.542802Z"
    }
   },
   "outputs": [
    {
     "name": "stdout",
     "output_type": "stream",
     "text": [
      "10\n",
      "10\n"
     ]
    }
   ],
   "source": [
    "# EXAMPLE 1.5\n",
    "t1=Test()\n",
    "# METHOD m1() IS NOT CALLED. m1() is NOT a constructor, it won't be called automatically when instantiate the object Test\n",
    "# and hence, instance variable 'a' is not referred to in priority to static variable 'a'\n",
    "print(Test.a)\n",
    "print(t1.a)"
   ]
  },
  {
   "cell_type": "code",
   "execution_count": 24,
   "metadata": {
    "ExecuteTime": {
     "end_time": "2020-11-11T02:49:02.224589Z",
     "start_time": "2020-11-11T02:49:02.215613Z"
    }
   },
   "outputs": [
    {
     "name": "stdout",
     "output_type": "stream",
     "text": [
      "t1: 10 20\n",
      "t2: 10 20\n",
      "t1: 888 999\n",
      "t2: 10 20\n"
     ]
    }
   ],
   "source": [
    "#Example2:\n",
    "class Test:\n",
    "    x=10\n",
    "    def __init__(self):\n",
    "        self.y=20\n",
    "\n",
    "t1=Test()\n",
    "t2=Test()\n",
    "print('t1:',t1.x,t1.y) # t1.x is referring to static variable 'x' and t1.y is referring to the instance variable 'y'.\n",
    "print('t2:',t2.x,t2.y) # t2.x is referring to static variable 'x' and t2.y is referring to the instance variable 'y'.\n",
    "t1.x=888 # Creating a new instance variable 'x' and assign value 888 for it, for object reference t1.\n",
    "t1.y=999 # Re-assigning the instance variable 'y' to 999 for object reference t1.\n",
    "print('t1:',t1.x,t1.y) # t1.x is referring to instance variable 'x' and t1.x is referring to instance variable 'y' of\n",
    "# object reference t1.\n",
    "print('t2:',t2.x,t2.y) # t2.x is referring to the static variable 'x' and t2.x is referring to instance varible 'y' of \n",
    "# object reference t2."
   ]
  },
  {
   "cell_type": "code",
   "execution_count": null,
   "metadata": {},
   "outputs": [],
   "source": [
    "#Example3:\n",
    "class Test:\n",
    "    a=10 # STATIC VARIABLE\n",
    "    def __init__(self):\n",
    "        self.b=20 # INSTANCE VARIABLE\n",
    "\n",
    "t1=Test() # Invokation of constructor => creation of instance variable 'b' for object reference t1.\n",
    "t2=Test()\n",
    "Test.a=888 # CHANGING THE STATIC VARIABLE 'a' for the Class Test\n",
    "t1.b=999 # CHANGING THE INSTANCE VARIABLE 'b' OF t1\n",
    "print(t1.a,t1.b) # t1.a is referring to static variable 'a' of object reference t1. t1.b is referring to instance variable\n",
    "# 'b' of object reference t1.\n",
    "print(t2.a,t2.b) # t2.a is referring to static"
   ]
  },
  {
   "cell_type": "code",
   "execution_count": null,
   "metadata": {},
   "outputs": [],
   "source": [
    "#Example4:\n",
    "class Test:\n",
    "    a=10\n",
    "    def __init__(self):\n",
    "        self.b=20\n",
    "    def m1(self):\n",
    "        self.a=888\n",
    "        self.b=999\n",
    "\n",
    "t1=Test()\n",
    "t2=Test()\n",
    "t1.m1()\n",
    "print(t1.a,t1.b) # INSTANCE VARIABLES 'a' and 'b' are 888 and 999 because m1() is invoked.\n",
    "print(t2.a,t2.b)"
   ]
  },
  {
   "cell_type": "code",
   "execution_count": 25,
   "metadata": {
    "ExecuteTime": {
     "end_time": "2020-11-11T03:03:05.578390Z",
     "start_time": "2020-11-11T03:03:05.571408Z"
    }
   },
   "outputs": [
    {
     "name": "stdout",
     "output_type": "stream",
     "text": [
      "10 20\n",
      "888 20\n",
      "888 20\n",
      "888 999\n"
     ]
    }
   ],
   "source": [
    "#Example5:\n",
    "class Test:\n",
    "    a=10\n",
    "    def __init__(self):\n",
    "        self.b=20\n",
    "    @classmethod\n",
    "    def m1(cls):\n",
    "        cls.a=888 # UPDATE THE STATIC VARIABLE 'a' to 888, so now static variable 'a' of Test is 888.\n",
    "        cls.b=999 # UPDATE THE STATIC VARIABLE 'b' to 999, so now static variable 'b' of Test is 999.\n",
    "\n",
    "t1=Test()\n",
    "t2=Test()\n",
    "print(t1.a,t1.b)\n",
    "t1.m1() # By invoking m1() method, static variables 'a' and 'b' are changed to 888, 999 respectively.\n",
    "print(t1.a,t1.b) # t1.a now referring to instance variable 'a' of object reference t1\n",
    "# because __init__ is invoked and it cannot find variable 'a' so it will take static variable 'a' from Test. \n",
    "# t1.b now referring to instance variable 'b' because __init__ is invoked and it can find instance variable 'b'.\n",
    "# Accessing by object reference, it will create a copy of static variables as instance variables.\n",
    "print(t2.a,t2.b) # t2.b is referring to instance variable in the constructor of Test.\n",
    "print(Test.a,Test.b)"
   ]
  },
  {
   "cell_type": "markdown",
   "metadata": {},
   "source": [
    "#### How to delete static variables of a class:  \n",
    "\n",
    "We can delete static variables from anywhere by using the following syntax  \n",
    "`del classname.variablename`  \n",
    "But inside classmethod we can also use cls variable  \n",
    "`del cls.variablename`  "
   ]
  },
  {
   "cell_type": "code",
   "execution_count": null,
   "metadata": {},
   "outputs": [],
   "source": [
    "#Example\n",
    "class Test:\n",
    "    a=10\n",
    "    @classmethod\n",
    "    def m1(cls):\n",
    "        del cls.a\n",
    "Test.m1()\n",
    "print(Test.__dict__)"
   ]
  },
  {
   "cell_type": "code",
   "execution_count": null,
   "metadata": {},
   "outputs": [],
   "source": [
    "#Example:\n",
    "class Test:\n",
    "    a=10\n",
    "    def __init__(self):\n",
    "        Test.b=20\n",
    "        del Test.a\n",
    "    def m1(self):\n",
    "        Test.c=30\n",
    "        del Test.b\n",
    "    @classmethod\n",
    "    def m2(cls):\n",
    "        cls.d=40\n",
    "        del Test.c\n",
    "    @staticmethod\n",
    "    def m3():\n",
    "        Test.e=50\n",
    "        del Test.d\n",
    "print(Test.__dict__)\n",
    "t=Test()\n",
    "print(Test.__dict__)\n",
    "t.m1()\n",
    "print(Test.__dict__)\n",
    "Test.m2()\n",
    "print(Test.__dict__)\n",
    "Test.m3()\n",
    "print(Test.__dict__)\n",
    "Test.f=60\n",
    "print(Test.__dict__)\n",
    "del Test.e\n",
    "print(Test.__dict__)"
   ]
  },
  {
   "cell_type": "markdown",
   "metadata": {},
   "source": [
    "****\n",
    "**Note:**  \n",
    "# By using object reference variable/self we can read static variables, but we cannot modify or delete. <br> If we are trying to modify, then a new instance variable will be added to that particular object.<br> t1.a = 70<br> If we are trying to delete then we will get error."
   ]
  },
  {
   "cell_type": "markdown",
   "metadata": {},
   "source": [
    "# We can modify or delete static variables **ONLY** by using classname or cls variable."
   ]
  },
  {
   "cell_type": "code",
   "execution_count": null,
   "metadata": {},
   "outputs": [],
   "source": [
    "#Example:\n",
    "class Test:\n",
    "    a=10\n",
    "\n",
    "t1=Test()\n",
    "del t1.a   #AttributeError: a"
   ]
  },
  {
   "cell_type": "markdown",
   "metadata": {},
   "source": [
    "**Program:** Write a Python program to create a Customer class awith the following requirements:\n",
    "1. Declare the statis variable : 'bankname'  \n",
    "2. Accepts `name` and `balance` and set the `name` and `balance` instance variable (constructor)\n",
    "    * The default value for `balance` is `0.0`  \n",
    "    \n",
    "3. it has the function `deposit()` that accept `deposit amount` and `return` the balance after deposit  \n",
    "4. it has the function `withdraw()` that accept `withdraw amount` and `return` the balance after withdraw  \n",
    "    * Check : If withdraw amount is greater than balance amount then print the massagge 'Insufficient fund' and exit the program otherwise return the balance amount after withdraw"
   ]
  },
  {
   "cell_type": "code",
   "execution_count": 31,
   "metadata": {
    "ExecuteTime": {
     "end_time": "2020-11-11T03:21:50.262407Z",
     "start_time": "2020-11-11T03:21:38.334315Z"
    }
   },
   "outputs": [
    {
     "name": "stdout",
     "output_type": "stream",
     "text": [
      "Welcome to ABC Bank\n",
      "Enter Your Name:HI\n",
      "d-Deposit \n",
      "w-Withdraw \n",
      "e-exit\n",
      "Choose your option:d\n",
      "Enter amount:1000\n",
      "Balance is:  1000.0\n",
      "d-Deposit \n",
      "w-Withdraw \n",
      "e-exit\n",
      "Choose your option:w\n",
      "Enter amount:3000\n",
      "Insufficient Fund.\n"
     ]
    },
    {
     "ename": "SystemExit",
     "evalue": "Thank you for banking with us.",
     "output_type": "error",
     "traceback": [
      "An exception has occurred, use %tb to see the full traceback.\n",
      "\u001b[1;31mSystemExit\u001b[0m\u001b[1;31m:\u001b[0m Thank you for banking with us.\n"
     ]
    }
   ],
   "source": [
    "import sys\n",
    "class Customer():\n",
    "    ''' Customer class with bank operations.. '''\n",
    "    bankname = 'ABC Bank'\n",
    "    \n",
    "    def __init__(self,name,balance=0.0):\n",
    "        self.name=name\n",
    "        self.balance=balance\n",
    "    \n",
    "    def deposit(self, amt): # Methods can return stuff is you want to assign it to a local variable in the program.\n",
    "        self.balance=self.balance+amt\n",
    "        print(\"Balance is: \", self.balance)\n",
    "    \n",
    "    def withdraw(self, amt):\n",
    "        if amt>self.balance:\n",
    "            print(\"Insufficient Fund.\")\n",
    "            sys.exit(\"Thank you for banking with us.\")\n",
    "        else:\n",
    "            self.blanace = self.balance - amt\n",
    "            print(\"Balance is: \", self.balance)\n",
    "    \n",
    "    \n",
    "    \n",
    "    \n",
    "    \n",
    "    \n",
    "    \n",
    "    \n",
    "    \n",
    "    \n",
    "    \n",
    "    \n",
    "    \n",
    "print('Welcome to',Customer.bankname)\n",
    "name=input('Enter Your Name:')\n",
    "c=Customer(name)\n",
    "while True:\n",
    "    print('d-Deposit \\nw-Withdraw \\ne-exit')\n",
    "    option=input('Choose your option:')\n",
    "    if option=='d' or option=='D':\n",
    "        amt=float(input('Enter amount:'))\n",
    "        c.deposit(amt)\n",
    "    elif option=='w' or option=='W':\n",
    "        amt=float(input('Enter amount:'))\n",
    "        c.withdraw(amt)\n",
    "    elif option=='e' or option=='E':\n",
    "        print('Thanks for Banking')\n",
    "        sys.exit()\n",
    "    else:\n",
    "        print('Invalid option..Plz choose valid option')"
   ]
  },
  {
   "cell_type": "markdown",
   "metadata": {},
   "source": [
    "#### 3. Local variables:\n",
    "\n",
    "Sometimes to meet temporary requirements of programmer, we can declare variables inside a method directly, such type of variables are called local variable or temporary variables.\n",
    "\n",
    "`Local variables` will be created at the time of method execution and destroyed once method\n",
    "completes.\n",
    "\n",
    "`Local variables` of a method cannot be accessed from outside of method."
   ]
  },
  {
   "cell_type": "code",
   "execution_count": 32,
   "metadata": {
    "ExecuteTime": {
     "end_time": "2020-11-11T03:25:07.272395Z",
     "start_time": "2020-11-11T03:25:07.267410Z"
    }
   },
   "outputs": [
    {
     "name": "stdout",
     "output_type": "stream",
     "text": [
      "1000\n",
      "2000\n"
     ]
    }
   ],
   "source": [
    "class Test:\n",
    "    def m1(self):\n",
    "        a=1000\n",
    "        print(a)\n",
    "\n",
    "    def m2(self):\n",
    "        b=2000\n",
    "        print(b)\n",
    "\n",
    "t=Test()\n",
    "t.m1()\n",
    "t.m2()"
   ]
  },
  {
   "cell_type": "code",
   "execution_count": 33,
   "metadata": {
    "ExecuteTime": {
     "end_time": "2020-11-11T03:25:10.221508Z",
     "start_time": "2020-11-11T03:25:10.209542Z"
    }
   },
   "outputs": [
    {
     "name": "stdout",
     "output_type": "stream",
     "text": [
      "1000\n"
     ]
    },
    {
     "ename": "NameError",
     "evalue": "name 'a' is not defined",
     "output_type": "error",
     "traceback": [
      "\u001b[1;31m---------------------------------------------------------------------------\u001b[0m",
      "\u001b[1;31mNameError\u001b[0m                                 Traceback (most recent call last)",
      "\u001b[1;32m<ipython-input-33-19d7ce5a9fd6>\u001b[0m in \u001b[0;36m<module>\u001b[1;34m\u001b[0m\n\u001b[0;32m     11\u001b[0m \u001b[0mt\u001b[0m\u001b[1;33m=\u001b[0m\u001b[0mTest\u001b[0m\u001b[1;33m(\u001b[0m\u001b[1;33m)\u001b[0m\u001b[1;33m\u001b[0m\u001b[1;33m\u001b[0m\u001b[0m\n\u001b[0;32m     12\u001b[0m \u001b[0mt\u001b[0m\u001b[1;33m.\u001b[0m\u001b[0mm1\u001b[0m\u001b[1;33m(\u001b[0m\u001b[1;33m)\u001b[0m\u001b[1;33m\u001b[0m\u001b[1;33m\u001b[0m\u001b[0m\n\u001b[1;32m---> 13\u001b[1;33m \u001b[0mt\u001b[0m\u001b[1;33m.\u001b[0m\u001b[0mm2\u001b[0m\u001b[1;33m(\u001b[0m\u001b[1;33m)\u001b[0m\u001b[1;33m\u001b[0m\u001b[1;33m\u001b[0m\u001b[0m\n\u001b[0m",
      "\u001b[1;32m<ipython-input-33-19d7ce5a9fd6>\u001b[0m in \u001b[0;36mm2\u001b[1;34m(self)\u001b[0m\n\u001b[0;32m      6\u001b[0m     \u001b[1;32mdef\u001b[0m \u001b[0mm2\u001b[0m\u001b[1;33m(\u001b[0m\u001b[0mself\u001b[0m\u001b[1;33m)\u001b[0m\u001b[1;33m:\u001b[0m\u001b[1;33m\u001b[0m\u001b[1;33m\u001b[0m\u001b[0m\n\u001b[0;32m      7\u001b[0m         \u001b[0mb\u001b[0m\u001b[1;33m=\u001b[0m\u001b[1;36m2000\u001b[0m\u001b[1;33m\u001b[0m\u001b[1;33m\u001b[0m\u001b[0m\n\u001b[1;32m----> 8\u001b[1;33m         \u001b[0mprint\u001b[0m\u001b[1;33m(\u001b[0m\u001b[0ma\u001b[0m\u001b[1;33m)\u001b[0m \u001b[1;31m#NameError: name 'a' is not defined\u001b[0m\u001b[1;33m\u001b[0m\u001b[1;33m\u001b[0m\u001b[0m\n\u001b[0m\u001b[0;32m      9\u001b[0m         \u001b[0mprint\u001b[0m\u001b[1;33m(\u001b[0m\u001b[0mb\u001b[0m\u001b[1;33m)\u001b[0m\u001b[1;33m\u001b[0m\u001b[1;33m\u001b[0m\u001b[0m\n\u001b[0;32m     10\u001b[0m \u001b[1;33m\u001b[0m\u001b[0m\n",
      "\u001b[1;31mNameError\u001b[0m: name 'a' is not defined"
     ]
    }
   ],
   "source": [
    "#Example 2:\n",
    "class Test:\n",
    "    def m1(self):\n",
    "        a=1000\n",
    "        print(a)\n",
    "    def m2(self):\n",
    "        b=2000\n",
    "        print(a) # NameError: name 'a' is not defined\n",
    "        print(b)\n",
    "\n",
    "t=Test()\n",
    "t.m1()\n",
    "t.m2()"
   ]
  },
  {
   "cell_type": "markdown",
   "metadata": {},
   "source": [
    "###  Types of Methods:  \n",
    "Inside Python class 3 types of methods are allowed  \n",
    "1. Instance Methods\n",
    "2. Class Methods\n",
    "3. Static Methods"
   ]
  },
  {
   "cell_type": "markdown",
   "metadata": {},
   "source": [
    "### 1. Instance Methods:  \n",
    "    \n",
    "Inside method implementation if we are using instance variables then such type of methods are\n",
    "called instance methods. Inside instance method declaration, we have to pass self variable.\n",
    "\n",
    "`def m1(self):`\n",
    "\n",
    "By using self variable inside method we can able to access instance variables.\n",
    "\n",
    "Within the class we can call instance method by using self variable and from outside of the class\n",
    "we can call by using object reference."
   ]
  },
  {
   "cell_type": "code",
   "execution_count": 34,
   "metadata": {
    "ExecuteTime": {
     "end_time": "2020-11-11T03:27:33.312808Z",
     "start_time": "2020-11-11T03:27:15.491482Z"
    }
   },
   "outputs": [
    {
     "name": "stdout",
     "output_type": "stream",
     "text": [
      "Enter number of students:3\n",
      "Enter Name:abc\n",
      "Enter Marks:34\n",
      "Hi abc\n",
      "Your Marks are: 34\n",
      "You are Failed\n",
      "\n",
      "Enter Name:dash\n",
      "Enter Marks:89\n",
      "Hi dash\n",
      "Your Marks are: 89\n",
      "You got First Grade\n",
      "\n",
      "Enter Name:q\n",
      "Enter Marks:\n"
     ]
    },
    {
     "ename": "ValueError",
     "evalue": "invalid literal for int() with base 10: ''",
     "output_type": "error",
     "traceback": [
      "\u001b[1;31m---------------------------------------------------------------------------\u001b[0m",
      "\u001b[1;31mValueError\u001b[0m                                Traceback (most recent call last)",
      "\u001b[1;32m<ipython-input-34-234261f606d7>\u001b[0m in \u001b[0;36m<module>\u001b[1;34m\u001b[0m\n\u001b[0;32m     21\u001b[0m \u001b[1;32mfor\u001b[0m \u001b[0mi\u001b[0m \u001b[1;32min\u001b[0m \u001b[0mrange\u001b[0m\u001b[1;33m(\u001b[0m\u001b[0mn\u001b[0m\u001b[1;33m)\u001b[0m\u001b[1;33m:\u001b[0m\u001b[1;33m\u001b[0m\u001b[1;33m\u001b[0m\u001b[0m\n\u001b[0;32m     22\u001b[0m     \u001b[0mname\u001b[0m\u001b[1;33m=\u001b[0m\u001b[0minput\u001b[0m\u001b[1;33m(\u001b[0m\u001b[1;34m'Enter Name:'\u001b[0m\u001b[1;33m)\u001b[0m\u001b[1;33m\u001b[0m\u001b[1;33m\u001b[0m\u001b[0m\n\u001b[1;32m---> 23\u001b[1;33m     \u001b[0mmarks\u001b[0m\u001b[1;33m=\u001b[0m\u001b[0mint\u001b[0m\u001b[1;33m(\u001b[0m\u001b[0minput\u001b[0m\u001b[1;33m(\u001b[0m\u001b[1;34m'Enter Marks:'\u001b[0m\u001b[1;33m)\u001b[0m\u001b[1;33m)\u001b[0m\u001b[1;33m\u001b[0m\u001b[1;33m\u001b[0m\u001b[0m\n\u001b[0m\u001b[0;32m     24\u001b[0m     \u001b[0ms\u001b[0m\u001b[1;33m=\u001b[0m \u001b[0mStudent\u001b[0m\u001b[1;33m(\u001b[0m\u001b[0mname\u001b[0m\u001b[1;33m,\u001b[0m\u001b[0mmarks\u001b[0m\u001b[1;33m)\u001b[0m\u001b[1;33m\u001b[0m\u001b[1;33m\u001b[0m\u001b[0m\n\u001b[0;32m     25\u001b[0m     \u001b[0ms\u001b[0m\u001b[1;33m.\u001b[0m\u001b[0mdisplay\u001b[0m\u001b[1;33m(\u001b[0m\u001b[1;33m)\u001b[0m\u001b[1;33m\u001b[0m\u001b[1;33m\u001b[0m\u001b[0m\n",
      "\u001b[1;31mValueError\u001b[0m: invalid literal for int() with base 10: ''"
     ]
    }
   ],
   "source": [
    "class Student:\n",
    "    def __init__(self,name,marks):\n",
    "        self.name=name\n",
    "        self.marks=marks\n",
    "    \n",
    "    def display(self): # Instance Method\n",
    "        print('Hi',self.name) # Access instance variable using self.<instance variable>.\n",
    "        print('Your Marks are:',self.marks)\n",
    "        \n",
    "    def grade(self):\n",
    "        if self.marks>=60:\n",
    "            print('You got First Grade')\n",
    "        elif self.marks>=50:\n",
    "            print('Yout got Second Grade')\n",
    "        elif self.marks>=35:\n",
    "            print('You got Third Grade')\n",
    "        else:\n",
    "            print('You are Failed')\n",
    "            \n",
    "n=int(input('Enter number of students:'))\n",
    "for i in range(n):\n",
    "    name=input('Enter Name:')\n",
    "    marks=int(input('Enter Marks:'))\n",
    "    s= Student(name,marks)\n",
    "    s.display()\n",
    "    s.grade()\n",
    "    print()"
   ]
  },
  {
   "cell_type": "markdown",
   "metadata": {},
   "source": [
    "## 2. Class Methods:  \n",
    "\n",
    "Inside method implementation if we are using only class variables (static variables), then such type of methods we should declare as class method.\n",
    "\n",
    "**INSIDE CLASS METHOD, YOU CANNOT ACCESS INSTANCE VARIABLE!**\n",
    "\n",
    "We can declare class method explicitly by using `@classmethod decorator`.  \n",
    "For class method we should provide `cls variable` at the time of declaration"
   ]
  },
  {
   "cell_type": "markdown",
   "metadata": {},
   "source": [
    "We can call classmethod by using `classname` or `object reference variable`."
   ]
  },
  {
   "cell_type": "code",
   "execution_count": null,
   "metadata": {},
   "outputs": [],
   "source": [
    "#Demo Program:\n",
    "class Animal:\n",
    "    legs=4\n",
    "\n",
    "    @classmethod # Decorator\n",
    "    def walk(cls,name):\n",
    "        print('{} walks with {} legs...'.format(name,cls.legs))\n",
    "        \n",
    "Animal.walk('Dog')\n",
    "Animal.walk('Cat')"
   ]
  },
  {
   "cell_type": "code",
   "execution_count": null,
   "metadata": {},
   "outputs": [],
   "source": [
    "#Program to track the number of objects created for a class:\n",
    "class Test:\n",
    "    count=0\n",
    "    def __init__(self):\n",
    "        Test.count =Test.count+1\n",
    "    \n",
    "    @classmethod\n",
    "    def noOfObjects(cls):\n",
    "        print('The number of objects created for test class:',cls.count)\n",
    "\n",
    "t1=Test()\n",
    "t2=Test()\n",
    "Test.noOfObjects()\n",
    "t3=Test()\n",
    "t4=Test()\n",
    "t5=Test()\n",
    "Test.noOfObjects()"
   ]
  },
  {
   "cell_type": "markdown",
   "metadata": {},
   "source": [
    "## 3. Static Methods:  \n",
    "\n",
    "In general, these methods are general utility methods. Inside these methods we won't use any instance or class variables. Here we won't provide self or cls arguments at the time of declaration. We can declare static method explicitly by using @staticmethod decorator. We can access static methods by using classname or object reference  "
   ]
  },
  {
   "cell_type": "code",
   "execution_count": null,
   "metadata": {},
   "outputs": [],
   "source": [
    "class DurgaMath:\n",
    "    @staticmethod\n",
    "    def add(x,y):\n",
    "        print('The Sum:',x+y)\n",
    "\n",
    "    @staticmethod\n",
    "    def product(x,y):\n",
    "        print('The Product:',x*y)\n",
    "\n",
    "    @staticmethod\n",
    "    def average(x,y):\n",
    "        print('The average:',(x+y)/2)\n",
    "\n",
    "DurgaMath.add(10,20)\n",
    "DurgaMath.product(10,20)\n",
    "DurgaMath.average(10,20)"
   ]
  },
  {
   "cell_type": "markdown",
   "metadata": {},
   "source": [
    "**Note:**  \n",
    "* In general we can use only instance and static methods. Inside static method we can access class level variables by using class name.  \n",
    "* Class methods are most rarely used methods in python."
   ]
  },
  {
   "cell_type": "markdown",
   "metadata": {},
   "source": [
    "## Static Methods VS Class Methods\n",
    "\n",
    "#### Notes from: https://www.geeksforgeeks.org/class-method-vs-static-method-python/\n",
    "\n",
    "##### How to declare each method\n",
    "\n",
    "* To define a class method in python, we use ```@classmethod``` decorator and to define a static method we use ```@staticmethod``` decorator.\n",
    "* The @classmethod decorator, is a builtin function decorator that is an expression that gets evaluated after your function is defined. The result of that evaluation shadows your function definition.\n",
    "\n",
    "##### Purpose of Each Method\n",
    "\n",
    "* Class method is used to create factory methods. Factory methods return class object (similar to a constructor) for different use cases.\n",
    "* Static method is used to create utility functions. Static methods have a limited use case because, like class methods or any other methods within a class, they cannot access the properties of the class itself. However, when you need a **utility function that doesn't access any properties of a class but makes sense that it belongs to the class, we use static functions.**\n",
    "\n",
    "##### Class Method\n",
    "\n",
    "* A class method receives the class as implicit first argument, just like an instance method receives the instance.\n",
    "* A class method is a method which is bound to the class and not the object of the class.\n",
    "* They have the access to the state of the class as it takes a class parameter that points to the class and not the object instance.\n",
    "* It can modify a class state that would apply across all the instances of the class. For example it can modify, a class (static) variable that will be applicable to all the instances.\n",
    "\n",
    "##### Static Method\n",
    "\n",
    "* **A static method does not receive an implicit first argument.** The object need not to be passed into the static method as a parameter.\n",
    "* Static methods can neither modify/access the object state nor class state. They are primarily a way to namespace (i.e. It is present in a class because it makes sense for the method to be present in class.) our methods.\n",
    "* A static method is also a method which is bound to the class and not the object of the class."
   ]
  },
  {
   "cell_type": "markdown",
   "metadata": {},
   "source": [
    "## Passing members of one class to another class:  \n",
    "We can access members of one class inside another class."
   ]
  },
  {
   "cell_type": "code",
   "execution_count": null,
   "metadata": {},
   "outputs": [],
   "source": [
    "class Employee:\n",
    "    def __init__(self,eno,ename,esal):\n",
    "        self.eno=eno\n",
    "        self.ename=ename\n",
    "        self.esal=esal\n",
    "        \n",
    "    def display(self):\n",
    "        print('Employee Number:',self.eno)\n",
    "        print('Employee Name:',self.ename)\n",
    "        print('Employee Salary:',self.esal)\n",
    "        \n",
    "class Test:\n",
    "    def modify(emp):\n",
    "        emp.esal=emp.esal+10000 # Instance variable of Class Employee is accessed through the instance method of another\n",
    "        # Class Test.\n",
    "        emp.display()\n",
    "\n",
    "e=Employee(100,'John',10000)\n",
    "Test.modify(e)"
   ]
  },
  {
   "cell_type": "markdown",
   "metadata": {},
   "source": [
    "**In the above application, Employee class members are available to Test class.**"
   ]
  },
  {
   "cell_type": "markdown",
   "metadata": {},
   "source": [
    "## Inner classes:  \n",
    "\n",
    "Sometimes we can declare a class inside another class,such type of classes are called `inner classes.`    \n",
    "Without existing one type of object if there is no chance of existing another type of object,then wevshould go for inner classes.  \n",
    "\n",
    "**Example 1:**  \n",
    "Without existing Car object there is no chance of existing Engine object. Hence Engine class should be part of Car class.  \n",
    "    class Car:  \n",
    "    .....  \n",
    "        class Engine:  \n",
    "            ......  \n",
    "\n",
    "**Example 2:**   \n",
    "Without existing university object there is no chance of existing Department object  \n",
    "nbsp    class University:  \n",
    "        .....  \n",
    "        class Department:  \n",
    "            ......  \n",
    "\n",
    "**Example 3:**   \n",
    "Without existing Human there is no chance of existin Head. Hence Head should be part of Human.  \n",
    "    class Human:  \n",
    "        class Head:  \n",
    "        \n",
    "`Note:` Without existing outer class object there is no chance of existing inner class object. Hence, inner class object is always associated with outer class object.  "
   ]
  },
  {
   "cell_type": "code",
   "execution_count": null,
   "metadata": {},
   "outputs": [],
   "source": [
    "#Demo Program-1:\n",
    "class Outer:\n",
    "    def __init__(self):\n",
    "        print(\"outer class object creation\")\n",
    "    class Inner:\n",
    "        def __init__(self):\n",
    "            print(\"inner class object creation\")\n",
    "        def m1(self):\n",
    "            print(\"inner class method\")\n",
    "\n",
    "o=Outer()\n",
    "i=o.Inner()\n",
    "i.m1()"
   ]
  },
  {
   "cell_type": "markdown",
   "metadata": {},
   "source": [
    "**Note: The following are various possible syntaxes for calling inner class method**  \n",
    "\n",
    "1.  \n",
    "o=Outer()  \n",
    "i=o.Inner()  \n",
    "i.m1()  \n",
    "\n",
    "2.  \n",
    "i=Outer().Inner()  \n",
    "i.m1()  \n",
    "\n",
    "3. Outer().Inner().m1()"
   ]
  },
  {
   "cell_type": "code",
   "execution_count": null,
   "metadata": {},
   "outputs": [],
   "source": [
    "#Demo Program-2:\n",
    "class Person:\n",
    "    def __init__(self):\n",
    "        self.name='John'\n",
    "        self.db=self.Dob()\n",
    "        \n",
    "    def display(self):\n",
    "        print('Name:',self.name)\n",
    "        \n",
    "    class Dob:\n",
    "        def __init__(self):\n",
    "            self.dd=10\n",
    "            self.mm=5\n",
    "            self.yy=1947\n",
    "            \n",
    "        def display(self):\n",
    "            print('Dob={}/{}/{}'.format(self.dd,self.mm,self.yy))\n",
    "p=Person()\n",
    "p.display()\n",
    "x=p.db\n",
    "x.display()"
   ]
  },
  {
   "cell_type": "code",
   "execution_count": null,
   "metadata": {},
   "outputs": [],
   "source": [
    "# Demo Program-3:\n",
    "# Inside a class we can declare any number of inner classes. THIS IS NOT INHERITANCE!\n",
    "class Human:\n",
    "    def __init__(self):\n",
    "        self.name = 'John'\n",
    "        self.head = self.Head()\n",
    "        self.ear = self.Ear()\n",
    "    def display(self):\n",
    "        print(\"Hello..\",self.name)\n",
    "\n",
    "    class Head:\n",
    "        def talk(self):\n",
    "            print('Talking...')\n",
    "            \n",
    "    class Ear:\n",
    "        def listen(self):\n",
    "            print('Listening...')\n",
    "\n",
    "h=Human() # h is an object reference\n",
    "h.display() # display() is an instance method\n",
    "h.head.talk() # head() is the Class and talk is the instance method of head()\n",
    "h.ear.listen()"
   ]
  },
  {
   "cell_type": "markdown",
   "metadata": {},
   "source": [
    "## Garbage Collection\n",
    "\n",
    "In old languages like C++, programmer is responsible for both creation and destruction of objects. Usually programmer taking very much care while creating object, but neglecting destruction of useless objects. Because of this neglectance, total memory can be filled with useless objects which creates memory problems and total application will be down with Out of memory error.  \n",
    "\n",
    "But in Python, We have some assistant which is always running in the background to destroy useless objects. Because this assistant the chance of failing Python program with memory problems is very less. This assistant is nothing but `Garbage Collector`.\n",
    "\n",
    "Hence the main objective of `Garbage Collector is to destroy useless objects`. If an object does not have any reference variable then that object eligible for `Garbage Collection`."
   ]
  },
  {
   "cell_type": "markdown",
   "metadata": {},
   "source": [
    "### How to enable and disable Garbage Collector in our program:\n",
    "By default Gargbage collector is enabled, but we can disable based on our requirement. In this\n",
    "context we can use the following functions of gc module."
   ]
  },
  {
   "cell_type": "markdown",
   "metadata": {},
   "source": [
    "**1. gc.isenabled()**  \n",
    "Returns True if GC enabled\n",
    "\n",
    "**2. gc.disable()**    \n",
    "To disable GC explicitly\n",
    "\n",
    "**3. gc.enable()**    \n",
    "To enable GC explicitly"
   ]
  },
  {
   "cell_type": "code",
   "execution_count": null,
   "metadata": {},
   "outputs": [],
   "source": [
    "#Example:\n",
    "import gc\n",
    "print(gc.isenabled())\n",
    "gc.disable()\n",
    "print(gc.isenabled())\n",
    "gc.enable()\n",
    "print(gc.isenabled())"
   ]
  },
  {
   "cell_type": "markdown",
   "metadata": {},
   "source": [
    "### Destructors:  \n",
    "\n",
    "Destructor is a special method and the name should be __del__  \n",
    "\n",
    "Just before destroying an object `Garbage Collector` always calls `destructor` to perform clean up\n",
    "activities (Resource deallocation activities like close database connection etc).  \n",
    "\n",
    "Once destructor execution completed then Garbage Collector automatically destroys that object.\n",
    "\n",
    "**Note:** The job of destructor is not to destroy object and it is just to perform clean up activities."
   ]
  },
  {
   "cell_type": "code",
   "execution_count": null,
   "metadata": {},
   "outputs": [],
   "source": [
    "#Example:  \n",
    "import time\n",
    "class Test:\n",
    "    def __init__(self):\n",
    "        print(\"Object Initialization...\")\n",
    "    def __del__(self):\n",
    "        print(\"Fulfilling Last Wish and performing clean up activities...\")\n",
    "\n",
    "t1=Test()\n",
    "del t1\n",
    "time.sleep(5)\n",
    "print(\"End of application\")"
   ]
  },
  {
   "cell_type": "markdown",
   "metadata": {},
   "source": [
    "**Note:**\n",
    "If the object does not contain any reference variable then only it is eligible fo GC. ie if the\n",
    "reference count is zero then only object eligible for GC"
   ]
  },
  {
   "cell_type": "code",
   "execution_count": null,
   "metadata": {},
   "outputs": [],
   "source": [
    "#Example, deletion is ONLY completed if all references to that instance is deleted, i.e. del t1 means t2 and t3 which t1 is\n",
    "# assigned to must be deleted as well.\n",
    "import time\n",
    "class Test:\n",
    "    def __init__(self):\n",
    "        print(\"Constructor Execution...\")\n",
    "    def __del__(self):\n",
    "        print(\"Destructor Execution...\")\n",
    "\n",
    "t1=Test()\n",
    "t2=t1\n",
    "t3=t2\n",
    "del t1\n",
    "time.sleep(5)\n",
    "print(\"object not yet destroyed after deleting t1\")\n",
    "del t2\n",
    "time.sleep(5)\n",
    "print(\"object not yet destroyed even after deleting t2\")\n",
    "print(\"I am trying to delete last reference variable...\")\n",
    "del t3"
   ]
  },
  {
   "cell_type": "code",
   "execution_count": 38,
   "metadata": {
    "ExecuteTime": {
     "end_time": "2020-11-11T03:57:31.901705Z",
     "start_time": "2020-11-11T03:57:26.896072Z"
    }
   },
   "outputs": [
    {
     "name": "stdout",
     "output_type": "stream",
     "text": [
      "Constructor Execution...\n",
      "Constructor Execution...\n",
      "Constructor Execution...\n",
      "Destructor Execution...\n",
      "Destructor Execution...\n",
      "Destructor Execution...\n",
      "End of application\n"
     ]
    }
   ],
   "source": [
    "#Example:\n",
    "import time\n",
    "\n",
    "\n",
    "class Test:\n",
    "    def __init__(self):\n",
    "        print(\"Constructor Execution...\")\n",
    "    def __del__(self):\n",
    "        print(\"Destructor Execution...\")\n",
    "\n",
    "list=[Test(),Test(),Test()]\n",
    "del list\n",
    "time.sleep(5)\n",
    "print(\"End of application\")"
   ]
  },
  {
   "cell_type": "markdown",
   "metadata": {},
   "source": [
    "### How to find the number of references of an object:\n",
    "sys module contains `getrefcount()` function for this purpose.\n",
    "`sys.getrefcount(objectreference)`"
   ]
  },
  {
   "cell_type": "code",
   "execution_count": 36,
   "metadata": {
    "ExecuteTime": {
     "end_time": "2020-11-11T03:56:10.020665Z",
     "start_time": "2020-11-11T03:56:10.016674Z"
    }
   },
   "outputs": [
    {
     "name": "stdout",
     "output_type": "stream",
     "text": [
      "5\n"
     ]
    }
   ],
   "source": [
    "#Example:\n",
    "import sys\n",
    "class Test:\n",
    "    pass\n",
    "\n",
    "t1=Test()\n",
    "t2=t1\n",
    "t3=t1\n",
    "t4=t1\n",
    "print(sys.getrefcount(t1))"
   ]
  },
  {
   "cell_type": "code",
   "execution_count": null,
   "metadata": {},
   "outputs": [],
   "source": []
  }
 ],
 "metadata": {
  "kernelspec": {
   "display_name": "Python 3",
   "language": "python",
   "name": "python3"
  },
  "language_info": {
   "codemirror_mode": {
    "name": "ipython",
    "version": 3
   },
   "file_extension": ".py",
   "mimetype": "text/x-python",
   "name": "python",
   "nbconvert_exporter": "python",
   "pygments_lexer": "ipython3",
   "version": "3.7.7"
  }
 },
 "nbformat": 4,
 "nbformat_minor": 2
}
