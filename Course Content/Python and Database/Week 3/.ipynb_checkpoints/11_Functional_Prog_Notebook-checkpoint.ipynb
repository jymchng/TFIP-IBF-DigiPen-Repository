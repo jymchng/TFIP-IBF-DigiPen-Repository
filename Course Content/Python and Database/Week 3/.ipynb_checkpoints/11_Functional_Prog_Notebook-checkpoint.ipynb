{
 "cells": [
  {
   "cell_type": "markdown",
   "metadata": {},
   "source": [
    "# Functional Programming\n",
    "---\n",
    "\n",
    "Is a type of programming pattern where we focus on \"what to solve\" rather than \"how to solve\".\n",
    "\n",
    "**Problem Statement:** \n",
    "How do we use Python functional programming functions to helps us achieve the following:\n",
    "* no loops\n",
    "* no side effects - no modification of any input/output arguments or global variables\n",
    "* deterministic output - same output for the same input  \n",
    "\n",
    "**Program 1**: Rounding a list of numbers to 2 decimal places"
   ]
  },
  {
   "cell_type": "code",
   "execution_count": null,
   "metadata": {},
   "outputs": [],
   "source": [
    "list_of_nums = [5.852185, 9.1555562, 71.159213, 215.15632523]\n",
    "rounded_nums = []\n",
    "\n",
    "for num in list_of_nums:\n",
    "    rounded_nums.append(round(num, 2))\n",
    "\n",
    "print(rounded_nums)"
   ]
  },
  {
   "cell_type": "markdown",
   "metadata": {},
   "source": [
    "**Program 2**: Summing all numbers in a list into a single value without using the `sum()` function"
   ]
  },
  {
   "cell_type": "code",
   "execution_count": null,
   "metadata": {},
   "outputs": [],
   "source": [
    "list_of_nums = [3, 4, 6, 9, 5, 12]\n",
    "total = 0\n",
    "\n",
    "for num in list_of_nums:\n",
    "    total += num\n",
    "\n",
    "print(total)"
   ]
  },
  {
   "attachments": {
    "map.png": {
     "image/png": "[encoded data removed]"
    }
   },
   "cell_type": "markdown",
   "metadata": {},
   "source": [
    "## Topics Covered\n",
    "\n",
    "* Map\n",
    "* Reduce\n",
    "* Filter (Bonus)\n",
    "---\n",
    "In this chapter, we will be learning the concept of functional programming and how is done with 2 of Python's functional programming functions called `map()` and `reduce()`. What is functional programming?\n",
    "\n",
    "> Functional programming is a programming paradigm (a style of building the structure and elements of computer programs) that treats computation as the evaluation of mathematical functions and avoids changing-state and mutable data. From Wikipedia\n",
    "\n",
    "It's characteristics are:\n",
    "* designed on the concept of mathematical functions that use conditional expressions and recursion to perform computation.\n",
    "* supports higher-order functions and lazy evaluation features.\n",
    " * higher-order functions are functions that can either take other functions as arguments or return them as results. For example in math the differential operator returns a derivative of *f*.\n",
    " * lazy evaluation means to delay the evaluation of an expression until its value is needed.\n",
    "* don’t support flow Controls like loop statements and conditional statements like `if...else`, `for`, `while`. They directly use the functions and functional calls.\n",
    "* supports object-oriented programming principles. We will learn this later.\n",
    "\n",
    "There are several concepts of functional programming, some we may have heard of and some we may not. We will go through them briefly.\n",
    "* **First-class and higher-order functions** - mentioned above.\n",
    "* **Pure functions** - functions are deterministic (returns the same result when given the same arguments) and observable side effects (eg: modifying a global object or a parameter passed by object reference).\n",
    "* **Recursion** - functions that call themselves repeatedly until it exhausts itself.\n",
    "* **Referential transparency** - variables once defined are not allowed to change their value throughout the execution of the program since functional programs do not have assignment statements within them.\n",
    "* **Immutability** - part of the pure functions property of functions being deterministic.\n",
    "\n",
    "<br>\n",
    "\n",
    "As mentioned earlier, we are going to look into 2 of Python's functional programming functions called `map()` and `reduce()`. These functions are classified as first-class functions as they accept a function as the first input argument before the iterable objects to work upon. Both of these functions have the general form \n",
    "\n",
    "**`function_name(function_to_apply, iterable_object)`**\n",
    "\n",
    "**Note** that iterable objects in this case does not only mean `Lists` or `Tuples`. It applies to any object that has the ability to return it's elements one object at a time.\n",
    "\n",
    "---\n",
    "\n",
    "## Map\n",
    "\n",
    "The `map()` function accepts a function & an iterable object and returns a new iterable object (a special map object). **Because the function is now an argument, the functions passed to the `map()` function do not require their ending brackets `()`.**\n",
    "\n",
    "**Syntax**\n",
    "\n",
    "```python\n",
    "map(func, iterables, ...)\n",
    "```\n",
    "\n",
    "The concept of `map()` is to \"transform\" the elements from the input iterable object using a function and returning the new transformed object. Refer to figure 1 below.\n",
    "\n",
    "| ![map.png](attachment:map.png) |\n",
    "|:---:|\n",
    "| **Figure 1:** Pictorial representation of the `map()` concept. |\n",
    "\n",
    "<br>\n",
    "\n",
    "Consider the following sceanario: We want to convert a list/tuple of strings to all uppercase letters. \n",
    "\n",
    "**Recall** that converting string to upper case letters uses the function `upper()` from the `String` class. Bear in mind that this function only converts a **single** string object to all uppercase letters.\n",
    "\n",
    "To do this conversion, we generally would use either loops or list comprehension.\n",
    "\n",
    "**Example 1: Using loops and list comprehension to convert strings to all uppercase letters.**"
   ]
  },
  {
   "cell_type": "code",
   "execution_count": 2,
   "metadata": {
    "ExecuteTime": {
     "end_time": "2020-11-10T03:02:42.306144Z",
     "start_time": "2020-11-10T03:02:42.302153Z"
    }
   },
   "outputs": [],
   "source": [
    "list_of_names = ('john', 'peter', 'william', 'ben')\n",
    "uppered_names = []"
   ]
  },
  {
   "cell_type": "code",
   "execution_count": 3,
   "metadata": {
    "ExecuteTime": {
     "end_time": "2020-11-10T03:02:42.956402Z",
     "start_time": "2020-11-10T03:02:42.949421Z"
    }
   },
   "outputs": [
    {
     "name": "stdout",
     "output_type": "stream",
     "text": [
      "['JOHN', 'PETER', 'WILLIAM', 'BEN']\n"
     ]
    }
   ],
   "source": [
    "# using for loops\n",
    "for name in list_of_names:\n",
    "    # change the string to uppercase\n",
    "    name_ = name.upper()\n",
    "    # add the result to the list\n",
    "    uppered_names.append(name_)\n",
    "\n",
    "print(uppered_names)"
   ]
  },
  {
   "cell_type": "code",
   "execution_count": 4,
   "metadata": {
    "ExecuteTime": {
     "end_time": "2020-11-10T03:02:43.932793Z",
     "start_time": "2020-11-10T03:02:43.927804Z"
    }
   },
   "outputs": [
    {
     "name": "stdout",
     "output_type": "stream",
     "text": [
      "['JOHN', 'PETER', 'WILLIAM', 'BEN']\n"
     ]
    }
   ],
   "source": [
    "# using list comprehension\n",
    "uppered_names = [name.upper() for name in list_of_names]\n",
    "print(uppered_names)"
   ]
  },
  {
   "cell_type": "markdown",
   "metadata": {},
   "source": [
    "**Example 2: Using `map()` to produce the same results.**"
   ]
  },
  {
   "cell_type": "code",
   "execution_count": null,
   "metadata": {},
   "outputs": [],
   "source": [
    "# storing the map output\n",
    "uppered_names = map(str.upper, list_of_names)\n",
    "\n",
    "# check the datatype of the object returned by map\n",
    "print(type(uppered_names))\n",
    "\n",
    "# why datatype casting is required \n",
    "print(list(uppered_names))"
   ]
  },
  {
   "cell_type": "markdown",
   "metadata": {},
   "source": [
    "In example 2, we used a `upper()` function that works on a single input but what happens if a function has 2 or more inputs or the function is a custom function? That's the reason for the `...` (ellipsis) in the function syntax. It means that every additional iterable argument passed, must match the number of arguments that the function takes.\n",
    "\n",
    "For example, the `round()` function accepts 2 input arguments: a *number* and a *digit* that denotes the precision. Therefore in order to use the `map()` function, we will need to have 2 iterable objects. One for the list of numbers and the other for precision.\n",
    "\n",
    "**Example 3: Using the `round()` function with `map()`.**"
   ]
  },
  {
   "cell_type": "code",
   "execution_count": 5,
   "metadata": {
    "ExecuteTime": {
     "end_time": "2020-11-10T03:04:20.934359Z",
     "start_time": "2020-11-10T03:04:20.928378Z"
    }
   },
   "outputs": [
    {
     "name": "stdout",
     "output_type": "stream",
     "text": [
      "[5.85, 9.16, 71.16, 215.16]\n"
     ]
    }
   ],
   "source": [
    "# list of numbers to round up to 2 decimal places\n",
    "nums = [5.852185, 9.1555562, 71.159213, 215.15632523]\n",
    "# creating a uniform list of decimal places w.r.t the length of numbers\n",
    "dec_places = [2] * len(nums) # Repeat the list [2] by the len(nums) (= 4 in this case) times, output is [2,2,2,2]\n",
    "\n",
    "# map of rounded numbers\n",
    "rounded_nums = map(round, nums, dec_places)\n",
    "\n",
    "print(list(rounded_nums)) # Cast it into list first."
   ]
  },
  {
   "cell_type": "markdown",
   "metadata": {},
   "source": [
    "Notice how the list with the precision digits have to be of the same length as the list of numbers? What would happen if it was different?\n",
    "\n",
    "**Example 4: Mismatched iterables.**"
   ]
  },
  {
   "cell_type": "code",
   "execution_count": 6,
   "metadata": {
    "ExecuteTime": {
     "end_time": "2020-11-10T03:05:57.884131Z",
     "start_time": "2020-11-10T03:05:57.879143Z"
    }
   },
   "outputs": [
    {
     "name": "stdout",
     "output_type": "stream",
     "text": [
      "[5.85, 9.16]\n"
     ]
    }
   ],
   "source": [
    "# list of precision digits is no longer uniform\n",
    "dec_places = [2,2]\n",
    "\n",
    "# map of rounded numbers\n",
    "rounded_nums = map(round, nums, dec_places)\n",
    "\n",
    "print(list(rounded_nums))"
   ]
  },
  {
   "cell_type": "markdown",
   "metadata": {},
   "source": [
    "How do we use custom functions with `map()`? Let's say that we would like to increase all the numbers in a list by 5. Without `map()`, we would use a loop but with `map()`, functions are created with the **logic of a single iteration**.\n",
    "\n",
    "**Example 5: Using custom functions with `map()`**"
   ]
  },
  {
   "cell_type": "code",
   "execution_count": null,
   "metadata": {},
   "outputs": [],
   "source": [
    "def increase_by(num, inc_by):\n",
    "    return num + inc_by\n",
    "\n",
    "nums = [150,184,28,300,74]\n",
    "inc_lst = [5] * len(nums)\n",
    "\n",
    "result = map(increase_by, nums, inc_lst)\n",
    "\n",
    "print(list(result))"
   ]
  },
  {
   "cell_type": "markdown",
   "metadata": {},
   "source": [
    "**Example 6: Using `lambda` functions with `map()`**"
   ]
  },
  {
   "cell_type": "code",
   "execution_count": 8,
   "metadata": {
    "ExecuteTime": {
     "end_time": "2020-11-10T03:07:00.637372Z",
     "start_time": "2020-11-10T03:07:00.626408Z"
    }
   },
   "outputs": [
    {
     "data": {
      "text/plain": [
       "[1, 4, 9, 16, 25]"
      ]
     },
     "execution_count": 8,
     "metadata": {},
     "output_type": "execute_result"
    }
   ],
   "source": [
    "items = [1, 2, 3, 4, 5]\n",
    "squared = list(map(lambda x: x**2, items))\n",
    "squared"
   ]
  },
  {
   "cell_type": "markdown",
   "metadata": {},
   "source": [
    "### Exercise\n",
    "\n",
    "What is the function that the `map()` function can used to solve the following questions?\n",
    "\n",
    "1. Adding of the elements from 2 lists? Only `lambda` functions are allowed.<br>\n",
    " **Answer:** map(lambda x,y:x+y,list1,list2)\n",
    "\n",
    "2. Created a list of strings that have been transformed to `list` objects individually.<br>\n",
    " **Answer:** list(map(list,1))"
   ]
  },
  {
   "cell_type": "code",
   "execution_count": null,
   "metadata": {},
   "outputs": [],
   "source": [
    "num1 = [1,2,3]\n",
    "num2 = [4,5,6]\n",
    "\n",
    "result = map(lambda x,y:x+y,num1,num2)\n",
    "print(list(result))"
   ]
  },
  {
   "cell_type": "code",
   "execution_count": 9,
   "metadata": {
    "ExecuteTime": {
     "end_time": "2020-11-10T03:12:30.654606Z",
     "start_time": "2020-11-10T03:12:30.650617Z"
    }
   },
   "outputs": [
    {
     "name": "stdout",
     "output_type": "stream",
     "text": [
      "[['s', 't', 'u', 'd', 'y'], ['b', 'u', 'r', 'b', 'e', 'r', 'r', 'y']]\n"
     ]
    }
   ],
   "source": [
    "l = ['study','burberry']\n",
    "\n",
    "result = list(map(list,l))\n",
    "print(result)"
   ]
  },
  {
   "attachments": {
    "reduceSteps.png": {
     "image/png": "[encoded data removed]"
    }
   },
   "cell_type": "markdown",
   "metadata": {},
   "source": [
    "---\n",
    "## Reduce\n",
    "\n",
    "As the name imples, the `reduce()` function reduces an iterable object to a single cumulative value. The technique comes from the mathematical technique called **folding**. \n",
    "\n",
    "**Note** that the `reduce()` function is from the library `functools` therefore remember to import the `functools` library before using the `reduce()` function.\n",
    "\n",
    "**Syntax**\n",
    "```python\n",
    "reduce(func, iterable[, initial])\n",
    "```\n",
    "\n",
    "The breakdown of the syntax is as follows:\n",
    "* `func` is a function that requires 2 input parameters.\n",
    "* `iterable` is any iterable object\n",
    "* `initial` is an optional argument that is placed before all elements of the iterable object used in the calculation. It also serves as a default value when the `iterable` is empty.\n",
    "\n",
    "\n",
    "Internally, the `reduce()` function performs the following steps:\n",
    "1. **Apply** the function to the first 2 element of the iterable then generate a partial result.\n",
    "2. **Use** this partial result together with the 3rd element of the iterable to generate another partial result.\n",
    "3. **Repeat** the process until the last element of the iterable then return the single cumulative value.\n",
    "\n",
    "Explaining this pictorially, let's say that we have the following `list` variable `lst` below and it needs to be reduced to a single output `26`.\n",
    "```python\n",
    "# input\n",
    "lst = [2,8,9,3,4]\n",
    "\n",
    "# output\n",
    "output = 26\n",
    "```\n",
    "\n",
    "Following the steps, we would add `2` and `8` together then store the result `10` in memory. Then take the next element `9` and add it to `10`. This process repeats itself till it all elements in the variable `lst` has exhausted. Refer to figure 1 below where the blue circles represents the partial values stored in memory.\n",
    "\n",
    "| ![reduceSteps.png](attachment:reduceSteps.png) |\n",
    "|:---:|\n",
    "| **Figure 1:** Pictorial represenation of the internal steps of the `reduce()` function. |\n",
    "\n",
    "<br>\n",
    "\n",
    "Implementing this algorithm into code with the help of the `reduce()` function uses the following steps:\n",
    "1. Import the `reduce()` function from `functools` library.    \n",
    "2. Create a function that adds 2 numbers together and return the result.     \n",
    "3. Pass it to the `reduce()` function as an input argument.\n",
    "\n",
    "**Example 7: Reducing a list of numbers without the `initial` argument**"
   ]
  },
  {
   "cell_type": "code",
   "execution_count": 15,
   "metadata": {
    "ExecuteTime": {
     "end_time": "2020-11-10T03:17:21.697164Z",
     "start_time": "2020-11-10T03:17:21.692177Z"
    }
   },
   "outputs": [
    {
     "name": "stdout",
     "output_type": "stream",
     "text": [
      "Result is:  26\n"
     ]
    }
   ],
   "source": [
    "# importing the reduce function from the functool library\n",
    "from functools import reduce\n",
    "\n",
    "# list of nums\n",
    "nums = [2, 8, 9, 3,4]\n",
    "\n",
    "def add_num(x,y):\n",
    "    return x + y\n",
    "\n",
    "\n",
    "# adding the elements in the list cumulatively\n",
    "result = reduce(add_num, nums)\n",
    "print(\"Result is: \", result)"
   ]
  },
  {
   "cell_type": "markdown",
   "metadata": {},
   "source": [
    "So what and how does the 3rd option argument `initial` work? By default, the value in the `initial` argument is `None` but **if we pass in a value, this value is then placed at the head of the iterable object. In other words, it becomes the first element of the iterable object.** The subsequent internal steps that the `reduce()` function takes are the same as if it did not have the `initial` value.\n",
    "\n",
    "**Note** that the `initial` parameter for the `reduce()` function **must always** be a single value.\n",
    "\n",
    "<br>\n",
    "\n",
    "To demonstrate this, we shall use the same list of numbers (`nums`) and function from example 6. In addition, the `initial` argument of the `reduce()` function will now have the value `10`.\n",
    "\n",
    "**Example 8: Reducing a list of numbers with the `initial` argument**"
   ]
  },
  {
   "cell_type": "code",
   "execution_count": null,
   "metadata": {},
   "outputs": [],
   "source": [
    "# adding the elements in the list cumulatively\n",
    "result = reduce(add_num, nums, 10)\n",
    "print(\"Result is: \", result)"
   ]
  },
  {
   "attachments": {
    "reduceStepInit.png": {
     "image/png": "[encoded data removed]"
    }
   },
   "cell_type": "markdown",
   "metadata": {},
   "source": [
    "After executing *example 7*, we that the result has increased by 10. Let's refer to figure 2 to see its internal steps. The red circle represents the initial value and the blue circles represents the partial values stored in memory.\n",
    "\n",
    "| ![reduceStepInit.png](attachment:reduceStepInit.png) |\n",
    "|:---:|\n",
    "| **Figure 2:** Pictorial represenation of the internal steps of the `reduce()` function with `initial` value of `10`. |"
   ]
  },
  {
   "cell_type": "markdown",
   "metadata": {},
   "source": [
    "**Example 9: Reducing with `lambda`**"
   ]
  },
  {
   "cell_type": "code",
   "execution_count": null,
   "metadata": {},
   "outputs": [],
   "source": [
    "from functools import reduce\n",
    "\n",
    "result = reduce((lambda x, y: x + y), [2, 8, 9, 3, 4], 10)\n",
    "print(\"Result is: \", result)"
   ]
  },
  {
   "cell_type": "markdown",
   "metadata": {},
   "source": [
    "### Exercise\n",
    "\n",
    "What is the `lambda` function that can be used in the `reduce()` function to solve the following questions?\n",
    "\n",
    "1. Finding the maximum number from a list of numbers.<br>\n",
    " **Answer:** lambda x,y:max(x,y) or lambda x,y:x if x>y else y\n",
    "\n",
    "2. Checking that a list of strings do not have any empty strings in it.<br>\n",
    " **Answer:** lambda x,y: "
   ]
  },
  {
   "cell_type": "code",
   "execution_count": 19,
   "metadata": {
    "ExecuteTime": {
     "end_time": "2020-11-10T03:21:37.891834Z",
     "start_time": "2020-11-10T03:21:37.885878Z"
    }
   },
   "outputs": [
    {
     "name": "stdout",
     "output_type": "stream",
     "text": [
      "10\n"
     ]
    }
   ],
   "source": [
    "from functools import reduce\n",
    "\n",
    "lst = [2,4,5,6,7,3,6,7,10]\n",
    "\n",
    "max1 = reduce((lambda x,y:max(x,y)),lst) # Need to put lambda in brackets.\n",
    "\n",
    "print(max1)"
   ]
  },
  {
   "cell_type": "code",
   "execution_count": 32,
   "metadata": {
    "ExecuteTime": {
     "end_time": "2020-11-10T03:36:09.799735Z",
     "start_time": "2020-11-10T03:36:09.790758Z"
    }
   },
   "outputs": [
    {
     "name": "stdout",
     "output_type": "stream",
     "text": [
      "False\n",
      "True\n",
      "False\n"
     ]
    }
   ],
   "source": [
    "from functools import reduce\n",
    "\n",
    "lst1 = [\"true\",\"false\",\"hello\",\"\"] # Should return FALSE since it contains empty string.\n",
    "lst2 = [\"true\",\"false\",\"hello\",\"kitty\"] # Should return TRUE since it contains NO empty string.\n",
    "lst3 = [\"\",\"false\",\"hello\",\"\"] # Should return FALSE since it contains empty string.\n",
    "\n",
    "max1 = reduce((lambda x,y: bool(x and y)),lst1) # Need to put lambda in brackets.\n",
    "max2 = reduce((lambda x,y: bool(x and y)),lst2) # Need to put lambda in brackets.\n",
    "max3 = reduce((lambda x,y: bool(x and y)),lst3) # Need to put lambda in brackets.\n",
    "\n",
    "print(max1)\n",
    "print(max2)\n",
    "print(max3)"
   ]
  },
  {
   "attachments": {
    "8ac5c4bd-c39b-467a-8925-f2f28e53fa1f.png": {
     "image/png": "[encoded data removed]"
    }
   },
   "cell_type": "markdown",
   "metadata": {},
   "source": [
    "---\n",
    "## Filter\n",
    "\n",
    "As the name suggests, `filter()` creates a list of elements for which a function returns `True`.\n",
    "\n",
    "| ![filter_function.png](attachment:8ac5c4bd-c39b-467a-8925-f2f28e53fa1f.png) |\n",
    "|:---:|\n",
    "| **Figure 3:** Pictorial representation of `filter()` function. |\n",
    "\n",
    "<br>\n",
    "\n",
    "The syntax of the `filter()` function is as follows:\n",
    "```python\n",
    "filter(function, iterable)\n",
    "```\n",
    "where\n",
    "* **function** - a function that tests if elements of an iterable return `True` or `False`. If `None`, the function defaults to identity function which returns `False` if any elements are `False`.\n",
    "* **iterable** - an iterable which is to be filtered, could be sets, lists, tuples, or containers of any iterators\n",
    "\n",
    "It returns the same datatype as the *iterable* object that was used with the `filter()` function.\n",
    "\n",
    "Let's say that we would like to a filter the vowels from a list of characters. Using normal functions, we would get an implementation like example 10.\n",
    "\n",
    "**Example 10: Filtering using normal functions**"
   ]
  },
  {
   "cell_type": "code",
   "execution_count": 33,
   "metadata": {
    "ExecuteTime": {
     "end_time": "2020-11-10T03:38:12.624201Z",
     "start_time": "2020-11-10T03:38:12.619215Z"
    }
   },
   "outputs": [],
   "source": [
    "def vowels(variable): \n",
    "    letters = ['a', 'e', 'i', 'o', 'u'] \n",
    "    if (variable in letters): \n",
    "        return True\n",
    "    else: \n",
    "        return False"
   ]
  },
  {
   "cell_type": "code",
   "execution_count": 34,
   "metadata": {
    "ExecuteTime": {
     "end_time": "2020-11-10T03:38:13.573661Z",
     "start_time": "2020-11-10T03:38:13.568675Z"
    }
   },
   "outputs": [
    {
     "name": "stdout",
     "output_type": "stream",
     "text": [
      "e\n",
      "e\n"
     ]
    }
   ],
   "source": [
    "sequence = ['g', 'e', 'e', 'j', 'k', 's', 'p', 'r']\n",
    "for letter in sequence:\n",
    "    if vowels(letter):\n",
    "        print(letter)"
   ]
  },
  {
   "cell_type": "markdown",
   "metadata": {},
   "source": [
    "Notice how we created a mask of `True` or `False` values then use that to filter the sequence? That task can be done with a single `filter()` function. \n",
    "\n",
    "**Example 11: Filtering using `filter()` function**"
   ]
  },
  {
   "cell_type": "code",
   "execution_count": 35,
   "metadata": {
    "ExecuteTime": {
     "end_time": "2020-11-10T03:38:15.440667Z",
     "start_time": "2020-11-10T03:38:15.436679Z"
    }
   },
   "outputs": [
    {
     "name": "stdout",
     "output_type": "stream",
     "text": [
      "e\n",
      "e\n"
     ]
    }
   ],
   "source": [
    "filtered = filter(vowels, sequence)\n",
    "\n",
    "print('\\n'.join(filtered))"
   ]
  },
  {
   "cell_type": "markdown",
   "metadata": {},
   "source": [
    "**Example 12: Filtering using `filter()` and `lambda` functions**"
   ]
  },
  {
   "cell_type": "code",
   "execution_count": 36,
   "metadata": {
    "ExecuteTime": {
     "end_time": "2020-11-10T03:38:17.227886Z",
     "start_time": "2020-11-10T03:38:17.221908Z"
    }
   },
   "outputs": [
    {
     "name": "stdout",
     "output_type": "stream",
     "text": [
      "Odd number: [1, 3, 5, 13]\n",
      "\n",
      "Even number: [0, 2, 8]\n"
     ]
    }
   ],
   "source": [
    "seq = [0, 1, 2, 3, 5, 8, 13] \n",
    "  \n",
    "# result contains odd numbers of the list \n",
    "result = filter(lambda x: x % 2 != 0, seq) \n",
    "print(f'Odd number: {list(result)}') \n",
    "\n",
    "# result contains even numbers of the list \n",
    "result = filter(lambda x: x % 2 == 0, seq) \n",
    "print(f'\\nEven number: {list(result)}') "
   ]
  },
  {
   "cell_type": "markdown",
   "metadata": {},
   "source": [
    "## Exercise\n",
    "\n",
    "What is the `lambda` function or function that can be used in the `filter()` function to solve the following questions?\n",
    "\n",
    "1. Filter out all numbers less than zero?<br>\n",
    " **Answer:** \n",
    "\n",
    "2. Filter out all elements that evaluates to `False`?<br>\n",
    " **Answer:** "
   ]
  },
  {
   "cell_type": "code",
   "execution_count": 44,
   "metadata": {
    "ExecuteTime": {
     "end_time": "2020-11-10T03:42:43.726098Z",
     "start_time": "2020-11-10T03:42:43.721111Z"
    }
   },
   "outputs": [
    {
     "name": "stdout",
     "output_type": "stream",
     "text": [
      "[-2, -3, -5]\n"
     ]
    }
   ],
   "source": [
    "seq = [0, 1, 2, 3, 5, 8, 13,-2,-3,-5,10] \n",
    "\n",
    "lessthanzero = filter(lambda x: True if x<0 else False, seq)\n",
    "\n",
    "print(list(lessthanzero))"
   ]
  },
  {
   "cell_type": "code",
   "execution_count": 48,
   "metadata": {
    "ExecuteTime": {
     "end_time": "2020-11-10T03:58:24.872612Z",
     "start_time": "2020-11-10T03:58:24.866626Z"
    }
   },
   "outputs": [
    {
     "name": "stdout",
     "output_type": "stream",
     "text": [
      "[False, False, 0]\n"
     ]
    }
   ],
   "source": [
    "seq = [True,False,False,True, 3, 5, 0, 5,-3,-2,'hello'] \n",
    "\n",
    "lessthanzero = filter(lambda x: bool(x)==False, seq)\n",
    "\n",
    "print(list(lessthanzero))"
   ]
  },
  {
   "cell_type": "code",
   "execution_count": null,
   "metadata": {},
   "outputs": [],
   "source": []
  }
 ],
 "metadata": {
  "kernelspec": {
   "display_name": "Python 3",
   "language": "python",
   "name": "python3"
  },
  "language_info": {
   "codemirror_mode": {
    "name": "ipython",
    "version": 3
   },
   "file_extension": ".py",
   "mimetype": "text/x-python",
   "name": "python",
   "nbconvert_exporter": "python",
   "pygments_lexer": "ipython3",
   "version": "3.7.7"
  }
 },
 "nbformat": 4,
 "nbformat_minor": 4
}
