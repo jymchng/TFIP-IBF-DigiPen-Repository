{
 "cells": [
  {
   "cell_type": "markdown",
   "metadata": {},
   "source": [
    "# Python Regular Expression Exercise"
   ]
  },
  {
   "cell_type": "markdown",
   "metadata": {},
   "source": [
    "## Complete the code cells\n",
    "---"
   ]
  },
  {
   "cell_type": "markdown",
   "metadata": {},
   "source": [
    "**Q1)** Write a program that matches a string that starts with an `a` followed by three `b`s"
   ]
  },
  {
   "cell_type": "code",
   "execution_count": 77,
   "metadata": {
    "ExecuteTime": {
     "end_time": "2020-11-12T10:37:40.880079Z",
     "start_time": "2020-11-12T10:37:40.875089Z"
    }
   },
   "outputs": [
    {
     "name": "stdout",
     "output_type": "stream",
     "text": [
      "['abbbbbbb', 'abbbbeee']\n"
     ]
    }
   ],
   "source": [
    "import re\n",
    "\n",
    "test_str_list = ['abbbbbbb', 'baaa', 'abbbbeee', '$#%#aaaabbbb', 'abb#5']\n",
    "\n",
    "s = r'[a]'+r'[b]{3}'\n",
    "\n",
    "# Chee Wai's Code\n",
    "out = [x for x in test_str_list if re.match(r'abbb', x) is not None]\n",
    "print(out)"
   ]
  },
  {
   "cell_type": "markdown",
   "metadata": {},
   "source": [
    "**Q2)** Write a program that checks all letters in a word for lower case characters and joined by a single underscore."
   ]
  },
  {
   "cell_type": "code",
   "execution_count": 100,
   "metadata": {
    "ExecuteTime": {
     "end_time": "2020-11-12T11:30:56.840396Z",
     "start_time": "2020-11-12T11:30:56.831419Z"
    }
   },
   "outputs": [
    {
     "name": "stdout",
     "output_type": "stream",
     "text": [
      "['abd_tye', 'aaa_b', 'abc_bcd_def', 'a']\n",
      "['abd_tye', 'abe_$#%', 'obn*_*nbo', 'aaa_b', 'abc_bcd_def', 'a', 'a$']\n",
      "['abd_tye', 'abe_$#%', 'obn*_*nbo', 'aaa_b', 'abc_bcd_def', 'a', 'a$']\n",
      "['abd_tye', 'aaa_b', 'abc_bcd_def', 'a']\n"
     ]
    }
   ],
   "source": [
    "test_str_list = ['abd_tye', '$%$_tgg', 'abe_$#%', 'obn*_*nbo', 'aaa_b', 'abc_bcd_def','a','a$']\n",
    "\n",
    "print([x for x in test_str_list if re.match(r'[a-z_]+$', x) is not None])\n",
    "print([x for x in test_str_list if re.match(r'[a-z_]+', x) is not None])\n",
    "print([x for x in test_str_list if re.match(r'[\\w]+', x) is not None])\n",
    "print([x for x in test_str_list if re.match(r'[\\w]+$', x) is not None])\n",
    "\n",
    "# r'[a-z_]+$' will check until end of the string.\n",
    "# If one character it encounters from left to right IS NOT a-z or underscore, it will return None\n",
    "\n",
    "# r'[a-z_]+' will return Matched as long as there exists a character \n",
    "# in the string that is a-z or underscore\n",
    "\n",
    "# match() checks from start of string implicitly; so it returns matched only \n",
    "# if the characters a-z and underscore matches from the start/left of string\n",
    "# So for e.g. this should fail to match: \" space_in_front\""
   ]
  },
  {
   "cell_type": "markdown",
   "metadata": {},
   "source": [
    "**Q3)** Write a program to find all words with 2 vowels side by side in the given string."
   ]
  },
  {
   "cell_type": "code",
   "execution_count": 74,
   "metadata": {
    "ExecuteTime": {
     "end_time": "2020-11-12T10:36:56.769076Z",
     "start_time": "2020-11-12T10:36:56.763092Z"
    }
   },
   "outputs": [
    {
     "name": "stdout",
     "output_type": "stream",
     "text": [
      "['Gradually', 'moon', 'journey', 'hours', 'leaves', 'glorious', 'feeling']\n"
     ]
    }
   ],
   "source": [
    "poem = \"\"\"The evening sun slowly fades into the dark, \n",
    "Gradually giving way for the moon to embark.\n",
    "On a journey that may only last a few hours,\n",
    "But leaves a glorious feeling like the sight of lovely flowers.\n",
    "\"\"\"\n",
    "\n",
    "s = r'\\b[a-zA-Z]*[aeiou][aeiou][a-zA-Z]*\\b'\n",
    "\n",
    "# re.findall(s,poem) # Find the corresponding words, not just returning the vowels.\n",
    "# print(poem.split())\n",
    "# print([x for x in poem.split() if re.match(s,x) is not None])\n",
    "\n",
    "out = re.findall(r'\\b[a-zA-Z]*[aeiou][aeiou][a-zA-Z]*\\b', poem)\n",
    "# \\b finds boundary of a word, within each word, it has some zero or non-zero number of\n",
    "# [a-zA-Z] e.g. djisAJIS and then 2 vowels [aeiou] and finally ends similarly with [a-zA-Z]\n",
    "print(out)"
   ]
  },
  {
   "cell_type": "markdown",
   "metadata": {},
   "source": [
    "## Write Codes based on the questions\n",
    "---\n",
    "\n",
    "**Q4)** Write a regular expression to retain all UPPERCASE characters from a given string. The string must be obtained from user input.\n",
    "\n",
    "**Hint:** `lambda` must be used."
   ]
  },
  {
   "cell_type": "code",
   "execution_count": 82,
   "metadata": {
    "ExecuteTime": {
     "end_time": "2020-11-12T10:39:34.483111Z",
     "start_time": "2020-11-12T10:39:34.477127Z"
    }
   },
   "outputs": [
    {
     "name": "stdout",
     "output_type": "stream",
     "text": [
      "HUDSDJIHDUSHDUS SDJJJJ  SHDIS\n",
      "HUDSDJIHDUSHDUSSDJJJJSHDIS\n"
     ]
    }
   ],
   "source": [
    "s = r'[A-Z]*\\s*'\n",
    "\n",
    "stri = 'aHUDSDJIjdisjdisHDUSHDUS sdsSDJJiJiJ sde dsjiSHDISjids'\n",
    "\n",
    "print(\"\".join(re.findall(s,stri)))\n",
    "\n",
    "# Chee Wai's Code:\n",
    "\n",
    "out = re.sub(r'[^A-Z]', '', stri) # [^...] is the negated format\n",
    "print(out)"
   ]
  },
  {
   "cell_type": "markdown",
   "metadata": {},
   "source": [
    "**Q5)** Write a program that continously asks a user for any number and using regular expressions checks that the string representation of this number has a precision of 4 (aka 4 floating point numbers). Use the letter 'q' as a terminating condition.\n",
    "\n",
    "**Program Output Example**\n",
    "<pre>\n",
    "Enter some numbers: 47\n",
    "False\n",
    "Enter some numbers: 458.155556\n",
    "False\n",
    "Enter some numbers: 48.2518\n",
    "True\n",
    "Enter some numbers: q\n",
    "</pre>"
   ]
  },
  {
   "cell_type": "code",
   "execution_count": 91,
   "metadata": {
    "ExecuteTime": {
     "end_time": "2020-11-12T11:18:54.627892Z",
     "start_time": "2020-11-12T11:18:54.622890Z"
    }
   },
   "outputs": [
    {
     "data": {
      "text/plain": [
       "['48.2518']"
      ]
     },
     "execution_count": 91,
     "metadata": {},
     "output_type": "execute_result"
    }
   ],
   "source": [
    "num = ['47','458','155556','48.2518']\n",
    "s = r'\\d+\\.\\d{4}$'\n",
    "[x for x in num if re.match(s,x) is not None]"
   ]
  },
  {
   "cell_type": "markdown",
   "metadata": {},
   "source": [
    "**Q6)** Write a program to extract all values enclosed within **double quotation marks** from some text. The text can be obtained either from user input or from hardcoded test cases.\n",
    "\n",
    "**Program Output Example**\n",
    "<pre>\n",
    "Enter some numbers: It's \"really hot\" outside\n",
    "['really hot']\n",
    "Enter some numbers: Tom \"hates\" going out with \"Betty\" because she's a goat!\n",
    "['hates', 'Betty']\n",
    "Enter some numbers: q\n",
    "</pre>"
   ]
  },
  {
   "cell_type": "code",
   "execution_count": 103,
   "metadata": {
    "ExecuteTime": {
     "end_time": "2020-11-12T11:35:59.397044Z",
     "start_time": "2020-11-12T11:35:59.392057Z"
    }
   },
   "outputs": [
    {
     "name": "stdout",
     "output_type": "stream",
     "text": [
      "Input: Tom \"hates\" going out with \"Betty\" because she's a goat! how about empty \"\" stuff? or singl\"?\" ones?\n",
      "Output: ['hates', 'Betty', '', '?']\n"
     ]
    }
   ],
   "source": [
    "# Chee Wai's Code\n",
    "# r'\"([^\"]*)\"' means find all that starts with \", [] means character, [^\"] means character \n",
    "# (ONE ONLY) that is NOT \" AT THE BEGINNING and [^\"]* means any number of characters that are NOT\n",
    "# \" from the BEGINNING of the string.\n",
    "       \n",
    "ip = 'Tom \"hates\" going out with \"Betty\" because she\\'s a goat! how about empty \"\" stuff? or singl\"?\" ones?'\n",
    "# match 1 quote, some non-quote chars, another quote\n",
    "out = re.findall(r'\"([^\"]*)\"', ip)\n",
    "print('Input:', ip)\n",
    "print('Output:', out)"
   ]
  },
  {
   "cell_type": "code",
   "execution_count": null,
   "metadata": {},
   "outputs": [],
   "source": []
  }
 ],
 "metadata": {
  "kernelspec": {
   "display_name": "Python 3",
   "language": "python",
   "name": "python3"
  },
  "language_info": {
   "codemirror_mode": {
    "name": "ipython",
    "version": 3
   },
   "file_extension": ".py",
   "mimetype": "text/x-python",
   "name": "python",
   "nbconvert_exporter": "python",
   "pygments_lexer": "ipython3",
   "version": "3.7.7"
  }
 },
 "nbformat": 4,
 "nbformat_minor": 4
}
