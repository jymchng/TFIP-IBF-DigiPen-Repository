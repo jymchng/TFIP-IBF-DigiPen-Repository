{
 "cells": [
  {
   "cell_type": "markdown",
   "metadata": {},
   "source": [
    "# Python Regular Expression Exercise"
   ]
  },
  {
   "cell_type": "markdown",
   "metadata": {},
   "source": [
    "## Complete the code cells\n",
    "---"
   ]
  },
  {
   "cell_type": "markdown",
   "metadata": {},
   "source": [
    "**Q1)** Write a program that matches a string that starts with an `a` followed by three `b`s"
   ]
  },
  {
   "cell_type": "code",
   "execution_count": null,
   "metadata": {},
   "outputs": [],
   "source": [
    "test_str_list = ['abbbbbbb', 'baaa', 'abbbbeee', '$#%#aaaabbbb', 'abb#5']\n",
    "\n",
    "import re\n",
    "\n",
    "pattern = re.compile(r'ab{3}')\n",
    "\n",
    "for i in test_str_list:\n",
    "    result = pattern.match(i)\n",
    "    print(result)"
   ]
  },
  {
   "cell_type": "markdown",
   "metadata": {},
   "source": [
    "**Q2)** Write a program that checks all letters in a word for lower case characters and joined by a single underscore."
   ]
  },
  {
   "cell_type": "code",
   "execution_count": null,
   "metadata": {},
   "outputs": [],
   "source": [
    "test_str_list = ['abd_tye', '$%$_tgg', 'abe_$#%', 'obn*_*nbo', 'aaa_b', 'abc_bcd_def']\n",
    "\n",
    "import re\n",
    "\n",
    "pattern = re.compile(r'^[a-z]+_[a-z]+$')\n",
    "for i in test_str_list:\n",
    "    result = pattern.search(i)\n",
    "    print(result)"
   ]
  },
  {
   "cell_type": "markdown",
   "metadata": {},
   "source": [
    "**Q3)** Write a program to find all words with 2 vowels side by side in the given string."
   ]
  },
  {
   "cell_type": "code",
   "execution_count": null,
   "metadata": {},
   "outputs": [],
   "source": [
    "poem = \"\"\"The evening sun slowly fades into the dark, \n",
    "Gradually giving way for the moon to embark.\n",
    "On a journey that may only last a few hours,\n",
    "But leaves a glorious feeling like the sight of lovely flowers.\n",
    "\"\"\"\n",
    "\n",
    "import re\n",
    "\n",
    "pattern = re.compile(r'\\w+[aeiou]{2}\\w+')\n",
    "print(pattern.findall(poem))"
   ]
  },
  {
   "cell_type": "markdown",
   "metadata": {},
   "source": [
    "## Write Codes based on the questions\n",
    "---\n",
    "\n",
    "**Q4)** Write a regular expression to retain all UPPERCASE characters from a given string. The string must be obtained from user input.\n",
    "\n",
    "**Hint:** `lambda` must be used."
   ]
  },
  {
   "cell_type": "code",
   "execution_count": null,
   "metadata": {},
   "outputs": [],
   "source": [
    "import re\n",
    "\n",
    "user_str = input('Enter some text: ')\n",
    "\n",
    "remove = lambda text: re.sub(r'[\\Wa-z0-9_]', '', text)\n",
    "print(f'{remove(user_str)}')"
   ]
  },
  {
   "cell_type": "markdown",
   "metadata": {},
   "source": [
    "**Q5)** Write a program that continously asks a user for any number and using regular expressions checks that the string representation of this number has a precision of 4 (aka 4 floating point numbers). Use the letter 'q' as a terminating condition.\n",
    "\n",
    "**Program Output Example**\n",
    "<pre>\n",
    "Enter some numbers: 47\n",
    "False\n",
    "Enter some numbers: 458.155556\n",
    "False\n",
    "Enter some numbers: 48.2518\n",
    "True\n",
    "Enter some numbers: q\n",
    "</pre>"
   ]
  },
  {
   "cell_type": "code",
   "execution_count": null,
   "metadata": {},
   "outputs": [],
   "source": [
    "import re\n",
    "\n",
    "def check_precision(str_num):\n",
    "    '''\n",
    "    Function that checks if a number has a precision of 4.\n",
    "    '''\n",
    "    pattern = r'^[0-9]+(\\.[0-9]{4})$'\n",
    "    return bool(re.search(pattern, str_num))\n",
    "\n",
    "\n",
    "while True:\n",
    "    user_str = input('Enter some numbers: ')\n",
    "    \n",
    "    if user_str == 'q':\n",
    "        break\n",
    "        \n",
    "    print(check_precision(user_str))"
   ]
  },
  {
   "cell_type": "markdown",
   "metadata": {},
   "source": [
    "**Q6)** Write a program to extract all values enclosed within **double quotation marks** from some text. The text can be obtained either from user input or from hardcoded test cases.\n",
    "\n",
    "**Program Output Example**\n",
    "<pre>\n",
    "Enter some numbers: It's \"really hot\" outside\n",
    "['really hot']\n",
    "Enter some numbers: Tom \"hates\" going out with \"Betty\" because she's a goat!\n",
    "['hates', 'Betty']\n",
    "Enter some numbers: q\n",
    "</pre>"
   ]
  },
  {
   "cell_type": "code",
   "execution_count": null,
   "metadata": {},
   "outputs": [],
   "source": [
    "import re\n",
    "\n",
    "while True:\n",
    "    user_str = input('Enter some numbers: ')\n",
    "    if user_str == 'q':\n",
    "        break\n",
    "    \n",
    "    print(re.findall(r'\"(.*?)\"', user_str))"
   ]
  }
 ],
 "metadata": {
  "kernelspec": {
   "display_name": "Python 3",
   "language": "python",
   "name": "python3"
  },
  "language_info": {
   "codemirror_mode": {
    "name": "ipython",
    "version": 3
   },
   "file_extension": ".py",
   "mimetype": "text/x-python",
   "name": "python",
   "nbconvert_exporter": "python",
   "pygments_lexer": "ipython3",
   "version": "3.8.3"
  }
 },
 "nbformat": 4,
 "nbformat_minor": 4
}
