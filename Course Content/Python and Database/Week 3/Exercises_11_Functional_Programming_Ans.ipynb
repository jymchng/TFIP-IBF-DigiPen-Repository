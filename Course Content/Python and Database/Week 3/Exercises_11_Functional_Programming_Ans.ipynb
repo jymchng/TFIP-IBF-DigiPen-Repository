{
 "cells": [
  {
   "cell_type": "markdown",
   "metadata": {},
   "source": [
    "# Functional Programming Exercise"
   ]
  },
  {
   "cell_type": "markdown",
   "metadata": {},
   "source": [
    "## Write codes based on the questions\n",
    "---"
   ]
  },
  {
   "cell_type": "markdown",
   "metadata": {},
   "source": [
    "### Using `map()` Function\n",
    "Using the given data construct functions either using `lambda` or normal function to be used in the `map()` function. <br>\n",
    "**Priority must be given to `lambda` functions.**"
   ]
  },
  {
   "cell_type": "markdown",
   "metadata": {},
   "source": [
    "**Q1)** Convert a list of degrees celsius temperatures to fahrenheit then use the output and convert it back to degrees celsius."
   ]
  },
  {
   "cell_type": "code",
   "execution_count": null,
   "metadata": {},
   "outputs": [],
   "source": [
    "celsius = [39.2, 36.5, 37.3, 37.8]\n",
    "fahrenheit = list(map(lambda x: (float(9)/5)*x + 32, celsius))\n",
    "\n",
    "print(fahrenheit)\n",
    "\n",
    "cel = list(map(lambda x: (float(5)/9)*(x-32), fahrenheit))\n",
    "print(cel)"
   ]
  },
  {
   "cell_type": "markdown",
   "metadata": {},
   "source": [
    "**Q2)** Return a list of string lengths"
   ]
  },
  {
   "cell_type": "code",
   "execution_count": null,
   "metadata": {},
   "outputs": [],
   "source": [
    "lst = ['actor','courage','revenue','platform','childhood','promotion','drama','effort','homework']\n",
    "\n",
    "list(map(lambda x: len(x), lst))"
   ]
  },
  {
   "cell_type": "markdown",
   "metadata": {},
   "source": [
    "**Q3)** Find the digit distance between 2 lists of numbers. The digit distance between two numbers is calculated as the absolute value of the difference of those numbers. You may need to find out how python calculates absolute values.\n",
    "\n",
    "**Hint**<br>\n",
    "`map()` can be used with multiple lists. <br>\n",
    "Syntax:\n",
    "```python\n",
    "map(lambda x,y:x*y, lst1, lst2)\n",
    "```\n",
    "\n",
    "**Example**<br>\n",
    "|123 - 256| = 133\n",
    "digit distance = 1 + 3 + 3 = 7"
   ]
  },
  {
   "cell_type": "code",
   "execution_count": null,
   "metadata": {},
   "outputs": [],
   "source": [
    "lst1 = [123, 23, 1, 528, 45]\n",
    "lst2 = [256, 9, 58, 63, 14]\n",
    "\n",
    "# Strings treated the same way as a list. Convert the String to a int one by one\n",
    "list(map(lambda x, y: sum(map(int,str(abs(x-y)))), lst1, lst2))"
   ]
  },
  {
   "cell_type": "markdown",
   "metadata": {},
   "source": [
    "### Using `filter()` function\n",
    "\n",
    "Using the given data construct functions either using `lambda` or normal function to be used in the `filter()` function. <br>\n",
    "**Priority must be given to `lambda` functions.**"
   ]
  },
  {
   "cell_type": "markdown",
   "metadata": {},
   "source": [
    "**Q4)** Given 2 lists of words remove the duplicated elements."
   ]
  },
  {
   "cell_type": "code",
   "execution_count": null,
   "metadata": {},
   "outputs": [],
   "source": [
    "lst1 = [\"Python\", \"CSharp\", \"Java\", \"Go\"]\n",
    "lst2 = [\"Python\", \"Scala\", \"JavaScript\", \"Go\", \"PHP\", \"CSharp\"]\n",
    "\n",
    "list(filter(lambda x: x not in lst1, lst2))"
   ]
  },
  {
   "cell_type": "markdown",
   "metadata": {},
   "source": [
    "**Q5)** Given some data in a list of dictionaries. Use `filter()` to search for any of the dictionary elements, given a key and value. <br>\n",
    "**Hint:** a function could be required house the `filter()` function.\n",
    "\n",
    "**Sample program output**\n",
    "<pre>\n",
    "Searched for type = fish\n",
    "\n",
    "{'name': 'sammy', 'species': 'nurse shark', 'tank number': '11', 'type': 'fish'}\n",
    "{'name': 'bitey', 'species': 'white tip shark', 'tank number': '11', 'type': 'fish'}\n",
    "{'name': 'charlie', 'species': 'clownfish', 'tank number': '12', 'type': 'fish'}\n",
    "</pre>"
   ]
  },
  {
   "cell_type": "code",
   "execution_count": null,
   "metadata": {},
   "outputs": [],
   "source": [
    "data = [\n",
    "    {\"name\": \"sammy\", \"species\": \"nurse shark\", \"tank number\": \"11\", \"type\": \"fish\"},\n",
    "    {\"name\": \"bitey\", \"species\": \"white tip shark\", \"tank number\": \"11\", \"type\": \"fish\"},\n",
    "    {\"name\": \"ashley\", \"species\": \"crab\", \"tank number\": \"25\", \"type\": \"shellfish\"},\n",
    "    {\"name\": \"bashful\", \"species\": \"crab\", \"tank number\": \"5\", \"type\": \"shellfish\"},\n",
    "    {\"name\": \"jackie\", \"species\": \"lobster\", \"tank number\": \"21\", \"type\": \"shellfish\"},\n",
    "    {\"name\": \"boxy\", \"species\": \"mantis shrimp\", \"tank number\": \"21\", \"type\": \"shellfish\"},\n",
    "    {\"name\": \"charlie\", \"species\": \"clownfish\", \"tank number\": \"12\", \"type\": \"fish\"},\n",
    "    {\"name\": \"olly\", \"species\": \"green turtle\", \"tank number\": \"34\", \"type\": \"turtle\"}\n",
    "]\n",
    "\n",
    "def search_data(search_data, key, value):\n",
    "    return list(filter(lambda elem: key in elem and elem[key] in value, search_data))\n",
    "\n",
    "print('\\n'.join(list(map(str, search_data(data, 'type', 'fish')))))"
   ]
  },
  {
   "cell_type": "markdown",
   "metadata": {},
   "source": [
    "## Using `reduce()` function\n",
    "\n",
    "Using the given data construct functions either using `lambda` or normal function to be used in the `reduce()` function.<br>\n",
    "Priority must be given to `lambda` functions."
   ]
  },
  {
   "cell_type": "markdown",
   "metadata": {},
   "source": [
    "**Q6)** Given a list of strings, combine them to produce the following output:\n",
    "```python\n",
    "Halloween candies: gummy bears, pop tart, candy cane, bubble gum, jaw breakers\n",
    "```"
   ]
  },
  {
   "cell_type": "code",
   "execution_count": null,
   "metadata": {},
   "outputs": [],
   "source": [
    "lst_str = ['gummy bears', 'pop tart', 'candy cane', 'bubble gum', 'jaw breakers']\n",
    "\n",
    "candy = reduce(lambda x, y: f'{x}, {y}', lst_str)\n",
    "print(f'Halloween candies: {candy}')"
   ]
  },
  {
   "cell_type": "markdown",
   "metadata": {},
   "source": [
    "## Combine `map()`, `filter()` and `reduce()` functions\n",
    "\n",
    "Using the given data construct functions either using `lambda` or normal function to be used combination with the `map()`, `filter()` and `reduce()` function.\n",
    "Priority must be given to `lambda` functions."
   ]
  },
  {
   "cell_type": "markdown",
   "metadata": {},
   "source": [
    "**Q7)** Given a list of numbers, add `1` to each element then remove all even numbers and sum the remaining numbers."
   ]
  },
  {
   "cell_type": "code",
   "execution_count": null,
   "metadata": {},
   "outputs": [],
   "source": [
    "from functools import reduce\n",
    "vals = [0,1,2,3,4,5,6,7,8,9]\n",
    "\n",
    "# add 1 to each element\n",
    "obj = list(map(lambda x: x+1, vals))\n",
    "obj = list(filter(lambda x: x % 2 == 0, obj))\n",
    "obj = reduce(lambda x,y: x+y, obj)\n",
    "print(obj)"
   ]
  },
  {
   "cell_type": "markdown",
   "metadata": {},
   "source": [
    "**Q8)** Given the following data, print all administrative cities with more than 14 million inhabitants.\n",
    "\n",
    "**Sample program output**\n",
    "<pre>\n",
    "Cities: Mumbai, São Paulo, Delhi, Shanghai, Kolkata\n",
    "</pre>"
   ]
  },
  {
   "cell_type": "code",
   "execution_count": null,
   "metadata": {},
   "outputs": [],
   "source": [
    "from functools import reduce\n",
    "\n",
    "data=[['Tokyo', 35676000.0, 'primary'], ['New York', 19354922.0, 'nan'], ['Mexico City', 19028000.0, 'primary'], \n",
    "      ['Mumbai', 18978000.0, 'admin'], ['São Paulo', 18845000.0, 'admin'], ['Delhi', 15926000.0, 'admin'], \n",
    "      ['Shanghai', 14987000.0, 'admin'], ['Kolkata', 14787000.0, 'admin'], ['Los Angeles', 12815475.0, 'nan'], \n",
    "      ['Dhaka', 12797394.0, 'primary'], ['Buenos Aires', 12795000.0, 'primary'], ['Karachi', 12130000.0, 'admin'], \n",
    "      ['Cairo', 11893000.0, 'primary'], ['Rio de Janeiro', 11748000.0, 'admin'], ['Ōsaka', 11294000.0, 'admin'], \n",
    "      ['Beijing', 11106000.0, 'primary'], ['Manila', 11100000.0, 'primary'], ['Moscow', 10452000.0, 'primary'], \n",
    "      ['Istanbul', 10061000.0, 'admin'], ['Paris', 9904000.0, 'primary']]\n",
    "\n",
    "obj = list(filter(lambda x: x[2] == 'admin' and x[1] > 14000000, data))\n",
    "obj = list(map(lambda x: x[0], obj))\n",
    "obj = list(reduce(lambda x,y: f'{x}, {y}', obj))\n",
    "\n",
    "print(f'Cities: {\"\".join(obj)}')"
   ]
  },
  {
   "cell_type": "markdown",
   "metadata": {},
   "source": [
    "**Q9)** Imagine an accounting routine used in a book shop. It works on a list with sublists, which look like this:\n",
    "\n",
    "| Order Number   | Book Title and Author                | Quantity   |  Price per Item (SGD) |\n",
    "|:---|:---|:---:|:---:|\n",
    "| 34587          | To Kill a Mockingbird, Harper Lee    |     4      |    40.95 |\n",
    "| 98762          | Never Cry Wolf, Farley Mowat         |     5      |    56.80 |\n",
    "| 77226          | Dealing with Dragons, Patricia Wrede |     3      |    32.95 |\n",
    "| 88112          | Pride and Prejudice, Jane Austen     |     3      |    24.99 |\n",
    "\n",
    "\n",
    "Write a Python program using `lambda` and `map()`, which returns a list with 2-tuples. Each tuple consists of a the order number and the product of the price per items and the quantity. The product should be increased by \\\\$10 if the value of the order is smaller than \\\\$100,00."
   ]
  },
  {
   "cell_type": "code",
   "execution_count": null,
   "metadata": {},
   "outputs": [],
   "source": [
    "orders = [ [\"34587\", \"To Kill a Mockingbird, Harper Lee\", 4, 40.95], \n",
    "           [\"98762\", \"Never Cry Wolf, Farley Mowat\", 5, 56.80], \n",
    "           [\"77226\", \"Dealing with Dragons, Patricia Wrede\", 3,32.95],\n",
    "           [\"88112\", \"Pride and Prejudice, Jane Austen\", 3, 24.99]]\n",
    "\n",
    "min_order = 100\n",
    "invoice_totals = list(map(lambda x: x if x[1] >= min_order else (x[0], x[1] + 10), \n",
    "                  map(lambda x: (x[0],x[2] * x[3]), orders)))\n",
    "\n",
    "print(invoice_totals)"
   ]
  },
  {
   "cell_type": "markdown",
   "metadata": {},
   "source": [
    "**Q10)** With reference to the given subset, the infomation is grouped as such:<br>\n",
    "`[ordernumber, (article number, quantity, price per unit), ... (article number, quantity, price per unit) ]`\n",
    "\n",
    "Write a program which returns a list of 2-tuples with `(order number, total amount of order)`. The product should be increased by \\\\$10 if the value of the order is smaller than \\\\$100,00."
   ]
  },
  {
   "cell_type": "code",
   "execution_count": null,
   "metadata": {},
   "outputs": [],
   "source": [
    "from functools import reduce\n",
    "\n",
    "orders = [ [1, (\"5464\", 4, 9.99), (\"8274\",18,12.99), (\"9744\", 9, 44.95)], \n",
    "           [2, (\"5464\", 9, 9.99), (\"9744\", 9, 44.95)],\n",
    "           [3, (\"5464\", 9, 9.99), (\"88112\", 11, 24.99)],\n",
    "           [4, (\"8732\", 7, 11.99), (\"7733\",11,18.99), (\"88112\", 5, 39.95)] ]\n",
    "\n",
    "min_order = 100\n",
    "invoice_totals = list(map(lambda x: [x[0]] + list(map(lambda y: y[1]*y[2], x[1:])), orders))\n",
    "invoice_totals = list(map(lambda x: [x[0]] + [reduce(lambda a,b: a + b, x[1:])], invoice_totals))\n",
    "invoice_totals = list(map(lambda x: tuple(x) if x[1] >= min_order else (x[0], x[1] + 10), invoice_totals))\n",
    "\n",
    "print (invoice_totals)"
   ]
  }
 ],
 "metadata": {
  "kernelspec": {
   "display_name": "Python 3",
   "language": "python",
   "name": "python3"
  },
  "language_info": {
   "codemirror_mode": {
    "name": "ipython",
    "version": 3
   },
   "file_extension": ".py",
   "mimetype": "text/x-python",
   "name": "python",
   "nbconvert_exporter": "python",
   "pygments_lexer": "ipython3",
   "version": "3.8.3"
  }
 },
 "nbformat": 4,
 "nbformat_minor": 4
}
