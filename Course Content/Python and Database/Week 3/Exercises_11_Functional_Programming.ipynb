{
 "cells": [
  {
   "cell_type": "markdown",
   "metadata": {},
   "source": [
    "# Functional Programming Exercise"
   ]
  },
  {
   "cell_type": "markdown",
   "metadata": {},
   "source": [
    "## Write codes based on the questions\n",
    "---"
   ]
  },
  {
   "cell_type": "markdown",
   "metadata": {},
   "source": [
    "### Using `map()` Function\n",
    "\n",
    "> **Notes** <br>\n",
    "> map() can be applied to any number of list, then for the corresponding lambda function, the inputs to it must correspond to the number of list. e.g. `map((lambda x,y,z:...),l1,l2,l3)`\n",
    "\n",
    "Using the given data construct functions either using `lambda` or normal function to be used in the `map()` function. <br>\n",
    "**Priority must be given to `lambda` functions.**"
   ]
  },
  {
   "cell_type": "markdown",
   "metadata": {},
   "source": [
    "**(DONE) Q1)** Convert a list of degrees celsius temperatures to fahrenheit then use the output and convert it back to degrees celsius."
   ]
  },
  {
   "cell_type": "code",
   "execution_count": 32,
   "metadata": {
    "ExecuteTime": {
     "end_time": "2020-11-10T09:17:10.692406Z",
     "start_time": "2020-11-10T09:17:10.684428Z"
    }
   },
   "outputs": [
    {
     "data": {
      "text/plain": [
       "[39.2, 36.5, 37.3, 37.79999999999999]"
      ]
     },
     "execution_count": 32,
     "metadata": {},
     "output_type": "execute_result"
    }
   ],
   "source": [
    "celsius = [39.2, 36.5, 37.3, 37.8]\n",
    "fah=list(map(lambda x: (x*9/5) + 32, celsius))\n",
    "\n",
    "list(map((lambda x: (x-32)*5/9),fah))"
   ]
  },
  {
   "cell_type": "markdown",
   "metadata": {},
   "source": [
    "**(DONE) Q2)** Return a list of string lengths"
   ]
  },
  {
   "cell_type": "code",
   "execution_count": 3,
   "metadata": {
    "ExecuteTime": {
     "end_time": "2020-11-10T08:27:46.903229Z",
     "start_time": "2020-11-10T08:27:46.892215Z"
    }
   },
   "outputs": [
    {
     "data": {
      "text/plain": [
       "[5, 7, 7, 8, 9, 9, 5, 6, 8]"
      ]
     },
     "execution_count": 3,
     "metadata": {},
     "output_type": "execute_result"
    }
   ],
   "source": [
    "lst = ['actor','courage','revenue','platform','childhood','promotion','drama','effort','homework']\n",
    "\n",
    "lst = list(map((lambda x:len(x)),lst))\n",
    "\n",
    "lst"
   ]
  },
  {
   "cell_type": "markdown",
   "metadata": {},
   "source": [
    "**(DONE) Q3)** Find the digit distance between 2 lists of numbers. The digit distance between two numbers is calculated as the absolute value of the difference of those numbers. You may need to find out how python calculates absolute values.\n",
    "\n",
    "**Hint**<br>\n",
    "`map()` can be used with multiple lists. <br>\n",
    "Syntax:\n",
    "```python\n",
    "map(lambda x,y:x*y, lst1, lst2)\n",
    "```\n",
    "\n",
    "**Example**<br>\n",
    "|123 - 256| = 133\n",
    "digit distance = 1 + 3 + 3 = 7"
   ]
  },
  {
   "cell_type": "code",
   "execution_count": 43,
   "metadata": {
    "ExecuteTime": {
     "end_time": "2020-11-10T09:43:07.981061Z",
     "start_time": "2020-11-10T09:43:07.971087Z"
    }
   },
   "outputs": [
    {
     "name": "stdout",
     "output_type": "stream",
     "text": [
      "[133, 14, 57, 465, 31]\n"
     ]
    },
    {
     "data": {
      "text/plain": [
       "[7, 5, 12, 15, 4]"
      ]
     },
     "execution_count": 43,
     "metadata": {},
     "output_type": "execute_result"
    }
   ],
   "source": [
    "lst1 = [123, 23, 1, 528, 45]\n",
    "lst2 = [256, 9, 58, 63, 14]\n",
    "\n",
    "# Strategy: Use nested map(). Apply map to list with function1 then cast resultant into list and apply another map to\n",
    "# casted list to get desired output.\n",
    "\n",
    "# Strategy for writing lambda functions: for one input, imagine how you would manipulate just that one input to get the\n",
    "# desired output.\n",
    "\n",
    "# Strategy in this case: for the second lambda, convert the number first to a string, \n",
    "# then use for-loop to iterate and sum up the int-casted digits.\n",
    "\n",
    "# First lambda function: lambda x,y:abs(x-y))\n",
    "# Second lambda function: lambda n: sum(int(d) for d in str(n))\n",
    "\n",
    "list(map((lambda x,y:abs(x-y)),lst1,lst2))\n",
    "print(list(map((lambda x,y:abs(x-y)),lst1,lst2)))\n",
    "\n",
    "list(map((lambda n: sum(int(d) for d in str(n))),list(map((lambda x,y:abs(x-y)),lst1,lst2))))"
   ]
  },
  {
   "cell_type": "markdown",
   "metadata": {},
   "source": [
    "### Using `filter()` function\n",
    "\n",
    "> **Notes**<br>\n",
    "for `filter()`, the function input must generate a boolean mask, i.e. `[True, False,..., False, True, True]`.\n",
    "\n",
    "Using the given data construct functions either using `lambda` or normal function to be used in the `filter()` function. <br>\n",
    "**Priority must be given to `lambda` functions.**"
   ]
  },
  {
   "cell_type": "markdown",
   "metadata": {},
   "source": [
    "**(DONE) Q4)** Given 2 lists of words remove the duplicated elements."
   ]
  },
  {
   "cell_type": "code",
   "execution_count": 39,
   "metadata": {
    "ExecuteTime": {
     "end_time": "2020-11-10T09:24:24.428435Z",
     "start_time": "2020-11-10T09:24:24.422451Z"
    }
   },
   "outputs": [
    {
     "name": "stdout",
     "output_type": "stream",
     "text": [
      "In lst2 but not in lst1:  ['Scala', 'JavaScript', 'PHP']\n",
      "In lst1 but not in lst2:  ['Java']\n"
     ]
    }
   ],
   "source": [
    "lst1 = [\"Python\", \"CSharp\", \"Java\", \"Go\"]\n",
    "lst2 = [\"Python\", \"Scala\", \"JavaScript\", \"Go\", \"PHP\", \"CSharp\"]\n",
    "\n",
    "# LP: Can use the 'in' operator to do this!\n",
    "\n",
    "print(\"In lst2 but not in lst1: \",list(filter((lambda x: x not in lst1),lst2)))\n",
    "print(\"In lst1 but not in lst2: \",list(filter((lambda x: x not in lst2),lst1)))"
   ]
  },
  {
   "cell_type": "code",
   "execution_count": null,
   "metadata": {},
   "outputs": [],
   "source": [
    "# Example from Internet\n",
    "\n",
    "# list of letters\n",
    "letters = ['a', 'b', 'd', 'e', 'i', 'j', 'o']\n",
    "\n",
    "# function that filters vowels\n",
    "def filterVowels(letter):\n",
    "    vowels = ['a', 'e', 'i', 'o', 'u']\n",
    "\n",
    "    if(letter in vowels):\n",
    "        return True\n",
    "    else:\n",
    "        return False\n",
    "\n",
    "filteredVowels = filter(filterVowels, letters)\n",
    "\n",
    "print('The filtered vowels are:')\n",
    "for vowel in filteredVowels:\n",
    "    print(vowel)"
   ]
  },
  {
   "cell_type": "markdown",
   "metadata": {},
   "source": [
    "**(DONE) Q5)** Given some data in a list of dictionaries. Use `filter()` to search for any of the dictionary elements, given a key and value. <br>\n",
    "**Hint:** a function could be required house the `filter()` function.\n",
    "\n",
    "**Sample program output**\n",
    "<pre>\n",
    "Searched for type = fish\n",
    "\n",
    "{'name': 'sammy', 'species': 'nurse shark', 'tank number': '11', 'type': 'fish'}\n",
    "{'name': 'bitey', 'species': 'white tip shark', 'tank number': '11', 'type': 'fish'}\n",
    "{'name': 'charlie', 'species': 'clownfish', 'tank number': '12', 'type': 'fish'}\n",
    "</pre>"
   ]
  },
  {
   "cell_type": "code",
   "execution_count": null,
   "metadata": {},
   "outputs": [],
   "source": [
    "data = [\n",
    "    {\"name\": \"sammy\", \"species\": \"nurse shark\", \"tank number\": \"11\", \"type\": \"fish\"},\n",
    "    {\"name\": \"bitey\", \"species\": \"white tip shark\", \"tank number\": \"11\", \"type\": \"fish\"},\n",
    "    {\"name\": \"ashley\", \"species\": \"crab\", \"tank number\": \"25\", \"type\": \"shellfish\"},\n",
    "    {\"name\": \"bashful\", \"species\": \"crab\", \"tank number\": \"5\", \"type\": \"shellfish\"},\n",
    "    {\"name\": \"jackie\", \"species\": \"lobster\", \"tank number\": \"21\", \"type\": \"shellfish\"},\n",
    "    {\"name\": \"boxy\", \"species\": \"mantis shrimp\", \"tank number\": \"21\", \"type\": \"shellfish\"},\n",
    "    {\"name\": \"charlie\", \"species\": \"clownfish\", \"tank number\": \"12\", \"type\": \"fish\"},\n",
    "    {\"name\": \"olly\", \"species\": \"green turtle\", \"tank number\": \"34\", \"type\": \"turtle\"}\n",
    "]\n",
    "\n",
    "k = 'type'\n",
    "v = 'fish'\n",
    "res = list(filter(lambda x: x[k] == v, data))\n",
    "print(f'searched for {k} = {v}')\n",
    "for r in res:\n",
    "    print(r)"
   ]
  },
  {
   "cell_type": "markdown",
   "metadata": {},
   "source": [
    "### Using `reduce()` function\n",
    "\n",
    "\n",
    "#### How `reduce( )` works, from GeeksForGeeks\n",
    "Working: \n",
    "\n",
    "* At first step, **first two elements of sequence** are picked and the result is obtained. i.e. function in `reduce( )` must have 2 inputs.\n",
    "* Next step is to apply the same function to the previously attained result and the number just succeeding the second element and the result is again stored.\n",
    "* This process continues till no more elements are left in the container.\n",
    "* The final returned result is returned and printed on console.\n",
    "***\n",
    "\n",
    "Using the given data, construct functions either using `lambda` or the usual function definitions, which are to be used in the `reduce()` function.<br>\n",
    "Priority must be given to `lambda` functions."
   ]
  },
  {
   "cell_type": "markdown",
   "metadata": {},
   "source": [
    "**(DONE) Q6)** Given a list of strings, combine them to produce the following output:\n",
    "```python\n",
    "Halloween candies: gummy bears, pop tart, candy cane, bubble gum, jaw breakers\n",
    "```"
   ]
  },
  {
   "cell_type": "code",
   "execution_count": 14,
   "metadata": {
    "ExecuteTime": {
     "end_time": "2020-11-10T12:31:58.871319Z",
     "start_time": "2020-11-10T12:31:58.861345Z"
    }
   },
   "outputs": [
    {
     "name": "stdout",
     "output_type": "stream",
     "text": [
      "Halloween candies: gummy bears, pop tart, candy cane, bubble gum, jaw breakers\n",
      "Halloween candies: gummy bears, pop tart, candy cane, bubble gum, jaw breakers\n"
     ]
    }
   ],
   "source": [
    "from functools import reduce\n",
    "\n",
    "lst_str = ['gummy bears', 'pop tart', 'candy cane', 'bubble gum', 'jaw breakers']\n",
    "\n",
    "print(\"Halloween candies: \"+reduce((lambda x,y:f\"{x}, {y}\"),lst_str))\n",
    "\n",
    "output = reduce(lambda x,y: x +', '+y, lst_str)\n",
    "print(f'Halloween candies: {output}')"
   ]
  },
  {
   "cell_type": "markdown",
   "metadata": {},
   "source": [
    "## Combine `map()`, `filter()` and `reduce()` functions\n",
    "\n",
    "Using the given data construct functions either using `lambda` or normal function to be used combination with the `map()`, `filter()` and `reduce()` function.\n",
    "Priority must be given to `lambda` functions."
   ]
  },
  {
   "cell_type": "markdown",
   "metadata": {},
   "source": [
    "**(DONE) Q7)** Given a list of numbers, add `1` to each element then remove all even numbers and sum the remaining numbers."
   ]
  },
  {
   "cell_type": "code",
   "execution_count": 53,
   "metadata": {
    "ExecuteTime": {
     "end_time": "2020-11-10T10:09:55.865188Z",
     "start_time": "2020-11-10T10:09:55.859155Z"
    }
   },
   "outputs": [
    {
     "data": {
      "text/plain": [
       "25"
      ]
     },
     "execution_count": 53,
     "metadata": {},
     "output_type": "execute_result"
    }
   ],
   "source": [
    "vals = [0,1,2,3,4,5,6,7,8,9]\n",
    "\n",
    "# 3 lambda functions for map -> filter -> reduce composition.\n",
    "# Remember to cast each intermediate resultant as an iterable object, e.g. list.\n",
    "# First lambda function for map(): lambda x:x+1\n",
    "# Second lambda function for filter(): lambda x: x%2==0 LP: WRONG! Correct lambda is => lambda x:x%2!=0 because it has\n",
    "# to REMOVE even numbers i.e. x%2 must give FALSE for even numbers i.e. x%2!=0, odd numbers will have true.\n",
    "# Third lambda function for reduce(): lambda x,y:x+y\n",
    "\n",
    "reduce((lambda x,y:x+y),list(filter((lambda x:x%2!=0),list(map((lambda x:x+1),vals)))))"
   ]
  },
  {
   "cell_type": "markdown",
   "metadata": {},
   "source": [
    "**(DONE) Q8)** Given the following data, print all administrative cities with more than 14 million inhabitants.\n",
    "\n",
    "**Sample program output**\n",
    "<pre>\n",
    "Cities: Mumbai, São Paulo, Delhi, Shanghai, Kolkata\n",
    "</pre>"
   ]
  },
  {
   "cell_type": "code",
   "execution_count": 16,
   "metadata": {
    "ExecuteTime": {
     "end_time": "2020-11-10T12:37:57.493554Z",
     "start_time": "2020-11-10T12:37:57.471009Z"
    }
   },
   "outputs": [
    {
     "name": "stdout",
     "output_type": "stream",
     "text": [
      "[['Mumbai', 18978000.0, 'admin'], ['São Paulo', 18845000.0, 'admin'], ['Delhi', 15926000.0, 'admin'], ['Shanghai', 14987000.0, 'admin'], ['Kolkata', 14787000.0, 'admin']]\n",
      "[['Mumbai', 18978000.0, 'admin'], ['São Paulo', 18845000.0, 'admin'], ['Delhi', 15926000.0, 'admin'], ['Shanghai', 14987000.0, 'admin'], ['Kolkata', 14787000.0, 'admin']]\n",
      "Cities: Mumbai, São Paulo, Delhi, Shanghai, Kolkata\n"
     ]
    }
   ],
   "source": [
    "from functools import reduce\n",
    "\n",
    "data=[['Tokyo', 35676000.0, 'primary'], ['New York', 19354922.0, 'nan'], ['Mexico City', 19028000.0, 'primary'], \n",
    "      ['Mumbai', 18978000.0, 'admin'], ['São Paulo', 18845000.0, 'admin'], ['Delhi', 15926000.0, 'admin'], \n",
    "      ['Shanghai', 14987000.0, 'admin'], ['Kolkata', 14787000.0, 'admin'], ['Los Angeles', 12815475.0, 'nan'], \n",
    "      ['Dhaka', 12797394.0, 'primary'], ['Buenos Aires', 12795000.0, 'primary'], ['Karachi', 12130000.0, 'admin'], \n",
    "      ['Cairo', 11893000.0, 'primary'], ['Rio de Janeiro', 11748000.0, 'admin'], ['Ōsaka', 11294000.0, 'admin'], \n",
    "      ['Beijing', 11106000.0, 'primary'], ['Manila', 11100000.0, 'primary'], ['Moscow', 10452000.0, 'primary'], \n",
    "      ['Istanbul', 10061000.0, 'admin'], ['Paris', 9904000.0, 'primary']]\n",
    "\n",
    "lst=list(filter((lambda x:x[1]>14000000),list(filter((lambda x:x[-1]=='admin'),data))))\n",
    "print(lst)\n",
    "\n",
    "# LP: for the above statement, can combine the two conditions (x[1]>14M) & (x[-1]=='admin') as a single condition.\n",
    "\n",
    "lst = list(filter((lambda x:x[1]>14000000 and x[-1]=='admin'),data))\n",
    "print(lst)\n",
    "\n",
    "output=reduce((lambda x,y: x+', '+y), map(lambda x: x[0], list(filter((lambda x:x[1]>14000000),\\\n",
    "                                                               list(filter((lambda x:x[-1]=='admin'), data))) ) ) )\n",
    "print(f\"Cities: {output}\")"
   ]
  },
  {
   "cell_type": "markdown",
   "metadata": {},
   "source": [
    "**(DONE with Chee Wai's Code) Q9)** Imagine an accounting routine used in a book shop. It works on a list with sublists, which look like this:\n",
    "\n",
    "| Order Number   | Book Title and Author                | Quantity   |  Price per Item (SGD) |\n",
    "|:---|:---|:---:|:---:|\n",
    "| 34587          | To Kill a Mockingbird, Harper Lee    |     4      |    40.95 |\n",
    "| 98762          | Never Cry Wolf, Farley Mowat         |     5      |    56.80 |\n",
    "| 77226          | Dealing with Dragons, Patricia Wrede |     3      |    32.95 |\n",
    "| 88112          | Pride and Prejudice, Jane Austen     |     3      |    24.99 |\n",
    "\n",
    "\n",
    "Write a Python program using `lambda` and `map()`, which returns a list with 2-tuples. Each tuple consists of a the order number and the product of the price per items and the quantity. The product should be increased by \\\\$10 if the value of the order is smaller than \\\\$100,00."
   ]
  },
  {
   "cell_type": "code",
   "execution_count": 1,
   "metadata": {
    "ExecuteTime": {
     "end_time": "2020-11-10T15:56:24.309827Z",
     "start_time": "2020-11-10T15:56:24.278910Z"
    }
   },
   "outputs": [
    {
     "data": {
      "text/plain": [
       "[('34587', 163.8),\n",
       " ('98762', 284.0),\n",
       " ('77226', 108.85000000000001),\n",
       " ('88112', 84.97)]"
      ]
     },
     "execution_count": 1,
     "metadata": {},
     "output_type": "execute_result"
    }
   ],
   "source": [
    "orders = [ [\"34587\", \"To Kill a Mockingbird, Harper Lee\", 4, 40.95], \n",
    "           [\"98762\", \"Never Cry Wolf, Farley Mowat\", 5, 56.80], \n",
    "           [\"77226\", \"Dealing with Dragons, Patricia Wrede\", 3,32.95],\n",
    "           [\"88112\", \"Pride and Prejudice, Jane Austen\", 3, 24.99]]\n",
    "\n",
    "list(map(lambda x: (x[0], (x[2]*x[3]) + (10 if (x[2]*x[3]) < 100 else 0)), orders))"
   ]
  },
  {
   "cell_type": "markdown",
   "metadata": {},
   "source": [
    "**(DONE with Chee Wai's Code) Q10)** With reference to the given subset, the infomation is grouped as such:<br>\n",
    "`[ordernumber, (article number, quantity, price per unit), ... (article number, quantity, price per unit) ]`\n",
    "\n",
    "Write a program which returns a list of 2-tuples with `(order number, total amount of order)`. The product should be increased by \\\\$10 if the value of the order is smaller than \\\\$100,00."
   ]
  },
  {
   "cell_type": "code",
   "execution_count": 2,
   "metadata": {
    "ExecuteTime": {
     "end_time": "2020-11-10T15:56:25.597383Z",
     "start_time": "2020-11-10T15:56:25.577439Z"
    }
   },
   "outputs": [
    {
     "data": {
      "text/plain": [
       "[(1, 758.3299999999999), (2, 584.46), (3, 364.79999999999995), (4, 492.57)]"
      ]
     },
     "execution_count": 2,
     "metadata": {},
     "output_type": "execute_result"
    }
   ],
   "source": [
    "from functools import reduce\n",
    "\n",
    "orders = [ [1, (\"5464\", 4, 29.99), (\"8274\",18,12.99), (\"9744\", 9, 44.95)], \n",
    "           [2, (\"5464\", 9, 19.99), (\"9744\", 9, 44.95)],\n",
    "           [3, (\"5464\", 9, 9.99), (\"88112\", 11, 24.99)],\n",
    "           [4, (\"8732\", 7, 11.99), (\"7733\",11,18.99), (\"88112\", 5, 39.95)] ]\n",
    "\n",
    "list( map(lambda x: (x[0], x[1] + (10 if x[1] < 100 else 0)), map(lambda x: (x[0], reduce(lambda x, y: x+y, map(lambda x: x[1]*x[2], x[1:]))), orders)) )"
   ]
  },
  {
   "cell_type": "code",
   "execution_count": null,
   "metadata": {},
   "outputs": [],
   "source": []
  }
 ],
 "metadata": {
  "kernelspec": {
   "display_name": "Python 3",
   "language": "python",
   "name": "python3"
  },
  "language_info": {
   "codemirror_mode": {
    "name": "ipython",
    "version": 3
   },
   "file_extension": ".py",
   "mimetype": "text/x-python",
   "name": "python",
   "nbconvert_exporter": "python",
   "pygments_lexer": "ipython3",
   "version": "3.7.7"
  }
 },
 "nbformat": 4,
 "nbformat_minor": 4
}
